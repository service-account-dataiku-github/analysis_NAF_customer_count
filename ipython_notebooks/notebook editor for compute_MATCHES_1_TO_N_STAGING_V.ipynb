{
  "nbformat": 4,
  "nbformat_minor": 0,
  "metadata": {
    "kernelspec": {
      "display_name": "Python in cpu-m-cpu-3-mem-4Gb (builtin env)",
      "language": "python",
      "name": "py-dku-containerized-venv--cpu-m-cpu-3-mem-4gb"
    },
    "associatedRecipe": "compute_MATCHES_1_TO_N_STAGING_V",
    "dkuGit": {
      "lastInteraction": 0
    },
    "creationTag": {
      "versionNumber": 0,
      "lastModifiedBy": {
        "login": "Daniel.Vandermeer"
      },
      "lastModifiedOn": 1667169923254
    },
    "creator": "Daniel.Vandermeer",
    "createdOn": 1667169923254,
    "tags": [
      "recipe-editor"
    ],
    "customFields": {}
  },
  "cells": [
    {
      "cell_type": "code",
      "metadata": {},
      "outputs": [],
      "execution_count": 0,
      "source": [
        "# -*- coding: utf-8 -*-\n",
        "import dataiku\n",
        "import pandas as pd, numpy as np\n",
        "from dataiku import pandasutils as pdu\n",
        "\n",
        "# Read recipe inputs\n",
        "CALCULATED_DRAW_DOWNS \u003d dataiku.Dataset(\"CALCULATED_DRAW_DOWNS\")\n",
        "CALCULATED_DRAW_DOWNS_df \u003d CALCULATED_DRAW_DOWNS.get_dataframe()\n",
        "\n",
        "CALCULATED_DRAW_UPS \u003d dataiku.Dataset(\"CALCULATED_DRAW_UPS\")\n",
        "CALCULATED_DRAW_UPS_df \u003d CALCULATED_DRAW_UPS.get_dataframe()\n",
        "\n",
        "print(len(CALCULATED_DRAW_DOWNS_df), \"draw downs\")\n",
        "print(len(CALCULATED_DRAW_UPS_df), \"draw ups\")"
      ]
    },
    {
      "cell_type": "code",
      "metadata": {},
      "outputs": [],
      "execution_count": 0,
      "source": [
        "#df_down_full \u003d CALCULATED_CARD_DRAW_DOWNS_FULL_df\n",
        "#df_up_full \u003d CALCULATED_CARD_DRAW_UPS_FULL_df\n",
        "#df_common \u003d COMMON_WORDS_df\n",
        "\n",
        "#df_down_full.sort_values([\u0027CUSTOMER\u0027], inplace\u003dTrue)\n",
        "#df_up_full.sort_values([\u0027CUSTOMER\u0027], inplace\u003dTrue)\n",
        "#df_common.sort_values([\u0027WORD\u0027], inplace\u003dTrue)\n",
        "\n",
        "#print(len(df_down_full), \"draw downs full\")\n",
        "#print(len(df_up_full), \"draw ups full\")\n",
        "#print(len(df_common), \"common words\")"
      ]
    },
    {
      "cell_type": "code",
      "metadata": {},
      "outputs": [],
      "execution_count": 0,
      "source": [
        "# Compute recipe outputs\n",
        "# TODO: Write here your actual code that computes the outputs\n",
        "# NB: DSS supports several kinds of APIs for reading and writing data. Please see doc.\n",
        "\n",
        "#MATCHES_1_TO_N_STAGING_V_df \u003d ... # Compute a Pandas dataframe to write into MATCHES_1_TO_N_STAGING_V\n",
        "#MATCHES_1_TO_1_STAGING_V_df \u003d ... # Compute a Pandas dataframe to write into MATCHES_1_TO_1_STAGING_V\n",
        "\n",
        "\n",
        "# Write recipe outputs\n",
        "#MATCHES_1_TO_N_STAGING_V \u003d dataiku.Dataset(\"MATCHES_1_TO_N_STAGING_V\")\n",
        "#MATCHES_1_TO_N_STAGING_V.write_with_schema(MATCHES_1_TO_N_STAGING_V_df)\n",
        "#MATCHES_1_TO_1_STAGING_V \u003d dataiku.Dataset(\"MATCHES_1_TO_1_STAGING_V\")\n",
        "#MATCHES_1_TO_1_STAGING_V.write_with_schema(MATCHES_1_TO_1_STAGING_V_df)"
      ]
    }
  ]
}