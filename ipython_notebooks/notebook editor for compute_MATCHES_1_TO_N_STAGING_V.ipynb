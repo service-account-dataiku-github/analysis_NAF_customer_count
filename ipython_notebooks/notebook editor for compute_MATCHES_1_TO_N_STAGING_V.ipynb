{
  "nbformat": 4,
  "nbformat_minor": 0,
  "metadata": {
    "kernelspec": {
      "display_name": "Python in cpu-m-cpu-3-mem-4Gb (builtin env)",
      "language": "python",
      "name": "py-dku-containerized-venv--cpu-m-cpu-3-mem-4gb"
    },
    "associatedRecipe": "compute_MATCHES_1_TO_N_STAGING_V",
    "dkuGit": {
      "lastInteraction": 0
    },
    "creationTag": {
      "versionNumber": 0,
      "lastModifiedBy": {
        "login": "Daniel.Vandermeer"
      },
      "lastModifiedOn": 1667169923254
    },
    "creator": "Daniel.Vandermeer",
    "createdOn": 1667169923254,
    "tags": [
      "recipe-editor"
    ],
    "customFields": {}
  },
  "cells": [
    {
      "cell_type": "code",
      "metadata": {},
      "outputs": [],
      "execution_count": 0,
      "source": [
        "# -*- coding: utf-8 -*-\n",
        "import dataiku\n",
        "import pandas as pd, numpy as np\n",
        "from dataiku import pandasutils as pdu\n",
        "\n",
        "# Read recipe inputs\n",
        "CALCULATED_DRAW_DOWNS \u003d dataiku.Dataset(\"CALCULATED_DRAW_DOWNS\")\n",
        "CALCULATED_DRAW_DOWNS_df \u003d CALCULATED_DRAW_DOWNS.get_dataframe()\n",
        "\n",
        "CALCULATED_DRAW_UPS \u003d dataiku.Dataset(\"CALCULATED_DRAW_UPS\")\n",
        "CALCULATED_DRAW_UPS_df \u003d CALCULATED_DRAW_UPS.get_dataframe()\n",
        "\n",
        "COMMON_WORDS \u003d dataiku.Dataset(\"NAFCUSTOMER_COMMON_WORDS_IN_NAMES\")\n",
        "COMMON_WORDS_df \u003d COMMON_WORDS.get_dataframe()"
      ]
    },
    {
      "cell_type": "code",
      "metadata": {},
      "outputs": [],
      "execution_count": 0,
      "source": [
        "df_down_full \u003d CALCULATED_DRAW_DOWNS_df\n",
        "df_up_full \u003d CALCULATED_DRAW_UPS_df\n",
        "df_common \u003d COMMON_WORDS_df\n",
        "\n",
        "df_down_full.sort_values([\u0027CUSTOMER\u0027], inplace\u003dTrue)\n",
        "df_up_full.sort_values([\u0027CUSTOMER\u0027], inplace\u003dTrue)\n",
        "df_common.sort_values([\u0027WORD\u0027], inplace\u003dTrue)\n",
        "\n",
        "print(len(df_down_full), \"draw downs full\")\n",
        "print(len(df_up_full), \"draw ups full\")\n",
        "print(len(df_common), \"common words\")"
      ]
    },
    {
      "cell_type": "code",
      "metadata": {},
      "outputs": [],
      "execution_count": 0,
      "source": [
        "import string\n",
        "\n",
        "_common_words \u003d df_common.WORD.unique()\n",
        "print(len(_common_words), \"screening against common words\")\n",
        "\n",
        "class Draw_Down_Customer:\n",
        "\n",
        "    def __init__(self, name, draw_down_date, mean_dd, std_dd, active_card_max):\n",
        "\n",
        "        self.CUSTOMER \u003d name\n",
        "        self.DRAW_DOWN_DATE \u003d draw_down_date\n",
        "        self.ACTIVE_CARD_MAX \u003d active_card_max\n",
        "\n",
        "        self.MATCHING_CUSTOMERS \u003d []\n",
        "        self.PERCENT_DIFFERENCE \u003d []\n",
        "        self.DAYS_DIFFERENCE \u003d []\n",
        "        self.DRAW_UP_DATE \u003d []\n",
        "\n",
        "        # remove punctuation\n",
        "        c_str \u003d name.translate(str.maketrans(\u0027\u0027, \u0027\u0027, string.punctuation))\n",
        "\n",
        "        f \u003d c_str.split()\n",
        "        self.WORD_LIST \u003d []\n",
        "        for w in f:\n",
        "            if w not in _common_words:\n",
        "                self.WORD_LIST.append(w)\n",
        "\n",
        "    def Match_Draw_Up_Customer(self, name, draw_up_date, mean_du, std_du, active_card_max):\n",
        "\n",
        "        if (self.CUSTOMER \u003d\u003d name):\n",
        "            # exact match, already captured\n",
        "            return\n",
        "\n",
        "        c_str \u003d name.translate(str.maketrans(\u0027\u0027, \u0027\u0027, string.punctuation))\n",
        "\n",
        "        f \u003d c_str.split()\n",
        "\n",
        "        check_list \u003d []\n",
        "        for w in f:\n",
        "            if (w not in _common_words) and (len(w)\u003e1) and (not w.isnumeric()):\n",
        "                check_list.append(w)\n",
        "\n",
        "        percent_diff \u003d round((abs(self.ACTIVE_CARD_MAX - active_card_max) / ((self.ACTIVE_CARD_MAX+active_card_max)/2)),2)\n",
        "\n",
        "        #date_format \u003d \"%Y-%m-%d\"\n",
        "        #d1_date \u003d datetime.strptime(draw_up_date.astype(str), date_format)\n",
        "        #d2_date \u003d datetime.strptime(self.DRAW_DOWN_DATE.astype(str), date_format)\n",
        "\n",
        "        delta_between_drop_and_rise \u003d round(abs((draw_up_date-self.DRAW_DOWN_DATE).days)/30.,0)\n",
        "\n",
        "        for w_to_check in check_list:\n",
        "            for w in self.WORD_LIST:\n",
        "                if w_to_check\u003d\u003dw:\n",
        "\n",
        "                    if not name in(self.MATCHING_CUSTOMERS) and(delta_between_drop_and_rise\u003c\u003d4)and(percent_diff\u003c\u003d0.5) :\n",
        "                        self.MATCHING_CUSTOMERS.append(name)\n",
        "                        self.PERCENT_DIFFERENCE.append(percent_diff)\n",
        "                        self.DAYS_DIFFERENCE.append(delta_between_drop_and_rise)\n",
        "                        self.DRAW_UP_DATE.append(draw_up_date)\n",
        "                        break;"
      ]
    },
    {
      "cell_type": "code",
      "metadata": {},
      "outputs": [],
      "execution_count": 0,
      "source": [
        "# Compute recipe outputs\n",
        "# TODO: Write here your actual code that computes the outputs\n",
        "# NB: DSS supports several kinds of APIs for reading and writing data. Please see doc.\n",
        "\n",
        "#MATCHES_1_TO_N_STAGING_V_df \u003d ... # Compute a Pandas dataframe to write into MATCHES_1_TO_N_STAGING_V\n",
        "#MATCHES_1_TO_1_STAGING_V_df \u003d ... # Compute a Pandas dataframe to write into MATCHES_1_TO_1_STAGING_V\n",
        "\n",
        "\n",
        "# Write recipe outputs\n",
        "#MATCHES_1_TO_N_STAGING_V \u003d dataiku.Dataset(\"MATCHES_1_TO_N_STAGING_V\")\n",
        "#MATCHES_1_TO_N_STAGING_V.write_with_schema(MATCHES_1_TO_N_STAGING_V_df)\n",
        "#MATCHES_1_TO_1_STAGING_V \u003d dataiku.Dataset(\"MATCHES_1_TO_1_STAGING_V\")\n",
        "#MATCHES_1_TO_1_STAGING_V.write_with_schema(MATCHES_1_TO_1_STAGING_V_df)"
      ]
    }
  ]
}