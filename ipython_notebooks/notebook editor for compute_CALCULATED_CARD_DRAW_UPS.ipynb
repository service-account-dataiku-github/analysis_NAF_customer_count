{
  "metadata": {
    "kernelspec": {
      "name": "py-dku-venv-env_clc",
      "display_name": "Python (env env_clc)",
      "language": "python"
    },
    "associatedRecipe": "compute_CALCULATED_CARD_DRAW_UPS",
    "creator": "Daniel.Vandermeer",
    "createdOn": 1665748210463,
    "tags": [
      "recipe-editor"
    ],
    "customFields": {},
    "hide_input": false,
    "language_info": {
      "name": "python",
      "version": "3.6.8",
      "mimetype": "text/x-python",
      "codemirror_mode": {
        "name": "ipython",
        "version": 3
      },
      "pygments_lexer": "ipython3",
      "nbconvert_exporter": "python",
      "file_extension": ".py"
    },
    "modifiedBy": "Daniel.Vandermeer"
  },
  "nbformat": 4,
  "nbformat_minor": 1,
  "cells": [
    {
      "execution_count": 1,
      "cell_type": "code",
      "metadata": {},
      "source": [
        "# -*- coding: utf-8 -*-\nimport dataiku\nimport pandas as pd, numpy as np\nfrom dataiku import pandasutils as pdu\n\nimport pickle\nfrom dateutil.relativedelta import relativedelta\nimport gc\nfrom re import finditer\n\n## Find DD DU\nfrom helper import preprocess_data\nfrom patterns import find_drawdowns, find_drawups\n\n## MATCHING\nimport name_matching\nfrom name_matching import name_match\nimport transaction_matching\nfrom transaction_matching import transaction_match\n\n## CONSOLIDATION\nfrom consolidation import combine_matches, consolidate_matches, find_attritions, find_new_accounts, get_attrition_status, get_new_account_status\n"
      ],
      "outputs": []
    },
    {
      "execution_count": 2,
      "cell_type": "code",
      "metadata": {},
      "source": [
        "start_date \u003d dataiku.get_custom_variables()[\u0027start_date\u0027]\nend_date \u003d dataiku.get_custom_variables()[\u0027end_date\u0027]\n\nconsistency \u003d int(dataiku.get_custom_variables()[\u0027consistency\u0027])\ndrawdown_period_average \u003d int(dataiku.get_custom_variables()[\u0027drawdown_period_average\u0027])\ndrawdown \u003d int(dataiku.get_custom_variables()[\u0027drawdown\u0027])\ndrawdown_fwd_check \u003d int(dataiku.get_custom_variables()[\u0027drawdown_fwd_check\u0027])\ndrawdown_lookback_period \u003d int(dataiku.get_custom_variables()[\u0027drawdown_lookback_period\u0027])\ndrawup_lookfwd_period \u003d int(dataiku.get_custom_variables()[\u0027drawup_lookfwd_period\u0027])\nstatistics_period \u003d int(dataiku.get_custom_variables()[\u0027statistics_period\u0027])\ninactive_period \u003d int(dataiku.get_custom_variables()[\u0027inactive_period\u0027])\n\n## MATCHING VARIABLES\nmonth_diff_h \u003d int(dataiku.get_custom_variables()[\u0027month_diff_h\u0027])\nmonth_diff_l \u003d int(dataiku.get_custom_variables()[\u0027month_diff_l\u0027])\nsd_mul \u003d int(dataiku.get_custom_variables()[\u0027sd_mul\u0027])\nmax_city_distance \u003d int(dataiku.get_custom_variables()[\u0027max_city_distance\u0027])\nthreshold_score_step1 \u003d int(dataiku.get_custom_variables()[\u0027threshold_score_step1\u0027])\nthreshold_score_step2 \u003d int(dataiku.get_custom_variables()[\u0027threshold_score_step2\u0027])\n\n## RUN TYPE\nrun \u003d dataiku.get_custom_variables()[\u0027run_type\u0027]"
      ],
      "outputs": []
    },
    {
      "execution_count": 5,
      "cell_type": "code",
      "metadata": {},
      "source": [
        "# Read recipe inputs\nNAFCUSTOMER_REVENUE_BY_CUSTOMER_LIMITED \u003d dataiku.Dataset(\"NAFCUSTOMER_REVENUE_BY_CUSTOMER_LIMITED\")\nNAFCUSTOMER_REVENUE_BY_CUSTOMER_LIMITED_df \u003d NAFCUSTOMER_REVENUE_BY_CUSTOMER_LIMITED.get_dataframe()\n\nprint(len(NAFCUSTOMER_REVENUE_BY_CUSTOMER_LIMITED_df))\nprint(len(NAFCUSTOMER_REVENUE_BY_CUSTOMER_LIMITED_df.CUSTOMER.unique()))\nNAFCUSTOMER_REVENUE_BY_CUSTOMER_LIMITED_df.head()"
      ],
      "outputs": [
        {
          "output_type": "stream",
          "text": "21965\n692\n",
          "name": "stdout"
        },
        {
          "output_type": "execute_result",
          "execution_count": 5,
          "data": {
            "text/plain": "   CUSTOMER_ACCOUNT_ID           CUSTOMER_ACCOUNT_NAME                   CUSTOMER ACCOUNTSTATUS                SETUP_DATE      ACCOUNT_CLOSED_DATE  REVENUE_YEAR  REVENUE_QUARTER  REVENUE_MONTH ACCOUNT_CITY ACCOUNT_STATE CUSTOMER_SOURCE_SYSTEM_CODE CUSTOMER_BUSINESS_PROGRAM_NAME  BI_CUS_PAR  BI_PRODUCT  BI_MRU  REVENUE_AMOUNT_USD  GROSS_SPEND_AMOUNT  PURCHASE_GALLONS_QTY  ACTIVE_CARD_COUNT  OUTSTANDING_CARD_COUNT\n0         469005700349            GENERAL MILLS (3GMS)              GENERAL MILLS    Terminated 2015-07-09 07:00:00+00:00  2021-08-17 00:00:00.000          2019                1              1  Des Plaines            IL                      TANDEM                     Wheels old       33200       10200    3100         4867.218696           235717.32             99603.129             1398.0                  1440.0\n1         469009225020                      WHEELS 996                 WHEELS 996    Terminated 2014-05-06 07:00:00+00:00  2021-01-14 00:00:00.000          2019                1              1  Des Plaines            IL                      TANDEM                     Wheels old       33200       10200    3100          127.086359             5513.53              2376.902               39.0                    45.0\n2         469005700612       JONES LANG LASALLE (0469)  JONES LANG LASALLE (0469)    Terminated 2015-12-30 08:00:00+00:00  2022-02-07 00:00:00.000          2019                1              1  Des Plaines            IL                      TANDEM                     Wheels old       33200       10200    3100          234.595982            22961.95              8789.132               63.0                    64.0\n3         469005131156                 HILL MECHANICAL            HILL MECHANICAL    Terminated 2003-03-06 08:00:00+00:00  2021-04-01 00:00:00.000          2019                1              1  Des Plaines            IL                      TANDEM                     Wheels old       33200       10200    3100            2.000000                0.00                 0.000                0.0                     1.0\n4         469005701479  JOHNSON \u0026 JOHNSON SERVICES (3)            JOHNSON JOHNSON    Terminated 2017-12-18 08:00:00+00:00  2021-10-21 00:00:00.000          2019                1              1  Des Plaines            IL                      TANDEM                     Wheels old       33200       10200    3100        13549.952117           687391.16            293662.118             3745.0                  4155.0",
            "text/html": "\u003cdiv\u003e\n\u003cstyle scoped\u003e\n    .dataframe tbody tr th:only-of-type {\n        vertical-align: middle;\n    }\n\n    .dataframe tbody tr th {\n        vertical-align: top;\n    }\n\n    .dataframe thead th {\n        text-align: right;\n    }\n\u003c/style\u003e\n\u003ctable border\u003d\"1\" class\u003d\"dataframe\"\u003e\n  \u003cthead\u003e\n    \u003ctr style\u003d\"text-align: right;\"\u003e\n      \u003cth\u003e\u003c/th\u003e\n      \u003cth\u003eCUSTOMER_ACCOUNT_ID\u003c/th\u003e\n      \u003cth\u003eCUSTOMER_ACCOUNT_NAME\u003c/th\u003e\n      \u003cth\u003eCUSTOMER\u003c/th\u003e\n      \u003cth\u003eACCOUNTSTATUS\u003c/th\u003e\n      \u003cth\u003eSETUP_DATE\u003c/th\u003e\n      \u003cth\u003eACCOUNT_CLOSED_DATE\u003c/th\u003e\n      \u003cth\u003eREVENUE_YEAR\u003c/th\u003e\n      \u003cth\u003eREVENUE_QUARTER\u003c/th\u003e\n      \u003cth\u003eREVENUE_MONTH\u003c/th\u003e\n      \u003cth\u003eACCOUNT_CITY\u003c/th\u003e\n      \u003cth\u003eACCOUNT_STATE\u003c/th\u003e\n      \u003cth\u003eCUSTOMER_SOURCE_SYSTEM_CODE\u003c/th\u003e\n      \u003cth\u003eCUSTOMER_BUSINESS_PROGRAM_NAME\u003c/th\u003e\n      \u003cth\u003eBI_CUS_PAR\u003c/th\u003e\n      \u003cth\u003eBI_PRODUCT\u003c/th\u003e\n      \u003cth\u003eBI_MRU\u003c/th\u003e\n      \u003cth\u003eREVENUE_AMOUNT_USD\u003c/th\u003e\n      \u003cth\u003eGROSS_SPEND_AMOUNT\u003c/th\u003e\n      \u003cth\u003ePURCHASE_GALLONS_QTY\u003c/th\u003e\n      \u003cth\u003eACTIVE_CARD_COUNT\u003c/th\u003e\n      \u003cth\u003eOUTSTANDING_CARD_COUNT\u003c/th\u003e\n    \u003c/tr\u003e\n  \u003c/thead\u003e\n  \u003ctbody\u003e\n    \u003ctr\u003e\n      \u003cth\u003e0\u003c/th\u003e\n      \u003ctd\u003e469005700349\u003c/td\u003e\n      \u003ctd\u003eGENERAL MILLS (3GMS)\u003c/td\u003e\n      \u003ctd\u003eGENERAL MILLS\u003c/td\u003e\n      \u003ctd\u003eTerminated\u003c/td\u003e\n      \u003ctd\u003e2015-07-09 07:00:00+00:00\u003c/td\u003e\n      \u003ctd\u003e2021-08-17 00:00:00.000\u003c/td\u003e\n      \u003ctd\u003e2019\u003c/td\u003e\n      \u003ctd\u003e1\u003c/td\u003e\n      \u003ctd\u003e1\u003c/td\u003e\n      \u003ctd\u003eDes Plaines\u003c/td\u003e\n      \u003ctd\u003eIL\u003c/td\u003e\n      \u003ctd\u003eTANDEM\u003c/td\u003e\n      \u003ctd\u003eWheels old\u003c/td\u003e\n      \u003ctd\u003e33200\u003c/td\u003e\n      \u003ctd\u003e10200\u003c/td\u003e\n      \u003ctd\u003e3100\u003c/td\u003e\n      \u003ctd\u003e4867.218696\u003c/td\u003e\n      \u003ctd\u003e235717.32\u003c/td\u003e\n      \u003ctd\u003e99603.129\u003c/td\u003e\n      \u003ctd\u003e1398.0\u003c/td\u003e\n      \u003ctd\u003e1440.0\u003c/td\u003e\n    \u003c/tr\u003e\n    \u003ctr\u003e\n      \u003cth\u003e1\u003c/th\u003e\n      \u003ctd\u003e469009225020\u003c/td\u003e\n      \u003ctd\u003eWHEELS 996\u003c/td\u003e\n      \u003ctd\u003eWHEELS 996\u003c/td\u003e\n      \u003ctd\u003eTerminated\u003c/td\u003e\n      \u003ctd\u003e2014-05-06 07:00:00+00:00\u003c/td\u003e\n      \u003ctd\u003e2021-01-14 00:00:00.000\u003c/td\u003e\n      \u003ctd\u003e2019\u003c/td\u003e\n      \u003ctd\u003e1\u003c/td\u003e\n      \u003ctd\u003e1\u003c/td\u003e\n      \u003ctd\u003eDes Plaines\u003c/td\u003e\n      \u003ctd\u003eIL\u003c/td\u003e\n      \u003ctd\u003eTANDEM\u003c/td\u003e\n      \u003ctd\u003eWheels old\u003c/td\u003e\n      \u003ctd\u003e33200\u003c/td\u003e\n      \u003ctd\u003e10200\u003c/td\u003e\n      \u003ctd\u003e3100\u003c/td\u003e\n      \u003ctd\u003e127.086359\u003c/td\u003e\n      \u003ctd\u003e5513.53\u003c/td\u003e\n      \u003ctd\u003e2376.902\u003c/td\u003e\n      \u003ctd\u003e39.0\u003c/td\u003e\n      \u003ctd\u003e45.0\u003c/td\u003e\n    \u003c/tr\u003e\n    \u003ctr\u003e\n      \u003cth\u003e2\u003c/th\u003e\n      \u003ctd\u003e469005700612\u003c/td\u003e\n      \u003ctd\u003eJONES LANG LASALLE (0469)\u003c/td\u003e\n      \u003ctd\u003eJONES LANG LASALLE (0469)\u003c/td\u003e\n      \u003ctd\u003eTerminated\u003c/td\u003e\n      \u003ctd\u003e2015-12-30 08:00:00+00:00\u003c/td\u003e\n      \u003ctd\u003e2022-02-07 00:00:00.000\u003c/td\u003e\n      \u003ctd\u003e2019\u003c/td\u003e\n      \u003ctd\u003e1\u003c/td\u003e\n      \u003ctd\u003e1\u003c/td\u003e\n      \u003ctd\u003eDes Plaines\u003c/td\u003e\n      \u003ctd\u003eIL\u003c/td\u003e\n      \u003ctd\u003eTANDEM\u003c/td\u003e\n      \u003ctd\u003eWheels old\u003c/td\u003e\n      \u003ctd\u003e33200\u003c/td\u003e\n      \u003ctd\u003e10200\u003c/td\u003e\n      \u003ctd\u003e3100\u003c/td\u003e\n      \u003ctd\u003e234.595982\u003c/td\u003e\n      \u003ctd\u003e22961.95\u003c/td\u003e\n      \u003ctd\u003e8789.132\u003c/td\u003e\n      \u003ctd\u003e63.0\u003c/td\u003e\n      \u003ctd\u003e64.0\u003c/td\u003e\n    \u003c/tr\u003e\n    \u003ctr\u003e\n      \u003cth\u003e3\u003c/th\u003e\n      \u003ctd\u003e469005131156\u003c/td\u003e\n      \u003ctd\u003eHILL MECHANICAL\u003c/td\u003e\n      \u003ctd\u003eHILL MECHANICAL\u003c/td\u003e\n      \u003ctd\u003eTerminated\u003c/td\u003e\n      \u003ctd\u003e2003-03-06 08:00:00+00:00\u003c/td\u003e\n      \u003ctd\u003e2021-04-01 00:00:00.000\u003c/td\u003e\n      \u003ctd\u003e2019\u003c/td\u003e\n      \u003ctd\u003e1\u003c/td\u003e\n      \u003ctd\u003e1\u003c/td\u003e\n      \u003ctd\u003eDes Plaines\u003c/td\u003e\n      \u003ctd\u003eIL\u003c/td\u003e\n      \u003ctd\u003eTANDEM\u003c/td\u003e\n      \u003ctd\u003eWheels old\u003c/td\u003e\n      \u003ctd\u003e33200\u003c/td\u003e\n      \u003ctd\u003e10200\u003c/td\u003e\n      \u003ctd\u003e3100\u003c/td\u003e\n      \u003ctd\u003e2.000000\u003c/td\u003e\n      \u003ctd\u003e0.00\u003c/td\u003e\n      \u003ctd\u003e0.000\u003c/td\u003e\n      \u003ctd\u003e0.0\u003c/td\u003e\n      \u003ctd\u003e1.0\u003c/td\u003e\n    \u003c/tr\u003e\n    \u003ctr\u003e\n      \u003cth\u003e4\u003c/th\u003e\n      \u003ctd\u003e469005701479\u003c/td\u003e\n      \u003ctd\u003eJOHNSON \u0026amp; JOHNSON SERVICES (3)\u003c/td\u003e\n      \u003ctd\u003eJOHNSON JOHNSON\u003c/td\u003e\n      \u003ctd\u003eTerminated\u003c/td\u003e\n      \u003ctd\u003e2017-12-18 08:00:00+00:00\u003c/td\u003e\n      \u003ctd\u003e2021-10-21 00:00:00.000\u003c/td\u003e\n      \u003ctd\u003e2019\u003c/td\u003e\n      \u003ctd\u003e1\u003c/td\u003e\n      \u003ctd\u003e1\u003c/td\u003e\n      \u003ctd\u003eDes Plaines\u003c/td\u003e\n      \u003ctd\u003eIL\u003c/td\u003e\n      \u003ctd\u003eTANDEM\u003c/td\u003e\n      \u003ctd\u003eWheels old\u003c/td\u003e\n      \u003ctd\u003e33200\u003c/td\u003e\n      \u003ctd\u003e10200\u003c/td\u003e\n      \u003ctd\u003e3100\u003c/td\u003e\n      \u003ctd\u003e13549.952117\u003c/td\u003e\n      \u003ctd\u003e687391.16\u003c/td\u003e\n      \u003ctd\u003e293662.118\u003c/td\u003e\n      \u003ctd\u003e3745.0\u003c/td\u003e\n      \u003ctd\u003e4155.0\u003c/td\u003e\n    \u003c/tr\u003e\n  \u003c/tbody\u003e\n\u003c/table\u003e\n\u003c/div\u003e"
          },
          "metadata": {}
        }
      ]
    },
    {
      "execution_count": 6,
      "cell_type": "code",
      "metadata": {},
      "source": [
        "df_v \u003d NAFCUSTOMER_REVENUE_BY_CUSTOMER_LIMITED_df\nprint(len(df_v))"
      ],
      "outputs": [
        {
          "output_type": "stream",
          "text": "21965\n",
          "name": "stdout"
        }
      ]
    },
    {
      "execution_count": 7,
      "cell_type": "code",
      "metadata": {},
      "source": [
        "def date_tz_naive(pd_s):\n    return pd.to_datetime(pd_s).apply(lambda x:x.tz_localize(None))"
      ],
      "outputs": []
    },
    {
      "execution_count": 8,
      "cell_type": "code",
      "metadata": {},
      "source": [
        "print(len(df_v))\ndf_v[\u0027REVENUE_DATE\u0027] \u003d df_v.REVENUE_MONTH.astype(str) + \"/01/\" + df_v.REVENUE_YEAR.astype(str)\ndf_v[\u0027REVENUE_DATE\u0027] \u003d date_tz_naive(df_v[\u0027REVENUE_DATE\u0027])\nprint(len(df_v))"
      ],
      "outputs": [
        {
          "output_type": "stream",
          "text": "21965\n21965\n",
          "name": "stdout"
        }
      ]
    },
    {
      "execution_count": 9,
      "cell_type": "code",
      "metadata": {},
      "source": [
        "print(len(df_v))\ndf_v \u003d df_v[df_v[\u0027REVENUE_DATE\u0027].between(pd.to_datetime(start_date), pd.to_datetime(end_date))].copy()\ndf_v \u003d df_v.dropna(subset\u003d[\u0027CUSTOMER\u0027])\nprint(len(df_v))"
      ],
      "outputs": [
        {
          "output_type": "stream",
          "text": "21965\n21434\n",
          "name": "stdout"
        }
      ]
    },
    {
      "execution_count": 26,
      "cell_type": "code",
      "metadata": {},
      "source": [
        "df_v[\u0027REVENUE_DATE\u0027] \u003d pd.to_datetime(df_v[\u0027REVENUE_DATE\u0027])\n\ndf_v \u003d df_v[[\u0027CUSTOMER\u0027,\u0027REVENUE_DATE\u0027, \u0027ACTIVE_CARD_COUNT\u0027]]\n\ndf_cust \u003d  df_v.groupby(by\u003d[\"CUSTOMER\",\"REVENUE_DATE\"]).sum().reset_index()\ndf_cust.head()"
      ],
      "outputs": [
        {
          "output_type": "execute_result",
          "execution_count": 26,
          "data": {
            "text/plain": "  CUSTOMER REVENUE_DATE  ACTIVE_CARD_COUNT\n0     3GPP   2020-09-01               16.0\n1     3GPP   2020-10-01               22.0\n2     3GPP   2020-11-01               19.0\n3     3GPP   2020-12-01               27.0\n4     3GPP   2021-01-01               25.0",
            "text/html": "\u003cdiv\u003e\n\u003cstyle scoped\u003e\n    .dataframe tbody tr th:only-of-type {\n        vertical-align: middle;\n    }\n\n    .dataframe tbody tr th {\n        vertical-align: top;\n    }\n\n    .dataframe thead th {\n        text-align: right;\n    }\n\u003c/style\u003e\n\u003ctable border\u003d\"1\" class\u003d\"dataframe\"\u003e\n  \u003cthead\u003e\n    \u003ctr style\u003d\"text-align: right;\"\u003e\n      \u003cth\u003e\u003c/th\u003e\n      \u003cth\u003eCUSTOMER\u003c/th\u003e\n      \u003cth\u003eREVENUE_DATE\u003c/th\u003e\n      \u003cth\u003eACTIVE_CARD_COUNT\u003c/th\u003e\n    \u003c/tr\u003e\n  \u003c/thead\u003e\n  \u003ctbody\u003e\n    \u003ctr\u003e\n      \u003cth\u003e0\u003c/th\u003e\n      \u003ctd\u003e3GPP\u003c/td\u003e\n      \u003ctd\u003e2020-09-01\u003c/td\u003e\n      \u003ctd\u003e16.0\u003c/td\u003e\n    \u003c/tr\u003e\n    \u003ctr\u003e\n      \u003cth\u003e1\u003c/th\u003e\n      \u003ctd\u003e3GPP\u003c/td\u003e\n      \u003ctd\u003e2020-10-01\u003c/td\u003e\n      \u003ctd\u003e22.0\u003c/td\u003e\n    \u003c/tr\u003e\n    \u003ctr\u003e\n      \u003cth\u003e2\u003c/th\u003e\n      \u003ctd\u003e3GPP\u003c/td\u003e\n      \u003ctd\u003e2020-11-01\u003c/td\u003e\n      \u003ctd\u003e19.0\u003c/td\u003e\n    \u003c/tr\u003e\n    \u003ctr\u003e\n      \u003cth\u003e3\u003c/th\u003e\n      \u003ctd\u003e3GPP\u003c/td\u003e\n      \u003ctd\u003e2020-12-01\u003c/td\u003e\n      \u003ctd\u003e27.0\u003c/td\u003e\n    \u003c/tr\u003e\n    \u003ctr\u003e\n      \u003cth\u003e4\u003c/th\u003e\n      \u003ctd\u003e3GPP\u003c/td\u003e\n      \u003ctd\u003e2021-01-01\u003c/td\u003e\n      \u003ctd\u003e25.0\u003c/td\u003e\n    \u003c/tr\u003e\n  \u003c/tbody\u003e\n\u003c/table\u003e\n\u003c/div\u003e"
          },
          "metadata": {}
        }
      ]
    },
    {
      "execution_count": 27,
      "cell_type": "code",
      "metadata": {},
      "source": [
        "import pandas as pd\nimport numpy as np\nfrom tqdm import tqdm\nfrom dateutil.relativedelta import relativedelta\nfrom helper import *\n\ndef split_list(lst, n):\n    \u0027\u0027\u0027\n    Splits a list into almost equal n parts\n    \u0027\u0027\u0027\n    k, m \u003d divmod(len(lst), n)\n    return [lst[i*k+min(i, m):(i+1)*k+min(i+1, m)] for i in range(n)]\n\n"
      ],
      "outputs": []
    },
    {
      "execution_count": 28,
      "cell_type": "code",
      "metadata": {},
      "source": [
        "match_type \u003d \"program_flip\"\nperiod_start_date \u003d start_date\nperiod_end_date \u003d None\ndrawup_window \u003d drawup_lookfwd_period\nstatistics_period \u003d statistics_period\nsplit \u003d None"
      ],
      "outputs": []
    },
    {
      "execution_count": 29,
      "cell_type": "code",
      "metadata": {},
      "source": [
        "period_start_date \u003d pd.to_datetime(period_start_date)\ndf_v \u003d df_v[df_v[\u0027REVENUE_DATE\u0027] \u003e\u003d period_start_date].copy()\n\nif period_end_date:\n    period_end_date \u003d pd.to_datetime(period_end_date)\n    df_v \u003d df_v[df_v[\u0027revenue_date\u0027] \u003c\u003d period_end_date].copy()\n\nall_account_ids \u003d list(df_v[\u0027CUSTOMER\u0027].unique())\n\nif not split:\n    split\u003d1\n\nall_account_ids_n \u003d list(split_list(all_account_ids, split))\n\nrise_df \u003d pd.DataFrame()"
      ],
      "outputs": []
    },
    {
      "execution_count": 25,
      "cell_type": "code",
      "metadata": {},
      "source": [
        "for sublist in tqdm(all_account_ids_n):\n\n    du_find \u003d df_v[df_v[\u0027CUSTOMER\u0027].isin(sublist)].copy()\n\n    ## Filter Non-Zero Records and find the first non zero transaction date\n    du_find \u003d du_find[du_find[\u0027ACTIVE_CARD_COUNT\u0027] \u003e 0]\n    \n    du_find.sort_values([\u0027REVENUE_DATE\u0027], inplace\u003dTrue)\n\n    du_agg \u003d du_find.groupby([\u0027CUSTOMER\u0027], as_index\u003dFalse)[[\u0027REVENUE_DATE\u0027]].min()\n    \n    du_agg[\u0027DU_INDICATOR\u0027] \u003d np.where((du_agg[\u0027REVENUE_DATE\u0027] \u003e period_start_date), True, False)\n    du_agg.rename(columns\u003d{\u0027REVENUE_DATE\u0027:\u0027DU_DATE\u0027}, inplace\u003dTrue)\n    du_agg[\u0027DU_DATE\u0027] -\u003d pd.DateOffset(months\u003d1)\n    du_agg \u003d du_agg[du_agg[\u0027DU_INDICATOR\u0027] \u003d\u003d True].drop_duplicates([\u0027CUSTOMER\u0027])\n    \n    ## list of customers who are drawing up\n    du_customers \u003d list(du_agg[\u0027CUSTOMER\u0027])\n    \n    if len(du_customers) \u003d\u003d 0:\n        continue\n    \n    du_find \u003d du_find[du_find[\u0027CUSTOMER\u0027].isin(du_customers)].copy()\n    \ndu_find"
      ],
      "outputs": [
        {
          "output_type": "stream",
          "text": "100%|██████████| 1/1 [00:00\u003c00:00, 35.10it/s]\n",
          "name": "stderr"
        },
        {
          "output_type": "execute_result",
          "execution_count": 25,
          "data": {
            "text/plain": "       CUSTOMER_ACCOUNT_ID               CUSTOMER_ACCOUNT_NAME                            CUSTOMER ACCOUNTSTATUS                SETUP_DATE      ACCOUNT_CLOSED_DATE  REVENUE_YEAR  REVENUE_QUARTER  REVENUE_MONTH ACCOUNT_CITY ACCOUNT_STATE CUSTOMER_SOURCE_SYSTEM_CODE CUSTOMER_BUSINESS_PROGRAM_NAME  BI_CUS_PAR  BI_PRODUCT  BI_MRU  REVENUE_AMOUNT_USD  GROSS_SPEND_AMOUNT  PURCHASE_GALLONS_QTY  ACTIVE_CARD_COUNT  OUTSTANDING_CARD_COUNT REVENUE_DATE\n844           469005702113                                3LUM                                3LUM    Terminated 2019-01-16 08:00:00+00:00  2022-07-12 00:00:00.000          2019                1              2  Des Plaines            IL                      TANDEM                     Wheels old       33200       10200    3100           33.028419              352.34               142.136                6.0                    15.0   2019-02-01\n833           469005702139               SIEMENS ENERGY (3SWG)               SIEMENS ENERGY (3SWG)    Terminated 2019-02-12 08:00:00+00:00  2022-04-05 00:00:00.000          2019                1              2  Des Plaines            IL                      TANDEM                     Wheels old       33200       10200    3100            0.914962              139.57                63.869                4.0                    23.0   2019-02-01\n796           469005702121               ERIE INSURANCE (3ERE)               ERIE INSURANCE (3ERE)    Terminated 2019-01-16 08:00:00+00:00  2022-03-08 00:00:00.000          2019                1              2  Des Plaines            IL                      TANDEM                     Wheels old       33200       10200    3100         2529.633111            65543.93             27424.352              626.0                   983.0   2019-02-01\n804           469005702030           CENTURION PIPELINE (3CEP)           CENTURION PIPELINE (3CEP)        Active 2018-12-03 08:00:00+00:00  9999-12-31 00:00:00.000          2019                1              2  Des Plaines            IL                      TANDEM                     Wheels old       33200       10200    3100          579.512127            27878.25             11982.304              122.0                   212.0   2019-02-01\n442           469005702097                      RPM INC (5RPX)                      RPM INC (5RPX)    Terminated 2019-01-16 08:00:00+00:00  2022-03-08 00:00:00.000          2019                1              2  Des Plaines            IL                      TANDEM                     Wheels old       33200       10200    3100          231.761267             4700.41              1897.877               42.0                   101.0   2019-02-01\n...                    ...                                 ...                                 ...           ...                       ...                      ...           ...              ...            ...          ...           ...                         ...                            ...         ...         ...     ...                 ...                 ...                   ...                ...                     ...          ...\n21081         469005703095                 GLOBAL ELITE (3GLA)                 GLOBAL ELITE (3GLA)        Active 2020-11-18 08:00:00+00:00  9999-12-31 00:00:00.000          2022                3              8  Des Plaines            IL                      TANDEM                     Wheels old       33200       10200    3100          -32.379113             1776.92               287.464                4.0                     7.0   2022-08-01\n21080        9100009108747          Balfour Beatty Renovations          BALFOUR BEATTY RENOVATIONS        Active 2021-05-04 07:00:00+00:00  9999-12-31 00:00:00.000          2022                3              8  Des Plaines            IL                      SIEBEL                         Wheels       33200       10200    3100          288.930000            11044.23              2806.793               27.0                    30.0   2022-08-01\n21078        9100010045710                       Siemens  3SFS                       SIEMENS  3SFS        Active 2021-11-29 08:00:00+00:00  9999-12-31 00:00:00.000          2022                3              8  Des Plaines            IL                      SIEBEL                         Wheels       33200       10200    3100            4.180000              182.38                39.820                1.0                     1.0   2022-08-01\n21077        9100009826389  Northrop Grumman DBA Sperry Marine  NORTHROP GRUMMAN DBA SPERRY MARINE        Active 2021-10-14 07:00:00+00:00  9999-12-31 00:00:00.000          2022                3              8  Des Plaines            IL                      SIEBEL                         Wheels       33200       10200    3100          126.930000             5436.01              1279.837               13.0                    16.0   2022-08-01\n21433        9100009212490                 Hussman Corporation                 HUSSMAN CORPORATION        Active 2021-06-04 07:00:00+00:00  9999-12-31 00:00:00.000          2022                3              8  Des Plaines            IL                      SIEBEL                         Wheels       33200       10200    3100        20584.180000           858300.43            223733.923             1118.0                  1300.0   2022-08-01\n\n[4691 rows x 22 columns]",
            "text/html": "\u003cdiv\u003e\n\u003cstyle scoped\u003e\n    .dataframe tbody tr th:only-of-type {\n        vertical-align: middle;\n    }\n\n    .dataframe tbody tr th {\n        vertical-align: top;\n    }\n\n    .dataframe thead th {\n        text-align: right;\n    }\n\u003c/style\u003e\n\u003ctable border\u003d\"1\" class\u003d\"dataframe\"\u003e\n  \u003cthead\u003e\n    \u003ctr style\u003d\"text-align: right;\"\u003e\n      \u003cth\u003e\u003c/th\u003e\n      \u003cth\u003eCUSTOMER_ACCOUNT_ID\u003c/th\u003e\n      \u003cth\u003eCUSTOMER_ACCOUNT_NAME\u003c/th\u003e\n      \u003cth\u003eCUSTOMER\u003c/th\u003e\n      \u003cth\u003eACCOUNTSTATUS\u003c/th\u003e\n      \u003cth\u003eSETUP_DATE\u003c/th\u003e\n      \u003cth\u003eACCOUNT_CLOSED_DATE\u003c/th\u003e\n      \u003cth\u003eREVENUE_YEAR\u003c/th\u003e\n      \u003cth\u003eREVENUE_QUARTER\u003c/th\u003e\n      \u003cth\u003eREVENUE_MONTH\u003c/th\u003e\n      \u003cth\u003eACCOUNT_CITY\u003c/th\u003e\n      \u003cth\u003eACCOUNT_STATE\u003c/th\u003e\n      \u003cth\u003eCUSTOMER_SOURCE_SYSTEM_CODE\u003c/th\u003e\n      \u003cth\u003eCUSTOMER_BUSINESS_PROGRAM_NAME\u003c/th\u003e\n      \u003cth\u003eBI_CUS_PAR\u003c/th\u003e\n      \u003cth\u003eBI_PRODUCT\u003c/th\u003e\n      \u003cth\u003eBI_MRU\u003c/th\u003e\n      \u003cth\u003eREVENUE_AMOUNT_USD\u003c/th\u003e\n      \u003cth\u003eGROSS_SPEND_AMOUNT\u003c/th\u003e\n      \u003cth\u003ePURCHASE_GALLONS_QTY\u003c/th\u003e\n      \u003cth\u003eACTIVE_CARD_COUNT\u003c/th\u003e\n      \u003cth\u003eOUTSTANDING_CARD_COUNT\u003c/th\u003e\n      \u003cth\u003eREVENUE_DATE\u003c/th\u003e\n    \u003c/tr\u003e\n  \u003c/thead\u003e\n  \u003ctbody\u003e\n    \u003ctr\u003e\n      \u003cth\u003e844\u003c/th\u003e\n      \u003ctd\u003e469005702113\u003c/td\u003e\n      \u003ctd\u003e3LUM\u003c/td\u003e\n      \u003ctd\u003e3LUM\u003c/td\u003e\n      \u003ctd\u003eTerminated\u003c/td\u003e\n      \u003ctd\u003e2019-01-16 08:00:00+00:00\u003c/td\u003e\n      \u003ctd\u003e2022-07-12 00:00:00.000\u003c/td\u003e\n      \u003ctd\u003e2019\u003c/td\u003e\n      \u003ctd\u003e1\u003c/td\u003e\n      \u003ctd\u003e2\u003c/td\u003e\n      \u003ctd\u003eDes Plaines\u003c/td\u003e\n      \u003ctd\u003eIL\u003c/td\u003e\n      \u003ctd\u003eTANDEM\u003c/td\u003e\n      \u003ctd\u003eWheels old\u003c/td\u003e\n      \u003ctd\u003e33200\u003c/td\u003e\n      \u003ctd\u003e10200\u003c/td\u003e\n      \u003ctd\u003e3100\u003c/td\u003e\n      \u003ctd\u003e33.028419\u003c/td\u003e\n      \u003ctd\u003e352.34\u003c/td\u003e\n      \u003ctd\u003e142.136\u003c/td\u003e\n      \u003ctd\u003e6.0\u003c/td\u003e\n      \u003ctd\u003e15.0\u003c/td\u003e\n      \u003ctd\u003e2019-02-01\u003c/td\u003e\n    \u003c/tr\u003e\n    \u003ctr\u003e\n      \u003cth\u003e833\u003c/th\u003e\n      \u003ctd\u003e469005702139\u003c/td\u003e\n      \u003ctd\u003eSIEMENS ENERGY (3SWG)\u003c/td\u003e\n      \u003ctd\u003eSIEMENS ENERGY (3SWG)\u003c/td\u003e\n      \u003ctd\u003eTerminated\u003c/td\u003e\n      \u003ctd\u003e2019-02-12 08:00:00+00:00\u003c/td\u003e\n      \u003ctd\u003e2022-04-05 00:00:00.000\u003c/td\u003e\n      \u003ctd\u003e2019\u003c/td\u003e\n      \u003ctd\u003e1\u003c/td\u003e\n      \u003ctd\u003e2\u003c/td\u003e\n      \u003ctd\u003eDes Plaines\u003c/td\u003e\n      \u003ctd\u003eIL\u003c/td\u003e\n      \u003ctd\u003eTANDEM\u003c/td\u003e\n      \u003ctd\u003eWheels old\u003c/td\u003e\n      \u003ctd\u003e33200\u003c/td\u003e\n      \u003ctd\u003e10200\u003c/td\u003e\n      \u003ctd\u003e3100\u003c/td\u003e\n      \u003ctd\u003e0.914962\u003c/td\u003e\n      \u003ctd\u003e139.57\u003c/td\u003e\n      \u003ctd\u003e63.869\u003c/td\u003e\n      \u003ctd\u003e4.0\u003c/td\u003e\n      \u003ctd\u003e23.0\u003c/td\u003e\n      \u003ctd\u003e2019-02-01\u003c/td\u003e\n    \u003c/tr\u003e\n    \u003ctr\u003e\n      \u003cth\u003e796\u003c/th\u003e\n      \u003ctd\u003e469005702121\u003c/td\u003e\n      \u003ctd\u003eERIE INSURANCE (3ERE)\u003c/td\u003e\n      \u003ctd\u003eERIE INSURANCE (3ERE)\u003c/td\u003e\n      \u003ctd\u003eTerminated\u003c/td\u003e\n      \u003ctd\u003e2019-01-16 08:00:00+00:00\u003c/td\u003e\n      \u003ctd\u003e2022-03-08 00:00:00.000\u003c/td\u003e\n      \u003ctd\u003e2019\u003c/td\u003e\n      \u003ctd\u003e1\u003c/td\u003e\n      \u003ctd\u003e2\u003c/td\u003e\n      \u003ctd\u003eDes Plaines\u003c/td\u003e\n      \u003ctd\u003eIL\u003c/td\u003e\n      \u003ctd\u003eTANDEM\u003c/td\u003e\n      \u003ctd\u003eWheels old\u003c/td\u003e\n      \u003ctd\u003e33200\u003c/td\u003e\n      \u003ctd\u003e10200\u003c/td\u003e\n      \u003ctd\u003e3100\u003c/td\u003e\n      \u003ctd\u003e2529.633111\u003c/td\u003e\n      \u003ctd\u003e65543.93\u003c/td\u003e\n      \u003ctd\u003e27424.352\u003c/td\u003e\n      \u003ctd\u003e626.0\u003c/td\u003e\n      \u003ctd\u003e983.0\u003c/td\u003e\n      \u003ctd\u003e2019-02-01\u003c/td\u003e\n    \u003c/tr\u003e\n    \u003ctr\u003e\n      \u003cth\u003e804\u003c/th\u003e\n      \u003ctd\u003e469005702030\u003c/td\u003e\n      \u003ctd\u003eCENTURION PIPELINE (3CEP)\u003c/td\u003e\n      \u003ctd\u003eCENTURION PIPELINE (3CEP)\u003c/td\u003e\n      \u003ctd\u003eActive\u003c/td\u003e\n      \u003ctd\u003e2018-12-03 08:00:00+00:00\u003c/td\u003e\n      \u003ctd\u003e9999-12-31 00:00:00.000\u003c/td\u003e\n      \u003ctd\u003e2019\u003c/td\u003e\n      \u003ctd\u003e1\u003c/td\u003e\n      \u003ctd\u003e2\u003c/td\u003e\n      \u003ctd\u003eDes Plaines\u003c/td\u003e\n      \u003ctd\u003eIL\u003c/td\u003e\n      \u003ctd\u003eTANDEM\u003c/td\u003e\n      \u003ctd\u003eWheels old\u003c/td\u003e\n      \u003ctd\u003e33200\u003c/td\u003e\n      \u003ctd\u003e10200\u003c/td\u003e\n      \u003ctd\u003e3100\u003c/td\u003e\n      \u003ctd\u003e579.512127\u003c/td\u003e\n      \u003ctd\u003e27878.25\u003c/td\u003e\n      \u003ctd\u003e11982.304\u003c/td\u003e\n      \u003ctd\u003e122.0\u003c/td\u003e\n      \u003ctd\u003e212.0\u003c/td\u003e\n      \u003ctd\u003e2019-02-01\u003c/td\u003e\n    \u003c/tr\u003e\n    \u003ctr\u003e\n      \u003cth\u003e442\u003c/th\u003e\n      \u003ctd\u003e469005702097\u003c/td\u003e\n      \u003ctd\u003eRPM INC (5RPX)\u003c/td\u003e\n      \u003ctd\u003eRPM INC (5RPX)\u003c/td\u003e\n      \u003ctd\u003eTerminated\u003c/td\u003e\n      \u003ctd\u003e2019-01-16 08:00:00+00:00\u003c/td\u003e\n      \u003ctd\u003e2022-03-08 00:00:00.000\u003c/td\u003e\n      \u003ctd\u003e2019\u003c/td\u003e\n      \u003ctd\u003e1\u003c/td\u003e\n      \u003ctd\u003e2\u003c/td\u003e\n      \u003ctd\u003eDes Plaines\u003c/td\u003e\n      \u003ctd\u003eIL\u003c/td\u003e\n      \u003ctd\u003eTANDEM\u003c/td\u003e\n      \u003ctd\u003eWheels old\u003c/td\u003e\n      \u003ctd\u003e33200\u003c/td\u003e\n      \u003ctd\u003e10200\u003c/td\u003e\n      \u003ctd\u003e3100\u003c/td\u003e\n      \u003ctd\u003e231.761267\u003c/td\u003e\n      \u003ctd\u003e4700.41\u003c/td\u003e\n      \u003ctd\u003e1897.877\u003c/td\u003e\n      \u003ctd\u003e42.0\u003c/td\u003e\n      \u003ctd\u003e101.0\u003c/td\u003e\n      \u003ctd\u003e2019-02-01\u003c/td\u003e\n    \u003c/tr\u003e\n    \u003ctr\u003e\n      \u003cth\u003e...\u003c/th\u003e\n      \u003ctd\u003e...\u003c/td\u003e\n      \u003ctd\u003e...\u003c/td\u003e\n      \u003ctd\u003e...\u003c/td\u003e\n      \u003ctd\u003e...\u003c/td\u003e\n      \u003ctd\u003e...\u003c/td\u003e\n      \u003ctd\u003e...\u003c/td\u003e\n      \u003ctd\u003e...\u003c/td\u003e\n      \u003ctd\u003e...\u003c/td\u003e\n      \u003ctd\u003e...\u003c/td\u003e\n      \u003ctd\u003e...\u003c/td\u003e\n      \u003ctd\u003e...\u003c/td\u003e\n      \u003ctd\u003e...\u003c/td\u003e\n      \u003ctd\u003e...\u003c/td\u003e\n      \u003ctd\u003e...\u003c/td\u003e\n      \u003ctd\u003e...\u003c/td\u003e\n      \u003ctd\u003e...\u003c/td\u003e\n      \u003ctd\u003e...\u003c/td\u003e\n      \u003ctd\u003e...\u003c/td\u003e\n      \u003ctd\u003e...\u003c/td\u003e\n      \u003ctd\u003e...\u003c/td\u003e\n      \u003ctd\u003e...\u003c/td\u003e\n      \u003ctd\u003e...\u003c/td\u003e\n    \u003c/tr\u003e\n    \u003ctr\u003e\n      \u003cth\u003e21081\u003c/th\u003e\n      \u003ctd\u003e469005703095\u003c/td\u003e\n      \u003ctd\u003eGLOBAL ELITE (3GLA)\u003c/td\u003e\n      \u003ctd\u003eGLOBAL ELITE (3GLA)\u003c/td\u003e\n      \u003ctd\u003eActive\u003c/td\u003e\n      \u003ctd\u003e2020-11-18 08:00:00+00:00\u003c/td\u003e\n      \u003ctd\u003e9999-12-31 00:00:00.000\u003c/td\u003e\n      \u003ctd\u003e2022\u003c/td\u003e\n      \u003ctd\u003e3\u003c/td\u003e\n      \u003ctd\u003e8\u003c/td\u003e\n      \u003ctd\u003eDes Plaines\u003c/td\u003e\n      \u003ctd\u003eIL\u003c/td\u003e\n      \u003ctd\u003eTANDEM\u003c/td\u003e\n      \u003ctd\u003eWheels old\u003c/td\u003e\n      \u003ctd\u003e33200\u003c/td\u003e\n      \u003ctd\u003e10200\u003c/td\u003e\n      \u003ctd\u003e3100\u003c/td\u003e\n      \u003ctd\u003e-32.379113\u003c/td\u003e\n      \u003ctd\u003e1776.92\u003c/td\u003e\n      \u003ctd\u003e287.464\u003c/td\u003e\n      \u003ctd\u003e4.0\u003c/td\u003e\n      \u003ctd\u003e7.0\u003c/td\u003e\n      \u003ctd\u003e2022-08-01\u003c/td\u003e\n    \u003c/tr\u003e\n    \u003ctr\u003e\n      \u003cth\u003e21080\u003c/th\u003e\n      \u003ctd\u003e9100009108747\u003c/td\u003e\n      \u003ctd\u003eBalfour Beatty Renovations\u003c/td\u003e\n      \u003ctd\u003eBALFOUR BEATTY RENOVATIONS\u003c/td\u003e\n      \u003ctd\u003eActive\u003c/td\u003e\n      \u003ctd\u003e2021-05-04 07:00:00+00:00\u003c/td\u003e\n      \u003ctd\u003e9999-12-31 00:00:00.000\u003c/td\u003e\n      \u003ctd\u003e2022\u003c/td\u003e\n      \u003ctd\u003e3\u003c/td\u003e\n      \u003ctd\u003e8\u003c/td\u003e\n      \u003ctd\u003eDes Plaines\u003c/td\u003e\n      \u003ctd\u003eIL\u003c/td\u003e\n      \u003ctd\u003eSIEBEL\u003c/td\u003e\n      \u003ctd\u003eWheels\u003c/td\u003e\n      \u003ctd\u003e33200\u003c/td\u003e\n      \u003ctd\u003e10200\u003c/td\u003e\n      \u003ctd\u003e3100\u003c/td\u003e\n      \u003ctd\u003e288.930000\u003c/td\u003e\n      \u003ctd\u003e11044.23\u003c/td\u003e\n      \u003ctd\u003e2806.793\u003c/td\u003e\n      \u003ctd\u003e27.0\u003c/td\u003e\n      \u003ctd\u003e30.0\u003c/td\u003e\n      \u003ctd\u003e2022-08-01\u003c/td\u003e\n    \u003c/tr\u003e\n    \u003ctr\u003e\n      \u003cth\u003e21078\u003c/th\u003e\n      \u003ctd\u003e9100010045710\u003c/td\u003e\n      \u003ctd\u003eSiemens  3SFS\u003c/td\u003e\n      \u003ctd\u003eSIEMENS  3SFS\u003c/td\u003e\n      \u003ctd\u003eActive\u003c/td\u003e\n      \u003ctd\u003e2021-11-29 08:00:00+00:00\u003c/td\u003e\n      \u003ctd\u003e9999-12-31 00:00:00.000\u003c/td\u003e\n      \u003ctd\u003e2022\u003c/td\u003e\n      \u003ctd\u003e3\u003c/td\u003e\n      \u003ctd\u003e8\u003c/td\u003e\n      \u003ctd\u003eDes Plaines\u003c/td\u003e\n      \u003ctd\u003eIL\u003c/td\u003e\n      \u003ctd\u003eSIEBEL\u003c/td\u003e\n      \u003ctd\u003eWheels\u003c/td\u003e\n      \u003ctd\u003e33200\u003c/td\u003e\n      \u003ctd\u003e10200\u003c/td\u003e\n      \u003ctd\u003e3100\u003c/td\u003e\n      \u003ctd\u003e4.180000\u003c/td\u003e\n      \u003ctd\u003e182.38\u003c/td\u003e\n      \u003ctd\u003e39.820\u003c/td\u003e\n      \u003ctd\u003e1.0\u003c/td\u003e\n      \u003ctd\u003e1.0\u003c/td\u003e\n      \u003ctd\u003e2022-08-01\u003c/td\u003e\n    \u003c/tr\u003e\n    \u003ctr\u003e\n      \u003cth\u003e21077\u003c/th\u003e\n      \u003ctd\u003e9100009826389\u003c/td\u003e\n      \u003ctd\u003eNorthrop Grumman DBA Sperry Marine\u003c/td\u003e\n      \u003ctd\u003eNORTHROP GRUMMAN DBA SPERRY MARINE\u003c/td\u003e\n      \u003ctd\u003eActive\u003c/td\u003e\n      \u003ctd\u003e2021-10-14 07:00:00+00:00\u003c/td\u003e\n      \u003ctd\u003e9999-12-31 00:00:00.000\u003c/td\u003e\n      \u003ctd\u003e2022\u003c/td\u003e\n      \u003ctd\u003e3\u003c/td\u003e\n      \u003ctd\u003e8\u003c/td\u003e\n      \u003ctd\u003eDes Plaines\u003c/td\u003e\n      \u003ctd\u003eIL\u003c/td\u003e\n      \u003ctd\u003eSIEBEL\u003c/td\u003e\n      \u003ctd\u003eWheels\u003c/td\u003e\n      \u003ctd\u003e33200\u003c/td\u003e\n      \u003ctd\u003e10200\u003c/td\u003e\n      \u003ctd\u003e3100\u003c/td\u003e\n      \u003ctd\u003e126.930000\u003c/td\u003e\n      \u003ctd\u003e5436.01\u003c/td\u003e\n      \u003ctd\u003e1279.837\u003c/td\u003e\n      \u003ctd\u003e13.0\u003c/td\u003e\n      \u003ctd\u003e16.0\u003c/td\u003e\n      \u003ctd\u003e2022-08-01\u003c/td\u003e\n    \u003c/tr\u003e\n    \u003ctr\u003e\n      \u003cth\u003e21433\u003c/th\u003e\n      \u003ctd\u003e9100009212490\u003c/td\u003e\n      \u003ctd\u003eHussman Corporation\u003c/td\u003e\n      \u003ctd\u003eHUSSMAN CORPORATION\u003c/td\u003e\n      \u003ctd\u003eActive\u003c/td\u003e\n      \u003ctd\u003e2021-06-04 07:00:00+00:00\u003c/td\u003e\n      \u003ctd\u003e9999-12-31 00:00:00.000\u003c/td\u003e\n      \u003ctd\u003e2022\u003c/td\u003e\n      \u003ctd\u003e3\u003c/td\u003e\n      \u003ctd\u003e8\u003c/td\u003e\n      \u003ctd\u003eDes Plaines\u003c/td\u003e\n      \u003ctd\u003eIL\u003c/td\u003e\n      \u003ctd\u003eSIEBEL\u003c/td\u003e\n      \u003ctd\u003eWheels\u003c/td\u003e\n      \u003ctd\u003e33200\u003c/td\u003e\n      \u003ctd\u003e10200\u003c/td\u003e\n      \u003ctd\u003e3100\u003c/td\u003e\n      \u003ctd\u003e20584.180000\u003c/td\u003e\n      \u003ctd\u003e858300.43\u003c/td\u003e\n      \u003ctd\u003e223733.923\u003c/td\u003e\n      \u003ctd\u003e1118.0\u003c/td\u003e\n      \u003ctd\u003e1300.0\u003c/td\u003e\n      \u003ctd\u003e2022-08-01\u003c/td\u003e\n    \u003c/tr\u003e\n  \u003c/tbody\u003e\n\u003c/table\u003e\n\u003cp\u003e4691 rows × 22 columns\u003c/p\u003e\n\u003c/div\u003e"
          },
          "metadata": {}
        }
      ]
    },
    {
      "execution_count": 0,
      "cell_type": "code",
      "metadata": {},
      "source": [
        ""
      ],
      "outputs": []
    },
    {
      "execution_count": 0,
      "cell_type": "code",
      "metadata": {},
      "source": [
        "#CALCULATED_CARD_DRAW_UPS_df \u003d NAFCUSTOMER_REVENUE_BY_CUSTOMER_LIMITED_df # For this sample code, simply copy input to output\n\n# Write recipe outputs\n#CALCULATED_CARD_DRAW_UPS \u003d dataiku.Dataset(\"CALCULATED_CARD_DRAW_UPS\")\n#CALCULATED_CARD_DRAW_UPS.write_with_schema(CALCULATED_CARD_DRAW_UPS_df)"
      ],
      "outputs": []
    }
  ]
}