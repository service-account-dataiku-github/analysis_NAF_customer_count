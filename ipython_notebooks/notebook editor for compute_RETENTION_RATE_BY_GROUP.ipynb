{
  "metadata": {
    "kernelspec": {
      "name": "py-dku-venv-env_clc",
      "display_name": "Python (env env_clc)",
      "language": "python"
    },
    "associatedRecipe": "compute_RETENTION_RATE_BY_GROUP",
    "dkuGit": {
      "lastInteraction": 0
    },
    "creationTag": {
      "versionNumber": 0,
      "lastModifiedBy": {
        "login": "Daniel.Vandermeer"
      },
      "lastModifiedOn": 1676846218964
    },
    "creator": "Daniel.Vandermeer",
    "createdOn": 1676846218964,
    "tags": [
      "recipe-editor"
    ],
    "customFields": {},
    "hide_input": false,
    "language_info": {
      "name": "python",
      "version": "3.6.8",
      "mimetype": "text/x-python",
      "codemirror_mode": {
        "name": "ipython",
        "version": 3
      },
      "pygments_lexer": "ipython3",
      "nbconvert_exporter": "python",
      "file_extension": ".py"
    },
    "modifiedBy": "Daniel.Vandermeer"
  },
  "nbformat": 4,
  "nbformat_minor": 1,
  "cells": [
    {
      "execution_count": 199,
      "cell_type": "code",
      "metadata": {},
      "source": [
        "# -*- coding: utf-8 -*-\nimport dataiku\nimport pandas as pd, numpy as np\nfrom dataiku import pandasutils as pdu\n\nfrom datetime import date, datetime, timedelta\nimport matplotlib.pyplot as plt\nimport time\n\nt0 \u003d time.time()\n\nprint(\"loading...\")\n\n# Read recipe inputs\nNAFCUSTOMER_ACCOUNT_ANNUAL_ACTIVE_CARD_COUNT \u003d dataiku.Dataset(\"NAFCUSTOMER_ACCOUNT_ANNUAL_ACTIVE_CARD_COUNT\")\nNAFCUSTOMER_ACCOUNT_ANNUAL_ACTIVE_CARD_COUNT_df \u003d NAFCUSTOMER_ACCOUNT_ANNUAL_ACTIVE_CARD_COUNT.get_dataframe()\n\nNAFCUSTOMER_REVENUE_AGGREGATED \u003d dataiku.Dataset(\"NAFCUSTOMER_REVENUE_AGGREGATED\")\nNAFCUSTOMER_REVENUE_AGGREGATED_df \u003d NAFCUSTOMER_REVENUE_AGGREGATED.get_dataframe()\n\nt1 \u003d time.time()\nprint(\"load duration\", (t1-t0)/60.0, \"minutes\")"
      ],
      "outputs": [
        {
          "output_type": "stream",
          "text": "loading...\nload duration 10.291395437717437 minutes\n",
          "name": "stdout"
        }
      ]
    },
    {
      "execution_count": 200,
      "cell_type": "code",
      "metadata": {},
      "source": [
        "print(len(NAFCUSTOMER_ACCOUNT_ANNUAL_ACTIVE_CARD_COUNT_df), \"rows in NAFCUSTOMER_ACCOUNT_ANNUAL_ACTIVE_CARD_COUNT\")\ndf_a \u003d NAFCUSTOMER_ACCOUNT_ANNUAL_ACTIVE_CARD_COUNT_df.copy()\n\nprint(len(NAFCUSTOMER_REVENUE_AGGREGATED_df), \"rows in NAFCUSTOMER_REVENUE_AGGREGATED\")\ndf \u003d NAFCUSTOMER_REVENUE_AGGREGATED_df.copy()\ndf \u003d df[df.REVENUE_YEAR!\u003d2023]\nprint(len(df))"
      ],
      "outputs": [
        {
          "output_type": "stream",
          "text": "2319568 rows in NAFCUSTOMER_ACCOUNT_ANNUAL_ACTIVE_CARD_COUNT\n18075044 rows in NAFCUSTOMER_REVENUE_AGGREGATED\n17673397\n",
          "name": "stdout"
        }
      ]
    },
    {
      "execution_count": 201,
      "cell_type": "code",
      "metadata": {},
      "source": [
        "df.head()"
      ],
      "outputs": [
        {
          "output_type": "execute_result",
          "execution_count": 201,
          "data": {
            "text/plain": "   CUSTOMER_ID                   CUSTOMER  REVENUE_YEAR  REVENUE_MONTH                SETUP_DATE  BI_CUS_PAR  BI_PRODUCT  BI_MRU  REVENUE_AMOUNT_USD  GROSS_SPEND_AMOUNT  PURCHASE_GALLONS_QTY  TOTAL_ACTIVE_CARD_COUNT\n0   77640633.0         WINE UNIVERSE CORP          2020             10 2017-08-07 07:00:00+00:00     53000.0     10100.0  4120.0               86.75               62.98                23.330                      1.0\n1   77579104.0      THE CHIMNEY SWEEP INC          2019              7 2014-08-05 07:00:00+00:00     10500.0     15100.0  4120.0              308.22             2582.54              1020.587                      3.0\n2   77133878.0       CITY OF FOREST HILLS          2022             11 2018-11-01 07:00:00+00:00     21000.0     15100.0  4000.0                4.10              631.11               193.750                      2.0\n3   77131052.0  CHRISTIAN FARMS TREEHOUSE          2022              4 2020-01-18 08:00:00+00:00     12900.0     15110.0  4000.0                1.43              167.80                46.448                      1.0\n4   77608172.0            TWT LEASING INC          2021              3 2012-09-02 07:00:00+00:00     11300.0     15100.0  4120.0               44.23             1180.54               452.433                      2.0",
            "text/html": "\u003cdiv\u003e\n\u003cstyle scoped\u003e\n    .dataframe tbody tr th:only-of-type {\n        vertical-align: middle;\n    }\n\n    .dataframe tbody tr th {\n        vertical-align: top;\n    }\n\n    .dataframe thead th {\n        text-align: right;\n    }\n\u003c/style\u003e\n\u003ctable border\u003d\"1\" class\u003d\"dataframe\"\u003e\n  \u003cthead\u003e\n    \u003ctr style\u003d\"text-align: right;\"\u003e\n      \u003cth\u003e\u003c/th\u003e\n      \u003cth\u003eCUSTOMER_ID\u003c/th\u003e\n      \u003cth\u003eCUSTOMER\u003c/th\u003e\n      \u003cth\u003eREVENUE_YEAR\u003c/th\u003e\n      \u003cth\u003eREVENUE_MONTH\u003c/th\u003e\n      \u003cth\u003eSETUP_DATE\u003c/th\u003e\n      \u003cth\u003eBI_CUS_PAR\u003c/th\u003e\n      \u003cth\u003eBI_PRODUCT\u003c/th\u003e\n      \u003cth\u003eBI_MRU\u003c/th\u003e\n      \u003cth\u003eREVENUE_AMOUNT_USD\u003c/th\u003e\n      \u003cth\u003eGROSS_SPEND_AMOUNT\u003c/th\u003e\n      \u003cth\u003ePURCHASE_GALLONS_QTY\u003c/th\u003e\n      \u003cth\u003eTOTAL_ACTIVE_CARD_COUNT\u003c/th\u003e\n    \u003c/tr\u003e\n  \u003c/thead\u003e\n  \u003ctbody\u003e\n    \u003ctr\u003e\n      \u003cth\u003e0\u003c/th\u003e\n      \u003ctd\u003e77640633.0\u003c/td\u003e\n      \u003ctd\u003eWINE UNIVERSE CORP\u003c/td\u003e\n      \u003ctd\u003e2020\u003c/td\u003e\n      \u003ctd\u003e10\u003c/td\u003e\n      \u003ctd\u003e2017-08-07 07:00:00+00:00\u003c/td\u003e\n      \u003ctd\u003e53000.0\u003c/td\u003e\n      \u003ctd\u003e10100.0\u003c/td\u003e\n      \u003ctd\u003e4120.0\u003c/td\u003e\n      \u003ctd\u003e86.75\u003c/td\u003e\n      \u003ctd\u003e62.98\u003c/td\u003e\n      \u003ctd\u003e23.330\u003c/td\u003e\n      \u003ctd\u003e1.0\u003c/td\u003e\n    \u003c/tr\u003e\n    \u003ctr\u003e\n      \u003cth\u003e1\u003c/th\u003e\n      \u003ctd\u003e77579104.0\u003c/td\u003e\n      \u003ctd\u003eTHE CHIMNEY SWEEP INC\u003c/td\u003e\n      \u003ctd\u003e2019\u003c/td\u003e\n      \u003ctd\u003e7\u003c/td\u003e\n      \u003ctd\u003e2014-08-05 07:00:00+00:00\u003c/td\u003e\n      \u003ctd\u003e10500.0\u003c/td\u003e\n      \u003ctd\u003e15100.0\u003c/td\u003e\n      \u003ctd\u003e4120.0\u003c/td\u003e\n      \u003ctd\u003e308.22\u003c/td\u003e\n      \u003ctd\u003e2582.54\u003c/td\u003e\n      \u003ctd\u003e1020.587\u003c/td\u003e\n      \u003ctd\u003e3.0\u003c/td\u003e\n    \u003c/tr\u003e\n    \u003ctr\u003e\n      \u003cth\u003e2\u003c/th\u003e\n      \u003ctd\u003e77133878.0\u003c/td\u003e\n      \u003ctd\u003eCITY OF FOREST HILLS\u003c/td\u003e\n      \u003ctd\u003e2022\u003c/td\u003e\n      \u003ctd\u003e11\u003c/td\u003e\n      \u003ctd\u003e2018-11-01 07:00:00+00:00\u003c/td\u003e\n      \u003ctd\u003e21000.0\u003c/td\u003e\n      \u003ctd\u003e15100.0\u003c/td\u003e\n      \u003ctd\u003e4000.0\u003c/td\u003e\n      \u003ctd\u003e4.10\u003c/td\u003e\n      \u003ctd\u003e631.11\u003c/td\u003e\n      \u003ctd\u003e193.750\u003c/td\u003e\n      \u003ctd\u003e2.0\u003c/td\u003e\n    \u003c/tr\u003e\n    \u003ctr\u003e\n      \u003cth\u003e3\u003c/th\u003e\n      \u003ctd\u003e77131052.0\u003c/td\u003e\n      \u003ctd\u003eCHRISTIAN FARMS TREEHOUSE\u003c/td\u003e\n      \u003ctd\u003e2022\u003c/td\u003e\n      \u003ctd\u003e4\u003c/td\u003e\n      \u003ctd\u003e2020-01-18 08:00:00+00:00\u003c/td\u003e\n      \u003ctd\u003e12900.0\u003c/td\u003e\n      \u003ctd\u003e15110.0\u003c/td\u003e\n      \u003ctd\u003e4000.0\u003c/td\u003e\n      \u003ctd\u003e1.43\u003c/td\u003e\n      \u003ctd\u003e167.80\u003c/td\u003e\n      \u003ctd\u003e46.448\u003c/td\u003e\n      \u003ctd\u003e1.0\u003c/td\u003e\n    \u003c/tr\u003e\n    \u003ctr\u003e\n      \u003cth\u003e4\u003c/th\u003e\n      \u003ctd\u003e77608172.0\u003c/td\u003e\n      \u003ctd\u003eTWT LEASING INC\u003c/td\u003e\n      \u003ctd\u003e2021\u003c/td\u003e\n      \u003ctd\u003e3\u003c/td\u003e\n      \u003ctd\u003e2012-09-02 07:00:00+00:00\u003c/td\u003e\n      \u003ctd\u003e11300.0\u003c/td\u003e\n      \u003ctd\u003e15100.0\u003c/td\u003e\n      \u003ctd\u003e4120.0\u003c/td\u003e\n      \u003ctd\u003e44.23\u003c/td\u003e\n      \u003ctd\u003e1180.54\u003c/td\u003e\n      \u003ctd\u003e452.433\u003c/td\u003e\n      \u003ctd\u003e2.0\u003c/td\u003e\n    \u003c/tr\u003e\n  \u003c/tbody\u003e\n\u003c/table\u003e\n\u003c/div\u003e"
          },
          "metadata": {}
        }
      ]
    },
    {
      "execution_count": 0,
      "cell_type": "code",
      "metadata": {},
      "source": [
        "df_revenue_by_customer_and_year \u003d df.groupby([\u0027CUSTOMER_ID\u0027,\u0027CUSTOMER\u0027,\u0027REVENUE_YEAR\u0027]).REVENUE_AMOUNT_USD.sum().reset_index()\nprint(len(df_revenue_by_customer_and_year))\n\ndf_spend_by_customer_and_year \u003d df.groupby([\u0027CUSTOMER_ID\u0027,\u0027CUSTOMER\u0027,\u0027REVENUE_YEAR\u0027]).GROSS_SPEND_AMOUNT.sum().reset_index()\nprint(len(df_spend_by_customer_and_year))\n\ndf_active_card_count_by_customer \u003d df_a.groupby([\u0027CUSTOMER_ID\u0027,\u0027CUSTOMER\u0027,\u0027YEAR_NUMBER\u0027]).ACTIVE_CARD_COUNT.sum().reset_index()\ndf_active_card_count_by_customer.columns \u003d [\u0027CUSTOMER_ID\u0027,\u0027CUSTOMER\u0027,\u0027REVENUE_YEAR\u0027,\u0027ACTIVE_CARD_COUNT\u0027]\nprint(len(df_active_card_count_by_customer))\n\ndf_customer_fleet_size \u003d df_active_card_count_by_customer.groupby([\u0027CUSTOMER_ID\u0027,\u0027CUSTOMER\u0027]).ACTIVE_CARD_COUNT.max().reset_index()\ndf_customer_fleet_size.columns \u003d [\u0027CUSTOMER_ID\u0027, \u0027CUSTOMER\u0027, \u0027FLEET_SIZE\u0027]\nprint(len(df_customer_fleet_size))"
      ],
      "outputs": [
        {
          "output_type": "stream",
          "text": "1777729\n",
          "name": "stdout"
        }
      ]
    },
    {
      "execution_count": 0,
      "cell_type": "code",
      "metadata": {},
      "source": [
        "print(len(df_revenue_by_customer_and_year))\ndf_j \u003d pd.merge(df_revenue_by_customer_and_year,df_spend_by_customer_and_year,how\u003d\u0027left\u0027,on\u003d[\u0027CUSTOMER_ID\u0027,\u0027CUSTOMER\u0027,\u0027REVENUE_YEAR\u0027])\nprint(len(df_j))\n\ndf_j \u003d pd.merge(df_j,df_active_card_count_by_customer,how\u003d\u0027left\u0027,on\u003d[\u0027CUSTOMER_ID\u0027,\u0027CUSTOMER\u0027,\u0027REVENUE_YEAR\u0027])\nprint(len(df_j))\n\ndf_j \u003d pd.merge(df_j,df_customer_fleet_size, how\u003d\u0027left\u0027,on\u003d[\u0027CUSTOMER_ID\u0027,\u0027CUSTOMER\u0027])\nprint(len(df_j))\n\ndf_j.loc[df_j.ACTIVE_CARD_COUNT.isnull(),\u0027ACTIVE_CARD_COUNT\u0027] \u003d 0\ndf_j.loc[df_j.FLEET_SIZE.isnull(),\u0027FLEET_SIZE\u0027] \u003d 0\n\ndf_j[\u0027FLEET_CATEGORY\u0027] \u003d \u0027NOT SET\u0027\ndf_j.loc[df_j.FLEET_SIZE.between(0,5),\u0027FLEET_CATEGORY\u0027] \u003d \u0027(\u003c\u003d5 cards)\u0027\ndf_j.loc[df_j.FLEET_SIZE.between(6,100),\u0027FLEET_CATEGORY\u0027] \u003d \u0027(between 6 and 100 cards)\u0027\ndf_j.loc[df_j.FLEET_SIZE\u003e50,\u0027FLEET_CATEGORY\u0027] \u003d \u0027(\u003e100 cards)\u0027\ndf_j.head()"
      ],
      "outputs": []
    },
    {
      "execution_count": 0,
      "cell_type": "code",
      "metadata": {},
      "source": [
        "df_j.FLEET_CATEGORY.unique()"
      ],
      "outputs": []
    },
    {
      "execution_count": 0,
      "cell_type": "code",
      "metadata": {},
      "source": [
        "df_revenue_by_year \u003d df_j.groupby([\u0027REVENUE_YEAR\u0027,\u0027FLEET_CATEGORY\u0027]).REVENUE_AMOUNT_USD.sum().reset_index()\ndf_revenue_by_year.head(10)"
      ],
      "outputs": []
    },
    {
      "execution_count": 0,
      "cell_type": "code",
      "metadata": {},
      "source": [
        "df_revenue_by_year.REVENUE_YEAR.value_counts()"
      ],
      "outputs": []
    },
    {
      "execution_count": 0,
      "cell_type": "code",
      "metadata": {},
      "source": [
        "import matplotlib.dates as mdates\nfrom matplotlib.ticker import FuncFormatter\n\nfig, ax1 \u003d plt.subplots(figsize\u003d(9,4))\n\n#[\u0027(\u003c\u003d5 cards)\u0027, \u0027(between 6 and 100 cards)\u0027, \u0027(\u003e100 cards)\u0027]\n\ndim1 \u003d list(map(str,df_revenue_by_year[df_revenue_by_year.FLEET_CATEGORY\u003d\u003d\u0027(\u003e100 cards)\u0027].REVENUE_YEAR))\ndata1 \u003d df_revenue_by_year[df_revenue_by_year.FLEET_CATEGORY\u003d\u003d\u0027(\u003e100 cards)\u0027].REVENUE_AMOUNT_USD\n\ndim2 \u003d list(map(str,df_revenue_by_year[df_revenue_by_year.FLEET_CATEGORY\u003d\u003d\u0027(between 6 and 100 cards)\u0027].REVENUE_YEAR))\ndata2 \u003d df_revenue_by_year[df_revenue_by_year.FLEET_CATEGORY\u003d\u003d\u0027(between 6 and 100 cards)\u0027].REVENUE_AMOUNT_USD\n\ndim3 \u003d list(map(str,df_revenue_by_year[df_revenue_by_year.FLEET_CATEGORY\u003d\u003d\u0027(\u003c\u003d5 cards)\u0027].REVENUE_YEAR))\ndata3 \u003d df_revenue_by_year[df_revenue_by_year.FLEET_CATEGORY\u003d\u003d\u0027(\u003c\u003d5 cards)\u0027].REVENUE_AMOUNT_USD\n\n#ax1.bar(dim1,data1, color\u003d\u0027#006BA2\u0027, width\u003d0.75)\n#ax1.bar(dim2,data2, bottom\u003ddata1, color\u003d\u0027#758D99\u0027, width\u003d0.75)\n#ax1.bar(dim3,data3, bottom\u003ddata2+data1, color\u003d\u0027#EBB434\u0027, width\u003d0.75)\n\nax1.plot(dim1,data1, color\u003d\u0027#006BA2\u0027)\nax1.plot(dim2,data2, color\u003d\u0027#758D99\u0027)\nax1.plot(dim3,data3, color\u003d\u0027#EBB434\u0027)\n\nax1.set_xlabel(\u0027YEAR\u0027, fontsize\u003d14)\nax1.set_ylabel(\u0027REVENUE\u0027, fontsize\u003d14)\n#ax1.set_ylim(ymin\u003d0, ymax\u003dmax_value*1.15)\nax1.yaxis.set_major_formatter(FuncFormatter(lambda x, p: format(int(x), \u0027,\u0027)))\nax1.grid(color\u003d\u0027#95a5a6\u0027, linestyle\u003d\u0027--\u0027, linewidth\u003d1, axis\u003d\u0027y\u0027, alpha\u003d0.6)\nfig.autofmt_xdate()\nplt.title(\u0027TURN THIS INTO A PROPER BAR\u0027)\nplt.legend([\u0027(\u003e100 cards)\u0027,\u0027(between 6 and 100 cards)\u0027,\u0027(\u003c\u003d5 cards)\u0027], bbox_to_anchor\u003d(1.05,1.0), loc\u003d\u0027upper left\u0027)\nplt.show()"
      ],
      "outputs": []
    },
    {
      "execution_count": 0,
      "cell_type": "code",
      "metadata": {},
      "source": [
        "df_spend_by_year \u003d df_j.groupby([\u0027REVENUE_YEAR\u0027,\u0027FLEET_CATEGORY\u0027]).GROSS_SPEND_AMOUNT.sum().reset_index()\ndf_spend_by_year.head(10)"
      ],
      "outputs": []
    },
    {
      "execution_count": 0,
      "cell_type": "code",
      "metadata": {},
      "source": [
        "import matplotlib.dates as mdates\nfrom matplotlib.ticker import FuncFormatter\n\nfig, ax1 \u003d plt.subplots(figsize\u003d(9,4))\n\ndim1 \u003d list(map(str,df_spend_by_year[df_spend_by_year.FLEET_CATEGORY\u003d\u003d\u0027(\u003e20 cards)\u0027].REVENUE_YEAR))\ndata1 \u003d df_spend_by_year[df_spend_by_year.FLEET_CATEGORY\u003d\u003d\u0027(\u003e20 cards)\u0027].GROSS_SPEND_AMOUNT\n\ndim2 \u003d list(map(str,df_spend_by_year[df_spend_by_year.FLEET_CATEGORY\u003d\u003d\u0027(\u003c\u003d20 cards)\u0027].REVENUE_YEAR))\ndata2 \u003d df_spend_by_year[df_spend_by_year.FLEET_CATEGORY\u003d\u003d\u0027(\u003c\u003d20 cards)\u0027].GROSS_SPEND_AMOUNT\n\nax1.bar(dim1,data1, color\u003d\u0027#006BA2\u0027, width\u003d0.75)\nax1.bar(dim2,data2, bottom\u003ddata1, color\u003d\u0027#758D99\u0027, width\u003d0.75)\n\nax1.set_xlabel(\u0027YEAR\u0027, fontsize\u003d14)\nax1.set_ylabel(\u0027SPEND\u0027, fontsize\u003d14)\n#ax1.set_ylim(ymin\u003d0, ymax\u003dmax_value*1.15)\nax1.yaxis.set_major_formatter(FuncFormatter(lambda x, p: format(int(x), \u0027,\u0027)))\nax1.grid(color\u003d\u0027#95a5a6\u0027, linestyle\u003d\u0027--\u0027, linewidth\u003d1, axis\u003d\u0027y\u0027, alpha\u003d0.6)\nfig.autofmt_xdate()\nplt.title(\u0027SPEND by YEAR\u0027)\nplt.legend([\u0027(\u003e20 cards)\u0027,\u0027(\u003c\u003d20 cards)\u0027], bbox_to_anchor\u003d(1.05,1.0), loc\u003d\u0027upper left\u0027)\nplt.show()"
      ],
      "outputs": []
    },
    {
      "execution_count": 0,
      "cell_type": "code",
      "metadata": {},
      "source": [
        "df_customer_by_year \u003d df_j.groupby([\u0027REVENUE_YEAR\u0027,\u0027FLEET_CATEGORY\u0027]).CUSTOMER_ID.nunique().reset_index()\ndf_customer_by_year.columns \u003d [\u0027REVENUE_YEAR\u0027, \u0027FLEET_CATEGORY\u0027, \u0027CUSTOMER_COUNT\u0027]\ndf_customer_by_year.head(10)"
      ],
      "outputs": []
    },
    {
      "execution_count": 0,
      "cell_type": "code",
      "metadata": {},
      "source": [
        "import matplotlib.dates as mdates\nfrom matplotlib.ticker import FuncFormatter\n\nfig, ax1 \u003d plt.subplots(figsize\u003d(9,4))\n\ndim1 \u003d list(map(str,df_customer_by_year[df_customer_by_year.FLEET_CATEGORY\u003d\u003d\u0027(\u003e20 cards)\u0027].REVENUE_YEAR))\ndata1 \u003d df_customer_by_year[df_customer_by_year.FLEET_CATEGORY\u003d\u003d\u0027(\u003e20 cards)\u0027].CUSTOMER_COUNT\n\ndim2 \u003d list(map(str,df_customer_by_year[df_customer_by_year.FLEET_CATEGORY\u003d\u003d\u0027(\u003c\u003d20 cards)\u0027].REVENUE_YEAR))\ndata2 \u003d df_customer_by_year[df_customer_by_year.FLEET_CATEGORY\u003d\u003d\u0027(\u003c\u003d20 cards)\u0027].CUSTOMER_COUNT\n\nax1.bar(dim1,data1, color\u003d\u0027#006BA2\u0027, width\u003d0.75)\nax1.bar(dim2,data2, bottom\u003ddata1, color\u003d\u0027#758D99\u0027, width\u003d0.75)\n\nax1.set_xlabel(\u0027YEAR\u0027, fontsize\u003d14)\nax1.set_ylabel(\u0027CUSTOMER COUNT\u0027, fontsize\u003d14)\n#ax1.set_ylim(ymin\u003d0, ymax\u003dmax_value*1.15)\nax1.yaxis.set_major_formatter(FuncFormatter(lambda x, p: format(int(x), \u0027,\u0027)))\nax1.grid(color\u003d\u0027#95a5a6\u0027, linestyle\u003d\u0027--\u0027, linewidth\u003d1, axis\u003d\u0027y\u0027, alpha\u003d0.6)\nfig.autofmt_xdate()\nplt.title(\u0027CUSTOMER COUNT by YEAR\u0027)\nplt.legend([\u0027(\u003e20 cards)\u0027,\u0027(\u003c\u003d20 cards)\u0027], bbox_to_anchor\u003d(1.05,1.0), loc\u003d\u0027upper left\u0027)\nplt.show()"
      ],
      "outputs": []
    },
    {
      "execution_count": 0,
      "cell_type": "code",
      "metadata": {},
      "source": [
        "df_active_cards_by_year \u003d df_j.groupby([\u0027REVENUE_YEAR\u0027,\u0027FLEET_CATEGORY\u0027]).ACTIVE_CARD_COUNT.sum().reset_index()\ndf_active_cards_by_year.head(10)"
      ],
      "outputs": []
    },
    {
      "execution_count": 0,
      "cell_type": "code",
      "metadata": {},
      "source": [
        "import matplotlib.dates as mdates\nfrom matplotlib.ticker import FuncFormatter\n\nfig, ax1 \u003d plt.subplots(figsize\u003d(9,4))\n\ndim1 \u003d list(map(str,df_active_cards_by_year[df_active_cards_by_year.FLEET_CATEGORY\u003d\u003d\u0027(\u003e20 cards)\u0027].REVENUE_YEAR))\ndata1 \u003d df_active_cards_by_year[df_active_cards_by_year.FLEET_CATEGORY\u003d\u003d\u0027(\u003e20 cards)\u0027].ACTIVE_CARD_COUNT\n\ndim2 \u003d list(map(str,df_active_cards_by_year[df_active_cards_by_year.FLEET_CATEGORY\u003d\u003d\u0027(\u003c\u003d20 cards)\u0027].REVENUE_YEAR))\ndata2 \u003d df_active_cards_by_year[df_active_cards_by_year.FLEET_CATEGORY\u003d\u003d\u0027(\u003c\u003d20 cards)\u0027].ACTIVE_CARD_COUNT\n\nax1.bar(dim1,data1, color\u003d\u0027#006BA2\u0027, width\u003d0.75)\nax1.bar(dim2,data2, bottom\u003ddata1, color\u003d\u0027#758D99\u0027, width\u003d0.75)\n\nax1.set_xlabel(\u0027YEAR\u0027, fontsize\u003d14)\nax1.set_ylabel(\u0027ACTIVE CARDS\u0027, fontsize\u003d14)\n#ax1.set_ylim(ymin\u003d0, ymax\u003dmax_value*1.15)\nax1.yaxis.set_major_formatter(FuncFormatter(lambda x, p: format(int(x), \u0027,\u0027)))\nax1.grid(color\u003d\u0027#95a5a6\u0027, linestyle\u003d\u0027--\u0027, linewidth\u003d1, axis\u003d\u0027y\u0027, alpha\u003d0.6)\nfig.autofmt_xdate()\nplt.title(\u0027ACTIVE CARD COUNT by YEAR\u0027)\nplt.legend([\u0027(\u003e20 cards)\u0027,\u0027(\u003c\u003d20 cards)\u0027], bbox_to_anchor\u003d(1.05,1.0), loc\u003d\u0027upper left\u0027)\nplt.show()"
      ],
      "outputs": []
    },
    {
      "execution_count": 0,
      "cell_type": "code",
      "metadata": {},
      "source": [
        "# Compute recipe outputs\n# TODO: Write here your actual code that computes the outputs\n# NB: DSS supports several kinds of APIs for reading and writing data. Please see doc.\n\n#RETENTION_RATE_BY_GROUP_df \u003d ... # Compute a Pandas dataframe to write into RETENTION_RATE_BY_GROUP\n\n# Write recipe outputs\n#RETENTION_RATE_BY_GROUP \u003d dataiku.Dataset(\"RETENTION_RATE_BY_GROUP\")\n#RETENTION_RATE_BY_GROUP.write_with_schema(RETENTION_RATE_BY_GROUP_df)"
      ],
      "outputs": []
    }
  ]
}