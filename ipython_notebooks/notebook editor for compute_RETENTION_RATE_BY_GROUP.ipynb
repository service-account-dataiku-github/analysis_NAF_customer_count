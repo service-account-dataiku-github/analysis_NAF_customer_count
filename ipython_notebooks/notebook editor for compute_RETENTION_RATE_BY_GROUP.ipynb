{
  "metadata": {
    "kernelspec": {
      "name": "py-dku-venv-env_clc",
      "display_name": "Python (env env_clc)",
      "language": "python"
    },
    "associatedRecipe": "compute_RETENTION_RATE_BY_GROUP",
    "creator": "Daniel.Vandermeer",
    "createdOn": 1676846218964,
    "tags": [
      "recipe-editor"
    ],
    "customFields": {},
    "hide_input": false,
    "language_info": {
      "name": "python",
      "version": "3.6.8",
      "mimetype": "text/x-python",
      "codemirror_mode": {
        "name": "ipython",
        "version": 3
      },
      "pygments_lexer": "ipython3",
      "nbconvert_exporter": "python",
      "file_extension": ".py"
    },
    "modifiedBy": "Daniel.Vandermeer"
  },
  "nbformat": 4,
  "nbformat_minor": 1,
  "cells": [
    {
      "execution_count": 1,
      "cell_type": "code",
      "metadata": {},
      "source": [
        "# -*- coding: utf-8 -*-\nimport dataiku\nimport pandas as pd, numpy as np\nfrom dataiku import pandasutils as pdu\n\nfrom datetime import date, datetime, timedelta\nimport matplotlib.pyplot as plt\nimport time\n\nt0 \u003d time.time()\n\nprint(\"loading...\")\n\n# Read recipe inputs\nNAFCUSTOMER_ACCOUNT_ANNUAL_ACTIVE_CARD_COUNT \u003d dataiku.Dataset(\"NAFCUSTOMER_ACCOUNT_ANNUAL_ACTIVE_CARD_COUNT\")\nNAFCUSTOMER_ACCOUNT_ANNUAL_ACTIVE_CARD_COUNT_df \u003d NAFCUSTOMER_ACCOUNT_ANNUAL_ACTIVE_CARD_COUNT.get_dataframe()\n\nNAFCUSTOMER_REVENUE_AGGREGATED \u003d dataiku.Dataset(\"NAFCUSTOMER_REVENUE_AGGREGATED\")\nNAFCUSTOMER_REVENUE_AGGREGATED_df \u003d NAFCUSTOMER_REVENUE_AGGREGATED.get_dataframe()\n\nt1 \u003d time.time()\nprint(\"load duration\", (t1-t0)/60.0, \"minutes\")"
      ],
      "outputs": [
        {
          "output_type": "stream",
          "text": "loading...\nload duration 9.379929351806641 minutes\n",
          "name": "stdout"
        }
      ]
    },
    {
      "execution_count": 2,
      "cell_type": "code",
      "metadata": {},
      "source": [
        "print(len(NAFCUSTOMER_ACCOUNT_ANNUAL_ACTIVE_CARD_COUNT_df), \"rows in NAFCUSTOMER_ACCOUNT_ANNUAL_ACTIVE_CARD_COUNT\")\ndf_a \u003d NAFCUSTOMER_ACCOUNT_ANNUAL_ACTIVE_CARD_COUNT_df.copy()\n\nprint(len(NAFCUSTOMER_REVENUE_AGGREGATED_df), \"rows in NAFCUSTOMER_REVENUE_AGGREGATED\")\ndf \u003d NAFCUSTOMER_REVENUE_AGGREGATED_df.copy()"
      ],
      "outputs": [
        {
          "output_type": "stream",
          "text": "2319568 rows in NAFCUSTOMER_ACCOUNT_ANNUAL_ACTIVE_CARD_COUNT\n18075044 rows in NAFCUSTOMER_REVENUE_AGGREGATED\n",
          "name": "stdout"
        }
      ]
    },
    {
      "execution_count": 34,
      "cell_type": "code",
      "metadata": {},
      "source": [
        "df_active_card_count_by_customer \u003d df_a.groupby([\u0027CUSTOMER_ID\u0027,\u0027CUSTOMER\u0027,\u0027YEAR_NUMBER\u0027]).ACTIVE_CARD_COUNT.sum().reset_index()\ndf_active_card_count_by_customer[\u0027FLEET_SIZE\u0027] \u003d \u0027NOT SET\u0027\ndf_active_card_count_by_customer.loc[df_active_card_count_by_customer.ACTIVE_CARD_COUNT.between(0,20),\u0027FLEET_SIZE\u0027] \u003d \u0027(\u003c\u003d20 cards)\u0027\ndf_active_card_count_by_customer.loc[df_active_card_count_by_customer.ACTIVE_CARD_COUNT\u003e20,\u0027FLEET_SIZE\u0027] \u003d \u0027(\u003e20 cards)\u0027\n\ndf_active_card_count_by_year \u003d df_active_card_count_by_customer.groupby([\u0027YEAR_NUMBER\u0027,\u0027FLEET_SIZE\u0027]).ACTIVE_CARD_COUNT.sum().reset_index()\ndf_active_card_count_by_year.head(10)"
      ],
      "outputs": [
        {
          "output_type": "execute_result",
          "execution_count": 34,
          "data": {
            "text/plain": "   YEAR_NUMBER    FLEET_SIZE  ACTIVE_CARD_COUNT\n0         2019  (\u003c\u003d20 cards)            1937429\n1         2019   (\u003e20 cards)            6477104\n2         2020  (\u003c\u003d20 cards)            1966134\n3         2020   (\u003e20 cards)            6142386\n4         2021  (\u003c\u003d20 cards)            2141029\n5         2021   (\u003e20 cards)            6650870\n6         2022  (\u003c\u003d20 cards)            2310830\n7         2022   (\u003e20 cards)            7639200",
            "text/html": "\u003cdiv\u003e\n\u003cstyle scoped\u003e\n    .dataframe tbody tr th:only-of-type {\n        vertical-align: middle;\n    }\n\n    .dataframe tbody tr th {\n        vertical-align: top;\n    }\n\n    .dataframe thead th {\n        text-align: right;\n    }\n\u003c/style\u003e\n\u003ctable border\u003d\"1\" class\u003d\"dataframe\"\u003e\n  \u003cthead\u003e\n    \u003ctr style\u003d\"text-align: right;\"\u003e\n      \u003cth\u003e\u003c/th\u003e\n      \u003cth\u003eYEAR_NUMBER\u003c/th\u003e\n      \u003cth\u003eFLEET_SIZE\u003c/th\u003e\n      \u003cth\u003eACTIVE_CARD_COUNT\u003c/th\u003e\n    \u003c/tr\u003e\n  \u003c/thead\u003e\n  \u003ctbody\u003e\n    \u003ctr\u003e\n      \u003cth\u003e0\u003c/th\u003e\n      \u003ctd\u003e2019\u003c/td\u003e\n      \u003ctd\u003e(\u0026lt;\u003d20 cards)\u003c/td\u003e\n      \u003ctd\u003e1937429\u003c/td\u003e\n    \u003c/tr\u003e\n    \u003ctr\u003e\n      \u003cth\u003e1\u003c/th\u003e\n      \u003ctd\u003e2019\u003c/td\u003e\n      \u003ctd\u003e(\u0026gt;20 cards)\u003c/td\u003e\n      \u003ctd\u003e6477104\u003c/td\u003e\n    \u003c/tr\u003e\n    \u003ctr\u003e\n      \u003cth\u003e2\u003c/th\u003e\n      \u003ctd\u003e2020\u003c/td\u003e\n      \u003ctd\u003e(\u0026lt;\u003d20 cards)\u003c/td\u003e\n      \u003ctd\u003e1966134\u003c/td\u003e\n    \u003c/tr\u003e\n    \u003ctr\u003e\n      \u003cth\u003e3\u003c/th\u003e\n      \u003ctd\u003e2020\u003c/td\u003e\n      \u003ctd\u003e(\u0026gt;20 cards)\u003c/td\u003e\n      \u003ctd\u003e6142386\u003c/td\u003e\n    \u003c/tr\u003e\n    \u003ctr\u003e\n      \u003cth\u003e4\u003c/th\u003e\n      \u003ctd\u003e2021\u003c/td\u003e\n      \u003ctd\u003e(\u0026lt;\u003d20 cards)\u003c/td\u003e\n      \u003ctd\u003e2141029\u003c/td\u003e\n    \u003c/tr\u003e\n    \u003ctr\u003e\n      \u003cth\u003e5\u003c/th\u003e\n      \u003ctd\u003e2021\u003c/td\u003e\n      \u003ctd\u003e(\u0026gt;20 cards)\u003c/td\u003e\n      \u003ctd\u003e6650870\u003c/td\u003e\n    \u003c/tr\u003e\n    \u003ctr\u003e\n      \u003cth\u003e6\u003c/th\u003e\n      \u003ctd\u003e2022\u003c/td\u003e\n      \u003ctd\u003e(\u0026lt;\u003d20 cards)\u003c/td\u003e\n      \u003ctd\u003e2310830\u003c/td\u003e\n    \u003c/tr\u003e\n    \u003ctr\u003e\n      \u003cth\u003e7\u003c/th\u003e\n      \u003ctd\u003e2022\u003c/td\u003e\n      \u003ctd\u003e(\u0026gt;20 cards)\u003c/td\u003e\n      \u003ctd\u003e7639200\u003c/td\u003e\n    \u003c/tr\u003e\n  \u003c/tbody\u003e\n\u003c/table\u003e\n\u003c/div\u003e"
          },
          "metadata": {}
        }
      ]
    },
    {
      "execution_count": 38,
      "cell_type": "code",
      "metadata": {},
      "source": [
        "list(map(str,df_active_card_count_by_year[df_active_card_count_by_year.FLEET_SIZE\u003d\u003d\u0027(\u003c\u003d20 cards)\u0027].YEAR_NUMBER))\n#df_active_card_count_by_year[df_active_card_count_by_year.FLEET_SIZE\u003d\u003d\u0027(\u003c\u003d20 cards)\u0027].ACTIVE_CARD_COUNT"
      ],
      "outputs": [
        {
          "output_type": "execute_result",
          "execution_count": 38,
          "data": {
            "text/plain": "[\u00272019\u0027, \u00272020\u0027, \u00272021\u0027, \u00272022\u0027]"
          },
          "metadata": {}
        }
      ]
    },
    {
      "execution_count": 35,
      "cell_type": "code",
      "metadata": {},
      "source": [
        "import matplotlib.dates as mdates\nfrom matplotlib.ticker import FuncFormatter\n\n#chart_revenue_year \u003d [] \n#for y in df_active_card_count_by_year.YEAR_NUMBER.tolist():\n#    chart_revenue_year.append(str(y))\n    \nfig, ax1 \u003d plt.subplots(figsize\u003d(8,3))\n\n\n\nax1.plot( marker\u003d\u0027o\u0027)\nax1.set_xlabel(\u0027YEAR\u0027, fontsize\u003d14)\nax1.set_ylabel(\u0027ACTIVE CARDS\u0027, fontsize\u003d14)\nax1.grid()\nax1.set_ylim(ymin\u003d0, ymax\u003dmax_value*1.15)\nax1.yaxis.set_major_formatter(FuncFormatter(lambda x, p: format(int(x), \u0027,\u0027)))\nfig.autofmt_xdate()\nplt.show()"
      ],
      "outputs": [
        {
          "output_type": "error",
          "ename": "SyntaxError",
          "evalue": "invalid syntax (\u003cipython-input-35-a1b22000398e\u003e, line 10)",
          "traceback": [
            "\u001b[0;36m  File \u001b[0;32m\"\u003cipython-input-35-a1b22000398e\u003e\"\u001b[0;36m, line \u001b[0;32m10\u001b[0m\n\u001b[0;31m    ax1.plot(df_active_card_count_by_year[df_active_card_count_by_year.FLEET_SIZE\u003d\u003d\u0027(\u003c\u003d20 cards)\u0027.YEAR_NUMBER,df_active_card_count_by_year[df_active_card_count_by_year.FLEET_SIZE\u003d\u003d\u0027(\u003c\u003d20 cards)\u0027.ACTIVE_CARD_COUNT, marker\u003d\u0027o\u0027)\u001b[0m\n\u001b[0m                                                                                                                                                                                                                            ^\u001b[0m\n\u001b[0;31mSyntaxError\u001b[0m\u001b[0;31m:\u001b[0m invalid syntax\n"
          ]
        }
      ]
    },
    {
      "execution_count": 30,
      "cell_type": "code",
      "metadata": {},
      "source": [
        "import matplotlib.dates as mdates\nfrom matplotlib.ticker import FuncFormatter\n\nchart_revenue_year \u003d [] \nfor y in df_active_card_count_by_year.YEAR_NUMBER.tolist():\n    chart_revenue_year.append(str(y))\n    \nfig, ax1 \u003d plt.subplots(figsize\u003d(8,5))\nax1.bar(chart_revenue_year, df_active_card_count_by_year[\u0027ACTIVE_CARD_COUNT\u0027], width\u003d0.6)\nax1.set_xlabel(\u0027YEAR\u0027, fontsize\u003d14)\nax1.set_ylabel(\u0027ACTIVE CARDS\u0027, fontsize\u003d14)\nax1.yaxis.set_major_formatter(FuncFormatter(lambda x, p: format(int(x), \u0027,\u0027)))\nax1.set_ylim(ymin\u003d0, ymax\u003dmax_value*1.15)\nax1.grid(color\u003d\u0027#95a5a6\u0027, linestyle\u003d\u0027--\u0027, linewidth\u003d1, axis\u003d\u0027y\u0027, alpha\u003d0.6)\nplt.show()"
      ],
      "outputs": [
        {
          "output_type": "display_data",
          "data": {
            "text/plain": "\u003cFigure size 576x360 with 1 Axes\u003e",
            "image/png": "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\u003d\u003d\n"
          },
          "metadata": {}
        }
      ]
    },
    {
      "execution_count": 0,
      "cell_type": "code",
      "metadata": {},
      "source": [
        ""
      ],
      "outputs": []
    },
    {
      "execution_count": 0,
      "cell_type": "code",
      "metadata": {},
      "source": [
        "# Compute recipe outputs\n# TODO: Write here your actual code that computes the outputs\n# NB: DSS supports several kinds of APIs for reading and writing data. Please see doc.\n\n#RETENTION_RATE_BY_GROUP_df \u003d ... # Compute a Pandas dataframe to write into RETENTION_RATE_BY_GROUP\n\n# Write recipe outputs\n#RETENTION_RATE_BY_GROUP \u003d dataiku.Dataset(\"RETENTION_RATE_BY_GROUP\")\n#RETENTION_RATE_BY_GROUP.write_with_schema(RETENTION_RATE_BY_GROUP_df)"
      ],
      "outputs": []
    }
  ]
}