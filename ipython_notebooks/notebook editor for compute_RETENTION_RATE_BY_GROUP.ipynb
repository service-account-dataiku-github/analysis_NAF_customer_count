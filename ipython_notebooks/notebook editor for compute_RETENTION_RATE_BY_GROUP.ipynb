{
  "metadata": {
    "kernelspec": {
      "name": "py-dku-venv-env_clc",
      "display_name": "Python (env env_clc)",
      "language": "python"
    },
    "associatedRecipe": "compute_RETENTION_RATE_BY_GROUP",
    "creator": "Daniel.Vandermeer",
    "createdOn": 1676846218964,
    "tags": [
      "recipe-editor"
    ],
    "customFields": {},
    "hide_input": false,
    "language_info": {
      "name": "python",
      "version": "3.6.8",
      "mimetype": "text/x-python",
      "codemirror_mode": {
        "name": "ipython",
        "version": 3
      },
      "pygments_lexer": "ipython3",
      "nbconvert_exporter": "python",
      "file_extension": ".py"
    },
    "modifiedBy": "Daniel.Vandermeer"
  },
  "nbformat": 4,
  "nbformat_minor": 1,
  "cells": [
    {
      "execution_count": 1,
      "cell_type": "code",
      "metadata": {},
      "source": [
        "# -*- coding: utf-8 -*-\nimport dataiku\nimport pandas as pd, numpy as np\nfrom dataiku import pandasutils as pdu\n\nfrom datetime import date, datetime, timedelta\nimport matplotlib.pyplot as plt\nimport time\n\nt0 \u003d time.time()\n\nprint(\"loading...\")\n\n# Read recipe inputs\nNAFCUSTOMER_ACCOUNT_ANNUAL_ACTIVE_CARD_COUNT \u003d dataiku.Dataset(\"NAFCUSTOMER_ACCOUNT_ANNUAL_ACTIVE_CARD_COUNT\")\nNAFCUSTOMER_ACCOUNT_ANNUAL_ACTIVE_CARD_COUNT_df \u003d NAFCUSTOMER_ACCOUNT_ANNUAL_ACTIVE_CARD_COUNT.get_dataframe()\n\nNAFCUSTOMER_REVENUE_AGGREGATED \u003d dataiku.Dataset(\"NAFCUSTOMER_REVENUE_AGGREGATED\")\nNAFCUSTOMER_REVENUE_AGGREGATED_df \u003d NAFCUSTOMER_REVENUE_AGGREGATED.get_dataframe()\n\nt1 \u003d time.time()\nprint(\"load duration\", (t1-t0)/60.0, \"minutes\")"
      ],
      "outputs": [
        {
          "output_type": "stream",
          "text": "loading...\nload duration 9.379929351806641 minutes\n",
          "name": "stdout"
        }
      ]
    },
    {
      "execution_count": 2,
      "cell_type": "code",
      "metadata": {},
      "source": [
        "print(len(NAFCUSTOMER_ACCOUNT_ANNUAL_ACTIVE_CARD_COUNT_df), \"rows in NAFCUSTOMER_ACCOUNT_ANNUAL_ACTIVE_CARD_COUNT\")\ndf_a \u003d NAFCUSTOMER_ACCOUNT_ANNUAL_ACTIVE_CARD_COUNT_df.copy()\n\nprint(len(NAFCUSTOMER_REVENUE_AGGREGATED_df), \"rows in NAFCUSTOMER_REVENUE_AGGREGATED\")\ndf \u003d NAFCUSTOMER_REVENUE_AGGREGATED_df.copy()"
      ],
      "outputs": [
        {
          "output_type": "stream",
          "text": "2319568 rows in NAFCUSTOMER_ACCOUNT_ANNUAL_ACTIVE_CARD_COUNT\n18075044 rows in NAFCUSTOMER_REVENUE_AGGREGATED\n",
          "name": "stdout"
        }
      ]
    },
    {
      "execution_count": 13,
      "cell_type": "code",
      "metadata": {},
      "source": [
        "df_active_card_count_by_customer \u003d df_a.groupby([\u0027CUSTOMER_ID\u0027,\u0027CUSTOMER\u0027,\u0027YEAR_NUMBER\u0027]).ACTIVE_CARD_COUNT.sum().reset_index()\ndf_active_card_count_by_customer.head()\n\ndf_active_card_count_by_year \u003d df_active_card_count_by_customer.groupby(\u0027YEAR_NUMBER\u0027).ACTIVE_CARD_COUNT.sum().reset_index()\ndf_active_card_count_by_year.head(10)"
      ],
      "outputs": [
        {
          "output_type": "execute_result",
          "execution_count": 13,
          "data": {
            "text/plain": "   YEAR_NUMBER  ACTIVE_CARD_COUNT\n0         2019            8414533\n1         2020            8108520\n2         2021            8791899\n3         2022            9950030",
            "text/html": "\u003cdiv\u003e\n\u003cstyle scoped\u003e\n    .dataframe tbody tr th:only-of-type {\n        vertical-align: middle;\n    }\n\n    .dataframe tbody tr th {\n        vertical-align: top;\n    }\n\n    .dataframe thead th {\n        text-align: right;\n    }\n\u003c/style\u003e\n\u003ctable border\u003d\"1\" class\u003d\"dataframe\"\u003e\n  \u003cthead\u003e\n    \u003ctr style\u003d\"text-align: right;\"\u003e\n      \u003cth\u003e\u003c/th\u003e\n      \u003cth\u003eYEAR_NUMBER\u003c/th\u003e\n      \u003cth\u003eACTIVE_CARD_COUNT\u003c/th\u003e\n    \u003c/tr\u003e\n  \u003c/thead\u003e\n  \u003ctbody\u003e\n    \u003ctr\u003e\n      \u003cth\u003e0\u003c/th\u003e\n      \u003ctd\u003e2019\u003c/td\u003e\n      \u003ctd\u003e8414533\u003c/td\u003e\n    \u003c/tr\u003e\n    \u003ctr\u003e\n      \u003cth\u003e1\u003c/th\u003e\n      \u003ctd\u003e2020\u003c/td\u003e\n      \u003ctd\u003e8108520\u003c/td\u003e\n    \u003c/tr\u003e\n    \u003ctr\u003e\n      \u003cth\u003e2\u003c/th\u003e\n      \u003ctd\u003e2021\u003c/td\u003e\n      \u003ctd\u003e8791899\u003c/td\u003e\n    \u003c/tr\u003e\n    \u003ctr\u003e\n      \u003cth\u003e3\u003c/th\u003e\n      \u003ctd\u003e2022\u003c/td\u003e\n      \u003ctd\u003e9950030\u003c/td\u003e\n    \u003c/tr\u003e\n  \u003c/tbody\u003e\n\u003c/table\u003e\n\u003c/div\u003e"
          },
          "metadata": {}
        }
      ]
    },
    {
      "execution_count": 14,
      "cell_type": "code",
      "metadata": {},
      "source": [
        "import matplotlib.dates as mdates\nfrom matplotlib.ticker import FuncFormatter\n\nchart_revenue_year \u003d [] \nfor y in df_active_card_count_by_year.YEAR_NUMBER.tolist():\n    chart_revenue_year.append(str(y))\n    \nfig, ax1 \u003d plt.subplots(figsize\u003d(8,3))\nax1.plot(chart_revenue_year,df_active_card_count_by_year[\u0027ACTIVE_CARD_COUNT\u0027], marker\u003d\u0027o\u0027)\nax1.set_xlabel(\u0027YEAR\u0027, fontsize\u003d14)\nax1.set_ylabel(\u0027ACTIVE CARDS\u0027, fontsize\u003d14)\nax1.grid()\nax1.set_ylim(ymin\u003d0, ymax\u003dmax_value*1.15)\nax1.yaxis.set_major_formatter(FuncFormatter(lambda x, p: format(int(x), \u0027,\u0027)))\nfig.autofmt_xdate()\n#ax1.xaxis.set_major_locator(mdates.YearLocator())\nplt.show()\n\ndf_active_card_count_by_customer.head()"
      ],
      "outputs": [
        {
          "output_type": "display_data",
          "data": {
            "text/plain": "\u003cFigure size 576x216 with 1 Axes\u003e",
            "image/png": "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\u003d\u003d\n"
          },
          "metadata": {}
        },
        {
          "output_type": "execute_result",
          "execution_count": 14,
          "data": {
            "text/plain": "   CUSTOMER_ID                       CUSTOMER  YEAR_NUMBER  ACTIVE_CARD_COUNT\n0     77000000               1 AUTO PARTS INC         2019                  1\n1     77000001   94775 J AND J SNACK FOODS AA         2022                  3\n2     77000002          APOSTROPHE DESIGN INC         2019                  4\n3     77000002          APOSTROPHE DESIGN INC         2020                  4\n4     77000002          APOSTROPHE DESIGN INC         2021                  8",
            "text/html": "\u003cdiv\u003e\n\u003cstyle scoped\u003e\n    .dataframe tbody tr th:only-of-type {\n        vertical-align: middle;\n    }\n\n    .dataframe tbody tr th {\n        vertical-align: top;\n    }\n\n    .dataframe thead th {\n        text-align: right;\n    }\n\u003c/style\u003e\n\u003ctable border\u003d\"1\" class\u003d\"dataframe\"\u003e\n  \u003cthead\u003e\n    \u003ctr style\u003d\"text-align: right;\"\u003e\n      \u003cth\u003e\u003c/th\u003e\n      \u003cth\u003eCUSTOMER_ID\u003c/th\u003e\n      \u003cth\u003eCUSTOMER\u003c/th\u003e\n      \u003cth\u003eYEAR_NUMBER\u003c/th\u003e\n      \u003cth\u003eACTIVE_CARD_COUNT\u003c/th\u003e\n    \u003c/tr\u003e\n  \u003c/thead\u003e\n  \u003ctbody\u003e\n    \u003ctr\u003e\n      \u003cth\u003e0\u003c/th\u003e\n      \u003ctd\u003e77000000\u003c/td\u003e\n      \u003ctd\u003e1 AUTO PARTS INC\u003c/td\u003e\n      \u003ctd\u003e2019\u003c/td\u003e\n      \u003ctd\u003e1\u003c/td\u003e\n    \u003c/tr\u003e\n    \u003ctr\u003e\n      \u003cth\u003e1\u003c/th\u003e\n      \u003ctd\u003e77000001\u003c/td\u003e\n      \u003ctd\u003e94775 J AND J SNACK FOODS AA\u003c/td\u003e\n      \u003ctd\u003e2022\u003c/td\u003e\n      \u003ctd\u003e3\u003c/td\u003e\n    \u003c/tr\u003e\n    \u003ctr\u003e\n      \u003cth\u003e2\u003c/th\u003e\n      \u003ctd\u003e77000002\u003c/td\u003e\n      \u003ctd\u003eAPOSTROPHE DESIGN INC\u003c/td\u003e\n      \u003ctd\u003e2019\u003c/td\u003e\n      \u003ctd\u003e4\u003c/td\u003e\n    \u003c/tr\u003e\n    \u003ctr\u003e\n      \u003cth\u003e3\u003c/th\u003e\n      \u003ctd\u003e77000002\u003c/td\u003e\n      \u003ctd\u003eAPOSTROPHE DESIGN INC\u003c/td\u003e\n      \u003ctd\u003e2020\u003c/td\u003e\n      \u003ctd\u003e4\u003c/td\u003e\n    \u003c/tr\u003e\n    \u003ctr\u003e\n      \u003cth\u003e4\u003c/th\u003e\n      \u003ctd\u003e77000002\u003c/td\u003e\n      \u003ctd\u003eAPOSTROPHE DESIGN INC\u003c/td\u003e\n      \u003ctd\u003e2021\u003c/td\u003e\n      \u003ctd\u003e8\u003c/td\u003e\n    \u003c/tr\u003e\n  \u003c/tbody\u003e\n\u003c/table\u003e\n\u003c/div\u003e"
          },
          "metadata": {}
        }
      ]
    },
    {
      "execution_count": 0,
      "cell_type": "code",
      "metadata": {},
      "source": [
        "# Compute recipe outputs\n# TODO: Write here your actual code that computes the outputs\n# NB: DSS supports several kinds of APIs for reading and writing data. Please see doc.\n\n#RETENTION_RATE_BY_GROUP_df \u003d ... # Compute a Pandas dataframe to write into RETENTION_RATE_BY_GROUP\n\n# Write recipe outputs\n#RETENTION_RATE_BY_GROUP \u003d dataiku.Dataset(\"RETENTION_RATE_BY_GROUP\")\n#RETENTION_RATE_BY_GROUP.write_with_schema(RETENTION_RATE_BY_GROUP_df)"
      ],
      "outputs": []
    }
  ]
}