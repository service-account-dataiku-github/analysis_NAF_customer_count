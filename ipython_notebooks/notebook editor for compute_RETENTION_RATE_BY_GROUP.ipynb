{
  "nbformat": 4,
  "nbformat_minor": 0,
  "metadata": {
    "kernelspec": {
      "display_name": "Python in cpu-m-cpu-3-mem-4Gb (builtin env)",
      "language": "python",
      "name": "py-dku-containerized-venv--cpu-m-cpu-3-mem-4gb"
    },
    "associatedRecipe": "compute_RETENTION_RATE_BY_GROUP",
    "dkuGit": {
      "lastInteraction": 0
    },
    "creationTag": {
      "versionNumber": 0,
      "lastModifiedBy": {
        "login": "Daniel.Vandermeer"
      },
      "lastModifiedOn": 1676846218964
    },
    "creator": "Daniel.Vandermeer",
    "createdOn": 1676846218964,
    "tags": [
      "recipe-editor"
    ],
    "customFields": {}
  },
  "cells": [
    {
      "cell_type": "code",
      "metadata": {},
      "outputs": [],
      "execution_count": 0,
      "source": [
        "# -*- coding: utf-8 -*-\n",
        "import dataiku\n",
        "import pandas as pd, numpy as np\n",
        "from dataiku import pandasutils as pdu\n",
        "\n",
        "from datetime import date, datetime, timedelta\n",
        "import matplotlib.pyplot as plt\n",
        "import time\n",
        "\n",
        "t0 \u003d time.time()\n",
        "\n",
        "print(\"loading...\")\n",
        "\n",
        "# Read recipe inputs\n",
        "NAFCUSTOMER_ACCOUNT_ANNUAL_ACTIVE_CARD_COUNT \u003d dataiku.Dataset(\"NAFCUSTOMER_ACCOUNT_ANNUAL_ACTIVE_CARD_COUNT\")\n",
        "NAFCUSTOMER_ACCOUNT_ANNUAL_ACTIVE_CARD_COUNT_df \u003d NAFCUSTOMER_ACCOUNT_ANNUAL_ACTIVE_CARD_COUNT.get_dataframe()\n",
        "\n",
        "NAFCUSTOMER_REVENUE_AGGREGATED \u003d dataiku.Dataset(\"NAFCUSTOMER_REVENUE_AGGREGATED\")\n",
        "NAFCUSTOMER_REVENUE_AGGREGATED_df \u003d NAFCUSTOMER_REVENUE_AGGREGATED.get_dataframe()\n",
        "\n",
        "t1 \u003d time.time()\n",
        "print(\"load duration\", (t1-t0)/60.0, \"minutes\")"
      ]
    },
    {
      "cell_type": "code",
      "metadata": {},
      "outputs": [],
      "execution_count": 0,
      "source": [
        "print(len(NAFCUSTOMER_ACCOUNT_ANNUAL_ACTIVE_CARD_COUNT_df), \"rows in NAFCUSTOMER_ACCOUNT_ANNUAL_ACTIVE_CARD_COUNT\")\n",
        "df_a \u003d NAFCUSTOMER_ACCOUNT_ANNUAL_ACTIVE_CARD_COUNT_df.copy()\n",
        "\n",
        "print(len(NAFCUSTOMER_REVENUE_AGGREGATED_df), \"rows in NAFCUSTOMER_REVENUE_AGGREGATED\")\n",
        "df \u003d NAFCUSTOMER_REVENUE_AGGREGATED_df.copy()\n",
        "df \u003d df[df.REVENUE_YEAR!\u003d2023]\n",
        "print(len(df))"
      ]
    },
    {
      "cell_type": "code",
      "metadata": {},
      "outputs": [],
      "execution_count": 0,
      "source": [
        "df.head()"
      ]
    },
    {
      "cell_type": "code",
      "metadata": {},
      "outputs": [],
      "execution_count": 0,
      "source": [
        "df_revenue_by_customer_and_year \u003d df.groupby([\u0027CUSTOMER_ID\u0027,\u0027CUSTOMER\u0027,\u0027REVENUE_YEAR\u0027]).REVENUE_AMOUNT_USD.sum().reset_index()\n",
        "print(len(df_revenue_by_customer_and_year))\n",
        "\n",
        "df_spend_by_customer_and_year \u003d df.groupby([\u0027CUSTOMER_ID\u0027,\u0027CUSTOMER\u0027,\u0027REVENUE_YEAR\u0027]).GROSS_SPEND_AMOUNT.sum().reset_index()\n",
        "print(len(df_spend_by_customer_and_year))\n",
        "\n",
        "df_active_card_count_by_customer \u003d df_a.groupby([\u0027CUSTOMER_ID\u0027,\u0027CUSTOMER\u0027,\u0027YEAR_NUMBER\u0027]).ACTIVE_CARD_COUNT.sum().reset_index()\n",
        "df_active_card_count_by_customer.columns \u003d [\u0027CUSTOMER_ID\u0027,\u0027CUSTOMER\u0027,\u0027REVENUE_YEAR\u0027,\u0027ACTIVE_CARD_COUNT\u0027]\n",
        "print(len(df_active_card_count_by_customer))\n",
        "\n",
        "df_customer_fleet_size \u003d df_active_card_count_by_customer.groupby([\u0027CUSTOMER_ID\u0027,\u0027CUSTOMER\u0027]).ACTIVE_CARD_COUNT.max().reset_index()\n",
        "df_customer_fleet_size.columns \u003d [\u0027CUSTOMER_ID\u0027, \u0027CUSTOMER\u0027, \u0027FLEET_SIZE\u0027]\n",
        "print(len(df_customer_fleet_size))"
      ]
    },
    {
      "cell_type": "code",
      "metadata": {},
      "outputs": [],
      "execution_count": 0,
      "source": [
        "print(len(df_revenue_by_customer_and_year))\n",
        "df_j \u003d pd.merge(df_revenue_by_customer_and_year,df_spend_by_customer_and_year,how\u003d\u0027left\u0027,on\u003d[\u0027CUSTOMER_ID\u0027,\u0027CUSTOMER\u0027,\u0027REVENUE_YEAR\u0027])\n",
        "print(len(df_j))\n",
        "\n",
        "df_j \u003d pd.merge(df_j,df_active_card_count_by_customer,how\u003d\u0027left\u0027,on\u003d[\u0027CUSTOMER_ID\u0027,\u0027CUSTOMER\u0027,\u0027REVENUE_YEAR\u0027])\n",
        "print(len(df_j))\n",
        "\n",
        "df_j \u003d pd.merge(df_j,df_customer_fleet_size, how\u003d\u0027left\u0027,on\u003d[\u0027CUSTOMER_ID\u0027,\u0027CUSTOMER\u0027])\n",
        "print(len(df_j))\n",
        "\n",
        "df_j.loc[df_j.ACTIVE_CARD_COUNT.isnull(),\u0027ACTIVE_CARD_COUNT\u0027] \u003d 0\n",
        "df_j.loc[df_j.FLEET_SIZE.isnull(),\u0027FLEET_SIZE\u0027] \u003d 0\n",
        "\n",
        "df_j[\u0027FLEET_CATEGORY\u0027] \u003d \u0027NOT SET\u0027\n",
        "df_j.loc[df_j.FLEET_SIZE.between(0,5),\u0027FLEET_CATEGORY\u0027] \u003d \u0027(\u003c\u003d5 cards)\u0027\n",
        "df_j.loc[df_j.FLEET_SIZE.between(6,100),\u0027FLEET_CATEGORY\u0027] \u003d \u0027(between 6 and 100 cards)\u0027\n",
        "df_j.loc[df_j.FLEET_SIZE\u003e50,\u0027FLEET_CATEGORY\u0027] \u003d \u0027(\u003e100 cards)\u0027\n",
        "df_j.head()"
      ]
    },
    {
      "cell_type": "code",
      "metadata": {},
      "outputs": [],
      "execution_count": 0,
      "source": [
        "df_j.FLEET_CATEGORY.unique()"
      ]
    },
    {
      "cell_type": "code",
      "metadata": {},
      "outputs": [],
      "execution_count": 0,
      "source": [
        "df_revenue_by_year \u003d df_j.groupby([\u0027REVENUE_YEAR\u0027,\u0027FLEET_CATEGORY\u0027]).REVENUE_AMOUNT_USD.sum().reset_index()\n",
        "df_revenue_by_year.head(10)"
      ]
    },
    {
      "cell_type": "code",
      "metadata": {},
      "outputs": [],
      "execution_count": 0,
      "source": [
        "df_revenue_by_year.REVENUE_YEAR.value_counts()"
      ]
    },
    {
      "cell_type": "code",
      "metadata": {},
      "outputs": [],
      "execution_count": 0,
      "source": [
        "import matplotlib.dates as mdates\n",
        "from matplotlib.ticker import FuncFormatter\n",
        "\n",
        "fig, ax1 \u003d plt.subplots(figsize\u003d(9,4))\n",
        "\n",
        "#[\u0027(\u003c\u003d5 cards)\u0027, \u0027(between 6 and 100 cards)\u0027, \u0027(\u003e100 cards)\u0027]\n",
        "\n",
        "dim1 \u003d list(map(str,df_revenue_by_year[df_revenue_by_year.FLEET_CATEGORY\u003d\u003d\u0027(\u003e100 cards)\u0027].REVENUE_YEAR))\n",
        "data1 \u003d df_revenue_by_year[df_revenue_by_year.FLEET_CATEGORY\u003d\u003d\u0027(\u003e100 cards)\u0027].REVENUE_AMOUNT_USD\n",
        "\n",
        "dim2 \u003d list(map(str,df_revenue_by_year[df_revenue_by_year.FLEET_CATEGORY\u003d\u003d\u0027(between 6 and 100 cards)\u0027].REVENUE_YEAR))\n",
        "data2 \u003d df_revenue_by_year[df_revenue_by_year.FLEET_CATEGORY\u003d\u003d\u0027(between 6 and 100 cards)\u0027].REVENUE_AMOUNT_USD\n",
        "\n",
        "dim3 \u003d list(map(str,df_revenue_by_year[df_revenue_by_year.FLEET_CATEGORY\u003d\u003d\u0027(\u003c\u003d5 cards)\u0027].REVENUE_YEAR))\n",
        "data3 \u003d df_revenue_by_year[df_revenue_by_year.FLEET_CATEGORY\u003d\u003d\u0027(\u003c\u003d5 cards)\u0027].REVENUE_AMOUNT_USD\n",
        "\n",
        "#ax1.bar(dim1,data1, color\u003d\u0027#006BA2\u0027, width\u003d0.75)\n",
        "#ax1.bar(dim2,data2, bottom\u003ddata1, color\u003d\u0027#758D99\u0027, width\u003d0.75)\n",
        "#ax1.bar(dim3,data3, bottom\u003ddata2+data1, color\u003d\u0027#EBB434\u0027, width\u003d0.75)\n",
        "\n",
        "ax1.plot(dim1,data1, color\u003d\u0027#006BA2\u0027)\n",
        "ax1.plot(dim2,data2, color\u003d\u0027#758D99\u0027)\n",
        "ax1.plot(dim3,data3, color\u003d\u0027#EBB434\u0027)\n",
        "\n",
        "ax1.set_xlabel(\u0027YEAR\u0027, fontsize\u003d14)\n",
        "ax1.set_ylabel(\u0027REVENUE\u0027, fontsize\u003d14)\n",
        "#ax1.set_ylim(ymin\u003d0, ymax\u003dmax_value*1.15)\n",
        "ax1.yaxis.set_major_formatter(FuncFormatter(lambda x, p: format(int(x), \u0027,\u0027)))\n",
        "ax1.grid(color\u003d\u0027#95a5a6\u0027, linestyle\u003d\u0027--\u0027, linewidth\u003d1, axis\u003d\u0027y\u0027, alpha\u003d0.6)\n",
        "fig.autofmt_xdate()\n",
        "plt.title(\u0027TURN THIS INTO A PROPER BAR\u0027)\n",
        "plt.legend([\u0027(\u003e100 cards)\u0027,\u0027(between 6 and 100 cards)\u0027,\u0027(\u003c\u003d5 cards)\u0027], bbox_to_anchor\u003d(1.05,1.0), loc\u003d\u0027upper left\u0027)\n",
        "plt.show()"
      ]
    },
    {
      "cell_type": "code",
      "metadata": {},
      "outputs": [],
      "execution_count": 0,
      "source": [
        "df_spend_by_year \u003d df_j.groupby([\u0027REVENUE_YEAR\u0027,\u0027FLEET_CATEGORY\u0027]).GROSS_SPEND_AMOUNT.sum().reset_index()\n",
        "df_spend_by_year.head(10)"
      ]
    },
    {
      "cell_type": "code",
      "metadata": {},
      "outputs": [],
      "execution_count": 0,
      "source": [
        "import matplotlib.dates as mdates\n",
        "from matplotlib.ticker import FuncFormatter\n",
        "\n",
        "fig, ax1 \u003d plt.subplots(figsize\u003d(9,4))\n",
        "\n",
        "dim1 \u003d list(map(str,df_spend_by_year[df_spend_by_year.FLEET_CATEGORY\u003d\u003d\u0027(\u003e20 cards)\u0027].REVENUE_YEAR))\n",
        "data1 \u003d df_spend_by_year[df_spend_by_year.FLEET_CATEGORY\u003d\u003d\u0027(\u003e20 cards)\u0027].GROSS_SPEND_AMOUNT\n",
        "\n",
        "dim2 \u003d list(map(str,df_spend_by_year[df_spend_by_year.FLEET_CATEGORY\u003d\u003d\u0027(\u003c\u003d20 cards)\u0027].REVENUE_YEAR))\n",
        "data2 \u003d df_spend_by_year[df_spend_by_year.FLEET_CATEGORY\u003d\u003d\u0027(\u003c\u003d20 cards)\u0027].GROSS_SPEND_AMOUNT\n",
        "\n",
        "ax1.bar(dim1,data1, color\u003d\u0027#006BA2\u0027, width\u003d0.75)\n",
        "ax1.bar(dim2,data2, bottom\u003ddata1, color\u003d\u0027#758D99\u0027, width\u003d0.75)\n",
        "\n",
        "ax1.set_xlabel(\u0027YEAR\u0027, fontsize\u003d14)\n",
        "ax1.set_ylabel(\u0027SPEND\u0027, fontsize\u003d14)\n",
        "#ax1.set_ylim(ymin\u003d0, ymax\u003dmax_value*1.15)\n",
        "ax1.yaxis.set_major_formatter(FuncFormatter(lambda x, p: format(int(x), \u0027,\u0027)))\n",
        "ax1.grid(color\u003d\u0027#95a5a6\u0027, linestyle\u003d\u0027--\u0027, linewidth\u003d1, axis\u003d\u0027y\u0027, alpha\u003d0.6)\n",
        "fig.autofmt_xdate()\n",
        "plt.title(\u0027SPEND by YEAR\u0027)\n",
        "plt.legend([\u0027(\u003e20 cards)\u0027,\u0027(\u003c\u003d20 cards)\u0027], bbox_to_anchor\u003d(1.05,1.0), loc\u003d\u0027upper left\u0027)\n",
        "plt.show()"
      ]
    },
    {
      "cell_type": "code",
      "metadata": {},
      "outputs": [],
      "execution_count": 0,
      "source": [
        "df_customer_by_year \u003d df_j.groupby([\u0027REVENUE_YEAR\u0027,\u0027FLEET_CATEGORY\u0027]).CUSTOMER_ID.nunique().reset_index()\n",
        "df_customer_by_year.columns \u003d [\u0027REVENUE_YEAR\u0027, \u0027FLEET_CATEGORY\u0027, \u0027CUSTOMER_COUNT\u0027]\n",
        "df_customer_by_year.head(10)"
      ]
    },
    {
      "cell_type": "code",
      "metadata": {},
      "outputs": [],
      "execution_count": 0,
      "source": [
        "import matplotlib.dates as mdates\n",
        "from matplotlib.ticker import FuncFormatter\n",
        "\n",
        "fig, ax1 \u003d plt.subplots(figsize\u003d(9,4))\n",
        "\n",
        "dim1 \u003d list(map(str,df_customer_by_year[df_customer_by_year.FLEET_CATEGORY\u003d\u003d\u0027(\u003e20 cards)\u0027].REVENUE_YEAR))\n",
        "data1 \u003d df_customer_by_year[df_customer_by_year.FLEET_CATEGORY\u003d\u003d\u0027(\u003e20 cards)\u0027].CUSTOMER_COUNT\n",
        "\n",
        "dim2 \u003d list(map(str,df_customer_by_year[df_customer_by_year.FLEET_CATEGORY\u003d\u003d\u0027(\u003c\u003d20 cards)\u0027].REVENUE_YEAR))\n",
        "data2 \u003d df_customer_by_year[df_customer_by_year.FLEET_CATEGORY\u003d\u003d\u0027(\u003c\u003d20 cards)\u0027].CUSTOMER_COUNT\n",
        "\n",
        "ax1.bar(dim1,data1, color\u003d\u0027#006BA2\u0027, width\u003d0.75)\n",
        "ax1.bar(dim2,data2, bottom\u003ddata1, color\u003d\u0027#758D99\u0027, width\u003d0.75)\n",
        "\n",
        "ax1.set_xlabel(\u0027YEAR\u0027, fontsize\u003d14)\n",
        "ax1.set_ylabel(\u0027CUSTOMER COUNT\u0027, fontsize\u003d14)\n",
        "#ax1.set_ylim(ymin\u003d0, ymax\u003dmax_value*1.15)\n",
        "ax1.yaxis.set_major_formatter(FuncFormatter(lambda x, p: format(int(x), \u0027,\u0027)))\n",
        "ax1.grid(color\u003d\u0027#95a5a6\u0027, linestyle\u003d\u0027--\u0027, linewidth\u003d1, axis\u003d\u0027y\u0027, alpha\u003d0.6)\n",
        "fig.autofmt_xdate()\n",
        "plt.title(\u0027CUSTOMER COUNT by YEAR\u0027)\n",
        "plt.legend([\u0027(\u003e20 cards)\u0027,\u0027(\u003c\u003d20 cards)\u0027], bbox_to_anchor\u003d(1.05,1.0), loc\u003d\u0027upper left\u0027)\n",
        "plt.show()"
      ]
    },
    {
      "cell_type": "code",
      "metadata": {},
      "outputs": [],
      "execution_count": 0,
      "source": [
        "df_active_cards_by_year \u003d df_j.groupby([\u0027REVENUE_YEAR\u0027,\u0027FLEET_CATEGORY\u0027]).ACTIVE_CARD_COUNT.sum().reset_index()\n",
        "df_active_cards_by_year.head(10)"
      ]
    },
    {
      "cell_type": "code",
      "metadata": {},
      "outputs": [],
      "execution_count": 0,
      "source": [
        "import matplotlib.dates as mdates\n",
        "from matplotlib.ticker import FuncFormatter\n",
        "\n",
        "fig, ax1 \u003d plt.subplots(figsize\u003d(9,4))\n",
        "\n",
        "dim1 \u003d list(map(str,df_active_cards_by_year[df_active_cards_by_year.FLEET_CATEGORY\u003d\u003d\u0027(\u003e20 cards)\u0027].REVENUE_YEAR))\n",
        "data1 \u003d df_active_cards_by_year[df_active_cards_by_year.FLEET_CATEGORY\u003d\u003d\u0027(\u003e20 cards)\u0027].ACTIVE_CARD_COUNT\n",
        "\n",
        "dim2 \u003d list(map(str,df_active_cards_by_year[df_active_cards_by_year.FLEET_CATEGORY\u003d\u003d\u0027(\u003c\u003d20 cards)\u0027].REVENUE_YEAR))\n",
        "data2 \u003d df_active_cards_by_year[df_active_cards_by_year.FLEET_CATEGORY\u003d\u003d\u0027(\u003c\u003d20 cards)\u0027].ACTIVE_CARD_COUNT\n",
        "\n",
        "ax1.bar(dim1,data1, color\u003d\u0027#006BA2\u0027, width\u003d0.75)\n",
        "ax1.bar(dim2,data2, bottom\u003ddata1, color\u003d\u0027#758D99\u0027, width\u003d0.75)\n",
        "\n",
        "ax1.set_xlabel(\u0027YEAR\u0027, fontsize\u003d14)\n",
        "ax1.set_ylabel(\u0027ACTIVE CARDS\u0027, fontsize\u003d14)\n",
        "#ax1.set_ylim(ymin\u003d0, ymax\u003dmax_value*1.15)\n",
        "ax1.yaxis.set_major_formatter(FuncFormatter(lambda x, p: format(int(x), \u0027,\u0027)))\n",
        "ax1.grid(color\u003d\u0027#95a5a6\u0027, linestyle\u003d\u0027--\u0027, linewidth\u003d1, axis\u003d\u0027y\u0027, alpha\u003d0.6)\n",
        "fig.autofmt_xdate()\n",
        "plt.title(\u0027ACTIVE CARD COUNT by YEAR\u0027)\n",
        "plt.legend([\u0027(\u003e20 cards)\u0027,\u0027(\u003c\u003d20 cards)\u0027], bbox_to_anchor\u003d(1.05,1.0), loc\u003d\u0027upper left\u0027)\n",
        "plt.show()"
      ]
    },
    {
      "cell_type": "code",
      "metadata": {},
      "outputs": [],
      "execution_count": 0,
      "source": [
        "# Compute recipe outputs\n",
        "# TODO: Write here your actual code that computes the outputs\n",
        "# NB: DSS supports several kinds of APIs for reading and writing data. Please see doc.\n",
        "\n",
        "#RETENTION_RATE_BY_GROUP_df \u003d ... # Compute a Pandas dataframe to write into RETENTION_RATE_BY_GROUP\n",
        "\n",
        "# Write recipe outputs\n",
        "#RETENTION_RATE_BY_GROUP \u003d dataiku.Dataset(\"RETENTION_RATE_BY_GROUP\")\n",
        "#RETENTION_RATE_BY_GROUP.write_with_schema(RETENTION_RATE_BY_GROUP_df)"
      ]
    }
  ]
}