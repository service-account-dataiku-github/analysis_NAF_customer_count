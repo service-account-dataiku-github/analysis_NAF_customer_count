{
  "metadata": {
    "kernelspec": {
      "name": "py-dku-venv-env_clc",
      "display_name": "Python (env env_clc)",
      "language": "python"
    },
    "associatedRecipe": "compute_RETENTION_RATE_BY_GROUP",
    "creator": "Daniel.Vandermeer",
    "createdOn": 1676846218964,
    "tags": [
      "recipe-editor"
    ],
    "customFields": {},
    "hide_input": false,
    "language_info": {
      "name": "python",
      "version": "3.6.8",
      "mimetype": "text/x-python",
      "codemirror_mode": {
        "name": "ipython",
        "version": 3
      },
      "pygments_lexer": "ipython3",
      "nbconvert_exporter": "python",
      "file_extension": ".py"
    },
    "modifiedBy": "Daniel.Vandermeer"
  },
  "nbformat": 4,
  "nbformat_minor": 1,
  "cells": [
    {
      "execution_count": 1,
      "cell_type": "code",
      "metadata": {},
      "source": [
        "# -*- coding: utf-8 -*-\nimport dataiku\nimport pandas as pd, numpy as np\nfrom dataiku import pandasutils as pdu\n\nfrom datetime import date, datetime, timedelta\nimport matplotlib.pyplot as plt\nimport time\n\nt0 \u003d time.time()\n\nprint(\"loading...\")\n\n# Read recipe inputs\nNAFCUSTOMER_ACCOUNT_ANNUAL_ACTIVE_CARD_COUNT \u003d dataiku.Dataset(\"NAFCUSTOMER_ACCOUNT_ANNUAL_ACTIVE_CARD_COUNT\")\nNAFCUSTOMER_ACCOUNT_ANNUAL_ACTIVE_CARD_COUNT_df \u003d NAFCUSTOMER_ACCOUNT_ANNUAL_ACTIVE_CARD_COUNT.get_dataframe()\n\nNAFCUSTOMER_REVENUE_AGGREGATED \u003d dataiku.Dataset(\"NAFCUSTOMER_REVENUE_AGGREGATED\")\nNAFCUSTOMER_REVENUE_AGGREGATED_df \u003d NAFCUSTOMER_REVENUE_AGGREGATED.get_dataframe()\n\nt1 \u003d time.time()\nprint(\"load duration\", (t1-t0)/60.0, \"minutes\")"
      ],
      "outputs": [
        {
          "output_type": "stream",
          "text": "loading...\nload duration 9.379929351806641 minutes\n",
          "name": "stdout"
        }
      ]
    },
    {
      "execution_count": 77,
      "cell_type": "code",
      "metadata": {},
      "source": [
        "print(len(NAFCUSTOMER_ACCOUNT_ANNUAL_ACTIVE_CARD_COUNT_df), \"rows in NAFCUSTOMER_ACCOUNT_ANNUAL_ACTIVE_CARD_COUNT\")\ndf_a \u003d NAFCUSTOMER_ACCOUNT_ANNUAL_ACTIVE_CARD_COUNT_df.copy()\n\nprint(len(NAFCUSTOMER_REVENUE_AGGREGATED_df), \"rows in NAFCUSTOMER_REVENUE_AGGREGATED\")\ndf \u003d NAFCUSTOMER_REVENUE_AGGREGATED_df.copy()\ndf \u003d df[df.REVENUE_YEAR!\u003d2023]\nprint(len(df))"
      ],
      "outputs": [
        {
          "output_type": "stream",
          "text": "2319568 rows in NAFCUSTOMER_ACCOUNT_ANNUAL_ACTIVE_CARD_COUNT\n18075044 rows in NAFCUSTOMER_REVENUE_AGGREGATED\n17673397\n",
          "name": "stdout"
        }
      ]
    },
    {
      "execution_count": 78,
      "cell_type": "code",
      "metadata": {},
      "source": [
        "df.head()"
      ],
      "outputs": [
        {
          "output_type": "execute_result",
          "execution_count": 78,
          "data": {
            "text/plain": "   CUSTOMER_ID                   CUSTOMER  REVENUE_YEAR  REVENUE_MONTH                SETUP_DATE  BI_CUS_PAR  BI_PRODUCT  BI_MRU  REVENUE_AMOUNT_USD  GROSS_SPEND_AMOUNT  PURCHASE_GALLONS_QTY  TOTAL_ACTIVE_CARD_COUNT\n0   77563479.0       SUPER 7 SUPER MARKET          2021              7 2018-11-01 07:00:00+00:00     21000.0     15100.0  4000.0               94.06              482.65               151.250                      3.0\n1   77048662.0               ANDREW EPLER          2022             12 2022-10-18 07:00:00+00:00     20800.0     15100.0  4000.0                0.16               12.41                 3.434                      1.0\n2   77208278.0  EMPIRE STATE PLUMBING INC          2022             11 2015-01-16 08:00:00+00:00     13000.0     15100.0  4000.0              135.47             3750.51               945.574                      6.0\n3   77217422.0    EXTRAORDINARY HOMES LLC          2020             12 2017-05-25 07:00:00+00:00     53000.0     10100.0  4120.0                4.00                0.00                 0.000                      0.0\n4   77168266.0  DALLAS 1 CONSTRUCTION LLC          2021              4 2006-10-12 07:00:00+00:00     51000.0     10100.0  3100.0              131.06             1580.50               559.206                      5.0",
            "text/html": "\u003cdiv\u003e\n\u003cstyle scoped\u003e\n    .dataframe tbody tr th:only-of-type {\n        vertical-align: middle;\n    }\n\n    .dataframe tbody tr th {\n        vertical-align: top;\n    }\n\n    .dataframe thead th {\n        text-align: right;\n    }\n\u003c/style\u003e\n\u003ctable border\u003d\"1\" class\u003d\"dataframe\"\u003e\n  \u003cthead\u003e\n    \u003ctr style\u003d\"text-align: right;\"\u003e\n      \u003cth\u003e\u003c/th\u003e\n      \u003cth\u003eCUSTOMER_ID\u003c/th\u003e\n      \u003cth\u003eCUSTOMER\u003c/th\u003e\n      \u003cth\u003eREVENUE_YEAR\u003c/th\u003e\n      \u003cth\u003eREVENUE_MONTH\u003c/th\u003e\n      \u003cth\u003eSETUP_DATE\u003c/th\u003e\n      \u003cth\u003eBI_CUS_PAR\u003c/th\u003e\n      \u003cth\u003eBI_PRODUCT\u003c/th\u003e\n      \u003cth\u003eBI_MRU\u003c/th\u003e\n      \u003cth\u003eREVENUE_AMOUNT_USD\u003c/th\u003e\n      \u003cth\u003eGROSS_SPEND_AMOUNT\u003c/th\u003e\n      \u003cth\u003ePURCHASE_GALLONS_QTY\u003c/th\u003e\n      \u003cth\u003eTOTAL_ACTIVE_CARD_COUNT\u003c/th\u003e\n    \u003c/tr\u003e\n  \u003c/thead\u003e\n  \u003ctbody\u003e\n    \u003ctr\u003e\n      \u003cth\u003e0\u003c/th\u003e\n      \u003ctd\u003e77563479.0\u003c/td\u003e\n      \u003ctd\u003eSUPER 7 SUPER MARKET\u003c/td\u003e\n      \u003ctd\u003e2021\u003c/td\u003e\n      \u003ctd\u003e7\u003c/td\u003e\n      \u003ctd\u003e2018-11-01 07:00:00+00:00\u003c/td\u003e\n      \u003ctd\u003e21000.0\u003c/td\u003e\n      \u003ctd\u003e15100.0\u003c/td\u003e\n      \u003ctd\u003e4000.0\u003c/td\u003e\n      \u003ctd\u003e94.06\u003c/td\u003e\n      \u003ctd\u003e482.65\u003c/td\u003e\n      \u003ctd\u003e151.250\u003c/td\u003e\n      \u003ctd\u003e3.0\u003c/td\u003e\n    \u003c/tr\u003e\n    \u003ctr\u003e\n      \u003cth\u003e1\u003c/th\u003e\n      \u003ctd\u003e77048662.0\u003c/td\u003e\n      \u003ctd\u003eANDREW EPLER\u003c/td\u003e\n      \u003ctd\u003e2022\u003c/td\u003e\n      \u003ctd\u003e12\u003c/td\u003e\n      \u003ctd\u003e2022-10-18 07:00:00+00:00\u003c/td\u003e\n      \u003ctd\u003e20800.0\u003c/td\u003e\n      \u003ctd\u003e15100.0\u003c/td\u003e\n      \u003ctd\u003e4000.0\u003c/td\u003e\n      \u003ctd\u003e0.16\u003c/td\u003e\n      \u003ctd\u003e12.41\u003c/td\u003e\n      \u003ctd\u003e3.434\u003c/td\u003e\n      \u003ctd\u003e1.0\u003c/td\u003e\n    \u003c/tr\u003e\n    \u003ctr\u003e\n      \u003cth\u003e2\u003c/th\u003e\n      \u003ctd\u003e77208278.0\u003c/td\u003e\n      \u003ctd\u003eEMPIRE STATE PLUMBING INC\u003c/td\u003e\n      \u003ctd\u003e2022\u003c/td\u003e\n      \u003ctd\u003e11\u003c/td\u003e\n      \u003ctd\u003e2015-01-16 08:00:00+00:00\u003c/td\u003e\n      \u003ctd\u003e13000.0\u003c/td\u003e\n      \u003ctd\u003e15100.0\u003c/td\u003e\n      \u003ctd\u003e4000.0\u003c/td\u003e\n      \u003ctd\u003e135.47\u003c/td\u003e\n      \u003ctd\u003e3750.51\u003c/td\u003e\n      \u003ctd\u003e945.574\u003c/td\u003e\n      \u003ctd\u003e6.0\u003c/td\u003e\n    \u003c/tr\u003e\n    \u003ctr\u003e\n      \u003cth\u003e3\u003c/th\u003e\n      \u003ctd\u003e77217422.0\u003c/td\u003e\n      \u003ctd\u003eEXTRAORDINARY HOMES LLC\u003c/td\u003e\n      \u003ctd\u003e2020\u003c/td\u003e\n      \u003ctd\u003e12\u003c/td\u003e\n      \u003ctd\u003e2017-05-25 07:00:00+00:00\u003c/td\u003e\n      \u003ctd\u003e53000.0\u003c/td\u003e\n      \u003ctd\u003e10100.0\u003c/td\u003e\n      \u003ctd\u003e4120.0\u003c/td\u003e\n      \u003ctd\u003e4.00\u003c/td\u003e\n      \u003ctd\u003e0.00\u003c/td\u003e\n      \u003ctd\u003e0.000\u003c/td\u003e\n      \u003ctd\u003e0.0\u003c/td\u003e\n    \u003c/tr\u003e\n    \u003ctr\u003e\n      \u003cth\u003e4\u003c/th\u003e\n      \u003ctd\u003e77168266.0\u003c/td\u003e\n      \u003ctd\u003eDALLAS 1 CONSTRUCTION LLC\u003c/td\u003e\n      \u003ctd\u003e2021\u003c/td\u003e\n      \u003ctd\u003e4\u003c/td\u003e\n      \u003ctd\u003e2006-10-12 07:00:00+00:00\u003c/td\u003e\n      \u003ctd\u003e51000.0\u003c/td\u003e\n      \u003ctd\u003e10100.0\u003c/td\u003e\n      \u003ctd\u003e3100.0\u003c/td\u003e\n      \u003ctd\u003e131.06\u003c/td\u003e\n      \u003ctd\u003e1580.50\u003c/td\u003e\n      \u003ctd\u003e559.206\u003c/td\u003e\n      \u003ctd\u003e5.0\u003c/td\u003e\n    \u003c/tr\u003e\n  \u003c/tbody\u003e\n\u003c/table\u003e\n\u003c/div\u003e"
          },
          "metadata": {}
        }
      ]
    },
    {
      "execution_count": 93,
      "cell_type": "code",
      "metadata": {},
      "source": [
        "df_revenue_by_customer_and_year \u003d df.groupby([\u0027CUSTOMER_ID\u0027,\u0027CUSTOMER\u0027,\u0027REVENUE_YEAR\u0027]).REVENUE_AMOUNT_USD.sum().reset_index()\nprint(len(df_revenue_by_customer_and_year))\n\ndf_spend_by_customer_and_year \u003d df.groupby([\u0027CUSTOMER_ID\u0027,\u0027CUSTOMER\u0027,\u0027REVENUE_YEAR\u0027]).GROSS_SPEND_AMOUNT.sum().reset_index()\nprint(len(df_spend_by_customer_and_year))\n\ndf_active_card_count_by_customer \u003d df_a.groupby([\u0027CUSTOMER_ID\u0027,\u0027CUSTOMER\u0027,\u0027YEAR_NUMBER\u0027]).ACTIVE_CARD_COUNT.sum().reset_index()\ndf_active_card_count_by_customer.columns \u003d [\u0027CUSTOMER_ID\u0027,\u0027CUSTOMER\u0027,\u0027REVENUE_YEAR\u0027,\u0027ACTIVE_CARD_COUNT\u0027]\nprint(len(df_active_card_count_by_customer))\n\ndf_customer_fleet_size \u003d df_active_card_count_by_customer.groupby([\u0027CUSTOMER_ID\u0027,\u0027CUSTOMER\u0027]).ACTIVE_CARD_COUNT.max().reset_index()\ndf_customer_fleet_size.columns \u003d [\u0027CUSTOMER_ID\u0027, \u0027CUSTOMER\u0027, \u0027FLEET_SIZE\u0027]\nprint(len(df_customer_fleet_size))"
      ],
      "outputs": [
        {
          "output_type": "stream",
          "text": "1777729\n1777729\n1771976\n649448\n",
          "name": "stdout"
        }
      ]
    },
    {
      "execution_count": 118,
      "cell_type": "code",
      "metadata": {},
      "source": [
        "print(len(df_revenue_by_customer_and_year))\ndf_j \u003d pd.merge(df_revenue_by_customer_and_year,df_spend_by_customer_and_year,how\u003d\u0027left\u0027,on\u003d[\u0027CUSTOMER_ID\u0027,\u0027CUSTOMER\u0027,\u0027REVENUE_YEAR\u0027])\nprint(len(df_j))\n\ndf_j \u003d pd.merge(df_j,df_active_card_count_by_customer,how\u003d\u0027left\u0027,on\u003d[\u0027CUSTOMER_ID\u0027,\u0027CUSTOMER\u0027,\u0027REVENUE_YEAR\u0027])\nprint(len(df_j))\n\ndf_j \u003d pd.merge(df_j,df_customer_fleet_size, how\u003d\u0027left\u0027,on\u003d[\u0027CUSTOMER_ID\u0027,\u0027CUSTOMER\u0027])\nprint(len(df_j))\n\ndf_j.loc[df_j.ACTIVE_CARD_COUNT.isnull(),\u0027ACTIVE_CARD_COUNT\u0027] \u003d 0\ndf_j.loc[df_j.FLEET_SIZE.isnull(),\u0027FLEET_SIZE\u0027] \u003d 0\n\ndf_j[\u0027FLEET_CATEGORY\u0027] \u003d \u0027NOT SET\u0027\ndf_j.loc[df_j.FLEET_SIZE.between(0,20),\u0027FLEET_CATEGORY\u0027] \u003d \u0027(\u003c\u003d20 cards)\u0027\ndf_j.loc[df_j.FLEET_SIZE\u003e20,\u0027FLEET_CATEGORY\u0027] \u003d \u0027(\u003e20 cards)\u0027\ndf_j.head()"
      ],
      "outputs": [
        {
          "output_type": "stream",
          "text": "1777729\n1777729\n1777729\n1777729\n",
          "name": "stdout"
        },
        {
          "output_type": "execute_result",
          "execution_count": 118,
          "data": {
            "text/plain": "   CUSTOMER_ID                       CUSTOMER  REVENUE_YEAR  REVENUE_AMOUNT_USD  GROSS_SPEND_AMOUNT  ACTIVE_CARD_COUNT  FLEET_SIZE FLEET_CATEGORY\n0   77000000.0               1 AUTO PARTS INC          2019              175.47                0.00                1.0         1.0   (\u003c\u003d20 cards)\n1   77000001.0   94775 J AND J SNACK FOODS AA          2022               74.15             3318.62                3.0         3.0   (\u003c\u003d20 cards)\n2   77000002.0          APOSTROPHE DESIGN INC          2019              177.47             8944.23                4.0         8.0   (\u003c\u003d20 cards)\n3   77000002.0          APOSTROPHE DESIGN INC          2020              271.60            10358.34                4.0         8.0   (\u003c\u003d20 cards)\n4   77000002.0          APOSTROPHE DESIGN INC          2021              243.51            13094.44                8.0         8.0   (\u003c\u003d20 cards)",
            "text/html": "\u003cdiv\u003e\n\u003cstyle scoped\u003e\n    .dataframe tbody tr th:only-of-type {\n        vertical-align: middle;\n    }\n\n    .dataframe tbody tr th {\n        vertical-align: top;\n    }\n\n    .dataframe thead th {\n        text-align: right;\n    }\n\u003c/style\u003e\n\u003ctable border\u003d\"1\" class\u003d\"dataframe\"\u003e\n  \u003cthead\u003e\n    \u003ctr style\u003d\"text-align: right;\"\u003e\n      \u003cth\u003e\u003c/th\u003e\n      \u003cth\u003eCUSTOMER_ID\u003c/th\u003e\n      \u003cth\u003eCUSTOMER\u003c/th\u003e\n      \u003cth\u003eREVENUE_YEAR\u003c/th\u003e\n      \u003cth\u003eREVENUE_AMOUNT_USD\u003c/th\u003e\n      \u003cth\u003eGROSS_SPEND_AMOUNT\u003c/th\u003e\n      \u003cth\u003eACTIVE_CARD_COUNT\u003c/th\u003e\n      \u003cth\u003eFLEET_SIZE\u003c/th\u003e\n      \u003cth\u003eFLEET_CATEGORY\u003c/th\u003e\n    \u003c/tr\u003e\n  \u003c/thead\u003e\n  \u003ctbody\u003e\n    \u003ctr\u003e\n      \u003cth\u003e0\u003c/th\u003e\n      \u003ctd\u003e77000000.0\u003c/td\u003e\n      \u003ctd\u003e1 AUTO PARTS INC\u003c/td\u003e\n      \u003ctd\u003e2019\u003c/td\u003e\n      \u003ctd\u003e175.47\u003c/td\u003e\n      \u003ctd\u003e0.00\u003c/td\u003e\n      \u003ctd\u003e1.0\u003c/td\u003e\n      \u003ctd\u003e1.0\u003c/td\u003e\n      \u003ctd\u003e(\u0026lt;\u003d20 cards)\u003c/td\u003e\n    \u003c/tr\u003e\n    \u003ctr\u003e\n      \u003cth\u003e1\u003c/th\u003e\n      \u003ctd\u003e77000001.0\u003c/td\u003e\n      \u003ctd\u003e94775 J AND J SNACK FOODS AA\u003c/td\u003e\n      \u003ctd\u003e2022\u003c/td\u003e\n      \u003ctd\u003e74.15\u003c/td\u003e\n      \u003ctd\u003e3318.62\u003c/td\u003e\n      \u003ctd\u003e3.0\u003c/td\u003e\n      \u003ctd\u003e3.0\u003c/td\u003e\n      \u003ctd\u003e(\u0026lt;\u003d20 cards)\u003c/td\u003e\n    \u003c/tr\u003e\n    \u003ctr\u003e\n      \u003cth\u003e2\u003c/th\u003e\n      \u003ctd\u003e77000002.0\u003c/td\u003e\n      \u003ctd\u003eAPOSTROPHE DESIGN INC\u003c/td\u003e\n      \u003ctd\u003e2019\u003c/td\u003e\n      \u003ctd\u003e177.47\u003c/td\u003e\n      \u003ctd\u003e8944.23\u003c/td\u003e\n      \u003ctd\u003e4.0\u003c/td\u003e\n      \u003ctd\u003e8.0\u003c/td\u003e\n      \u003ctd\u003e(\u0026lt;\u003d20 cards)\u003c/td\u003e\n    \u003c/tr\u003e\n    \u003ctr\u003e\n      \u003cth\u003e3\u003c/th\u003e\n      \u003ctd\u003e77000002.0\u003c/td\u003e\n      \u003ctd\u003eAPOSTROPHE DESIGN INC\u003c/td\u003e\n      \u003ctd\u003e2020\u003c/td\u003e\n      \u003ctd\u003e271.60\u003c/td\u003e\n      \u003ctd\u003e10358.34\u003c/td\u003e\n      \u003ctd\u003e4.0\u003c/td\u003e\n      \u003ctd\u003e8.0\u003c/td\u003e\n      \u003ctd\u003e(\u0026lt;\u003d20 cards)\u003c/td\u003e\n    \u003c/tr\u003e\n    \u003ctr\u003e\n      \u003cth\u003e4\u003c/th\u003e\n      \u003ctd\u003e77000002.0\u003c/td\u003e\n      \u003ctd\u003eAPOSTROPHE DESIGN INC\u003c/td\u003e\n      \u003ctd\u003e2021\u003c/td\u003e\n      \u003ctd\u003e243.51\u003c/td\u003e\n      \u003ctd\u003e13094.44\u003c/td\u003e\n      \u003ctd\u003e8.0\u003c/td\u003e\n      \u003ctd\u003e8.0\u003c/td\u003e\n      \u003ctd\u003e(\u0026lt;\u003d20 cards)\u003c/td\u003e\n    \u003c/tr\u003e\n  \u003c/tbody\u003e\n\u003c/table\u003e\n\u003c/div\u003e"
          },
          "metadata": {}
        }
      ]
    },
    {
      "execution_count": 121,
      "cell_type": "code",
      "metadata": {},
      "source": [
        "df_revenue_by_year \u003d df_j.groupby([\u0027REVENUE_YEAR\u0027,\u0027FLEET_CATEGORY\u0027]).REVENUE_AMOUNT_USD.sum().reset_index()\ndf_revenue_by_year.head(10)"
      ],
      "outputs": [
        {
          "output_type": "execute_result",
          "execution_count": 121,
          "data": {
            "text/plain": "   REVENUE_YEAR FLEET_CATEGORY  REVENUE_AMOUNT_USD\n0          2019   (\u003c\u003d20 cards)        2.135157e+08\n1          2019    (\u003e20 cards)        3.983707e+08\n2          2020   (\u003c\u003d20 cards)        1.844592e+08\n3          2020    (\u003e20 cards)        3.244778e+08\n4          2021   (\u003c\u003d20 cards)        2.336359e+08\n5          2021    (\u003e20 cards)        3.995124e+08\n6          2022   (\u003c\u003d20 cards)        3.440051e+08\n7          2022    (\u003e20 cards)        5.389983e+08",
            "text/html": "\u003cdiv\u003e\n\u003cstyle scoped\u003e\n    .dataframe tbody tr th:only-of-type {\n        vertical-align: middle;\n    }\n\n    .dataframe tbody tr th {\n        vertical-align: top;\n    }\n\n    .dataframe thead th {\n        text-align: right;\n    }\n\u003c/style\u003e\n\u003ctable border\u003d\"1\" class\u003d\"dataframe\"\u003e\n  \u003cthead\u003e\n    \u003ctr style\u003d\"text-align: right;\"\u003e\n      \u003cth\u003e\u003c/th\u003e\n      \u003cth\u003eREVENUE_YEAR\u003c/th\u003e\n      \u003cth\u003eFLEET_CATEGORY\u003c/th\u003e\n      \u003cth\u003eREVENUE_AMOUNT_USD\u003c/th\u003e\n    \u003c/tr\u003e\n  \u003c/thead\u003e\n  \u003ctbody\u003e\n    \u003ctr\u003e\n      \u003cth\u003e0\u003c/th\u003e\n      \u003ctd\u003e2019\u003c/td\u003e\n      \u003ctd\u003e(\u0026lt;\u003d20 cards)\u003c/td\u003e\n      \u003ctd\u003e2.135157e+08\u003c/td\u003e\n    \u003c/tr\u003e\n    \u003ctr\u003e\n      \u003cth\u003e1\u003c/th\u003e\n      \u003ctd\u003e2019\u003c/td\u003e\n      \u003ctd\u003e(\u0026gt;20 cards)\u003c/td\u003e\n      \u003ctd\u003e3.983707e+08\u003c/td\u003e\n    \u003c/tr\u003e\n    \u003ctr\u003e\n      \u003cth\u003e2\u003c/th\u003e\n      \u003ctd\u003e2020\u003c/td\u003e\n      \u003ctd\u003e(\u0026lt;\u003d20 cards)\u003c/td\u003e\n      \u003ctd\u003e1.844592e+08\u003c/td\u003e\n    \u003c/tr\u003e\n    \u003ctr\u003e\n      \u003cth\u003e3\u003c/th\u003e\n      \u003ctd\u003e2020\u003c/td\u003e\n      \u003ctd\u003e(\u0026gt;20 cards)\u003c/td\u003e\n      \u003ctd\u003e3.244778e+08\u003c/td\u003e\n    \u003c/tr\u003e\n    \u003ctr\u003e\n      \u003cth\u003e4\u003c/th\u003e\n      \u003ctd\u003e2021\u003c/td\u003e\n      \u003ctd\u003e(\u0026lt;\u003d20 cards)\u003c/td\u003e\n      \u003ctd\u003e2.336359e+08\u003c/td\u003e\n    \u003c/tr\u003e\n    \u003ctr\u003e\n      \u003cth\u003e5\u003c/th\u003e\n      \u003ctd\u003e2021\u003c/td\u003e\n      \u003ctd\u003e(\u0026gt;20 cards)\u003c/td\u003e\n      \u003ctd\u003e3.995124e+08\u003c/td\u003e\n    \u003c/tr\u003e\n    \u003ctr\u003e\n      \u003cth\u003e6\u003c/th\u003e\n      \u003ctd\u003e2022\u003c/td\u003e\n      \u003ctd\u003e(\u0026lt;\u003d20 cards)\u003c/td\u003e\n      \u003ctd\u003e3.440051e+08\u003c/td\u003e\n    \u003c/tr\u003e\n    \u003ctr\u003e\n      \u003cth\u003e7\u003c/th\u003e\n      \u003ctd\u003e2022\u003c/td\u003e\n      \u003ctd\u003e(\u0026gt;20 cards)\u003c/td\u003e\n      \u003ctd\u003e5.389983e+08\u003c/td\u003e\n    \u003c/tr\u003e\n  \u003c/tbody\u003e\n\u003c/table\u003e\n\u003c/div\u003e"
          },
          "metadata": {}
        }
      ]
    },
    {
      "execution_count": 102,
      "cell_type": "code",
      "metadata": {},
      "source": [
        "import matplotlib.dates as mdates\nfrom matplotlib.ticker import FuncFormatter\n\n    \nfig, ax1 \u003d plt.subplots(figsize\u003d(9,4))\n\ndim1 \u003d list(map(str,df_j[df_j.FLEET_CATEGORY\u003d\u003d\u0027(\u003e20 cards)\u0027].REVENUE_YEAR))\ndata1 \u003d df_j[df_j.FLEET_CATEGORY\u003d\u003d\u0027(\u003e20 cards)\u0027].ACTIVE_CARD_COUNT\n\n#dim2 \u003d list(map(str,df_j.FLEET_CATEGORY\u003d\u003d\u0027(\u003c\u003d20 cards)\u0027].YEAR_NUMBER))\n#data2 \u003d df_j[df_j.FLEET_CATEGORY\u003d\u003d\u0027(\u003c\u003d20 cards)\u0027].ACTIVE_CARD_COUNT\n\nax1.bar(dim1,data1, color\u003d\u0027#006BA2\u0027, width\u003d0.75)\nax1.bar(dim2,data2, bottom\u003ddata1, color\u003d\u0027#758D99\u0027, width\u003d0.75)\n\nax1.set_xlabel(\u0027YEAR\u0027, fontsize\u003d14)\nax1.set_ylabel(\u0027ACTIVE CARDS\u0027, fontsize\u003d14)\nax1.set_ylim(ymin\u003d0, ymax\u003dmax_value*1.15)\nax1.yaxis.set_major_formatter(FuncFormatter(lambda x, p: format(int(x), \u0027,\u0027)))\nax1.grid(color\u003d\u0027#95a5a6\u0027, linestyle\u003d\u0027--\u0027, linewidth\u003d1, axis\u003d\u0027y\u0027, alpha\u003d0.6)\nfig.autofmt_xdate()\nplt.title(\u0027ACTIVE CARDS BY FLEET SIZE\u0027)\nplt.legend([\u0027(\u003e20 cards)\u0027,\u0027(\u003c\u003d20 cards)\u0027], bbox_to_anchor\u003d(1.05,1.0), loc\u003d\u0027upper left\u0027)\nplt.show()"
      ],
      "outputs": [
        {
          "output_type": "error",
          "ename": "SyntaxError",
          "evalue": "invalid syntax (\u003cipython-input-102-a25324320cc6\u003e, line 7)",
          "traceback": [
            "\u001b[0;36m  File \u001b[0;32m\"\u003cipython-input-102-a25324320cc6\u003e\"\u001b[0;36m, line \u001b[0;32m7\u001b[0m\n\u001b[0;31m    dim1 \u003d list(map(str,df_j.FLEET_CATEGORY\u003d\u003d\u0027(\u003e20 cards)\u0027].YEAR_NUMBER))\u001b[0m\n\u001b[0m                                                          ^\u001b[0m\n\u001b[0;31mSyntaxError\u001b[0m\u001b[0;31m:\u001b[0m invalid syntax\n"
          ]
        }
      ]
    },
    {
      "execution_count": 0,
      "cell_type": "code",
      "metadata": {},
      "source": [
        "# Compute recipe outputs\n# TODO: Write here your actual code that computes the outputs\n# NB: DSS supports several kinds of APIs for reading and writing data. Please see doc.\n\n#RETENTION_RATE_BY_GROUP_df \u003d ... # Compute a Pandas dataframe to write into RETENTION_RATE_BY_GROUP\n\n# Write recipe outputs\n#RETENTION_RATE_BY_GROUP \u003d dataiku.Dataset(\"RETENTION_RATE_BY_GROUP\")\n#RETENTION_RATE_BY_GROUP.write_with_schema(RETENTION_RATE_BY_GROUP_df)"
      ],
      "outputs": []
    }
  ]
}