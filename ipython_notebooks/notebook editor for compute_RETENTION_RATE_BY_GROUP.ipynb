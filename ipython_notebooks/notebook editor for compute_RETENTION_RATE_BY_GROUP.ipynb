{
  "metadata": {
    "kernelspec": {
      "name": "py-dku-venv-env_clc",
      "display_name": "Python (env env_clc)",
      "language": "python"
    },
    "associatedRecipe": "compute_RETENTION_RATE_BY_GROUP",
    "creator": "Daniel.Vandermeer",
    "createdOn": 1676846218964,
    "tags": [
      "recipe-editor"
    ],
    "customFields": {},
    "hide_input": false,
    "language_info": {
      "name": "python",
      "version": "3.6.8",
      "mimetype": "text/x-python",
      "codemirror_mode": {
        "name": "ipython",
        "version": 3
      },
      "pygments_lexer": "ipython3",
      "nbconvert_exporter": "python",
      "file_extension": ".py"
    },
    "modifiedBy": "Daniel.Vandermeer"
  },
  "nbformat": 4,
  "nbformat_minor": 1,
  "cells": [
    {
      "execution_count": 1,
      "cell_type": "code",
      "metadata": {},
      "source": [
        "# -*- coding: utf-8 -*-\nimport dataiku\nimport pandas as pd, numpy as np\nfrom dataiku import pandasutils as pdu\n\nfrom datetime import date, datetime, timedelta\nimport matplotlib.pyplot as plt\nimport time\n\nt0 \u003d time.time()\n\nprint(\"loading...\")\n\n# Read recipe inputs\nNAFCUSTOMER_ACCOUNT_ANNUAL_ACTIVE_CARD_COUNT \u003d dataiku.Dataset(\"NAFCUSTOMER_ACCOUNT_ANNUAL_ACTIVE_CARD_COUNT\")\nNAFCUSTOMER_ACCOUNT_ANNUAL_ACTIVE_CARD_COUNT_df \u003d NAFCUSTOMER_ACCOUNT_ANNUAL_ACTIVE_CARD_COUNT.get_dataframe()\n\nNAFCUSTOMER_REVENUE_AGGREGATED \u003d dataiku.Dataset(\"NAFCUSTOMER_REVENUE_AGGREGATED\")\nNAFCUSTOMER_REVENUE_AGGREGATED_df \u003d NAFCUSTOMER_REVENUE_AGGREGATED.get_dataframe()\n\nt1 \u003d time.time()\nprint(\"load duration\", (t1-t0)/60.0, \"minutes\")"
      ],
      "outputs": [
        {
          "output_type": "stream",
          "text": "loading...\nload duration 9.379929351806641 minutes\n",
          "name": "stdout"
        }
      ]
    },
    {
      "execution_count": 2,
      "cell_type": "code",
      "metadata": {},
      "source": [
        "print(len(NAFCUSTOMER_ACCOUNT_ANNUAL_ACTIVE_CARD_COUNT_df), \"rows in NAFCUSTOMER_ACCOUNT_ANNUAL_ACTIVE_CARD_COUNT\")\ndf_a \u003d NAFCUSTOMER_ACCOUNT_ANNUAL_ACTIVE_CARD_COUNT_df.copy()\n\nprint(len(NAFCUSTOMER_REVENUE_AGGREGATED_df), \"rows in NAFCUSTOMER_REVENUE_AGGREGATED\")\ndf \u003d NAFCUSTOMER_REVENUE_AGGREGATED_df.copy()"
      ],
      "outputs": [
        {
          "output_type": "stream",
          "text": "2319568 rows in NAFCUSTOMER_ACCOUNT_ANNUAL_ACTIVE_CARD_COUNT\n18075044 rows in NAFCUSTOMER_REVENUE_AGGREGATED\n",
          "name": "stdout"
        }
      ]
    },
    {
      "execution_count": 9,
      "cell_type": "code",
      "metadata": {},
      "source": [
        "df_active_card_count_by_customer \u003d df_a.groupby([\u0027CUSTOMER_ID\u0027,\u0027CUSTOMER\u0027,\u0027YEAR_NUMBER\u0027]).ACTIVE_CARD_COUNT.sum().reset_index()\ndf_active_card_count_by_customer.head()"
      ],
      "outputs": [
        {
          "output_type": "execute_result",
          "execution_count": 9,
          "data": {
            "text/plain": "   CUSTOMER_ID                       CUSTOMER  YEAR_NUMBER  ACTIVE_CARD_COUNT\n0     77000000               1 AUTO PARTS INC         2019                  1\n1     77000001   94775 J AND J SNACK FOODS AA         2022                  3\n2     77000002          APOSTROPHE DESIGN INC         2019                  4\n3     77000002          APOSTROPHE DESIGN INC         2020                  4\n4     77000002          APOSTROPHE DESIGN INC         2021                  8",
            "text/html": "\u003cdiv\u003e\n\u003cstyle scoped\u003e\n    .dataframe tbody tr th:only-of-type {\n        vertical-align: middle;\n    }\n\n    .dataframe tbody tr th {\n        vertical-align: top;\n    }\n\n    .dataframe thead th {\n        text-align: right;\n    }\n\u003c/style\u003e\n\u003ctable border\u003d\"1\" class\u003d\"dataframe\"\u003e\n  \u003cthead\u003e\n    \u003ctr style\u003d\"text-align: right;\"\u003e\n      \u003cth\u003e\u003c/th\u003e\n      \u003cth\u003eCUSTOMER_ID\u003c/th\u003e\n      \u003cth\u003eCUSTOMER\u003c/th\u003e\n      \u003cth\u003eYEAR_NUMBER\u003c/th\u003e\n      \u003cth\u003eACTIVE_CARD_COUNT\u003c/th\u003e\n    \u003c/tr\u003e\n  \u003c/thead\u003e\n  \u003ctbody\u003e\n    \u003ctr\u003e\n      \u003cth\u003e0\u003c/th\u003e\n      \u003ctd\u003e77000000\u003c/td\u003e\n      \u003ctd\u003e1 AUTO PARTS INC\u003c/td\u003e\n      \u003ctd\u003e2019\u003c/td\u003e\n      \u003ctd\u003e1\u003c/td\u003e\n    \u003c/tr\u003e\n    \u003ctr\u003e\n      \u003cth\u003e1\u003c/th\u003e\n      \u003ctd\u003e77000001\u003c/td\u003e\n      \u003ctd\u003e94775 J AND J SNACK FOODS AA\u003c/td\u003e\n      \u003ctd\u003e2022\u003c/td\u003e\n      \u003ctd\u003e3\u003c/td\u003e\n    \u003c/tr\u003e\n    \u003ctr\u003e\n      \u003cth\u003e2\u003c/th\u003e\n      \u003ctd\u003e77000002\u003c/td\u003e\n      \u003ctd\u003eAPOSTROPHE DESIGN INC\u003c/td\u003e\n      \u003ctd\u003e2019\u003c/td\u003e\n      \u003ctd\u003e4\u003c/td\u003e\n    \u003c/tr\u003e\n    \u003ctr\u003e\n      \u003cth\u003e3\u003c/th\u003e\n      \u003ctd\u003e77000002\u003c/td\u003e\n      \u003ctd\u003eAPOSTROPHE DESIGN INC\u003c/td\u003e\n      \u003ctd\u003e2020\u003c/td\u003e\n      \u003ctd\u003e4\u003c/td\u003e\n    \u003c/tr\u003e\n    \u003ctr\u003e\n      \u003cth\u003e4\u003c/th\u003e\n      \u003ctd\u003e77000002\u003c/td\u003e\n      \u003ctd\u003eAPOSTROPHE DESIGN INC\u003c/td\u003e\n      \u003ctd\u003e2021\u003c/td\u003e\n      \u003ctd\u003e8\u003c/td\u003e\n    \u003c/tr\u003e\n  \u003c/tbody\u003e\n\u003c/table\u003e\n\u003c/div\u003e"
          },
          "metadata": {}
        }
      ]
    },
    {
      "execution_count": 10,
      "cell_type": "code",
      "metadata": {},
      "source": [
        "import matplotlib.dates as mdates\nfrom matplotlib.ticker import FuncFormatter\n\ndf_active_card_count_by_year \u003d df_active_card_count_by_customer.groupby(\u0027YEAR_NUMBER\u0027).ACTIVE_CARD_COUNT.sum().reset_index()\nmax_value \u003d df_active_card_count_by_year.ACTIVE_CARD_COUNT.max()\n\nchart_revenue_year \u003d [] \nfor y in df_active_card_count_by_customer.YEAR_NUMBER.tolist():\n    chart_revenue_year.append(str(y))\n    \nfig, ax1 \u003d plt.subplots(figsize\u003d(8,3))\nax1.plot(chart_revenue_year,df_active_card_count_by_year[\u0027ACTIVE_CARD_COUNT\u0027], marker\u003d\u0027o\u0027)\nax1.set_xlabel(\u0027YEAR\u0027, fontsize\u003d14)\nax1.set_ylabel(\u0027ACTIVE CARDS\u0027, fontsize\u003d14)\nax1.grid()\nax1.set_ylim(ymin\u003d0, ymax\u003dmax_value*1.15)\nax1.yaxis.set_major_formatter(FuncFormatter(lambda x, p: format(int(x), \u0027,\u0027)))\nfig.autofmt_xdate()\n#ax1.xaxis.set_major_locator(mdates.YearLocator())\nplt.show()\n\ndf_active_card_count_by_customer.head()"
      ],
      "outputs": [
        {
          "output_type": "display_data",
          "data": {
            "text/plain": "\u003cFigure size 576x216 with 1 Axes\u003e",
            "image/png": "[encoded data removed]"
          },
          "metadata": {}
        },
        {
          "output_type": "execute_result",
          "execution_count": 10,
          "data": {
            "text/plain": "   CUSTOMER_ID                       CUSTOMER  YEAR_NUMBER  ACTIVE_CARD_COUNT\n0     77000000               1 AUTO PARTS INC         2019                  1\n1     77000001   94775 J AND J SNACK FOODS AA         2022                  3\n2     77000002          APOSTROPHE DESIGN INC         2019                  4\n3     77000002          APOSTROPHE DESIGN INC         2020                  4\n4     77000002          APOSTROPHE DESIGN INC         2021                  8",
            "text/html": "\u003cdiv\u003e\n\u003cstyle scoped\u003e\n    .dataframe tbody tr th:only-of-type {\n        vertical-align: middle;\n    }\n\n    .dataframe tbody tr th {\n        vertical-align: top;\n    }\n\n    .dataframe thead th {\n        text-align: right;\n    }\n\u003c/style\u003e\n\u003ctable border\u003d\"1\" class\u003d\"dataframe\"\u003e\n  \u003cthead\u003e\n    \u003ctr style\u003d\"text-align: right;\"\u003e\n      \u003cth\u003e\u003c/th\u003e\n      \u003cth\u003eCUSTOMER_ID\u003c/th\u003e\n      \u003cth\u003eCUSTOMER\u003c/th\u003e\n      \u003cth\u003eYEAR_NUMBER\u003c/th\u003e\n      \u003cth\u003eACTIVE_CARD_COUNT\u003c/th\u003e\n    \u003c/tr\u003e\n  \u003c/thead\u003e\n  \u003ctbody\u003e\n    \u003ctr\u003e\n      \u003cth\u003e0\u003c/th\u003e\n      \u003ctd\u003e77000000\u003c/td\u003e\n      \u003ctd\u003e1 AUTO PARTS INC\u003c/td\u003e\n      \u003ctd\u003e2019\u003c/td\u003e\n      \u003ctd\u003e1\u003c/td\u003e\n    \u003c/tr\u003e\n    \u003ctr\u003e\n      \u003cth\u003e1\u003c/th\u003e\n      \u003ctd\u003e77000001\u003c/td\u003e\n      \u003ctd\u003e94775 J AND J SNACK FOODS AA\u003c/td\u003e\n      \u003ctd\u003e2022\u003c/td\u003e\n      \u003ctd\u003e3\u003c/td\u003e\n    \u003c/tr\u003e\n    \u003ctr\u003e\n      \u003cth\u003e2\u003c/th\u003e\n      \u003ctd\u003e77000002\u003c/td\u003e\n      \u003ctd\u003eAPOSTROPHE DESIGN INC\u003c/td\u003e\n      \u003ctd\u003e2019\u003c/td\u003e\n      \u003ctd\u003e4\u003c/td\u003e\n    \u003c/tr\u003e\n    \u003ctr\u003e\n      \u003cth\u003e3\u003c/th\u003e\n      \u003ctd\u003e77000002\u003c/td\u003e\n      \u003ctd\u003eAPOSTROPHE DESIGN INC\u003c/td\u003e\n      \u003ctd\u003e2020\u003c/td\u003e\n      \u003ctd\u003e4\u003c/td\u003e\n    \u003c/tr\u003e\n    \u003ctr\u003e\n      \u003cth\u003e4\u003c/th\u003e\n      \u003ctd\u003e77000002\u003c/td\u003e\n      \u003ctd\u003eAPOSTROPHE DESIGN INC\u003c/td\u003e\n      \u003ctd\u003e2021\u003c/td\u003e\n      \u003ctd\u003e8\u003c/td\u003e\n    \u003c/tr\u003e\n  \u003c/tbody\u003e\n\u003c/table\u003e\n\u003c/div\u003e"
          },
          "metadata": {}
        }
      ]
    },
    {
      "execution_count": 0,
      "cell_type": "code",
      "metadata": {},
      "source": [
        "# Compute recipe outputs\n# TODO: Write here your actual code that computes the outputs\n# NB: DSS supports several kinds of APIs for reading and writing data. Please see doc.\n\n#RETENTION_RATE_BY_GROUP_df \u003d ... # Compute a Pandas dataframe to write into RETENTION_RATE_BY_GROUP\n\n# Write recipe outputs\n#RETENTION_RATE_BY_GROUP \u003d dataiku.Dataset(\"RETENTION_RATE_BY_GROUP\")\n#RETENTION_RATE_BY_GROUP.write_with_schema(RETENTION_RATE_BY_GROUP_df)"
      ],
      "outputs": []
    }
  ]
}