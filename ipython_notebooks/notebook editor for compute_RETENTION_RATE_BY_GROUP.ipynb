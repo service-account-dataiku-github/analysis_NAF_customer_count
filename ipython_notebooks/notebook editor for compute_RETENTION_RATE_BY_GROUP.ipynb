{
  "metadata": {
    "kernelspec": {
      "name": "py-dku-venv-env_clc",
      "display_name": "Python (env env_clc)",
      "language": "python"
    },
    "associatedRecipe": "compute_RETENTION_RATE_BY_GROUP",
    "creator": "Daniel.Vandermeer",
    "createdOn": 1676846218964,
    "tags": [
      "recipe-editor"
    ],
    "customFields": {},
    "hide_input": false,
    "language_info": {
      "name": "python",
      "version": "3.6.8",
      "mimetype": "text/x-python",
      "codemirror_mode": {
        "name": "ipython",
        "version": 3
      },
      "pygments_lexer": "ipython3",
      "nbconvert_exporter": "python",
      "file_extension": ".py"
    },
    "modifiedBy": "Daniel.Vandermeer"
  },
  "nbformat": 4,
  "nbformat_minor": 1,
  "cells": [
    {
      "execution_count": 1,
      "cell_type": "code",
      "metadata": {},
      "source": [
        "# -*- coding: utf-8 -*-\nimport dataiku\nimport pandas as pd, numpy as np\nfrom dataiku import pandasutils as pdu\n\nfrom datetime import date, datetime, timedelta\nimport matplotlib.pyplot as plt\nimport time\n\nt0 \u003d time.time()\n\nprint(\"loading...\")\n\n# Read recipe inputs\nNAFCUSTOMER_ACCOUNT_ANNUAL_ACTIVE_CARD_COUNT \u003d dataiku.Dataset(\"NAFCUSTOMER_ACCOUNT_ANNUAL_ACTIVE_CARD_COUNT\")\nNAFCUSTOMER_ACCOUNT_ANNUAL_ACTIVE_CARD_COUNT_df \u003d NAFCUSTOMER_ACCOUNT_ANNUAL_ACTIVE_CARD_COUNT.get_dataframe()\n\nNAFCUSTOMER_REVENUE_AGGREGATED \u003d dataiku.Dataset(\"NAFCUSTOMER_REVENUE_AGGREGATED\")\nNAFCUSTOMER_REVENUE_AGGREGATED_df \u003d NAFCUSTOMER_REVENUE_AGGREGATED.get_dataframe()\n\nt1 \u003d time.time()\nprint(\"load duration\", (t1-t0)/60.0, \"minutes\")"
      ],
      "outputs": [
        {
          "output_type": "stream",
          "text": "loading...\nload duration 9.379929351806641 minutes\n",
          "name": "stdout"
        }
      ]
    },
    {
      "execution_count": 2,
      "cell_type": "code",
      "metadata": {},
      "source": [
        "print(len(NAFCUSTOMER_ACCOUNT_ANNUAL_ACTIVE_CARD_COUNT_df), \"rows in NAFCUSTOMER_ACCOUNT_ANNUAL_ACTIVE_CARD_COUNT\")\ndf_a \u003d NAFCUSTOMER_ACCOUNT_ANNUAL_ACTIVE_CARD_COUNT_df.copy()\n\nprint(len(NAFCUSTOMER_REVENUE_AGGREGATED_df), \"rows in NAFCUSTOMER_REVENUE_AGGREGATED\")\ndf \u003d NAFCUSTOMER_REVENUE_AGGREGATED_df.copy()"
      ],
      "outputs": [
        {
          "output_type": "stream",
          "text": "2319568 rows in NAFCUSTOMER_ACCOUNT_ANNUAL_ACTIVE_CARD_COUNT\n18075044 rows in NAFCUSTOMER_REVENUE_AGGREGATED\n",
          "name": "stdout"
        }
      ]
    },
    {
      "execution_count": 5,
      "cell_type": "code",
      "metadata": {},
      "source": [
        "df_a[df_a.CUSTOMER\u003d\u003d\u0027AT\u0026T\u0027].head(10)"
      ],
      "outputs": [
        {
          "output_type": "execute_result",
          "execution_count": 5,
          "data": {
            "text/plain": "        CUSTOMER_ID CUSTOMER  CUSTOMER_ACCOUNT_ID  YEAR_NUMBER  ACTIVE_CARD_COUNT\n148        77060321     AT\u0026T        9100003477051         2019              25625\n226        77060321     AT\u0026T        9100002999961         2019              16680\n1333       77060321     AT\u0026T        9100003070620         2022               3470\n292025     77060321     AT\u0026T        9100003380481         2021              18618\n474566     77060321     AT\u0026T        9100003235032         2022                  8\n579458     77060321     AT\u0026T        9100003253068         2022              13400\n581555     77060321     AT\u0026T        9100003380481         2019              12226\n869341     77060321     AT\u0026T        9100003253068         2020              15020\n869811     77060321     AT\u0026T        9100003253068         2019              16584\n870842     77060321     AT\u0026T        9100003070620         2019               5106",
            "text/html": "\u003cdiv\u003e\n\u003cstyle scoped\u003e\n    .dataframe tbody tr th:only-of-type {\n        vertical-align: middle;\n    }\n\n    .dataframe tbody tr th {\n        vertical-align: top;\n    }\n\n    .dataframe thead th {\n        text-align: right;\n    }\n\u003c/style\u003e\n\u003ctable border\u003d\"1\" class\u003d\"dataframe\"\u003e\n  \u003cthead\u003e\n    \u003ctr style\u003d\"text-align: right;\"\u003e\n      \u003cth\u003e\u003c/th\u003e\n      \u003cth\u003eCUSTOMER_ID\u003c/th\u003e\n      \u003cth\u003eCUSTOMER\u003c/th\u003e\n      \u003cth\u003eCUSTOMER_ACCOUNT_ID\u003c/th\u003e\n      \u003cth\u003eYEAR_NUMBER\u003c/th\u003e\n      \u003cth\u003eACTIVE_CARD_COUNT\u003c/th\u003e\n    \u003c/tr\u003e\n  \u003c/thead\u003e\n  \u003ctbody\u003e\n    \u003ctr\u003e\n      \u003cth\u003e148\u003c/th\u003e\n      \u003ctd\u003e77060321\u003c/td\u003e\n      \u003ctd\u003eAT\u0026amp;T\u003c/td\u003e\n      \u003ctd\u003e9100003477051\u003c/td\u003e\n      \u003ctd\u003e2019\u003c/td\u003e\n      \u003ctd\u003e25625\u003c/td\u003e\n    \u003c/tr\u003e\n    \u003ctr\u003e\n      \u003cth\u003e226\u003c/th\u003e\n      \u003ctd\u003e77060321\u003c/td\u003e\n      \u003ctd\u003eAT\u0026amp;T\u003c/td\u003e\n      \u003ctd\u003e9100002999961\u003c/td\u003e\n      \u003ctd\u003e2019\u003c/td\u003e\n      \u003ctd\u003e16680\u003c/td\u003e\n    \u003c/tr\u003e\n    \u003ctr\u003e\n      \u003cth\u003e1333\u003c/th\u003e\n      \u003ctd\u003e77060321\u003c/td\u003e\n      \u003ctd\u003eAT\u0026amp;T\u003c/td\u003e\n      \u003ctd\u003e9100003070620\u003c/td\u003e\n      \u003ctd\u003e2022\u003c/td\u003e\n      \u003ctd\u003e3470\u003c/td\u003e\n    \u003c/tr\u003e\n    \u003ctr\u003e\n      \u003cth\u003e292025\u003c/th\u003e\n      \u003ctd\u003e77060321\u003c/td\u003e\n      \u003ctd\u003eAT\u0026amp;T\u003c/td\u003e\n      \u003ctd\u003e9100003380481\u003c/td\u003e\n      \u003ctd\u003e2021\u003c/td\u003e\n      \u003ctd\u003e18618\u003c/td\u003e\n    \u003c/tr\u003e\n    \u003ctr\u003e\n      \u003cth\u003e474566\u003c/th\u003e\n      \u003ctd\u003e77060321\u003c/td\u003e\n      \u003ctd\u003eAT\u0026amp;T\u003c/td\u003e\n      \u003ctd\u003e9100003235032\u003c/td\u003e\n      \u003ctd\u003e2022\u003c/td\u003e\n      \u003ctd\u003e8\u003c/td\u003e\n    \u003c/tr\u003e\n    \u003ctr\u003e\n      \u003cth\u003e579458\u003c/th\u003e\n      \u003ctd\u003e77060321\u003c/td\u003e\n      \u003ctd\u003eAT\u0026amp;T\u003c/td\u003e\n      \u003ctd\u003e9100003253068\u003c/td\u003e\n      \u003ctd\u003e2022\u003c/td\u003e\n      \u003ctd\u003e13400\u003c/td\u003e\n    \u003c/tr\u003e\n    \u003ctr\u003e\n      \u003cth\u003e581555\u003c/th\u003e\n      \u003ctd\u003e77060321\u003c/td\u003e\n      \u003ctd\u003eAT\u0026amp;T\u003c/td\u003e\n      \u003ctd\u003e9100003380481\u003c/td\u003e\n      \u003ctd\u003e2019\u003c/td\u003e\n      \u003ctd\u003e12226\u003c/td\u003e\n    \u003c/tr\u003e\n    \u003ctr\u003e\n      \u003cth\u003e869341\u003c/th\u003e\n      \u003ctd\u003e77060321\u003c/td\u003e\n      \u003ctd\u003eAT\u0026amp;T\u003c/td\u003e\n      \u003ctd\u003e9100003253068\u003c/td\u003e\n      \u003ctd\u003e2020\u003c/td\u003e\n      \u003ctd\u003e15020\u003c/td\u003e\n    \u003c/tr\u003e\n    \u003ctr\u003e\n      \u003cth\u003e869811\u003c/th\u003e\n      \u003ctd\u003e77060321\u003c/td\u003e\n      \u003ctd\u003eAT\u0026amp;T\u003c/td\u003e\n      \u003ctd\u003e9100003253068\u003c/td\u003e\n      \u003ctd\u003e2019\u003c/td\u003e\n      \u003ctd\u003e16584\u003c/td\u003e\n    \u003c/tr\u003e\n    \u003ctr\u003e\n      \u003cth\u003e870842\u003c/th\u003e\n      \u003ctd\u003e77060321\u003c/td\u003e\n      \u003ctd\u003eAT\u0026amp;T\u003c/td\u003e\n      \u003ctd\u003e9100003070620\u003c/td\u003e\n      \u003ctd\u003e2019\u003c/td\u003e\n      \u003ctd\u003e5106\u003c/td\u003e\n    \u003c/tr\u003e\n  \u003c/tbody\u003e\n\u003c/table\u003e\n\u003c/div\u003e"
          },
          "metadata": {}
        }
      ]
    },
    {
      "execution_count": 0,
      "cell_type": "code",
      "metadata": {},
      "source": [
        "# Compute recipe outputs\n# TODO: Write here your actual code that computes the outputs\n# NB: DSS supports several kinds of APIs for reading and writing data. Please see doc.\n\n#RETENTION_RATE_BY_GROUP_df \u003d ... # Compute a Pandas dataframe to write into RETENTION_RATE_BY_GROUP\n\n# Write recipe outputs\n#RETENTION_RATE_BY_GROUP \u003d dataiku.Dataset(\"RETENTION_RATE_BY_GROUP\")\n#RETENTION_RATE_BY_GROUP.write_with_schema(RETENTION_RATE_BY_GROUP_df)"
      ],
      "outputs": []
    }
  ]
}