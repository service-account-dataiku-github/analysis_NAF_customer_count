{
  "metadata": {
    "kernelspec": {
      "name": "py-dku-venv-env_clc",
      "display_name": "Python (env env_clc)",
      "language": "python"
    },
    "associatedRecipe": "compute_RETENTION_RATE_BY_GROUP",
    "dkuGit": {
      "lastInteraction": 0
    },
    "creationTag": {
      "versionNumber": 0,
      "lastModifiedBy": {
        "login": "Daniel.Vandermeer"
      },
      "lastModifiedOn": 1676846218964
    },
    "creator": "Daniel.Vandermeer",
    "createdOn": 1676846218964,
    "tags": [
      "recipe-editor"
    ],
    "customFields": {},
    "hide_input": false,
    "language_info": {
      "name": "python",
      "version": "3.6.8",
      "mimetype": "text/x-python",
      "codemirror_mode": {
        "name": "ipython",
        "version": 3
      },
      "pygments_lexer": "ipython3",
      "nbconvert_exporter": "python",
      "file_extension": ".py"
    },
    "modifiedBy": "Daniel.Vandermeer"
  },
  "nbformat": 4,
  "nbformat_minor": 1,
  "cells": [
    {
      "execution_count": 199,
      "cell_type": "code",
      "metadata": {},
      "source": [
        "# -*- coding: utf-8 -*-\nimport dataiku\nimport pandas as pd, numpy as np\nfrom dataiku import pandasutils as pdu\n\nfrom datetime import date, datetime, timedelta\nimport matplotlib.pyplot as plt\nimport time\n\nt0 \u003d time.time()\n\nprint(\"loading...\")\n\n# Read recipe inputs\nNAFCUSTOMER_ACCOUNT_ANNUAL_ACTIVE_CARD_COUNT \u003d dataiku.Dataset(\"NAFCUSTOMER_ACCOUNT_ANNUAL_ACTIVE_CARD_COUNT\")\nNAFCUSTOMER_ACCOUNT_ANNUAL_ACTIVE_CARD_COUNT_df \u003d NAFCUSTOMER_ACCOUNT_ANNUAL_ACTIVE_CARD_COUNT.get_dataframe()\n\nNAFCUSTOMER_REVENUE_AGGREGATED \u003d dataiku.Dataset(\"NAFCUSTOMER_REVENUE_AGGREGATED\")\nNAFCUSTOMER_REVENUE_AGGREGATED_df \u003d NAFCUSTOMER_REVENUE_AGGREGATED.get_dataframe()\n\nt1 \u003d time.time()\nprint(\"load duration\", (t1-t0)/60.0, \"minutes\")"
      ],
      "outputs": [
        {
          "output_type": "stream",
          "text": "loading...\nload duration 10.291395437717437 minutes\n",
          "name": "stdout"
        }
      ]
    },
    {
      "execution_count": 0,
      "cell_type": "code",
      "metadata": {},
      "source": [
        "print(len(NAFCUSTOMER_ACCOUNT_ANNUAL_ACTIVE_CARD_COUNT_df), \"rows in NAFCUSTOMER_ACCOUNT_ANNUAL_ACTIVE_CARD_COUNT\")\ndf_a \u003d NAFCUSTOMER_ACCOUNT_ANNUAL_ACTIVE_CARD_COUNT_df.copy()\n\nprint(len(NAFCUSTOMER_REVENUE_AGGREGATED_df), \"rows in NAFCUSTOMER_REVENUE_AGGREGATED\")\ndf \u003d NAFCUSTOMER_REVENUE_AGGREGATED_df.copy()\ndf \u003d df[df.REVENUE_YEAR!\u003d2023]\nprint(len(df))"
      ],
      "outputs": []
    },
    {
      "execution_count": 0,
      "cell_type": "code",
      "metadata": {},
      "source": [
        "df.head()"
      ],
      "outputs": []
    },
    {
      "execution_count": 0,
      "cell_type": "code",
      "metadata": {},
      "source": [
        "df_revenue_by_customer_and_year \u003d df.groupby([\u0027CUSTOMER_ID\u0027,\u0027CUSTOMER\u0027,\u0027REVENUE_YEAR\u0027]).REVENUE_AMOUNT_USD.sum().reset_index()\nprint(len(df_revenue_by_customer_and_year))\n\ndf_spend_by_customer_and_year \u003d df.groupby([\u0027CUSTOMER_ID\u0027,\u0027CUSTOMER\u0027,\u0027REVENUE_YEAR\u0027]).GROSS_SPEND_AMOUNT.sum().reset_index()\nprint(len(df_spend_by_customer_and_year))\n\ndf_active_card_count_by_customer \u003d df_a.groupby([\u0027CUSTOMER_ID\u0027,\u0027CUSTOMER\u0027,\u0027YEAR_NUMBER\u0027]).ACTIVE_CARD_COUNT.sum().reset_index()\ndf_active_card_count_by_customer.columns \u003d [\u0027CUSTOMER_ID\u0027,\u0027CUSTOMER\u0027,\u0027REVENUE_YEAR\u0027,\u0027ACTIVE_CARD_COUNT\u0027]\nprint(len(df_active_card_count_by_customer))\n\ndf_customer_fleet_size \u003d df_active_card_count_by_customer.groupby([\u0027CUSTOMER_ID\u0027,\u0027CUSTOMER\u0027]).ACTIVE_CARD_COUNT.max().reset_index()\ndf_customer_fleet_size.columns \u003d [\u0027CUSTOMER_ID\u0027, \u0027CUSTOMER\u0027, \u0027FLEET_SIZE\u0027]\nprint(len(df_customer_fleet_size))"
      ],
      "outputs": []
    },
    {
      "execution_count": 0,
      "cell_type": "code",
      "metadata": {},
      "source": [
        "print(len(df_revenue_by_customer_and_year))\ndf_j \u003d pd.merge(df_revenue_by_customer_and_year,df_spend_by_customer_and_year,how\u003d\u0027left\u0027,on\u003d[\u0027CUSTOMER_ID\u0027,\u0027CUSTOMER\u0027,\u0027REVENUE_YEAR\u0027])\nprint(len(df_j))\n\ndf_j \u003d pd.merge(df_j,df_active_card_count_by_customer,how\u003d\u0027left\u0027,on\u003d[\u0027CUSTOMER_ID\u0027,\u0027CUSTOMER\u0027,\u0027REVENUE_YEAR\u0027])\nprint(len(df_j))\n\ndf_j \u003d pd.merge(df_j,df_customer_fleet_size, how\u003d\u0027left\u0027,on\u003d[\u0027CUSTOMER_ID\u0027,\u0027CUSTOMER\u0027])\nprint(len(df_j))\n\ndf_j.loc[df_j.ACTIVE_CARD_COUNT.isnull(),\u0027ACTIVE_CARD_COUNT\u0027] \u003d 0\ndf_j.loc[df_j.FLEET_SIZE.isnull(),\u0027FLEET_SIZE\u0027] \u003d 0\n\ndf_j[\u0027FLEET_CATEGORY\u0027] \u003d \u0027NOT SET\u0027\ndf_j.loc[df_j.FLEET_SIZE.between(0,5),\u0027FLEET_CATEGORY\u0027] \u003d \u0027(\u003c\u003d5 cards)\u0027\ndf_j.loc[df_j.FLEET_SIZE.between(6,100),\u0027FLEET_CATEGORY\u0027] \u003d \u0027(between 6 and 100 cards)\u0027\ndf_j.loc[df_j.FLEET_SIZE\u003e50,\u0027FLEET_CATEGORY\u0027] \u003d \u0027(\u003e100 cards)\u0027\ndf_j.head()"
      ],
      "outputs": []
    },
    {
      "execution_count": 0,
      "cell_type": "code",
      "metadata": {},
      "source": [
        "df_j.FLEET_CATEGORY.unique()"
      ],
      "outputs": []
    },
    {
      "execution_count": 0,
      "cell_type": "code",
      "metadata": {},
      "source": [
        "df_revenue_by_year \u003d df_j.groupby([\u0027REVENUE_YEAR\u0027,\u0027FLEET_CATEGORY\u0027]).REVENUE_AMOUNT_USD.sum().reset_index()\ndf_revenue_by_year.head(10)"
      ],
      "outputs": []
    },
    {
      "execution_count": 0,
      "cell_type": "code",
      "metadata": {},
      "source": [
        "df_revenue_by_year.REVENUE_YEAR.value_counts()"
      ],
      "outputs": []
    },
    {
      "execution_count": 0,
      "cell_type": "code",
      "metadata": {},
      "source": [
        "import matplotlib.dates as mdates\nfrom matplotlib.ticker import FuncFormatter\n\nfig, ax1 \u003d plt.subplots(figsize\u003d(9,4))\n\n#[\u0027(\u003c\u003d5 cards)\u0027, \u0027(between 6 and 100 cards)\u0027, \u0027(\u003e100 cards)\u0027]\n\ndim1 \u003d list(map(str,df_revenue_by_year[df_revenue_by_year.FLEET_CATEGORY\u003d\u003d\u0027(\u003e100 cards)\u0027].REVENUE_YEAR))\ndata1 \u003d df_revenue_by_year[df_revenue_by_year.FLEET_CATEGORY\u003d\u003d\u0027(\u003e100 cards)\u0027].REVENUE_AMOUNT_USD\n\ndim2 \u003d list(map(str,df_revenue_by_year[df_revenue_by_year.FLEET_CATEGORY\u003d\u003d\u0027(between 6 and 100 cards)\u0027].REVENUE_YEAR))\ndata2 \u003d df_revenue_by_year[df_revenue_by_year.FLEET_CATEGORY\u003d\u003d\u0027(between 6 and 100 cards)\u0027].REVENUE_AMOUNT_USD\n\ndim3 \u003d list(map(str,df_revenue_by_year[df_revenue_by_year.FLEET_CATEGORY\u003d\u003d\u0027(\u003c\u003d5 cards)\u0027].REVENUE_YEAR))\ndata3 \u003d df_revenue_by_year[df_revenue_by_year.FLEET_CATEGORY\u003d\u003d\u0027(\u003c\u003d5 cards)\u0027].REVENUE_AMOUNT_USD\n\n#ax1.bar(dim1,data1, color\u003d\u0027#006BA2\u0027, width\u003d0.75)\n#ax1.bar(dim2,data2, bottom\u003ddata1, color\u003d\u0027#758D99\u0027, width\u003d0.75)\n#ax1.bar(dim3,data3, bottom\u003ddata2+data1, color\u003d\u0027#EBB434\u0027, width\u003d0.75)\n\nax1.plot(dim1,data1, color\u003d\u0027#006BA2\u0027)\nax1.plot(dim2,data2, color\u003d\u0027#758D99\u0027)\nax1.plot(dim3,data3, color\u003d\u0027#EBB434\u0027)\n\nax1.set_xlabel(\u0027YEAR\u0027, fontsize\u003d14)\nax1.set_ylabel(\u0027REVENUE\u0027, fontsize\u003d14)\n#ax1.set_ylim(ymin\u003d0, ymax\u003dmax_value*1.15)\nax1.yaxis.set_major_formatter(FuncFormatter(lambda x, p: format(int(x), \u0027,\u0027)))\nax1.grid(color\u003d\u0027#95a5a6\u0027, linestyle\u003d\u0027--\u0027, linewidth\u003d1, axis\u003d\u0027y\u0027, alpha\u003d0.6)\nfig.autofmt_xdate()\nplt.title(\u0027TURN THIS INTO A PROPER BAR\u0027)\nplt.legend([\u0027(\u003e100 cards)\u0027,\u0027(between 6 and 100 cards)\u0027,\u0027(\u003c\u003d5 cards)\u0027], bbox_to_anchor\u003d(1.05,1.0), loc\u003d\u0027upper left\u0027)\nplt.show()"
      ],
      "outputs": []
    },
    {
      "execution_count": 0,
      "cell_type": "code",
      "metadata": {},
      "source": [
        "df_spend_by_year \u003d df_j.groupby([\u0027REVENUE_YEAR\u0027,\u0027FLEET_CATEGORY\u0027]).GROSS_SPEND_AMOUNT.sum().reset_index()\ndf_spend_by_year.head(10)"
      ],
      "outputs": []
    },
    {
      "execution_count": 0,
      "cell_type": "code",
      "metadata": {},
      "source": [
        "import matplotlib.dates as mdates\nfrom matplotlib.ticker import FuncFormatter\n\nfig, ax1 \u003d plt.subplots(figsize\u003d(9,4))\n\ndim1 \u003d list(map(str,df_spend_by_year[df_spend_by_year.FLEET_CATEGORY\u003d\u003d\u0027(\u003e20 cards)\u0027].REVENUE_YEAR))\ndata1 \u003d df_spend_by_year[df_spend_by_year.FLEET_CATEGORY\u003d\u003d\u0027(\u003e20 cards)\u0027].GROSS_SPEND_AMOUNT\n\ndim2 \u003d list(map(str,df_spend_by_year[df_spend_by_year.FLEET_CATEGORY\u003d\u003d\u0027(\u003c\u003d20 cards)\u0027].REVENUE_YEAR))\ndata2 \u003d df_spend_by_year[df_spend_by_year.FLEET_CATEGORY\u003d\u003d\u0027(\u003c\u003d20 cards)\u0027].GROSS_SPEND_AMOUNT\n\nax1.bar(dim1,data1, color\u003d\u0027#006BA2\u0027, width\u003d0.75)\nax1.bar(dim2,data2, bottom\u003ddata1, color\u003d\u0027#758D99\u0027, width\u003d0.75)\n\nax1.set_xlabel(\u0027YEAR\u0027, fontsize\u003d14)\nax1.set_ylabel(\u0027SPEND\u0027, fontsize\u003d14)\n#ax1.set_ylim(ymin\u003d0, ymax\u003dmax_value*1.15)\nax1.yaxis.set_major_formatter(FuncFormatter(lambda x, p: format(int(x), \u0027,\u0027)))\nax1.grid(color\u003d\u0027#95a5a6\u0027, linestyle\u003d\u0027--\u0027, linewidth\u003d1, axis\u003d\u0027y\u0027, alpha\u003d0.6)\nfig.autofmt_xdate()\nplt.title(\u0027SPEND by YEAR\u0027)\nplt.legend([\u0027(\u003e20 cards)\u0027,\u0027(\u003c\u003d20 cards)\u0027], bbox_to_anchor\u003d(1.05,1.0), loc\u003d\u0027upper left\u0027)\nplt.show()"
      ],
      "outputs": []
    },
    {
      "execution_count": 0,
      "cell_type": "code",
      "metadata": {},
      "source": [
        "df_customer_by_year \u003d df_j.groupby([\u0027REVENUE_YEAR\u0027,\u0027FLEET_CATEGORY\u0027]).CUSTOMER_ID.nunique().reset_index()\ndf_customer_by_year.columns \u003d [\u0027REVENUE_YEAR\u0027, \u0027FLEET_CATEGORY\u0027, \u0027CUSTOMER_COUNT\u0027]\ndf_customer_by_year.head(10)"
      ],
      "outputs": []
    },
    {
      "execution_count": 0,
      "cell_type": "code",
      "metadata": {},
      "source": [
        "import matplotlib.dates as mdates\nfrom matplotlib.ticker import FuncFormatter\n\nfig, ax1 \u003d plt.subplots(figsize\u003d(9,4))\n\ndim1 \u003d list(map(str,df_customer_by_year[df_customer_by_year.FLEET_CATEGORY\u003d\u003d\u0027(\u003e20 cards)\u0027].REVENUE_YEAR))\ndata1 \u003d df_customer_by_year[df_customer_by_year.FLEET_CATEGORY\u003d\u003d\u0027(\u003e20 cards)\u0027].CUSTOMER_COUNT\n\ndim2 \u003d list(map(str,df_customer_by_year[df_customer_by_year.FLEET_CATEGORY\u003d\u003d\u0027(\u003c\u003d20 cards)\u0027].REVENUE_YEAR))\ndata2 \u003d df_customer_by_year[df_customer_by_year.FLEET_CATEGORY\u003d\u003d\u0027(\u003c\u003d20 cards)\u0027].CUSTOMER_COUNT\n\nax1.bar(dim1,data1, color\u003d\u0027#006BA2\u0027, width\u003d0.75)\nax1.bar(dim2,data2, bottom\u003ddata1, color\u003d\u0027#758D99\u0027, width\u003d0.75)\n\nax1.set_xlabel(\u0027YEAR\u0027, fontsize\u003d14)\nax1.set_ylabel(\u0027CUSTOMER COUNT\u0027, fontsize\u003d14)\n#ax1.set_ylim(ymin\u003d0, ymax\u003dmax_value*1.15)\nax1.yaxis.set_major_formatter(FuncFormatter(lambda x, p: format(int(x), \u0027,\u0027)))\nax1.grid(color\u003d\u0027#95a5a6\u0027, linestyle\u003d\u0027--\u0027, linewidth\u003d1, axis\u003d\u0027y\u0027, alpha\u003d0.6)\nfig.autofmt_xdate()\nplt.title(\u0027CUSTOMER COUNT by YEAR\u0027)\nplt.legend([\u0027(\u003e20 cards)\u0027,\u0027(\u003c\u003d20 cards)\u0027], bbox_to_anchor\u003d(1.05,1.0), loc\u003d\u0027upper left\u0027)\nplt.show()"
      ],
      "outputs": []
    },
    {
      "execution_count": 0,
      "cell_type": "code",
      "metadata": {},
      "source": [
        "df_active_cards_by_year \u003d df_j.groupby([\u0027REVENUE_YEAR\u0027,\u0027FLEET_CATEGORY\u0027]).ACTIVE_CARD_COUNT.sum().reset_index()\ndf_active_cards_by_year.head(10)"
      ],
      "outputs": []
    },
    {
      "execution_count": 0,
      "cell_type": "code",
      "metadata": {},
      "source": [
        "import matplotlib.dates as mdates\nfrom matplotlib.ticker import FuncFormatter\n\nfig, ax1 \u003d plt.subplots(figsize\u003d(9,4))\n\ndim1 \u003d list(map(str,df_active_cards_by_year[df_active_cards_by_year.FLEET_CATEGORY\u003d\u003d\u0027(\u003e20 cards)\u0027].REVENUE_YEAR))\ndata1 \u003d df_active_cards_by_year[df_active_cards_by_year.FLEET_CATEGORY\u003d\u003d\u0027(\u003e20 cards)\u0027].ACTIVE_CARD_COUNT\n\ndim2 \u003d list(map(str,df_active_cards_by_year[df_active_cards_by_year.FLEET_CATEGORY\u003d\u003d\u0027(\u003c\u003d20 cards)\u0027].REVENUE_YEAR))\ndata2 \u003d df_active_cards_by_year[df_active_cards_by_year.FLEET_CATEGORY\u003d\u003d\u0027(\u003c\u003d20 cards)\u0027].ACTIVE_CARD_COUNT\n\nax1.bar(dim1,data1, color\u003d\u0027#006BA2\u0027, width\u003d0.75)\nax1.bar(dim2,data2, bottom\u003ddata1, color\u003d\u0027#758D99\u0027, width\u003d0.75)\n\nax1.set_xlabel(\u0027YEAR\u0027, fontsize\u003d14)\nax1.set_ylabel(\u0027ACTIVE CARDS\u0027, fontsize\u003d14)\n#ax1.set_ylim(ymin\u003d0, ymax\u003dmax_value*1.15)\nax1.yaxis.set_major_formatter(FuncFormatter(lambda x, p: format(int(x), \u0027,\u0027)))\nax1.grid(color\u003d\u0027#95a5a6\u0027, linestyle\u003d\u0027--\u0027, linewidth\u003d1, axis\u003d\u0027y\u0027, alpha\u003d0.6)\nfig.autofmt_xdate()\nplt.title(\u0027ACTIVE CARD COUNT by YEAR\u0027)\nplt.legend([\u0027(\u003e20 cards)\u0027,\u0027(\u003c\u003d20 cards)\u0027], bbox_to_anchor\u003d(1.05,1.0), loc\u003d\u0027upper left\u0027)\nplt.show()"
      ],
      "outputs": []
    },
    {
      "execution_count": 0,
      "cell_type": "code",
      "metadata": {},
      "source": [
        "# Compute recipe outputs\n# TODO: Write here your actual code that computes the outputs\n# NB: DSS supports several kinds of APIs for reading and writing data. Please see doc.\n\n#RETENTION_RATE_BY_GROUP_df \u003d ... # Compute a Pandas dataframe to write into RETENTION_RATE_BY_GROUP\n\n# Write recipe outputs\n#RETENTION_RATE_BY_GROUP \u003d dataiku.Dataset(\"RETENTION_RATE_BY_GROUP\")\n#RETENTION_RATE_BY_GROUP.write_with_schema(RETENTION_RATE_BY_GROUP_df)"
      ],
      "outputs": []
    }
  ]
}