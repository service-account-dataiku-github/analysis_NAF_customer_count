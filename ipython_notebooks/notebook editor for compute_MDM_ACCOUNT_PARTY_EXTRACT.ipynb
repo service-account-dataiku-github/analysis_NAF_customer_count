{
  "metadata": {
    "kernelspec": {
      "name": "py-dku-venv-env_clc",
      "display_name": "Python (env env_clc)",
      "language": "python"
    },
    "associatedRecipe": "compute_MDM_ACCOUNT_PARTY_EXTRACT",
    "creator": "Daniel.Vandermeer",
    "createdOn": 1669584743342,
    "tags": [
      "recipe-editor"
    ],
    "customFields": {},
    "hide_input": false,
    "language_info": {
      "name": "python",
      "version": "3.6.8",
      "mimetype": "text/x-python",
      "codemirror_mode": {
        "name": "ipython",
        "version": 3
      },
      "pygments_lexer": "ipython3",
      "nbconvert_exporter": "python",
      "file_extension": ".py"
    },
    "modifiedBy": "Daniel.Vandermeer"
  },
  "nbformat": 4,
  "nbformat_minor": 1,
  "cells": [
    {
      "execution_count": 1,
      "cell_type": "code",
      "metadata": {},
      "source": [
        "# -*- coding: utf-8 -*-\nimport dataiku\nimport pandas as pd, numpy as np\nfrom dataiku import pandasutils as pdu\n\n# Read recipe inputs\nAccount_Party_extract \u003d dataiku.Dataset(\"Account_Party_extract\")\nAccount_Party_extract_df \u003d Account_Party_extract.get_dataframe()"
      ],
      "outputs": [
        {
          "output_type": "stream",
          "text": "/data/dataiku/dss_data/code-envs/python/env_clc/lib/python3.6/site-packages/IPython/core/interactiveshell.py:3263: DtypeWarning: Columns (6) have mixed types.Specify dtype option on import or set low_memory\u003dFalse.\n  if (await self.run_code(code, result,  async_\u003dasy)):\n",
          "name": "stderr"
        }
      ]
    },
    {
      "execution_count": 2,
      "cell_type": "code",
      "metadata": {},
      "source": [
        "print(len(Account_Party_extract_df))\nAccount_Party_extract_df.dropna(subset\u003d[\u0027ACCOUNTNUMBER\u0027], inplace\u003dTrue)\nprint(len(Account_Party_extract_df))"
      ],
      "outputs": [
        {
          "output_type": "stream",
          "text": "2149826\n2149826\n",
          "name": "stdout"
        }
      ]
    },
    {
      "execution_count": 4,
      "cell_type": "code",
      "metadata": {},
      "source": [
        "Account_Party_extract_df.ACCOUNTNUMBER.value_counts(dropna\u003dFalse)"
      ],
      "outputs": [
        {
          "output_type": "execute_result",
          "execution_count": 4,
          "data": {
            "text/plain": "9100004548870    2\n81017646         2\n81030611         2\n88091068         2\n81033356         2\n                ..\n9100002501316    1\n0000220913       1\n9100001375209    1\n6300015564943    1\n9100000888876    1\nName: ACCOUNTNUMBER, Length: 2149587, dtype: int64"
          },
          "metadata": {}
        }
      ]
    },
    {
      "execution_count": 5,
      "cell_type": "code",
      "metadata": {},
      "source": [
        "print(len(Account_Party_extract_df))\nAccount_Party_extract_df.drop_duplicates(subset\u003d[\u0027ACCOUNTNUMBER\u0027], inplace\u003dTrue)\nprint(len(Account_Party_extract_df))"
      ],
      "outputs": [
        {
          "output_type": "stream",
          "text": "2149826\n2149587\n",
          "name": "stdout"
        }
      ]
    },
    {
      "execution_count": 7,
      "cell_type": "code",
      "metadata": {},
      "source": [
        "Account_Party_extract_df.ACCOUNTNUMBER.value_counts(dropna\u003dFalse)"
      ],
      "outputs": [
        {
          "output_type": "execute_result",
          "execution_count": 7,
          "data": {
            "text/plain": "9100008095743    1\n453007135601     1\n486007919475     1\n9100004522689    1\n9100001039221    1\n                ..\n9100012198447    1\n0450005219746    1\n9100002501415    1\n9100006695721    1\n9100000888876    1\nName: ACCOUNTNUMBER, Length: 2149587, dtype: int64"
          },
          "metadata": {}
        }
      ]
    },
    {
      "execution_count": 8,
      "cell_type": "code",
      "metadata": {},
      "source": [
        "print(len(Account_Party_extract_df))\nAccount_Party_extract_df \u003d Account_Party_extract_df[~Account_Party_extract_df.ACCOUNTNUMBER.str.contains(\u0027-\u0027, na\u003dFalse)]\nAccount_Party_extract_df[\u0027ACCOUNTNUMBER\u0027] \u003d Account_Party_extract_df[\u0027ACCOUNTNUMBER\u0027].str.strip()\nAccount_Party_extract_df[\u0027ACCOUNTNUMBER\u0027] \u003d Account_Party_extract_df[\u0027ACCOUNTNUMBER\u0027].astype(\u0027float\u0027)\nAccount_Party_extract_df[\u0027ACCOUNTNUMBER\u0027] \u003d Account_Party_extract_df[\u0027ACCOUNTNUMBER\u0027].astype(\u0027Int64\u0027)\nprint(len(Account_Party_extract_df))"
      ],
      "outputs": [
        {
          "output_type": "stream",
          "text": "2149587\n2149460\n",
          "name": "stdout"
        }
      ]
    },
    {
      "execution_count": 9,
      "cell_type": "code",
      "metadata": {},
      "source": [
        "Account_Party_extract_df.dtypes"
      ],
      "outputs": [
        {
          "output_type": "execute_result",
          "execution_count": 9,
          "data": {
            "text/plain": "WEXBUSINESSID            int64\nACCOUNTPARTYROLE        object\nEBXMATCHGROUPID        float64\nGROUPSIZE                int64\nDUNS                   float64\nNAME                    object\nACCOUNTNUMBER            Int64\nACCOUNTPLATFORM_        object\nRPLACCOUNTSETUPDATE     object\ndtype: object"
          },
          "metadata": {}
        }
      ]
    },
    {
      "execution_count": 0,
      "cell_type": "code",
      "metadata": {},
      "source": [
        "Account_Party_extract_df.head()"
      ],
      "outputs": []
    },
    {
      "execution_count": 10,
      "cell_type": "code",
      "metadata": {},
      "source": [
        "Account_Party_extract_df.ACCOUNTNUMBER.value_counts(dropna\u003dFalse)"
      ],
      "outputs": [
        {
          "output_type": "execute_result",
          "execution_count": 10,
          "data": {
            "text/plain": "NaN              983037\n101065                2\n9100006917994         1\n88082433              1\n88090629              1\n                  ...  \n6131004353850         1\n9100003939309         1\n454008256505          1\n106444                1\n9100006551793         1\nName: ACCOUNTNUMBER, Length: 1166423, dtype: Int64"
          },
          "metadata": {}
        }
      ]
    },
    {
      "execution_count": 0,
      "cell_type": "code",
      "metadata": {},
      "source": [
        "# Compute recipe outputs from inputs\n# TODO: Replace this part by your actual code that computes the output, as a Pandas dataframe\n# NB: DSS also supports other kinds of APIs for reading and writing data. Please see doc.\n\nMDM_ACCOUNT_PARTY_EXTRACT_df \u003d Account_Party_extract_df # For this sample code, simply copy input to output\n\n# Write recipe outputs\nMDM_ACCOUNT_PARTY_EXTRACT \u003d dataiku.Dataset(\"MDM_ACCOUNT_PARTY_EXTRACT\")\nMDM_ACCOUNT_PARTY_EXTRACT.write_with_schema(MDM_ACCOUNT_PARTY_EXTRACT_df)"
      ],
      "outputs": []
    }
  ]
}