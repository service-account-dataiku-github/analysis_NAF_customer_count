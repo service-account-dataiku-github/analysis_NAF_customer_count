{
  "metadata": {
    "kernelspec": {
      "name": "py-dku-venv-env_clc",
      "display_name": "Python (env env_clc)",
      "language": "python"
    },
    "associatedRecipe": "compute_MDM_ACCOUNT_PARTY_EXTRACT",
    "creator": "Daniel.Vandermeer",
    "createdOn": 1669584743342,
    "tags": [
      "recipe-editor"
    ],
    "customFields": {},
    "hide_input": false,
    "language_info": {
      "name": "python",
      "version": "3.6.8",
      "mimetype": "text/x-python",
      "codemirror_mode": {
        "name": "ipython",
        "version": 3
      },
      "pygments_lexer": "ipython3",
      "nbconvert_exporter": "python",
      "file_extension": ".py"
    },
    "modifiedBy": "Daniel.Vandermeer"
  },
  "nbformat": 4,
  "nbformat_minor": 1,
  "cells": [
    {
      "execution_count": 1,
      "cell_type": "code",
      "metadata": {},
      "source": [
        "# -*- coding: utf-8 -*-\nimport dataiku\nimport pandas as pd, numpy as np\nfrom dataiku import pandasutils as pdu\n\n# Read recipe inputs\nAccount_Party_extract \u003d dataiku.Dataset(\"Account_Party_extract\")\nAccount_Party_extract_df \u003d Account_Party_extract.get_dataframe()"
      ],
      "outputs": [
        {
          "output_type": "stream",
          "text": "/data/dataiku/dss_data/code-envs/python/env_clc/lib/python3.6/site-packages/IPython/core/interactiveshell.py:3263: DtypeWarning: Columns (6) have mixed types.Specify dtype option on import or set low_memory\u003dFalse.\n  if (await self.run_code(code, result,  async_\u003dasy)):\n",
          "name": "stderr"
        }
      ]
    },
    {
      "execution_count": 2,
      "cell_type": "code",
      "metadata": {},
      "source": [
        "print(len(Account_Party_extract_df))\nAccount_Party_extract_df.dropna(subset\u003d[\u0027ACCOUNTNUMBER\u0027], inplace\u003dTrue)\nprint(len(Account_Party_extract_df))"
      ],
      "outputs": [
        {
          "output_type": "stream",
          "text": "2149826\n2149826\n",
          "name": "stdout"
        }
      ]
    },
    {
      "execution_count": 3,
      "cell_type": "code",
      "metadata": {},
      "source": [
        "print(len(Account_Party_extract_df))\nAccount_Party_extract_df.drop_duplicates(subset\u003d[\u0027ACCOUNTNUMBER\u0027], inplace\u003dTrue)\nprint(len(Account_Party_extract_df))"
      ],
      "outputs": [
        {
          "output_type": "stream",
          "text": "2149826\n2149587\n",
          "name": "stdout"
        }
      ]
    },
    {
      "execution_count": 4,
      "cell_type": "code",
      "metadata": {},
      "source": [
        "print(len(Account_Party_extract_df))\nAccount_Party_extract_df \u003d Account_Party_extract_df[~Account_Party_extract_df.ACCOUNTNUMBER.str.contains(\u0027-\u0027, na\u003dFalse)]\nAccount_Party_extract_df[\u0027ACCOUNTNUMBER\u0027] \u003d Account_Party_extract_df[\u0027ACCOUNTNUMBER\u0027].str.strip()\nAccount_Party_extract_df[\u0027ACCOUNTNUMBER\u0027] \u003d Account_Party_extract_df[\u0027ACCOUNTNUMBER\u0027].astype(\u0027float\u0027)\nAccount_Party_extract_df[\u0027ACCOUNTNUMBER\u0027] \u003d Account_Party_extract_df[\u0027ACCOUNTNUMBER\u0027].astype(\u0027Int64\u0027)\nprint(len(Account_Party_extract_df))"
      ],
      "outputs": [
        {
          "output_type": "stream",
          "text": "2149587\n2149460\n",
          "name": "stdout"
        }
      ]
    },
    {
      "execution_count": 5,
      "cell_type": "code",
      "metadata": {},
      "source": [
        "Account_Party_extract_df.dtypes"
      ],
      "outputs": [
        {
          "output_type": "execute_result",
          "execution_count": 5,
          "data": {
            "text/plain": "WEXBUSINESSID            int64\nACCOUNTPARTYROLE        object\nEBXMATCHGROUPID        float64\nGROUPSIZE                int64\nDUNS                   float64\nNAME                    object\nACCOUNTNUMBER            Int64\nACCOUNTPLATFORM_        object\nRPLACCOUNTSETUPDATE     object\ndtype: object"
          },
          "metadata": {}
        }
      ]
    },
    {
      "execution_count": 6,
      "cell_type": "code",
      "metadata": {},
      "source": [
        "Account_Party_extract_df.head()"
      ],
      "outputs": [
        {
          "output_type": "execute_result",
          "execution_count": 6,
          "data": {
            "text/plain": "   WEXBUSINESSID ACCOUNTPARTYROLE  EBXMATCHGROUPID  GROUPSIZE         DUNS                              NAME  ACCOUNTNUMBER ACCOUNTPLATFORM_ RPLACCOUNTSETUPDATE\n0       10000041         Customer     1.698569e+15          1          NaN         Bellecreeke Landscape LLC           \u003cNA\u003e           SIEBEL          2007-07-02\n1       10000046         Customer     1.698569e+15          1  794574876.0                   Proliferate Inc           \u003cNA\u003e           SIEBEL          2007-07-02\n2       10000047         Customer     1.698569e+15          1  177050338.0  Jonason Appraisal Services, Inc.           \u003cNA\u003e           SIEBEL          2007-07-02\n3       10000052         Customer     1.698569e+15          1          NaN               Gilbert Development           \u003cNA\u003e           SIEBEL          2007-07-02\n4       10000053         Customer     1.698569e+15          1          NaN                    Northwind, Inc           \u003cNA\u003e           SIEBEL          2007-07-02",
            "text/html": "\u003cdiv\u003e\n\u003cstyle scoped\u003e\n    .dataframe tbody tr th:only-of-type {\n        vertical-align: middle;\n    }\n\n    .dataframe tbody tr th {\n        vertical-align: top;\n    }\n\n    .dataframe thead th {\n        text-align: right;\n    }\n\u003c/style\u003e\n\u003ctable border\u003d\"1\" class\u003d\"dataframe\"\u003e\n  \u003cthead\u003e\n    \u003ctr style\u003d\"text-align: right;\"\u003e\n      \u003cth\u003e\u003c/th\u003e\n      \u003cth\u003eWEXBUSINESSID\u003c/th\u003e\n      \u003cth\u003eACCOUNTPARTYROLE\u003c/th\u003e\n      \u003cth\u003eEBXMATCHGROUPID\u003c/th\u003e\n      \u003cth\u003eGROUPSIZE\u003c/th\u003e\n      \u003cth\u003eDUNS\u003c/th\u003e\n      \u003cth\u003eNAME\u003c/th\u003e\n      \u003cth\u003eACCOUNTNUMBER\u003c/th\u003e\n      \u003cth\u003eACCOUNTPLATFORM_\u003c/th\u003e\n      \u003cth\u003eRPLACCOUNTSETUPDATE\u003c/th\u003e\n    \u003c/tr\u003e\n  \u003c/thead\u003e\n  \u003ctbody\u003e\n    \u003ctr\u003e\n      \u003cth\u003e0\u003c/th\u003e\n      \u003ctd\u003e10000041\u003c/td\u003e\n      \u003ctd\u003eCustomer\u003c/td\u003e\n      \u003ctd\u003e1.698569e+15\u003c/td\u003e\n      \u003ctd\u003e1\u003c/td\u003e\n      \u003ctd\u003eNaN\u003c/td\u003e\n      \u003ctd\u003eBellecreeke Landscape LLC\u003c/td\u003e\n      \u003ctd\u003e\u0026lt;NA\u0026gt;\u003c/td\u003e\n      \u003ctd\u003eSIEBEL\u003c/td\u003e\n      \u003ctd\u003e2007-07-02\u003c/td\u003e\n    \u003c/tr\u003e\n    \u003ctr\u003e\n      \u003cth\u003e1\u003c/th\u003e\n      \u003ctd\u003e10000046\u003c/td\u003e\n      \u003ctd\u003eCustomer\u003c/td\u003e\n      \u003ctd\u003e1.698569e+15\u003c/td\u003e\n      \u003ctd\u003e1\u003c/td\u003e\n      \u003ctd\u003e794574876.0\u003c/td\u003e\n      \u003ctd\u003eProliferate Inc\u003c/td\u003e\n      \u003ctd\u003e\u0026lt;NA\u0026gt;\u003c/td\u003e\n      \u003ctd\u003eSIEBEL\u003c/td\u003e\n      \u003ctd\u003e2007-07-02\u003c/td\u003e\n    \u003c/tr\u003e\n    \u003ctr\u003e\n      \u003cth\u003e2\u003c/th\u003e\n      \u003ctd\u003e10000047\u003c/td\u003e\n      \u003ctd\u003eCustomer\u003c/td\u003e\n      \u003ctd\u003e1.698569e+15\u003c/td\u003e\n      \u003ctd\u003e1\u003c/td\u003e\n      \u003ctd\u003e177050338.0\u003c/td\u003e\n      \u003ctd\u003eJonason Appraisal Services, Inc.\u003c/td\u003e\n      \u003ctd\u003e\u0026lt;NA\u0026gt;\u003c/td\u003e\n      \u003ctd\u003eSIEBEL\u003c/td\u003e\n      \u003ctd\u003e2007-07-02\u003c/td\u003e\n    \u003c/tr\u003e\n    \u003ctr\u003e\n      \u003cth\u003e3\u003c/th\u003e\n      \u003ctd\u003e10000052\u003c/td\u003e\n      \u003ctd\u003eCustomer\u003c/td\u003e\n      \u003ctd\u003e1.698569e+15\u003c/td\u003e\n      \u003ctd\u003e1\u003c/td\u003e\n      \u003ctd\u003eNaN\u003c/td\u003e\n      \u003ctd\u003eGilbert Development\u003c/td\u003e\n      \u003ctd\u003e\u0026lt;NA\u0026gt;\u003c/td\u003e\n      \u003ctd\u003eSIEBEL\u003c/td\u003e\n      \u003ctd\u003e2007-07-02\u003c/td\u003e\n    \u003c/tr\u003e\n    \u003ctr\u003e\n      \u003cth\u003e4\u003c/th\u003e\n      \u003ctd\u003e10000053\u003c/td\u003e\n      \u003ctd\u003eCustomer\u003c/td\u003e\n      \u003ctd\u003e1.698569e+15\u003c/td\u003e\n      \u003ctd\u003e1\u003c/td\u003e\n      \u003ctd\u003eNaN\u003c/td\u003e\n      \u003ctd\u003eNorthwind, Inc\u003c/td\u003e\n      \u003ctd\u003e\u0026lt;NA\u0026gt;\u003c/td\u003e\n      \u003ctd\u003eSIEBEL\u003c/td\u003e\n      \u003ctd\u003e2007-07-02\u003c/td\u003e\n    \u003c/tr\u003e\n  \u003c/tbody\u003e\n\u003c/table\u003e\n\u003c/div\u003e"
          },
          "metadata": {}
        }
      ]
    },
    {
      "execution_count": 0,
      "cell_type": "code",
      "metadata": {},
      "source": [
        "# Compute recipe outputs from inputs\n# TODO: Replace this part by your actual code that computes the output, as a Pandas dataframe\n# NB: DSS also supports other kinds of APIs for reading and writing data. Please see doc.\n\nMDM_ACCOUNT_PARTY_EXTRACT_df \u003d Account_Party_extract_df # For this sample code, simply copy input to output\n\n# Write recipe outputs\nMDM_ACCOUNT_PARTY_EXTRACT \u003d dataiku.Dataset(\"MDM_ACCOUNT_PARTY_EXTRACT\")\nMDM_ACCOUNT_PARTY_EXTRACT.write_with_schema(MDM_ACCOUNT_PARTY_EXTRACT_df)"
      ],
      "outputs": []
    }
  ]
}