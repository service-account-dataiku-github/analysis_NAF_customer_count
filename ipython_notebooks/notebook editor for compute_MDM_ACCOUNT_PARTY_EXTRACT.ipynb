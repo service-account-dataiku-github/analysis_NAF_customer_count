{
  "metadata": {
    "kernelspec": {
      "name": "py-dku-venv-env_clc",
      "display_name": "Python (env env_clc)",
      "language": "python"
    },
    "associatedRecipe": "compute_MDM_ACCOUNT_PARTY_EXTRACT",
    "creator": "Daniel.Vandermeer",
    "createdOn": 1669584743342,
    "tags": [
      "recipe-editor"
    ],
    "customFields": {},
    "hide_input": false,
    "language_info": {
      "name": "python",
      "version": "3.6.8",
      "mimetype": "text/x-python",
      "codemirror_mode": {
        "name": "ipython",
        "version": 3
      },
      "pygments_lexer": "ipython3",
      "nbconvert_exporter": "python",
      "file_extension": ".py"
    },
    "modifiedBy": "Daniel.Vandermeer"
  },
  "nbformat": 4,
  "nbformat_minor": 1,
  "cells": [
    {
      "execution_count": 1,
      "cell_type": "code",
      "metadata": {},
      "source": [
        "# -*- coding: utf-8 -*-\nimport dataiku\nimport pandas as pd, numpy as np\nfrom dataiku import pandasutils as pdu\n\n# Read recipe inputs\nAccount_Party_extract \u003d dataiku.Dataset(\"Account_Party_extract\")\nAccount_Party_extract_df \u003d Account_Party_extract.get_dataframe()"
      ],
      "outputs": [
        {
          "output_type": "stream",
          "text": "/data/dataiku/dss_data/code-envs/python/env_clc/lib/python3.6/site-packages/IPython/core/interactiveshell.py:3263: DtypeWarning: Columns (6) have mixed types.Specify dtype option on import or set low_memory\u003dFalse.\n  if (await self.run_code(code, result,  async_\u003dasy)):\n",
          "name": "stderr"
        }
      ]
    },
    {
      "execution_count": 4,
      "cell_type": "code",
      "metadata": {},
      "source": [
        "print(len(Account_Party_extract_df))\nAccount_Party_extract_df \u003d Account_Party_extract_df[~Account_Party_extract_df.ACCOUNTNUMBER.str.contains(\u0027-\u0027, na\u003dFalse)]\nAccount_Party_extract_df[\u0027ACCOUNTNUMBER\u0027] \u003d Account_Party_extract_df[\u0027ACCOUNTNUMBER\u0027].str.strip()\nAccount_Party_extract_df[\u0027ACCOUNTNUMBER\u0027] \u003d Account_Party_extract_df[\u0027ACCOUNTNUMBER\u0027].astype(\u0027float\u0027)\nAccount_Party_extract_df[\u0027ACCOUNTNUMBER\u0027] \u003d Account_Party_extract_df[\u0027ACCOUNTNUMBER\u0027].astype(\u0027Int64\u0027)\nprint(len(Account_Party_extract_df))"
      ],
      "outputs": [
        {
          "output_type": "stream",
          "text": "2149826\n2149699\n",
          "name": "stdout"
        }
      ]
    },
    {
      "execution_count": 7,
      "cell_type": "code",
      "metadata": {},
      "source": [
        "print(len(Account_Party_extract_df))\nAccount_Party_extract_df.drop_duplicates(subset\u003d[\u0027ACCOUNTNUMBER\u0027], inplace\u003dTrue)\nprint(len(Account_Party_extract_df))"
      ],
      "outputs": [
        {
          "output_type": "stream",
          "text": "2149699\n1166423\n",
          "name": "stdout"
        }
      ]
    },
    {
      "execution_count": 6,
      "cell_type": "code",
      "metadata": {},
      "source": [
        "Account_Party_extract_df.dtypes"
      ],
      "outputs": [
        {
          "output_type": "execute_result",
          "execution_count": 6,
          "data": {
            "text/plain": "WEXBUSINESSID            int64\nACCOUNTPARTYROLE        object\nEBXMATCHGROUPID        float64\nGROUPSIZE                int64\nDUNS                   float64\nNAME                    object\nACCOUNTNUMBER            Int64\nACCOUNTPLATFORM_        object\nRPLACCOUNTSETUPDATE     object\ndtype: object"
          },
          "metadata": {}
        }
      ]
    },
    {
      "execution_count": 0,
      "cell_type": "code",
      "metadata": {},
      "source": [
        "# Compute recipe outputs from inputs\n# TODO: Replace this part by your actual code that computes the output, as a Pandas dataframe\n# NB: DSS also supports other kinds of APIs for reading and writing data. Please see doc.\n\nMDM_ACCOUNT_PARTY_EXTRACT_df \u003d Account_Party_extract_df # For this sample code, simply copy input to output\n\n# Write recipe outputs\nMDM_ACCOUNT_PARTY_EXTRACT \u003d dataiku.Dataset(\"MDM_ACCOUNT_PARTY_EXTRACT\")\nMDM_ACCOUNT_PARTY_EXTRACT.write_with_schema(MDM_ACCOUNT_PARTY_EXTRACT_df)"
      ],
      "outputs": []
    }
  ]
}