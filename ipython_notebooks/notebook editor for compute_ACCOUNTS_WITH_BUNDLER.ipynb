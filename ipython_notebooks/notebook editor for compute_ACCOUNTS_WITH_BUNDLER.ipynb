{
  "metadata": {
    "kernelspec": {
      "name": "py-dku-venv-env_clc",
      "display_name": "Python (env env_clc)",
      "language": "python"
    },
    "associatedRecipe": "compute_ACCOUNTS_WITH_BUNDLER",
    "dkuGit": {
      "lastInteraction": 0
    },
    "creationTag": {
      "versionNumber": 0,
      "lastModifiedBy": {
        "login": "Daniel.Vandermeer"
      },
      "lastModifiedOn": 1664915388120
    },
    "creator": "Daniel.Vandermeer",
    "createdOn": 1664915388120,
    "tags": [
      "recipe-editor"
    ],
    "customFields": {},
    "hide_input": false,
    "language_info": {
      "name": "python",
      "version": "3.6.8",
      "mimetype": "text/x-python",
      "codemirror_mode": {
        "name": "ipython",
        "version": 3
      },
      "pygments_lexer": "ipython3",
      "nbconvert_exporter": "python",
      "file_extension": ".py"
    },
    "modifiedBy": "Daniel.Vandermeer"
  },
  "nbformat": 4,
  "nbformat_minor": 1,
  "cells": [
    {
      "execution_count": 20,
      "cell_type": "code",
      "metadata": {},
      "source": [
        "# -*- coding: utf-8 -*-\nimport dataiku\nimport pandas as pd, numpy as np\nfrom dataiku import pandasutils as pdu\n\n# Read recipe inputs\nNAFCUSTOMER_C360_ACCOUNTS \u003d dataiku.Dataset(\"NAFCUSTOMER_C360_ACCOUNTS\")\nNAFCUSTOMER_C360_ACCOUNTS_df \u003d NAFCUSTOMER_C360_ACCOUNTS.get_dataframe()\nACCOUNT_BUNDLER_LIST \u003d dataiku.Dataset(\"ACCOUNT_BUNDLER_LIST\")\nACCOUNT_BUNDLER_LIST_df \u003d ACCOUNT_BUNDLER_LIST.get_dataframe()\n\nACCOUNT_BUNDLER_LIST_df[\u0027IS_BUNDLER\u0027] \u003d True\nACCOUNT_BUNDLER_LIST_df \u003d ACCOUNT_BUNDLER_LIST_df[[\u0027EDW_CUSTOMER_NAME\u0027,\u0027IS_BUNDLER\u0027]]\n\ndf \u003d pd.merge(NAFCUSTOMER_C360_ACCOUNTS_df,ACCOUNT_BUNDLER_LIST_df, how\u003d\u0027left\u0027, on\u003d\u0027EDW_CUSTOMER_NAME\u0027)\ndf[\u0027DUNS\u0027] \u003d df[\u0027DUNS\u0027].astype(\u0027Int64\u0027, errors\u003d\u0027ignore\u0027)"
      ],
      "outputs": []
    },
    {
      "execution_count": 21,
      "cell_type": "code",
      "metadata": {},
      "source": [
        "df.head()"
      ],
      "outputs": [
        {
          "output_type": "execute_result",
          "execution_count": 21,
          "data": {
            "text/plain": "   CUSTOMER_ACCOUNT_ID        CUSTOMER_ACCOUNT_NAME                      EDW_CUSTOMER_NAME       DUNS IS_BUNDLER\n0         404003815024          BIG RED HAULING INC                    BIG RED HAULING INC       \u003cNA\u003e        NaN\n1        9100006759315          T AND R MARINE CORP  CHEVRON  TEXACO BUSINESS ACCESS PRIMA   64796675       True\n2        9100006249618             CAESARSCREEK TWP               SHELL FLEET PLUS PRIMARY   51578610       True\n3        9100009922149  A C C CONCRETE SERVICES LLC            WEX FLEET UNIVERSAL PRIMARY  124043208       True\n4        9100006742485   LAW OFFICES OF MICKEY FINE  CHEVRON  TEXACO BUSINESS ACCESS PRIMA   18695594       True",
            "text/html": "\u003cdiv\u003e\n\u003cstyle scoped\u003e\n    .dataframe tbody tr th:only-of-type {\n        vertical-align: middle;\n    }\n\n    .dataframe tbody tr th {\n        vertical-align: top;\n    }\n\n    .dataframe thead th {\n        text-align: right;\n    }\n\u003c/style\u003e\n\u003ctable border\u003d\"1\" class\u003d\"dataframe\"\u003e\n  \u003cthead\u003e\n    \u003ctr style\u003d\"text-align: right;\"\u003e\n      \u003cth\u003e\u003c/th\u003e\n      \u003cth\u003eCUSTOMER_ACCOUNT_ID\u003c/th\u003e\n      \u003cth\u003eCUSTOMER_ACCOUNT_NAME\u003c/th\u003e\n      \u003cth\u003eEDW_CUSTOMER_NAME\u003c/th\u003e\n      \u003cth\u003eDUNS\u003c/th\u003e\n      \u003cth\u003eIS_BUNDLER\u003c/th\u003e\n    \u003c/tr\u003e\n  \u003c/thead\u003e\n  \u003ctbody\u003e\n    \u003ctr\u003e\n      \u003cth\u003e0\u003c/th\u003e\n      \u003ctd\u003e404003815024\u003c/td\u003e\n      \u003ctd\u003eBIG RED HAULING INC\u003c/td\u003e\n      \u003ctd\u003eBIG RED HAULING INC\u003c/td\u003e\n      \u003ctd\u003e\u0026lt;NA\u0026gt;\u003c/td\u003e\n      \u003ctd\u003eNaN\u003c/td\u003e\n    \u003c/tr\u003e\n    \u003ctr\u003e\n      \u003cth\u003e1\u003c/th\u003e\n      \u003ctd\u003e9100006759315\u003c/td\u003e\n      \u003ctd\u003eT AND R MARINE CORP\u003c/td\u003e\n      \u003ctd\u003eCHEVRON  TEXACO BUSINESS ACCESS PRIMA\u003c/td\u003e\n      \u003ctd\u003e64796675\u003c/td\u003e\n      \u003ctd\u003eTrue\u003c/td\u003e\n    \u003c/tr\u003e\n    \u003ctr\u003e\n      \u003cth\u003e2\u003c/th\u003e\n      \u003ctd\u003e9100006249618\u003c/td\u003e\n      \u003ctd\u003eCAESARSCREEK TWP\u003c/td\u003e\n      \u003ctd\u003eSHELL FLEET PLUS PRIMARY\u003c/td\u003e\n      \u003ctd\u003e51578610\u003c/td\u003e\n      \u003ctd\u003eTrue\u003c/td\u003e\n    \u003c/tr\u003e\n    \u003ctr\u003e\n      \u003cth\u003e3\u003c/th\u003e\n      \u003ctd\u003e9100009922149\u003c/td\u003e\n      \u003ctd\u003eA C C CONCRETE SERVICES LLC\u003c/td\u003e\n      \u003ctd\u003eWEX FLEET UNIVERSAL PRIMARY\u003c/td\u003e\n      \u003ctd\u003e124043208\u003c/td\u003e\n      \u003ctd\u003eTrue\u003c/td\u003e\n    \u003c/tr\u003e\n    \u003ctr\u003e\n      \u003cth\u003e4\u003c/th\u003e\n      \u003ctd\u003e9100006742485\u003c/td\u003e\n      \u003ctd\u003eLAW OFFICES OF MICKEY FINE\u003c/td\u003e\n      \u003ctd\u003eCHEVRON  TEXACO BUSINESS ACCESS PRIMA\u003c/td\u003e\n      \u003ctd\u003e18695594\u003c/td\u003e\n      \u003ctd\u003eTrue\u003c/td\u003e\n    \u003c/tr\u003e\n  \u003c/tbody\u003e\n\u003c/table\u003e\n\u003c/div\u003e"
          },
          "metadata": {}
        }
      ]
    },
    {
      "execution_count": 0,
      "cell_type": "code",
      "metadata": {},
      "source": [
        "df.loc[df[\"IS_BUNDLER\"],\u0027EDW_CUSTOMER_NAME\u0027] \u003d np.nan"
      ],
      "outputs": []
    },
    {
      "execution_count": 0,
      "cell_type": "code",
      "metadata": {},
      "source": [
        "ACCOUNTS_WITH_BUNDLER_df \u003d df"
      ],
      "outputs": []
    },
    {
      "execution_count": 0,
      "cell_type": "code",
      "metadata": {},
      "source": [
        "# Write recipe outputs\nACCOUNTS_WITH_BUNDLER \u003d dataiku.Dataset(\"ACCOUNTS_WITH_BUNDLER\")\nACCOUNTS_WITH_BUNDLER.write_with_schema(ACCOUNTS_WITH_BUNDLER_df)"
      ],
      "outputs": []
    }
  ]
}