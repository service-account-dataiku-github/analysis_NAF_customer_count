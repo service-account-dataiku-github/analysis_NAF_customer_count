{
  "metadata": {
    "kernelspec": {
      "name": "py-dku-venv-env_clc",
      "display_name": "Python (env env_clc)",
      "language": "python"
    },
    "associatedRecipe": "compute_POTENTIAL_DUPLICATES",
    "creator": "Daniel.Vandermeer",
    "createdOn": 1665752610945,
    "tags": [
      "recipe-editor"
    ],
    "customFields": {},
    "hide_input": false,
    "language_info": {
      "name": "python",
      "version": "3.6.8",
      "mimetype": "text/x-python",
      "codemirror_mode": {
        "name": "ipython",
        "version": 3
      },
      "pygments_lexer": "ipython3",
      "nbconvert_exporter": "python",
      "file_extension": ".py"
    },
    "modifiedBy": "Daniel.Vandermeer"
  },
  "nbformat": 4,
  "nbformat_minor": 1,
  "cells": [
    {
      "execution_count": 2,
      "cell_type": "code",
      "metadata": {},
      "source": [
        "# -*- coding: utf-8 -*-\nimport dataiku\nimport pandas as pd, numpy as np\nfrom dataiku import pandasutils as pdu\n\n# Read recipe inputs\nCALCULATED_CARD_DRAW_DOWNS \u003d dataiku.Dataset(\"CALCULATED_CARD_DRAW_DOWNS\")\nCALCULATED_CARD_DRAW_DOWNS_df \u003d CALCULATED_CARD_DRAW_DOWNS.get_dataframe()\n\nCALCULATED_CARD_DRAW_UPS \u003d dataiku.Dataset(\"CALCULATED_CARD_DRAW_UPS\")\nCALCULATED_CARD_DRAW_UPS_df \u003d CALCULATED_CARD_DRAW_UPS.get_dataframe()"
      ],
      "outputs": []
    },
    {
      "execution_count": 8,
      "cell_type": "code",
      "metadata": {},
      "source": [
        "df_down \u003d CALCULATED_CARD_DRAW_DOWNS_df\ndf_down[\u0027DRAW_DOWN_DATE\u0027] \u003d pd.to_datetime(df_down[\u0027DRAW_DOWN_DATE\u0027]).dt.date\ndf_down.sort_values([\u0027CUSTOMER\u0027], inplace\u003dTrue)\ndf_down.head()"
      ],
      "outputs": [
        {
          "output_type": "execute_result",
          "execution_count": 8,
          "data": {
            "text/plain": "                 CUSTOMER DRAW_DOWN_DATE     MEAN_DD     STD_DD  ACTIVE_CARD_MAX\n0                    3LUM     2019-12-01   13.000000   0.577350             14.0\n193      3US6 (EQUIPMENT)     2021-08-01   36.600000  27.673092            104.0\n192   ACORDA THERAPEUTICS     2019-09-01  129.600000   2.190890            133.0\n191  ADF PIZZA MANAGEMENT     2020-12-01    7.500000   1.623688             12.0\n190                 ALENT     2020-04-01    1.333333   0.492366              2.0",
            "text/html": "\u003cdiv\u003e\n\u003cstyle scoped\u003e\n    .dataframe tbody tr th:only-of-type {\n        vertical-align: middle;\n    }\n\n    .dataframe tbody tr th {\n        vertical-align: top;\n    }\n\n    .dataframe thead th {\n        text-align: right;\n    }\n\u003c/style\u003e\n\u003ctable border\u003d\"1\" class\u003d\"dataframe\"\u003e\n  \u003cthead\u003e\n    \u003ctr style\u003d\"text-align: right;\"\u003e\n      \u003cth\u003e\u003c/th\u003e\n      \u003cth\u003eCUSTOMER\u003c/th\u003e\n      \u003cth\u003eDRAW_DOWN_DATE\u003c/th\u003e\n      \u003cth\u003eMEAN_DD\u003c/th\u003e\n      \u003cth\u003eSTD_DD\u003c/th\u003e\n      \u003cth\u003eACTIVE_CARD_MAX\u003c/th\u003e\n    \u003c/tr\u003e\n  \u003c/thead\u003e\n  \u003ctbody\u003e\n    \u003ctr\u003e\n      \u003cth\u003e0\u003c/th\u003e\n      \u003ctd\u003e3LUM\u003c/td\u003e\n      \u003ctd\u003e2019-12-01\u003c/td\u003e\n      \u003ctd\u003e13.000000\u003c/td\u003e\n      \u003ctd\u003e0.577350\u003c/td\u003e\n      \u003ctd\u003e14.0\u003c/td\u003e\n    \u003c/tr\u003e\n    \u003ctr\u003e\n      \u003cth\u003e193\u003c/th\u003e\n      \u003ctd\u003e3US6 (EQUIPMENT)\u003c/td\u003e\n      \u003ctd\u003e2021-08-01\u003c/td\u003e\n      \u003ctd\u003e36.600000\u003c/td\u003e\n      \u003ctd\u003e27.673092\u003c/td\u003e\n      \u003ctd\u003e104.0\u003c/td\u003e\n    \u003c/tr\u003e\n    \u003ctr\u003e\n      \u003cth\u003e192\u003c/th\u003e\n      \u003ctd\u003eACORDA THERAPEUTICS\u003c/td\u003e\n      \u003ctd\u003e2019-09-01\u003c/td\u003e\n      \u003ctd\u003e129.600000\u003c/td\u003e\n      \u003ctd\u003e2.190890\u003c/td\u003e\n      \u003ctd\u003e133.0\u003c/td\u003e\n    \u003c/tr\u003e\n    \u003ctr\u003e\n      \u003cth\u003e191\u003c/th\u003e\n      \u003ctd\u003eADF PIZZA MANAGEMENT\u003c/td\u003e\n      \u003ctd\u003e2020-12-01\u003c/td\u003e\n      \u003ctd\u003e7.500000\u003c/td\u003e\n      \u003ctd\u003e1.623688\u003c/td\u003e\n      \u003ctd\u003e12.0\u003c/td\u003e\n    \u003c/tr\u003e\n    \u003ctr\u003e\n      \u003cth\u003e190\u003c/th\u003e\n      \u003ctd\u003eALENT\u003c/td\u003e\n      \u003ctd\u003e2020-04-01\u003c/td\u003e\n      \u003ctd\u003e1.333333\u003c/td\u003e\n      \u003ctd\u003e0.492366\u003c/td\u003e\n      \u003ctd\u003e2.0\u003c/td\u003e\n    \u003c/tr\u003e\n  \u003c/tbody\u003e\n\u003c/table\u003e\n\u003c/div\u003e"
          },
          "metadata": {}
        }
      ]
    },
    {
      "execution_count": 9,
      "cell_type": "code",
      "metadata": {},
      "source": [
        "df_up \u003d CALCULATED_CARD_DRAW_UPS_df\ndf_up[\u0027DRAW_UP_DATE\u0027] \u003d pd.to_datetime(df_up[\u0027DRAW_UP_DATE\u0027]).dt.date\ndf_up.sort_values([\u0027CUSTOMER\u0027], inplace\u003dTrue)\ndf_up.head()"
      ],
      "outputs": [
        {
          "output_type": "execute_result",
          "execution_count": 9,
          "data": {
            "text/plain": "              CUSTOMER DRAW_UP_DATE      MEAN_DU      STD_DU  ACTIVE_CARD_MAX\n0                 3GPP   2020-08-01    27.166667    4.239068             35.0\n321               3LUM   2019-01-01    12.111111    1.615893             14.0\n320          3M (3MUS)   2020-04-01  2375.083333  169.146767           2728.0\n319  3M COMPANY (3MVR)   2020-08-01   360.083333   65.468186            399.0\n318     3M COMPANY3MUS   2021-08-01   670.111111  196.492013            963.0",
            "text/html": "\u003cdiv\u003e\n\u003cstyle scoped\u003e\n    .dataframe tbody tr th:only-of-type {\n        vertical-align: middle;\n    }\n\n    .dataframe tbody tr th {\n        vertical-align: top;\n    }\n\n    .dataframe thead th {\n        text-align: right;\n    }\n\u003c/style\u003e\n\u003ctable border\u003d\"1\" class\u003d\"dataframe\"\u003e\n  \u003cthead\u003e\n    \u003ctr style\u003d\"text-align: right;\"\u003e\n      \u003cth\u003e\u003c/th\u003e\n      \u003cth\u003eCUSTOMER\u003c/th\u003e\n      \u003cth\u003eDRAW_UP_DATE\u003c/th\u003e\n      \u003cth\u003eMEAN_DU\u003c/th\u003e\n      \u003cth\u003eSTD_DU\u003c/th\u003e\n      \u003cth\u003eACTIVE_CARD_MAX\u003c/th\u003e\n    \u003c/tr\u003e\n  \u003c/thead\u003e\n  \u003ctbody\u003e\n    \u003ctr\u003e\n      \u003cth\u003e0\u003c/th\u003e\n      \u003ctd\u003e3GPP\u003c/td\u003e\n      \u003ctd\u003e2020-08-01\u003c/td\u003e\n      \u003ctd\u003e27.166667\u003c/td\u003e\n      \u003ctd\u003e4.239068\u003c/td\u003e\n      \u003ctd\u003e35.0\u003c/td\u003e\n    \u003c/tr\u003e\n    \u003ctr\u003e\n      \u003cth\u003e321\u003c/th\u003e\n      \u003ctd\u003e3LUM\u003c/td\u003e\n      \u003ctd\u003e2019-01-01\u003c/td\u003e\n      \u003ctd\u003e12.111111\u003c/td\u003e\n      \u003ctd\u003e1.615893\u003c/td\u003e\n      \u003ctd\u003e14.0\u003c/td\u003e\n    \u003c/tr\u003e\n    \u003ctr\u003e\n      \u003cth\u003e320\u003c/th\u003e\n      \u003ctd\u003e3M (3MUS)\u003c/td\u003e\n      \u003ctd\u003e2020-04-01\u003c/td\u003e\n      \u003ctd\u003e2375.083333\u003c/td\u003e\n      \u003ctd\u003e169.146767\u003c/td\u003e\n      \u003ctd\u003e2728.0\u003c/td\u003e\n    \u003c/tr\u003e\n    \u003ctr\u003e\n      \u003cth\u003e319\u003c/th\u003e\n      \u003ctd\u003e3M COMPANY (3MVR)\u003c/td\u003e\n      \u003ctd\u003e2020-08-01\u003c/td\u003e\n      \u003ctd\u003e360.083333\u003c/td\u003e\n      \u003ctd\u003e65.468186\u003c/td\u003e\n      \u003ctd\u003e399.0\u003c/td\u003e\n    \u003c/tr\u003e\n    \u003ctr\u003e\n      \u003cth\u003e318\u003c/th\u003e\n      \u003ctd\u003e3M COMPANY3MUS\u003c/td\u003e\n      \u003ctd\u003e2021-08-01\u003c/td\u003e\n      \u003ctd\u003e670.111111\u003c/td\u003e\n      \u003ctd\u003e196.492013\u003c/td\u003e\n      \u003ctd\u003e963.0\u003c/td\u003e\n    \u003c/tr\u003e\n  \u003c/tbody\u003e\n\u003c/table\u003e\n\u003c/div\u003e"
          },
          "metadata": {}
        }
      ]
    },
    {
      "execution_count": 0,
      "cell_type": "code",
      "metadata": {},
      "source": [
        "#POTENTIAL_DUPLICATES_df \u003d ... # Compute a Pandas dataframe to write into POTENTIAL_DUPLICATES\n\n# Write recipe outputs\n#POTENTIAL_DUPLICATES \u003d dataiku.Dataset(\"POTENTIAL_DUPLICATES\")\n#POTENTIAL_DUPLICATES.write_with_schema(POTENTIAL_DUPLICATES_df)"
      ],
      "outputs": []
    }
  ]
}