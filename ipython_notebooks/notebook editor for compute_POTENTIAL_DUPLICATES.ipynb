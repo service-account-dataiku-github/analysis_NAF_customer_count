{
  "metadata": {
    "kernelspec": {
      "name": "py-dku-venv-env_clc",
      "display_name": "Python (env env_clc)",
      "language": "python"
    },
    "associatedRecipe": "compute_POTENTIAL_DUPLICATES",
    "dkuGit": {
      "lastInteraction": 0
    },
    "creationTag": {
      "versionNumber": 0,
      "lastModifiedBy": {
        "login": "Daniel.Vandermeer"
      },
      "lastModifiedOn": 1665752610945
    },
    "creator": "Daniel.Vandermeer",
    "createdOn": 1665752610945,
    "tags": [
      "recipe-editor"
    ],
    "customFields": {},
    "hide_input": false,
    "language_info": {
      "name": "python",
      "version": "3.6.8",
      "mimetype": "text/x-python",
      "codemirror_mode": {
        "name": "ipython",
        "version": 3
      },
      "pygments_lexer": "ipython3",
      "nbconvert_exporter": "python",
      "file_extension": ".py"
    },
    "modifiedBy": "Daniel.Vandermeer"
  },
  "nbformat": 4,
  "nbformat_minor": 1,
  "cells": [
    {
      "execution_count": 1,
      "cell_type": "code",
      "metadata": {},
      "source": [
        "# -*- coding: utf-8 -*-\nimport dataiku\nimport pandas as pd, numpy as np\nfrom dataiku import pandasutils as pdu\n\n# Read recipe inputs\nCALCULATED_CARD_DRAW_DOWNS \u003d dataiku.Dataset(\"CALCULATED_CARD_DRAW_DOWNS\")\nCALCULATED_CARD_DRAW_DOWNS_df \u003d CALCULATED_CARD_DRAW_DOWNS.get_dataframe()\n\nCALCULATED_CARD_DRAW_UPS \u003d dataiku.Dataset(\"CALCULATED_CARD_DRAW_UPS\")\nCALCULATED_CARD_DRAW_UPS_df \u003d CALCULATED_CARD_DRAW_UPS.get_dataframe()\n"
      ],
      "outputs": []
    },
    {
      "execution_count": 4,
      "cell_type": "code",
      "metadata": {},
      "source": [
        "print(len(CALCULATED_CARD_DRAW_DOWNS_df))\nCALCULATED_CARD_DRAW_DOWNS_df.head()"
      ],
      "outputs": [
        {
          "output_type": "stream",
          "text": "194\n",
          "name": "stdout"
        },
        {
          "output_type": "execute_result",
          "execution_count": 4,
          "data": {
            "text/plain": "               CUSTOMER            DRAW_DOWN_DATE     MEAN_DD    STD_DD  ACTIVE_CARD_MAX\n0                  3LUM 2019-12-01 00:00:00+00:00   13.000000  0.577350             14.0\n1             YUM  INC. 2021-04-01 00:00:00+00:00  163.916667  7.774765            191.0\n2            XYLEM/3XLM 2021-09-01 00:00:00+00:00   53.500000  3.089572             68.0\n3  XYLEM ANALYTICS FUEL 2021-11-01 00:00:00+00:00   35.250000  2.220770             42.0\n4      WORLEY (0469)(2) 2021-08-01 00:00:00+00:00  166.083333  9.228989            252.0",
            "text/html": "\u003cdiv\u003e\n\u003cstyle scoped\u003e\n    .dataframe tbody tr th:only-of-type {\n        vertical-align: middle;\n    }\n\n    .dataframe tbody tr th {\n        vertical-align: top;\n    }\n\n    .dataframe thead th {\n        text-align: right;\n    }\n\u003c/style\u003e\n\u003ctable border\u003d\"1\" class\u003d\"dataframe\"\u003e\n  \u003cthead\u003e\n    \u003ctr style\u003d\"text-align: right;\"\u003e\n      \u003cth\u003e\u003c/th\u003e\n      \u003cth\u003eCUSTOMER\u003c/th\u003e\n      \u003cth\u003eDRAW_DOWN_DATE\u003c/th\u003e\n      \u003cth\u003eMEAN_DD\u003c/th\u003e\n      \u003cth\u003eSTD_DD\u003c/th\u003e\n      \u003cth\u003eACTIVE_CARD_MAX\u003c/th\u003e\n    \u003c/tr\u003e\n  \u003c/thead\u003e\n  \u003ctbody\u003e\n    \u003ctr\u003e\n      \u003cth\u003e0\u003c/th\u003e\n      \u003ctd\u003e3LUM\u003c/td\u003e\n      \u003ctd\u003e2019-12-01 00:00:00+00:00\u003c/td\u003e\n      \u003ctd\u003e13.000000\u003c/td\u003e\n      \u003ctd\u003e0.577350\u003c/td\u003e\n      \u003ctd\u003e14.0\u003c/td\u003e\n    \u003c/tr\u003e\n    \u003ctr\u003e\n      \u003cth\u003e1\u003c/th\u003e\n      \u003ctd\u003eYUM  INC.\u003c/td\u003e\n      \u003ctd\u003e2021-04-01 00:00:00+00:00\u003c/td\u003e\n      \u003ctd\u003e163.916667\u003c/td\u003e\n      \u003ctd\u003e7.774765\u003c/td\u003e\n      \u003ctd\u003e191.0\u003c/td\u003e\n    \u003c/tr\u003e\n    \u003ctr\u003e\n      \u003cth\u003e2\u003c/th\u003e\n      \u003ctd\u003eXYLEM/3XLM\u003c/td\u003e\n      \u003ctd\u003e2021-09-01 00:00:00+00:00\u003c/td\u003e\n      \u003ctd\u003e53.500000\u003c/td\u003e\n      \u003ctd\u003e3.089572\u003c/td\u003e\n      \u003ctd\u003e68.0\u003c/td\u003e\n    \u003c/tr\u003e\n    \u003ctr\u003e\n      \u003cth\u003e3\u003c/th\u003e\n      \u003ctd\u003eXYLEM ANALYTICS FUEL\u003c/td\u003e\n      \u003ctd\u003e2021-11-01 00:00:00+00:00\u003c/td\u003e\n      \u003ctd\u003e35.250000\u003c/td\u003e\n      \u003ctd\u003e2.220770\u003c/td\u003e\n      \u003ctd\u003e42.0\u003c/td\u003e\n    \u003c/tr\u003e\n    \u003ctr\u003e\n      \u003cth\u003e4\u003c/th\u003e\n      \u003ctd\u003eWORLEY (0469)(2)\u003c/td\u003e\n      \u003ctd\u003e2021-08-01 00:00:00+00:00\u003c/td\u003e\n      \u003ctd\u003e166.083333\u003c/td\u003e\n      \u003ctd\u003e9.228989\u003c/td\u003e\n      \u003ctd\u003e252.0\u003c/td\u003e\n    \u003c/tr\u003e\n  \u003c/tbody\u003e\n\u003c/table\u003e\n\u003c/div\u003e"
          },
          "metadata": {}
        }
      ]
    },
    {
      "execution_count": 5,
      "cell_type": "code",
      "metadata": {},
      "source": [
        "print(len(CALCULATED_CARD_DRAW_UPS_df))\nCALCULATED_CARD_DRAW_UPS_df.head()"
      ],
      "outputs": [
        {
          "output_type": "stream",
          "text": "322\n",
          "name": "stdout"
        },
        {
          "output_type": "execute_result",
          "execution_count": 5,
          "data": {
            "text/plain": "                            CUSTOMER              DRAW_UP_DATE     MEAN_DU    STD_DU  ACTIVE_CARD_MAX\n0                               3GPP 2020-08-01 00:00:00+00:00   27.166667  4.239068             35.0\n1                         ZOETIS INC 2022-05-01 00:00:00+00:00         NaN       NaN            871.0\n2                      ZOETIS (3PHX) 2020-09-01 00:00:00+00:00   21.416667  0.996205             23.0\n3  YUM RESTAURANT SERVICES GROUP LLC 2021-03-01 00:00:00+00:00  146.916667  3.728474            155.0\n4                          XYLEM INC 2021-08-01 00:00:00+00:00   60.777778  3.192874             66.0",
            "text/html": "\u003cdiv\u003e\n\u003cstyle scoped\u003e\n    .dataframe tbody tr th:only-of-type {\n        vertical-align: middle;\n    }\n\n    .dataframe tbody tr th {\n        vertical-align: top;\n    }\n\n    .dataframe thead th {\n        text-align: right;\n    }\n\u003c/style\u003e\n\u003ctable border\u003d\"1\" class\u003d\"dataframe\"\u003e\n  \u003cthead\u003e\n    \u003ctr style\u003d\"text-align: right;\"\u003e\n      \u003cth\u003e\u003c/th\u003e\n      \u003cth\u003eCUSTOMER\u003c/th\u003e\n      \u003cth\u003eDRAW_UP_DATE\u003c/th\u003e\n      \u003cth\u003eMEAN_DU\u003c/th\u003e\n      \u003cth\u003eSTD_DU\u003c/th\u003e\n      \u003cth\u003eACTIVE_CARD_MAX\u003c/th\u003e\n    \u003c/tr\u003e\n  \u003c/thead\u003e\n  \u003ctbody\u003e\n    \u003ctr\u003e\n      \u003cth\u003e0\u003c/th\u003e\n      \u003ctd\u003e3GPP\u003c/td\u003e\n      \u003ctd\u003e2020-08-01 00:00:00+00:00\u003c/td\u003e\n      \u003ctd\u003e27.166667\u003c/td\u003e\n      \u003ctd\u003e4.239068\u003c/td\u003e\n      \u003ctd\u003e35.0\u003c/td\u003e\n    \u003c/tr\u003e\n    \u003ctr\u003e\n      \u003cth\u003e1\u003c/th\u003e\n      \u003ctd\u003eZOETIS INC\u003c/td\u003e\n      \u003ctd\u003e2022-05-01 00:00:00+00:00\u003c/td\u003e\n      \u003ctd\u003eNaN\u003c/td\u003e\n      \u003ctd\u003eNaN\u003c/td\u003e\n      \u003ctd\u003e871.0\u003c/td\u003e\n    \u003c/tr\u003e\n    \u003ctr\u003e\n      \u003cth\u003e2\u003c/th\u003e\n      \u003ctd\u003eZOETIS (3PHX)\u003c/td\u003e\n      \u003ctd\u003e2020-09-01 00:00:00+00:00\u003c/td\u003e\n      \u003ctd\u003e21.416667\u003c/td\u003e\n      \u003ctd\u003e0.996205\u003c/td\u003e\n      \u003ctd\u003e23.0\u003c/td\u003e\n    \u003c/tr\u003e\n    \u003ctr\u003e\n      \u003cth\u003e3\u003c/th\u003e\n      \u003ctd\u003eYUM RESTAURANT SERVICES GROUP LLC\u003c/td\u003e\n      \u003ctd\u003e2021-03-01 00:00:00+00:00\u003c/td\u003e\n      \u003ctd\u003e146.916667\u003c/td\u003e\n      \u003ctd\u003e3.728474\u003c/td\u003e\n      \u003ctd\u003e155.0\u003c/td\u003e\n    \u003c/tr\u003e\n    \u003ctr\u003e\n      \u003cth\u003e4\u003c/th\u003e\n      \u003ctd\u003eXYLEM INC\u003c/td\u003e\n      \u003ctd\u003e2021-08-01 00:00:00+00:00\u003c/td\u003e\n      \u003ctd\u003e60.777778\u003c/td\u003e\n      \u003ctd\u003e3.192874\u003c/td\u003e\n      \u003ctd\u003e66.0\u003c/td\u003e\n    \u003c/tr\u003e\n  \u003c/tbody\u003e\n\u003c/table\u003e\n\u003c/div\u003e"
          },
          "metadata": {}
        }
      ]
    },
    {
      "execution_count": 6,
      "cell_type": "code",
      "metadata": {},
      "source": [
        "CALCULATED_CARD_DRAW_DOWNS_df.sort_values([\u0027CUSTOMER\u0027], inplace\u003dTrue)\nCALCULATED_CARD_DRAW_UPS_df.sort_values([\u0027CUSTOMER\u0027], inplace\u003dTrue)"
      ],
      "outputs": []
    },
    {
      "execution_count": 8,
      "cell_type": "code",
      "metadata": {},
      "source": [
        "CALCULATED_CARD_DRAW_DOWNS_df.CUSTOMER.unique()"
      ],
      "outputs": [
        {
          "output_type": "execute_result",
          "execution_count": 8,
          "data": {
            "text/plain": "array([\u00273LUM\u0027, \u00273US6 (EQUIPMENT)\u0027, \u0027ACORDA THERAPEUTICS\u0027,\n       \u0027ADF PIZZA MANAGEMENT\u0027, \u0027ALENT\u0027, \u0027ALKERMES (3ALK)\u0027,\n       \u0027AMERICAN HOMES 4 RENT\u0027, \u0027AMGEN USA INC\u0027, \u0027ARCADIS US\u0027,\n       \u0027ARCHROMA U.S. INC.\u0027, \u0027ASCENSIA DIABETES CARE\u0027, \u0027ASTELLAS PHARMA\u0027,\n       \u0027ATLAS COPCO\u0027, \u0027AXALTAUS\u0027, \u0027BALFOUR BEATTY 3BSE\u0027, \u0027BALFOUR EQUIP\u0027,\n       \u0027BALFOUR PB\u0027, \u0027BALFOUR RAIL\u0027, \u0027BALFOUR RENO\u0027, \u0027BANKOFAMERICA\u0027,\n       \u0027BAXALTA US INC\u0027, \u0027BAYER\u0027, \u0027BAYER (3M33)\u0027,\n       \u0027BECTON DICKINSON (3BRD)\u0027, \u0027BECTON DICKINSON (BDB)\u0027,\n       \u0027BECTON DICKINSON (BDC)\u0027, \u0027BECTON DICKINSON (BDC)(2)\u0027,\n       \u0027BOEHRINGER-INGELHEIM\u0027, \u0027BP (NAG)\u0027, \u0027BRISTOL (B93)\u0027,\n       \u0027CANON MEDICAL USA\u0027, \u0027CARL ZEISS MEDITEC\u0027, \u0027CDK GLOBAL (DSG)\u0027,\n       \u0027CELGENE\u0027, \u0027CENTURION PIPELINE (3CEP)\u0027, \u0027CEVA ANIMAL HEALTH, LLC\u0027,\n       \u0027CHECKPOINT SYSTEMS\u0027, \u0027CIGNA\u0027, \u0027CIGNA (WHEELS)(2)\u0027,\n       \u0027CINTAS CORPORATION\u0027, \u0027CLARIANT PLASTICS\u0027, \u0027CLARINS USA INC 5CLR\u0027,\n       \u0027COLLEGIUM\u0027, \u0027CONSTELLATION BRANDS (3CBL)\u0027,\n       \u0027CONSTELLATION BRANDS (3CRW)\u0027, \u0027COOPER TIRE \u0026 RUBBER\u0027,\n       \u0027COUNTRY FINANCIAL (CCS)\u0027, \u0027COVESTRO\u0027, \u0027CUMMINS ALLISON CORP\u0027,\n       \u0027CURTIS CIRCULATION (0469)\u0027, \u0027CURTISS-WRIGHT (5CWC)\u0027, \u0027CVS - 3CVS\u0027,\n       \u0027DAIICHI SANKYO, INC.\u0027, \u0027DARDEN RESTAURANTS (3DAR)\u0027,\n       \u0027DART CONTAINER CORP (3DC2)\u0027, \u0027DART CONTAINER CORP (3DRT)\u0027,\n       \u0027DBT AMERICA\u0027, \u0027DIVERSIFIED APPLICAITONS, INC.\u0027, \u0027DYSON (3DYS)\u0027,\n       \u0027EISAI  INC\u0027, \u0027ENJOY TECHNOLOGY\u0027, \u0027ENTERPRISE PRODUCTS (0469)\u0027,\n       \u0027ERAMET MARIETTA\u0027, \u0027ERIE INSURANCE (3ERE)\u0027,\n       \u0027ESTEE LAUDER (WHEELS)\u0027, \u0027FARM CREDIT SERVICES ACCOUNT\u0027,\n       \u0027FARMERS MUTUAL HAIL INSURANCE\u0027, \u0027FCS AMERICA (3FCS)\u0027,\n       \u0027GB BIOSCIENCES\u0027, \u0027GEICO (0469)\u0027, \u0027GEICO (0469)(2)\u0027,\n       \u0027GENERAL PARTS INTL (AWG)\u0027, \u0027GENERAL PARTS INTL (NCS)\u0027,\n       \u0027GENERAL PARTS INTL (SSI)\u0027, \u0027GENERAL PARTS INTL (TCI)\u0027,\n       \u0027GIVAUDAN FLAVORS (GV3-5)\u0027, \u0027GIVAUDAN FRAGRANCES (GV2-5)\u0027,\n       \u0027GLENN SPRINGS HOLDINGS\u0027, \u0027GOOGLE FIBER\u0027, \u0027GOOGLE FIBER INC (ITC)\u0027,\n       \u0027GORDON FOOD SERVICE (0469)\u0027, \u0027HARMON INC (WHLS)\u0027,\n       \u0027HARMONY BIOSCIENCES\u0027, \u0027HARRIS CORP.\u0027, \u0027HARTUNG BROTHERS\u0027,\n       \u0027HAYWARD INDUSTRIES (WHLS)\u0027, \u0027HEALTHPOINT\u0027,\n       \u0027HENKEL CORPORATION (0469)\u0027, \u0027HIGHWAY EQUIPMENT\u0027,\n       \u0027HITACHI HEALTHCARE\u0027, \u0027HOLLAND LP\u0027, \u0027HOSPIRA WORLDWIDE\u0027,\n       \u0027HUSSMANN CORPORATION\u0027, \u0027ICU MEDICAL FLEET SERVICES INC\u0027,\n       \u0027IMMUNOMEDICS (3IMU)\u0027, \u0027IRONWOOD PHARMA (IRW)\u0027, \u0027J.M. HUBER CORP.\u0027,\n       \u0027JAZZ PHARMA (3JAZ)\u0027, \u0027JM SMITH CORP (5JMP)\u0027,\n       \u0027JM SMITH CORPORATION\u0027, \u0027JOHNSONVILLE SAUSAGE\u0027,\n       \u0027JONES LANG LASALLE (0469)\u0027, \u0027JONES-HAMILTON CO.\u0027, \u0027KEMPER\u0027,\n       \u0027KINDER MORGAN\u0027, \u0027LAERDAL MEDICAL\u0027, \u0027LAMB WESTON SALES\u0027,\n       \u0027LEGRAND (5LAV)\u0027, \u0027LINDE NORTH AMERICA (3LN2)\u0027, \u0027LITTON MARINE\u0027,\n       \u0027LOUIS BERGER SERVICES INC\u0027, \u0027LSSI\u0027, \u0027LUMILEDS (3LED)\u0027, \u0027LUNDBECK\u0027,\n       \u0027MACLEAN-FOGG (3MF1)\u0027, \u0027MARATHON (WHEELS)\u0027, \u0027MARK WEST (3MWE)\u0027,\n       \u0027MARS INC.\u0027, \u0027MARS INC. (M51)\u0027, \u0027MARSDEN HOLDING, LLC (80)\u0027,\n       \u0027MCKESSON CORPORATION (3MCK)\u0027, \u0027MCKESSON CORPORATION (3MCT)\u0027,\n       \u0027MERIAL INC\u0027, \u0027MIDDLE ATLANTIC\u0027, \u0027MILESTONE AV TECHNOLOGIES\u0027,\n       \u0027MILLENNIUM PHARMA\u0027, \u0027NB COATINGS INC.\u0027, \u0027NEXAIR / 3NXA\u0027,\n       \u0027NORTHSTAR LOTTERY GROUP LLC\u0027, \u0027NOVAMEX\u0027,\n       \u0027OCCIDENTAL CHEMICAL CORP (69)\u0027, \u0027OSMOTICA HOLDINGS US LLC\u0027,\n       \u0027OSMOTICA PHARMACEUTICAL\u0027, \u0027OXY USA INC.\u0027,\n       \u0027PARSONS CORPORATION (0469)\u0027, \u0027PB (HSE)\u0027, \u0027PEER BEARING\u0027,\n       \u0027PHILIPS ELECTRONICS NA\u0027, \u0027PRIMETALS TECHNOLOGIES USA\u0027,\n       \u0027PURDUE PHARMA\u0027, \u0027RAIN BIRD CORP\u0027, \u0027RAYTHEON\u0027,\n       \u0027RAYTHEON COMPANY (0469)\u0027, \u0027RAYTHEON COMPANY (0469)(3)\u0027,\n       \u0027REEDY INDUSTRIES INC.\u0027, \u0027REGIONAL RAIL PARTNERS\u0027,\n       \u0027RITCHIE BROS. USA\u0027, \u0027ROBERT HALF CORPORATION (3RHF)\u0027,\n       \u0027RPM INC (5RPX)\u0027, \u0027RPM, INC\u0027, \u0027SAGE THERAPEUTICS\u0027,\n       \u0027SCHINDLER ELEVATOR\u0027, \u0027SECURITAS ELECTRONICS\u0027,\n       \u0027SECURITAS SECURITY SRVCS(3SCR)\u0027, \u0027SECURITAS USA\u0027,\n       \u0027SELECTIVE INSURANCE CO\u0027, \u0027SENSIENT TECHNOLOGIES\u0027,\n       \u0027SERVIER PHARMACEUTICALS (3SRV)\u0027, \u0027SHALE-INLAND\u0027, \u0027SHIRE US INC\u0027,\n       \u0027SIBELCO\u0027, \u0027SIEMENS ENERGY (3SWG)\u0027, \u0027SIMPLOT RDO LLC\u0027,\n       \u0027SL DIST (3SNL)\u0027, \u0027SYBRON DENTAL SPECIALTIES (69)\u0027, \u0027SYMRISE\u0027,\n       \u0027TERADATA OPERATIONS\u0027, \u0027TEVA WHEELS\u0027, \u0027THE TIMKEN COMPANY\u0027,\n       \u0027THIBAUT ACQUISITION\u0027, \u0027THIBAUT ACQUISITION CO\u0027, \u0027TIMCO\u0027,\n       \u0027TOTAL NEW ENERGIES\u0027, \u0027TRANS MOUNTAIN (3TMP)\u0027, \u0027TRANSTAR\u0027,\n       \u0027U C B INC\u0027, \u0027UNIMIN\u0027, \u0027UNIVAR USA INC (UNI)(2)\u0027,\n       \u0027USG CORPORATION\u0027, \u0027VARIAN MEDICAL (V08)\u0027, \u0027VESUVIUS\u0027, \u0027VOLVO CE\u0027,\n       \u0027VOORTMAN COOKIES\u0027, \u0027WATERS TECHNOLOGIES\u0027, \u0027WATT STOPPER, INC.\u0027,\n       \u0027WESTFARM FOODS 0469\u0027, \u0027WHEELS 996\u0027, \u0027WHEELS INC (60016)\u0027,\n       \u0027WHEELS MOBILE ASSIST (3WMA)\u0027, \u0027WHEELS MOBILE ASSISTANT\u0027,\n       \u0027WORLEY (0469)(2)\u0027, \u0027XYLEM ANALYTICS FUEL\u0027, \u0027XYLEM/3XLM\u0027,\n       \u0027YUM  INC.\u0027], dtype\u003dobject)"
          },
          "metadata": {}
        }
      ]
    },
    {
      "execution_count": 0,
      "cell_type": "code",
      "metadata": {},
      "source": [
        "# Compute recipe outputs\n# TODO: Write here your actual code that computes the outputs\n# NB: DSS supports several kinds of APIs for reading and writing data. Please see doc.\n\nPOTENTIAL_DUPLICATES_df \u003d ... # Compute a Pandas dataframe to write into POTENTIAL_DUPLICATES\n\n\n# Write recipe outputs\nPOTENTIAL_DUPLICATES \u003d dataiku.Dataset(\"POTENTIAL_DUPLICATES\")\nPOTENTIAL_DUPLICATES.write_with_schema(POTENTIAL_DUPLICATES_df)"
      ],
      "outputs": []
    }
  ]
}