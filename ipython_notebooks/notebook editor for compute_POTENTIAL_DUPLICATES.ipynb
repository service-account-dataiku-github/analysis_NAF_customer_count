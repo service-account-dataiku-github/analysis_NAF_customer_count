{
  "metadata": {
    "kernelspec": {
      "name": "py-dku-venv-env_clc",
      "display_name": "Python (env env_clc)",
      "language": "python"
    },
    "associatedRecipe": "compute_POTENTIAL_DUPLICATES",
    "dkuGit": {
      "lastInteraction": 0
    },
    "creationTag": {
      "versionNumber": 0,
      "lastModifiedBy": {
        "login": "Daniel.Vandermeer"
      },
      "lastModifiedOn": 1665752610945
    },
    "creator": "Daniel.Vandermeer",
    "createdOn": 1665752610945,
    "tags": [
      "recipe-editor"
    ],
    "customFields": {},
    "hide_input": false,
    "language_info": {
      "name": "python",
      "version": "3.6.8",
      "mimetype": "text/x-python",
      "codemirror_mode": {
        "name": "ipython",
        "version": 3
      },
      "pygments_lexer": "ipython3",
      "nbconvert_exporter": "python",
      "file_extension": ".py"
    },
    "modifiedBy": "Daniel.Vandermeer"
  },
  "nbformat": 4,
  "nbformat_minor": 1,
  "cells": [
    {
      "execution_count": 1,
      "cell_type": "code",
      "metadata": {},
      "source": [
        "# -*- coding: utf-8 -*-\nimport dataiku\nimport pandas as pd, numpy as np\nfrom dataiku import pandasutils as pdu\n\n# Read recipe inputs\nCALCULATED_CARD_DRAW_DOWNS \u003d dataiku.Dataset(\"CALCULATED_CARD_DRAW_DOWNS\")\nCALCULATED_CARD_DRAW_DOWNS_df \u003d CALCULATED_CARD_DRAW_DOWNS.get_dataframe()\n\nCALCULATED_CARD_DRAW_UPS \u003d dataiku.Dataset(\"CALCULATED_CARD_DRAW_UPS\")\nCALCULATED_CARD_DRAW_UPS_df \u003d CALCULATED_CARD_DRAW_UPS.get_dataframe()\n"
      ],
      "outputs": []
    },
    {
      "execution_count": 4,
      "cell_type": "code",
      "metadata": {},
      "source": [
        "print(len(CALCULATED_CARD_DRAW_DOWNS_df))\nCALCULATED_CARD_DRAW_DOWNS_df.head()"
      ],
      "outputs": [
        {
          "output_type": "stream",
          "text": "194\n",
          "name": "stdout"
        },
        {
          "output_type": "execute_result",
          "execution_count": 4,
          "data": {
            "text/plain": "               CUSTOMER            DRAW_DOWN_DATE     MEAN_DD    STD_DD  ACTIVE_CARD_MAX\n0                  3LUM 2019-12-01 00:00:00+00:00   13.000000  0.577350             14.0\n1             YUM  INC. 2021-04-01 00:00:00+00:00  163.916667  7.774765            191.0\n2            XYLEM/3XLM 2021-09-01 00:00:00+00:00   53.500000  3.089572             68.0\n3  XYLEM ANALYTICS FUEL 2021-11-01 00:00:00+00:00   35.250000  2.220770             42.0\n4      WORLEY (0469)(2) 2021-08-01 00:00:00+00:00  166.083333  9.228989            252.0",
            "text/html": "\u003cdiv\u003e\n\u003cstyle scoped\u003e\n    .dataframe tbody tr th:only-of-type {\n        vertical-align: middle;\n    }\n\n    .dataframe tbody tr th {\n        vertical-align: top;\n    }\n\n    .dataframe thead th {\n        text-align: right;\n    }\n\u003c/style\u003e\n\u003ctable border\u003d\"1\" class\u003d\"dataframe\"\u003e\n  \u003cthead\u003e\n    \u003ctr style\u003d\"text-align: right;\"\u003e\n      \u003cth\u003e\u003c/th\u003e\n      \u003cth\u003eCUSTOMER\u003c/th\u003e\n      \u003cth\u003eDRAW_DOWN_DATE\u003c/th\u003e\n      \u003cth\u003eMEAN_DD\u003c/th\u003e\n      \u003cth\u003eSTD_DD\u003c/th\u003e\n      \u003cth\u003eACTIVE_CARD_MAX\u003c/th\u003e\n    \u003c/tr\u003e\n  \u003c/thead\u003e\n  \u003ctbody\u003e\n    \u003ctr\u003e\n      \u003cth\u003e0\u003c/th\u003e\n      \u003ctd\u003e3LUM\u003c/td\u003e\n      \u003ctd\u003e2019-12-01 00:00:00+00:00\u003c/td\u003e\n      \u003ctd\u003e13.000000\u003c/td\u003e\n      \u003ctd\u003e0.577350\u003c/td\u003e\n      \u003ctd\u003e14.0\u003c/td\u003e\n    \u003c/tr\u003e\n    \u003ctr\u003e\n      \u003cth\u003e1\u003c/th\u003e\n      \u003ctd\u003eYUM  INC.\u003c/td\u003e\n      \u003ctd\u003e2021-04-01 00:00:00+00:00\u003c/td\u003e\n      \u003ctd\u003e163.916667\u003c/td\u003e\n      \u003ctd\u003e7.774765\u003c/td\u003e\n      \u003ctd\u003e191.0\u003c/td\u003e\n    \u003c/tr\u003e\n    \u003ctr\u003e\n      \u003cth\u003e2\u003c/th\u003e\n      \u003ctd\u003eXYLEM/3XLM\u003c/td\u003e\n      \u003ctd\u003e2021-09-01 00:00:00+00:00\u003c/td\u003e\n      \u003ctd\u003e53.500000\u003c/td\u003e\n      \u003ctd\u003e3.089572\u003c/td\u003e\n      \u003ctd\u003e68.0\u003c/td\u003e\n    \u003c/tr\u003e\n    \u003ctr\u003e\n      \u003cth\u003e3\u003c/th\u003e\n      \u003ctd\u003eXYLEM ANALYTICS FUEL\u003c/td\u003e\n      \u003ctd\u003e2021-11-01 00:00:00+00:00\u003c/td\u003e\n      \u003ctd\u003e35.250000\u003c/td\u003e\n      \u003ctd\u003e2.220770\u003c/td\u003e\n      \u003ctd\u003e42.0\u003c/td\u003e\n    \u003c/tr\u003e\n    \u003ctr\u003e\n      \u003cth\u003e4\u003c/th\u003e\n      \u003ctd\u003eWORLEY (0469)(2)\u003c/td\u003e\n      \u003ctd\u003e2021-08-01 00:00:00+00:00\u003c/td\u003e\n      \u003ctd\u003e166.083333\u003c/td\u003e\n      \u003ctd\u003e9.228989\u003c/td\u003e\n      \u003ctd\u003e252.0\u003c/td\u003e\n    \u003c/tr\u003e\n  \u003c/tbody\u003e\n\u003c/table\u003e\n\u003c/div\u003e"
          },
          "metadata": {}
        }
      ]
    },
    {
      "execution_count": 5,
      "cell_type": "code",
      "metadata": {},
      "source": [
        "print(len(CALCULATED_CARD_DRAW_UPS_df))\nCALCULATED_CARD_DRAW_UPS_df.head()"
      ],
      "outputs": [
        {
          "output_type": "stream",
          "text": "322\n",
          "name": "stdout"
        },
        {
          "output_type": "execute_result",
          "execution_count": 5,
          "data": {
            "text/plain": "                            CUSTOMER              DRAW_UP_DATE     MEAN_DU    STD_DU  ACTIVE_CARD_MAX\n0                               3GPP 2020-08-01 00:00:00+00:00   27.166667  4.239068             35.0\n1                         ZOETIS INC 2022-05-01 00:00:00+00:00         NaN       NaN            871.0\n2                      ZOETIS (3PHX) 2020-09-01 00:00:00+00:00   21.416667  0.996205             23.0\n3  YUM RESTAURANT SERVICES GROUP LLC 2021-03-01 00:00:00+00:00  146.916667  3.728474            155.0\n4                          XYLEM INC 2021-08-01 00:00:00+00:00   60.777778  3.192874             66.0",
            "text/html": "\u003cdiv\u003e\n\u003cstyle scoped\u003e\n    .dataframe tbody tr th:only-of-type {\n        vertical-align: middle;\n    }\n\n    .dataframe tbody tr th {\n        vertical-align: top;\n    }\n\n    .dataframe thead th {\n        text-align: right;\n    }\n\u003c/style\u003e\n\u003ctable border\u003d\"1\" class\u003d\"dataframe\"\u003e\n  \u003cthead\u003e\n    \u003ctr style\u003d\"text-align: right;\"\u003e\n      \u003cth\u003e\u003c/th\u003e\n      \u003cth\u003eCUSTOMER\u003c/th\u003e\n      \u003cth\u003eDRAW_UP_DATE\u003c/th\u003e\n      \u003cth\u003eMEAN_DU\u003c/th\u003e\n      \u003cth\u003eSTD_DU\u003c/th\u003e\n      \u003cth\u003eACTIVE_CARD_MAX\u003c/th\u003e\n    \u003c/tr\u003e\n  \u003c/thead\u003e\n  \u003ctbody\u003e\n    \u003ctr\u003e\n      \u003cth\u003e0\u003c/th\u003e\n      \u003ctd\u003e3GPP\u003c/td\u003e\n      \u003ctd\u003e2020-08-01 00:00:00+00:00\u003c/td\u003e\n      \u003ctd\u003e27.166667\u003c/td\u003e\n      \u003ctd\u003e4.239068\u003c/td\u003e\n      \u003ctd\u003e35.0\u003c/td\u003e\n    \u003c/tr\u003e\n    \u003ctr\u003e\n      \u003cth\u003e1\u003c/th\u003e\n      \u003ctd\u003eZOETIS INC\u003c/td\u003e\n      \u003ctd\u003e2022-05-01 00:00:00+00:00\u003c/td\u003e\n      \u003ctd\u003eNaN\u003c/td\u003e\n      \u003ctd\u003eNaN\u003c/td\u003e\n      \u003ctd\u003e871.0\u003c/td\u003e\n    \u003c/tr\u003e\n    \u003ctr\u003e\n      \u003cth\u003e2\u003c/th\u003e\n      \u003ctd\u003eZOETIS (3PHX)\u003c/td\u003e\n      \u003ctd\u003e2020-09-01 00:00:00+00:00\u003c/td\u003e\n      \u003ctd\u003e21.416667\u003c/td\u003e\n      \u003ctd\u003e0.996205\u003c/td\u003e\n      \u003ctd\u003e23.0\u003c/td\u003e\n    \u003c/tr\u003e\n    \u003ctr\u003e\n      \u003cth\u003e3\u003c/th\u003e\n      \u003ctd\u003eYUM RESTAURANT SERVICES GROUP LLC\u003c/td\u003e\n      \u003ctd\u003e2021-03-01 00:00:00+00:00\u003c/td\u003e\n      \u003ctd\u003e146.916667\u003c/td\u003e\n      \u003ctd\u003e3.728474\u003c/td\u003e\n      \u003ctd\u003e155.0\u003c/td\u003e\n    \u003c/tr\u003e\n    \u003ctr\u003e\n      \u003cth\u003e4\u003c/th\u003e\n      \u003ctd\u003eXYLEM INC\u003c/td\u003e\n      \u003ctd\u003e2021-08-01 00:00:00+00:00\u003c/td\u003e\n      \u003ctd\u003e60.777778\u003c/td\u003e\n      \u003ctd\u003e3.192874\u003c/td\u003e\n      \u003ctd\u003e66.0\u003c/td\u003e\n    \u003c/tr\u003e\n  \u003c/tbody\u003e\n\u003c/table\u003e\n\u003c/div\u003e"
          },
          "metadata": {}
        }
      ]
    },
    {
      "execution_count": 6,
      "cell_type": "code",
      "metadata": {},
      "source": [
        "CALCULATED_CARD_DRAW_DOWNS_df.sort_values([\u0027CUSTOMER\u0027], inplace\u003dTrue)\nCALCULATED_CARD_DRAW_UPS_df.sort_values([\u0027CUSTOMER\u0027], inplace\u003dTrue)"
      ],
      "outputs": []
    },
    {
      "execution_count": 9,
      "cell_type": "code",
      "metadata": {},
      "source": [
        "customer_down_list \u003d CALCULATED_CARD_DRAW_DOWNS_df.CUSTOMER.unique()\ncustomer_up_list \u003d CALCULATED_CARD_DRAW_UPS_df.CUSTOMER.unique()\n"
      ],
      "outputs": []
    },
    {
      "execution_count": 29,
      "cell_type": "code",
      "metadata": {},
      "source": [
        "import Levenshtein\nfrom fuzzywuzzy import fuzz\nimport string\n\ndraw_downs \u003d [\u0027ADF PIZZA MANAGEMENT\u0027,\u0027ALKERMES (3ALK)\u0027,\u0027AMGEN USA INC\u0027,\u0027ARCADIS US\u0027, \u0027BALFOUR PB\u0027]\ndraw_ups \u003d [\u00273LUM\u0027, \u0027ALKERMES INC\u0027, \u0027ALLIED TUBE  CONDUIT\u0027, \u0027AMGEN USA\u0027, \u0027ARCADIS US INC\u0027, \u0027BALFOUR BEATTY EQUIPMENT\u0027]\n\nidx \u003d 0\n\nfor c in draw_downs:\n    \n    c_str \u003d c.translate(str.maketrans(\u0027\u0027, \u0027\u0027, string.punctuation))\n    \n    f \u003d c_str\n    \n    #for m in draw_ups:\n        \n    #    m_str \u003d m.translate(str.maketrans(\u0027\u0027, \u0027\u0027, string.punctuation))\n    #    print(c_str,\"-\", m_str)\n        \n    #print()\n    \n    \n    "
      ],
      "outputs": [
        {
          "output_type": "stream",
          "text": "ADF PIZZA MANAGEMENT - 3LUM\nADF PIZZA MANAGEMENT - ALKERMES INC\nADF PIZZA MANAGEMENT - ALLIED TUBE  CONDUIT\nADF PIZZA MANAGEMENT - AMGEN USA\nADF PIZZA MANAGEMENT - ARCADIS US INC\nADF PIZZA MANAGEMENT - BALFOUR BEATTY EQUIPMENT\n\nALKERMES 3ALK - 3LUM\nALKERMES 3ALK - ALKERMES INC\nALKERMES 3ALK - ALLIED TUBE  CONDUIT\nALKERMES 3ALK - AMGEN USA\nALKERMES 3ALK - ARCADIS US INC\nALKERMES 3ALK - BALFOUR BEATTY EQUIPMENT\n\nAMGEN USA INC - 3LUM\nAMGEN USA INC - ALKERMES INC\nAMGEN USA INC - ALLIED TUBE  CONDUIT\nAMGEN USA INC - AMGEN USA\nAMGEN USA INC - ARCADIS US INC\nAMGEN USA INC - BALFOUR BEATTY EQUIPMENT\n\nARCADIS US - 3LUM\nARCADIS US - ALKERMES INC\nARCADIS US - ALLIED TUBE  CONDUIT\nARCADIS US - AMGEN USA\nARCADIS US - ARCADIS US INC\nARCADIS US - BALFOUR BEATTY EQUIPMENT\n\nBALFOUR PB - 3LUM\nBALFOUR PB - ALKERMES INC\nBALFOUR PB - ALLIED TUBE  CONDUIT\nBALFOUR PB - AMGEN USA\nBALFOUR PB - ARCADIS US INC\nBALFOUR PB - BALFOUR BEATTY EQUIPMENT\n\n",
          "name": "stdout"
        }
      ]
    },
    {
      "execution_count": 0,
      "cell_type": "code",
      "metadata": {},
      "source": [
        "# Compute recipe outputs\n# TODO: Write here your actual code that computes the outputs\n# NB: DSS supports several kinds of APIs for reading and writing data. Please see doc.\n\nPOTENTIAL_DUPLICATES_df \u003d ... # Compute a Pandas dataframe to write into POTENTIAL_DUPLICATES\n\n\n# Write recipe outputs\nPOTENTIAL_DUPLICATES \u003d dataiku.Dataset(\"POTENTIAL_DUPLICATES\")\nPOTENTIAL_DUPLICATES.write_with_schema(POTENTIAL_DUPLICATES_df)"
      ],
      "outputs": []
    }
  ]
}