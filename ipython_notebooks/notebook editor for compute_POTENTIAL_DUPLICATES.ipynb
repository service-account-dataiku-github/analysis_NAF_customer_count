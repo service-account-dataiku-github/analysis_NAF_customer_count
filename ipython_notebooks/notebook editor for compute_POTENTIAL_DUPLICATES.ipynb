{
  "metadata": {
    "kernelspec": {
      "name": "py-dku-venv-env_clc",
      "display_name": "Python (env env_clc)",
      "language": "python"
    },
    "associatedRecipe": "compute_POTENTIAL_DUPLICATES",
    "dkuGit": {
      "lastInteraction": 0
    },
    "creationTag": {
      "versionNumber": 0,
      "lastModifiedBy": {
        "login": "Daniel.Vandermeer"
      },
      "lastModifiedOn": 1665752610945
    },
    "creator": "Daniel.Vandermeer",
    "createdOn": 1665752610945,
    "tags": [
      "recipe-editor"
    ],
    "customFields": {},
    "hide_input": false,
    "language_info": {
      "name": "python",
      "version": "3.6.8",
      "mimetype": "text/x-python",
      "codemirror_mode": {
        "name": "ipython",
        "version": 3
      },
      "pygments_lexer": "ipython3",
      "nbconvert_exporter": "python",
      "file_extension": ".py"
    },
    "modifiedBy": "Daniel.Vandermeer"
  },
  "nbformat": 4,
  "nbformat_minor": 1,
  "cells": [
    {
      "execution_count": 39,
      "cell_type": "code",
      "metadata": {},
      "source": [
        "# -*- coding: utf-8 -*-\nimport dataiku\nimport pandas as pd, numpy as np\nfrom dataiku import pandasutils as pdu\n\n# Read recipe inputs\nCALCULATED_CARD_DRAW_DOWNS \u003d dataiku.Dataset(\"CALCULATED_CARD_DRAW_DOWNS\")\nCALCULATED_CARD_DRAW_DOWNS_df \u003d CALCULATED_CARD_DRAW_DOWNS.get_dataframe()\n\nCALCULATED_CARD_DRAW_UPS \u003d dataiku.Dataset(\"CALCULATED_CARD_DRAW_UPS\")\nCALCULATED_CARD_DRAW_UPS_df \u003d CALCULATED_CARD_DRAW_UPS.get_dataframe()\n"
      ],
      "outputs": []
    },
    {
      "execution_count": 75,
      "cell_type": "code",
      "metadata": {},
      "source": [
        "df_up \u003d CALCULATED_CARD_DRAW_UPS_df\nprint(len(df_up))\ndf_up.DRAW_UP_DATE \u003d pd.to_datetime(df_down.DRAW_DOWN_DATE).dt.date\ndf_up.sort_values([\u0027CUSTOMER\u0027], inplace\u003dTrue)\n\ndf_down \u003d CALCULATED_CARD_DRAW_DOWNS_df\nprint(len(df_down))\ndf_down.DRAW_DOWN_DATE \u003d pd.to_datetime(df_down.DRAW_DOWN_DATE).dt.date\ndf_down.sort_values([\u0027CUSTOMER\u0027], inplace\u003dTrue)\ndf_up.head()"
      ],
      "outputs": [
        {
          "output_type": "stream",
          "text": "322\n194\n",
          "name": "stdout"
        },
        {
          "output_type": "execute_result",
          "execution_count": 75,
          "data": {
            "text/plain": "              CUSTOMER DRAW_UP_DATE      MEAN_DU      STD_DU  ACTIVE_CARD_MAX\n0                 3GPP   2019-12-01    27.166667    4.239068             35.0\n321               3LUM          NaN    12.111111    1.615893             14.0\n320          3M (3MUS)          NaN  2375.083333  169.146767           2728.0\n319  3M COMPANY (3MVR)          NaN   360.083333   65.468186            399.0\n318     3M COMPANY3MUS          NaN   670.111111  196.492013            963.0",
            "text/html": "\u003cdiv\u003e\n\u003cstyle scoped\u003e\n    .dataframe tbody tr th:only-of-type {\n        vertical-align: middle;\n    }\n\n    .dataframe tbody tr th {\n        vertical-align: top;\n    }\n\n    .dataframe thead th {\n        text-align: right;\n    }\n\u003c/style\u003e\n\u003ctable border\u003d\"1\" class\u003d\"dataframe\"\u003e\n  \u003cthead\u003e\n    \u003ctr style\u003d\"text-align: right;\"\u003e\n      \u003cth\u003e\u003c/th\u003e\n      \u003cth\u003eCUSTOMER\u003c/th\u003e\n      \u003cth\u003eDRAW_UP_DATE\u003c/th\u003e\n      \u003cth\u003eMEAN_DU\u003c/th\u003e\n      \u003cth\u003eSTD_DU\u003c/th\u003e\n      \u003cth\u003eACTIVE_CARD_MAX\u003c/th\u003e\n    \u003c/tr\u003e\n  \u003c/thead\u003e\n  \u003ctbody\u003e\n    \u003ctr\u003e\n      \u003cth\u003e0\u003c/th\u003e\n      \u003ctd\u003e3GPP\u003c/td\u003e\n      \u003ctd\u003e2019-12-01\u003c/td\u003e\n      \u003ctd\u003e27.166667\u003c/td\u003e\n      \u003ctd\u003e4.239068\u003c/td\u003e\n      \u003ctd\u003e35.0\u003c/td\u003e\n    \u003c/tr\u003e\n    \u003ctr\u003e\n      \u003cth\u003e321\u003c/th\u003e\n      \u003ctd\u003e3LUM\u003c/td\u003e\n      \u003ctd\u003eNaN\u003c/td\u003e\n      \u003ctd\u003e12.111111\u003c/td\u003e\n      \u003ctd\u003e1.615893\u003c/td\u003e\n      \u003ctd\u003e14.0\u003c/td\u003e\n    \u003c/tr\u003e\n    \u003ctr\u003e\n      \u003cth\u003e320\u003c/th\u003e\n      \u003ctd\u003e3M (3MUS)\u003c/td\u003e\n      \u003ctd\u003eNaN\u003c/td\u003e\n      \u003ctd\u003e2375.083333\u003c/td\u003e\n      \u003ctd\u003e169.146767\u003c/td\u003e\n      \u003ctd\u003e2728.0\u003c/td\u003e\n    \u003c/tr\u003e\n    \u003ctr\u003e\n      \u003cth\u003e319\u003c/th\u003e\n      \u003ctd\u003e3M COMPANY (3MVR)\u003c/td\u003e\n      \u003ctd\u003eNaN\u003c/td\u003e\n      \u003ctd\u003e360.083333\u003c/td\u003e\n      \u003ctd\u003e65.468186\u003c/td\u003e\n      \u003ctd\u003e399.0\u003c/td\u003e\n    \u003c/tr\u003e\n    \u003ctr\u003e\n      \u003cth\u003e318\u003c/th\u003e\n      \u003ctd\u003e3M COMPANY3MUS\u003c/td\u003e\n      \u003ctd\u003eNaN\u003c/td\u003e\n      \u003ctd\u003e670.111111\u003c/td\u003e\n      \u003ctd\u003e196.492013\u003c/td\u003e\n      \u003ctd\u003e963.0\u003c/td\u003e\n    \u003c/tr\u003e\n  \u003c/tbody\u003e\n\u003c/table\u003e\n\u003c/div\u003e"
          },
          "metadata": {}
        }
      ]
    },
    {
      "execution_count": 102,
      "cell_type": "code",
      "metadata": {},
      "source": [
        "# \u003d\u003d\u003d\u003d\u003d\u003d\u003d\u003d\u003d\u003d\u003d\u003d\u003d\u003d\u003d\u003d\u003d\u003d\u003d\u003d\u003d\u003d\u003d\u003d\u003d\u003d\u003d\u003d\u003d\u003d\u003d\u003d\u003d\u003d\u003d\u003d\u003d\u003d\u003d\u003d\u003d\u003d\u003d\u003d\u003d\u003d\u003d\nclass Draw_Down_Customer:\n    \n    def __init__(self, name, draw_down_date, mean_dd, std_dd, active_card_max):\n\n        self._common_words \u003d [\u0027PIZZA\u0027, \u0027MANAGEMENT\u0027, \u0027USA\u0027, \u0027INC\u0027, \u0027US\u0027, \u0027EQUIPMENT\u0027, \u0027MEDICAL\u0027, \u0027SYSTEMS\u0027,\n                             \u0027ANIMAL\u0027, \u0027HEALTH\u0027, \u0027LLC\u0027, \u0027CORPORATION\u0027, \u0027BRANDS\u0027, \u0027TIRE\u0027, \u0027RUBBER\u0027, \u0027COUNTRY\u0027, \u0027CORP\u0027, \n                              \u0027PHARMACY\u0027,\u0027INC\u0027, \u0027RESTAURANTS\u0027, \u0027CONTAINER\u0027, \u0027AMERICA\u0027, \u0027APPLICATIONS\u0027, \u0027TECHNOLOGY\u0027, \n                              \u0027INSURANCE\u0027, \u0027FARM\u0027,\u0027CREDIT\u0027, \u0027SERVICES\u0027, \u0027SERVICE\u0027, \u0027ACCOUNT\u0027, \u0027GENERAL\u0027, \u0027PARTS\u0027, \n                              \u0027INTL\u0027, \u0027FLAVORS\u0027, \u0027HOLDINGS\u0027, \u0027FOOD\u0027,\u0027INDUSTRIES\u0027, \u0027LP\u0027, \u0027FLEET\u0027, \u0027MEDICAL\u0027, \u0027PHARMA\u0027,\n                             \u0027GLOBAL\u0027, \u0027PIPELINE\u0027, \u0027WHEELS\u0027, \u0027BIOSCIENCES\u0027, \u0027SSI\u0027, \u0027SPRINGS\u0027, \u0027NORTH\u0027, \u0027MARINE\u0027, \u0027HOLDING\u0027, \n                              \u0027TECHNOLOGIES\u0027,\u0027GROUP\u0027, \u0027PHARMACEUTICAL\u0027, \u0027NA\u0027, \u0027USA\u0027, \u0027COMPANY\u0027, \u0027RAIL\u0027, \u0027PARTNERS\u0027, \u0027BROS\u0027, \n                              \u0027CO\u0027, \u0027PHARMACEUTICALS\u0027, \u0027ENERGY\u0027, \u0027DISTRIBUTION\u0027, \u0027DENTAL\u0027, \u0027SPECIALTIES\u0027, \u0027OPERATIONS\u0027, \n                              \u0027COMPANY\u0027, \u0027THE\u0027, \u0027MOUNTAIN\u0027, \u0027TRANS\u0027, \u0027FUEL\u0027, \u0027AMERICAN\u0027, \u0027HOMES\u0027, \u0027GAS\u0027]\n        \n        self.CUSTOMER \u003d name\n        self.DRAW_DOWN_DATE \u003d draw_down_date\n        self.ACTIVE_CARD_MAX \u003d active_card_max\n        \n        self.MATCHING_CUSTOMERS \u003d []\n        self.PERCENT_DIFFERENCE \u003d []\n        \n        # remove punctuation\n        c_str \u003d name.translate(str.maketrans(\u0027\u0027, \u0027\u0027, string.punctuation))\n    \n        f \u003d c_str.split()\n        self.WORD_LIST \u003d []\n        for w in f:\n            if w not in self._common_words:\n                self.WORD_LIST.append(w)\n                \n    def Match_Draw_Up_Customer(self, name, draw_up_date, mean_du, std_du, active_card_max):\n        \n        if (self.CUSTOMER \u003d\u003d name):\n            # exact match, already captured\n            return\n        \n        c_str \u003d name.translate(str.maketrans(\u0027\u0027, \u0027\u0027, string.punctuation))\n        \n        f \u003d c_str.split()\n        \n        check_list \u003d []\n        for w in f:\n            if w not in self._common_words:\n                check_list.append(w)\n                \n        percent_diff \u003d (abs(self.ACTIVE_CARD_MAX - active_card_max) / ((self.ACTIVE_CARD_MAX+active_card_max)/2))*100.\n                \n        for w_to_check in check_list:\n            for w in self.WORD_LIST:\n                if w_to_check\u003d\u003dw:\n                    if not name in(self.MATCHING_CUSTOMERS):\n                        self.MATCHING_CUSTOMERS.append(name)\n                        self.PERCENT_DIFFERENCE.append(percent_diff)\n                        break;\n       \n\nidx \u003d 0\n\n_draw_down_customers \u003d []\n        \nfor index, row in df_down.iterrows():\n    \n    idx+\u003d1\n    customer \u003d row[\u0027CUSTOMER\u0027]\n    draw_down_date \u003d row[\u0027DRAW_DOWN_DATE\u0027]\n    mean_dd \u003d row[\u0027MEAN_DD\u0027]\n    std_dd \u003d row[\u0027STD_DD\u0027]\n    active_card_max \u003d row[\u0027ACTIVE_CARD_MAX\u0027]\n    \n    c \u003d Draw_Down_Customer(customer, draw_down_date, mean_dd, std_dd, active_card_max)\n    _draw_down_customers.append(c)\n    \n    #if idx\u003e5:\n    #    break;\n        \nfor c in _draw_down_customers:\n    \n    for index_up, row_up in df_up.iterrows():\n        \n        customer \u003d row_up[\u0027CUSTOMER\u0027]\n        draw_up_date \u003d row_up[\u0027DRAW_UP_DATE\u0027]\n        mean_du \u003d row_up[\u0027MEAN_DU\u0027]\n        std_du \u003d row_up[\u0027STD_DU\u0027]\n        active_card_max \u003d row_up[\u0027ACTIVE_CARD_MAX\u0027]\n        \n        c.Match_Draw_Up_Customer(customer, draw_up_date, mean_du, std_du, active_card_max)\n\nmatch_count \u003d 0\nfor c in _draw_down_customers:\n    \n    if len(c.MATCHING_CUSTOMERS)\u003e0:\n        match_count+\u003d1\n        print(c.CUSTOMER)\n        print(c.MATCHING_CUSTOMERS)\n        print(c.PERCENT_DIFFERENCE)\n        print()\n        \nprint(match_count)"
      ],
      "outputs": [
        {
          "output_type": "stream",
          "text": "ALKERMES (3ALK)\n[\u0027ALKERMES INC\u0027]\n[0.24623115577889448]\n\nAMERICAN HOMES 4 RENT\n[\u0027AMERICAN HOMES 4 RENT LP\u0027]\n[0.06587615283267458]\n\nAMGEN USA INC\n[\u0027AMGEN USA\u0027]\n[0.18921440567270012]\n\nARCADIS US\n[\u0027ARCADIS US INC\u0027]\n[0.07761194029850746]\n\nARCHROMA U.S. INC.\n[\u0027ARCHROMA US INC\u0027]\n[0.27450980392156865]\n\nASTELLAS PHARMA\n[\u0027ASTELLAS PHARMA US INC\u0027]\n[0.0416]\n\nATLAS COPCO\n[\u0027ATLAS COPCO COMPRESSORS LLC3AC2\u0027]\n[1.9857651245551602]\n\nBALFOUR BEATTY 3BSE\n[\u0027BALFOUR BEATTY EQUIPMENT\u0027, \u0027BALFOUR BEATTY RENOVATIONS\u0027, \u0027BALFOUR BEATTY3BBR\u0027]\n[0.49504950495049505, 0.30303030303030304, 1.0731707317073171]\n\nBALFOUR EQUIP\n[\u0027BALFOUR BEATTY EQUIPMENT\u0027, \u0027BALFOUR BEATTY RENOVATIONS\u0027, \u0027BALFOUR BEATTY3BBR\u0027]\n[0.5681818181818182, 1.2056737588652482, 0.1087866108786611]\n\nBALFOUR PB\n[\u0027BALFOUR BEATTY EQUIPMENT\u0027, \u0027BALFOUR BEATTY RENOVATIONS\u0027, \u0027BALFOUR BEATTY3BBR\u0027]\n[1.6727272727272726, 1.8476190476190477, 1.3949579831932772]\n\nBALFOUR RAIL\n[\u0027BALFOUR BEATTY EQUIPMENT\u0027, \u0027BALFOUR BEATTY RENOVATIONS\u0027, \u0027BALFOUR BEATTY3BBR\u0027]\n[1.1457627118644067, 1.5692307692307692, 0.5921787709497207]\n\nBALFOUR RENO\n[\u0027BALFOUR BEATTY EQUIPMENT\u0027, \u0027BALFOUR BEATTY RENOVATIONS\u0027, \u0027BALFOUR BEATTY3BBR\u0027]\n[0.896551724137931, 0.15384615384615385, 1.36]\n\nBECTON DICKINSON (3BRD)\n[\u0027BECTON DICKINSON  3BRD\u0027, \u0027BECTON DICKINSON3BDB\u0027, \u0027BECTON DICKINSON3BDC\u0027, \u0027BECTON DICKINSON3BDT\u0027]\n[0.08247422680412371, 1.2727272727272727, 1.0149253731343284, 1.0074441687344913]\n\nBECTON DICKINSON (BDB)\n[\u0027BECTON DICKINSON  3BRD\u0027, \u0027BECTON DICKINSON3BDB\u0027, \u0027BECTON DICKINSON3BDC\u0027, \u0027BECTON DICKINSON3BDT\u0027]\n[1.2254335260115607, 0.004962779156327543, 0.3855421686746988, 0.39520958083832336]\n\nBECTON DICKINSON (BDC)\n[\u0027BECTON DICKINSON  3BRD\u0027, \u0027BECTON DICKINSON3BDB\u0027, \u0027BECTON DICKINSON3BDC\u0027, \u0027BECTON DICKINSON3BDT\u0027]\n[0.9087749782797567, 0.43410852713178294, 0.05564648117839607, 0.04560260586319218]\n\nBECTON DICKINSON (BDC)(2)\n[\u0027BECTON DICKINSON  3BRD\u0027, \u0027BECTON DICKINSON3BDB\u0027, \u0027BECTON DICKINSON3BDC\u0027, \u0027BECTON DICKINSON3BDT\u0027]\n[0.9037294015611448, 0.44015444015444016, 0.06199021207177814, 0.05194805194805195]\n\nBP (NAG)\n[\u0027BP AMERICA INC\u0027, \u0027BP AMERICA PRODUCTION COMPANY\u0027, \u0027BP LUBRICANTS USA INC\u0027, \u0027BP PIPELINES NORTH AMERICA INC\u0027]\n[1.989159891598916, 1.5299760191846523, 1.3004484304932735, 1.2566371681415929]\n\nCANON MEDICAL USA\n[\u0027CANON MEDICAL SYSTEMS USA INC\u0027]\n[0.002936857562408223]\n\nCEVA ANIMAL HEALTH, LLC\n[\u0027CEVA ANIMAL HEALTH LLC\u0027]\n[0.11320754716981132]\n\nCIGNA\n[\u0027CIGNA (3EPS)\u0027]\n[1.5182481751824817]\n\nCIGNA (WHEELS)(2)\n[\u0027CIGNA (3EPS)\u0027]\n[0.8]\n\nCOLLEGIUM\n[\u0027COLLEGIUM PHARMACEUTICAL INC\u0027]\n[0.06792452830188679]\n\nCONSTELLATION BRANDS (3CBL)\n[\u0027CONSTELLATION BRANDS3 CBL\u0027, \u0027CONSTELLATION BRANDS3CRW\u0027]\n[0.14839424141749724, 0.05291005291005291]\n\nCONSTELLATION BRANDS (3CRW)\n[\u0027CONSTELLATION BRANDS3 CBL\u0027, \u0027CONSTELLATION BRANDS3CRW\u0027]\n[0.02912621359223301, 0.12471131639722864]\n\nCOOPER TIRE \u0026 RUBBER\n[\u0027COOPER TIRE  RUBBER\u0027]\n[0.24]\n\nCOVESTRO\n[\u0027COVESTRO LLC\u0027]\n[0.011976047904191617]\n\nCURTISS-WRIGHT (5CWC)\n[\u0027CURTISSWRIGHT CORPORATION\u0027]\n[0.04081632653061224]\n\nCVS - 3CVS\n[\u0027CVS PHARMACY INC\u0027]\n[0.5706371191135734]\n\nDAIICHI SANKYO, INC.\n[\u0027DAIICHI SANKYO INC\u0027]\n[0.15422885572139303]\n\nDARDEN RESTAURANTS (3DAR)\n[\u0027DARDEN RESTAURANTS\u0027]\n[0.15789473684210525]\n\nDART CONTAINER CORP (3DC2)\n[\u0027DART CONTAINER CORP (3DRT)\u0027, \u0027DART CONTAINER CORP3DC2\u0027, \u0027DART CONTAINER CORP3DRT\u0027]\n[0.44938271604938274, 0.6276150627615062, 0.032362459546925564]\n\nDART CONTAINER CORP (3DRT)\n[\u0027DART CONTAINER CORP (3DC2)\u0027, \u0027DART CONTAINER CORP3DC2\u0027, \u0027DART CONTAINER CORP3DRT\u0027]\n[0.44938271604938274, 1.006060606060606, 0.48]\n\nDIVERSIFIED APPLICAITONS, INC.\n[\u0027DIVERSIFIED APPLICATIONS INC\u0027]\n[0.39316239316239315]\n\nDYSON (3DYS)\n[\u0027DYSON INC\u0027]\n[0.35051546391752575]\n\nEISAI  INC\n[\u0027EISAI INC\u0027]\n[0.31061806656101426]\n\nENJOY TECHNOLOGY\n[\u0027ENJOY TECHNOLOGY INC\u0027]\n[0.47935656836461127]\n\nERIE INSURANCE (3ERE)\n[\u0027ERIE INSURANCE EXCHANGE  3ERE\u0027]\n[0.11932687404385518]\n\nFARMERS MUTUAL HAIL INSURANCE\n[\u0027FARMERS MUTUAL HAIL INSURANCE CO OF IOWA\u0027]\n[0.055776892430278883]\n\nFCS AMERICA (3FCS)\n[\u0027FARM CREDIT SERVICES (3FCS)\u0027]\n[0.23423423423423423]\n\nGEICO (0469)(2)\n[\u0027WORLEY (0469)(2)\u0027]\n[1.5049115913555993]\n\nGIVAUDAN FLAVORS (GV3-5)\n[\u0027GIVAUDAN FLAVORS\u0027, \u0027GIVAUDAN FRAGRANCES\u0027]\n[0.15384615384615385, 0.4444444444444444]\n\nGIVAUDAN FRAGRANCES (GV2-5)\n[\u0027GIVAUDAN FLAVORS\u0027, \u0027GIVAUDAN FRAGRANCES\u0027]\n[0.4, 0.2]\n\nGLENN SPRINGS HOLDINGS\n[\u0027GLENN SPRINGS HOLDINGS INC\u0027]\n[0.2857142857142857]\n\nGOOGLE FIBER\n[\u0027GOOGLE FIBER INC\u0027, \u0027GOOGLE LLC (3GCF)\u0027]\n[1.04, 1.2]\n\nGOOGLE FIBER INC (ITC)\n[\u0027GOOGLE FIBER INC\u0027, \u0027GOOGLE LLC (3GCF)\u0027]\n[1.5879828326180256, 1.6666666666666667]\n\nGORDON FOOD SERVICE (0469)\n[\u0027GORDON FOOD SERVICE INC\u0027]\n[1.946768060836502]\n\nHARMON INC (WHLS)\n[\u0027HARMON INC\u0027]\n[0.0915032679738562]\n\nHARMONY BIOSCIENCES\n[\u0027HARMONY BIOSCIENCES LLC\u0027]\n[0.23788546255506607]\n\nHAYWARD INDUSTRIES (WHLS)\n[\u0027HAYWARD INDUSTRIES\u0027]\n[0.08264462809917356]\n\nHENKEL CORPORATION (0469)\n[\u0027HENKEL US OPERATIONS CORP\u0027]\n[1.3974507531865585]\n\nHIGHWAY EQUIPMENT\n[\u0027HIGHWAY EQUIPMENT AND SUPPLY COMPANY\u0027]\n[0.0]\n\nIMMUNOMEDICS (3IMU)\n[\u0027IMMUNOMEDICS INC\u0027]\n[1.6571428571428573]\n\nIRONWOOD PHARMA (IRW)\n[\u0027IRONWOOD PHARMACEUTICALS\u0027]\n[0.31384615384615383]\n\nJAZZ PHARMA (3JAZ)\n[\u0027JAZZ PARMACEUTICALS INC.\u0027]\n[0.43414634146341463]\n\nJONES LANG LASALLE (0469)\n[\u0027JONES LANG LASALLE AMERICAS INC\u0027]\n[0.04081632653061224]\n\nKEMPER\n[\u0027KEMPER INDEPENDENCE INSURANCE CO\u0027]\n[0.8589743589743589]\n\nLAERDAL MEDICAL\n[\u0027LAERDAL MEDICAL CORP\u0027]\n[0.4]\n\nLAMB WESTON SALES\n[\u0027LAMB WESTON INC\u0027, \u0027LAMB WESTON SALES (3CLW)\u0027, \u0027LAMB WESTON SALES INC\u0027]\n[0.8994082840236687, 0.4810126582278481, 0.10077519379844961]\n\nLEGRAND (5LAV)\n[\u0027LEGRAND AV INC5LAV\u0027, \u0027LEGRAND HOLDING INC (5CAB)\u0027, \u0027LEGRAND HOLDING INC5LNA\u0027]\n[0.1897810218978102, 1.875, 1.4444444444444444]\n\nLINDE NORTH AMERICA (3LN2)\n[\u0027LINDE ENGINEERING NORTH AMERICA INC\u0027, \u0027LINDE GAS NORTH AMERICA LLC\u0027]\n[1.9272727272727272, 1.1079136690647482]\n\nLUMILEDS (3LED)\n[\u0027LUMILEDS LLC\u0027]\n[0.7317073170731707]\n\nLUNDBECK\n[\u0027LUNDBECK LLC\u0027]\n[0.20912280701754385]\n\nMACLEAN-FOGG (3MF1)\n[\u0027MACLEANFOGG COMPANY\u0027]\n[0.13740458015267176]\n\nMARATHON (WHEELS)\n[\u0027MARATHON PETROLEUM\u0027]\n[1.267391304347826]\n\nMARS INC.\n[\u0027MARS INC\u0027]\n[0.4297449200172936]\n\nMARS INC. (M51)\n[\u0027MARS INC\u0027]\n[1.9011815252416757]\n\nMCKESSON CORPORATION (3MCK)\n[\u0027MCKESSON CORPORATION3MCK\u0027, \u0027MCKESSON CORPORATION3MCT\u0027]\n[0.1900647948164147, 1.9686888454011742]\n\nMCKESSON CORPORATION (3MCT)\n[\u0027MCKESSON CORPORATION3MCK\u0027, \u0027MCKESSON CORPORATION3MCT\u0027]\n[1.9481743227326267, 0.3157894736842105]\n\nMILESTONE AV TECHNOLOGIES\n[\u0027LEGRAND AV INC5LAV\u0027]\n[1.896103896103896]\n\nMILLENNIUM PHARMA\n[\u0027MILLENNIUM PHARMACEUTICLAS INC\u0027]\n[0.3279279279279279]\n\nNB COATINGS INC.\n[\u0027NB COATINGS INC\u0027]\n[1.4871794871794872]\n\nNEXAIR / 3NXA\n[\u0027NEXAIR LLC\u0027]\n[0.9090909090909091]\n\nNOVAMEX\n[\u0027NOVAMEX  TIPP ENTERPRISES LP\u0027]\n[0.48739495798319327]\n\nOCCIDENTAL CHEMICAL CORP (69)\n[\u0027OCCIDENTAL CHEMICAL CORPORATION\u0027, \u0027SYBRON DENTAL SPECIALTIES (69)\u0027]\n[0.09523809523809523, 1.691588785046729]\n\nOSMOTICA PHARMACEUTICAL\n[\u0027OSMOTICA HOLDINGS US LLC\u0027]\n[0.41379310344827586]\n\nPARSONS CORPORATION (0469)\n[\u0027PARSONS CORP\u0027]\n[1.1578947368421053]\n\nPRIMETALS TECHNOLOGIES USA\n[\u0027PRIMETALS TECHNOLOGIES USA LLC\u0027]\n[0.07633587786259542]\n\nRITCHIE BROS. USA\n[\u0027RITCHIE BROS AUCTIONEERS AMERICA INC\u0027]\n[0.0030816640986132513]\n\nROBERT HALF CORPORATION (3RHF)\n[\u0027ROBERT HALF INTERNATIONAL INCPROTIVITI\u0027]\n[0.19891500904159132]\n\nRPM INC (5RPX)\n[\u0027RPM INTERNATIONAL INC  5RPM\u0027, \u0027RPM INTERNATIONAL INC  5RPX\u0027]\n[1.5262054507337526, 0.017543859649122806]\n\nRPM, INC\n[\u0027RPM INC (5RPX)\u0027, \u0027RPM INTERNATIONAL INC  5RPM\u0027, \u0027RPM INTERNATIONAL INC  5RPX\u0027]\n[1.502202643171806, 0.05623471882640587, 1.4945054945054945]\n\nSECURITAS ELECTRONICS\n[\u0027SECURITAS ELECTRONIC SECURITY INC\u0027, \u0027SECURITAS SECURITY SERVICES USA INC\u0027]\n[0.04871259568545581, 0.7799419809365935]\n\nSECURITAS SECURITY SRVCS(3SCR)\n[\u0027SECURITAS ELECTRONIC SECURITY INC\u0027, \u0027SECURITAS SECURITY SERVICES USA INC\u0027, \u0027VSC FIRE  SECURITY INC3VSC\u0027]\n[0.8601626016260162, 0.047729918509895226, 0.8895277207392197]\n\nSECURITAS USA\n[\u0027SECURITAS ELECTRONIC SECURITY INC\u0027, \u0027SECURITAS SECURITY SERVICES USA INC\u0027]\n[0.7137614678899082, 0.12547528517110265]\n\nSELECTIVE INSURANCE CO\n[\u0027SELECTIVE INSURANCE COMPANY OF AMERICA\u0027]\n[0.19097586568730326]\n\nSENSIENT TECHNOLOGIES\n[\u0027SENSIENT TECHNOLOGIES CORPORATION\u0027]\n[0.6741573033707865]\n\nSIBELCO\n[\u0027SIBELCO NORTH AMERICA INC\u0027]\n[0.5]\n\nSIEMENS ENERGY (3SWG)\n[\u0027SIEMENS  3PPA\u0027, \u0027SIEMENS  3SBT\u0027, \u0027SIEMENS  3SDX\u0027, \u0027SIEMENS  3SFS\u0027, \u0027SIEMENS  3SGS\u0027, \u0027SIEMENS ENERGY INC\u0027, \u0027SIEMENS GAMESA  3SWP\u0027, \u0027SIEMENS INDUSTRY3PID\u0027, \u0027SIEMENS INDUSTRY3SDF\u0027, \u0027SIEMENS INDUSTRY3SEM\u0027, \u0027SIEMENS MEDICAL SOLUTIONS USA INC3SM1\u0027, \u0027SIEMENS MOBILITY3SMO\u0027]\n[0.6, 1.8015267175572518, 1.6413793103448275, 1.8518518518518519, 0.5365853658536586, 1.5737704918032787, 0.14285714285714285, 1.5497835497835497, 1.7333333333333334, 1.7758620689655173, 1.946611909650924, 0.6835443037974683]\n\nSL DIST (3SNL)\n[\u0027SL DISTRIBUTION CO LLC\u0027]\n[1.7837837837837838]\n\nSYBRON DENTAL SPECIALTIES (69)\n[\u0027SYBRON DENTAL SPECIALTIES\u0027]\n[0.08718626155878467]\n\nTEVA WHEELS\n[\u0027TEVA PHARMACEUTICALS\u0027]\n[0.27405247813411077]\n\nTHE TIMKEN COMPANY\n[\u0027TIMKEN INC\u0027]\n[0.0]\n\nTHIBAUT ACQUISITION\n[\u0027THIBAUT ACQUISITION CO\u0027]\n[0.13333333333333333]\n\nTRANSTAR\n[\u0027TRANSTAR INC\u0027]\n[0.3853211009174312]\n\nVARIAN MEDICAL (V08)\n[\u0027VARIAN MEDICAL SYSTEMS\u0027]\n[0.055182699478001494]\n\nWATERS TECHNOLOGIES\n[\u0027WATERS TECHNOLOGIES CORPORATION\u0027]\n[0.013605442176870748]\n\nWATT STOPPER, INC.\n[\u0027WATT STOPPER INC\u0027]\n[0.3853211009174312]\n\nWHEELS MOBILE ASSISTANT\n[\u0027WHEELS MOBILE ASSIST (3WMA)\u0027]\n[0.6666666666666666]\n\nXYLEM ANALYTICS FUEL\n[\u0027XYLEM ANALYTICS LLC\u0027, \u0027XYLEM INC\u0027]\n[0.1, 0.4444444444444444]\n\nYUM  INC.\n[\u0027YUM RESTAURANT SERVICES GROUP LLC\u0027]\n[0.20809248554913296]\n\n100\n",
          "name": "stdout"
        }
      ]
    },
    {
      "execution_count": 0,
      "cell_type": "code",
      "metadata": {},
      "source": [
        ""
      ],
      "outputs": []
    },
    {
      "execution_count": 43,
      "cell_type": "code",
      "metadata": {},
      "source": [
        "customer_down_list \u003d CALCULATED_CARD_DRAW_DOWNS_df.CUSTOMER.unique()\ncustomer_up_list \u003d CALCULATED_CARD_DRAW_UPS_df.CUSTOMER.unique()"
      ],
      "outputs": []
    },
    {
      "execution_count": 0,
      "cell_type": "code",
      "metadata": {},
      "source": [
        ""
      ],
      "outputs": []
    },
    {
      "execution_count": 47,
      "cell_type": "code",
      "metadata": {},
      "source": [
        "CALCULATED_CARD_DRAW_DOWNS_df.head()"
      ],
      "outputs": [
        {
          "output_type": "execute_result",
          "execution_count": 47,
          "data": {
            "text/plain": "                 CUSTOMER            DRAW_DOWN_DATE     MEAN_DD     STD_DD  ACTIVE_CARD_MAX\n0                    3LUM 2019-12-01 00:00:00+00:00   13.000000   0.577350             14.0\n193      3US6 (EQUIPMENT) 2021-08-01 00:00:00+00:00   36.600000  27.673092            104.0\n192   ACORDA THERAPEUTICS 2019-09-01 00:00:00+00:00  129.600000   2.190890            133.0\n191  ADF PIZZA MANAGEMENT 2020-12-01 00:00:00+00:00    7.500000   1.623688             12.0\n190                 ALENT 2020-04-01 00:00:00+00:00    1.333333   0.492366              2.0",
            "text/html": "\u003cdiv\u003e\n\u003cstyle scoped\u003e\n    .dataframe tbody tr th:only-of-type {\n        vertical-align: middle;\n    }\n\n    .dataframe tbody tr th {\n        vertical-align: top;\n    }\n\n    .dataframe thead th {\n        text-align: right;\n    }\n\u003c/style\u003e\n\u003ctable border\u003d\"1\" class\u003d\"dataframe\"\u003e\n  \u003cthead\u003e\n    \u003ctr style\u003d\"text-align: right;\"\u003e\n      \u003cth\u003e\u003c/th\u003e\n      \u003cth\u003eCUSTOMER\u003c/th\u003e\n      \u003cth\u003eDRAW_DOWN_DATE\u003c/th\u003e\n      \u003cth\u003eMEAN_DD\u003c/th\u003e\n      \u003cth\u003eSTD_DD\u003c/th\u003e\n      \u003cth\u003eACTIVE_CARD_MAX\u003c/th\u003e\n    \u003c/tr\u003e\n  \u003c/thead\u003e\n  \u003ctbody\u003e\n    \u003ctr\u003e\n      \u003cth\u003e0\u003c/th\u003e\n      \u003ctd\u003e3LUM\u003c/td\u003e\n      \u003ctd\u003e2019-12-01 00:00:00+00:00\u003c/td\u003e\n      \u003ctd\u003e13.000000\u003c/td\u003e\n      \u003ctd\u003e0.577350\u003c/td\u003e\n      \u003ctd\u003e14.0\u003c/td\u003e\n    \u003c/tr\u003e\n    \u003ctr\u003e\n      \u003cth\u003e193\u003c/th\u003e\n      \u003ctd\u003e3US6 (EQUIPMENT)\u003c/td\u003e\n      \u003ctd\u003e2021-08-01 00:00:00+00:00\u003c/td\u003e\n      \u003ctd\u003e36.600000\u003c/td\u003e\n      \u003ctd\u003e27.673092\u003c/td\u003e\n      \u003ctd\u003e104.0\u003c/td\u003e\n    \u003c/tr\u003e\n    \u003ctr\u003e\n      \u003cth\u003e192\u003c/th\u003e\n      \u003ctd\u003eACORDA THERAPEUTICS\u003c/td\u003e\n      \u003ctd\u003e2019-09-01 00:00:00+00:00\u003c/td\u003e\n      \u003ctd\u003e129.600000\u003c/td\u003e\n      \u003ctd\u003e2.190890\u003c/td\u003e\n      \u003ctd\u003e133.0\u003c/td\u003e\n    \u003c/tr\u003e\n    \u003ctr\u003e\n      \u003cth\u003e191\u003c/th\u003e\n      \u003ctd\u003eADF PIZZA MANAGEMENT\u003c/td\u003e\n      \u003ctd\u003e2020-12-01 00:00:00+00:00\u003c/td\u003e\n      \u003ctd\u003e7.500000\u003c/td\u003e\n      \u003ctd\u003e1.623688\u003c/td\u003e\n      \u003ctd\u003e12.0\u003c/td\u003e\n    \u003c/tr\u003e\n    \u003ctr\u003e\n      \u003cth\u003e190\u003c/th\u003e\n      \u003ctd\u003eALENT\u003c/td\u003e\n      \u003ctd\u003e2020-04-01 00:00:00+00:00\u003c/td\u003e\n      \u003ctd\u003e1.333333\u003c/td\u003e\n      \u003ctd\u003e0.492366\u003c/td\u003e\n      \u003ctd\u003e2.0\u003c/td\u003e\n    \u003c/tr\u003e\n  \u003c/tbody\u003e\n\u003c/table\u003e\n\u003c/div\u003e"
          },
          "metadata": {}
        }
      ]
    },
    {
      "execution_count": 0,
      "cell_type": "code",
      "metadata": {},
      "source": [
        "# Compute recipe outputs\n# TODO: Write here your actual code that computes the outputs\n# NB: DSS supports several kinds of APIs for reading and writing data. Please see doc.\n\nPOTENTIAL_DUPLICATES_df \u003d ... # Compute a Pandas dataframe to write into POTENTIAL_DUPLICATES\n\n\n# Write recipe outputs\nPOTENTIAL_DUPLICATES \u003d dataiku.Dataset(\"POTENTIAL_DUPLICATES\")\nPOTENTIAL_DUPLICATES.write_with_schema(POTENTIAL_DUPLICATES_df)"
      ],
      "outputs": []
    }
  ]
}