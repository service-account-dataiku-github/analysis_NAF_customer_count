{
  "metadata": {
    "kernelspec": {
      "name": "py-dku-venv-env_clc",
      "display_name": "Python (env env_clc)",
      "language": "python"
    },
    "associatedRecipe": "compute_POTENTIAL_DUPLICATES",
    "dkuGit": {
      "lastInteraction": 0
    },
    "creationTag": {
      "versionNumber": 0,
      "lastModifiedBy": {
        "login": "Daniel.Vandermeer"
      },
      "lastModifiedOn": 1665752610945
    },
    "creator": "Daniel.Vandermeer",
    "createdOn": 1665752610945,
    "tags": [
      "recipe-editor"
    ],
    "customFields": {},
    "hide_input": false,
    "language_info": {
      "name": "python",
      "version": "3.6.8",
      "mimetype": "text/x-python",
      "codemirror_mode": {
        "name": "ipython",
        "version": 3
      },
      "pygments_lexer": "ipython3",
      "nbconvert_exporter": "python",
      "file_extension": ".py"
    },
    "modifiedBy": "Daniel.Vandermeer"
  },
  "nbformat": 4,
  "nbformat_minor": 1,
  "cells": [
    {
      "execution_count": 39,
      "cell_type": "code",
      "metadata": {},
      "source": [
        "# -*- coding: utf-8 -*-\nimport dataiku\nimport pandas as pd, numpy as np\nfrom dataiku import pandasutils as pdu\n\n# Read recipe inputs\nCALCULATED_CARD_DRAW_DOWNS \u003d dataiku.Dataset(\"CALCULATED_CARD_DRAW_DOWNS\")\nCALCULATED_CARD_DRAW_DOWNS_df \u003d CALCULATED_CARD_DRAW_DOWNS.get_dataframe()\n\nCALCULATED_CARD_DRAW_UPS \u003d dataiku.Dataset(\"CALCULATED_CARD_DRAW_UPS\")\nCALCULATED_CARD_DRAW_UPS_df \u003d CALCULATED_CARD_DRAW_UPS.get_dataframe()\n"
      ],
      "outputs": []
    },
    {
      "execution_count": 75,
      "cell_type": "code",
      "metadata": {},
      "source": [
        "df_up \u003d CALCULATED_CARD_DRAW_UPS_df\nprint(len(df_up))\ndf_up.DRAW_UP_DATE \u003d pd.to_datetime(df_down.DRAW_DOWN_DATE).dt.date\ndf_up.sort_values([\u0027CUSTOMER\u0027], inplace\u003dTrue)\n\ndf_down \u003d CALCULATED_CARD_DRAW_DOWNS_df\nprint(len(df_down))\ndf_down.DRAW_DOWN_DATE \u003d pd.to_datetime(df_down.DRAW_DOWN_DATE).dt.date\ndf_down.sort_values([\u0027CUSTOMER\u0027], inplace\u003dTrue)\ndf_up.head()"
      ],
      "outputs": [
        {
          "output_type": "stream",
          "text": "322\n194\n",
          "name": "stdout"
        },
        {
          "output_type": "execute_result",
          "execution_count": 75,
          "data": {
            "text/plain": "              CUSTOMER DRAW_UP_DATE      MEAN_DU      STD_DU  ACTIVE_CARD_MAX\n0                 3GPP   2019-12-01    27.166667    4.239068             35.0\n321               3LUM          NaN    12.111111    1.615893             14.0\n320          3M (3MUS)          NaN  2375.083333  169.146767           2728.0\n319  3M COMPANY (3MVR)          NaN   360.083333   65.468186            399.0\n318     3M COMPANY3MUS          NaN   670.111111  196.492013            963.0",
            "text/html": "\u003cdiv\u003e\n\u003cstyle scoped\u003e\n    .dataframe tbody tr th:only-of-type {\n        vertical-align: middle;\n    }\n\n    .dataframe tbody tr th {\n        vertical-align: top;\n    }\n\n    .dataframe thead th {\n        text-align: right;\n    }\n\u003c/style\u003e\n\u003ctable border\u003d\"1\" class\u003d\"dataframe\"\u003e\n  \u003cthead\u003e\n    \u003ctr style\u003d\"text-align: right;\"\u003e\n      \u003cth\u003e\u003c/th\u003e\n      \u003cth\u003eCUSTOMER\u003c/th\u003e\n      \u003cth\u003eDRAW_UP_DATE\u003c/th\u003e\n      \u003cth\u003eMEAN_DU\u003c/th\u003e\n      \u003cth\u003eSTD_DU\u003c/th\u003e\n      \u003cth\u003eACTIVE_CARD_MAX\u003c/th\u003e\n    \u003c/tr\u003e\n  \u003c/thead\u003e\n  \u003ctbody\u003e\n    \u003ctr\u003e\n      \u003cth\u003e0\u003c/th\u003e\n      \u003ctd\u003e3GPP\u003c/td\u003e\n      \u003ctd\u003e2019-12-01\u003c/td\u003e\n      \u003ctd\u003e27.166667\u003c/td\u003e\n      \u003ctd\u003e4.239068\u003c/td\u003e\n      \u003ctd\u003e35.0\u003c/td\u003e\n    \u003c/tr\u003e\n    \u003ctr\u003e\n      \u003cth\u003e321\u003c/th\u003e\n      \u003ctd\u003e3LUM\u003c/td\u003e\n      \u003ctd\u003eNaN\u003c/td\u003e\n      \u003ctd\u003e12.111111\u003c/td\u003e\n      \u003ctd\u003e1.615893\u003c/td\u003e\n      \u003ctd\u003e14.0\u003c/td\u003e\n    \u003c/tr\u003e\n    \u003ctr\u003e\n      \u003cth\u003e320\u003c/th\u003e\n      \u003ctd\u003e3M (3MUS)\u003c/td\u003e\n      \u003ctd\u003eNaN\u003c/td\u003e\n      \u003ctd\u003e2375.083333\u003c/td\u003e\n      \u003ctd\u003e169.146767\u003c/td\u003e\n      \u003ctd\u003e2728.0\u003c/td\u003e\n    \u003c/tr\u003e\n    \u003ctr\u003e\n      \u003cth\u003e319\u003c/th\u003e\n      \u003ctd\u003e3M COMPANY (3MVR)\u003c/td\u003e\n      \u003ctd\u003eNaN\u003c/td\u003e\n      \u003ctd\u003e360.083333\u003c/td\u003e\n      \u003ctd\u003e65.468186\u003c/td\u003e\n      \u003ctd\u003e399.0\u003c/td\u003e\n    \u003c/tr\u003e\n    \u003ctr\u003e\n      \u003cth\u003e318\u003c/th\u003e\n      \u003ctd\u003e3M COMPANY3MUS\u003c/td\u003e\n      \u003ctd\u003eNaN\u003c/td\u003e\n      \u003ctd\u003e670.111111\u003c/td\u003e\n      \u003ctd\u003e196.492013\u003c/td\u003e\n      \u003ctd\u003e963.0\u003c/td\u003e\n    \u003c/tr\u003e\n  \u003c/tbody\u003e\n\u003c/table\u003e\n\u003c/div\u003e"
          },
          "metadata": {}
        }
      ]
    },
    {
      "execution_count": 117,
      "cell_type": "code",
      "metadata": {},
      "source": [
        "from datetime import datetime\n\n# \u003d\u003d\u003d\u003d\u003d\u003d\u003d\u003d\u003d\u003d\u003d\u003d\u003d\u003d\u003d\u003d\u003d\u003d\u003d\u003d\u003d\u003d\u003d\u003d\u003d\u003d\u003d\u003d\u003d\u003d\u003d\u003d\u003d\u003d\u003d\u003d\u003d\u003d\u003d\u003d\u003d\u003d\u003d\u003d\u003d\u003d\u003d\nclass Draw_Down_Customer:\n    \n    def __init__(self, name, draw_down_date, mean_dd, std_dd, active_card_max):\n\n        self._common_words \u003d [\u0027PIZZA\u0027, \u0027MANAGEMENT\u0027, \u0027USA\u0027, \u0027INC\u0027, \u0027US\u0027, \u0027EQUIPMENT\u0027, \u0027MEDICAL\u0027, \u0027SYSTEMS\u0027,\n                             \u0027ANIMAL\u0027, \u0027HEALTH\u0027, \u0027LLC\u0027, \u0027CORPORATION\u0027, \u0027BRANDS\u0027, \u0027TIRE\u0027, \u0027RUBBER\u0027, \u0027COUNTRY\u0027, \u0027CORP\u0027, \n                              \u0027PHARMACY\u0027,\u0027INC\u0027, \u0027RESTAURANTS\u0027, \u0027CONTAINER\u0027, \u0027AMERICA\u0027, \u0027APPLICATIONS\u0027, \u0027TECHNOLOGY\u0027, \n                              \u0027INSURANCE\u0027, \u0027FARM\u0027,\u0027CREDIT\u0027, \u0027SERVICES\u0027, \u0027SERVICE\u0027, \u0027ACCOUNT\u0027, \u0027GENERAL\u0027, \u0027PARTS\u0027, \n                              \u0027INTL\u0027, \u0027FLAVORS\u0027, \u0027HOLDINGS\u0027, \u0027FOOD\u0027,\u0027INDUSTRIES\u0027, \u0027LP\u0027, \u0027FLEET\u0027, \u0027MEDICAL\u0027, \u0027PHARMA\u0027,\n                             \u0027GLOBAL\u0027, \u0027PIPELINE\u0027, \u0027WHEELS\u0027, \u0027BIOSCIENCES\u0027, \u0027SSI\u0027, \u0027SPRINGS\u0027, \u0027NORTH\u0027, \u0027MARINE\u0027, \u0027HOLDING\u0027, \n                              \u0027TECHNOLOGIES\u0027,\u0027GROUP\u0027, \u0027PHARMACEUTICAL\u0027, \u0027NA\u0027, \u0027USA\u0027, \u0027COMPANY\u0027, \u0027RAIL\u0027, \u0027PARTNERS\u0027, \u0027BROS\u0027, \n                              \u0027CO\u0027, \u0027PHARMACEUTICALS\u0027, \u0027ENERGY\u0027, \u0027DISTRIBUTION\u0027, \u0027DENTAL\u0027, \u0027SPECIALTIES\u0027, \u0027OPERATIONS\u0027, \n                              \u0027COMPANY\u0027, \u0027THE\u0027, \u0027MOUNTAIN\u0027, \u0027TRANS\u0027, \u0027FUEL\u0027, \u0027AMERICAN\u0027, \u0027HOMES\u0027, \u0027GAS\u0027]\n        \n        self.CUSTOMER \u003d name\n        self.DRAW_DOWN_DATE \u003d draw_down_date\n        self.ACTIVE_CARD_MAX \u003d active_card_max\n        \n        self.MATCHING_CUSTOMERS \u003d []\n        self.PERCENT_DIFFERENCE \u003d []\n        self.DAYS_DIFFERENCE \u003d []\n        \n        # remove punctuation\n        c_str \u003d name.translate(str.maketrans(\u0027\u0027, \u0027\u0027, string.punctuation))\n    \n        f \u003d c_str.split()\n        self.WORD_LIST \u003d []\n        for w in f:\n            if w not in self._common_words:\n                self.WORD_LIST.append(w)\n                \n    def Match_Draw_Up_Customer(self, name, draw_up_date, mean_du, std_du, active_card_max):\n        \n        if (self.CUSTOMER \u003d\u003d name):\n            # exact match, already captured\n            return\n        \n        c_str \u003d name.translate(str.maketrans(\u0027\u0027, \u0027\u0027, string.punctuation))\n        \n        f \u003d c_str.split()\n        \n        check_list \u003d []\n        for w in f:\n            if w not in self._common_words:\n                check_list.append(w)\n                \n        percent_diff \u003d (abs(self.ACTIVE_CARD_MAX - active_card_max) / ((self.ACTIVE_CARD_MAX+active_card_max)/2))*100.\n\n        #date_format \u003d \"%Y-%m-%d\"\n        #d1_date \u003d datetime.strptime(draw_up_date.astype(str), date_format)\n        #d2_date \u003d datetime.strptime(self.DRAW_DOWN_DATE.astype(str), date_format)\n\n        #delta \u003d d2_date-d1_date\n            \n        for w_to_check in check_list:\n            for w in self.WORD_LIST:\n                if w_to_check\u003d\u003dw:\n                    if not name in(self.MATCHING_CUSTOMERS):\n                        self.MATCHING_CUSTOMERS.append(name)\n                        self.PERCENT_DIFFERENCE.append(percent_diff)\n                        self.DAYS_DIFFERENCE.append(draw_up_date)\n                        break;\n       \n\nidx \u003d 0\n\n_draw_down_customers \u003d []\n        \nfor index, row in df_down.iterrows():\n    \n    idx+\u003d1\n    customer \u003d row[\u0027CUSTOMER\u0027]\n    draw_down_date \u003d row[\u0027DRAW_DOWN_DATE\u0027]\n    mean_dd \u003d row[\u0027MEAN_DD\u0027]\n    std_dd \u003d row[\u0027STD_DD\u0027]\n    active_card_max \u003d row[\u0027ACTIVE_CARD_MAX\u0027]\n    \n    c \u003d Draw_Down_Customer(customer, draw_down_date, mean_dd, std_dd, active_card_max)\n    _draw_down_customers.append(c)\n    \n    #if idx\u003e5:\n    #    break;\n        \nfor c in _draw_down_customers:\n    \n    for index_up, row_up in df_up.iterrows():\n        \n        customer \u003d row_up[\u0027CUSTOMER\u0027]\n        draw_up_date \u003d row_up[\u0027DRAW_UP_DATE\u0027]\n        mean_du \u003d row_up[\u0027MEAN_DU\u0027]\n        std_du \u003d row_up[\u0027STD_DU\u0027]\n        active_card_max \u003d row_up[\u0027ACTIVE_CARD_MAX\u0027]\n        \n        c.Match_Draw_Up_Customer(customer, draw_up_date, mean_du, std_du, active_card_max)\n\nmatch_count \u003d 0\nfor c in _draw_down_customers:\n    \n    if len(c.MATCHING_CUSTOMERS)\u003e0:\n        match_count+\u003d1\n        print(c.CUSTOMER)\n        print(c.MATCHING_CUSTOMERS)\n        print(c.PERCENT_DIFFERENCE)\n        print(c.DAYS_DIFFERENCE)\n        print()\n        \nprint(match_count)"
      ],
      "outputs": [
        {
          "output_type": "stream",
          "text": "ALKERMES (3ALK)\n[\u0027ALKERMES INC\u0027]\n[24.623115577889447]\n[nan]\n\nAMERICAN HOMES 4 RENT\n[\u0027AMERICAN HOMES 4 RENT LP\u0027]\n[6.587615283267458]\n[nan]\n\nAMGEN USA INC\n[\u0027AMGEN USA\u0027]\n[18.92144056727001]\n[nan]\n\nARCADIS US\n[\u0027ARCADIS US INC\u0027]\n[7.761194029850746]\n[nan]\n\nARCHROMA U.S. INC.\n[\u0027ARCHROMA US INC\u0027]\n[27.450980392156865]\n[nan]\n\nASTELLAS PHARMA\n[\u0027ASTELLAS PHARMA US INC\u0027]\n[4.16]\n[nan]\n\nATLAS COPCO\n[\u0027ATLAS COPCO COMPRESSORS LLC3AC2\u0027]\n[198.57651245551602]\n[nan]\n\nBALFOUR BEATTY 3BSE\n[\u0027BALFOUR BEATTY EQUIPMENT\u0027, \u0027BALFOUR BEATTY RENOVATIONS\u0027, \u0027BALFOUR BEATTY3BBR\u0027]\n[49.504950495049506, 30.303030303030305, 107.31707317073172]\n[nan, nan, nan]\n\nBALFOUR EQUIP\n[\u0027BALFOUR BEATTY EQUIPMENT\u0027, \u0027BALFOUR BEATTY RENOVATIONS\u0027, \u0027BALFOUR BEATTY3BBR\u0027]\n[56.81818181818182, 120.56737588652481, 10.87866108786611]\n[nan, nan, nan]\n\nBALFOUR PB\n[\u0027BALFOUR BEATTY EQUIPMENT\u0027, \u0027BALFOUR BEATTY RENOVATIONS\u0027, \u0027BALFOUR BEATTY3BBR\u0027]\n[167.27272727272725, 184.76190476190476, 139.49579831932772]\n[nan, nan, nan]\n\nBALFOUR RAIL\n[\u0027BALFOUR BEATTY EQUIPMENT\u0027, \u0027BALFOUR BEATTY RENOVATIONS\u0027, \u0027BALFOUR BEATTY3BBR\u0027]\n[114.57627118644066, 156.92307692307693, 59.217877094972074]\n[nan, nan, nan]\n\nBALFOUR RENO\n[\u0027BALFOUR BEATTY EQUIPMENT\u0027, \u0027BALFOUR BEATTY RENOVATIONS\u0027, \u0027BALFOUR BEATTY3BBR\u0027]\n[89.65517241379311, 15.384615384615385, 136.0]\n[nan, nan, nan]\n\nBECTON DICKINSON (3BRD)\n[\u0027BECTON DICKINSON  3BRD\u0027, \u0027BECTON DICKINSON3BDB\u0027, \u0027BECTON DICKINSON3BDC\u0027, \u0027BECTON DICKINSON3BDT\u0027]\n[8.24742268041237, 127.27272727272727, 101.49253731343283, 100.74441687344913]\n[nan, nan, nan, nan]\n\nBECTON DICKINSON (BDB)\n[\u0027BECTON DICKINSON  3BRD\u0027, \u0027BECTON DICKINSON3BDB\u0027, \u0027BECTON DICKINSON3BDC\u0027, \u0027BECTON DICKINSON3BDT\u0027]\n[122.54335260115607, 0.49627791563275436, 38.55421686746988, 39.52095808383233]\n[nan, nan, nan, nan]\n\nBECTON DICKINSON (BDC)\n[\u0027BECTON DICKINSON  3BRD\u0027, \u0027BECTON DICKINSON3BDB\u0027, \u0027BECTON DICKINSON3BDC\u0027, \u0027BECTON DICKINSON3BDT\u0027]\n[90.87749782797567, 43.41085271317829, 5.564648117839607, 4.5602605863192185]\n[nan, nan, nan, nan]\n\nBECTON DICKINSON (BDC)(2)\n[\u0027BECTON DICKINSON  3BRD\u0027, \u0027BECTON DICKINSON3BDB\u0027, \u0027BECTON DICKINSON3BDC\u0027, \u0027BECTON DICKINSON3BDT\u0027]\n[90.37294015611448, 44.01544401544402, 6.199021207177815, 5.194805194805195]\n[nan, nan, nan, nan]\n\nBP (NAG)\n[\u0027BP AMERICA INC\u0027, \u0027BP AMERICA PRODUCTION COMPANY\u0027, \u0027BP LUBRICANTS USA INC\u0027, \u0027BP PIPELINES NORTH AMERICA INC\u0027]\n[198.91598915989158, 152.99760191846522, 130.04484304932734, 125.66371681415929]\n[nan, nan, nan, nan]\n\nCANON MEDICAL USA\n[\u0027CANON MEDICAL SYSTEMS USA INC\u0027]\n[0.2936857562408223]\n[nan]\n\nCEVA ANIMAL HEALTH, LLC\n[\u0027CEVA ANIMAL HEALTH LLC\u0027]\n[11.320754716981133]\n[nan]\n\nCIGNA\n[\u0027CIGNA (3EPS)\u0027]\n[151.82481751824815]\n[nan]\n\nCIGNA (WHEELS)(2)\n[\u0027CIGNA (3EPS)\u0027]\n[80.0]\n[nan]\n\nCOLLEGIUM\n[\u0027COLLEGIUM PHARMACEUTICAL INC\u0027]\n[6.7924528301886795]\n[nan]\n\nCONSTELLATION BRANDS (3CBL)\n[\u0027CONSTELLATION BRANDS3 CBL\u0027, \u0027CONSTELLATION BRANDS3CRW\u0027]\n[14.839424141749724, 5.291005291005291]\n[nan, nan]\n\nCONSTELLATION BRANDS (3CRW)\n[\u0027CONSTELLATION BRANDS3 CBL\u0027, \u0027CONSTELLATION BRANDS3CRW\u0027]\n[2.912621359223301, 12.471131639722865]\n[nan, nan]\n\nCOOPER TIRE \u0026 RUBBER\n[\u0027COOPER TIRE  RUBBER\u0027]\n[24.0]\n[nan]\n\nCOVESTRO\n[\u0027COVESTRO LLC\u0027]\n[1.1976047904191618]\n[nan]\n\nCURTISS-WRIGHT (5CWC)\n[\u0027CURTISSWRIGHT CORPORATION\u0027]\n[4.081632653061225]\n[nan]\n\nCVS - 3CVS\n[\u0027CVS PHARMACY INC\u0027]\n[57.06371191135734]\n[nan]\n\nDAIICHI SANKYO, INC.\n[\u0027DAIICHI SANKYO INC\u0027]\n[15.422885572139302]\n[nan]\n\nDARDEN RESTAURANTS (3DAR)\n[\u0027DARDEN RESTAURANTS\u0027]\n[15.789473684210526]\n[nan]\n\nDART CONTAINER CORP (3DC2)\n[\u0027DART CONTAINER CORP (3DRT)\u0027, \u0027DART CONTAINER CORP3DC2\u0027, \u0027DART CONTAINER CORP3DRT\u0027]\n[44.93827160493827, 62.76150627615063, 3.2362459546925564]\n[nan, nan, nan]\n\nDART CONTAINER CORP (3DRT)\n[\u0027DART CONTAINER CORP (3DC2)\u0027, \u0027DART CONTAINER CORP3DC2\u0027, \u0027DART CONTAINER CORP3DRT\u0027]\n[44.93827160493827, 100.60606060606061, 48.0]\n[nan, nan, nan]\n\nDIVERSIFIED APPLICAITONS, INC.\n[\u0027DIVERSIFIED APPLICATIONS INC\u0027]\n[39.31623931623932]\n[nan]\n\nDYSON (3DYS)\n[\u0027DYSON INC\u0027]\n[35.051546391752574]\n[nan]\n\nEISAI  INC\n[\u0027EISAI INC\u0027]\n[31.061806656101425]\n[nan]\n\nENJOY TECHNOLOGY\n[\u0027ENJOY TECHNOLOGY INC\u0027]\n[47.93565683646113]\n[nan]\n\nERIE INSURANCE (3ERE)\n[\u0027ERIE INSURANCE EXCHANGE  3ERE\u0027]\n[11.932687404385518]\n[nan]\n\nFARMERS MUTUAL HAIL INSURANCE\n[\u0027FARMERS MUTUAL HAIL INSURANCE CO OF IOWA\u0027]\n[5.577689243027888]\n[nan]\n\nFCS AMERICA (3FCS)\n[\u0027FARM CREDIT SERVICES (3FCS)\u0027]\n[23.423423423423422]\n[nan]\n\nGEICO (0469)(2)\n[\u0027WORLEY (0469)(2)\u0027]\n[150.49115913555994]\n[datetime.date(2021, 1, 1)]\n\nGIVAUDAN FLAVORS (GV3-5)\n[\u0027GIVAUDAN FLAVORS\u0027, \u0027GIVAUDAN FRAGRANCES\u0027]\n[15.384615384615385, 44.44444444444444]\n[nan, nan]\n\nGIVAUDAN FRAGRANCES (GV2-5)\n[\u0027GIVAUDAN FLAVORS\u0027, \u0027GIVAUDAN FRAGRANCES\u0027]\n[40.0, 20.0]\n[nan, nan]\n\nGLENN SPRINGS HOLDINGS\n[\u0027GLENN SPRINGS HOLDINGS INC\u0027]\n[28.57142857142857]\n[nan]\n\nGOOGLE FIBER\n[\u0027GOOGLE FIBER INC\u0027, \u0027GOOGLE LLC (3GCF)\u0027]\n[104.0, 120.0]\n[nan, nan]\n\nGOOGLE FIBER INC (ITC)\n[\u0027GOOGLE FIBER INC\u0027, \u0027GOOGLE LLC (3GCF)\u0027]\n[158.79828326180257, 166.66666666666669]\n[nan, nan]\n\nGORDON FOOD SERVICE (0469)\n[\u0027GORDON FOOD SERVICE INC\u0027]\n[194.67680608365018]\n[nan]\n\nHARMON INC (WHLS)\n[\u0027HARMON INC\u0027]\n[9.15032679738562]\n[datetime.date(2020, 4, 1)]\n\nHARMONY BIOSCIENCES\n[\u0027HARMONY BIOSCIENCES LLC\u0027]\n[23.788546255506606]\n[datetime.date(2022, 1, 1)]\n\nHAYWARD INDUSTRIES (WHLS)\n[\u0027HAYWARD INDUSTRIES\u0027]\n[8.264462809917356]\n[datetime.date(2021, 4, 1)]\n\nHENKEL CORPORATION (0469)\n[\u0027HENKEL US OPERATIONS CORP\u0027]\n[139.74507531865586]\n[datetime.date(2021, 3, 1)]\n\nHIGHWAY EQUIPMENT\n[\u0027HIGHWAY EQUIPMENT AND SUPPLY COMPANY\u0027]\n[0.0]\n[datetime.date(2019, 7, 1)]\n\nIMMUNOMEDICS (3IMU)\n[\u0027IMMUNOMEDICS INC\u0027]\n[165.71428571428572]\n[datetime.date(2019, 2, 1)]\n\nIRONWOOD PHARMA (IRW)\n[\u0027IRONWOOD PHARMACEUTICALS\u0027]\n[31.384615384615383]\n[datetime.date(2021, 8, 1)]\n\nJAZZ PHARMA (3JAZ)\n[\u0027JAZZ PARMACEUTICALS INC.\u0027]\n[43.41463414634146]\n[datetime.date(2021, 6, 1)]\n\nJONES LANG LASALLE (0469)\n[\u0027JONES LANG LASALLE AMERICAS INC\u0027]\n[4.081632653061225]\n[datetime.date(2022, 3, 1)]\n\nKEMPER\n[\u0027KEMPER INDEPENDENCE INSURANCE CO\u0027]\n[85.8974358974359]\n[datetime.date(2019, 8, 1)]\n\nLAERDAL MEDICAL\n[\u0027LAERDAL MEDICAL CORP\u0027]\n[40.0]\n[datetime.date(2021, 8, 1)]\n\nLAMB WESTON SALES\n[\u0027LAMB WESTON INC\u0027, \u0027LAMB WESTON SALES (3CLW)\u0027, \u0027LAMB WESTON SALES INC\u0027]\n[89.94082840236686, 48.10126582278481, 10.077519379844961]\n[datetime.date(2021, 10, 1), datetime.date(2021, 5, 1), datetime.date(2021, 11, 1)]\n\nLEGRAND (5LAV)\n[\u0027LEGRAND AV INC5LAV\u0027, \u0027LEGRAND HOLDING INC (5CAB)\u0027, \u0027LEGRAND HOLDING INC5LNA\u0027]\n[18.97810218978102, 187.5, 144.44444444444443]\n[datetime.date(2021, 8, 1), datetime.date(2021, 12, 1), datetime.date(2019, 7, 1)]\n\nLINDE NORTH AMERICA (3LN2)\n[\u0027LINDE ENGINEERING NORTH AMERICA INC\u0027, \u0027LINDE GAS NORTH AMERICA LLC\u0027]\n[192.72727272727272, 110.79136690647482]\n[datetime.date(2021, 9, 1), datetime.date(2021, 7, 1)]\n\nLUMILEDS (3LED)\n[\u0027LUMILEDS LLC\u0027]\n[73.17073170731707]\n[datetime.date(2021, 2, 1)]\n\nLUNDBECK\n[\u0027LUNDBECK LLC\u0027]\n[20.912280701754383]\n[datetime.date(2020, 3, 1)]\n\nMACLEAN-FOGG (3MF1)\n[\u0027MACLEANFOGG COMPANY\u0027]\n[13.740458015267176]\n[datetime.date(2021, 2, 1)]\n\nMARATHON (WHEELS)\n[\u0027MARATHON PETROLEUM\u0027]\n[126.7391304347826]\n[datetime.date(2022, 3, 1)]\n\nMARS INC.\n[\u0027MARS INC\u0027]\n[42.97449200172936]\n[datetime.date(2021, 8, 1)]\n\nMARS INC. (M51)\n[\u0027MARS INC\u0027]\n[190.11815252416758]\n[datetime.date(2021, 8, 1)]\n\nMCKESSON CORPORATION (3MCK)\n[\u0027MCKESSON CORPORATION3MCK\u0027, \u0027MCKESSON CORPORATION3MCT\u0027]\n[19.00647948164147, 196.86888454011742]\n[datetime.date(2022, 2, 1), datetime.date(2021, 6, 1)]\n\nMCKESSON CORPORATION (3MCT)\n[\u0027MCKESSON CORPORATION3MCK\u0027, \u0027MCKESSON CORPORATION3MCT\u0027]\n[194.81743227326268, 31.57894736842105]\n[datetime.date(2022, 2, 1), datetime.date(2021, 6, 1)]\n\nMILESTONE AV TECHNOLOGIES\n[\u0027LEGRAND AV INC5LAV\u0027]\n[189.6103896103896]\n[datetime.date(2021, 8, 1)]\n\nMILLENNIUM PHARMA\n[\u0027MILLENNIUM PHARMACEUTICLAS INC\u0027]\n[32.79279279279279]\n[datetime.date(2021, 2, 1)]\n\nNB COATINGS INC.\n[\u0027NB COATINGS INC\u0027]\n[148.71794871794873]\n[datetime.date(2021, 9, 1)]\n\nNEXAIR / 3NXA\n[\u0027NEXAIR LLC\u0027]\n[90.9090909090909]\n[datetime.date(2019, 7, 1)]\n\nNOVAMEX\n[\u0027NOVAMEX  TIPP ENTERPRISES LP\u0027]\n[48.739495798319325]\n[datetime.date(2019, 12, 1)]\n\nOCCIDENTAL CHEMICAL CORP (69)\n[\u0027OCCIDENTAL CHEMICAL CORPORATION\u0027, \u0027SYBRON DENTAL SPECIALTIES (69)\u0027]\n[9.523809523809524, 169.1588785046729]\n[datetime.date(2019, 1, 1), datetime.date(2019, 1, 1)]\n\nOSMOTICA PHARMACEUTICAL\n[\u0027OSMOTICA HOLDINGS US LLC\u0027]\n[41.37931034482759]\n[datetime.date(2021, 5, 1)]\n\nPARSONS CORPORATION (0469)\n[\u0027PARSONS CORP\u0027]\n[115.78947368421053]\n[datetime.date(2021, 12, 1)]\n\nPRIMETALS TECHNOLOGIES USA\n[\u0027PRIMETALS TECHNOLOGIES USA LLC\u0027]\n[7.633587786259542]\n[datetime.date(2022, 3, 1)]\n\nRITCHIE BROS. USA\n[\u0027RITCHIE BROS AUCTIONEERS AMERICA INC\u0027]\n[0.30816640986132515]\n[datetime.date(2019, 7, 1)]\n\nROBERT HALF CORPORATION (3RHF)\n[\u0027ROBERT HALF INTERNATIONAL INCPROTIVITI\u0027]\n[19.89150090415913]\n[datetime.date(2021, 3, 1)]\n\nRPM INC (5RPX)\n[\u0027RPM INTERNATIONAL INC  5RPM\u0027, \u0027RPM INTERNATIONAL INC  5RPX\u0027]\n[152.62054507337527, 1.7543859649122806]\n[datetime.date(2020, 3, 1), datetime.date(2019, 5, 1)]\n\nRPM, INC\n[\u0027RPM INC (5RPX)\u0027, \u0027RPM INTERNATIONAL INC  5RPM\u0027, \u0027RPM INTERNATIONAL INC  5RPX\u0027]\n[150.2202643171806, 5.623471882640587, 149.45054945054946]\n[datetime.date(2019, 1, 1), datetime.date(2020, 3, 1), datetime.date(2019, 5, 1)]\n\nSECURITAS ELECTRONICS\n[\u0027SECURITAS ELECTRONIC SECURITY INC\u0027, \u0027SECURITAS SECURITY SERVICES USA INC\u0027]\n[4.871259568545581, 77.99419809365935]\n[datetime.date(2021, 6, 1), datetime.date(2022, 3, 1)]\n\nSECURITAS SECURITY SRVCS(3SCR)\n[\u0027SECURITAS ELECTRONIC SECURITY INC\u0027, \u0027SECURITAS SECURITY SERVICES USA INC\u0027, \u0027VSC FIRE  SECURITY INC3VSC\u0027]\n[86.01626016260163, 4.772991850989523, 88.95277207392198]\n[datetime.date(2021, 6, 1), datetime.date(2022, 3, 1), datetime.date(2021, 2, 1)]\n\nSECURITAS USA\n[\u0027SECURITAS ELECTRONIC SECURITY INC\u0027, \u0027SECURITAS SECURITY SERVICES USA INC\u0027]\n[71.37614678899082, 12.547528517110266]\n[datetime.date(2021, 6, 1), datetime.date(2022, 3, 1)]\n\nSELECTIVE INSURANCE CO\n[\u0027SELECTIVE INSURANCE COMPANY OF AMERICA\u0027]\n[19.097586568730325]\n[datetime.date(2021, 8, 1)]\n\nSENSIENT TECHNOLOGIES\n[\u0027SENSIENT TECHNOLOGIES CORPORATION\u0027]\n[67.41573033707866]\n[datetime.date(2020, 10, 1)]\n\nSIBELCO\n[\u0027SIBELCO NORTH AMERICA INC\u0027]\n[50.0]\n[datetime.date(2019, 7, 1)]\n\nSIEMENS ENERGY (3SWG)\n[\u0027SIEMENS  3PPA\u0027, \u0027SIEMENS  3SBT\u0027, \u0027SIEMENS  3SDX\u0027, \u0027SIEMENS  3SFS\u0027, \u0027SIEMENS  3SGS\u0027, \u0027SIEMENS ENERGY INC\u0027, \u0027SIEMENS GAMESA  3SWP\u0027, \u0027SIEMENS INDUSTRY3PID\u0027, \u0027SIEMENS INDUSTRY3SDF\u0027, \u0027SIEMENS INDUSTRY3SEM\u0027, \u0027SIEMENS MEDICAL SOLUTIONS USA INC3SM1\u0027, \u0027SIEMENS MOBILITY3SMO\u0027]\n[60.0, 180.15267175572518, 164.13793103448276, 185.1851851851852, 53.65853658536586, 157.37704918032787, 14.285714285714285, 154.97835497835496, 173.33333333333334, 177.58620689655174, 194.6611909650924, 68.35443037974683]\n[datetime.date(2021, 5, 1), datetime.date(2019, 4, 1), datetime.date(2019, 3, 1), datetime.date(2019, 4, 1), datetime.date(2019, 4, 1), datetime.date(2019, 2, 1), datetime.date(2020, 10, 1), datetime.date(2021, 4, 1), datetime.date(2021, 10, 1), datetime.date(2022, 1, 1), datetime.date(2021, 5, 1), datetime.date(2020, 4, 1)]\n\nSL DIST (3SNL)\n[\u0027SL DISTRIBUTION CO LLC\u0027]\n[178.3783783783784]\n[datetime.date(2019, 6, 1)]\n\nSYBRON DENTAL SPECIALTIES (69)\n[\u0027SYBRON DENTAL SPECIALTIES\u0027]\n[8.718626155878468]\n[datetime.date(2021, 11, 1)]\n\nTEVA WHEELS\n[\u0027TEVA PHARMACEUTICALS\u0027]\n[27.405247813411076]\n[datetime.date(2019, 9, 1)]\n\nTHE TIMKEN COMPANY\n[\u0027TIMKEN INC\u0027]\n[0.0]\n[datetime.date(2020, 6, 1)]\n\nTHIBAUT ACQUISITION\n[\u0027THIBAUT ACQUISITION CO\u0027]\n[13.333333333333334]\n[datetime.date(2020, 7, 1)]\n\nTRANSTAR\n[\u0027TRANSTAR INC\u0027]\n[38.53211009174312]\n[datetime.date(2019, 12, 1)]\n\nVARIAN MEDICAL (V08)\n[\u0027VARIAN MEDICAL SYSTEMS\u0027]\n[5.51826994780015]\n[datetime.date(2021, 7, 1)]\n\nWATERS TECHNOLOGIES\n[\u0027WATERS TECHNOLOGIES CORPORATION\u0027]\n[1.3605442176870748]\n[datetime.date(2019, 12, 1)]\n\nWATT STOPPER, INC.\n[\u0027WATT STOPPER INC\u0027]\n[38.53211009174312]\n[datetime.date(2019, 5, 1)]\n\nWHEELS MOBILE ASSISTANT\n[\u0027WHEELS MOBILE ASSIST (3WMA)\u0027]\n[66.66666666666666]\n[datetime.date(2021, 10, 1)]\n\nXYLEM ANALYTICS FUEL\n[\u0027XYLEM ANALYTICS LLC\u0027, \u0027XYLEM INC\u0027]\n[10.0, 44.44444444444444]\n[datetime.date(2020, 3, 1), datetime.date(2021, 8, 1)]\n\nYUM  INC.\n[\u0027YUM RESTAURANT SERVICES GROUP LLC\u0027]\n[20.809248554913296]\n[datetime.date(2021, 11, 1)]\n\n100\n",
          "name": "stdout"
        }
      ]
    },
    {
      "execution_count": 111,
      "cell_type": "code",
      "metadata": {},
      "source": [
        ""
      ],
      "outputs": [
        {
          "output_type": "stream",
          "text": "609\n",
          "name": "stdout"
        }
      ]
    },
    {
      "execution_count": 43,
      "cell_type": "code",
      "metadata": {},
      "source": [
        "customer_down_list \u003d CALCULATED_CARD_DRAW_DOWNS_df.CUSTOMER.unique()\ncustomer_up_list \u003d CALCULATED_CARD_DRAW_UPS_df.CUSTOMER.unique()"
      ],
      "outputs": []
    },
    {
      "execution_count": 0,
      "cell_type": "code",
      "metadata": {},
      "source": [
        ""
      ],
      "outputs": []
    },
    {
      "execution_count": 47,
      "cell_type": "code",
      "metadata": {},
      "source": [
        "CALCULATED_CARD_DRAW_DOWNS_df.head()"
      ],
      "outputs": [
        {
          "output_type": "execute_result",
          "execution_count": 47,
          "data": {
            "text/plain": "                 CUSTOMER            DRAW_DOWN_DATE     MEAN_DD     STD_DD  ACTIVE_CARD_MAX\n0                    3LUM 2019-12-01 00:00:00+00:00   13.000000   0.577350             14.0\n193      3US6 (EQUIPMENT) 2021-08-01 00:00:00+00:00   36.600000  27.673092            104.0\n192   ACORDA THERAPEUTICS 2019-09-01 00:00:00+00:00  129.600000   2.190890            133.0\n191  ADF PIZZA MANAGEMENT 2020-12-01 00:00:00+00:00    7.500000   1.623688             12.0\n190                 ALENT 2020-04-01 00:00:00+00:00    1.333333   0.492366              2.0",
            "text/html": "\u003cdiv\u003e\n\u003cstyle scoped\u003e\n    .dataframe tbody tr th:only-of-type {\n        vertical-align: middle;\n    }\n\n    .dataframe tbody tr th {\n        vertical-align: top;\n    }\n\n    .dataframe thead th {\n        text-align: right;\n    }\n\u003c/style\u003e\n\u003ctable border\u003d\"1\" class\u003d\"dataframe\"\u003e\n  \u003cthead\u003e\n    \u003ctr style\u003d\"text-align: right;\"\u003e\n      \u003cth\u003e\u003c/th\u003e\n      \u003cth\u003eCUSTOMER\u003c/th\u003e\n      \u003cth\u003eDRAW_DOWN_DATE\u003c/th\u003e\n      \u003cth\u003eMEAN_DD\u003c/th\u003e\n      \u003cth\u003eSTD_DD\u003c/th\u003e\n      \u003cth\u003eACTIVE_CARD_MAX\u003c/th\u003e\n    \u003c/tr\u003e\n  \u003c/thead\u003e\n  \u003ctbody\u003e\n    \u003ctr\u003e\n      \u003cth\u003e0\u003c/th\u003e\n      \u003ctd\u003e3LUM\u003c/td\u003e\n      \u003ctd\u003e2019-12-01 00:00:00+00:00\u003c/td\u003e\n      \u003ctd\u003e13.000000\u003c/td\u003e\n      \u003ctd\u003e0.577350\u003c/td\u003e\n      \u003ctd\u003e14.0\u003c/td\u003e\n    \u003c/tr\u003e\n    \u003ctr\u003e\n      \u003cth\u003e193\u003c/th\u003e\n      \u003ctd\u003e3US6 (EQUIPMENT)\u003c/td\u003e\n      \u003ctd\u003e2021-08-01 00:00:00+00:00\u003c/td\u003e\n      \u003ctd\u003e36.600000\u003c/td\u003e\n      \u003ctd\u003e27.673092\u003c/td\u003e\n      \u003ctd\u003e104.0\u003c/td\u003e\n    \u003c/tr\u003e\n    \u003ctr\u003e\n      \u003cth\u003e192\u003c/th\u003e\n      \u003ctd\u003eACORDA THERAPEUTICS\u003c/td\u003e\n      \u003ctd\u003e2019-09-01 00:00:00+00:00\u003c/td\u003e\n      \u003ctd\u003e129.600000\u003c/td\u003e\n      \u003ctd\u003e2.190890\u003c/td\u003e\n      \u003ctd\u003e133.0\u003c/td\u003e\n    \u003c/tr\u003e\n    \u003ctr\u003e\n      \u003cth\u003e191\u003c/th\u003e\n      \u003ctd\u003eADF PIZZA MANAGEMENT\u003c/td\u003e\n      \u003ctd\u003e2020-12-01 00:00:00+00:00\u003c/td\u003e\n      \u003ctd\u003e7.500000\u003c/td\u003e\n      \u003ctd\u003e1.623688\u003c/td\u003e\n      \u003ctd\u003e12.0\u003c/td\u003e\n    \u003c/tr\u003e\n    \u003ctr\u003e\n      \u003cth\u003e190\u003c/th\u003e\n      \u003ctd\u003eALENT\u003c/td\u003e\n      \u003ctd\u003e2020-04-01 00:00:00+00:00\u003c/td\u003e\n      \u003ctd\u003e1.333333\u003c/td\u003e\n      \u003ctd\u003e0.492366\u003c/td\u003e\n      \u003ctd\u003e2.0\u003c/td\u003e\n    \u003c/tr\u003e\n  \u003c/tbody\u003e\n\u003c/table\u003e\n\u003c/div\u003e"
          },
          "metadata": {}
        }
      ]
    },
    {
      "execution_count": 0,
      "cell_type": "code",
      "metadata": {},
      "source": [
        "# Compute recipe outputs\n# TODO: Write here your actual code that computes the outputs\n# NB: DSS supports several kinds of APIs for reading and writing data. Please see doc.\n\nPOTENTIAL_DUPLICATES_df \u003d ... # Compute a Pandas dataframe to write into POTENTIAL_DUPLICATES\n\n\n# Write recipe outputs\nPOTENTIAL_DUPLICATES \u003d dataiku.Dataset(\"POTENTIAL_DUPLICATES\")\nPOTENTIAL_DUPLICATES.write_with_schema(POTENTIAL_DUPLICATES_df)"
      ],
      "outputs": []
    }
  ]
}