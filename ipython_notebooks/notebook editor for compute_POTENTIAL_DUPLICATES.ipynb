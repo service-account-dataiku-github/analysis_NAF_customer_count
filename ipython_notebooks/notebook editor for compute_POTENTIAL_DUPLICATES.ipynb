{
  "metadata": {
    "kernelspec": {
      "name": "py-dku-venv-env_clc",
      "display_name": "Python (env env_clc)",
      "language": "python"
    },
    "associatedRecipe": "compute_POTENTIAL_DUPLICATES",
    "dkuGit": {
      "lastInteraction": 0
    },
    "creationTag": {
      "versionNumber": 0,
      "lastModifiedBy": {
        "login": "Daniel.Vandermeer"
      },
      "lastModifiedOn": 1665752610945
    },
    "creator": "Daniel.Vandermeer",
    "createdOn": 1665752610945,
    "tags": [
      "recipe-editor"
    ],
    "customFields": {},
    "hide_input": false,
    "language_info": {
      "name": "python",
      "version": "3.6.8",
      "mimetype": "text/x-python",
      "codemirror_mode": {
        "name": "ipython",
        "version": 3
      },
      "pygments_lexer": "ipython3",
      "nbconvert_exporter": "python",
      "file_extension": ".py"
    },
    "modifiedBy": "Daniel.Vandermeer"
  },
  "nbformat": 4,
  "nbformat_minor": 1,
  "cells": [
    {
      "execution_count": 39,
      "cell_type": "code",
      "metadata": {},
      "source": [
        "# -*- coding: utf-8 -*-\nimport dataiku\nimport pandas as pd, numpy as np\nfrom dataiku import pandasutils as pdu\n\n# Read recipe inputs\nCALCULATED_CARD_DRAW_DOWNS \u003d dataiku.Dataset(\"CALCULATED_CARD_DRAW_DOWNS\")\nCALCULATED_CARD_DRAW_DOWNS_df \u003d CALCULATED_CARD_DRAW_DOWNS.get_dataframe()\n\nCALCULATED_CARD_DRAW_UPS \u003d dataiku.Dataset(\"CALCULATED_CARD_DRAW_UPS\")\nCALCULATED_CARD_DRAW_UPS_df \u003d CALCULATED_CARD_DRAW_UPS.get_dataframe()\n"
      ],
      "outputs": []
    },
    {
      "execution_count": 75,
      "cell_type": "code",
      "metadata": {},
      "source": [
        "df_up \u003d CALCULATED_CARD_DRAW_UPS_df\nprint(len(df_up))\ndf_up.DRAW_UP_DATE \u003d pd.to_datetime(df_down.DRAW_DOWN_DATE).dt.date\ndf_up.sort_values([\u0027CUSTOMER\u0027], inplace\u003dTrue)\n\ndf_down \u003d CALCULATED_CARD_DRAW_DOWNS_df\nprint(len(df_down))\ndf_down.DRAW_DOWN_DATE \u003d pd.to_datetime(df_down.DRAW_DOWN_DATE).dt.date\ndf_down.sort_values([\u0027CUSTOMER\u0027], inplace\u003dTrue)\ndf_up.head()"
      ],
      "outputs": [
        {
          "output_type": "stream",
          "text": "322\n194\n",
          "name": "stdout"
        },
        {
          "output_type": "execute_result",
          "execution_count": 75,
          "data": {
            "text/plain": "              CUSTOMER DRAW_UP_DATE      MEAN_DU      STD_DU  ACTIVE_CARD_MAX\n0                 3GPP   2019-12-01    27.166667    4.239068             35.0\n321               3LUM          NaN    12.111111    1.615893             14.0\n320          3M (3MUS)          NaN  2375.083333  169.146767           2728.0\n319  3M COMPANY (3MVR)          NaN   360.083333   65.468186            399.0\n318     3M COMPANY3MUS          NaN   670.111111  196.492013            963.0",
            "text/html": "\u003cdiv\u003e\n\u003cstyle scoped\u003e\n    .dataframe tbody tr th:only-of-type {\n        vertical-align: middle;\n    }\n\n    .dataframe tbody tr th {\n        vertical-align: top;\n    }\n\n    .dataframe thead th {\n        text-align: right;\n    }\n\u003c/style\u003e\n\u003ctable border\u003d\"1\" class\u003d\"dataframe\"\u003e\n  \u003cthead\u003e\n    \u003ctr style\u003d\"text-align: right;\"\u003e\n      \u003cth\u003e\u003c/th\u003e\n      \u003cth\u003eCUSTOMER\u003c/th\u003e\n      \u003cth\u003eDRAW_UP_DATE\u003c/th\u003e\n      \u003cth\u003eMEAN_DU\u003c/th\u003e\n      \u003cth\u003eSTD_DU\u003c/th\u003e\n      \u003cth\u003eACTIVE_CARD_MAX\u003c/th\u003e\n    \u003c/tr\u003e\n  \u003c/thead\u003e\n  \u003ctbody\u003e\n    \u003ctr\u003e\n      \u003cth\u003e0\u003c/th\u003e\n      \u003ctd\u003e3GPP\u003c/td\u003e\n      \u003ctd\u003e2019-12-01\u003c/td\u003e\n      \u003ctd\u003e27.166667\u003c/td\u003e\n      \u003ctd\u003e4.239068\u003c/td\u003e\n      \u003ctd\u003e35.0\u003c/td\u003e\n    \u003c/tr\u003e\n    \u003ctr\u003e\n      \u003cth\u003e321\u003c/th\u003e\n      \u003ctd\u003e3LUM\u003c/td\u003e\n      \u003ctd\u003eNaN\u003c/td\u003e\n      \u003ctd\u003e12.111111\u003c/td\u003e\n      \u003ctd\u003e1.615893\u003c/td\u003e\n      \u003ctd\u003e14.0\u003c/td\u003e\n    \u003c/tr\u003e\n    \u003ctr\u003e\n      \u003cth\u003e320\u003c/th\u003e\n      \u003ctd\u003e3M (3MUS)\u003c/td\u003e\n      \u003ctd\u003eNaN\u003c/td\u003e\n      \u003ctd\u003e2375.083333\u003c/td\u003e\n      \u003ctd\u003e169.146767\u003c/td\u003e\n      \u003ctd\u003e2728.0\u003c/td\u003e\n    \u003c/tr\u003e\n    \u003ctr\u003e\n      \u003cth\u003e319\u003c/th\u003e\n      \u003ctd\u003e3M COMPANY (3MVR)\u003c/td\u003e\n      \u003ctd\u003eNaN\u003c/td\u003e\n      \u003ctd\u003e360.083333\u003c/td\u003e\n      \u003ctd\u003e65.468186\u003c/td\u003e\n      \u003ctd\u003e399.0\u003c/td\u003e\n    \u003c/tr\u003e\n    \u003ctr\u003e\n      \u003cth\u003e318\u003c/th\u003e\n      \u003ctd\u003e3M COMPANY3MUS\u003c/td\u003e\n      \u003ctd\u003eNaN\u003c/td\u003e\n      \u003ctd\u003e670.111111\u003c/td\u003e\n      \u003ctd\u003e196.492013\u003c/td\u003e\n      \u003ctd\u003e963.0\u003c/td\u003e\n    \u003c/tr\u003e\n  \u003c/tbody\u003e\n\u003c/table\u003e\n\u003c/div\u003e"
          },
          "metadata": {}
        }
      ]
    },
    {
      "execution_count": 85,
      "cell_type": "code",
      "metadata": {},
      "source": [
        "class Draw_Down_Customer:\n    \n    def __init__(self, name, draw_down_date, mean_dd, std_dd, active_card_max):\n\n        self._common_words \u003d [\u0027PIZZA\u0027, \u0027MANAGEMENT\u0027, \u0027USA\u0027, \u0027INC\u0027, \u0027US\u0027, \u0027EQUIPMENT\u0027]\n        \n        self.CUSTOMER \u003d name\n        self.DRAW_DOWN_DATE \u003d draw_down_date\n        self.ACTIVE_CARD_MAX \u003d active_card_max\n        \n        self.MATCHING_CUSTOMERS \u003d []\n        \n        # remove punctuation\n        c_str \u003d name.translate(str.maketrans(\u0027\u0027, \u0027\u0027, string.punctuation))\n    \n        f \u003d c_str.split()\n        self.WORD_LIST \u003d []\n        for w in f:\n            if w not in self._common_words:\n                self.WORD_LIST.append(w)\n                \n    def Match_Draw_Up_Customer(self, name, draw_up_date, mean_du, std_du, active_card_max):\n        \n        c_str \u003d name.translate(str.maketrans(\u0027\u0027, \u0027\u0027, string.punctuation))\n        \n        f \u003d c_str.split()\n        \n        check_list \u003d []\n        for w in f:\n            if w not in self._common_words:\n                check_list.append(w)\n                \n        for w_to_check in check_list:\n            for w in self.WORD_LIST:\n                if w_to_check\u003d\u003dw:\n                    self.MATCHING_CUSTOMERS.append(name)\n                    break;\n        \nidx \u003d 0\n\n_draw_down_customers \u003d []\n        \nfor index, row in df_down.iterrows():\n    \n    idx+\u003d1\n    customer \u003d row[\u0027CUSTOMER\u0027]\n    draw_down_date \u003d row[\u0027DRAW_DOWN_DATE\u0027]\n    mean_dd \u003d row[\u0027MEAN_DD\u0027]\n    std_dd \u003d row[\u0027STD_DD\u0027]\n    active_card_max \u003d row[\u0027ACTIVE_CARD_MAX\u0027]\n    \n    c \u003d Draw_Down_Customer(customer, draw_down_date, mean_dd, std_dd, active_card_max)\n    _draw_down_customers.append(c)\n    \n    if idx\u003e5:\n        break;\n        \nfor c in _draw_down_customers:\n    \n    for index_up, row_up in df_up.iterrows():\n        \n        customer \u003d row_up[\u0027CUSTOMER\u0027]\n        draw_up_date \u003d row_up[\u0027DRAW_UP_DATE\u0027]\n        mean_du \u003d row_up[\u0027MEAN_DU\u0027]\n        std_du \u003d row_up[\u0027STD_DU\u0027]\n        active_card_max \u003d row_up[\u0027ACTIVE_CARD_MAX\u0027]\n        \n        c.Match_Draw_Up_Customer(customer, draw_up_date, mean_du, std_du, active_card_max)\n\nfor c in _draw_down_customers:\n    \n    print(c.CUSTOMER)\n    print(c.MATCHING_CUSTOMERS)"
      ],
      "outputs": [
        {
          "output_type": "stream",
          "text": "processing\n3LUM [\u00273LUM\u0027]\nprocessing\n3US6 (EQUIPMENT) [\u00273US6\u0027]\nprocessing\nACORDA THERAPEUTICS [\u0027ACORDA\u0027, \u0027THERAPEUTICS\u0027]\nprocessing\nADF PIZZA MANAGEMENT [\u0027ADF\u0027]\nprocessing\nALENT [\u0027ALENT\u0027]\nprocessing\nALKERMES (3ALK) [\u0027ALKERMES\u0027, \u00273ALK\u0027]\n",
          "name": "stdout"
        }
      ]
    },
    {
      "execution_count": 0,
      "cell_type": "code",
      "metadata": {},
      "source": [
        ""
      ],
      "outputs": []
    },
    {
      "execution_count": 43,
      "cell_type": "code",
      "metadata": {},
      "source": [
        "customer_down_list \u003d CALCULATED_CARD_DRAW_DOWNS_df.CUSTOMER.unique()\ncustomer_up_list \u003d CALCULATED_CARD_DRAW_UPS_df.CUSTOMER.unique()"
      ],
      "outputs": []
    },
    {
      "execution_count": 0,
      "cell_type": "code",
      "metadata": {},
      "source": [
        ""
      ],
      "outputs": []
    },
    {
      "execution_count": 47,
      "cell_type": "code",
      "metadata": {},
      "source": [
        "CALCULATED_CARD_DRAW_DOWNS_df.head()"
      ],
      "outputs": [
        {
          "output_type": "execute_result",
          "execution_count": 47,
          "data": {
            "text/plain": "                 CUSTOMER            DRAW_DOWN_DATE     MEAN_DD     STD_DD  ACTIVE_CARD_MAX\n0                    3LUM 2019-12-01 00:00:00+00:00   13.000000   0.577350             14.0\n193      3US6 (EQUIPMENT) 2021-08-01 00:00:00+00:00   36.600000  27.673092            104.0\n192   ACORDA THERAPEUTICS 2019-09-01 00:00:00+00:00  129.600000   2.190890            133.0\n191  ADF PIZZA MANAGEMENT 2020-12-01 00:00:00+00:00    7.500000   1.623688             12.0\n190                 ALENT 2020-04-01 00:00:00+00:00    1.333333   0.492366              2.0",
            "text/html": "\u003cdiv\u003e\n\u003cstyle scoped\u003e\n    .dataframe tbody tr th:only-of-type {\n        vertical-align: middle;\n    }\n\n    .dataframe tbody tr th {\n        vertical-align: top;\n    }\n\n    .dataframe thead th {\n        text-align: right;\n    }\n\u003c/style\u003e\n\u003ctable border\u003d\"1\" class\u003d\"dataframe\"\u003e\n  \u003cthead\u003e\n    \u003ctr style\u003d\"text-align: right;\"\u003e\n      \u003cth\u003e\u003c/th\u003e\n      \u003cth\u003eCUSTOMER\u003c/th\u003e\n      \u003cth\u003eDRAW_DOWN_DATE\u003c/th\u003e\n      \u003cth\u003eMEAN_DD\u003c/th\u003e\n      \u003cth\u003eSTD_DD\u003c/th\u003e\n      \u003cth\u003eACTIVE_CARD_MAX\u003c/th\u003e\n    \u003c/tr\u003e\n  \u003c/thead\u003e\n  \u003ctbody\u003e\n    \u003ctr\u003e\n      \u003cth\u003e0\u003c/th\u003e\n      \u003ctd\u003e3LUM\u003c/td\u003e\n      \u003ctd\u003e2019-12-01 00:00:00+00:00\u003c/td\u003e\n      \u003ctd\u003e13.000000\u003c/td\u003e\n      \u003ctd\u003e0.577350\u003c/td\u003e\n      \u003ctd\u003e14.0\u003c/td\u003e\n    \u003c/tr\u003e\n    \u003ctr\u003e\n      \u003cth\u003e193\u003c/th\u003e\n      \u003ctd\u003e3US6 (EQUIPMENT)\u003c/td\u003e\n      \u003ctd\u003e2021-08-01 00:00:00+00:00\u003c/td\u003e\n      \u003ctd\u003e36.600000\u003c/td\u003e\n      \u003ctd\u003e27.673092\u003c/td\u003e\n      \u003ctd\u003e104.0\u003c/td\u003e\n    \u003c/tr\u003e\n    \u003ctr\u003e\n      \u003cth\u003e192\u003c/th\u003e\n      \u003ctd\u003eACORDA THERAPEUTICS\u003c/td\u003e\n      \u003ctd\u003e2019-09-01 00:00:00+00:00\u003c/td\u003e\n      \u003ctd\u003e129.600000\u003c/td\u003e\n      \u003ctd\u003e2.190890\u003c/td\u003e\n      \u003ctd\u003e133.0\u003c/td\u003e\n    \u003c/tr\u003e\n    \u003ctr\u003e\n      \u003cth\u003e191\u003c/th\u003e\n      \u003ctd\u003eADF PIZZA MANAGEMENT\u003c/td\u003e\n      \u003ctd\u003e2020-12-01 00:00:00+00:00\u003c/td\u003e\n      \u003ctd\u003e7.500000\u003c/td\u003e\n      \u003ctd\u003e1.623688\u003c/td\u003e\n      \u003ctd\u003e12.0\u003c/td\u003e\n    \u003c/tr\u003e\n    \u003ctr\u003e\n      \u003cth\u003e190\u003c/th\u003e\n      \u003ctd\u003eALENT\u003c/td\u003e\n      \u003ctd\u003e2020-04-01 00:00:00+00:00\u003c/td\u003e\n      \u003ctd\u003e1.333333\u003c/td\u003e\n      \u003ctd\u003e0.492366\u003c/td\u003e\n      \u003ctd\u003e2.0\u003c/td\u003e\n    \u003c/tr\u003e\n  \u003c/tbody\u003e\n\u003c/table\u003e\n\u003c/div\u003e"
          },
          "metadata": {}
        }
      ]
    },
    {
      "execution_count": 46,
      "cell_type": "code",
      "metadata": {},
      "source": [
        "import Levenshtein\nfrom fuzzywuzzy import fuzz\nimport string\n\ndraw_downs \u003d [\u0027ADF PIZZA MANAGEMENT\u0027,\u0027ALKERMES (3ALK)\u0027,\u0027AMGEN USA INC\u0027,\u0027ARCADIS US\u0027, \u0027BALFOUR PB\u0027]\ndraw_ups \u003d [\u00273LUM\u0027, \u0027ALKERMES INC\u0027, \u0027ALLIED TUBE  CONDUIT\u0027, \u0027AMGEN USA\u0027, \u0027ARCADIS US INC\u0027, \u0027BALFOUR BEATTY EQUIPMENT\u0027]\ndraw_downs \u003d [\u0027BALFOUR BEATTY EQUIPMENT\u0027] \n\ncommon_words \u003d [\u0027PIZZA\u0027, \u0027MANAGEMENT\u0027, \u0027USA\u0027, \u0027INC\u0027, \u0027US\u0027, \u0027EQUIPMENT\u0027]\n\nidx \u003d 0\n\nfor c in draw_downs:\n    \n    cust \u003d DRAW_DOWN_CUSTOMER(c, None, None)\n    \n    c_str \u003d c.translate(str.maketrans(\u0027\u0027, \u0027\u0027, string.punctuation))\n    \n    f \u003d c_str.split()\n    f_processed \u003d []\n    for w in f:\n        if w not in common_words:\n            f_processed.append(w)\n    f \u003d f_processed\n            \n    for m in draw_ups:\n        \n        m_str \u003d m.translate(str.maketrans(\u0027\u0027, \u0027\u0027, string.punctuation))\n        t \u003d m_str.split()\n        t_processed \u003d []\n        for w in t:\n            if w not in common_words:\n                t_processed.append(w)\n        t \u003d t_processed\n                \n        print(f, t)\n        print()\n        \n    #print()\n    \n    \n    "
      ],
      "outputs": [
        {
          "output_type": "stream",
          "text": "[\u0027BALFOUR\u0027, \u0027BEATTY\u0027] [\u00273LUM\u0027]\n\n[\u0027BALFOUR\u0027, \u0027BEATTY\u0027] [\u0027ALKERMES\u0027]\n\n[\u0027BALFOUR\u0027, \u0027BEATTY\u0027] [\u0027ALLIED\u0027, \u0027TUBE\u0027, \u0027CONDUIT\u0027]\n\n[\u0027BALFOUR\u0027, \u0027BEATTY\u0027] [\u0027AMGEN\u0027]\n\n[\u0027BALFOUR\u0027, \u0027BEATTY\u0027] [\u0027ARCADIS\u0027]\n\n[\u0027BALFOUR\u0027, \u0027BEATTY\u0027] [\u0027BALFOUR\u0027, \u0027BEATTY\u0027]\n\n",
          "name": "stdout"
        }
      ]
    },
    {
      "execution_count": 0,
      "cell_type": "code",
      "metadata": {},
      "source": [
        "# Compute recipe outputs\n# TODO: Write here your actual code that computes the outputs\n# NB: DSS supports several kinds of APIs for reading and writing data. Please see doc.\n\nPOTENTIAL_DUPLICATES_df \u003d ... # Compute a Pandas dataframe to write into POTENTIAL_DUPLICATES\n\n\n# Write recipe outputs\nPOTENTIAL_DUPLICATES \u003d dataiku.Dataset(\"POTENTIAL_DUPLICATES\")\nPOTENTIAL_DUPLICATES.write_with_schema(POTENTIAL_DUPLICATES_df)"
      ],
      "outputs": []
    }
  ]
}