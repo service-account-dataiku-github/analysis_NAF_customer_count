{
  "metadata": {
    "kernelspec": {
      "name": "py-dku-venv-env_clc",
      "display_name": "Python (env env_clc)",
      "language": "python"
    },
    "associatedRecipe": "compute_WORD_LIST",
    "dkuGit": {
      "lastInteraction": 0
    },
    "creationTag": {
      "versionNumber": 0,
      "lastModifiedBy": {
        "login": "Daniel.Vandermeer"
      },
      "lastModifiedOn": 1666042478715
    },
    "creator": "Daniel.Vandermeer",
    "createdOn": 1666042478715,
    "tags": [
      "recipe-editor"
    ],
    "customFields": {},
    "hide_input": false,
    "language_info": {
      "name": "python",
      "version": "3.6.8",
      "mimetype": "text/x-python",
      "codemirror_mode": {
        "name": "ipython",
        "version": 3
      },
      "pygments_lexer": "ipython3",
      "nbconvert_exporter": "python",
      "file_extension": ".py"
    },
    "modifiedBy": "Daniel.Vandermeer"
  },
  "nbformat": 4,
  "nbformat_minor": 1,
  "cells": [
    {
      "execution_count": 25,
      "cell_type": "code",
      "metadata": {},
      "source": [
        "# -*- coding: utf-8 -*-\nimport dataiku\nimport pandas as pd, numpy as np\nfrom dataiku import pandasutils as pdu\n\n# Read recipe inputs\nBY_ACCOUNT \u003d dataiku.Dataset(\"BY_ACCOUNT\")\nBY_ACCOUNT_df \u003d BY_ACCOUNT.get_dataframe()\n\ndf \u003d BY_ACCOUNT_df"
      ],
      "outputs": []
    },
    {
      "execution_count": 26,
      "cell_type": "code",
      "metadata": {},
      "source": [
        "customers \u003d df.CUSTOMER.unique()\nlen(customers)"
      ],
      "outputs": [
        {
          "output_type": "execute_result",
          "execution_count": 26,
          "data": {
            "text/plain": "657099"
          },
          "metadata": {}
        }
      ]
    },
    {
      "execution_count": 27,
      "cell_type": "code",
      "metadata": {},
      "source": [
        "import string\nimport nltk\nfrom nltk.tag import pos_tag\n\ndf_dict \u003d pd.DataFrame(nltk.corpus.words.words(), columns\u003d[\u0027word\u0027])\ndf_dict[\u0027word\u0027] \u003d df_dict[\u0027word\u0027].str.upper()"
      ],
      "outputs": []
    },
    {
      "execution_count": 0,
      "cell_type": "code",
      "metadata": {},
      "source": [
        "class Common_Word:\n\n    def __init__(self, word):\n\n        self.word \u003d word\n        self.count \u003d 1\n\n\nclass Common_Word_List:\n\n    def __init__(self):\n\n        self.values \u003d []\n\n\n    def add_word(self, word):\n\n        found \u003d False\n        for w in self.values:\n            if w.word\u003d\u003dword:\n                w.count+\u003d1\n                found \u003d True\n\n        if not found:\n            self.values.append(Common_Word(word))\n"
      ],
      "outputs": []
    },
    {
      "execution_count": 29,
      "cell_type": "code",
      "metadata": {},
      "source": [
        "list_ \u003d Common_Word_List()\nidx \u003d 0\n\nfor c in customers:\n\n    c_str \u003d c.translate(str.maketrans(\u0027\u0027, \u0027\u0027, string.punctuation))\n    f \u003d c_str.split()\n\n    for w in f:\n        if (len(w)\u003e1) and (not w.isnumeric()):\n            list_.add_word(w)\n    idx+\u003d1\n\n    if (idx % 10000 \u003d\u003d 0):\n        print(idx, len(list_.values))\n\nprint()"
      ],
      "outputs": [
        {
          "output_type": "stream",
          "text": "1000 1616\n2000 2791\n3000 3772\n4000 4657\n5000 5480\n6000 6277\n7000 7052\n8000 7838\n9000 8569\n10000 9239\n\n",
          "name": "stdout"
        }
      ]
    },
    {
      "execution_count": 34,
      "cell_type": "code",
      "metadata": {},
      "source": [
        "_words \u003d []\n_counts \u003d []\nfor w in list_.values:\n    if w.count\u003e50:\n        _words.append(w.word)\n        _counts.append(w.count)\n        \ndf_words \u003d pd.DataFrame(_words, columns\u003d[\u0027word\u0027])\ndf_words[\u0027counts\u0027] \u003d _counts\n\ndf_words.sort_values(by\u003d\u0027counts\u0027, ascending\u003dFalse, inplace\u003dTrue)"
      ],
      "outputs": [
        {
          "output_type": "execute_result",
          "execution_count": 34,
          "data": {
            "text/plain": "              word  counts\n3              INC    3624\n4              LLC    2554\n17        SERVICES     473\n2               OF     430\n25    CONSTRUCTION     374\n7               CO     366\n10             AND     347\n31         SERVICE     299\n9          COMPANY     259\n11        ELECTRIC     202\n8              THE     196\n5      ENTERPRISES     183\n30           GROUP     179\n12             LTD     178\n37            CORP     160\n6         PLUMBING     156\n14       SOLUTIONS     151\n21         HEATING     141\n28     CORPORATION     134\n36            AUTO     131\n13            HOME     125\n22             AIR     120\n33            CARE     110\n20      MANAGEMENT     108\n47         SYSTEMS     106\n1           COUNTY     101\n48            CITY      96\n24      MECHANICAL      95\n43            FIRE      94\n29          CENTER      92\n44        TRUCKING      89\n40           SALES      86\n19  TRANSPORTATION      79\n32        CONCRETE      78\n27          SUPPLY      77\n18      ASSOCIATES      74\n0        TRANSPORT      73\n16      ELECTRICAL      73\n35         LIMITED      72\n26     CONTRACTING      70\n42          CHURCH      69\n55            LAWN      68\n34       EQUIPMENT      67\n54        CLEANING      66\n50     LANDSCAPING      65\n15    INCORPORATED      65\n53           GLASS      62\n38          VALLEY      61\n51         ROOFING      60\n52       LOGISTICS      60\n58          REPAIR      60\n45            PEST      57\n39          SCHOOL      57\n41        DISTRICT      56\n46         CONTROL      54\n49        PROPERTY      52\n23    CONDITIONING      52\n56          DESIGN      52\n57             ALL      51",
            "text/html": "\u003cdiv\u003e\n\u003cstyle scoped\u003e\n    .dataframe tbody tr th:only-of-type {\n        vertical-align: middle;\n    }\n\n    .dataframe tbody tr th {\n        vertical-align: top;\n    }\n\n    .dataframe thead th {\n        text-align: right;\n    }\n\u003c/style\u003e\n\u003ctable border\u003d\"1\" class\u003d\"dataframe\"\u003e\n  \u003cthead\u003e\n    \u003ctr style\u003d\"text-align: right;\"\u003e\n      \u003cth\u003e\u003c/th\u003e\n      \u003cth\u003eword\u003c/th\u003e\n      \u003cth\u003ecounts\u003c/th\u003e\n    \u003c/tr\u003e\n  \u003c/thead\u003e\n  \u003ctbody\u003e\n    \u003ctr\u003e\n      \u003cth\u003e3\u003c/th\u003e\n      \u003ctd\u003eINC\u003c/td\u003e\n      \u003ctd\u003e3624\u003c/td\u003e\n    \u003c/tr\u003e\n    \u003ctr\u003e\n      \u003cth\u003e4\u003c/th\u003e\n      \u003ctd\u003eLLC\u003c/td\u003e\n      \u003ctd\u003e2554\u003c/td\u003e\n    \u003c/tr\u003e\n    \u003ctr\u003e\n      \u003cth\u003e17\u003c/th\u003e\n      \u003ctd\u003eSERVICES\u003c/td\u003e\n      \u003ctd\u003e473\u003c/td\u003e\n    \u003c/tr\u003e\n    \u003ctr\u003e\n      \u003cth\u003e2\u003c/th\u003e\n      \u003ctd\u003eOF\u003c/td\u003e\n      \u003ctd\u003e430\u003c/td\u003e\n    \u003c/tr\u003e\n    \u003ctr\u003e\n      \u003cth\u003e25\u003c/th\u003e\n      \u003ctd\u003eCONSTRUCTION\u003c/td\u003e\n      \u003ctd\u003e374\u003c/td\u003e\n    \u003c/tr\u003e\n    \u003ctr\u003e\n      \u003cth\u003e7\u003c/th\u003e\n      \u003ctd\u003eCO\u003c/td\u003e\n      \u003ctd\u003e366\u003c/td\u003e\n    \u003c/tr\u003e\n    \u003ctr\u003e\n      \u003cth\u003e10\u003c/th\u003e\n      \u003ctd\u003eAND\u003c/td\u003e\n      \u003ctd\u003e347\u003c/td\u003e\n    \u003c/tr\u003e\n    \u003ctr\u003e\n      \u003cth\u003e31\u003c/th\u003e\n      \u003ctd\u003eSERVICE\u003c/td\u003e\n      \u003ctd\u003e299\u003c/td\u003e\n    \u003c/tr\u003e\n    \u003ctr\u003e\n      \u003cth\u003e9\u003c/th\u003e\n      \u003ctd\u003eCOMPANY\u003c/td\u003e\n      \u003ctd\u003e259\u003c/td\u003e\n    \u003c/tr\u003e\n    \u003ctr\u003e\n      \u003cth\u003e11\u003c/th\u003e\n      \u003ctd\u003eELECTRIC\u003c/td\u003e\n      \u003ctd\u003e202\u003c/td\u003e\n    \u003c/tr\u003e\n    \u003ctr\u003e\n      \u003cth\u003e8\u003c/th\u003e\n      \u003ctd\u003eTHE\u003c/td\u003e\n      \u003ctd\u003e196\u003c/td\u003e\n    \u003c/tr\u003e\n    \u003ctr\u003e\n      \u003cth\u003e5\u003c/th\u003e\n      \u003ctd\u003eENTERPRISES\u003c/td\u003e\n      \u003ctd\u003e183\u003c/td\u003e\n    \u003c/tr\u003e\n    \u003ctr\u003e\n      \u003cth\u003e30\u003c/th\u003e\n      \u003ctd\u003eGROUP\u003c/td\u003e\n      \u003ctd\u003e179\u003c/td\u003e\n    \u003c/tr\u003e\n    \u003ctr\u003e\n      \u003cth\u003e12\u003c/th\u003e\n      \u003ctd\u003eLTD\u003c/td\u003e\n      \u003ctd\u003e178\u003c/td\u003e\n    \u003c/tr\u003e\n    \u003ctr\u003e\n      \u003cth\u003e37\u003c/th\u003e\n      \u003ctd\u003eCORP\u003c/td\u003e\n      \u003ctd\u003e160\u003c/td\u003e\n    \u003c/tr\u003e\n    \u003ctr\u003e\n      \u003cth\u003e6\u003c/th\u003e\n      \u003ctd\u003ePLUMBING\u003c/td\u003e\n      \u003ctd\u003e156\u003c/td\u003e\n    \u003c/tr\u003e\n    \u003ctr\u003e\n      \u003cth\u003e14\u003c/th\u003e\n      \u003ctd\u003eSOLUTIONS\u003c/td\u003e\n      \u003ctd\u003e151\u003c/td\u003e\n    \u003c/tr\u003e\n    \u003ctr\u003e\n      \u003cth\u003e21\u003c/th\u003e\n      \u003ctd\u003eHEATING\u003c/td\u003e\n      \u003ctd\u003e141\u003c/td\u003e\n    \u003c/tr\u003e\n    \u003ctr\u003e\n      \u003cth\u003e28\u003c/th\u003e\n      \u003ctd\u003eCORPORATION\u003c/td\u003e\n      \u003ctd\u003e134\u003c/td\u003e\n    \u003c/tr\u003e\n    \u003ctr\u003e\n      \u003cth\u003e36\u003c/th\u003e\n      \u003ctd\u003eAUTO\u003c/td\u003e\n      \u003ctd\u003e131\u003c/td\u003e\n    \u003c/tr\u003e\n    \u003ctr\u003e\n      \u003cth\u003e13\u003c/th\u003e\n      \u003ctd\u003eHOME\u003c/td\u003e\n      \u003ctd\u003e125\u003c/td\u003e\n    \u003c/tr\u003e\n    \u003ctr\u003e\n      \u003cth\u003e22\u003c/th\u003e\n      \u003ctd\u003eAIR\u003c/td\u003e\n      \u003ctd\u003e120\u003c/td\u003e\n    \u003c/tr\u003e\n    \u003ctr\u003e\n      \u003cth\u003e33\u003c/th\u003e\n      \u003ctd\u003eCARE\u003c/td\u003e\n      \u003ctd\u003e110\u003c/td\u003e\n    \u003c/tr\u003e\n    \u003ctr\u003e\n      \u003cth\u003e20\u003c/th\u003e\n      \u003ctd\u003eMANAGEMENT\u003c/td\u003e\n      \u003ctd\u003e108\u003c/td\u003e\n    \u003c/tr\u003e\n    \u003ctr\u003e\n      \u003cth\u003e47\u003c/th\u003e\n      \u003ctd\u003eSYSTEMS\u003c/td\u003e\n      \u003ctd\u003e106\u003c/td\u003e\n    \u003c/tr\u003e\n    \u003ctr\u003e\n      \u003cth\u003e1\u003c/th\u003e\n      \u003ctd\u003eCOUNTY\u003c/td\u003e\n      \u003ctd\u003e101\u003c/td\u003e\n    \u003c/tr\u003e\n    \u003ctr\u003e\n      \u003cth\u003e48\u003c/th\u003e\n      \u003ctd\u003eCITY\u003c/td\u003e\n      \u003ctd\u003e96\u003c/td\u003e\n    \u003c/tr\u003e\n    \u003ctr\u003e\n      \u003cth\u003e24\u003c/th\u003e\n      \u003ctd\u003eMECHANICAL\u003c/td\u003e\n      \u003ctd\u003e95\u003c/td\u003e\n    \u003c/tr\u003e\n    \u003ctr\u003e\n      \u003cth\u003e43\u003c/th\u003e\n      \u003ctd\u003eFIRE\u003c/td\u003e\n      \u003ctd\u003e94\u003c/td\u003e\n    \u003c/tr\u003e\n    \u003ctr\u003e\n      \u003cth\u003e29\u003c/th\u003e\n      \u003ctd\u003eCENTER\u003c/td\u003e\n      \u003ctd\u003e92\u003c/td\u003e\n    \u003c/tr\u003e\n    \u003ctr\u003e\n      \u003cth\u003e44\u003c/th\u003e\n      \u003ctd\u003eTRUCKING\u003c/td\u003e\n      \u003ctd\u003e89\u003c/td\u003e\n    \u003c/tr\u003e\n    \u003ctr\u003e\n      \u003cth\u003e40\u003c/th\u003e\n      \u003ctd\u003eSALES\u003c/td\u003e\n      \u003ctd\u003e86\u003c/td\u003e\n    \u003c/tr\u003e\n    \u003ctr\u003e\n      \u003cth\u003e19\u003c/th\u003e\n      \u003ctd\u003eTRANSPORTATION\u003c/td\u003e\n      \u003ctd\u003e79\u003c/td\u003e\n    \u003c/tr\u003e\n    \u003ctr\u003e\n      \u003cth\u003e32\u003c/th\u003e\n      \u003ctd\u003eCONCRETE\u003c/td\u003e\n      \u003ctd\u003e78\u003c/td\u003e\n    \u003c/tr\u003e\n    \u003ctr\u003e\n      \u003cth\u003e27\u003c/th\u003e\n      \u003ctd\u003eSUPPLY\u003c/td\u003e\n      \u003ctd\u003e77\u003c/td\u003e\n    \u003c/tr\u003e\n    \u003ctr\u003e\n      \u003cth\u003e18\u003c/th\u003e\n      \u003ctd\u003eASSOCIATES\u003c/td\u003e\n      \u003ctd\u003e74\u003c/td\u003e\n    \u003c/tr\u003e\n    \u003ctr\u003e\n      \u003cth\u003e0\u003c/th\u003e\n      \u003ctd\u003eTRANSPORT\u003c/td\u003e\n      \u003ctd\u003e73\u003c/td\u003e\n    \u003c/tr\u003e\n    \u003ctr\u003e\n      \u003cth\u003e16\u003c/th\u003e\n      \u003ctd\u003eELECTRICAL\u003c/td\u003e\n      \u003ctd\u003e73\u003c/td\u003e\n    \u003c/tr\u003e\n    \u003ctr\u003e\n      \u003cth\u003e35\u003c/th\u003e\n      \u003ctd\u003eLIMITED\u003c/td\u003e\n      \u003ctd\u003e72\u003c/td\u003e\n    \u003c/tr\u003e\n    \u003ctr\u003e\n      \u003cth\u003e26\u003c/th\u003e\n      \u003ctd\u003eCONTRACTING\u003c/td\u003e\n      \u003ctd\u003e70\u003c/td\u003e\n    \u003c/tr\u003e\n    \u003ctr\u003e\n      \u003cth\u003e42\u003c/th\u003e\n      \u003ctd\u003eCHURCH\u003c/td\u003e\n      \u003ctd\u003e69\u003c/td\u003e\n    \u003c/tr\u003e\n    \u003ctr\u003e\n      \u003cth\u003e55\u003c/th\u003e\n      \u003ctd\u003eLAWN\u003c/td\u003e\n      \u003ctd\u003e68\u003c/td\u003e\n    \u003c/tr\u003e\n    \u003ctr\u003e\n      \u003cth\u003e34\u003c/th\u003e\n      \u003ctd\u003eEQUIPMENT\u003c/td\u003e\n      \u003ctd\u003e67\u003c/td\u003e\n    \u003c/tr\u003e\n    \u003ctr\u003e\n      \u003cth\u003e54\u003c/th\u003e\n      \u003ctd\u003eCLEANING\u003c/td\u003e\n      \u003ctd\u003e66\u003c/td\u003e\n    \u003c/tr\u003e\n    \u003ctr\u003e\n      \u003cth\u003e50\u003c/th\u003e\n      \u003ctd\u003eLANDSCAPING\u003c/td\u003e\n      \u003ctd\u003e65\u003c/td\u003e\n    \u003c/tr\u003e\n    \u003ctr\u003e\n      \u003cth\u003e15\u003c/th\u003e\n      \u003ctd\u003eINCORPORATED\u003c/td\u003e\n      \u003ctd\u003e65\u003c/td\u003e\n    \u003c/tr\u003e\n    \u003ctr\u003e\n      \u003cth\u003e53\u003c/th\u003e\n      \u003ctd\u003eGLASS\u003c/td\u003e\n      \u003ctd\u003e62\u003c/td\u003e\n    \u003c/tr\u003e\n    \u003ctr\u003e\n      \u003cth\u003e38\u003c/th\u003e\n      \u003ctd\u003eVALLEY\u003c/td\u003e\n      \u003ctd\u003e61\u003c/td\u003e\n    \u003c/tr\u003e\n    \u003ctr\u003e\n      \u003cth\u003e51\u003c/th\u003e\n      \u003ctd\u003eROOFING\u003c/td\u003e\n      \u003ctd\u003e60\u003c/td\u003e\n    \u003c/tr\u003e\n    \u003ctr\u003e\n      \u003cth\u003e52\u003c/th\u003e\n      \u003ctd\u003eLOGISTICS\u003c/td\u003e\n      \u003ctd\u003e60\u003c/td\u003e\n    \u003c/tr\u003e\n    \u003ctr\u003e\n      \u003cth\u003e58\u003c/th\u003e\n      \u003ctd\u003eREPAIR\u003c/td\u003e\n      \u003ctd\u003e60\u003c/td\u003e\n    \u003c/tr\u003e\n    \u003ctr\u003e\n      \u003cth\u003e45\u003c/th\u003e\n      \u003ctd\u003ePEST\u003c/td\u003e\n      \u003ctd\u003e57\u003c/td\u003e\n    \u003c/tr\u003e\n    \u003ctr\u003e\n      \u003cth\u003e39\u003c/th\u003e\n      \u003ctd\u003eSCHOOL\u003c/td\u003e\n      \u003ctd\u003e57\u003c/td\u003e\n    \u003c/tr\u003e\n    \u003ctr\u003e\n      \u003cth\u003e41\u003c/th\u003e\n      \u003ctd\u003eDISTRICT\u003c/td\u003e\n      \u003ctd\u003e56\u003c/td\u003e\n    \u003c/tr\u003e\n    \u003ctr\u003e\n      \u003cth\u003e46\u003c/th\u003e\n      \u003ctd\u003eCONTROL\u003c/td\u003e\n      \u003ctd\u003e54\u003c/td\u003e\n    \u003c/tr\u003e\n    \u003ctr\u003e\n      \u003cth\u003e49\u003c/th\u003e\n      \u003ctd\u003ePROPERTY\u003c/td\u003e\n      \u003ctd\u003e52\u003c/td\u003e\n    \u003c/tr\u003e\n    \u003ctr\u003e\n      \u003cth\u003e23\u003c/th\u003e\n      \u003ctd\u003eCONDITIONING\u003c/td\u003e\n      \u003ctd\u003e52\u003c/td\u003e\n    \u003c/tr\u003e\n    \u003ctr\u003e\n      \u003cth\u003e56\u003c/th\u003e\n      \u003ctd\u003eDESIGN\u003c/td\u003e\n      \u003ctd\u003e52\u003c/td\u003e\n    \u003c/tr\u003e\n    \u003ctr\u003e\n      \u003cth\u003e57\u003c/th\u003e\n      \u003ctd\u003eALL\u003c/td\u003e\n      \u003ctd\u003e51\u003c/td\u003e\n    \u003c/tr\u003e\n  \u003c/tbody\u003e\n\u003c/table\u003e\n\u003c/div\u003e"
          },
          "metadata": {}
        }
      ]
    },
    {
      "execution_count": 0,
      "cell_type": "code",
      "metadata": {},
      "source": [
        "# Compute recipe outputs from inputs\n# TODO: Replace this part by your actual code that computes the output, as a Pandas dataframe\n# NB: DSS also supports other kinds of APIs for reading and writing data. Please see doc.\n\nWORD_LIST_df \u003d df_words\n\n# Write recipe outputs\nWORD_LIST \u003d dataiku.Dataset(\"WORD_LIST\")\nWORD_LIST.write_with_schema(WORD_LIST_df)"
      ],
      "outputs": []
    }
  ]
}