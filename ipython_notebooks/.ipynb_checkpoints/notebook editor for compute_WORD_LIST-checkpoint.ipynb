{
  "metadata": {
    "kernelspec": {
      "name": "py-dku-venv-env_clc",
      "display_name": "Python (env env_clc)",
      "language": "python"
    },
    "associatedRecipe": "compute_WORD_LIST",
    "creator": "Daniel.Vandermeer",
    "createdOn": 1666042478715,
    "tags": [
      "recipe-editor"
    ],
    "customFields": {},
    "hide_input": false,
    "language_info": {
      "name": "python",
      "version": "3.6.8",
      "mimetype": "text/x-python",
      "codemirror_mode": {
        "name": "ipython",
        "version": 3
      },
      "pygments_lexer": "ipython3",
      "nbconvert_exporter": "python",
      "file_extension": ".py"
    },
    "modifiedBy": "Daniel.Vandermeer"
  },
  "nbformat": 4,
  "nbformat_minor": 1,
  "cells": [
    {
      "execution_count": 1,
      "cell_type": "code",
      "metadata": {},
      "source": [
        "# -*- coding: utf-8 -*-\nimport dataiku\nimport pandas as pd, numpy as np\nfrom dataiku import pandasutils as pdu\n\n# Read recipe inputs\nBY_ACCOUNT \u003d dataiku.Dataset(\"BY_ACCOUNT\")\nBY_ACCOUNT_df \u003d BY_ACCOUNT.get_dataframe()\n\ndf \u003d BY_ACCOUNT_df"
      ],
      "outputs": []
    },
    {
      "execution_count": 5,
      "cell_type": "code",
      "metadata": {},
      "source": [
        "customers \u003d df.CUSTOMER.unique()\nlen(customers)"
      ],
      "outputs": [
        {
          "output_type": "execute_result",
          "execution_count": 5,
          "data": {
            "text/plain": "657099"
          },
          "metadata": {}
        }
      ]
    },
    {
      "execution_count": 8,
      "cell_type": "code",
      "metadata": {},
      "source": [
        "import string\nimport nltk\nfrom nltk.tag import pos_tag\n\ndf_dict \u003d pd.DataFrame(nltk.corpus.words.words(), columns\u003d[\u0027word\u0027])\ndf_dict[\u0027word\u0027] \u003d df_dict[\u0027word\u0027].str.upper()"
      ],
      "outputs": []
    },
    {
      "execution_count": 14,
      "cell_type": "code",
      "metadata": {},
      "source": [
        "class Common_Word:\n    \n    def __init__(self, word):\n        \n        self.word \u003d word\n        self.count \u003d 1\n        \n\nclass Common_Word_List:\n        \n    def __init__(self):\n        \n        self.values \u003d []\n        \n\n    def add_word(self, word):\n\n        found \u003d False\n        for w in self.values:\n            if w.word\u003d\u003dword:\n                w.count+\u003d1\n                found \u003d True\n\n        if not found:\n            self.values.append(Common_Word(word))\n        \n\nwords \u003d [\u0027APPLE\u0027, \u0027PEAR\u0027, \u0027APPLE\u0027, \u0027ORANGE\u0027, \u0027PEAR\u0027]\n        \n\n\nfor w in words:\n    \n    \n    \nfor w in list_.values:\n    print(w.word, w.count)"
      ],
      "outputs": [
        {
          "output_type": "stream",
          "text": "APPLE 2\nPEAR 2\nORANGE 1\n",
          "name": "stdout"
        }
      ]
    },
    {
      "execution_count": 16,
      "cell_type": "code",
      "metadata": {},
      "source": [
        "idx \u003d 0\n\nlist_ \u003d Common_Word_List()\n\nfor c in customers:\n    \n    c_str \u003d c.translate(str.maketrans(\u0027\u0027, \u0027\u0027, string.punctuation))\n    f \u003d c_str.split()\n    \n    print(c_str)\n    \n    for w in f:\n        if (len(w)\u003e1) and (not w.isnumeric()):\n            list_.add_word(w)\n    idx+\u003d1\n    \n    if idx\u003e10:\n        break;\n        \nprint()\nfor w in list_.values:\n    print(w.word, w.count)"
      ],
      "outputs": [
        {
          "output_type": "stream",
          "text": "BERGE TRANSPORT\nCOUNTY OF MOBILE\nIEC INC\nBUYBACKBOY LLC\nPJF ENTERPRISES INC\nG  A ADVERTISING\nBAUMGARDNER MOTORS INC\nMULTITECH SEALERS INC\nSINAK PLUMBING CO INC\nTRICOUNTY ENGINEERING INC\nTHE ELLIOTT COMPANY\nBERGE 1\nTRANSPORT 1\nCOUNTY 1\nOF 1\nMOBILE 1\nIEC 1\nINC 6\nBUYBACKBOY 1\nLLC 1\nPJF 1\nENTERPRISES 1\nADVERTISING 1\nBAUMGARDNER 1\nMOTORS 1\nMULTITECH 1\nSEALERS 1\nSINAK 1\nPLUMBING 1\nCO 1\nTRICOUNTY 1\nENGINEERING 1\nTHE 1\nELLIOTT 1\nCOMPANY 1\n",
          "name": "stdout"
        }
      ]
    },
    {
      "execution_count": 0,
      "cell_type": "code",
      "metadata": {},
      "source": [
        "# Compute recipe outputs from inputs\n# TODO: Replace this part by your actual code that computes the output, as a Pandas dataframe\n# NB: DSS also supports other kinds of APIs for reading and writing data. Please see doc.\n\nWORD_LIST_df \u003d BY_ACCOUNT_df # For this sample code, simply copy input to output\n\n\n# Write recipe outputs\nWORD_LIST \u003d dataiku.Dataset(\"WORD_LIST\")\nWORD_LIST.write_with_schema(WORD_LIST_df)"
      ],
      "outputs": []
    }
  ]
}