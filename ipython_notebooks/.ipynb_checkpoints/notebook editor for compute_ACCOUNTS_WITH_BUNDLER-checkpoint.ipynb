{
  "metadata": {
    "kernelspec": {
      "name": "py-dku-venv-env_clc",
      "display_name": "Python (env env_clc)",
      "language": "python"
    },
    "associatedRecipe": "compute_ACCOUNTS_WITH_BUNDLER",
    "dkuGit": {
      "lastInteraction": 0
    },
    "creationTag": {
      "versionNumber": 0,
      "lastModifiedBy": {
        "login": "Daniel.Vandermeer"
      },
      "lastModifiedOn": 1664915388120
    },
    "creator": "Daniel.Vandermeer",
    "createdOn": 1664915388120,
    "tags": [
      "recipe-editor"
    ],
    "customFields": {},
    "hide_input": false,
    "language_info": {
      "name": "python",
      "version": "3.6.8",
      "mimetype": "text/x-python",
      "codemirror_mode": {
        "name": "ipython",
        "version": 3
      },
      "pygments_lexer": "ipython3",
      "nbconvert_exporter": "python",
      "file_extension": ".py"
    },
    "modifiedBy": "Daniel.Vandermeer"
  },
  "nbformat": 4,
  "nbformat_minor": 1,
  "cells": [
    {
      "execution_count": 16,
      "cell_type": "code",
      "metadata": {},
      "source": [
        "# -*- coding: utf-8 -*-\nimport dataiku\nimport pandas as pd, numpy as np\nfrom dataiku import pandasutils as pdu\n\n# Read recipe inputs\nNAFCUSTOMER_C360_ACCOUNTS \u003d dataiku.Dataset(\"NAFCUSTOMER_C360_ACCOUNTS\")\nNAFCUSTOMER_C360_ACCOUNTS_df \u003d NAFCUSTOMER_C360_ACCOUNTS.get_dataframe()\nACCOUNT_BUNDLER_LIST \u003d dataiku.Dataset(\"ACCOUNT_BUNDLER_LIST\")\nACCOUNT_BUNDLER_LIST_df \u003d ACCOUNT_BUNDLER_LIST.get_dataframe()\n\nACCOUNT_BUNDLER_LIST_df[\u0027IS_BUNDLER\u0027] \u003d True\nACCOUNT_BUNDLER_LIST_df \u003d ACCOUNT_BUNDLER_LIST_df[[\u0027EDW_CUSTOMER_NAME\u0027,\u0027IS_BUNDLER\u0027]]\n\ndf \u003d pd.merge(NAFCUSTOMER_C360_ACCOUNTS_df,ACCOUNT_BUNDLER_LIST_df, how\u003d\u0027left\u0027, on\u003d\u0027EDW_CUSTOMER_NAME\u0027)\ndf[\u0027DUNS\u0027] \u003d df[\u0027DUNS\u0027].astype(\u0027Int64\u0027, errors\u003d\u0027ignore\u0027)\n\nACCOUNTS_WITH_BUNDLER_df \u003d df\n\n# Write recipe outputs\nACCOUNTS_WITH_BUNDLER \u003d dataiku.Dataset(\"ACCOUNTS_WITH_BUNDLER\")\nACCOUNTS_WITH_BUNDLER.write_with_schema(ACCOUNTS_WITH_BUNDLER_df)"
      ],
      "outputs": []
    }
  ]
}