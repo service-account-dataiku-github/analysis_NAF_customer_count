{
  "nbformat": 4,
  "nbformat_minor": 0,
  "metadata": {
    "kernelspec": {
      "display_name": "Python in cpu-m-cpu-3-mem-4Gb (builtin env)",
      "language": "python",
      "name": "py-dku-containerized-venv--cpu-m-cpu-3-mem-4gb"
    },
    "associatedRecipe": "compute_ACCOUNT_NEW_SALES_FULL",
    "creator": "Daniel.Vandermeer",
    "createdOn": 1668682605402,
    "tags": [
      "recipe-editor"
    ],
    "customFields": {}
  },
  "cells": [
    {
      "cell_type": "code",
      "metadata": {},
      "outputs": [],
      "execution_count": 0,
      "source": [
        "# -*- coding: utf-8 -*-\n",
        "import dataiku\n",
        "import pandas as pd, numpy as np\n",
        "from dataiku import pandasutils as pdu\n",
        "\n",
        "# Read recipe inputs\n",
        "WEX_and_Non_Managed_Sold_20190101_20220920 \u003d dataiku.Dataset(\"WEX_and_Non_Managed_Sold_20190101_20220920\")\n",
        "WEX_and_Non_Managed_Sold_20190101_20220920_df \u003d WEX_and_Non_Managed_Sold_20190101_20220920.get_dataframe()\n",
        "Managed_Sold_20190101_20220920 \u003d dataiku.Dataset(\"Managed_Sold_20190101_20220920\")\n",
        "Managed_Sold_20190101_20220920_df \u003d Managed_Sold_20190101_20220920.get_dataframe()\n",
        "\n",
        "\n",
        "# Compute recipe outputs\n",
        "# TODO: Write here your actual code that computes the outputs\n",
        "# NB: DSS supports several kinds of APIs for reading and writing data. Please see doc.\n",
        "\n",
        "ACCOUNT_NEW_SALES_FULL_df \u003d ... # Compute a Pandas dataframe to write into ACCOUNT_NEW_SALES_FULL\n",
        "\n",
        "\n",
        "# Write recipe outputs\n",
        "ACCOUNT_NEW_SALES_FULL \u003d dataiku.Dataset(\"ACCOUNT_NEW_SALES_FULL\")\n",
        "ACCOUNT_NEW_SALES_FULL.write_with_schema(ACCOUNT_NEW_SALES_FULL_df)"
      ]
    }
  ]
}