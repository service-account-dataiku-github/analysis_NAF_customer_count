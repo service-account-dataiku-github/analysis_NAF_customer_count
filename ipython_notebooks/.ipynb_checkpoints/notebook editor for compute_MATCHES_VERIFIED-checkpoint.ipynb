{
  "metadata": {
    "kernelspec": {
      "name": "py-dku-venv-env_clc",
      "display_name": "Python (env env_clc)",
      "language": "python"
    },
    "associatedRecipe": "compute_MATCHES_VERIFIED",
    "creator": "Daniel.Vandermeer",
    "createdOn": 1666539374374,
    "tags": [
      "recipe-editor"
    ],
    "customFields": {},
    "hide_input": false,
    "language_info": {
      "name": "python",
      "version": "3.6.8",
      "mimetype": "text/x-python",
      "codemirror_mode": {
        "name": "ipython",
        "version": 3
      },
      "pygments_lexer": "ipython3",
      "nbconvert_exporter": "python",
      "file_extension": ".py"
    },
    "modifiedBy": "Daniel.Vandermeer"
  },
  "nbformat": 4,
  "nbformat_minor": 1,
  "cells": [
    {
      "execution_count": 2,
      "cell_type": "code",
      "metadata": {},
      "source": [
        "# -*- coding: utf-8 -*-\nimport dataiku\nimport pandas as pd, numpy as np\nfrom dataiku import pandasutils as pdu\n\n# Read recipe inputs\nMATCHES_1_TO_N_FOR_MANUAL_REVIEW_STAGING \u003d dataiku.Dataset(\"MATCHES_1_TO_N_FOR_MANUAL_REVIEW_STAGING\")\nMATCHES_1_TO_N_FOR_MANUAL_REVIEW_STAGING_df \u003d MATCHES_1_TO_N_FOR_MANUAL_REVIEW_STAGING.get_dataframe()\n\nMATCHES_1_TO_1_STAGING \u003d dataiku.Dataset(\"MATCHES_1_TO_1_STAGING\")\nMATCHES_1_TO_1_STAGING_df \u003d MATCHES_1_TO_1_STAGING.get_dataframe()"
      ],
      "outputs": []
    },
    {
      "execution_count": 1,
      "cell_type": "code",
      "metadata": {},
      "source": [
        "df_1_1 \u003d MATCHES_1_TO_1_STAGING_df\nprint(len(df_1_1))\ndf_1_1.head()"
      ],
      "outputs": [
        {
          "output_type": "error",
          "ename": "NameError",
          "evalue": "name \u0027MATCHES_1_TO_1_STAGING_df\u0027 is not defined",
          "traceback": [
            "\u001b[0;31m---------------------------------------------------------------------------\u001b[0m",
            "\u001b[0;31mNameError\u001b[0m                                 Traceback (most recent call last)",
            "\u001b[0;32m\u003cipython-input-1-f2c4f189ca46\u003e\u001b[0m in \u001b[0;36m\u003cmodule\u003e\u001b[0;34m\u001b[0m\n\u001b[0;32m----\u003e 1\u001b[0;31m \u001b[0mdf_1_1\u001b[0m \u001b[0;34m\u003d\u001b[0m \u001b[0mMATCHES_1_TO_1_STAGING_df\u001b[0m\u001b[0;34m\u001b[0m\u001b[0;34m\u001b[0m\u001b[0m\n\u001b[0m\u001b[1;32m      2\u001b[0m \u001b[0mprint\u001b[0m\u001b[0;34m(\u001b[0m\u001b[0mlen\u001b[0m\u001b[0;34m(\u001b[0m\u001b[0mdf_1_1\u001b[0m\u001b[0;34m)\u001b[0m\u001b[0;34m)\u001b[0m\u001b[0;34m\u001b[0m\u001b[0;34m\u001b[0m\u001b[0m\n\u001b[1;32m      3\u001b[0m \u001b[0mdf_1_1\u001b[0m\u001b[0;34m.\u001b[0m\u001b[0mhead\u001b[0m\u001b[0;34m(\u001b[0m\u001b[0;34m)\u001b[0m\u001b[0;34m\u001b[0m\u001b[0;34m\u001b[0m\u001b[0m\n",
            "\u001b[0;31mNameError\u001b[0m: name \u0027MATCHES_1_TO_1_STAGING_df\u0027 is not defined"
          ]
        }
      ]
    },
    {
      "execution_count": 0,
      "cell_type": "code",
      "metadata": {},
      "source": [
        "df_1_N \u003d MATCHES_1_TO_N_FOR_MANUAL_REVIEW_STAGING_df\nprint(len(df_1_N))\ndf_1_N.head()"
      ],
      "outputs": []
    },
    {
      "execution_count": 0,
      "cell_type": "code",
      "metadata": {},
      "source": [
        "# Compute recipe outputs\n# TODO: Write here your actual code that computes the outputs\n# NB: DSS supports several kinds of APIs for reading and writing data. Please see doc.\n\n#MATCHES_VERIFIED_df \u003d ... # Compute a Pandas dataframe to write into MATCHES_VERIFIED\n\n\n# Write recipe outputs\n#MATCHES_VERIFIED \u003d dataiku.Dataset(\"MATCHES_VERIFIED\")\n#MATCHES_VERIFIED.write_with_schema(MATCHES_VERIFIED_df)"
      ],
      "outputs": []
    }
  ]
}