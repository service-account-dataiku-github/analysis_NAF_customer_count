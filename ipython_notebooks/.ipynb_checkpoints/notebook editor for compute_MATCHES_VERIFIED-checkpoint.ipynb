{
  "metadata": {
    "kernelspec": {
      "name": "py-dku-venv-env_clc",
      "display_name": "Python (env env_clc)",
      "language": "python"
    },
    "associatedRecipe": "compute_MATCHES_VERIFIED",
    "creator": "Daniel.Vandermeer",
    "createdOn": 1666539374374,
    "tags": [
      "recipe-editor"
    ],
    "customFields": {},
    "hide_input": false,
    "language_info": {
      "name": "python",
      "version": "3.6.8",
      "mimetype": "text/x-python",
      "codemirror_mode": {
        "name": "ipython",
        "version": 3
      },
      "pygments_lexer": "ipython3",
      "nbconvert_exporter": "python",
      "file_extension": ".py"
    },
    "modifiedBy": "Daniel.Vandermeer"
  },
  "nbformat": 4,
  "nbformat_minor": 1,
  "cells": [
    {
      "execution_count": 3,
      "cell_type": "code",
      "metadata": {},
      "source": [
        "# -*- coding: utf-8 -*-\nimport dataiku\nimport pandas as pd, numpy as np\nfrom dataiku import pandasutils as pdu\n\n# Read recipe inputs\nMATCHES_1_TO_N_FOR_MANUAL_REVIEW_STAGING \u003d dataiku.Dataset(\"MATCHES_1_TO_N_FOR_MANUAL_REVIEW_STAGING\")\nMATCHES_1_TO_N_FOR_MANUAL_REVIEW_STAGING_df \u003d MATCHES_1_TO_N_FOR_MANUAL_REVIEW_STAGING.get_dataframe()\n\nMATCHES_1_TO_1_STAGING \u003d dataiku.Dataset(\"MATCHES_1_TO_1_STAGING\")\nMATCHES_1_TO_1_STAGING_df \u003d MATCHES_1_TO_1_STAGING.get_dataframe()"
      ],
      "outputs": []
    },
    {
      "execution_count": 5,
      "cell_type": "code",
      "metadata": {},
      "source": [
        "df_1_N \u003d MATCHES_1_TO_N_FOR_MANUAL_REVIEW_STAGING_df\nprint(len(df_1_N))\ndf_1_N.head()"
      ],
      "outputs": [
        {
          "output_type": "stream",
          "text": "106\n",
          "name": "stdout"
        },
        {
          "output_type": "execute_result",
          "execution_count": 5,
          "data": {
            "text/plain": "                         CUSTOMER                                     MATCH_CUSTOMER                                       DRAW_UP_DATE\n0         130199-BROWN \u0026 CALDWELL  [\u0027BROWN AND CALDWELL\u0027, \u0027CALDWELL ELECTRICAL CO...  [Timestamp(\u00272021-01-01 00:00:00+0000\u0027, tz\u003d\u0027UTC...\n1  ZORN COMPRESSOR \u0026 EQUIPMENT IN  [\u0027METROPOLITAN AIR COMPRESSOR CO INC\u0027, \u0027NATION...  [Timestamp(\u00272019-02-01 00:00:00+0000\u0027, tz\u003d\u0027UTC...\n2    WORLDWIDE WINE \u0026 SPIRITS INC  [\u0027FISHER59 OKLAHOMA WINE  SPIRITS LLP\u0027, \u0027WORLD...  [Timestamp(\u00272019-11-01 00:00:00+0000\u0027, tz\u003d\u0027UTC...\n3  WEST YAVAPAI GUIDANCE CLINI (2  [\u0027DELAWARE GUIDANCE SERVICES FOR CHILDREN AND ...  [Timestamp(\u00272019-04-01 00:00:00+0000\u0027, tz\u003d\u0027UTC...\n4           WAVE FORM SYSTEMS INC  [\u0027CONCRETE FORM ERECTORS INC\u0027, \u0027FORM WAVE SYST...  [Timestamp(\u00272019-02-01 00:00:00+0000\u0027, tz\u003d\u0027UTC...",
            "text/html": "\u003cdiv\u003e\n\u003cstyle scoped\u003e\n    .dataframe tbody tr th:only-of-type {\n        vertical-align: middle;\n    }\n\n    .dataframe tbody tr th {\n        vertical-align: top;\n    }\n\n    .dataframe thead th {\n        text-align: right;\n    }\n\u003c/style\u003e\n\u003ctable border\u003d\"1\" class\u003d\"dataframe\"\u003e\n  \u003cthead\u003e\n    \u003ctr style\u003d\"text-align: right;\"\u003e\n      \u003cth\u003e\u003c/th\u003e\n      \u003cth\u003eCUSTOMER\u003c/th\u003e\n      \u003cth\u003eMATCH_CUSTOMER\u003c/th\u003e\n      \u003cth\u003eDRAW_UP_DATE\u003c/th\u003e\n    \u003c/tr\u003e\n  \u003c/thead\u003e\n  \u003ctbody\u003e\n    \u003ctr\u003e\n      \u003cth\u003e0\u003c/th\u003e\n      \u003ctd\u003e130199-BROWN \u0026amp; CALDWELL\u003c/td\u003e\n      \u003ctd\u003e[\u0027BROWN AND CALDWELL\u0027, \u0027CALDWELL ELECTRICAL CO...\u003c/td\u003e\n      \u003ctd\u003e[Timestamp(\u00272021-01-01 00:00:00+0000\u0027, tz\u003d\u0027UTC...\u003c/td\u003e\n    \u003c/tr\u003e\n    \u003ctr\u003e\n      \u003cth\u003e1\u003c/th\u003e\n      \u003ctd\u003eZORN COMPRESSOR \u0026amp; EQUIPMENT IN\u003c/td\u003e\n      \u003ctd\u003e[\u0027METROPOLITAN AIR COMPRESSOR CO INC\u0027, \u0027NATION...\u003c/td\u003e\n      \u003ctd\u003e[Timestamp(\u00272019-02-01 00:00:00+0000\u0027, tz\u003d\u0027UTC...\u003c/td\u003e\n    \u003c/tr\u003e\n    \u003ctr\u003e\n      \u003cth\u003e2\u003c/th\u003e\n      \u003ctd\u003eWORLDWIDE WINE \u0026amp; SPIRITS INC\u003c/td\u003e\n      \u003ctd\u003e[\u0027FISHER59 OKLAHOMA WINE  SPIRITS LLP\u0027, \u0027WORLD...\u003c/td\u003e\n      \u003ctd\u003e[Timestamp(\u00272019-11-01 00:00:00+0000\u0027, tz\u003d\u0027UTC...\u003c/td\u003e\n    \u003c/tr\u003e\n    \u003ctr\u003e\n      \u003cth\u003e3\u003c/th\u003e\n      \u003ctd\u003eWEST YAVAPAI GUIDANCE CLINI (2\u003c/td\u003e\n      \u003ctd\u003e[\u0027DELAWARE GUIDANCE SERVICES FOR CHILDREN AND ...\u003c/td\u003e\n      \u003ctd\u003e[Timestamp(\u00272019-04-01 00:00:00+0000\u0027, tz\u003d\u0027UTC...\u003c/td\u003e\n    \u003c/tr\u003e\n    \u003ctr\u003e\n      \u003cth\u003e4\u003c/th\u003e\n      \u003ctd\u003eWAVE FORM SYSTEMS INC\u003c/td\u003e\n      \u003ctd\u003e[\u0027CONCRETE FORM ERECTORS INC\u0027, \u0027FORM WAVE SYST...\u003c/td\u003e\n      \u003ctd\u003e[Timestamp(\u00272019-02-01 00:00:00+0000\u0027, tz\u003d\u0027UTC...\u003c/td\u003e\n    \u003c/tr\u003e\n  \u003c/tbody\u003e\n\u003c/table\u003e\n\u003c/div\u003e"
          },
          "metadata": {}
        }
      ]
    },
    {
      "execution_count": 6,
      "cell_type": "code",
      "metadata": {},
      "source": [
        "df_1_1 \u003d MATCHES_1_TO_1_STAGING_df\nprint(len(df_1_1))\ndf_1_1.head()"
      ],
      "outputs": [
        {
          "output_type": "stream",
          "text": "1154\n",
          "name": "stdout"
        },
        {
          "output_type": "execute_result",
          "execution_count": 6,
          "data": {
            "text/plain": "                         CUSTOMER                             MATCH_CUSTOMER              DRAW_UP_DATE\n0   0972 HEINEKEN USA INC (PHH35)              0972 HEINEKEN USA INC (PHH47) 2019-06-01 00:00:00+00:00\n1  ZOOM SEWER \u0026 DRAIN CLEANING SE  ZOOM SEWER AND DRAIN CLEANING SERVICE INC 2019-05-01 00:00:00+00:00\n2                      ZERNCO INC                                     ZERNCO 2020-07-01 00:00:00+00:00\n3            ZASTROW THE BEER MAN                   ZASTROW THE BEER MAN INC 2021-10-01 00:00:00+00:00\n4         YOUR WAY FUMIGATION INC             FUMIGATION SERVICE  SUPPLY INC 2022-02-01 00:00:00+00:00",
            "text/html": "\u003cdiv\u003e\n\u003cstyle scoped\u003e\n    .dataframe tbody tr th:only-of-type {\n        vertical-align: middle;\n    }\n\n    .dataframe tbody tr th {\n        vertical-align: top;\n    }\n\n    .dataframe thead th {\n        text-align: right;\n    }\n\u003c/style\u003e\n\u003ctable border\u003d\"1\" class\u003d\"dataframe\"\u003e\n  \u003cthead\u003e\n    \u003ctr style\u003d\"text-align: right;\"\u003e\n      \u003cth\u003e\u003c/th\u003e\n      \u003cth\u003eCUSTOMER\u003c/th\u003e\n      \u003cth\u003eMATCH_CUSTOMER\u003c/th\u003e\n      \u003cth\u003eDRAW_UP_DATE\u003c/th\u003e\n    \u003c/tr\u003e\n  \u003c/thead\u003e\n  \u003ctbody\u003e\n    \u003ctr\u003e\n      \u003cth\u003e0\u003c/th\u003e\n      \u003ctd\u003e0972 HEINEKEN USA INC (PHH35)\u003c/td\u003e\n      \u003ctd\u003e0972 HEINEKEN USA INC (PHH47)\u003c/td\u003e\n      \u003ctd\u003e2019-06-01 00:00:00+00:00\u003c/td\u003e\n    \u003c/tr\u003e\n    \u003ctr\u003e\n      \u003cth\u003e1\u003c/th\u003e\n      \u003ctd\u003eZOOM SEWER \u0026amp; DRAIN CLEANING SE\u003c/td\u003e\n      \u003ctd\u003eZOOM SEWER AND DRAIN CLEANING SERVICE INC\u003c/td\u003e\n      \u003ctd\u003e2019-05-01 00:00:00+00:00\u003c/td\u003e\n    \u003c/tr\u003e\n    \u003ctr\u003e\n      \u003cth\u003e2\u003c/th\u003e\n      \u003ctd\u003eZERNCO INC\u003c/td\u003e\n      \u003ctd\u003eZERNCO\u003c/td\u003e\n      \u003ctd\u003e2020-07-01 00:00:00+00:00\u003c/td\u003e\n    \u003c/tr\u003e\n    \u003ctr\u003e\n      \u003cth\u003e3\u003c/th\u003e\n      \u003ctd\u003eZASTROW THE BEER MAN\u003c/td\u003e\n      \u003ctd\u003eZASTROW THE BEER MAN INC\u003c/td\u003e\n      \u003ctd\u003e2021-10-01 00:00:00+00:00\u003c/td\u003e\n    \u003c/tr\u003e\n    \u003ctr\u003e\n      \u003cth\u003e4\u003c/th\u003e\n      \u003ctd\u003eYOUR WAY FUMIGATION INC\u003c/td\u003e\n      \u003ctd\u003eFUMIGATION SERVICE  SUPPLY INC\u003c/td\u003e\n      \u003ctd\u003e2022-02-01 00:00:00+00:00\u003c/td\u003e\n    \u003c/tr\u003e\n  \u003c/tbody\u003e\n\u003c/table\u003e\n\u003c/div\u003e"
          },
          "metadata": {}
        }
      ]
    },
    {
      "execution_count": 19,
      "cell_type": "code",
      "metadata": {},
      "source": [
        "from difflib import SequenceMatcher\nimport Levenshtein\n\nidx \u003d 0\nexception_count \u003d 0\n\n_verified \u003d []\n_verified_match \u003d []\n\n_exception \u003d []\n_exception_match \u003d []\n\nfor index, row in df_1_1.iterrows():\n\n    idx+\u003d1\n    \n    customer \u003d row[\u0027CUSTOMER\u0027]\n    match_customer \u003d row[\u0027MATCH_CUSTOMER\u0027]\n    \n    r \u003d Levenshtein.ratio(customer, match_customer)\n    if r\u003c0.8:\n        _exception.append(customer)\n        _exception_match.append(match_customer)\n    else:\n        _verified.append(customer)\n        _verified_match.append(match_customer)"
      ],
      "outputs": []
    },
    {
      "execution_count": 20,
      "cell_type": "code",
      "metadata": {},
      "source": [
        "for i in range(0, len(_verified)):\n    \n    print(_verified[i], _verified_match[i])"
      ],
      "outputs": [
        {
          "output_type": "stream",
          "text": "0\n1\n2\n3\n4\n5\n6\n7\n8\n9\n10\n11\n12\n13\n14\n15\n16\n17\n18\n19\n20\n21\n22\n23\n24\n25\n26\n27\n28\n29\n30\n31\n32\n33\n34\n35\n36\n37\n38\n39\n40\n41\n42\n43\n44\n45\n46\n47\n48\n49\n50\n51\n52\n53\n54\n55\n56\n57\n58\n59\n60\n61\n62\n63\n64\n65\n66\n67\n68\n69\n70\n71\n72\n73\n74\n75\n76\n77\n78\n79\n80\n81\n82\n83\n84\n85\n86\n87\n88\n89\n90\n91\n92\n93\n94\n95\n96\n97\n98\n99\n100\n101\n102\n103\n104\n105\n106\n107\n108\n109\n110\n111\n112\n113\n114\n115\n116\n117\n118\n119\n120\n121\n122\n123\n124\n125\n126\n127\n128\n129\n130\n131\n132\n133\n134\n135\n136\n137\n138\n139\n140\n141\n142\n143\n144\n145\n146\n147\n148\n149\n150\n151\n152\n153\n154\n155\n156\n157\n158\n159\n160\n161\n162\n163\n164\n165\n166\n167\n168\n169\n170\n171\n172\n173\n174\n175\n176\n177\n178\n179\n180\n181\n182\n183\n184\n185\n186\n187\n188\n189\n190\n191\n192\n193\n194\n195\n196\n197\n198\n199\n200\n201\n202\n203\n204\n205\n206\n207\n208\n209\n210\n211\n212\n213\n214\n215\n216\n217\n218\n219\n220\n221\n222\n223\n224\n225\n226\n227\n228\n229\n230\n231\n232\n233\n234\n235\n236\n237\n238\n239\n240\n241\n242\n243\n244\n245\n246\n247\n248\n249\n250\n251\n252\n253\n254\n255\n256\n257\n258\n259\n260\n261\n262\n263\n264\n265\n266\n267\n268\n269\n270\n271\n272\n273\n274\n275\n276\n277\n278\n279\n280\n281\n282\n283\n284\n285\n286\n287\n288\n289\n290\n291\n292\n293\n294\n295\n296\n297\n298\n299\n300\n301\n302\n303\n304\n305\n306\n307\n308\n309\n310\n311\n312\n313\n314\n315\n316\n317\n318\n319\n320\n321\n322\n323\n324\n325\n326\n327\n328\n329\n330\n331\n332\n333\n334\n335\n336\n337\n338\n339\n340\n341\n342\n343\n344\n345\n346\n347\n348\n349\n350\n351\n352\n353\n354\n355\n356\n357\n358\n359\n360\n361\n362\n363\n364\n365\n366\n367\n368\n369\n370\n371\n372\n373\n374\n375\n376\n377\n378\n379\n380\n381\n382\n383\n384\n385\n386\n387\n388\n389\n390\n391\n392\n393\n394\n395\n396\n397\n398\n399\n400\n401\n402\n403\n404\n405\n406\n407\n408\n409\n410\n411\n412\n413\n414\n415\n416\n417\n418\n419\n420\n421\n422\n423\n424\n425\n426\n427\n428\n429\n430\n431\n432\n433\n434\n435\n436\n437\n438\n439\n440\n441\n442\n443\n444\n445\n446\n447\n448\n449\n450\n451\n452\n453\n454\n455\n456\n457\n458\n459\n460\n461\n462\n463\n464\n465\n466\n467\n468\n469\n470\n471\n472\n473\n474\n475\n476\n477\n478\n479\n480\n481\n482\n483\n484\n485\n486\n487\n488\n489\n490\n491\n492\n493\n494\n495\n496\n497\n498\n499\n500\n501\n502\n503\n504\n505\n506\n507\n508\n509\n510\n511\n512\n513\n514\n515\n516\n517\n518\n519\n520\n521\n522\n523\n524\n525\n526\n527\n528\n529\n530\n531\n532\n533\n534\n535\n536\n537\n538\n539\n540\n541\n542\n543\n544\n545\n546\n547\n548\n549\n550\n551\n552\n553\n554\n555\n556\n557\n558\n559\n560\n561\n562\n563\n564\n565\n566\n567\n568\n569\n570\n571\n572\n573\n574\n575\n576\n577\n578\n579\n580\n581\n582\n583\n584\n585\n586\n587\n588\n589\n590\n591\n592\n593\n594\n595\n596\n597\n598\n599\n600\n601\n602\n603\n604\n605\n606\n607\n608\n609\n610\n611\n612\n613\n614\n615\n616\n617\n618\n619\n620\n621\n622\n623\n624\n625\n626\n627\n628\n629\n630\n631\n632\n633\n634\n635\n636\n637\n638\n639\n640\n641\n642\n643\n644\n645\n646\n647\n648\n649\n650\n651\n652\n653\n654\n655\n656\n657\n658\n659\n660\n661\n662\n663\n664\n665\n666\n667\n668\n669\n670\n671\n672\n673\n674\n675\n676\n677\n678\n679\n",
          "name": "stdout"
        }
      ]
    },
    {
      "execution_count": 0,
      "cell_type": "code",
      "metadata": {},
      "source": [
        "# Compute recipe outputs\n# TODO: Write here your actual code that computes the outputs\n# NB: DSS supports several kinds of APIs for reading and writing data. Please see doc.\n\n#MATCHES_VERIFIED_df \u003d ... # Compute a Pandas dataframe to write into MATCHES_VERIFIED\n\n\n# Write recipe outputs\n#MATCHES_VERIFIED \u003d dataiku.Dataset(\"MATCHES_VERIFIED\")\n#MATCHES_VERIFIED.write_with_schema(MATCHES_VERIFIED_df)"
      ],
      "outputs": []
    }
  ]
}