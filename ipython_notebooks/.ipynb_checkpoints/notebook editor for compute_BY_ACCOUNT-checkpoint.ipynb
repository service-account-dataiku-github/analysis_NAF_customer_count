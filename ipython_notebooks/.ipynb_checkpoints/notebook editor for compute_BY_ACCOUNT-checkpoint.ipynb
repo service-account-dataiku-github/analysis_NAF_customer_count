{
  "metadata": {
    "kernelspec": {
      "name": "py-dku-venv-env_clc",
      "display_name": "Python (env env_clc)",
      "language": "python"
    },
    "associatedRecipe": "compute_BY_ACCOUNT",
    "dkuGit": {
      "lastInteraction": 0
    },
    "creationTag": {
      "versionNumber": 0,
      "lastModifiedBy": {
        "login": "Daniel.Vandermeer"
      },
      "lastModifiedOn": 1665663560788
    },
    "creator": "Daniel.Vandermeer",
    "createdOn": 1665663560788,
    "tags": [
      "recipe-editor"
    ],
    "customFields": {},
    "hide_input": false,
    "language_info": {
      "name": "python",
      "version": "3.6.8",
      "mimetype": "text/x-python",
      "codemirror_mode": {
        "name": "ipython",
        "version": 3
      },
      "pygments_lexer": "ipython3",
      "nbconvert_exporter": "python",
      "file_extension": ".py"
    },
    "modifiedBy": "Daniel.Vandermeer"
  },
  "nbformat": 4,
  "nbformat_minor": 1,
  "cells": [
    {
      "execution_count": 17,
      "cell_type": "code",
      "metadata": {},
      "source": [
        "# -*- coding: utf-8 -*-\nimport dataiku\nimport pandas as pd, numpy as np\nfrom dataiku import pandasutils as pdu\n\n# Read recipe inputs\nACCOUNTS_WITH_CUSTOMER_FROM_EDW_AND_DUNS \u003d dataiku.Dataset(\"ACCOUNTS_WITH_CUSTOMER_FROM_EDW_AND_DUNS\")\nACCOUNTS_WITH_CUSTOMER_FROM_EDW_AND_DUNS_df \u003d ACCOUNTS_WITH_CUSTOMER_FROM_EDW_AND_DUNS.get_dataframe()\n\nCALCULATED_DRAW_UPS \u003d dataiku.Dataset(\"CALCULATED_DRAW_UPS\")\nCALCULATED_DRAW_UPS_df \u003d CALCULATED_DRAW_UPS.get_dataframe()\n\nCALCULATED_DRAW_DOWNS \u003d dataiku.Dataset(\"CALCULATED_DRAW_DOWNS\")\nCALCULATED_DRAW_DOWNS_df \u003d CALCULATED_DRAW_DOWNS.get_dataframe()"
      ],
      "outputs": [
        {
          "output_type": "stream",
          "text": "/data/dataiku/dss_data/code-envs/python/env_clc/lib/python3.6/site-packages/IPython/core/interactiveshell.py:3263: DtypeWarning: Columns (6,8,10,12,14) have mixed types.Specify dtype option on import or set low_memory\u003dFalse.\n  if (await self.run_code(code, result,  async_\u003dasy)):\n",
          "name": "stderr"
        }
      ]
    },
    {
      "execution_count": 0,
      "cell_type": "code",
      "metadata": {},
      "source": [
        "CALCULATED_DRAW_UPS_df.head()"
      ],
      "outputs": []
    },
    {
      "execution_count": 18,
      "cell_type": "code",
      "metadata": {},
      "source": [
        "df_a \u003d ACCOUNTS_WITH_CUSTOMER_FROM_EDW_AND_DUNS_df[[\u0027CUSTOMER_ACCOUNT_ID\u0027,\u0027CUSTOMER\u0027]]\nprint(len(df_a), \"total accounts\")\n\nprint()\n\nprint(len(CALCULATED_DRAW_UPS_df), \"with draw ups\")\ndf_down \u003d pd.merge(df_a, CALCULATED_DRAW_UPS_df, on\u003d\u0027CUSTOMER_ACCOUNT_ID\u0027, how\u003d\u0027inner\u0027)\nprint(len(df_down), \"accounts joined with draw ups\")\n\nprint()\n\nprint(len(CALCULATED_DRAW_DOWNS_df), \"with draw downs\")\ndf_up \u003d pd.merge(df_a, CALCULATED_DRAW_DOWNS_df, on\u003d\u0027CUSTOMER_ACCOUNT_ID\u0027, how\u003d\u0027inner\u0027)\nprint(len(df_up), \"accounts joined with draw downs\")"
      ],
      "outputs": [
        {
          "output_type": "stream",
          "text": "844417 total accounts\n\n372 with draw ups\n372 accounts joined with draw ups\n\n259 with draw downs\n259 accounts joined with draw downs\n",
          "name": "stdout"
        }
      ]
    },
    {
      "execution_count": 28,
      "cell_type": "code",
      "metadata": {},
      "source": [
        "unique_customer_names \u003d df_down[\u0027CUSTOMER\u0027].unique()\nfull_set_n \u003d len(unique_customer_names)\n\nlist_customers_ \u003d []\nlist_potential_matches_ \u003d []\n\nidx \u003d 0\nfor n in unique_customer_names:\n    idx+\u003d1\n    \n    df_f \u003d df_up[df_up[\u0027CUSTOMER\u0027].str.startswith(n, na\u003dFalse)]\n    break;\n    match_list \u003d df_f[\u0027CUSTOMER\u0027].unique()\n    if len(match_list)\u003e0:\n        list_customers_.append(n)\n        list_potential_matches_.append(match_list)\n        \n        print(idx, \"iterations\", len(list_customers_), \"with potential matches\", full_set_n-idx, \"remaining\", round((idx/full_set_n)*100,2), \"% complete\")\n    \nprint(\"done comparing drop downs\")\nprint(len(list_customers_), \"found\")"
      ],
      "outputs": [
        {
          "output_type": "stream",
          "text": "done comparing drop downs\n0 found\n",
          "name": "stdout"
        }
      ]
    },
    {
      "execution_count": 36,
      "cell_type": "code",
      "metadata": {},
      "source": [
        "df_up[df_up[\u0027CUSTOMER\u0027].str.startswith(n, na\u003dFalse)\u0026df_up[\u0027CUSTOMER\u0027]!\u003dn]"
      ],
      "outputs": [
        {
          "output_type": "stream",
          "text": "/data/dataiku/dss_data/code-envs/python/env_clc/lib64/python3.6/site-packages/pandas/core/ops/array_ops.py:253: FutureWarning: elementwise comparison failed; returning scalar instead, but in the future will perform elementwise comparison\n  res_values \u003d method(rvalues)\n",
          "name": "stderr"
        },
        {
          "output_type": "execute_result",
          "execution_count": 36,
          "data": {
            "text/plain": "     CUSTOMER_ACCOUNT_ID                CUSTOMER            DRAW_DOWN_DATE   DROP_QTY       MEAN_DD       STD_DD\n0           469004662730    JM SMITH CORPORATION 2021-03-01 00:00:00+00:00    173.449    109.530167    75.129974\n1           469005701701       SAGE THERAPEUTICS 2020-03-01 00:00:00+00:00   7482.041  18225.030273  2402.318316\n2           469005701594       RITCHIE BROS. USA 2021-03-01 00:00:00+00:00  24067.088  38868.298167  5187.516110\n3           469005701917  GLENN SPRINGS HOLDINGS 2021-09-01 00:00:00+00:00    340.254    572.927750    67.691699\n4           469004733739         SIEMENS MEDICAL 2022-03-01 00:00:00+00:00     71.990     38.638167    21.003482\n..                   ...                     ...                       ...        ...           ...          ...\n254         469008041725       MARATHON (WHEELS) 2021-08-01 00:00:00+00:00   7750.013  13566.571500  1383.452596\n255         469006834022    NATIONWIDE COMPANIES 2019-02-01 00:00:00+00:00     44.520           NaN          NaN\n256         469005125935         SIEMENS MEDICAL 2019-02-01 00:00:00+00:00     19.766           NaN          NaN\n257         469005701537       CANON MEDICAL USA 2021-02-01 00:00:00+00:00  20961.497  44325.284833  6836.750259\n258         469008092207   SENSIENT TECHNOLOGIES 2021-10-01 00:00:00+00:00   8552.541   7541.304000  3619.872116\n\n[259 rows x 6 columns]",
            "text/html": "\u003cdiv\u003e\n\u003cstyle scoped\u003e\n    .dataframe tbody tr th:only-of-type {\n        vertical-align: middle;\n    }\n\n    .dataframe tbody tr th {\n        vertical-align: top;\n    }\n\n    .dataframe thead th {\n        text-align: right;\n    }\n\u003c/style\u003e\n\u003ctable border\u003d\"1\" class\u003d\"dataframe\"\u003e\n  \u003cthead\u003e\n    \u003ctr style\u003d\"text-align: right;\"\u003e\n      \u003cth\u003e\u003c/th\u003e\n      \u003cth\u003eCUSTOMER_ACCOUNT_ID\u003c/th\u003e\n      \u003cth\u003eCUSTOMER\u003c/th\u003e\n      \u003cth\u003eDRAW_DOWN_DATE\u003c/th\u003e\n      \u003cth\u003eDROP_QTY\u003c/th\u003e\n      \u003cth\u003eMEAN_DD\u003c/th\u003e\n      \u003cth\u003eSTD_DD\u003c/th\u003e\n    \u003c/tr\u003e\n  \u003c/thead\u003e\n  \u003ctbody\u003e\n    \u003ctr\u003e\n      \u003cth\u003e0\u003c/th\u003e\n      \u003ctd\u003e469004662730\u003c/td\u003e\n      \u003ctd\u003eJM SMITH CORPORATION\u003c/td\u003e\n      \u003ctd\u003e2021-03-01 00:00:00+00:00\u003c/td\u003e\n      \u003ctd\u003e173.449\u003c/td\u003e\n      \u003ctd\u003e109.530167\u003c/td\u003e\n      \u003ctd\u003e75.129974\u003c/td\u003e\n    \u003c/tr\u003e\n    \u003ctr\u003e\n      \u003cth\u003e1\u003c/th\u003e\n      \u003ctd\u003e469005701701\u003c/td\u003e\n      \u003ctd\u003eSAGE THERAPEUTICS\u003c/td\u003e\n      \u003ctd\u003e2020-03-01 00:00:00+00:00\u003c/td\u003e\n      \u003ctd\u003e7482.041\u003c/td\u003e\n      \u003ctd\u003e18225.030273\u003c/td\u003e\n      \u003ctd\u003e2402.318316\u003c/td\u003e\n    \u003c/tr\u003e\n    \u003ctr\u003e\n      \u003cth\u003e2\u003c/th\u003e\n      \u003ctd\u003e469005701594\u003c/td\u003e\n      \u003ctd\u003eRITCHIE BROS. USA\u003c/td\u003e\n      \u003ctd\u003e2021-03-01 00:00:00+00:00\u003c/td\u003e\n      \u003ctd\u003e24067.088\u003c/td\u003e\n      \u003ctd\u003e38868.298167\u003c/td\u003e\n      \u003ctd\u003e5187.516110\u003c/td\u003e\n    \u003c/tr\u003e\n    \u003ctr\u003e\n      \u003cth\u003e3\u003c/th\u003e\n      \u003ctd\u003e469005701917\u003c/td\u003e\n      \u003ctd\u003eGLENN SPRINGS HOLDINGS\u003c/td\u003e\n      \u003ctd\u003e2021-09-01 00:00:00+00:00\u003c/td\u003e\n      \u003ctd\u003e340.254\u003c/td\u003e\n      \u003ctd\u003e572.927750\u003c/td\u003e\n      \u003ctd\u003e67.691699\u003c/td\u003e\n    \u003c/tr\u003e\n    \u003ctr\u003e\n      \u003cth\u003e4\u003c/th\u003e\n      \u003ctd\u003e469004733739\u003c/td\u003e\n      \u003ctd\u003eSIEMENS MEDICAL\u003c/td\u003e\n      \u003ctd\u003e2022-03-01 00:00:00+00:00\u003c/td\u003e\n      \u003ctd\u003e71.990\u003c/td\u003e\n      \u003ctd\u003e38.638167\u003c/td\u003e\n      \u003ctd\u003e21.003482\u003c/td\u003e\n    \u003c/tr\u003e\n    \u003ctr\u003e\n      \u003cth\u003e...\u003c/th\u003e\n      \u003ctd\u003e...\u003c/td\u003e\n      \u003ctd\u003e...\u003c/td\u003e\n      \u003ctd\u003e...\u003c/td\u003e\n      \u003ctd\u003e...\u003c/td\u003e\n      \u003ctd\u003e...\u003c/td\u003e\n      \u003ctd\u003e...\u003c/td\u003e\n    \u003c/tr\u003e\n    \u003ctr\u003e\n      \u003cth\u003e254\u003c/th\u003e\n      \u003ctd\u003e469008041725\u003c/td\u003e\n      \u003ctd\u003eMARATHON (WHEELS)\u003c/td\u003e\n      \u003ctd\u003e2021-08-01 00:00:00+00:00\u003c/td\u003e\n      \u003ctd\u003e7750.013\u003c/td\u003e\n      \u003ctd\u003e13566.571500\u003c/td\u003e\n      \u003ctd\u003e1383.452596\u003c/td\u003e\n    \u003c/tr\u003e\n    \u003ctr\u003e\n      \u003cth\u003e255\u003c/th\u003e\n      \u003ctd\u003e469006834022\u003c/td\u003e\n      \u003ctd\u003eNATIONWIDE COMPANIES\u003c/td\u003e\n      \u003ctd\u003e2019-02-01 00:00:00+00:00\u003c/td\u003e\n      \u003ctd\u003e44.520\u003c/td\u003e\n      \u003ctd\u003eNaN\u003c/td\u003e\n      \u003ctd\u003eNaN\u003c/td\u003e\n    \u003c/tr\u003e\n    \u003ctr\u003e\n      \u003cth\u003e256\u003c/th\u003e\n      \u003ctd\u003e469005125935\u003c/td\u003e\n      \u003ctd\u003eSIEMENS MEDICAL\u003c/td\u003e\n      \u003ctd\u003e2019-02-01 00:00:00+00:00\u003c/td\u003e\n      \u003ctd\u003e19.766\u003c/td\u003e\n      \u003ctd\u003eNaN\u003c/td\u003e\n      \u003ctd\u003eNaN\u003c/td\u003e\n    \u003c/tr\u003e\n    \u003ctr\u003e\n      \u003cth\u003e257\u003c/th\u003e\n      \u003ctd\u003e469005701537\u003c/td\u003e\n      \u003ctd\u003eCANON MEDICAL USA\u003c/td\u003e\n      \u003ctd\u003e2021-02-01 00:00:00+00:00\u003c/td\u003e\n      \u003ctd\u003e20961.497\u003c/td\u003e\n      \u003ctd\u003e44325.284833\u003c/td\u003e\n      \u003ctd\u003e6836.750259\u003c/td\u003e\n    \u003c/tr\u003e\n    \u003ctr\u003e\n      \u003cth\u003e258\u003c/th\u003e\n      \u003ctd\u003e469008092207\u003c/td\u003e\n      \u003ctd\u003eSENSIENT TECHNOLOGIES\u003c/td\u003e\n      \u003ctd\u003e2021-10-01 00:00:00+00:00\u003c/td\u003e\n      \u003ctd\u003e8552.541\u003c/td\u003e\n      \u003ctd\u003e7541.304000\u003c/td\u003e\n      \u003ctd\u003e3619.872116\u003c/td\u003e\n    \u003c/tr\u003e\n  \u003c/tbody\u003e\n\u003c/table\u003e\n\u003cp\u003e259 rows × 6 columns\u003c/p\u003e\n\u003c/div\u003e"
          },
          "metadata": {}
        }
      ]
    },
    {
      "execution_count": 27,
      "cell_type": "code",
      "metadata": {},
      "source": [
        "list_customers_[0], list_potential_matches_[0]"
      ],
      "outputs": [
        {
          "output_type": "execute_result",
          "execution_count": 27,
          "data": {
            "text/plain": "(\u0027MARSDEN14\u0027,\n array([\u0027JM SMITH CORPORATION\u0027, \u0027SAGE THERAPEUTICS\u0027, \u0027RITCHIE BROS. USA\u0027,\n        \u0027GLENN SPRINGS HOLDINGS\u0027, \u0027SIEMENS MEDICAL\u0027,\n        \u0027TRANS MOUNTAIN (3TMP)\u0027, \u0027KINDER MORGAN\u0027,\n        \u0027LINDE NORTH AMERICA (3LN2)\u0027, \u0027MARS INC. (M51)\u0027,\n        \u00273US6 (EQUIPMENT)\u0027, \u0027BAYER\u0027, \u0027GOOGLE FIBER INC (ITC)\u0027,\n        \u0027JOHNSONVILLE SAUSAGE\u0027, \u0027WATT STOPPER, INC.\u0027,\n        \u0027CONSTELLATION BRANDS (3CRW)\u0027, \u0027RAYTHEON COMPANY (0469)\u0027,\n        \u0027CHECKPOINT SYSTEMS\u0027, \u0027IRONWOOD PHARMA (IRW)\u0027,\n        \u0027GIVAUDAN FLAVORS (GV3-5)\u0027, \u0027SELECTIVE INSURANCE CO\u0027, \u00273LUM\u0027,\n        \u0027SECURITAS SECURITY SRVCS(3SCR)\u0027, \u0027HENKEL CORPORATION (0469)\u0027,\n        \u0027SYNEOS HEALTH\u0027, \u0027BOEHRINGER-INGELHEIM\u0027, \u0027GENERAL MILLS\u0027,\n        \u0027BAXTER HEALTHCARE\u0027, \u0027MERCK\u0027, \u0027IMMUNOMEDICS (3IMU)\u0027,\n        \u0027SECURITAS USA\u0027, \u0027KEMPER\u0027, \u0027MCKESSON CORPORATION (3MCT)\u0027,\n        \u0027WATERS TECHNOLOGIES\u0027, \u0027IGT GLOBAL\u0027, \u0027SIBELCO\u0027, \u0027BAXALTA US INC\u0027,\n        \u0027ASCENSIA DIABETES CARE\u0027, \u0027WHEELS INC (60016)\u0027, \u0027J R SIMPLOT\u0027,\n        \u0027EISAI INC\u0027, \u0027BALFOUR PB\u0027, \u0027LEGRAND (5LAV)\u0027, \u0027USG CORPORATION\u0027,\n        \u0027JC EHRLICH\u0027, \u0027RAYTHEON COMPANY (0469)(3)\u0027,\n        \u0027CENTURION PIPELINE (3CEP)\u0027, \u0027BECTON DICKINSON (BDC)\u0027, \u0027VITAQUEST\u0027,\n        \u0027AMERICAN HOMES 4 RENT\u0027, \u0027REEDY INDUSTRIES INC.\u0027, \u0027CIGNA\u0027,\n        \u0027NOVAMEX\u0027, \u0027WHEELS MOBILE ASSISTANT\u0027, \u0027LAMB WESTON SALES\u0027,\n        \u0027GENENTECH\u0027, \u0027BALFOUR RAIL\u0027, \u0027SYNGENTA\u0027, \u0027JOHNSON JOHNSON\u0027,\n        \u0027CIGNA (WHEELS)(2)\u0027, \u0027FARM CREDIT SERVICES ACCOUNT\u0027,\n        \u0027ENTERPRISE PRODUCTS (0469)\u0027, \u0027COLLEGIUM\u0027, \u0027CLARIANT PLASTICS\u0027,\n        \u0027AXALTAUS\u0027, \u0027WORLEY (0469)(2)\u0027,\n        \u0027LABORATORY CORPORATION OF AMERICA\u0027,\n        \u0027DIVERSIFIED APPLICAITONS, INC.\u0027, \u0027PARSONS CORPORATION (0469)\u0027,\n        \u0027SYBRON DENTAL SPECIALTIES (69)\u0027, \u0027MARK WEST (3MWE)\u0027,\n        \u0027DAIICHI SANKYO, INC.\u0027, \u0027FARMERS MUTUAL HAIL INSURANCE\u0027,\n        \u0027HIGHWAY EQUIPMENT\u0027, \u0027CONSTELLATION BRANDS (3CBL)\u0027,\n        \u0027GATEFRONT LLC\u0027, \u0027TIMCO\u0027, \u0027SL DIST (3SNL)\u0027, \u0027VESUVIUS\u0027,\n        \u0027PRIMETALS TECHNOLOGIES USA\u0027, \u0027ICU MEDICAL FLEET SERVICES INC\u0027,\n        \u0027ASTELLAS PHARMA\u0027, \u0027NATIONWIDE COMPANIES\u0027,\n        \u0027GENERAL PARTS INTL (NCS)\u0027, \u0027GILEAD SCIENCES INC\u0027, \u0027WHEELS 996\u0027,\n        \u0027COVESTRO\u0027, \u0027XYLEM ANALYTICS FUEL\u0027, \u0027RAIN BIRD CORP\u0027,\n        \u0027DYSON (3DYS)\u0027, \u0027THIBAUT ACQUISITION CO\u0027, \u0027SECURITAS ELECTRONICS\u0027,\n        \u0027SERVIER PHARMACEUTICALS (3SRV)\u0027, \u0027MIDDLE ATLANTIC\u0027,\n        \u0027GB BIOSCIENCES\u0027, \u0027HOLLAND LP\u0027, \u0027JAZZ PHARMA (3JAZ)\u0027, \u0027BP (NAG)\u0027,\n        \u0027OXY USA INC.\u0027, \u0027ARCHROMA U.S. INC.\u0027, \u0027LUNDBECK\u0027, \u0027SENTRY\u0027,\n        \u0027CURTISS-WRIGHT (5CWC)\u0027, \u0027CINTAS CORPORATION\u0027, \u0027ATLAS COPCO\u0027,\n        \u0027HITACHI HEALTHCARE\u0027, \u0027WESTFARM FOODS 0469\u0027, \u0027RAYTHEON\u0027, \u0027ADP\u0027,\n        \u0027GIVAUDAN FRAGRANCES (GV2-5)\u0027, \u0027ESTEE LAUDER (WHEELS)\u0027,\n        \u0027MACLEAN-FOGG (3MF1)\u0027, \u0027ALENT\u0027, \u0027M.A. MORTENSON\u0027,\n        \u0027NORTHSTAR LOTTERY GROUP LLC\u0027, \u0027LEHIGH HANSON INC\u0027,\n        \u0027ACORDA THERAPEUTICS\u0027, \u0027NEXAIR / 3NXA\u0027,\n        \u0027JONES LANG LASALLE (0469)\u0027, \u0027FCS AMERICA (3FCS)\u0027,\n        \u0027THE TIMKEN COMPANY\u0027, \u0027MARSDEN HOLDING, LLC (80)\u0027,\n        \u0027OSMOTICA HOLDINGS US LLC\u0027, \u0027ERIE INSURANCE (3ERE)\u0027, \u0027MERIAL INC\u0027,\n        \u0027VOLVO CE\u0027, \u0027CARL ZEISS MEDITEC\u0027, \u0027REGIONAL RAIL PARTNERS\u0027,\n        \u0027MARATHON PETROLEUM\u0027, \u0027BALFOUR BEATTY 3BSE\u0027, \u0027HARMON INC (WHLS)\u0027,\n        \u0027MILESTONE AV TECHNOLOGIES\u0027, \u0027HARRIS CORP.\u0027,\n        \u0027MURPHY OIL CORPORATION\u0027, \u0027BRISTOL (B93)\u0027,\n        \u0027OCCIDENTAL CHEMICAL CORP (69)\u0027, \u0027ASHFIELD HEALTHCARE LLC\u0027, \u0027LSSI\u0027,\n        \u0027DBT AMERICA\u0027, \u0027GENERAL PARTS INTL (SSI)\u0027, \u0027HARMONY BIOSCIENCES\u0027,\n        \u0027JM SMITH CORP (5JMP)\u0027, \u0027UNIMIN\u0027, \u0027U C B INC\u0027,\n        \u0027GENERAL PARTS INTL (TCI)\u0027, \u0027J.M. HUBER CORP.\u0027,\n        \u0027DART CONTAINER CORP (3DRT)\u0027, \u0027TOTAL NEW ENERGIES\u0027,\n        \u0027GENERAL PARTS INTL (AWG)\u0027, \u0027ERAMET MARIETTA\u0027, \u0027BALFOUR EQUIP\u0027,\n        \u0027SUN CHEMICAL (WHEELS)\u0027, \u0027TEVA WHEELS\u0027, \u0027ENJOY TECHNOLOGY\u0027,\n        \u0027ARCADIS US\u0027, \u0027SHALE-INLAND\u0027, \u0027RPM INC (5RPX)\u0027,\n        \u0027TERADATA OPERATIONS\u0027, \u0027GOOGLE FIBER\u0027, \u0027SIMPLOT RDO LLC\u0027,\n        \u0027BECTON DICKINSON (BDB)\u0027, \u0027LUMILEDS (3LED)\u0027,\n        \u0027ROBERT HALF CORPORATION (3RHF)\u0027, \u0027BAYER (3M33)\u0027,\n        \u0027PHILIPS ELECTRONICS NA\u0027, \u0027JONES-HAMILTON CO.\u0027, \u0027PURDUE PHARMA\u0027,\n        \u0027RPM, INC\u0027, \u0027UNIVAR USA INC (UNI)(2)\u0027, \u0027COUNTRY FINANCIAL (CCS)\u0027,\n        \u0027CUMMINS ALLISON CORP\u0027, \u0027CEVA ANIMAL HEALTH, LLC\u0027,\n        \u0027VOORTMAN COOKIES\u0027, \u0027SCHINDLER ELEVATOR\u0027, \u0027BANKOFAMERICA\u0027,\n        \u0027MILLENNIUM PHARMA\u0027, \u0027WHEELS MOBILE ASSIST (3WMA)\u0027, \u0027CELGENE\u0027,\n        \u0027COOPER TIRE \u0026 RUBBER\u0027, \u0027NOVO NORDISK INC\u0027, \u0027TRANSTAR\u0027,\n        \u0027THIBAUT ACQUISITION\u0027, \u0027DART CONTAINER CORP (3DC2)\u0027,\n        \u0027HOSPIRA WORLDWIDE\u0027, \u0027CURTIS CIRCULATION (0469)\u0027,\n        \u0027HUSSMANN CORPORATION\u0027, \u0027PEER BEARING\u0027, \u0027SKF USA INC\u0027,\n        \u0027HARTUNG BROTHERS\u0027, \u0027BECTON DICKINSON (3BRD)\u0027, \u0027CVS - 3CVS\u0027,\n        \u0027PB (HSE)\u0027, \u0027VARIAN MEDICAL (V08)\u0027, \u0027BALFOUR RENO\u0027,\n        \u0027LITTON MARINE\u0027, \u0027INTERCEPT PHARMACEUTICALS INC\u0027,\n        \u0027OSMOTICA PHARMACEUTICAL\u0027, \u0027LAERDAL MEDICAL\u0027, \u0027EISAI  INC\u0027,\n        \u0027GEICO (0469)(2)\u0027, \u0027NB COATINGS INC.\u0027, \u0027HAYWARD INDUSTRIES (WHLS)\u0027,\n        \u0027CLARIANT CORPORATION\u0027, \u0027ALKERMES (3ALK)\u0027, \u0027CLARINS USA INC 5CLR\u0027,\n        \u0027YUM  INC.\u0027, \u0027LOUIS BERGER SERVICES INC\u0027, \u0027SHIRE US INC\u0027,\n        \u0027ADF PIZZA MANAGEMENT\u0027, \u0027SIEMENS ENERGY (3SWG)\u0027,\n        \u0027OCCIDENTAL OIL \u0026 GAS\u0027, \u0027DARDEN RESTAURANTS (3DAR)\u0027,\n        \u0027GORDON FOOD SERVICE (0469)\u0027, \u0027HEALTHPOINT\u0027, \u0027CDK GLOBAL (DSG)\u0027,\n        \u0027MCKESSON CORPORATION (3MCK)\u0027, \u0027XYLEM/3XLM\u0027, \u0027AMGEN USA INC\u0027,\n        \u0027BECTON DICKINSON (BDC)(2)\u0027, \u0027SYMRISE\u0027, \u0027GEICO (0469)\u0027,\n        \u0027MARS INC.\u0027, \u0027MARATHON (WHEELS)\u0027, \u0027CANON MEDICAL USA\u0027,\n        \u0027SENSIENT TECHNOLOGIES\u0027], dtype\u003dobject))"
          },
          "metadata": {}
        }
      ]
    },
    {
      "execution_count": 0,
      "cell_type": "code",
      "metadata": {},
      "source": [
        "# Compute recipe outputs\n# TODO: Write here your actual code that computes the outputs\n# NB: DSS supports several kinds of APIs for reading and writing data. Please see doc.\n\n#BY_ACCOUNT_df \u003d ... # Compute a Pandas dataframe to write into BY_ACCOUNT\n\n\n# Write recipe outputs\n#BY_ACCOUNT \u003d dataiku.Dataset(\"BY_ACCOUNT\")\n#BY_ACCOUNT.write_with_schema(BY_ACCOUNT_df)"
      ],
      "outputs": []
    }
  ]
}