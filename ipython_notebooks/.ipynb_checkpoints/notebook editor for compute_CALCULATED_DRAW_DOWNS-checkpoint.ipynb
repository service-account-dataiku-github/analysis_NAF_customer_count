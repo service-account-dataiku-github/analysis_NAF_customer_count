{
  "metadata": {
    "kernelspec": {
      "name": "py-dku-venv-env_clc",
      "display_name": "Python (env env_clc)",
      "language": "python"
    },
    "associatedRecipe": "compute_CALCULATED_DRAW_DOWNS",
    "dkuGit": {
      "lastInteraction": 0
    },
    "creationTag": {
      "versionNumber": 0,
      "lastModifiedBy": {
        "login": "Daniel.Vandermeer"
      },
      "lastModifiedOn": 1665593021198
    },
    "creator": "Daniel.Vandermeer",
    "createdOn": 1665593021198,
    "tags": [
      "recipe-editor"
    ],
    "customFields": {},
    "hide_input": false,
    "language_info": {
      "name": "python",
      "version": "3.6.8",
      "mimetype": "text/x-python",
      "codemirror_mode": {
        "name": "ipython",
        "version": 3
      },
      "pygments_lexer": "ipython3",
      "nbconvert_exporter": "python",
      "file_extension": ".py"
    },
    "modifiedBy": "Daniel.Vandermeer"
  },
  "nbformat": 4,
  "nbformat_minor": 1,
  "cells": [
    {
      "execution_count": 1,
      "cell_type": "code",
      "metadata": {},
      "source": [
        "# -*- coding: utf-8 -*-\nimport dataiku\nimport pandas as pd, numpy as np\nfrom dataiku import pandasutils as pdu\n\nimport pickle\nfrom dateutil.relativedelta import relativedelta\nimport gc\nfrom re import finditer\n\n## Find DD DU\nfrom helper import preprocess_data\nfrom patterns import find_drawdowns, find_drawups\n\n## MATCHING\nimport name_matching\nfrom name_matching import name_match\nimport transaction_matching\nfrom transaction_matching import transaction_match\n\n## CONSOLIDATION\nfrom consolidation import combine_matches, consolidate_matches, find_attritions, find_new_accounts, get_attrition_status, get_new_account_status"
      ],
      "outputs": []
    },
    {
      "execution_count": 2,
      "cell_type": "code",
      "metadata": {},
      "source": [
        "start_date \u003d dataiku.get_custom_variables()[\u0027start_date\u0027]\nend_date \u003d dataiku.get_custom_variables()[\u0027end_date\u0027]\n\nconsistency \u003d int(dataiku.get_custom_variables()[\u0027consistency\u0027])\ndrawdown_period_average \u003d int(dataiku.get_custom_variables()[\u0027drawdown_period_average\u0027])\ndrawdown \u003d int(dataiku.get_custom_variables()[\u0027drawdown\u0027])\ndrawdown_fwd_check \u003d int(dataiku.get_custom_variables()[\u0027drawdown_fwd_check\u0027])\ndrawdown_lookback_period \u003d int(dataiku.get_custom_variables()[\u0027drawdown_lookback_period\u0027])\ndrawup_lookfwd_period \u003d int(dataiku.get_custom_variables()[\u0027drawup_lookfwd_period\u0027])\nstatistics_period \u003d int(dataiku.get_custom_variables()[\u0027statistics_period\u0027])\ninactive_period \u003d int(dataiku.get_custom_variables()[\u0027inactive_period\u0027])\n\n## MATCHING VARIABLES\nmonth_diff_h \u003d int(dataiku.get_custom_variables()[\u0027month_diff_h\u0027])\nmonth_diff_l \u003d int(dataiku.get_custom_variables()[\u0027month_diff_l\u0027])\nsd_mul \u003d int(dataiku.get_custom_variables()[\u0027sd_mul\u0027])\nmax_city_distance \u003d int(dataiku.get_custom_variables()[\u0027max_city_distance\u0027])\nthreshold_score_step1 \u003d int(dataiku.get_custom_variables()[\u0027threshold_score_step1\u0027])\nthreshold_score_step2 \u003d int(dataiku.get_custom_variables()[\u0027threshold_score_step2\u0027])\n\n## RUN TYPE\nrun \u003d dataiku.get_custom_variables()[\u0027run_type\u0027]"
      ],
      "outputs": []
    },
    {
      "execution_count": 3,
      "cell_type": "code",
      "metadata": {},
      "source": [
        "def date_tz_naive(pd_s):\n    return pd.to_datetime(pd_s).apply(lambda x:x.tz_localize(None))"
      ],
      "outputs": []
    },
    {
      "execution_count": 4,
      "cell_type": "code",
      "metadata": {},
      "source": [
        "# Read recipe inputs\nNAFCUSTOMER_C360_ACCOUNTS \u003d dataiku.Dataset(\"NAFCUSTOMER_C360_ACCOUNTS\")\nNAFCUSTOMER_C360_ACCOUNTS_df \u003d NAFCUSTOMER_C360_ACCOUNTS.get_dataframe()\nprint(len(NAFCUSTOMER_C360_ACCOUNTS_df))\n\nNAFCUSTOMER_REVENUE_BY_CUSTOMER_LIMITED \u003d dataiku.Dataset(\"NAFCUSTOMER_REVENUE_BY_CUSTOMER_LIMITED\")\nNAFCUSTOMER_REVENUE_BY_CUSTOMER_LIMITED_df \u003d NAFCUSTOMER_REVENUE_BY_CUSTOMER_LIMITED.get_dataframe()\nprint(len(NAFCUSTOMER_REVENUE_BY_CUSTOMER_LIMITED_df))"
      ],
      "outputs": [
        {
          "output_type": "stream",
          "text": "844417\n21434\n",
          "name": "stdout"
        }
      ]
    },
    {
      "execution_count": 5,
      "cell_type": "code",
      "metadata": {},
      "source": [
        "df_v \u003d NAFCUSTOMER_REVENUE_BY_CUSTOMER_LIMITED_df\n\nprint(len(df_v))\ndf_v[\u0027REVENUE_DATE\u0027] \u003d df_v.REVENUE_MONTH.astype(str) + \"/01/\" + df_v.REVENUE_YEAR.astype(str)\ndf_v[\u0027REVENUE_DATE\u0027] \u003d date_tz_naive(df_v[\u0027REVENUE_DATE\u0027])\nprint(len(df_v))\ndf_v.head()"
      ],
      "outputs": [
        {
          "output_type": "stream",
          "text": "21434\n21434\n",
          "name": "stdout"
        },
        {
          "output_type": "execute_result",
          "execution_count": 5,
          "data": {
            "text/plain": "   CUSTOMER_ACCOUNT_ID          CUSTOMER_ACCOUNT_NAME                     CUSTOMER ACCOUNTSTATUS                SETUP_DATE      ACCOUNT_CLOSED_DATE  REVENUE_YEAR  REVENUE_QUARTER  REVENUE_MONTH ACCOUNT_CITY ACCOUNT_STATE CUSTOMER_SOURCE_SYSTEM_CODE CUSTOMER_BUSINESS_PROGRAM_NAME  BI_CUS_PAR  BI_PRODUCT  BI_MRU  REVENUE_AMOUNT_USD  GROSS_SPEND_AMOUNT  PURCHASE_GALLONS_QTY  ACTIVE_CARD_COUNT REVENUE_DATE\n0         469007639032          SIEMENS BLDG TECH (2)              SIEMENS MEDICAL        Active 2007-12-07 08:00:00+00:00  9999-12-31 00:00:00.000          2019                1              1  Des Plaines            IL                      TANDEM                     Wheels old       33200       10200    3100          408.592520            18391.35              7602.992              119.0   2019-01-01\n1         469005701255              CALIFORNIA WATERS             CALIFORNIAWATERS        Active 2017-08-24 07:00:00+00:00  9999-12-31 00:00:00.000          2019                1              1  Des Plaines            IL                      TANDEM                     Wheels old       33200       10200    3100         2145.328235           114502.95             32432.799              446.0   2019-01-01\n2         469005701172               HARTUNG BROTHERS             HARTUNG BROTHERS    Terminated 2017-07-03 07:00:00+00:00  2022-07-12 00:00:00.000          2019                1              1  Des Plaines            IL                      TANDEM                     Wheels old       33200       10200    3100          199.400141             2145.55               616.969               11.0   2019-01-01\n3         469005700208    CONSTELLATION BRANDS (3CRW)  CONSTELLATION BRANDS (3CRW)    Terminated 2015-02-18 08:00:00+00:00  2021-03-10 00:00:00.000          2019                1              1  Des Plaines            IL                      TANDEM                     Wheels old       33200       10200    3100         1139.458388            55804.33             21944.178              344.0   2019-01-01\n4         469008059644  BALFOUR BEATTY EQUIPMENT ONLY                BALFOUR EQUIP        Active 2009-08-20 07:00:00+00:00  9999-12-31 00:00:00.000          2019                1              1  Des Plaines            IL                      TANDEM                     Wheels old       33200       10200    3100          701.569042            49047.39             18068.041              110.0   2019-01-01",
            "text/html": "\u003cdiv\u003e\n\u003cstyle scoped\u003e\n    .dataframe tbody tr th:only-of-type {\n        vertical-align: middle;\n    }\n\n    .dataframe tbody tr th {\n        vertical-align: top;\n    }\n\n    .dataframe thead th {\n        text-align: right;\n    }\n\u003c/style\u003e\n\u003ctable border\u003d\"1\" class\u003d\"dataframe\"\u003e\n  \u003cthead\u003e\n    \u003ctr style\u003d\"text-align: right;\"\u003e\n      \u003cth\u003e\u003c/th\u003e\n      \u003cth\u003eCUSTOMER_ACCOUNT_ID\u003c/th\u003e\n      \u003cth\u003eCUSTOMER_ACCOUNT_NAME\u003c/th\u003e\n      \u003cth\u003eCUSTOMER\u003c/th\u003e\n      \u003cth\u003eACCOUNTSTATUS\u003c/th\u003e\n      \u003cth\u003eSETUP_DATE\u003c/th\u003e\n      \u003cth\u003eACCOUNT_CLOSED_DATE\u003c/th\u003e\n      \u003cth\u003eREVENUE_YEAR\u003c/th\u003e\n      \u003cth\u003eREVENUE_QUARTER\u003c/th\u003e\n      \u003cth\u003eREVENUE_MONTH\u003c/th\u003e\n      \u003cth\u003eACCOUNT_CITY\u003c/th\u003e\n      \u003cth\u003eACCOUNT_STATE\u003c/th\u003e\n      \u003cth\u003eCUSTOMER_SOURCE_SYSTEM_CODE\u003c/th\u003e\n      \u003cth\u003eCUSTOMER_BUSINESS_PROGRAM_NAME\u003c/th\u003e\n      \u003cth\u003eBI_CUS_PAR\u003c/th\u003e\n      \u003cth\u003eBI_PRODUCT\u003c/th\u003e\n      \u003cth\u003eBI_MRU\u003c/th\u003e\n      \u003cth\u003eREVENUE_AMOUNT_USD\u003c/th\u003e\n      \u003cth\u003eGROSS_SPEND_AMOUNT\u003c/th\u003e\n      \u003cth\u003ePURCHASE_GALLONS_QTY\u003c/th\u003e\n      \u003cth\u003eACTIVE_CARD_COUNT\u003c/th\u003e\n      \u003cth\u003eREVENUE_DATE\u003c/th\u003e\n    \u003c/tr\u003e\n  \u003c/thead\u003e\n  \u003ctbody\u003e\n    \u003ctr\u003e\n      \u003cth\u003e0\u003c/th\u003e\n      \u003ctd\u003e469007639032\u003c/td\u003e\n      \u003ctd\u003eSIEMENS BLDG TECH (2)\u003c/td\u003e\n      \u003ctd\u003eSIEMENS MEDICAL\u003c/td\u003e\n      \u003ctd\u003eActive\u003c/td\u003e\n      \u003ctd\u003e2007-12-07 08:00:00+00:00\u003c/td\u003e\n      \u003ctd\u003e9999-12-31 00:00:00.000\u003c/td\u003e\n      \u003ctd\u003e2019\u003c/td\u003e\n      \u003ctd\u003e1\u003c/td\u003e\n      \u003ctd\u003e1\u003c/td\u003e\n      \u003ctd\u003eDes Plaines\u003c/td\u003e\n      \u003ctd\u003eIL\u003c/td\u003e\n      \u003ctd\u003eTANDEM\u003c/td\u003e\n      \u003ctd\u003eWheels old\u003c/td\u003e\n      \u003ctd\u003e33200\u003c/td\u003e\n      \u003ctd\u003e10200\u003c/td\u003e\n      \u003ctd\u003e3100\u003c/td\u003e\n      \u003ctd\u003e408.592520\u003c/td\u003e\n      \u003ctd\u003e18391.35\u003c/td\u003e\n      \u003ctd\u003e7602.992\u003c/td\u003e\n      \u003ctd\u003e119.0\u003c/td\u003e\n      \u003ctd\u003e2019-01-01\u003c/td\u003e\n    \u003c/tr\u003e\n    \u003ctr\u003e\n      \u003cth\u003e1\u003c/th\u003e\n      \u003ctd\u003e469005701255\u003c/td\u003e\n      \u003ctd\u003eCALIFORNIA WATERS\u003c/td\u003e\n      \u003ctd\u003eCALIFORNIAWATERS\u003c/td\u003e\n      \u003ctd\u003eActive\u003c/td\u003e\n      \u003ctd\u003e2017-08-24 07:00:00+00:00\u003c/td\u003e\n      \u003ctd\u003e9999-12-31 00:00:00.000\u003c/td\u003e\n      \u003ctd\u003e2019\u003c/td\u003e\n      \u003ctd\u003e1\u003c/td\u003e\n      \u003ctd\u003e1\u003c/td\u003e\n      \u003ctd\u003eDes Plaines\u003c/td\u003e\n      \u003ctd\u003eIL\u003c/td\u003e\n      \u003ctd\u003eTANDEM\u003c/td\u003e\n      \u003ctd\u003eWheels old\u003c/td\u003e\n      \u003ctd\u003e33200\u003c/td\u003e\n      \u003ctd\u003e10200\u003c/td\u003e\n      \u003ctd\u003e3100\u003c/td\u003e\n      \u003ctd\u003e2145.328235\u003c/td\u003e\n      \u003ctd\u003e114502.95\u003c/td\u003e\n      \u003ctd\u003e32432.799\u003c/td\u003e\n      \u003ctd\u003e446.0\u003c/td\u003e\n      \u003ctd\u003e2019-01-01\u003c/td\u003e\n    \u003c/tr\u003e\n    \u003ctr\u003e\n      \u003cth\u003e2\u003c/th\u003e\n      \u003ctd\u003e469005701172\u003c/td\u003e\n      \u003ctd\u003eHARTUNG BROTHERS\u003c/td\u003e\n      \u003ctd\u003eHARTUNG BROTHERS\u003c/td\u003e\n      \u003ctd\u003eTerminated\u003c/td\u003e\n      \u003ctd\u003e2017-07-03 07:00:00+00:00\u003c/td\u003e\n      \u003ctd\u003e2022-07-12 00:00:00.000\u003c/td\u003e\n      \u003ctd\u003e2019\u003c/td\u003e\n      \u003ctd\u003e1\u003c/td\u003e\n      \u003ctd\u003e1\u003c/td\u003e\n      \u003ctd\u003eDes Plaines\u003c/td\u003e\n      \u003ctd\u003eIL\u003c/td\u003e\n      \u003ctd\u003eTANDEM\u003c/td\u003e\n      \u003ctd\u003eWheels old\u003c/td\u003e\n      \u003ctd\u003e33200\u003c/td\u003e\n      \u003ctd\u003e10200\u003c/td\u003e\n      \u003ctd\u003e3100\u003c/td\u003e\n      \u003ctd\u003e199.400141\u003c/td\u003e\n      \u003ctd\u003e2145.55\u003c/td\u003e\n      \u003ctd\u003e616.969\u003c/td\u003e\n      \u003ctd\u003e11.0\u003c/td\u003e\n      \u003ctd\u003e2019-01-01\u003c/td\u003e\n    \u003c/tr\u003e\n    \u003ctr\u003e\n      \u003cth\u003e3\u003c/th\u003e\n      \u003ctd\u003e469005700208\u003c/td\u003e\n      \u003ctd\u003eCONSTELLATION BRANDS (3CRW)\u003c/td\u003e\n      \u003ctd\u003eCONSTELLATION BRANDS (3CRW)\u003c/td\u003e\n      \u003ctd\u003eTerminated\u003c/td\u003e\n      \u003ctd\u003e2015-02-18 08:00:00+00:00\u003c/td\u003e\n      \u003ctd\u003e2021-03-10 00:00:00.000\u003c/td\u003e\n      \u003ctd\u003e2019\u003c/td\u003e\n      \u003ctd\u003e1\u003c/td\u003e\n      \u003ctd\u003e1\u003c/td\u003e\n      \u003ctd\u003eDes Plaines\u003c/td\u003e\n      \u003ctd\u003eIL\u003c/td\u003e\n      \u003ctd\u003eTANDEM\u003c/td\u003e\n      \u003ctd\u003eWheels old\u003c/td\u003e\n      \u003ctd\u003e33200\u003c/td\u003e\n      \u003ctd\u003e10200\u003c/td\u003e\n      \u003ctd\u003e3100\u003c/td\u003e\n      \u003ctd\u003e1139.458388\u003c/td\u003e\n      \u003ctd\u003e55804.33\u003c/td\u003e\n      \u003ctd\u003e21944.178\u003c/td\u003e\n      \u003ctd\u003e344.0\u003c/td\u003e\n      \u003ctd\u003e2019-01-01\u003c/td\u003e\n    \u003c/tr\u003e\n    \u003ctr\u003e\n      \u003cth\u003e4\u003c/th\u003e\n      \u003ctd\u003e469008059644\u003c/td\u003e\n      \u003ctd\u003eBALFOUR BEATTY EQUIPMENT ONLY\u003c/td\u003e\n      \u003ctd\u003eBALFOUR EQUIP\u003c/td\u003e\n      \u003ctd\u003eActive\u003c/td\u003e\n      \u003ctd\u003e2009-08-20 07:00:00+00:00\u003c/td\u003e\n      \u003ctd\u003e9999-12-31 00:00:00.000\u003c/td\u003e\n      \u003ctd\u003e2019\u003c/td\u003e\n      \u003ctd\u003e1\u003c/td\u003e\n      \u003ctd\u003e1\u003c/td\u003e\n      \u003ctd\u003eDes Plaines\u003c/td\u003e\n      \u003ctd\u003eIL\u003c/td\u003e\n      \u003ctd\u003eTANDEM\u003c/td\u003e\n      \u003ctd\u003eWheels old\u003c/td\u003e\n      \u003ctd\u003e33200\u003c/td\u003e\n      \u003ctd\u003e10200\u003c/td\u003e\n      \u003ctd\u003e3100\u003c/td\u003e\n      \u003ctd\u003e701.569042\u003c/td\u003e\n      \u003ctd\u003e49047.39\u003c/td\u003e\n      \u003ctd\u003e18068.041\u003c/td\u003e\n      \u003ctd\u003e110.0\u003c/td\u003e\n      \u003ctd\u003e2019-01-01\u003c/td\u003e\n    \u003c/tr\u003e\n  \u003c/tbody\u003e\n\u003c/table\u003e\n\u003c/div\u003e"
          },
          "metadata": {}
        }
      ]
    },
    {
      "execution_count": 6,
      "cell_type": "code",
      "metadata": {},
      "source": [
        "print(len(df_v))\ndf_v \u003d df_v[df_v[\u0027REVENUE_DATE\u0027].between(pd.to_datetime(start_date), pd.to_datetime(end_date))].copy()\ndf_v \u003d df_v.dropna(subset\u003d[\u0027CUSTOMER_ACCOUNT_ID\u0027])\ndf_v \u003d df_v[df_v[\u0027CUSTOMER_SOURCE_SYSTEM_CODE\u0027].isin([\u0027TANDEM\u0027, \u0027SIEBEL\u0027])]\nprint(len(df_v))"
      ],
      "outputs": [
        {
          "output_type": "stream",
          "text": "21434\n21434\n",
          "name": "stdout"
        }
      ]
    },
    {
      "execution_count": 7,
      "cell_type": "code",
      "metadata": {},
      "source": [
        "df_v[\u0027CUSTOMER_ACCOUNT_ID\u0027] \u003d df_v[\u0027CUSTOMER_ACCOUNT_ID\u0027].astype(\u0027int64\u0027)\ndf_v[\u0027REVENUE_DATE\u0027] \u003d pd.to_datetime(df_v[\u0027REVENUE_DATE\u0027])"
      ],
      "outputs": []
    },
    {
      "execution_count": 8,
      "cell_type": "code",
      "metadata": {},
      "source": [
        "states \u003d list(df_v[\u0027ACCOUNT_STATE\u0027].unique())\nstates_dict \u003d {s:s.upper() for s in states}"
      ],
      "outputs": []
    },
    {
      "execution_count": 9,
      "cell_type": "code",
      "metadata": {},
      "source": [
        "df_v[\u0027ACCOUNT_STATE\u0027] \u003d df_v[\u0027ACCOUNT_STATE\u0027].map(states_dict)"
      ],
      "outputs": []
    },
    {
      "execution_count": 10,
      "cell_type": "code",
      "metadata": {},
      "source": [
        "## remove the unneccesary columns\nremove_cols\u003d[\u0027REVENUE_MONTH\u0027,\u0027REVENUE_YEAR\u0027, \u0027REVENUE_QUARTER\u0027]\ndf_v \u003d df_v.drop([x for x in remove_cols if x in df_v.columns], axis\u003d1)"
      ],
      "outputs": []
    },
    {
      "execution_count": 11,
      "cell_type": "code",
      "metadata": {},
      "source": [
        "df_v.sort_values([\u0027REVENUE_DATE\u0027], inplace\u003dTrue)"
      ],
      "outputs": []
    },
    {
      "execution_count": 12,
      "cell_type": "code",
      "metadata": {},
      "source": [
        "seen_accounts \u003d df_v[df_v[\u0027PURCHASE_GALLONS_QTY\u0027] \u003e 0].groupby([\u0027CUSTOMER_ACCOUNT_ID\u0027], as_index\u003dFalse)[[\u0027REVENUE_DATE\u0027]].first()\nseen_accounts[\u0027FIRST_DATE\u0027] \u003d seen_accounts[\u0027REVENUE_DATE\u0027] - pd.DateOffset(months\u003d1)"
      ],
      "outputs": []
    },
    {
      "execution_count": 13,
      "cell_type": "code",
      "metadata": {},
      "source": [
        "df_v.REVENUE_DATE.value_counts(dropna\u003dFalse)\nprint(len(df_v))"
      ],
      "outputs": [
        {
          "output_type": "stream",
          "text": "21434\n",
          "name": "stdout"
        }
      ]
    },
    {
      "execution_count": 15,
      "cell_type": "code",
      "metadata": {},
      "source": [
        "import pandas as pd\nimport numpy as np\nfrom tqdm import tqdm\nfrom dateutil.relativedelta import relativedelta\nfrom helper import *\n\n#---------------------\n# input vars\ndf \u003d df_v\nperiod_end_date \u003d end_date\nmatch_type \u003d \u0027program_flip\u0027\nperiod_start_date\u003dNone\nsplit\u003dNone\n#------------------------\n\ndrawdown \u003d (100 - drawdown)/100\ndrawdown_fwd_check /\u003d 100\n\ninactive_date_start \u003d pd.to_datetime(period_end_date) + relativedelta(months\u003d-inactive_period)\n\nif match_type \u003d\u003d \u0027conversion\u0027:\n    df \u003d df[df[\u0027CUSTOMER_SOURCE_SYSTEM_CODE\u0027] \u003d\u003d \u0027TANDEM\u0027].copy()\n\ndf \u003d df[df[\u0027REVENUE_DATE\u0027] \u003c\u003d period_end_date].copy()\n\nif period_start_date:\n    period_start_date \u003d pd.to_datetime(period_start_date)\n    df \u003d df[df[\u0027REVENUE_DATE\u0027] \u003e\u003d period_start_date].copy()\n\nall_account_ids \u003d list(df[\u0027CUSTOMER_ACCOUNT_ID\u0027].unique())\n\nif not split:\n    split\u003d1\n\nall_account_ids_n \u003d list(split_list(all_account_ids, split))\n\ndrop_df \u003d pd.DataFrame()\n\nfor sublist in tqdm(all_account_ids_n):\n\n    dd_find \u003d df[df[\u0027CUSTOMER_ACCOUNT_ID\u0027].isin(sublist)].copy()\n\n    ## Find consistent customers\n    consistent_customers_dd \u003d find_consistent_customers(dd_find, consecutive\u003dconsistency)\n    if len(consistent_customers_dd) \u003d\u003d 0:\n        continue\n\n    dd_find \u003d dd_find[dd_find[\u0027CUSTOMER_ACCOUNT_ID\u0027].isin(consistent_customers_dd)].copy()\n\n    ## Add padding, find the n months average and compute drawdown indicator based on the rules\n    print(dd_find.head())\n    break;\n    dd_find \u003d add_padding(dd_find, padding\u003dstatistics_period, last_date\u003dperiod_end_date)\n    \n    \n    #dd_find \u003d find_average(dd_find, n\u003dstatistics_period)"
      ],
      "outputs": [
        {
          "output_type": "stream",
          "text": "  0%|          | 0/1 [00:01\u003c?, ?it/s]\n",
          "name": "stderr"
        },
        {
          "output_type": "error",
          "ename": "KeyError",
          "evalue": "\u0027CUSTOMER_ACCOUNT_ID\u0027",
          "traceback": [
            "\u001b[0;31m---------------------------------------------------------------------------\u001b[0m",
            "\u001b[0;31mKeyError\u001b[0m                                  Traceback (most recent call last)",
            "\u001b[0;32m\u003cipython-input-15-31fda56b645e\u003e\u001b[0m in \u001b[0;36m\u003cmodule\u003e\u001b[0;34m\u001b[0m\n\u001b[1;32m     49\u001b[0m \u001b[0;34m\u001b[0m\u001b[0m\n\u001b[1;32m     50\u001b[0m     \u001b[0;31m## Add padding, find the n months average and compute drawdown indicator based on the rules\u001b[0m\u001b[0;34m\u001b[0m\u001b[0;34m\u001b[0m\u001b[0;34m\u001b[0m\u001b[0m\n\u001b[0;32m---\u003e 51\u001b[0;31m     \u001b[0mdd_find\u001b[0m \u001b[0;34m\u003d\u001b[0m \u001b[0madd_padding\u001b[0m\u001b[0;34m(\u001b[0m\u001b[0mdd_find\u001b[0m\u001b[0;34m,\u001b[0m \u001b[0mpadding\u001b[0m\u001b[0;34m\u003d\u001b[0m\u001b[0mstatistics_period\u001b[0m\u001b[0;34m,\u001b[0m \u001b[0mlast_date\u001b[0m\u001b[0;34m\u003d\u001b[0m\u001b[0mperiod_end_date\u001b[0m\u001b[0;34m)\u001b[0m\u001b[0;34m\u001b[0m\u001b[0;34m\u001b[0m\u001b[0m\n\u001b[0m\u001b[1;32m     52\u001b[0m     \u001b[0mprint\u001b[0m\u001b[0;34m(\u001b[0m\u001b[0mdd_find\u001b[0m\u001b[0;34m.\u001b[0m\u001b[0mhead\u001b[0m\u001b[0;34m(\u001b[0m\u001b[0;34m)\u001b[0m\u001b[0;34m)\u001b[0m\u001b[0;34m\u001b[0m\u001b[0;34m\u001b[0m\u001b[0m\n\u001b[1;32m     53\u001b[0m     \u001b[0;32mbreak\u001b[0m\u001b[0;34m;\u001b[0m\u001b[0;34m\u001b[0m\u001b[0;34m\u001b[0m\u001b[0m\n",
            "\u001b[0;32m/data/dataiku/dss_data/jupyter-run/dku-workdirs/NAFCUSTOMER/notebook_editor_for_compute_CALCULATED_DRAW_DOWNSf58d3ff0-dssuser_Daniel_V9b45ad47/project-python-libs/NAFCUSTOMER/python/helper.py\u001b[0m in \u001b[0;36madd_padding\u001b[0;34m(df, padding, last_date)\u001b[0m\n\u001b[1;32m    104\u001b[0m                   .drop([\u0027CUSTOMER_ACCOUNT_ID\u0027], 1).reset_index())\n\u001b[1;32m    105\u001b[0m     \u001b[0mvol\u001b[0m\u001b[0;34m.\u001b[0m\u001b[0mfillna\u001b[0m\u001b[0;34m(\u001b[0m\u001b[0;36m0\u001b[0m\u001b[0;34m,\u001b[0m \u001b[0minplace\u001b[0m\u001b[0;34m\u003d\u001b[0m\u001b[0;32mTrue\u001b[0m\u001b[0;34m)\u001b[0m\u001b[0;34m\u001b[0m\u001b[0;34m\u001b[0m\u001b[0m\n\u001b[0;32m--\u003e 106\u001b[0;31m     \u001b[0mdf\u001b[0m \u001b[0;34m\u003d\u001b[0m \u001b[0mvol\u001b[0m\u001b[0;34m.\u001b[0m\u001b[0mmerge\u001b[0m\u001b[0;34m(\u001b[0m\u001b[0mprofile\u001b[0m\u001b[0;34m,\u001b[0m \u001b[0mhow\u001b[0m\u001b[0;34m\u003d\u001b[0m\u001b[0;34m\u0027left\u0027\u001b[0m\u001b[0;34m,\u001b[0m \u001b[0mon\u001b[0m \u001b[0;34m\u003d\u001b[0m \u001b[0;34m[\u001b[0m\u001b[0;34m\u0027CUSTOMER_ACCOUNT_ID\u0027\u001b[0m\u001b[0;34m,\u001b[0m \u001b[0;34m\u0027REVENUE_DATE\u0027\u001b[0m\u001b[0;34m]\u001b[0m\u001b[0;34m)\u001b[0m\u001b[0;34m\u001b[0m\u001b[0;34m\u001b[0m\u001b[0m\n\u001b[0m\u001b[1;32m    107\u001b[0m     \u001b[0mdf\u001b[0m\u001b[0;34m.\u001b[0m\u001b[0mfillna\u001b[0m\u001b[0;34m(\u001b[0m\u001b[0mmethod\u001b[0m\u001b[0;34m\u003d\u001b[0m\u001b[0;34m\u0027ffill\u0027\u001b[0m\u001b[0;34m,\u001b[0m \u001b[0minplace\u001b[0m\u001b[0;34m\u003d\u001b[0m\u001b[0;32mTrue\u001b[0m\u001b[0;34m)\u001b[0m\u001b[0;34m\u001b[0m\u001b[0;34m\u001b[0m\u001b[0m\n\u001b[1;32m    108\u001b[0m \u001b[0;34m\u001b[0m\u001b[0m\n",
            "\u001b[0;32m/data/dataiku/dss_data/code-envs/python/env_clc/lib64/python3.6/site-packages/pandas/core/frame.py\u001b[0m in \u001b[0;36mmerge\u001b[0;34m(self, right, how, on, left_on, right_on, left_index, right_index, sort, suffixes, copy, indicator, validate)\u001b[0m\n\u001b[1;32m   7295\u001b[0m             \u001b[0mcopy\u001b[0m\u001b[0;34m\u003d\u001b[0m\u001b[0mcopy\u001b[0m\u001b[0;34m,\u001b[0m\u001b[0;34m\u001b[0m\u001b[0;34m\u001b[0m\u001b[0m\n\u001b[1;32m   7296\u001b[0m             \u001b[0mindicator\u001b[0m\u001b[0;34m\u003d\u001b[0m\u001b[0mindicator\u001b[0m\u001b[0;34m,\u001b[0m\u001b[0;34m\u001b[0m\u001b[0;34m\u001b[0m\u001b[0m\n\u001b[0;32m-\u003e 7297\u001b[0;31m             \u001b[0mvalidate\u001b[0m\u001b[0;34m\u003d\u001b[0m\u001b[0mvalidate\u001b[0m\u001b[0;34m,\u001b[0m\u001b[0;34m\u001b[0m\u001b[0;34m\u001b[0m\u001b[0m\n\u001b[0m\u001b[1;32m   7298\u001b[0m         )\n\u001b[1;32m   7299\u001b[0m \u001b[0;34m\u001b[0m\u001b[0m\n",
            "\u001b[0;32m/data/dataiku/dss_data/code-envs/python/env_clc/lib64/python3.6/site-packages/pandas/core/reshape/merge.py\u001b[0m in \u001b[0;36mmerge\u001b[0;34m(left, right, how, on, left_on, right_on, left_index, right_index, sort, suffixes, copy, indicator, validate)\u001b[0m\n\u001b[1;32m     84\u001b[0m         \u001b[0mcopy\u001b[0m\u001b[0;34m\u003d\u001b[0m\u001b[0mcopy\u001b[0m\u001b[0;34m,\u001b[0m\u001b[0;34m\u001b[0m\u001b[0;34m\u001b[0m\u001b[0m\n\u001b[1;32m     85\u001b[0m         \u001b[0mindicator\u001b[0m\u001b[0;34m\u003d\u001b[0m\u001b[0mindicator\u001b[0m\u001b[0;34m,\u001b[0m\u001b[0;34m\u001b[0m\u001b[0;34m\u001b[0m\u001b[0m\n\u001b[0;32m---\u003e 86\u001b[0;31m         \u001b[0mvalidate\u001b[0m\u001b[0;34m\u003d\u001b[0m\u001b[0mvalidate\u001b[0m\u001b[0;34m,\u001b[0m\u001b[0;34m\u001b[0m\u001b[0;34m\u001b[0m\u001b[0m\n\u001b[0m\u001b[1;32m     87\u001b[0m     )\n\u001b[1;32m     88\u001b[0m     \u001b[0;32mreturn\u001b[0m \u001b[0mop\u001b[0m\u001b[0;34m.\u001b[0m\u001b[0mget_result\u001b[0m\u001b[0;34m(\u001b[0m\u001b[0;34m)\u001b[0m\u001b[0;34m\u001b[0m\u001b[0;34m\u001b[0m\u001b[0m\n",
            "\u001b[0;32m/data/dataiku/dss_data/code-envs/python/env_clc/lib64/python3.6/site-packages/pandas/core/reshape/merge.py\u001b[0m in \u001b[0;36m__init__\u001b[0;34m(self, left, right, how, on, left_on, right_on, axis, left_index, right_index, sort, suffixes, copy, indicator, validate)\u001b[0m\n\u001b[1;32m    625\u001b[0m             \u001b[0mself\u001b[0m\u001b[0;34m.\u001b[0m\u001b[0mright_join_keys\u001b[0m\u001b[0;34m,\u001b[0m\u001b[0;34m\u001b[0m\u001b[0;34m\u001b[0m\u001b[0m\n\u001b[1;32m    626\u001b[0m             \u001b[0mself\u001b[0m\u001b[0;34m.\u001b[0m\u001b[0mjoin_names\u001b[0m\u001b[0;34m,\u001b[0m\u001b[0;34m\u001b[0m\u001b[0;34m\u001b[0m\u001b[0m\n\u001b[0;32m--\u003e 627\u001b[0;31m         ) \u003d self._get_merge_keys()\n\u001b[0m\u001b[1;32m    628\u001b[0m \u001b[0;34m\u001b[0m\u001b[0m\n\u001b[1;32m    629\u001b[0m         \u001b[0;31m# validate the merge keys dtypes. We may need to coerce\u001b[0m\u001b[0;34m\u001b[0m\u001b[0;34m\u001b[0m\u001b[0;34m\u001b[0m\u001b[0m\n",
            "\u001b[0;32m/data/dataiku/dss_data/code-envs/python/env_clc/lib64/python3.6/site-packages/pandas/core/reshape/merge.py\u001b[0m in \u001b[0;36m_get_merge_keys\u001b[0;34m(self)\u001b[0m\n\u001b[1;32m    981\u001b[0m                     \u001b[0;32mif\u001b[0m \u001b[0;32mnot\u001b[0m \u001b[0mis_rkey\u001b[0m\u001b[0;34m(\u001b[0m\u001b[0mrk\u001b[0m\u001b[0;34m)\u001b[0m\u001b[0;34m:\u001b[0m\u001b[0;34m\u001b[0m\u001b[0;34m\u001b[0m\u001b[0m\n\u001b[1;32m    982\u001b[0m                         \u001b[0;32mif\u001b[0m \u001b[0mrk\u001b[0m \u001b[0;32mis\u001b[0m \u001b[0;32mnot\u001b[0m \u001b[0;32mNone\u001b[0m\u001b[0;34m:\u001b[0m\u001b[0;34m\u001b[0m\u001b[0;34m\u001b[0m\u001b[0m\n\u001b[0;32m--\u003e 983\u001b[0;31m                             \u001b[0mright_keys\u001b[0m\u001b[0;34m.\u001b[0m\u001b[0mappend\u001b[0m\u001b[0;34m(\u001b[0m\u001b[0mright\u001b[0m\u001b[0;34m.\u001b[0m\u001b[0m_get_label_or_level_values\u001b[0m\u001b[0;34m(\u001b[0m\u001b[0mrk\u001b[0m\u001b[0;34m)\u001b[0m\u001b[0;34m)\u001b[0m\u001b[0;34m\u001b[0m\u001b[0;34m\u001b[0m\u001b[0m\n\u001b[0m\u001b[1;32m    984\u001b[0m                         \u001b[0;32melse\u001b[0m\u001b[0;34m:\u001b[0m\u001b[0;34m\u001b[0m\u001b[0;34m\u001b[0m\u001b[0m\n\u001b[1;32m    985\u001b[0m                             \u001b[0;31m# work-around for merge_asof(right_index\u003dTrue)\u001b[0m\u001b[0;34m\u001b[0m\u001b[0;34m\u001b[0m\u001b[0;34m\u001b[0m\u001b[0m\n",
            "\u001b[0;32m/data/dataiku/dss_data/code-envs/python/env_clc/lib64/python3.6/site-packages/pandas/core/generic.py\u001b[0m in \u001b[0;36m_get_label_or_level_values\u001b[0;34m(self, key, axis)\u001b[0m\n\u001b[1;32m   1690\u001b[0m             \u001b[0mvalues\u001b[0m \u001b[0;34m\u003d\u001b[0m \u001b[0mself\u001b[0m\u001b[0;34m.\u001b[0m\u001b[0maxes\u001b[0m\u001b[0;34m[\u001b[0m\u001b[0maxis\u001b[0m\u001b[0;34m]\u001b[0m\u001b[0;34m.\u001b[0m\u001b[0mget_level_values\u001b[0m\u001b[0;34m(\u001b[0m\u001b[0mkey\u001b[0m\u001b[0;34m)\u001b[0m\u001b[0;34m.\u001b[0m\u001b[0m_values\u001b[0m\u001b[0;34m\u001b[0m\u001b[0;34m\u001b[0m\u001b[0m\n\u001b[1;32m   1691\u001b[0m         \u001b[0;32melse\u001b[0m\u001b[0;34m:\u001b[0m\u001b[0;34m\u001b[0m\u001b[0;34m\u001b[0m\u001b[0m\n\u001b[0;32m-\u003e 1692\u001b[0;31m             \u001b[0;32mraise\u001b[0m \u001b[0mKeyError\u001b[0m\u001b[0;34m(\u001b[0m\u001b[0mkey\u001b[0m\u001b[0;34m)\u001b[0m\u001b[0;34m\u001b[0m\u001b[0;34m\u001b[0m\u001b[0m\n\u001b[0m\u001b[1;32m   1693\u001b[0m \u001b[0;34m\u001b[0m\u001b[0m\n\u001b[1;32m   1694\u001b[0m         \u001b[0;31m# Check for duplicates\u001b[0m\u001b[0;34m\u001b[0m\u001b[0;34m\u001b[0m\u001b[0;34m\u001b[0m\u001b[0m\n",
            "\u001b[0;31mKeyError\u001b[0m: \u0027CUSTOMER_ACCOUNT_ID\u0027"
          ]
        }
      ]
    },
    {
      "execution_count": 0,
      "cell_type": "code",
      "metadata": {},
      "source": [
        "# Compute recipe outputs from inputs\n# TODO: Replace this part by your actual code that computes the output, as a Pandas dataframe\n# NB: DSS also supports other kinds of APIs for reading and writing data. Please see doc.\n\n\n\n#CALCULATED_DRAW_DOWNS_df \u003d NAFCUSTOMER_C360_ACCOUNTS_df # For this sample code, simply copy input to output\n\n\n# Write recipe outputs\n#CALCULATED_DRAW_DOWNS \u003d dataiku.Dataset(\"CALCULATED_DRAW_DOWNS\")\n#CALCULATED_DRAW_DOWNS.write_with_schema(CALCULATED_DRAW_DOWNS_df)"
      ],
      "outputs": []
    }
  ]
}