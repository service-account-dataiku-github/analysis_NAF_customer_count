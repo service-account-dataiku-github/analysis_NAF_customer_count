{
  "metadata": {
    "kernelspec": {
      "name": "py-dku-venv-env_clc",
      "display_name": "Python (env env_clc)",
      "language": "python"
    },
    "associatedRecipe": "compute_CONSOLIDATED_MATCHES",
    "dkuGit": {
      "lastInteraction": 0
    },
    "creationTag": {
      "versionNumber": 0,
      "lastModifiedBy": {
        "login": "Daniel.Vandermeer"
      },
      "lastModifiedOn": 1666015248584
    },
    "creator": "Daniel.Vandermeer",
    "createdOn": 1666015248584,
    "tags": [
      "recipe-editor"
    ],
    "customFields": {},
    "hide_input": false,
    "language_info": {
      "name": "python",
      "version": "3.6.8",
      "mimetype": "text/x-python",
      "codemirror_mode": {
        "name": "ipython",
        "version": 3
      },
      "pygments_lexer": "ipython3",
      "nbconvert_exporter": "python",
      "file_extension": ".py"
    },
    "modifiedBy": "Daniel.Vandermeer"
  },
  "nbformat": 4,
  "nbformat_minor": 1,
  "cells": [
    {
      "execution_count": 91,
      "cell_type": "code",
      "metadata": {},
      "source": [
        "# -*- coding: utf-8 -*-\nimport dataiku\nimport pandas as pd, numpy as np\nfrom dataiku import pandasutils as pdu\n\n# Read recipe inputs\nCALCULATED_CARD_DRAW_UPS \u003d dataiku.Dataset(\"CALCULATED_CARD_DRAW_UPS\")\nCALCULATED_CARD_DRAW_UPS_df \u003d CALCULATED_CARD_DRAW_UPS.get_dataframe()\n\nCALCULATED_CARD_DRAW_DOWNS \u003d dataiku.Dataset(\"CALCULATED_CARD_DRAW_DOWNS\")\nCALCULATED_CARD_DRAW_DOWNS_df \u003d CALCULATED_CARD_DRAW_DOWNS.get_dataframe()"
      ],
      "outputs": []
    },
    {
      "execution_count": 92,
      "cell_type": "code",
      "metadata": {},
      "source": [
        "df_down \u003d CALCULATED_CARD_DRAW_DOWNS_df\ndf_up \u003d CALCULATED_CARD_DRAW_UPS_df\n\ndf_down.sort_values([\u0027CUSTOMER\u0027], inplace\u003dTrue)\ndf_up.sort_values([\u0027CUSTOMER\u0027], inplace\u003dTrue)\n\nprint(len(df_down), \"draw downs\")\nprint(len(df_up), \"draw ups\")"
      ],
      "outputs": [
        {
          "output_type": "stream",
          "text": "34557 draw downs\n48169 draw ups\n",
          "name": "stdout"
        }
      ]
    },
    {
      "execution_count": 93,
      "cell_type": "code",
      "metadata": {},
      "source": [
        "df_down.head()"
      ],
      "outputs": [
        {
          "output_type": "execute_result",
          "execution_count": 93,
          "data": {
            "text/plain": "                                   CUSTOMER            DRAW_DOWN_DATE   MEAN_DD    STD_DD  ACTIVE_CARD_MAX\n0             1 AFFORDABLE LAWN MAINTENANCE 2022-02-01 00:00:00+00:00  2.000000  0.000000              3.0\n9999                  1 BRUDA  3 SISTAS LLC 2021-09-01 00:00:00+00:00       NaN       NaN              1.0\n9998                            1 G R V LLC 2019-08-01 00:00:00+00:00  0.500000  0.577350              7.0\n9997                         1 KC LOGISTICS 2021-10-01 00:00:00+00:00       NaN       NaN              1.0\n9996  1 PRIORITY ENVIRONMENTAL SERVICES LLC 2021-01-01 00:00:00+00:00  6.333333  0.492366              7.0",
            "text/html": "\u003cdiv\u003e\n\u003cstyle scoped\u003e\n    .dataframe tbody tr th:only-of-type {\n        vertical-align: middle;\n    }\n\n    .dataframe tbody tr th {\n        vertical-align: top;\n    }\n\n    .dataframe thead th {\n        text-align: right;\n    }\n\u003c/style\u003e\n\u003ctable border\u003d\"1\" class\u003d\"dataframe\"\u003e\n  \u003cthead\u003e\n    \u003ctr style\u003d\"text-align: right;\"\u003e\n      \u003cth\u003e\u003c/th\u003e\n      \u003cth\u003eCUSTOMER\u003c/th\u003e\n      \u003cth\u003eDRAW_DOWN_DATE\u003c/th\u003e\n      \u003cth\u003eMEAN_DD\u003c/th\u003e\n      \u003cth\u003eSTD_DD\u003c/th\u003e\n      \u003cth\u003eACTIVE_CARD_MAX\u003c/th\u003e\n    \u003c/tr\u003e\n  \u003c/thead\u003e\n  \u003ctbody\u003e\n    \u003ctr\u003e\n      \u003cth\u003e0\u003c/th\u003e\n      \u003ctd\u003e1 AFFORDABLE LAWN MAINTENANCE\u003c/td\u003e\n      \u003ctd\u003e2022-02-01 00:00:00+00:00\u003c/td\u003e\n      \u003ctd\u003e2.000000\u003c/td\u003e\n      \u003ctd\u003e0.000000\u003c/td\u003e\n      \u003ctd\u003e3.0\u003c/td\u003e\n    \u003c/tr\u003e\n    \u003ctr\u003e\n      \u003cth\u003e9999\u003c/th\u003e\n      \u003ctd\u003e1 BRUDA  3 SISTAS LLC\u003c/td\u003e\n      \u003ctd\u003e2021-09-01 00:00:00+00:00\u003c/td\u003e\n      \u003ctd\u003eNaN\u003c/td\u003e\n      \u003ctd\u003eNaN\u003c/td\u003e\n      \u003ctd\u003e1.0\u003c/td\u003e\n    \u003c/tr\u003e\n    \u003ctr\u003e\n      \u003cth\u003e9998\u003c/th\u003e\n      \u003ctd\u003e1 G R V LLC\u003c/td\u003e\n      \u003ctd\u003e2019-08-01 00:00:00+00:00\u003c/td\u003e\n      \u003ctd\u003e0.500000\u003c/td\u003e\n      \u003ctd\u003e0.577350\u003c/td\u003e\n      \u003ctd\u003e7.0\u003c/td\u003e\n    \u003c/tr\u003e\n    \u003ctr\u003e\n      \u003cth\u003e9997\u003c/th\u003e\n      \u003ctd\u003e1 KC LOGISTICS\u003c/td\u003e\n      \u003ctd\u003e2021-10-01 00:00:00+00:00\u003c/td\u003e\n      \u003ctd\u003eNaN\u003c/td\u003e\n      \u003ctd\u003eNaN\u003c/td\u003e\n      \u003ctd\u003e1.0\u003c/td\u003e\n    \u003c/tr\u003e\n    \u003ctr\u003e\n      \u003cth\u003e9996\u003c/th\u003e\n      \u003ctd\u003e1 PRIORITY ENVIRONMENTAL SERVICES LLC\u003c/td\u003e\n      \u003ctd\u003e2021-01-01 00:00:00+00:00\u003c/td\u003e\n      \u003ctd\u003e6.333333\u003c/td\u003e\n      \u003ctd\u003e0.492366\u003c/td\u003e\n      \u003ctd\u003e7.0\u003c/td\u003e\n    \u003c/tr\u003e\n  \u003c/tbody\u003e\n\u003c/table\u003e\n\u003c/div\u003e"
          },
          "metadata": {}
        }
      ]
    },
    {
      "execution_count": 123,
      "cell_type": "code",
      "metadata": {},
      "source": [
        "import string\n\nclass Draw_Down_Customer:\n\n    def __init__(self, name, draw_down_date, mean_dd, std_dd, active_card_max):\n\n        self._common_words \u003d [\u0027PIZZA\u0027, \u0027MANAGEMENT\u0027, \u0027THERAPEUTICS\u0027, \u0027USA\u0027, \u0027INC\u0027, \u0027US\u0027, \u0027EQUIPMENT\u0027, \u0027MEDICAL\u0027, \u0027SYSTEMS\u0027,\n                             \u0027ANIMAL\u0027, \u0027HEALTH\u0027, \u0027LLC\u0027, \u0027CORPORATION\u0027, \u0027BRANDS\u0027, \u0027TIRE\u0027, \u0027RUBBER\u0027, \u0027COUNTRY\u0027, \u0027CORP\u0027,\n                              \u0027PHARMACY\u0027,\u0027INC\u0027, \u0027RESTAURANTS\u0027, \u0027CONTAINER\u0027, \u0027AMERICA\u0027, \u0027APPLICATIONS\u0027, \u0027TECHNOLOGY\u0027,\n                              \u0027INSURANCE\u0027, \u0027FARM\u0027,\u0027CREDIT\u0027, \u0027SERVICES\u0027, \u0027SERVICE\u0027, \u0027ACCOUNT\u0027, \u0027GENERAL\u0027, \u0027PARTS\u0027,\n                              \u0027INTL\u0027, \u0027FLAVORS\u0027, \u0027HOLDINGS\u0027, \u0027FOOD\u0027,\u0027INDUSTRIES\u0027, \u0027LP\u0027, \u0027FLEET\u0027, \u0027MEDICAL\u0027, \u0027PHARMA\u0027,\n                             \u0027GLOBAL\u0027, \u0027PIPELINE\u0027, \u0027WHEELS\u0027, \u0027BIOSCIENCES\u0027, \u0027SSI\u0027, \u0027SPRINGS\u0027, \u0027NORTH\u0027, \u0027MARINE\u0027, \u0027HOLDING\u0027,\n                              \u0027TECHNOLOGIES\u0027,\u0027GROUP\u0027, \u0027PHARMACEUTICAL\u0027, \u0027NA\u0027, \u0027USA\u0027, \u0027COMPANY\u0027, \u0027RAIL\u0027, \u0027PARTNERS\u0027, \u0027BROS\u0027,\n                              \u0027CO\u0027, \u0027PHARMACEUTICALS\u0027, \u0027ENERGY\u0027, \u0027DISTRIBUTION\u0027, \u0027DENTAL\u0027, \u0027SPECIALTIES\u0027, \u0027OPERATIONS\u0027,\n                              \u0027COMPANY\u0027, \u0027THE\u0027, \u0027MOUNTAIN\u0027, \u0027TRANS\u0027, \u0027FUEL\u0027, \u0027AMERICAN\u0027, \u0027HOMES\u0027, \u0027GAS\u0027,\n                             \u0027AFFORDABLE\u0027, \u0027LAWN\u0027, \u0027MAINTENANCE\u0027,\u0027LOGISTICS\u0027,\u0027INC\u0027,\u0027LLC\u0027,\u0027CO\u0027,\u0027CORP\u0027,\u0027LTD\u0027,\u0027LIMITED\u0027,\n                              \u0027IN\u0027,\u0027COMPANY\u0027,\u0027COMPANIES\u0027,\u0027VENTURES\u0027,\u0027TECHNOLOGIES\u0027,\u0027WORKS\u0027,\u0027AND\u0027,\u0027THE\u0027,\u0027OF\u0027,\u0027COMPANY\u0027,\n                              \u0027SYSTEMS\u0027,\u0027PROPERTY\u0027,\u0027EXPRESS\u0027,\u0027SONS\u0027,\u0027BROTHERS\u0027,\u0027BUILDING\u0027,\u0027SERVIC\u0027,\u0027SERVICE\u0027,\u0027SERVICES\u0027,\n                              \u0027CONSTRUCTION\u0027,\u0027CONSTRUCTIONS\u0027,\u0027ELECTRIC\u0027,\u0027ELECTIC\u0027,\u0027ELECTRICAL\u0027,\u0027ELECTRONICS\u0027,\u0027GROUPE\u0027,\n                              \u0027GROUP\u0027,\u0027SOLUTIONS\u0027,\u0027PLUMBING\u0027,\u0027ENTERPRISES\u0027,\u0027TRANSPORT\u0027,\u0027TRANSPORTATION\u0027,\u0027SYSTEMS\u0027,\n                              \u0027MANAGEMENT\u0027,\u0027CONTRACTING\u0027,\u0027ASSOCIATES\u0027,\u0027CONSULTING\u0027,\u0027CONTRAC\u0027,\u0027CONTRACTORS\u0027,\u0027CONSTRUCTORS\u0027,\n                              \u0027SECURITY\u0027,\u0027INDUSTRIES\u0027,\u0027EXPRESS\u0027,\u0027SONS\u0027,\u0027PROPERTIES\u0027,\u0027INVESTMENTS\u0027,\u0027INVESTMENT\u0027,\n                              \u0027CORPORATION\u0027,\u0027BUILDERS\u0027,\u0027ENTERPRISE\u0027,\u0027STORE\u0027,\u0027INDUSTRIAL\u0027,\u0027AUTOMOTIVE\u0027,\u0027ENGINEERING\u0027,\n                              \u0027INTERNATIONAL\u0027,\u0027MEDICAL\u0027,\u0027MOTORS\u0027,\u0027STATE\u0027,\u0027COMMUNICATIONS\u0027,\u0027COMMUNICATION\u0027,\u0027DELIVERY\u0027,\n                              \u0027COMMERCIAL\u0027,\u0027REFRIGERATION\u0027,\u0027BUSINESS\u0027,\u0027HOUSING\u0027,\u0027DEPARTMENT\u0027,\u0027TECHNOLOGY\u0027,\u0027FOODS\u0027,\n                              \u0027PRODUCTIONS\u0027,\u0027MANUFACTURING\u0027,\u0027CONTRACTOR\u0027,\u0027DISTRIBUTORS\u0027,\u0027SYSTEM\u0027,\u0027ENTERTAINMENT\u0027,\n                              \u0027HOSPITAL\u0027,\u0027OPERATIONS\u0027,\u0027EXTERIORS\u0027,\u0027ASSOCIATED\u0027,\u0027FOUNDATIONS\u0027,\u0027LABORATORIES\u0027,\u0027BLACK\u0027,\n                              \u0027DECK\u0027,\u0027ENERGY\u0027,\u0027BUS\u0027,\u0027CONCRETE\u0027,\u0027CONTROL\u0027,\u0027CONTROLS\u0027,\u0027FIRE\u0027,\u0027WHEELS\u0027,\u0027TEST\u0027,\u0027KM\u0027,\u0027WINDOW\u0027,\n                              \u0027CLEANING\u0027,\u0027STEEMER\u0027,\u0027DEZURE\u0027,\u0027WHEELS\u0027,\u0027TEST\u0027,\u0027EQUIPMENT\u0027,\u0027COURIER\u0027,\u0027SANITARY\u0027,\n                              \u0027PAINT\u0027,\u0027PARTS\u0027,\u0027ELECTRICA\u0027,\u0027PRIORITY\u0027, \u0027ENVIRONMENTAL\u0027,\u0027WAY\u0027, \u0027AUTO\u0027, \u0027FREIGHT\u0027,\n                              \u0027WITH\u0027, \u0027NATURE\u0027,  \u0027AMBULANCE\u0027, \u0027FINANCIAL\u0027, \u0027SALES\u0027, \u0027HOUR\u0027, \u0027CENTERS\u0027,\u0027MEMORY\u0027, \u0027LANE\u0027, \n                              \u0027CENTRAL\u0027,\u0027STREET\u0027, \u0027SUPPLY\u0027, \u0027CENTER\u0027, \u0027TRANSPORTING\u0027, \u0027JUNK\u0027, \u00271ST\u0027, \u0027ACTION\u0027, \u0027HEATING\u0027, \n                              \u0027AIR\u0027,\u0027ADVANCED\u0027, \u0027ALARM\u0027, \u0027INFUSION\u0027,  \u0027BAPTIST\u0027, \u0027CHURCH\u0027, \u0027CALL\u0027, \u0027TOW\u0027, \u0027RECOVERY\u0027, \n                              \u0027CHOICE\u0027, \u0027COLLATERAL\u0027, \u0027LANDSCAPE\u0027, \u0027CLASS\u0027,\u0027ALARM\u0027, \u0027CORPORATE\u0027, \u0027TULSA\u0027]\n\n        self.CUSTOMER \u003d name\n        self.DRAW_DOWN_DATE \u003d draw_down_date\n        self.ACTIVE_CARD_MAX \u003d active_card_max\n\n        self.MATCHING_CUSTOMERS \u003d []\n        self.PERCENT_DIFFERENCE \u003d []\n        self.DAYS_DIFFERENCE \u003d []\n        self.DRAW_UP_DATE \u003d []\n\n        # remove punctuation\n        c_str \u003d name.translate(str.maketrans(\u0027\u0027, \u0027\u0027, string.punctuation))\n\n        f \u003d c_str.split()\n        self.WORD_LIST \u003d []\n        for w in f:\n            if w not in self._common_words:\n                self.WORD_LIST.append(w)\n\n    def Match_Draw_Up_Customer(self, name, draw_up_date, mean_du, std_du, active_card_max):\n\n        if (self.CUSTOMER \u003d\u003d name):\n            # exact match, already captured\n            return\n\n        c_str \u003d name.translate(str.maketrans(\u0027\u0027, \u0027\u0027, string.punctuation))\n\n        f \u003d c_str.split()\n\n        check_list \u003d []\n        for w in f:\n            if (w not in self._common_words) and (len(w)\u003e1) and (not w.isnumeric()):\n                check_list.append(w)\n\n        percent_diff \u003d round((abs(self.ACTIVE_CARD_MAX - active_card_max) / ((self.ACTIVE_CARD_MAX+active_card_max)/2)),2)\n\n        #date_format \u003d \"%Y-%m-%d\"\n        #d1_date \u003d datetime.strptime(draw_up_date.astype(str), date_format)\n        #d2_date \u003d datetime.strptime(self.DRAW_DOWN_DATE.astype(str), date_format)\n\n        delta_between_drop_and_rise \u003d round(abs((draw_up_date-self.DRAW_DOWN_DATE).days)/30.,0)\n\n        for w_to_check in check_list:\n            for w in self.WORD_LIST:\n                if w_to_check\u003d\u003dw:\n\n                    if not name in(self.MATCHING_CUSTOMERS) and(delta_between_drop_and_rise\u003c\u003d4)and(percent_diff\u003c\u003d0.5) :\n                        self.MATCHING_CUSTOMERS.append(name)\n                        self.PERCENT_DIFFERENCE.append(percent_diff)\n                        self.DAYS_DIFFERENCE.append(delta_between_drop_and_rise)\n                        self.DRAW_UP_DATE.append(draw_up_date)\n                        break;"
      ],
      "outputs": []
    },
    {
      "execution_count": 124,
      "cell_type": "code",
      "metadata": {
        "scrolled": false
      },
      "source": [
        "idx \u003d 0\n_customers \u003d []\nverbose \u003d True\n\nmax_idx \u003d 40\n\nfor index, row in df_down.iterrows():\n\n    idx+\u003d1\n\n    customer \u003d row[\u0027CUSTOMER\u0027]\n    draw_down_date \u003d row[\u0027DRAW_DOWN_DATE\u0027]\n    mean_dd \u003d row[\u0027MEAN_DD\u0027]\n    std_dd \u003d row[\u0027STD_DD\u0027]\n    active_card_max \u003d row[\u0027ACTIVE_CARD_MAX\u0027]\n\n    c \u003d Draw_Down_Customer(customer, draw_down_date, mean_dd, std_dd, active_card_max)\n\n    _customers.append(c)\n\n    if max_idx\u003e0:\n        if idx\u003emax_idx:\n            break;\n\nidx \u003d 0\n\n_direct_customer \u003d []\n_direct_match \u003d []\n_direct_draw_up_date \u003d []\n\n_multiple_customer \u003d []\n_multiple_matches \u003d []\n_multiple_drop_dates \u003d []\n\n_no_match_customer \u003d []\n\nfor c in _customers:\n\n    for index_up, row_up in df_up.iterrows():\n\n        idx+\u003d1\n\n        customer \u003d row_up[\u0027CUSTOMER\u0027]\n        draw_up_date \u003d row_up[\u0027DRAW_UP_DATE\u0027]\n        mean_du \u003d row_up[\u0027MEAN_DU\u0027]\n        std_du \u003d row_up[\u0027STD_DU\u0027]\n        active_card_max \u003d row_up[\u0027ACTIVE_CARD_MAX\u0027]\n\n        c.Match_Draw_Up_Customer(customer, draw_up_date, mean_du, std_du, active_card_max)\n\n    if len(c.MATCHING_CUSTOMERS)\u003d\u003d1:\n\n        _direct_customer.append(c.CUSTOMER)\n        _direct_match.append(c.MATCHING_CUSTOMERS[0])\n        _direct_draw_up_date.append(c.DRAW_UP_DATE[0])\n\n        print(c.CUSTOMER, c.MATCHING_CUSTOMERS)\n\n        if verbose:\n            print()\n            print(\"DIRECT\")\n            print(c.CUSTOMER, c.WORD_LIST)\n            print(c.MATCHING_CUSTOMERS)\n            print(c.PERCENT_DIFFERENCE)\n            print(c.DAYS_DIFFERENCE)\n            print(\"\u003d\u003d\u003d\u003d\u003d\")\n            print()\n\n    elif len(c.MATCHING_CUSTOMERS)\u003e1:\n\n        _multiple_customer.append(c.CUSTOMER)\n        _multiple_matches.append(c.MATCHING_CUSTOMERS)\n        _multiple_drop_dates.append(c.DRAW_UP_DATE)\n\n        if verbose:\n            print()\n            print(\"MULTIPLE\")\n            print(c.CUSTOMER, c.WORD_LIST)\n            print(c.MATCHING_CUSTOMERS)\n            print(c.PERCENT_DIFFERENCE)\n            print(c.DAYS_DIFFERENCE)\n            print(\"\u003d\u003d\u003d\u003d\u003d\")\n            print()\n    else:\n        _no_match_customer.append(c.CUSTOMER)\n\nprint(idx)\nprint()\n\nprint(len(_direct_customer), \"direct matches\")\nprint(len(_multiple_matches), \"multiple matches\")\nprint(len(_no_match_customer), \"no match customers\")"
      ],
      "outputs": [
        {
          "output_type": "stream",
          "text": "NO MATCH 1 AFFORDABLE LAWN MAINTENANCE\nNO MATCH 1 BRUDA  3 SISTAS LLC\nNO MATCH 1 G R V LLC\nNO MATCH 1 KC LOGISTICS\nNO MATCH 1 PRIORITY ENVIRONMENTAL SERVICES LLC\nNO MATCH 1 STOP LIGHTING INC.\nNO MATCH 1 WAY AUTO AND FREIGHT LOGISTICS\nNO MATCH 1 WITH NATURE, LLC\nNO MATCH 10 33 AMBULANCE SERVICE LTD(04\nNO MATCH 1005 FINANCIAL GROUP\nNO MATCH 1021 AUTO SALES LLC\nNO MATCH 1040 TRANSPORT INC\nNO MATCH 10ELEVEN PROPERTY SOLUTIONS LLC\nNO MATCH 119 MEMORY LANE LLC\nNO MATCH 11B SERVICES LLC\n11TH HOUR BUSINESS CENTERS [\u002711TH HOUR BUSINESS SOLUTIONS LLC\u0027]\n\nDIRECT\n11TH HOUR BUSINESS CENTERS [\u002711TH\u0027]\nDraw Up Date: 2021-11-01 00:00:00+00:00\nCards 5.0\n\n[\u002711TH HOUR BUSINESS SOLUTIONS LLC\u0027]\n[0.5]\n[1.0]\n\n\u003d\u003d\u003d\u003d\u003d\n\nNO MATCH 121 CENTRAL PHARMACY CORP\nNO MATCH 1223 ARROTT STREET\nNO MATCH 146 SUPPLY CENTER INC\nNO MATCH 1606 TRANSPORTING LLC\nNO MATCH 1775 TRANSPORT LLC\n1844 JUNK RAT [\u0027JUNK RAT LLC\u0027]\n\nDIRECT\n1844 JUNK RAT [\u00271844\u0027, \u0027RAT\u0027]\nDraw Up Date: 2021-10-01 00:00:00+00:00\nCards 5.0\n\n[\u0027JUNK RAT LLC\u0027]\n[0.0]\n[1.0]\n\n\u003d\u003d\u003d\u003d\u003d\n\nNO MATCH 1910 DISTRIBUTION CO LLC\nNO MATCH 1953 CONSTRUCTION INC\nNO MATCH 1SOURCE ELECTRICAL CONTRACTORS\nNO MATCH 1ST ACTION PLUMBING HEATING AND AIR INC\nNO MATCH 1ST ADVANCED TRANSPORTATION\nNO MATCH 1ST ALARM\nNO MATCH 1ST AMERICA INFUSION SERVICES LLC\nNO MATCH 1ST BAPTIST CHURCH OF INGLIS\nNO MATCH 1ST CALL MEDICAL TRANSPORT LLC\nNO MATCH 1ST CALL TOW  RECOVERY LLC\nNO MATCH 1ST CHOICE AUTOBODY LLC\nNO MATCH 1ST CHOICE COLLATERAL RECOVERY LLC\nNO MATCH 1ST CHOICE CONSTRUCTION  LANDSCAPE LLC\nNO MATCH 1ST CHOICE CORPORATE CLEANING\nNO MATCH 1ST CHOICE OF TULSA INC\nNO MATCH 1ST CLASS TRANSPORT SERVICES I\nNO MATCH 1ST CONSTRUCTION\nNO MATCH 1ST ELECTRIC CONTRACTORS LLC\nNO MATCH 1ST F P ALARM SERVICES LLC\n1974929\n\n2 direct matches\n0 multiple matches\n39 no match customers\n",
          "name": "stdout"
        }
      ]
    },
    {
      "execution_count": 0,
      "cell_type": "code",
      "metadata": {},
      "source": [
        "df_matches \u003d pd.DataFrame(_direct_customer)\ndf_matches.columns \u003d [\u0027CUSTOMER\u0027]\ndf_matches[\"MATCH_CUSTOMER\"] \u003d _direct_match\ndf_matches[\"DRAW_UP_DATE\"] \u003d _direct_draw_up_date\ndf_matches.head()"
      ],
      "outputs": []
    },
    {
      "execution_count": 100,
      "cell_type": "code",
      "metadata": {},
      "source": [
        "df_multiple_matches \u003d pd.DataFrame(_multiple_customer)\ndf_multiple_matches.columns \u003d [\u0027CUSTOMER\u0027]\ndf_multiple_matches[\"MATCH_CUSTOMER\"] \u003d _multiple_matches\ndf_multiple_matches[\"DRAW_UP_DATE\"] \u003d _multiple_drop_dates\ndf_multiple_matches.head()"
      ],
      "outputs": [
        {
          "output_type": "execute_result",
          "execution_count": 100,
          "data": {
            "text/plain": "                                CUSTOMER                                     MATCH_CUSTOMER\n0          1 AFFORDABLE LAWN MAINTENANCE  [1 AFFORDABLE LAWN MAINTENANCE LLC, 5 STAR MAI...\n1                            1 G R V LLC  [B  R CONSTRUCTION LLC, B AND R PLUMBING LLC, ...\n2                         1 KC LOGISTICS  [1ST ONE LOGISTICS CORPORATION, 24 7 LOGISTICS...\n3  1 PRIORITY ENVIRONMENTAL SERVICES LLC  [CORE ENVIRONMENTAL SOLUTIONS, JAG ENVIRONMENT...\n4       1 WAY AUTO AND FREIGHT LOGISTICS  [1845 LOGISTICS LLC, 230 LOGISTICS LLC, 7FOLDS...\n5                     1 WITH NATURE, LLC     [ANYTHING WITH INK WESTAZ LLC, FLEAUX WITH MO]\n6         10 33 AMBULANCE SERVICE LTD(04  [1033 AMBULANCE SERVICE LTD, ALLEN COUNTY AMBU...\n7                   1005 FINANCIAL GROUP  [AGZ FINANCIAL SERVICES LLC, BRIGHTER BEGINNIN...\n8                    1021 AUTO SALES LLC  [AR SALES LLC, AUTO DETAILING SOLUTIONS OF ABI...",
            "text/html": "\u003cdiv\u003e\n\u003cstyle scoped\u003e\n    .dataframe tbody tr th:only-of-type {\n        vertical-align: middle;\n    }\n\n    .dataframe tbody tr th {\n        vertical-align: top;\n    }\n\n    .dataframe thead th {\n        text-align: right;\n    }\n\u003c/style\u003e\n\u003ctable border\u003d\"1\" class\u003d\"dataframe\"\u003e\n  \u003cthead\u003e\n    \u003ctr style\u003d\"text-align: right;\"\u003e\n      \u003cth\u003e\u003c/th\u003e\n      \u003cth\u003eCUSTOMER\u003c/th\u003e\n      \u003cth\u003eMATCH_CUSTOMER\u003c/th\u003e\n    \u003c/tr\u003e\n  \u003c/thead\u003e\n  \u003ctbody\u003e\n    \u003ctr\u003e\n      \u003cth\u003e0\u003c/th\u003e\n      \u003ctd\u003e1 AFFORDABLE LAWN MAINTENANCE\u003c/td\u003e\n      \u003ctd\u003e[1 AFFORDABLE LAWN MAINTENANCE LLC, 5 STAR MAI...\u003c/td\u003e\n    \u003c/tr\u003e\n    \u003ctr\u003e\n      \u003cth\u003e1\u003c/th\u003e\n      \u003ctd\u003e1 G R V LLC\u003c/td\u003e\n      \u003ctd\u003e[B  R CONSTRUCTION LLC, B AND R PLUMBING LLC, ...\u003c/td\u003e\n    \u003c/tr\u003e\n    \u003ctr\u003e\n      \u003cth\u003e2\u003c/th\u003e\n      \u003ctd\u003e1 KC LOGISTICS\u003c/td\u003e\n      \u003ctd\u003e[1ST ONE LOGISTICS CORPORATION, 24 7 LOGISTICS...\u003c/td\u003e\n    \u003c/tr\u003e\n    \u003ctr\u003e\n      \u003cth\u003e3\u003c/th\u003e\n      \u003ctd\u003e1 PRIORITY ENVIRONMENTAL SERVICES LLC\u003c/td\u003e\n      \u003ctd\u003e[CORE ENVIRONMENTAL SOLUTIONS, JAG ENVIRONMENT...\u003c/td\u003e\n    \u003c/tr\u003e\n    \u003ctr\u003e\n      \u003cth\u003e4\u003c/th\u003e\n      \u003ctd\u003e1 WAY AUTO AND FREIGHT LOGISTICS\u003c/td\u003e\n      \u003ctd\u003e[1845 LOGISTICS LLC, 230 LOGISTICS LLC, 7FOLDS...\u003c/td\u003e\n    \u003c/tr\u003e\n    \u003ctr\u003e\n      \u003cth\u003e5\u003c/th\u003e\n      \u003ctd\u003e1 WITH NATURE, LLC\u003c/td\u003e\n      \u003ctd\u003e[ANYTHING WITH INK WESTAZ LLC, FLEAUX WITH MO]\u003c/td\u003e\n    \u003c/tr\u003e\n    \u003ctr\u003e\n      \u003cth\u003e6\u003c/th\u003e\n      \u003ctd\u003e10 33 AMBULANCE SERVICE LTD(04\u003c/td\u003e\n      \u003ctd\u003e[1033 AMBULANCE SERVICE LTD, ALLEN COUNTY AMBU...\u003c/td\u003e\n    \u003c/tr\u003e\n    \u003ctr\u003e\n      \u003cth\u003e7\u003c/th\u003e\n      \u003ctd\u003e1005 FINANCIAL GROUP\u003c/td\u003e\n      \u003ctd\u003e[AGZ FINANCIAL SERVICES LLC, BRIGHTER BEGINNIN...\u003c/td\u003e\n    \u003c/tr\u003e\n    \u003ctr\u003e\n      \u003cth\u003e8\u003c/th\u003e\n      \u003ctd\u003e1021 AUTO SALES LLC\u003c/td\u003e\n      \u003ctd\u003e[AR SALES LLC, AUTO DETAILING SOLUTIONS OF ABI...\u003c/td\u003e\n    \u003c/tr\u003e\n  \u003c/tbody\u003e\n\u003c/table\u003e\n\u003c/div\u003e"
          },
          "metadata": {}
        }
      ]
    },
    {
      "execution_count": 0,
      "cell_type": "code",
      "metadata": {},
      "source": [
        "MATCHES_1_TO_N_FOR_MANUAL_REVIEW_df \u003d df_multiple_matches\nMACTHES_1_TO_N_FOR_MANUAL_REVIEW \u003d dataiku.Dataset(\"MATCHES_1_TO_N_FOR_MANUAL_REVIEW\")\nMACTHES_1_TO_N_FOR_MANUAL_REVIEW.write_with_schema(MATCHES_1_TO_N_FOR_MANUAL_REVIEW_df)\n\nMATCHES_1_TO_1_df \u003d df_matches\nMATCHES_1_TO_1 \u003d dataiku.Dataset(\"MATCHES_1_TO_1\")\nMATCHES_1_TO_1.write_with_schema(MATCHES_1_TO_1_df)"
      ],
      "outputs": []
    }
  ]
}