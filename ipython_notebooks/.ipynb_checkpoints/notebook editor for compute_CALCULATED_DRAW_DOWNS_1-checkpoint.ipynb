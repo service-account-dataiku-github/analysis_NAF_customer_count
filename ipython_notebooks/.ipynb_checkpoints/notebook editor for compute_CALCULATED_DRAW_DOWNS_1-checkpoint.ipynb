{
  "metadata": {
    "kernelspec": {
      "name": "py-dku-venv-env_clc",
      "display_name": "Python (env env_clc)",
      "language": "python"
    },
    "associatedRecipe": "compute_CALCULATED_DRAW_DOWNS",
    "dkuGit": {
      "lastInteraction": 0
    },
    "creationTag": {
      "versionNumber": 0,
      "lastModifiedBy": {
        "login": "Daniel.Vandermeer"
      },
      "lastModifiedOn": 1667062120007
    },
    "creator": "Daniel.Vandermeer",
    "createdOn": 1667062120007,
    "tags": [
      "recipe-editor"
    ],
    "customFields": {},
    "hide_input": false,
    "language_info": {
      "name": "python",
      "version": "3.6.8",
      "mimetype": "text/x-python",
      "codemirror_mode": {
        "name": "ipython",
        "version": 3
      },
      "pygments_lexer": "ipython3",
      "nbconvert_exporter": "python",
      "file_extension": ".py"
    },
    "modifiedBy": "Daniel.Vandermeer"
  },
  "nbformat": 4,
  "nbformat_minor": 1,
  "cells": [
    {
      "execution_count": 0,
      "cell_type": "code",
      "metadata": {},
      "source": [
        "# -*- coding: utf-8 -*-\nimport dataiku\nimport pandas as pd, numpy as np\nfrom dataiku import pandasutils as pdu\nfrom dateutil.relativedelta import relativedelta\nfrom helper import *\n\n# -*- coding: utf-8 -*-\nimport dataiku\nimport pandas as pd, numpy as np\nfrom dataiku import pandasutils as pdu\n\nimport pickle\nfrom dateutil.relativedelta import relativedelta\nimport gc\nfrom re import finditer\n\n## Find DD DU\nfrom helper import preprocess_data\nfrom patterns import find_drawdowns, find_drawups\n\n## MATCHING\nimport name_matching\nfrom name_matching import name_match\nimport transaction_matching\nfrom transaction_matching import transaction_match\n\n## CONSOLIDATION\nfrom consolidation import combine_matches, consolidate_matches, find_attritions, find_new_accounts, get_attrition_status, get_new_account_status"
      ],
      "outputs": []
    },
    {
      "execution_count": 0,
      "cell_type": "code",
      "metadata": {},
      "source": [
        "start_date \u003d dataiku.get_custom_variables()[\u0027start_date\u0027]\nend_date \u003d dataiku.get_custom_variables()[\u0027end_date\u0027]\n\nconsistency \u003d int(dataiku.get_custom_variables()[\u0027consistency\u0027])\ndrawdown_period_average \u003d int(dataiku.get_custom_variables()[\u0027drawdown_period_average\u0027])\ndrawdown \u003d int(dataiku.get_custom_variables()[\u0027drawdown\u0027])\ndrawdown_fwd_check \u003d int(dataiku.get_custom_variables()[\u0027drawdown_fwd_check\u0027])\ndrawdown_lookback_period \u003d int(dataiku.get_custom_variables()[\u0027drawdown_lookback_period\u0027])\ndrawup_lookfwd_period \u003d int(dataiku.get_custom_variables()[\u0027drawup_lookfwd_period\u0027])\nstatistics_period \u003d int(dataiku.get_custom_variables()[\u0027statistics_period\u0027])\ninactive_period \u003d int(dataiku.get_custom_variables()[\u0027inactive_period\u0027])\n\n## MATCHING VARIABLES\nmonth_diff_h \u003d int(dataiku.get_custom_variables()[\u0027month_diff_h\u0027])\nmonth_diff_l \u003d int(dataiku.get_custom_variables()[\u0027month_diff_l\u0027])\nsd_mul \u003d int(dataiku.get_custom_variables()[\u0027sd_mul\u0027])\nmax_city_distance \u003d int(dataiku.get_custom_variables()[\u0027max_city_distance\u0027])\nthreshold_score_step1 \u003d int(dataiku.get_custom_variables()[\u0027threshold_score_step1\u0027])\nthreshold_score_step2 \u003d int(dataiku.get_custom_variables()[\u0027threshold_score_step2\u0027])\n\n## RUN TYPE\nrun \u003d dataiku.get_custom_variables()[\u0027run_type\u0027]\n\nprint(\"start_date\", start_date)\nprint(\"end_date\", end_date)"
      ],
      "outputs": []
    },
    {
      "execution_count": 0,
      "cell_type": "code",
      "metadata": {},
      "source": [
        "# Read recipe inputs\nNAFCUSTOMER_ACTIVE_CARDS_FULL \u003d dataiku.Dataset(\"NAFCUSTOMER_ACTIVE_CARDS_FULL\")\nNAFCUSTOMER_ACTIVE_CARDS_FULL_df \u003d NAFCUSTOMER_ACTIVE_CARDS_FULL.get_dataframe()\nprint(len(NAFCUSTOMER_ACTIVE_CARDS_FULL_df))\nNAFCUSTOMER_ACTIVE_CARDS_FULL_df.head()"
      ],
      "outputs": []
    },
    {
      "execution_count": 0,
      "cell_type": "code",
      "metadata": {},
      "source": [
        "def date_tz_naive(pd_s):\n    return pd.to_datetime(pd_s).apply(lambda x:x.tz_localize(None))\n\n# Read recipe inputs\nNAFCUSTOMER_ACTIVE_CARDS_FULL \u003d dataiku.Dataset(\"NAFCUSTOMER_ACTIVE_CARDS_FULL\")\nNAFCUSTOMER_ACTIVE_CARDS_FULL_df \u003d NAFCUSTOMER_ACTIVE_CARDS_FULL.get_dataframe()\n\nprint(len(NAFCUSTOMER_ACTIVE_CARDS_FULL_df))\nNAFCUSTOMER_ACTIVE_CARDS_FULL_df.head()"
      ],
      "outputs": []
    },
    {
      "execution_count": 25,
      "cell_type": "code",
      "metadata": {},
      "source": [
        "customer_list_full \u003d NAFCUSTOMER_ACTIVE_CARDS_FULL_df.CUSTOMER.unique()\nprint(len(customer_list_full))"
      ],
      "outputs": [
        {
          "output_type": "stream",
          "text": "624069\n",
          "name": "stdout"
        }
      ]
    },
    {
      "execution_count": 31,
      "cell_type": "code",
      "metadata": {
        "scrolled": false
      },
      "source": [
        "page_size \u003d 10000\nidx \u003d 0\ncurrent_page \u003d 0\nmax_pages \u003d 5\n\nwhile idx\u003clen(customer_list_full):\n    \n    current_page+\u003d1\n    \n    to_range \u003d idx+page_size\n    if to_range\u003elen(customer_list_full):\n        to_range \u003d len(customer_list_full)-1\n    \n    current_set \u003d customer_list_full[idx:to_range]\n    print(len(current_set))\n    print(current_set)\n    print()\n    \n    idx+\u003dpage_size\n    \n    if current_page\u003emax_pages:\n        break;"
      ],
      "outputs": [
        {
          "output_type": "stream",
          "text": "50\n[\u0027ENCORE DERMATOLOGY INC\u0027 \u0027BRADANICK CONSTRUCTION SERVICES INC\u0027\n \u0027PEREZ INDUSTRIES INC\u0027 \u0027A  S CAR CLEAN LLC\u0027 \u0027M SULLIVAN AND SON LIMITED\u0027\n \u0027ALPHA  OMEGA TOWING  REPAIR LLC\u0027 \u0027PRADIP DAYA\u0027\n \u0027ROSE HILL CONSTRUCTION INC\u0027 \u0027ARI-7V39 CORPORATE\u0027\n \u0027GARRETT ENTERPRISES TACTICAL SUPPLY\u0027 \u0027NJC ASSOCIATES INC\u0027\n \u0027K  K CONNECTIONS LLC\u0027 \u00273B CONSULTANT SERVICE INC\u0027 \u0027NATIONAL LUTHERAN\u0027\n \u0027DAVID B KURZ\u0027 \u0027PROFESSIONAL GREEN CLEANERS LLC\u0027 \u0027DAVE HAUER INC\u0027\n \u0027MATHIEU DENIS\u0027 \u0027SOURCE ONE PHARMACY LLC\u0027 \u0027NIAGARA CENTRAL FENCING \u0026\u0027\n \u0027TLD ENTERPRISES\u0027 \u0027CARLTON VILLAGE APARTMENTS\u0027 \u0027SUSAN ARMAND\u0027\n \u0027IMPERIAL COUNTY OFFICE OF EDUCATION\u0027 \u0027L F MANUFACTURING INC\u0027\n \u0027WATERVILLE T G INC\u0027 \u0027TUSKO SALES  SERVICE INC\u0027\n \u0027MINUTE MAN HOME SERVICES LLC\u0027 \u0027VAL CHEM PEST CONTROL\u0027\n \u0027A G TRUCKING  LOGISTICS INC\u0027 \u0027WASTE MNGTELLENSBURG BU 1815\u0027\n \u0027EQUITEX REALTY LTD\u0027 \u0027AMERICA  PACIFIC TOURS INC\u0027\n \u0027TERRY CULLEN SOUTHLAKE CHEVROLET INC\u0027 \u0027K L M LABORATORIES INC\u0027\n \u0027WESTSIDE FENCE COMPANY INC\u0027 \u0027GOURMET ORIENTAL RESTAURANT\u0027\n \u0027RESORT REALTY OF THE OUTER BANKS INC\u0027 \u0027EL TRIKIS TRANSPORTS INC\u0027\n \u0027JOHN KNOX VILLAGE\u0027 \u0027NORTH DESOTO WATER SYSTEM INC\u0027\n \u0027CHEVERUS HIGH SCHOOL\u0027\n \u0027ARCHDIOCESE OF THE CATHOLIC CHURCH OF OKLAHOMA CITY\u0027 \u0027MAJOR OIL CO INC\u0027\n \u0027CROWDER CONSTRUCTORS INC\u0027 \u0027PETERSENS HOUSE OF CARPETS INC\u0027\n \u0027VICK COMPANIES INC\u0027 \u0027WESTERN RIM CONSTRUCTORS INC\u0027\n \u0027PACE INDUSTRIES HOLDINGS INC\u0027 \u0027SNOWDEN MECHANICAL\u0027]\n\n50\n[\u0027AIMSCO INC\u0027 \u0027R  R CONTRACTING SERVICES INC\u0027\n \u0027ARNOLD INDUSTRIES SOUTH INC\u0027 \u0027DMJ EXPEDITED TRANSPORT SERVICES LLC\u0027\n \u0027BERT OGDEN MCALLEN MOTORS INC\u0027 \u0027KENWOOD CONSTRUCTION CO INC\u0027\n \u0027MICHIGAN MOBILE HEARING\u0027 \u0027TOWN OF BELCHERTOWN\u0027 \u0027MC WILLIAMS ROOFING INC\u0027\n \u0027SULLIVANS EQUIPMENT SALES  SERVICES INC\u0027 \u0027DOUGLAS ORR PLUMBING INC\u0027\n \u0027STATE WIDE PLUMBING INC\u0027 \u0027TMC LANDSCAPE LLC\u0027 \u0027POWERSTATION LLC\u0027\n \u0027VIKING RIGGING AND LOGISTICS INC\u0027 \u0027SARA INTERNATIONAL\u0027\n \u0027BRONSBERG  HUGHES PONTIAC INC\u0027 \u0027DOUGLAS H V A C MECHANICAL INC\u0027\n \u0027FOOD FOR THOUGHT INC\u0027 \u0027C J EDWARDS CO INC\u0027 \u0027ORANGUTAN HOME SVCS (0463)\u0027\n \u0027ERA GROUP INC\u0027 \u0027PACIFIC EXPRESS INC\u0027 \u00279071-3694 QUEBEC  INC\u0027\n \u0027BLACK DIAMOND EXCAVATION LLC\u0027 \u0027HAGGERTY CONSTRUCTION INC\u0027 \u0027KJTYME CORP.\u0027\n \u0027CEREBRAL PALSY TRANSPORT INC\u0027 \u0027TRUSTEES OF DEERFIELD ACA\u0027\n \u0027COASTAL WELDING AND FABRICATIONS INC\u0027 \u0027VILLAGE OF ABERDEEN\u0027\n \u0027QUALITY HEALTHCARE AND HOSPICE\u0027\n \u0027DMD PROPERTY MANAGEMENT  DEVELOPERS CORP\u0027 \u0027A PLUS SEPTIC SERVICE LLC\u0027\n \u0027CRYSTAL BEACH HVAC\u0027 \u0027SEBASTIEN MADORE\u0027 \u0027AUCTION DIRECT USA\u0027\n \u0027TOMKEN PLASTIC TECHNOLOGIES INC\u0027 \u0027PARADISE GLASS \u0026 MIRROR LLC\u0027\n \u0027RICHARDSON ELECTRICAL COMPANY\u0027 \u0027LINDIFRIM INC\u0027 \u0027MCINTIRE REALTY\u0027\n \u0027O  S REFRIGERATION INC\u0027 \u0027ROKO MANAGEMENT LLC\u0027\n \u0027TEAK REFRIGERATION SERVICE(04)\u0027 \u0027BLACKSTONE INC\u0027\n \u0027MID FLORIDA MATERIAL HANDLING INC\u0027\n \u0027WARD COUNTY WATER IMPROVEMENT DISTRICT 2\u0027 \u0027C I W INSTALLATION LLC\u0027\n \u0027ZAHN CONTRACTING CORPORATION\u0027]\n\n50\n[\u0027CARMICHAEL CONSTRUCTION INC\u0027 \u0027MVS MAILERS INC\u0027\n \u0027UNITED FENCE  GUARD RAIL CORP\u0027\n \u0027HOUSING AUTHORITY OF THE CITY OF ELBERTON\u0027 \u0027PRATT PEST OF BARTLESVILLE\u0027\n \u0027HIGH TIDE OILFIELD SERVICES LL\u0027 \u0027LAYOUT INC\u0027 \u0027BENEDICTINE SISTERS OF\u0027\n \u0027AIRESERV E C M N 2\u0027 \u0027A CLEAN BAY PLUMBING  DRAIN CLEANING\u0027\n \"BRANNEN\u0027S INC\" \u0027TOWNSHIP OF RESERVE\u0027 \u0027HARRY J WRIGHT\u0027\n \u0027S C C M HOLDINGS LTD\u0027 \u0027P M P ELECTRIQUE INC\u0027 \u0027N B F MOVING LLC\u0027\n \u0027R \u0026 W CLEANING SVC INC\u0027 \u0027HOUCHENS INDUSTRIES (61)\u0027\n \u0027WEED CONTROL CONCEPTS INC\u0027 \u0027TYLER SALES COMPANY INC\u0027\n \u0027INTERCITY CARRIERS LLC\u0027 \u0027GIDEON PROPERTIES LLC\u0027 \u0027PIERRE-LUC TREMBLAY\u0027\n \u0027TROJON GEAR INC\u0027 \u0027MODERN TILE AND CARPET INC\u0027 \u0027ATS FIRE PROTECTION LLC\u0027\n \u0027BRANCH BUILT LLC\u0027 \u0027DREAMFINDERS REAL ESTATE GROUP INC\u0027\n \u0027GRIECO CHEVROLET OF FORT LAUDERDALE\u0027 \u0027FLOORING SOLUTIONS BY HOUPT LLC\u0027\n \u0027PRIDGEN TIRE  AUTO CENTER\u0027 \u0027RSC OF VOORHEES INC\u0027\n \u0027MILLSTONE MARBLE  GRINDSTONE LLC\u0027 \u0027WALPOLE VALLEY HEATING LLC\u0027\n \u0027LES PEINTURES CAN LAK INC\u0027 \u0027DOME ELECTRIC  COMMUNICATIONS CONTRACTING\u0027\n \u0027NEW PORT CUSTOM HOMES\u0027 \u0027CONVERSE LABORATORIES INC\u0027\n \u0027GEMSTONE SYSTEMS INC\u0027 \u0027TRANSPORT ORBIT EXPRESS INC\u0027 \u0027T O F S LLC\u0027\n \u0027AIR COMPRESSOR  MOTOR COMPANY\u0027 \u0027THE BLINDMAN INC\u0027 \u0027BEAM PAINTING LLC\u0027\n \u0027MODERNISTIC INC\u0027 \u0027K  B AUTO GLASS WORKS\u0027 \u0027HIJACKER LIFTS LTD\u0027\n \u0027DENIS LEBLANC\u0027 \u0027J JS VENDING SERVICES INC\u0027 \u0027O W LEE CO INC\u0027]\n\n50\n[\u0027PAUL LYNN CONSTRUCTION LLC\u0027 \u0027BRUNO LANGEVIN\u0027 \u0027JC FARMS LLC\u0027\n \u0027TAYLOR MADE CONSTRUCTION INC\u0027 \u0027RESTORATION INDUSTRY ASSOCIATION\u0027\n \u0027HEMPHILL TOWING AND RECOVERY L\u0027 \u0027LAKES PLUMBING HEATING  COOLING INC\u0027\n \u0027ALBION MOBILE HOMES SALES  PARK\u0027 \u0027HERMANN BACH PAVING STONE INC.\u0027\n \u0027HONEYCUTT ELECTRIC INC\u0027 \u0027STANLEY AUTO SERVICES INC\u0027\n \u0027CHADWICK  SON ORCHIDS INC\u0027 \u0027PENDLETON PROPERTIES INC\u0027\n \u0027B LINE ELECTRIC INC\u0027 \u0027BURNS AND NEWELL FURNITURE\u0027\n \u0027ROTTEN ROCK HARDSCAPING  TREE SERV\u0027 \u0027ENVISION FLOORING LLC\u0027\n \u0027SIERRA INTERNATIONAL MACHINERY LLC\u0027 \u0027ADMIRAL AUTO GLASS\u0027\n \u0027ENTERGY NUCLEAR NORTHEAST\u0027 \u0027KELCO KORNER GIFTS INC\u0027 \u0027SANQUIN IND INC\u0027\n \u0027DEBRA CORN SPECIALIZED FAMILY CARE INC\u0027 \u0027SHEA DECORATING COMPANY\u0027\n \u0027CONSTRUCTION SPECIALTIES OF NORTH FL LLC\u0027 \u0027WAYNE KORBIN\u0027\n \u0027WAGER COMPANY OF FLORIDA INC\u0027 \u0027SANDON CONSTRUCTION COMPANY INC\u0027\n \u0027TRUCK CRANE SOLUTIONS USA LLC\u0027 \u0027UNITED ELEVATOR SERVICE INC\u0027\n \u0027DOCKSIDE SPECIALTIES LLC\u0027 \u0027FLOOR COVERING BY DENNIS GRIBBINS DB\u0027\n \u0027VISION\u0027 \u0027NISSHO OF CALIFORNIA INC\u0027 \u0027ACC DISTRIBUTORS INC\u0027\n \u0027TIDEWATER TRANSIT CO INC\u0027 \u0027AMERICAN RED CROSS (PHH2)\u0027 \u0027CHANGEXCHANGE\u0027\n \u0027ELECTRIQUE EEL INC\u0027 \u0027LFH INC\u0027 \u0027WORSWICK MOLD  TOOL INC\u0027 \u0027KJ LOGISTICS\u0027\n \u0027NICK DIBATTISTA PLUMBING  HEATING COMPANY INC\u0027 \u0027BLACKSTONE MANAGEMENT\u0027\n \u0027BIRCH RUN DRUGS\u0027 \u0027CERTIFIED MECHANICAL INC\u0027 \u0027JULIE BLANCHET\u0027\n \u0027JA WATTS INC\u0027 \u0027PREMIER PLATFORMS INC\u0027 \u0027HOLMAN CADILLAC (5DC7)\u0027]\n\n50\n[\u0027MIDSTEEL MECHANICAL LTD\u0027 \u0027MCCURTAIN COUNTY RURAL WATER DISTRICT NO 1\u0027\n \u0027PRECISION STANDARD INTL\u0027 \u0027LHS SWEEPING INC\u0027 \u0027HITECH ELECTRIC INC\u0027\n \u0027GERALD NISSAN SUBARU OF NORTH\u0027 \u0027RIYADH INDUSTRIES CORPORATION\u0027\n \u0027T  M CONTRACTING CO INC\u0027 \u0027THE SACK CO L1\u0027 \u0027NDL ASSOCIATES INC\u0027\n \u0027ROBERT C JENSEN\u0027 \u0027DERR INDUSTRIES\u0027 \u0027RIVER CITY ROOFING  REMODELING INC\u0027\n \u0027KLAUS KAMINSKI\u0027 \u0027YADKIN FIRE EXTINGUISHER\u0027 \u0027CHRISTIAN HERALD ASSOC\u0027\n \u0027VALLY ATUO SERVICE\u0027 \u0027W J GROSS INC\u0027\n \u0027MIKE LAMBS HEATING  AIR CONDITIONING INC\u0027\n \u0027SPECIALTY SURFACES INTERNATION\u0027 \u0027CAVE QUARRIES INC\u0027 \u0027FOOD GATHERERS\u0027\n \u0027EAST END TOWING  SERVICE CENTER\u0027 \u0027BATTISTON CONSTRUCTION CO\u0027\n \u0027HALSEY  GRIFFITH INC 2\u0027 \u0027NUPATH SERVICES INC\u0027\n \u0027ADVANCED DYNAMICS CORP. LTEE\u0027 \u0027COUNTY OF STEELE\u0027\n \u0027SYRCON CONSTRUCTION LTD\u0027 \u0027VINE AND BARREL DEVELOPMENT INC\u0027\n \u0027D PETERMAN LANDSCAPING AND MAINTENANCE LLC\u0027 \u0027SCHAEFER SCREW PRODUCTS\u0027\n \u0027040 NORTH JACKSONVILLE\u0027 \u0027LUBECK VOLUNTEER FIRE DEPARTMENT\u0027\n \u0027UTSLER INVESTIGATIONS\u0027 \u0027BULLDOG STEEL PRODUCTS INC\u0027\n \u0027ALLSTATE PEST CONTROL INC\u0027 \u0027RECON ENTERPRISES INC\u0027\n \u0027SUPERIOR PROPERTY SERVICES\u0027 \u0027VBN PAVING LIMITED\u0027 \u0027A \u0026 A OIL COMPANY INC\u0027\n \u0027PRIDESTAR STUDENT TRANSPORTATION\u0027 \u0027SERVICE PLUS LAWN AND TREE\u0027\n \u0027CLASSIC PAVING\u0027 \u0027AMARILLO PROTECTIVE SERVICES\u0027 \u0027MONTANA USED CARS\u0027\n \u0027DALLAS H 2 8 OWNER LLC\u0027 \u0027IRON MCCLEAN INC\u0027 \u0027RDMR INC\u0027\n \u0027WHITE RIVER ROAD SERVICE\u0027]\n\n50\n[\u0027AIR CARE HEATING  AIR CONDITIONING INC\u0027 \u0027TIMBERBUILT, INC.\u0027 \u0027SOLA INC\u0027\n \u0027WESTMONT INTERIOR SUPPLY HOUSE\u0027 \u0027BITTERROOT TIN\u0027 \u0027ATCHISON ELECTRIC\u0027\n \u0027LARRY SWENSON ENT LTD\u0027 \u0027SMITH AND SONS PLUMBING LLC\u0027\n \u0027M A B COMMUNITY SERVICES INC\u0027 \u0027GULF FINANCE LLC\u0027\n \u0027P  M MACK DADDY CHICKENS LLC\u0027 \u0027MAVES HEATING AND AIR CONDITIONING\u0027\n \u0027ANAX INC\u0027 \u0027MQC GROUP INC\u0027 \u0027BOCA LINEN \u0026 LAUDRY SERVICE\u0027\n \u0027C L CONNELL INC\u0027 \u0027S B C HEATING  A C\u0027 \u0027CURRY AUTO CENTER INC\u0027\n \u0027REGAL CAFE \u0026 BAR\u0027 \u0027MARKHAM DISTRICT ENERGY INC\u0027 \u0027RANDYS MECHANICAL INC\u0027\n \u0027ALACHUA COUNTY BOARD FIRE RESC\u0027 \u0027LUCTO FIRE SPRINKLER CORP\u0027\n \u0027TONI BUTCHER\u0027 \u0027VIVID CONSULTING GROUP LLC\u0027\n \u0027SOL INTELLIGENT INFRASTRUCTURE\u0027 \u0027RIEMER FLOORS\u0027 \u0027RENE GUILLOT\u0027\n \u0027MAGIC VALLEY BEAUTY COLLEGE INC\u0027 \u0027ACADIANA BROADBAND\u0027\n \u0027TURNING POINT DRIVING SCHOOL\u0027 \u0027ELIAS LENGE\u0027\n \u0027HOOD SERVICE COMPANY AIR CONDITIONING  HEATING LLC\u0027\n \u0027BLUE SKY CLEANING SVCS 02\u0027 \u0027C C S WASHINGTON JANITORIAL INC\u0027\n \u0027AVALON HEALTH CARE\u0027 \u0027FLAWLESS FLOORING AND FINISHING LLC\u0027 \u0027KMIEC  KMIEC\u0027\n \u0027PINNACLE ADVISORS LTD\u0027 \u0027ENERGY MASTER SYSTEMS INC\u0027\n \u0027PATTLEN ENTERPRISES INC\u0027 \u0027JOHN NOLL LLC\u0027 \u0027CONTROLLED AIR INC\u0027\n \u0027W P S USA CORP\u0027 \u0027SOUTHERN FABRICATORS  LLC\u0027 \u0027VICS FAMILY PHARMACY INC\u0027\n \u0027PMP ENTERPRISES INC\u0027 \u0027SHELDON NETWORKS INC\u0027 \u0027KEENE CHRYSLER INC\u0027\n \u0027B  J TRUCKING SERVICE INCORPORATED\u0027]\n\n",
          "name": "stdout"
        }
      ]
    },
    {
      "execution_count": 0,
      "cell_type": "code",
      "metadata": {},
      "source": [
        "customer_list \u003d [\u0027NORTHSHORE INC\u0027,\u0027JAYHAWK MILLWRIGHT\u0027,\u0027PAXTON ASSOCIATES INC\u0027,\u0027STATE OF NEW YORK\u0027,\n                \u0027PAXTON ASSOCIATES INC\u0027, \u0027YNGRID COSMETICZ LLC\u0027, \u0027CYRGUS COMPANY INC.\u0027, \u0027THE HEALTHY STOP INC\u0027,\n                 \u0027T F WALZ INC\u0027, \u0027JAYHAWK MILLWRIGHT\u0027, \u0027CREDIT SLAYERS LLC\u0027, \u0027A ABLE MOVING CO\u0027, \u0027STUDIO IMPACT INC\u0027]\n\ndf_v \u003d NAFCUSTOMER_ACTIVE_CARDS_FULL_df[NAFCUSTOMER_ACTIVE_CARDS_FULL_df.CUSTOMER.isin(customer_list)]\nprint(len(df_v.CUSTOMER.unique()), \"unique customers\")\nprint(len(df_v), \"records\")"
      ],
      "outputs": []
    },
    {
      "execution_count": 0,
      "cell_type": "code",
      "metadata": {},
      "source": [
        ""
      ],
      "outputs": []
    },
    {
      "execution_count": 0,
      "cell_type": "code",
      "metadata": {},
      "source": [
        "print(len(df_v))\ndf_v[\u0027REVENUE_DATE\u0027] \u003d date_tz_naive(df_v[\u0027REVENUE_DATE\u0027])\nprint(len(df_v))\n\ndf_v \u003d df_v[[\u0027CUSTOMER\u0027,\u0027REVENUE_DATE\u0027, \u0027ACTIVE_CARD_COUNT\u0027]]\n\ndf_v_max \u003d df_v[[\u0027CUSTOMER\u0027,\u0027ACTIVE_CARD_COUNT\u0027]]\ndf_max \u003d df_v_max.groupby(by\u003d[\"CUSTOMER\"]).max().reset_index()\ndf_max.columns \u003d [\u0027CUSTOMER\u0027, \u0027ACTIVE_CARD_MAX\u0027]\n\nprint(len(df_v))\ndf_v.dropna(subset\u003d[\u0027CUSTOMER\u0027], inplace\u003dTrue)\nprint(len(df_v))\n\ndf_v[\u0027REVENUE_DATE\u0027] \u003d pd.to_datetime(df_v[\u0027REVENUE_DATE\u0027])\ndf_v.sort_values([\u0027REVENUE_DATE\u0027], inplace\u003dTrue)\n\nseen_accounts \u003d df_v[df_v[\u0027ACTIVE_CARD_COUNT\u0027] \u003e 0].groupby([\u0027CUSTOMER\u0027], as_index\u003dFalse)[[\u0027REVENUE_DATE\u0027]].first()\nseen_accounts[\u0027FIRST_DATE\u0027] \u003d seen_accounts[\u0027REVENUE_DATE\u0027] - pd.DateOffset(months\u003d1)\n\ndf \u003d df_v\nperiod_end_date \u003d end_date\nmatch_type \u003d \u0027program_flip\u0027\nperiod_start_date\u003dNone\nsplit\u003dNone\n\ndrawdown \u003d (100 - drawdown)/100\ndrawdown_fwd_check /\u003d 100\n\ninactive_date_start \u003d pd.to_datetime(period_end_date) + relativedelta(months\u003d-inactive_period)\n\ndf \u003d df[df[\u0027REVENUE_DATE\u0027] \u003c\u003d period_end_date].copy()\n\nif period_start_date:\n    period_start_date \u003d pd.to_datetime(period_start_date)\n    df \u003d df[df[\u0027REVENUE_DATE\u0027] \u003e\u003d period_start_date].copy()\n\nall_customer_names \u003d list(df[\u0027CUSTOMER\u0027].unique())\n\nif not split:\n    split\u003d1\n\nall_customer_names_n \u003d list(split_list(all_customer_names, split))\n\ndrop_df \u003d pd.DataFrame()"
      ],
      "outputs": []
    },
    {
      "execution_count": 0,
      "cell_type": "code",
      "metadata": {},
      "source": [
        "all_customer_names_n"
      ],
      "outputs": []
    },
    {
      "execution_count": 0,
      "cell_type": "code",
      "metadata": {},
      "source": [
        "def find_consistent_cust(df, consecutive\u003d3):\n    \u0027\u0027\u0027returns a list of customers who are consistent for 3 (default value) months\u0027\u0027\u0027\n\n    ## Needs only these columns [\u0027customer_account_name\u0027, \u0027revenue_month\u0027, \u0027purchase_gallons_qty\u0027]\n\n    df \u003d df[[\u0027CUSTOMER\u0027, \u0027REVENUE_DATE\u0027, \u0027ACTIVE_CARD_COUNT\u0027]].copy()\n    df.sort_values(by\u003d[\u0027CUSTOMER\u0027, \u0027REVENUE_DATE\u0027], inplace\u003dTrue)\n\n    z \u003d (df.groupby([\u0027CUSTOMER\u0027])[\u0027REVENUE_DATE\u0027].diff(1)/np.timedelta64(1, \u0027M\u0027))\n    z \u003d z.round(0)\n    z \u003d (z \u003d\u003d 1).astype(\u0027int\u0027)\n    df[\u0027CUST_CONS\u0027] \u003d (z * (z.groupby((z !\u003d z.shift()).cumsum()).cumcount() + 2))\n    cust_cons \u003d df.groupby(\u0027CUSTOMER\u0027)[\u0027CUST_CONS\u0027].max()\n\n    return list(cust_cons[cust_cons\u003e\u003dconsecutive].index)\n\ndef add_padding_func(df, padding\u003d12, last_date\u003dNone):\n    \u0027\u0027\u0027\n    Fills all the zeros in between for intermittent data and also fills the trailing data with\n    12 zeros or till the last date whichever is earlier\n    \u0027\u0027\u0027\n\n    cols \u003d [\u0027CUSTOMER\u0027, \u0027REVENUE_DATE\u0027]\n\n    common_cols \u003d set(df.columns).intersection(set(cols))\n\n    profile \u003d df[common_cols].drop_duplicates()\n\n    vol \u003d df[[\u0027CUSTOMER\u0027, \u0027REVENUE_DATE\u0027, \u0027ACTIVE_CARD_COUNT\u0027]].copy()\n    vol \u003d vol.groupby([\u0027CUSTOMER\u0027, \u0027REVENUE_DATE\u0027])[[\u0027ACTIVE_CARD_COUNT\u0027]].sum().reset_index()\n    vol.reset_index(drop\u003dTrue, inplace\u003dTrue)\n\n    vol.sort_values([\u0027CUSTOMER\u0027, \u0027REVENUE_DATE\u0027], inplace\u003dTrue)\n    vol.reset_index(drop\u003dTrue, inplace\u003dTrue)\n\n    last_rev_date \u003d vol.groupby([\u0027CUSTOMER\u0027])[[\u0027REVENUE_DATE\u0027]].last()\n    last_rev_date \u003d last_rev_date[last_rev_date[\u0027REVENUE_DATE\u0027] \u003c pd.to_datetime(last_date)]\n    last_rev_date[\u0027REVENUE_DATE\u0027] \u003d last_rev_date[\u0027REVENUE_DATE\u0027] + pd.DateOffset(months\u003dpadding)\n    last_rev_date[\u0027LAST_DATE\u0027] \u003d pd.to_datetime(last_date)\n    last_rev_date[\u0027REVENUE_DATE\u0027] \u003d last_rev_date[[\u0027REVENUE_DATE\u0027,\u0027LAST_DATE\u0027]].min(axis\u003d1)\n    last_rev_date.drop([\u0027LAST_DATE\u0027], axis\u003d1, inplace\u003dTrue)\n    last_rev_date.reset_index(inplace\u003dTrue)\n    vol \u003d pd.concat([vol, last_rev_date], ignore_index\u003dTrue)\n    vol.fillna(0, inplace\u003dTrue)\n    vol \u003d (vol.set_index(\u0027REVENUE_DATE\u0027).groupby(\u0027CUSTOMER\u0027).resample(\u0027MS\u0027).asfreq()\n                  .drop([\u0027CUSTOMER\u0027], 1).reset_index())\n    vol.fillna(0, inplace\u003dTrue)\n    df \u003d vol.merge(profile, how\u003d\u0027left\u0027, on \u003d [\u0027CUSTOMER\u0027, \u0027REVENUE_DATE\u0027])\n    df.fillna(method\u003d\u0027ffill\u0027, inplace\u003dTrue)\n\n    return df\n\ndef find_average_func(dd_find, n\u003d12):\n\n    dd_find.sort_values([\u0027CUSTOMER\u0027, \u0027REVENUE_DATE\u0027], inplace\u003dTrue)\n    dd_find2 \u003d dd_find.sort_values([\u0027CUSTOMER\u0027, \u0027REVENUE_DATE\u0027], ascending\u003d[True, False]).reset_index(drop\u003dTrue)\n\n    dd_find.reset_index(drop\u003dTrue, inplace\u003dTrue)\n    dd_find[\u0027LAST_N_MONTHS_AVG\u0027] \u003d dd_find.groupby([\u0027CUSTOMER\u0027])[\u0027ACTIVE_CARD_COUNT\u0027]\\\n                                        .rolling(n, min_periods\u003d1).mean().reset_index(drop\u003dTrue)\n    dd_find2[\u0027NEXT_N_MONTHS_AVG\u0027] \u003d dd_find2.groupby([\u0027CUSTOMER\u0027])[\u0027ACTIVE_CARD_COUNT\u0027]\\\n                                        .rolling(n, min_periods\u003d1).mean().reset_index(drop\u003dTrue)\n\n    dd_find[\u0027LAST_N_MONTHS_AVG\u0027] \u003d dd_find.groupby(\u0027CUSTOMER\u0027)[\u0027LAST_N_MONTHS_AVG\u0027].shift(1)\n    dd_find2[\u0027NEXT_N_MONTHS_AVG\u0027] \u003d dd_find2.groupby(\u0027CUSTOMER\u0027)[\u0027NEXT_N_MONTHS_AVG\u0027].shift(1)\n\n    dd_find \u003d dd_find.merge(dd_find2[[\u0027CUSTOMER\u0027, \u0027REVENUE_DATE\u0027, \u0027NEXT_N_MONTHS_AVG\u0027]],\n                on\u003d[\u0027CUSTOMER\u0027, \u0027REVENUE_DATE\u0027])\n\n    return dd_find"
      ],
      "outputs": []
    },
    {
      "execution_count": 0,
      "cell_type": "code",
      "metadata": {},
      "source": [
        "idx \u003d 0\nmax_idx \u003d 5\n\nfor sublist in all_customer_names_n:\n\n    idx+\u003d1\n\n    print(sublist)\n\n    dd_find \u003d df[df[\u0027CUSTOMER\u0027].isin(sublist)].copy()\n\n    consistent_customers_dd \u003d find_consistent_cust(dd_find, consecutive\u003dconsistency)\n    if len(consistent_customers_dd) \u003d\u003d 0:\n        continue\n\n    dd_find \u003d dd_find[dd_find[\u0027CUSTOMER\u0027].isin(consistent_customers_dd)].copy()\n    dd_find \u003d add_padding_func(dd_find, padding\u003dstatistics_period, last_date\u003dperiod_end_date)\n    dd_find \u003d find_average_func(dd_find, n\u003dstatistics_period)\n\n    dd_find[\u0027DD_INDICATOR\u0027] \u003d np.where(((drawdown*(dd_find[\u0027LAST_N_MONTHS_AVG\u0027].round(3)) \u003e\n                                     dd_find[\u0027ACTIVE_CARD_COUNT\u0027].round(3)) \u0026\n                                    (dd_find[\u0027NEXT_N_MONTHS_AVG\u0027].round(3) \u003c\n                                     drawdown_fwd_check*dd_find[\u0027LAST_N_MONTHS_AVG\u0027].round(3))),\n                                   True, False)\n\n    ## Find the first drawdown and also the list of customers\n    pflip_dd \u003d dd_find[dd_find[\u0027DD_INDICATOR\u0027] \u003d\u003d True].copy()\n    pflip_dd.drop_duplicates(\u0027CUSTOMER\u0027, inplace\u003dTrue)\n    first_drop_idx \u003d pflip_dd.index\n    pflip_dd_customers \u003d list(dd_find[\u0027CUSTOMER\u0027].unique())\n    first_drop \u003d dd_find.iloc[first_drop_idx]\n\n    ## Identify the lookback period\n    first_drop \u003d first_drop[[\u0027CUSTOMER\u0027, \u0027REVENUE_DATE\u0027]].copy()\n    first_drop \u003d first_drop[first_drop[\u0027REVENUE_DATE\u0027] \u003c\u003d inactive_date_start].copy()\n    first_drop[\u0027START_DATE\u0027]  \u003d first_drop[\u0027REVENUE_DATE\u0027] - pd.DateOffset(months\u003ddrawdown_lookback_period)\n    first_drop.rename(columns \u003d {\u0027REVENUE_DATE\u0027:\u0027DD_DATE\u0027}, inplace\u003dTrue)\n    dd_find_df \u003d dd_find[dd_find[\u0027CUSTOMER\u0027].isin(pflip_dd_customers)]\n    dd_find_df \u003d dd_find_df.merge(first_drop, on\u003d[\u0027CUSTOMER\u0027])\n    dd_find_df \u003d dd_find_df[dd_find_df[\u0027REVENUE_DATE\u0027].between(dd_find_df[\u0027START_DATE\u0027],dd_find_df[\u0027DD_DATE\u0027])].copy()\n\n    ## Compute the sharpest fall from the lookback period\n    dd_find_df.sort_values([\u0027CUSTOMER\u0027, \u0027REVENUE_DATE\u0027], inplace\u003dTrue)\n    dd_find_df[\u0027DROP\u0027] \u003d dd_find_df.groupby([\u0027CUSTOMER\u0027])[\u0027ACTIVE_CARD_COUNT\u0027].diff(-1)\n\n    ## Find the corresponding period and remove duplicates in case of a similar values\n    drop_idx \u003d dd_find_df.groupby([\u0027CUSTOMER\u0027])[\u0027DROP\u0027].transform(max) \u003d\u003d dd_find_df[\u0027DROP\u0027]\n    drop_month_df \u003d dd_find_df[drop_idx].copy()\n    drop_month_df.drop_duplicates([\u0027CUSTOMER\u0027], inplace\u003dTrue)\n\n    ## remove the first record\n    dd_find \u003d dd_find.groupby(\u0027CUSTOMER\u0027).apply(lambda group: group.iloc[1:, 1:]).reset_index()\n    dd_find.drop(\u0027level_1\u0027, axis\u003d1, inplace\u003dTrue)\n\n    ## Find the time periods for calculating statistics (mean and standard deviation)\n    drop_month_df.rename(columns \u003d {\u0027REVENUE_DATE\u0027:\u0027DROP_DATE\u0027}, inplace\u003dTrue)\n    dd_find \u003d dd_find.merge(drop_month_df[[\u0027CUSTOMER\u0027, \u0027DROP_DATE\u0027]], on\u003d\u0027CUSTOMER\u0027)\n    dd_find[\u0027END_DATE\u0027] \u003d dd_find[\u0027DROP_DATE\u0027] - pd.DateOffset(months\u003d3)\n    dd_find[\u0027START_DATE\u0027] \u003d dd_find[\u0027END_DATE\u0027] - pd.DateOffset(months\u003dstatistics_period-1)\n    pflip_12_data \u003d dd_find[dd_find[\u0027REVENUE_DATE\u0027].between(dd_find[\u0027START_DATE\u0027], dd_find[\u0027END_DATE\u0027])].copy()\n\n    ## Calculate Mean and Standard Deviation\n    dd_stat \u003d pflip_12_data.groupby([\u0027CUSTOMER\u0027], as_index\u003dFalse).agg({\u0027ACTIVE_CARD_COUNT\u0027:[\u0027mean\u0027,\u0027std\u0027]})\n    dd_stat.columns \u003d [\u0027CUSTOMER_DD\u0027, \u0027MEAN_DD\u0027,\u0027STD_DD\u0027]\n    drop_month_df \u003d drop_month_df.merge(dd_stat,\n                                        left_on\u003d\u0027CUSTOMER\u0027,\n                                        right_on\u003d\u0027CUSTOMER_DD\u0027,\n                                        how\u003d\u0027left\u0027)\n\n    drop_df \u003d pd.concat([drop_df, drop_month_df], ignore_index\u003dTrue)\n\n    if(idx\u003emax_idx):\n        break;\n\ndrop_df.drop([\u0027CUSTOMER_DD\u0027], axis\u003d1, inplace\u003dTrue)\ndrop_df.rename(columns\u003d{\u0027DROP_DATE\u0027:\u0027DRAW_DOWN_DATE\u0027,\n                        \u0027DROP\u0027:\u0027DROP_QTY\u0027}, inplace\u003dTrue)"
      ],
      "outputs": []
    },
    {
      "execution_count": 0,
      "cell_type": "code",
      "metadata": {},
      "source": [
        "drop_df.head()"
      ],
      "outputs": []
    },
    {
      "execution_count": 0,
      "cell_type": "code",
      "metadata": {},
      "source": [
        "print(len(drop_df))"
      ],
      "outputs": []
    },
    {
      "execution_count": 0,
      "cell_type": "code",
      "metadata": {},
      "source": [
        "# Compute recipe outputs from inputs\n# TODO: Replace this part by your actual code that computes the output, as a Pandas dataframe\n# NB: DSS also supports other kinds of APIs for reading and writing data. Please see doc.\n\nCALCULATED_DRAW_DOWNS_df \u003d drop_df\n\n# Write recipe outputs\nCALCULATED_DRAW_DOWNS \u003d dataiku.Dataset(\"CALCULATED_DRAW_DOWNS\")\nCALCULATED_DRAW_DOWNS.write_with_schema(CALCULATED_DRAW_DOWNS_df)"
      ],
      "outputs": []
    }
  ]
}