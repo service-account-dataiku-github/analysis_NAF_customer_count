{
  "metadata": {
    "kernelspec": {
      "name": "py-dku-venv-env_clc",
      "display_name": "Python (env env_clc)",
      "language": "python"
    },
    "associatedRecipe": "compute_TENURE",
    "creator": "Daniel.Vandermeer",
    "createdOn": 1677064239841,
    "tags": [
      "recipe-editor"
    ],
    "customFields": {},
    "hide_input": false,
    "language_info": {
      "name": "python",
      "version": "3.6.8",
      "mimetype": "text/x-python",
      "codemirror_mode": {
        "name": "ipython",
        "version": 3
      },
      "pygments_lexer": "ipython3",
      "nbconvert_exporter": "python",
      "file_extension": ".py"
    },
    "modifiedBy": "Daniel.Vandermeer"
  },
  "nbformat": 4,
  "nbformat_minor": 1,
  "cells": [
    {
      "execution_count": 1,
      "cell_type": "code",
      "metadata": {},
      "source": [
        "# -*- coding: utf-8 -*-\nimport dataiku\nimport pandas as pd, numpy as np\nfrom dataiku import pandasutils as pdu\n\nfrom datetime import date, datetime, timedelta\nimport time\n\nimport matplotlib.pyplot as plt\n\nt0 \u003d time.time()\n\n# Read recipe inputs\nNAFCUSTOMER_REVENUE_AGGREGATED \u003d dataiku.Dataset(\"NAFCUSTOMER_REVENUE_AGGREGATED\")\nNAFCUSTOMER_REVENUE_AGGREGATED_df \u003d NAFCUSTOMER_REVENUE_AGGREGATED.get_dataframe()\n\nNAFCUSTOMER_ACCOUNT_ANNUAL_ACTIVE_CARD_COUNT \u003d dataiku.Dataset(\"NAFCUSTOMER_ACCOUNT_ANNUAL_ACTIVE_CARD_COUNT\")\nNAFCUSTOMER_ACCOUNT_ANNUAL_ACTIVE_CARD_COUNT_df \u003d NAFCUSTOMER_ACCOUNT_ANNUAL_ACTIVE_CARD_COUNT.get_dataframe()\n\nt1 \u003d time.time()\nprint(\"load duration\", (t1-t0)/60.0, \"minutes\")\n"
      ],
      "outputs": [
        {
          "output_type": "stream",
          "text": "load duration 10.337808760007222 minutes\n",
          "name": "stdout"
        }
      ]
    },
    {
      "execution_count": 2,
      "cell_type": "code",
      "metadata": {},
      "source": [
        "# create a copy of the input datasets\n# this leaves the original dataset in memory and allows for a quick reload without having to back to Snowflake\n\nprint(len(NAFCUSTOMER_REVENUE_AGGREGATED_df), \"rows in NAFCUSTOMER_REVENUE_AGGREGATED\")\ndf \u003d NAFCUSTOMER_REVENUE_AGGREGATED_df.copy()\n\nprint(len(NAFCUSTOMER_ACCOUNT_ANNUAL_ACTIVE_CARD_COUNT_df), \"rows in NAFCUSTOMER_ACCOUNT_ANNUAL_ACTIVE_CARD_COUNT\")\ndf_a \u003d NAFCUSTOMER_ACCOUNT_ANNUAL_ACTIVE_CARD_COUNT_df"
      ],
      "outputs": [
        {
          "output_type": "stream",
          "text": "18075044 rows in NAFCUSTOMER_REVENUE_AGGREGATED\n2319568 rows in NAFCUSTOMER_ACCOUNT_ANNUAL_ACTIVE_CARD_COUNT\n",
          "name": "stdout"
        }
      ]
    },
    {
      "execution_count": 3,
      "cell_type": "code",
      "metadata": {},
      "source": [
        "# Prep data\n#\n# cast year to integer and create a revenue date column using month and year\n#\n\ndf[\u0027CUSTOMER_ID\u0027] \u003d df[\u0027CUSTOMER_ID\u0027].astype(\u0027Int64\u0027)\ndf[\u0027SETUP_DATE_DT\u0027] \u003d pd.to_datetime(df[\u0027SETUP_DATE\u0027])\ndf[\u0027SETUP_YEAR\u0027] \u003d df.SETUP_DATE_DT.dt.year\n\ndf[\u0027REVENUE_YEAR\u0027] \u003d df[\u0027REVENUE_YEAR\u0027].astype(\u0027Int64\u0027)\ndf[\u0027REVENUE_DATE\u0027] \u003d df[\u0027REVENUE_MONTH\u0027].astype(str) + \u0027-\u0027 + df[\u0027REVENUE_YEAR\u0027].astype(str)\ndf[\u0027REVENUE_DATE\u0027] \u003d pd.to_datetime(df[\u0027REVENUE_DATE\u0027], format\u003d\u0027%m-%Y\u0027).dt.strftime(\u0027%m-%Y\u0027)\n\n#\n# filter out Jan 2023 as it represents only a partial year\n#\n\nprint(len(df), \"before filter\")\ndf \u003d df[df.REVENUE_YEAR!\u003d2023]\nprint(len(df), \"after filter, removing 2023\")\n\n# break down of revenue_year\ndf.REVENUE_YEAR.value_counts()"
      ],
      "outputs": [
        {
          "output_type": "stream",
          "text": "18075044 before filter\n17673397 after filter, removing 2023\n",
          "name": "stdout"
        },
        {
          "output_type": "execute_result",
          "execution_count": 3,
          "data": {
            "text/plain": "2022    4836440\n2021    4517640\n2020    4243565\n2019    4075752\nName: REVENUE_YEAR, dtype: Int64"
          },
          "metadata": {}
        }
      ]
    },
    {
      "execution_count": 4,
      "cell_type": "code",
      "metadata": {},
      "source": [
        "import matplotlib.dates as mdates\nfrom matplotlib.ticker import FuncFormatter\nimport matplotlib.pyplot as plt\n\n# plot out sum of revenue per year\n# in order to do a quick reonciliation against \n\n# aggregate revenue at annual grain\ndf_revenue_per_year \u003d df.groupby([\u0027REVENUE_YEAR\u0027]).REVENUE_AMOUNT_USD.sum().reset_index()\ndf_revenue_per_year.REVENUE_AMOUNT_USD \u003d df_revenue_per_year.REVENUE_AMOUNT_USD\ndf_revenue_per_year.head()\n\nmax_revenue \u003d df_revenue_per_year.REVENUE_AMOUNT_USD.max()\n\nchart_revenue_year \u003d [] \nfor y in df_revenue_per_year.REVENUE_YEAR.tolist():\n    chart_revenue_year.append(str(y))\n    \nfig, ax1 \u003d plt.subplots(figsize\u003d(8,3))\nax1.plot(chart_revenue_year,df_revenue_per_year[\u0027REVENUE_AMOUNT_USD\u0027], marker\u003d\u0027o\u0027)\nax1.set_xlabel(\u0027YEAR\u0027, fontsize\u003d14)\nax1.set_ylabel(\u0027REVENUE (M)\u0027, fontsize\u003d14)\nax1.grid()\nax1.set_ylim(ymin\u003d0, ymax\u003dmax_revenue*1.15)\nax1.yaxis.set_major_formatter(FuncFormatter(lambda x, p: format(int(x), \u0027,\u0027)))\nfig.autofmt_xdate()\n#ax1.xaxis.set_major_locator(mdates.YearLocator())\nplt.show()\n\ndf_revenue_per_year.head()"
      ],
      "outputs": [
        {
          "output_type": "error",
          "ename": "NameError",
          "evalue": "name \u0027plt\u0027 is not defined",
          "traceback": [
            "\u001b[0;31m---------------------------------------------------------------------------\u001b[0m",
            "\u001b[0;31mNameError\u001b[0m                                 Traceback (most recent call last)",
            "\u001b[0;32m\u003cipython-input-4-bb5dd8e3f6b9\u003e\u001b[0m in \u001b[0;36m\u003cmodule\u003e\u001b[0;34m\u001b[0m\n\u001b[1;32m     16\u001b[0m     \u001b[0mchart_revenue_year\u001b[0m\u001b[0;34m.\u001b[0m\u001b[0mappend\u001b[0m\u001b[0;34m(\u001b[0m\u001b[0mstr\u001b[0m\u001b[0;34m(\u001b[0m\u001b[0my\u001b[0m\u001b[0;34m)\u001b[0m\u001b[0;34m)\u001b[0m\u001b[0;34m\u001b[0m\u001b[0;34m\u001b[0m\u001b[0m\n\u001b[1;32m     17\u001b[0m \u001b[0;34m\u001b[0m\u001b[0m\n\u001b[0;32m---\u003e 18\u001b[0;31m \u001b[0mfig\u001b[0m\u001b[0;34m,\u001b[0m \u001b[0max1\u001b[0m \u001b[0;34m\u003d\u001b[0m \u001b[0mplt\u001b[0m\u001b[0;34m.\u001b[0m\u001b[0msubplots\u001b[0m\u001b[0;34m(\u001b[0m\u001b[0mfigsize\u001b[0m\u001b[0;34m\u003d\u001b[0m\u001b[0;34m(\u001b[0m\u001b[0;36m8\u001b[0m\u001b[0;34m,\u001b[0m\u001b[0;36m3\u001b[0m\u001b[0;34m)\u001b[0m\u001b[0;34m)\u001b[0m\u001b[0;34m\u001b[0m\u001b[0;34m\u001b[0m\u001b[0m\n\u001b[0m\u001b[1;32m     19\u001b[0m \u001b[0max1\u001b[0m\u001b[0;34m.\u001b[0m\u001b[0mplot\u001b[0m\u001b[0;34m(\u001b[0m\u001b[0mchart_revenue_year\u001b[0m\u001b[0;34m,\u001b[0m\u001b[0mdf_revenue_per_year\u001b[0m\u001b[0;34m[\u001b[0m\u001b[0;34m\u0027REVENUE_AMOUNT_USD\u0027\u001b[0m\u001b[0;34m]\u001b[0m\u001b[0;34m,\u001b[0m \u001b[0mmarker\u001b[0m\u001b[0;34m\u003d\u001b[0m\u001b[0;34m\u0027o\u0027\u001b[0m\u001b[0;34m)\u001b[0m\u001b[0;34m\u001b[0m\u001b[0;34m\u001b[0m\u001b[0m\n\u001b[1;32m     20\u001b[0m \u001b[0max1\u001b[0m\u001b[0;34m.\u001b[0m\u001b[0mset_xlabel\u001b[0m\u001b[0;34m(\u001b[0m\u001b[0;34m\u0027YEAR\u0027\u001b[0m\u001b[0;34m,\u001b[0m \u001b[0mfontsize\u001b[0m\u001b[0;34m\u003d\u001b[0m\u001b[0;36m14\u001b[0m\u001b[0;34m)\u001b[0m\u001b[0;34m\u001b[0m\u001b[0;34m\u001b[0m\u001b[0m\n",
            "\u001b[0;31mNameError\u001b[0m: name \u0027plt\u0027 is not defined"
          ]
        }
      ]
    },
    {
      "execution_count": 0,
      "cell_type": "code",
      "metadata": {},
      "source": [
        "# Compute recipe outputs\n# TODO: Write here your actual code that computes the outputs\n# NB: DSS supports several kinds of APIs for reading and writing data. Please see doc.\n\n#TENURE_df \u003d ... # Compute a Pandas dataframe to write into TENURE\n\n\n# Write recipe outputs\n#TENURE \u003d dataiku.Dataset(\"TENURE\")\n#TENURE.write_with_schema(TENURE_df)"
      ],
      "outputs": []
    }
  ]
}