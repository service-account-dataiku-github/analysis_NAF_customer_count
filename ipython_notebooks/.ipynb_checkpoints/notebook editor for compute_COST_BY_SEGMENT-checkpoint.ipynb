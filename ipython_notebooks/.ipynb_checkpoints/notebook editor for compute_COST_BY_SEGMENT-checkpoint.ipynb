{
  "nbformat": 4,
  "nbformat_minor": 0,
  "metadata": {
    "kernelspec": {
      "display_name": "Python in cpu-m-cpu-3-mem-4Gb (builtin env)",
      "language": "python",
      "name": "py-dku-containerized-venv--cpu-m-cpu-3-mem-4gb"
    },
    "associatedRecipe": "compute_COST_BY_SEGMENT",
    "dkuGit": {
      "lastInteraction": 0
    },
    "creationTag": {
      "versionNumber": 0,
      "lastModifiedBy": {
        "login": "Daniel.Vandermeer"
      },
      "lastModifiedOn": 1677121124544
    },
    "creator": "Daniel.Vandermeer",
    "createdOn": 1677121124544,
    "tags": [
      "recipe-editor"
    ],
    "customFields": {}
  },
  "cells": [
    {
      "cell_type": "code",
      "metadata": {},
      "outputs": [],
      "execution_count": 0,
      "source": [
        "# -*- coding: utf-8 -*-\n",
        "import dataiku\n",
        "import pandas as pd, numpy as np\n",
        "from dataiku import pandasutils as pdu\n",
        "\n",
        "from datetime import date, datetime, timedelta\n",
        "import time\n",
        "\n",
        "import matplotlib.pyplot as plt\n",
        "pd.options.display.float_format \u003d \u0027{:,}\u0027.format\n",
        "\n",
        "t0 \u003d time.time()\n",
        "\n",
        "# Read recipe inputs\n",
        "NAFCUSTOMER_REVENUE_AGGREGATED_MRU_2019 \u003d dataiku.Dataset(\"NAFCUSTOMER_REVENUE_AGGREGATED_MRU_2019\")\n",
        "NAFCUSTOMER_REVENUE_AGGREGATED_MRU_2019_df \u003d NAFCUSTOMER_REVENUE_AGGREGATED_MRU_2019.get_dataframe()\n",
        "print(\u0027loaded file 2019\u0027)\n",
        "\n",
        "NAFCUSTOMER_REVENUE_AGGREGATED_MRU_2021 \u003d dataiku.Dataset(\"NAFCUSTOMER_REVENUE_AGGREGATED_MRU_2021\")\n",
        "NAFCUSTOMER_REVENUE_AGGREGATED_MRU_2021_df \u003d NAFCUSTOMER_REVENUE_AGGREGATED_MRU_2021.get_dataframe()\n",
        "print(\u0027loaded file 2020\u0027)\n",
        "\n",
        "NAFCUSTOMER_REVENUE_AGGREGATED_MRU_2020 \u003d dataiku.Dataset(\"NAFCUSTOMER_REVENUE_AGGREGATED_MRU_2020\")\n",
        "NAFCUSTOMER_REVENUE_AGGREGATED_MRU_2020_df \u003d NAFCUSTOMER_REVENUE_AGGREGATED_MRU_2020.get_dataframe()\n",
        "print(\u0027loaded file 2021\u0027)\n",
        "\n",
        "NAFCUSTOMER_REVENUE_AGGREGATED_MRU_2022 \u003d dataiku.Dataset(\"NAFCUSTOMER_REVENUE_AGGREGATED_MRU_2022\")\n",
        "NAFCUSTOMER_REVENUE_AGGREGATED_MRU_2022_df \u003d NAFCUSTOMER_REVENUE_AGGREGATED_MRU_2022.get_dataframe()\n",
        "print(\u0027loaded file 2022\u0027)\n",
        "\n",
        "NAFCUSTOMER_ACCOUNT_ANNUAL_ACTIVE_CARD_COUNT \u003d dataiku.Dataset(\"NAFCUSTOMER_ACCOUNT_ANNUAL_ACTIVE_CARD_COUNT\")\n",
        "NAFCUSTOMER_ACCOUNT_ANNUAL_ACTIVE_CARD_COUNT_df \u003d NAFCUSTOMER_ACCOUNT_ANNUAL_ACTIVE_CARD_COUNT.get_dataframe()\n",
        "print(\u0027loaded annual card count\u0027)\n",
        "\n",
        "HFM_cost_by_MRU \u003d dataiku.Dataset(\"HFM_cost_by_MRU\")\n",
        "HFM_cost_by_MRU_df \u003d HFM_cost_by_MRU.get_dataframe()\n",
        "print(\u0027loaded HFM cost data\u0027)\n",
        "\n",
        "\n",
        "t1 \u003d time.time()\n",
        "print(\"load duration\", (t1-t0)/60.0, \"minutes\")\n",
        "\n",
        "# Compute recipe outputs\n",
        "# TODO: Write here your actual code that computes the outputs\n",
        "# NB: DSS supports several kinds of APIs for reading and writing data. Please see doc."
      ]
    },
    {
      "cell_type": "code",
      "metadata": {},
      "outputs": [],
      "execution_count": 0,
      "source": [
        "row_count \u003d 0\n",
        "row_count +\u003d len(NAFCUSTOMER_REVENUE_AGGREGATED_MRU_2019_df)\n",
        "row_count +\u003d len(NAFCUSTOMER_REVENUE_AGGREGATED_MRU_2020_df)\n",
        "row_count +\u003d len(NAFCUSTOMER_REVENUE_AGGREGATED_MRU_2021_df)\n",
        "row_count +\u003d len(NAFCUSTOMER_REVENUE_AGGREGATED_MRU_2022_df)\n",
        "print(row_count)\n",
        "\n",
        "df \u003d pd.concat([NAFCUSTOMER_REVENUE_AGGREGATED_MRU_2019_df, NAFCUSTOMER_REVENUE_AGGREGATED_MRU_2020_df,\n",
        "               NAFCUSTOMER_REVENUE_AGGREGATED_MRU_2021_df, NAFCUSTOMER_REVENUE_AGGREGATED_MRU_2022_df])\n",
        "\n",
        "print(len(df), \"NAFCUSTOMER REVENUE AGGREGATED\")\n",
        "\n",
        "print(len(NAFCUSTOMER_ACCOUNT_ANNUAL_ACTIVE_CARD_COUNT_df), \"NAFCUSTOMER_ACCOUNT_ANNUAL_ACTIVE_CARD_COUNT_df\")\n",
        "df_a \u003d NAFCUSTOMER_ACCOUNT_ANNUAL_ACTIVE_CARD_COUNT_df"
      ]
    },
    {
      "cell_type": "code",
      "metadata": {},
      "outputs": [],
      "execution_count": 0,
      "source": [
        "df[\u0027CUSTOMER_ID\u0027] \u003d df[\u0027CUSTOMER_ID\u0027].astype(\u0027Int64\u0027)\n",
        "df[\u0027SETUP_DATE_DT\u0027] \u003d pd.to_datetime(df[\u0027SETUP_DATE\u0027])\n",
        "df[\u0027SETUP_YEAR\u0027] \u003d df.SETUP_DATE_DT.dt.year\n",
        "\n",
        "df[\u0027REVENUE_YEAR\u0027] \u003d df[\u0027REVENUE_YEAR\u0027].astype(\u0027Int64\u0027)\n",
        "df[\u0027REVENUE_DATE\u0027] \u003d df[\u0027REVENUE_MONTH\u0027].astype(str) + \u0027-\u0027 + df[\u0027REVENUE_YEAR\u0027].astype(str)\n",
        "df[\u0027REVENUE_DATE\u0027] \u003d pd.to_datetime(df[\u0027REVENUE_DATE\u0027], format\u003d\u0027%m-%Y\u0027).dt.strftime(\u0027%m-%Y\u0027)\n",
        "\n",
        "df[\u0027MRU\u0027] \u003d df.BI_MRU\n",
        "df.loc[df.MRU.isnull(),\u0027MRU\u0027] \u003d 3100\n",
        "df.loc[df.MRU\u003d\u003d\u0027TBD\u0027,\u0027MRU\u0027] \u003d 3100\n",
        "df[\u0027MRU\u0027] \u003d df[\u0027MRU\u0027].astype(float)\n",
        "df[\u0027MRU\u0027] \u003d df[\u0027MRU\u0027].astype(\u0027Int64\u0027)\n",
        "df.MRU.value_counts()\n",
        "\n",
        "print(len(df), \"before filter\")\n",
        "df \u003d df[df.REVENUE_YEAR!\u003d2023]\n",
        "print(len(df), \"after filter, removing 2023\")\n",
        "\n",
        "# break down of revenue_year\n",
        "df.REVENUE_YEAR.value_counts()\n",
        "\n",
        "df.head()"
      ]
    },
    {
      "cell_type": "code",
      "metadata": {},
      "outputs": [],
      "execution_count": 0,
      "source": [
        "import matplotlib.dates as mdates\n",
        "from matplotlib.ticker import FuncFormatter\n",
        "import matplotlib.pyplot as plt\n",
        "\n",
        "# plot out sum of revenue per year\n",
        "# in order to do a quick reonciliation against\n",
        "\n",
        "# aggregate revenue at annual grain\n",
        "df_revenue_per_year \u003d df.groupby([\u0027REVENUE_YEAR\u0027]).REVENUE_AMOUNT_USD.sum().reset_index()\n",
        "df_revenue_per_year.REVENUE_AMOUNT_USD \u003d df_revenue_per_year.REVENUE_AMOUNT_USD\n",
        "df_revenue_per_year.head()\n",
        "\n",
        "max_revenue \u003d df_revenue_per_year.REVENUE_AMOUNT_USD.max()\n",
        "\n",
        "chart_revenue_year \u003d []\n",
        "for y in df_revenue_per_year.REVENUE_YEAR.tolist():\n",
        "    chart_revenue_year.append(str(y))\n",
        "\n",
        "fig, ax1 \u003d plt.subplots(figsize\u003d(8,3))\n",
        "ax1.plot(chart_revenue_year,df_revenue_per_year[\u0027REVENUE_AMOUNT_USD\u0027], marker\u003d\u0027o\u0027)\n",
        "ax1.set_xlabel(\u0027YEAR\u0027, fontsize\u003d14)\n",
        "ax1.set_ylabel(\u0027REVENUE (M)\u0027, fontsize\u003d14)\n",
        "ax1.yaxis.set_major_formatter(FuncFormatter(lambda x, p: format(int(x), \u0027,\u0027)))\n",
        "ax1.grid()\n",
        "ax1.set_ylim(ymin\u003d0, ymax\u003dmax_revenue*1.15)\n",
        "ax1.yaxis.set_major_formatter(FuncFormatter(lambda x, p: format(int(x), \u0027,\u0027)))\n",
        "fig.autofmt_xdate()\n",
        "plt.title(\u0027Quick Revenue Reconciliation Table\u0027)\n",
        "plt.show()\n",
        "\n",
        "df_revenue_per_year.head()"
      ]
    },
    {
      "cell_type": "code",
      "metadata": {},
      "outputs": [],
      "execution_count": 0,
      "source": [
        "df_customer_MRU \u003d df.groupby([\u0027CUSTOMER_ID\u0027,\u0027CUSTOMER\u0027]).MRU.min().reset_index()\n",
        "df_customer_program \u003d df.groupby([\u0027CUSTOMER_ID\u0027,\u0027CUSTOMER\u0027]).CUSTOMER_BUSINESS_PROGRAM_NAME.first().reset_index()\n",
        "\n",
        "df_customer_revenue_by_year \u003d df.groupby([\u0027CUSTOMER_ID\u0027,\u0027CUSTOMER\u0027,\u0027REVENUE_YEAR\u0027]).REVENUE_AMOUNT_USD.sum().reset_index()\n",
        "print(len(df_customer_revenue_by_year))\n",
        "\n",
        "df_active_card_count_by_customer \u003d df_a.groupby([\u0027CUSTOMER_ID\u0027,\u0027CUSTOMER\u0027,\u0027YEAR_NUMBER\u0027]).ACTIVE_CARD_COUNT.sum().reset_index()\n",
        "df_active_card_count_by_customer.columns \u003d [\u0027CUSTOMER_ID\u0027,\u0027CUSTOMER\u0027,\u0027REVENUE_YEAR\u0027,\u0027ACTIVE_CARD_COUNT\u0027]\n",
        "df_active_card_count_by_customer.head()\n",
        "\n",
        "df_x \u003d pd.merge(df_customer_revenue_by_year,df_active_card_count_by_customer, how\u003d\u0027left\u0027, on\u003d[\u0027CUSTOMER_ID\u0027,\u0027CUSTOMER\u0027,\u0027REVENUE_YEAR\u0027])\n",
        "print(len(df_x))\n",
        "\n",
        "df_customer_fleet_size \u003d df_active_card_count_by_customer.groupby([\u0027CUSTOMER_ID\u0027,\u0027CUSTOMER\u0027]).ACTIVE_CARD_COUNT.max().reset_index()\n",
        "df_customer_fleet_size.columns \u003d [\u0027CUSTOMER_ID\u0027, \u0027CUSTOMER\u0027, \u0027FLEET_SIZE\u0027]\n",
        "\n",
        "df_x \u003d pd.merge(df_x, df_customer_fleet_size, how\u003d\u0027left\u0027, on\u003d[\u0027CUSTOMER_ID\u0027,\u0027CUSTOMER\u0027])\n",
        "print(len(df_x))\n",
        "\n",
        "df_x \u003d pd.merge(df_x, df_customer_MRU, how\u003d\u0027left\u0027, on\u003d[\u0027CUSTOMER_ID\u0027,\u0027CUSTOMER\u0027])\n",
        "print(len(df_x))\n",
        "\n",
        "df_x \u003d pd.merge(df_x, df_customer_program, how\u003d\u0027left\u0027, on\u003d[\u0027CUSTOMER_ID\u0027,\u0027CUSTOMER\u0027])\n",
        "print(len(df_x))\n",
        "\n",
        "df_x.loc[df_x.CUSTOMER_BUSINESS_PROGRAM_NAME\u003d\u003d\u0027WEX Universal\u0027,\u0027MRU\u0027] \u003d 4120\n",
        "df_x.head()"
      ]
    },
    {
      "cell_type": "code",
      "metadata": {},
      "outputs": [],
      "execution_count": 0,
      "source": [
        "revenue_by_MRU \u003d df_x.groupby([\u0027MRU\u0027,\u0027REVENUE_YEAR\u0027]).REVENUE_AMOUNT_USD.sum().reset_index()\n",
        "revenue_by_MRU[revenue_by_MRU.REVENUE_YEAR.isin([2020,2021])]"
      ]
    },
    {
      "cell_type": "code",
      "metadata": {},
      "outputs": [],
      "execution_count": 0,
      "source": [
        "revenue_by_MRU \u003d df_x.groupby([\u0027MRU\u0027,\u0027REVENUE_YEAR\u0027]).ACTIVE_CARD_COUNT.sum().reset_index()\n",
        "revenue_by_MRU[revenue_by_MRU.REVENUE_YEAR.isin([2020,2021])]"
      ]
    },
    {
      "cell_type": "code",
      "metadata": {},
      "outputs": [],
      "execution_count": 0,
      "source": [
        "# create dataset by year,customer,business program, mru\n",
        "# join in customer fleet size\n",
        "# render revenue by MRU for 2020\n",
        "# render revenue by MRU for 2021\n",
        "# find the fleet size threshold that will move customers in oder to right size the revenue amounts\n",
        "# summarize the counts\n",
        "\n",
        "#df_active_card_count_by_customer \u003d df_a.groupby([\u0027CUSTOMER_ID\u0027,\u0027CUSTOMER\u0027,\u0027YEAR_NUMBER\u0027]).ACTIVE_CARD_COUNT.sum().reset_index()\n",
        "#df_active_card_count_by_customer.columns \u003d [\u0027CUSTOMER_ID\u0027,\u0027CUSTOMER\u0027,\u0027REVENUE_YEAR\u0027,\u0027ACTIVE_CARD_COUNT\u0027]\n",
        "#print(len(df_active_card_count_by_customer))\n",
        "\n",
        "#df_customer_fleet_size \u003d df_active_card_count_by_customer.groupby([\u0027CUSTOMER_ID\u0027,\u0027CUSTOMER\u0027]).ACTIVE_CARD_COUNT.max().reset_index()\n",
        "#df_customer_fleet_size.columns \u003d [\u0027CUSTOMER_ID\u0027, \u0027CUSTOMER\u0027, \u0027FLEET_SIZE\u0027]\n",
        "\n",
        "#df_active_card_count_by_customer \u003d pd.merge(df_active_card_count_by_customer,df_customer_fleet_size, on\u003d[\u0027CUSTOMER_ID\u0027,\u0027CUSTOMER\u0027], how\u003d\u0027left\u0027)\n",
        "#print(len(df_active_card_count_by_customer))\n",
        "\n",
        "#df_customer_program \u003d pd.merge(df_customer_program,df_active_card_count_by_customer, how\u003d\u0027left\u0027, on\u003d[\u0027CUSTOMER_ID\u0027,\u0027CUSTOMER\u0027,\u0027REVENUE_YEAR\u0027])\n",
        "#print(len(df_customer_program))\n",
        "#df_customer_program.head()"
      ]
    },
    {
      "cell_type": "code",
      "metadata": {},
      "outputs": [],
      "execution_count": 0,
      "source": [
        "print(len(df_active_card_count_by_customer))\n",
        "df_active_card_count_by_customer.drop_duplicates(subset\u003d[\u0027CUSTOMER_ID\u0027], inplace\u003dTrue)\n",
        "print(len(df_active_card_count_by_customer))"
      ]
    },
    {
      "cell_type": "code",
      "metadata": {},
      "outputs": [],
      "execution_count": 0,
      "source": [
        "#COST_BY_SEGMENT_df \u003d ... # Compute a Pandas dataframe to write into COST_BY_SEGMENT\n",
        "\n",
        "# Write recipe outputs\n",
        "#COST_BY_SEGMENT \u003d dataiku.Dataset(\"COST_BY_SEGMENT\")\n",
        "#COST_BY_SEGMENT.write_with_schema(COST_BY_SEGMENT_df)"
      ]
    }
  ]
}