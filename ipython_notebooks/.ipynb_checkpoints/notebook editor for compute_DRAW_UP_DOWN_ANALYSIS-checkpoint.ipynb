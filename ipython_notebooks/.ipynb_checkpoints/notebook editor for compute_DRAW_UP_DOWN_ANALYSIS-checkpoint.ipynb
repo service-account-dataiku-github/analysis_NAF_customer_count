{
  "metadata": {
    "kernelspec": {
      "name": "py-dku-venv-env_clc",
      "display_name": "Python (env env_clc)",
      "language": "python"
    },
    "associatedRecipe": "compute_DRAW_UP_DOWN_ANALYSIS",
    "creator": "Daniel.Vandermeer",
    "createdOn": 1666183844698,
    "tags": [
      "recipe-editor"
    ],
    "customFields": {},
    "hide_input": false,
    "language_info": {
      "name": "python",
      "version": "3.6.8",
      "mimetype": "text/x-python",
      "codemirror_mode": {
        "name": "ipython",
        "version": 3
      },
      "pygments_lexer": "ipython3",
      "nbconvert_exporter": "python",
      "file_extension": ".py"
    },
    "modifiedBy": "Daniel.Vandermeer"
  },
  "nbformat": 4,
  "nbformat_minor": 1,
  "cells": [
    {
      "execution_count": 29,
      "cell_type": "code",
      "metadata": {},
      "source": [
        "# -*- coding: utf-8 -*-\nimport dataiku\nimport pandas as pd, numpy as np\nfrom dataiku import pandasutils as pdu\n\n# Read recipe inputs\nCALCULATED_CARD_DRAW_UPS_FULL \u003d dataiku.Dataset(\"CALCULATED_CARD_DRAW_UPS_FULL\")\nCALCULATED_CARD_DRAW_UPS_FULL_df \u003d CALCULATED_CARD_DRAW_UPS_FULL.get_dataframe()\n\nCALCULATED_CARD_DRAW_DOWNS_FULL \u003d dataiku.Dataset(\"CALCULATED_CARD_DRAW_DOWNS_FULL\")\nCALCULATED_CARD_DRAW_DOWNS_FULL_df \u003d CALCULATED_CARD_DRAW_DOWNS_FULL.get_dataframe()\n\nCOMMON_WORDS \u003d dataiku.Dataset(\"NAFCUSTOMER_COMMON_WORDS_IN_NAMES\")\nCOMMON_WORDS_df \u003d COMMON_WORDS.get_dataframe()"
      ],
      "outputs": []
    },
    {
      "execution_count": 32,
      "cell_type": "code",
      "metadata": {},
      "source": [
        "df_down \u003d CALCULATED_CARD_DRAW_DOWNS_FULL_df\ndf_up \u003d CALCULATED_CARD_DRAW_UPS_FULL_df\ndf_common \u003d COMMON_WORDS_df\n_common_words \u003d df_common.WORD.unique()\n\nprint(len(df_down))\nprint(len(df_up))\nprint(len(_common_words), \"screening against common words\")"
      ],
      "outputs": [
        {
          "output_type": "stream",
          "text": "182341\n351542\n2173 screening against common words\n",
          "name": "stdout"
        }
      ]
    },
    {
      "execution_count": 35,
      "cell_type": "code",
      "metadata": {
        "scrolled": false
      },
      "source": [
        "import time\nimport difflib\nfrom fuzzywuzzy import fuzz\n\ncustomers_ \u003d [\u0027AMGEN USA INC\u0027, \u0027OMEROS CORP PO#100752\u0027, \u0027BRITE LINE ASPHALT MAINTENANCE\u0027, \u0027MOSS FARMS (04)(2)\u0027,\n              \u0027JAMES H COWAN \u0026 ASSOC INC\u0027,\u0027WATTS EQUIPMENT CO INC\u0027,\u0027CUIVRE RIVER ELECT\u0027,\u0027BENTONS EQUIPMENT \u0026 CONSTRUCTI\u0027,\n             \u0027MILLENNIUM PHARMA\u0027,\u0027CONSTELLATION BRANDS (3CRW)\u0027]\n\n_cut_off \u003d [0.95, 0.90, 0.8, 0.7, 0.6]\n\nfor c in customers_:\n\n    \n    c_str \u003d c.translate(str.maketrans(\u0027\u0027, \u0027\u0027, string.punctuation))\n    f \u003d c_str.split()\n    \n    c_clean \u003d \"\"\n    for w in w:\n        if not w in _common_words:\n            print(\"#\" + w + \"#s\")\n            c_clean +\u003d w\n    \n    print(\u0027processing:\u0027, c, \"[\", c_clean, \"]\")\n    \n    c \u003d c_clean\n    \n    t0 \u003d time.time()\n    for co in _cut_off:\n\n        \n        print(\"cut off\", co)\n        matches \u003d difflib.get_close_matches(c, df_up[\u0027CUSTOMER\u0027].unique(), n\u003d300, cutoff\u003dco)\n\n        if len(matches)\u003e0:\n            t1 \u003d time.time()\n            avg_duration \u003d ((t1-t0))\n            print(len(matches), \"matches\", avg_duration)\n            print()\n            print(matches)\n        else:\n            print(\"no matches\", avg_duration)\n        print()\n        \n    print()\n    print(\"---\")\n    print()\n"
      ],
      "outputs": [
        {
          "output_type": "error",
          "ename": "NameError",
          "evalue": "name \u0027name\u0027 is not defined",
          "traceback": [
            "\u001b[0;31m---------------------------------------------------------------------------\u001b[0m",
            "\u001b[0;31mNameError\u001b[0m                                 Traceback (most recent call last)",
            "\u001b[0;32m\u003cipython-input-35-f7ef42563e19\u003e\u001b[0m in \u001b[0;36m\u003cmodule\u003e\u001b[0;34m\u001b[0m\n\u001b[1;32m     12\u001b[0m \u001b[0;34m\u001b[0m\u001b[0m\n\u001b[1;32m     13\u001b[0m \u001b[0;34m\u001b[0m\u001b[0m\n\u001b[0;32m---\u003e 14\u001b[0;31m     \u001b[0mc_str\u001b[0m \u001b[0;34m\u003d\u001b[0m \u001b[0mname\u001b[0m\u001b[0;34m.\u001b[0m\u001b[0mtranslate\u001b[0m\u001b[0;34m(\u001b[0m\u001b[0mstr\u001b[0m\u001b[0;34m.\u001b[0m\u001b[0mmaketrans\u001b[0m\u001b[0;34m(\u001b[0m\u001b[0;34m\u0027\u0027\u001b[0m\u001b[0;34m,\u001b[0m \u001b[0;34m\u0027\u0027\u001b[0m\u001b[0;34m,\u001b[0m \u001b[0mstring\u001b[0m\u001b[0;34m.\u001b[0m\u001b[0mpunctuation\u001b[0m\u001b[0;34m)\u001b[0m\u001b[0;34m)\u001b[0m\u001b[0;34m\u001b[0m\u001b[0;34m\u001b[0m\u001b[0m\n\u001b[0m\u001b[1;32m     15\u001b[0m     \u001b[0mf\u001b[0m \u001b[0;34m\u003d\u001b[0m \u001b[0mc_str\u001b[0m\u001b[0;34m.\u001b[0m\u001b[0msplit\u001b[0m\u001b[0;34m(\u001b[0m\u001b[0;34m)\u001b[0m\u001b[0;34m\u001b[0m\u001b[0;34m\u001b[0m\u001b[0m\n\u001b[1;32m     16\u001b[0m \u001b[0;34m\u001b[0m\u001b[0m\n",
            "\u001b[0;31mNameError\u001b[0m: name \u0027name\u0027 is not defined"
          ]
        }
      ]
    },
    {
      "execution_count": 0,
      "cell_type": "code",
      "metadata": {},
      "source": [
        "# Compute recipe outputs\n# TODO: Write here your actual code that computes the outputs\n# NB: DSS supports several kinds of APIs for reading and writing data. Please see doc.\n\n#DRAW_UP_DOWN_ANALYSIS_df \u003d ... # Compute a Pandas dataframe to write into DRAW_UP_DOWN_ANALYSIS\n\n# Write recipe outputs\n#DRAW_UP_DOWN_ANALYSIS \u003d dataiku.Dataset(\"DRAW_UP_DOWN_ANALYSIS\")\n#DRAW_UP_DOWN_ANALYSIS.write_with_schema(DRAW_UP_DOWN_ANALYSIS_df)"
      ],
      "outputs": []
    }
  ]
}