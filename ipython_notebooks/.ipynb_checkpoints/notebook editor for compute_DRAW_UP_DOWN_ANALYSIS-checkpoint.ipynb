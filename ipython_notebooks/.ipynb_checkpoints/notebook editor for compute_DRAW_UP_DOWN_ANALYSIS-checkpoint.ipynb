{
  "metadata": {
    "kernelspec": {
      "name": "py-dku-venv-env_clc",
      "display_name": "Python (env env_clc)",
      "language": "python"
    },
    "associatedRecipe": "compute_DRAW_UP_DOWN_ANALYSIS",
    "creator": "Daniel.Vandermeer",
    "createdOn": 1666183844698,
    "tags": [
      "recipe-editor"
    ],
    "customFields": {},
    "hide_input": false,
    "language_info": {
      "name": "python",
      "version": "3.6.8",
      "mimetype": "text/x-python",
      "codemirror_mode": {
        "name": "ipython",
        "version": 3
      },
      "pygments_lexer": "ipython3",
      "nbconvert_exporter": "python",
      "file_extension": ".py"
    },
    "modifiedBy": "Daniel.Vandermeer"
  },
  "nbformat": 4,
  "nbformat_minor": 1,
  "cells": [
    {
      "execution_count": 29,
      "cell_type": "code",
      "metadata": {},
      "source": [
        "# -*- coding: utf-8 -*-\nimport dataiku\nimport pandas as pd, numpy as np\nfrom dataiku import pandasutils as pdu\n\n# Read recipe inputs\nCALCULATED_CARD_DRAW_UPS_FULL \u003d dataiku.Dataset(\"CALCULATED_CARD_DRAW_UPS_FULL\")\nCALCULATED_CARD_DRAW_UPS_FULL_df \u003d CALCULATED_CARD_DRAW_UPS_FULL.get_dataframe()\n\nCALCULATED_CARD_DRAW_DOWNS_FULL \u003d dataiku.Dataset(\"CALCULATED_CARD_DRAW_DOWNS_FULL\")\nCALCULATED_CARD_DRAW_DOWNS_FULL_df \u003d CALCULATED_CARD_DRAW_DOWNS_FULL.get_dataframe()\n\nCOMMON_WORDS \u003d dataiku.Dataset(\"NAFCUSTOMER_COMMON_WORDS_IN_NAMES\")\nCOMMON_WORDS_df \u003d COMMON_WORDS.get_dataframe()"
      ],
      "outputs": []
    },
    {
      "execution_count": 32,
      "cell_type": "code",
      "metadata": {},
      "source": [
        "df_down \u003d CALCULATED_CARD_DRAW_DOWNS_FULL_df\ndf_up \u003d CALCULATED_CARD_DRAW_UPS_FULL_df\ndf_common \u003d COMMON_WORDS_df\n_common_words \u003d df_common.WORD.unique()\n\nprint(len(df_down))\nprint(len(df_up))\nprint(len(_common_words), \"screening against common words\")"
      ],
      "outputs": [
        {
          "output_type": "stream",
          "text": "182341\n351542\n2173 screening against common words\n",
          "name": "stdout"
        }
      ]
    },
    {
      "execution_count": 38,
      "cell_type": "code",
      "metadata": {
        "scrolled": false
      },
      "source": [
        "import string\nimport time\nimport difflib\nfrom fuzzywuzzy import fuzz\n\ncustomers_ \u003d [\u0027AMGEN USA INC\u0027, \u0027OMEROS CORP PO#100752\u0027, \u0027BRITE LINE ASPHALT MAINTENANCE\u0027, \u0027MOSS FARMS (04)(2)\u0027,\n              \u0027JAMES H COWAN \u0026 ASSOC INC\u0027,\u0027WATTS EQUIPMENT CO INC\u0027,\u0027CUIVRE RIVER ELECT\u0027,\u0027BENTONS EQUIPMENT \u0026 CONSTRUCTI\u0027,\n             \u0027MILLENNIUM PHARMA\u0027,\u0027CONSTELLATION BRANDS (3CRW)\u0027]\n\n_cut_off \u003d [0.95, 0.90, 0.8, 0.7, 0.6]\n\nfor c in customers_:\n\n    \n    c_str \u003d c.translate(str.maketrans(\u0027\u0027, \u0027\u0027, string.punctuation))\n    f \u003d c_str.split()\n    \n    c_clean \u003d \"\"\n    for w in f:\n        if not w in _common_words:\n            if len(c_clean)\u003e0:\n                c_clean +\u003d \" \"\n            c_clean +\u003d w\n    \n    print(\u0027processing:\u0027, c, \"[\", c_clean, \"]\")\n    \n    c \u003d c_clean\n    \n    t0 \u003d time.time()\n    for co in _cut_off:\n\n        \n        print(\"cut off\", co)\n        matches \u003d difflib.get_close_matches(c, df_up[\u0027CUSTOMER\u0027].unique(), n\u003d300, cutoff\u003dco)\n\n        if len(matches)\u003e0:\n            t1 \u003d time.time()\n            avg_duration \u003d ((t1-t0))\n            print(len(matches), \"matches\", avg_duration)\n            print()\n            print(matches)\n        else:\n            print(\"no matches\", avg_duration)\n        print()\n        \n    print()\n    print(\"---\")\n    print()\n"
      ],
      "outputs": [
        {
          "output_type": "stream",
          "text": "#AMGEN#s\nprocessing: AMGEN USA INC [ AMGEN ]\ncut off 0.95\nno matches 2.045980215072632\n\ncut off 0.9\nno matches 2.045980215072632\n\ncut off 0.8\nno matches 2.045980215072632\n\ncut off 0.7\n3 matches 1.6621160507202148\n\n[\u0027DAMENU\u0027, \u0027AMGEN USA\u0027, \u0027AM AGENCY\u0027]\n\ncut off 0.6\n15 matches 2.1317806243896484\n\n[\u0027DAMENU\u0027, \u0027AMGEN USA\u0027, \u0027AM AGENCY\u0027, \u0027SAME\u0027, \u0027AME INC\u0027, \u0027A2M AGENTS\u0027, \u0027JAMIE GREEN\u0027, \u0027JAMES HAGEN\u0027, \u0027HAMILENS\u0027, \u0027AGIE INC\u0027, \u0027Z GEN\u0027, \u0027SARGE\u0027, \u0027KAGES\u0027, \u0027BAGGE\u0027, \u0027AGAPE\u0027]\n\n\n---\n\n#OMEROS#s\n#PO100752#s\nprocessing: OMEROS CORP PO#100752 [ OMEROSPO100752 ]\ncut off 0.95\nno matches 2.1317806243896484\n\ncut off 0.9\nno matches 2.1317806243896484\n\ncut off 0.8\nno matches 2.1317806243896484\n\ncut off 0.7\nno matches 2.1317806243896484\n\ncut off 0.6\nno matches 2.1317806243896484\n\n\n---\n\n#BRITE#s\nprocessing: BRITE LINE ASPHALT MAINTENANCE [ BRITE ]\ncut off 0.95\nno matches 2.1317806243896484\n\ncut off 0.9\nno matches 2.1317806243896484\n\ncut off 0.8\nno matches 2.1317806243896484\n\ncut off 0.7\n2 matches 1.665588617324829\n\n[\u0027BRITE AV\u0027, \u0027BARRIE\u0027]\n\ncut off 0.6\n19 matches 2.1351776123046875\n\n[\u0027BRITE AV\u0027, \u0027BARRIE\u0027, \u0027SITE\u0027, \u0027MOBRIEN\u0027, \u0027BRYTECH\u0027, \u0027BARTECH\u0027, \u0027BRITTEX LLC\u0027, \u0027BRITECH INC\u0027, \u0027SPRINTER\u0027, \u0027RDBRIDGE\u0027, \u0027PRISTINE\u0027, \u0027MB RIDES\u0027, \u0027ERIC TYE\u0027, \u0027DUNNRITE\u0027, \u0027BIZTEGIC\u0027, \u0027RIFLE\u0027, \u0027HITEK\u0027, \u0027BRISS\u0027, \u0027ARIEL\u0027]\n\n\n---\n\n#MOSS#s\n#042#s\nprocessing: MOSS FARMS (04)(2) [ MOSS042 ]\ncut off 0.95\nno matches 2.1351776123046875\n\ncut off 0.9\nno matches 2.1351776123046875\n\ncut off 0.8\nno matches 2.1351776123046875\n\ncut off 0.7\nno matches 2.1351776123046875\n\ncut off 0.6\n1 matches 2.488976001739502\n\n[\u0027MSS\u0027]\n\n\n---\n\n#H#s\n#COWAN#s\nprocessing: JAMES H COWAN \u0026 ASSOC INC [ HCOWAN ]\ncut off 0.95\nno matches 2.488976001739502\n\ncut off 0.9\nno matches 2.488976001739502\n\ncut off 0.8\nno matches 2.488976001739502\n\ncut off 0.7\n1 matches 1.715419054031372\n\n[\u0027MCGOWANS\u0027]\n\ncut off 0.6\n5 matches 2.2950210571289062\n\n[\u0027MCGOWANS\u0027, \u0027COA INC\u0027, \u0027BJHOGAN\u0027, \u0027UCAN\u0027, \u0027HCWP\u0027]\n\n\n---\n\n#WATTS#s\nprocessing: WATTS EQUIPMENT CO INC [ WATTS ]\ncut off 0.95\nno matches 2.2950210571289062\n\ncut off 0.9\nno matches 2.2950210571289062\n\ncut off 0.8\nno matches 2.2950210571289062\n\ncut off 0.7\nno matches 2.2950210571289062\n\ncut off 0.6\n5 matches 2.1280879974365234\n\n[\u0027ARTTEES\u0027, \u0027ARTENTS\u0027, \u0027JAMIE WATTS\u0027, \u0027JOWAT SE\u0027, \u0027DARTS\u0027]\n\n\n---\n\n#CUIVRE#s\n#ELECT#s\nprocessing: CUIVRE RIVER ELECT [ CUIVREELECT ]\ncut off 0.95\n",
          "name": "stdout"
        },
        {
          "output_type": "error",
          "ename": "KeyboardInterrupt",
          "evalue": "",
          "traceback": [
            "\u001b[0;31m---------------------------------------------------------------------------\u001b[0m",
            "\u001b[0;31mKeyboardInterrupt\u001b[0m                         Traceback (most recent call last)",
            "\u001b[0;32m\u003cipython-input-38-437681a5167e\u003e\u001b[0m in \u001b[0;36m\u003cmodule\u003e\u001b[0;34m\u001b[0m\n\u001b[1;32m     31\u001b[0m \u001b[0;34m\u001b[0m\u001b[0m\n\u001b[1;32m     32\u001b[0m         \u001b[0mprint\u001b[0m\u001b[0;34m(\u001b[0m\u001b[0;34m\"cut off\"\u001b[0m\u001b[0;34m,\u001b[0m \u001b[0mco\u001b[0m\u001b[0;34m)\u001b[0m\u001b[0;34m\u001b[0m\u001b[0;34m\u001b[0m\u001b[0m\n\u001b[0;32m---\u003e 33\u001b[0;31m         \u001b[0mmatches\u001b[0m \u001b[0;34m\u003d\u001b[0m \u001b[0mdifflib\u001b[0m\u001b[0;34m.\u001b[0m\u001b[0mget_close_matches\u001b[0m\u001b[0;34m(\u001b[0m\u001b[0mc\u001b[0m\u001b[0;34m,\u001b[0m \u001b[0mdf_up\u001b[0m\u001b[0;34m[\u001b[0m\u001b[0;34m\u0027CUSTOMER\u0027\u001b[0m\u001b[0;34m]\u001b[0m\u001b[0;34m.\u001b[0m\u001b[0munique\u001b[0m\u001b[0;34m(\u001b[0m\u001b[0;34m)\u001b[0m\u001b[0;34m,\u001b[0m \u001b[0mn\u001b[0m\u001b[0;34m\u003d\u001b[0m\u001b[0;36m300\u001b[0m\u001b[0;34m,\u001b[0m \u001b[0mcutoff\u001b[0m\u001b[0;34m\u003d\u001b[0m\u001b[0mco\u001b[0m\u001b[0;34m)\u001b[0m\u001b[0;34m\u001b[0m\u001b[0;34m\u001b[0m\u001b[0m\n\u001b[0m\u001b[1;32m     34\u001b[0m \u001b[0;34m\u001b[0m\u001b[0m\n\u001b[1;32m     35\u001b[0m         \u001b[0;32mif\u001b[0m \u001b[0mlen\u001b[0m\u001b[0;34m(\u001b[0m\u001b[0mmatches\u001b[0m\u001b[0;34m)\u001b[0m\u001b[0;34m\u003e\u001b[0m\u001b[0;36m0\u001b[0m\u001b[0;34m:\u001b[0m\u001b[0;34m\u001b[0m\u001b[0;34m\u001b[0m\u001b[0m\n",
            "\u001b[0;32m/usr/lib64/python3.6/difflib.py\u001b[0m in \u001b[0;36mget_close_matches\u001b[0;34m(word, possibilities, n, cutoff)\u001b[0m\n\u001b[1;32m    725\u001b[0m         \u001b[0ms\u001b[0m\u001b[0;34m.\u001b[0m\u001b[0mset_seq1\u001b[0m\u001b[0;34m(\u001b[0m\u001b[0mx\u001b[0m\u001b[0;34m)\u001b[0m\u001b[0;34m\u001b[0m\u001b[0;34m\u001b[0m\u001b[0m\n\u001b[1;32m    726\u001b[0m         \u001b[0;32mif\u001b[0m \u001b[0ms\u001b[0m\u001b[0;34m.\u001b[0m\u001b[0mreal_quick_ratio\u001b[0m\u001b[0;34m(\u001b[0m\u001b[0;34m)\u001b[0m \u001b[0;34m\u003e\u003d\u001b[0m \u001b[0mcutoff\u001b[0m \u001b[0;32mand\u001b[0m\u001b[0;31m \u001b[0m\u001b[0;31m\\\u001b[0m\u001b[0;34m\u001b[0m\u001b[0;34m\u001b[0m\u001b[0m\n\u001b[0;32m--\u003e 727\u001b[0;31m            \u001b[0ms\u001b[0m\u001b[0;34m.\u001b[0m\u001b[0mquick_ratio\u001b[0m\u001b[0;34m(\u001b[0m\u001b[0;34m)\u001b[0m \u001b[0;34m\u003e\u003d\u001b[0m \u001b[0mcutoff\u001b[0m \u001b[0;32mand\u001b[0m\u001b[0;31m \u001b[0m\u001b[0;31m\\\u001b[0m\u001b[0;34m\u001b[0m\u001b[0;34m\u001b[0m\u001b[0m\n\u001b[0m\u001b[1;32m    728\u001b[0m            \u001b[0ms\u001b[0m\u001b[0;34m.\u001b[0m\u001b[0mratio\u001b[0m\u001b[0;34m(\u001b[0m\u001b[0;34m)\u001b[0m \u001b[0;34m\u003e\u003d\u001b[0m \u001b[0mcutoff\u001b[0m\u001b[0;34m:\u001b[0m\u001b[0;34m\u001b[0m\u001b[0;34m\u001b[0m\u001b[0m\n\u001b[1;32m    729\u001b[0m             \u001b[0mresult\u001b[0m\u001b[0;34m.\u001b[0m\u001b[0mappend\u001b[0m\u001b[0;34m(\u001b[0m\u001b[0;34m(\u001b[0m\u001b[0ms\u001b[0m\u001b[0;34m.\u001b[0m\u001b[0mratio\u001b[0m\u001b[0;34m(\u001b[0m\u001b[0;34m)\u001b[0m\u001b[0;34m,\u001b[0m \u001b[0mx\u001b[0m\u001b[0;34m)\u001b[0m\u001b[0;34m)\u001b[0m\u001b[0;34m\u001b[0m\u001b[0;34m\u001b[0m\u001b[0m\n",
            "\u001b[0;32m/usr/lib64/python3.6/difflib.py\u001b[0m in \u001b[0;36mquick_ratio\u001b[0;34m(self)\u001b[0m\n\u001b[1;32m    664\u001b[0m         \u001b[0mavail\u001b[0m \u001b[0;34m\u003d\u001b[0m \u001b[0;34m{\u001b[0m\u001b[0;34m}\u001b[0m\u001b[0;34m\u001b[0m\u001b[0;34m\u001b[0m\u001b[0m\n\u001b[1;32m    665\u001b[0m         \u001b[0mavailhas\u001b[0m\u001b[0;34m,\u001b[0m \u001b[0mmatches\u001b[0m \u001b[0;34m\u003d\u001b[0m \u001b[0mavail\u001b[0m\u001b[0;34m.\u001b[0m\u001b[0m__contains__\u001b[0m\u001b[0;34m,\u001b[0m \u001b[0;36m0\u001b[0m\u001b[0;34m\u001b[0m\u001b[0;34m\u001b[0m\u001b[0m\n\u001b[0;32m--\u003e 666\u001b[0;31m         \u001b[0;32mfor\u001b[0m \u001b[0melt\u001b[0m \u001b[0;32min\u001b[0m \u001b[0mself\u001b[0m\u001b[0;34m.\u001b[0m\u001b[0ma\u001b[0m\u001b[0;34m:\u001b[0m\u001b[0;34m\u001b[0m\u001b[0;34m\u001b[0m\u001b[0m\n\u001b[0m\u001b[1;32m    667\u001b[0m             \u001b[0;32mif\u001b[0m \u001b[0mavailhas\u001b[0m\u001b[0;34m(\u001b[0m\u001b[0melt\u001b[0m\u001b[0;34m)\u001b[0m\u001b[0;34m:\u001b[0m\u001b[0;34m\u001b[0m\u001b[0;34m\u001b[0m\u001b[0m\n\u001b[1;32m    668\u001b[0m                 \u001b[0mnumb\u001b[0m \u001b[0;34m\u003d\u001b[0m \u001b[0mavail\u001b[0m\u001b[0;34m[\u001b[0m\u001b[0melt\u001b[0m\u001b[0;34m]\u001b[0m\u001b[0;34m\u001b[0m\u001b[0;34m\u001b[0m\u001b[0m\n",
            "\u001b[0;31mKeyboardInterrupt\u001b[0m: "
          ]
        }
      ]
    },
    {
      "execution_count": 0,
      "cell_type": "code",
      "metadata": {},
      "source": [
        "# Compute recipe outputs\n# TODO: Write here your actual code that computes the outputs\n# NB: DSS supports several kinds of APIs for reading and writing data. Please see doc.\n\n#DRAW_UP_DOWN_ANALYSIS_df \u003d ... # Compute a Pandas dataframe to write into DRAW_UP_DOWN_ANALYSIS\n\n# Write recipe outputs\n#DRAW_UP_DOWN_ANALYSIS \u003d dataiku.Dataset(\"DRAW_UP_DOWN_ANALYSIS\")\n#DRAW_UP_DOWN_ANALYSIS.write_with_schema(DRAW_UP_DOWN_ANALYSIS_df)"
      ],
      "outputs": []
    }
  ]
}