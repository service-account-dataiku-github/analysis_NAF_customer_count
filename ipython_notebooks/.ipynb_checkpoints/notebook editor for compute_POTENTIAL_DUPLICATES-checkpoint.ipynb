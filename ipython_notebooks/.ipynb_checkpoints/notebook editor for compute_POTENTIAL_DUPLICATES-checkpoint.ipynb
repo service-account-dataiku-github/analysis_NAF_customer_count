{
  "metadata": {
    "kernelspec": {
      "name": "py-dku-venv-env_clc",
      "display_name": "Python (env env_clc)",
      "language": "python"
    },
    "associatedRecipe": "compute_POTENTIAL_DUPLICATES",
    "dkuGit": {
      "lastInteraction": 0
    },
    "creationTag": {
      "versionNumber": 0,
      "lastModifiedBy": {
        "login": "Daniel.Vandermeer"
      },
      "lastModifiedOn": 1665752610945
    },
    "creator": "Daniel.Vandermeer",
    "createdOn": 1665752610945,
    "tags": [
      "recipe-editor"
    ],
    "customFields": {},
    "hide_input": false,
    "language_info": {
      "name": "python",
      "version": "3.6.8",
      "mimetype": "text/x-python",
      "codemirror_mode": {
        "name": "ipython",
        "version": 3
      },
      "pygments_lexer": "ipython3",
      "nbconvert_exporter": "python",
      "file_extension": ".py"
    },
    "modifiedBy": "Daniel.Vandermeer"
  },
  "nbformat": 4,
  "nbformat_minor": 1,
  "cells": [
    {
      "execution_count": 39,
      "cell_type": "code",
      "metadata": {},
      "source": [
        "# -*- coding: utf-8 -*-\nimport dataiku\nimport pandas as pd, numpy as np\nfrom dataiku import pandasutils as pdu\n\n# Read recipe inputs\nCALCULATED_CARD_DRAW_DOWNS \u003d dataiku.Dataset(\"CALCULATED_CARD_DRAW_DOWNS\")\nCALCULATED_CARD_DRAW_DOWNS_df \u003d CALCULATED_CARD_DRAW_DOWNS.get_dataframe()\n\nCALCULATED_CARD_DRAW_UPS \u003d dataiku.Dataset(\"CALCULATED_CARD_DRAW_UPS\")\nCALCULATED_CARD_DRAW_UPS_df \u003d CALCULATED_CARD_DRAW_UPS.get_dataframe()\n"
      ],
      "outputs": []
    },
    {
      "execution_count": 75,
      "cell_type": "code",
      "metadata": {},
      "source": [
        "df_up \u003d CALCULATED_CARD_DRAW_UPS_df\nprint(len(df_up))\ndf_up.DRAW_UP_DATE \u003d pd.to_datetime(df_down.DRAW_DOWN_DATE).dt.date\ndf_up.sort_values([\u0027CUSTOMER\u0027], inplace\u003dTrue)\n\ndf_down \u003d CALCULATED_CARD_DRAW_DOWNS_df\nprint(len(df_down))\ndf_down.DRAW_DOWN_DATE \u003d pd.to_datetime(df_down.DRAW_DOWN_DATE).dt.date\ndf_down.sort_values([\u0027CUSTOMER\u0027], inplace\u003dTrue)\ndf_up.head()"
      ],
      "outputs": [
        {
          "output_type": "stream",
          "text": "322\n194\n",
          "name": "stdout"
        },
        {
          "output_type": "execute_result",
          "execution_count": 75,
          "data": {
            "text/plain": "              CUSTOMER DRAW_UP_DATE      MEAN_DU      STD_DU  ACTIVE_CARD_MAX\n0                 3GPP   2019-12-01    27.166667    4.239068             35.0\n321               3LUM          NaN    12.111111    1.615893             14.0\n320          3M (3MUS)          NaN  2375.083333  169.146767           2728.0\n319  3M COMPANY (3MVR)          NaN   360.083333   65.468186            399.0\n318     3M COMPANY3MUS          NaN   670.111111  196.492013            963.0",
            "text/html": "\u003cdiv\u003e\n\u003cstyle scoped\u003e\n    .dataframe tbody tr th:only-of-type {\n        vertical-align: middle;\n    }\n\n    .dataframe tbody tr th {\n        vertical-align: top;\n    }\n\n    .dataframe thead th {\n        text-align: right;\n    }\n\u003c/style\u003e\n\u003ctable border\u003d\"1\" class\u003d\"dataframe\"\u003e\n  \u003cthead\u003e\n    \u003ctr style\u003d\"text-align: right;\"\u003e\n      \u003cth\u003e\u003c/th\u003e\n      \u003cth\u003eCUSTOMER\u003c/th\u003e\n      \u003cth\u003eDRAW_UP_DATE\u003c/th\u003e\n      \u003cth\u003eMEAN_DU\u003c/th\u003e\n      \u003cth\u003eSTD_DU\u003c/th\u003e\n      \u003cth\u003eACTIVE_CARD_MAX\u003c/th\u003e\n    \u003c/tr\u003e\n  \u003c/thead\u003e\n  \u003ctbody\u003e\n    \u003ctr\u003e\n      \u003cth\u003e0\u003c/th\u003e\n      \u003ctd\u003e3GPP\u003c/td\u003e\n      \u003ctd\u003e2019-12-01\u003c/td\u003e\n      \u003ctd\u003e27.166667\u003c/td\u003e\n      \u003ctd\u003e4.239068\u003c/td\u003e\n      \u003ctd\u003e35.0\u003c/td\u003e\n    \u003c/tr\u003e\n    \u003ctr\u003e\n      \u003cth\u003e321\u003c/th\u003e\n      \u003ctd\u003e3LUM\u003c/td\u003e\n      \u003ctd\u003eNaN\u003c/td\u003e\n      \u003ctd\u003e12.111111\u003c/td\u003e\n      \u003ctd\u003e1.615893\u003c/td\u003e\n      \u003ctd\u003e14.0\u003c/td\u003e\n    \u003c/tr\u003e\n    \u003ctr\u003e\n      \u003cth\u003e320\u003c/th\u003e\n      \u003ctd\u003e3M (3MUS)\u003c/td\u003e\n      \u003ctd\u003eNaN\u003c/td\u003e\n      \u003ctd\u003e2375.083333\u003c/td\u003e\n      \u003ctd\u003e169.146767\u003c/td\u003e\n      \u003ctd\u003e2728.0\u003c/td\u003e\n    \u003c/tr\u003e\n    \u003ctr\u003e\n      \u003cth\u003e319\u003c/th\u003e\n      \u003ctd\u003e3M COMPANY (3MVR)\u003c/td\u003e\n      \u003ctd\u003eNaN\u003c/td\u003e\n      \u003ctd\u003e360.083333\u003c/td\u003e\n      \u003ctd\u003e65.468186\u003c/td\u003e\n      \u003ctd\u003e399.0\u003c/td\u003e\n    \u003c/tr\u003e\n    \u003ctr\u003e\n      \u003cth\u003e318\u003c/th\u003e\n      \u003ctd\u003e3M COMPANY3MUS\u003c/td\u003e\n      \u003ctd\u003eNaN\u003c/td\u003e\n      \u003ctd\u003e670.111111\u003c/td\u003e\n      \u003ctd\u003e196.492013\u003c/td\u003e\n      \u003ctd\u003e963.0\u003c/td\u003e\n    \u003c/tr\u003e\n  \u003c/tbody\u003e\n\u003c/table\u003e\n\u003c/div\u003e"
          },
          "metadata": {}
        }
      ]
    },
    {
      "execution_count": 97,
      "cell_type": "code",
      "metadata": {},
      "source": [
        "# \u003d\u003d\u003d\u003d\u003d\u003d\u003d\u003d\u003d\u003d\u003d\u003d\u003d\u003d\u003d\u003d\u003d\u003d\u003d\u003d\u003d\u003d\u003d\u003d\u003d\u003d\u003d\u003d\u003d\u003d\u003d\u003d\u003d\u003d\u003d\u003d\u003d\u003d\u003d\u003d\u003d\u003d\u003d\u003d\u003d\u003d\u003d\nclass Draw_Down_Customer:\n    \n    def __init__(self, name, draw_down_date, mean_dd, std_dd, active_card_max):\n\n        self._common_words \u003d [\u0027PIZZA\u0027, \u0027MANAGEMENT\u0027, \u0027USA\u0027, \u0027INC\u0027, \u0027US\u0027, \u0027EQUIPMENT\u0027, \u0027MEDICAL\u0027, \u0027SYSTEMS\u0027,\n                             \u0027ANIMAL\u0027, \u0027HEALTH\u0027, \u0027LLC\u0027, \u0027CORPORATION\u0027, \u0027BRANDS\u0027, \u0027TIRE\u0027, \u0027RUBBER\u0027, \u0027COUNTRY\u0027, \u0027CORP\u0027, \n                              \u0027PHARMACY\u0027,\u0027INC\u0027, \u0027RESTAURANTS\u0027, \u0027CONTAINER\u0027, \u0027AMERICA\u0027, \u0027APPLICATIONS\u0027, \u0027TECHNOLOGY\u0027, \n                              \u0027INSURANCE\u0027, \u0027FARM\u0027,\u0027CREDIT\u0027, \u0027SERVICES\u0027, \u0027SERVICE\u0027, \u0027ACCOUNT\u0027, \u0027GENERAL\u0027, \u0027PARTS\u0027, \n                              \u0027INTL\u0027, \u0027FLAVORS\u0027, \u0027HOLDINGS\u0027, \u0027FOOD\u0027,\u0027INDUSTRIES\u0027, \u0027LP\u0027, \u0027FLEET\u0027, \u0027MEDICAL\u0027, \u0027PHARMA\u0027,\n                             \u0027GLOBAL\u0027, \u0027PIPELINE\u0027, \u0027WHEELS\u0027, \u0027BIOSCIENCES\u0027, \u0027SSI\u0027, \u0027SPRINGS\u0027, \u0027NORTH\u0027, \u0027MARINE\u0027, \u0027HOLDING\u0027, \n                              \u0027TECHNOLOGIES\u0027,\u0027GROUP\u0027, \u0027PHARMACEUTICAL\u0027, \u0027NA\u0027, \u0027USA\u0027, \u0027COMPANY\u0027, \u0027RAIL\u0027, \u0027PARTNERS\u0027, \u0027BROS\u0027, \n                              \u0027CO\u0027, \u0027PHARMACEUTICALS\u0027, \u0027ENERGY\u0027, \u0027DISTRIBUTION\u0027, \u0027DENTAL\u0027, \u0027SPECIALTIES\u0027, \u0027OPERATIONS\u0027, \n                              \u0027COMPANY\u0027, \u0027THE\u0027, \u0027MOUNTAIN\u0027, \u0027TRANS\u0027, \u0027FUEL\u0027]\n        \n        self.CUSTOMER \u003d name\n        self.DRAW_DOWN_DATE \u003d draw_down_date\n        self.ACTIVE_CARD_MAX \u003d active_card_max\n        \n        self.MATCHING_CUSTOMERS \u003d []\n        self.PERCENT_DIFFERENCE \u003d []\n        \n        # remove punctuation\n        c_str \u003d name.translate(str.maketrans(\u0027\u0027, \u0027\u0027, string.punctuation))\n    \n        f \u003d c_str.split()\n        self.WORD_LIST \u003d []\n        for w in f:\n            if w not in self._common_words:\n                self.WORD_LIST.append(w)\n                \n    def Match_Draw_Up_Customer(self, name, draw_up_date, mean_du, std_du, active_card_max):\n        \n        if (self.CUSTOMER \u003d\u003d name):\n            # exact match, already captured\n            return\n        \n        c_str \u003d name.translate(str.maketrans(\u0027\u0027, \u0027\u0027, string.punctuation))\n        \n        f \u003d c_str.split()\n        \n        check_list \u003d []\n        for w in f:\n            if w not in self._common_words:\n                check_list.append(w)\n                \n        \n        percent_diff \u003d abs(self.ACTIVE_CARD_MAX - active_card_max) / ((self.ACTIVE_CARD_MAX+active_card_max)/2)\n                \n        for w_to_check in check_list:\n            for w in self.WORD_LIST:\n                if w_to_check\u003d\u003dw:\n                    self.MATCHING_CUSTOMERS.append(name)\n                    break;\n       \n\nidx \u003d 0\n\n_draw_down_customers \u003d []\n        \nfor index, row in df_down.iterrows():\n    \n    idx+\u003d1\n    customer \u003d row[\u0027CUSTOMER\u0027]\n    draw_down_date \u003d row[\u0027DRAW_DOWN_DATE\u0027]\n    mean_dd \u003d row[\u0027MEAN_DD\u0027]\n    std_dd \u003d row[\u0027STD_DD\u0027]\n    active_card_max \u003d row[\u0027ACTIVE_CARD_MAX\u0027]\n    \n    c \u003d Draw_Down_Customer(customer, draw_down_date, mean_dd, std_dd, active_card_max)\n    _draw_down_customers.append(c)\n    \n    #if idx\u003e5:\n    #    break;\n        \nfor c in _draw_down_customers:\n    \n    for index_up, row_up in df_up.iterrows():\n        \n        customer \u003d row_up[\u0027CUSTOMER\u0027]\n        draw_up_date \u003d row_up[\u0027DRAW_UP_DATE\u0027]\n        mean_du \u003d row_up[\u0027MEAN_DU\u0027]\n        std_du \u003d row_up[\u0027STD_DU\u0027]\n        active_card_max \u003d row_up[\u0027ACTIVE_CARD_MAX\u0027]\n        \n        c.Match_Draw_Up_Customer(customer, draw_up_date, mean_du, std_du, active_card_max)\n\nmatch_count \u003d 0\nfor c in _draw_down_customers:\n    \n    if len(c.MATCHING_CUSTOMERS)\u003e0:\n        match_count+\u003d1\n        print(c.CUSTOMER)\n        print(c.MATCHING_CUSTOMERS)\n        print()\n        \nprint(match_count)"
      ],
      "outputs": [
        {
          "output_type": "stream",
          "text": "ALKERMES (3ALK)\n[\u0027ALKERMES INC\u0027]\n\nAMERICAN HOMES 4 RENT\n[\u0027AMERICAN HOMES 4 RENT LP\u0027, \u0027AMERICAN HOMES 4 RENT LP\u0027, \u0027AMERICAN HOMES 4 RENT LP\u0027, \u0027AMERICAN HOMES 4 RENT LP\u0027, \u0027AMERICAN WELDING  GAS INC\u0027]\n\nAMGEN USA INC\n[\u0027AMGEN USA\u0027]\n\nARCADIS US\n[\u0027ARCADIS US INC\u0027]\n\nARCHROMA U.S. INC.\n[\u0027ARCHROMA US INC\u0027]\n\nASTELLAS PHARMA\n[\u0027ASTELLAS PHARMA US INC\u0027]\n\nATLAS COPCO\n[\u0027ATLAS COPCO COMPRESSORS LLC3AC2\u0027, \u0027ATLAS COPCO COMPRESSORS LLC3AC2\u0027]\n\nBALFOUR BEATTY 3BSE\n[\u0027BALFOUR BEATTY EQUIPMENT\u0027, \u0027BALFOUR BEATTY EQUIPMENT\u0027, \u0027BALFOUR BEATTY RENOVATIONS\u0027, \u0027BALFOUR BEATTY RENOVATIONS\u0027, \u0027BALFOUR BEATTY3BBR\u0027]\n\nBALFOUR EQUIP\n[\u0027BALFOUR BEATTY EQUIPMENT\u0027, \u0027BALFOUR BEATTY RENOVATIONS\u0027, \u0027BALFOUR BEATTY3BBR\u0027]\n\nBALFOUR PB\n[\u0027BALFOUR BEATTY EQUIPMENT\u0027, \u0027BALFOUR BEATTY RENOVATIONS\u0027, \u0027BALFOUR BEATTY3BBR\u0027]\n\nBALFOUR RAIL\n[\u0027BALFOUR BEATTY EQUIPMENT\u0027, \u0027BALFOUR BEATTY RENOVATIONS\u0027, \u0027BALFOUR BEATTY3BBR\u0027]\n\nBALFOUR RENO\n[\u0027BALFOUR BEATTY EQUIPMENT\u0027, \u0027BALFOUR BEATTY RENOVATIONS\u0027, \u0027BALFOUR BEATTY3BBR\u0027]\n\nBECTON DICKINSON (3BRD)\n[\u0027BECTON DICKINSON  3BRD\u0027, \u0027BECTON DICKINSON  3BRD\u0027, \u0027BECTON DICKINSON  3BRD\u0027, \u0027BECTON DICKINSON3BDB\u0027, \u0027BECTON DICKINSON3BDC\u0027, \u0027BECTON DICKINSON3BDT\u0027]\n\nBECTON DICKINSON (BDB)\n[\u0027BECTON DICKINSON  3BRD\u0027, \u0027BECTON DICKINSON  3BRD\u0027, \u0027BECTON DICKINSON3BDB\u0027, \u0027BECTON DICKINSON3BDC\u0027, \u0027BECTON DICKINSON3BDT\u0027]\n\nBECTON DICKINSON (BDC)\n[\u0027BECTON DICKINSON  3BRD\u0027, \u0027BECTON DICKINSON  3BRD\u0027, \u0027BECTON DICKINSON3BDB\u0027, \u0027BECTON DICKINSON3BDC\u0027, \u0027BECTON DICKINSON3BDT\u0027]\n\nBECTON DICKINSON (BDC)(2)\n[\u0027BECTON DICKINSON  3BRD\u0027, \u0027BECTON DICKINSON  3BRD\u0027, \u0027BECTON DICKINSON3BDB\u0027, \u0027BECTON DICKINSON3BDC\u0027, \u0027BECTON DICKINSON3BDT\u0027]\n\nBP (NAG)\n[\u0027BP AMERICA INC\u0027, \u0027BP AMERICA PRODUCTION COMPANY\u0027, \u0027BP LUBRICANTS USA INC\u0027, \u0027BP PIPELINES NORTH AMERICA INC\u0027]\n\nCANON MEDICAL USA\n[\u0027CANON MEDICAL SYSTEMS USA INC\u0027]\n\nCEVA ANIMAL HEALTH, LLC\n[\u0027CEVA ANIMAL HEALTH LLC\u0027]\n\nCIGNA\n[\u0027CIGNA (3EPS)\u0027]\n\nCIGNA (WHEELS)(2)\n[\u0027CIGNA (3EPS)\u0027]\n\nCOLLEGIUM\n[\u0027COLLEGIUM PHARMACEUTICAL INC\u0027]\n\nCONSTELLATION BRANDS (3CBL)\n[\u0027CONSTELLATION BRANDS3 CBL\u0027, \u0027CONSTELLATION BRANDS3CRW\u0027]\n\nCONSTELLATION BRANDS (3CRW)\n[\u0027CONSTELLATION BRANDS3 CBL\u0027, \u0027CONSTELLATION BRANDS3CRW\u0027]\n\nCOOPER TIRE \u0026 RUBBER\n[\u0027COOPER TIRE  RUBBER\u0027]\n\nCOVESTRO\n[\u0027COVESTRO LLC\u0027]\n\nCURTISS-WRIGHT (5CWC)\n[\u0027CURTISSWRIGHT CORPORATION\u0027]\n\nCVS - 3CVS\n[\u0027CVS PHARMACY INC\u0027]\n\nDAIICHI SANKYO, INC.\n[\u0027DAIICHI SANKYO INC\u0027, \u0027DAIICHI SANKYO INC\u0027]\n\nDARDEN RESTAURANTS (3DAR)\n[\u0027DARDEN RESTAURANTS\u0027]\n\nDART CONTAINER CORP (3DC2)\n[\u0027DART CONTAINER CORP (3DRT)\u0027, \u0027DART CONTAINER CORP3DC2\u0027, \u0027DART CONTAINER CORP3DRT\u0027]\n\nDART CONTAINER CORP (3DRT)\n[\u0027DART CONTAINER CORP (3DC2)\u0027, \u0027DART CONTAINER CORP3DC2\u0027, \u0027DART CONTAINER CORP3DRT\u0027]\n\nDIVERSIFIED APPLICAITONS, INC.\n[\u0027DIVERSIFIED APPLICATIONS INC\u0027]\n\nDYSON (3DYS)\n[\u0027DYSON INC\u0027]\n\nEISAI  INC\n[\u0027EISAI INC\u0027]\n\nENJOY TECHNOLOGY\n[\u0027ENJOY TECHNOLOGY INC\u0027]\n\nERIE INSURANCE (3ERE)\n[\u0027ERIE INSURANCE EXCHANGE  3ERE\u0027, \u0027ERIE INSURANCE EXCHANGE  3ERE\u0027]\n\nFARMERS MUTUAL HAIL INSURANCE\n[\u0027FARMERS MUTUAL HAIL INSURANCE CO OF IOWA\u0027, \u0027FARMERS MUTUAL HAIL INSURANCE CO OF IOWA\u0027, \u0027FARMERS MUTUAL HAIL INSURANCE CO OF IOWA\u0027]\n\nFCS AMERICA (3FCS)\n[\u0027FARM CREDIT SERVICES (3FCS)\u0027]\n\nGEICO (0469)(2)\n[\u0027WORLEY (0469)(2)\u0027]\n\nGIVAUDAN FLAVORS (GV3-5)\n[\u0027GIVAUDAN FLAVORS\u0027, \u0027GIVAUDAN FRAGRANCES\u0027]\n\nGIVAUDAN FRAGRANCES (GV2-5)\n[\u0027GIVAUDAN FLAVORS\u0027, \u0027GIVAUDAN FRAGRANCES\u0027, \u0027GIVAUDAN FRAGRANCES\u0027]\n\nGLENN SPRINGS HOLDINGS\n[\u0027GLENN SPRINGS HOLDINGS INC\u0027]\n\nGOOGLE FIBER\n[\u0027GOOGLE FIBER INC\u0027, \u0027GOOGLE FIBER INC\u0027, \u0027GOOGLE LLC (3GCF)\u0027]\n\nGOOGLE FIBER INC (ITC)\n[\u0027GOOGLE FIBER INC\u0027, \u0027GOOGLE FIBER INC\u0027, \u0027GOOGLE LLC (3GCF)\u0027]\n\nGORDON FOOD SERVICE (0469)\n[\u0027GORDON FOOD SERVICE INC\u0027]\n\nHARMON INC (WHLS)\n[\u0027HARMON INC\u0027]\n\nHARMONY BIOSCIENCES\n[\u0027HARMONY BIOSCIENCES LLC\u0027]\n\nHAYWARD INDUSTRIES (WHLS)\n[\u0027HAYWARD INDUSTRIES\u0027]\n\nHENKEL CORPORATION (0469)\n[\u0027HENKEL US OPERATIONS CORP\u0027]\n\nHIGHWAY EQUIPMENT\n[\u0027HIGHWAY EQUIPMENT AND SUPPLY COMPANY\u0027]\n\nIMMUNOMEDICS (3IMU)\n[\u0027IMMUNOMEDICS INC\u0027]\n\nIRONWOOD PHARMA (IRW)\n[\u0027IRONWOOD PHARMACEUTICALS\u0027]\n\nJAZZ PHARMA (3JAZ)\n[\u0027JAZZ PARMACEUTICALS INC.\u0027]\n\nJONES LANG LASALLE (0469)\n[\u0027JONES LANG LASALLE AMERICAS INC\u0027, \u0027JONES LANG LASALLE AMERICAS INC\u0027, \u0027JONES LANG LASALLE AMERICAS INC\u0027]\n\nKEMPER\n[\u0027KEMPER INDEPENDENCE INSURANCE CO\u0027]\n\nLAERDAL MEDICAL\n[\u0027LAERDAL MEDICAL CORP\u0027]\n\nLAMB WESTON SALES\n[\u0027LAMB WESTON INC\u0027, \u0027LAMB WESTON INC\u0027, \u0027LAMB WESTON SALES (3CLW)\u0027, \u0027LAMB WESTON SALES (3CLW)\u0027, \u0027LAMB WESTON SALES (3CLW)\u0027, \u0027LAMB WESTON SALES INC\u0027, \u0027LAMB WESTON SALES INC\u0027, \u0027LAMB WESTON SALES INC\u0027]\n\nLEGRAND (5LAV)\n[\u0027LEGRAND AV INC5LAV\u0027, \u0027LEGRAND HOLDING INC (5CAB)\u0027, \u0027LEGRAND HOLDING INC5LNA\u0027]\n\nLINDE NORTH AMERICA (3LN2)\n[\u0027LINDE ENGINEERING NORTH AMERICA INC\u0027, \u0027LINDE GAS NORTH AMERICA LLC\u0027]\n\nLUMILEDS (3LED)\n[\u0027LUMILEDS LLC\u0027]\n\nLUNDBECK\n[\u0027LUNDBECK LLC\u0027]\n\nMACLEAN-FOGG (3MF1)\n[\u0027MACLEANFOGG COMPANY\u0027]\n\nMARATHON (WHEELS)\n[\u0027MARATHON PETROLEUM\u0027]\n\nMARS INC.\n[\u0027MARS INC\u0027]\n\nMARS INC. (M51)\n[\u0027MARS INC\u0027]\n\nMCKESSON CORPORATION (3MCK)\n[\u0027MCKESSON CORPORATION3MCK\u0027, \u0027MCKESSON CORPORATION3MCT\u0027]\n\nMCKESSON CORPORATION (3MCT)\n[\u0027MCKESSON CORPORATION3MCK\u0027, \u0027MCKESSON CORPORATION3MCT\u0027]\n\nMILESTONE AV TECHNOLOGIES\n[\u0027LEGRAND AV INC5LAV\u0027]\n\nMILLENNIUM PHARMA\n[\u0027MILLENNIUM PHARMACEUTICLAS INC\u0027]\n\nNB COATINGS INC.\n[\u0027NB COATINGS INC\u0027, \u0027NB COATINGS INC\u0027]\n\nNEXAIR / 3NXA\n[\u0027NEXAIR LLC\u0027]\n\nNOVAMEX\n[\u0027NOVAMEX  TIPP ENTERPRISES LP\u0027]\n\nOCCIDENTAL CHEMICAL CORP (69)\n[\u0027OCCIDENTAL CHEMICAL CORPORATION\u0027, \u0027OCCIDENTAL CHEMICAL CORPORATION\u0027, \u0027SYBRON DENTAL SPECIALTIES (69)\u0027]\n\nOSMOTICA PHARMACEUTICAL\n[\u0027OSMOTICA HOLDINGS US LLC\u0027]\n\nPARSONS CORPORATION (0469)\n[\u0027PARSONS CORP\u0027]\n\nPRIMETALS TECHNOLOGIES USA\n[\u0027PRIMETALS TECHNOLOGIES USA LLC\u0027]\n\nRITCHIE BROS. USA\n[\u0027RITCHIE BROS AUCTIONEERS AMERICA INC\u0027]\n\nROBERT HALF CORPORATION (3RHF)\n[\u0027ROBERT HALF INTERNATIONAL INCPROTIVITI\u0027, \u0027ROBERT HALF INTERNATIONAL INCPROTIVITI\u0027]\n\nRPM INC (5RPX)\n[\u0027RPM INTERNATIONAL INC  5RPM\u0027, \u0027RPM INTERNATIONAL INC  5RPX\u0027, \u0027RPM INTERNATIONAL INC  5RPX\u0027]\n\nRPM, INC\n[\u0027RPM INC (5RPX)\u0027, \u0027RPM INTERNATIONAL INC  5RPM\u0027, \u0027RPM INTERNATIONAL INC  5RPX\u0027]\n\nSECURITAS ELECTRONICS\n[\u0027SECURITAS ELECTRONIC SECURITY INC\u0027, \u0027SECURITAS SECURITY SERVICES USA INC\u0027]\n\nSECURITAS SECURITY SRVCS(3SCR)\n[\u0027SECURITAS ELECTRONIC SECURITY INC\u0027, \u0027SECURITAS ELECTRONIC SECURITY INC\u0027, \u0027SECURITAS SECURITY SERVICES USA INC\u0027, \u0027SECURITAS SECURITY SERVICES USA INC\u0027, \u0027VSC FIRE  SECURITY INC3VSC\u0027]\n\nSECURITAS USA\n[\u0027SECURITAS ELECTRONIC SECURITY INC\u0027, \u0027SECURITAS SECURITY SERVICES USA INC\u0027]\n\nSELECTIVE INSURANCE CO\n[\u0027SELECTIVE INSURANCE COMPANY OF AMERICA\u0027]\n\nSENSIENT TECHNOLOGIES\n[\u0027SENSIENT TECHNOLOGIES CORPORATION\u0027]\n\nSIBELCO\n[\u0027SIBELCO NORTH AMERICA INC\u0027]\n\nSIEMENS ENERGY (3SWG)\n[\u0027SIEMENS  3PPA\u0027, \u0027SIEMENS  3SBT\u0027, \u0027SIEMENS  3SDX\u0027, \u0027SIEMENS  3SFS\u0027, \u0027SIEMENS  3SGS\u0027, \u0027SIEMENS ENERGY INC\u0027, \u0027SIEMENS GAMESA  3SWP\u0027, \u0027SIEMENS INDUSTRY3PID\u0027, \u0027SIEMENS INDUSTRY3SDF\u0027, \u0027SIEMENS INDUSTRY3SEM\u0027, \u0027SIEMENS MEDICAL SOLUTIONS USA INC3SM1\u0027, \u0027SIEMENS MOBILITY3SMO\u0027]\n\nSL DIST (3SNL)\n[\u0027SL DISTRIBUTION CO LLC\u0027]\n\nSYBRON DENTAL SPECIALTIES (69)\n[\u0027SYBRON DENTAL SPECIALTIES\u0027]\n\nTEVA WHEELS\n[\u0027TEVA PHARMACEUTICALS\u0027]\n\nTHE TIMKEN COMPANY\n[\u0027TIMKEN INC\u0027]\n\nTHIBAUT ACQUISITION\n[\u0027THIBAUT ACQUISITION CO\u0027, \u0027THIBAUT ACQUISITION CO\u0027]\n\nTRANSTAR\n[\u0027TRANSTAR INC\u0027]\n\nVARIAN MEDICAL (V08)\n[\u0027VARIAN MEDICAL SYSTEMS\u0027]\n\nWATERS TECHNOLOGIES\n[\u0027WATERS TECHNOLOGIES CORPORATION\u0027]\n\nWATT STOPPER, INC.\n[\u0027WATT STOPPER INC\u0027, \u0027WATT STOPPER INC\u0027]\n\nWHEELS MOBILE ASSISTANT\n[\u0027WHEELS MOBILE ASSIST (3WMA)\u0027]\n\nXYLEM ANALYTICS FUEL\n[\u0027XYLEM ANALYTICS LLC\u0027, \u0027XYLEM ANALYTICS LLC\u0027, \u0027XYLEM INC\u0027]\n\nYUM  INC.\n[\u0027YUM RESTAURANT SERVICES GROUP LLC\u0027]\n\n100\n",
          "name": "stdout"
        }
      ]
    },
    {
      "execution_count": 0,
      "cell_type": "code",
      "metadata": {},
      "source": [
        ""
      ],
      "outputs": []
    },
    {
      "execution_count": 43,
      "cell_type": "code",
      "metadata": {},
      "source": [
        "customer_down_list \u003d CALCULATED_CARD_DRAW_DOWNS_df.CUSTOMER.unique()\ncustomer_up_list \u003d CALCULATED_CARD_DRAW_UPS_df.CUSTOMER.unique()"
      ],
      "outputs": []
    },
    {
      "execution_count": 0,
      "cell_type": "code",
      "metadata": {},
      "source": [
        ""
      ],
      "outputs": []
    },
    {
      "execution_count": 47,
      "cell_type": "code",
      "metadata": {},
      "source": [
        "CALCULATED_CARD_DRAW_DOWNS_df.head()"
      ],
      "outputs": [
        {
          "output_type": "execute_result",
          "execution_count": 47,
          "data": {
            "text/plain": "                 CUSTOMER            DRAW_DOWN_DATE     MEAN_DD     STD_DD  ACTIVE_CARD_MAX\n0                    3LUM 2019-12-01 00:00:00+00:00   13.000000   0.577350             14.0\n193      3US6 (EQUIPMENT) 2021-08-01 00:00:00+00:00   36.600000  27.673092            104.0\n192   ACORDA THERAPEUTICS 2019-09-01 00:00:00+00:00  129.600000   2.190890            133.0\n191  ADF PIZZA MANAGEMENT 2020-12-01 00:00:00+00:00    7.500000   1.623688             12.0\n190                 ALENT 2020-04-01 00:00:00+00:00    1.333333   0.492366              2.0",
            "text/html": "\u003cdiv\u003e\n\u003cstyle scoped\u003e\n    .dataframe tbody tr th:only-of-type {\n        vertical-align: middle;\n    }\n\n    .dataframe tbody tr th {\n        vertical-align: top;\n    }\n\n    .dataframe thead th {\n        text-align: right;\n    }\n\u003c/style\u003e\n\u003ctable border\u003d\"1\" class\u003d\"dataframe\"\u003e\n  \u003cthead\u003e\n    \u003ctr style\u003d\"text-align: right;\"\u003e\n      \u003cth\u003e\u003c/th\u003e\n      \u003cth\u003eCUSTOMER\u003c/th\u003e\n      \u003cth\u003eDRAW_DOWN_DATE\u003c/th\u003e\n      \u003cth\u003eMEAN_DD\u003c/th\u003e\n      \u003cth\u003eSTD_DD\u003c/th\u003e\n      \u003cth\u003eACTIVE_CARD_MAX\u003c/th\u003e\n    \u003c/tr\u003e\n  \u003c/thead\u003e\n  \u003ctbody\u003e\n    \u003ctr\u003e\n      \u003cth\u003e0\u003c/th\u003e\n      \u003ctd\u003e3LUM\u003c/td\u003e\n      \u003ctd\u003e2019-12-01 00:00:00+00:00\u003c/td\u003e\n      \u003ctd\u003e13.000000\u003c/td\u003e\n      \u003ctd\u003e0.577350\u003c/td\u003e\n      \u003ctd\u003e14.0\u003c/td\u003e\n    \u003c/tr\u003e\n    \u003ctr\u003e\n      \u003cth\u003e193\u003c/th\u003e\n      \u003ctd\u003e3US6 (EQUIPMENT)\u003c/td\u003e\n      \u003ctd\u003e2021-08-01 00:00:00+00:00\u003c/td\u003e\n      \u003ctd\u003e36.600000\u003c/td\u003e\n      \u003ctd\u003e27.673092\u003c/td\u003e\n      \u003ctd\u003e104.0\u003c/td\u003e\n    \u003c/tr\u003e\n    \u003ctr\u003e\n      \u003cth\u003e192\u003c/th\u003e\n      \u003ctd\u003eACORDA THERAPEUTICS\u003c/td\u003e\n      \u003ctd\u003e2019-09-01 00:00:00+00:00\u003c/td\u003e\n      \u003ctd\u003e129.600000\u003c/td\u003e\n      \u003ctd\u003e2.190890\u003c/td\u003e\n      \u003ctd\u003e133.0\u003c/td\u003e\n    \u003c/tr\u003e\n    \u003ctr\u003e\n      \u003cth\u003e191\u003c/th\u003e\n      \u003ctd\u003eADF PIZZA MANAGEMENT\u003c/td\u003e\n      \u003ctd\u003e2020-12-01 00:00:00+00:00\u003c/td\u003e\n      \u003ctd\u003e7.500000\u003c/td\u003e\n      \u003ctd\u003e1.623688\u003c/td\u003e\n      \u003ctd\u003e12.0\u003c/td\u003e\n    \u003c/tr\u003e\n    \u003ctr\u003e\n      \u003cth\u003e190\u003c/th\u003e\n      \u003ctd\u003eALENT\u003c/td\u003e\n      \u003ctd\u003e2020-04-01 00:00:00+00:00\u003c/td\u003e\n      \u003ctd\u003e1.333333\u003c/td\u003e\n      \u003ctd\u003e0.492366\u003c/td\u003e\n      \u003ctd\u003e2.0\u003c/td\u003e\n    \u003c/tr\u003e\n  \u003c/tbody\u003e\n\u003c/table\u003e\n\u003c/div\u003e"
          },
          "metadata": {}
        }
      ]
    },
    {
      "execution_count": 0,
      "cell_type": "code",
      "metadata": {},
      "source": [
        "# Compute recipe outputs\n# TODO: Write here your actual code that computes the outputs\n# NB: DSS supports several kinds of APIs for reading and writing data. Please see doc.\n\nPOTENTIAL_DUPLICATES_df \u003d ... # Compute a Pandas dataframe to write into POTENTIAL_DUPLICATES\n\n\n# Write recipe outputs\nPOTENTIAL_DUPLICATES \u003d dataiku.Dataset(\"POTENTIAL_DUPLICATES\")\nPOTENTIAL_DUPLICATES.write_with_schema(POTENTIAL_DUPLICATES_df)"
      ],
      "outputs": []
    }
  ]
}