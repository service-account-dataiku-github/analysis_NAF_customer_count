{
  "metadata": {
    "kernelspec": {
      "name": "py-dku-venv-env_clc",
      "display_name": "Python (env env_clc)",
      "language": "python"
    },
    "associatedRecipe": "compute_POTENTIAL_DUPLICATES",
    "dkuGit": {
      "lastInteraction": 0
    },
    "creationTag": {
      "versionNumber": 0,
      "lastModifiedBy": {
        "login": "Daniel.Vandermeer"
      },
      "lastModifiedOn": 1665752610945
    },
    "creator": "Daniel.Vandermeer",
    "createdOn": 1665752610945,
    "tags": [
      "recipe-editor"
    ],
    "customFields": {},
    "hide_input": false,
    "language_info": {
      "name": "python",
      "version": "3.6.8",
      "mimetype": "text/x-python",
      "codemirror_mode": {
        "name": "ipython",
        "version": 3
      },
      "pygments_lexer": "ipython3",
      "nbconvert_exporter": "python",
      "file_extension": ".py"
    },
    "modifiedBy": "Daniel.Vandermeer"
  },
  "nbformat": 4,
  "nbformat_minor": 1,
  "cells": [
    {
      "execution_count": 39,
      "cell_type": "code",
      "metadata": {},
      "source": [
        "# -*- coding: utf-8 -*-\nimport dataiku\nimport pandas as pd, numpy as np\nfrom dataiku import pandasutils as pdu\n\n# Read recipe inputs\nCALCULATED_CARD_DRAW_DOWNS \u003d dataiku.Dataset(\"CALCULATED_CARD_DRAW_DOWNS\")\nCALCULATED_CARD_DRAW_DOWNS_df \u003d CALCULATED_CARD_DRAW_DOWNS.get_dataframe()\n\nCALCULATED_CARD_DRAW_UPS \u003d dataiku.Dataset(\"CALCULATED_CARD_DRAW_UPS\")\nCALCULATED_CARD_DRAW_UPS_df \u003d CALCULATED_CARD_DRAW_UPS.get_dataframe()\n"
      ],
      "outputs": []
    },
    {
      "execution_count": 51,
      "cell_type": "code",
      "metadata": {},
      "source": [
        "df_down \u003d CALCULATED_CARD_DRAW_DOWNS_df\nprint(len(df_down))\ndf_down.DRAW_DOWN_DATE \u003d pd.to_datetime(df_down.DRAW_DOWN_DATE).dt.date\ndf_down.sort_values([\u0027CUSTOMER\u0027], inplace\u003dTrue)\ndf_down.head()"
      ],
      "outputs": [
        {
          "output_type": "stream",
          "text": "194\n",
          "name": "stdout"
        },
        {
          "output_type": "execute_result",
          "execution_count": 51,
          "data": {
            "text/plain": "                 CUSTOMER DRAW_DOWN_DATE     MEAN_DD     STD_DD  ACTIVE_CARD_MAX\n0                    3LUM     2019-12-01   13.000000   0.577350             14.0\n193      3US6 (EQUIPMENT)     2021-08-01   36.600000  27.673092            104.0\n192   ACORDA THERAPEUTICS     2019-09-01  129.600000   2.190890            133.0\n191  ADF PIZZA MANAGEMENT     2020-12-01    7.500000   1.623688             12.0\n190                 ALENT     2020-04-01    1.333333   0.492366              2.0",
            "text/html": "\u003cdiv\u003e\n\u003cstyle scoped\u003e\n    .dataframe tbody tr th:only-of-type {\n        vertical-align: middle;\n    }\n\n    .dataframe tbody tr th {\n        vertical-align: top;\n    }\n\n    .dataframe thead th {\n        text-align: right;\n    }\n\u003c/style\u003e\n\u003ctable border\u003d\"1\" class\u003d\"dataframe\"\u003e\n  \u003cthead\u003e\n    \u003ctr style\u003d\"text-align: right;\"\u003e\n      \u003cth\u003e\u003c/th\u003e\n      \u003cth\u003eCUSTOMER\u003c/th\u003e\n      \u003cth\u003eDRAW_DOWN_DATE\u003c/th\u003e\n      \u003cth\u003eMEAN_DD\u003c/th\u003e\n      \u003cth\u003eSTD_DD\u003c/th\u003e\n      \u003cth\u003eACTIVE_CARD_MAX\u003c/th\u003e\n    \u003c/tr\u003e\n  \u003c/thead\u003e\n  \u003ctbody\u003e\n    \u003ctr\u003e\n      \u003cth\u003e0\u003c/th\u003e\n      \u003ctd\u003e3LUM\u003c/td\u003e\n      \u003ctd\u003e2019-12-01\u003c/td\u003e\n      \u003ctd\u003e13.000000\u003c/td\u003e\n      \u003ctd\u003e0.577350\u003c/td\u003e\n      \u003ctd\u003e14.0\u003c/td\u003e\n    \u003c/tr\u003e\n    \u003ctr\u003e\n      \u003cth\u003e193\u003c/th\u003e\n      \u003ctd\u003e3US6 (EQUIPMENT)\u003c/td\u003e\n      \u003ctd\u003e2021-08-01\u003c/td\u003e\n      \u003ctd\u003e36.600000\u003c/td\u003e\n      \u003ctd\u003e27.673092\u003c/td\u003e\n      \u003ctd\u003e104.0\u003c/td\u003e\n    \u003c/tr\u003e\n    \u003ctr\u003e\n      \u003cth\u003e192\u003c/th\u003e\n      \u003ctd\u003eACORDA THERAPEUTICS\u003c/td\u003e\n      \u003ctd\u003e2019-09-01\u003c/td\u003e\n      \u003ctd\u003e129.600000\u003c/td\u003e\n      \u003ctd\u003e2.190890\u003c/td\u003e\n      \u003ctd\u003e133.0\u003c/td\u003e\n    \u003c/tr\u003e\n    \u003ctr\u003e\n      \u003cth\u003e191\u003c/th\u003e\n      \u003ctd\u003eADF PIZZA MANAGEMENT\u003c/td\u003e\n      \u003ctd\u003e2020-12-01\u003c/td\u003e\n      \u003ctd\u003e7.500000\u003c/td\u003e\n      \u003ctd\u003e1.623688\u003c/td\u003e\n      \u003ctd\u003e12.0\u003c/td\u003e\n    \u003c/tr\u003e\n    \u003ctr\u003e\n      \u003cth\u003e190\u003c/th\u003e\n      \u003ctd\u003eALENT\u003c/td\u003e\n      \u003ctd\u003e2020-04-01\u003c/td\u003e\n      \u003ctd\u003e1.333333\u003c/td\u003e\n      \u003ctd\u003e0.492366\u003c/td\u003e\n      \u003ctd\u003e2.0\u003c/td\u003e\n    \u003c/tr\u003e\n  \u003c/tbody\u003e\n\u003c/table\u003e\n\u003c/div\u003e"
          },
          "metadata": {}
        }
      ]
    },
    {
      "execution_count": 53,
      "cell_type": "code",
      "metadata": {},
      "source": [
        "class Draw_Down_Customer:\n\n    _common_words \u003d [\u0027PIZZA\u0027, \u0027MANAGEMENT\u0027, \u0027USA\u0027, \u0027INC\u0027, \u0027US\u0027, \u0027EQUIPMENT\u0027]\n    \n    def __init__(self, name, draw_down_date, active_card_max):\n    \n        self.CUSTOMER_NAME \u003d name\n        self.DRAW_DOWN_DATE \u003d draw_down_date\n        self.ACTIVE_CARD_MAX \u003d active_card_max\n        \n        WORD_LIST \u003d []\n        WORD_LIST_CLEANSED \u003d []\n        \n\nidx \u003d 0\n        \nfor index, row in df_down.iterrows():\n    \n    idx+\u003d1\n    print(row[\u0027CUSTOMER\u0027])\n    \n    if idx\u003e5:\n        break;"
      ],
      "outputs": [
        {
          "output_type": "stream",
          "text": "3LUM\n3US6 (EQUIPMENT)\nACORDA THERAPEUTICS\nADF PIZZA MANAGEMENT\nALENT\nALKERMES (3ALK)\nAMERICAN HOMES 4 RENT\nAMGEN USA INC\nARCADIS US\nARCHROMA U.S. INC.\nASCENSIA DIABETES CARE\nASTELLAS PHARMA\nATLAS COPCO\nAXALTAUS\nBALFOUR BEATTY 3BSE\nBALFOUR EQUIP\nBALFOUR PB\nBALFOUR RAIL\nBALFOUR RENO\nBANKOFAMERICA\nBAXALTA US INC\nBAYER\nBAYER (3M33)\nBECTON DICKINSON (3BRD)\nBECTON DICKINSON (BDB)\nBECTON DICKINSON (BDC)\nBECTON DICKINSON (BDC)(2)\nBOEHRINGER-INGELHEIM\nBP (NAG)\nBRISTOL (B93)\nCANON MEDICAL USA\nCARL ZEISS MEDITEC\nCDK GLOBAL (DSG)\nCELGENE\nCENTURION PIPELINE (3CEP)\nCEVA ANIMAL HEALTH, LLC\nCHECKPOINT SYSTEMS\nCIGNA\nCIGNA (WHEELS)(2)\nCINTAS CORPORATION\nCLARIANT PLASTICS\nCLARINS USA INC 5CLR\nCOLLEGIUM\nCONSTELLATION BRANDS (3CBL)\nCONSTELLATION BRANDS (3CRW)\nCOOPER TIRE \u0026 RUBBER\nCOUNTRY FINANCIAL (CCS)\nCOVESTRO\nCUMMINS ALLISON CORP\nCURTIS CIRCULATION (0469)\nCURTISS-WRIGHT (5CWC)\nCVS - 3CVS\nDAIICHI SANKYO, INC.\nDARDEN RESTAURANTS (3DAR)\nDART CONTAINER CORP (3DC2)\nDART CONTAINER CORP (3DRT)\nDBT AMERICA\nDIVERSIFIED APPLICAITONS, INC.\nDYSON (3DYS)\nEISAI  INC\nENJOY TECHNOLOGY\nENTERPRISE PRODUCTS (0469)\nERAMET MARIETTA\nERIE INSURANCE (3ERE)\nESTEE LAUDER (WHEELS)\nFARM CREDIT SERVICES ACCOUNT\nFARMERS MUTUAL HAIL INSURANCE\nFCS AMERICA (3FCS)\nGB BIOSCIENCES\nGEICO (0469)\nGEICO (0469)(2)\nGENERAL PARTS INTL (AWG)\nGENERAL PARTS INTL (NCS)\nGENERAL PARTS INTL (SSI)\nGENERAL PARTS INTL (TCI)\nGIVAUDAN FLAVORS (GV3-5)\nGIVAUDAN FRAGRANCES (GV2-5)\nGLENN SPRINGS HOLDINGS\nGOOGLE FIBER\nGOOGLE FIBER INC (ITC)\nGORDON FOOD SERVICE (0469)\nHARMON INC (WHLS)\nHARMONY BIOSCIENCES\nHARRIS CORP.\nHARTUNG BROTHERS\nHAYWARD INDUSTRIES (WHLS)\nHEALTHPOINT\nHENKEL CORPORATION (0469)\nHIGHWAY EQUIPMENT\nHITACHI HEALTHCARE\nHOLLAND LP\nHOSPIRA WORLDWIDE\nHUSSMANN CORPORATION\nICU MEDICAL FLEET SERVICES INC\nIMMUNOMEDICS (3IMU)\nIRONWOOD PHARMA (IRW)\nJ.M. HUBER CORP.\nJAZZ PHARMA (3JAZ)\nJM SMITH CORP (5JMP)\nJM SMITH CORPORATION\nJOHNSONVILLE SAUSAGE\nJONES LANG LASALLE (0469)\nJONES-HAMILTON CO.\nKEMPER\nKINDER MORGAN\nLAERDAL MEDICAL\nLAMB WESTON SALES\nLEGRAND (5LAV)\nLINDE NORTH AMERICA (3LN2)\nLITTON MARINE\nLOUIS BERGER SERVICES INC\nLSSI\nLUMILEDS (3LED)\nLUNDBECK\nMACLEAN-FOGG (3MF1)\nMARATHON (WHEELS)\nMARK WEST (3MWE)\nMARS INC.\nMARS INC. (M51)\nMARSDEN HOLDING, LLC (80)\nMCKESSON CORPORATION (3MCK)\nMCKESSON CORPORATION (3MCT)\nMERIAL INC\nMIDDLE ATLANTIC\nMILESTONE AV TECHNOLOGIES\nMILLENNIUM PHARMA\nNB COATINGS INC.\nNEXAIR / 3NXA\nNORTHSTAR LOTTERY GROUP LLC\nNOVAMEX\nOCCIDENTAL CHEMICAL CORP (69)\nOSMOTICA HOLDINGS US LLC\nOSMOTICA PHARMACEUTICAL\nOXY USA INC.\nPARSONS CORPORATION (0469)\nPB (HSE)\nPEER BEARING\nPHILIPS ELECTRONICS NA\nPRIMETALS TECHNOLOGIES USA\nPURDUE PHARMA\nRAIN BIRD CORP\nRAYTHEON\nRAYTHEON COMPANY (0469)\nRAYTHEON COMPANY (0469)(3)\nREEDY INDUSTRIES INC.\nREGIONAL RAIL PARTNERS\nRITCHIE BROS. USA\nROBERT HALF CORPORATION (3RHF)\nRPM INC (5RPX)\nRPM, INC\nSAGE THERAPEUTICS\nSCHINDLER ELEVATOR\nSECURITAS ELECTRONICS\nSECURITAS SECURITY SRVCS(3SCR)\nSECURITAS USA\nSELECTIVE INSURANCE CO\nSENSIENT TECHNOLOGIES\nSERVIER PHARMACEUTICALS (3SRV)\nSHALE-INLAND\nSHIRE US INC\nSIBELCO\nSIEMENS ENERGY (3SWG)\nSIMPLOT RDO LLC\nSL DIST (3SNL)\nSYBRON DENTAL SPECIALTIES (69)\nSYMRISE\nTERADATA OPERATIONS\nTEVA WHEELS\nTHE TIMKEN COMPANY\nTHIBAUT ACQUISITION\nTHIBAUT ACQUISITION CO\nTIMCO\nTOTAL NEW ENERGIES\nTRANS MOUNTAIN (3TMP)\nTRANSTAR\nU C B INC\nUNIMIN\nUNIVAR USA INC (UNI)(2)\nUSG CORPORATION\nVARIAN MEDICAL (V08)\nVESUVIUS\nVOLVO CE\nVOORTMAN COOKIES\nWATERS TECHNOLOGIES\nWATT STOPPER, INC.\nWESTFARM FOODS 0469\nWHEELS 996\nWHEELS INC (60016)\nWHEELS MOBILE ASSIST (3WMA)\nWHEELS MOBILE ASSISTANT\nWORLEY (0469)(2)\nXYLEM ANALYTICS FUEL\nXYLEM/3XLM\nYUM  INC.\n",
          "name": "stdout"
        }
      ]
    },
    {
      "execution_count": 0,
      "cell_type": "code",
      "metadata": {},
      "source": [
        ""
      ],
      "outputs": []
    },
    {
      "execution_count": 43,
      "cell_type": "code",
      "metadata": {},
      "source": [
        "customer_down_list \u003d CALCULATED_CARD_DRAW_DOWNS_df.CUSTOMER.unique()\ncustomer_up_list \u003d CALCULATED_CARD_DRAW_UPS_df.CUSTOMER.unique()"
      ],
      "outputs": []
    },
    {
      "execution_count": 0,
      "cell_type": "code",
      "metadata": {},
      "source": [
        ""
      ],
      "outputs": []
    },
    {
      "execution_count": 47,
      "cell_type": "code",
      "metadata": {},
      "source": [
        "CALCULATED_CARD_DRAW_DOWNS_df.head()"
      ],
      "outputs": [
        {
          "output_type": "execute_result",
          "execution_count": 47,
          "data": {
            "text/plain": "                 CUSTOMER            DRAW_DOWN_DATE     MEAN_DD     STD_DD  ACTIVE_CARD_MAX\n0                    3LUM 2019-12-01 00:00:00+00:00   13.000000   0.577350             14.0\n193      3US6 (EQUIPMENT) 2021-08-01 00:00:00+00:00   36.600000  27.673092            104.0\n192   ACORDA THERAPEUTICS 2019-09-01 00:00:00+00:00  129.600000   2.190890            133.0\n191  ADF PIZZA MANAGEMENT 2020-12-01 00:00:00+00:00    7.500000   1.623688             12.0\n190                 ALENT 2020-04-01 00:00:00+00:00    1.333333   0.492366              2.0",
            "text/html": "\u003cdiv\u003e\n\u003cstyle scoped\u003e\n    .dataframe tbody tr th:only-of-type {\n        vertical-align: middle;\n    }\n\n    .dataframe tbody tr th {\n        vertical-align: top;\n    }\n\n    .dataframe thead th {\n        text-align: right;\n    }\n\u003c/style\u003e\n\u003ctable border\u003d\"1\" class\u003d\"dataframe\"\u003e\n  \u003cthead\u003e\n    \u003ctr style\u003d\"text-align: right;\"\u003e\n      \u003cth\u003e\u003c/th\u003e\n      \u003cth\u003eCUSTOMER\u003c/th\u003e\n      \u003cth\u003eDRAW_DOWN_DATE\u003c/th\u003e\n      \u003cth\u003eMEAN_DD\u003c/th\u003e\n      \u003cth\u003eSTD_DD\u003c/th\u003e\n      \u003cth\u003eACTIVE_CARD_MAX\u003c/th\u003e\n    \u003c/tr\u003e\n  \u003c/thead\u003e\n  \u003ctbody\u003e\n    \u003ctr\u003e\n      \u003cth\u003e0\u003c/th\u003e\n      \u003ctd\u003e3LUM\u003c/td\u003e\n      \u003ctd\u003e2019-12-01 00:00:00+00:00\u003c/td\u003e\n      \u003ctd\u003e13.000000\u003c/td\u003e\n      \u003ctd\u003e0.577350\u003c/td\u003e\n      \u003ctd\u003e14.0\u003c/td\u003e\n    \u003c/tr\u003e\n    \u003ctr\u003e\n      \u003cth\u003e193\u003c/th\u003e\n      \u003ctd\u003e3US6 (EQUIPMENT)\u003c/td\u003e\n      \u003ctd\u003e2021-08-01 00:00:00+00:00\u003c/td\u003e\n      \u003ctd\u003e36.600000\u003c/td\u003e\n      \u003ctd\u003e27.673092\u003c/td\u003e\n      \u003ctd\u003e104.0\u003c/td\u003e\n    \u003c/tr\u003e\n    \u003ctr\u003e\n      \u003cth\u003e192\u003c/th\u003e\n      \u003ctd\u003eACORDA THERAPEUTICS\u003c/td\u003e\n      \u003ctd\u003e2019-09-01 00:00:00+00:00\u003c/td\u003e\n      \u003ctd\u003e129.600000\u003c/td\u003e\n      \u003ctd\u003e2.190890\u003c/td\u003e\n      \u003ctd\u003e133.0\u003c/td\u003e\n    \u003c/tr\u003e\n    \u003ctr\u003e\n      \u003cth\u003e191\u003c/th\u003e\n      \u003ctd\u003eADF PIZZA MANAGEMENT\u003c/td\u003e\n      \u003ctd\u003e2020-12-01 00:00:00+00:00\u003c/td\u003e\n      \u003ctd\u003e7.500000\u003c/td\u003e\n      \u003ctd\u003e1.623688\u003c/td\u003e\n      \u003ctd\u003e12.0\u003c/td\u003e\n    \u003c/tr\u003e\n    \u003ctr\u003e\n      \u003cth\u003e190\u003c/th\u003e\n      \u003ctd\u003eALENT\u003c/td\u003e\n      \u003ctd\u003e2020-04-01 00:00:00+00:00\u003c/td\u003e\n      \u003ctd\u003e1.333333\u003c/td\u003e\n      \u003ctd\u003e0.492366\u003c/td\u003e\n      \u003ctd\u003e2.0\u003c/td\u003e\n    \u003c/tr\u003e\n  \u003c/tbody\u003e\n\u003c/table\u003e\n\u003c/div\u003e"
          },
          "metadata": {}
        }
      ]
    },
    {
      "execution_count": 46,
      "cell_type": "code",
      "metadata": {},
      "source": [
        "import Levenshtein\nfrom fuzzywuzzy import fuzz\nimport string\n\ndraw_downs \u003d [\u0027ADF PIZZA MANAGEMENT\u0027,\u0027ALKERMES (3ALK)\u0027,\u0027AMGEN USA INC\u0027,\u0027ARCADIS US\u0027, \u0027BALFOUR PB\u0027]\ndraw_ups \u003d [\u00273LUM\u0027, \u0027ALKERMES INC\u0027, \u0027ALLIED TUBE  CONDUIT\u0027, \u0027AMGEN USA\u0027, \u0027ARCADIS US INC\u0027, \u0027BALFOUR BEATTY EQUIPMENT\u0027]\ndraw_downs \u003d [\u0027BALFOUR BEATTY EQUIPMENT\u0027] \n\ncommon_words \u003d [\u0027PIZZA\u0027, \u0027MANAGEMENT\u0027, \u0027USA\u0027, \u0027INC\u0027, \u0027US\u0027, \u0027EQUIPMENT\u0027]\n\nidx \u003d 0\n\nfor c in draw_downs:\n    \n    cust \u003d DRAW_DOWN_CUSTOMER(c, None, None)\n    \n    c_str \u003d c.translate(str.maketrans(\u0027\u0027, \u0027\u0027, string.punctuation))\n    \n    f \u003d c_str.split()\n    f_processed \u003d []\n    for w in f:\n        if w not in common_words:\n            f_processed.append(w)\n    f \u003d f_processed\n            \n    for m in draw_ups:\n        \n        m_str \u003d m.translate(str.maketrans(\u0027\u0027, \u0027\u0027, string.punctuation))\n        t \u003d m_str.split()\n        t_processed \u003d []\n        for w in t:\n            if w not in common_words:\n                t_processed.append(w)\n        t \u003d t_processed\n                \n        print(f, t)\n        print()\n        \n    #print()\n    \n    \n    "
      ],
      "outputs": [
        {
          "output_type": "stream",
          "text": "[\u0027BALFOUR\u0027, \u0027BEATTY\u0027] [\u00273LUM\u0027]\n\n[\u0027BALFOUR\u0027, \u0027BEATTY\u0027] [\u0027ALKERMES\u0027]\n\n[\u0027BALFOUR\u0027, \u0027BEATTY\u0027] [\u0027ALLIED\u0027, \u0027TUBE\u0027, \u0027CONDUIT\u0027]\n\n[\u0027BALFOUR\u0027, \u0027BEATTY\u0027] [\u0027AMGEN\u0027]\n\n[\u0027BALFOUR\u0027, \u0027BEATTY\u0027] [\u0027ARCADIS\u0027]\n\n[\u0027BALFOUR\u0027, \u0027BEATTY\u0027] [\u0027BALFOUR\u0027, \u0027BEATTY\u0027]\n\n",
          "name": "stdout"
        }
      ]
    },
    {
      "execution_count": 0,
      "cell_type": "code",
      "metadata": {},
      "source": [
        "# Compute recipe outputs\n# TODO: Write here your actual code that computes the outputs\n# NB: DSS supports several kinds of APIs for reading and writing data. Please see doc.\n\nPOTENTIAL_DUPLICATES_df \u003d ... # Compute a Pandas dataframe to write into POTENTIAL_DUPLICATES\n\n\n# Write recipe outputs\nPOTENTIAL_DUPLICATES \u003d dataiku.Dataset(\"POTENTIAL_DUPLICATES\")\nPOTENTIAL_DUPLICATES.write_with_schema(POTENTIAL_DUPLICATES_df)"
      ],
      "outputs": []
    }
  ]
}