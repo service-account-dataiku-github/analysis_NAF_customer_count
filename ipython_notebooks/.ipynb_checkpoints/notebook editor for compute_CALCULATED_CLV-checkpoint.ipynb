{
  "nbformat": 4,
  "nbformat_minor": 0,
  "metadata": {
    "kernelspec": {
      "display_name": "Python in cpu-m-cpu-3-mem-4Gb (builtin env)",
      "language": "python",
      "name": "py-dku-containerized-venv--cpu-m-cpu-3-mem-4gb"
    },
    "associatedRecipe": "compute_CALCULATED_CLV",
    "creator": "Daniel.Vandermeer",
    "createdOn": 1677243807727,
    "tags": [
      "recipe-editor"
    ],
    "customFields": {}
  },
  "cells": [
    {
      "cell_type": "code",
      "metadata": {},
      "outputs": [],
      "execution_count": 0,
      "source": [
        "# -*- coding: utf-8 -*-\n",
        "import dataiku\n",
        "import pandas as pd, numpy as np\n",
        "from dataiku import pandasutils as pdu\n",
        "\n",
        "# Read recipe inputs\n",
        "NAFCUSTOMER_NEW_ACCOUNTS_IN_2021 \u003d dataiku.Dataset(\"NAFCUSTOMER_NEW_ACCOUNTS_IN_2021\")\n",
        "NAFCUSTOMER_NEW_ACCOUNTS_IN_2021_df \u003d NAFCUSTOMER_NEW_ACCOUNTS_IN_2021.get_dataframe()\n",
        "\n",
        "\n",
        "# Compute recipe outputs from inputs\n",
        "# TODO: Replace this part by your actual code that computes the output, as a Pandas dataframe\n",
        "# NB: DSS also supports other kinds of APIs for reading and writing data. Please see doc.\n",
        "\n",
        "CALCULATED_CLV_df \u003d NAFCUSTOMER_NEW_ACCOUNTS_IN_2021_df # For this sample code, simply copy input to output\n",
        "\n",
        "\n",
        "# Write recipe outputs\n",
        "CALCULATED_CLV \u003d dataiku.Dataset(\"CALCULATED_CLV\")\n",
        "CALCULATED_CLV.write_with_schema(CALCULATED_CLV_df)"
      ]
    }
  ]
}