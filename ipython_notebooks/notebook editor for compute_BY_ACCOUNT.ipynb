{
  "metadata": {
    "kernelspec": {
      "name": "py-dku-venv-env_clc",
      "display_name": "Python (env env_clc)",
      "language": "python"
    },
    "associatedRecipe": "compute_BY_ACCOUNT",
    "dkuGit": {
      "lastInteraction": 0
    },
    "creationTag": {
      "versionNumber": 0,
      "lastModifiedBy": {
        "login": "Daniel.Vandermeer"
      },
      "lastModifiedOn": 1665663560788
    },
    "creator": "Daniel.Vandermeer",
    "createdOn": 1665663560788,
    "tags": [
      "recipe-editor"
    ],
    "customFields": {},
    "hide_input": false,
    "language_info": {
      "name": "python",
      "version": "3.6.8",
      "mimetype": "text/x-python",
      "codemirror_mode": {
        "name": "ipython",
        "version": 3
      },
      "pygments_lexer": "ipython3",
      "nbconvert_exporter": "python",
      "file_extension": ".py"
    },
    "modifiedBy": "Daniel.Vandermeer"
  },
  "nbformat": 4,
  "nbformat_minor": 1,
  "cells": [
    {
      "execution_count": 17,
      "cell_type": "code",
      "metadata": {},
      "source": [
        "# -*- coding: utf-8 -*-\nimport dataiku\nimport pandas as pd, numpy as np\nfrom dataiku import pandasutils as pdu\n\n# Read recipe inputs\nACCOUNTS_WITH_CUSTOMER_FROM_EDW_AND_DUNS \u003d dataiku.Dataset(\"ACCOUNTS_WITH_CUSTOMER_FROM_EDW_AND_DUNS\")\nACCOUNTS_WITH_CUSTOMER_FROM_EDW_AND_DUNS_df \u003d ACCOUNTS_WITH_CUSTOMER_FROM_EDW_AND_DUNS.get_dataframe()\n\nCALCULATED_DRAW_UPS \u003d dataiku.Dataset(\"CALCULATED_DRAW_UPS\")\nCALCULATED_DRAW_UPS_df \u003d CALCULATED_DRAW_UPS.get_dataframe()\n\nCALCULATED_DRAW_DOWNS \u003d dataiku.Dataset(\"CALCULATED_DRAW_DOWNS\")\nCALCULATED_DRAW_DOWNS_df \u003d CALCULATED_DRAW_DOWNS.get_dataframe()"
      ],
      "outputs": [
        {
          "output_type": "stream",
          "text": "/data/dataiku/dss_data/code-envs/python/env_clc/lib/python3.6/site-packages/IPython/core/interactiveshell.py:3263: DtypeWarning: Columns (6,8,10,12,14) have mixed types.Specify dtype option on import or set low_memory\u003dFalse.\n  if (await self.run_code(code, result,  async_\u003dasy)):\n",
          "name": "stderr"
        }
      ]
    },
    {
      "execution_count": 0,
      "cell_type": "code",
      "metadata": {},
      "source": [
        "CALCULATED_DRAW_UPS_df.head()"
      ],
      "outputs": []
    },
    {
      "execution_count": 18,
      "cell_type": "code",
      "metadata": {},
      "source": [
        "df_a \u003d ACCOUNTS_WITH_CUSTOMER_FROM_EDW_AND_DUNS_df[[\u0027CUSTOMER_ACCOUNT_ID\u0027,\u0027CUSTOMER\u0027]]\nprint(len(df_a), \"total accounts\")\n\nprint()\n\nprint(len(CALCULATED_DRAW_UPS_df), \"with draw ups\")\ndf_down \u003d pd.merge(df_a, CALCULATED_DRAW_UPS_df, on\u003d\u0027CUSTOMER_ACCOUNT_ID\u0027, how\u003d\u0027inner\u0027)\nprint(len(df_down), \"accounts joined with draw ups\")\n\nprint()\n\nprint(len(CALCULATED_DRAW_DOWNS_df), \"with draw downs\")\ndf_up \u003d pd.merge(df_a, CALCULATED_DRAW_DOWNS_df, on\u003d\u0027CUSTOMER_ACCOUNT_ID\u0027, how\u003d\u0027inner\u0027)\nprint(len(df_up), \"accounts joined with draw downs\")"
      ],
      "outputs": [
        {
          "output_type": "stream",
          "text": "844417 total accounts\n\n372 with draw ups\n372 accounts joined with draw ups\n\n259 with draw downs\n259 accounts joined with draw downs\n",
          "name": "stdout"
        }
      ]
    },
    {
      "execution_count": 50,
      "cell_type": "code",
      "metadata": {},
      "source": [
        "df_down.head()\n\n#df_down_customer_account_count \u003d  df_down.groupby(by\u003d[\"CUSTOMER\"])[\u0027CUSTOMER_ACCOUNT_ID\u0027].count().reset_index()\n#df_down_customer_min_date \u003d  df_down.groupby(by\u003d[\"CUSTOMER\"])[\u0027DRAW_UP_DATE\u0027].min().reset_index()\n#df_down_customer_max_date \u003d  df_down.groupby(by\u003d[\"CUSTOMER\"])[\u0027DRAW_UP_DATE\u0027].max().reset_index()\n\ndf_down \u003d pd.merge(df_down_customer_account_count, df_down_customer_min_date, on\u003d\u0027CUSTOMER\u0027) "
      ],
      "outputs": [
        {
          "output_type": "execute_result",
          "execution_count": 50,
          "data": {
            "text/plain": "                              CUSTOMER              DRAW_UP_DATE\n0                                 3GPP 2020-08-01 00:00:00+00:00\n1                                 3LUM 2019-01-01 00:00:00+00:00\n2                            3M (3MUS) 2020-04-01 00:00:00+00:00\n3                    3M COMPANY (3MVR) 2020-08-01 00:00:00+00:00\n4                       3M COMPANY3MUS 2021-08-01 00:00:00+00:00\n..                                 ...                       ...\n351                XYLEM ANALYTICS LLC 2021-10-01 00:00:00+00:00\n352                          XYLEM INC 2021-08-01 00:00:00+00:00\n353  YUM RESTAURANT SERVICES GROUP LLC 2021-03-01 00:00:00+00:00\n354                      ZOETIS (3PHX) 2020-09-01 00:00:00+00:00\n355                         ZOETIS INC 2022-05-01 00:00:00+00:00\n\n[356 rows x 2 columns]",
            "text/html": "\u003cdiv\u003e\n\u003cstyle scoped\u003e\n    .dataframe tbody tr th:only-of-type {\n        vertical-align: middle;\n    }\n\n    .dataframe tbody tr th {\n        vertical-align: top;\n    }\n\n    .dataframe thead th {\n        text-align: right;\n    }\n\u003c/style\u003e\n\u003ctable border\u003d\"1\" class\u003d\"dataframe\"\u003e\n  \u003cthead\u003e\n    \u003ctr style\u003d\"text-align: right;\"\u003e\n      \u003cth\u003e\u003c/th\u003e\n      \u003cth\u003eCUSTOMER\u003c/th\u003e\n      \u003cth\u003eDRAW_UP_DATE\u003c/th\u003e\n    \u003c/tr\u003e\n  \u003c/thead\u003e\n  \u003ctbody\u003e\n    \u003ctr\u003e\n      \u003cth\u003e0\u003c/th\u003e\n      \u003ctd\u003e3GPP\u003c/td\u003e\n      \u003ctd\u003e2020-08-01 00:00:00+00:00\u003c/td\u003e\n    \u003c/tr\u003e\n    \u003ctr\u003e\n      \u003cth\u003e1\u003c/th\u003e\n      \u003ctd\u003e3LUM\u003c/td\u003e\n      \u003ctd\u003e2019-01-01 00:00:00+00:00\u003c/td\u003e\n    \u003c/tr\u003e\n    \u003ctr\u003e\n      \u003cth\u003e2\u003c/th\u003e\n      \u003ctd\u003e3M (3MUS)\u003c/td\u003e\n      \u003ctd\u003e2020-04-01 00:00:00+00:00\u003c/td\u003e\n    \u003c/tr\u003e\n    \u003ctr\u003e\n      \u003cth\u003e3\u003c/th\u003e\n      \u003ctd\u003e3M COMPANY (3MVR)\u003c/td\u003e\n      \u003ctd\u003e2020-08-01 00:00:00+00:00\u003c/td\u003e\n    \u003c/tr\u003e\n    \u003ctr\u003e\n      \u003cth\u003e4\u003c/th\u003e\n      \u003ctd\u003e3M COMPANY3MUS\u003c/td\u003e\n      \u003ctd\u003e2021-08-01 00:00:00+00:00\u003c/td\u003e\n    \u003c/tr\u003e\n    \u003ctr\u003e\n      \u003cth\u003e...\u003c/th\u003e\n      \u003ctd\u003e...\u003c/td\u003e\n      \u003ctd\u003e...\u003c/td\u003e\n    \u003c/tr\u003e\n    \u003ctr\u003e\n      \u003cth\u003e351\u003c/th\u003e\n      \u003ctd\u003eXYLEM ANALYTICS LLC\u003c/td\u003e\n      \u003ctd\u003e2021-10-01 00:00:00+00:00\u003c/td\u003e\n    \u003c/tr\u003e\n    \u003ctr\u003e\n      \u003cth\u003e352\u003c/th\u003e\n      \u003ctd\u003eXYLEM INC\u003c/td\u003e\n      \u003ctd\u003e2021-08-01 00:00:00+00:00\u003c/td\u003e\n    \u003c/tr\u003e\n    \u003ctr\u003e\n      \u003cth\u003e353\u003c/th\u003e\n      \u003ctd\u003eYUM RESTAURANT SERVICES GROUP LLC\u003c/td\u003e\n      \u003ctd\u003e2021-03-01 00:00:00+00:00\u003c/td\u003e\n    \u003c/tr\u003e\n    \u003ctr\u003e\n      \u003cth\u003e354\u003c/th\u003e\n      \u003ctd\u003eZOETIS (3PHX)\u003c/td\u003e\n      \u003ctd\u003e2020-09-01 00:00:00+00:00\u003c/td\u003e\n    \u003c/tr\u003e\n    \u003ctr\u003e\n      \u003cth\u003e355\u003c/th\u003e\n      \u003ctd\u003eZOETIS INC\u003c/td\u003e\n      \u003ctd\u003e2022-05-01 00:00:00+00:00\u003c/td\u003e\n    \u003c/tr\u003e\n  \u003c/tbody\u003e\n\u003c/table\u003e\n\u003cp\u003e356 rows × 2 columns\u003c/p\u003e\n\u003c/div\u003e"
          },
          "metadata": {}
        }
      ]
    },
    {
      "execution_count": 0,
      "cell_type": "code",
      "metadata": {},
      "source": [
        "# Compute recipe outputs\n# TODO: Write here your actual code that computes the outputs\n# NB: DSS supports several kinds of APIs for reading and writing data. Please see doc.\n\n#BY_ACCOUNT_df \u003d ... # Compute a Pandas dataframe to write into BY_ACCOUNT\n\n\n# Write recipe outputs\n#BY_ACCOUNT \u003d dataiku.Dataset(\"BY_ACCOUNT\")\n#BY_ACCOUNT.write_with_schema(BY_ACCOUNT_df)"
      ],
      "outputs": []
    }
  ]
}