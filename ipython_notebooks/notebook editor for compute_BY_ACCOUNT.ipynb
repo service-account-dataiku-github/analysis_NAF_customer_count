{
  "nbformat": 4,
  "nbformat_minor": 0,
  "metadata": {
    "kernelspec": {
      "display_name": "Python in cpu-m-cpu-3-mem-4Gb (builtin env)",
      "language": "python",
      "name": "py-dku-containerized-venv--cpu-m-cpu-3-mem-4gb"
    },
    "associatedRecipe": "compute_BY_ACCOUNT",
    "dkuGit": {
      "lastInteraction": 0
    },
    "creationTag": {
      "versionNumber": 0,
      "lastModifiedBy": {
        "login": "Daniel.Vandermeer"
      },
      "lastModifiedOn": 1665663560788
    },
    "creator": "Daniel.Vandermeer",
    "createdOn": 1665663560788,
    "tags": [
      "recipe-editor"
    ],
    "customFields": {}
  },
  "cells": [
    {
      "cell_type": "code",
      "metadata": {},
      "outputs": [],
      "execution_count": 0,
      "source": [
        "# -*- coding: utf-8 -*-\n",
        "import dataiku\n",
        "import pandas as pd, numpy as np\n",
        "from dataiku import pandasutils as pdu\n",
        "\n",
        "# Read recipe inputs\n",
        "ACCOUNTS_WITH_CUSTOMER_FROM_EDW_AND_DUNS \u003d dataiku.Dataset(\"ACCOUNTS_WITH_CUSTOMER_FROM_EDW_AND_DUNS\")\n",
        "ACCOUNTS_WITH_CUSTOMER_FROM_EDW_AND_DUNS_df \u003d ACCOUNTS_WITH_CUSTOMER_FROM_EDW_AND_DUNS.get_dataframe()\n",
        "\n",
        "CALCULATED_DRAW_UPS \u003d dataiku.Dataset(\"CALCULATED_DRAW_UPS\")\n",
        "CALCULATED_DRAW_UPS_df \u003d CALCULATED_DRAW_UPS.get_dataframe()\n",
        "\n",
        "CALCULATED_DRAW_DOWNS \u003d dataiku.Dataset(\"CALCULATED_DRAW_DOWNS\")\n",
        "CALCULATED_DRAW_DOWNS_df \u003d CALCULATED_DRAW_DOWNS.get_dataframe()"
      ]
    },
    {
      "cell_type": "code",
      "metadata": {},
      "outputs": [],
      "execution_count": 0,
      "source": [
        "CALCULATED_DRAW_UPS_df.head()"
      ]
    },
    {
      "cell_type": "code",
      "metadata": {},
      "outputs": [],
      "execution_count": 0,
      "source": [
        "df_a \u003d ACCOUNTS_WITH_CUSTOMER_FROM_EDW_AND_DUNS_df[[\u0027CUSTOMER_ACCOUNT_ID\u0027,\u0027CUSTOMER\u0027]]\n",
        "print(len(df_a), \"total accounts\")\n",
        "\n",
        "print()\n",
        "\n",
        "print(len(CALCULATED_DRAW_UPS_df), \"with draw ups\")\n",
        "df_down \u003d pd.merge(df_a, CALCULATED_DRAW_UPS_df, on\u003d\u0027CUSTOMER_ACCOUNT_ID\u0027, how\u003d\u0027inner\u0027)\n",
        "print(len(df_down), \"accounts joined with draw ups\")\n",
        "\n",
        "print()\n",
        "\n",
        "print(len(CALCULATED_DRAW_DOWNS_df), \"with draw downs\")\n",
        "df_up \u003d pd.merge(df_a, CALCULATED_DRAW_DOWNS_df, on\u003d\u0027CUSTOMER_ACCOUNT_ID\u0027, how\u003d\u0027inner\u0027)\n",
        "print(len(df_up), \"accounts joined with draw downs\")"
      ]
    },
    {
      "cell_type": "code",
      "metadata": {},
      "outputs": [],
      "execution_count": 0,
      "source": [
        "df_down.head()"
      ]
    },
    {
      "cell_type": "code",
      "metadata": {},
      "outputs": [],
      "execution_count": 0,
      "source": [
        "# Compute recipe outputs\n",
        "# TODO: Write here your actual code that computes the outputs\n",
        "# NB: DSS supports several kinds of APIs for reading and writing data. Please see doc.\n",
        "\n",
        "#BY_ACCOUNT_df \u003d ... # Compute a Pandas dataframe to write into BY_ACCOUNT\n",
        "\n",
        "\n",
        "# Write recipe outputs\n",
        "#BY_ACCOUNT \u003d dataiku.Dataset(\"BY_ACCOUNT\")\n",
        "#BY_ACCOUNT.write_with_schema(BY_ACCOUNT_df)"
      ]
    }
  ]
}