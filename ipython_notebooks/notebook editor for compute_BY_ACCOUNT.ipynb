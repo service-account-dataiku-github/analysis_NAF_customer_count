{
  "metadata": {
    "kernelspec": {
      "name": "py-dku-venv-env_clc",
      "display_name": "Python (env env_clc)",
      "language": "python"
    },
    "associatedRecipe": "compute_BY_ACCOUNT",
    "dkuGit": {
      "lastInteraction": 0
    },
    "creationTag": {
      "versionNumber": 0,
      "lastModifiedBy": {
        "login": "Daniel.Vandermeer"
      },
      "lastModifiedOn": 1665663560788
    },
    "creator": "Daniel.Vandermeer",
    "createdOn": 1665663560788,
    "tags": [
      "recipe-editor"
    ],
    "customFields": {},
    "hide_input": false,
    "language_info": {
      "name": "python",
      "version": "3.6.8",
      "mimetype": "text/x-python",
      "codemirror_mode": {
        "name": "ipython",
        "version": 3
      },
      "pygments_lexer": "ipython3",
      "nbconvert_exporter": "python",
      "file_extension": ".py"
    },
    "modifiedBy": "Daniel.Vandermeer"
  },
  "nbformat": 4,
  "nbformat_minor": 1,
  "cells": [
    {
      "execution_count": 17,
      "cell_type": "code",
      "metadata": {},
      "source": [
        "# -*- coding: utf-8 -*-\nimport dataiku\nimport pandas as pd, numpy as np\nfrom dataiku import pandasutils as pdu\n\n# Read recipe inputs\nACCOUNTS_WITH_CUSTOMER_FROM_EDW_AND_DUNS \u003d dataiku.Dataset(\"ACCOUNTS_WITH_CUSTOMER_FROM_EDW_AND_DUNS\")\nACCOUNTS_WITH_CUSTOMER_FROM_EDW_AND_DUNS_df \u003d ACCOUNTS_WITH_CUSTOMER_FROM_EDW_AND_DUNS.get_dataframe()\n\nCALCULATED_DRAW_UPS \u003d dataiku.Dataset(\"CALCULATED_DRAW_UPS\")\nCALCULATED_DRAW_UPS_df \u003d CALCULATED_DRAW_UPS.get_dataframe()\n\nCALCULATED_DRAW_DOWNS \u003d dataiku.Dataset(\"CALCULATED_DRAW_DOWNS\")\nCALCULATED_DRAW_DOWNS_df \u003d CALCULATED_DRAW_DOWNS.get_dataframe()"
      ],
      "outputs": [
        {
          "output_type": "stream",
          "text": "/data/dataiku/dss_data/code-envs/python/env_clc/lib/python3.6/site-packages/IPython/core/interactiveshell.py:3263: DtypeWarning: Columns (6,8,10,12,14) have mixed types.Specify dtype option on import or set low_memory\u003dFalse.\n  if (await self.run_code(code, result,  async_\u003dasy)):\n",
          "name": "stderr"
        }
      ]
    },
    {
      "execution_count": 0,
      "cell_type": "code",
      "metadata": {},
      "source": [
        "CALCULATED_DRAW_UPS_df.head()"
      ],
      "outputs": []
    },
    {
      "execution_count": 18,
      "cell_type": "code",
      "metadata": {},
      "source": [
        "df_a \u003d ACCOUNTS_WITH_CUSTOMER_FROM_EDW_AND_DUNS_df[[\u0027CUSTOMER_ACCOUNT_ID\u0027,\u0027CUSTOMER\u0027]]\nprint(len(df_a), \"total accounts\")\n\nprint()\n\nprint(len(CALCULATED_DRAW_UPS_df), \"with draw ups\")\ndf_down \u003d pd.merge(df_a, CALCULATED_DRAW_UPS_df, on\u003d\u0027CUSTOMER_ACCOUNT_ID\u0027, how\u003d\u0027inner\u0027)\nprint(len(df_down), \"accounts joined with draw ups\")\n\nprint()\n\nprint(len(CALCULATED_DRAW_DOWNS_df), \"with draw downs\")\ndf_up \u003d pd.merge(df_a, CALCULATED_DRAW_DOWNS_df, on\u003d\u0027CUSTOMER_ACCOUNT_ID\u0027, how\u003d\u0027inner\u0027)\nprint(len(df_up), \"accounts joined with draw downs\")"
      ],
      "outputs": [
        {
          "output_type": "stream",
          "text": "844417 total accounts\n\n372 with draw ups\n372 accounts joined with draw ups\n\n259 with draw downs\n259 accounts joined with draw downs\n",
          "name": "stdout"
        }
      ]
    },
    {
      "execution_count": 38,
      "cell_type": "code",
      "metadata": {},
      "source": [
        "df"
      ],
      "outputs": [
        {
          "output_type": "stream",
          "text": "2 iterations 1 with potential matches 354 remaining 0.56 % complete\n4 iterations 2 with potential matches 352 remaining 1.12 % complete\n5 iterations 3 with potential matches 351 remaining 1.4 % complete\n7 iterations 4 with potential matches 349 remaining 1.97 % complete\n8 iterations 5 with potential matches 348 remaining 2.25 % complete\n16 iterations 6 with potential matches 340 remaining 4.49 % complete\n19 iterations 7 with potential matches 337 remaining 5.34 % complete\n26 iterations 8 with potential matches 330 remaining 7.3 % complete\n43 iterations 9 with potential matches 313 remaining 12.08 % complete\n62 iterations 10 with potential matches 294 remaining 17.42 % complete\n63 iterations 11 with potential matches 293 remaining 17.7 % complete\n68 iterations 12 with potential matches 288 remaining 19.1 % complete\n78 iterations 13 with potential matches 278 remaining 21.91 % complete\n87 iterations 14 with potential matches 269 remaining 24.44 % complete\n91 iterations 15 with potential matches 265 remaining 25.56 % complete\n102 iterations 16 with potential matches 254 remaining 28.65 % complete\n106 iterations 17 with potential matches 250 remaining 29.78 % complete\n111 iterations 18 with potential matches 245 remaining 31.18 % complete\n113 iterations 19 with potential matches 243 remaining 31.74 % complete\n116 iterations 20 with potential matches 240 remaining 32.58 % complete\n125 iterations 21 with potential matches 231 remaining 35.11 % complete\n129 iterations 22 with potential matches 227 remaining 36.24 % complete\n130 iterations 23 with potential matches 226 remaining 36.52 % complete\n135 iterations 24 with potential matches 221 remaining 37.92 % complete\n146 iterations 25 with potential matches 210 remaining 41.01 % complete\n155 iterations 26 with potential matches 201 remaining 43.54 % complete\n159 iterations 27 with potential matches 197 remaining 44.66 % complete\n167 iterations 28 with potential matches 189 remaining 46.91 % complete\n169 iterations 29 with potential matches 187 remaining 47.47 % complete\n170 iterations 30 with potential matches 186 remaining 47.75 % complete\n171 iterations 31 with potential matches 185 remaining 48.03 % complete\n174 iterations 32 with potential matches 182 remaining 48.88 % complete\n192 iterations 33 with potential matches 164 remaining 53.93 % complete\n201 iterations 34 with potential matches 155 remaining 56.46 % complete\n204 iterations 35 with potential matches 152 remaining 57.3 % complete\n210 iterations 36 with potential matches 146 remaining 58.99 % complete\n218 iterations 37 with potential matches 138 remaining 61.24 % complete\n223 iterations 38 with potential matches 133 remaining 62.64 % complete\n225 iterations 39 with potential matches 131 remaining 63.2 % complete\n229 iterations 40 with potential matches 127 remaining 64.33 % complete\n236 iterations 41 with potential matches 120 remaining 66.29 % complete\n241 iterations 42 with potential matches 115 remaining 67.7 % complete\n247 iterations 43 with potential matches 109 remaining 69.38 % complete\n253 iterations 44 with potential matches 103 remaining 71.07 % complete\n256 iterations 45 with potential matches 100 remaining 71.91 % complete\n261 iterations 46 with potential matches 95 remaining 73.31 % complete\n268 iterations 47 with potential matches 88 remaining 75.28 % complete\n269 iterations 48 with potential matches 87 remaining 75.56 % complete\n270 iterations 49 with potential matches 86 remaining 75.84 % complete\n274 iterations 50 with potential matches 82 remaining 76.97 % complete\n279 iterations 51 with potential matches 77 remaining 78.37 % complete\n280 iterations 52 with potential matches 76 remaining 78.65 % complete\n296 iterations 53 with potential matches 60 remaining 83.15 % complete\n306 iterations 54 with potential matches 50 remaining 85.96 % complete\n315 iterations 55 with potential matches 41 remaining 88.48 % complete\n332 iterations 56 with potential matches 24 remaining 93.26 % complete\n342 iterations 57 with potential matches 14 remaining 96.07 % complete\n344 iterations 58 with potential matches 12 remaining 96.63 % complete\ndone comparing drop downs\n58 found\n",
          "name": "stdout"
        }
      ]
    },
    {
      "execution_count": 41,
      "cell_type": "code",
      "metadata": {},
      "source": [
        "list_customers_[2], list_potential_matches_[2]"
      ],
      "outputs": [
        {
          "output_type": "execute_result",
          "execution_count": 41,
          "data": {
            "text/plain": "(\u0027KINDER MORGAN\u0027, array([\u0027KINDER MORGAN\u0027], dtype\u003dobject))"
          },
          "metadata": {}
        }
      ]
    },
    {
      "execution_count": 0,
      "cell_type": "code",
      "metadata": {},
      "source": [
        "# Compute recipe outputs\n# TODO: Write here your actual code that computes the outputs\n# NB: DSS supports several kinds of APIs for reading and writing data. Please see doc.\n\n#BY_ACCOUNT_df \u003d ... # Compute a Pandas dataframe to write into BY_ACCOUNT\n\n\n# Write recipe outputs\n#BY_ACCOUNT \u003d dataiku.Dataset(\"BY_ACCOUNT\")\n#BY_ACCOUNT.write_with_schema(BY_ACCOUNT_df)"
      ],
      "outputs": []
    }
  ]
}