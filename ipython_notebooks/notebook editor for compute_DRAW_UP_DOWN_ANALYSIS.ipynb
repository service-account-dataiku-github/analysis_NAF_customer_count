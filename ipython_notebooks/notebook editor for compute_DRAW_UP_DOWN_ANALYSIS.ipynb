{
  "metadata": {
    "kernelspec": {
      "name": "py-dku-venv-env_clc",
      "display_name": "Python (env env_clc)",
      "language": "python"
    },
    "associatedRecipe": "compute_DRAW_UP_DOWN_ANALYSIS",
    "creator": "Daniel.Vandermeer",
    "createdOn": 1666183844698,
    "tags": [
      "recipe-editor"
    ],
    "customFields": {},
    "hide_input": false,
    "language_info": {
      "name": "python",
      "version": "3.6.8",
      "mimetype": "text/x-python",
      "codemirror_mode": {
        "name": "ipython",
        "version": 3
      },
      "pygments_lexer": "ipython3",
      "nbconvert_exporter": "python",
      "file_extension": ".py"
    },
    "modifiedBy": "Daniel.Vandermeer"
  },
  "nbformat": 4,
  "nbformat_minor": 1,
  "cells": [
    {
      "execution_count": 29,
      "cell_type": "code",
      "metadata": {},
      "source": [
        "# -*- coding: utf-8 -*-\nimport dataiku\nimport pandas as pd, numpy as np\nfrom dataiku import pandasutils as pdu\n\n# Read recipe inputs\nCALCULATED_CARD_DRAW_UPS_FULL \u003d dataiku.Dataset(\"CALCULATED_CARD_DRAW_UPS_FULL\")\nCALCULATED_CARD_DRAW_UPS_FULL_df \u003d CALCULATED_CARD_DRAW_UPS_FULL.get_dataframe()\n\nCALCULATED_CARD_DRAW_DOWNS_FULL \u003d dataiku.Dataset(\"CALCULATED_CARD_DRAW_DOWNS_FULL\")\nCALCULATED_CARD_DRAW_DOWNS_FULL_df \u003d CALCULATED_CARD_DRAW_DOWNS_FULL.get_dataframe()\n\nCOMMON_WORDS \u003d dataiku.Dataset(\"NAFCUSTOMER_COMMON_WORDS_IN_NAMES\")\nCOMMON_WORDS_df \u003d COMMON_WORDS.get_dataframe()"
      ],
      "outputs": []
    },
    {
      "execution_count": 32,
      "cell_type": "code",
      "metadata": {},
      "source": [
        "df_down \u003d CALCULATED_CARD_DRAW_DOWNS_FULL_df\ndf_up \u003d CALCULATED_CARD_DRAW_UPS_FULL_df\ndf_common \u003d COMMON_WORDS_df\n_common_words \u003d df_common.WORD.unique()\n\nprint(len(df_down))\nprint(len(df_up))\nprint(len(_common_words), \"screening against common words\")"
      ],
      "outputs": [
        {
          "output_type": "stream",
          "text": "182341\n351542\n2173 screening against common words\n",
          "name": "stdout"
        }
      ]
    },
    {
      "execution_count": 0,
      "cell_type": "code",
      "metadata": {
        "scrolled": false
      },
      "source": [
        "import string\nimport time\nimport difflib\nfrom fuzzywuzzy import fuzz\n\ncustomers_ \u003d [\u0027AMGEN USA INC\u0027, \u0027OMEROS CORP PO#100752\u0027, \u0027BRITE LINE ASPHALT MAINTENANCE\u0027, \u0027MOSS FARMS (04)(2)\u0027,\n              \u0027JAMES H COWAN \u0026 ASSOC INC\u0027,\u0027WATTS EQUIPMENT CO INC\u0027,\u0027CUIVRE RIVER ELECT\u0027,\u0027BENTONS EQUIPMENT \u0026 CONSTRUCTI\u0027,\n             \u0027MILLENNIUM PHARMA\u0027,\u0027CONSTELLATION BRANDS (3CRW)\u0027]\n\n_cut_off \u003d [0.95, 0.90, 0.8, 0.7, 0.6]\n\nfor c in customers_:\n\n    \n    c_str \u003d c.translate(str.maketrans(\u0027\u0027, \u0027\u0027, string.punctuation))\n    f \u003d c_str.split()\n    \n    c_clean \u003d \"\"\n    for w in f:\n        if not w in _common_words:\n            if len(c_clean)\u003e0:\n                c_clean +\u003d \" \"\n            c_clean +\u003d w\n    \n    print(\u0027processing:\u0027, c, \"[\", c_clean, \"]\")\n    \n    c \u003d c_clean\n    \n    t0 \u003d time.time()\n    for co in _cut_off:\n\n        \n        print(\"cut off\", co)\n        matches \u003d difflib.get_close_matches(c, df_up[\u0027CUSTOMER\u0027].unique(), n\u003d300, cutoff\u003dco)\n\n        if len(matches)\u003e0:\n            t1 \u003d time.time()\n            avg_duration \u003d ((t1-t0))\n            print(len(matches), \"matches\", avg_duration)\n            print()\n            print(matches)\n        else:\n            print(\"no matches\", avg_duration)\n        print()\n        \n    print()\n    print(\"---\")\n    print()\n"
      ],
      "outputs": [
        {
          "output_type": "stream",
          "text": "processing: AMGEN USA INC [ AMGEN ]\ncut off 0.95\nno matches 2.1280879974365234\n\ncut off 0.9\nno matches 2.1280879974365234\n\ncut off 0.8\nno matches 2.1280879974365234\n\ncut off 0.7\n3 matches 1.6732423305511475\n\n[\u0027DAMENU\u0027, \u0027AMGEN USA\u0027, \u0027AM AGENCY\u0027]\n\ncut off 0.6\n15 matches 2.1434593200683594\n\n[\u0027DAMENU\u0027, \u0027AMGEN USA\u0027, \u0027AM AGENCY\u0027, \u0027SAME\u0027, \u0027AME INC\u0027, \u0027A2M AGENTS\u0027, \u0027JAMIE GREEN\u0027, \u0027JAMES HAGEN\u0027, \u0027HAMILENS\u0027, \u0027AGIE INC\u0027, \u0027Z GEN\u0027, \u0027SARGE\u0027, \u0027KAGES\u0027, \u0027BAGGE\u0027, \u0027AGAPE\u0027]\n\n\n---\n\nprocessing: OMEROS CORP PO#100752 [ OMEROS PO100752 ]\ncut off 0.95\nno matches 2.1434593200683594\n\ncut off 0.9\nno matches 2.1434593200683594\n\ncut off 0.8\nno matches 2.1434593200683594\n\ncut off 0.7\nno matches 2.1434593200683594\n\ncut off 0.6\nno matches 2.1434593200683594\n\n\n---\n\nprocessing: BRITE LINE ASPHALT MAINTENANCE [ BRITE ]\ncut off 0.95\nno matches 2.1434593200683594\n\ncut off 0.9\nno matches 2.1434593200683594\n\ncut off 0.8\nno matches 2.1434593200683594\n\ncut off 0.7\n2 matches 1.6675281524658203\n\n[\u0027BRITE AV\u0027, \u0027BARRIE\u0027]\n\ncut off 0.6\n19 matches 2.1363463401794434\n\n[\u0027BRITE AV\u0027, \u0027BARRIE\u0027, \u0027SITE\u0027, \u0027MOBRIEN\u0027, \u0027BRYTECH\u0027, \u0027BARTECH\u0027, \u0027BRITTEX LLC\u0027, \u0027BRITECH INC\u0027, \u0027SPRINTER\u0027, \u0027RDBRIDGE\u0027, \u0027PRISTINE\u0027, \u0027MB RIDES\u0027, \u0027ERIC TYE\u0027, \u0027DUNNRITE\u0027, \u0027BIZTEGIC\u0027, \u0027RIFLE\u0027, \u0027HITEK\u0027, \u0027BRISS\u0027, \u0027ARIEL\u0027]\n\n\n---\n\nprocessing: MOSS FARMS (04)(2) [ MOSS 042 ]\ncut off 0.95\nno matches 2.1363463401794434\n\ncut off 0.9\nno matches 2.1363463401794434\n\ncut off 0.8\nno matches 2.1363463401794434\n\ncut off 0.7\nno matches 2.1363463401794434\n\ncut off 0.6\nno matches 2.1363463401794434\n\n\n---\n\nprocessing: JAMES H COWAN \u0026 ASSOC INC [ H COWAN ]\ncut off 0.95\nno matches 2.1363463401794434\n\ncut off 0.9\nno matches 2.1363463401794434\n\ncut off 0.8\nno matches 2.1363463401794434\n\ncut off 0.7\nno matches 2.1363463401794434\n\ncut off 0.6\n17 matches 2.561519145965576\n\n[\u0027VHV COMPANY\u0027, \u0027SETH COSANS\u0027, \u0027MCGOWANS\u0027, \u0027WHAT COMPANY\u0027, \u0027HACH COMPANY\u0027, \u0027GERALD COWAN\u0027, \u0027C  H COMPANY\u0027, \u0027JKH CONST\u0027, \u0027HRC CO\u0027, \u0027HBS CO\u0027, \u0027H CORP\u0027, \u0027WALSH COMPANY\u0027, \u0027JOSHUA BOWMAN\u0027, \u0027JOHN COUGHRAN\u0027, \u0027JOHN CONAGHAN\u0027, \u0027BRYAN MCGOWAN\u0027, \u0027BARSH COMPANY\u0027]\n\n\n---\n\nprocessing: WATTS EQUIPMENT CO INC [ WATTS ]\ncut off 0.95\nno matches 2.561519145965576\n\ncut off 0.9\nno matches 2.561519145965576\n\ncut off 0.8\nno matches 2.561519145965576\n\ncut off 0.7\nno matches 2.561519145965576\n\ncut off 0.6\n5 matches 2.138242721557617\n\n[\u0027ARTTEES\u0027, \u0027ARTENTS\u0027, \u0027JAMIE WATTS\u0027, \u0027JOWAT SE\u0027, \u0027DARTS\u0027]\n\n\n---\n\nprocessing: CUIVRE RIVER ELECT [ CUIVRE ELECT ]\ncut off 0.95\nno matches 2.138242721557617\n\ncut off 0.9\nno matches 2.138242721557617\n\ncut off 0.8\nno matches 2.138242721557617\n\ncut off 0.7\n3 matches 3.3039867877960205\n\n[\u0027SURE ELECTRIC\u0027, \u0027PURE ELECTRIC\u0027, \u0027CHURNER ELECTRIC\u0027]\n\ncut off 0.6\n152 matches 6.12178373336792\n\n[\u0027SURE ELECTRIC\u0027, \u0027PURE ELECTRIC\u0027, \u0027CHURNER ELECTRIC\u0027, \u0027R MCCLURE ELEC\u0027, \u0027JIREH ELECTRIC\u0027, \u0027IVECO ELECTRIC\u0027, \u0027CREST ELECTRIC\u0027, \u0027CHIEF ELECTRIC\u0027, \u0027CRIVELLO ELECTRIC\u0027, \u0027COURTESY ELECTRIC\u0027, \u0027USI ELECTRIC\u0027, \u0027UNITED ELECTRIC\u0027, \u0027TURNER ELECTRIC\u0027, \u0027TRE ELECTRIC\u0027, \u0027THRIVE ELECTRIC\u0027, \u0027SHIRES ELECTRIC\u0027, \u0027IVEY ELECTRICAL\u0027, \u0027CURRIE CREEK ELECTRIC\u0027, \u0027CRS ELECTRIC\u0027, \u0027CREME ELECT LLC\u0027, \u0027CRB ELECTRIC\u0027, \u0027CNR ELECTRIC\u0027, \u0027CIRCON ELECTRIC\u0027, \u0027CED ELECTRIC\u0027, \u0027CDIVE LLC\u0027, \u0027ALLURE ELECTRIC\u0027, \u0027ACE ELECTRIC\u0027, \u0027EXECUTIVE ELECTRIC INC\u0027, \u0027CURRENT ELECTRIC CO\u0027, \u0027ACTIVE ELECTRIC LLC\u0027, \u0027WIREMAN ELECTRIC\u0027, \u0027WIRE ME ELECTRIC\u0027, \u0027VENTURE ELECTRIC\u0027, \u0027STATURE ELECTRIC\u0027, \u0027MERCURY ELECTRIC\u0027, \u0027KUDERER ELECTRIC\u0027, \u0027JUSTICE ELECTRIC\u0027, \u0027HAYWIRE ELECTRIC\u0027, \u0027GURNSEY ELECTRIC\u0027, \u0027GILMORE ELECTRIC\u0027, \u0027DUNRITE ELECTRIC\u0027, \u0027CYPRESS ELECTRIC\u0027, \u0027CASTINE ELECTRIC\u0027, \u0027ALVAREZ ELECTRIC\u0027, \u0027SSCI ELECTRIC\u0027, \u0027PACE ELECTRIC\u0027, \u0027MCGUIRE SALES\u0027, \u0027FUSE ELECTRIC\u0027, \u0027EVCLUSIVE LLC\u0027, \u0027CITY ELECTRIC\u0027, \u0027BISE ELECTRIC\u0027, \u0027ARCE ELECTRIC\u0027, \u0027NIVREK LLC\u0027, \u0027CRE LLC\u0027, \u0027CIV LLC\u0027, \u0027BOW CURRENT ELECTRIC\u0027, \u0027ALL CURRENT ELECTRIC\u0027, \u0027SURE ELECTRIC INC\u0027, \u0027MCBRIDES ELECTRIC\u0027, \u0027LIVE ELECTRIC INC\u0027, \u0027COVER ELECTRIC CO\u0027, \u0027COREL ELECTRONICS\u0027, \u0027CLINE ELECTRIC CO\u0027, \u0027CITYWIDE ELECTRIC\u0027, \u0027BURDETTE ELECTRIC\u0027, \u0027BUILDERS ELECTRIC\u0027, \u0027BEE CAVE ELECTRIC\u0027, \u0027WOIKE ELECTRIC\u0027, \u0027UNIQUE TELECOM\u0027, \u0027SURGE ELEKTRIK\u0027, \u0027SECURE TEL LLC\u0027, \u0027ROGEL ELECTRIC\u0027, \u0027REEVE ELECTRIC\u0027, \u0027RADEC ELECTRIC\u0027, \u0027R E S ELECTRIC\u0027, \u0027QUINN ELECTRIC\u0027, \u0027PAIGE ELECTRIC\u0027, \u0027OLD TIME ELECT\u0027, \u0027MIKES ELECTRIC\u0027, \u0027LUMEN ELECTRIC\u0027, \u0027LUCEY ELECTRIC\u0027, \u0027KUBIK ELECTRIC\u0027, \u0027JAIME ELECTRIC\u0027, \u0027HURON ELECTRIC\u0027, \u0027FIELD ELECTRIC\u0027, \u0027DRAKE ELECTRIC\u0027, \u0027DIEHL ELECTRIC\u0027, \u0027DAVES ELECTRIC\u0027, \u0027CURVES DEL REY\u0027, \u0027CROWN ELECTRIC\u0027, \u0027COUTURE EVENTS\u0027, \u0027CORAL ELECTRIC\u0027, \u0027COARS ELECTRIC\u0027, \u0027CISCO ELECTRIC\u0027, \u0027CHASE ELECTRIC\u0027, \u0027CELLO ELECTRIC\u0027, \u0027CAVAN ELECTRIC\u0027, \u0027C I ELECTRICAL\u0027, \u0027BRUCE ELECTRIC\u0027, \u0027BRITE ELECTRIC\u0027, \u0027ACORN ELECTRIC\u0027, \u0027ACIRE NYNE LLC\u0027, \u0027TE ELECTRIC\u0027, \u0027TC ELECTRIX\u0027, \u0027RT ELECTRIC\u0027, \u0027RK ELECTRIC\u0027, \u0027OUTTIRE LLC\u0027, \u0027OC ELECTRIC\u0027, \u0027MCNIVEN LLC\u0027, \u0027MC ELECTRIC\u0027, \u0027KV ELECTRIC\u0027, \u0027KR ELECTRIC\u0027, \u0027JC ELECTRIC\u0027, \u0027FR ELECTRIC\u0027, \u0027EZ ELECTRIC\u0027, \u0027EB ELECTRIC\u0027, \u0027DR ELECTRIC\u0027, \u0027DC ELECTRIC\u0027, \u0027COUTURE LLC\u0027, \u0027CN ELECTRIC\u0027, \u0027CJ ELECTRIC\u0027, \u0027CC ELECTRIC\u0027, \u0027AE ELECTRIC\u0027, \u0027SILVER SABRE ELECTRIC\u0027, \u0027MCINTYRE ELECTRIC LLC\u0027, \u0027CREATIVE ELECTRIC LLC\u0027, \u0027CREATIVE ELECTRIC INC\u0027, \u0027CIRCLE B ELECTRIC LLC\u0027, \u0027CIRCLE A ELECTRIC INC\u0027, \u0027ACCURATE ELECTRIC INC\u0027, \u0027UVUE LLC\u0027, \u0027UNLIMITED ELECTRIC\u0027, \u0027SURE ELECTRIC INC.\u0027, \u0027SIGNATURE ELECTRIC\u0027, \u0027R SQUARED ELECTRIC\u0027, \u0027PITRE ELECTRIC LLC\u0027, \u0027PEACHTREE ELECTRIC\u0027, \u0027LALIBERTE ELECTRIC\u0027, \u0027FURSE LC\u0027, \u0027EXCLUSIVE SECURITY\u0027, \u0027EVERGREEN ELECTRIC\u0027, \u0027DUNN RITE ELECTRIC\u0027, \u0027DRY CREEK ELECTRIC\u0027, \u0027CROSSLINE ELECTRIC\u0027, \u0027CREO LLC\u0027, \u0027CREMA ELECTRIC LTD\u0027, \u0027CLINE ELECTRIC LLC\u0027, \u0027CHIEF ELECTRIC INC\u0027, \u0027C BRE ELECTRIC LTD\u0027, \u0027BURKE ELECTRIC INC\u0027, \u0027BUMGARNER ELECTRIC\u0027, \u0027BUILDERS ELECT INC\u0027]\n\n\n---\n\nprocessing: BENTONS EQUIPMENT \u0026 CONSTRUCTI [ BENTONS CONSTRUCTI ]\ncut off 0.95\nno matches 6.12178373336792\n\ncut off 0.9\nno matches 6.12178373336792\n\ncut off 0.8\n10 matches 3.6749672889709473\n\n[\u0027BENSON CONSTRUCTION\u0027, \u0027BLANTON CONSTRUCTION\u0027, \u0027BERNS CONSTRUCTION\u0027, \u0027NEWTON CONSTRUCTION\u0027, \u0027DUNTON CONSTRUCTION\u0027, \u0027ROBERTSON CONSTRUCTION\u0027, \u0027LEON CONSTRUCTION\u0027, \u0027GENT CONSTRUCTION\u0027, \u0027ESTO CONSTRUCTION\u0027, \u0027EDMISTONS CONSTRUCTION\u0027]\n\ncut off 0.7\n",
          "name": "stdout"
        }
      ]
    },
    {
      "execution_count": 0,
      "cell_type": "code",
      "metadata": {},
      "source": [
        "# Compute recipe outputs\n# TODO: Write here your actual code that computes the outputs\n# NB: DSS supports several kinds of APIs for reading and writing data. Please see doc.\n\n#DRAW_UP_DOWN_ANALYSIS_df \u003d ... # Compute a Pandas dataframe to write into DRAW_UP_DOWN_ANALYSIS\n\n# Write recipe outputs\n#DRAW_UP_DOWN_ANALYSIS \u003d dataiku.Dataset(\"DRAW_UP_DOWN_ANALYSIS\")\n#DRAW_UP_DOWN_ANALYSIS.write_with_schema(DRAW_UP_DOWN_ANALYSIS_df)"
      ],
      "outputs": []
    }
  ]
}