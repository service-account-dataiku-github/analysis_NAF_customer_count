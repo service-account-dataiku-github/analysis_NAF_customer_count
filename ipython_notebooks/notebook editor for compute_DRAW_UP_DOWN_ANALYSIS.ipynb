{
  "metadata": {
    "kernelspec": {
      "name": "py-dku-venv-env_clc",
      "display_name": "Python (env env_clc)",
      "language": "python"
    },
    "associatedRecipe": "compute_DRAW_UP_DOWN_ANALYSIS",
    "creator": "Daniel.Vandermeer",
    "createdOn": 1666183844698,
    "tags": [
      "recipe-editor"
    ],
    "customFields": {},
    "hide_input": false,
    "language_info": {
      "name": "python",
      "version": "3.6.8",
      "mimetype": "text/x-python",
      "codemirror_mode": {
        "name": "ipython",
        "version": 3
      },
      "pygments_lexer": "ipython3",
      "nbconvert_exporter": "python",
      "file_extension": ".py"
    },
    "modifiedBy": "Daniel.Vandermeer"
  },
  "nbformat": 4,
  "nbformat_minor": 1,
  "cells": [
    {
      "execution_count": 29,
      "cell_type": "code",
      "metadata": {},
      "source": [
        "# -*- coding: utf-8 -*-\nimport dataiku\nimport pandas as pd, numpy as np\nfrom dataiku import pandasutils as pdu\n\n# Read recipe inputs\nCALCULATED_CARD_DRAW_UPS_FULL \u003d dataiku.Dataset(\"CALCULATED_CARD_DRAW_UPS_FULL\")\nCALCULATED_CARD_DRAW_UPS_FULL_df \u003d CALCULATED_CARD_DRAW_UPS_FULL.get_dataframe()\n\nCALCULATED_CARD_DRAW_DOWNS_FULL \u003d dataiku.Dataset(\"CALCULATED_CARD_DRAW_DOWNS_FULL\")\nCALCULATED_CARD_DRAW_DOWNS_FULL_df \u003d CALCULATED_CARD_DRAW_DOWNS_FULL.get_dataframe()\n\nCOMMON_WORDS \u003d dataiku.Dataset(\"NAFCUSTOMER_COMMON_WORDS_IN_NAMES\")\nCOMMON_WORDS_df \u003d COMMON_WORDS.get_dataframe()"
      ],
      "outputs": []
    },
    {
      "execution_count": 32,
      "cell_type": "code",
      "metadata": {},
      "source": [
        "df_down \u003d CALCULATED_CARD_DRAW_DOWNS_FULL_df\ndf_up \u003d CALCULATED_CARD_DRAW_UPS_FULL_df\ndf_common \u003d COMMON_WORDS_df\n_common_words \u003d df_common.WORD.unique()\n\nprint(len(df_down))\nprint(len(df_up))\nprint(len(_common_words), \"screening against common words\")"
      ],
      "outputs": [
        {
          "output_type": "stream",
          "text": "182341\n351542\n2173 screening against common words\n",
          "name": "stdout"
        }
      ]
    },
    {
      "execution_count": 37,
      "cell_type": "code",
      "metadata": {
        "scrolled": false
      },
      "source": [
        "import string\nimport time\nimport difflib\nfrom fuzzywuzzy import fuzz\n\ncustomers_ \u003d [\u0027AMGEN USA INC\u0027, \u0027OMEROS CORP PO#100752\u0027, \u0027BRITE LINE ASPHALT MAINTENANCE\u0027, \u0027MOSS FARMS (04)(2)\u0027,\n              \u0027JAMES H COWAN \u0026 ASSOC INC\u0027,\u0027WATTS EQUIPMENT CO INC\u0027,\u0027CUIVRE RIVER ELECT\u0027,\u0027BENTONS EQUIPMENT \u0026 CONSTRUCTI\u0027,\n             \u0027MILLENNIUM PHARMA\u0027,\u0027CONSTELLATION BRANDS (3CRW)\u0027]\n\n_cut_off \u003d [0.95, 0.90, 0.8, 0.7, 0.6]\n\nfor c in customers_:\n\n    \n    c_str \u003d c.translate(str.maketrans(\u0027\u0027, \u0027\u0027, string.punctuation))\n    f \u003d c_str.split()\n    \n    c_clean \u003d \"\"\n    for w in f:\n        if not w in _common_words:\n            print(\"#\" + w + \"#s\")\n            c_clean +\u003d w\n    \n    print(\u0027processing:\u0027, c, \"[\", c_clean, \"]\")\n    \n    c \u003d c_clean\n    \n    t0 \u003d time.time()\n    for co in _cut_off:\n\n        \n        print(\"cut off\", co)\n        matches \u003d difflib.get_close_matches(c, df_up[\u0027CUSTOMER\u0027].unique(), n\u003d300, cutoff\u003dco)\n\n        if len(matches)\u003e0:\n            t1 \u003d time.time()\n            avg_duration \u003d ((t1-t0))\n            print(len(matches), \"matches\", avg_duration)\n            print()\n            print(matches)\n        else:\n            print(\"no matches\", avg_duration)\n        print()\n        \n    print()\n    print(\"---\")\n    print()\n"
      ],
      "outputs": [
        {
          "output_type": "stream",
          "text": "#C#s\nprocessing: AMGEN USA INC [ C ]\ncut off 0.95\n1 matches 0.4128389358520508\n\n[\u0027C\u0027]\n\ncut off 0.9\n1 matches 0.8219790458679199\n\n[\u0027C\u0027]\n\ncut off 0.8\n1 matches 1.2303037643432617\n\n[\u0027C\u0027]\n\ncut off 0.7\n1 matches 1.6409015655517578\n\n[\u0027C\u0027]\n\ncut off 0.6\n5 matches 2.0499043464660645\n\n[\u0027C\u0027, \u0027QC\u0027, \u0027CR\u0027, \u0027BC\u0027, \u00273C\u0027]\n\n\n---\n\n#C#s\nprocessing: OMEROS CORP PO#100752 [ C ]\ncut off 0.95\n1 matches 0.412219762802124\n\n[\u0027C\u0027]\n\ncut off 0.9\n1 matches 0.8222143650054932\n\n[\u0027C\u0027]\n\ncut off 0.8\n1 matches 1.232426643371582\n\n[\u0027C\u0027]\n\ncut off 0.7\n1 matches 1.641158103942871\n\n[\u0027C\u0027]\n\ncut off 0.6\n5 matches 2.04943585395813\n\n[\u0027C\u0027, \u0027QC\u0027, \u0027CR\u0027, \u0027BC\u0027, \u00273C\u0027]\n\n\n---\n\n#C#s\nprocessing: BRITE LINE ASPHALT MAINTENANCE [ C ]\ncut off 0.95\n1 matches 0.40874576568603516\n\n[\u0027C\u0027]\n\ncut off 0.9\n1 matches 0.8199326992034912\n\n[\u0027C\u0027]\n\ncut off 0.8\n1 matches 1.2317478656768799\n\n[\u0027C\u0027]\n\ncut off 0.7\n1 matches 1.6405086517333984\n\n[\u0027C\u0027]\n\ncut off 0.6\n5 matches 2.050229787826538\n\n[\u0027C\u0027, \u0027QC\u0027, \u0027CR\u0027, \u0027BC\u0027, \u00273C\u0027]\n\n\n---\n\n#C#s\nprocessing: MOSS FARMS (04)(2) [ C ]\ncut off 0.95\n1 matches 0.4101996421813965\n\n[\u0027C\u0027]\n\ncut off 0.9\n1 matches 0.8183479309082031\n\n[\u0027C\u0027]\n\ncut off 0.8\n1 matches 1.2270569801330566\n\n[\u0027C\u0027]\n\ncut off 0.7\n1 matches 1.6371722221374512\n\n[\u0027C\u0027]\n\ncut off 0.6\n5 matches 2.045980215072632\n\n[\u0027C\u0027, \u0027QC\u0027, \u0027CR\u0027, \u0027BC\u0027, \u00273C\u0027]\n\n\n---\n\n#C#s\nprocessing: JAMES H COWAN \u0026 ASSOC INC [ C ]\ncut off 0.95\n",
          "name": "stdout"
        },
        {
          "output_type": "error",
          "ename": "KeyboardInterrupt",
          "evalue": "",
          "traceback": [
            "\u001b[0;31m---------------------------------------------------------------------------\u001b[0m",
            "\u001b[0;31mKeyboardInterrupt\u001b[0m                         Traceback (most recent call last)",
            "\u001b[0;32m\u003cipython-input-37-2456de696652\u003e\u001b[0m in \u001b[0;36m\u003cmodule\u003e\u001b[0;34m\u001b[0m\n\u001b[1;32m     31\u001b[0m \u001b[0;34m\u001b[0m\u001b[0m\n\u001b[1;32m     32\u001b[0m         \u001b[0mprint\u001b[0m\u001b[0;34m(\u001b[0m\u001b[0;34m\"cut off\"\u001b[0m\u001b[0;34m,\u001b[0m \u001b[0mco\u001b[0m\u001b[0;34m)\u001b[0m\u001b[0;34m\u001b[0m\u001b[0;34m\u001b[0m\u001b[0m\n\u001b[0;32m---\u003e 33\u001b[0;31m         \u001b[0mmatches\u001b[0m \u001b[0;34m\u003d\u001b[0m \u001b[0mdifflib\u001b[0m\u001b[0;34m.\u001b[0m\u001b[0mget_close_matches\u001b[0m\u001b[0;34m(\u001b[0m\u001b[0mc\u001b[0m\u001b[0;34m,\u001b[0m \u001b[0mdf_up\u001b[0m\u001b[0;34m[\u001b[0m\u001b[0;34m\u0027CUSTOMER\u0027\u001b[0m\u001b[0;34m]\u001b[0m\u001b[0;34m.\u001b[0m\u001b[0munique\u001b[0m\u001b[0;34m(\u001b[0m\u001b[0;34m)\u001b[0m\u001b[0;34m,\u001b[0m \u001b[0mn\u001b[0m\u001b[0;34m\u003d\u001b[0m\u001b[0;36m300\u001b[0m\u001b[0;34m,\u001b[0m \u001b[0mcutoff\u001b[0m\u001b[0;34m\u003d\u001b[0m\u001b[0mco\u001b[0m\u001b[0;34m)\u001b[0m\u001b[0;34m\u001b[0m\u001b[0;34m\u001b[0m\u001b[0m\n\u001b[0m\u001b[1;32m     34\u001b[0m \u001b[0;34m\u001b[0m\u001b[0m\n\u001b[1;32m     35\u001b[0m         \u001b[0;32mif\u001b[0m \u001b[0mlen\u001b[0m\u001b[0;34m(\u001b[0m\u001b[0mmatches\u001b[0m\u001b[0;34m)\u001b[0m\u001b[0;34m\u003e\u001b[0m\u001b[0;36m0\u001b[0m\u001b[0;34m:\u001b[0m\u001b[0;34m\u001b[0m\u001b[0;34m\u001b[0m\u001b[0m\n",
            "\u001b[0;32m/usr/lib64/python3.6/difflib.py\u001b[0m in \u001b[0;36mget_close_matches\u001b[0;34m(word, possibilities, n, cutoff)\u001b[0m\n\u001b[1;32m    723\u001b[0m     \u001b[0ms\u001b[0m\u001b[0;34m.\u001b[0m\u001b[0mset_seq2\u001b[0m\u001b[0;34m(\u001b[0m\u001b[0mword\u001b[0m\u001b[0;34m)\u001b[0m\u001b[0;34m\u001b[0m\u001b[0;34m\u001b[0m\u001b[0m\n\u001b[1;32m    724\u001b[0m     \u001b[0;32mfor\u001b[0m \u001b[0mx\u001b[0m \u001b[0;32min\u001b[0m \u001b[0mpossibilities\u001b[0m\u001b[0;34m:\u001b[0m\u001b[0;34m\u001b[0m\u001b[0;34m\u001b[0m\u001b[0m\n\u001b[0;32m--\u003e 725\u001b[0;31m         \u001b[0ms\u001b[0m\u001b[0;34m.\u001b[0m\u001b[0mset_seq1\u001b[0m\u001b[0;34m(\u001b[0m\u001b[0mx\u001b[0m\u001b[0;34m)\u001b[0m\u001b[0;34m\u001b[0m\u001b[0;34m\u001b[0m\u001b[0m\n\u001b[0m\u001b[1;32m    726\u001b[0m         \u001b[0;32mif\u001b[0m \u001b[0ms\u001b[0m\u001b[0;34m.\u001b[0m\u001b[0mreal_quick_ratio\u001b[0m\u001b[0;34m(\u001b[0m\u001b[0;34m)\u001b[0m \u001b[0;34m\u003e\u003d\u001b[0m \u001b[0mcutoff\u001b[0m \u001b[0;32mand\u001b[0m\u001b[0;31m \u001b[0m\u001b[0;31m\\\u001b[0m\u001b[0;34m\u001b[0m\u001b[0;34m\u001b[0m\u001b[0m\n\u001b[1;32m    727\u001b[0m            \u001b[0ms\u001b[0m\u001b[0;34m.\u001b[0m\u001b[0mquick_ratio\u001b[0m\u001b[0;34m(\u001b[0m\u001b[0;34m)\u001b[0m \u001b[0;34m\u003e\u003d\u001b[0m \u001b[0mcutoff\u001b[0m \u001b[0;32mand\u001b[0m\u001b[0;31m \u001b[0m\u001b[0;31m\\\u001b[0m\u001b[0;34m\u001b[0m\u001b[0;34m\u001b[0m\u001b[0m\n",
            "\u001b[0;31mKeyboardInterrupt\u001b[0m: "
          ]
        }
      ]
    },
    {
      "execution_count": 0,
      "cell_type": "code",
      "metadata": {},
      "source": [
        "# Compute recipe outputs\n# TODO: Write here your actual code that computes the outputs\n# NB: DSS supports several kinds of APIs for reading and writing data. Please see doc.\n\n#DRAW_UP_DOWN_ANALYSIS_df \u003d ... # Compute a Pandas dataframe to write into DRAW_UP_DOWN_ANALYSIS\n\n# Write recipe outputs\n#DRAW_UP_DOWN_ANALYSIS \u003d dataiku.Dataset(\"DRAW_UP_DOWN_ANALYSIS\")\n#DRAW_UP_DOWN_ANALYSIS.write_with_schema(DRAW_UP_DOWN_ANALYSIS_df)"
      ],
      "outputs": []
    }
  ]
}