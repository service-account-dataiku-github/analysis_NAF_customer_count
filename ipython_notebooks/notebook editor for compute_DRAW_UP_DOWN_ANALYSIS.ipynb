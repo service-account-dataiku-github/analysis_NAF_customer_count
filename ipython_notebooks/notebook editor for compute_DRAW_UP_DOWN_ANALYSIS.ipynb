{
  "metadata": {
    "kernelspec": {
      "name": "py-dku-venv-env_clc",
      "display_name": "Python (env env_clc)",
      "language": "python"
    },
    "associatedRecipe": "compute_DRAW_UP_DOWN_ANALYSIS",
    "creator": "Daniel.Vandermeer",
    "createdOn": 1666183844698,
    "tags": [
      "recipe-editor"
    ],
    "customFields": {},
    "hide_input": false,
    "language_info": {
      "name": "python",
      "version": "3.6.8",
      "mimetype": "text/x-python",
      "codemirror_mode": {
        "name": "ipython",
        "version": 3
      },
      "pygments_lexer": "ipython3",
      "nbconvert_exporter": "python",
      "file_extension": ".py"
    },
    "modifiedBy": "Daniel.Vandermeer"
  },
  "nbformat": 4,
  "nbformat_minor": 1,
  "cells": [
    {
      "execution_count": 29,
      "cell_type": "code",
      "metadata": {},
      "source": [
        "# -*- coding: utf-8 -*-\nimport dataiku\nimport pandas as pd, numpy as np\nfrom dataiku import pandasutils as pdu\n\n# Read recipe inputs\nCALCULATED_CARD_DRAW_UPS_FULL \u003d dataiku.Dataset(\"CALCULATED_CARD_DRAW_UPS_FULL\")\nCALCULATED_CARD_DRAW_UPS_FULL_df \u003d CALCULATED_CARD_DRAW_UPS_FULL.get_dataframe()\n\nCALCULATED_CARD_DRAW_DOWNS_FULL \u003d dataiku.Dataset(\"CALCULATED_CARD_DRAW_DOWNS_FULL\")\nCALCULATED_CARD_DRAW_DOWNS_FULL_df \u003d CALCULATED_CARD_DRAW_DOWNS_FULL.get_dataframe()\n\nCOMMON_WORDS \u003d dataiku.Dataset(\"NAFCUSTOMER_COMMON_WORDS_IN_NAMES\")\nCOMMON_WORDS_df \u003d COMMON_WORDS.get_dataframe()"
      ],
      "outputs": []
    },
    {
      "execution_count": 32,
      "cell_type": "code",
      "metadata": {},
      "source": [
        "df_down \u003d CALCULATED_CARD_DRAW_DOWNS_FULL_df\ndf_up \u003d CALCULATED_CARD_DRAW_UPS_FULL_df\ndf_common \u003d COMMON_WORDS_df\n_common_words \u003d df_common.WORD.unique()\n\nprint(len(df_down))\nprint(len(df_up))\nprint(len(_common_words), \"screening against common words\")"
      ],
      "outputs": [
        {
          "output_type": "stream",
          "text": "182341\n351542\n2173 screening against common words\n",
          "name": "stdout"
        }
      ]
    },
    {
      "execution_count": 0,
      "cell_type": "code",
      "metadata": {
        "scrolled": true
      },
      "source": [
        "import string\nimport time\nimport difflib\nfrom fuzzywuzzy import fuzz\n\ndef remove_common_words(input_string):\n    \n    c_str \u003d input_string.translate(str.maketrans(\u0027\u0027, \u0027\u0027, string.punctuation))\n    f \u003d c_str.split()\n    \n    c_clean \u003d \"\"\n    for w in f:\n        if not w in _common_words:\n            if len(c_clean)\u003e0:\n                c_clean +\u003d \" \"\n            c_clean +\u003d w\n            \n    return(c_clean)\n\nt0 \u003d time.time()\n\ndf_up \u003d CALCULATED_CARD_DRAW_UPS_FULL_df\ndf_up[\u0027CUSTOMER_CLEANED\u0027] \u003d df_up[\u0027CUSTOMER\u0027].apply(remove_common_words)\ndf_up.head()\n\nt1 \u003d time.time()\navg_duration \u003d ((t1-t0))\nprint(\"remove common words:\", avg_duration)\n\ncustomers_ \u003d [\u0027AMGEN USA INC\u0027, \u0027OMEROS CORP PO#100752\u0027, \u0027BRITE LINE ASPHALT MAINTENANCE\u0027, \u0027MOSS FARMS (04)(2)\u0027,\n              \u0027JAMES H COWAN \u0026 ASSOC INC\u0027,\u0027WATTS EQUIPMENT CO INC\u0027,\u0027CUIVRE RIVER ELECT\u0027,\u0027BENTONS EQUIPMENT \u0026 CONSTRUCTI\u0027,\n             \u0027MILLENNIUM PHARMA\u0027,\u0027CONSTELLATION BRANDS (3CRW)\u0027]\n\n_cut_off \u003d [0.95, 0.90, 0.8, 0.7, 0.6]\n\nfor c in customers_:\n\n    c_clean \u003d remove_common_words(c)\n    print(\u0027processing:\u0027, c, \"[\", c_clean, \"]\")\n    \n    t0 \u003d time.time()\n    for co in _cut_off:\n\n        print(\"cut off\", co)\n        matches \u003d difflib.get_close_matches(c, df_up[\u0027CUSTOMER\u0027].unique(), n\u003d300, cutoff\u003dco)\n\n        if len(matches)\u003e0:\n            t1 \u003d time.time()\n            avg_duration \u003d ((t1-t0))\n            print(len(matches), \"matches\", avg_duration)\n            print()\n            print(matches)\n        else:\n            print(\"no matches\", avg_duration)\n        print()\n        \n    print()\n    print(\"---\")\n    print()\n"
      ],
      "outputs": []
    },
    {
      "execution_count": 42,
      "cell_type": "code",
      "metadata": {},
      "source": [
        ""
      ],
      "outputs": [
        {
          "output_type": "execute_result",
          "execution_count": 42,
          "data": {
            "text/plain": "                         CUSTOMER              DRAW_UP_DATE   MEAN_DU    STD_DU  ACTIVE_CARD_MAX CUSTOMER_CLEANED\n0                AIR CONDITION CO 2021-06-01 00:00:00+00:00  1.909091  0.301511              3.0        CONDITION\n1  A SQUARED CONTRACTING SERVICES 2022-04-01 00:00:00+00:00       NaN       NaN              2.0                A\n2        A SQUARED CONSULTING LLC 2021-05-01 00:00:00+00:00  1.000000  0.000000              1.0                A\n3      A SQUARE MORTGAGE PLUS LLC 2021-01-01 00:00:00+00:00  2.000000  0.852803              3.0                A\n4                A SPLASH OF SASS 2020-10-01 00:00:00+00:00       NaN       NaN              1.0    A SPLASH SASS",
            "text/html": "\u003cdiv\u003e\n\u003cstyle scoped\u003e\n    .dataframe tbody tr th:only-of-type {\n        vertical-align: middle;\n    }\n\n    .dataframe tbody tr th {\n        vertical-align: top;\n    }\n\n    .dataframe thead th {\n        text-align: right;\n    }\n\u003c/style\u003e\n\u003ctable border\u003d\"1\" class\u003d\"dataframe\"\u003e\n  \u003cthead\u003e\n    \u003ctr style\u003d\"text-align: right;\"\u003e\n      \u003cth\u003e\u003c/th\u003e\n      \u003cth\u003eCUSTOMER\u003c/th\u003e\n      \u003cth\u003eDRAW_UP_DATE\u003c/th\u003e\n      \u003cth\u003eMEAN_DU\u003c/th\u003e\n      \u003cth\u003eSTD_DU\u003c/th\u003e\n      \u003cth\u003eACTIVE_CARD_MAX\u003c/th\u003e\n      \u003cth\u003eCUSTOMER_CLEANED\u003c/th\u003e\n    \u003c/tr\u003e\n  \u003c/thead\u003e\n  \u003ctbody\u003e\n    \u003ctr\u003e\n      \u003cth\u003e0\u003c/th\u003e\n      \u003ctd\u003eAIR CONDITION CO\u003c/td\u003e\n      \u003ctd\u003e2021-06-01 00:00:00+00:00\u003c/td\u003e\n      \u003ctd\u003e1.909091\u003c/td\u003e\n      \u003ctd\u003e0.301511\u003c/td\u003e\n      \u003ctd\u003e3.0\u003c/td\u003e\n      \u003ctd\u003eCONDITION\u003c/td\u003e\n    \u003c/tr\u003e\n    \u003ctr\u003e\n      \u003cth\u003e1\u003c/th\u003e\n      \u003ctd\u003eA SQUARED CONTRACTING SERVICES\u003c/td\u003e\n      \u003ctd\u003e2022-04-01 00:00:00+00:00\u003c/td\u003e\n      \u003ctd\u003eNaN\u003c/td\u003e\n      \u003ctd\u003eNaN\u003c/td\u003e\n      \u003ctd\u003e2.0\u003c/td\u003e\n      \u003ctd\u003eA\u003c/td\u003e\n    \u003c/tr\u003e\n    \u003ctr\u003e\n      \u003cth\u003e2\u003c/th\u003e\n      \u003ctd\u003eA SQUARED CONSULTING LLC\u003c/td\u003e\n      \u003ctd\u003e2021-05-01 00:00:00+00:00\u003c/td\u003e\n      \u003ctd\u003e1.000000\u003c/td\u003e\n      \u003ctd\u003e0.000000\u003c/td\u003e\n      \u003ctd\u003e1.0\u003c/td\u003e\n      \u003ctd\u003eA\u003c/td\u003e\n    \u003c/tr\u003e\n    \u003ctr\u003e\n      \u003cth\u003e3\u003c/th\u003e\n      \u003ctd\u003eA SQUARE MORTGAGE PLUS LLC\u003c/td\u003e\n      \u003ctd\u003e2021-01-01 00:00:00+00:00\u003c/td\u003e\n      \u003ctd\u003e2.000000\u003c/td\u003e\n      \u003ctd\u003e0.852803\u003c/td\u003e\n      \u003ctd\u003e3.0\u003c/td\u003e\n      \u003ctd\u003eA\u003c/td\u003e\n    \u003c/tr\u003e\n    \u003ctr\u003e\n      \u003cth\u003e4\u003c/th\u003e\n      \u003ctd\u003eA SPLASH OF SASS\u003c/td\u003e\n      \u003ctd\u003e2020-10-01 00:00:00+00:00\u003c/td\u003e\n      \u003ctd\u003eNaN\u003c/td\u003e\n      \u003ctd\u003eNaN\u003c/td\u003e\n      \u003ctd\u003e1.0\u003c/td\u003e\n      \u003ctd\u003eA SPLASH SASS\u003c/td\u003e\n    \u003c/tr\u003e\n  \u003c/tbody\u003e\n\u003c/table\u003e\n\u003c/div\u003e"
          },
          "metadata": {}
        }
      ]
    },
    {
      "execution_count": 0,
      "cell_type": "code",
      "metadata": {},
      "source": [
        "# Compute recipe outputs\n# TODO: Write here your actual code that computes the outputs\n# NB: DSS supports several kinds of APIs for reading and writing data. Please see doc.\n\n#DRAW_UP_DOWN_ANALYSIS_df \u003d ... # Compute a Pandas dataframe to write into DRAW_UP_DOWN_ANALYSIS\n\n# Write recipe outputs\n#DRAW_UP_DOWN_ANALYSIS \u003d dataiku.Dataset(\"DRAW_UP_DOWN_ANALYSIS\")\n#DRAW_UP_DOWN_ANALYSIS.write_with_schema(DRAW_UP_DOWN_ANALYSIS_df)"
      ],
      "outputs": []
    }
  ]
}