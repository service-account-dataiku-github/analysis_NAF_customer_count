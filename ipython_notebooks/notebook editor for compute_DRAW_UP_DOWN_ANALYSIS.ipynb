{
  "metadata": {
    "kernelspec": {
      "name": "py-dku-venv-env_clc",
      "display_name": "Python (env env_clc)",
      "language": "python"
    },
    "associatedRecipe": "compute_DRAW_UP_DOWN_ANALYSIS",
    "creator": "Daniel.Vandermeer",
    "createdOn": 1666183844698,
    "tags": [
      "recipe-editor"
    ],
    "customFields": {},
    "hide_input": false,
    "language_info": {
      "name": "python",
      "version": "3.6.8",
      "mimetype": "text/x-python",
      "codemirror_mode": {
        "name": "ipython",
        "version": 3
      },
      "pygments_lexer": "ipython3",
      "nbconvert_exporter": "python",
      "file_extension": ".py"
    },
    "modifiedBy": "Daniel.Vandermeer"
  },
  "nbformat": 4,
  "nbformat_minor": 1,
  "cells": [
    {
      "execution_count": 18,
      "cell_type": "code",
      "metadata": {},
      "source": [
        "# -*- coding: utf-8 -*-\nimport dataiku\nimport pandas as pd, numpy as np\nfrom dataiku import pandasutils as pdu\n\n# Read recipe inputs\nCALCULATED_CARD_DRAW_UPS_FULL \u003d dataiku.Dataset(\"CALCULATED_CARD_DRAW_UPS_FULL\")\nCALCULATED_CARD_DRAW_UPS_FULL_df \u003d CALCULATED_CARD_DRAW_UPS_FULL.get_dataframe()\n\nCALCULATED_CARD_DRAW_DOWNS_FULL \u003d dataiku.Dataset(\"CALCULATED_CARD_DRAW_DOWNS_FULL\")\nCALCULATED_CARD_DRAW_DOWNS_FULL_df \u003d CALCULATED_CARD_DRAW_DOWNS_FULL.get_dataframe()"
      ],
      "outputs": []
    },
    {
      "execution_count": 4,
      "cell_type": "code",
      "metadata": {},
      "source": [
        "df_down \u003d CALCULATED_CARD_DRAW_DOWNS_FULL_df\ndf_up \u003d CALCULATED_CARD_DRAW_UPS_FULL_df\n\nprint(len(df_down))\nprint(len(df_up))"
      ],
      "outputs": [
        {
          "output_type": "stream",
          "text": "182341\n351542\n",
          "name": "stdout"
        }
      ]
    },
    {
      "execution_count": 25,
      "cell_type": "code",
      "metadata": {},
      "source": [
        "import time\nimport difflib\nfrom fuzzywuzzy import fuzz\n\ncustomers_ \u003d [\u0027AMGEN USA INC\u0027, \u0027OMEROS CORP PO#100752\u0027, \u0027BRITE LINE ASPHALT MAINTENANCE\u0027]\n\nc \u003d \"BURNS \u0026 MCBRIDE\"\n\ndf_up[\u0027CUSTOMER\u0027].unique()\n\n_cut_off \u003d [0.95, 0.90, 0.8, 0.7, 0.6]\n\nt0 \u003d time.time()\nfor co in _cut_off:\n    \n    print(\"cut off\", co)\n    matches \u003d difflib.get_close_matches(c, df_up[\u0027CUSTOMER\u0027].unique(), n\u003d300, cutoff\u003dco)\n    \n    if len(matches)\u003e0:\n        t1 \u003d time.time()\n        avg_duration \u003d ((t1-t0))\n        print(len(matches), \"matches\", avg_duration)\n        print()\n        print(matches)\n    else:\n        print(\"no matches\", avg_duration)\n    print()\n"
      ],
      "outputs": [
        {
          "output_type": "stream",
          "text": "cut off 0.95\nno matches 0.12533102432886759\n\ncut off 0.9\nno matches 0.12533102432886759\n\ncut off 0.8\n1 matches 2.6669631004333496\n\n[\u0027BURNS  MCBRIDE INC\u0027]\n\ncut off 0.7\n1 matches 4.523633718490601\n\n[\u0027BURNS  MCBRIDE INC\u0027]\n\ncut off 0.6\n7 matches 7.51577353477478\n\n[\u0027BURNS  MCBRIDE INC\u0027, \u0027KEVIN J MCBRIDE\u0027, \u0027BORN TO RIDE\u0027, \u0027BURNS  MCDONNELL INC\u0027, \u0027BROWN  TROWBRIDGE\u0027, \u0027GEORGE MCBRIDE\u0027, \u0027BRACEBRIDGE\u0027]\n\n",
          "name": "stdout"
        }
      ]
    },
    {
      "execution_count": 0,
      "cell_type": "code",
      "metadata": {},
      "source": [
        "# Compute recipe outputs\n# TODO: Write here your actual code that computes the outputs\n# NB: DSS supports several kinds of APIs for reading and writing data. Please see doc.\n\n#DRAW_UP_DOWN_ANALYSIS_df \u003d ... # Compute a Pandas dataframe to write into DRAW_UP_DOWN_ANALYSIS\n\n# Write recipe outputs\n#DRAW_UP_DOWN_ANALYSIS \u003d dataiku.Dataset(\"DRAW_UP_DOWN_ANALYSIS\")\n#DRAW_UP_DOWN_ANALYSIS.write_with_schema(DRAW_UP_DOWN_ANALYSIS_df)"
      ],
      "outputs": []
    }
  ]
}