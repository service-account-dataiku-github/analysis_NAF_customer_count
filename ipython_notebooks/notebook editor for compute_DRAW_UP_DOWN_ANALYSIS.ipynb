{
  "metadata": {
    "kernelspec": {
      "name": "py-dku-venv-env_clc",
      "display_name": "Python (env env_clc)",
      "language": "python"
    },
    "associatedRecipe": "compute_DRAW_UP_DOWN_ANALYSIS",
    "creator": "Daniel.Vandermeer",
    "createdOn": 1666183844698,
    "tags": [
      "recipe-editor"
    ],
    "customFields": {},
    "hide_input": false,
    "language_info": {
      "name": "python",
      "version": "3.6.8",
      "mimetype": "text/x-python",
      "codemirror_mode": {
        "name": "ipython",
        "version": 3
      },
      "pygments_lexer": "ipython3",
      "nbconvert_exporter": "python",
      "file_extension": ".py"
    },
    "modifiedBy": "Daniel.Vandermeer"
  },
  "nbformat": 4,
  "nbformat_minor": 1,
  "cells": [
    {
      "execution_count": 3,
      "cell_type": "code",
      "metadata": {},
      "source": [
        "# -*- coding: utf-8 -*-\nimport dataiku\nimport pandas as pd, numpy as np\nfrom dataiku import pandasutils as pdu\n\n# Read recipe inputs\nCALCULATED_CARD_DRAW_UPS_FULL \u003d dataiku.Dataset(\"CALCULATED_CARD_DRAW_UPS_FULL\")\nCALCULATED_CARD_DRAW_UPS_FULL_df \u003d CALCULATED_CARD_DRAW_UPS_FULL.get_dataframe()\n\nCALCULATED_CARD_DRAW_DOWNS_FULL \u003d dataiku.Dataset(\"CALCULATED_CARD_DRAW_DOWNS_FULL\")\nCALCULATED_CARD_DRAW_DOWNS_FULL_df \u003d CALCULATED_CARD_DRAW_DOWNS_FULL.get_dataframe()"
      ],
      "outputs": []
    },
    {
      "execution_count": 4,
      "cell_type": "code",
      "metadata": {},
      "source": [
        "df_down \u003d CALCULATED_CARD_DRAW_DOWNS_FULL_df\ndf_up \u003d CALCULATED_CARD_DRAW_UPS_FULL_df\n\nprint(len(df_down))\nprint(len(df_up))"
      ],
      "outputs": [
        {
          "output_type": "stream",
          "text": "182341\n351542\n",
          "name": "stdout"
        }
      ]
    },
    {
      "execution_count": 5,
      "cell_type": "code",
      "metadata": {},
      "source": [
        "from fuzzywuzz\n\nc \u003d \"DANLEY ELEC CONTRACTING LLC\"\n\n"
      ],
      "outputs": [
        {
          "output_type": "execute_result",
          "execution_count": 5,
          "data": {
            "text/plain": "                       CUSTOMER            DRAW_DOWN_DATE  MEAN_DD    STD_DD  ACTIVE_CARD_MAX\n0   DANLEY ELEC CONTRACTING LLC 2019-05-01 00:00:00+00:00    17.00       NaN             17.0\n1          ALL FOR GIRLS BEAUTY 2019-05-01 00:00:00+00:00      NaN       NaN              1.0\n2                   ALL FOR FUN 2021-10-01 00:00:00+00:00     2.75  0.957427              4.0\n3            ALL FOR FAMILY LLC 2021-01-01 00:00:00+00:00      NaN       NaN              1.0\n4               ALL FOR AMA LLC 2021-10-01 00:00:00+00:00      NaN       NaN              1.0",
            "text/html": "\u003cdiv\u003e\n\u003cstyle scoped\u003e\n    .dataframe tbody tr th:only-of-type {\n        vertical-align: middle;\n    }\n\n    .dataframe tbody tr th {\n        vertical-align: top;\n    }\n\n    .dataframe thead th {\n        text-align: right;\n    }\n\u003c/style\u003e\n\u003ctable border\u003d\"1\" class\u003d\"dataframe\"\u003e\n  \u003cthead\u003e\n    \u003ctr style\u003d\"text-align: right;\"\u003e\n      \u003cth\u003e\u003c/th\u003e\n      \u003cth\u003eCUSTOMER\u003c/th\u003e\n      \u003cth\u003eDRAW_DOWN_DATE\u003c/th\u003e\n      \u003cth\u003eMEAN_DD\u003c/th\u003e\n      \u003cth\u003eSTD_DD\u003c/th\u003e\n      \u003cth\u003eACTIVE_CARD_MAX\u003c/th\u003e\n    \u003c/tr\u003e\n  \u003c/thead\u003e\n  \u003ctbody\u003e\n    \u003ctr\u003e\n      \u003cth\u003e0\u003c/th\u003e\n      \u003ctd\u003eDANLEY ELEC CONTRACTING LLC\u003c/td\u003e\n      \u003ctd\u003e2019-05-01 00:00:00+00:00\u003c/td\u003e\n      \u003ctd\u003e17.00\u003c/td\u003e\n      \u003ctd\u003eNaN\u003c/td\u003e\n      \u003ctd\u003e17.0\u003c/td\u003e\n    \u003c/tr\u003e\n    \u003ctr\u003e\n      \u003cth\u003e1\u003c/th\u003e\n      \u003ctd\u003eALL FOR GIRLS BEAUTY\u003c/td\u003e\n      \u003ctd\u003e2019-05-01 00:00:00+00:00\u003c/td\u003e\n      \u003ctd\u003eNaN\u003c/td\u003e\n      \u003ctd\u003eNaN\u003c/td\u003e\n      \u003ctd\u003e1.0\u003c/td\u003e\n    \u003c/tr\u003e\n    \u003ctr\u003e\n      \u003cth\u003e2\u003c/th\u003e\n      \u003ctd\u003eALL FOR FUN\u003c/td\u003e\n      \u003ctd\u003e2021-10-01 00:00:00+00:00\u003c/td\u003e\n      \u003ctd\u003e2.75\u003c/td\u003e\n      \u003ctd\u003e0.957427\u003c/td\u003e\n      \u003ctd\u003e4.0\u003c/td\u003e\n    \u003c/tr\u003e\n    \u003ctr\u003e\n      \u003cth\u003e3\u003c/th\u003e\n      \u003ctd\u003eALL FOR FAMILY LLC\u003c/td\u003e\n      \u003ctd\u003e2021-01-01 00:00:00+00:00\u003c/td\u003e\n      \u003ctd\u003eNaN\u003c/td\u003e\n      \u003ctd\u003eNaN\u003c/td\u003e\n      \u003ctd\u003e1.0\u003c/td\u003e\n    \u003c/tr\u003e\n    \u003ctr\u003e\n      \u003cth\u003e4\u003c/th\u003e\n      \u003ctd\u003eALL FOR AMA LLC\u003c/td\u003e\n      \u003ctd\u003e2021-10-01 00:00:00+00:00\u003c/td\u003e\n      \u003ctd\u003eNaN\u003c/td\u003e\n      \u003ctd\u003eNaN\u003c/td\u003e\n      \u003ctd\u003e1.0\u003c/td\u003e\n    \u003c/tr\u003e\n  \u003c/tbody\u003e\n\u003c/table\u003e\n\u003c/div\u003e"
          },
          "metadata": {}
        }
      ]
    },
    {
      "execution_count": 0,
      "cell_type": "code",
      "metadata": {},
      "source": [
        "# Compute recipe outputs\n# TODO: Write here your actual code that computes the outputs\n# NB: DSS supports several kinds of APIs for reading and writing data. Please see doc.\n\n#DRAW_UP_DOWN_ANALYSIS_df \u003d ... # Compute a Pandas dataframe to write into DRAW_UP_DOWN_ANALYSIS\n\n# Write recipe outputs\n#DRAW_UP_DOWN_ANALYSIS \u003d dataiku.Dataset(\"DRAW_UP_DOWN_ANALYSIS\")\n#DRAW_UP_DOWN_ANALYSIS.write_with_schema(DRAW_UP_DOWN_ANALYSIS_df)"
      ],
      "outputs": []
    }
  ]
}