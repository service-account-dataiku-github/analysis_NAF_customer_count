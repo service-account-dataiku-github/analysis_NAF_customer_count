{
  "metadata": {
    "kernelspec": {
      "name": "py-dku-venv-env_clc",
      "display_name": "Python (env env_clc)",
      "language": "python"
    },
    "associatedRecipe": "compute_DRAW_UP_DOWN_ANALYSIS",
    "creator": "Daniel.Vandermeer",
    "createdOn": 1666183844698,
    "tags": [
      "recipe-editor"
    ],
    "customFields": {},
    "hide_input": false,
    "language_info": {
      "name": "python",
      "version": "3.6.8",
      "mimetype": "text/x-python",
      "codemirror_mode": {
        "name": "ipython",
        "version": 3
      },
      "pygments_lexer": "ipython3",
      "nbconvert_exporter": "python",
      "file_extension": ".py"
    },
    "modifiedBy": "Daniel.Vandermeer"
  },
  "nbformat": 4,
  "nbformat_minor": 1,
  "cells": [
    {
      "execution_count": 1,
      "cell_type": "code",
      "metadata": {},
      "source": [
        "# -*- coding: utf-8 -*-\nimport dataiku\nimport pandas as pd, numpy as np\nfrom dataiku import pandasutils as pdu\n\n# Read recipe inputs\nCALCULATED_CARD_DRAW_UPS_FULL \u003d dataiku.Dataset(\"CALCULATED_CARD_DRAW_UPS_FULL\")\nCALCULATED_CARD_DRAW_UPS_FULL_df \u003d CALCULATED_CARD_DRAW_UPS_FULL.get_dataframe()\n\nCALCULATED_CARD_DRAW_DOWNS_FULL \u003d dataiku.Dataset(\"CALCULATED_CARD_DRAW_DOWNS_FULL\")\nCALCULATED_CARD_DRAW_DOWNS_FULL_df \u003d CALCULATED_CARD_DRAW_DOWNS_FULL.get_dataframe()"
      ],
      "outputs": []
    },
    {
      "execution_count": 2,
      "cell_type": "code",
      "metadata": {},
      "source": [
        "df_up \u003d CALCULATED_CARD_DRAW_UPS_FULL_df\ndf_down \u003d CALCULATED_CARD_DRAW_DOWNS_FULL_df\n\nprint(len(df_up))\nprint(len(df_down))"
      ],
      "outputs": [
        {
          "output_type": "stream",
          "text": "351542\n182341\n",
          "name": "stdout"
        }
      ]
    },
    {
      "execution_count": 0,
      "cell_type": "code",
      "metadata": {},
      "source": [
        "# Compute recipe outputs\n# TODO: Write here your actual code that computes the outputs\n# NB: DSS supports several kinds of APIs for reading and writing data. Please see doc.\n\n#DRAW_UP_DOWN_ANALYSIS_df \u003d ... # Compute a Pandas dataframe to write into DRAW_UP_DOWN_ANALYSIS\n\n# Write recipe outputs\n#DRAW_UP_DOWN_ANALYSIS \u003d dataiku.Dataset(\"DRAW_UP_DOWN_ANALYSIS\")\n#DRAW_UP_DOWN_ANALYSIS.write_with_schema(DRAW_UP_DOWN_ANALYSIS_df)"
      ],
      "outputs": []
    }
  ]
}