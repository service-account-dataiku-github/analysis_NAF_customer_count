{
  "metadata": {
    "kernelspec": {
      "name": "py-dku-venv-env_clc",
      "display_name": "Python (env env_clc)",
      "language": "python"
    },
    "associatedRecipe": "compute_MATCHES_VERIFIED",
    "creator": "Daniel.Vandermeer",
    "createdOn": 1666539374374,
    "tags": [
      "recipe-editor"
    ],
    "customFields": {},
    "hide_input": false,
    "language_info": {
      "name": "python",
      "version": "3.6.8",
      "mimetype": "text/x-python",
      "codemirror_mode": {
        "name": "ipython",
        "version": 3
      },
      "pygments_lexer": "ipython3",
      "nbconvert_exporter": "python",
      "file_extension": ".py"
    },
    "modifiedBy": "Daniel.Vandermeer"
  },
  "nbformat": 4,
  "nbformat_minor": 1,
  "cells": [
    {
      "execution_count": 3,
      "cell_type": "code",
      "metadata": {},
      "source": [
        "# -*- coding: utf-8 -*-\nimport dataiku\nimport pandas as pd, numpy as np\nfrom dataiku import pandasutils as pdu\n\n# Read recipe inputs\nMATCHES_1_TO_N_FOR_MANUAL_REVIEW_STAGING \u003d dataiku.Dataset(\"MATCHES_1_TO_N_FOR_MANUAL_REVIEW_STAGING\")\nMATCHES_1_TO_N_FOR_MANUAL_REVIEW_STAGING_df \u003d MATCHES_1_TO_N_FOR_MANUAL_REVIEW_STAGING.get_dataframe()\n\nMATCHES_1_TO_1_STAGING \u003d dataiku.Dataset(\"MATCHES_1_TO_1_STAGING\")\nMATCHES_1_TO_1_STAGING_df \u003d MATCHES_1_TO_1_STAGING.get_dataframe()"
      ],
      "outputs": []
    },
    {
      "execution_count": 5,
      "cell_type": "code",
      "metadata": {},
      "source": [
        "df_1_N \u003d MATCHES_1_TO_N_FOR_MANUAL_REVIEW_STAGING_df\nprint(len(df_1_N))\ndf_1_N.head()"
      ],
      "outputs": [
        {
          "output_type": "stream",
          "text": "106\n",
          "name": "stdout"
        },
        {
          "output_type": "execute_result",
          "execution_count": 5,
          "data": {
            "text/plain": "                         CUSTOMER                                     MATCH_CUSTOMER                                       DRAW_UP_DATE\n0         130199-BROWN \u0026 CALDWELL  [\u0027BROWN AND CALDWELL\u0027, \u0027CALDWELL ELECTRICAL CO...  [Timestamp(\u00272021-01-01 00:00:00+0000\u0027, tz\u003d\u0027UTC...\n1  ZORN COMPRESSOR \u0026 EQUIPMENT IN  [\u0027METROPOLITAN AIR COMPRESSOR CO INC\u0027, \u0027NATION...  [Timestamp(\u00272019-02-01 00:00:00+0000\u0027, tz\u003d\u0027UTC...\n2    WORLDWIDE WINE \u0026 SPIRITS INC  [\u0027FISHER59 OKLAHOMA WINE  SPIRITS LLP\u0027, \u0027WORLD...  [Timestamp(\u00272019-11-01 00:00:00+0000\u0027, tz\u003d\u0027UTC...\n3  WEST YAVAPAI GUIDANCE CLINI (2  [\u0027DELAWARE GUIDANCE SERVICES FOR CHILDREN AND ...  [Timestamp(\u00272019-04-01 00:00:00+0000\u0027, tz\u003d\u0027UTC...\n4           WAVE FORM SYSTEMS INC  [\u0027CONCRETE FORM ERECTORS INC\u0027, \u0027FORM WAVE SYST...  [Timestamp(\u00272019-02-01 00:00:00+0000\u0027, tz\u003d\u0027UTC...",
            "text/html": "\u003cdiv\u003e\n\u003cstyle scoped\u003e\n    .dataframe tbody tr th:only-of-type {\n        vertical-align: middle;\n    }\n\n    .dataframe tbody tr th {\n        vertical-align: top;\n    }\n\n    .dataframe thead th {\n        text-align: right;\n    }\n\u003c/style\u003e\n\u003ctable border\u003d\"1\" class\u003d\"dataframe\"\u003e\n  \u003cthead\u003e\n    \u003ctr style\u003d\"text-align: right;\"\u003e\n      \u003cth\u003e\u003c/th\u003e\n      \u003cth\u003eCUSTOMER\u003c/th\u003e\n      \u003cth\u003eMATCH_CUSTOMER\u003c/th\u003e\n      \u003cth\u003eDRAW_UP_DATE\u003c/th\u003e\n    \u003c/tr\u003e\n  \u003c/thead\u003e\n  \u003ctbody\u003e\n    \u003ctr\u003e\n      \u003cth\u003e0\u003c/th\u003e\n      \u003ctd\u003e130199-BROWN \u0026amp; CALDWELL\u003c/td\u003e\n      \u003ctd\u003e[\u0027BROWN AND CALDWELL\u0027, \u0027CALDWELL ELECTRICAL CO...\u003c/td\u003e\n      \u003ctd\u003e[Timestamp(\u00272021-01-01 00:00:00+0000\u0027, tz\u003d\u0027UTC...\u003c/td\u003e\n    \u003c/tr\u003e\n    \u003ctr\u003e\n      \u003cth\u003e1\u003c/th\u003e\n      \u003ctd\u003eZORN COMPRESSOR \u0026amp; EQUIPMENT IN\u003c/td\u003e\n      \u003ctd\u003e[\u0027METROPOLITAN AIR COMPRESSOR CO INC\u0027, \u0027NATION...\u003c/td\u003e\n      \u003ctd\u003e[Timestamp(\u00272019-02-01 00:00:00+0000\u0027, tz\u003d\u0027UTC...\u003c/td\u003e\n    \u003c/tr\u003e\n    \u003ctr\u003e\n      \u003cth\u003e2\u003c/th\u003e\n      \u003ctd\u003eWORLDWIDE WINE \u0026amp; SPIRITS INC\u003c/td\u003e\n      \u003ctd\u003e[\u0027FISHER59 OKLAHOMA WINE  SPIRITS LLP\u0027, \u0027WORLD...\u003c/td\u003e\n      \u003ctd\u003e[Timestamp(\u00272019-11-01 00:00:00+0000\u0027, tz\u003d\u0027UTC...\u003c/td\u003e\n    \u003c/tr\u003e\n    \u003ctr\u003e\n      \u003cth\u003e3\u003c/th\u003e\n      \u003ctd\u003eWEST YAVAPAI GUIDANCE CLINI (2\u003c/td\u003e\n      \u003ctd\u003e[\u0027DELAWARE GUIDANCE SERVICES FOR CHILDREN AND ...\u003c/td\u003e\n      \u003ctd\u003e[Timestamp(\u00272019-04-01 00:00:00+0000\u0027, tz\u003d\u0027UTC...\u003c/td\u003e\n    \u003c/tr\u003e\n    \u003ctr\u003e\n      \u003cth\u003e4\u003c/th\u003e\n      \u003ctd\u003eWAVE FORM SYSTEMS INC\u003c/td\u003e\n      \u003ctd\u003e[\u0027CONCRETE FORM ERECTORS INC\u0027, \u0027FORM WAVE SYST...\u003c/td\u003e\n      \u003ctd\u003e[Timestamp(\u00272019-02-01 00:00:00+0000\u0027, tz\u003d\u0027UTC...\u003c/td\u003e\n    \u003c/tr\u003e\n  \u003c/tbody\u003e\n\u003c/table\u003e\n\u003c/div\u003e"
          },
          "metadata": {}
        }
      ]
    },
    {
      "execution_count": 6,
      "cell_type": "code",
      "metadata": {},
      "source": [
        "df_1_1 \u003d MATCHES_1_TO_1_STAGING_df\nprint(len(df_1_1))\ndf_1_1.head()"
      ],
      "outputs": [
        {
          "output_type": "stream",
          "text": "1154\n",
          "name": "stdout"
        },
        {
          "output_type": "execute_result",
          "execution_count": 6,
          "data": {
            "text/plain": "                         CUSTOMER                             MATCH_CUSTOMER              DRAW_UP_DATE\n0   0972 HEINEKEN USA INC (PHH35)              0972 HEINEKEN USA INC (PHH47) 2019-06-01 00:00:00+00:00\n1  ZOOM SEWER \u0026 DRAIN CLEANING SE  ZOOM SEWER AND DRAIN CLEANING SERVICE INC 2019-05-01 00:00:00+00:00\n2                      ZERNCO INC                                     ZERNCO 2020-07-01 00:00:00+00:00\n3            ZASTROW THE BEER MAN                   ZASTROW THE BEER MAN INC 2021-10-01 00:00:00+00:00\n4         YOUR WAY FUMIGATION INC             FUMIGATION SERVICE  SUPPLY INC 2022-02-01 00:00:00+00:00",
            "text/html": "\u003cdiv\u003e\n\u003cstyle scoped\u003e\n    .dataframe tbody tr th:only-of-type {\n        vertical-align: middle;\n    }\n\n    .dataframe tbody tr th {\n        vertical-align: top;\n    }\n\n    .dataframe thead th {\n        text-align: right;\n    }\n\u003c/style\u003e\n\u003ctable border\u003d\"1\" class\u003d\"dataframe\"\u003e\n  \u003cthead\u003e\n    \u003ctr style\u003d\"text-align: right;\"\u003e\n      \u003cth\u003e\u003c/th\u003e\n      \u003cth\u003eCUSTOMER\u003c/th\u003e\n      \u003cth\u003eMATCH_CUSTOMER\u003c/th\u003e\n      \u003cth\u003eDRAW_UP_DATE\u003c/th\u003e\n    \u003c/tr\u003e\n  \u003c/thead\u003e\n  \u003ctbody\u003e\n    \u003ctr\u003e\n      \u003cth\u003e0\u003c/th\u003e\n      \u003ctd\u003e0972 HEINEKEN USA INC (PHH35)\u003c/td\u003e\n      \u003ctd\u003e0972 HEINEKEN USA INC (PHH47)\u003c/td\u003e\n      \u003ctd\u003e2019-06-01 00:00:00+00:00\u003c/td\u003e\n    \u003c/tr\u003e\n    \u003ctr\u003e\n      \u003cth\u003e1\u003c/th\u003e\n      \u003ctd\u003eZOOM SEWER \u0026amp; DRAIN CLEANING SE\u003c/td\u003e\n      \u003ctd\u003eZOOM SEWER AND DRAIN CLEANING SERVICE INC\u003c/td\u003e\n      \u003ctd\u003e2019-05-01 00:00:00+00:00\u003c/td\u003e\n    \u003c/tr\u003e\n    \u003ctr\u003e\n      \u003cth\u003e2\u003c/th\u003e\n      \u003ctd\u003eZERNCO INC\u003c/td\u003e\n      \u003ctd\u003eZERNCO\u003c/td\u003e\n      \u003ctd\u003e2020-07-01 00:00:00+00:00\u003c/td\u003e\n    \u003c/tr\u003e\n    \u003ctr\u003e\n      \u003cth\u003e3\u003c/th\u003e\n      \u003ctd\u003eZASTROW THE BEER MAN\u003c/td\u003e\n      \u003ctd\u003eZASTROW THE BEER MAN INC\u003c/td\u003e\n      \u003ctd\u003e2021-10-01 00:00:00+00:00\u003c/td\u003e\n    \u003c/tr\u003e\n    \u003ctr\u003e\n      \u003cth\u003e4\u003c/th\u003e\n      \u003ctd\u003eYOUR WAY FUMIGATION INC\u003c/td\u003e\n      \u003ctd\u003eFUMIGATION SERVICE  SUPPLY INC\u003c/td\u003e\n      \u003ctd\u003e2022-02-01 00:00:00+00:00\u003c/td\u003e\n    \u003c/tr\u003e\n  \u003c/tbody\u003e\n\u003c/table\u003e\n\u003c/div\u003e"
          },
          "metadata": {}
        }
      ]
    },
    {
      "execution_count": 19,
      "cell_type": "code",
      "metadata": {},
      "source": [
        "from difflib import SequenceMatcher\nimport Levenshtein\n\nidx \u003d 0\nexception_count \u003d 0\n\n_verified \u003d []\n_verified_match \u003d []\n\n_exception \u003d []\n_exception_match \u003d []\n\nfor index, row in df_1_1.iterrows():\n\n    idx+\u003d1\n    \n    customer \u003d row[\u0027CUSTOMER\u0027]\n    match_customer \u003d row[\u0027MATCH_CUSTOMER\u0027]\n    \n    r \u003d Levenshtein.ratio(customer, match_customer)\n    if r\u003c0.8:\n        _exception.append(customer)\n        _exception_match.append(match_customer)\n    else:\n        _verified.append(customer)\n        _verified_match.append(match_customer)"
      ],
      "outputs": []
    },
    {
      "execution_count": 26,
      "cell_type": "code",
      "metadata": {},
      "source": [
        "_CUSTOMER \u003d []\n_CUSTOMER_CLC \u003d []\n\nfor i in range(0, len(_verified)):\n    \n    _CUSTOMER.append(_verified[i])\n    _CUSTOMER.append(_verified_match[i])\n    _CUSTOMER_CLC.append(_verified[i])\n    _CUSTOMER_CLC.append(_verified[i])\n    \ndf_clc \u003d pd.DataFrame(_CUSTOMER, columns\u003d[\u0027CUSTOMER\u0027])\ndf_clc[\u0027CUSTOMER_CLC\u0027] \u003d _CUSTOMER_CLC\nprint(len(df_clc))\ndf_clc.tail(10)"
      ],
      "outputs": [
        {
          "output_type": "stream",
          "text": "1360\n",
          "name": "stdout"
        },
        {
          "output_type": "execute_result",
          "execution_count": 26,
          "data": {
            "text/plain": "                               CUSTOMER               CUSTOMER_CLC\n1350          A FOLINO CONSTRUCTION INC  A FOLINO CONSTRUCTION INC\n1351  ANTHONY D FOLINO CONSTRUCTION INC  A FOLINO CONSTRUCTION INC\n1352                     A C RIMMER INC             A C RIMMER INC\n1353                      AC RIMMER INC             A C RIMMER INC\n1354                    800 HEATERS INC            800 HEATERS INC\n1355                  1 800 HEATERS INC            800 HEATERS INC\n1356                 302102-JCDECAUX NA         302102-JCDECAUX NA\n1357                 302102 JCDECAYX NA         302102-JCDECAUX NA\n1358             21ST CENTURY EQUIPMENT     21ST CENTURY EQUIPMENT\n1359         21ST CENTURY EQUIPMENT LLC     21ST CENTURY EQUIPMENT",
            "text/html": "\u003cdiv\u003e\n\u003cstyle scoped\u003e\n    .dataframe tbody tr th:only-of-type {\n        vertical-align: middle;\n    }\n\n    .dataframe tbody tr th {\n        vertical-align: top;\n    }\n\n    .dataframe thead th {\n        text-align: right;\n    }\n\u003c/style\u003e\n\u003ctable border\u003d\"1\" class\u003d\"dataframe\"\u003e\n  \u003cthead\u003e\n    \u003ctr style\u003d\"text-align: right;\"\u003e\n      \u003cth\u003e\u003c/th\u003e\n      \u003cth\u003eCUSTOMER\u003c/th\u003e\n      \u003cth\u003eCUSTOMER_CLC\u003c/th\u003e\n    \u003c/tr\u003e\n  \u003c/thead\u003e\n  \u003ctbody\u003e\n    \u003ctr\u003e\n      \u003cth\u003e1350\u003c/th\u003e\n      \u003ctd\u003eA FOLINO CONSTRUCTION INC\u003c/td\u003e\n      \u003ctd\u003eA FOLINO CONSTRUCTION INC\u003c/td\u003e\n    \u003c/tr\u003e\n    \u003ctr\u003e\n      \u003cth\u003e1351\u003c/th\u003e\n      \u003ctd\u003eANTHONY D FOLINO CONSTRUCTION INC\u003c/td\u003e\n      \u003ctd\u003eA FOLINO CONSTRUCTION INC\u003c/td\u003e\n    \u003c/tr\u003e\n    \u003ctr\u003e\n      \u003cth\u003e1352\u003c/th\u003e\n      \u003ctd\u003eA C RIMMER INC\u003c/td\u003e\n      \u003ctd\u003eA C RIMMER INC\u003c/td\u003e\n    \u003c/tr\u003e\n    \u003ctr\u003e\n      \u003cth\u003e1353\u003c/th\u003e\n      \u003ctd\u003eAC RIMMER INC\u003c/td\u003e\n      \u003ctd\u003eA C RIMMER INC\u003c/td\u003e\n    \u003c/tr\u003e\n    \u003ctr\u003e\n      \u003cth\u003e1354\u003c/th\u003e\n      \u003ctd\u003e800 HEATERS INC\u003c/td\u003e\n      \u003ctd\u003e800 HEATERS INC\u003c/td\u003e\n    \u003c/tr\u003e\n    \u003ctr\u003e\n      \u003cth\u003e1355\u003c/th\u003e\n      \u003ctd\u003e1 800 HEATERS INC\u003c/td\u003e\n      \u003ctd\u003e800 HEATERS INC\u003c/td\u003e\n    \u003c/tr\u003e\n    \u003ctr\u003e\n      \u003cth\u003e1356\u003c/th\u003e\n      \u003ctd\u003e302102-JCDECAUX NA\u003c/td\u003e\n      \u003ctd\u003e302102-JCDECAUX NA\u003c/td\u003e\n    \u003c/tr\u003e\n    \u003ctr\u003e\n      \u003cth\u003e1357\u003c/th\u003e\n      \u003ctd\u003e302102 JCDECAYX NA\u003c/td\u003e\n      \u003ctd\u003e302102-JCDECAUX NA\u003c/td\u003e\n    \u003c/tr\u003e\n    \u003ctr\u003e\n      \u003cth\u003e1358\u003c/th\u003e\n      \u003ctd\u003e21ST CENTURY EQUIPMENT\u003c/td\u003e\n      \u003ctd\u003e21ST CENTURY EQUIPMENT\u003c/td\u003e\n    \u003c/tr\u003e\n    \u003ctr\u003e\n      \u003cth\u003e1359\u003c/th\u003e\n      \u003ctd\u003e21ST CENTURY EQUIPMENT LLC\u003c/td\u003e\n      \u003ctd\u003e21ST CENTURY EQUIPMENT\u003c/td\u003e\n    \u003c/tr\u003e\n  \u003c/tbody\u003e\n\u003c/table\u003e\n\u003c/div\u003e"
          },
          "metadata": {}
        }
      ]
    },
    {
      "execution_count": 28,
      "cell_type": "code",
      "metadata": {},
      "source": [
        "# Compute recipe outputs\n# TODO: Write here your actual code that computes the outputs\n# NB: DSS supports several kinds of APIs for reading and writing data. Please see doc.\n\nMATCHES_VERIFIED_df \u003d df_clc\n\n# Write recipe outputs\nMATCHES_VERIFIED \u003d dataiku.Dataset(\"MATCHES_VERIFIED\")\nMATCHES_VERIFIED.write_with_schema(MATCHES_VERIFIED_df)"
      ],
      "outputs": [
        {
          "output_type": "stream",
          "text": "1360 rows successfully written (PK8OqO2KX8)\n",
          "name": "stdout"
        }
      ]
    }
  ]
}