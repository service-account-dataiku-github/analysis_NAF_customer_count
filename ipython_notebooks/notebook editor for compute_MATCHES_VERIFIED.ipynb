{
  "nbformat": 4,
  "nbformat_minor": 0,
  "metadata": {
    "kernelspec": {
      "display_name": "Python in cpu-m-cpu-3-mem-4Gb (builtin env)",
      "language": "python",
      "name": "py-dku-containerized-venv--cpu-m-cpu-3-mem-4gb"
    },
    "associatedRecipe": "compute_MATCHES_VERIFIED",
    "creator": "Daniel.Vandermeer",
    "createdOn": 1666539374374,
    "tags": [
      "recipe-editor"
    ],
    "customFields": {}
  },
  "cells": [
    {
      "cell_type": "code",
      "metadata": {},
      "outputs": [],
      "execution_count": 0,
      "source": [
        "# -*- coding: utf-8 -*-\n",
        "import dataiku\n",
        "import pandas as pd, numpy as np\n",
        "from dataiku import pandasutils as pdu\n",
        "\n",
        "# Read recipe inputs\n",
        "MATCHES_1_TO_N_FOR_MANUAL_REVIEW_STAGING \u003d dataiku.Dataset(\"MATCHES_1_TO_N_FOR_MANUAL_REVIEW_STAGING\")\n",
        "MATCHES_1_TO_N_FOR_MANUAL_REVIEW_STAGING_df \u003d MATCHES_1_TO_N_FOR_MANUAL_REVIEW_STAGING.get_dataframe()\n",
        "MATCHES_1_TO_1_STAGING \u003d dataiku.Dataset(\"MATCHES_1_TO_1_STAGING\")\n",
        "MATCHES_1_TO_1_STAGING_df \u003d MATCHES_1_TO_1_STAGING.get_dataframe()\n",
        "\n",
        "\n",
        "# Compute recipe outputs\n",
        "# TODO: Write here your actual code that computes the outputs\n",
        "# NB: DSS supports several kinds of APIs for reading and writing data. Please see doc.\n",
        "\n",
        "MATCHES_VERIFIED_df \u003d ... # Compute a Pandas dataframe to write into MATCHES_VERIFIED\n",
        "\n",
        "\n",
        "# Write recipe outputs\n",
        "MATCHES_VERIFIED \u003d dataiku.Dataset(\"MATCHES_VERIFIED\")\n",
        "MATCHES_VERIFIED.write_with_schema(MATCHES_VERIFIED_df)"
      ]
    }
  ]
}