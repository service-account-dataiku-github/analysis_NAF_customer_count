{
  "metadata": {
    "kernelspec": {
      "name": "py-dku-venv-env_clc",
      "display_name": "Python (env env_clc)",
      "language": "python"
    },
    "associatedRecipe": "compute_MATCHES_VERIFIED",
    "creator": "Daniel.Vandermeer",
    "createdOn": 1666539374374,
    "tags": [
      "recipe-editor"
    ],
    "customFields": {},
    "hide_input": false,
    "language_info": {
      "name": "python",
      "version": "3.6.8",
      "mimetype": "text/x-python",
      "codemirror_mode": {
        "name": "ipython",
        "version": 3
      },
      "pygments_lexer": "ipython3",
      "nbconvert_exporter": "python",
      "file_extension": ".py"
    },
    "modifiedBy": "Daniel.Vandermeer"
  },
  "nbformat": 4,
  "nbformat_minor": 1,
  "cells": [
    {
      "execution_count": 3,
      "cell_type": "code",
      "metadata": {},
      "source": [
        "# -*- coding: utf-8 -*-\nimport dataiku\nimport pandas as pd, numpy as np\nfrom dataiku import pandasutils as pdu\n\n# Read recipe inputs\nMATCHES_1_TO_N_FOR_MANUAL_REVIEW_STAGING \u003d dataiku.Dataset(\"MATCHES_1_TO_N_FOR_MANUAL_REVIEW_STAGING\")\nMATCHES_1_TO_N_FOR_MANUAL_REVIEW_STAGING_df \u003d MATCHES_1_TO_N_FOR_MANUAL_REVIEW_STAGING.get_dataframe()\n\nMATCHES_1_TO_1_STAGING \u003d dataiku.Dataset(\"MATCHES_1_TO_1_STAGING\")\nMATCHES_1_TO_1_STAGING_df \u003d MATCHES_1_TO_1_STAGING.get_dataframe()"
      ],
      "outputs": []
    },
    {
      "execution_count": 5,
      "cell_type": "code",
      "metadata": {},
      "source": [
        "df_1_N \u003d MATCHES_1_TO_N_FOR_MANUAL_REVIEW_STAGING_df\nprint(len(df_1_N))\ndf_1_N.head()"
      ],
      "outputs": [
        {
          "output_type": "stream",
          "text": "106\n",
          "name": "stdout"
        },
        {
          "output_type": "execute_result",
          "execution_count": 5,
          "data": {
            "text/plain": "                         CUSTOMER                                     MATCH_CUSTOMER                                       DRAW_UP_DATE\n0         130199-BROWN \u0026 CALDWELL  [\u0027BROWN AND CALDWELL\u0027, \u0027CALDWELL ELECTRICAL CO...  [Timestamp(\u00272021-01-01 00:00:00+0000\u0027, tz\u003d\u0027UTC...\n1  ZORN COMPRESSOR \u0026 EQUIPMENT IN  [\u0027METROPOLITAN AIR COMPRESSOR CO INC\u0027, \u0027NATION...  [Timestamp(\u00272019-02-01 00:00:00+0000\u0027, tz\u003d\u0027UTC...\n2    WORLDWIDE WINE \u0026 SPIRITS INC  [\u0027FISHER59 OKLAHOMA WINE  SPIRITS LLP\u0027, \u0027WORLD...  [Timestamp(\u00272019-11-01 00:00:00+0000\u0027, tz\u003d\u0027UTC...\n3  WEST YAVAPAI GUIDANCE CLINI (2  [\u0027DELAWARE GUIDANCE SERVICES FOR CHILDREN AND ...  [Timestamp(\u00272019-04-01 00:00:00+0000\u0027, tz\u003d\u0027UTC...\n4           WAVE FORM SYSTEMS INC  [\u0027CONCRETE FORM ERECTORS INC\u0027, \u0027FORM WAVE SYST...  [Timestamp(\u00272019-02-01 00:00:00+0000\u0027, tz\u003d\u0027UTC...",
            "text/html": "\u003cdiv\u003e\n\u003cstyle scoped\u003e\n    .dataframe tbody tr th:only-of-type {\n        vertical-align: middle;\n    }\n\n    .dataframe tbody tr th {\n        vertical-align: top;\n    }\n\n    .dataframe thead th {\n        text-align: right;\n    }\n\u003c/style\u003e\n\u003ctable border\u003d\"1\" class\u003d\"dataframe\"\u003e\n  \u003cthead\u003e\n    \u003ctr style\u003d\"text-align: right;\"\u003e\n      \u003cth\u003e\u003c/th\u003e\n      \u003cth\u003eCUSTOMER\u003c/th\u003e\n      \u003cth\u003eMATCH_CUSTOMER\u003c/th\u003e\n      \u003cth\u003eDRAW_UP_DATE\u003c/th\u003e\n    \u003c/tr\u003e\n  \u003c/thead\u003e\n  \u003ctbody\u003e\n    \u003ctr\u003e\n      \u003cth\u003e0\u003c/th\u003e\n      \u003ctd\u003e130199-BROWN \u0026amp; CALDWELL\u003c/td\u003e\n      \u003ctd\u003e[\u0027BROWN AND CALDWELL\u0027, \u0027CALDWELL ELECTRICAL CO...\u003c/td\u003e\n      \u003ctd\u003e[Timestamp(\u00272021-01-01 00:00:00+0000\u0027, tz\u003d\u0027UTC...\u003c/td\u003e\n    \u003c/tr\u003e\n    \u003ctr\u003e\n      \u003cth\u003e1\u003c/th\u003e\n      \u003ctd\u003eZORN COMPRESSOR \u0026amp; EQUIPMENT IN\u003c/td\u003e\n      \u003ctd\u003e[\u0027METROPOLITAN AIR COMPRESSOR CO INC\u0027, \u0027NATION...\u003c/td\u003e\n      \u003ctd\u003e[Timestamp(\u00272019-02-01 00:00:00+0000\u0027, tz\u003d\u0027UTC...\u003c/td\u003e\n    \u003c/tr\u003e\n    \u003ctr\u003e\n      \u003cth\u003e2\u003c/th\u003e\n      \u003ctd\u003eWORLDWIDE WINE \u0026amp; SPIRITS INC\u003c/td\u003e\n      \u003ctd\u003e[\u0027FISHER59 OKLAHOMA WINE  SPIRITS LLP\u0027, \u0027WORLD...\u003c/td\u003e\n      \u003ctd\u003e[Timestamp(\u00272019-11-01 00:00:00+0000\u0027, tz\u003d\u0027UTC...\u003c/td\u003e\n    \u003c/tr\u003e\n    \u003ctr\u003e\n      \u003cth\u003e3\u003c/th\u003e\n      \u003ctd\u003eWEST YAVAPAI GUIDANCE CLINI (2\u003c/td\u003e\n      \u003ctd\u003e[\u0027DELAWARE GUIDANCE SERVICES FOR CHILDREN AND ...\u003c/td\u003e\n      \u003ctd\u003e[Timestamp(\u00272019-04-01 00:00:00+0000\u0027, tz\u003d\u0027UTC...\u003c/td\u003e\n    \u003c/tr\u003e\n    \u003ctr\u003e\n      \u003cth\u003e4\u003c/th\u003e\n      \u003ctd\u003eWAVE FORM SYSTEMS INC\u003c/td\u003e\n      \u003ctd\u003e[\u0027CONCRETE FORM ERECTORS INC\u0027, \u0027FORM WAVE SYST...\u003c/td\u003e\n      \u003ctd\u003e[Timestamp(\u00272019-02-01 00:00:00+0000\u0027, tz\u003d\u0027UTC...\u003c/td\u003e\n    \u003c/tr\u003e\n  \u003c/tbody\u003e\n\u003c/table\u003e\n\u003c/div\u003e"
          },
          "metadata": {}
        }
      ]
    },
    {
      "execution_count": 6,
      "cell_type": "code",
      "metadata": {},
      "source": [
        "df_1_1 \u003d MATCHES_1_TO_1_STAGING_df\nprint(len(df_1_1))\ndf_1_1.head()"
      ],
      "outputs": [
        {
          "output_type": "stream",
          "text": "1154\n",
          "name": "stdout"
        },
        {
          "output_type": "execute_result",
          "execution_count": 6,
          "data": {
            "text/plain": "                         CUSTOMER                             MATCH_CUSTOMER              DRAW_UP_DATE\n0   0972 HEINEKEN USA INC (PHH35)              0972 HEINEKEN USA INC (PHH47) 2019-06-01 00:00:00+00:00\n1  ZOOM SEWER \u0026 DRAIN CLEANING SE  ZOOM SEWER AND DRAIN CLEANING SERVICE INC 2019-05-01 00:00:00+00:00\n2                      ZERNCO INC                                     ZERNCO 2020-07-01 00:00:00+00:00\n3            ZASTROW THE BEER MAN                   ZASTROW THE BEER MAN INC 2021-10-01 00:00:00+00:00\n4         YOUR WAY FUMIGATION INC             FUMIGATION SERVICE  SUPPLY INC 2022-02-01 00:00:00+00:00",
            "text/html": "\u003cdiv\u003e\n\u003cstyle scoped\u003e\n    .dataframe tbody tr th:only-of-type {\n        vertical-align: middle;\n    }\n\n    .dataframe tbody tr th {\n        vertical-align: top;\n    }\n\n    .dataframe thead th {\n        text-align: right;\n    }\n\u003c/style\u003e\n\u003ctable border\u003d\"1\" class\u003d\"dataframe\"\u003e\n  \u003cthead\u003e\n    \u003ctr style\u003d\"text-align: right;\"\u003e\n      \u003cth\u003e\u003c/th\u003e\n      \u003cth\u003eCUSTOMER\u003c/th\u003e\n      \u003cth\u003eMATCH_CUSTOMER\u003c/th\u003e\n      \u003cth\u003eDRAW_UP_DATE\u003c/th\u003e\n    \u003c/tr\u003e\n  \u003c/thead\u003e\n  \u003ctbody\u003e\n    \u003ctr\u003e\n      \u003cth\u003e0\u003c/th\u003e\n      \u003ctd\u003e0972 HEINEKEN USA INC (PHH35)\u003c/td\u003e\n      \u003ctd\u003e0972 HEINEKEN USA INC (PHH47)\u003c/td\u003e\n      \u003ctd\u003e2019-06-01 00:00:00+00:00\u003c/td\u003e\n    \u003c/tr\u003e\n    \u003ctr\u003e\n      \u003cth\u003e1\u003c/th\u003e\n      \u003ctd\u003eZOOM SEWER \u0026amp; DRAIN CLEANING SE\u003c/td\u003e\n      \u003ctd\u003eZOOM SEWER AND DRAIN CLEANING SERVICE INC\u003c/td\u003e\n      \u003ctd\u003e2019-05-01 00:00:00+00:00\u003c/td\u003e\n    \u003c/tr\u003e\n    \u003ctr\u003e\n      \u003cth\u003e2\u003c/th\u003e\n      \u003ctd\u003eZERNCO INC\u003c/td\u003e\n      \u003ctd\u003eZERNCO\u003c/td\u003e\n      \u003ctd\u003e2020-07-01 00:00:00+00:00\u003c/td\u003e\n    \u003c/tr\u003e\n    \u003ctr\u003e\n      \u003cth\u003e3\u003c/th\u003e\n      \u003ctd\u003eZASTROW THE BEER MAN\u003c/td\u003e\n      \u003ctd\u003eZASTROW THE BEER MAN INC\u003c/td\u003e\n      \u003ctd\u003e2021-10-01 00:00:00+00:00\u003c/td\u003e\n    \u003c/tr\u003e\n    \u003ctr\u003e\n      \u003cth\u003e4\u003c/th\u003e\n      \u003ctd\u003eYOUR WAY FUMIGATION INC\u003c/td\u003e\n      \u003ctd\u003eFUMIGATION SERVICE  SUPPLY INC\u003c/td\u003e\n      \u003ctd\u003e2022-02-01 00:00:00+00:00\u003c/td\u003e\n    \u003c/tr\u003e\n  \u003c/tbody\u003e\n\u003c/table\u003e\n\u003c/div\u003e"
          },
          "metadata": {}
        }
      ]
    },
    {
      "execution_count": 19,
      "cell_type": "code",
      "metadata": {},
      "source": [
        "from difflib import SequenceMatcher\nimport Levenshtein\n\nidx \u003d 0\nexception_count \u003d 0\n\n_verified \u003d []\n_verified_match \u003d []\n\n_exception \u003d []\n_exception_match \u003d []\n\nfor index, row in df_1_1.iterrows():\n\n    idx+\u003d1\n    \n    customer \u003d row[\u0027CUSTOMER\u0027]\n    match_customer \u003d row[\u0027MATCH_CUSTOMER\u0027]\n    \n    r \u003d Levenshtein.ratio(customer, match_customer)\n    if r\u003c0.8:\n        _exception.append(customer)\n        _exception_match.append(match_customer)\n    else:\n        _verified.append(customer)\n        _verified_match.append(match_customer)"
      ],
      "outputs": []
    },
    {
      "execution_count": 22,
      "cell_type": "code",
      "metadata": {},
      "source": [
        "_CUSTOMER \u003d []\n_CUSTOMER_CLC \u003d []\n\nfor i in range(0, len(_verified)):\n    \n    _CUSTOMER.append(_verified[i])\n    _CUSTOMER.append(_verified_match[i])\n    _CUSTOMER_CLC.append(_verified[i])\n    _CUSTOMER_CLC.append(_verified[i])\n    \ndf_clc \u003d pd.DataFrame(_CUSTOMER, columns\u003d[\u0027CUSTOMER\u0027])\ndf_clc[\u0027CUSTOMER_CLC\u0027] \u003d _CUSTOMER_CLC\nprint(len(df_clc))\ndf_clc.head()"
      ],
      "outputs": [
        {
          "output_type": "error",
          "ename": "TypeError",
          "evalue": "Index(...) must be called with a collection of some kind, \u0027CUSTOMER\u0027 was passed",
          "traceback": [
            "\u001b[0;31m---------------------------------------------------------------------------\u001b[0m",
            "\u001b[0;31mTypeError\u001b[0m                                 Traceback (most recent call last)",
            "\u001b[0;32m\u003cipython-input-22-dd21d2658d7e\u003e\u001b[0m in \u001b[0;36m\u003cmodule\u003e\u001b[0;34m\u001b[0m\n\u001b[1;32m      9\u001b[0m     \u001b[0m_CUSTOMER_CLC\u001b[0m\u001b[0;34m.\u001b[0m\u001b[0mappend\u001b[0m\u001b[0;34m(\u001b[0m\u001b[0m_verified\u001b[0m\u001b[0;34m[\u001b[0m\u001b[0mi\u001b[0m\u001b[0;34m]\u001b[0m\u001b[0;34m)\u001b[0m\u001b[0;34m\u001b[0m\u001b[0;34m\u001b[0m\u001b[0m\n\u001b[1;32m     10\u001b[0m \u001b[0;34m\u001b[0m\u001b[0m\n\u001b[0;32m---\u003e 11\u001b[0;31m \u001b[0mdf_clc\u001b[0m \u001b[0;34m\u003d\u001b[0m \u001b[0mpd\u001b[0m\u001b[0;34m.\u001b[0m\u001b[0mDataFrame\u001b[0m\u001b[0;34m(\u001b[0m\u001b[0m_CUSTOMER\u001b[0m\u001b[0;34m,\u001b[0m \u001b[0mcolumns\u001b[0m\u001b[0;34m\u003d\u001b[0m\u001b[0;34m\u0027CUSTOMER\u0027\u001b[0m\u001b[0;34m)\u001b[0m\u001b[0;34m\u001b[0m\u001b[0;34m\u001b[0m\u001b[0m\n\u001b[0m\u001b[1;32m     12\u001b[0m \u001b[0mdf_clc\u001b[0m\u001b[0;34m[\u001b[0m\u001b[0;34m\u0027CUSTOMER_CLC\u0027\u001b[0m\u001b[0;34m]\u001b[0m \u001b[0;34m\u003d\u001b[0m \u001b[0m_CUSTOMER_CLC\u001b[0m\u001b[0;34m\u001b[0m\u001b[0;34m\u001b[0m\u001b[0m\n\u001b[1;32m     13\u001b[0m \u001b[0mprint\u001b[0m\u001b[0;34m(\u001b[0m\u001b[0mlen\u001b[0m\u001b[0;34m(\u001b[0m\u001b[0mdf_clc\u001b[0m\u001b[0;34m)\u001b[0m\u001b[0;34m)\u001b[0m\u001b[0;34m\u001b[0m\u001b[0;34m\u001b[0m\u001b[0m\n",
            "\u001b[0;32m/data/dataiku/dss_data/code-envs/python/env_clc/lib64/python3.6/site-packages/pandas/core/frame.py\u001b[0m in \u001b[0;36m__init__\u001b[0;34m(self, data, index, columns, dtype, copy)\u001b[0m\n\u001b[1;32m    486\u001b[0m                     \u001b[0mmgr\u001b[0m \u001b[0;34m\u003d\u001b[0m \u001b[0marrays_to_mgr\u001b[0m\u001b[0;34m(\u001b[0m\u001b[0marrays\u001b[0m\u001b[0;34m,\u001b[0m \u001b[0mcolumns\u001b[0m\u001b[0;34m,\u001b[0m \u001b[0mindex\u001b[0m\u001b[0;34m,\u001b[0m \u001b[0mcolumns\u001b[0m\u001b[0;34m,\u001b[0m \u001b[0mdtype\u001b[0m\u001b[0;34m\u003d\u001b[0m\u001b[0mdtype\u001b[0m\u001b[0;34m)\u001b[0m\u001b[0;34m\u001b[0m\u001b[0;34m\u001b[0m\u001b[0m\n\u001b[1;32m    487\u001b[0m                 \u001b[0;32melse\u001b[0m\u001b[0;34m:\u001b[0m\u001b[0;34m\u001b[0m\u001b[0;34m\u001b[0m\u001b[0m\n\u001b[0;32m--\u003e 488\u001b[0;31m                     \u001b[0mmgr\u001b[0m \u001b[0;34m\u003d\u001b[0m \u001b[0minit_ndarray\u001b[0m\u001b[0;34m(\u001b[0m\u001b[0mdata\u001b[0m\u001b[0;34m,\u001b[0m \u001b[0mindex\u001b[0m\u001b[0;34m,\u001b[0m \u001b[0mcolumns\u001b[0m\u001b[0;34m,\u001b[0m \u001b[0mdtype\u001b[0m\u001b[0;34m\u003d\u001b[0m\u001b[0mdtype\u001b[0m\u001b[0;34m,\u001b[0m \u001b[0mcopy\u001b[0m\u001b[0;34m\u003d\u001b[0m\u001b[0mcopy\u001b[0m\u001b[0;34m)\u001b[0m\u001b[0;34m\u001b[0m\u001b[0;34m\u001b[0m\u001b[0m\n\u001b[0m\u001b[1;32m    489\u001b[0m             \u001b[0;32melse\u001b[0m\u001b[0;34m:\u001b[0m\u001b[0;34m\u001b[0m\u001b[0;34m\u001b[0m\u001b[0m\n\u001b[1;32m    490\u001b[0m                 \u001b[0mmgr\u001b[0m \u001b[0;34m\u003d\u001b[0m \u001b[0minit_dict\u001b[0m\u001b[0;34m(\u001b[0m\u001b[0;34m{\u001b[0m\u001b[0;34m}\u001b[0m\u001b[0;34m,\u001b[0m \u001b[0mindex\u001b[0m\u001b[0;34m,\u001b[0m \u001b[0mcolumns\u001b[0m\u001b[0;34m,\u001b[0m \u001b[0mdtype\u001b[0m\u001b[0;34m\u003d\u001b[0m\u001b[0mdtype\u001b[0m\u001b[0;34m)\u001b[0m\u001b[0;34m\u001b[0m\u001b[0;34m\u001b[0m\u001b[0m\n",
            "\u001b[0;32m/data/dataiku/dss_data/code-envs/python/env_clc/lib64/python3.6/site-packages/pandas/core/internals/construction.py\u001b[0m in \u001b[0;36minit_ndarray\u001b[0;34m(values, index, columns, dtype, copy)\u001b[0m\n\u001b[1;32m    179\u001b[0m                 ) from orig\n\u001b[1;32m    180\u001b[0m \u001b[0;34m\u001b[0m\u001b[0m\n\u001b[0;32m--\u003e 181\u001b[0;31m     \u001b[0mindex\u001b[0m\u001b[0;34m,\u001b[0m \u001b[0mcolumns\u001b[0m \u001b[0;34m\u003d\u001b[0m \u001b[0m_get_axes\u001b[0m\u001b[0;34m(\u001b[0m\u001b[0;34m*\u001b[0m\u001b[0mvalues\u001b[0m\u001b[0;34m.\u001b[0m\u001b[0mshape\u001b[0m\u001b[0;34m,\u001b[0m \u001b[0mindex\u001b[0m\u001b[0;34m\u003d\u001b[0m\u001b[0mindex\u001b[0m\u001b[0;34m,\u001b[0m \u001b[0mcolumns\u001b[0m\u001b[0;34m\u003d\u001b[0m\u001b[0mcolumns\u001b[0m\u001b[0;34m)\u001b[0m\u001b[0;34m\u001b[0m\u001b[0;34m\u001b[0m\u001b[0m\n\u001b[0m\u001b[1;32m    182\u001b[0m     \u001b[0mvalues\u001b[0m \u001b[0;34m\u003d\u001b[0m \u001b[0mvalues\u001b[0m\u001b[0;34m.\u001b[0m\u001b[0mT\u001b[0m\u001b[0;34m\u001b[0m\u001b[0;34m\u001b[0m\u001b[0m\n\u001b[1;32m    183\u001b[0m \u001b[0;34m\u001b[0m\u001b[0m\n",
            "\u001b[0;32m/data/dataiku/dss_data/code-envs/python/env_clc/lib64/python3.6/site-packages/pandas/core/internals/construction.py\u001b[0m in \u001b[0;36m_get_axes\u001b[0;34m(N, K, index, columns)\u001b[0m\n\u001b[1;32m    427\u001b[0m         \u001b[0mcolumns\u001b[0m \u001b[0;34m\u003d\u001b[0m \u001b[0mibase\u001b[0m\u001b[0;34m.\u001b[0m\u001b[0mdefault_index\u001b[0m\u001b[0;34m(\u001b[0m\u001b[0mK\u001b[0m\u001b[0;34m)\u001b[0m\u001b[0;34m\u001b[0m\u001b[0;34m\u001b[0m\u001b[0m\n\u001b[1;32m    428\u001b[0m     \u001b[0;32melse\u001b[0m\u001b[0;34m:\u001b[0m\u001b[0;34m\u001b[0m\u001b[0;34m\u001b[0m\u001b[0m\n\u001b[0;32m--\u003e 429\u001b[0;31m         \u001b[0mcolumns\u001b[0m \u001b[0;34m\u003d\u001b[0m \u001b[0mensure_index\u001b[0m\u001b[0;34m(\u001b[0m\u001b[0mcolumns\u001b[0m\u001b[0;34m)\u001b[0m\u001b[0;34m\u001b[0m\u001b[0;34m\u001b[0m\u001b[0m\n\u001b[0m\u001b[1;32m    430\u001b[0m     \u001b[0;32mreturn\u001b[0m \u001b[0mindex\u001b[0m\u001b[0;34m,\u001b[0m \u001b[0mcolumns\u001b[0m\u001b[0;34m\u001b[0m\u001b[0;34m\u001b[0m\u001b[0m\n\u001b[1;32m    431\u001b[0m \u001b[0;34m\u001b[0m\u001b[0m\n",
            "\u001b[0;32m/data/dataiku/dss_data/code-envs/python/env_clc/lib64/python3.6/site-packages/pandas/core/indexes/base.py\u001b[0m in \u001b[0;36mensure_index\u001b[0;34m(index_like, copy)\u001b[0m\n\u001b[1;32m   5356\u001b[0m             \u001b[0mindex_like\u001b[0m \u001b[0;34m\u003d\u001b[0m \u001b[0mcopy\u001b[0m\u001b[0;34m(\u001b[0m\u001b[0mindex_like\u001b[0m\u001b[0;34m)\u001b[0m\u001b[0;34m\u001b[0m\u001b[0;34m\u001b[0m\u001b[0m\n\u001b[1;32m   5357\u001b[0m \u001b[0;34m\u001b[0m\u001b[0m\n\u001b[0;32m-\u003e 5358\u001b[0;31m     \u001b[0;32mreturn\u001b[0m \u001b[0mIndex\u001b[0m\u001b[0;34m(\u001b[0m\u001b[0mindex_like\u001b[0m\u001b[0;34m)\u001b[0m\u001b[0;34m\u001b[0m\u001b[0;34m\u001b[0m\u001b[0m\n\u001b[0m\u001b[1;32m   5359\u001b[0m \u001b[0;34m\u001b[0m\u001b[0m\n\u001b[1;32m   5360\u001b[0m \u001b[0;34m\u001b[0m\u001b[0m\n",
            "\u001b[0;32m/data/dataiku/dss_data/code-envs/python/env_clc/lib64/python3.6/site-packages/pandas/core/indexes/base.py\u001b[0m in \u001b[0;36m__new__\u001b[0;34m(cls, data, dtype, copy, name, tupleize_cols, **kwargs)\u001b[0m\n\u001b[1;32m    420\u001b[0m             \u001b[0;32mreturn\u001b[0m \u001b[0mIndex\u001b[0m\u001b[0;34m(\u001b[0m\u001b[0mnp\u001b[0m\u001b[0;34m.\u001b[0m\u001b[0masarray\u001b[0m\u001b[0;34m(\u001b[0m\u001b[0mdata\u001b[0m\u001b[0;34m)\u001b[0m\u001b[0;34m,\u001b[0m \u001b[0mdtype\u001b[0m\u001b[0;34m\u003d\u001b[0m\u001b[0mdtype\u001b[0m\u001b[0;34m,\u001b[0m \u001b[0mcopy\u001b[0m\u001b[0;34m\u003d\u001b[0m\u001b[0mcopy\u001b[0m\u001b[0;34m,\u001b[0m \u001b[0mname\u001b[0m\u001b[0;34m\u003d\u001b[0m\u001b[0mname\u001b[0m\u001b[0;34m,\u001b[0m \u001b[0;34m**\u001b[0m\u001b[0mkwargs\u001b[0m\u001b[0;34m)\u001b[0m\u001b[0;34m\u001b[0m\u001b[0;34m\u001b[0m\u001b[0m\n\u001b[1;32m    421\u001b[0m         \u001b[0;32melif\u001b[0m \u001b[0mdata\u001b[0m \u001b[0;32mis\u001b[0m \u001b[0;32mNone\u001b[0m \u001b[0;32mor\u001b[0m \u001b[0mis_scalar\u001b[0m\u001b[0;34m(\u001b[0m\u001b[0mdata\u001b[0m\u001b[0;34m)\u001b[0m\u001b[0;34m:\u001b[0m\u001b[0;34m\u001b[0m\u001b[0;34m\u001b[0m\u001b[0m\n\u001b[0;32m--\u003e 422\u001b[0;31m             \u001b[0;32mraise\u001b[0m \u001b[0mcls\u001b[0m\u001b[0;34m.\u001b[0m\u001b[0m_scalar_data_error\u001b[0m\u001b[0;34m(\u001b[0m\u001b[0mdata\u001b[0m\u001b[0;34m)\u001b[0m\u001b[0;34m\u001b[0m\u001b[0;34m\u001b[0m\u001b[0m\n\u001b[0m\u001b[1;32m    423\u001b[0m         \u001b[0;32melse\u001b[0m\u001b[0;34m:\u001b[0m\u001b[0;34m\u001b[0m\u001b[0;34m\u001b[0m\u001b[0m\n\u001b[1;32m    424\u001b[0m             \u001b[0;32mif\u001b[0m \u001b[0mtupleize_cols\u001b[0m \u001b[0;32mand\u001b[0m \u001b[0mis_list_like\u001b[0m\u001b[0;34m(\u001b[0m\u001b[0mdata\u001b[0m\u001b[0;34m)\u001b[0m\u001b[0;34m:\u001b[0m\u001b[0;34m\u001b[0m\u001b[0;34m\u001b[0m\u001b[0m\n",
            "\u001b[0;31mTypeError\u001b[0m: Index(...) must be called with a collection of some kind, \u0027CUSTOMER\u0027 was passed"
          ]
        }
      ]
    },
    {
      "execution_count": 0,
      "cell_type": "code",
      "metadata": {},
      "source": [
        "# Compute recipe outputs\n# TODO: Write here your actual code that computes the outputs\n# NB: DSS supports several kinds of APIs for reading and writing data. Please see doc.\n\n#MATCHES_VERIFIED_df \u003d ... # Compute a Pandas dataframe to write into MATCHES_VERIFIED\n\n\n# Write recipe outputs\n#MATCHES_VERIFIED \u003d dataiku.Dataset(\"MATCHES_VERIFIED\")\n#MATCHES_VERIFIED.write_with_schema(MATCHES_VERIFIED_df)"
      ],
      "outputs": []
    }
  ]
}