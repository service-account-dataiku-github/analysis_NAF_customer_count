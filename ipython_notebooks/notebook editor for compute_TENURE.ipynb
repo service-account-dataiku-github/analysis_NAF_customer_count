{
  "metadata": {
    "kernelspec": {
      "name": "py-dku-venv-env_clc",
      "display_name": "Python (env env_clc)",
      "language": "python"
    },
    "associatedRecipe": "compute_TENURE",
    "dkuGit": {
      "lastInteraction": 0
    },
    "creationTag": {
      "versionNumber": 0,
      "lastModifiedBy": {
        "login": "Daniel.Vandermeer"
      },
      "lastModifiedOn": 1677064239841
    },
    "creator": "Daniel.Vandermeer",
    "createdOn": 1677064239841,
    "tags": [
      "recipe-editor"
    ],
    "customFields": {},
    "hide_input": false,
    "language_info": {
      "name": "python",
      "version": "3.6.8",
      "mimetype": "text/x-python",
      "codemirror_mode": {
        "name": "ipython",
        "version": 3
      },
      "pygments_lexer": "ipython3",
      "nbconvert_exporter": "python",
      "file_extension": ".py"
    },
    "modifiedBy": "Daniel.Vandermeer"
  },
  "nbformat": 4,
  "nbformat_minor": 1,
  "cells": [
    {
      "execution_count": 0,
      "cell_type": "code",
      "metadata": {},
      "source": [
        "# -*- coding: utf-8 -*-\nimport dataiku\nimport pandas as pd, numpy as np\nfrom dataiku import pandasutils as pdu\n\nfrom datetime import date, datetime, timedelta\nimport time\n\nimport matplotlib.pyplot as plt\n\nt0 \u003d time.time()\n\n# Read recipe inputs\nNAFCUSTOMER_REVENUE_AGGREGATED_2019 \u003d dataiku.Dataset(\"NAFCUSTOMER_REVENUE_AGGREGATED_2019\")\nNAFCUSTOMER_REVENUE_AGGREGATED_2019_df \u003d NAFCUSTOMER_REVENUE_AGGREGATED_2019.get_dataframe()\nprint(\u0027loaded file 2019\u0027)\n\nNAFCUSTOMER_REVENUE_AGGREGATED_2020 \u003d dataiku.Dataset(\"NAFCUSTOMER_REVENUE_AGGREGATED_2020\")\nNAFCUSTOMER_REVENUE_AGGREGATED_2020_df \u003d NAFCUSTOMER_REVENUE_AGGREGATED_2020.get_dataframe()\nprint(\u0027loaded file 2020\u0027)\n\nNAFCUSTOMER_REVENUE_AGGREGATED_2021 \u003d dataiku.Dataset(\"NAFCUSTOMER_REVENUE_AGGREGATED_2021\")\nNAFCUSTOMER_REVENUE_AGGREGATED_2021_df \u003d NAFCUSTOMER_REVENUE_AGGREGATED_2021.get_dataframe()\nprint(\u0027loaded file 2021\u0027)\n\nNAFCUSTOMER_REVENUE_AGGREGATED_2022 \u003d dataiku.Dataset(\"NAFCUSTOMER_REVENUE_AGGREGATED_2022\")\nNAFCUSTOMER_REVENUE_AGGREGATED_2022_df \u003d NAFCUSTOMER_REVENUE_AGGREGATED_2022.get_dataframe()\nprint(\u0027loaded file 2022\u0027)\n\nNAFCUSTOMER_ACCOUNT_ANNUAL_ACTIVE_CARD_COUNT \u003d dataiku.Dataset(\"NAFCUSTOMER_ACCOUNT_ANNUAL_ACTIVE_CARD_COUNT\")\nNAFCUSTOMER_ACCOUNT_ANNUAL_ACTIVE_CARD_COUNT_df \u003d NAFCUSTOMER_ACCOUNT_ANNUAL_ACTIVE_CARD_COUNT.get_dataframe()\n\nprint(\u0027loaded annual card count\u0027)\n\nt1 \u003d time.time()\nprint(\"load duration\", (t1-t0)/60.0, \"minutes\")"
      ],
      "outputs": [
        {
          "output_type": "stream",
          "text": "loaded file 2019\nloaded file 2020\n",
          "name": "stdout"
        }
      ]
    },
    {
      "execution_count": 0,
      "cell_type": "code",
      "metadata": {},
      "source": [
        "# create a copy of the input datasets\n# this leaves the original dataset in memory and allows for a quick reload without having to back to Snowflake\n\nprint(len(NAFCUSTOMER_REVENUE_AGGREGATED_2019_df))\nprint(len(NAFCUSTOMER_REVENUE_AGGREGATED_2020_df))\nprint(len(NAFCUSTOMER_REVENUE_AGGREGATED_2021_df))\nprint(len(NAFCUSTOMER_REVENUE_AGGREGATED_2022_df))\n\ndf \u003d pd.concat([NAFCUSTOMER_REVENUE_AGGREGATED_2019_df,NAFCUSTOMER_REVENUE_AGGREGATED_2020_df,\n               NAFCUSTOMER_REVENUE_AGGREGATED_2021_df,NAFCUSTOMER_REVENUE_AGGREGATED_2022_df])\nprint(len(df))\n\nprint(len(NAFCUSTOMER_ACCOUNT_ANNUAL_ACTIVE_CARD_COUNT_df), \"rows in NAFCUSTOMER_ACCOUNT_ANNUAL_ACTIVE_CARD_COUNT\")\ndf_a \u003d NAFCUSTOMER_ACCOUNT_ANNUAL_ACTIVE_CARD_COUNT_df"
      ],
      "outputs": []
    },
    {
      "execution_count": 0,
      "cell_type": "code",
      "metadata": {},
      "source": [
        "df.REVENUE_CLASS.value_counts()"
      ],
      "outputs": []
    },
    {
      "execution_count": 0,
      "cell_type": "code",
      "metadata": {},
      "source": [
        "# Prep data\n#\n# cast year to integer and create a revenue date column using month and year\n#\n\ndf[\u0027CUSTOMER_ID\u0027] \u003d df[\u0027CUSTOMER_ID\u0027].astype(\u0027Int64\u0027)\ndf[\u0027SETUP_DATE_DT\u0027] \u003d pd.to_datetime(df[\u0027SETUP_DATE\u0027])\ndf[\u0027SETUP_YEAR\u0027] \u003d df.SETUP_DATE_DT.dt.year\n\ndf[\u0027REVENUE_YEAR\u0027] \u003d df[\u0027REVENUE_YEAR\u0027].astype(\u0027Int64\u0027)\ndf[\u0027REVENUE_DATE\u0027] \u003d df[\u0027REVENUE_MONTH\u0027].astype(str) + \u0027-\u0027 + df[\u0027REVENUE_YEAR\u0027].astype(str)\ndf[\u0027REVENUE_DATE\u0027] \u003d pd.to_datetime(df[\u0027REVENUE_DATE\u0027], format\u003d\u0027%m-%Y\u0027).dt.strftime(\u0027%m-%Y\u0027)\n\ndf[\u0027REVENUE_CLASS\u0027] \u003d df.REVENUE_CATEGORY\ndf.loc[df.REVENUE_CODE_GROUP\u003d\u003d\u0027Rebate\u0027,\u0027REVENUE_CLASS\u0027] \u003d \u0027Rebate\u0027\n\n#\n# filter out Jan 2023 as it represents only a partial year\n#\n\nprint(len(df), \"before filter\")\ndf \u003d df[df.REVENUE_YEAR!\u003d2023]\nprint(len(df), \"after filter, removing 2023\")\n\n# break down of revenue_year\ndf.REVENUE_YEAR.value_counts()"
      ],
      "outputs": []
    },
    {
      "execution_count": 0,
      "cell_type": "code",
      "metadata": {},
      "source": [
        "import matplotlib.dates as mdates\nfrom matplotlib.ticker import FuncFormatter\nimport matplotlib.pyplot as plt\n\n# plot out sum of revenue per year\n# in order to do a quick reonciliation against\n\n# aggregate revenue at annual grain\ndf_revenue_per_year \u003d df.groupby([\u0027REVENUE_YEAR\u0027]).REVENUE_AMOUNT_USD.sum().reset_index()\ndf_revenue_per_year.REVENUE_AMOUNT_USD \u003d df_revenue_per_year.REVENUE_AMOUNT_USD\ndf_revenue_per_year.head()\n\nmax_revenue \u003d df_revenue_per_year.REVENUE_AMOUNT_USD.max()\n\nchart_revenue_year \u003d []\nfor y in df_revenue_per_year.REVENUE_YEAR.tolist():\n    chart_revenue_year.append(str(y))\n\nfig, ax1 \u003d plt.subplots(figsize\u003d(8,3))\nax1.plot(chart_revenue_year,df_revenue_per_year[\u0027REVENUE_AMOUNT_USD\u0027], marker\u003d\u0027o\u0027)\nax1.set_xlabel(\u0027YEAR\u0027, fontsize\u003d14)\nax1.set_ylabel(\u0027REVENUE (M)\u0027, fontsize\u003d14)\nax1.yaxis.set_major_formatter(FuncFormatter(lambda x, p: format(int(x), \u0027,\u0027)))\nax1.grid()\nax1.set_ylim(ymin\u003d0, ymax\u003dmax_revenue*1.15)\nax1.yaxis.set_major_formatter(FuncFormatter(lambda x, p: format(int(x), \u0027,\u0027)))\nfig.autofmt_xdate()\nplt.show()\n\ndf_revenue_per_year.head()"
      ],
      "outputs": []
    },
    {
      "execution_count": 0,
      "cell_type": "code",
      "metadata": {},
      "source": [
        "df_revenue_by_customer_and_year \u003d df.groupby([\u0027CUSTOMER_ID\u0027,\u0027CUSTOMER\u0027,\u0027REVENUE_YEAR\u0027]).REVENUE_AMOUNT_USD.sum().reset_index()\nprint(len(df_revenue_by_customer_and_year))\n\ndf_spend_by_customer_and_year \u003d df.groupby([\u0027CUSTOMER_ID\u0027,\u0027CUSTOMER\u0027,\u0027REVENUE_YEAR\u0027]).GROSS_SPEND_AMOUNT.sum().reset_index()\nprint(len(df_spend_by_customer_and_year))\n\ndf_active_card_count_by_customer \u003d df_a.groupby([\u0027CUSTOMER_ID\u0027,\u0027CUSTOMER\u0027,\u0027YEAR_NUMBER\u0027]).ACTIVE_CARD_COUNT.sum().reset_index()\ndf_active_card_count_by_customer.columns \u003d [\u0027CUSTOMER_ID\u0027,\u0027CUSTOMER\u0027,\u0027REVENUE_YEAR\u0027,\u0027ACTIVE_CARD_COUNT\u0027]\nprint(len(df_active_card_count_by_customer))\n\ndf_customer_setup_year \u003d df.groupby([\u0027CUSTOMER_ID\u0027,\u0027CUSTOMER\u0027]).SETUP_YEAR.min().reset_index()\nprint(len(df_customer_setup_year))\n\ndf_customer_fleet_size \u003d df_active_card_count_by_customer.groupby([\u0027CUSTOMER_ID\u0027,\u0027CUSTOMER\u0027]).ACTIVE_CARD_COUNT.max().reset_index()\ndf_customer_fleet_size.columns \u003d [\u0027CUSTOMER_ID\u0027, \u0027CUSTOMER\u0027, \u0027FLEET_SIZE\u0027]\n\ndf_customer_fleet_size[\u0027FLEET_SIZE_CATEGORY\u0027] \u003d \u0027NOT SET\u0027\ndf_customer_fleet_size.loc[df_customer_fleet_size.FLEET_SIZE\u003c\u003d0, \u0027FLEET_SIZE_CATEGORY\u0027] \u003d \u0027zero cards\u0027\nfor i in range(1,21):\n    df_customer_fleet_size.loc[df_customer_fleet_size.FLEET_SIZE\u003d\u003di, \u0027FLEET_SIZE_CATEGORY\u0027] \u003d str(i) + \u0027 card(s)\u0027\ndf_customer_fleet_size.loc[df_customer_fleet_size.FLEET_SIZE\u003e20, \u0027FLEET_SIZE_CATEGORY\u0027] \u003d \u0027\u003e 20 cards\u0027\nprint(len(df_customer_fleet_size))"
      ],
      "outputs": []
    },
    {
      "execution_count": 0,
      "cell_type": "code",
      "metadata": {},
      "source": [
        "df_revenue_by_customer_revenue_category_and_year \u003d df.groupby([\u0027CUSTOMER_ID\u0027,\u0027CUSTOMER\u0027,\u0027REVENUE_CLASS\u0027,\u0027REVENUE_YEAR\u0027]).REVENUE_AMOUNT_USD.sum().reset_index()\nprint(len(df_revenue_by_customer_revenue_category_and_year))\ndf_revenue_by_customer_revenue_category_and_year \u003d pd.merge(df_revenue_by_customer_revenue_category_and_year, df_customer_fleet_size, how\u003d\u0027left\u0027, on\u003d[\u0027CUSTOMER_ID\u0027,\u0027CUSTOMER\u0027])\nprint(len(df_revenue_by_customer_revenue_category_and_year))\n\ndf_revenue_by_customer_revenue_category_and_year.loc[df_revenue_by_customer_revenue_category_and_year.FLEET_SIZE.isnull(),\u0027FLEET_SIZE\u0027] \u003d 0\ndf_revenue_by_customer_revenue_category_and_year[\u0027FLEET_SIZE_GROUP\u0027] \u003d \u0027NOT SET\u0027\ndf_revenue_by_customer_revenue_category_and_year.loc[df_revenue_by_customer_revenue_category_and_year.FLEET_SIZE.between(0,5),\u0027FLEET_SIZE_GROUP\u0027] \u003d \u0027(\u003c\u003d5 cards)\u0027\ndf_revenue_by_customer_revenue_category_and_year.loc[df_revenue_by_customer_revenue_category_and_year.FLEET_SIZE.between(6,100),\u0027FLEET_SIZE_GROUP\u0027] \u003d \u0027(between 6 and 100 cards)\u0027\ndf_revenue_by_customer_revenue_category_and_year.loc[df_revenue_by_customer_revenue_category_and_year.FLEET_SIZE\u003e100,\u0027FLEET_SIZE_GROUP\u0027] \u003d \u0027(\u003e100 cards)\u0027\ndf_revenue_by_customer_revenue_category_and_year.head()"
      ],
      "outputs": []
    },
    {
      "execution_count": 0,
      "cell_type": "code",
      "metadata": {},
      "source": [
        "print(len(df_revenue_by_customer_and_year))\ndf_j \u003d pd.merge(df_revenue_by_customer_and_year,df_spend_by_customer_and_year,how\u003d\u0027left\u0027,on\u003d[\u0027CUSTOMER_ID\u0027,\u0027CUSTOMER\u0027,\u0027REVENUE_YEAR\u0027])\nprint(len(df_j))\n\ndf_j \u003d pd.merge(df_j,df_active_card_count_by_customer,how\u003d\u0027left\u0027,on\u003d[\u0027CUSTOMER_ID\u0027,\u0027CUSTOMER\u0027,\u0027REVENUE_YEAR\u0027])\nprint(len(df_j))\n\ndf_j \u003d pd.merge(df_j,df_customer_fleet_size, how\u003d\u0027left\u0027,on\u003d[\u0027CUSTOMER_ID\u0027,\u0027CUSTOMER\u0027])\nprint(len(df_j))\n\ndf_j \u003d pd.merge(df_j, df_customer_setup_year, how\u003d\u0027left\u0027, on\u003d[\u0027CUSTOMER_ID\u0027,\u0027CUSTOMER\u0027])\nprint(len(df_j))\n\ndf_j.loc[df_j.ACTIVE_CARD_COUNT.isnull(),\u0027ACTIVE_CARD_COUNT\u0027] \u003d 0\ndf_j.loc[df_j.FLEET_SIZE.isnull(),\u0027FLEET_SIZE\u0027] \u003d 0\n\ndf_j[\u0027FLEET_SIZE_GROUP\u0027] \u003d \u0027NOT SET\u0027\ndf_j.loc[df_j.FLEET_SIZE.between(0,5),\u0027FLEET_SIZE_GROUP\u0027] \u003d \u0027(\u003c\u003d5 cards)\u0027\ndf_j.loc[df_j.FLEET_SIZE.between(6,100),\u0027FLEET_SIZE_GROUP\u0027] \u003d \u0027(between 6 and 100 cards)\u0027\ndf_j.loc[df_j.FLEET_SIZE\u003e100,\u0027FLEET_SIZE_GROUP\u0027] \u003d \u0027(\u003e100 cards)\u0027\ndf_j.head()"
      ],
      "outputs": []
    },
    {
      "execution_count": 0,
      "cell_type": "code",
      "metadata": {},
      "source": [
        "df_j.FLEET_SIZE_CATEGORY.unique()"
      ],
      "outputs": []
    },
    {
      "execution_count": 0,
      "cell_type": "code",
      "metadata": {},
      "source": [
        "df_activity \u003d df_j.copy()\nprint(len(df_activity))\ndf_activity \u003d df_activity[~df_activity.FLEET_SIZE_CATEGORY.isnull()]\nprint(len(df_activity))\n\n_fleet_size \u003d []\n_observed_avg_retention_rate \u003d []\n_expected_tenure \u003d []\n_revenue_year \u003d []\n_observed_customer_count \u003d []\n_observed_customer_percent \u003d []\n_chart_forecast_year \u003d []\n_chart_forecast_from_first \u003d []\n\ngroups \u003d  [\u00271 card(s)\u0027, \u00272 card(s)\u0027, \u00273 card(s)\u0027, \u00274 card(s)\u0027, \u00275 card(s)\u0027, \u00276 card(s)\u0027,\n           \u00277 card(s)\u0027,\u00278 card(s)\u0027,\u00279 card(s)\u0027,\u002710 card(s)\u0027,  \u002711 card(s)\u0027,\n           \u002712 card(s)\u0027,\u002713 card(s)\u0027,\u002714 card(s)\u0027, \u002715 card(s)\u0027,\u002716 card(s)\u0027,\u002717 card(s)\u0027\n           ,\u002718 card(s)\u0027,\u002719 card(s)\u0027,\u002720 card(s)\u0027,\u0027\u003e 20 cards\u0027]\n\nfor granular_filter_group in groups:\n\n    df_sub \u003d df_activity[df_activity.SETUP_YEAR\u003c2019]\n    df_sub \u003d df_sub[df_sub.FLEET_SIZE_CATEGORY\u003d\u003dgranular_filter_group]\n\n    df_sub \u003d df_sub.groupby([\u0027REVENUE_YEAR\u0027]).CUSTOMER_ID.nunique().reset_index()\n    df_sub.columns \u003d [\u0027REVENUE_YEAR\u0027,\u0027CUSTOMER_COUNT\u0027]\n    df_sub.REVENUE_YEAR \u003d df_sub.REVENUE_YEAR.astype(str)\n    df_sub.CUSTOMER_COUNT \u003d df_sub.CUSTOMER_COUNT.astype(\u0027Int64\u0027)\n\n    df_sub[\u0027SURVIVED_FROM_FIRST\u0027] \u003d (df_sub.CUSTOMER_COUNT / df_sub.iloc[0].CUSTOMER_COUNT)\n    df_sub[\u0027SURVIVED_FROM_FIRST_PERCENT\u0027] \u003d (df_sub.CUSTOMER_COUNT / df_sub.iloc[0].CUSTOMER_COUNT)*100\n    df_sub[\u0027CUSTOMERS_LEFT\u0027] \u003d 0\n\n    row_count \u003d len(df_sub)\n\n    row_index \u003d 0\n    retention_observations \u003d []\n    observed_retentions \u003d 0\n    for i in range(row_count):\n        if i\u003e0:\n            survived \u003d df_sub.iloc[i].CUSTOMER_COUNT / df_sub.iloc[i-1].CUSTOMER_COUNT\n            df_sub.loc[i,\u0027SURVIVED_FROM_PREV\u0027] \u003d survived\n            df_sub.loc[i,\u0027CUSTOMERS_LEFT\u0027] \u003d df_sub.iloc[i-1].CUSTOMER_COUNT - df_sub.iloc[i].CUSTOMER_COUNT\n            retention_observations.append(survived)\n        row_index+\u003d1\n\n    avg_retention_rate \u003d sum(retention_observations)/len(retention_observations)\n    print(\"----\")\n    print(\"Observed Average Retention Rate (2019-2022):\", 100*round(avg_retention_rate,3), \"%\")\n    print(retention_observations)\n    len(retention_observations)\n\n    forecast_year \u003d 2022\n\n    df_sub[\u0027FORECAST_CUSTOMER_COUNT\u0027] \u003d np.nan\n    df_sub[\u0027FORECAST_FROM_FIRST_PERCENT\u0027] \u003d np.nan\n\n    forecast_years \u003d 15\n\n    for i in range(forecast_years+1):\n\n        forecast_year +\u003d 1\n        if i\u003d\u003d0:\n            forecast_customer_count \u003d round(avg_retention_rate * df_sub.iloc[i+row_count-1].CUSTOMER_COUNT,0)\n            customers_left \u003d df_sub.iloc[i+row_count-1].CUSTOMER_COUNT - forecast_customer_count\n        else:\n            forecast_customer_count \u003d round(avg_retention_rate * df_sub.iloc[i+row_count-1].FORECAST_CUSTOMER_COUNT,0)\n            customers_left \u003d df_sub.iloc[i+row_count-1].FORECAST_CUSTOMER_COUNT - forecast_customer_count\n\n        forecast_from_first_percent \u003d (forecast_customer_count/df_sub.iloc[0].CUSTOMER_COUNT)*100\n\n        dict \u003d {\u0027REVENUE_YEAR\u0027:forecast_year,\u0027CUSTOMERS_LEFT\u0027: customers_left, \u0027SURVIVED_FROM_PREV\u0027: avg_retention_rate, \u0027FORECAST_CUSTOMER_COUNT\u0027:forecast_customer_count,\u0027FORECAST_FROM_FIRST_PERCENT\u0027:forecast_from_first_percent}\n        df_sub \u003d df_sub.append(dict, ignore_index \u003d True)\n\n\n    df_sub[\u0027CUSTOMERS_LEFT_PERCENT\u0027] \u003d df_sub[\u0027CUSTOMERS_LEFT\u0027] / df_sub.iloc[0].CUSTOMER_COUNT\n    df_sub.FORECAST_CUSTOMER_COUNT \u003d df_sub.FORECAST_CUSTOMER_COUNT.astype(\u0027Int64\u0027)\n\n    chart_revenue_year \u003d df_sub.REVENUE_YEAR[0:row_index].tolist()\n    chart_customer_count \u003d df_sub.CUSTOMER_COUNT[0:row_index].tolist()\n\n    chart_survived_from_first \u003d df_sub.SURVIVED_FROM_FIRST_PERCENT[0:row_index].tolist()\n\n    l \u003d []\n    max_i \u003d 0\n    for i in df_sub.REVENUE_YEAR[row_index:].tolist():\n        l.append(str(int(i)))\n        max_i \u003d i\n\n    chart_forecast_year \u003d l\n    chart_forecast_customer_count \u003d df_sub.FORECAST_CUSTOMER_COUNT[row_index:].tolist()\n    chart_forecast_from_first \u003d df_sub.FORECAST_FROM_FIRST_PERCENT[row_index:].tolist()\n\n    max_y \u003d df_sub.CUSTOMER_COUNT.max()\n    max_y \u003d max_y + max_y*0.1\n\n    _revenue_year.append(chart_revenue_year)\n    _observed_customer_count.append(chart_customer_count)\n\n    fig, ax1 \u003d plt.subplots(figsize\u003d(10,5))\n    plt.plot(chart_revenue_year,chart_customer_count, marker\u003d\u0027o\u0027, c\u003d\u0027C0\u0027)\n    plt.plot(chart_forecast_year,chart_forecast_customer_count, marker\u003d\u0027o\u0027, c\u003d\u0027black\u0027, linestyle\u003d\u0027dashed\u0027)\n    ax1.set_ylim(ymin\u003d0, ymax\u003dmax_y)\n    ax1.set_xlabel(\u0027YEAR\u0027, fontsize\u003d14)\n    #ax1.set_xlim(xmin\u003d2019, xmax\u003d2023+forecast_years)\n    ax1.set_ylabel(\u0027CUSTOMER COUNT\u0027, fontsize\u003d14)\n    ax1.yaxis.set_major_formatter(FuncFormatter(lambda x, p: format(int(x), \u0027,\u0027)))\n    plt.title(\u0027 Count of Retained Customers, \u0027 + granular_filter_group)\n    plt.legend([\u0027observed\u0027,\u0027forecasted\u0027])\n\n    _observed_customer_percent.append(chart_survived_from_first)\n    _chart_forecast_year.append(chart_forecast_year)\n    _chart_forecast_from_first.append(chart_survived_from_first)\n\n    fig, ax2 \u003d plt.subplots(figsize\u003d(10,5))\n    plt.plot(chart_revenue_year,chart_survived_from_first, marker\u003d\u0027o\u0027, c\u003d\u0027C0\u0027)\n    plt.plot(chart_forecast_year,chart_forecast_from_first, marker\u003d\u0027o\u0027, c\u003d\u0027black\u0027, linestyle\u003d\u0027dashed\u0027)\n    ax2.set_ylim(ymin\u003d0, ymax\u003d110)\n    ax2.set_xlabel(\u0027YEAR\u0027, fontsize\u003d14)\n    ax2.set_ylabel(\u0027Percent Survived (%)\u0027, fontsize\u003d14)\n    plt.title(\u0027 % of Retained Customers, \u0027 + granular_filter_group)\n    plt.legend([\u0027observed\u0027,\u0027forecasted\u0027])\n    #plt.subplots_adjust(left\u003d2.0,right\u003d3.0)\n    plt.show()\n\n    fraction_remaining \u003d 1\n    avg_tenure \u003d 0\n    check_sum \u003d 0\n    for i in range(forecast_years):\n\n        avg_tenure +\u003d df_sub.iloc[i].CUSTOMERS_LEFT_PERCENT * i\n\n        fraction_remaining -\u003d  df_sub.iloc[i].CUSTOMERS_LEFT_PERCENT\n        check_sum +\u003d df_sub.iloc[i].CUSTOMERS_LEFT_PERCENT\n\n    check_sum +\u003d fraction_remaining\n\n    avg_tenure +\u003d fraction_remaining * i\n    print(\"forecast period:\", forecast_years)\n    print(\"AVG Tenure (Observed + Forecasted):\", round(avg_tenure,2), \"Years\")\n    print(\"check_sum:\", round(check_sum,2))\n\n    _fleet_size.append(granular_filter_group)\n    _observed_avg_retention_rate.append(avg_retention_rate)\n    _expected_tenure.append(avg_tenure)"
      ],
      "outputs": []
    },
    {
      "execution_count": 0,
      "cell_type": "code",
      "metadata": {},
      "source": [
        "def rgb_to_hex(rgb):\n    return \u0027%02x%02x%02x\u0027 % rgb\n\nfig, ax2 \u003d plt.subplots(figsize\u003d(10,6.5))\n\ncolor_step_size \u003d int(255 / len(_fleet_size))\ncolor_step_size \u003d 30\n\ncurrent_color_step_size \u003d 255\nfor i in range(len(_fleet_size)):\n\n    color \u003d \"#\" + rgb_to_hex((current_color_step_size,0,0))\n    current_color_step_size -\u003d color_step_size\n    if current_color_step_size\u003c\u003d0:\n        current_color_step_size \u003d 0\n\n    fleet_size \u003d _fleet_size[i]\n    observed_avg_retention_rate \u003d _observed_avg_retention_rate[i]\n    expected_tenure \u003d _expected_tenure[i]\n    revenue_year \u003d _revenue_year[i]\n    observed_customer_percent \u003d _observed_customer_percent[i]\n    chart_forecast_year \u003d _chart_forecast_year[i]\n    chart_forecast_from_first \u003d _chart_forecast_from_first[i]\n\n    plt.plot(revenue_year,observed_customer_percent, marker\u003d\u0027o\u0027, color \u003d color)\n    #plt.plot(chart_forecast_year,chart_forecast_from_first, marker\u003d\u0027o\u0027, c\u003d\u0027black\u0027, linestyle\u003d\u0027dashed\u0027)\n\nax2.set_ylim(ymin\u003d0, ymax\u003d103)\nax2.set_xlabel(\u0027YEAR\u0027, fontsize\u003d14)\nax2.set_ylabel(\u0027Percent Survived (%)\u0027, fontsize\u003d14)\nax2.grid()\nplt.title(\u0027 % of Retained Customers by Fleet Size\u0027)\nplt.legend(_fleet_size, bbox_to_anchor\u003d(1.05,1.0), loc\u003d\u0027upper left\u0027)\nplt.show()"
      ],
      "outputs": []
    },
    {
      "execution_count": 0,
      "cell_type": "code",
      "metadata": {},
      "source": [
        "_color_list \u003d []\nstep_size\u003d30\nfor i in range(21):\n    red_val \u003d 255-i*step_size\n    if red_val\u003c0:\n        red_val\u003d0\n    _color_list.append(\"#\" + rgb_to_hex((red_val,0,0)))\nprint(_color_list)"
      ],
      "outputs": []
    },
    {
      "execution_count": 0,
      "cell_type": "code",
      "metadata": {},
      "source": [
        "_fleet_size_num \u003d []\nfor i in range(len(_fleet_size)):\n    _fleet_size_num.append(i)\n_fleet_size_num\n\n_observed_avg_retention_rate_percent \u003d []\nfor avg_retention_rate in _observed_avg_retention_rate:\n    _observed_avg_retention_rate_percent.append(100*round(avg_retention_rate,3))\n\nfig, ax2 \u003d plt.subplots(figsize\u003d(4.5,2.5))\nax2.set_xlabel(\u0027Fleet Size (Number of Cards)\u0027, fontsize\u003d14)\nax2.set_ylabel(\u0027Avg Retention (%)\u0027, fontsize\u003d14)\nax2.grid()\n\nplt.scatter(_fleet_size_num, _observed_avg_retention_rate_percent, s\u003d15, c\u003d_color_list)\nplt.title(\u0027Fleet Size vs Avg Retention Rate\u0027)\nplt.show()"
      ],
      "outputs": []
    },
    {
      "execution_count": 0,
      "cell_type": "code",
      "metadata": {},
      "source": [
        "fig, ax2 \u003d plt.subplots(figsize\u003d(4.5,2.5))\nax2.set_xlabel(\u0027Fleet Size (Number of Cards)\u0027, fontsize\u003d14)\nax2.set_ylabel(\u0027Expected Tenure (Years)\u0027, fontsize\u003d14)\nax2.grid()\n\nplt.scatter(_fleet_size_num, _expected_tenure, s\u003d15,c\u003d_color_list)\nplt.title(\u0027Fleet Size vs Expected Tenure\u0027)\nplt.show()"
      ],
      "outputs": []
    },
    {
      "execution_count": 0,
      "cell_type": "code",
      "metadata": {},
      "source": [
        "df_retention_rates_by_fleet_size \u003d pd.DataFrame(_fleet_size, columns\u003d[\u0027Fleet Size\u0027])\ndf_retention_rates_by_fleet_size[\u0027Expected Tenure\u0027] \u003d _expected_tenure\ndf_retention_rates_by_fleet_size[\u0027Observed Retention Rate\u0027] \u003d _observed_avg_retention_rate\ndf_retention_rates_by_fleet_size.head(25)"
      ],
      "outputs": []
    },
    {
      "execution_count": 0,
      "cell_type": "code",
      "metadata": {},
      "source": [
        "df_revenue_by_year \u003d df_j.groupby([\u0027REVENUE_YEAR\u0027,\u0027FLEET_SIZE_GROUP\u0027]).REVENUE_AMOUNT_USD.sum().reset_index()\n\ncolors \u003d [\u0027#006BA2\u0027,\u0027#758D99\u0027,\u0027#EBB434\u0027]\nlabels \u003d [\u0027(\u003e100 cards)\u0027,\u0027(between 6 and 100 cards)\u0027,\u0027(\u003c\u003d5 cards)\u0027]\n\nfig, ax \u003d plt.subplots(1, figsize\u003d(5,3))\ndivider \u003d 1000000\n\nmax_value \u003d 0\nbottom \u003d len(df_revenue_by_year.REVENUE_YEAR.unique()) * [0]\nfor idx,s in enumerate(labels):\n\n    dim1 \u003d list(map(str,df_revenue_by_year[df_revenue_by_year.FLEET_SIZE_GROUP\u003d\u003ds].REVENUE_YEAR))\n    data1 \u003d df_revenue_by_year[df_revenue_by_year.FLEET_SIZE_GROUP\u003d\u003ds].REVENUE_AMOUNT_USD/divider\n\n    ax.bar(dim1, data1, bottom\u003dbottom, color\u003dcolors[idx])\n    bottom \u003d [sum(i) for i in zip(data1, bottom )]\n\nax.set_xlabel(\u0027YEAR\u0027, fontsize\u003d14)\nax.set_ylabel(\u0027REVENUE (M)\u0027, fontsize\u003d14)\nax.yaxis.set_major_formatter(FuncFormatter(lambda x, p: format(int(x), \u0027,\u0027)))\nax.grid(color\u003d\u0027#95a5a6\u0027, linestyle\u003d\u0027--\u0027, linewidth\u003d1, axis\u003d\u0027y\u0027, alpha\u003d0.6)\nfig.autofmt_xdate()\nplt.title(\u0027REVENUE BY FLEET SIZE\u0027)\nplt.legend(labels, bbox_to_anchor\u003d(1.05,1.0), loc\u003d\u0027upper left\u0027)\nplt.show()"
      ],
      "outputs": []
    },
    {
      "execution_count": 0,
      "cell_type": "code",
      "metadata": {},
      "source": [
        "df_spend_by_year \u003d df_j.groupby([\u0027REVENUE_YEAR\u0027,\u0027FLEET_SIZE_GROUP\u0027]).GROSS_SPEND_AMOUNT.sum().reset_index()\n\ncolors \u003d [\u0027#006BA2\u0027,\u0027#758D99\u0027,\u0027#EBB434\u0027]\nlabels \u003d [\u0027(\u003e100 cards)\u0027,\u0027(between 6 and 100 cards)\u0027,\u0027(\u003c\u003d5 cards)\u0027]\n\nfig, ax \u003d plt.subplots(1, figsize\u003d(5,3))\n\ndivider \u003d 1000000000\n\nmax_value \u003d 0\nbottom \u003d len(df_spend_by_year.REVENUE_YEAR.unique()) * [0]\nfor idx,s in enumerate(labels):\n\n    dim1 \u003d list(map(str,df_spend_by_year[df_spend_by_year.FLEET_SIZE_GROUP\u003d\u003ds].REVENUE_YEAR))\n    data1 \u003d df_spend_by_year[df_spend_by_year.FLEET_SIZE_GROUP\u003d\u003ds].GROSS_SPEND_AMOUNT/divider\n\n    ax.bar(dim1, data1, bottom\u003dbottom, color\u003dcolors[idx])\n    bottom \u003d [sum(i) for i in zip(data1, bottom )]\n\nax.set_xlabel(\u0027YEAR\u0027, fontsize\u003d14)\nax.set_ylabel(\u0027SPEND (B)\u0027, fontsize\u003d14)\nax.yaxis.set_major_formatter(FuncFormatter(lambda x, p: format(int(x), \u0027,\u0027)))\nax.grid(color\u003d\u0027#95a5a6\u0027, linestyle\u003d\u0027--\u0027, linewidth\u003d1, axis\u003d\u0027y\u0027, alpha\u003d0.6)\nfig.autofmt_xdate()\nplt.title(\u0027SPEND BY FLEET SIZE\u0027)\nplt.legend(labels, bbox_to_anchor\u003d(1.05,1.0), loc\u003d\u0027upper left\u0027)\nplt.show()"
      ],
      "outputs": []
    },
    {
      "execution_count": 0,
      "cell_type": "code",
      "metadata": {},
      "source": [
        "df_customer_by_year \u003d df_j.groupby([\u0027REVENUE_YEAR\u0027,\u0027FLEET_SIZE_GROUP\u0027]).CUSTOMER_ID.nunique().reset_index()\ndf_customer_by_year.columns \u003d [\u0027REVENUE_YEAR\u0027, \u0027FLEET_SIZE_GROUP\u0027, \u0027CUSTOMER_COUNT\u0027]\n\ncolors \u003d [\u0027#006BA2\u0027,\u0027#758D99\u0027,\u0027#EBB434\u0027]\nlabels \u003d [\u0027(\u003e100 cards)\u0027,\u0027(between 6 and 100 cards)\u0027,\u0027(\u003c\u003d5 cards)\u0027]\n\nfig, ax \u003d plt.subplots(1, figsize\u003d(5,3))\n\nmax_value \u003d 0\nbottom \u003d len(df_customer_by_year.REVENUE_YEAR.unique()) * [0]\nfor idx,s in enumerate(labels):\n\n    dim1 \u003d list(map(str,df_customer_by_year[df_customer_by_year.FLEET_SIZE_GROUP\u003d\u003ds].REVENUE_YEAR))\n    data1 \u003d df_customer_by_year[df_customer_by_year.FLEET_SIZE_GROUP\u003d\u003ds].CUSTOMER_COUNT\n\n    ax.bar(dim1, data1, bottom\u003dbottom, color\u003dcolors[idx])\n    bottom \u003d [sum(i) for i in zip(data1, bottom )]\n\nax.set_xlabel(\u0027YEAR\u0027, fontsize\u003d14)\nax.set_ylabel(\u0027CUSTOMERS\u0027, fontsize\u003d14)\nax.yaxis.set_major_formatter(FuncFormatter(lambda x, p: format(int(x), \u0027,\u0027)))\nax.grid(color\u003d\u0027#95a5a6\u0027, linestyle\u003d\u0027--\u0027, linewidth\u003d1, axis\u003d\u0027y\u0027, alpha\u003d0.6)\nfig.autofmt_xdate()\nplt.title(\u0027CUSTOMER COUNT BY FLEET SIZE\u0027)\nplt.legend(labels, bbox_to_anchor\u003d(1.05,1.0), loc\u003d\u0027upper left\u0027)\nplt.show()"
      ],
      "outputs": []
    },
    {
      "execution_count": 0,
      "cell_type": "code",
      "metadata": {},
      "source": [
        "df_active_cards_by_year \u003d df_j.groupby([\u0027REVENUE_YEAR\u0027,\u0027FLEET_SIZE_GROUP\u0027]).ACTIVE_CARD_COUNT.sum().reset_index()\n\ncolors \u003d [\u0027#006BA2\u0027,\u0027#758D99\u0027,\u0027#EBB434\u0027]\nlabels \u003d [\u0027(\u003e100 cards)\u0027,\u0027(between 6 and 100 cards)\u0027,\u0027(\u003c\u003d5 cards)\u0027]\n\ndivider \u003d 1000000\nfig, ax \u003d plt.subplots(1, figsize\u003d(5,3))\n\nmax_value \u003d 0\nbottom \u003d len(df_active_cards_by_year.REVENUE_YEAR.unique()) * [0]\nfor idx,s in enumerate(labels):\n\n    dim1 \u003d list(map(str,df_active_cards_by_year[df_active_cards_by_year.FLEET_SIZE_GROUP\u003d\u003ds].REVENUE_YEAR))\n    data1 \u003d df_active_cards_by_year[df_active_cards_by_year.FLEET_SIZE_GROUP\u003d\u003ds].ACTIVE_CARD_COUNT/divider\n\n    ax.bar(dim1, data1, bottom\u003dbottom, color\u003dcolors[idx])\n    bottom \u003d [sum(i) for i in zip(data1, bottom )]\n\nax.set_xlabel(\u0027YEAR\u0027, fontsize\u003d14)\nax.set_ylabel(\u0027ACTIVE CARDS (M)\u0027, fontsize\u003d14)\nax.yaxis.set_major_formatter(FuncFormatter(lambda x, p: format(int(x), \u0027,\u0027)))\nax.grid(color\u003d\u0027#95a5a6\u0027, linestyle\u003d\u0027--\u0027, linewidth\u003d1, axis\u003d\u0027y\u0027, alpha\u003d0.6)\nfig.autofmt_xdate()\nplt.title(\u0027ACTIVE CARD COUNT BY FLEET SIZE\u0027)\nplt.legend(labels, bbox_to_anchor\u003d(1.05,1.0), loc\u003d\u0027upper left\u0027)\nplt.show()"
      ],
      "outputs": []
    },
    {
      "execution_count": 0,
      "cell_type": "code",
      "metadata": {},
      "source": [
        "print(len(df_revenue_by_year))\nprint(len(df_active_cards_by_year))\n\ndf_revenue_per_card_by_year \u003d pd.merge(df_revenue_by_year,df_active_cards_by_year)\nprint(len(df_revenue_per_card_by_year))\n\ndf_revenue_per_card_by_year[\u0027REVENUE_PER_CARD\u0027] \u003d df_revenue_per_card_by_year.REVENUE_AMOUNT_USD / df_revenue_per_card_by_year.ACTIVE_CARD_COUNT\ndf_revenue_per_card_by_year.head(100)"
      ],
      "outputs": []
    },
    {
      "execution_count": 0,
      "cell_type": "code",
      "metadata": {},
      "source": [
        "colors \u003d [\u0027#006BA2\u0027,\u0027#758D99\u0027,\u0027#EBB434\u0027]\nlabels \u003d [\u0027(\u003e100 cards)\u0027,\u0027(between 6 and 100 cards)\u0027,\u0027(\u003c\u003d5 cards)\u0027]\n\nfig, ax \u003d plt.subplots(1, figsize\u003d(5,3))\n\nbar_width \u003d 0.2\nmax_value \u003d 0\n\nx_axis \u003d np.arange(len(df_revenue_per_card_by_year[df_revenue_per_card_by_year.FLEET_SIZE_GROUP\u003d\u003ds]))\n\nfor idx,s in enumerate(labels):\n\n    dim1 \u003d list(map(str,df_revenue_per_card_by_year[df_revenue_per_card_by_year.FLEET_SIZE_GROUP\u003d\u003ds].REVENUE_YEAR))\n    data1 \u003d df_revenue_per_card_by_year[df_revenue_per_card_by_year.FLEET_SIZE_GROUP\u003d\u003ds].REVENUE_PER_CARD\n    if idx\u003d\u003d0:\n        ax.bar(x_axis-0.2, data1, color\u003dcolors[idx], width\u003dbar_width)\n\n    if idx\u003d\u003d1:\n        ax.bar(x_axis, data1, color\u003dcolors[idx], width\u003dbar_width)\n\n    if idx\u003d\u003d2:\n        ax.bar(x_axis+0.2, data1, color\u003dcolors[idx], width\u003dbar_width)\n\n\nax.set_xlabel(\u0027YEAR\u0027, fontsize\u003d14)\nax.set_ylabel(\u0027REVENUE per CARD\u0027, fontsize\u003d14)\nax.yaxis.set_major_formatter(FuncFormatter(lambda x, p: format(int(x), \u0027,\u0027)))\nax.grid(color\u003d\u0027#95a5a6\u0027, linestyle\u003d\u0027--\u0027, linewidth\u003d1, axis\u003d\u0027y\u0027, alpha\u003d0.6)\nfig.autofmt_xdate()\nplt.title(\u0027REVENUE per CARD BY FLEET SIZE\u0027)\nplt.legend(labels, bbox_to_anchor\u003d(1.05,1.0), loc\u003d\u0027upper left\u0027)\nplt.xticks(x_axis, dim1)\nplt.show()"
      ],
      "outputs": []
    },
    {
      "execution_count": 0,
      "cell_type": "code",
      "metadata": {},
      "source": [
        "df_revenue_per_card_by_year.groupby([\u0027FLEET_SIZE_GROUP\u0027]).REVENUE_PER_CARD.mean().reset_index()"
      ],
      "outputs": []
    },
    {
      "execution_count": 0,
      "cell_type": "code",
      "metadata": {},
      "source": [
        "df_revenue_by_class_year_and_fleet_size \u003d df_revenue_by_customer_revenue_category_and_year.groupby([\u0027FLEET_SIZE_GROUP\u0027,\u0027REVENUE_CLASS\u0027,\u0027REVENUE_YEAR\u0027]).REVENUE_AMOUNT_USD.sum().reset_index()\nprint(len(df_revenue_by_class_year_and_fleet_size))\n\ndf_revenue_by_class_year_and_fleet_size \u003d pd.merge(df_revenue_by_class_year_and_fleet_size, df_active_cards_by_year, on\u003d[\u0027REVENUE_YEAR\u0027,\u0027FLEET_SIZE_GROUP\u0027])\nprint(len(df_revenue_by_class_year_and_fleet_size))\n\ndf_revenue_by_class_year_and_fleet_size[\u0027REVENUE_PER_CARD\u0027] \u003d df_revenue_by_class_year_and_fleet_size.REVENUE_AMOUNT_USD / df_revenue_by_class_year_and_fleet_size.ACTIVE_CARD_COUNT\nprint(len(df_revenue_by_class_year_and_fleet_size))\n\ndf_revenue_by_class_year_and_fleet_size.head(60)\ndf_revenue_class_mean \u003d df_revenue_by_class_year_and_fleet_size.groupby([\u0027FLEET_SIZE_GROUP\u0027,\u0027REVENUE_CLASS\u0027]).REVENUE_PER_CARD.mean().reset_index()\ndf_revenue_class_mean"
      ],
      "outputs": []
    },
    {
      "execution_count": 0,
      "cell_type": "code",
      "metadata": {},
      "source": [
        "df_revenue_class_mean[df_revenue_class_mean.FLEET_SIZE_GROUP\u003d\u003d\u0027(\u003c\u003d5 cards)\u0027].round(2)"
      ],
      "outputs": []
    },
    {
      "execution_count": 0,
      "cell_type": "code",
      "metadata": {},
      "source": [
        "# Compute recipe outputs\n# TODO: Write here your actual code that computes the outputs\n# NB: DSS supports several kinds of APIs for reading and writing data. Please see doc.\n\n#TENURE_df \u003d ... # Compute a Pandas dataframe to write into TENURE\n\n\n# Write recipe outputs\n#TENURE \u003d dataiku.Dataset(\"TENURE\")\n#TENURE.write_with_schema(TENURE_df)"
      ],
      "outputs": []
    }
  ]
}