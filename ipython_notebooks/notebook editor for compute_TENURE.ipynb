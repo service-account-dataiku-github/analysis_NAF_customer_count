{
  "metadata": {
    "kernelspec": {
      "name": "py-dku-venv-env_clc",
      "display_name": "Python (env env_clc)",
      "language": "python"
    },
    "associatedRecipe": "compute_TENURE",
    "creator": "Daniel.Vandermeer",
    "createdOn": 1677064239841,
    "tags": [
      "recipe-editor"
    ],
    "customFields": {},
    "hide_input": false,
    "language_info": {
      "name": "python",
      "version": "3.6.8",
      "mimetype": "text/x-python",
      "codemirror_mode": {
        "name": "ipython",
        "version": 3
      },
      "pygments_lexer": "ipython3",
      "nbconvert_exporter": "python",
      "file_extension": ".py"
    },
    "modifiedBy": "Daniel.Vandermeer"
  },
  "nbformat": 4,
  "nbformat_minor": 1,
  "cells": [
    {
      "execution_count": 1,
      "cell_type": "code",
      "metadata": {},
      "source": [
        "# -*- coding: utf-8 -*-\nimport dataiku\nimport pandas as pd, numpy as np\nfrom dataiku import pandasutils as pdu\n\nfrom datetime import date, datetime, timedelta\nimport time\n\nimport matplotlib.pyplot as plt\n\nt0 \u003d time.time()\n\n# Read recipe inputs\nNAFCUSTOMER_REVENUE_AGGREGATED \u003d dataiku.Dataset(\"NAFCUSTOMER_REVENUE_AGGREGATED\")\nNAFCUSTOMER_REVENUE_AGGREGATED_df \u003d NAFCUSTOMER_REVENUE_AGGREGATED.get_dataframe()\n\nNAFCUSTOMER_ACCOUNT_ANNUAL_ACTIVE_CARD_COUNT \u003d dataiku.Dataset(\"NAFCUSTOMER_ACCOUNT_ANNUAL_ACTIVE_CARD_COUNT\")\nNAFCUSTOMER_ACCOUNT_ANNUAL_ACTIVE_CARD_COUNT_df \u003d NAFCUSTOMER_ACCOUNT_ANNUAL_ACTIVE_CARD_COUNT.get_dataframe()\n\nt1 \u003d time.time()\nprint(\"load duration\", (t1-t0)/60.0, \"minutes\")\n"
      ],
      "outputs": [
        {
          "output_type": "stream",
          "text": "load duration 10.337808760007222 minutes\n",
          "name": "stdout"
        }
      ]
    },
    {
      "execution_count": 2,
      "cell_type": "code",
      "metadata": {},
      "source": [
        "# create a copy of the input datasets\n# this leaves the original dataset in memory and allows for a quick reload without having to back to Snowflake\n\nprint(len(NAFCUSTOMER_REVENUE_AGGREGATED_df), \"rows in NAFCUSTOMER_REVENUE_AGGREGATED\")\ndf \u003d NAFCUSTOMER_REVENUE_AGGREGATED_df.copy()\n\nprint(len(NAFCUSTOMER_ACCOUNT_ANNUAL_ACTIVE_CARD_COUNT_df), \"rows in NAFCUSTOMER_ACCOUNT_ANNUAL_ACTIVE_CARD_COUNT\")\ndf_a \u003d NAFCUSTOMER_ACCOUNT_ANNUAL_ACTIVE_CARD_COUNT_df"
      ],
      "outputs": [
        {
          "output_type": "stream",
          "text": "18075044 rows in NAFCUSTOMER_REVENUE_AGGREGATED\n2319568 rows in NAFCUSTOMER_ACCOUNT_ANNUAL_ACTIVE_CARD_COUNT\n",
          "name": "stdout"
        }
      ]
    },
    {
      "execution_count": 3,
      "cell_type": "code",
      "metadata": {},
      "source": [
        "# Prep data\n#\n# cast year to integer and create a revenue date column using month and year\n#\n\ndf[\u0027CUSTOMER_ID\u0027] \u003d df[\u0027CUSTOMER_ID\u0027].astype(\u0027Int64\u0027)\ndf[\u0027SETUP_DATE_DT\u0027] \u003d pd.to_datetime(df[\u0027SETUP_DATE\u0027])\ndf[\u0027SETUP_YEAR\u0027] \u003d df.SETUP_DATE_DT.dt.year\n\ndf[\u0027REVENUE_YEAR\u0027] \u003d df[\u0027REVENUE_YEAR\u0027].astype(\u0027Int64\u0027)\ndf[\u0027REVENUE_DATE\u0027] \u003d df[\u0027REVENUE_MONTH\u0027].astype(str) + \u0027-\u0027 + df[\u0027REVENUE_YEAR\u0027].astype(str)\ndf[\u0027REVENUE_DATE\u0027] \u003d pd.to_datetime(df[\u0027REVENUE_DATE\u0027], format\u003d\u0027%m-%Y\u0027).dt.strftime(\u0027%m-%Y\u0027)\n\n#\n# filter out Jan 2023 as it represents only a partial year\n#\n\nprint(len(df), \"before filter\")\ndf \u003d df[df.REVENUE_YEAR!\u003d2023]\nprint(len(df), \"after filter, removing 2023\")\n\n# break down of revenue_year\ndf.REVENUE_YEAR.value_counts()"
      ],
      "outputs": [
        {
          "output_type": "stream",
          "text": "18075044 before filter\n17673397 after filter, removing 2023\n",
          "name": "stdout"
        },
        {
          "output_type": "execute_result",
          "execution_count": 3,
          "data": {
            "text/plain": "2022    4836440\n2021    4517640\n2020    4243565\n2019    4075752\nName: REVENUE_YEAR, dtype: Int64"
          },
          "metadata": {}
        }
      ]
    },
    {
      "execution_count": 7,
      "cell_type": "code",
      "metadata": {},
      "source": [
        "import matplotlib.dates as mdates\nfrom matplotlib.ticker import FuncFormatter\nimport matplotlib.pyplot as plt\n\n# plot out sum of revenue per year\n# in order to do a quick reonciliation against \n\n# aggregate revenue at annual grain\ndf_revenue_per_year \u003d df.groupby([\u0027REVENUE_YEAR\u0027]).REVENUE_AMOUNT_USD.sum().reset_index()\ndf_revenue_per_year.REVENUE_AMOUNT_USD \u003d df_revenue_per_year.REVENUE_AMOUNT_USD\ndf_revenue_per_year.head()\n\nmax_revenue \u003d df_revenue_per_year.REVENUE_AMOUNT_USD.max()\n\nchart_revenue_year \u003d [] \nfor y in df_revenue_per_year.REVENUE_YEAR.tolist():\n    chart_revenue_year.append(str(y))\n    \nfig, ax1 \u003d plt.subplots(figsize\u003d(8,3))\nax1.plot(chart_revenue_year,df_revenue_per_year[\u0027REVENUE_AMOUNT_USD\u0027], marker\u003d\u0027o\u0027)\nax1.set_xlabel(\u0027YEAR\u0027, fontsize\u003d14)\nax1.set_ylabel(\u0027REVENUE (M)\u0027, fontsize\u003d14)\nax1.yaxis.set_major_formatter(FuncFormatter(lambda x, p: format(int(x), \u0027,\u0027)))\nax1.grid()\nax1.set_ylim(ymin\u003d0, ymax\u003dmax_revenue*1.15)\nax1.yaxis.set_major_formatter(FuncFormatter(lambda x, p: format(int(x), \u0027,\u0027)))\nfig.autofmt_xdate()\nplt.show()\n\ndf_revenue_per_year.head()"
      ],
      "outputs": [
        {
          "output_type": "display_data",
          "data": {
            "text/plain": "\u003cFigure size 576x216 with 1 Axes\u003e",
            "image/png": "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\u003d\u003d\n"
          },
          "metadata": {}
        },
        {
          "output_type": "execute_result",
          "execution_count": 7,
          "data": {
            "text/plain": "   REVENUE_YEAR  REVENUE_AMOUNT_USD\n0          2019        6.118864e+08\n1          2020        5.089365e+08\n2          2021        6.331536e+08\n3          2022        8.832951e+08",
            "text/html": "\u003cdiv\u003e\n\u003cstyle scoped\u003e\n    .dataframe tbody tr th:only-of-type {\n        vertical-align: middle;\n    }\n\n    .dataframe tbody tr th {\n        vertical-align: top;\n    }\n\n    .dataframe thead th {\n        text-align: right;\n    }\n\u003c/style\u003e\n\u003ctable border\u003d\"1\" class\u003d\"dataframe\"\u003e\n  \u003cthead\u003e\n    \u003ctr style\u003d\"text-align: right;\"\u003e\n      \u003cth\u003e\u003c/th\u003e\n      \u003cth\u003eREVENUE_YEAR\u003c/th\u003e\n      \u003cth\u003eREVENUE_AMOUNT_USD\u003c/th\u003e\n    \u003c/tr\u003e\n  \u003c/thead\u003e\n  \u003ctbody\u003e\n    \u003ctr\u003e\n      \u003cth\u003e0\u003c/th\u003e\n      \u003ctd\u003e2019\u003c/td\u003e\n      \u003ctd\u003e6.118864e+08\u003c/td\u003e\n    \u003c/tr\u003e\n    \u003ctr\u003e\n      \u003cth\u003e1\u003c/th\u003e\n      \u003ctd\u003e2020\u003c/td\u003e\n      \u003ctd\u003e5.089365e+08\u003c/td\u003e\n    \u003c/tr\u003e\n    \u003ctr\u003e\n      \u003cth\u003e2\u003c/th\u003e\n      \u003ctd\u003e2021\u003c/td\u003e\n      \u003ctd\u003e6.331536e+08\u003c/td\u003e\n    \u003c/tr\u003e\n    \u003ctr\u003e\n      \u003cth\u003e3\u003c/th\u003e\n      \u003ctd\u003e2022\u003c/td\u003e\n      \u003ctd\u003e8.832951e+08\u003c/td\u003e\n    \u003c/tr\u003e\n  \u003c/tbody\u003e\n\u003c/table\u003e\n\u003c/div\u003e"
          },
          "metadata": {}
        }
      ]
    },
    {
      "execution_count": 8,
      "cell_type": "code",
      "metadata": {},
      "source": [
        "df_revenue_by_customer_and_year \u003d df.groupby([\u0027CUSTOMER_ID\u0027,\u0027CUSTOMER\u0027,\u0027REVENUE_YEAR\u0027]).REVENUE_AMOUNT_USD.sum().reset_index()\nprint(len(df_revenue_by_customer_and_year))\n\ndf_spend_by_customer_and_year \u003d df.groupby([\u0027CUSTOMER_ID\u0027,\u0027CUSTOMER\u0027,\u0027REVENUE_YEAR\u0027]).GROSS_SPEND_AMOUNT.sum().reset_index()\nprint(len(df_spend_by_customer_and_year))\n\ndf_active_card_count_by_customer \u003d df_a.groupby([\u0027CUSTOMER_ID\u0027,\u0027CUSTOMER\u0027,\u0027YEAR_NUMBER\u0027]).ACTIVE_CARD_COUNT.sum().reset_index()\ndf_active_card_count_by_customer.columns \u003d [\u0027CUSTOMER_ID\u0027,\u0027CUSTOMER\u0027,\u0027REVENUE_YEAR\u0027,\u0027ACTIVE_CARD_COUNT\u0027]\nprint(len(df_active_card_count_by_customer))\n\ndf_customer_fleet_size \u003d df_active_card_count_by_customer.groupby([\u0027CUSTOMER_ID\u0027,\u0027CUSTOMER\u0027]).ACTIVE_CARD_COUNT.max().reset_index()\ndf_customer_fleet_size.columns \u003d [\u0027CUSTOMER_ID\u0027, \u0027CUSTOMER\u0027, \u0027FLEET_SIZE\u0027]\nprint(len(df_customer_fleet_size))"
      ],
      "outputs": [
        {
          "output_type": "stream",
          "text": "1777729\n1777729\n1771976\n649448\n",
          "name": "stdout"
        }
      ]
    },
    {
      "execution_count": 9,
      "cell_type": "code",
      "metadata": {},
      "source": [
        "print(len(df_revenue_by_customer_and_year))\ndf_j \u003d pd.merge(df_revenue_by_customer_and_year,df_spend_by_customer_and_year,how\u003d\u0027left\u0027,on\u003d[\u0027CUSTOMER_ID\u0027,\u0027CUSTOMER\u0027,\u0027REVENUE_YEAR\u0027])\nprint(len(df_j))\n\ndf_j \u003d pd.merge(df_j,df_active_card_count_by_customer,how\u003d\u0027left\u0027,on\u003d[\u0027CUSTOMER_ID\u0027,\u0027CUSTOMER\u0027,\u0027REVENUE_YEAR\u0027])\nprint(len(df_j))\n\ndf_j \u003d pd.merge(df_j,df_customer_fleet_size, how\u003d\u0027left\u0027,on\u003d[\u0027CUSTOMER_ID\u0027,\u0027CUSTOMER\u0027])\nprint(len(df_j))"
      ],
      "outputs": [
        {
          "output_type": "stream",
          "text": "1777729\n1777729\n1777729\n1777729\n",
          "name": "stdout"
        }
      ]
    },
    {
      "execution_count": 11,
      "cell_type": "code",
      "metadata": {},
      "source": [
        "df_j.FLEET_SIZE.value_counts()"
      ],
      "outputs": [
        {
          "output_type": "execute_result",
          "execution_count": 11,
          "data": {
            "text/plain": "3.0        235344\n2.0        212238\n4.0        184524\n5.0        141685\n6.0        113805\n            ...  \n615.0           1\n13151.0         1\n627.0           1\n3233.0          1\n1115.0          1\nName: FLEET_SIZE, Length: 1707, dtype: int64"
          },
          "metadata": {}
        }
      ]
    },
    {
      "execution_count": 0,
      "cell_type": "code",
      "metadata": {},
      "source": [
        "# Compute recipe outputs\n# TODO: Write here your actual code that computes the outputs\n# NB: DSS supports several kinds of APIs for reading and writing data. Please see doc.\n\n#TENURE_df \u003d ... # Compute a Pandas dataframe to write into TENURE\n\n\n# Write recipe outputs\n#TENURE \u003d dataiku.Dataset(\"TENURE\")\n#TENURE.write_with_schema(TENURE_df)"
      ],
      "outputs": []
    }
  ]
}