{
  "metadata": {
    "kernelspec": {
      "name": "py-dku-containerized-venv-env_clc-cpu-m-cpu-3-mem-4gb",
      "display_name": "Python in cpu-m-cpu-3-mem-4Gb (env env_clc)",
      "language": "python"
    },
    "associatedRecipe": "compute_CALCULATED_CARD_DRAW_UPS_FULL",
    "dkuGit": {
      "lastInteraction": 0
    },
    "creationTag": {
      "versionNumber": 0,
      "lastModifiedBy": {
        "login": "Daniel.Vandermeer"
      },
      "lastModifiedOn": 1665926385177
    },
    "creator": "Daniel.Vandermeer",
    "createdOn": 1665926385177,
    "tags": [
      "recipe-editor"
    ],
    "customFields": {},
    "hide_input": false,
    "language_info": {
      "name": "python",
      "version": "3.6.8",
      "mimetype": "text/x-python",
      "codemirror_mode": {
        "name": "ipython",
        "version": 3
      },
      "pygments_lexer": "ipython3",
      "nbconvert_exporter": "python",
      "file_extension": ".py"
    },
    "modifiedBy": "Daniel.Vandermeer"
  },
  "nbformat": 4,
  "nbformat_minor": 1,
  "cells": [
    {
      "execution_count": 1,
      "cell_type": "code",
      "metadata": {},
      "source": [
        "# -*- coding: utf-8 -*-\nimport dataiku\nimport pandas as pd, numpy as np\nfrom dataiku import pandasutils as pdu\n\nimport pickle\nfrom dateutil.relativedelta import relativedelta\nimport gc\nfrom re import finditer\n\n## Find DD DU\nfrom helper import preprocess_data\nfrom patterns import find_drawdowns, find_drawups\n\n## MATCHING\nimport name_matching\nfrom name_matching import name_match\nimport transaction_matching\nfrom transaction_matching import transaction_match\n\n## CONSOLIDATION\nfrom consolidation import combine_matches, consolidate_matches, find_attritions, find_new_accounts, get_attrition_status, get_new_account_status"
      ],
      "outputs": []
    },
    {
      "execution_count": 2,
      "cell_type": "code",
      "metadata": {},
      "source": [
        "start_date \u003d dataiku.get_custom_variables()[\u0027start_date\u0027]\nend_date \u003d dataiku.get_custom_variables()[\u0027end_date\u0027]\n\nconsistency \u003d int(dataiku.get_custom_variables()[\u0027consistency\u0027])\ndrawdown_period_average \u003d int(dataiku.get_custom_variables()[\u0027drawdown_period_average\u0027])\ndrawdown \u003d int(dataiku.get_custom_variables()[\u0027drawdown\u0027])\ndrawdown_fwd_check \u003d int(dataiku.get_custom_variables()[\u0027drawdown_fwd_check\u0027])\ndrawdown_lookback_period \u003d int(dataiku.get_custom_variables()[\u0027drawdown_lookback_period\u0027])\ndrawup_lookfwd_period \u003d int(dataiku.get_custom_variables()[\u0027drawup_lookfwd_period\u0027])\nstatistics_period \u003d int(dataiku.get_custom_variables()[\u0027statistics_period\u0027])\ninactive_period \u003d int(dataiku.get_custom_variables()[\u0027inactive_period\u0027])\n\n## MATCHING VARIABLES\nmonth_diff_h \u003d int(dataiku.get_custom_variables()[\u0027month_diff_h\u0027])\nmonth_diff_l \u003d int(dataiku.get_custom_variables()[\u0027month_diff_l\u0027])\nsd_mul \u003d int(dataiku.get_custom_variables()[\u0027sd_mul\u0027])\nmax_city_distance \u003d int(dataiku.get_custom_variables()[\u0027max_city_distance\u0027])\nthreshold_score_step1 \u003d int(dataiku.get_custom_variables()[\u0027threshold_score_step1\u0027])\nthreshold_score_step2 \u003d int(dataiku.get_custom_variables()[\u0027threshold_score_step2\u0027])\n\n## RUN TYPE\nrun \u003d dataiku.get_custom_variables()[\u0027run_type\u0027]"
      ],
      "outputs": []
    },
    {
      "execution_count": 3,
      "cell_type": "code",
      "metadata": {},
      "source": [
        "# Read recipe inputs\nNAFCUSTOMER_ACTIVE_CARDS_FULL \u003d dataiku.Dataset(\"NAFCUSTOMER_ACTIVE_CARDS_FULL\")\nNAFCUSTOMER_ACTIVE_CARDS_FULL_df \u003d NAFCUSTOMER_ACTIVE_CARDS_FULL.get_dataframe()\n\nprint(len(NAFCUSTOMER_ACTIVE_CARDS_FULL_df))\nprint(len(NAFCUSTOMER_ACTIVE_CARDS_FULL_df.CUSTOMER.unique()))\nNAFCUSTOMER_ACTIVE_CARDS_FULL_df.head()"
      ],
      "outputs": [
        {
          "output_type": "stream",
          "text": "16505348\n624069\n",
          "name": "stdout"
        },
        {
          "output_type": "execute_result",
          "execution_count": 3,
          "data": {
            "text/plain": "                            CUSTOMER  REVENUE_YEAR  REVENUE_MONTH  ACTIVE_CARD_COUNT\n0                 HYUNTEC INDUSTRIES          2019              1                1.0\n1              TCK SERVICE GROUP INC          2019              1               12.0\n2           RAPTOR MINING PRODUCTS L          2019              1                3.0\n3                MARUE AND GERTZ LTD          2019              1                1.0\n4  CALIBER CONSTRUCTION SERVICES INC          2019              1                2.0",
            "text/html": "\u003cdiv\u003e\n\u003cstyle scoped\u003e\n    .dataframe tbody tr th:only-of-type {\n        vertical-align: middle;\n    }\n\n    .dataframe tbody tr th {\n        vertical-align: top;\n    }\n\n    .dataframe thead th {\n        text-align: right;\n    }\n\u003c/style\u003e\n\u003ctable border\u003d\"1\" class\u003d\"dataframe\"\u003e\n  \u003cthead\u003e\n    \u003ctr style\u003d\"text-align: right;\"\u003e\n      \u003cth\u003e\u003c/th\u003e\n      \u003cth\u003eCUSTOMER\u003c/th\u003e\n      \u003cth\u003eREVENUE_YEAR\u003c/th\u003e\n      \u003cth\u003eREVENUE_MONTH\u003c/th\u003e\n      \u003cth\u003eACTIVE_CARD_COUNT\u003c/th\u003e\n    \u003c/tr\u003e\n  \u003c/thead\u003e\n  \u003ctbody\u003e\n    \u003ctr\u003e\n      \u003cth\u003e0\u003c/th\u003e\n      \u003ctd\u003eHYUNTEC INDUSTRIES\u003c/td\u003e\n      \u003ctd\u003e2019\u003c/td\u003e\n      \u003ctd\u003e1\u003c/td\u003e\n      \u003ctd\u003e1.0\u003c/td\u003e\n    \u003c/tr\u003e\n    \u003ctr\u003e\n      \u003cth\u003e1\u003c/th\u003e\n      \u003ctd\u003eTCK SERVICE GROUP INC\u003c/td\u003e\n      \u003ctd\u003e2019\u003c/td\u003e\n      \u003ctd\u003e1\u003c/td\u003e\n      \u003ctd\u003e12.0\u003c/td\u003e\n    \u003c/tr\u003e\n    \u003ctr\u003e\n      \u003cth\u003e2\u003c/th\u003e\n      \u003ctd\u003eRAPTOR MINING PRODUCTS L\u003c/td\u003e\n      \u003ctd\u003e2019\u003c/td\u003e\n      \u003ctd\u003e1\u003c/td\u003e\n      \u003ctd\u003e3.0\u003c/td\u003e\n    \u003c/tr\u003e\n    \u003ctr\u003e\n      \u003cth\u003e3\u003c/th\u003e\n      \u003ctd\u003eMARUE AND GERTZ LTD\u003c/td\u003e\n      \u003ctd\u003e2019\u003c/td\u003e\n      \u003ctd\u003e1\u003c/td\u003e\n      \u003ctd\u003e1.0\u003c/td\u003e\n    \u003c/tr\u003e\n    \u003ctr\u003e\n      \u003cth\u003e4\u003c/th\u003e\n      \u003ctd\u003eCALIBER CONSTRUCTION SERVICES INC\u003c/td\u003e\n      \u003ctd\u003e2019\u003c/td\u003e\n      \u003ctd\u003e1\u003c/td\u003e\n      \u003ctd\u003e2.0\u003c/td\u003e\n    \u003c/tr\u003e\n  \u003c/tbody\u003e\n\u003c/table\u003e\n\u003c/div\u003e"
          },
          "metadata": {}
        }
      ]
    },
    {
      "execution_count": 4,
      "cell_type": "code",
      "metadata": {},
      "source": [
        "df_v \u003d NAFCUSTOMER_ACTIVE_CARDS_FULL_df\nprint(len(df_v))"
      ],
      "outputs": [
        {
          "output_type": "stream",
          "text": "16505348\n",
          "name": "stdout"
        }
      ]
    },
    {
      "execution_count": 5,
      "cell_type": "code",
      "metadata": {},
      "source": [
        "def date_tz_naive(pd_s):\n    return pd.to_datetime(pd_s).apply(lambda x:x.tz_localize(None))"
      ],
      "outputs": []
    },
    {
      "execution_count": 6,
      "cell_type": "code",
      "metadata": {},
      "source": [
        "print(len(df_v))\ndf_v[\u0027REVENUE_DATE\u0027] \u003d df_v.REVENUE_MONTH.astype(str) + \"/01/\" + df_v.REVENUE_YEAR.astype(str)\ndf_v[\u0027REVENUE_DATE\u0027] \u003d date_tz_naive(df_v[\u0027REVENUE_DATE\u0027])\nprint(len(df_v))"
      ],
      "outputs": [
        {
          "output_type": "stream",
          "text": "16505348\n16505348\n",
          "name": "stdout"
        }
      ]
    },
    {
      "execution_count": 7,
      "cell_type": "code",
      "metadata": {},
      "source": [
        "print(len(df_v))\ndf_v \u003d df_v[df_v[\u0027REVENUE_DATE\u0027].between(pd.to_datetime(start_date), pd.to_datetime(end_date))].copy()\ndf_v \u003d df_v.dropna(subset\u003d[\u0027CUSTOMER\u0027])\nprint(len(df_v))"
      ],
      "outputs": [
        {
          "output_type": "stream",
          "text": "16505348\n16113742\n",
          "name": "stdout"
        }
      ]
    },
    {
      "execution_count": 8,
      "cell_type": "code",
      "metadata": {},
      "source": [
        "df_v[\u0027REVENUE_DATE\u0027] \u003d pd.to_datetime(df_v[\u0027REVENUE_DATE\u0027])\n\ndf_v \u003d df_v[[\u0027CUSTOMER\u0027,\u0027REVENUE_DATE\u0027, \u0027ACTIVE_CARD_COUNT\u0027]]\n\ndf_v_max \u003d df_v[[\u0027CUSTOMER\u0027,\u0027ACTIVE_CARD_COUNT\u0027]]\ndf_max \u003d df_v_max.groupby(by\u003d[\"CUSTOMER\"]).max().reset_index()\ndf_max.columns \u003d [\u0027CUSTOMER\u0027, \u0027ACTIVE_CARD_MAX\u0027]"
      ],
      "outputs": []
    },
    {
      "execution_count": 9,
      "cell_type": "code",
      "metadata": {},
      "source": [
        "import pandas as pd\nimport numpy as np\nfrom tqdm import tqdm\nfrom dateutil.relativedelta import relativedelta\nfrom helper import *\n\ndef split_list(lst, n):\n    \u0027\u0027\u0027\n    Splits a list into almost equal n parts\n    \u0027\u0027\u0027\n    k, m \u003d divmod(len(lst), n)\n    return [lst[i*k+min(i, m):(i+1)*k+min(i+1, m)] for i in range(n)]"
      ],
      "outputs": []
    },
    {
      "execution_count": 10,
      "cell_type": "code",
      "metadata": {},
      "source": [
        "match_type \u003d \"program_flip\"\nperiod_start_date \u003d start_date\nperiod_end_date \u003d None\ndrawup_window \u003d drawup_lookfwd_period\nstatistics_period \u003d statistics_period\nsplit \u003d None"
      ],
      "outputs": []
    },
    {
      "execution_count": 11,
      "cell_type": "code",
      "metadata": {},
      "source": [
        "period_start_date \u003d pd.to_datetime(period_start_date)\ndf_v \u003d df_v[df_v[\u0027REVENUE_DATE\u0027] \u003e\u003d period_start_date].copy()\n\nif period_end_date:\n    period_end_date \u003d pd.to_datetime(period_end_date)\n    df_v \u003d df_v[df_v[\u0027revenue_date\u0027] \u003c\u003d period_end_date].copy()\n\nall_account_ids \u003d list(df_v[\u0027CUSTOMER\u0027].unique())\n\nif not split:\n    split\u003d1\n\nall_account_ids_n \u003d list(split_list(all_account_ids, split))\n\nrise_df \u003d pd.DataFrame()\n\nfor sublist in tqdm(all_account_ids_n):\n\n    du_find \u003d df_v[df_v[\u0027CUSTOMER\u0027].isin(sublist)].copy()\n\n    ## Filter Non-Zero Records and find the first non zero transaction date\n    du_find \u003d du_find[du_find[\u0027ACTIVE_CARD_COUNT\u0027] \u003e 0]\n\n    du_find.sort_values([\u0027REVENUE_DATE\u0027], inplace\u003dTrue)\n\n    du_agg \u003d du_find.groupby([\u0027CUSTOMER\u0027], as_index\u003dFalse)[[\u0027REVENUE_DATE\u0027]].min()\n\n    du_agg[\u0027DU_INDICATOR\u0027] \u003d np.where((du_agg[\u0027REVENUE_DATE\u0027] \u003e period_start_date), True, False)\n    du_agg.rename(columns\u003d{\u0027REVENUE_DATE\u0027:\u0027DU_DATE\u0027}, inplace\u003dTrue)\n    du_agg[\u0027DU_DATE\u0027] -\u003d pd.DateOffset(months\u003d1)\n    du_agg \u003d du_agg[du_agg[\u0027DU_INDICATOR\u0027] \u003d\u003d True].drop_duplicates([\u0027CUSTOMER\u0027])\n\n    ## list of customers who are drawing up\n    du_customers \u003d list(du_agg[\u0027CUSTOMER\u0027])\n\n    if len(du_customers) \u003d\u003d 0:\n        continue\n\n    du_find \u003d du_find[du_find[\u0027CUSTOMER\u0027].isin(du_customers)].copy()\n\n    du_find \u003d du_find.groupby(\u0027CUSTOMER\u0027).apply(lambda group: group.iloc[:-1, 1:]).reset_index()\n    du_find.drop(\u0027level_1\u0027, axis\u003d1, inplace\u003dTrue)\n\n    du_find \u003d du_find.merge(du_agg, left_on\u003d[\u0027CUSTOMER\u0027], right_on\u003d[\u0027CUSTOMER\u0027])\n\n    du_find[\u0027DU_AVG_START\u0027] \u003d du_find[\u0027DU_DATE\u0027]  + pd.DateOffset(months\u003ddrawup_window)\n    du_find[\u0027DU_AVG_END\u0027] \u003d du_find[\u0027DU_DATE\u0027]  + pd.DateOffset(months\u003ddrawup_window+statistics_period-1)\n\n    du_find_12 \u003d du_find[du_find[\u0027REVENUE_DATE\u0027].between(du_find[\u0027DU_AVG_START\u0027], du_find[\u0027DU_AVG_END\u0027])].copy()\n\n    du_stat \u003d du_find_12.groupby([\u0027CUSTOMER\u0027], as_index\u003dFalse).agg({\u0027ACTIVE_CARD_COUNT\u0027:[\u0027mean\u0027,\u0027std\u0027]})\n\n    du_stat.columns \u003d [\u0027CUSTOMER\u0027, \u0027mean_du\u0027,\u0027std_du\u0027]\n\n    rise_df_ \u003d du_agg.merge(du_stat, left_on\u003d\u0027CUSTOMER\u0027, right_on\u003d\u0027CUSTOMER\u0027, how\u003d\u0027left\u0027)\n\n    rise_df \u003d pd.concat([rise_df, rise_df_], ignore_index\u003dTrue)\n\nrise_df.rename(columns\u003d{\u0027DU_DATE\u0027:\u0027DRAW_UP_DATE\u0027,\n                        \u0027mean_du\u0027:\u0027MEAN_DU\u0027,\n                       \u0027std_du\u0027:\u0027STD_DU\u0027}, inplace\u003dTrue)\n\nrise_df \u003d rise_df[[\u0027CUSTOMER\u0027,\u0027DRAW_UP_DATE\u0027,\u0027MEAN_DU\u0027,\u0027STD_DU\u0027]]\nrise_df.head()"
      ],
      "outputs": [
        {
          "output_type": "stream",
          "text": "100%|██████████| 1/1 [05:23\u003c00:00, 323.18s/it]\n",
          "name": "stderr"
        },
        {
          "output_type": "execute_result",
          "execution_count": 11,
          "data": {
            "text/plain": "                        CUSTOMER DRAW_UP_DATE   MEAN_DU    STD_DU\n0               AIR CONDITION CO   2021-06-01  1.909091  0.301511\n1                           1109   2021-04-01  1.000000  0.000000\n2          3D FASTENERS PLUS INC   2019-12-01  3.000000  0.000000\n3   94775 J AND J SNACK FOODS AA   2022-04-01  1.000000       NaN\n4          APOSTROPHE DESIGN INC   2019-02-01  2.750000  0.452267",
            "text/html": "\u003cdiv\u003e\n\u003cstyle scoped\u003e\n    .dataframe tbody tr th:only-of-type {\n        vertical-align: middle;\n    }\n\n    .dataframe tbody tr th {\n        vertical-align: top;\n    }\n\n    .dataframe thead th {\n        text-align: right;\n    }\n\u003c/style\u003e\n\u003ctable border\u003d\"1\" class\u003d\"dataframe\"\u003e\n  \u003cthead\u003e\n    \u003ctr style\u003d\"text-align: right;\"\u003e\n      \u003cth\u003e\u003c/th\u003e\n      \u003cth\u003eCUSTOMER\u003c/th\u003e\n      \u003cth\u003eDRAW_UP_DATE\u003c/th\u003e\n      \u003cth\u003eMEAN_DU\u003c/th\u003e\n      \u003cth\u003eSTD_DU\u003c/th\u003e\n    \u003c/tr\u003e\n  \u003c/thead\u003e\n  \u003ctbody\u003e\n    \u003ctr\u003e\n      \u003cth\u003e0\u003c/th\u003e\n      \u003ctd\u003eAIR CONDITION CO\u003c/td\u003e\n      \u003ctd\u003e2021-06-01\u003c/td\u003e\n      \u003ctd\u003e1.909091\u003c/td\u003e\n      \u003ctd\u003e0.301511\u003c/td\u003e\n    \u003c/tr\u003e\n    \u003ctr\u003e\n      \u003cth\u003e1\u003c/th\u003e\n      \u003ctd\u003e1109\u003c/td\u003e\n      \u003ctd\u003e2021-04-01\u003c/td\u003e\n      \u003ctd\u003e1.000000\u003c/td\u003e\n      \u003ctd\u003e0.000000\u003c/td\u003e\n    \u003c/tr\u003e\n    \u003ctr\u003e\n      \u003cth\u003e2\u003c/th\u003e\n      \u003ctd\u003e3D FASTENERS PLUS INC\u003c/td\u003e\n      \u003ctd\u003e2019-12-01\u003c/td\u003e\n      \u003ctd\u003e3.000000\u003c/td\u003e\n      \u003ctd\u003e0.000000\u003c/td\u003e\n    \u003c/tr\u003e\n    \u003ctr\u003e\n      \u003cth\u003e3\u003c/th\u003e\n      \u003ctd\u003e94775 J AND J SNACK FOODS AA\u003c/td\u003e\n      \u003ctd\u003e2022-04-01\u003c/td\u003e\n      \u003ctd\u003e1.000000\u003c/td\u003e\n      \u003ctd\u003eNaN\u003c/td\u003e\n    \u003c/tr\u003e\n    \u003ctr\u003e\n      \u003cth\u003e4\u003c/th\u003e\n      \u003ctd\u003eAPOSTROPHE DESIGN INC\u003c/td\u003e\n      \u003ctd\u003e2019-02-01\u003c/td\u003e\n      \u003ctd\u003e2.750000\u003c/td\u003e\n      \u003ctd\u003e0.452267\u003c/td\u003e\n    \u003c/tr\u003e\n  \u003c/tbody\u003e\n\u003c/table\u003e\n\u003c/div\u003e"
          },
          "metadata": {}
        }
      ]
    },
    {
      "execution_count": 12,
      "cell_type": "code",
      "metadata": {},
      "source": [
        "print(len(rise_df))\nrise_df \u003d pd.merge(rise_df, df_max, how\u003d\u0027left\u0027, on\u003d\u0027CUSTOMER\u0027)\nprint(len(rise_df))\nrise_df"
      ],
      "outputs": [
        {
          "output_type": "stream",
          "text": "324214\n324214\n",
          "name": "stdout"
        },
        {
          "output_type": "execute_result",
          "execution_count": 12,
          "data": {
            "text/plain": "                                                 CUSTOMER DRAW_UP_DATE   MEAN_DU    STD_DU  ACTIVE_CARD_MAX\n0                                        AIR CONDITION CO   2021-06-01  1.909091  0.301511              3.0\n1                                                    1109   2021-04-01  1.000000  0.000000              1.0\n2                                   3D FASTENERS PLUS INC   2019-12-01  3.000000  0.000000             17.0\n3                            94775 J AND J SNACK FOODS AA   2022-04-01  1.000000       NaN              1.0\n4                                   APOSTROPHE DESIGN INC   2019-02-01  2.750000  0.452267              4.0\n...                                                   ...          ...       ...       ...              ...\n324209                                �QUIPEMENTS VLR INC   2020-01-01  1.000000       NaN              2.0\n324210                               �RABLI�RE CARTER INC   2019-11-01  1.666667  0.887625              4.0\n324211                                    �RIVANG�COM INC   2020-01-01  5.333333  0.778499              6.0\n324212                                 �TIQUETTE TOUT INC   2022-07-01       NaN       NaN              2.0\n324213  �TUDE JACQUES BLANCHARD ARPENTEURS G�OM�TRES L...   2020-04-01  5.583333  0.668558              6.0\n\n[324214 rows x 5 columns]",
            "text/html": "\u003cdiv\u003e\n\u003cstyle scoped\u003e\n    .dataframe tbody tr th:only-of-type {\n        vertical-align: middle;\n    }\n\n    .dataframe tbody tr th {\n        vertical-align: top;\n    }\n\n    .dataframe thead th {\n        text-align: right;\n    }\n\u003c/style\u003e\n\u003ctable border\u003d\"1\" class\u003d\"dataframe\"\u003e\n  \u003cthead\u003e\n    \u003ctr style\u003d\"text-align: right;\"\u003e\n      \u003cth\u003e\u003c/th\u003e\n      \u003cth\u003eCUSTOMER\u003c/th\u003e\n      \u003cth\u003eDRAW_UP_DATE\u003c/th\u003e\n      \u003cth\u003eMEAN_DU\u003c/th\u003e\n      \u003cth\u003eSTD_DU\u003c/th\u003e\n      \u003cth\u003eACTIVE_CARD_MAX\u003c/th\u003e\n    \u003c/tr\u003e\n  \u003c/thead\u003e\n  \u003ctbody\u003e\n    \u003ctr\u003e\n      \u003cth\u003e0\u003c/th\u003e\n      \u003ctd\u003eAIR CONDITION CO\u003c/td\u003e\n      \u003ctd\u003e2021-06-01\u003c/td\u003e\n      \u003ctd\u003e1.909091\u003c/td\u003e\n      \u003ctd\u003e0.301511\u003c/td\u003e\n      \u003ctd\u003e3.0\u003c/td\u003e\n    \u003c/tr\u003e\n    \u003ctr\u003e\n      \u003cth\u003e1\u003c/th\u003e\n      \u003ctd\u003e1109\u003c/td\u003e\n      \u003ctd\u003e2021-04-01\u003c/td\u003e\n      \u003ctd\u003e1.000000\u003c/td\u003e\n      \u003ctd\u003e0.000000\u003c/td\u003e\n      \u003ctd\u003e1.0\u003c/td\u003e\n    \u003c/tr\u003e\n    \u003ctr\u003e\n      \u003cth\u003e2\u003c/th\u003e\n      \u003ctd\u003e3D FASTENERS PLUS INC\u003c/td\u003e\n      \u003ctd\u003e2019-12-01\u003c/td\u003e\n      \u003ctd\u003e3.000000\u003c/td\u003e\n      \u003ctd\u003e0.000000\u003c/td\u003e\n      \u003ctd\u003e17.0\u003c/td\u003e\n    \u003c/tr\u003e\n    \u003ctr\u003e\n      \u003cth\u003e3\u003c/th\u003e\n      \u003ctd\u003e94775 J AND J SNACK FOODS AA\u003c/td\u003e\n      \u003ctd\u003e2022-04-01\u003c/td\u003e\n      \u003ctd\u003e1.000000\u003c/td\u003e\n      \u003ctd\u003eNaN\u003c/td\u003e\n      \u003ctd\u003e1.0\u003c/td\u003e\n    \u003c/tr\u003e\n    \u003ctr\u003e\n      \u003cth\u003e4\u003c/th\u003e\n      \u003ctd\u003eAPOSTROPHE DESIGN INC\u003c/td\u003e\n      \u003ctd\u003e2019-02-01\u003c/td\u003e\n      \u003ctd\u003e2.750000\u003c/td\u003e\n      \u003ctd\u003e0.452267\u003c/td\u003e\n      \u003ctd\u003e4.0\u003c/td\u003e\n    \u003c/tr\u003e\n    \u003ctr\u003e\n      \u003cth\u003e...\u003c/th\u003e\n      \u003ctd\u003e...\u003c/td\u003e\n      \u003ctd\u003e...\u003c/td\u003e\n      \u003ctd\u003e...\u003c/td\u003e\n      \u003ctd\u003e...\u003c/td\u003e\n      \u003ctd\u003e...\u003c/td\u003e\n    \u003c/tr\u003e\n    \u003ctr\u003e\n      \u003cth\u003e324209\u003c/th\u003e\n      \u003ctd\u003e�QUIPEMENTS VLR INC\u003c/td\u003e\n      \u003ctd\u003e2020-01-01\u003c/td\u003e\n      \u003ctd\u003e1.000000\u003c/td\u003e\n      \u003ctd\u003eNaN\u003c/td\u003e\n      \u003ctd\u003e2.0\u003c/td\u003e\n    \u003c/tr\u003e\n    \u003ctr\u003e\n      \u003cth\u003e324210\u003c/th\u003e\n      \u003ctd\u003e�RABLI�RE CARTER INC\u003c/td\u003e\n      \u003ctd\u003e2019-11-01\u003c/td\u003e\n      \u003ctd\u003e1.666667\u003c/td\u003e\n      \u003ctd\u003e0.887625\u003c/td\u003e\n      \u003ctd\u003e4.0\u003c/td\u003e\n    \u003c/tr\u003e\n    \u003ctr\u003e\n      \u003cth\u003e324211\u003c/th\u003e\n      \u003ctd\u003e�RIVANG�COM INC\u003c/td\u003e\n      \u003ctd\u003e2020-01-01\u003c/td\u003e\n      \u003ctd\u003e5.333333\u003c/td\u003e\n      \u003ctd\u003e0.778499\u003c/td\u003e\n      \u003ctd\u003e6.0\u003c/td\u003e\n    \u003c/tr\u003e\n    \u003ctr\u003e\n      \u003cth\u003e324212\u003c/th\u003e\n      \u003ctd\u003e�TIQUETTE TOUT INC\u003c/td\u003e\n      \u003ctd\u003e2022-07-01\u003c/td\u003e\n      \u003ctd\u003eNaN\u003c/td\u003e\n      \u003ctd\u003eNaN\u003c/td\u003e\n      \u003ctd\u003e2.0\u003c/td\u003e\n    \u003c/tr\u003e\n    \u003ctr\u003e\n      \u003cth\u003e324213\u003c/th\u003e\n      \u003ctd\u003e�TUDE JACQUES BLANCHARD ARPENTEURS G�OM�TRES L...\u003c/td\u003e\n      \u003ctd\u003e2020-04-01\u003c/td\u003e\n      \u003ctd\u003e5.583333\u003c/td\u003e\n      \u003ctd\u003e0.668558\u003c/td\u003e\n      \u003ctd\u003e6.0\u003c/td\u003e\n    \u003c/tr\u003e\n  \u003c/tbody\u003e\n\u003c/table\u003e\n\u003cp\u003e324214 rows × 5 columns\u003c/p\u003e\n\u003c/div\u003e"
          },
          "metadata": {}
        }
      ]
    },
    {
      "execution_count": 13,
      "cell_type": "code",
      "metadata": {},
      "source": [
        "# Compute recipe outputs from inputs\n# TODO: Replace this part by your actual code that computes the output, as a Pandas dataframe\n# NB: DSS also supports other kinds of APIs for reading and writing data. Please see doc.\n\nCALCULATED_CARD_DRAW_UPS_FULL_df \u003d rise_df\n\n# Write recipe outputs\nCALCULATED_CARD_DRAW_UPS_FULL \u003d dataiku.Dataset(\"CALCULATED_CARD_DRAW_UPS_FULL\")\nCALCULATED_CARD_DRAW_UPS_FULL.write_with_schema(CALCULATED_CARD_DRAW_UPS_FULL_df)"
      ],
      "outputs": [
        {
          "output_type": "stream",
          "text": "324214 rows successfully written (Zj9OVSocLN)\n",
          "name": "stdout"
        }
      ]
    }
  ]
}