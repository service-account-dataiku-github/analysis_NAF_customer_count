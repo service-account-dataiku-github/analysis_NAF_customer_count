{
  "metadata": {
    "kernelspec": {
      "name": "py-dku-venv-env_clc",
      "display_name": "Python (env env_clc)",
      "language": "python"
    },
    "associatedRecipe": "compute_CARD_COUNT_NEW_IN_2022",
    "dkuGit": {
      "lastInteraction": 0
    },
    "creationTag": {
      "versionNumber": 0,
      "lastModifiedBy": {
        "login": "Daniel.Vandermeer"
      },
      "lastModifiedOn": 1677239535077
    },
    "creator": "Daniel.Vandermeer",
    "createdOn": 1677239535077,
    "tags": [
      "recipe-editor"
    ],
    "customFields": {},
    "hide_input": false,
    "language_info": {
      "name": "python",
      "version": "3.6.8",
      "mimetype": "text/x-python",
      "codemirror_mode": {
        "name": "ipython",
        "version": 3
      },
      "pygments_lexer": "ipython3",
      "nbconvert_exporter": "python",
      "file_extension": ".py"
    },
    "modifiedBy": "Daniel.Vandermeer"
  },
  "nbformat": 4,
  "nbformat_minor": 1,
  "cells": [
    {
      "execution_count": 0,
      "cell_type": "code",
      "metadata": {},
      "source": [
        "# -*- coding: utf-8 -*-\nimport dataiku\nimport pandas as pd, numpy as np\nfrom dataiku import pandasutils as pdu\n\n# Read recipe inputs\nNAFCUSTOMER_NEW_CUSTOMERS_IN_2022_WITH_SALES_FLAG_AND_ACTIVE_CARDS \u003d dataiku.Dataset(\"NAFCUSTOMER_NEW_CUSTOMERS_IN_2022_WITH_SALES_FLAG_AND_ACTIVE_CARDS\")\nNAFCUSTOMER_NEW_CUSTOMERS_IN_2022_WITH_SALES_FLAG_AND_ACTIVE_CARDS_df \u003d NAFCUSTOMER_NEW_CUSTOMERS_IN_2022_WITH_SALES_FLAG_AND_ACTIVE_CARDS.get_dataframe()\n\n\n# Compute recipe outputs from inputs\n# TODO: Replace this part by your actual code that computes the output, as a Pandas dataframe\n# NB: DSS also supports other kinds of APIs for reading and writing data. Please see doc.\n\nCARD_COUNT_NEW_IN_2022_df \u003d NAFCUSTOMER_NEW_CUSTOMERS_IN_2022_WITH_SALES_FLAG_AND_ACTIVE_CARDS_df # For this sample code, simply copy input to output\nprint(len(CARD_COUNT_NEW_IN_2022_df))"
      ],
      "outputs": []
    },
    {
      "execution_count": 0,
      "cell_type": "code",
      "metadata": {},
      "source": [
        "df \u003d CARD_COUNT_NEW_IN_2022_df.copy()"
      ],
      "outputs": []
    },
    {
      "execution_count": 0,
      "cell_type": "code",
      "metadata": {},
      "source": [
        "df_customers_with_card_count \u003d df.groupby([\u0027CUSTOMER_ID\u0027,\u0027CUSTOMER\u0027]).ACTIVE_CARD_COUNT.sum().reset_index()\n\ndf_customers_with_card_count[\u0027FLEET_SIZE\u0027] \u003d \u0027NOT SET\u0027\ndf_customers_with_card_count.loc[df_customers_with_card_count.ACTIVE_CARD_COUNT.between(0,5), \u0027FLEET_SIZE\u0027] \u003d \u0027(\u003c\u003d5 cards)\u0027\ndf_customers_with_card_count.loc[df_customers_with_card_count.ACTIVE_CARD_COUNT.between(6,100), \u0027FLEET_SIZE\u0027] \u003d \u0027(between 6 and 100 cards)\u0027\ndf_customers_with_card_count.loc[df_customers_with_card_count.ACTIVE_CARD_COUNT\u003e100, \u0027FLEET_SIZE\u0027] \u003d \u0027(\u003e100 cards)\u0027\ndf_customers_with_card_count.head()"
      ],
      "outputs": []
    },
    {
      "execution_count": 0,
      "cell_type": "code",
      "metadata": {},
      "source": [
        "df_customers_with_card_count[df_customers_with_card_count.FLEET_SIZE\u003d\u003d\u0027(\u003e100 cards)\u0027].head(100)"
      ],
      "outputs": []
    },
    {
      "execution_count": 0,
      "cell_type": "code",
      "metadata": {},
      "source": [
        "df_customers_with_card_count.groupby(\u0027FLEET_SIZE\u0027).ACTIVE_CARD_COUNT.sum()"
      ],
      "outputs": []
    },
    {
      "execution_count": 0,
      "cell_type": "code",
      "metadata": {},
      "source": [
        "df_customers_with_card_count.groupby(\u0027FLEET_SIZE\u0027).CUSTOMER_ID.nunique()"
      ],
      "outputs": []
    },
    {
      "execution_count": 0,
      "cell_type": "code",
      "metadata": {},
      "source": [
        "# Write recipe outputs\nCARD_COUNT_NEW_IN_2022 \u003d dataiku.Dataset(\"CARD_COUNT_NEW_IN_2022\")\nCARD_COUNT_NEW_IN_2022.write_with_schema(CARD_COUNT_NEW_IN_2022_df)"
      ],
      "outputs": []
    }
  ]
}