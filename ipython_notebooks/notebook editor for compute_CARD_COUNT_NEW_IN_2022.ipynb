{
  "nbformat": 4,
  "nbformat_minor": 0,
  "metadata": {
    "kernelspec": {
      "display_name": "Python in cpu-m-cpu-3-mem-4Gb (builtin env)",
      "language": "python",
      "name": "py-dku-containerized-venv--cpu-m-cpu-3-mem-4gb"
    },
    "associatedRecipe": "compute_CARD_COUNT_NEW_IN_2022",
    "dkuGit": {
      "lastInteraction": 0
    },
    "creationTag": {
      "versionNumber": 0,
      "lastModifiedBy": {
        "login": "Daniel.Vandermeer"
      },
      "lastModifiedOn": 1677239535077
    },
    "creator": "Daniel.Vandermeer",
    "createdOn": 1677239535077,
    "tags": [
      "recipe-editor"
    ],
    "customFields": {}
  },
  "cells": [
    {
      "cell_type": "code",
      "metadata": {},
      "outputs": [],
      "execution_count": 0,
      "source": [
        "# -*- coding: utf-8 -*-\n",
        "import dataiku\n",
        "import pandas as pd, numpy as np\n",
        "from dataiku import pandasutils as pdu\n",
        "\n",
        "# Read recipe inputs\n",
        "NAFCUSTOMER_NEW_CUSTOMERS_IN_2022_WITH_SALES_FLAG_AND_ACTIVE_CARDS \u003d dataiku.Dataset(\"NAFCUSTOMER_NEW_CUSTOMERS_IN_2022_WITH_SALES_FLAG_AND_ACTIVE_CARDS\")\n",
        "NAFCUSTOMER_NEW_CUSTOMERS_IN_2022_WITH_SALES_FLAG_AND_ACTIVE_CARDS_df \u003d NAFCUSTOMER_NEW_CUSTOMERS_IN_2022_WITH_SALES_FLAG_AND_ACTIVE_CARDS.get_dataframe()\n",
        "\n",
        "\n",
        "# Compute recipe outputs from inputs\n",
        "# TODO: Replace this part by your actual code that computes the output, as a Pandas dataframe\n",
        "# NB: DSS also supports other kinds of APIs for reading and writing data. Please see doc.\n",
        "\n",
        "CARD_COUNT_NEW_IN_2022_df \u003d NAFCUSTOMER_NEW_CUSTOMERS_IN_2022_WITH_SALES_FLAG_AND_ACTIVE_CARDS_df # For this sample code, simply copy input to output\n",
        "print(len(CARD_COUNT_NEW_IN_2022_df))"
      ]
    },
    {
      "cell_type": "code",
      "metadata": {},
      "outputs": [],
      "execution_count": 0,
      "source": [
        "df \u003d CARD_COUNT_NEW_IN_2022_df.copy()"
      ]
    },
    {
      "cell_type": "code",
      "metadata": {},
      "outputs": [],
      "execution_count": 0,
      "source": [
        "df_customers_with_card_count \u003d df.groupby([\u0027CUSTOMER_ID\u0027,\u0027CUSTOMER\u0027]).ACTIVE_CARD_COUNT.sum().reset_index()\n",
        "\n",
        "df_customers_with_card_count[\u0027FLEET_SIZE\u0027] \u003d \u0027NOT SET\u0027\n",
        "df_customers_with_card_count.loc[df_customers_with_card_count.ACTIVE_CARD_COUNT.between(0,5), \u0027FLEET_SIZE\u0027] \u003d \u0027(\u003c\u003d5 cards)\u0027\n",
        "df_customers_with_card_count.loc[df_customers_with_card_count.ACTIVE_CARD_COUNT.between(6,100), \u0027FLEET_SIZE\u0027] \u003d \u0027(between 6 and 100 cards)\u0027\n",
        "df_customers_with_card_count.loc[df_customers_with_card_count.ACTIVE_CARD_COUNT\u003e100, \u0027FLEET_SIZE\u0027] \u003d \u0027(\u003e100 cards)\u0027\n",
        "df_customers_with_card_count.head()"
      ]
    },
    {
      "cell_type": "code",
      "metadata": {},
      "outputs": [],
      "execution_count": 0,
      "source": [
        "df_customers_with_card_count[df_customers_with_card_count.FLEET_SIZE\u003d\u003d\u0027(\u003e100 cards)\u0027].head(100)"
      ]
    },
    {
      "cell_type": "code",
      "metadata": {},
      "outputs": [],
      "execution_count": 0,
      "source": [
        "df_customers_with_card_count.groupby(\u0027FLEET_SIZE\u0027).ACTIVE_CARD_COUNT.sum()"
      ]
    },
    {
      "cell_type": "code",
      "metadata": {},
      "outputs": [],
      "execution_count": 0,
      "source": [
        "df_customers_with_card_count.groupby(\u0027FLEET_SIZE\u0027).CUSTOMER_ID.nunique()"
      ]
    },
    {
      "cell_type": "code",
      "metadata": {},
      "outputs": [],
      "execution_count": 0,
      "source": [
        "# Write recipe outputs\n",
        "CARD_COUNT_NEW_IN_2022 \u003d dataiku.Dataset(\"CARD_COUNT_NEW_IN_2022\")\n",
        "CARD_COUNT_NEW_IN_2022.write_with_schema(CARD_COUNT_NEW_IN_2022_df)"
      ]
    }
  ]
}