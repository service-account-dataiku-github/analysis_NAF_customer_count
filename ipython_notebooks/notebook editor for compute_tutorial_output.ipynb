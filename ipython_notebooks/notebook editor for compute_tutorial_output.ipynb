{
  "metadata": {
    "kernelspec": {
      "name": "py-dku-venv-env_clc",
      "display_name": "Python (env env_clc)",
      "language": "python"
    },
    "associatedRecipe": "compute_tutorial_output",
    "creator": "Daniel.Vandermeer",
    "createdOn": 1676905944306,
    "tags": [
      "recipe-editor"
    ],
    "customFields": {},
    "hide_input": false,
    "language_info": {
      "name": "python",
      "version": "3.6.8",
      "mimetype": "text/x-python",
      "codemirror_mode": {
        "name": "ipython",
        "version": 3
      },
      "pygments_lexer": "ipython3",
      "nbconvert_exporter": "python",
      "file_extension": ".py"
    },
    "modifiedBy": "Daniel.Vandermeer"
  },
  "nbformat": 4,
  "nbformat_minor": 1,
  "cells": [
    {
      "execution_count": 3,
      "cell_type": "code",
      "metadata": {},
      "source": [
        "# -*- coding: utf-8 -*-\nimport dataiku\nimport pandas as pd, numpy as np\nfrom dataiku import pandasutils as pdu\nimport matplotlib.pyplot as plt\n\n# Read recipe inputs\nvgsales \u003d dataiku.Dataset(\"vgsales\")\nvgsales_df \u003d vgsales.get_dataframe()\n\n\ndf \u003d vgsales_df"
      ],
      "outputs": []
    },
    {
      "execution_count": 4,
      "cell_type": "code",
      "metadata": {},
      "source": [
        "df.head()"
      ],
      "outputs": [
        {
          "output_type": "execute_result",
          "execution_count": 4,
          "data": {
            "text/plain": "   Rank                      Name Platform    Year         Genre Publisher  NA_Sales  EU_Sales  JP_Sales  Other_Sales  Global_Sales\n0     1                Wii Sports      Wii  2006.0        Sports  Nintendo     41.49     29.02      3.77         8.46         82.74\n1     2         Super Mario Bros.      NES  1985.0      Platform  Nintendo     29.08      3.58      6.81         0.77         40.24\n2     3            Mario Kart Wii      Wii  2008.0        Racing  Nintendo     15.85     12.88      3.79         3.31         35.82\n3     4         Wii Sports Resort      Wii  2009.0        Sports  Nintendo     15.75     11.01      3.28         2.96         33.00\n4     5  Pokemon Red/Pokemon Blue       GB  1996.0  Role-Playing  Nintendo     11.27      8.89     10.22         1.00         31.37",
            "text/html": "\u003cdiv\u003e\n\u003cstyle scoped\u003e\n    .dataframe tbody tr th:only-of-type {\n        vertical-align: middle;\n    }\n\n    .dataframe tbody tr th {\n        vertical-align: top;\n    }\n\n    .dataframe thead th {\n        text-align: right;\n    }\n\u003c/style\u003e\n\u003ctable border\u003d\"1\" class\u003d\"dataframe\"\u003e\n  \u003cthead\u003e\n    \u003ctr style\u003d\"text-align: right;\"\u003e\n      \u003cth\u003e\u003c/th\u003e\n      \u003cth\u003eRank\u003c/th\u003e\n      \u003cth\u003eName\u003c/th\u003e\n      \u003cth\u003ePlatform\u003c/th\u003e\n      \u003cth\u003eYear\u003c/th\u003e\n      \u003cth\u003eGenre\u003c/th\u003e\n      \u003cth\u003ePublisher\u003c/th\u003e\n      \u003cth\u003eNA_Sales\u003c/th\u003e\n      \u003cth\u003eEU_Sales\u003c/th\u003e\n      \u003cth\u003eJP_Sales\u003c/th\u003e\n      \u003cth\u003eOther_Sales\u003c/th\u003e\n      \u003cth\u003eGlobal_Sales\u003c/th\u003e\n    \u003c/tr\u003e\n  \u003c/thead\u003e\n  \u003ctbody\u003e\n    \u003ctr\u003e\n      \u003cth\u003e0\u003c/th\u003e\n      \u003ctd\u003e1\u003c/td\u003e\n      \u003ctd\u003eWii Sports\u003c/td\u003e\n      \u003ctd\u003eWii\u003c/td\u003e\n      \u003ctd\u003e2006.0\u003c/td\u003e\n      \u003ctd\u003eSports\u003c/td\u003e\n      \u003ctd\u003eNintendo\u003c/td\u003e\n      \u003ctd\u003e41.49\u003c/td\u003e\n      \u003ctd\u003e29.02\u003c/td\u003e\n      \u003ctd\u003e3.77\u003c/td\u003e\n      \u003ctd\u003e8.46\u003c/td\u003e\n      \u003ctd\u003e82.74\u003c/td\u003e\n    \u003c/tr\u003e\n    \u003ctr\u003e\n      \u003cth\u003e1\u003c/th\u003e\n      \u003ctd\u003e2\u003c/td\u003e\n      \u003ctd\u003eSuper Mario Bros.\u003c/td\u003e\n      \u003ctd\u003eNES\u003c/td\u003e\n      \u003ctd\u003e1985.0\u003c/td\u003e\n      \u003ctd\u003ePlatform\u003c/td\u003e\n      \u003ctd\u003eNintendo\u003c/td\u003e\n      \u003ctd\u003e29.08\u003c/td\u003e\n      \u003ctd\u003e3.58\u003c/td\u003e\n      \u003ctd\u003e6.81\u003c/td\u003e\n      \u003ctd\u003e0.77\u003c/td\u003e\n      \u003ctd\u003e40.24\u003c/td\u003e\n    \u003c/tr\u003e\n    \u003ctr\u003e\n      \u003cth\u003e2\u003c/th\u003e\n      \u003ctd\u003e3\u003c/td\u003e\n      \u003ctd\u003eMario Kart Wii\u003c/td\u003e\n      \u003ctd\u003eWii\u003c/td\u003e\n      \u003ctd\u003e2008.0\u003c/td\u003e\n      \u003ctd\u003eRacing\u003c/td\u003e\n      \u003ctd\u003eNintendo\u003c/td\u003e\n      \u003ctd\u003e15.85\u003c/td\u003e\n      \u003ctd\u003e12.88\u003c/td\u003e\n      \u003ctd\u003e3.79\u003c/td\u003e\n      \u003ctd\u003e3.31\u003c/td\u003e\n      \u003ctd\u003e35.82\u003c/td\u003e\n    \u003c/tr\u003e\n    \u003ctr\u003e\n      \u003cth\u003e3\u003c/th\u003e\n      \u003ctd\u003e4\u003c/td\u003e\n      \u003ctd\u003eWii Sports Resort\u003c/td\u003e\n      \u003ctd\u003eWii\u003c/td\u003e\n      \u003ctd\u003e2009.0\u003c/td\u003e\n      \u003ctd\u003eSports\u003c/td\u003e\n      \u003ctd\u003eNintendo\u003c/td\u003e\n      \u003ctd\u003e15.75\u003c/td\u003e\n      \u003ctd\u003e11.01\u003c/td\u003e\n      \u003ctd\u003e3.28\u003c/td\u003e\n      \u003ctd\u003e2.96\u003c/td\u003e\n      \u003ctd\u003e33.00\u003c/td\u003e\n    \u003c/tr\u003e\n    \u003ctr\u003e\n      \u003cth\u003e4\u003c/th\u003e\n      \u003ctd\u003e5\u003c/td\u003e\n      \u003ctd\u003ePokemon Red/Pokemon Blue\u003c/td\u003e\n      \u003ctd\u003eGB\u003c/td\u003e\n      \u003ctd\u003e1996.0\u003c/td\u003e\n      \u003ctd\u003eRole-Playing\u003c/td\u003e\n      \u003ctd\u003eNintendo\u003c/td\u003e\n      \u003ctd\u003e11.27\u003c/td\u003e\n      \u003ctd\u003e8.89\u003c/td\u003e\n      \u003ctd\u003e10.22\u003c/td\u003e\n      \u003ctd\u003e1.00\u003c/td\u003e\n      \u003ctd\u003e31.37\u003c/td\u003e\n    \u003c/tr\u003e\n  \u003c/tbody\u003e\n\u003c/table\u003e\n\u003c/div\u003e"
          },
          "metadata": {}
        }
      ]
    },
    {
      "execution_count": 0,
      "cell_type": "code",
      "metadata": {},
      "source": [
        "df_grouped \u003d df.groupby(\u0027Platform\u0027).sum()"
      ],
      "outputs": []
    },
    {
      "execution_count": 0,
      "cell_type": "code",
      "metadata": {},
      "source": [
        "# Compute recipe outputs from inputs\n# TODO: Replace this part by your actual code that computes the output, as a Pandas dataframe\n# NB: DSS also supports other kinds of APIs for reading and writing data. Please see doc.\n\n#tutorial_output_df \u003d vgsales_df # For this sample code, simply copy input to output\n\n\n# Write recipe outputs\n#tutorial_output \u003d dataiku.Dataset(\"tutorial_output\")\n#tutorial_output.write_with_schema(tutorial_output_df)"
      ],
      "outputs": []
    }
  ]
}