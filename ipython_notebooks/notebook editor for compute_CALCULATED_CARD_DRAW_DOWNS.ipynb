{
  "metadata": {
    "kernelspec": {
      "name": "py-dku-venv-env_clc",
      "display_name": "Python (env env_clc)",
      "language": "python"
    },
    "associatedRecipe": "compute_CALCULATED_CARD_DRAW_DOWNS",
    "dkuGit": {
      "lastInteraction": 0
    },
    "creationTag": {
      "versionNumber": 0,
      "lastModifiedBy": {
        "login": "Daniel.Vandermeer"
      },
      "lastModifiedOn": 1665686179578
    },
    "creator": "Daniel.Vandermeer",
    "createdOn": 1665686179578,
    "tags": [
      "recipe-editor"
    ],
    "customFields": {},
    "hide_input": false,
    "language_info": {
      "name": "python",
      "version": "3.6.8",
      "mimetype": "text/x-python",
      "codemirror_mode": {
        "name": "ipython",
        "version": 3
      },
      "pygments_lexer": "ipython3",
      "nbconvert_exporter": "python",
      "file_extension": ".py"
    },
    "modifiedBy": "Daniel.Vandermeer"
  },
  "nbformat": 4,
  "nbformat_minor": 1,
  "cells": [
    {
      "execution_count": 10,
      "cell_type": "code",
      "metadata": {},
      "source": [
        "# -*- coding: utf-8 -*-\nimport dataiku\nimport pandas as pd, numpy as np\nfrom dataiku import pandasutils as pdu\n\nimport pickle\nfrom dateutil.relativedelta import relativedelta\nimport gc\nfrom re import finditer\n\n## Find DD DU\nfrom helper import preprocess_data\nfrom patterns import find_drawdowns, find_drawups\n\n## MATCHING\nimport name_matching\nfrom name_matching import name_match\nimport transaction_matching\nfrom transaction_matching import transaction_match\n\n## CONSOLIDATION\nfrom consolidation import combine_matches, consolidate_matches, find_attritions, find_new_accounts, get_attrition_status, get_new_account_status"
      ],
      "outputs": []
    },
    {
      "execution_count": 11,
      "cell_type": "code",
      "metadata": {},
      "source": [
        "start_date \u003d dataiku.get_custom_variables()[\u0027start_date\u0027]\nend_date \u003d dataiku.get_custom_variables()[\u0027end_date\u0027]\n\nconsistency \u003d int(dataiku.get_custom_variables()[\u0027consistency\u0027])\ndrawdown_period_average \u003d int(dataiku.get_custom_variables()[\u0027drawdown_period_average\u0027])\ndrawdown \u003d int(dataiku.get_custom_variables()[\u0027drawdown\u0027])\ndrawdown_fwd_check \u003d int(dataiku.get_custom_variables()[\u0027drawdown_fwd_check\u0027])\ndrawdown_lookback_period \u003d int(dataiku.get_custom_variables()[\u0027drawdown_lookback_period\u0027])\ndrawup_lookfwd_period \u003d int(dataiku.get_custom_variables()[\u0027drawup_lookfwd_period\u0027])\nstatistics_period \u003d int(dataiku.get_custom_variables()[\u0027statistics_period\u0027])\ninactive_period \u003d int(dataiku.get_custom_variables()[\u0027inactive_period\u0027])\n\n## MATCHING VARIABLES\nmonth_diff_h \u003d int(dataiku.get_custom_variables()[\u0027month_diff_h\u0027])\nmonth_diff_l \u003d int(dataiku.get_custom_variables()[\u0027month_diff_l\u0027])\nsd_mul \u003d int(dataiku.get_custom_variables()[\u0027sd_mul\u0027])\nmax_city_distance \u003d int(dataiku.get_custom_variables()[\u0027max_city_distance\u0027])\nthreshold_score_step1 \u003d int(dataiku.get_custom_variables()[\u0027threshold_score_step1\u0027])\nthreshold_score_step2 \u003d int(dataiku.get_custom_variables()[\u0027threshold_score_step2\u0027])\n\n## RUN TYPE\nrun \u003d dataiku.get_custom_variables()[\u0027run_type\u0027]"
      ],
      "outputs": []
    },
    {
      "execution_count": 12,
      "cell_type": "code",
      "metadata": {},
      "source": [
        "def date_tz_naive(pd_s):\n    return pd.to_datetime(pd_s).apply(lambda x:x.tz_localize(None))"
      ],
      "outputs": []
    },
    {
      "execution_count": 13,
      "cell_type": "code",
      "metadata": {},
      "source": [
        "# Read recipe inputs\nNAFCUSTOMER_REVENUE_BY_CUSTOMER_LIMITED \u003d dataiku.Dataset(\"NAFCUSTOMER_REVENUE_BY_CUSTOMER_LIMITED\")\nNAFCUSTOMER_REVENUE_BY_CUSTOMER_LIMITED_df \u003d NAFCUSTOMER_REVENUE_BY_CUSTOMER_LIMITED.get_dataframe()"
      ],
      "outputs": []
    },
    {
      "execution_count": 19,
      "cell_type": "code",
      "metadata": {},
      "source": [
        "df_r \u003d NAFCUSTOMER_REVENUE_BY_CUSTOMER_LIMITED_df\n\nprint(len(df_r))\ndf_r[\u0027REVENUE_DATE\u0027] \u003d df_r.REVENUE_MONTH.astype(str) + \"/01/\" + df_r.REVENUE_YEAR.astype(str)\ndf_r[\u0027REVENUE_DATE\u0027] \u003d date_tz_naive(df_r[\u0027REVENUE_DATE\u0027])\nprint(len(df_r))\n\ndf_r \u003d df_r[[\u0027CUSTOMER\u0027,\u0027REVENUE_DATE\u0027, \u0027ACTIVE_CARD_COUNT\u0027, \u0027OUTSTANDING_CARD_COUNT\u0027]]\n\ndf_v \u003d  df_r.groupby(by\u003d[\"CUSTOMER\",\"REVENUE_DATE\"]).sum().reset_index()"
      ],
      "outputs": [
        {
          "output_type": "stream",
          "text": "21434\n21434\n",
          "name": "stdout"
        }
      ]
    },
    {
      "execution_count": 21,
      "cell_type": "code",
      "metadata": {},
      "source": [
        "print(len(df_v))\ndf_v \u003d df_v[df_v[\u0027REVENUE_DATE\u0027].between(pd.to_datetime(start_date), pd.to_datetime(end_date))].copy()\ndf_v \u003d df_v.dropna(subset\u003d[\u0027CUSTOMER\u0027])\nprint(len(df_v))"
      ],
      "outputs": [
        {
          "output_type": "stream",
          "text": "18228\n18228\n",
          "name": "stdout"
        }
      ]
    },
    {
      "execution_count": 23,
      "cell_type": "code",
      "metadata": {},
      "source": [
        "df_v[\u0027REVENUE_DATE\u0027] \u003d pd.to_datetime(df_v[\u0027REVENUE_DATE\u0027])\ndf_v.sort_values([\u0027REVENUE_DATE\u0027], inplace\u003dTrue)"
      ],
      "outputs": []
    },
    {
      "execution_count": 25,
      "cell_type": "code",
      "metadata": {},
      "source": [
        "seen_accounts \u003d df_v[df_v[\u0027ACTIVE_CARD_COUNT\u0027] \u003e 0].groupby([\u0027CUSTOMER\u0027], as_index\u003dFalse)[[\u0027REVENUE_DATE\u0027]].first()\nseen_accounts[\u0027FIRST_DATE\u0027] \u003d seen_accounts[\u0027REVENUE_DATE\u0027] - pd.DateOffset(months\u003d1)"
      ],
      "outputs": []
    },
    {
      "execution_count": 26,
      "cell_type": "code",
      "metadata": {},
      "source": [
        "seen_accounts"
      ],
      "outputs": [
        {
          "output_type": "execute_result",
          "execution_count": 26,
          "data": {
            "text/plain": "                              CUSTOMER REVENUE_DATE FIRST_DATE\n0                                 3GPP   2020-09-01 2020-08-01\n1                                 3LUM   2019-02-01 2019-01-01\n2                            3M (3MUS)   2020-05-01 2020-04-01\n3                    3M COMPANY (3MVR)   2020-09-01 2020-08-01\n4                       3M COMPANY3MUS   2021-09-01 2021-08-01\n..                                 ...          ...        ...\n656                    YKK CORPORATION   2019-01-01 2018-12-01\n657                          YUM  INC.   2019-01-01 2018-12-01\n658  YUM RESTAURANT SERVICES GROUP LLC   2021-04-01 2021-03-01\n659                      ZOETIS (3PHX)   2020-10-01 2020-09-01\n660                         ZOETIS INC   2022-06-01 2022-05-01\n\n[661 rows x 3 columns]",
            "text/html": "\u003cdiv\u003e\n\u003cstyle scoped\u003e\n    .dataframe tbody tr th:only-of-type {\n        vertical-align: middle;\n    }\n\n    .dataframe tbody tr th {\n        vertical-align: top;\n    }\n\n    .dataframe thead th {\n        text-align: right;\n    }\n\u003c/style\u003e\n\u003ctable border\u003d\"1\" class\u003d\"dataframe\"\u003e\n  \u003cthead\u003e\n    \u003ctr style\u003d\"text-align: right;\"\u003e\n      \u003cth\u003e\u003c/th\u003e\n      \u003cth\u003eCUSTOMER\u003c/th\u003e\n      \u003cth\u003eREVENUE_DATE\u003c/th\u003e\n      \u003cth\u003eFIRST_DATE\u003c/th\u003e\n    \u003c/tr\u003e\n  \u003c/thead\u003e\n  \u003ctbody\u003e\n    \u003ctr\u003e\n      \u003cth\u003e0\u003c/th\u003e\n      \u003ctd\u003e3GPP\u003c/td\u003e\n      \u003ctd\u003e2020-09-01\u003c/td\u003e\n      \u003ctd\u003e2020-08-01\u003c/td\u003e\n    \u003c/tr\u003e\n    \u003ctr\u003e\n      \u003cth\u003e1\u003c/th\u003e\n      \u003ctd\u003e3LUM\u003c/td\u003e\n      \u003ctd\u003e2019-02-01\u003c/td\u003e\n      \u003ctd\u003e2019-01-01\u003c/td\u003e\n    \u003c/tr\u003e\n    \u003ctr\u003e\n      \u003cth\u003e2\u003c/th\u003e\n      \u003ctd\u003e3M (3MUS)\u003c/td\u003e\n      \u003ctd\u003e2020-05-01\u003c/td\u003e\n      \u003ctd\u003e2020-04-01\u003c/td\u003e\n    \u003c/tr\u003e\n    \u003ctr\u003e\n      \u003cth\u003e3\u003c/th\u003e\n      \u003ctd\u003e3M COMPANY (3MVR)\u003c/td\u003e\n      \u003ctd\u003e2020-09-01\u003c/td\u003e\n      \u003ctd\u003e2020-08-01\u003c/td\u003e\n    \u003c/tr\u003e\n    \u003ctr\u003e\n      \u003cth\u003e4\u003c/th\u003e\n      \u003ctd\u003e3M COMPANY3MUS\u003c/td\u003e\n      \u003ctd\u003e2021-09-01\u003c/td\u003e\n      \u003ctd\u003e2021-08-01\u003c/td\u003e\n    \u003c/tr\u003e\n    \u003ctr\u003e\n      \u003cth\u003e...\u003c/th\u003e\n      \u003ctd\u003e...\u003c/td\u003e\n      \u003ctd\u003e...\u003c/td\u003e\n      \u003ctd\u003e...\u003c/td\u003e\n    \u003c/tr\u003e\n    \u003ctr\u003e\n      \u003cth\u003e656\u003c/th\u003e\n      \u003ctd\u003eYKK CORPORATION\u003c/td\u003e\n      \u003ctd\u003e2019-01-01\u003c/td\u003e\n      \u003ctd\u003e2018-12-01\u003c/td\u003e\n    \u003c/tr\u003e\n    \u003ctr\u003e\n      \u003cth\u003e657\u003c/th\u003e\n      \u003ctd\u003eYUM  INC.\u003c/td\u003e\n      \u003ctd\u003e2019-01-01\u003c/td\u003e\n      \u003ctd\u003e2018-12-01\u003c/td\u003e\n    \u003c/tr\u003e\n    \u003ctr\u003e\n      \u003cth\u003e658\u003c/th\u003e\n      \u003ctd\u003eYUM RESTAURANT SERVICES GROUP LLC\u003c/td\u003e\n      \u003ctd\u003e2021-04-01\u003c/td\u003e\n      \u003ctd\u003e2021-03-01\u003c/td\u003e\n    \u003c/tr\u003e\n    \u003ctr\u003e\n      \u003cth\u003e659\u003c/th\u003e\n      \u003ctd\u003eZOETIS (3PHX)\u003c/td\u003e\n      \u003ctd\u003e2020-10-01\u003c/td\u003e\n      \u003ctd\u003e2020-09-01\u003c/td\u003e\n    \u003c/tr\u003e\n    \u003ctr\u003e\n      \u003cth\u003e660\u003c/th\u003e\n      \u003ctd\u003eZOETIS INC\u003c/td\u003e\n      \u003ctd\u003e2022-06-01\u003c/td\u003e\n      \u003ctd\u003e2022-05-01\u003c/td\u003e\n    \u003c/tr\u003e\n  \u003c/tbody\u003e\n\u003c/table\u003e\n\u003cp\u003e661 rows × 3 columns\u003c/p\u003e\n\u003c/div\u003e"
          },
          "metadata": {}
        }
      ]
    },
    {
      "execution_count": 0,
      "cell_type": "code",
      "metadata": {},
      "source": [
        "# Compute recipe outputs from inputs\n# TODO: Replace this part by your actual code that computes the output, as a Pandas dataframe\n# NB: DSS also supports other kinds of APIs for reading and writing data. Please see doc.\n\n#CALCULATED_CARD_DRAW_DOWNS_df \u003d NAFCUSTOMER_REVENUE_BY_CUSTOMER_LIMITED_df # For this sample code, simply copy input to output\n\n# Write recipe outputs\n#CALCULATED_CARD_DRAW_DOWNS \u003d dataiku.Dataset(\"CALCULATED_CARD_DRAW_DOWNS\")\n#CALCULATED_CARD_DRAW_DOWNS.write_with_schema(CALCULATED_CARD_DRAW_DOWNS_df)"
      ],
      "outputs": []
    }
  ]
}