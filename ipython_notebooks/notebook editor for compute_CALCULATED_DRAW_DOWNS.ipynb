{
  "metadata": {
    "kernelspec": {
      "name": "py-dku-venv-env_clc",
      "display_name": "Python (env env_clc)",
      "language": "python"
    },
    "associatedRecipe": "compute_CALCULATED_DRAW_DOWNS",
    "creator": "Daniel.Vandermeer",
    "createdOn": 1665593021198,
    "tags": [
      "recipe-editor"
    ],
    "customFields": {},
    "hide_input": false,
    "language_info": {
      "name": "python",
      "version": "3.6.8",
      "mimetype": "text/x-python",
      "codemirror_mode": {
        "name": "ipython",
        "version": 3
      },
      "pygments_lexer": "ipython3",
      "nbconvert_exporter": "python",
      "file_extension": ".py"
    },
    "modifiedBy": "Daniel.Vandermeer"
  },
  "nbformat": 4,
  "nbformat_minor": 1,
  "cells": [
    {
      "execution_count": 1,
      "cell_type": "code",
      "metadata": {},
      "source": [
        "# -*- coding: utf-8 -*-\nimport dataiku\nimport pandas as pd, numpy as np\nfrom dataiku import pandasutils as pdu\n\n# Read recipe inputs\nNAFCUSTOMER_C360_ACCOUNTS \u003d dataiku.Dataset(\"NAFCUSTOMER_C360_ACCOUNTS\")\nNAFCUSTOMER_C360_ACCOUNTS_df \u003d NAFCUSTOMER_C360_ACCOUNTS.get_dataframe()\nprint(len(NAFCUSTOMER_C360_ACCOUNTS_df))"
      ],
      "outputs": [
        {
          "output_type": "stream",
          "text": "844417\n",
          "name": "stdout"
        }
      ]
    },
    {
      "execution_count": 2,
      "cell_type": "code",
      "metadata": {},
      "source": [
        "NAFCUSTOMER_C360_ACCOUNTS_df.head()"
      ],
      "outputs": [
        {
          "output_type": "execute_result",
          "execution_count": 2,
          "data": {
            "text/plain": "   CUSTOMER_ACCOUNT_ID                CUSTOMER_ACCOUNT_NAME              EDW_CUSTOMER_NAME         DUNS\n0        6110005246202                        REX THREE INC                  REX THREE INC    4142238.0\n1        9100007223040                      HARD COUNT INC5                HARD COUNT INC5   36917102.0\n2         450007858327        MILWAUKEE BUILDERS SUPPLY INC  MILWAUKEE BUILDERS SUPPLY INC  184062045.0\n3        9100003965805                            AZCON INC    QUIKTRIP FLEET FLEX PRIMARY   79098937.0\n4        9100010409481  CHAMBER PAINTING AND REMODELING LLC                   VALERO FLEET   11034557.0",
            "text/html": "\u003cdiv\u003e\n\u003cstyle scoped\u003e\n    .dataframe tbody tr th:only-of-type {\n        vertical-align: middle;\n    }\n\n    .dataframe tbody tr th {\n        vertical-align: top;\n    }\n\n    .dataframe thead th {\n        text-align: right;\n    }\n\u003c/style\u003e\n\u003ctable border\u003d\"1\" class\u003d\"dataframe\"\u003e\n  \u003cthead\u003e\n    \u003ctr style\u003d\"text-align: right;\"\u003e\n      \u003cth\u003e\u003c/th\u003e\n      \u003cth\u003eCUSTOMER_ACCOUNT_ID\u003c/th\u003e\n      \u003cth\u003eCUSTOMER_ACCOUNT_NAME\u003c/th\u003e\n      \u003cth\u003eEDW_CUSTOMER_NAME\u003c/th\u003e\n      \u003cth\u003eDUNS\u003c/th\u003e\n    \u003c/tr\u003e\n  \u003c/thead\u003e\n  \u003ctbody\u003e\n    \u003ctr\u003e\n      \u003cth\u003e0\u003c/th\u003e\n      \u003ctd\u003e6110005246202\u003c/td\u003e\n      \u003ctd\u003eREX THREE INC\u003c/td\u003e\n      \u003ctd\u003eREX THREE INC\u003c/td\u003e\n      \u003ctd\u003e4142238.0\u003c/td\u003e\n    \u003c/tr\u003e\n    \u003ctr\u003e\n      \u003cth\u003e1\u003c/th\u003e\n      \u003ctd\u003e9100007223040\u003c/td\u003e\n      \u003ctd\u003eHARD COUNT INC5\u003c/td\u003e\n      \u003ctd\u003eHARD COUNT INC5\u003c/td\u003e\n      \u003ctd\u003e36917102.0\u003c/td\u003e\n    \u003c/tr\u003e\n    \u003ctr\u003e\n      \u003cth\u003e2\u003c/th\u003e\n      \u003ctd\u003e450007858327\u003c/td\u003e\n      \u003ctd\u003eMILWAUKEE BUILDERS SUPPLY INC\u003c/td\u003e\n      \u003ctd\u003eMILWAUKEE BUILDERS SUPPLY INC\u003c/td\u003e\n      \u003ctd\u003e184062045.0\u003c/td\u003e\n    \u003c/tr\u003e\n    \u003ctr\u003e\n      \u003cth\u003e3\u003c/th\u003e\n      \u003ctd\u003e9100003965805\u003c/td\u003e\n      \u003ctd\u003eAZCON INC\u003c/td\u003e\n      \u003ctd\u003eQUIKTRIP FLEET FLEX PRIMARY\u003c/td\u003e\n      \u003ctd\u003e79098937.0\u003c/td\u003e\n    \u003c/tr\u003e\n    \u003ctr\u003e\n      \u003cth\u003e4\u003c/th\u003e\n      \u003ctd\u003e9100010409481\u003c/td\u003e\n      \u003ctd\u003eCHAMBER PAINTING AND REMODELING LLC\u003c/td\u003e\n      \u003ctd\u003eVALERO FLEET\u003c/td\u003e\n      \u003ctd\u003e11034557.0\u003c/td\u003e\n    \u003c/tr\u003e\n  \u003c/tbody\u003e\n\u003c/table\u003e\n\u003c/div\u003e"
          },
          "metadata": {}
        }
      ]
    },
    {
      "execution_count": 0,
      "cell_type": "code",
      "metadata": {},
      "source": [
        "\n# Compute recipe outputs from inputs\n# TODO: Replace this part by your actual code that computes the output, as a Pandas dataframe\n# NB: DSS also supports other kinds of APIs for reading and writing data. Please see doc.\n\n\n\nCALCULATED_DRAW_DOWNS_df \u003d NAFCUSTOMER_C360_ACCOUNTS_df # For this sample code, simply copy input to output\n\n\n# Write recipe outputs\nCALCULATED_DRAW_DOWNS \u003d dataiku.Dataset(\"CALCULATED_DRAW_DOWNS\")\nCALCULATED_DRAW_DOWNS.write_with_schema(CALCULATED_DRAW_DOWNS_df)"
      ],
      "outputs": []
    }
  ]
}