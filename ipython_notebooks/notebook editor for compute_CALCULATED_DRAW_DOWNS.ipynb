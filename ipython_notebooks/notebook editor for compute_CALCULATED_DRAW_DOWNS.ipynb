{
  "metadata": {
    "kernelspec": {
      "name": "py-dku-venv-env_clc",
      "display_name": "Python (env env_clc)",
      "language": "python"
    },
    "associatedRecipe": "compute_CALCULATED_DRAW_DOWNS",
    "dkuGit": {
      "lastInteraction": 0
    },
    "creationTag": {
      "versionNumber": 0,
      "lastModifiedBy": {
        "login": "Daniel.Vandermeer"
      },
      "lastModifiedOn": 1665593021198
    },
    "creator": "Daniel.Vandermeer",
    "createdOn": 1665593021198,
    "tags": [
      "recipe-editor"
    ],
    "customFields": {},
    "hide_input": false,
    "language_info": {
      "name": "python",
      "version": "3.6.8",
      "mimetype": "text/x-python",
      "codemirror_mode": {
        "name": "ipython",
        "version": 3
      },
      "pygments_lexer": "ipython3",
      "nbconvert_exporter": "python",
      "file_extension": ".py"
    },
    "modifiedBy": "Daniel.Vandermeer"
  },
  "nbformat": 4,
  "nbformat_minor": 1,
  "cells": [
    {
      "execution_count": 1,
      "cell_type": "code",
      "metadata": {},
      "source": [
        "# -*- coding: utf-8 -*-\nimport dataiku\nimport pandas as pd, numpy as np\nfrom dataiku import pandasutils as pdu\n\nimport pickle\nfrom dateutil.relativedelta import relativedelta\nimport gc\nfrom re import finditer\n\n## Find DD DU\nfrom helper import preprocess_data\nfrom patterns import find_drawdowns, find_drawups\n\n## MATCHING\nimport name_matching\nfrom name_matching import name_match\nimport transaction_matching\nfrom transaction_matching import transaction_match\n\n## CONSOLIDATION\nfrom consolidation import combine_matches, consolidate_matches, find_attritions, find_new_accounts, get_attrition_status, get_new_account_status"
      ],
      "outputs": []
    },
    {
      "execution_count": 5,
      "cell_type": "code",
      "metadata": {},
      "source": [
        "start_date \u003d dataiku.get_custom_variables()[\u0027start_date\u0027]\nend_date \u003d dataiku.get_custom_variables()[\u0027end_date\u0027]\n\nconsistency \u003d int(dataiku.get_custom_variables()[\u0027consistency\u0027])\ndrawdown_period_average \u003d int(dataiku.get_custom_variables()[\u0027drawdown_period_average\u0027])\ndrawdown \u003d int(dataiku.get_custom_variables()[\u0027drawdown\u0027])\ndrawdown_fwd_check \u003d int(dataiku.get_custom_variables()[\u0027drawdown_fwd_check\u0027])\ndrawdown_lookback_period \u003d int(dataiku.get_custom_variables()[\u0027drawdown_lookback_period\u0027])\ndrawup_lookfwd_period \u003d int(dataiku.get_custom_variables()[\u0027drawup_lookfwd_period\u0027])\nstatistics_period \u003d int(dataiku.get_custom_variables()[\u0027statistics_period\u0027])\ninactive_period \u003d int(dataiku.get_custom_variables()[\u0027inactive_period\u0027])\n\n## MATCHING VARIABLES\nmonth_diff_h \u003d int(dataiku.get_custom_variables()[\u0027month_diff_h\u0027])\nmonth_diff_l \u003d int(dataiku.get_custom_variables()[\u0027month_diff_l\u0027])\nsd_mul \u003d int(dataiku.get_custom_variables()[\u0027sd_mul\u0027])\nmax_city_distance \u003d int(dataiku.get_custom_variables()[\u0027max_city_distance\u0027])\nthreshold_score_step1 \u003d int(dataiku.get_custom_variables()[\u0027threshold_score_step1\u0027])\nthreshold_score_step2 \u003d int(dataiku.get_custom_variables()[\u0027threshold_score_step2\u0027])\n\n## RUN TYPE\nrun \u003d dataiku.get_custom_variables()[\u0027run_type\u0027]"
      ],
      "outputs": []
    },
    {
      "execution_count": 6,
      "cell_type": "code",
      "metadata": {},
      "source": [
        "def date_tz_naive(pd_s):\n    return pd.to_datetime(pd_s).apply(lambda x:x.tz_localize(None))"
      ],
      "outputs": []
    },
    {
      "execution_count": 7,
      "cell_type": "code",
      "metadata": {},
      "source": [
        "# Read recipe inputs\nNAFCUSTOMER_C360_ACCOUNTS \u003d dataiku.Dataset(\"NAFCUSTOMER_C360_ACCOUNTS\")\nNAFCUSTOMER_C360_ACCOUNTS_df \u003d NAFCUSTOMER_C360_ACCOUNTS.get_dataframe()\nprint(len(NAFCUSTOMER_C360_ACCOUNTS_df))\n\nNAFCUSTOMER_REVENUE_BY_CUSTOMER_LIMITED \u003d dataiku.Dataset(\"NAFCUSTOMER_REVENUE_BY_CUSTOMER_LIMITED\")\nNAFCUSTOMER_REVENUE_BY_CUSTOMER_LIMITED_df \u003d NAFCUSTOMER_REVENUE_BY_CUSTOMER_LIMITED.get_dataframe()\nprint(len(NAFCUSTOMER_REVENUE_BY_CUSTOMER_LIMITED_df))"
      ],
      "outputs": [
        {
          "output_type": "stream",
          "text": "844417\n21434\n",
          "name": "stdout"
        }
      ]
    },
    {
      "execution_count": 8,
      "cell_type": "code",
      "metadata": {},
      "source": [
        "NAFCUSTOMER_REVENUE_BY_CUSTOMER_LIMITED_df.head()"
      ],
      "outputs": [
        {
          "output_type": "execute_result",
          "execution_count": 8,
          "data": {
            "text/plain": "   CUSTOMER_ACCOUNT_ID       CUSTOMER_ACCOUNT_NAME                           CUSTOMER ACCOUNTSTATUS                SETUP_DATE      ACCOUNT_CLOSED_DATE  REVENUE_YEAR  REVENUE_QUARTER  REVENUE_MONTH CUSTOMER_SOURCE_SYSTEM_CODE CUSTOMER_BUSINESS_PROGRAM_NAME  BI_CUS_PAR  BI_PRODUCT  BI_MRU  REVENUE_AMOUNT_USD  GROSS_SPEND_AMOUNT  PURCHASE_GALLONS_QTY\n0         469008444325  ENDO PHARMACEUTICALS (EPH)         ENDO PHARMACEUTICALS (EPH)        Active 2011-03-07 08:00:00+00:00  9999-12-31 00:00:00.000          2019                1              1                      TANDEM                     Wheels old       33200       10200    3100          411.541966            21032.23              8632.216\n1         469005700778     RAYTHEON COMPANY (0469)            RAYTHEON COMPANY (0469)    Terminated 2016-05-24 07:00:00+00:00  2019-05-01 00:00:00.000          2019                1              1                      TANDEM                     Wheels old       33200       10200    3100           14.760585              571.05               231.016\n2         469005701925              LABCORP (3LAB)  LABORATORY CORPORATION OF AMERICA    Terminated 2018-10-03 07:00:00+00:00  2021-12-07 00:00:00.000          2019                1              1                      TANDEM                     Wheels old       33200       10200    3100        27725.567526          1640316.24            702892.287\n3         469007590169                          PB                         BALFOUR PB    Terminated 2007-10-12 07:00:00+00:00  2022-07-12 00:00:00.000          2019                1              1                      TANDEM                     Wheels old       33200       10200    3100         2225.512767           113508.92             46724.697\n4         469008711962    DAIICHI SANKYO, INC. (2)               DAIICHI SANKYO, INC.    Terminated 2012-03-19 07:00:00+00:00  2020-05-29 00:00:00.000          2019                1              1                      TANDEM                     Wheels old       33200       10200    3100         1721.795202           100059.56             42614.566",
            "text/html": "\u003cdiv\u003e\n\u003cstyle scoped\u003e\n    .dataframe tbody tr th:only-of-type {\n        vertical-align: middle;\n    }\n\n    .dataframe tbody tr th {\n        vertical-align: top;\n    }\n\n    .dataframe thead th {\n        text-align: right;\n    }\n\u003c/style\u003e\n\u003ctable border\u003d\"1\" class\u003d\"dataframe\"\u003e\n  \u003cthead\u003e\n    \u003ctr style\u003d\"text-align: right;\"\u003e\n      \u003cth\u003e\u003c/th\u003e\n      \u003cth\u003eCUSTOMER_ACCOUNT_ID\u003c/th\u003e\n      \u003cth\u003eCUSTOMER_ACCOUNT_NAME\u003c/th\u003e\n      \u003cth\u003eCUSTOMER\u003c/th\u003e\n      \u003cth\u003eACCOUNTSTATUS\u003c/th\u003e\n      \u003cth\u003eSETUP_DATE\u003c/th\u003e\n      \u003cth\u003eACCOUNT_CLOSED_DATE\u003c/th\u003e\n      \u003cth\u003eREVENUE_YEAR\u003c/th\u003e\n      \u003cth\u003eREVENUE_QUARTER\u003c/th\u003e\n      \u003cth\u003eREVENUE_MONTH\u003c/th\u003e\n      \u003cth\u003eCUSTOMER_SOURCE_SYSTEM_CODE\u003c/th\u003e\n      \u003cth\u003eCUSTOMER_BUSINESS_PROGRAM_NAME\u003c/th\u003e\n      \u003cth\u003eBI_CUS_PAR\u003c/th\u003e\n      \u003cth\u003eBI_PRODUCT\u003c/th\u003e\n      \u003cth\u003eBI_MRU\u003c/th\u003e\n      \u003cth\u003eREVENUE_AMOUNT_USD\u003c/th\u003e\n      \u003cth\u003eGROSS_SPEND_AMOUNT\u003c/th\u003e\n      \u003cth\u003ePURCHASE_GALLONS_QTY\u003c/th\u003e\n    \u003c/tr\u003e\n  \u003c/thead\u003e\n  \u003ctbody\u003e\n    \u003ctr\u003e\n      \u003cth\u003e0\u003c/th\u003e\n      \u003ctd\u003e469008444325\u003c/td\u003e\n      \u003ctd\u003eENDO PHARMACEUTICALS (EPH)\u003c/td\u003e\n      \u003ctd\u003eENDO PHARMACEUTICALS (EPH)\u003c/td\u003e\n      \u003ctd\u003eActive\u003c/td\u003e\n      \u003ctd\u003e2011-03-07 08:00:00+00:00\u003c/td\u003e\n      \u003ctd\u003e9999-12-31 00:00:00.000\u003c/td\u003e\n      \u003ctd\u003e2019\u003c/td\u003e\n      \u003ctd\u003e1\u003c/td\u003e\n      \u003ctd\u003e1\u003c/td\u003e\n      \u003ctd\u003eTANDEM\u003c/td\u003e\n      \u003ctd\u003eWheels old\u003c/td\u003e\n      \u003ctd\u003e33200\u003c/td\u003e\n      \u003ctd\u003e10200\u003c/td\u003e\n      \u003ctd\u003e3100\u003c/td\u003e\n      \u003ctd\u003e411.541966\u003c/td\u003e\n      \u003ctd\u003e21032.23\u003c/td\u003e\n      \u003ctd\u003e8632.216\u003c/td\u003e\n    \u003c/tr\u003e\n    \u003ctr\u003e\n      \u003cth\u003e1\u003c/th\u003e\n      \u003ctd\u003e469005700778\u003c/td\u003e\n      \u003ctd\u003eRAYTHEON COMPANY (0469)\u003c/td\u003e\n      \u003ctd\u003eRAYTHEON COMPANY (0469)\u003c/td\u003e\n      \u003ctd\u003eTerminated\u003c/td\u003e\n      \u003ctd\u003e2016-05-24 07:00:00+00:00\u003c/td\u003e\n      \u003ctd\u003e2019-05-01 00:00:00.000\u003c/td\u003e\n      \u003ctd\u003e2019\u003c/td\u003e\n      \u003ctd\u003e1\u003c/td\u003e\n      \u003ctd\u003e1\u003c/td\u003e\n      \u003ctd\u003eTANDEM\u003c/td\u003e\n      \u003ctd\u003eWheels old\u003c/td\u003e\n      \u003ctd\u003e33200\u003c/td\u003e\n      \u003ctd\u003e10200\u003c/td\u003e\n      \u003ctd\u003e3100\u003c/td\u003e\n      \u003ctd\u003e14.760585\u003c/td\u003e\n      \u003ctd\u003e571.05\u003c/td\u003e\n      \u003ctd\u003e231.016\u003c/td\u003e\n    \u003c/tr\u003e\n    \u003ctr\u003e\n      \u003cth\u003e2\u003c/th\u003e\n      \u003ctd\u003e469005701925\u003c/td\u003e\n      \u003ctd\u003eLABCORP (3LAB)\u003c/td\u003e\n      \u003ctd\u003eLABORATORY CORPORATION OF AMERICA\u003c/td\u003e\n      \u003ctd\u003eTerminated\u003c/td\u003e\n      \u003ctd\u003e2018-10-03 07:00:00+00:00\u003c/td\u003e\n      \u003ctd\u003e2021-12-07 00:00:00.000\u003c/td\u003e\n      \u003ctd\u003e2019\u003c/td\u003e\n      \u003ctd\u003e1\u003c/td\u003e\n      \u003ctd\u003e1\u003c/td\u003e\n      \u003ctd\u003eTANDEM\u003c/td\u003e\n      \u003ctd\u003eWheels old\u003c/td\u003e\n      \u003ctd\u003e33200\u003c/td\u003e\n      \u003ctd\u003e10200\u003c/td\u003e\n      \u003ctd\u003e3100\u003c/td\u003e\n      \u003ctd\u003e27725.567526\u003c/td\u003e\n      \u003ctd\u003e1640316.24\u003c/td\u003e\n      \u003ctd\u003e702892.287\u003c/td\u003e\n    \u003c/tr\u003e\n    \u003ctr\u003e\n      \u003cth\u003e3\u003c/th\u003e\n      \u003ctd\u003e469007590169\u003c/td\u003e\n      \u003ctd\u003ePB\u003c/td\u003e\n      \u003ctd\u003eBALFOUR PB\u003c/td\u003e\n      \u003ctd\u003eTerminated\u003c/td\u003e\n      \u003ctd\u003e2007-10-12 07:00:00+00:00\u003c/td\u003e\n      \u003ctd\u003e2022-07-12 00:00:00.000\u003c/td\u003e\n      \u003ctd\u003e2019\u003c/td\u003e\n      \u003ctd\u003e1\u003c/td\u003e\n      \u003ctd\u003e1\u003c/td\u003e\n      \u003ctd\u003eTANDEM\u003c/td\u003e\n      \u003ctd\u003eWheels old\u003c/td\u003e\n      \u003ctd\u003e33200\u003c/td\u003e\n      \u003ctd\u003e10200\u003c/td\u003e\n      \u003ctd\u003e3100\u003c/td\u003e\n      \u003ctd\u003e2225.512767\u003c/td\u003e\n      \u003ctd\u003e113508.92\u003c/td\u003e\n      \u003ctd\u003e46724.697\u003c/td\u003e\n    \u003c/tr\u003e\n    \u003ctr\u003e\n      \u003cth\u003e4\u003c/th\u003e\n      \u003ctd\u003e469008711962\u003c/td\u003e\n      \u003ctd\u003eDAIICHI SANKYO, INC. (2)\u003c/td\u003e\n      \u003ctd\u003eDAIICHI SANKYO, INC.\u003c/td\u003e\n      \u003ctd\u003eTerminated\u003c/td\u003e\n      \u003ctd\u003e2012-03-19 07:00:00+00:00\u003c/td\u003e\n      \u003ctd\u003e2020-05-29 00:00:00.000\u003c/td\u003e\n      \u003ctd\u003e2019\u003c/td\u003e\n      \u003ctd\u003e1\u003c/td\u003e\n      \u003ctd\u003e1\u003c/td\u003e\n      \u003ctd\u003eTANDEM\u003c/td\u003e\n      \u003ctd\u003eWheels old\u003c/td\u003e\n      \u003ctd\u003e33200\u003c/td\u003e\n      \u003ctd\u003e10200\u003c/td\u003e\n      \u003ctd\u003e3100\u003c/td\u003e\n      \u003ctd\u003e1721.795202\u003c/td\u003e\n      \u003ctd\u003e100059.56\u003c/td\u003e\n      \u003ctd\u003e42614.566\u003c/td\u003e\n    \u003c/tr\u003e\n  \u003c/tbody\u003e\n\u003c/table\u003e\n\u003c/div\u003e"
          },
          "metadata": {}
        }
      ]
    },
    {
      "execution_count": 0,
      "cell_type": "code",
      "metadata": {},
      "source": [
        "# Compute recipe outputs from inputs\n# TODO: Replace this part by your actual code that computes the output, as a Pandas dataframe\n# NB: DSS also supports other kinds of APIs for reading and writing data. Please see doc.\n\n\n\nCALCULATED_DRAW_DOWNS_df \u003d NAFCUSTOMER_C360_ACCOUNTS_df # For this sample code, simply copy input to output\n\n\n# Write recipe outputs\nCALCULATED_DRAW_DOWNS \u003d dataiku.Dataset(\"CALCULATED_DRAW_DOWNS\")\nCALCULATED_DRAW_DOWNS.write_with_schema(CALCULATED_DRAW_DOWNS_df)"
      ],
      "outputs": []
    }
  ]
}