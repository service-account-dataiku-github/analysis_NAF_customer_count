{
  "metadata": {
    "kernelspec": {
      "name": "py-dku-venv-env_clc",
      "display_name": "Python (env env_clc)",
      "language": "python"
    },
    "associatedRecipe": "compute_CALCULATED_DRAW_DOWNS",
    "dkuGit": {
      "lastInteraction": 0
    },
    "creationTag": {
      "versionNumber": 0,
      "lastModifiedBy": {
        "login": "Daniel.Vandermeer"
      },
      "lastModifiedOn": 1665593021198
    },
    "creator": "Daniel.Vandermeer",
    "createdOn": 1665593021198,
    "tags": [
      "recipe-editor"
    ],
    "customFields": {},
    "hide_input": false,
    "language_info": {
      "name": "python",
      "version": "3.6.8",
      "mimetype": "text/x-python",
      "codemirror_mode": {
        "name": "ipython",
        "version": 3
      },
      "pygments_lexer": "ipython3",
      "nbconvert_exporter": "python",
      "file_extension": ".py"
    },
    "modifiedBy": "Daniel.Vandermeer"
  },
  "nbformat": 4,
  "nbformat_minor": 1,
  "cells": [
    {
      "execution_count": 16,
      "cell_type": "code",
      "metadata": {},
      "source": [
        "# -*- coding: utf-8 -*-\nimport dataiku\nimport pandas as pd, numpy as np\nfrom dataiku import pandasutils as pdu\n\nimport pickle\nfrom dateutil.relativedelta import relativedelta\nimport gc\nfrom re import finditer\n\n## Find DD DU\nfrom helper import preprocess_data\nfrom patterns import find_drawdowns, find_drawups\n\n## MATCHING\nimport name_matching\nfrom name_matching import name_match\nimport transaction_matching\nfrom transaction_matching import transaction_match\n\n## CONSOLIDATION\nfrom consolidation import combine_matches, consolidate_matches, find_attritions, find_new_accounts, get_attrition_status, get_new_account_status"
      ],
      "outputs": []
    },
    {
      "execution_count": 17,
      "cell_type": "code",
      "metadata": {},
      "source": [
        "start_date \u003d dataiku.get_custom_variables()[\u0027start_date\u0027]\nend_date \u003d dataiku.get_custom_variables()[\u0027end_date\u0027]\n\nconsistency \u003d int(dataiku.get_custom_variables()[\u0027consistency\u0027])\ndrawdown_period_average \u003d int(dataiku.get_custom_variables()[\u0027drawdown_period_average\u0027])\ndrawdown \u003d int(dataiku.get_custom_variables()[\u0027drawdown\u0027])\ndrawdown_fwd_check \u003d int(dataiku.get_custom_variables()[\u0027drawdown_fwd_check\u0027])\ndrawdown_lookback_period \u003d int(dataiku.get_custom_variables()[\u0027drawdown_lookback_period\u0027])\ndrawup_lookfwd_period \u003d int(dataiku.get_custom_variables()[\u0027drawup_lookfwd_period\u0027])\nstatistics_period \u003d int(dataiku.get_custom_variables()[\u0027statistics_period\u0027])\ninactive_period \u003d int(dataiku.get_custom_variables()[\u0027inactive_period\u0027])\n\n## MATCHING VARIABLES\nmonth_diff_h \u003d int(dataiku.get_custom_variables()[\u0027month_diff_h\u0027])\nmonth_diff_l \u003d int(dataiku.get_custom_variables()[\u0027month_diff_l\u0027])\nsd_mul \u003d int(dataiku.get_custom_variables()[\u0027sd_mul\u0027])\nmax_city_distance \u003d int(dataiku.get_custom_variables()[\u0027max_city_distance\u0027])\nthreshold_score_step1 \u003d int(dataiku.get_custom_variables()[\u0027threshold_score_step1\u0027])\nthreshold_score_step2 \u003d int(dataiku.get_custom_variables()[\u0027threshold_score_step2\u0027])\n\n## RUN TYPE\nrun \u003d dataiku.get_custom_variables()[\u0027run_type\u0027]"
      ],
      "outputs": []
    },
    {
      "execution_count": 18,
      "cell_type": "code",
      "metadata": {},
      "source": [
        "def date_tz_naive(pd_s):\n    return pd.to_datetime(pd_s).apply(lambda x:x.tz_localize(None))"
      ],
      "outputs": []
    },
    {
      "execution_count": 19,
      "cell_type": "code",
      "metadata": {},
      "source": [
        "# Read recipe inputs\nNAFCUSTOMER_C360_ACCOUNTS \u003d dataiku.Dataset(\"NAFCUSTOMER_C360_ACCOUNTS\")\nNAFCUSTOMER_C360_ACCOUNTS_df \u003d NAFCUSTOMER_C360_ACCOUNTS.get_dataframe()\nprint(len(NAFCUSTOMER_C360_ACCOUNTS_df))\n\nNAFCUSTOMER_REVENUE_BY_CUSTOMER_LIMITED \u003d dataiku.Dataset(\"NAFCUSTOMER_REVENUE_BY_CUSTOMER_LIMITED\")\nNAFCUSTOMER_REVENUE_BY_CUSTOMER_LIMITED_df \u003d NAFCUSTOMER_REVENUE_BY_CUSTOMER_LIMITED.get_dataframe()\nprint(len(NAFCUSTOMER_REVENUE_BY_CUSTOMER_LIMITED_df))"
      ],
      "outputs": [
        {
          "output_type": "stream",
          "text": "844417\n21434\n",
          "name": "stdout"
        }
      ]
    },
    {
      "execution_count": 20,
      "cell_type": "code",
      "metadata": {},
      "source": [
        "df_v \u003d NAFCUSTOMER_REVENUE_BY_CUSTOMER_LIMITED_df\n\nprint(len(df_v))\ndf_v[\u0027REVENUE_DATE\u0027] \u003d df_v.REVENUE_MONTH.astype(str) + \"/01/\" + df_v.REVENUE_YEAR.astype(str)\ndf_v[\u0027REVENUE_DATE\u0027] \u003d date_tz_naive(df_v[\u0027REVENUE_DATE\u0027])\nprint(len(df_v))\ndf_v.head()"
      ],
      "outputs": [
        {
          "output_type": "stream",
          "text": "21434\n21434\n",
          "name": "stdout"
        },
        {
          "output_type": "execute_result",
          "execution_count": 20,
          "data": {
            "text/plain": "   CUSTOMER_ACCOUNT_ID          CUSTOMER_ACCOUNT_NAME                     CUSTOMER ACCOUNTSTATUS                SETUP_DATE      ACCOUNT_CLOSED_DATE  REVENUE_YEAR  REVENUE_QUARTER  REVENUE_MONTH ACCOUNT_CITY ACCOUNT_STATE CUSTOMER_SOURCE_SYSTEM_CODE CUSTOMER_BUSINESS_PROGRAM_NAME  BI_CUS_PAR  BI_PRODUCT  BI_MRU  REVENUE_AMOUNT_USD  GROSS_SPEND_AMOUNT  PURCHASE_GALLONS_QTY  ACTIVE_CARD_COUNT REVENUE_DATE\n0         469007639032          SIEMENS BLDG TECH (2)              SIEMENS MEDICAL        Active 2007-12-07 08:00:00+00:00  9999-12-31 00:00:00.000          2019                1              1  Des Plaines            IL                      TANDEM                     Wheels old       33200       10200    3100          408.592520            18391.35              7602.992              119.0   2019-01-01\n1         469005701255              CALIFORNIA WATERS             CALIFORNIAWATERS        Active 2017-08-24 07:00:00+00:00  9999-12-31 00:00:00.000          2019                1              1  Des Plaines            IL                      TANDEM                     Wheels old       33200       10200    3100         2145.328235           114502.95             32432.799              446.0   2019-01-01\n2         469005701172               HARTUNG BROTHERS             HARTUNG BROTHERS    Terminated 2017-07-03 07:00:00+00:00  2022-07-12 00:00:00.000          2019                1              1  Des Plaines            IL                      TANDEM                     Wheels old       33200       10200    3100          199.400141             2145.55               616.969               11.0   2019-01-01\n3         469005700208    CONSTELLATION BRANDS (3CRW)  CONSTELLATION BRANDS (3CRW)    Terminated 2015-02-18 08:00:00+00:00  2021-03-10 00:00:00.000          2019                1              1  Des Plaines            IL                      TANDEM                     Wheels old       33200       10200    3100         1139.458388            55804.33             21944.178              344.0   2019-01-01\n4         469008059644  BALFOUR BEATTY EQUIPMENT ONLY                BALFOUR EQUIP        Active 2009-08-20 07:00:00+00:00  9999-12-31 00:00:00.000          2019                1              1  Des Plaines            IL                      TANDEM                     Wheels old       33200       10200    3100          701.569042            49047.39             18068.041              110.0   2019-01-01",
            "text/html": "\u003cdiv\u003e\n\u003cstyle scoped\u003e\n    .dataframe tbody tr th:only-of-type {\n        vertical-align: middle;\n    }\n\n    .dataframe tbody tr th {\n        vertical-align: top;\n    }\n\n    .dataframe thead th {\n        text-align: right;\n    }\n\u003c/style\u003e\n\u003ctable border\u003d\"1\" class\u003d\"dataframe\"\u003e\n  \u003cthead\u003e\n    \u003ctr style\u003d\"text-align: right;\"\u003e\n      \u003cth\u003e\u003c/th\u003e\n      \u003cth\u003eCUSTOMER_ACCOUNT_ID\u003c/th\u003e\n      \u003cth\u003eCUSTOMER_ACCOUNT_NAME\u003c/th\u003e\n      \u003cth\u003eCUSTOMER\u003c/th\u003e\n      \u003cth\u003eACCOUNTSTATUS\u003c/th\u003e\n      \u003cth\u003eSETUP_DATE\u003c/th\u003e\n      \u003cth\u003eACCOUNT_CLOSED_DATE\u003c/th\u003e\n      \u003cth\u003eREVENUE_YEAR\u003c/th\u003e\n      \u003cth\u003eREVENUE_QUARTER\u003c/th\u003e\n      \u003cth\u003eREVENUE_MONTH\u003c/th\u003e\n      \u003cth\u003eACCOUNT_CITY\u003c/th\u003e\n      \u003cth\u003eACCOUNT_STATE\u003c/th\u003e\n      \u003cth\u003eCUSTOMER_SOURCE_SYSTEM_CODE\u003c/th\u003e\n      \u003cth\u003eCUSTOMER_BUSINESS_PROGRAM_NAME\u003c/th\u003e\n      \u003cth\u003eBI_CUS_PAR\u003c/th\u003e\n      \u003cth\u003eBI_PRODUCT\u003c/th\u003e\n      \u003cth\u003eBI_MRU\u003c/th\u003e\n      \u003cth\u003eREVENUE_AMOUNT_USD\u003c/th\u003e\n      \u003cth\u003eGROSS_SPEND_AMOUNT\u003c/th\u003e\n      \u003cth\u003ePURCHASE_GALLONS_QTY\u003c/th\u003e\n      \u003cth\u003eACTIVE_CARD_COUNT\u003c/th\u003e\n      \u003cth\u003eREVENUE_DATE\u003c/th\u003e\n    \u003c/tr\u003e\n  \u003c/thead\u003e\n  \u003ctbody\u003e\n    \u003ctr\u003e\n      \u003cth\u003e0\u003c/th\u003e\n      \u003ctd\u003e469007639032\u003c/td\u003e\n      \u003ctd\u003eSIEMENS BLDG TECH (2)\u003c/td\u003e\n      \u003ctd\u003eSIEMENS MEDICAL\u003c/td\u003e\n      \u003ctd\u003eActive\u003c/td\u003e\n      \u003ctd\u003e2007-12-07 08:00:00+00:00\u003c/td\u003e\n      \u003ctd\u003e9999-12-31 00:00:00.000\u003c/td\u003e\n      \u003ctd\u003e2019\u003c/td\u003e\n      \u003ctd\u003e1\u003c/td\u003e\n      \u003ctd\u003e1\u003c/td\u003e\n      \u003ctd\u003eDes Plaines\u003c/td\u003e\n      \u003ctd\u003eIL\u003c/td\u003e\n      \u003ctd\u003eTANDEM\u003c/td\u003e\n      \u003ctd\u003eWheels old\u003c/td\u003e\n      \u003ctd\u003e33200\u003c/td\u003e\n      \u003ctd\u003e10200\u003c/td\u003e\n      \u003ctd\u003e3100\u003c/td\u003e\n      \u003ctd\u003e408.592520\u003c/td\u003e\n      \u003ctd\u003e18391.35\u003c/td\u003e\n      \u003ctd\u003e7602.992\u003c/td\u003e\n      \u003ctd\u003e119.0\u003c/td\u003e\n      \u003ctd\u003e2019-01-01\u003c/td\u003e\n    \u003c/tr\u003e\n    \u003ctr\u003e\n      \u003cth\u003e1\u003c/th\u003e\n      \u003ctd\u003e469005701255\u003c/td\u003e\n      \u003ctd\u003eCALIFORNIA WATERS\u003c/td\u003e\n      \u003ctd\u003eCALIFORNIAWATERS\u003c/td\u003e\n      \u003ctd\u003eActive\u003c/td\u003e\n      \u003ctd\u003e2017-08-24 07:00:00+00:00\u003c/td\u003e\n      \u003ctd\u003e9999-12-31 00:00:00.000\u003c/td\u003e\n      \u003ctd\u003e2019\u003c/td\u003e\n      \u003ctd\u003e1\u003c/td\u003e\n      \u003ctd\u003e1\u003c/td\u003e\n      \u003ctd\u003eDes Plaines\u003c/td\u003e\n      \u003ctd\u003eIL\u003c/td\u003e\n      \u003ctd\u003eTANDEM\u003c/td\u003e\n      \u003ctd\u003eWheels old\u003c/td\u003e\n      \u003ctd\u003e33200\u003c/td\u003e\n      \u003ctd\u003e10200\u003c/td\u003e\n      \u003ctd\u003e3100\u003c/td\u003e\n      \u003ctd\u003e2145.328235\u003c/td\u003e\n      \u003ctd\u003e114502.95\u003c/td\u003e\n      \u003ctd\u003e32432.799\u003c/td\u003e\n      \u003ctd\u003e446.0\u003c/td\u003e\n      \u003ctd\u003e2019-01-01\u003c/td\u003e\n    \u003c/tr\u003e\n    \u003ctr\u003e\n      \u003cth\u003e2\u003c/th\u003e\n      \u003ctd\u003e469005701172\u003c/td\u003e\n      \u003ctd\u003eHARTUNG BROTHERS\u003c/td\u003e\n      \u003ctd\u003eHARTUNG BROTHERS\u003c/td\u003e\n      \u003ctd\u003eTerminated\u003c/td\u003e\n      \u003ctd\u003e2017-07-03 07:00:00+00:00\u003c/td\u003e\n      \u003ctd\u003e2022-07-12 00:00:00.000\u003c/td\u003e\n      \u003ctd\u003e2019\u003c/td\u003e\n      \u003ctd\u003e1\u003c/td\u003e\n      \u003ctd\u003e1\u003c/td\u003e\n      \u003ctd\u003eDes Plaines\u003c/td\u003e\n      \u003ctd\u003eIL\u003c/td\u003e\n      \u003ctd\u003eTANDEM\u003c/td\u003e\n      \u003ctd\u003eWheels old\u003c/td\u003e\n      \u003ctd\u003e33200\u003c/td\u003e\n      \u003ctd\u003e10200\u003c/td\u003e\n      \u003ctd\u003e3100\u003c/td\u003e\n      \u003ctd\u003e199.400141\u003c/td\u003e\n      \u003ctd\u003e2145.55\u003c/td\u003e\n      \u003ctd\u003e616.969\u003c/td\u003e\n      \u003ctd\u003e11.0\u003c/td\u003e\n      \u003ctd\u003e2019-01-01\u003c/td\u003e\n    \u003c/tr\u003e\n    \u003ctr\u003e\n      \u003cth\u003e3\u003c/th\u003e\n      \u003ctd\u003e469005700208\u003c/td\u003e\n      \u003ctd\u003eCONSTELLATION BRANDS (3CRW)\u003c/td\u003e\n      \u003ctd\u003eCONSTELLATION BRANDS (3CRW)\u003c/td\u003e\n      \u003ctd\u003eTerminated\u003c/td\u003e\n      \u003ctd\u003e2015-02-18 08:00:00+00:00\u003c/td\u003e\n      \u003ctd\u003e2021-03-10 00:00:00.000\u003c/td\u003e\n      \u003ctd\u003e2019\u003c/td\u003e\n      \u003ctd\u003e1\u003c/td\u003e\n      \u003ctd\u003e1\u003c/td\u003e\n      \u003ctd\u003eDes Plaines\u003c/td\u003e\n      \u003ctd\u003eIL\u003c/td\u003e\n      \u003ctd\u003eTANDEM\u003c/td\u003e\n      \u003ctd\u003eWheels old\u003c/td\u003e\n      \u003ctd\u003e33200\u003c/td\u003e\n      \u003ctd\u003e10200\u003c/td\u003e\n      \u003ctd\u003e3100\u003c/td\u003e\n      \u003ctd\u003e1139.458388\u003c/td\u003e\n      \u003ctd\u003e55804.33\u003c/td\u003e\n      \u003ctd\u003e21944.178\u003c/td\u003e\n      \u003ctd\u003e344.0\u003c/td\u003e\n      \u003ctd\u003e2019-01-01\u003c/td\u003e\n    \u003c/tr\u003e\n    \u003ctr\u003e\n      \u003cth\u003e4\u003c/th\u003e\n      \u003ctd\u003e469008059644\u003c/td\u003e\n      \u003ctd\u003eBALFOUR BEATTY EQUIPMENT ONLY\u003c/td\u003e\n      \u003ctd\u003eBALFOUR EQUIP\u003c/td\u003e\n      \u003ctd\u003eActive\u003c/td\u003e\n      \u003ctd\u003e2009-08-20 07:00:00+00:00\u003c/td\u003e\n      \u003ctd\u003e9999-12-31 00:00:00.000\u003c/td\u003e\n      \u003ctd\u003e2019\u003c/td\u003e\n      \u003ctd\u003e1\u003c/td\u003e\n      \u003ctd\u003e1\u003c/td\u003e\n      \u003ctd\u003eDes Plaines\u003c/td\u003e\n      \u003ctd\u003eIL\u003c/td\u003e\n      \u003ctd\u003eTANDEM\u003c/td\u003e\n      \u003ctd\u003eWheels old\u003c/td\u003e\n      \u003ctd\u003e33200\u003c/td\u003e\n      \u003ctd\u003e10200\u003c/td\u003e\n      \u003ctd\u003e3100\u003c/td\u003e\n      \u003ctd\u003e701.569042\u003c/td\u003e\n      \u003ctd\u003e49047.39\u003c/td\u003e\n      \u003ctd\u003e18068.041\u003c/td\u003e\n      \u003ctd\u003e110.0\u003c/td\u003e\n      \u003ctd\u003e2019-01-01\u003c/td\u003e\n    \u003c/tr\u003e\n  \u003c/tbody\u003e\n\u003c/table\u003e\n\u003c/div\u003e"
          },
          "metadata": {}
        }
      ]
    },
    {
      "execution_count": 21,
      "cell_type": "code",
      "metadata": {},
      "source": [
        "print(len(df_v))\ndf_v \u003d df_v[df_v[\u0027REVENUE_DATE\u0027].between(pd.to_datetime(start_date), pd.to_datetime(end_date))].copy()\ndf_v \u003d df_v.dropna(subset\u003d[\u0027CUSTOMER_ACCOUNT_ID\u0027])\ndf_v \u003d df_v[df_v[\u0027CUSTOMER_SOURCE_SYSTEM_CODE\u0027].isin([\u0027TANDEM\u0027, \u0027SIEBEL\u0027])]\nprint(len(df_v))"
      ],
      "outputs": [
        {
          "output_type": "stream",
          "text": "21434\n21434\n",
          "name": "stdout"
        }
      ]
    },
    {
      "execution_count": 22,
      "cell_type": "code",
      "metadata": {},
      "source": [
        "df_v[\u0027CUSTOMER_ACCOUNT_ID\u0027] \u003d df_v[\u0027CUSTOMER_ACCOUNT_ID\u0027].astype(\u0027int64\u0027)\ndf_v[\u0027REVENUE_DATE\u0027] \u003d pd.to_datetime(df_v[\u0027REVENUE_DATE\u0027])"
      ],
      "outputs": []
    },
    {
      "execution_count": 23,
      "cell_type": "code",
      "metadata": {},
      "source": [
        "states \u003d list(df_v[\u0027ACCOUNT_STATE\u0027].unique())\nstates_dict \u003d {s:s.upper() for s in states}"
      ],
      "outputs": []
    },
    {
      "execution_count": 24,
      "cell_type": "code",
      "metadata": {},
      "source": [
        "df_v[\u0027ACCOUNT_STATE\u0027] \u003d df_v[\u0027ACCOUNT_STATE\u0027].map(states_dict)"
      ],
      "outputs": []
    },
    {
      "execution_count": 25,
      "cell_type": "code",
      "metadata": {},
      "source": [
        "## remove the unneccesary columns\nremove_cols\u003d[\u0027REVENUE_MONTH\u0027,\u0027REVENUE_YEAR\u0027, \u0027REVENUE_QUARTER\u0027]\ndf_v \u003d df_v.drop([x for x in remove_cols if x in df_v.columns], axis\u003d1)"
      ],
      "outputs": []
    },
    {
      "execution_count": 28,
      "cell_type": "code",
      "metadata": {},
      "source": [
        "df_v.sort_values([\u0027REVENUE_DATE\u0027], inplace\u003dTrue)"
      ],
      "outputs": []
    },
    {
      "execution_count": 29,
      "cell_type": "code",
      "metadata": {},
      "source": [
        "seen_accounts \u003d df_v[df_v[\u0027PURCHASE_GALLONS_QTY\u0027] \u003e 0].groupby([\u0027CUSTOMER_ACCOUNT_ID\u0027], as_index\u003dFalse)[[\u0027REVENUE_DATE\u0027]].first()\nseen_accounts[\u0027FIRST_DATE\u0027] \u003d seen_accounts[\u0027REVENUE_DATE\u0027] - pd.DateOffset(months\u003d1)"
      ],
      "outputs": []
    },
    {
      "execution_count": 32,
      "cell_type": "code",
      "metadata": {},
      "source": [
        "df_v.REVENUE_DATE.value_counts(dropna\u003dFalse)\nprint(len(df_v))"
      ],
      "outputs": [
        {
          "output_type": "stream",
          "text": "21434\n",
          "name": "stdout"
        }
      ]
    },
    {
      "execution_count": 47,
      "cell_type": "code",
      "metadata": {},
      "source": [
        "import pandas as pd\nimport numpy as np\nfrom tqdm import tqdm\nfrom dateutil.relativedelta import relativedelta\nfrom helper import *\n\n#---------------------\n# input vars\ndf \u003d df_v\nperiod_end_date \u003d end_date\nmatch_type \u003d \u0027program_flip\u0027\nperiod_start_date\u003dNone\nsplit\u003dNone\n#------------------------\n\ndrawdown \u003d (100 - drawdown)/100\ndrawdown_fwd_check /\u003d 100\n\ninactive_date_start \u003d pd.to_datetime(period_end_date) + relativedelta(months\u003d-inactive_period)\n\nif match_type \u003d\u003d \u0027conversion\u0027:\n    df \u003d df[df[\u0027CUSTOMER_SOURCE_SYSTEM_CODE\u0027] \u003d\u003d \u0027TANDEM\u0027].copy()\n\ndf \u003d df[df[\u0027REVENUE_DATE\u0027] \u003c\u003d period_end_date].copy()\n\nif period_start_date:\n    period_start_date \u003d pd.to_datetime(period_start_date)\n    df \u003d df[df[\u0027REVENUE_DATE\u0027] \u003e\u003d period_start_date].copy()\n    \nall_account_ids \u003d list(df[\u0027CUSTOMER_ACCOUNT_ID\u0027].unique())\n\nif not split:\n    split\u003d1\n    \nall_account_ids_n \u003d list(split_list(all_account_ids, split))\n\ndrop_df \u003d pd.DataFrame()\n\nfor sublist in tqdm(all_account_ids_n):\n    \n    \n    dd_find \u003d df[df[\u0027CUSTOMER_ACCOUNT_ID\u0027].isin(sublist)].copy()\n\n    ## Find consistent customers\n    consistent_customers_dd \u003d find_consistent_customers(dd_find, consecutive\u003dconsistency)\n    if len(consistent_customers_dd) \u003d\u003d 0:\n        continue"
      ],
      "outputs": [
        {
          "output_type": "stream",
          "text": "  0%|          | 0/1 [00:00\u003c?, ?it/s]",
          "name": "stderr"
        },
        {
          "output_type": "stream",
          "text": "[469007639032, 469009107194, 469009126384, 469009102468, 469004711784, 469005700620, 469007526122, 469007067010, 469005700851, 469005701198, 469008279424, 469008665895, 469007474927, 469007891765, 469005701412, 469005701586, 469004634614, 469009020769, 469007247604, 469005701834, 469005701222, 469009100868, 469007767247, 469008149858, 469008048621, 469008590267, 469005082086, 469004377958, 469005701271, 469004657987, 469008828964, 469005701370, 469005788146, 469005967724, 469009179904, 469001888593, 469007612641, 469007863301, 469005700307, 469005701990, 469005701545, 469005701933, 469005701164, 469005701669, 469005700547, 469005701461, 469008129835, 469005701867, 469004577144, 469003752243, 469005701958, 469005700687, 469009165390, 469008711962, 469007628563, 469004543617, 469005700463, 469008723413, 469005700471, 469008045155, 469008149452, 469005701107, 469004372959, 469005701610, 469008559437, 469005125935, 469009022831, 469005700224, 469005701602, 469001870971, 469003810538, 469007790108, 469007815616, 469004361812, 469007627169, 469007959281, 469008092207, 469006940951, 469008720641, 469009018250, 469008362147, 469008985285, 469004523379, 469005700729, 469005700638, 469004422739, 469005701511, 469004509816, 469005701644, 469005700125, 469007672793, 469005701289, 469004106050, 469007785280, 469005795976, 469008729212, 469009022914, 469005701297, 469009022948, 469009022823, 469005131156, 469005701651, 469005700273, 469005701784, 469007925027, 469005838420, 469007891757, 469005896980, 469007258999, 469008942609, 469007590169, 469005700448, 469005700083, 469005701917, 469005701123, 469009026907, 469008476608, 469009148123, 469002678092, 469004656567, 469005700778, 469008582264, 469008192387, 469007884315, 469008877623, 469005700646, 469009022880, 469005701313, 469007336522, 469006986004, 469005701008, 469005700299, 469009215013, 469008188765, 469009022807, 469002486827, 469001739416, 469005700927, 469004928818, 469008444325, 469009022856, 469007408776, 469009022930, 469005701719, 469009102617, 469005700836, 469001870989, 469009142571, 469005701925, 469005700117, 469008749335, 469005701263, 469005701057, 469005701032, 469005701941, 469009184045, 469005701446, 469009083569, 469008820995, 469004809307, 469002217420, 469004601704, 469005700679, 469004778940, 469005746086, 469009149196, 469005700950, 469005700323, 469005701149, 469005701024, 469009225020, 469005701768, 469005701339, 469008969669, 469009212291, 469008967069, 469005701537, 469008041725, 469005701206, 469008660995, 469005702063, 469005700422, 469005700430, 469008275745, 469005700166, 469008066912, 469008828923, 469005700695, 469005701628, 469005701909, 469005700380, 469005701180, 469005700901, 469005700612, 469005701016, 469008049306, 469009147919, 469005701693, 469007408768, 469005701743, 469005701974, 469005701875, 469005701354, 469008564411, 469009022989, 469005701479, 469005700372, 469007628092, 469009266057, 469004809281, 469008571408, 469008901753, 469005700281, 469002069128, 469007765225, 469005701404, 469005700935, 469008824591, 469006368880, 469009022971, 469006972574, 469005701578, 469006077416, 469007985906, 469005701560, 469008993750, 469005700174, 469008116196, 469005701396, 469005702022, 469007913395, 469008689879, 469005701388, 469007592355, 469007690829, 469005700331, 469005700943, 469008581571, 469007704091, 469005701982, 469005746078, 469005701776, 469008653479, 469006251383, 469009023193, 469006431589, 469009201070, 469008056988, 469005700349, 469008866683, 469004105466, 469005701115, 469005700455, 469007793607, 469005701792, 469005904826, 469005700802, 469004361796, 469005700653, 469007672785, 469005700406, 469005700042, 469008571424, 469004670634, 469005700737, 469005701750, 469008245185, 469005701701, 469005700190, 469004059721, 469006022263, 469009266321, 469005701420, 469006261242, 469004180436, 469008898447, 469005701800, 469004997029, 469005700067, 469005701073, 469008063505, 469004809315, 469005701099, 469005700315, 469005702055, 469005700513, 469008244857, 469001704758, 469008371486, 469005700505, 469009093428, 469008059644, 469005700208, 469005701172, 469005701255, 469005700497, 469005700992, 469009008749, 469006919856, 469007790082, 469006245385, 469007904170, 469009023185, 469006434625, 469005701503, 469008092199, 469005702006, 469009022864, 469005700398, 469008980732, 469005761101, 469005701081, 469002676138, 469005701438, 469007869589, 469009201047, 469006834022, 469005701842, 469005701131, 469006026579, 469005701859, 469009211376, 469004330163, 469006424261, 469009012055, 469005701321, 469005007604, 469008476699, 469005701636, 469006723001, 469004634630, 469009022849, 469005701487, 469008444309, 469006409221, 469005700018, 469005700976, 469005701594, 469003985264, 469005700489, 469005701347, 469005139993, 469004889226, 469005700869, 469005700539, 469003913555, 469008680548, 469007688591, 469003372828, 469005700893, 469006468607, 469005700661, 469008246456, 469004991840, 469004809331, 469008512634, 469005701727, 469007636350, 469008317349, 469004436986, 469006254247, 469008497554, 469005700554, 469008317372, 469004662730, 469007432123, 469005701883, 469008758385, 469009201062, 469005701495, 469009209222, 469008392821, 469009193178, 469008963381, 469005838438, 469005701966, 469005701891, 469005700133, 469004951497, 469007906944, 469005701362, 469009269390, 469005701248, 469008767170, 469008382152, 469002371094, 469003803616, 469006225288, 469008878225, 469005701529, 469007561277, 469004937918, 469005702014, 469005967666, 469006915359, 469005700000, 469008828915, 469004768545, 469006468128, 469005700760, 469008818122, 469005700596, 469004733739, 469009022963, 469005702030, 469008767352, 469007293715, 469008842114, 469004490744, 469008950693, 469003909280, 469008875833, 469005700794, 469005701685, 469007722655, 469003318540, 469005701677, 469005700059, 469007915051, 469008064586, 469008390270, 469005701065, 469005829338, 469005701552, 469005700562, 469005700968, 469007832447, 469005701818, 469009201039, 469008647836, 469003803624, 469005700745, 469005071626, 469007765258, 469008925612, 469005702089, 469005702139, 469005702071, 469005702097, 469005702113, 469005702121, 469005702279, 469005702212, 469005702196, 469005702246, 469005702238, 469005702204, 469005702295, 469005702337, 469005702162, 469005702303, 469005702287, 469005702311, 469005702220, 469005702188, 469005702147, 469005702352, 469005702345, 469005702105, 469005702394, 469005702378, 469005702386, 469005702436, 469005702402, 469005702444, 469005702493, 469005702410, 469005702501, 469005702428, 469005702527, 469005702535, 469005702485, 469005702550, 469005702543, 469005702568, 469005702576, 469005702584, 469005702600, 469005702626, 469005702592, 469005702618, 469005702642, 469005702675, 469005702709, 469005702634, 469005702667, 469005702659, 469005702733, 469005702725, 469005702717, 469005702766, 469005702741, 469005702774, 469005702758, 469005702691, 469005702782, 469005702808, 469005702840, 469005702899, 469005702824, 469005702865, 469005702881, 469005702832, 469005702915, 469005702683, 469005702790, 469005702873, 469005702923, 469005702931, 469005702949, 469005702972, 469005702964, 469005702998, 469005703004, 469005702956, 9100007425900, 9100008537409, 469005703012, 469005703061, 469005703087, 469005703079, 469005703053, 469005703103, 469005702980, 469005703095, 469005703111, 469005703129, 9100008655165, 469005703160, 9100008711433, 469005703137, 469005703152, 9100008655084, 469005702907, 9100008655102, 9100008745426, 9100008711370, 9100008745345, 9100008711388, 9100008711316, 9100008711424, 469005703145, 9100008745390, 9100008745399, 469005703020, 9100008711406, 9100008745336, 9100008745372, 9100008711361, 9100008877186, 9100008877159, 9100008877213, 9100008820684, 9100008877141, 9100008917470, 9100008877204, 9100008820720, 9100008745417, 9100008877195, 9100008996967, 9100008992773, 9100009018648, 9100009014103, 9100008970804, 9100009022788, 469005703186, 9100009014085, 9100009013914, 9100009012033, 9100008877168, 9100009101808, 9100009014022, 9100009135954, 9100009101889, 9100009102015, 9100009102663, 9100009109197, 9100009110124, 9100009102519, 9100009101457, 9100009108747, 9100009013950, 9100009212382, 9100009212463, 9100009212490, 9100009169920, 9100009101547, 9100009303894, 9100009061695, 9100009212211, 9100009254448, 9100009212184, 9100009212265, 9100009339219, 9100009212310, 9100009250533, 9100009212418, 9100009336438, 9100009232776, 9100009336474, 9100009335196, 9100009212238, 9100009332217, 9100009386991, 9100009212526, 9100009335223, 9100009336258, 9100009336204, 9100009423567, 9100009413703, 469001628098, 9100009339237, 9100009332397, 9100009339246, 9100009336411, 9100009339183, 9100009438021, 9100009383796, 9100009332451, 9100009424377, 9100009336366, 9100009424431, 9100009332370, 9100009336231, 9100009424341, 9100009336294, 9100009339147, 9100009413631, 9100009384039, 9100009422433, 9100009424305, 9100009395937, 9100009332262, 9100009433611, 9100009335124, 9100009511155, 9100009422847, 9100009048789, 9100009421929, 9100009473094, 9100009514719, 9100009473238, 9100009423369, 9100009475740, 9100009422829, 9100009423045, 9100009424404, 9100009503073, 9100009503163, 9100009510750, 9100009511011, 9100009510687, 9100009690948, 9100009514746, 9100009510921, 9100009510561, 9100009632862, 9100009511029, 9100009513756, 9100009755118, 9100009514125, 9100009513792, 9100009510957, 9100009514107, 9100009513765, 9100009607761, 469005703194, 9100009842778, 9100009826389, 9100009691038, 9100009691065, 9100009691245, 9100009513864, 9100009963990, 9100009964170, 9100009826218, 9100009514818, 9100009826353, 9100009826425, 9100009826191, 9100009886959, 9100009963819, 9100009967626, 9100009963135, 9100009499527, 9100009963882, 9100009967482, 9100010089882, 9100009964233, 9100010048239, 9100010044954, 9100010048077, 9100010045818, 9100010048140, 9100010048302, 9100009967563, 9100010045665, 9100010211733, 9100010045593, 9100010048176, 9100010048266, 9100010095885, 9100010059327, 9100010186479, 9100010189656, 9100010186686, 9100009964287, 9100010095804, 9100010358667, 9100010344222, 9100010045836, 9100010344186, 9100010344150, 9100010344060, 9100010186560, 9100010351971, 9100010346400, 9100010352070, 9100010186956, 9100010358586, 9100010344024, 9100010186641, 9100010344393, 9100010189611, 9100010189602, 9100010186587, 9100010344078, 9100010351935, 9100010439334, 9100010344339, 9100010364661, 9100010352358, 9100010367982, 9100010343979, 9100010391805, 9100010346364, 9100010352016, 9100010358550, 9100010560501, 9100010374570, 9100010478601, 9100010657017, 469005703202, 9100010649223, 9100010597878, 9100010478493, 9100010681389, 9100010771020, 9100010768581, 9100010860102, 9100010772505, 9100010768554, 9100010771659, 9100010772541, 9100010817784, 9100010768968, 9100010772280, 9100010772352, 9100010791603, 9100010770966, 9100010771830, 9100010771497, 9100010772208, 9100010771533, 9100010771047, 9100010974690, 9100010975185, 9100010771065, 9100010975239, 9100010829358, 9100010768635, 9100011088909, 9100010769004, 9100010771083, 9100010770921, 9100010045710, 9100011075814, 9100010975131, 9100010975059, 9100010975005, 9100011183436, 9100011151072, 9100011183211, 9100012241395, 9100012236337, 9100011152710, 9100012241215, 9100011183328, 9100011150622, 9100011151054, 9100011150325, 9100011019843, 9100011150046, 9100012251772, 9100011150766, 9100011016990, 9100011183373, 9100011183301, 9100011183166, 9100011152674, 9100011151018, 9100011183085, 9100011183256]\n",
          "name": "stdout"
        },
        {
          "output_type": "stream",
          "text": "\n",
          "name": "stderr"
        },
        {
          "output_type": "error",
          "ename": "KeyError",
          "evalue": "\"None of [Index([\u0027customer_account_id\u0027, \u0027revenue_date\u0027, \u0027purchase_gallons_qty\u0027], dtype\u003d\u0027object\u0027)] are in the [columns]\"",
          "traceback": [
            "\u001b[0;31m---------------------------------------------------------------------------\u001b[0m",
            "\u001b[0;31mKeyError\u001b[0m                                  Traceback (most recent call last)",
            "\u001b[0;32m\u003cipython-input-47-f6bb0615fbeb\u003e\u001b[0m in \u001b[0;36m\u003cmodule\u003e\u001b[0;34m\u001b[0m\n\u001b[1;32m     44\u001b[0m \u001b[0;34m\u001b[0m\u001b[0m\n\u001b[1;32m     45\u001b[0m     \u001b[0;31m## Find consistent customers\u001b[0m\u001b[0;34m\u001b[0m\u001b[0;34m\u001b[0m\u001b[0;34m\u001b[0m\u001b[0m\n\u001b[0;32m---\u003e 46\u001b[0;31m     \u001b[0mconsistent_customers_dd\u001b[0m \u001b[0;34m\u003d\u001b[0m \u001b[0mfind_consistent_customers\u001b[0m\u001b[0;34m(\u001b[0m\u001b[0mdd_find\u001b[0m\u001b[0;34m,\u001b[0m \u001b[0mconsecutive\u001b[0m\u001b[0;34m\u003d\u001b[0m\u001b[0mconsistency\u001b[0m\u001b[0;34m)\u001b[0m\u001b[0;34m\u001b[0m\u001b[0;34m\u001b[0m\u001b[0m\n\u001b[0m\u001b[1;32m     47\u001b[0m     \u001b[0;32mif\u001b[0m \u001b[0mlen\u001b[0m\u001b[0;34m(\u001b[0m\u001b[0mconsistent_customers_dd\u001b[0m\u001b[0;34m)\u001b[0m \u001b[0;34m\u003d\u003d\u001b[0m \u001b[0;36m0\u001b[0m\u001b[0;34m:\u001b[0m\u001b[0;34m\u001b[0m\u001b[0;34m\u001b[0m\u001b[0m\n\u001b[1;32m     48\u001b[0m         \u001b[0;32mcontinue\u001b[0m\u001b[0;34m\u001b[0m\u001b[0;34m\u001b[0m\u001b[0m\n",
            "\u001b[0;32m/data/dataiku/dss_data/jupyter-run/dku-workdirs/NAFCUSTOMER/notebook_editor_for_compute_CALCULATED_DRAW_DOWNSf58d3ff0-dssuser_Daniel_V9b45ad47/project-python-libs/NAFCUSTOMER/python/helper.py\u001b[0m in \u001b[0;36mfind_consistent_customers\u001b[0;34m(df, consecutive)\u001b[0m\n\u001b[1;32m     47\u001b[0m     \u001b[0;31m## Needs only these columns [\u0027customer_account_name\u0027, \u0027revenue_month\u0027, \u0027purchase_gallons_qty\u0027]\u001b[0m\u001b[0;34m\u001b[0m\u001b[0;34m\u001b[0m\u001b[0;34m\u001b[0m\u001b[0m\n\u001b[1;32m     48\u001b[0m \u001b[0;34m\u001b[0m\u001b[0m\n\u001b[0;32m---\u003e 49\u001b[0;31m     \u001b[0mdf\u001b[0m \u001b[0;34m\u003d\u001b[0m \u001b[0mdf\u001b[0m\u001b[0;34m[\u001b[0m\u001b[0;34m[\u001b[0m\u001b[0;34m\u0027customer_account_id\u0027\u001b[0m\u001b[0;34m,\u001b[0m \u001b[0;34m\u0027revenue_date\u0027\u001b[0m\u001b[0;34m,\u001b[0m \u001b[0;34m\u0027purchase_gallons_qty\u0027\u001b[0m\u001b[0;34m]\u001b[0m\u001b[0;34m]\u001b[0m\u001b[0;34m.\u001b[0m\u001b[0mcopy\u001b[0m\u001b[0;34m(\u001b[0m\u001b[0;34m)\u001b[0m\u001b[0;34m\u001b[0m\u001b[0;34m\u001b[0m\u001b[0m\n\u001b[0m\u001b[1;32m     50\u001b[0m     \u001b[0mdf\u001b[0m\u001b[0;34m.\u001b[0m\u001b[0msort_values\u001b[0m\u001b[0;34m(\u001b[0m\u001b[0mby\u001b[0m\u001b[0;34m\u003d\u001b[0m\u001b[0;34m[\u001b[0m\u001b[0;34m\u0027customer_account_id\u0027\u001b[0m\u001b[0;34m,\u001b[0m \u001b[0;34m\u0027revenue_date\u0027\u001b[0m\u001b[0;34m]\u001b[0m\u001b[0;34m,\u001b[0m \u001b[0minplace\u001b[0m\u001b[0;34m\u003d\u001b[0m\u001b[0;32mTrue\u001b[0m\u001b[0;34m)\u001b[0m\u001b[0;34m\u001b[0m\u001b[0;34m\u001b[0m\u001b[0m\n\u001b[1;32m     51\u001b[0m \u001b[0;34m\u001b[0m\u001b[0m\n",
            "\u001b[0;32m/data/dataiku/dss_data/code-envs/python/env_clc/lib64/python3.6/site-packages/pandas/core/frame.py\u001b[0m in \u001b[0;36m__getitem__\u001b[0;34m(self, key)\u001b[0m\n\u001b[1;32m   2804\u001b[0m             \u001b[0;32mif\u001b[0m \u001b[0mis_iterator\u001b[0m\u001b[0;34m(\u001b[0m\u001b[0mkey\u001b[0m\u001b[0;34m)\u001b[0m\u001b[0;34m:\u001b[0m\u001b[0;34m\u001b[0m\u001b[0;34m\u001b[0m\u001b[0m\n\u001b[1;32m   2805\u001b[0m                 \u001b[0mkey\u001b[0m \u001b[0;34m\u003d\u001b[0m \u001b[0mlist\u001b[0m\u001b[0;34m(\u001b[0m\u001b[0mkey\u001b[0m\u001b[0;34m)\u001b[0m\u001b[0;34m\u001b[0m\u001b[0;34m\u001b[0m\u001b[0m\n\u001b[0;32m-\u003e 2806\u001b[0;31m             \u001b[0mindexer\u001b[0m \u001b[0;34m\u003d\u001b[0m \u001b[0mself\u001b[0m\u001b[0;34m.\u001b[0m\u001b[0mloc\u001b[0m\u001b[0;34m.\u001b[0m\u001b[0m_get_listlike_indexer\u001b[0m\u001b[0;34m(\u001b[0m\u001b[0mkey\u001b[0m\u001b[0;34m,\u001b[0m \u001b[0maxis\u001b[0m\u001b[0;34m\u003d\u001b[0m\u001b[0;36m1\u001b[0m\u001b[0;34m,\u001b[0m \u001b[0mraise_missing\u001b[0m\u001b[0;34m\u003d\u001b[0m\u001b[0;32mTrue\u001b[0m\u001b[0;34m)\u001b[0m\u001b[0;34m[\u001b[0m\u001b[0;36m1\u001b[0m\u001b[0;34m]\u001b[0m\u001b[0;34m\u001b[0m\u001b[0;34m\u001b[0m\u001b[0m\n\u001b[0m\u001b[1;32m   2807\u001b[0m \u001b[0;34m\u001b[0m\u001b[0m\n\u001b[1;32m   2808\u001b[0m         \u001b[0;31m# take() does not accept boolean indexers\u001b[0m\u001b[0;34m\u001b[0m\u001b[0;34m\u001b[0m\u001b[0;34m\u001b[0m\u001b[0m\n",
            "\u001b[0;32m/data/dataiku/dss_data/code-envs/python/env_clc/lib64/python3.6/site-packages/pandas/core/indexing.py\u001b[0m in \u001b[0;36m_get_listlike_indexer\u001b[0;34m(self, key, axis, raise_missing)\u001b[0m\n\u001b[1;32m   1551\u001b[0m \u001b[0;34m\u001b[0m\u001b[0m\n\u001b[1;32m   1552\u001b[0m         self._validate_read_indexer(\n\u001b[0;32m-\u003e 1553\u001b[0;31m             \u001b[0mkeyarr\u001b[0m\u001b[0;34m,\u001b[0m \u001b[0mindexer\u001b[0m\u001b[0;34m,\u001b[0m \u001b[0mo\u001b[0m\u001b[0;34m.\u001b[0m\u001b[0m_get_axis_number\u001b[0m\u001b[0;34m(\u001b[0m\u001b[0maxis\u001b[0m\u001b[0;34m)\u001b[0m\u001b[0;34m,\u001b[0m \u001b[0mraise_missing\u001b[0m\u001b[0;34m\u003d\u001b[0m\u001b[0mraise_missing\u001b[0m\u001b[0;34m\u001b[0m\u001b[0;34m\u001b[0m\u001b[0m\n\u001b[0m\u001b[1;32m   1554\u001b[0m         )\n\u001b[1;32m   1555\u001b[0m         \u001b[0;32mreturn\u001b[0m \u001b[0mkeyarr\u001b[0m\u001b[0;34m,\u001b[0m \u001b[0mindexer\u001b[0m\u001b[0;34m\u001b[0m\u001b[0;34m\u001b[0m\u001b[0m\n",
            "\u001b[0;32m/data/dataiku/dss_data/code-envs/python/env_clc/lib64/python3.6/site-packages/pandas/core/indexing.py\u001b[0m in \u001b[0;36m_validate_read_indexer\u001b[0;34m(self, key, indexer, axis, raise_missing)\u001b[0m\n\u001b[1;32m   1638\u001b[0m             \u001b[0;32mif\u001b[0m \u001b[0mmissing\u001b[0m \u001b[0;34m\u003d\u003d\u001b[0m \u001b[0mlen\u001b[0m\u001b[0;34m(\u001b[0m\u001b[0mindexer\u001b[0m\u001b[0;34m)\u001b[0m\u001b[0;34m:\u001b[0m\u001b[0;34m\u001b[0m\u001b[0;34m\u001b[0m\u001b[0m\n\u001b[1;32m   1639\u001b[0m                 \u001b[0maxis_name\u001b[0m \u001b[0;34m\u003d\u001b[0m \u001b[0mself\u001b[0m\u001b[0;34m.\u001b[0m\u001b[0mobj\u001b[0m\u001b[0;34m.\u001b[0m\u001b[0m_get_axis_name\u001b[0m\u001b[0;34m(\u001b[0m\u001b[0maxis\u001b[0m\u001b[0;34m)\u001b[0m\u001b[0;34m\u001b[0m\u001b[0;34m\u001b[0m\u001b[0m\n\u001b[0;32m-\u003e 1640\u001b[0;31m                 \u001b[0;32mraise\u001b[0m \u001b[0mKeyError\u001b[0m\u001b[0;34m(\u001b[0m\u001b[0;34mf\"None of [{key}] are in the [{axis_name}]\"\u001b[0m\u001b[0;34m)\u001b[0m\u001b[0;34m\u001b[0m\u001b[0;34m\u001b[0m\u001b[0m\n\u001b[0m\u001b[1;32m   1641\u001b[0m \u001b[0;34m\u001b[0m\u001b[0m\n\u001b[1;32m   1642\u001b[0m             \u001b[0;31m# We (temporarily) allow for some missing keys with .loc, except in\u001b[0m\u001b[0;34m\u001b[0m\u001b[0;34m\u001b[0m\u001b[0;34m\u001b[0m\u001b[0m\n",
            "\u001b[0;31mKeyError\u001b[0m: \"None of [Index([\u0027customer_account_id\u0027, \u0027revenue_date\u0027, \u0027purchase_gallons_qty\u0027], dtype\u003d\u0027object\u0027)] are in the [columns]\""
          ]
        }
      ]
    },
    {
      "execution_count": 0,
      "cell_type": "code",
      "metadata": {},
      "source": [
        "# Compute recipe outputs from inputs\n# TODO: Replace this part by your actual code that computes the output, as a Pandas dataframe\n# NB: DSS also supports other kinds of APIs for reading and writing data. Please see doc.\n\n\n\n#CALCULATED_DRAW_DOWNS_df \u003d NAFCUSTOMER_C360_ACCOUNTS_df # For this sample code, simply copy input to output\n\n\n# Write recipe outputs\n#CALCULATED_DRAW_DOWNS \u003d dataiku.Dataset(\"CALCULATED_DRAW_DOWNS\")\n#CALCULATED_DRAW_DOWNS.write_with_schema(CALCULATED_DRAW_DOWNS_df)"
      ],
      "outputs": []
    }
  ]
}