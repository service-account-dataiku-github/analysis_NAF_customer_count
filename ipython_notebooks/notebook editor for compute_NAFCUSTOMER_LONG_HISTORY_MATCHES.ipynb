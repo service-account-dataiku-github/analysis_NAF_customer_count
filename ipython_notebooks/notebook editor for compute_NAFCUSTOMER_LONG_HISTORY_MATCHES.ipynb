{
  "metadata": {
    "kernelspec": {
      "name": "py-dku-venv-env_clc",
      "display_name": "Python (env env_clc)",
      "language": "python"
    },
    "associatedRecipe": "compute_NAFCUSTOMER_LONG_HISTORY_MATCHES",
    "creator": "Daniel.Vandermeer",
    "createdOn": 1675368834596,
    "tags": [
      "recipe-editor"
    ],
    "customFields": {},
    "hide_input": false,
    "language_info": {
      "name": "python",
      "version": "3.6.8",
      "mimetype": "text/x-python",
      "codemirror_mode": {
        "name": "ipython",
        "version": 3
      },
      "pygments_lexer": "ipython3",
      "nbconvert_exporter": "python",
      "file_extension": ".py"
    },
    "modifiedBy": "Daniel.Vandermeer"
  },
  "nbformat": 4,
  "nbformat_minor": 1,
  "cells": [
    {
      "execution_count": 1,
      "cell_type": "code",
      "metadata": {},
      "source": [
        "# -*- coding: utf-8 -*-\nimport dataiku\nimport pandas as pd, numpy as np\nfrom dataiku import pandasutils as pdu\n\n# Read recipe inputs\nNAFCUSTOMER_ACCOUNT_ACTIVE_CARDS_BY_QUARTER \u003d dataiku.Dataset(\"NAFCUSTOMER_ACCOUNT_ACTIVE_CARDS_BY_QUARTER\")\nNAFCUSTOMER_ACCOUNT_ACTIVE_CARDS_BY_QUARTER_df \u003d NAFCUSTOMER_ACCOUNT_ACTIVE_CARDS_BY_QUARTER.get_dataframe()\n\nprint(len(NAFCUSTOMER_ACCOUNT_ACTIVE_CARDS_BY_QUARTER_df))"
      ],
      "outputs": [
        {
          "output_type": "stream",
          "text": "3206521\n",
          "name": "stdout"
        }
      ]
    },
    {
      "execution_count": 2,
      "cell_type": "code",
      "metadata": {},
      "source": [
        "NAFCUSTOMER_ACCOUNT_ACTIVE_CARDS_BY_QUARTER_df.head()"
      ],
      "outputs": [
        {
          "output_type": "execute_result",
          "execution_count": 2,
          "data": {
            "text/plain": "   CUSTOMER_ACCOUNT_ID           CUSTOMER_ACCOUNT_NAME       CUSTOMER_NAME       ACCOUNT_SINCE_DATE CUSTOMER_SOURCE_SYSTEM_CODE        ACCOUNT_OPEN_DATE      ACCOUNT_CLOSED_DATE ATTRITION_TYPE_NAME ATTRITION_REASON_CODE        ATTRITION_REASON_DESC  YEAR_NUMBER  QUARTER_NUMBER  ACTIVE_CARD_COUNT\n0         4.010081e+11  WASHINGTON COUNTY COMM (RD \u0026 B    State of Alabama  2009-08-26 00:00:00.000                      TANDEM  2009-08-26 00:00:00.000  2018-07-17 00:00:00.000           Voluntary                    14  Switched to Non-card System         2011               4                 12\n1         4.630045e+11    B R H GARVER CONSTRUCTION LP    B R H GARVER INC  2001-04-17 00:00:00.000                      TANDEM  2001-04-17 00:00:00.000  2019-09-17 00:00:00.000     NNCL Conversion                    04           Account Conversion         2011               3                 41\n2         6.300017e+12                 JEAN PAUL NOLIN     JEAN PAUL NOLIN  2007-03-16 00:00:00.000                      TANDEM  2007-03-16 00:00:00.000  2022-10-21 00:00:00.000     NNCL Conversion                    04           Account Conversion         2012               4                  2\n3         4.330078e+11              BUFFALO REUSE INC.  BUFFALO REUSE INC.  2008-05-07 00:00:00.000                      TANDEM  2008-05-07 00:00:00.000  2013-12-17 00:00:00.000         Involuntary                    01       Closed by WEX - Credit         2011               3                  4\n4         4.030012e+11              DESIERTO VERDE INC  DESIERTO VERDE INC  1990-05-24 00:00:00.000                      TANDEM  1990-05-24 00:00:00.000  2011-12-29 00:00:00.000           Voluntary                    81       81 FRAUD - DO NOT SEND         2011               1                 42",
            "text/html": "\u003cdiv\u003e\n\u003cstyle scoped\u003e\n    .dataframe tbody tr th:only-of-type {\n        vertical-align: middle;\n    }\n\n    .dataframe tbody tr th {\n        vertical-align: top;\n    }\n\n    .dataframe thead th {\n        text-align: right;\n    }\n\u003c/style\u003e\n\u003ctable border\u003d\"1\" class\u003d\"dataframe\"\u003e\n  \u003cthead\u003e\n    \u003ctr style\u003d\"text-align: right;\"\u003e\n      \u003cth\u003e\u003c/th\u003e\n      \u003cth\u003eCUSTOMER_ACCOUNT_ID\u003c/th\u003e\n      \u003cth\u003eCUSTOMER_ACCOUNT_NAME\u003c/th\u003e\n      \u003cth\u003eCUSTOMER_NAME\u003c/th\u003e\n      \u003cth\u003eACCOUNT_SINCE_DATE\u003c/th\u003e\n      \u003cth\u003eCUSTOMER_SOURCE_SYSTEM_CODE\u003c/th\u003e\n      \u003cth\u003eACCOUNT_OPEN_DATE\u003c/th\u003e\n      \u003cth\u003eACCOUNT_CLOSED_DATE\u003c/th\u003e\n      \u003cth\u003eATTRITION_TYPE_NAME\u003c/th\u003e\n      \u003cth\u003eATTRITION_REASON_CODE\u003c/th\u003e\n      \u003cth\u003eATTRITION_REASON_DESC\u003c/th\u003e\n      \u003cth\u003eYEAR_NUMBER\u003c/th\u003e\n      \u003cth\u003eQUARTER_NUMBER\u003c/th\u003e\n      \u003cth\u003eACTIVE_CARD_COUNT\u003c/th\u003e\n    \u003c/tr\u003e\n  \u003c/thead\u003e\n  \u003ctbody\u003e\n    \u003ctr\u003e\n      \u003cth\u003e0\u003c/th\u003e\n      \u003ctd\u003e4.010081e+11\u003c/td\u003e\n      \u003ctd\u003eWASHINGTON COUNTY COMM (RD \u0026amp; B\u003c/td\u003e\n      \u003ctd\u003eState of Alabama\u003c/td\u003e\n      \u003ctd\u003e2009-08-26 00:00:00.000\u003c/td\u003e\n      \u003ctd\u003eTANDEM\u003c/td\u003e\n      \u003ctd\u003e2009-08-26 00:00:00.000\u003c/td\u003e\n      \u003ctd\u003e2018-07-17 00:00:00.000\u003c/td\u003e\n      \u003ctd\u003eVoluntary\u003c/td\u003e\n      \u003ctd\u003e14\u003c/td\u003e\n      \u003ctd\u003eSwitched to Non-card System\u003c/td\u003e\n      \u003ctd\u003e2011\u003c/td\u003e\n      \u003ctd\u003e4\u003c/td\u003e\n      \u003ctd\u003e12\u003c/td\u003e\n    \u003c/tr\u003e\n    \u003ctr\u003e\n      \u003cth\u003e1\u003c/th\u003e\n      \u003ctd\u003e4.630045e+11\u003c/td\u003e\n      \u003ctd\u003eB R H GARVER CONSTRUCTION LP\u003c/td\u003e\n      \u003ctd\u003eB R H GARVER INC\u003c/td\u003e\n      \u003ctd\u003e2001-04-17 00:00:00.000\u003c/td\u003e\n      \u003ctd\u003eTANDEM\u003c/td\u003e\n      \u003ctd\u003e2001-04-17 00:00:00.000\u003c/td\u003e\n      \u003ctd\u003e2019-09-17 00:00:00.000\u003c/td\u003e\n      \u003ctd\u003eNNCL Conversion\u003c/td\u003e\n      \u003ctd\u003e04\u003c/td\u003e\n      \u003ctd\u003eAccount Conversion\u003c/td\u003e\n      \u003ctd\u003e2011\u003c/td\u003e\n      \u003ctd\u003e3\u003c/td\u003e\n      \u003ctd\u003e41\u003c/td\u003e\n    \u003c/tr\u003e\n    \u003ctr\u003e\n      \u003cth\u003e2\u003c/th\u003e\n      \u003ctd\u003e6.300017e+12\u003c/td\u003e\n      \u003ctd\u003eJEAN PAUL NOLIN\u003c/td\u003e\n      \u003ctd\u003eJEAN PAUL NOLIN\u003c/td\u003e\n      \u003ctd\u003e2007-03-16 00:00:00.000\u003c/td\u003e\n      \u003ctd\u003eTANDEM\u003c/td\u003e\n      \u003ctd\u003e2007-03-16 00:00:00.000\u003c/td\u003e\n      \u003ctd\u003e2022-10-21 00:00:00.000\u003c/td\u003e\n      \u003ctd\u003eNNCL Conversion\u003c/td\u003e\n      \u003ctd\u003e04\u003c/td\u003e\n      \u003ctd\u003eAccount Conversion\u003c/td\u003e\n      \u003ctd\u003e2012\u003c/td\u003e\n      \u003ctd\u003e4\u003c/td\u003e\n      \u003ctd\u003e2\u003c/td\u003e\n    \u003c/tr\u003e\n    \u003ctr\u003e\n      \u003cth\u003e3\u003c/th\u003e\n      \u003ctd\u003e4.330078e+11\u003c/td\u003e\n      \u003ctd\u003eBUFFALO REUSE INC.\u003c/td\u003e\n      \u003ctd\u003eBUFFALO REUSE INC.\u003c/td\u003e\n      \u003ctd\u003e2008-05-07 00:00:00.000\u003c/td\u003e\n      \u003ctd\u003eTANDEM\u003c/td\u003e\n      \u003ctd\u003e2008-05-07 00:00:00.000\u003c/td\u003e\n      \u003ctd\u003e2013-12-17 00:00:00.000\u003c/td\u003e\n      \u003ctd\u003eInvoluntary\u003c/td\u003e\n      \u003ctd\u003e01\u003c/td\u003e\n      \u003ctd\u003eClosed by WEX - Credit\u003c/td\u003e\n      \u003ctd\u003e2011\u003c/td\u003e\n      \u003ctd\u003e3\u003c/td\u003e\n      \u003ctd\u003e4\u003c/td\u003e\n    \u003c/tr\u003e\n    \u003ctr\u003e\n      \u003cth\u003e4\u003c/th\u003e\n      \u003ctd\u003e4.030012e+11\u003c/td\u003e\n      \u003ctd\u003eDESIERTO VERDE INC\u003c/td\u003e\n      \u003ctd\u003eDESIERTO VERDE INC\u003c/td\u003e\n      \u003ctd\u003e1990-05-24 00:00:00.000\u003c/td\u003e\n      \u003ctd\u003eTANDEM\u003c/td\u003e\n      \u003ctd\u003e1990-05-24 00:00:00.000\u003c/td\u003e\n      \u003ctd\u003e2011-12-29 00:00:00.000\u003c/td\u003e\n      \u003ctd\u003eVoluntary\u003c/td\u003e\n      \u003ctd\u003e81\u003c/td\u003e\n      \u003ctd\u003e81 FRAUD - DO NOT SEND\u003c/td\u003e\n      \u003ctd\u003e2011\u003c/td\u003e\n      \u003ctd\u003e1\u003c/td\u003e\n      \u003ctd\u003e42\u003c/td\u003e\n    \u003c/tr\u003e\n  \u003c/tbody\u003e\n\u003c/table\u003e\n\u003c/div\u003e"
          },
          "metadata": {}
        }
      ]
    },
    {
      "execution_count": 0,
      "cell_type": "code",
      "metadata": {},
      "source": [
        "# Compute recipe outputs from inputs\n# TODO: Replace this part by your actual code that computes the output, as a Pandas dataframe\n# NB: DSS also supports other kinds of APIs for reading and writing data. Please see doc.\n\nNAFCUSTOMER_LONG_HISTORY_MATCHES_df \u003d NAFCUSTOMER_ACCOUNT_ACTIVE_CARDS_BY_QUARTER_df # For this sample code, simply copy input to output\n\n\n# Write recipe outputs\nNAFCUSTOMER_LONG_HISTORY_MATCHES \u003d dataiku.Dataset(\"NAFCUSTOMER_LONG_HISTORY_MATCHES\")\nNAFCUSTOMER_LONG_HISTORY_MATCHES.write_with_schema(NAFCUSTOMER_LONG_HISTORY_MATCHES_df)"
      ],
      "outputs": []
    }
  ]
}