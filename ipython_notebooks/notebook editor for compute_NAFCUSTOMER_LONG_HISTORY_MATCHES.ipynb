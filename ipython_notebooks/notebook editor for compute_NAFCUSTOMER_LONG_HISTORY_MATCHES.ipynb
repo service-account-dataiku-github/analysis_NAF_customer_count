{
  "metadata": {
    "kernelspec": {
      "name": "py-dku-venv-env_clc",
      "display_name": "Python (env env_clc)",
      "language": "python"
    },
    "associatedRecipe": "compute_NAFCUSTOMER_LONG_HISTORY_MATCHES",
    "dkuGit": {
      "lastInteraction": 0
    },
    "creationTag": {
      "versionNumber": 0,
      "lastModifiedBy": {
        "login": "Daniel.Vandermeer"
      },
      "lastModifiedOn": 1675368834596
    },
    "creator": "Daniel.Vandermeer",
    "createdOn": 1675368834596,
    "tags": [
      "recipe-editor"
    ],
    "customFields": {},
    "hide_input": false,
    "language_info": {
      "name": "python",
      "version": "3.6.8",
      "mimetype": "text/x-python",
      "codemirror_mode": {
        "name": "ipython",
        "version": 3
      },
      "pygments_lexer": "ipython3",
      "nbconvert_exporter": "python",
      "file_extension": ".py"
    },
    "modifiedBy": "Daniel.Vandermeer"
  },
  "nbformat": 4,
  "nbformat_minor": 1,
  "cells": [
    {
      "execution_count": 0,
      "cell_type": "code",
      "metadata": {},
      "source": [
        "# -*- coding: utf-8 -*-\nimport dataiku\nimport pandas as pd, numpy as np\nfrom dataiku import pandasutils as pdu\n\nACCOUNT_BUNDLER_LIST \u003d dataiku.Dataset(\"ACCOUNT_BUNDLER_LIST\")\nACCOUNT_BUNDLER_LIST_df \u003d ACCOUNT_BUNDLER_LIST.get_dataframe()\nprint(\"Account Bundlers:\", len(ACCOUNT_BUNDLER_LIST_df))\n\n#NAFCUSTOMER_RDW_CONVERSIONS \u003d dataiku.Dataset(\"NAFCUSTOMER_RDW_CONVERSIONS\")\n#NAFCUSTOMER_RDW_CONVERSIONS_df \u003d NAFCUSTOMER_RDW_CONVERSIONS.get_dataframe()\n#print(len(NAFCUSTOMER_RDW_CONVERSIONS_df))\n\n# Read recipe inputs\nNAFCUSTOMER_ACCOUNT_ACTIVE_CARDS_BY_QUARTER \u003d dataiku.Dataset(\"NAFCUSTOMER_ACCOUNT_ACTIVE_CARDS_BY_QUARTER\")\nNAFCUSTOMER_ACCOUNT_ACTIVE_CARDS_BY_QUARTER_df \u003d NAFCUSTOMER_ACCOUNT_ACTIVE_CARDS_BY_QUARTER.get_dataframe()\nprint(len(NAFCUSTOMER_ACCOUNT_ACTIVE_CARDS_BY_QUARTER_df))\n\nprint(NAFCUSTOMER_ACCOUNT_ACTIVE_CARDS_BY_QUARTER_df.YEAR_NUMBER.min())\n\nprint(\"Min Year:\", NAFCUSTOMER_ACCOUNT_ACTIVE_CARDS_BY_QUARTER_df.YEAR_NUMBER.min())\nprint(\"Max Year:\", NAFCUSTOMER_ACCOUNT_ACTIVE_CARDS_BY_QUARTER_df.YEAR_NUMBER.max())"
      ],
      "outputs": [
        {
          "output_type": "stream",
          "text": "Account Bundlers: 274\n",
          "name": "stdout"
        }
      ]
    },
    {
      "execution_count": 0,
      "cell_type": "code",
      "metadata": {},
      "source": [
        "NAFCUSTOMER_ACCOUNT_ACTIVE_CARDS_BY_QUARTER_df.head()"
      ],
      "outputs": []
    },
    {
      "execution_count": 0,
      "cell_type": "code",
      "metadata": {},
      "source": [
        "df_a \u003d NAFCUSTOMER_ACCOUNT_ACTIVE_CARDS_BY_QUARTER_df\n\ndf_a.columns \u003d [\u0027CUSTOMER_ACCOUNT_ID\u0027,\u0027CUSTOMER_ACCOUNT_NAME\u0027,\u0027EDW_CUSTOMER_NAME\u0027,\u0027ACCOUNT_SINCE_DATE\u0027,\u0027CUSTOMER_SOURCE_SYSTEM_CODE\u0027,\u0027ACCOUNT_OPEN_DATE\u0027,\u0027ACCOUNT_CLOSED_DATE\u0027,\u0027ATTRITION_TYPE_NAME\u0027,\u0027ATTRITION_REASON_CODE\u0027,\u0027ATTRITION_REASON_DESC\u0027,\u0027YEAR_NUMBER\u0027,\u0027QUARTER_NUMBER\u0027,\u0027ACTIVE_CARD_COUNT\u0027]\n\ndf_a[\u0027CUSTOMER_ACCOUNT_ID\u0027] \u003d df_a[\u0027CUSTOMER_ACCOUNT_ID\u0027].astype(\u0027Int64\u0027, errors\u003d\u0027ignore\u0027)\ndf_a[\u0027CUSTOMER_ACCOUNT_NAME\u0027] \u003d df_a[\u0027CUSTOMER_ACCOUNT_NAME\u0027].str.upper()\ndf_a[\u0027EDW_CUSTOMER_NAME\u0027] \u003d df_a[\u0027EDW_CUSTOMER_NAME\u0027].str.upper()\n\nACCOUNT_BUNDLER_LIST_df[\u0027IS_BUNDLER\u0027] \u003d True\nACCOUNT_BUNDLER_LIST_df \u003d ACCOUNT_BUNDLER_LIST_df[[\u0027EDW_CUSTOMER_NAME\u0027,\u0027IS_BUNDLER\u0027]]\nACCOUNT_BUNDLER_LIST_df.head()\n\ndf \u003d pd.merge(df_a,ACCOUNT_BUNDLER_LIST_df, how\u003d\u0027left\u0027, on\u003d\u0027EDW_CUSTOMER_NAME\u0027)\ndf.loc[df[\"IS_BUNDLER\"].isnull(),\u0027IS_BUNDLER\u0027] \u003d False\ndf.head()"
      ],
      "outputs": []
    },
    {
      "execution_count": 0,
      "cell_type": "code",
      "metadata": {},
      "source": [
        "df[\u0027CUSTOMER\u0027] \u003d np.nan\ndf[\u0027CUST_CALC_SOURCE\u0027] \u003d \u0027Unknown\u0027\ndf.loc[df.IS_BUNDLER,\u0027EDW_CUSTOMER_NAME\u0027] \u003d np.nan\n\ndf.loc[~df[\u0027EDW_CUSTOMER_NAME\u0027].isnull(),\u0027CUSTOMER\u0027] \u003d df[\"EDW_CUSTOMER_NAME\"]\ndf.loc[~df[\u0027EDW_CUSTOMER_NAME\u0027].isnull(),\u0027CUST_CALC_SOURCE\u0027] \u003d \u0027EDW\u0027\n\ndf.loc[df[\u0027CUSTOMER\u0027].isnull(),\u0027CUST_CALC_SOURCE\u0027] \u003d \u0027ACCOUNT\u0027\ndf.loc[df[\u0027CUSTOMER\u0027].isnull(),\u0027CUSTOMER\u0027] \u003d df.CUSTOMER_ACCOUNT_NAME\n\n\nending_tokens \u003d [\u0027 2\u0027, \u0027 3\u0027, \u0027 4\u0027, \u0027 04\u0027, \u0027 5\u0027, \u0027 6\u0027, \u0027 7\u0027, \u0027 8\u0027, \u0027 9\u0027,\u0027 (2)\u0027,\n                 \u0027 (3)\u0027,\u0027 (04)\u0027,\u0027 (4)\u0027, \u0027 (5)\u0027, \u0027 (6)\u0027, \u0027 (7)\u0027, \u0027 (8)\u0027,\n                 \u0027 (9)\u0027,\u0027 (25)\u0027,\u0027  (32)\u0027, \u0027 AD\u0027, \u0027 LD\u0027, \u0027L1\u0027]\n\ndf[\u0027CUSTOMER\u0027].str.strip()\n\nfor s in ending_tokens:\n    index_offset \u003d -1*(len(s))\n    df.loc[df[\u0027CUSTOMER\u0027].str.endswith(s, na\u003dFalse),\"CUSTOMER\"] \u003d df[\u0027CUSTOMER\u0027].str[:index_offset]"
      ],
      "outputs": []
    },
    {
      "execution_count": 0,
      "cell_type": "code",
      "metadata": {},
      "source": [
        "# Convert YEAR AND QUARTER INTO DATE REPRESENTING THE FIRST DAY OF THE QUARTER\ndf[\u0027REVENUE_DATE\u0027] \u003d ((3*df.QUARTER_NUMBER)-2).astype(str) + \"/1/\" + (df.YEAR_NUMBER).astype(str)\ndf[\u0027REVENUE_DATE\u0027] \u003d pd.to_datetime(df[\"REVENUE_DATE\"])\ndf[\u0027ACCOUNT_SINCE_DATE\u0027] \u003d pd.to_datetime(df[\u0027ACCOUNT_SINCE_DATE\u0027])\n\n#df[\u0027CUSTOMER STATE\u0027]\n#df.loc[df[\u0027CUSTOMER_ACCOUNT_NAME\u0027].str.endswith(s, na\u003dFalse),\"CUSTOMER_ACCOUNT_NAME\"] \u003d df[\u0027CUSTOMER_ACCOUNT_NAME\u0027].str[:index_offset]\n\ndf.head()"
      ],
      "outputs": []
    },
    {
      "execution_count": 0,
      "cell_type": "code",
      "metadata": {},
      "source": [
        "df.CUST_CALC_SOURCE.value_counts(dropna\u003dFalse)"
      ],
      "outputs": []
    },
    {
      "execution_count": 0,
      "cell_type": "code",
      "metadata": {},
      "source": [
        "df_cust_since \u003d df.groupby([\u0027CUSTOMER\u0027]).ACCOUNT_SINCE_DATE.min().reset_index()\ndf_cust_since \u003d df_cust_since.sort_values(by\u003d[\u0027CUSTOMER\u0027], ascending\u003dTrue)\ndf_cust_since.head(10)"
      ],
      "outputs": []
    },
    {
      "execution_count": 0,
      "cell_type": "code",
      "metadata": {},
      "source": [
        "df_cust_max_revenue \u003d df.groupby([\u0027CUSTOMER\u0027]).REVENUE_DATE.max().reset_index()\ndf_cust_max_revenue.columns \u003d [\u0027CUSTOMER\u0027,\u0027MAX_REVENUE_DATE\u0027]\ndf_cust_max_revenue \u003d df_cust_max_revenue.sort_values(by\u003d[\u0027CUSTOMER\u0027], ascending\u003dTrue)\nprint(len(df_cust_max_revenue))\ndf_cust_max_revenue \u003d df_cust_max_revenue[df_cust_max_revenue.MAX_REVENUE_DATE.dt.year\u003d\u003d2010]\nprint(len(df_cust_max_revenue))\ndf_cust_max_revenue.head()"
      ],
      "outputs": []
    },
    {
      "execution_count": 0,
      "cell_type": "code",
      "metadata": {},
      "source": [
        "df_cust_min_revenue \u003d df.groupby([\u0027CUSTOMER\u0027]).REVENUE_DATE.min().reset_index()\ndf_cust_min_revenue.columns \u003d [\u0027CUSTOMER\u0027,\u0027MIN_REVENUE_DATE\u0027]\ndf_cust_min_revenue \u003d df_cust_min_revenue.sort_values(by\u003d[\u0027CUSTOMER\u0027], ascending\u003dTrue)\nprint(len(df_cust_min_revenue))\ndf_cust_min_revenue \u003d df_cust_min_revenue[(df_cust_min_revenue.MIN_REVENUE_DATE.dt.year\u003e\u003d2010)\u0026(df_cust_min_revenue.MIN_REVENUE_DATE.dt.year\u003c2012)]\nprint(len(df_cust_min_revenue))"
      ],
      "outputs": []
    },
    {
      "execution_count": 0,
      "cell_type": "code",
      "metadata": {},
      "source": [
        "df_cust_min_revenue.MIN_REVENUE_DATE.dt.year.value_counts()"
      ],
      "outputs": []
    },
    {
      "execution_count": 0,
      "cell_type": "code",
      "metadata": {},
      "source": [
        "df_cust_min_revenue.head()"
      ],
      "outputs": []
    },
    {
      "execution_count": 0,
      "cell_type": "code",
      "metadata": {},
      "source": [
        "# Write recipe outputs\nNAFCUST_HISTORY_TENURE_2010_DORMANT \u003d dataiku.Dataset(\"NAFCUST_HISTORY_TENURE_2010_DORMANT\")\nNAFCUST_HISTORY_TENURE_2010_DORMANT.write_with_schema(df_cust_max_revenue)\n\nNAFCUST_HISTORY_TENURE_2010_2011_ORIGINATE \u003d dataiku.Dataset(\"NAFCUST_HISTORY_TENURE_2010_2011_ORIGINATE\")\nNAFCUST_HISTORY_TENURE_2010_2011_ORIGINATE.write_with_schema(df_cust_min_revenue)"
      ],
      "outputs": []
    },
    {
      "execution_count": 0,
      "cell_type": "code",
      "metadata": {},
      "source": [
        "#df_account_with_customer \u003d df[[\u0027CUSTOMER_ACCOUNT_ID\u0027,\u0027CUSTOMER\u0027]].copy()\n#df_account_with_customer \u003d df_account_with_customer.drop_duplicates(subset\u003d\u0027CUSTOMER_ACCOUNT_ID\u0027)\n#print(len(df_account_with_customer))\n#df_account_with_customer.head()\n\n#df_g.columns \u003d [\u0027CUSTOMER\u0027,\u0027ACCOUNT_COUNT\u0027]\n#df_g \u003d df_g.sort_values(by\u003d[\u0027ACCOUNT_COUNT\u0027], ascending\u003dFalse)\n#df_g.head(100)\n\n#NAFCUSTOMER_RDW_CONVERSIONS_df.head()\n#NAFCUSTOMER_RDW_CONVERSIONS_df.STATUS_DATE.min()\n\n#NAFCUSTOMER_RDW_CONVERSIONS_df.head()\n#df_conv \u003d NAFCUSTOMER_RDW_CONVERSIONS_df[[\u0027FLEET_ID\u0027,\u0027CLASSIC_ACCOUNT_NUMBER\u0027,\u0027FLEET_NAME\u0027]].copy()\n#print(len(df_conv))\n#df_conv \u003d df_conv[~df_conv.CLASSIC_ACCOUNT_NUMBER.isnull()]\n#print(len(df_conv))\n\n#df_conv.columns \u003d [\u0027CUSTOMER_ACCOUNT_ID\u0027, \u0027CLASSIC_CUSTOMER_ACCOUNT_ID\u0027, \u0027FLEET_NAME\u0027]\n#df_conv[\u0027CUSTOMER_ACCOUNT_ID\u0027] \u003d df_conv[\u0027CUSTOMER_ACCOUNT_ID\u0027].astype(\u0027Int64\u0027, errors\u003d\u0027ignore\u0027)\n#df_conv[\u0027CLASSIC_CUSTOMER_ACCOUNT_ID\u0027] \u003d pd.to_numeric(df_conv[\u0027CLASSIC_CUSTOMER_ACCOUNT_ID\u0027], errors\u003d\u0027coerce\u0027)\n#df_conv \u003d df_conv[~df_conv.CLASSIC_CUSTOMER_ACCOUNT_ID.isnull()]\n#df_conv[\u0027CLASSIC_CUSTOMER_ACCOUNT_ID\u0027] \u003d df_conv[\u0027CLASSIC_CUSTOMER_ACCOUNT_ID\u0027].astype(\u0027int64\u0027, errors\u003d\u0027ignore\u0027)\n#df_conv[\u0027CLASSIC_CUSTOMER_ACCOUNT_ID\u0027] \u003d df_conv[\u0027CLASSIC_CUSTOMER_ACCOUNT_ID\u0027].astype(\u0027Int64\u0027, errors\u003d\u0027ignore\u0027)\n\n#df_conv \u003d pd.merge(df_conv, df_account_with_customer, on\u003d\u0027CUSTOMER_ACCOUNT_ID\u0027, how\u003d\u0027inner\u0027)\n#print(len(df_conv))\n#df_conv \u003d df_conv[[\u0027CLASSIC_CUSTOMER_ACCOUNT_ID\u0027,\u0027CUSTOMER\u0027]]\n#df_conv.columns \u003d [\u0027CLASSIC_CUSTOMER_ACCOUNT_ID\u0027,\u0027CUSTOMER_CONVERTED_TO\u0027]\n#df_conv.head()"
      ],
      "outputs": []
    },
    {
      "execution_count": 0,
      "cell_type": "code",
      "metadata": {},
      "source": [
        "#df \u003d df[[\u0027CUSTOMER_ACCOUNT_ID\u0027,\u0027CUSTOMER_ACCOUNT_NAME\u0027,\u0027YEAR_NUMBER\u0027,\u0027QUARTER_NUMBER\u0027,\u0027ACTIVE_CARD_COUNT\u0027,\u0027CUSTOMER\u0027,\u0027CUST_CALC_SOURCE\u0027]]\n#print(len(df))"
      ],
      "outputs": []
    },
    {
      "execution_count": 0,
      "cell_type": "code",
      "metadata": {},
      "source": [
        "#print(len(df))\n#df \u003d pd.merge(df, df_conv, left_on\u003d\u0027CUSTOMER_ACCOUNT_ID\u0027, right_on\u003d\u0027CLASSIC_CUSTOMER_ACCOUNT_ID\u0027, how\u003d\u0027left\u0027)\n#print(len(df))"
      ],
      "outputs": []
    },
    {
      "execution_count": 0,
      "cell_type": "code",
      "metadata": {},
      "source": [
        "#df.CUSTOMER_CONVERTED_TO.value_counts()"
      ],
      "outputs": []
    },
    {
      "execution_count": 0,
      "cell_type": "code",
      "metadata": {},
      "source": [
        "#df.loc[~df[\u0027CUSTOMER_CONVERTED_TO\u0027].isnull(),\u0027CUSTOMER\u0027] \u003d df.CUSTOMER_CONVERTED_TO"
      ],
      "outputs": []
    },
    {
      "execution_count": 0,
      "cell_type": "code",
      "metadata": {},
      "source": [
        "#df.head()"
      ],
      "outputs": []
    }
  ]
}