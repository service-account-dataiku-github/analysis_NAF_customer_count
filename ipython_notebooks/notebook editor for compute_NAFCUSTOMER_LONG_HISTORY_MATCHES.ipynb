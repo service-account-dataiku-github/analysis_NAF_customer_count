{
  "metadata": {
    "kernelspec": {
      "name": "py-dku-venv-env_clc",
      "display_name": "Python (env env_clc)",
      "language": "python"
    },
    "associatedRecipe": "compute_NAFCUSTOMER_LONG_HISTORY_MATCHES",
    "dkuGit": {
      "lastInteraction": 0
    },
    "creationTag": {
      "versionNumber": 0,
      "lastModifiedBy": {
        "login": "Daniel.Vandermeer"
      },
      "lastModifiedOn": 1675368834596
    },
    "creator": "Daniel.Vandermeer",
    "createdOn": 1675368834596,
    "tags": [
      "recipe-editor"
    ],
    "customFields": {},
    "hide_input": false,
    "language_info": {
      "name": "python",
      "version": "3.6.8",
      "mimetype": "text/x-python",
      "codemirror_mode": {
        "name": "ipython",
        "version": 3
      },
      "pygments_lexer": "ipython3",
      "nbconvert_exporter": "python",
      "file_extension": ".py"
    },
    "modifiedBy": "Daniel.Vandermeer"
  },
  "nbformat": 4,
  "nbformat_minor": 1,
  "cells": [
    {
      "execution_count": 7,
      "cell_type": "code",
      "metadata": {},
      "source": [
        "# -*- coding: utf-8 -*-\nimport dataiku\nimport pandas as pd, numpy as np\nfrom dataiku import pandasutils as pdu\n\nACCOUNT_BUNDLER_LIST \u003d dataiku.Dataset(\"ACCOUNT_BUNDLER_LIST\")\nACCOUNT_BUNDLER_LIST_df \u003d ACCOUNT_BUNDLER_LIST.get_dataframe()\nprint(len(ACCOUNT_BUNDLER_LIST_df))\n\nNAFCUSTOMER_RDW_CONVERSIONS \u003d dataiku.Dataset(\"NAFCUSTOMER_RDW_CONVERSIONS\")\nNAFCUSTOMER_RDW_CONVERSIONS_df \u003d NAFCUSTOMER_RDW_CONVERSIONS.get_dataframe()\nprint(len(NAFCUSTOMER_RDW_CONVERSIONS_df))\n\n# Read recipe inputs\nNAFCUSTOMER_ACCOUNT_ACTIVE_CARDS_BY_QUARTER \u003d dataiku.Dataset(\"NAFCUSTOMER_ACCOUNT_ACTIVE_CARDS_BY_QUARTER\")\nNAFCUSTOMER_ACCOUNT_ACTIVE_CARDS_BY_QUARTER_df \u003d NAFCUSTOMER_ACCOUNT_ACTIVE_CARDS_BY_QUARTER.get_dataframe()\nprint(len(NAFCUSTOMER_ACCOUNT_ACTIVE_CARDS_BY_QUARTER_df))\n\n"
      ],
      "outputs": [
        {
          "output_type": "stream",
          "text": "274\n2170800\n4806903\n",
          "name": "stdout"
        }
      ]
    },
    {
      "execution_count": 36,
      "cell_type": "code",
      "metadata": {},
      "source": [
        "NAFCUSTOMER_ACCOUNT_ACTIVE_CARDS_BY_QUARTER_df.head()"
      ],
      "outputs": [
        {
          "output_type": "execute_result",
          "execution_count": 36,
          "data": {
            "text/plain": "   CUSTOMER_ACCOUNT_ID           CUSTOMER_ACCOUNT_NAME               EDW_CUSTOMER_NAME       ACCOUNT_SINCE_DATE CUSTOMER_SOURCE_SYSTEM_CODE        ACCOUNT_OPEN_DATE      ACCOUNT_CLOSED_DATE ATTRITION_TYPE_NAME ATTRITION_REASON_CODE ATTRITION_REASON_DESC  YEAR_NUMBER  QUARTER_NUMBER  ACTIVE_CARD_COUNT\n0        9100004251546               CAROLINA AIR CARE     WEX FLEET UNIVERSAL PRIMARY  2017-04-27 00:00:00.000                      SIEBEL  2017-04-27 00:00:00.000  9999-12-31 00:00:00.000             Unknown                  Unkn               Unknown         2017               4                 15\n1         417008246662  U S D 315 COLBY PUBLIC SCHOOLS  U S D 315 COLBY PUBLIC SCHOOLS  2010-05-14 00:00:00.000                      TANDEM  2010-05-14 00:00:00.000  2022-09-10 00:00:00.000     NNCL Conversion                    04    Account Conversion         2018               2                 14\n2         430004184602      EASTER SEALS NEW HAMPSHIRE      EASTER SEALS NEW HAMPSHIRE  2000-08-02 00:00:00.000                      TANDEM  2000-08-02 00:00:00.000  2022-09-17 00:00:00.000     NNCL Conversion                    04    Account Conversion         2019               4                121\n3        9100004755591           11300 GRANT COUNTY WA                  AMR HOLDCO INC  2018-02-14 00:00:00.000                      SIEBEL  2018-02-14 00:00:00.000  9999-12-31 00:00:00.000             Unknown                  Unkn               Unknown         2019               4                 11\n4         444007634488             MARTIN CHRYSLER LLC             MARTIN CHRYSLER LLC  2007-12-04 00:00:00.000                      TANDEM  2007-12-04 00:00:00.000  2022-04-19 00:00:00.000     NNCL Conversion                    04    Account Conversion         2019               2                  9",
            "text/html": "\u003cdiv\u003e\n\u003cstyle scoped\u003e\n    .dataframe tbody tr th:only-of-type {\n        vertical-align: middle;\n    }\n\n    .dataframe tbody tr th {\n        vertical-align: top;\n    }\n\n    .dataframe thead th {\n        text-align: right;\n    }\n\u003c/style\u003e\n\u003ctable border\u003d\"1\" class\u003d\"dataframe\"\u003e\n  \u003cthead\u003e\n    \u003ctr style\u003d\"text-align: right;\"\u003e\n      \u003cth\u003e\u003c/th\u003e\n      \u003cth\u003eCUSTOMER_ACCOUNT_ID\u003c/th\u003e\n      \u003cth\u003eCUSTOMER_ACCOUNT_NAME\u003c/th\u003e\n      \u003cth\u003eEDW_CUSTOMER_NAME\u003c/th\u003e\n      \u003cth\u003eACCOUNT_SINCE_DATE\u003c/th\u003e\n      \u003cth\u003eCUSTOMER_SOURCE_SYSTEM_CODE\u003c/th\u003e\n      \u003cth\u003eACCOUNT_OPEN_DATE\u003c/th\u003e\n      \u003cth\u003eACCOUNT_CLOSED_DATE\u003c/th\u003e\n      \u003cth\u003eATTRITION_TYPE_NAME\u003c/th\u003e\n      \u003cth\u003eATTRITION_REASON_CODE\u003c/th\u003e\n      \u003cth\u003eATTRITION_REASON_DESC\u003c/th\u003e\n      \u003cth\u003eYEAR_NUMBER\u003c/th\u003e\n      \u003cth\u003eQUARTER_NUMBER\u003c/th\u003e\n      \u003cth\u003eACTIVE_CARD_COUNT\u003c/th\u003e\n    \u003c/tr\u003e\n  \u003c/thead\u003e\n  \u003ctbody\u003e\n    \u003ctr\u003e\n      \u003cth\u003e0\u003c/th\u003e\n      \u003ctd\u003e9100004251546\u003c/td\u003e\n      \u003ctd\u003eCAROLINA AIR CARE\u003c/td\u003e\n      \u003ctd\u003eWEX FLEET UNIVERSAL PRIMARY\u003c/td\u003e\n      \u003ctd\u003e2017-04-27 00:00:00.000\u003c/td\u003e\n      \u003ctd\u003eSIEBEL\u003c/td\u003e\n      \u003ctd\u003e2017-04-27 00:00:00.000\u003c/td\u003e\n      \u003ctd\u003e9999-12-31 00:00:00.000\u003c/td\u003e\n      \u003ctd\u003eUnknown\u003c/td\u003e\n      \u003ctd\u003eUnkn\u003c/td\u003e\n      \u003ctd\u003eUnknown\u003c/td\u003e\n      \u003ctd\u003e2017\u003c/td\u003e\n      \u003ctd\u003e4\u003c/td\u003e\n      \u003ctd\u003e15\u003c/td\u003e\n    \u003c/tr\u003e\n    \u003ctr\u003e\n      \u003cth\u003e1\u003c/th\u003e\n      \u003ctd\u003e417008246662\u003c/td\u003e\n      \u003ctd\u003eU S D 315 COLBY PUBLIC SCHOOLS\u003c/td\u003e\n      \u003ctd\u003eU S D 315 COLBY PUBLIC SCHOOLS\u003c/td\u003e\n      \u003ctd\u003e2010-05-14 00:00:00.000\u003c/td\u003e\n      \u003ctd\u003eTANDEM\u003c/td\u003e\n      \u003ctd\u003e2010-05-14 00:00:00.000\u003c/td\u003e\n      \u003ctd\u003e2022-09-10 00:00:00.000\u003c/td\u003e\n      \u003ctd\u003eNNCL Conversion\u003c/td\u003e\n      \u003ctd\u003e04\u003c/td\u003e\n      \u003ctd\u003eAccount Conversion\u003c/td\u003e\n      \u003ctd\u003e2018\u003c/td\u003e\n      \u003ctd\u003e2\u003c/td\u003e\n      \u003ctd\u003e14\u003c/td\u003e\n    \u003c/tr\u003e\n    \u003ctr\u003e\n      \u003cth\u003e2\u003c/th\u003e\n      \u003ctd\u003e430004184602\u003c/td\u003e\n      \u003ctd\u003eEASTER SEALS NEW HAMPSHIRE\u003c/td\u003e\n      \u003ctd\u003eEASTER SEALS NEW HAMPSHIRE\u003c/td\u003e\n      \u003ctd\u003e2000-08-02 00:00:00.000\u003c/td\u003e\n      \u003ctd\u003eTANDEM\u003c/td\u003e\n      \u003ctd\u003e2000-08-02 00:00:00.000\u003c/td\u003e\n      \u003ctd\u003e2022-09-17 00:00:00.000\u003c/td\u003e\n      \u003ctd\u003eNNCL Conversion\u003c/td\u003e\n      \u003ctd\u003e04\u003c/td\u003e\n      \u003ctd\u003eAccount Conversion\u003c/td\u003e\n      \u003ctd\u003e2019\u003c/td\u003e\n      \u003ctd\u003e4\u003c/td\u003e\n      \u003ctd\u003e121\u003c/td\u003e\n    \u003c/tr\u003e\n    \u003ctr\u003e\n      \u003cth\u003e3\u003c/th\u003e\n      \u003ctd\u003e9100004755591\u003c/td\u003e\n      \u003ctd\u003e11300 GRANT COUNTY WA\u003c/td\u003e\n      \u003ctd\u003eAMR HOLDCO INC\u003c/td\u003e\n      \u003ctd\u003e2018-02-14 00:00:00.000\u003c/td\u003e\n      \u003ctd\u003eSIEBEL\u003c/td\u003e\n      \u003ctd\u003e2018-02-14 00:00:00.000\u003c/td\u003e\n      \u003ctd\u003e9999-12-31 00:00:00.000\u003c/td\u003e\n      \u003ctd\u003eUnknown\u003c/td\u003e\n      \u003ctd\u003eUnkn\u003c/td\u003e\n      \u003ctd\u003eUnknown\u003c/td\u003e\n      \u003ctd\u003e2019\u003c/td\u003e\n      \u003ctd\u003e4\u003c/td\u003e\n      \u003ctd\u003e11\u003c/td\u003e\n    \u003c/tr\u003e\n    \u003ctr\u003e\n      \u003cth\u003e4\u003c/th\u003e\n      \u003ctd\u003e444007634488\u003c/td\u003e\n      \u003ctd\u003eMARTIN CHRYSLER LLC\u003c/td\u003e\n      \u003ctd\u003eMARTIN CHRYSLER LLC\u003c/td\u003e\n      \u003ctd\u003e2007-12-04 00:00:00.000\u003c/td\u003e\n      \u003ctd\u003eTANDEM\u003c/td\u003e\n      \u003ctd\u003e2007-12-04 00:00:00.000\u003c/td\u003e\n      \u003ctd\u003e2022-04-19 00:00:00.000\u003c/td\u003e\n      \u003ctd\u003eNNCL Conversion\u003c/td\u003e\n      \u003ctd\u003e04\u003c/td\u003e\n      \u003ctd\u003eAccount Conversion\u003c/td\u003e\n      \u003ctd\u003e2019\u003c/td\u003e\n      \u003ctd\u003e2\u003c/td\u003e\n      \u003ctd\u003e9\u003c/td\u003e\n    \u003c/tr\u003e\n  \u003c/tbody\u003e\n\u003c/table\u003e\n\u003c/div\u003e"
          },
          "metadata": {}
        }
      ]
    },
    {
      "execution_count": 41,
      "cell_type": "code",
      "metadata": {},
      "source": [
        "df_a \u003d NAFCUSTOMER_ACCOUNT_ACTIVE_CARDS_BY_QUARTER_df\ndf_a[\u0027CUSTOMER_ACCOUNT_ID\u0027] \u003d df_a[\u0027CUSTOMER_ACCOUNT_ID\u0027].astype(\u0027Int64\u0027, errors\u003d\u0027ignore\u0027)\ndf_a[\u0027CUSTOMER_ACCOUNT_NAME\u0027] \u003d df_a[\u0027CUSTOMER_ACCOUNT_NAME\u0027].str.upper()\ndf_a[\u0027EDW_CUSTOMER_NAME\u0027] \u003d df_a[\u0027EDW_CUSTOMER_NAME\u0027].str.upper()\n\nACCOUNT_BUNDLER_LIST_df[\u0027IS_BUNDLER\u0027] \u003d True\nACCOUNT_BUNDLER_LIST_df \u003d ACCOUNT_BUNDLER_LIST_df[[\u0027EDW_CUSTOMER_NAME\u0027,\u0027IS_BUNDLER\u0027]]\nACCOUNT_BUNDLER_LIST_df.head()\n\ndf \u003d pd.merge(df_a,ACCOUNT_BUNDLER_LIST_df, how\u003d\u0027left\u0027, on\u003d\u0027EDW_CUSTOMER_NAME\u0027)\ndf.loc[df[\"IS_BUNDLER\"].isnull(),\u0027IS_BUNDLER\u0027] \u003d False\ndf.CUSTOMER_NAME\ndf.head()"
      ],
      "outputs": [
        {
          "output_type": "execute_result",
          "execution_count": 41,
          "data": {
            "text/plain": "   CUSTOMER_ACCOUNT_ID           CUSTOMER_ACCOUNT_NAME               EDW_CUSTOMER_NAME       ACCOUNT_SINCE_DATE CUSTOMER_SOURCE_SYSTEM_CODE        ACCOUNT_OPEN_DATE      ACCOUNT_CLOSED_DATE ATTRITION_TYPE_NAME ATTRITION_REASON_CODE ATTRITION_REASON_DESC  YEAR_NUMBER  QUARTER_NUMBER  ACTIVE_CARD_COUNT IS_BUNDLER\n0        9100004251546               CAROLINA AIR CARE     WEX FLEET UNIVERSAL PRIMARY  2017-04-27 00:00:00.000                      SIEBEL  2017-04-27 00:00:00.000  9999-12-31 00:00:00.000             Unknown                  Unkn               Unknown         2017               4                 15       True\n1         417008246662  U S D 315 COLBY PUBLIC SCHOOLS  U S D 315 COLBY PUBLIC SCHOOLS  2010-05-14 00:00:00.000                      TANDEM  2010-05-14 00:00:00.000  2022-09-10 00:00:00.000     NNCL Conversion                    04    Account Conversion         2018               2                 14      False\n2         430004184602      EASTER SEALS NEW HAMPSHIRE      EASTER SEALS NEW HAMPSHIRE  2000-08-02 00:00:00.000                      TANDEM  2000-08-02 00:00:00.000  2022-09-17 00:00:00.000     NNCL Conversion                    04    Account Conversion         2019               4                121      False\n3        9100004755591           11300 GRANT COUNTY WA                  AMR HOLDCO INC  2018-02-14 00:00:00.000                      SIEBEL  2018-02-14 00:00:00.000  9999-12-31 00:00:00.000             Unknown                  Unkn               Unknown         2019               4                 11      False\n4         444007634488             MARTIN CHRYSLER LLC             MARTIN CHRYSLER LLC  2007-12-04 00:00:00.000                      TANDEM  2007-12-04 00:00:00.000  2022-04-19 00:00:00.000     NNCL Conversion                    04    Account Conversion         2019               2                  9      False",
            "text/html": "\u003cdiv\u003e\n\u003cstyle scoped\u003e\n    .dataframe tbody tr th:only-of-type {\n        vertical-align: middle;\n    }\n\n    .dataframe tbody tr th {\n        vertical-align: top;\n    }\n\n    .dataframe thead th {\n        text-align: right;\n    }\n\u003c/style\u003e\n\u003ctable border\u003d\"1\" class\u003d\"dataframe\"\u003e\n  \u003cthead\u003e\n    \u003ctr style\u003d\"text-align: right;\"\u003e\n      \u003cth\u003e\u003c/th\u003e\n      \u003cth\u003eCUSTOMER_ACCOUNT_ID\u003c/th\u003e\n      \u003cth\u003eCUSTOMER_ACCOUNT_NAME\u003c/th\u003e\n      \u003cth\u003eEDW_CUSTOMER_NAME\u003c/th\u003e\n      \u003cth\u003eACCOUNT_SINCE_DATE\u003c/th\u003e\n      \u003cth\u003eCUSTOMER_SOURCE_SYSTEM_CODE\u003c/th\u003e\n      \u003cth\u003eACCOUNT_OPEN_DATE\u003c/th\u003e\n      \u003cth\u003eACCOUNT_CLOSED_DATE\u003c/th\u003e\n      \u003cth\u003eATTRITION_TYPE_NAME\u003c/th\u003e\n      \u003cth\u003eATTRITION_REASON_CODE\u003c/th\u003e\n      \u003cth\u003eATTRITION_REASON_DESC\u003c/th\u003e\n      \u003cth\u003eYEAR_NUMBER\u003c/th\u003e\n      \u003cth\u003eQUARTER_NUMBER\u003c/th\u003e\n      \u003cth\u003eACTIVE_CARD_COUNT\u003c/th\u003e\n      \u003cth\u003eIS_BUNDLER\u003c/th\u003e\n    \u003c/tr\u003e\n  \u003c/thead\u003e\n  \u003ctbody\u003e\n    \u003ctr\u003e\n      \u003cth\u003e0\u003c/th\u003e\n      \u003ctd\u003e9100004251546\u003c/td\u003e\n      \u003ctd\u003eCAROLINA AIR CARE\u003c/td\u003e\n      \u003ctd\u003eWEX FLEET UNIVERSAL PRIMARY\u003c/td\u003e\n      \u003ctd\u003e2017-04-27 00:00:00.000\u003c/td\u003e\n      \u003ctd\u003eSIEBEL\u003c/td\u003e\n      \u003ctd\u003e2017-04-27 00:00:00.000\u003c/td\u003e\n      \u003ctd\u003e9999-12-31 00:00:00.000\u003c/td\u003e\n      \u003ctd\u003eUnknown\u003c/td\u003e\n      \u003ctd\u003eUnkn\u003c/td\u003e\n      \u003ctd\u003eUnknown\u003c/td\u003e\n      \u003ctd\u003e2017\u003c/td\u003e\n      \u003ctd\u003e4\u003c/td\u003e\n      \u003ctd\u003e15\u003c/td\u003e\n      \u003ctd\u003eTrue\u003c/td\u003e\n    \u003c/tr\u003e\n    \u003ctr\u003e\n      \u003cth\u003e1\u003c/th\u003e\n      \u003ctd\u003e417008246662\u003c/td\u003e\n      \u003ctd\u003eU S D 315 COLBY PUBLIC SCHOOLS\u003c/td\u003e\n      \u003ctd\u003eU S D 315 COLBY PUBLIC SCHOOLS\u003c/td\u003e\n      \u003ctd\u003e2010-05-14 00:00:00.000\u003c/td\u003e\n      \u003ctd\u003eTANDEM\u003c/td\u003e\n      \u003ctd\u003e2010-05-14 00:00:00.000\u003c/td\u003e\n      \u003ctd\u003e2022-09-10 00:00:00.000\u003c/td\u003e\n      \u003ctd\u003eNNCL Conversion\u003c/td\u003e\n      \u003ctd\u003e04\u003c/td\u003e\n      \u003ctd\u003eAccount Conversion\u003c/td\u003e\n      \u003ctd\u003e2018\u003c/td\u003e\n      \u003ctd\u003e2\u003c/td\u003e\n      \u003ctd\u003e14\u003c/td\u003e\n      \u003ctd\u003eFalse\u003c/td\u003e\n    \u003c/tr\u003e\n    \u003ctr\u003e\n      \u003cth\u003e2\u003c/th\u003e\n      \u003ctd\u003e430004184602\u003c/td\u003e\n      \u003ctd\u003eEASTER SEALS NEW HAMPSHIRE\u003c/td\u003e\n      \u003ctd\u003eEASTER SEALS NEW HAMPSHIRE\u003c/td\u003e\n      \u003ctd\u003e2000-08-02 00:00:00.000\u003c/td\u003e\n      \u003ctd\u003eTANDEM\u003c/td\u003e\n      \u003ctd\u003e2000-08-02 00:00:00.000\u003c/td\u003e\n      \u003ctd\u003e2022-09-17 00:00:00.000\u003c/td\u003e\n      \u003ctd\u003eNNCL Conversion\u003c/td\u003e\n      \u003ctd\u003e04\u003c/td\u003e\n      \u003ctd\u003eAccount Conversion\u003c/td\u003e\n      \u003ctd\u003e2019\u003c/td\u003e\n      \u003ctd\u003e4\u003c/td\u003e\n      \u003ctd\u003e121\u003c/td\u003e\n      \u003ctd\u003eFalse\u003c/td\u003e\n    \u003c/tr\u003e\n    \u003ctr\u003e\n      \u003cth\u003e3\u003c/th\u003e\n      \u003ctd\u003e9100004755591\u003c/td\u003e\n      \u003ctd\u003e11300 GRANT COUNTY WA\u003c/td\u003e\n      \u003ctd\u003eAMR HOLDCO INC\u003c/td\u003e\n      \u003ctd\u003e2018-02-14 00:00:00.000\u003c/td\u003e\n      \u003ctd\u003eSIEBEL\u003c/td\u003e\n      \u003ctd\u003e2018-02-14 00:00:00.000\u003c/td\u003e\n      \u003ctd\u003e9999-12-31 00:00:00.000\u003c/td\u003e\n      \u003ctd\u003eUnknown\u003c/td\u003e\n      \u003ctd\u003eUnkn\u003c/td\u003e\n      \u003ctd\u003eUnknown\u003c/td\u003e\n      \u003ctd\u003e2019\u003c/td\u003e\n      \u003ctd\u003e4\u003c/td\u003e\n      \u003ctd\u003e11\u003c/td\u003e\n      \u003ctd\u003eFalse\u003c/td\u003e\n    \u003c/tr\u003e\n    \u003ctr\u003e\n      \u003cth\u003e4\u003c/th\u003e\n      \u003ctd\u003e444007634488\u003c/td\u003e\n      \u003ctd\u003eMARTIN CHRYSLER LLC\u003c/td\u003e\n      \u003ctd\u003eMARTIN CHRYSLER LLC\u003c/td\u003e\n      \u003ctd\u003e2007-12-04 00:00:00.000\u003c/td\u003e\n      \u003ctd\u003eTANDEM\u003c/td\u003e\n      \u003ctd\u003e2007-12-04 00:00:00.000\u003c/td\u003e\n      \u003ctd\u003e2022-04-19 00:00:00.000\u003c/td\u003e\n      \u003ctd\u003eNNCL Conversion\u003c/td\u003e\n      \u003ctd\u003e04\u003c/td\u003e\n      \u003ctd\u003eAccount Conversion\u003c/td\u003e\n      \u003ctd\u003e2019\u003c/td\u003e\n      \u003ctd\u003e2\u003c/td\u003e\n      \u003ctd\u003e9\u003c/td\u003e\n      \u003ctd\u003eFalse\u003c/td\u003e\n    \u003c/tr\u003e\n  \u003c/tbody\u003e\n\u003c/table\u003e\n\u003c/div\u003e"
          },
          "metadata": {}
        }
      ]
    },
    {
      "execution_count": 50,
      "cell_type": "code",
      "metadata": {},
      "source": [
        "df[\u0027CUSTOMER\u0027] \u003d np.nan\ndf[\u0027CUST_CALC_SOURCE\u0027] \u003d \u0027Unknown\u0027\ndf.loc[df.IS_BUNDLER,\u0027EDW_CUSTOMER_NAME\u0027] \u003d np.nan\n\ndf.loc[~df[\u0027EDW_CUSTOMER_NAME\u0027].isnull(),\u0027CUSTOMER\u0027] \u003d df[\"EDW_CUSTOMER_NAME\"]\ndf.loc[~df[\u0027EDW_CUSTOMER_NAME\u0027].isnull(),\u0027CUST_CALC_SOURCE\u0027] \u003d \u0027EDW\u0027\n\ndf.loc[df[\u0027CUSTOMER\u0027].isnull(),\u0027CUST_CALC_SOURCE\u0027] \u003d \u0027ACCOUNT\u0027\ndf.loc[df[\u0027CUSTOMER\u0027].isnull(),\u0027CUSTOMER\u0027] \u003d df.CUSTOMER_ACCOUNT_NAME"
      ],
      "outputs": []
    },
    {
      "execution_count": 51,
      "cell_type": "code",
      "metadata": {},
      "source": [
        "df.CUST_CALC_SOURCE.value_counts(dropna\u003dFalse)"
      ],
      "outputs": [
        {
          "output_type": "execute_result",
          "execution_count": 51,
          "data": {
            "text/plain": "EDW        2707344\nACCOUNT    2099559\nName: CUST_CALC_SOURCE, dtype: int64"
          },
          "metadata": {}
        }
      ]
    },
    {
      "execution_count": 42,
      "cell_type": "code",
      "metadata": {},
      "source": [
        "df_g \u003d df.groupby([\u0027EDW_CUSTOMER_NAME\u0027]).CUSTOMER_ACCOUNT_ID.nunique().reset_index()\ndf_g.columns \u003d [\u0027EDW_CUSTOMER_NAME\u0027,\u0027ACCOUNT_COUNT\u0027]\ndf_g \u003d df_g.sort_values(by\u003d[\u0027ACCOUNT_COUNT\u0027], ascending\u003dFalse)\ndf_g.head(40)"
      ],
      "outputs": [
        {
          "output_type": "execute_result",
          "execution_count": 42,
          "data": {
            "text/plain": "                             EDW_CUSTOMER_NAME  ACCOUNT_COUNT\n210826            SHELL SMALL BUSINESS PRIMARY          56872\n52024      CHEVRON AND TEXACO BUSINESS PRIMARY          24820\n210819                SHELL FLEET PLUS PRIMARY          24417\n249938             WEX FLEET UNIVERSAL PRIMARY          17548\n52020    CHEVRON  TEXACO BUSINESS ACCESS PRIMA          14198\n217281         SPEEDWAY BUSINESS FLEET PRIMARY          13486\n189452            QUIKTRIP FLEETMASTER PRIMARY          10656\n149983                  MARATHON FLEET PRIMARY           9009\n249937       WEX FLEET FLEXCARD REBATE PRIMARY           8488\n247930                      WAWA FLEET PRIMARY           7859\n249930  WEX ENTERPRISE EXXONMOBIL CARD PRIMARY           6624\n53599                  CITGO UNIVERSAL PRIMARY           6518\n53477               CIRCLE K UNIVERSAL PRIMARY           5834\n174183                  OREILLY AUTOMOTIVE INC           5798\n53476                  CIRCLE K STORES PRIMARY           5764\n210731                     SHEETZ EDGE PRIMARY           5536\n53595                      CITGO FLEET PRIMARY           5460\n217282     SPEEDWAY BUSINESS UNIVERSAL PRIMARY           5376\n249931  WEX ENTERPRISE FLEET MGMT CARD PRIMARY           5194\n210730            SHEETZ BUSINESS EDGE PRIMARY           5176\n149998              MARATHON UNIVERSAL PRIMARY           5050\n247933                  WAWA UNIVERSAL PRIMARY           4756\n210818         SHELL FLEET PLUS CANADA PRIMARY           4611\n189451       QUIKTRIP FLEETMASTER PLUS PRIMARY           4368\n5140                 7ELEVEN UNIVERSAL PRIMARY           4220\n52022     CHEVRON AND TEXACO ACCESS BP PRIMARY           4047\n35201                      BIZ UNITE UNIVERSAL           3887\n191634                  RACETRAC ELITE PRIMARY           3727\n249935          WEX FLEET CARD PROGRAM PRIMARY           3656\n210734           SHEETZ UNIVERSAL EDGE PRIMARY           3353\n163904                MURPHY UNIVERSAL PRIMARY           3316\n100007               GLOBAL FLEET FUEL PRIMARY           3074\n152970                     MAVERIK INC PRIMARY           2953\n59450                 CONOCO UNIVERSAL PRIMARY           2883\n181401           PHILLIPS 66 UNIVERSAL PRIMARY           2814\n135863                         KUM  GO PRIMARY           2802\n5059                      76 UNIVERSAL PRIMARY           2712\n195701                             RENTACENTER           2606\n59449                     CONOCO FLEET PRIMARY           2545\n191635              RACETRAC UNIVERSAL PRIMARY           2543",
            "text/html": "\u003cdiv\u003e\n\u003cstyle scoped\u003e\n    .dataframe tbody tr th:only-of-type {\n        vertical-align: middle;\n    }\n\n    .dataframe tbody tr th {\n        vertical-align: top;\n    }\n\n    .dataframe thead th {\n        text-align: right;\n    }\n\u003c/style\u003e\n\u003ctable border\u003d\"1\" class\u003d\"dataframe\"\u003e\n  \u003cthead\u003e\n    \u003ctr style\u003d\"text-align: right;\"\u003e\n      \u003cth\u003e\u003c/th\u003e\n      \u003cth\u003eEDW_CUSTOMER_NAME\u003c/th\u003e\n      \u003cth\u003eACCOUNT_COUNT\u003c/th\u003e\n    \u003c/tr\u003e\n  \u003c/thead\u003e\n  \u003ctbody\u003e\n    \u003ctr\u003e\n      \u003cth\u003e210826\u003c/th\u003e\n      \u003ctd\u003eSHELL SMALL BUSINESS PRIMARY\u003c/td\u003e\n      \u003ctd\u003e56872\u003c/td\u003e\n    \u003c/tr\u003e\n    \u003ctr\u003e\n      \u003cth\u003e52024\u003c/th\u003e\n      \u003ctd\u003eCHEVRON AND TEXACO BUSINESS PRIMARY\u003c/td\u003e\n      \u003ctd\u003e24820\u003c/td\u003e\n    \u003c/tr\u003e\n    \u003ctr\u003e\n      \u003cth\u003e210819\u003c/th\u003e\n      \u003ctd\u003eSHELL FLEET PLUS PRIMARY\u003c/td\u003e\n      \u003ctd\u003e24417\u003c/td\u003e\n    \u003c/tr\u003e\n    \u003ctr\u003e\n      \u003cth\u003e249938\u003c/th\u003e\n      \u003ctd\u003eWEX FLEET UNIVERSAL PRIMARY\u003c/td\u003e\n      \u003ctd\u003e17548\u003c/td\u003e\n    \u003c/tr\u003e\n    \u003ctr\u003e\n      \u003cth\u003e52020\u003c/th\u003e\n      \u003ctd\u003eCHEVRON  TEXACO BUSINESS ACCESS PRIMA\u003c/td\u003e\n      \u003ctd\u003e14198\u003c/td\u003e\n    \u003c/tr\u003e\n    \u003ctr\u003e\n      \u003cth\u003e217281\u003c/th\u003e\n      \u003ctd\u003eSPEEDWAY BUSINESS FLEET PRIMARY\u003c/td\u003e\n      \u003ctd\u003e13486\u003c/td\u003e\n    \u003c/tr\u003e\n    \u003ctr\u003e\n      \u003cth\u003e189452\u003c/th\u003e\n      \u003ctd\u003eQUIKTRIP FLEETMASTER PRIMARY\u003c/td\u003e\n      \u003ctd\u003e10656\u003c/td\u003e\n    \u003c/tr\u003e\n    \u003ctr\u003e\n      \u003cth\u003e149983\u003c/th\u003e\n      \u003ctd\u003eMARATHON FLEET PRIMARY\u003c/td\u003e\n      \u003ctd\u003e9009\u003c/td\u003e\n    \u003c/tr\u003e\n    \u003ctr\u003e\n      \u003cth\u003e249937\u003c/th\u003e\n      \u003ctd\u003eWEX FLEET FLEXCARD REBATE PRIMARY\u003c/td\u003e\n      \u003ctd\u003e8488\u003c/td\u003e\n    \u003c/tr\u003e\n    \u003ctr\u003e\n      \u003cth\u003e247930\u003c/th\u003e\n      \u003ctd\u003eWAWA FLEET PRIMARY\u003c/td\u003e\n      \u003ctd\u003e7859\u003c/td\u003e\n    \u003c/tr\u003e\n    \u003ctr\u003e\n      \u003cth\u003e249930\u003c/th\u003e\n      \u003ctd\u003eWEX ENTERPRISE EXXONMOBIL CARD PRIMARY\u003c/td\u003e\n      \u003ctd\u003e6624\u003c/td\u003e\n    \u003c/tr\u003e\n    \u003ctr\u003e\n      \u003cth\u003e53599\u003c/th\u003e\n      \u003ctd\u003eCITGO UNIVERSAL PRIMARY\u003c/td\u003e\n      \u003ctd\u003e6518\u003c/td\u003e\n    \u003c/tr\u003e\n    \u003ctr\u003e\n      \u003cth\u003e53477\u003c/th\u003e\n      \u003ctd\u003eCIRCLE K UNIVERSAL PRIMARY\u003c/td\u003e\n      \u003ctd\u003e5834\u003c/td\u003e\n    \u003c/tr\u003e\n    \u003ctr\u003e\n      \u003cth\u003e174183\u003c/th\u003e\n      \u003ctd\u003eOREILLY AUTOMOTIVE INC\u003c/td\u003e\n      \u003ctd\u003e5798\u003c/td\u003e\n    \u003c/tr\u003e\n    \u003ctr\u003e\n      \u003cth\u003e53476\u003c/th\u003e\n      \u003ctd\u003eCIRCLE K STORES PRIMARY\u003c/td\u003e\n      \u003ctd\u003e5764\u003c/td\u003e\n    \u003c/tr\u003e\n    \u003ctr\u003e\n      \u003cth\u003e210731\u003c/th\u003e\n      \u003ctd\u003eSHEETZ EDGE PRIMARY\u003c/td\u003e\n      \u003ctd\u003e5536\u003c/td\u003e\n    \u003c/tr\u003e\n    \u003ctr\u003e\n      \u003cth\u003e53595\u003c/th\u003e\n      \u003ctd\u003eCITGO FLEET PRIMARY\u003c/td\u003e\n      \u003ctd\u003e5460\u003c/td\u003e\n    \u003c/tr\u003e\n    \u003ctr\u003e\n      \u003cth\u003e217282\u003c/th\u003e\n      \u003ctd\u003eSPEEDWAY BUSINESS UNIVERSAL PRIMARY\u003c/td\u003e\n      \u003ctd\u003e5376\u003c/td\u003e\n    \u003c/tr\u003e\n    \u003ctr\u003e\n      \u003cth\u003e249931\u003c/th\u003e\n      \u003ctd\u003eWEX ENTERPRISE FLEET MGMT CARD PRIMARY\u003c/td\u003e\n      \u003ctd\u003e5194\u003c/td\u003e\n    \u003c/tr\u003e\n    \u003ctr\u003e\n      \u003cth\u003e210730\u003c/th\u003e\n      \u003ctd\u003eSHEETZ BUSINESS EDGE PRIMARY\u003c/td\u003e\n      \u003ctd\u003e5176\u003c/td\u003e\n    \u003c/tr\u003e\n    \u003ctr\u003e\n      \u003cth\u003e149998\u003c/th\u003e\n      \u003ctd\u003eMARATHON UNIVERSAL PRIMARY\u003c/td\u003e\n      \u003ctd\u003e5050\u003c/td\u003e\n    \u003c/tr\u003e\n    \u003ctr\u003e\n      \u003cth\u003e247933\u003c/th\u003e\n      \u003ctd\u003eWAWA UNIVERSAL PRIMARY\u003c/td\u003e\n      \u003ctd\u003e4756\u003c/td\u003e\n    \u003c/tr\u003e\n    \u003ctr\u003e\n      \u003cth\u003e210818\u003c/th\u003e\n      \u003ctd\u003eSHELL FLEET PLUS CANADA PRIMARY\u003c/td\u003e\n      \u003ctd\u003e4611\u003c/td\u003e\n    \u003c/tr\u003e\n    \u003ctr\u003e\n      \u003cth\u003e189451\u003c/th\u003e\n      \u003ctd\u003eQUIKTRIP FLEETMASTER PLUS PRIMARY\u003c/td\u003e\n      \u003ctd\u003e4368\u003c/td\u003e\n    \u003c/tr\u003e\n    \u003ctr\u003e\n      \u003cth\u003e5140\u003c/th\u003e\n      \u003ctd\u003e7ELEVEN UNIVERSAL PRIMARY\u003c/td\u003e\n      \u003ctd\u003e4220\u003c/td\u003e\n    \u003c/tr\u003e\n    \u003ctr\u003e\n      \u003cth\u003e52022\u003c/th\u003e\n      \u003ctd\u003eCHEVRON AND TEXACO ACCESS BP PRIMARY\u003c/td\u003e\n      \u003ctd\u003e4047\u003c/td\u003e\n    \u003c/tr\u003e\n    \u003ctr\u003e\n      \u003cth\u003e35201\u003c/th\u003e\n      \u003ctd\u003eBIZ UNITE UNIVERSAL\u003c/td\u003e\n      \u003ctd\u003e3887\u003c/td\u003e\n    \u003c/tr\u003e\n    \u003ctr\u003e\n      \u003cth\u003e191634\u003c/th\u003e\n      \u003ctd\u003eRACETRAC ELITE PRIMARY\u003c/td\u003e\n      \u003ctd\u003e3727\u003c/td\u003e\n    \u003c/tr\u003e\n    \u003ctr\u003e\n      \u003cth\u003e249935\u003c/th\u003e\n      \u003ctd\u003eWEX FLEET CARD PROGRAM PRIMARY\u003c/td\u003e\n      \u003ctd\u003e3656\u003c/td\u003e\n    \u003c/tr\u003e\n    \u003ctr\u003e\n      \u003cth\u003e210734\u003c/th\u003e\n      \u003ctd\u003eSHEETZ UNIVERSAL EDGE PRIMARY\u003c/td\u003e\n      \u003ctd\u003e3353\u003c/td\u003e\n    \u003c/tr\u003e\n    \u003ctr\u003e\n      \u003cth\u003e163904\u003c/th\u003e\n      \u003ctd\u003eMURPHY UNIVERSAL PRIMARY\u003c/td\u003e\n      \u003ctd\u003e3316\u003c/td\u003e\n    \u003c/tr\u003e\n    \u003ctr\u003e\n      \u003cth\u003e100007\u003c/th\u003e\n      \u003ctd\u003eGLOBAL FLEET FUEL PRIMARY\u003c/td\u003e\n      \u003ctd\u003e3074\u003c/td\u003e\n    \u003c/tr\u003e\n    \u003ctr\u003e\n      \u003cth\u003e152970\u003c/th\u003e\n      \u003ctd\u003eMAVERIK INC PRIMARY\u003c/td\u003e\n      \u003ctd\u003e2953\u003c/td\u003e\n    \u003c/tr\u003e\n    \u003ctr\u003e\n      \u003cth\u003e59450\u003c/th\u003e\n      \u003ctd\u003eCONOCO UNIVERSAL PRIMARY\u003c/td\u003e\n      \u003ctd\u003e2883\u003c/td\u003e\n    \u003c/tr\u003e\n    \u003ctr\u003e\n      \u003cth\u003e181401\u003c/th\u003e\n      \u003ctd\u003ePHILLIPS 66 UNIVERSAL PRIMARY\u003c/td\u003e\n      \u003ctd\u003e2814\u003c/td\u003e\n    \u003c/tr\u003e\n    \u003ctr\u003e\n      \u003cth\u003e135863\u003c/th\u003e\n      \u003ctd\u003eKUM  GO PRIMARY\u003c/td\u003e\n      \u003ctd\u003e2802\u003c/td\u003e\n    \u003c/tr\u003e\n    \u003ctr\u003e\n      \u003cth\u003e5059\u003c/th\u003e\n      \u003ctd\u003e76 UNIVERSAL PRIMARY\u003c/td\u003e\n      \u003ctd\u003e2712\u003c/td\u003e\n    \u003c/tr\u003e\n    \u003ctr\u003e\n      \u003cth\u003e195701\u003c/th\u003e\n      \u003ctd\u003eRENTACENTER\u003c/td\u003e\n      \u003ctd\u003e2606\u003c/td\u003e\n    \u003c/tr\u003e\n    \u003ctr\u003e\n      \u003cth\u003e59449\u003c/th\u003e\n      \u003ctd\u003eCONOCO FLEET PRIMARY\u003c/td\u003e\n      \u003ctd\u003e2545\u003c/td\u003e\n    \u003c/tr\u003e\n    \u003ctr\u003e\n      \u003cth\u003e191635\u003c/th\u003e\n      \u003ctd\u003eRACETRAC UNIVERSAL PRIMARY\u003c/td\u003e\n      \u003ctd\u003e2543\u003c/td\u003e\n    \u003c/tr\u003e\n  \u003c/tbody\u003e\n\u003c/table\u003e\n\u003c/div\u003e"
          },
          "metadata": {}
        }
      ]
    },
    {
      "execution_count": 8,
      "cell_type": "code",
      "metadata": {},
      "source": [
        "ACCOUNT_BUNDLER_LIST_df.head()"
      ],
      "outputs": [
        {
          "output_type": "execute_result",
          "execution_count": 8,
          "data": {
            "text/plain": "                  EDW_CUSTOMER_NAME  Distinct count of CUSTOMER_ACCOUNT_ID\n0  AUTOMOTIVE RESOURCES INTL HYBRID                                      6\n1       EXXONMOBIL PL CONVERSION L1                                   1631\n2       WEX FLEET UNIVERSAL PRIMARY                                  77923\n3      SHELL SMALL BUSINESS PRIMARY                                  70865\n4          SHELL FLEET PLUS PRIMARY                                  44536",
            "text/html": "\u003cdiv\u003e\n\u003cstyle scoped\u003e\n    .dataframe tbody tr th:only-of-type {\n        vertical-align: middle;\n    }\n\n    .dataframe tbody tr th {\n        vertical-align: top;\n    }\n\n    .dataframe thead th {\n        text-align: right;\n    }\n\u003c/style\u003e\n\u003ctable border\u003d\"1\" class\u003d\"dataframe\"\u003e\n  \u003cthead\u003e\n    \u003ctr style\u003d\"text-align: right;\"\u003e\n      \u003cth\u003e\u003c/th\u003e\n      \u003cth\u003eEDW_CUSTOMER_NAME\u003c/th\u003e\n      \u003cth\u003eDistinct count of CUSTOMER_ACCOUNT_ID\u003c/th\u003e\n    \u003c/tr\u003e\n  \u003c/thead\u003e\n  \u003ctbody\u003e\n    \u003ctr\u003e\n      \u003cth\u003e0\u003c/th\u003e\n      \u003ctd\u003eAUTOMOTIVE RESOURCES INTL HYBRID\u003c/td\u003e\n      \u003ctd\u003e6\u003c/td\u003e\n    \u003c/tr\u003e\n    \u003ctr\u003e\n      \u003cth\u003e1\u003c/th\u003e\n      \u003ctd\u003eEXXONMOBIL PL CONVERSION L1\u003c/td\u003e\n      \u003ctd\u003e1631\u003c/td\u003e\n    \u003c/tr\u003e\n    \u003ctr\u003e\n      \u003cth\u003e2\u003c/th\u003e\n      \u003ctd\u003eWEX FLEET UNIVERSAL PRIMARY\u003c/td\u003e\n      \u003ctd\u003e77923\u003c/td\u003e\n    \u003c/tr\u003e\n    \u003ctr\u003e\n      \u003cth\u003e3\u003c/th\u003e\n      \u003ctd\u003eSHELL SMALL BUSINESS PRIMARY\u003c/td\u003e\n      \u003ctd\u003e70865\u003c/td\u003e\n    \u003c/tr\u003e\n    \u003ctr\u003e\n      \u003cth\u003e4\u003c/th\u003e\n      \u003ctd\u003eSHELL FLEET PLUS PRIMARY\u003c/td\u003e\n      \u003ctd\u003e44536\u003c/td\u003e\n    \u003c/tr\u003e\n  \u003c/tbody\u003e\n\u003c/table\u003e\n\u003c/div\u003e"
          },
          "metadata": {}
        }
      ]
    },
    {
      "execution_count": 11,
      "cell_type": "code",
      "metadata": {},
      "source": [
        "NAFCUSTOMER_RDW_CONVERSIONS_df.head()\nNAFCUSTOMER_RDW_CONVERSIONS_df.STATUS_DATE.min()"
      ],
      "outputs": [
        {
          "output_type": "execute_result",
          "execution_count": 11,
          "data": {
            "text/plain": "\u00271901-01-01 00:00:00.000\u0027"
          },
          "metadata": {}
        }
      ]
    },
    {
      "execution_count": 10,
      "cell_type": "code",
      "metadata": {},
      "source": [
        "NAFCUSTOMER_ACCOUNT_ACTIVE_CARDS_BY_QUARTER_df.head()"
      ],
      "outputs": [
        {
          "output_type": "execute_result",
          "execution_count": 10,
          "data": {
            "text/plain": "   CUSTOMER_ACCOUNT_ID           CUSTOMER_ACCOUNT_NAME                   CUSTOMER_NAME       ACCOUNT_SINCE_DATE CUSTOMER_SOURCE_SYSTEM_CODE        ACCOUNT_OPEN_DATE      ACCOUNT_CLOSED_DATE ATTRITION_TYPE_NAME ATTRITION_REASON_CODE ATTRITION_REASON_DESC  YEAR_NUMBER  QUARTER_NUMBER  ACTIVE_CARD_COUNT\n0         9.100004e+12               Carolina Air Care     WEX Fleet Universal Primary  2017-04-27 00:00:00.000                      SIEBEL  2017-04-27 00:00:00.000  9999-12-31 00:00:00.000             Unknown                  Unkn               Unknown         2017               4                 15\n1         4.170082e+11  U S D 315 COLBY PUBLIC SCHOOLS  U S D 315 COLBY PUBLIC SCHOOLS  2010-05-14 00:00:00.000                      TANDEM  2010-05-14 00:00:00.000  2022-09-10 00:00:00.000     NNCL Conversion                    04    Account Conversion         2018               2                 14\n2         4.300042e+11      EASTER SEALS NEW HAMPSHIRE      EASTER SEALS NEW HAMPSHIRE  2000-08-02 00:00:00.000                      TANDEM  2000-08-02 00:00:00.000  2022-09-17 00:00:00.000     NNCL Conversion                    04    Account Conversion         2019               4                121\n3         9.100005e+12           11300 Grant County WA                  AMR HoldCo Inc  2018-02-14 00:00:00.000                      SIEBEL  2018-02-14 00:00:00.000  9999-12-31 00:00:00.000             Unknown                  Unkn               Unknown         2019               4                 11\n4         4.440076e+11             MARTIN CHRYSLER LLC             MARTIN CHRYSLER LLC  2007-12-04 00:00:00.000                      TANDEM  2007-12-04 00:00:00.000  2022-04-19 00:00:00.000     NNCL Conversion                    04    Account Conversion         2019               2                  9",
            "text/html": "\u003cdiv\u003e\n\u003cstyle scoped\u003e\n    .dataframe tbody tr th:only-of-type {\n        vertical-align: middle;\n    }\n\n    .dataframe tbody tr th {\n        vertical-align: top;\n    }\n\n    .dataframe thead th {\n        text-align: right;\n    }\n\u003c/style\u003e\n\u003ctable border\u003d\"1\" class\u003d\"dataframe\"\u003e\n  \u003cthead\u003e\n    \u003ctr style\u003d\"text-align: right;\"\u003e\n      \u003cth\u003e\u003c/th\u003e\n      \u003cth\u003eCUSTOMER_ACCOUNT_ID\u003c/th\u003e\n      \u003cth\u003eCUSTOMER_ACCOUNT_NAME\u003c/th\u003e\n      \u003cth\u003eCUSTOMER_NAME\u003c/th\u003e\n      \u003cth\u003eACCOUNT_SINCE_DATE\u003c/th\u003e\n      \u003cth\u003eCUSTOMER_SOURCE_SYSTEM_CODE\u003c/th\u003e\n      \u003cth\u003eACCOUNT_OPEN_DATE\u003c/th\u003e\n      \u003cth\u003eACCOUNT_CLOSED_DATE\u003c/th\u003e\n      \u003cth\u003eATTRITION_TYPE_NAME\u003c/th\u003e\n      \u003cth\u003eATTRITION_REASON_CODE\u003c/th\u003e\n      \u003cth\u003eATTRITION_REASON_DESC\u003c/th\u003e\n      \u003cth\u003eYEAR_NUMBER\u003c/th\u003e\n      \u003cth\u003eQUARTER_NUMBER\u003c/th\u003e\n      \u003cth\u003eACTIVE_CARD_COUNT\u003c/th\u003e\n    \u003c/tr\u003e\n  \u003c/thead\u003e\n  \u003ctbody\u003e\n    \u003ctr\u003e\n      \u003cth\u003e0\u003c/th\u003e\n      \u003ctd\u003e9.100004e+12\u003c/td\u003e\n      \u003ctd\u003eCarolina Air Care\u003c/td\u003e\n      \u003ctd\u003eWEX Fleet Universal Primary\u003c/td\u003e\n      \u003ctd\u003e2017-04-27 00:00:00.000\u003c/td\u003e\n      \u003ctd\u003eSIEBEL\u003c/td\u003e\n      \u003ctd\u003e2017-04-27 00:00:00.000\u003c/td\u003e\n      \u003ctd\u003e9999-12-31 00:00:00.000\u003c/td\u003e\n      \u003ctd\u003eUnknown\u003c/td\u003e\n      \u003ctd\u003eUnkn\u003c/td\u003e\n      \u003ctd\u003eUnknown\u003c/td\u003e\n      \u003ctd\u003e2017\u003c/td\u003e\n      \u003ctd\u003e4\u003c/td\u003e\n      \u003ctd\u003e15\u003c/td\u003e\n    \u003c/tr\u003e\n    \u003ctr\u003e\n      \u003cth\u003e1\u003c/th\u003e\n      \u003ctd\u003e4.170082e+11\u003c/td\u003e\n      \u003ctd\u003eU S D 315 COLBY PUBLIC SCHOOLS\u003c/td\u003e\n      \u003ctd\u003eU S D 315 COLBY PUBLIC SCHOOLS\u003c/td\u003e\n      \u003ctd\u003e2010-05-14 00:00:00.000\u003c/td\u003e\n      \u003ctd\u003eTANDEM\u003c/td\u003e\n      \u003ctd\u003e2010-05-14 00:00:00.000\u003c/td\u003e\n      \u003ctd\u003e2022-09-10 00:00:00.000\u003c/td\u003e\n      \u003ctd\u003eNNCL Conversion\u003c/td\u003e\n      \u003ctd\u003e04\u003c/td\u003e\n      \u003ctd\u003eAccount Conversion\u003c/td\u003e\n      \u003ctd\u003e2018\u003c/td\u003e\n      \u003ctd\u003e2\u003c/td\u003e\n      \u003ctd\u003e14\u003c/td\u003e\n    \u003c/tr\u003e\n    \u003ctr\u003e\n      \u003cth\u003e2\u003c/th\u003e\n      \u003ctd\u003e4.300042e+11\u003c/td\u003e\n      \u003ctd\u003eEASTER SEALS NEW HAMPSHIRE\u003c/td\u003e\n      \u003ctd\u003eEASTER SEALS NEW HAMPSHIRE\u003c/td\u003e\n      \u003ctd\u003e2000-08-02 00:00:00.000\u003c/td\u003e\n      \u003ctd\u003eTANDEM\u003c/td\u003e\n      \u003ctd\u003e2000-08-02 00:00:00.000\u003c/td\u003e\n      \u003ctd\u003e2022-09-17 00:00:00.000\u003c/td\u003e\n      \u003ctd\u003eNNCL Conversion\u003c/td\u003e\n      \u003ctd\u003e04\u003c/td\u003e\n      \u003ctd\u003eAccount Conversion\u003c/td\u003e\n      \u003ctd\u003e2019\u003c/td\u003e\n      \u003ctd\u003e4\u003c/td\u003e\n      \u003ctd\u003e121\u003c/td\u003e\n    \u003c/tr\u003e\n    \u003ctr\u003e\n      \u003cth\u003e3\u003c/th\u003e\n      \u003ctd\u003e9.100005e+12\u003c/td\u003e\n      \u003ctd\u003e11300 Grant County WA\u003c/td\u003e\n      \u003ctd\u003eAMR HoldCo Inc\u003c/td\u003e\n      \u003ctd\u003e2018-02-14 00:00:00.000\u003c/td\u003e\n      \u003ctd\u003eSIEBEL\u003c/td\u003e\n      \u003ctd\u003e2018-02-14 00:00:00.000\u003c/td\u003e\n      \u003ctd\u003e9999-12-31 00:00:00.000\u003c/td\u003e\n      \u003ctd\u003eUnknown\u003c/td\u003e\n      \u003ctd\u003eUnkn\u003c/td\u003e\n      \u003ctd\u003eUnknown\u003c/td\u003e\n      \u003ctd\u003e2019\u003c/td\u003e\n      \u003ctd\u003e4\u003c/td\u003e\n      \u003ctd\u003e11\u003c/td\u003e\n    \u003c/tr\u003e\n    \u003ctr\u003e\n      \u003cth\u003e4\u003c/th\u003e\n      \u003ctd\u003e4.440076e+11\u003c/td\u003e\n      \u003ctd\u003eMARTIN CHRYSLER LLC\u003c/td\u003e\n      \u003ctd\u003eMARTIN CHRYSLER LLC\u003c/td\u003e\n      \u003ctd\u003e2007-12-04 00:00:00.000\u003c/td\u003e\n      \u003ctd\u003eTANDEM\u003c/td\u003e\n      \u003ctd\u003e2007-12-04 00:00:00.000\u003c/td\u003e\n      \u003ctd\u003e2022-04-19 00:00:00.000\u003c/td\u003e\n      \u003ctd\u003eNNCL Conversion\u003c/td\u003e\n      \u003ctd\u003e04\u003c/td\u003e\n      \u003ctd\u003eAccount Conversion\u003c/td\u003e\n      \u003ctd\u003e2019\u003c/td\u003e\n      \u003ctd\u003e2\u003c/td\u003e\n      \u003ctd\u003e9\u003c/td\u003e\n    \u003c/tr\u003e\n  \u003c/tbody\u003e\n\u003c/table\u003e\n\u003c/div\u003e"
          },
          "metadata": {}
        }
      ]
    },
    {
      "execution_count": 0,
      "cell_type": "code",
      "metadata": {},
      "source": [
        "# Write recipe outputs\n#NAFCUSTOMER_LONG_HISTORY_MATCHES \u003d dataiku.Dataset(\"NAFCUSTOMER_LONG_HISTORY_MATCHES\")\n#NAFCUSTOMER_LONG_HISTORY_MATCHES.write_with_schema(NAFCUSTOMER_LONG_HISTORY_MATCHES_df)"
      ],
      "outputs": []
    }
  ]
}