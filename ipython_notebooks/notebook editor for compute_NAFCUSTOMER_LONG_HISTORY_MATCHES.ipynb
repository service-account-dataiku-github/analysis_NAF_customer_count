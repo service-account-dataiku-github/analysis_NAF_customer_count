{
  "metadata": {
    "kernelspec": {
      "name": "py-dku-venv-env_clc",
      "display_name": "Python (env env_clc)",
      "language": "python"
    },
    "associatedRecipe": "compute_NAFCUSTOMER_LONG_HISTORY_MATCHES",
    "dkuGit": {
      "lastInteraction": 0
    },
    "creationTag": {
      "versionNumber": 0,
      "lastModifiedBy": {
        "login": "Daniel.Vandermeer"
      },
      "lastModifiedOn": 1675368834596
    },
    "creator": "Daniel.Vandermeer",
    "createdOn": 1675368834596,
    "tags": [
      "recipe-editor"
    ],
    "customFields": {},
    "hide_input": false,
    "language_info": {
      "name": "python",
      "version": "3.6.8",
      "mimetype": "text/x-python",
      "codemirror_mode": {
        "name": "ipython",
        "version": 3
      },
      "pygments_lexer": "ipython3",
      "nbconvert_exporter": "python",
      "file_extension": ".py"
    },
    "modifiedBy": "Daniel.Vandermeer"
  },
  "nbformat": 4,
  "nbformat_minor": 1,
  "cells": [
    {
      "execution_count": 7,
      "cell_type": "code",
      "metadata": {},
      "source": [
        "# -*- coding: utf-8 -*-\nimport dataiku\nimport pandas as pd, numpy as np\nfrom dataiku import pandasutils as pdu\n\nACCOUNT_BUNDLER_LIST \u003d dataiku.Dataset(\"ACCOUNT_BUNDLER_LIST\")\nACCOUNT_BUNDLER_LIST_df \u003d ACCOUNT_BUNDLER_LIST.get_dataframe()\nprint(len(ACCOUNT_BUNDLER_LIST_df))\n\nNAFCUSTOMER_RDW_CONVERSIONS \u003d dataiku.Dataset(\"NAFCUSTOMER_RDW_CONVERSIONS\")\nNAFCUSTOMER_RDW_CONVERSIONS_df \u003d NAFCUSTOMER_RDW_CONVERSIONS.get_dataframe()\nprint(len(NAFCUSTOMER_RDW_CONVERSIONS_df))\n\n# Read recipe inputs\nNAFCUSTOMER_ACCOUNT_ACTIVE_CARDS_BY_QUARTER \u003d dataiku.Dataset(\"NAFCUSTOMER_ACCOUNT_ACTIVE_CARDS_BY_QUARTER\")\nNAFCUSTOMER_ACCOUNT_ACTIVE_CARDS_BY_QUARTER_df \u003d NAFCUSTOMER_ACCOUNT_ACTIVE_CARDS_BY_QUARTER.get_dataframe()\nprint(len(NAFCUSTOMER_ACCOUNT_ACTIVE_CARDS_BY_QUARTER_df))\n\n"
      ],
      "outputs": [
        {
          "output_type": "stream",
          "text": "274\n2170800\n4806903\n",
          "name": "stdout"
        }
      ]
    },
    {
      "execution_count": 36,
      "cell_type": "code",
      "metadata": {},
      "source": [
        "NAFCUSTOMER_ACCOUNT_ACTIVE_CARDS_BY_QUARTER_df.head()"
      ],
      "outputs": [
        {
          "output_type": "execute_result",
          "execution_count": 36,
          "data": {
            "text/plain": "   CUSTOMER_ACCOUNT_ID           CUSTOMER_ACCOUNT_NAME               EDW_CUSTOMER_NAME       ACCOUNT_SINCE_DATE CUSTOMER_SOURCE_SYSTEM_CODE        ACCOUNT_OPEN_DATE      ACCOUNT_CLOSED_DATE ATTRITION_TYPE_NAME ATTRITION_REASON_CODE ATTRITION_REASON_DESC  YEAR_NUMBER  QUARTER_NUMBER  ACTIVE_CARD_COUNT\n0        9100004251546               CAROLINA AIR CARE     WEX FLEET UNIVERSAL PRIMARY  2017-04-27 00:00:00.000                      SIEBEL  2017-04-27 00:00:00.000  9999-12-31 00:00:00.000             Unknown                  Unkn               Unknown         2017               4                 15\n1         417008246662  U S D 315 COLBY PUBLIC SCHOOLS  U S D 315 COLBY PUBLIC SCHOOLS  2010-05-14 00:00:00.000                      TANDEM  2010-05-14 00:00:00.000  2022-09-10 00:00:00.000     NNCL Conversion                    04    Account Conversion         2018               2                 14\n2         430004184602      EASTER SEALS NEW HAMPSHIRE      EASTER SEALS NEW HAMPSHIRE  2000-08-02 00:00:00.000                      TANDEM  2000-08-02 00:00:00.000  2022-09-17 00:00:00.000     NNCL Conversion                    04    Account Conversion         2019               4                121\n3        9100004755591           11300 GRANT COUNTY WA                  AMR HOLDCO INC  2018-02-14 00:00:00.000                      SIEBEL  2018-02-14 00:00:00.000  9999-12-31 00:00:00.000             Unknown                  Unkn               Unknown         2019               4                 11\n4         444007634488             MARTIN CHRYSLER LLC             MARTIN CHRYSLER LLC  2007-12-04 00:00:00.000                      TANDEM  2007-12-04 00:00:00.000  2022-04-19 00:00:00.000     NNCL Conversion                    04    Account Conversion         2019               2                  9",
            "text/html": "\u003cdiv\u003e\n\u003cstyle scoped\u003e\n    .dataframe tbody tr th:only-of-type {\n        vertical-align: middle;\n    }\n\n    .dataframe tbody tr th {\n        vertical-align: top;\n    }\n\n    .dataframe thead th {\n        text-align: right;\n    }\n\u003c/style\u003e\n\u003ctable border\u003d\"1\" class\u003d\"dataframe\"\u003e\n  \u003cthead\u003e\n    \u003ctr style\u003d\"text-align: right;\"\u003e\n      \u003cth\u003e\u003c/th\u003e\n      \u003cth\u003eCUSTOMER_ACCOUNT_ID\u003c/th\u003e\n      \u003cth\u003eCUSTOMER_ACCOUNT_NAME\u003c/th\u003e\n      \u003cth\u003eEDW_CUSTOMER_NAME\u003c/th\u003e\n      \u003cth\u003eACCOUNT_SINCE_DATE\u003c/th\u003e\n      \u003cth\u003eCUSTOMER_SOURCE_SYSTEM_CODE\u003c/th\u003e\n      \u003cth\u003eACCOUNT_OPEN_DATE\u003c/th\u003e\n      \u003cth\u003eACCOUNT_CLOSED_DATE\u003c/th\u003e\n      \u003cth\u003eATTRITION_TYPE_NAME\u003c/th\u003e\n      \u003cth\u003eATTRITION_REASON_CODE\u003c/th\u003e\n      \u003cth\u003eATTRITION_REASON_DESC\u003c/th\u003e\n      \u003cth\u003eYEAR_NUMBER\u003c/th\u003e\n      \u003cth\u003eQUARTER_NUMBER\u003c/th\u003e\n      \u003cth\u003eACTIVE_CARD_COUNT\u003c/th\u003e\n    \u003c/tr\u003e\n  \u003c/thead\u003e\n  \u003ctbody\u003e\n    \u003ctr\u003e\n      \u003cth\u003e0\u003c/th\u003e\n      \u003ctd\u003e9100004251546\u003c/td\u003e\n      \u003ctd\u003eCAROLINA AIR CARE\u003c/td\u003e\n      \u003ctd\u003eWEX FLEET UNIVERSAL PRIMARY\u003c/td\u003e\n      \u003ctd\u003e2017-04-27 00:00:00.000\u003c/td\u003e\n      \u003ctd\u003eSIEBEL\u003c/td\u003e\n      \u003ctd\u003e2017-04-27 00:00:00.000\u003c/td\u003e\n      \u003ctd\u003e9999-12-31 00:00:00.000\u003c/td\u003e\n      \u003ctd\u003eUnknown\u003c/td\u003e\n      \u003ctd\u003eUnkn\u003c/td\u003e\n      \u003ctd\u003eUnknown\u003c/td\u003e\n      \u003ctd\u003e2017\u003c/td\u003e\n      \u003ctd\u003e4\u003c/td\u003e\n      \u003ctd\u003e15\u003c/td\u003e\n    \u003c/tr\u003e\n    \u003ctr\u003e\n      \u003cth\u003e1\u003c/th\u003e\n      \u003ctd\u003e417008246662\u003c/td\u003e\n      \u003ctd\u003eU S D 315 COLBY PUBLIC SCHOOLS\u003c/td\u003e\n      \u003ctd\u003eU S D 315 COLBY PUBLIC SCHOOLS\u003c/td\u003e\n      \u003ctd\u003e2010-05-14 00:00:00.000\u003c/td\u003e\n      \u003ctd\u003eTANDEM\u003c/td\u003e\n      \u003ctd\u003e2010-05-14 00:00:00.000\u003c/td\u003e\n      \u003ctd\u003e2022-09-10 00:00:00.000\u003c/td\u003e\n      \u003ctd\u003eNNCL Conversion\u003c/td\u003e\n      \u003ctd\u003e04\u003c/td\u003e\n      \u003ctd\u003eAccount Conversion\u003c/td\u003e\n      \u003ctd\u003e2018\u003c/td\u003e\n      \u003ctd\u003e2\u003c/td\u003e\n      \u003ctd\u003e14\u003c/td\u003e\n    \u003c/tr\u003e\n    \u003ctr\u003e\n      \u003cth\u003e2\u003c/th\u003e\n      \u003ctd\u003e430004184602\u003c/td\u003e\n      \u003ctd\u003eEASTER SEALS NEW HAMPSHIRE\u003c/td\u003e\n      \u003ctd\u003eEASTER SEALS NEW HAMPSHIRE\u003c/td\u003e\n      \u003ctd\u003e2000-08-02 00:00:00.000\u003c/td\u003e\n      \u003ctd\u003eTANDEM\u003c/td\u003e\n      \u003ctd\u003e2000-08-02 00:00:00.000\u003c/td\u003e\n      \u003ctd\u003e2022-09-17 00:00:00.000\u003c/td\u003e\n      \u003ctd\u003eNNCL Conversion\u003c/td\u003e\n      \u003ctd\u003e04\u003c/td\u003e\n      \u003ctd\u003eAccount Conversion\u003c/td\u003e\n      \u003ctd\u003e2019\u003c/td\u003e\n      \u003ctd\u003e4\u003c/td\u003e\n      \u003ctd\u003e121\u003c/td\u003e\n    \u003c/tr\u003e\n    \u003ctr\u003e\n      \u003cth\u003e3\u003c/th\u003e\n      \u003ctd\u003e9100004755591\u003c/td\u003e\n      \u003ctd\u003e11300 GRANT COUNTY WA\u003c/td\u003e\n      \u003ctd\u003eAMR HOLDCO INC\u003c/td\u003e\n      \u003ctd\u003e2018-02-14 00:00:00.000\u003c/td\u003e\n      \u003ctd\u003eSIEBEL\u003c/td\u003e\n      \u003ctd\u003e2018-02-14 00:00:00.000\u003c/td\u003e\n      \u003ctd\u003e9999-12-31 00:00:00.000\u003c/td\u003e\n      \u003ctd\u003eUnknown\u003c/td\u003e\n      \u003ctd\u003eUnkn\u003c/td\u003e\n      \u003ctd\u003eUnknown\u003c/td\u003e\n      \u003ctd\u003e2019\u003c/td\u003e\n      \u003ctd\u003e4\u003c/td\u003e\n      \u003ctd\u003e11\u003c/td\u003e\n    \u003c/tr\u003e\n    \u003ctr\u003e\n      \u003cth\u003e4\u003c/th\u003e\n      \u003ctd\u003e444007634488\u003c/td\u003e\n      \u003ctd\u003eMARTIN CHRYSLER LLC\u003c/td\u003e\n      \u003ctd\u003eMARTIN CHRYSLER LLC\u003c/td\u003e\n      \u003ctd\u003e2007-12-04 00:00:00.000\u003c/td\u003e\n      \u003ctd\u003eTANDEM\u003c/td\u003e\n      \u003ctd\u003e2007-12-04 00:00:00.000\u003c/td\u003e\n      \u003ctd\u003e2022-04-19 00:00:00.000\u003c/td\u003e\n      \u003ctd\u003eNNCL Conversion\u003c/td\u003e\n      \u003ctd\u003e04\u003c/td\u003e\n      \u003ctd\u003eAccount Conversion\u003c/td\u003e\n      \u003ctd\u003e2019\u003c/td\u003e\n      \u003ctd\u003e2\u003c/td\u003e\n      \u003ctd\u003e9\u003c/td\u003e\n    \u003c/tr\u003e\n  \u003c/tbody\u003e\n\u003c/table\u003e\n\u003c/div\u003e"
          },
          "metadata": {}
        }
      ]
    },
    {
      "execution_count": 41,
      "cell_type": "code",
      "metadata": {},
      "source": [
        "df_a \u003d NAFCUSTOMER_ACCOUNT_ACTIVE_CARDS_BY_QUARTER_df\ndf_a[\u0027CUSTOMER_ACCOUNT_ID\u0027] \u003d df_a[\u0027CUSTOMER_ACCOUNT_ID\u0027].astype(\u0027Int64\u0027, errors\u003d\u0027ignore\u0027)\ndf_a[\u0027CUSTOMER_ACCOUNT_NAME\u0027] \u003d df_a[\u0027CUSTOMER_ACCOUNT_NAME\u0027].str.upper()\ndf_a[\u0027EDW_CUSTOMER_NAME\u0027] \u003d df_a[\u0027EDW_CUSTOMER_NAME\u0027].str.upper()\n\nACCOUNT_BUNDLER_LIST_df[\u0027IS_BUNDLER\u0027] \u003d True\nACCOUNT_BUNDLER_LIST_df \u003d ACCOUNT_BUNDLER_LIST_df[[\u0027EDW_CUSTOMER_NAME\u0027,\u0027IS_BUNDLER\u0027]]\nACCOUNT_BUNDLER_LIST_df.head()\n\ndf \u003d pd.merge(df_a,ACCOUNT_BUNDLER_LIST_df, how\u003d\u0027left\u0027, on\u003d\u0027EDW_CUSTOMER_NAME\u0027)\ndf.loc[df[\"IS_BUNDLER\"].isnull(),\u0027IS_BUNDLER\u0027] \u003d False\ndf.CUSTOMER_NAME\ndf.head()"
      ],
      "outputs": [
        {
          "output_type": "execute_result",
          "execution_count": 41,
          "data": {
            "text/plain": "   CUSTOMER_ACCOUNT_ID           CUSTOMER_ACCOUNT_NAME               EDW_CUSTOMER_NAME       ACCOUNT_SINCE_DATE CUSTOMER_SOURCE_SYSTEM_CODE        ACCOUNT_OPEN_DATE      ACCOUNT_CLOSED_DATE ATTRITION_TYPE_NAME ATTRITION_REASON_CODE ATTRITION_REASON_DESC  YEAR_NUMBER  QUARTER_NUMBER  ACTIVE_CARD_COUNT IS_BUNDLER\n0        9100004251546               CAROLINA AIR CARE     WEX FLEET UNIVERSAL PRIMARY  2017-04-27 00:00:00.000                      SIEBEL  2017-04-27 00:00:00.000  9999-12-31 00:00:00.000             Unknown                  Unkn               Unknown         2017               4                 15       True\n1         417008246662  U S D 315 COLBY PUBLIC SCHOOLS  U S D 315 COLBY PUBLIC SCHOOLS  2010-05-14 00:00:00.000                      TANDEM  2010-05-14 00:00:00.000  2022-09-10 00:00:00.000     NNCL Conversion                    04    Account Conversion         2018               2                 14      False\n2         430004184602      EASTER SEALS NEW HAMPSHIRE      EASTER SEALS NEW HAMPSHIRE  2000-08-02 00:00:00.000                      TANDEM  2000-08-02 00:00:00.000  2022-09-17 00:00:00.000     NNCL Conversion                    04    Account Conversion         2019               4                121      False\n3        9100004755591           11300 GRANT COUNTY WA                  AMR HOLDCO INC  2018-02-14 00:00:00.000                      SIEBEL  2018-02-14 00:00:00.000  9999-12-31 00:00:00.000             Unknown                  Unkn               Unknown         2019               4                 11      False\n4         444007634488             MARTIN CHRYSLER LLC             MARTIN CHRYSLER LLC  2007-12-04 00:00:00.000                      TANDEM  2007-12-04 00:00:00.000  2022-04-19 00:00:00.000     NNCL Conversion                    04    Account Conversion         2019               2                  9      False",
            "text/html": "\u003cdiv\u003e\n\u003cstyle scoped\u003e\n    .dataframe tbody tr th:only-of-type {\n        vertical-align: middle;\n    }\n\n    .dataframe tbody tr th {\n        vertical-align: top;\n    }\n\n    .dataframe thead th {\n        text-align: right;\n    }\n\u003c/style\u003e\n\u003ctable border\u003d\"1\" class\u003d\"dataframe\"\u003e\n  \u003cthead\u003e\n    \u003ctr style\u003d\"text-align: right;\"\u003e\n      \u003cth\u003e\u003c/th\u003e\n      \u003cth\u003eCUSTOMER_ACCOUNT_ID\u003c/th\u003e\n      \u003cth\u003eCUSTOMER_ACCOUNT_NAME\u003c/th\u003e\n      \u003cth\u003eEDW_CUSTOMER_NAME\u003c/th\u003e\n      \u003cth\u003eACCOUNT_SINCE_DATE\u003c/th\u003e\n      \u003cth\u003eCUSTOMER_SOURCE_SYSTEM_CODE\u003c/th\u003e\n      \u003cth\u003eACCOUNT_OPEN_DATE\u003c/th\u003e\n      \u003cth\u003eACCOUNT_CLOSED_DATE\u003c/th\u003e\n      \u003cth\u003eATTRITION_TYPE_NAME\u003c/th\u003e\n      \u003cth\u003eATTRITION_REASON_CODE\u003c/th\u003e\n      \u003cth\u003eATTRITION_REASON_DESC\u003c/th\u003e\n      \u003cth\u003eYEAR_NUMBER\u003c/th\u003e\n      \u003cth\u003eQUARTER_NUMBER\u003c/th\u003e\n      \u003cth\u003eACTIVE_CARD_COUNT\u003c/th\u003e\n      \u003cth\u003eIS_BUNDLER\u003c/th\u003e\n    \u003c/tr\u003e\n  \u003c/thead\u003e\n  \u003ctbody\u003e\n    \u003ctr\u003e\n      \u003cth\u003e0\u003c/th\u003e\n      \u003ctd\u003e9100004251546\u003c/td\u003e\n      \u003ctd\u003eCAROLINA AIR CARE\u003c/td\u003e\n      \u003ctd\u003eWEX FLEET UNIVERSAL PRIMARY\u003c/td\u003e\n      \u003ctd\u003e2017-04-27 00:00:00.000\u003c/td\u003e\n      \u003ctd\u003eSIEBEL\u003c/td\u003e\n      \u003ctd\u003e2017-04-27 00:00:00.000\u003c/td\u003e\n      \u003ctd\u003e9999-12-31 00:00:00.000\u003c/td\u003e\n      \u003ctd\u003eUnknown\u003c/td\u003e\n      \u003ctd\u003eUnkn\u003c/td\u003e\n      \u003ctd\u003eUnknown\u003c/td\u003e\n      \u003ctd\u003e2017\u003c/td\u003e\n      \u003ctd\u003e4\u003c/td\u003e\n      \u003ctd\u003e15\u003c/td\u003e\n      \u003ctd\u003eTrue\u003c/td\u003e\n    \u003c/tr\u003e\n    \u003ctr\u003e\n      \u003cth\u003e1\u003c/th\u003e\n      \u003ctd\u003e417008246662\u003c/td\u003e\n      \u003ctd\u003eU S D 315 COLBY PUBLIC SCHOOLS\u003c/td\u003e\n      \u003ctd\u003eU S D 315 COLBY PUBLIC SCHOOLS\u003c/td\u003e\n      \u003ctd\u003e2010-05-14 00:00:00.000\u003c/td\u003e\n      \u003ctd\u003eTANDEM\u003c/td\u003e\n      \u003ctd\u003e2010-05-14 00:00:00.000\u003c/td\u003e\n      \u003ctd\u003e2022-09-10 00:00:00.000\u003c/td\u003e\n      \u003ctd\u003eNNCL Conversion\u003c/td\u003e\n      \u003ctd\u003e04\u003c/td\u003e\n      \u003ctd\u003eAccount Conversion\u003c/td\u003e\n      \u003ctd\u003e2018\u003c/td\u003e\n      \u003ctd\u003e2\u003c/td\u003e\n      \u003ctd\u003e14\u003c/td\u003e\n      \u003ctd\u003eFalse\u003c/td\u003e\n    \u003c/tr\u003e\n    \u003ctr\u003e\n      \u003cth\u003e2\u003c/th\u003e\n      \u003ctd\u003e430004184602\u003c/td\u003e\n      \u003ctd\u003eEASTER SEALS NEW HAMPSHIRE\u003c/td\u003e\n      \u003ctd\u003eEASTER SEALS NEW HAMPSHIRE\u003c/td\u003e\n      \u003ctd\u003e2000-08-02 00:00:00.000\u003c/td\u003e\n      \u003ctd\u003eTANDEM\u003c/td\u003e\n      \u003ctd\u003e2000-08-02 00:00:00.000\u003c/td\u003e\n      \u003ctd\u003e2022-09-17 00:00:00.000\u003c/td\u003e\n      \u003ctd\u003eNNCL Conversion\u003c/td\u003e\n      \u003ctd\u003e04\u003c/td\u003e\n      \u003ctd\u003eAccount Conversion\u003c/td\u003e\n      \u003ctd\u003e2019\u003c/td\u003e\n      \u003ctd\u003e4\u003c/td\u003e\n      \u003ctd\u003e121\u003c/td\u003e\n      \u003ctd\u003eFalse\u003c/td\u003e\n    \u003c/tr\u003e\n    \u003ctr\u003e\n      \u003cth\u003e3\u003c/th\u003e\n      \u003ctd\u003e9100004755591\u003c/td\u003e\n      \u003ctd\u003e11300 GRANT COUNTY WA\u003c/td\u003e\n      \u003ctd\u003eAMR HOLDCO INC\u003c/td\u003e\n      \u003ctd\u003e2018-02-14 00:00:00.000\u003c/td\u003e\n      \u003ctd\u003eSIEBEL\u003c/td\u003e\n      \u003ctd\u003e2018-02-14 00:00:00.000\u003c/td\u003e\n      \u003ctd\u003e9999-12-31 00:00:00.000\u003c/td\u003e\n      \u003ctd\u003eUnknown\u003c/td\u003e\n      \u003ctd\u003eUnkn\u003c/td\u003e\n      \u003ctd\u003eUnknown\u003c/td\u003e\n      \u003ctd\u003e2019\u003c/td\u003e\n      \u003ctd\u003e4\u003c/td\u003e\n      \u003ctd\u003e11\u003c/td\u003e\n      \u003ctd\u003eFalse\u003c/td\u003e\n    \u003c/tr\u003e\n    \u003ctr\u003e\n      \u003cth\u003e4\u003c/th\u003e\n      \u003ctd\u003e444007634488\u003c/td\u003e\n      \u003ctd\u003eMARTIN CHRYSLER LLC\u003c/td\u003e\n      \u003ctd\u003eMARTIN CHRYSLER LLC\u003c/td\u003e\n      \u003ctd\u003e2007-12-04 00:00:00.000\u003c/td\u003e\n      \u003ctd\u003eTANDEM\u003c/td\u003e\n      \u003ctd\u003e2007-12-04 00:00:00.000\u003c/td\u003e\n      \u003ctd\u003e2022-04-19 00:00:00.000\u003c/td\u003e\n      \u003ctd\u003eNNCL Conversion\u003c/td\u003e\n      \u003ctd\u003e04\u003c/td\u003e\n      \u003ctd\u003eAccount Conversion\u003c/td\u003e\n      \u003ctd\u003e2019\u003c/td\u003e\n      \u003ctd\u003e2\u003c/td\u003e\n      \u003ctd\u003e9\u003c/td\u003e\n      \u003ctd\u003eFalse\u003c/td\u003e\n    \u003c/tr\u003e\n  \u003c/tbody\u003e\n\u003c/table\u003e\n\u003c/div\u003e"
          },
          "metadata": {}
        }
      ]
    },
    {
      "execution_count": 0,
      "cell_type": "code",
      "metadata": {},
      "source": [
        "df[\u0027CUSTOMER\u0027] \u003d np.nan\ndf[\u0027CUST_CALC_SOURCE\u0027] \u003d \u0027Unknown\u0027\ndf.loc[df.IS_BUNDLER,\u0027EDW_CUSTOMER_NAME\u0027] \u003d np.nan\n\ndf.loc[~df[\u0027EDW_CUSTOMER_NAME\u0027].isnull(),\u0027CUSTOMER\u0027] \u003d df[\"EDW_CUSTOMER_NAME\"]\ndf.loc[~df[\u0027EDW_CUSTOMER_NAME\u0027].isnull(),\u0027CUST_CALC_SOURCE\u0027] \u003d \u0027EDW\u0027\n\ndf.loc[df[\u0027CUSTOMER\u0027].isnull(),\u0027CUST_CALC_SOURCE\u0027] \u003d \u0027ACCOUNT\u0027\ndf.loc[df[\u0027CUSTOMER\u0027].isnull(),\u0027CUSTOMER\u0027] \u003d df.CUSTOMER_ACCOUNT_NAME\n\n\nending_tokens \u003d [\u0027 2\u0027, \u0027 3\u0027, \u0027 4\u0027, \u0027 04\u0027, \u0027 5\u0027, \u0027 6\u0027, \u0027 7\u0027, \u0027 8\u0027, \u0027 9\u0027,\u0027 (2)\u0027,\n                 \u0027 (3)\u0027,\u0027 (04)\u0027,\u0027 (4)\u0027, \u0027 (5)\u0027, \u0027 (6)\u0027, \u0027 (7)\u0027, \u0027 (8)\u0027,\n                 \u0027 (9)\u0027,\u0027 (25)\u0027,\u0027  (32)\u0027, \u0027 AD\u0027, \u0027 LD\u0027, \u0027L1\u0027]\n\ndf[\u0027CUSTOMER\u0027].str.strip()\n\nfor s in ending_tokens:\n    index_offset \u003d -1*(len(s))\n    df.loc[df[\u0027EDW_CUSTOMER_NAME\u0027].str.endswith(s, na\u003dFalse),\"EDW_CUSTOMER_NAME\"] \u003d df[\u0027EDW_CUSTOMER_NAME\u0027].str[:index_offset]\n"
      ],
      "outputs": []
    },
    {
      "execution_count": 51,
      "cell_type": "code",
      "metadata": {},
      "source": [
        "df.CUST_CALC_SOURCE.value_counts(dropna\u003dFalse)"
      ],
      "outputs": [
        {
          "output_type": "execute_result",
          "execution_count": 51,
          "data": {
            "text/plain": "EDW        2707344\nACCOUNT    2099559\nName: CUST_CALC_SOURCE, dtype: int64"
          },
          "metadata": {}
        }
      ]
    },
    {
      "execution_count": 52,
      "cell_type": "code",
      "metadata": {},
      "source": [
        "df_g \u003d df.groupby([\u0027CUSTOMER\u0027]).CUSTOMER_ACCOUNT_ID.nunique().reset_index()\ndf_g.columns \u003d [\u0027CUSTOMER\u0027,\u0027ACCOUNT_COUNT\u0027]\ndf_g \u003d df_g.sort_values(by\u003d[\u0027ACCOUNT_COUNT\u0027], ascending\u003dFalse)\ndf_g.head(40)"
      ],
      "outputs": [
        {
          "output_type": "execute_result",
          "execution_count": 52,
          "data": {
            "text/plain": "                              CUSTOMER  ACCOUNT_COUNT\n390965          OREILLY AUTOMOTIVE INC           5798\n440647                     RENTACENTER           2606\n130645    COMMONWEALTH OF PENNSYLVANIA           2277\n494037               STATE OF NEW YORK           1672\n198595            FERGUSON ENTERPRISES           1627\n494011               STATE OF ILLINOIS           1472\n187519          ENTERPRISE XOM DUMP L1           1431\n460578              SAFELITE GROUP INC           1283\n17991                      AARON\u0027S LLC           1247\n187227           ENTERPRISE FM DUMP L1           1145\n41406            AMERIGAS PROPANE L.P.           1064\n514239  TERMINIX CONSUMER SERVICES LLC           1029\n494041         STATE OF NORTH CAROLINA           1026\n165863                      DLA ENERGY            947\n560512   WEATHERFORD INTERNATIONAL LLC            888\n5162              2950100 DHS FLEET FC            808\n494007                STATE OF GEORGIA            767\n75276           BIMBO BAKERIES USA INC            759\n451165                     ROLLINS INC            743\n494004                STATE OF FLORIDA            743\n154156                      DAVEY TREE            717\n520230              THE SALVATION ARMY            716\n494012                STATE OF INDIANA            678\n236514     H  E EQUIPMENT SERVICES INC            660\n544993          US DEPT OF AGRICULTURE            596\n545382                  USDA FLEET SP3            573\n554545                VULCAN MATERIALS            558\n494026               STATE OF MISSOURI            527\n41997                   AMR HOLDCO INC            517\n156677         DEAN DAIRY HOLDINGS DIP            504\n439371               RELADYNE WEST LLC            504\n118591              CINTAS CORPORATION            459\n235093              GUILD ELECTRIC LTD            459\n246792         HENKELS  CADENCE PARENT            458\n494029                STATE OF MONTANA            451\n493998                STATE OF ALABAMA            421\n527987                        TOPBUILD            421\n494000               STATE OF ARKANSAS            416\n206626         FOSS NATIONAL/CORP-RATE            413\n494027         STATE OF MISSOURI COOPS            412",
            "text/html": "\u003cdiv\u003e\n\u003cstyle scoped\u003e\n    .dataframe tbody tr th:only-of-type {\n        vertical-align: middle;\n    }\n\n    .dataframe tbody tr th {\n        vertical-align: top;\n    }\n\n    .dataframe thead th {\n        text-align: right;\n    }\n\u003c/style\u003e\n\u003ctable border\u003d\"1\" class\u003d\"dataframe\"\u003e\n  \u003cthead\u003e\n    \u003ctr style\u003d\"text-align: right;\"\u003e\n      \u003cth\u003e\u003c/th\u003e\n      \u003cth\u003eCUSTOMER\u003c/th\u003e\n      \u003cth\u003eACCOUNT_COUNT\u003c/th\u003e\n    \u003c/tr\u003e\n  \u003c/thead\u003e\n  \u003ctbody\u003e\n    \u003ctr\u003e\n      \u003cth\u003e390965\u003c/th\u003e\n      \u003ctd\u003eOREILLY AUTOMOTIVE INC\u003c/td\u003e\n      \u003ctd\u003e5798\u003c/td\u003e\n    \u003c/tr\u003e\n    \u003ctr\u003e\n      \u003cth\u003e440647\u003c/th\u003e\n      \u003ctd\u003eRENTACENTER\u003c/td\u003e\n      \u003ctd\u003e2606\u003c/td\u003e\n    \u003c/tr\u003e\n    \u003ctr\u003e\n      \u003cth\u003e130645\u003c/th\u003e\n      \u003ctd\u003eCOMMONWEALTH OF PENNSYLVANIA\u003c/td\u003e\n      \u003ctd\u003e2277\u003c/td\u003e\n    \u003c/tr\u003e\n    \u003ctr\u003e\n      \u003cth\u003e494037\u003c/th\u003e\n      \u003ctd\u003eSTATE OF NEW YORK\u003c/td\u003e\n      \u003ctd\u003e1672\u003c/td\u003e\n    \u003c/tr\u003e\n    \u003ctr\u003e\n      \u003cth\u003e198595\u003c/th\u003e\n      \u003ctd\u003eFERGUSON ENTERPRISES\u003c/td\u003e\n      \u003ctd\u003e1627\u003c/td\u003e\n    \u003c/tr\u003e\n    \u003ctr\u003e\n      \u003cth\u003e494011\u003c/th\u003e\n      \u003ctd\u003eSTATE OF ILLINOIS\u003c/td\u003e\n      \u003ctd\u003e1472\u003c/td\u003e\n    \u003c/tr\u003e\n    \u003ctr\u003e\n      \u003cth\u003e187519\u003c/th\u003e\n      \u003ctd\u003eENTERPRISE XOM DUMP L1\u003c/td\u003e\n      \u003ctd\u003e1431\u003c/td\u003e\n    \u003c/tr\u003e\n    \u003ctr\u003e\n      \u003cth\u003e460578\u003c/th\u003e\n      \u003ctd\u003eSAFELITE GROUP INC\u003c/td\u003e\n      \u003ctd\u003e1283\u003c/td\u003e\n    \u003c/tr\u003e\n    \u003ctr\u003e\n      \u003cth\u003e17991\u003c/th\u003e\n      \u003ctd\u003eAARON\u0027S LLC\u003c/td\u003e\n      \u003ctd\u003e1247\u003c/td\u003e\n    \u003c/tr\u003e\n    \u003ctr\u003e\n      \u003cth\u003e187227\u003c/th\u003e\n      \u003ctd\u003eENTERPRISE FM DUMP L1\u003c/td\u003e\n      \u003ctd\u003e1145\u003c/td\u003e\n    \u003c/tr\u003e\n    \u003ctr\u003e\n      \u003cth\u003e41406\u003c/th\u003e\n      \u003ctd\u003eAMERIGAS PROPANE L.P.\u003c/td\u003e\n      \u003ctd\u003e1064\u003c/td\u003e\n    \u003c/tr\u003e\n    \u003ctr\u003e\n      \u003cth\u003e514239\u003c/th\u003e\n      \u003ctd\u003eTERMINIX CONSUMER SERVICES LLC\u003c/td\u003e\n      \u003ctd\u003e1029\u003c/td\u003e\n    \u003c/tr\u003e\n    \u003ctr\u003e\n      \u003cth\u003e494041\u003c/th\u003e\n      \u003ctd\u003eSTATE OF NORTH CAROLINA\u003c/td\u003e\n      \u003ctd\u003e1026\u003c/td\u003e\n    \u003c/tr\u003e\n    \u003ctr\u003e\n      \u003cth\u003e165863\u003c/th\u003e\n      \u003ctd\u003eDLA ENERGY\u003c/td\u003e\n      \u003ctd\u003e947\u003c/td\u003e\n    \u003c/tr\u003e\n    \u003ctr\u003e\n      \u003cth\u003e560512\u003c/th\u003e\n      \u003ctd\u003eWEATHERFORD INTERNATIONAL LLC\u003c/td\u003e\n      \u003ctd\u003e888\u003c/td\u003e\n    \u003c/tr\u003e\n    \u003ctr\u003e\n      \u003cth\u003e5162\u003c/th\u003e\n      \u003ctd\u003e2950100 DHS FLEET FC\u003c/td\u003e\n      \u003ctd\u003e808\u003c/td\u003e\n    \u003c/tr\u003e\n    \u003ctr\u003e\n      \u003cth\u003e494007\u003c/th\u003e\n      \u003ctd\u003eSTATE OF GEORGIA\u003c/td\u003e\n      \u003ctd\u003e767\u003c/td\u003e\n    \u003c/tr\u003e\n    \u003ctr\u003e\n      \u003cth\u003e75276\u003c/th\u003e\n      \u003ctd\u003eBIMBO BAKERIES USA INC\u003c/td\u003e\n      \u003ctd\u003e759\u003c/td\u003e\n    \u003c/tr\u003e\n    \u003ctr\u003e\n      \u003cth\u003e451165\u003c/th\u003e\n      \u003ctd\u003eROLLINS INC\u003c/td\u003e\n      \u003ctd\u003e743\u003c/td\u003e\n    \u003c/tr\u003e\n    \u003ctr\u003e\n      \u003cth\u003e494004\u003c/th\u003e\n      \u003ctd\u003eSTATE OF FLORIDA\u003c/td\u003e\n      \u003ctd\u003e743\u003c/td\u003e\n    \u003c/tr\u003e\n    \u003ctr\u003e\n      \u003cth\u003e154156\u003c/th\u003e\n      \u003ctd\u003eDAVEY TREE\u003c/td\u003e\n      \u003ctd\u003e717\u003c/td\u003e\n    \u003c/tr\u003e\n    \u003ctr\u003e\n      \u003cth\u003e520230\u003c/th\u003e\n      \u003ctd\u003eTHE SALVATION ARMY\u003c/td\u003e\n      \u003ctd\u003e716\u003c/td\u003e\n    \u003c/tr\u003e\n    \u003ctr\u003e\n      \u003cth\u003e494012\u003c/th\u003e\n      \u003ctd\u003eSTATE OF INDIANA\u003c/td\u003e\n      \u003ctd\u003e678\u003c/td\u003e\n    \u003c/tr\u003e\n    \u003ctr\u003e\n      \u003cth\u003e236514\u003c/th\u003e\n      \u003ctd\u003eH  E EQUIPMENT SERVICES INC\u003c/td\u003e\n      \u003ctd\u003e660\u003c/td\u003e\n    \u003c/tr\u003e\n    \u003ctr\u003e\n      \u003cth\u003e544993\u003c/th\u003e\n      \u003ctd\u003eUS DEPT OF AGRICULTURE\u003c/td\u003e\n      \u003ctd\u003e596\u003c/td\u003e\n    \u003c/tr\u003e\n    \u003ctr\u003e\n      \u003cth\u003e545382\u003c/th\u003e\n      \u003ctd\u003eUSDA FLEET SP3\u003c/td\u003e\n      \u003ctd\u003e573\u003c/td\u003e\n    \u003c/tr\u003e\n    \u003ctr\u003e\n      \u003cth\u003e554545\u003c/th\u003e\n      \u003ctd\u003eVULCAN MATERIALS\u003c/td\u003e\n      \u003ctd\u003e558\u003c/td\u003e\n    \u003c/tr\u003e\n    \u003ctr\u003e\n      \u003cth\u003e494026\u003c/th\u003e\n      \u003ctd\u003eSTATE OF MISSOURI\u003c/td\u003e\n      \u003ctd\u003e527\u003c/td\u003e\n    \u003c/tr\u003e\n    \u003ctr\u003e\n      \u003cth\u003e41997\u003c/th\u003e\n      \u003ctd\u003eAMR HOLDCO INC\u003c/td\u003e\n      \u003ctd\u003e517\u003c/td\u003e\n    \u003c/tr\u003e\n    \u003ctr\u003e\n      \u003cth\u003e156677\u003c/th\u003e\n      \u003ctd\u003eDEAN DAIRY HOLDINGS DIP\u003c/td\u003e\n      \u003ctd\u003e504\u003c/td\u003e\n    \u003c/tr\u003e\n    \u003ctr\u003e\n      \u003cth\u003e439371\u003c/th\u003e\n      \u003ctd\u003eRELADYNE WEST LLC\u003c/td\u003e\n      \u003ctd\u003e504\u003c/td\u003e\n    \u003c/tr\u003e\n    \u003ctr\u003e\n      \u003cth\u003e118591\u003c/th\u003e\n      \u003ctd\u003eCINTAS CORPORATION\u003c/td\u003e\n      \u003ctd\u003e459\u003c/td\u003e\n    \u003c/tr\u003e\n    \u003ctr\u003e\n      \u003cth\u003e235093\u003c/th\u003e\n      \u003ctd\u003eGUILD ELECTRIC LTD\u003c/td\u003e\n      \u003ctd\u003e459\u003c/td\u003e\n    \u003c/tr\u003e\n    \u003ctr\u003e\n      \u003cth\u003e246792\u003c/th\u003e\n      \u003ctd\u003eHENKELS  CADENCE PARENT\u003c/td\u003e\n      \u003ctd\u003e458\u003c/td\u003e\n    \u003c/tr\u003e\n    \u003ctr\u003e\n      \u003cth\u003e494029\u003c/th\u003e\n      \u003ctd\u003eSTATE OF MONTANA\u003c/td\u003e\n      \u003ctd\u003e451\u003c/td\u003e\n    \u003c/tr\u003e\n    \u003ctr\u003e\n      \u003cth\u003e493998\u003c/th\u003e\n      \u003ctd\u003eSTATE OF ALABAMA\u003c/td\u003e\n      \u003ctd\u003e421\u003c/td\u003e\n    \u003c/tr\u003e\n    \u003ctr\u003e\n      \u003cth\u003e527987\u003c/th\u003e\n      \u003ctd\u003eTOPBUILD\u003c/td\u003e\n      \u003ctd\u003e421\u003c/td\u003e\n    \u003c/tr\u003e\n    \u003ctr\u003e\n      \u003cth\u003e494000\u003c/th\u003e\n      \u003ctd\u003eSTATE OF ARKANSAS\u003c/td\u003e\n      \u003ctd\u003e416\u003c/td\u003e\n    \u003c/tr\u003e\n    \u003ctr\u003e\n      \u003cth\u003e206626\u003c/th\u003e\n      \u003ctd\u003eFOSS NATIONAL/CORP-RATE\u003c/td\u003e\n      \u003ctd\u003e413\u003c/td\u003e\n    \u003c/tr\u003e\n    \u003ctr\u003e\n      \u003cth\u003e494027\u003c/th\u003e\n      \u003ctd\u003eSTATE OF MISSOURI COOPS\u003c/td\u003e\n      \u003ctd\u003e412\u003c/td\u003e\n    \u003c/tr\u003e\n  \u003c/tbody\u003e\n\u003c/table\u003e\n\u003c/div\u003e"
          },
          "metadata": {}
        }
      ]
    },
    {
      "execution_count": 8,
      "cell_type": "code",
      "metadata": {},
      "source": [
        "ACCOUNT_BUNDLER_LIST_df.head()"
      ],
      "outputs": [
        {
          "output_type": "execute_result",
          "execution_count": 8,
          "data": {
            "text/plain": "                  EDW_CUSTOMER_NAME  Distinct count of CUSTOMER_ACCOUNT_ID\n0  AUTOMOTIVE RESOURCES INTL HYBRID                                      6\n1       EXXONMOBIL PL CONVERSION L1                                   1631\n2       WEX FLEET UNIVERSAL PRIMARY                                  77923\n3      SHELL SMALL BUSINESS PRIMARY                                  70865\n4          SHELL FLEET PLUS PRIMARY                                  44536",
            "text/html": "\u003cdiv\u003e\n\u003cstyle scoped\u003e\n    .dataframe tbody tr th:only-of-type {\n        vertical-align: middle;\n    }\n\n    .dataframe tbody tr th {\n        vertical-align: top;\n    }\n\n    .dataframe thead th {\n        text-align: right;\n    }\n\u003c/style\u003e\n\u003ctable border\u003d\"1\" class\u003d\"dataframe\"\u003e\n  \u003cthead\u003e\n    \u003ctr style\u003d\"text-align: right;\"\u003e\n      \u003cth\u003e\u003c/th\u003e\n      \u003cth\u003eEDW_CUSTOMER_NAME\u003c/th\u003e\n      \u003cth\u003eDistinct count of CUSTOMER_ACCOUNT_ID\u003c/th\u003e\n    \u003c/tr\u003e\n  \u003c/thead\u003e\n  \u003ctbody\u003e\n    \u003ctr\u003e\n      \u003cth\u003e0\u003c/th\u003e\n      \u003ctd\u003eAUTOMOTIVE RESOURCES INTL HYBRID\u003c/td\u003e\n      \u003ctd\u003e6\u003c/td\u003e\n    \u003c/tr\u003e\n    \u003ctr\u003e\n      \u003cth\u003e1\u003c/th\u003e\n      \u003ctd\u003eEXXONMOBIL PL CONVERSION L1\u003c/td\u003e\n      \u003ctd\u003e1631\u003c/td\u003e\n    \u003c/tr\u003e\n    \u003ctr\u003e\n      \u003cth\u003e2\u003c/th\u003e\n      \u003ctd\u003eWEX FLEET UNIVERSAL PRIMARY\u003c/td\u003e\n      \u003ctd\u003e77923\u003c/td\u003e\n    \u003c/tr\u003e\n    \u003ctr\u003e\n      \u003cth\u003e3\u003c/th\u003e\n      \u003ctd\u003eSHELL SMALL BUSINESS PRIMARY\u003c/td\u003e\n      \u003ctd\u003e70865\u003c/td\u003e\n    \u003c/tr\u003e\n    \u003ctr\u003e\n      \u003cth\u003e4\u003c/th\u003e\n      \u003ctd\u003eSHELL FLEET PLUS PRIMARY\u003c/td\u003e\n      \u003ctd\u003e44536\u003c/td\u003e\n    \u003c/tr\u003e\n  \u003c/tbody\u003e\n\u003c/table\u003e\n\u003c/div\u003e"
          },
          "metadata": {}
        }
      ]
    },
    {
      "execution_count": 11,
      "cell_type": "code",
      "metadata": {},
      "source": [
        "NAFCUSTOMER_RDW_CONVERSIONS_df.head()\nNAFCUSTOMER_RDW_CONVERSIONS_df.STATUS_DATE.min()"
      ],
      "outputs": [
        {
          "output_type": "execute_result",
          "execution_count": 11,
          "data": {
            "text/plain": "\u00271901-01-01 00:00:00.000\u0027"
          },
          "metadata": {}
        }
      ]
    },
    {
      "execution_count": 10,
      "cell_type": "code",
      "metadata": {},
      "source": [
        "NAFCUSTOMER_ACCOUNT_ACTIVE_CARDS_BY_QUARTER_df.head()"
      ],
      "outputs": [
        {
          "output_type": "execute_result",
          "execution_count": 10,
          "data": {
            "text/plain": "   CUSTOMER_ACCOUNT_ID           CUSTOMER_ACCOUNT_NAME                   CUSTOMER_NAME       ACCOUNT_SINCE_DATE CUSTOMER_SOURCE_SYSTEM_CODE        ACCOUNT_OPEN_DATE      ACCOUNT_CLOSED_DATE ATTRITION_TYPE_NAME ATTRITION_REASON_CODE ATTRITION_REASON_DESC  YEAR_NUMBER  QUARTER_NUMBER  ACTIVE_CARD_COUNT\n0         9.100004e+12               Carolina Air Care     WEX Fleet Universal Primary  2017-04-27 00:00:00.000                      SIEBEL  2017-04-27 00:00:00.000  9999-12-31 00:00:00.000             Unknown                  Unkn               Unknown         2017               4                 15\n1         4.170082e+11  U S D 315 COLBY PUBLIC SCHOOLS  U S D 315 COLBY PUBLIC SCHOOLS  2010-05-14 00:00:00.000                      TANDEM  2010-05-14 00:00:00.000  2022-09-10 00:00:00.000     NNCL Conversion                    04    Account Conversion         2018               2                 14\n2         4.300042e+11      EASTER SEALS NEW HAMPSHIRE      EASTER SEALS NEW HAMPSHIRE  2000-08-02 00:00:00.000                      TANDEM  2000-08-02 00:00:00.000  2022-09-17 00:00:00.000     NNCL Conversion                    04    Account Conversion         2019               4                121\n3         9.100005e+12           11300 Grant County WA                  AMR HoldCo Inc  2018-02-14 00:00:00.000                      SIEBEL  2018-02-14 00:00:00.000  9999-12-31 00:00:00.000             Unknown                  Unkn               Unknown         2019               4                 11\n4         4.440076e+11             MARTIN CHRYSLER LLC             MARTIN CHRYSLER LLC  2007-12-04 00:00:00.000                      TANDEM  2007-12-04 00:00:00.000  2022-04-19 00:00:00.000     NNCL Conversion                    04    Account Conversion         2019               2                  9",
            "text/html": "\u003cdiv\u003e\n\u003cstyle scoped\u003e\n    .dataframe tbody tr th:only-of-type {\n        vertical-align: middle;\n    }\n\n    .dataframe tbody tr th {\n        vertical-align: top;\n    }\n\n    .dataframe thead th {\n        text-align: right;\n    }\n\u003c/style\u003e\n\u003ctable border\u003d\"1\" class\u003d\"dataframe\"\u003e\n  \u003cthead\u003e\n    \u003ctr style\u003d\"text-align: right;\"\u003e\n      \u003cth\u003e\u003c/th\u003e\n      \u003cth\u003eCUSTOMER_ACCOUNT_ID\u003c/th\u003e\n      \u003cth\u003eCUSTOMER_ACCOUNT_NAME\u003c/th\u003e\n      \u003cth\u003eCUSTOMER_NAME\u003c/th\u003e\n      \u003cth\u003eACCOUNT_SINCE_DATE\u003c/th\u003e\n      \u003cth\u003eCUSTOMER_SOURCE_SYSTEM_CODE\u003c/th\u003e\n      \u003cth\u003eACCOUNT_OPEN_DATE\u003c/th\u003e\n      \u003cth\u003eACCOUNT_CLOSED_DATE\u003c/th\u003e\n      \u003cth\u003eATTRITION_TYPE_NAME\u003c/th\u003e\n      \u003cth\u003eATTRITION_REASON_CODE\u003c/th\u003e\n      \u003cth\u003eATTRITION_REASON_DESC\u003c/th\u003e\n      \u003cth\u003eYEAR_NUMBER\u003c/th\u003e\n      \u003cth\u003eQUARTER_NUMBER\u003c/th\u003e\n      \u003cth\u003eACTIVE_CARD_COUNT\u003c/th\u003e\n    \u003c/tr\u003e\n  \u003c/thead\u003e\n  \u003ctbody\u003e\n    \u003ctr\u003e\n      \u003cth\u003e0\u003c/th\u003e\n      \u003ctd\u003e9.100004e+12\u003c/td\u003e\n      \u003ctd\u003eCarolina Air Care\u003c/td\u003e\n      \u003ctd\u003eWEX Fleet Universal Primary\u003c/td\u003e\n      \u003ctd\u003e2017-04-27 00:00:00.000\u003c/td\u003e\n      \u003ctd\u003eSIEBEL\u003c/td\u003e\n      \u003ctd\u003e2017-04-27 00:00:00.000\u003c/td\u003e\n      \u003ctd\u003e9999-12-31 00:00:00.000\u003c/td\u003e\n      \u003ctd\u003eUnknown\u003c/td\u003e\n      \u003ctd\u003eUnkn\u003c/td\u003e\n      \u003ctd\u003eUnknown\u003c/td\u003e\n      \u003ctd\u003e2017\u003c/td\u003e\n      \u003ctd\u003e4\u003c/td\u003e\n      \u003ctd\u003e15\u003c/td\u003e\n    \u003c/tr\u003e\n    \u003ctr\u003e\n      \u003cth\u003e1\u003c/th\u003e\n      \u003ctd\u003e4.170082e+11\u003c/td\u003e\n      \u003ctd\u003eU S D 315 COLBY PUBLIC SCHOOLS\u003c/td\u003e\n      \u003ctd\u003eU S D 315 COLBY PUBLIC SCHOOLS\u003c/td\u003e\n      \u003ctd\u003e2010-05-14 00:00:00.000\u003c/td\u003e\n      \u003ctd\u003eTANDEM\u003c/td\u003e\n      \u003ctd\u003e2010-05-14 00:00:00.000\u003c/td\u003e\n      \u003ctd\u003e2022-09-10 00:00:00.000\u003c/td\u003e\n      \u003ctd\u003eNNCL Conversion\u003c/td\u003e\n      \u003ctd\u003e04\u003c/td\u003e\n      \u003ctd\u003eAccount Conversion\u003c/td\u003e\n      \u003ctd\u003e2018\u003c/td\u003e\n      \u003ctd\u003e2\u003c/td\u003e\n      \u003ctd\u003e14\u003c/td\u003e\n    \u003c/tr\u003e\n    \u003ctr\u003e\n      \u003cth\u003e2\u003c/th\u003e\n      \u003ctd\u003e4.300042e+11\u003c/td\u003e\n      \u003ctd\u003eEASTER SEALS NEW HAMPSHIRE\u003c/td\u003e\n      \u003ctd\u003eEASTER SEALS NEW HAMPSHIRE\u003c/td\u003e\n      \u003ctd\u003e2000-08-02 00:00:00.000\u003c/td\u003e\n      \u003ctd\u003eTANDEM\u003c/td\u003e\n      \u003ctd\u003e2000-08-02 00:00:00.000\u003c/td\u003e\n      \u003ctd\u003e2022-09-17 00:00:00.000\u003c/td\u003e\n      \u003ctd\u003eNNCL Conversion\u003c/td\u003e\n      \u003ctd\u003e04\u003c/td\u003e\n      \u003ctd\u003eAccount Conversion\u003c/td\u003e\n      \u003ctd\u003e2019\u003c/td\u003e\n      \u003ctd\u003e4\u003c/td\u003e\n      \u003ctd\u003e121\u003c/td\u003e\n    \u003c/tr\u003e\n    \u003ctr\u003e\n      \u003cth\u003e3\u003c/th\u003e\n      \u003ctd\u003e9.100005e+12\u003c/td\u003e\n      \u003ctd\u003e11300 Grant County WA\u003c/td\u003e\n      \u003ctd\u003eAMR HoldCo Inc\u003c/td\u003e\n      \u003ctd\u003e2018-02-14 00:00:00.000\u003c/td\u003e\n      \u003ctd\u003eSIEBEL\u003c/td\u003e\n      \u003ctd\u003e2018-02-14 00:00:00.000\u003c/td\u003e\n      \u003ctd\u003e9999-12-31 00:00:00.000\u003c/td\u003e\n      \u003ctd\u003eUnknown\u003c/td\u003e\n      \u003ctd\u003eUnkn\u003c/td\u003e\n      \u003ctd\u003eUnknown\u003c/td\u003e\n      \u003ctd\u003e2019\u003c/td\u003e\n      \u003ctd\u003e4\u003c/td\u003e\n      \u003ctd\u003e11\u003c/td\u003e\n    \u003c/tr\u003e\n    \u003ctr\u003e\n      \u003cth\u003e4\u003c/th\u003e\n      \u003ctd\u003e4.440076e+11\u003c/td\u003e\n      \u003ctd\u003eMARTIN CHRYSLER LLC\u003c/td\u003e\n      \u003ctd\u003eMARTIN CHRYSLER LLC\u003c/td\u003e\n      \u003ctd\u003e2007-12-04 00:00:00.000\u003c/td\u003e\n      \u003ctd\u003eTANDEM\u003c/td\u003e\n      \u003ctd\u003e2007-12-04 00:00:00.000\u003c/td\u003e\n      \u003ctd\u003e2022-04-19 00:00:00.000\u003c/td\u003e\n      \u003ctd\u003eNNCL Conversion\u003c/td\u003e\n      \u003ctd\u003e04\u003c/td\u003e\n      \u003ctd\u003eAccount Conversion\u003c/td\u003e\n      \u003ctd\u003e2019\u003c/td\u003e\n      \u003ctd\u003e2\u003c/td\u003e\n      \u003ctd\u003e9\u003c/td\u003e\n    \u003c/tr\u003e\n  \u003c/tbody\u003e\n\u003c/table\u003e\n\u003c/div\u003e"
          },
          "metadata": {}
        }
      ]
    },
    {
      "execution_count": 0,
      "cell_type": "code",
      "metadata": {},
      "source": [
        "# Write recipe outputs\n#NAFCUSTOMER_LONG_HISTORY_MATCHES \u003d dataiku.Dataset(\"NAFCUSTOMER_LONG_HISTORY_MATCHES\")\n#NAFCUSTOMER_LONG_HISTORY_MATCHES.write_with_schema(NAFCUSTOMER_LONG_HISTORY_MATCHES_df)"
      ],
      "outputs": []
    }
  ]
}