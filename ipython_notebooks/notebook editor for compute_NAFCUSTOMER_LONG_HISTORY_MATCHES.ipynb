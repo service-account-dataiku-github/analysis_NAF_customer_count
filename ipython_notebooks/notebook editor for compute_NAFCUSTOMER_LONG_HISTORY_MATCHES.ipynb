{
  "metadata": {
    "kernelspec": {
      "name": "py-dku-venv-env_clc",
      "display_name": "Python (env env_clc)",
      "language": "python"
    },
    "associatedRecipe": "compute_NAFCUSTOMER_LONG_HISTORY_MATCHES",
    "creator": "Daniel.Vandermeer",
    "createdOn": 1675368834596,
    "tags": [
      "recipe-editor"
    ],
    "customFields": {},
    "hide_input": false,
    "language_info": {
      "name": "python",
      "version": "3.6.8",
      "mimetype": "text/x-python",
      "codemirror_mode": {
        "name": "ipython",
        "version": 3
      },
      "pygments_lexer": "ipython3",
      "nbconvert_exporter": "python",
      "file_extension": ".py"
    },
    "modifiedBy": "Daniel.Vandermeer"
  },
  "nbformat": 4,
  "nbformat_minor": 1,
  "cells": [
    {
      "execution_count": 0,
      "cell_type": "code",
      "metadata": {},
      "source": [
        "# -*- coding: utf-8 -*-\nimport dataiku\nimport pandas as pd, numpy as np\nfrom dataiku import pandasutils as pdu\n\n# Read recipe inputs\nNAFCUSTOMER_ACCOUNT_ACTIVE_CARDS_BY_QUARTER \u003d dataiku.Dataset(\"NAFCUSTOMER_ACCOUNT_ACTIVE_CARDS_BY_QUARTER\")\nNAFCUSTOMER_ACCOUNT_ACTIVE_CARDS_BY_QUARTER_df \u003d NAFCUSTOMER_ACCOUNT_ACTIVE_CARDS_BY_QUARTER.get_dataframe()\n\nprint(len(NAFCUSTOMER_ACCOUNT_ACTIVE_CARDS_BY_QUARTER_df))"
      ],
      "outputs": []
    },
    {
      "execution_count": 0,
      "cell_type": "code",
      "metadata": {},
      "source": [
        ""
      ],
      "outputs": []
    },
    {
      "execution_count": 0,
      "cell_type": "code",
      "metadata": {},
      "source": [
        "# Compute recipe outputs from inputs\n# TODO: Replace this part by your actual code that computes the output, as a Pandas dataframe\n# NB: DSS also supports other kinds of APIs for reading and writing data. Please see doc.\n\nNAFCUSTOMER_LONG_HISTORY_MATCHES_df \u003d NAFCUSTOMER_ACCOUNT_ACTIVE_CARDS_BY_QUARTER_df # For this sample code, simply copy input to output\n\n\n# Write recipe outputs\nNAFCUSTOMER_LONG_HISTORY_MATCHES \u003d dataiku.Dataset(\"NAFCUSTOMER_LONG_HISTORY_MATCHES\")\nNAFCUSTOMER_LONG_HISTORY_MATCHES.write_with_schema(NAFCUSTOMER_LONG_HISTORY_MATCHES_df)"
      ],
      "outputs": []
    }
  ]
}