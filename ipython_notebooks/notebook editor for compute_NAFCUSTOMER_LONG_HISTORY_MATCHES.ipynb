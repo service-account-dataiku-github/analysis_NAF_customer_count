{
  "metadata": {
    "kernelspec": {
      "name": "py-dku-venv-env_clc",
      "display_name": "Python (env env_clc)",
      "language": "python"
    },
    "associatedRecipe": "compute_NAFCUSTOMER_LONG_HISTORY_MATCHES",
    "dkuGit": {
      "lastInteraction": 0
    },
    "creationTag": {
      "versionNumber": 0,
      "lastModifiedBy": {
        "login": "Daniel.Vandermeer"
      },
      "lastModifiedOn": 1675368834596
    },
    "creator": "Daniel.Vandermeer",
    "createdOn": 1675368834596,
    "tags": [
      "recipe-editor"
    ],
    "customFields": {},
    "hide_input": false,
    "language_info": {
      "name": "python",
      "version": "3.6.8",
      "mimetype": "text/x-python",
      "codemirror_mode": {
        "name": "ipython",
        "version": 3
      },
      "pygments_lexer": "ipython3",
      "nbconvert_exporter": "python",
      "file_extension": ".py"
    },
    "modifiedBy": "Daniel.Vandermeer"
  },
  "nbformat": 4,
  "nbformat_minor": 1,
  "cells": [
    {
      "execution_count": 7,
      "cell_type": "code",
      "metadata": {},
      "source": [
        "# -*- coding: utf-8 -*-\nimport dataiku\nimport pandas as pd, numpy as np\nfrom dataiku import pandasutils as pdu\n\nACCOUNT_BUNDLER_LIST \u003d dataiku.Dataset(\"ACCOUNT_BUNDLER_LIST\")\nACCOUNT_BUNDLER_LIST_df \u003d ACCOUNT_BUNDLER_LIST.get_dataframe()\nprint(len(ACCOUNT_BUNDLER_LIST_df))\n\nNAFCUSTOMER_RDW_CONVERSIONS \u003d dataiku.Dataset(\"NAFCUSTOMER_RDW_CONVERSIONS\")\nNAFCUSTOMER_RDW_CONVERSIONS_df \u003d NAFCUSTOMER_RDW_CONVERSIONS.get_dataframe()\nprint(len(NAFCUSTOMER_RDW_CONVERSIONS_df))\n\n# Read recipe inputs\nNAFCUSTOMER_ACCOUNT_ACTIVE_CARDS_BY_QUARTER \u003d dataiku.Dataset(\"NAFCUSTOMER_ACCOUNT_ACTIVE_CARDS_BY_QUARTER\")\nNAFCUSTOMER_ACCOUNT_ACTIVE_CARDS_BY_QUARTER_df \u003d NAFCUSTOMER_ACCOUNT_ACTIVE_CARDS_BY_QUARTER.get_dataframe()\nprint(len(NAFCUSTOMER_ACCOUNT_ACTIVE_CARDS_BY_QUARTER_df))\n\n"
      ],
      "outputs": [
        {
          "output_type": "stream",
          "text": "274\n2170800\n4806903\n",
          "name": "stdout"
        }
      ]
    },
    {
      "execution_count": 20,
      "cell_type": "code",
      "metadata": {},
      "source": [
        "df_a \u003d NAFCUSTOMER_ACCOUNT_ACTIVE_CARDS_BY_QUARTER_df\ndf_a[\u0027CUSTOMER_ACCOUNT_ID\u0027] \u003d df_a[\u0027CUSTOMER_ACCOUNT_ID\u0027].astype(\u0027Int64\u0027, errors\u003d\u0027ignore\u0027)\nprint(len(df_a))\ndf_a.head()"
      ],
      "outputs": [
        {
          "output_type": "stream",
          "text": "4806903\n",
          "name": "stdout"
        },
        {
          "output_type": "execute_result",
          "execution_count": 20,
          "data": {
            "text/plain": "   CUSTOMER_ACCOUNT_ID           CUSTOMER_ACCOUNT_NAME                   CUSTOMER_NAME       ACCOUNT_SINCE_DATE CUSTOMER_SOURCE_SYSTEM_CODE        ACCOUNT_OPEN_DATE      ACCOUNT_CLOSED_DATE ATTRITION_TYPE_NAME ATTRITION_REASON_CODE ATTRITION_REASON_DESC  YEAR_NUMBER  QUARTER_NUMBER  ACTIVE_CARD_COUNT\n0        9100004251546               Carolina Air Care     WEX Fleet Universal Primary  2017-04-27 00:00:00.000                      SIEBEL  2017-04-27 00:00:00.000  9999-12-31 00:00:00.000             Unknown                  Unkn               Unknown         2017               4                 15\n1         417008246662  U S D 315 COLBY PUBLIC SCHOOLS  U S D 315 COLBY PUBLIC SCHOOLS  2010-05-14 00:00:00.000                      TANDEM  2010-05-14 00:00:00.000  2022-09-10 00:00:00.000     NNCL Conversion                    04    Account Conversion         2018               2                 14\n2         430004184602      EASTER SEALS NEW HAMPSHIRE      EASTER SEALS NEW HAMPSHIRE  2000-08-02 00:00:00.000                      TANDEM  2000-08-02 00:00:00.000  2022-09-17 00:00:00.000     NNCL Conversion                    04    Account Conversion         2019               4                121\n3        9100004755591           11300 Grant County WA                  AMR HoldCo Inc  2018-02-14 00:00:00.000                      SIEBEL  2018-02-14 00:00:00.000  9999-12-31 00:00:00.000             Unknown                  Unkn               Unknown         2019               4                 11\n4         444007634488             MARTIN CHRYSLER LLC             MARTIN CHRYSLER LLC  2007-12-04 00:00:00.000                      TANDEM  2007-12-04 00:00:00.000  2022-04-19 00:00:00.000     NNCL Conversion                    04    Account Conversion         2019               2                  9",
            "text/html": "\u003cdiv\u003e\n\u003cstyle scoped\u003e\n    .dataframe tbody tr th:only-of-type {\n        vertical-align: middle;\n    }\n\n    .dataframe tbody tr th {\n        vertical-align: top;\n    }\n\n    .dataframe thead th {\n        text-align: right;\n    }\n\u003c/style\u003e\n\u003ctable border\u003d\"1\" class\u003d\"dataframe\"\u003e\n  \u003cthead\u003e\n    \u003ctr style\u003d\"text-align: right;\"\u003e\n      \u003cth\u003e\u003c/th\u003e\n      \u003cth\u003eCUSTOMER_ACCOUNT_ID\u003c/th\u003e\n      \u003cth\u003eCUSTOMER_ACCOUNT_NAME\u003c/th\u003e\n      \u003cth\u003eCUSTOMER_NAME\u003c/th\u003e\n      \u003cth\u003eACCOUNT_SINCE_DATE\u003c/th\u003e\n      \u003cth\u003eCUSTOMER_SOURCE_SYSTEM_CODE\u003c/th\u003e\n      \u003cth\u003eACCOUNT_OPEN_DATE\u003c/th\u003e\n      \u003cth\u003eACCOUNT_CLOSED_DATE\u003c/th\u003e\n      \u003cth\u003eATTRITION_TYPE_NAME\u003c/th\u003e\n      \u003cth\u003eATTRITION_REASON_CODE\u003c/th\u003e\n      \u003cth\u003eATTRITION_REASON_DESC\u003c/th\u003e\n      \u003cth\u003eYEAR_NUMBER\u003c/th\u003e\n      \u003cth\u003eQUARTER_NUMBER\u003c/th\u003e\n      \u003cth\u003eACTIVE_CARD_COUNT\u003c/th\u003e\n    \u003c/tr\u003e\n  \u003c/thead\u003e\n  \u003ctbody\u003e\n    \u003ctr\u003e\n      \u003cth\u003e0\u003c/th\u003e\n      \u003ctd\u003e9100004251546\u003c/td\u003e\n      \u003ctd\u003eCarolina Air Care\u003c/td\u003e\n      \u003ctd\u003eWEX Fleet Universal Primary\u003c/td\u003e\n      \u003ctd\u003e2017-04-27 00:00:00.000\u003c/td\u003e\n      \u003ctd\u003eSIEBEL\u003c/td\u003e\n      \u003ctd\u003e2017-04-27 00:00:00.000\u003c/td\u003e\n      \u003ctd\u003e9999-12-31 00:00:00.000\u003c/td\u003e\n      \u003ctd\u003eUnknown\u003c/td\u003e\n      \u003ctd\u003eUnkn\u003c/td\u003e\n      \u003ctd\u003eUnknown\u003c/td\u003e\n      \u003ctd\u003e2017\u003c/td\u003e\n      \u003ctd\u003e4\u003c/td\u003e\n      \u003ctd\u003e15\u003c/td\u003e\n    \u003c/tr\u003e\n    \u003ctr\u003e\n      \u003cth\u003e1\u003c/th\u003e\n      \u003ctd\u003e417008246662\u003c/td\u003e\n      \u003ctd\u003eU S D 315 COLBY PUBLIC SCHOOLS\u003c/td\u003e\n      \u003ctd\u003eU S D 315 COLBY PUBLIC SCHOOLS\u003c/td\u003e\n      \u003ctd\u003e2010-05-14 00:00:00.000\u003c/td\u003e\n      \u003ctd\u003eTANDEM\u003c/td\u003e\n      \u003ctd\u003e2010-05-14 00:00:00.000\u003c/td\u003e\n      \u003ctd\u003e2022-09-10 00:00:00.000\u003c/td\u003e\n      \u003ctd\u003eNNCL Conversion\u003c/td\u003e\n      \u003ctd\u003e04\u003c/td\u003e\n      \u003ctd\u003eAccount Conversion\u003c/td\u003e\n      \u003ctd\u003e2018\u003c/td\u003e\n      \u003ctd\u003e2\u003c/td\u003e\n      \u003ctd\u003e14\u003c/td\u003e\n    \u003c/tr\u003e\n    \u003ctr\u003e\n      \u003cth\u003e2\u003c/th\u003e\n      \u003ctd\u003e430004184602\u003c/td\u003e\n      \u003ctd\u003eEASTER SEALS NEW HAMPSHIRE\u003c/td\u003e\n      \u003ctd\u003eEASTER SEALS NEW HAMPSHIRE\u003c/td\u003e\n      \u003ctd\u003e2000-08-02 00:00:00.000\u003c/td\u003e\n      \u003ctd\u003eTANDEM\u003c/td\u003e\n      \u003ctd\u003e2000-08-02 00:00:00.000\u003c/td\u003e\n      \u003ctd\u003e2022-09-17 00:00:00.000\u003c/td\u003e\n      \u003ctd\u003eNNCL Conversion\u003c/td\u003e\n      \u003ctd\u003e04\u003c/td\u003e\n      \u003ctd\u003eAccount Conversion\u003c/td\u003e\n      \u003ctd\u003e2019\u003c/td\u003e\n      \u003ctd\u003e4\u003c/td\u003e\n      \u003ctd\u003e121\u003c/td\u003e\n    \u003c/tr\u003e\n    \u003ctr\u003e\n      \u003cth\u003e3\u003c/th\u003e\n      \u003ctd\u003e9100004755591\u003c/td\u003e\n      \u003ctd\u003e11300 Grant County WA\u003c/td\u003e\n      \u003ctd\u003eAMR HoldCo Inc\u003c/td\u003e\n      \u003ctd\u003e2018-02-14 00:00:00.000\u003c/td\u003e\n      \u003ctd\u003eSIEBEL\u003c/td\u003e\n      \u003ctd\u003e2018-02-14 00:00:00.000\u003c/td\u003e\n      \u003ctd\u003e9999-12-31 00:00:00.000\u003c/td\u003e\n      \u003ctd\u003eUnknown\u003c/td\u003e\n      \u003ctd\u003eUnkn\u003c/td\u003e\n      \u003ctd\u003eUnknown\u003c/td\u003e\n      \u003ctd\u003e2019\u003c/td\u003e\n      \u003ctd\u003e4\u003c/td\u003e\n      \u003ctd\u003e11\u003c/td\u003e\n    \u003c/tr\u003e\n    \u003ctr\u003e\n      \u003cth\u003e4\u003c/th\u003e\n      \u003ctd\u003e444007634488\u003c/td\u003e\n      \u003ctd\u003eMARTIN CHRYSLER LLC\u003c/td\u003e\n      \u003ctd\u003eMARTIN CHRYSLER LLC\u003c/td\u003e\n      \u003ctd\u003e2007-12-04 00:00:00.000\u003c/td\u003e\n      \u003ctd\u003eTANDEM\u003c/td\u003e\n      \u003ctd\u003e2007-12-04 00:00:00.000\u003c/td\u003e\n      \u003ctd\u003e2022-04-19 00:00:00.000\u003c/td\u003e\n      \u003ctd\u003eNNCL Conversion\u003c/td\u003e\n      \u003ctd\u003e04\u003c/td\u003e\n      \u003ctd\u003eAccount Conversion\u003c/td\u003e\n      \u003ctd\u003e2019\u003c/td\u003e\n      \u003ctd\u003e2\u003c/td\u003e\n      \u003ctd\u003e9\u003c/td\u003e\n    \u003c/tr\u003e\n  \u003c/tbody\u003e\n\u003c/table\u003e\n\u003c/div\u003e"
          },
          "metadata": {}
        }
      ]
    },
    {
      "execution_count": 25,
      "cell_type": "code",
      "metadata": {},
      "source": [
        "df_g \u003d df_a.groupby([\u0027CUSTOMER_NAME\u0027]).CUSTOMER_ACCOUNT_ID.nunique().reset_index()\ndf_g.columns \u003d [\u0027CUSTOMER_NAME\u0027,\u0027ACCOUNT_COUNT\u0027]\ndf_g \u003d df_g.sort_values(by\u003d[\u0027ACCOUNT_COUNT\u0027], ascending\u003dFalse)\ndf_g.head(40)"
      ],
      "outputs": [
        {
          "output_type": "execute_result",
          "execution_count": 25,
          "data": {
            "text/plain": "                                 CUSTOMER_NAME  ACCOUNT_COUNT\n220818            Shell Small Business Primary          56872\n60729      Chevron and Texaco Business Primary          24820\n220814                Shell Fleet Plus Primary          24417\n249868             WEX Fleet Universal Primary          17548\n60725    Chevron  Texaco Business Access Prima          14198\n223199         Speedway Business Fleet Primary          13486\n190411            Quiktrip Fleetmaster Primary          10656\n160407                  Marathon Fleet Primary           9009\n249867       WEX Fleet FlexCard Rebate Primary           8488\n252675                      Wawa Fleet Primary           7859\n249862  WEX Enterprise ExxonMobil Card Primary           6624\n50784                  CITGO Universal Primary           6518\n61206               Circle K Universal Primary           5834\n174245                  OReilly Automotive Inc           5798\n61205                  Circle K Stores Primary           5764\n220777                     Sheetz Edge Primary           5536\n50780                      CITGO Fleet Primary           5460\n223200     Speedway Business Universal Primary           5376\n249863  WEX Enterprise Fleet Mgmt Card Primary           5194\n220776            Sheetz Business Edge Primary           5176\n160413              Marathon Universal Primary           5050\n252678                  Wawa Universal Primary           4756\n220813         Shell Fleet Plus Canada Primary           4611\n190410       Quiktrip Fleetmaster Plus Primary           4368\n5143                 7Eleven Universal Primary           4220\n60727     Chevron and Texaco Access BP Primary           4047\n39932                      Biz Unite Universal           3887\n199617                  Racetrac Elite Primary           3727\n253415          Wex Fleet Card Program Primary           3656\n220780           Sheetz Universal Edge Primary           3353\n165035                Murphy Universal Primary           3316\n103755               Global Fleet Fuel Primary           3074\n161335                     Maverik Inc Primary           2953\n63198                 Conoco Universal Primary           2883\n186997           Phillips 66 Universal Primary           2814\n136665                         Kum  GO Primary           2802\n5062                      76 Universal Primary           2712\n201192                             RentACenter           2606\n63197                     Conoco Fleet Primary           2545\n199618              Racetrac Universal Primary           2543",
            "text/html": "\u003cdiv\u003e\n\u003cstyle scoped\u003e\n    .dataframe tbody tr th:only-of-type {\n        vertical-align: middle;\n    }\n\n    .dataframe tbody tr th {\n        vertical-align: top;\n    }\n\n    .dataframe thead th {\n        text-align: right;\n    }\n\u003c/style\u003e\n\u003ctable border\u003d\"1\" class\u003d\"dataframe\"\u003e\n  \u003cthead\u003e\n    \u003ctr style\u003d\"text-align: right;\"\u003e\n      \u003cth\u003e\u003c/th\u003e\n      \u003cth\u003eCUSTOMER_NAME\u003c/th\u003e\n      \u003cth\u003eACCOUNT_COUNT\u003c/th\u003e\n    \u003c/tr\u003e\n  \u003c/thead\u003e\n  \u003ctbody\u003e\n    \u003ctr\u003e\n      \u003cth\u003e220818\u003c/th\u003e\n      \u003ctd\u003eShell Small Business Primary\u003c/td\u003e\n      \u003ctd\u003e56872\u003c/td\u003e\n    \u003c/tr\u003e\n    \u003ctr\u003e\n      \u003cth\u003e60729\u003c/th\u003e\n      \u003ctd\u003eChevron and Texaco Business Primary\u003c/td\u003e\n      \u003ctd\u003e24820\u003c/td\u003e\n    \u003c/tr\u003e\n    \u003ctr\u003e\n      \u003cth\u003e220814\u003c/th\u003e\n      \u003ctd\u003eShell Fleet Plus Primary\u003c/td\u003e\n      \u003ctd\u003e24417\u003c/td\u003e\n    \u003c/tr\u003e\n    \u003ctr\u003e\n      \u003cth\u003e249868\u003c/th\u003e\n      \u003ctd\u003eWEX Fleet Universal Primary\u003c/td\u003e\n      \u003ctd\u003e17548\u003c/td\u003e\n    \u003c/tr\u003e\n    \u003ctr\u003e\n      \u003cth\u003e60725\u003c/th\u003e\n      \u003ctd\u003eChevron  Texaco Business Access Prima\u003c/td\u003e\n      \u003ctd\u003e14198\u003c/td\u003e\n    \u003c/tr\u003e\n    \u003ctr\u003e\n      \u003cth\u003e223199\u003c/th\u003e\n      \u003ctd\u003eSpeedway Business Fleet Primary\u003c/td\u003e\n      \u003ctd\u003e13486\u003c/td\u003e\n    \u003c/tr\u003e\n    \u003ctr\u003e\n      \u003cth\u003e190411\u003c/th\u003e\n      \u003ctd\u003eQuiktrip Fleetmaster Primary\u003c/td\u003e\n      \u003ctd\u003e10656\u003c/td\u003e\n    \u003c/tr\u003e\n    \u003ctr\u003e\n      \u003cth\u003e160407\u003c/th\u003e\n      \u003ctd\u003eMarathon Fleet Primary\u003c/td\u003e\n      \u003ctd\u003e9009\u003c/td\u003e\n    \u003c/tr\u003e\n    \u003ctr\u003e\n      \u003cth\u003e249867\u003c/th\u003e\n      \u003ctd\u003eWEX Fleet FlexCard Rebate Primary\u003c/td\u003e\n      \u003ctd\u003e8488\u003c/td\u003e\n    \u003c/tr\u003e\n    \u003ctr\u003e\n      \u003cth\u003e252675\u003c/th\u003e\n      \u003ctd\u003eWawa Fleet Primary\u003c/td\u003e\n      \u003ctd\u003e7859\u003c/td\u003e\n    \u003c/tr\u003e\n    \u003ctr\u003e\n      \u003cth\u003e249862\u003c/th\u003e\n      \u003ctd\u003eWEX Enterprise ExxonMobil Card Primary\u003c/td\u003e\n      \u003ctd\u003e6624\u003c/td\u003e\n    \u003c/tr\u003e\n    \u003ctr\u003e\n      \u003cth\u003e50784\u003c/th\u003e\n      \u003ctd\u003eCITGO Universal Primary\u003c/td\u003e\n      \u003ctd\u003e6518\u003c/td\u003e\n    \u003c/tr\u003e\n    \u003ctr\u003e\n      \u003cth\u003e61206\u003c/th\u003e\n      \u003ctd\u003eCircle K Universal Primary\u003c/td\u003e\n      \u003ctd\u003e5834\u003c/td\u003e\n    \u003c/tr\u003e\n    \u003ctr\u003e\n      \u003cth\u003e174245\u003c/th\u003e\n      \u003ctd\u003eOReilly Automotive Inc\u003c/td\u003e\n      \u003ctd\u003e5798\u003c/td\u003e\n    \u003c/tr\u003e\n    \u003ctr\u003e\n      \u003cth\u003e61205\u003c/th\u003e\n      \u003ctd\u003eCircle K Stores Primary\u003c/td\u003e\n      \u003ctd\u003e5764\u003c/td\u003e\n    \u003c/tr\u003e\n    \u003ctr\u003e\n      \u003cth\u003e220777\u003c/th\u003e\n      \u003ctd\u003eSheetz Edge Primary\u003c/td\u003e\n      \u003ctd\u003e5536\u003c/td\u003e\n    \u003c/tr\u003e\n    \u003ctr\u003e\n      \u003cth\u003e50780\u003c/th\u003e\n      \u003ctd\u003eCITGO Fleet Primary\u003c/td\u003e\n      \u003ctd\u003e5460\u003c/td\u003e\n    \u003c/tr\u003e\n    \u003ctr\u003e\n      \u003cth\u003e223200\u003c/th\u003e\n      \u003ctd\u003eSpeedway Business Universal Primary\u003c/td\u003e\n      \u003ctd\u003e5376\u003c/td\u003e\n    \u003c/tr\u003e\n    \u003ctr\u003e\n      \u003cth\u003e249863\u003c/th\u003e\n      \u003ctd\u003eWEX Enterprise Fleet Mgmt Card Primary\u003c/td\u003e\n      \u003ctd\u003e5194\u003c/td\u003e\n    \u003c/tr\u003e\n    \u003ctr\u003e\n      \u003cth\u003e220776\u003c/th\u003e\n      \u003ctd\u003eSheetz Business Edge Primary\u003c/td\u003e\n      \u003ctd\u003e5176\u003c/td\u003e\n    \u003c/tr\u003e\n    \u003ctr\u003e\n      \u003cth\u003e160413\u003c/th\u003e\n      \u003ctd\u003eMarathon Universal Primary\u003c/td\u003e\n      \u003ctd\u003e5050\u003c/td\u003e\n    \u003c/tr\u003e\n    \u003ctr\u003e\n      \u003cth\u003e252678\u003c/th\u003e\n      \u003ctd\u003eWawa Universal Primary\u003c/td\u003e\n      \u003ctd\u003e4756\u003c/td\u003e\n    \u003c/tr\u003e\n    \u003ctr\u003e\n      \u003cth\u003e220813\u003c/th\u003e\n      \u003ctd\u003eShell Fleet Plus Canada Primary\u003c/td\u003e\n      \u003ctd\u003e4611\u003c/td\u003e\n    \u003c/tr\u003e\n    \u003ctr\u003e\n      \u003cth\u003e190410\u003c/th\u003e\n      \u003ctd\u003eQuiktrip Fleetmaster Plus Primary\u003c/td\u003e\n      \u003ctd\u003e4368\u003c/td\u003e\n    \u003c/tr\u003e\n    \u003ctr\u003e\n      \u003cth\u003e5143\u003c/th\u003e\n      \u003ctd\u003e7Eleven Universal Primary\u003c/td\u003e\n      \u003ctd\u003e4220\u003c/td\u003e\n    \u003c/tr\u003e\n    \u003ctr\u003e\n      \u003cth\u003e60727\u003c/th\u003e\n      \u003ctd\u003eChevron and Texaco Access BP Primary\u003c/td\u003e\n      \u003ctd\u003e4047\u003c/td\u003e\n    \u003c/tr\u003e\n    \u003ctr\u003e\n      \u003cth\u003e39932\u003c/th\u003e\n      \u003ctd\u003eBiz Unite Universal\u003c/td\u003e\n      \u003ctd\u003e3887\u003c/td\u003e\n    \u003c/tr\u003e\n    \u003ctr\u003e\n      \u003cth\u003e199617\u003c/th\u003e\n      \u003ctd\u003eRacetrac Elite Primary\u003c/td\u003e\n      \u003ctd\u003e3727\u003c/td\u003e\n    \u003c/tr\u003e\n    \u003ctr\u003e\n      \u003cth\u003e253415\u003c/th\u003e\n      \u003ctd\u003eWex Fleet Card Program Primary\u003c/td\u003e\n      \u003ctd\u003e3656\u003c/td\u003e\n    \u003c/tr\u003e\n    \u003ctr\u003e\n      \u003cth\u003e220780\u003c/th\u003e\n      \u003ctd\u003eSheetz Universal Edge Primary\u003c/td\u003e\n      \u003ctd\u003e3353\u003c/td\u003e\n    \u003c/tr\u003e\n    \u003ctr\u003e\n      \u003cth\u003e165035\u003c/th\u003e\n      \u003ctd\u003eMurphy Universal Primary\u003c/td\u003e\n      \u003ctd\u003e3316\u003c/td\u003e\n    \u003c/tr\u003e\n    \u003ctr\u003e\n      \u003cth\u003e103755\u003c/th\u003e\n      \u003ctd\u003eGlobal Fleet Fuel Primary\u003c/td\u003e\n      \u003ctd\u003e3074\u003c/td\u003e\n    \u003c/tr\u003e\n    \u003ctr\u003e\n      \u003cth\u003e161335\u003c/th\u003e\n      \u003ctd\u003eMaverik Inc Primary\u003c/td\u003e\n      \u003ctd\u003e2953\u003c/td\u003e\n    \u003c/tr\u003e\n    \u003ctr\u003e\n      \u003cth\u003e63198\u003c/th\u003e\n      \u003ctd\u003eConoco Universal Primary\u003c/td\u003e\n      \u003ctd\u003e2883\u003c/td\u003e\n    \u003c/tr\u003e\n    \u003ctr\u003e\n      \u003cth\u003e186997\u003c/th\u003e\n      \u003ctd\u003ePhillips 66 Universal Primary\u003c/td\u003e\n      \u003ctd\u003e2814\u003c/td\u003e\n    \u003c/tr\u003e\n    \u003ctr\u003e\n      \u003cth\u003e136665\u003c/th\u003e\n      \u003ctd\u003eKum  GO Primary\u003c/td\u003e\n      \u003ctd\u003e2802\u003c/td\u003e\n    \u003c/tr\u003e\n    \u003ctr\u003e\n      \u003cth\u003e5062\u003c/th\u003e\n      \u003ctd\u003e76 Universal Primary\u003c/td\u003e\n      \u003ctd\u003e2712\u003c/td\u003e\n    \u003c/tr\u003e\n    \u003ctr\u003e\n      \u003cth\u003e201192\u003c/th\u003e\n      \u003ctd\u003eRentACenter\u003c/td\u003e\n      \u003ctd\u003e2606\u003c/td\u003e\n    \u003c/tr\u003e\n    \u003ctr\u003e\n      \u003cth\u003e63197\u003c/th\u003e\n      \u003ctd\u003eConoco Fleet Primary\u003c/td\u003e\n      \u003ctd\u003e2545\u003c/td\u003e\n    \u003c/tr\u003e\n    \u003ctr\u003e\n      \u003cth\u003e199618\u003c/th\u003e\n      \u003ctd\u003eRacetrac Universal Primary\u003c/td\u003e\n      \u003ctd\u003e2543\u003c/td\u003e\n    \u003c/tr\u003e\n  \u003c/tbody\u003e\n\u003c/table\u003e\n\u003c/div\u003e"
          },
          "metadata": {}
        }
      ]
    },
    {
      "execution_count": 8,
      "cell_type": "code",
      "metadata": {},
      "source": [
        "ACCOUNT_BUNDLER_LIST_df.head()"
      ],
      "outputs": [
        {
          "output_type": "execute_result",
          "execution_count": 8,
          "data": {
            "text/plain": "                  EDW_CUSTOMER_NAME  Distinct count of CUSTOMER_ACCOUNT_ID\n0  AUTOMOTIVE RESOURCES INTL HYBRID                                      6\n1       EXXONMOBIL PL CONVERSION L1                                   1631\n2       WEX FLEET UNIVERSAL PRIMARY                                  77923\n3      SHELL SMALL BUSINESS PRIMARY                                  70865\n4          SHELL FLEET PLUS PRIMARY                                  44536",
            "text/html": "\u003cdiv\u003e\n\u003cstyle scoped\u003e\n    .dataframe tbody tr th:only-of-type {\n        vertical-align: middle;\n    }\n\n    .dataframe tbody tr th {\n        vertical-align: top;\n    }\n\n    .dataframe thead th {\n        text-align: right;\n    }\n\u003c/style\u003e\n\u003ctable border\u003d\"1\" class\u003d\"dataframe\"\u003e\n  \u003cthead\u003e\n    \u003ctr style\u003d\"text-align: right;\"\u003e\n      \u003cth\u003e\u003c/th\u003e\n      \u003cth\u003eEDW_CUSTOMER_NAME\u003c/th\u003e\n      \u003cth\u003eDistinct count of CUSTOMER_ACCOUNT_ID\u003c/th\u003e\n    \u003c/tr\u003e\n  \u003c/thead\u003e\n  \u003ctbody\u003e\n    \u003ctr\u003e\n      \u003cth\u003e0\u003c/th\u003e\n      \u003ctd\u003eAUTOMOTIVE RESOURCES INTL HYBRID\u003c/td\u003e\n      \u003ctd\u003e6\u003c/td\u003e\n    \u003c/tr\u003e\n    \u003ctr\u003e\n      \u003cth\u003e1\u003c/th\u003e\n      \u003ctd\u003eEXXONMOBIL PL CONVERSION L1\u003c/td\u003e\n      \u003ctd\u003e1631\u003c/td\u003e\n    \u003c/tr\u003e\n    \u003ctr\u003e\n      \u003cth\u003e2\u003c/th\u003e\n      \u003ctd\u003eWEX FLEET UNIVERSAL PRIMARY\u003c/td\u003e\n      \u003ctd\u003e77923\u003c/td\u003e\n    \u003c/tr\u003e\n    \u003ctr\u003e\n      \u003cth\u003e3\u003c/th\u003e\n      \u003ctd\u003eSHELL SMALL BUSINESS PRIMARY\u003c/td\u003e\n      \u003ctd\u003e70865\u003c/td\u003e\n    \u003c/tr\u003e\n    \u003ctr\u003e\n      \u003cth\u003e4\u003c/th\u003e\n      \u003ctd\u003eSHELL FLEET PLUS PRIMARY\u003c/td\u003e\n      \u003ctd\u003e44536\u003c/td\u003e\n    \u003c/tr\u003e\n  \u003c/tbody\u003e\n\u003c/table\u003e\n\u003c/div\u003e"
          },
          "metadata": {}
        }
      ]
    },
    {
      "execution_count": 11,
      "cell_type": "code",
      "metadata": {},
      "source": [
        "NAFCUSTOMER_RDW_CONVERSIONS_df.head()\nNAFCUSTOMER_RDW_CONVERSIONS_df.STATUS_DATE.min()"
      ],
      "outputs": [
        {
          "output_type": "execute_result",
          "execution_count": 11,
          "data": {
            "text/plain": "\u00271901-01-01 00:00:00.000\u0027"
          },
          "metadata": {}
        }
      ]
    },
    {
      "execution_count": 10,
      "cell_type": "code",
      "metadata": {},
      "source": [
        "NAFCUSTOMER_ACCOUNT_ACTIVE_CARDS_BY_QUARTER_df.head()"
      ],
      "outputs": [
        {
          "output_type": "execute_result",
          "execution_count": 10,
          "data": {
            "text/plain": "   CUSTOMER_ACCOUNT_ID           CUSTOMER_ACCOUNT_NAME                   CUSTOMER_NAME       ACCOUNT_SINCE_DATE CUSTOMER_SOURCE_SYSTEM_CODE        ACCOUNT_OPEN_DATE      ACCOUNT_CLOSED_DATE ATTRITION_TYPE_NAME ATTRITION_REASON_CODE ATTRITION_REASON_DESC  YEAR_NUMBER  QUARTER_NUMBER  ACTIVE_CARD_COUNT\n0         9.100004e+12               Carolina Air Care     WEX Fleet Universal Primary  2017-04-27 00:00:00.000                      SIEBEL  2017-04-27 00:00:00.000  9999-12-31 00:00:00.000             Unknown                  Unkn               Unknown         2017               4                 15\n1         4.170082e+11  U S D 315 COLBY PUBLIC SCHOOLS  U S D 315 COLBY PUBLIC SCHOOLS  2010-05-14 00:00:00.000                      TANDEM  2010-05-14 00:00:00.000  2022-09-10 00:00:00.000     NNCL Conversion                    04    Account Conversion         2018               2                 14\n2         4.300042e+11      EASTER SEALS NEW HAMPSHIRE      EASTER SEALS NEW HAMPSHIRE  2000-08-02 00:00:00.000                      TANDEM  2000-08-02 00:00:00.000  2022-09-17 00:00:00.000     NNCL Conversion                    04    Account Conversion         2019               4                121\n3         9.100005e+12           11300 Grant County WA                  AMR HoldCo Inc  2018-02-14 00:00:00.000                      SIEBEL  2018-02-14 00:00:00.000  9999-12-31 00:00:00.000             Unknown                  Unkn               Unknown         2019               4                 11\n4         4.440076e+11             MARTIN CHRYSLER LLC             MARTIN CHRYSLER LLC  2007-12-04 00:00:00.000                      TANDEM  2007-12-04 00:00:00.000  2022-04-19 00:00:00.000     NNCL Conversion                    04    Account Conversion         2019               2                  9",
            "text/html": "\u003cdiv\u003e\n\u003cstyle scoped\u003e\n    .dataframe tbody tr th:only-of-type {\n        vertical-align: middle;\n    }\n\n    .dataframe tbody tr th {\n        vertical-align: top;\n    }\n\n    .dataframe thead th {\n        text-align: right;\n    }\n\u003c/style\u003e\n\u003ctable border\u003d\"1\" class\u003d\"dataframe\"\u003e\n  \u003cthead\u003e\n    \u003ctr style\u003d\"text-align: right;\"\u003e\n      \u003cth\u003e\u003c/th\u003e\n      \u003cth\u003eCUSTOMER_ACCOUNT_ID\u003c/th\u003e\n      \u003cth\u003eCUSTOMER_ACCOUNT_NAME\u003c/th\u003e\n      \u003cth\u003eCUSTOMER_NAME\u003c/th\u003e\n      \u003cth\u003eACCOUNT_SINCE_DATE\u003c/th\u003e\n      \u003cth\u003eCUSTOMER_SOURCE_SYSTEM_CODE\u003c/th\u003e\n      \u003cth\u003eACCOUNT_OPEN_DATE\u003c/th\u003e\n      \u003cth\u003eACCOUNT_CLOSED_DATE\u003c/th\u003e\n      \u003cth\u003eATTRITION_TYPE_NAME\u003c/th\u003e\n      \u003cth\u003eATTRITION_REASON_CODE\u003c/th\u003e\n      \u003cth\u003eATTRITION_REASON_DESC\u003c/th\u003e\n      \u003cth\u003eYEAR_NUMBER\u003c/th\u003e\n      \u003cth\u003eQUARTER_NUMBER\u003c/th\u003e\n      \u003cth\u003eACTIVE_CARD_COUNT\u003c/th\u003e\n    \u003c/tr\u003e\n  \u003c/thead\u003e\n  \u003ctbody\u003e\n    \u003ctr\u003e\n      \u003cth\u003e0\u003c/th\u003e\n      \u003ctd\u003e9.100004e+12\u003c/td\u003e\n      \u003ctd\u003eCarolina Air Care\u003c/td\u003e\n      \u003ctd\u003eWEX Fleet Universal Primary\u003c/td\u003e\n      \u003ctd\u003e2017-04-27 00:00:00.000\u003c/td\u003e\n      \u003ctd\u003eSIEBEL\u003c/td\u003e\n      \u003ctd\u003e2017-04-27 00:00:00.000\u003c/td\u003e\n      \u003ctd\u003e9999-12-31 00:00:00.000\u003c/td\u003e\n      \u003ctd\u003eUnknown\u003c/td\u003e\n      \u003ctd\u003eUnkn\u003c/td\u003e\n      \u003ctd\u003eUnknown\u003c/td\u003e\n      \u003ctd\u003e2017\u003c/td\u003e\n      \u003ctd\u003e4\u003c/td\u003e\n      \u003ctd\u003e15\u003c/td\u003e\n    \u003c/tr\u003e\n    \u003ctr\u003e\n      \u003cth\u003e1\u003c/th\u003e\n      \u003ctd\u003e4.170082e+11\u003c/td\u003e\n      \u003ctd\u003eU S D 315 COLBY PUBLIC SCHOOLS\u003c/td\u003e\n      \u003ctd\u003eU S D 315 COLBY PUBLIC SCHOOLS\u003c/td\u003e\n      \u003ctd\u003e2010-05-14 00:00:00.000\u003c/td\u003e\n      \u003ctd\u003eTANDEM\u003c/td\u003e\n      \u003ctd\u003e2010-05-14 00:00:00.000\u003c/td\u003e\n      \u003ctd\u003e2022-09-10 00:00:00.000\u003c/td\u003e\n      \u003ctd\u003eNNCL Conversion\u003c/td\u003e\n      \u003ctd\u003e04\u003c/td\u003e\n      \u003ctd\u003eAccount Conversion\u003c/td\u003e\n      \u003ctd\u003e2018\u003c/td\u003e\n      \u003ctd\u003e2\u003c/td\u003e\n      \u003ctd\u003e14\u003c/td\u003e\n    \u003c/tr\u003e\n    \u003ctr\u003e\n      \u003cth\u003e2\u003c/th\u003e\n      \u003ctd\u003e4.300042e+11\u003c/td\u003e\n      \u003ctd\u003eEASTER SEALS NEW HAMPSHIRE\u003c/td\u003e\n      \u003ctd\u003eEASTER SEALS NEW HAMPSHIRE\u003c/td\u003e\n      \u003ctd\u003e2000-08-02 00:00:00.000\u003c/td\u003e\n      \u003ctd\u003eTANDEM\u003c/td\u003e\n      \u003ctd\u003e2000-08-02 00:00:00.000\u003c/td\u003e\n      \u003ctd\u003e2022-09-17 00:00:00.000\u003c/td\u003e\n      \u003ctd\u003eNNCL Conversion\u003c/td\u003e\n      \u003ctd\u003e04\u003c/td\u003e\n      \u003ctd\u003eAccount Conversion\u003c/td\u003e\n      \u003ctd\u003e2019\u003c/td\u003e\n      \u003ctd\u003e4\u003c/td\u003e\n      \u003ctd\u003e121\u003c/td\u003e\n    \u003c/tr\u003e\n    \u003ctr\u003e\n      \u003cth\u003e3\u003c/th\u003e\n      \u003ctd\u003e9.100005e+12\u003c/td\u003e\n      \u003ctd\u003e11300 Grant County WA\u003c/td\u003e\n      \u003ctd\u003eAMR HoldCo Inc\u003c/td\u003e\n      \u003ctd\u003e2018-02-14 00:00:00.000\u003c/td\u003e\n      \u003ctd\u003eSIEBEL\u003c/td\u003e\n      \u003ctd\u003e2018-02-14 00:00:00.000\u003c/td\u003e\n      \u003ctd\u003e9999-12-31 00:00:00.000\u003c/td\u003e\n      \u003ctd\u003eUnknown\u003c/td\u003e\n      \u003ctd\u003eUnkn\u003c/td\u003e\n      \u003ctd\u003eUnknown\u003c/td\u003e\n      \u003ctd\u003e2019\u003c/td\u003e\n      \u003ctd\u003e4\u003c/td\u003e\n      \u003ctd\u003e11\u003c/td\u003e\n    \u003c/tr\u003e\n    \u003ctr\u003e\n      \u003cth\u003e4\u003c/th\u003e\n      \u003ctd\u003e4.440076e+11\u003c/td\u003e\n      \u003ctd\u003eMARTIN CHRYSLER LLC\u003c/td\u003e\n      \u003ctd\u003eMARTIN CHRYSLER LLC\u003c/td\u003e\n      \u003ctd\u003e2007-12-04 00:00:00.000\u003c/td\u003e\n      \u003ctd\u003eTANDEM\u003c/td\u003e\n      \u003ctd\u003e2007-12-04 00:00:00.000\u003c/td\u003e\n      \u003ctd\u003e2022-04-19 00:00:00.000\u003c/td\u003e\n      \u003ctd\u003eNNCL Conversion\u003c/td\u003e\n      \u003ctd\u003e04\u003c/td\u003e\n      \u003ctd\u003eAccount Conversion\u003c/td\u003e\n      \u003ctd\u003e2019\u003c/td\u003e\n      \u003ctd\u003e2\u003c/td\u003e\n      \u003ctd\u003e9\u003c/td\u003e\n    \u003c/tr\u003e\n  \u003c/tbody\u003e\n\u003c/table\u003e\n\u003c/div\u003e"
          },
          "metadata": {}
        }
      ]
    },
    {
      "execution_count": 0,
      "cell_type": "code",
      "metadata": {},
      "source": [
        "# Write recipe outputs\n#NAFCUSTOMER_LONG_HISTORY_MATCHES \u003d dataiku.Dataset(\"NAFCUSTOMER_LONG_HISTORY_MATCHES\")\n#NAFCUSTOMER_LONG_HISTORY_MATCHES.write_with_schema(NAFCUSTOMER_LONG_HISTORY_MATCHES_df)"
      ],
      "outputs": []
    }
  ]
}