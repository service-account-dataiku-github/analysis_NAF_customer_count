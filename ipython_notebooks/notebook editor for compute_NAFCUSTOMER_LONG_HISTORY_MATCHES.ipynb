{
  "metadata": {
    "kernelspec": {
      "name": "py-dku-venv-env_clc",
      "display_name": "Python (env env_clc)",
      "language": "python"
    },
    "associatedRecipe": "compute_NAFCUSTOMER_LONG_HISTORY_MATCHES",
    "dkuGit": {
      "lastInteraction": 0
    },
    "creationTag": {
      "versionNumber": 0,
      "lastModifiedBy": {
        "login": "Daniel.Vandermeer"
      },
      "lastModifiedOn": 1675368834596
    },
    "creator": "Daniel.Vandermeer",
    "createdOn": 1675368834596,
    "tags": [
      "recipe-editor"
    ],
    "customFields": {},
    "hide_input": false,
    "language_info": {
      "name": "python",
      "version": "3.6.8",
      "mimetype": "text/x-python",
      "codemirror_mode": {
        "name": "ipython",
        "version": 3
      },
      "pygments_lexer": "ipython3",
      "nbconvert_exporter": "python",
      "file_extension": ".py"
    },
    "modifiedBy": "Daniel.Vandermeer"
  },
  "nbformat": 4,
  "nbformat_minor": 1,
  "cells": [
    {
      "execution_count": 83,
      "cell_type": "code",
      "metadata": {},
      "source": [
        "# -*- coding: utf-8 -*-\nimport dataiku\nimport pandas as pd, numpy as np\nfrom dataiku import pandasutils as pdu\n\nACCOUNT_BUNDLER_LIST \u003d dataiku.Dataset(\"ACCOUNT_BUNDLER_LIST\")\nACCOUNT_BUNDLER_LIST_df \u003d ACCOUNT_BUNDLER_LIST.get_dataframe()\nprint(\"Account Bundlers:\", len(ACCOUNT_BUNDLER_LIST_df))\n\n#NAFCUSTOMER_RDW_CONVERSIONS \u003d dataiku.Dataset(\"NAFCUSTOMER_RDW_CONVERSIONS\")\n#NAFCUSTOMER_RDW_CONVERSIONS_df \u003d NAFCUSTOMER_RDW_CONVERSIONS.get_dataframe()\n#print(len(NAFCUSTOMER_RDW_CONVERSIONS_df))\n\n# Read recipe inputs\nNAFCUSTOMER_ACCOUNT_ACTIVE_CARDS_BY_QUARTER \u003d dataiku.Dataset(\"NAFCUSTOMER_ACCOUNT_ACTIVE_CARDS_BY_QUARTER\")\nNAFCUSTOMER_ACCOUNT_ACTIVE_CARDS_BY_QUARTER_df \u003d NAFCUSTOMER_ACCOUNT_ACTIVE_CARDS_BY_QUARTER.get_dataframe()\nprint(len(NAFCUSTOMER_ACCOUNT_ACTIVE_CARDS_BY_QUARTER_df))\n\nprint(NAFCUSTOMER_ACCOUNT_ACTIVE_CARDS_BY_QUARTER_df.YEAR_NUMBER.min())\n\nprint(\"Min Year:\", NAFCUSTOMER_ACCOUNT_ACTIVE_CARDS_BY_QUARTER_df.YEAR_NUMBER.min())\nprint(\"Max Year:\", NAFCUSTOMER_ACCOUNT_ACTIVE_CARDS_BY_QUARTER_df.YEAR_NUMBER.max())"
      ],
      "outputs": [
        {
          "output_type": "stream",
          "text": "Account Bundlers: 274\n5505636\n2008\nMin Year: 2008\nMax Year: 2013\n",
          "name": "stdout"
        }
      ]
    },
    {
      "execution_count": 84,
      "cell_type": "code",
      "metadata": {},
      "source": [
        "NAFCUSTOMER_ACCOUNT_ACTIVE_CARDS_BY_QUARTER_df.head()"
      ],
      "outputs": [
        {
          "output_type": "execute_result",
          "execution_count": 84,
          "data": {
            "text/plain": "   CUSTOMER_ACCOUNT_ID          CUSTOMER_ACCOUNT_NAME                  CUSTOMER_NAME       ACCOUNT_SINCE_DATE CUSTOMER_SOURCE_SYSTEM_CODE        ACCOUNT_OPEN_DATE      ACCOUNT_CLOSED_DATE ATTRITION_TYPE_NAME ATTRITION_REASON_CODE               ATTRITION_REASON_DESC  YEAR_NUMBER  QUARTER_NUMBER  ACTIVE_CARD_COUNT\n0         6.300018e+12         C\u0026C COMMUNICATIONS INC         C\u0026C COMMUNICATIONS INC  2008-09-23 00:00:00.000                      TANDEM  2008-09-23 00:00:00.000  2010-01-22 00:00:00.000         Involuntary                    12                     Business Closed         2009               2                  2\n1         4.670050e+11              TW TELECOM (5T71)              TW TELECOM (5T71)  2000-12-06 00:00:00.000                      TANDEM  2000-12-06 00:00:00.000  2009-06-12 00:00:00.000           Voluntary                    07        To Competitor-Reason Unknown         2009               2                569\n2         4.080070e+11      NIXON UNIFORM SERVICE INC      NIXON UNIFORM SERVICE INC  2006-03-13 00:00:00.000                      TANDEM  2006-03-13 00:00:00.000  2014-03-20 00:00:00.000         Involuntary                    51  Closed by Marketer-Non-use \u0026 Other         2009               1                 81\n3         6.300015e+12  ENT ELECTRICIENS SIMPKIN LTEE  ENT ELECTRICIENS SIMPKIN LTEE  1968-09-01 00:00:00.000                      TANDEM  1968-09-01 00:00:00.000  2022-10-21 00:00:00.000     NNCL Conversion                    04                  Account Conversion         2009               1                  3\n4         4.690045e+11                      YUM  INC.                      YUM  INC.  2001-05-24 00:00:00.000                      TANDEM  2001-05-24 00:00:00.000  2021-06-02 00:00:00.000     NNCL Conversion                    04                  Account Conversion         2009               1                883",
            "text/html": "\u003cdiv\u003e\n\u003cstyle scoped\u003e\n    .dataframe tbody tr th:only-of-type {\n        vertical-align: middle;\n    }\n\n    .dataframe tbody tr th {\n        vertical-align: top;\n    }\n\n    .dataframe thead th {\n        text-align: right;\n    }\n\u003c/style\u003e\n\u003ctable border\u003d\"1\" class\u003d\"dataframe\"\u003e\n  \u003cthead\u003e\n    \u003ctr style\u003d\"text-align: right;\"\u003e\n      \u003cth\u003e\u003c/th\u003e\n      \u003cth\u003eCUSTOMER_ACCOUNT_ID\u003c/th\u003e\n      \u003cth\u003eCUSTOMER_ACCOUNT_NAME\u003c/th\u003e\n      \u003cth\u003eCUSTOMER_NAME\u003c/th\u003e\n      \u003cth\u003eACCOUNT_SINCE_DATE\u003c/th\u003e\n      \u003cth\u003eCUSTOMER_SOURCE_SYSTEM_CODE\u003c/th\u003e\n      \u003cth\u003eACCOUNT_OPEN_DATE\u003c/th\u003e\n      \u003cth\u003eACCOUNT_CLOSED_DATE\u003c/th\u003e\n      \u003cth\u003eATTRITION_TYPE_NAME\u003c/th\u003e\n      \u003cth\u003eATTRITION_REASON_CODE\u003c/th\u003e\n      \u003cth\u003eATTRITION_REASON_DESC\u003c/th\u003e\n      \u003cth\u003eYEAR_NUMBER\u003c/th\u003e\n      \u003cth\u003eQUARTER_NUMBER\u003c/th\u003e\n      \u003cth\u003eACTIVE_CARD_COUNT\u003c/th\u003e\n    \u003c/tr\u003e\n  \u003c/thead\u003e\n  \u003ctbody\u003e\n    \u003ctr\u003e\n      \u003cth\u003e0\u003c/th\u003e\n      \u003ctd\u003e6.300018e+12\u003c/td\u003e\n      \u003ctd\u003eC\u0026amp;C COMMUNICATIONS INC\u003c/td\u003e\n      \u003ctd\u003eC\u0026amp;C COMMUNICATIONS INC\u003c/td\u003e\n      \u003ctd\u003e2008-09-23 00:00:00.000\u003c/td\u003e\n      \u003ctd\u003eTANDEM\u003c/td\u003e\n      \u003ctd\u003e2008-09-23 00:00:00.000\u003c/td\u003e\n      \u003ctd\u003e2010-01-22 00:00:00.000\u003c/td\u003e\n      \u003ctd\u003eInvoluntary\u003c/td\u003e\n      \u003ctd\u003e12\u003c/td\u003e\n      \u003ctd\u003eBusiness Closed\u003c/td\u003e\n      \u003ctd\u003e2009\u003c/td\u003e\n      \u003ctd\u003e2\u003c/td\u003e\n      \u003ctd\u003e2\u003c/td\u003e\n    \u003c/tr\u003e\n    \u003ctr\u003e\n      \u003cth\u003e1\u003c/th\u003e\n      \u003ctd\u003e4.670050e+11\u003c/td\u003e\n      \u003ctd\u003eTW TELECOM (5T71)\u003c/td\u003e\n      \u003ctd\u003eTW TELECOM (5T71)\u003c/td\u003e\n      \u003ctd\u003e2000-12-06 00:00:00.000\u003c/td\u003e\n      \u003ctd\u003eTANDEM\u003c/td\u003e\n      \u003ctd\u003e2000-12-06 00:00:00.000\u003c/td\u003e\n      \u003ctd\u003e2009-06-12 00:00:00.000\u003c/td\u003e\n      \u003ctd\u003eVoluntary\u003c/td\u003e\n      \u003ctd\u003e07\u003c/td\u003e\n      \u003ctd\u003eTo Competitor-Reason Unknown\u003c/td\u003e\n      \u003ctd\u003e2009\u003c/td\u003e\n      \u003ctd\u003e2\u003c/td\u003e\n      \u003ctd\u003e569\u003c/td\u003e\n    \u003c/tr\u003e\n    \u003ctr\u003e\n      \u003cth\u003e2\u003c/th\u003e\n      \u003ctd\u003e4.080070e+11\u003c/td\u003e\n      \u003ctd\u003eNIXON UNIFORM SERVICE INC\u003c/td\u003e\n      \u003ctd\u003eNIXON UNIFORM SERVICE INC\u003c/td\u003e\n      \u003ctd\u003e2006-03-13 00:00:00.000\u003c/td\u003e\n      \u003ctd\u003eTANDEM\u003c/td\u003e\n      \u003ctd\u003e2006-03-13 00:00:00.000\u003c/td\u003e\n      \u003ctd\u003e2014-03-20 00:00:00.000\u003c/td\u003e\n      \u003ctd\u003eInvoluntary\u003c/td\u003e\n      \u003ctd\u003e51\u003c/td\u003e\n      \u003ctd\u003eClosed by Marketer-Non-use \u0026amp; Other\u003c/td\u003e\n      \u003ctd\u003e2009\u003c/td\u003e\n      \u003ctd\u003e1\u003c/td\u003e\n      \u003ctd\u003e81\u003c/td\u003e\n    \u003c/tr\u003e\n    \u003ctr\u003e\n      \u003cth\u003e3\u003c/th\u003e\n      \u003ctd\u003e6.300015e+12\u003c/td\u003e\n      \u003ctd\u003eENT ELECTRICIENS SIMPKIN LTEE\u003c/td\u003e\n      \u003ctd\u003eENT ELECTRICIENS SIMPKIN LTEE\u003c/td\u003e\n      \u003ctd\u003e1968-09-01 00:00:00.000\u003c/td\u003e\n      \u003ctd\u003eTANDEM\u003c/td\u003e\n      \u003ctd\u003e1968-09-01 00:00:00.000\u003c/td\u003e\n      \u003ctd\u003e2022-10-21 00:00:00.000\u003c/td\u003e\n      \u003ctd\u003eNNCL Conversion\u003c/td\u003e\n      \u003ctd\u003e04\u003c/td\u003e\n      \u003ctd\u003eAccount Conversion\u003c/td\u003e\n      \u003ctd\u003e2009\u003c/td\u003e\n      \u003ctd\u003e1\u003c/td\u003e\n      \u003ctd\u003e3\u003c/td\u003e\n    \u003c/tr\u003e\n    \u003ctr\u003e\n      \u003cth\u003e4\u003c/th\u003e\n      \u003ctd\u003e4.690045e+11\u003c/td\u003e\n      \u003ctd\u003eYUM  INC.\u003c/td\u003e\n      \u003ctd\u003eYUM  INC.\u003c/td\u003e\n      \u003ctd\u003e2001-05-24 00:00:00.000\u003c/td\u003e\n      \u003ctd\u003eTANDEM\u003c/td\u003e\n      \u003ctd\u003e2001-05-24 00:00:00.000\u003c/td\u003e\n      \u003ctd\u003e2021-06-02 00:00:00.000\u003c/td\u003e\n      \u003ctd\u003eNNCL Conversion\u003c/td\u003e\n      \u003ctd\u003e04\u003c/td\u003e\n      \u003ctd\u003eAccount Conversion\u003c/td\u003e\n      \u003ctd\u003e2009\u003c/td\u003e\n      \u003ctd\u003e1\u003c/td\u003e\n      \u003ctd\u003e883\u003c/td\u003e\n    \u003c/tr\u003e\n  \u003c/tbody\u003e\n\u003c/table\u003e\n\u003c/div\u003e"
          },
          "metadata": {}
        }
      ]
    },
    {
      "execution_count": 85,
      "cell_type": "code",
      "metadata": {},
      "source": [
        "df_a \u003d NAFCUSTOMER_ACCOUNT_ACTIVE_CARDS_BY_QUARTER_df\n\ndf_a.columns \u003d [\u0027CUSTOMER_ACCOUNT_ID\u0027,\u0027CUSTOMER_ACCOUNT_NAME\u0027,\u0027EDW_CUSTOMER_NAME\u0027,\u0027ACCOUNT_SINCE_DATE\u0027,\u0027CUSTOMER_SOURCE_SYSTEM_CODE\u0027,\u0027ACCOUNT_OPEN_DATE\u0027,\u0027ACCOUNT_CLOSED_DATE\u0027,\u0027ATTRITION_TYPE_NAME\u0027,\u0027ATTRITION_REASON_CODE\u0027,\u0027ATTRITION_REASON_DESC\u0027,\u0027YEAR_NUMBER\u0027,\u0027QUARTER_NUMBER\u0027,\u0027ACTIVE_CARD_COUNT\u0027]\n\ndf_a[\u0027CUSTOMER_ACCOUNT_ID\u0027] \u003d df_a[\u0027CUSTOMER_ACCOUNT_ID\u0027].astype(\u0027Int64\u0027, errors\u003d\u0027ignore\u0027)\ndf_a[\u0027CUSTOMER_ACCOUNT_NAME\u0027] \u003d df_a[\u0027CUSTOMER_ACCOUNT_NAME\u0027].str.upper()\ndf_a[\u0027EDW_CUSTOMER_NAME\u0027] \u003d df_a[\u0027EDW_CUSTOMER_NAME\u0027].str.upper()\n\nACCOUNT_BUNDLER_LIST_df[\u0027IS_BUNDLER\u0027] \u003d True\nACCOUNT_BUNDLER_LIST_df \u003d ACCOUNT_BUNDLER_LIST_df[[\u0027EDW_CUSTOMER_NAME\u0027,\u0027IS_BUNDLER\u0027]]\nACCOUNT_BUNDLER_LIST_df.head()\n\ndf \u003d pd.merge(df_a,ACCOUNT_BUNDLER_LIST_df, how\u003d\u0027left\u0027, on\u003d\u0027EDW_CUSTOMER_NAME\u0027)\ndf.loc[df[\"IS_BUNDLER\"].isnull(),\u0027IS_BUNDLER\u0027] \u003d False\ndf.head()"
      ],
      "outputs": [
        {
          "output_type": "execute_result",
          "execution_count": 85,
          "data": {
            "text/plain": "   CUSTOMER_ACCOUNT_ID          CUSTOMER_ACCOUNT_NAME              EDW_CUSTOMER_NAME       ACCOUNT_SINCE_DATE CUSTOMER_SOURCE_SYSTEM_CODE        ACCOUNT_OPEN_DATE      ACCOUNT_CLOSED_DATE ATTRITION_TYPE_NAME ATTRITION_REASON_CODE               ATTRITION_REASON_DESC  YEAR_NUMBER  QUARTER_NUMBER  ACTIVE_CARD_COUNT IS_BUNDLER\n0        6300017866403         C\u0026C COMMUNICATIONS INC         C\u0026C COMMUNICATIONS INC  2008-09-23 00:00:00.000                      TANDEM  2008-09-23 00:00:00.000  2010-01-22 00:00:00.000         Involuntary                    12                     Business Closed         2009               2                  2      False\n1         467005020714              TW TELECOM (5T71)              TW TELECOM (5T71)  2000-12-06 00:00:00.000                      TANDEM  2000-12-06 00:00:00.000  2009-06-12 00:00:00.000           Voluntary                    07        To Competitor-Reason Unknown         2009               2                569      False\n2         408006989214      NIXON UNIFORM SERVICE INC      NIXON UNIFORM SERVICE INC  2006-03-13 00:00:00.000                      TANDEM  2006-03-13 00:00:00.000  2014-03-20 00:00:00.000         Involuntary                    51  Closed by Marketer-Non-use \u0026 Other         2009               1                 81      False\n3        6300015462692  ENT ELECTRICIENS SIMPKIN LTEE  ENT ELECTRICIENS SIMPKIN LTEE  1968-09-01 00:00:00.000                      TANDEM  1968-09-01 00:00:00.000  2022-10-21 00:00:00.000     NNCL Conversion                    04                  Account Conversion         2009               1                  3      False\n4         469004490744                      YUM  INC.                      YUM  INC.  2001-05-24 00:00:00.000                      TANDEM  2001-05-24 00:00:00.000  2021-06-02 00:00:00.000     NNCL Conversion                    04                  Account Conversion         2009               1                883      False",
            "text/html": "\u003cdiv\u003e\n\u003cstyle scoped\u003e\n    .dataframe tbody tr th:only-of-type {\n        vertical-align: middle;\n    }\n\n    .dataframe tbody tr th {\n        vertical-align: top;\n    }\n\n    .dataframe thead th {\n        text-align: right;\n    }\n\u003c/style\u003e\n\u003ctable border\u003d\"1\" class\u003d\"dataframe\"\u003e\n  \u003cthead\u003e\n    \u003ctr style\u003d\"text-align: right;\"\u003e\n      \u003cth\u003e\u003c/th\u003e\n      \u003cth\u003eCUSTOMER_ACCOUNT_ID\u003c/th\u003e\n      \u003cth\u003eCUSTOMER_ACCOUNT_NAME\u003c/th\u003e\n      \u003cth\u003eEDW_CUSTOMER_NAME\u003c/th\u003e\n      \u003cth\u003eACCOUNT_SINCE_DATE\u003c/th\u003e\n      \u003cth\u003eCUSTOMER_SOURCE_SYSTEM_CODE\u003c/th\u003e\n      \u003cth\u003eACCOUNT_OPEN_DATE\u003c/th\u003e\n      \u003cth\u003eACCOUNT_CLOSED_DATE\u003c/th\u003e\n      \u003cth\u003eATTRITION_TYPE_NAME\u003c/th\u003e\n      \u003cth\u003eATTRITION_REASON_CODE\u003c/th\u003e\n      \u003cth\u003eATTRITION_REASON_DESC\u003c/th\u003e\n      \u003cth\u003eYEAR_NUMBER\u003c/th\u003e\n      \u003cth\u003eQUARTER_NUMBER\u003c/th\u003e\n      \u003cth\u003eACTIVE_CARD_COUNT\u003c/th\u003e\n      \u003cth\u003eIS_BUNDLER\u003c/th\u003e\n    \u003c/tr\u003e\n  \u003c/thead\u003e\n  \u003ctbody\u003e\n    \u003ctr\u003e\n      \u003cth\u003e0\u003c/th\u003e\n      \u003ctd\u003e6300017866403\u003c/td\u003e\n      \u003ctd\u003eC\u0026amp;C COMMUNICATIONS INC\u003c/td\u003e\n      \u003ctd\u003eC\u0026amp;C COMMUNICATIONS INC\u003c/td\u003e\n      \u003ctd\u003e2008-09-23 00:00:00.000\u003c/td\u003e\n      \u003ctd\u003eTANDEM\u003c/td\u003e\n      \u003ctd\u003e2008-09-23 00:00:00.000\u003c/td\u003e\n      \u003ctd\u003e2010-01-22 00:00:00.000\u003c/td\u003e\n      \u003ctd\u003eInvoluntary\u003c/td\u003e\n      \u003ctd\u003e12\u003c/td\u003e\n      \u003ctd\u003eBusiness Closed\u003c/td\u003e\n      \u003ctd\u003e2009\u003c/td\u003e\n      \u003ctd\u003e2\u003c/td\u003e\n      \u003ctd\u003e2\u003c/td\u003e\n      \u003ctd\u003eFalse\u003c/td\u003e\n    \u003c/tr\u003e\n    \u003ctr\u003e\n      \u003cth\u003e1\u003c/th\u003e\n      \u003ctd\u003e467005020714\u003c/td\u003e\n      \u003ctd\u003eTW TELECOM (5T71)\u003c/td\u003e\n      \u003ctd\u003eTW TELECOM (5T71)\u003c/td\u003e\n      \u003ctd\u003e2000-12-06 00:00:00.000\u003c/td\u003e\n      \u003ctd\u003eTANDEM\u003c/td\u003e\n      \u003ctd\u003e2000-12-06 00:00:00.000\u003c/td\u003e\n      \u003ctd\u003e2009-06-12 00:00:00.000\u003c/td\u003e\n      \u003ctd\u003eVoluntary\u003c/td\u003e\n      \u003ctd\u003e07\u003c/td\u003e\n      \u003ctd\u003eTo Competitor-Reason Unknown\u003c/td\u003e\n      \u003ctd\u003e2009\u003c/td\u003e\n      \u003ctd\u003e2\u003c/td\u003e\n      \u003ctd\u003e569\u003c/td\u003e\n      \u003ctd\u003eFalse\u003c/td\u003e\n    \u003c/tr\u003e\n    \u003ctr\u003e\n      \u003cth\u003e2\u003c/th\u003e\n      \u003ctd\u003e408006989214\u003c/td\u003e\n      \u003ctd\u003eNIXON UNIFORM SERVICE INC\u003c/td\u003e\n      \u003ctd\u003eNIXON UNIFORM SERVICE INC\u003c/td\u003e\n      \u003ctd\u003e2006-03-13 00:00:00.000\u003c/td\u003e\n      \u003ctd\u003eTANDEM\u003c/td\u003e\n      \u003ctd\u003e2006-03-13 00:00:00.000\u003c/td\u003e\n      \u003ctd\u003e2014-03-20 00:00:00.000\u003c/td\u003e\n      \u003ctd\u003eInvoluntary\u003c/td\u003e\n      \u003ctd\u003e51\u003c/td\u003e\n      \u003ctd\u003eClosed by Marketer-Non-use \u0026amp; Other\u003c/td\u003e\n      \u003ctd\u003e2009\u003c/td\u003e\n      \u003ctd\u003e1\u003c/td\u003e\n      \u003ctd\u003e81\u003c/td\u003e\n      \u003ctd\u003eFalse\u003c/td\u003e\n    \u003c/tr\u003e\n    \u003ctr\u003e\n      \u003cth\u003e3\u003c/th\u003e\n      \u003ctd\u003e6300015462692\u003c/td\u003e\n      \u003ctd\u003eENT ELECTRICIENS SIMPKIN LTEE\u003c/td\u003e\n      \u003ctd\u003eENT ELECTRICIENS SIMPKIN LTEE\u003c/td\u003e\n      \u003ctd\u003e1968-09-01 00:00:00.000\u003c/td\u003e\n      \u003ctd\u003eTANDEM\u003c/td\u003e\n      \u003ctd\u003e1968-09-01 00:00:00.000\u003c/td\u003e\n      \u003ctd\u003e2022-10-21 00:00:00.000\u003c/td\u003e\n      \u003ctd\u003eNNCL Conversion\u003c/td\u003e\n      \u003ctd\u003e04\u003c/td\u003e\n      \u003ctd\u003eAccount Conversion\u003c/td\u003e\n      \u003ctd\u003e2009\u003c/td\u003e\n      \u003ctd\u003e1\u003c/td\u003e\n      \u003ctd\u003e3\u003c/td\u003e\n      \u003ctd\u003eFalse\u003c/td\u003e\n    \u003c/tr\u003e\n    \u003ctr\u003e\n      \u003cth\u003e4\u003c/th\u003e\n      \u003ctd\u003e469004490744\u003c/td\u003e\n      \u003ctd\u003eYUM  INC.\u003c/td\u003e\n      \u003ctd\u003eYUM  INC.\u003c/td\u003e\n      \u003ctd\u003e2001-05-24 00:00:00.000\u003c/td\u003e\n      \u003ctd\u003eTANDEM\u003c/td\u003e\n      \u003ctd\u003e2001-05-24 00:00:00.000\u003c/td\u003e\n      \u003ctd\u003e2021-06-02 00:00:00.000\u003c/td\u003e\n      \u003ctd\u003eNNCL Conversion\u003c/td\u003e\n      \u003ctd\u003e04\u003c/td\u003e\n      \u003ctd\u003eAccount Conversion\u003c/td\u003e\n      \u003ctd\u003e2009\u003c/td\u003e\n      \u003ctd\u003e1\u003c/td\u003e\n      \u003ctd\u003e883\u003c/td\u003e\n      \u003ctd\u003eFalse\u003c/td\u003e\n    \u003c/tr\u003e\n  \u003c/tbody\u003e\n\u003c/table\u003e\n\u003c/div\u003e"
          },
          "metadata": {}
        }
      ]
    },
    {
      "execution_count": 86,
      "cell_type": "code",
      "metadata": {},
      "source": [
        "df[\u0027CUSTOMER\u0027] \u003d np.nan\ndf[\u0027CUST_CALC_SOURCE\u0027] \u003d \u0027Unknown\u0027\ndf.loc[df.IS_BUNDLER,\u0027EDW_CUSTOMER_NAME\u0027] \u003d np.nan\n\ndf.loc[~df[\u0027EDW_CUSTOMER_NAME\u0027].isnull(),\u0027CUSTOMER\u0027] \u003d df[\"EDW_CUSTOMER_NAME\"]\ndf.loc[~df[\u0027EDW_CUSTOMER_NAME\u0027].isnull(),\u0027CUST_CALC_SOURCE\u0027] \u003d \u0027EDW\u0027\n\ndf.loc[df[\u0027CUSTOMER\u0027].isnull(),\u0027CUST_CALC_SOURCE\u0027] \u003d \u0027ACCOUNT\u0027\ndf.loc[df[\u0027CUSTOMER\u0027].isnull(),\u0027CUSTOMER\u0027] \u003d df.CUSTOMER_ACCOUNT_NAME\n\n\nending_tokens \u003d [\u0027 2\u0027, \u0027 3\u0027, \u0027 4\u0027, \u0027 04\u0027, \u0027 5\u0027, \u0027 6\u0027, \u0027 7\u0027, \u0027 8\u0027, \u0027 9\u0027,\u0027 (2)\u0027,\n                 \u0027 (3)\u0027,\u0027 (04)\u0027,\u0027 (4)\u0027, \u0027 (5)\u0027, \u0027 (6)\u0027, \u0027 (7)\u0027, \u0027 (8)\u0027,\n                 \u0027 (9)\u0027,\u0027 (25)\u0027,\u0027  (32)\u0027, \u0027 AD\u0027, \u0027 LD\u0027, \u0027L1\u0027]\n\ndf[\u0027CUSTOMER\u0027].str.strip()\n\nfor s in ending_tokens:\n    index_offset \u003d -1*(len(s))\n    df.loc[df[\u0027CUSTOMER\u0027].str.endswith(s, na\u003dFalse),\"CUSTOMER\"] \u003d df[\u0027CUSTOMER\u0027].str[:index_offset]"
      ],
      "outputs": []
    },
    {
      "execution_count": 87,
      "cell_type": "code",
      "metadata": {},
      "source": [
        "# Convert YEAR AND QUARTER INTO DATE REPRESENTING THE FIRST DAY OF THE QUARTER\ndf[\u0027REVENUE_DATE\u0027] \u003d ((3*df.QUARTER_NUMBER)-2).astype(str) + \"/1/\" + (df.YEAR_NUMBER).astype(str)\ndf[\u0027REVENUE_DATE\u0027] \u003d pd.to_datetime(df[\"REVENUE_DATE\"])\ndf[\u0027ACCOUNT_SINCE_DATE\u0027] \u003d pd.to_datetime(df[\u0027ACCOUNT_SINCE_DATE\u0027])\n\n#df[\u0027CUSTOMER STATE\u0027]\n#df.loc[df[\u0027CUSTOMER_ACCOUNT_NAME\u0027].str.endswith(s, na\u003dFalse),\"CUSTOMER_ACCOUNT_NAME\"] \u003d df[\u0027CUSTOMER_ACCOUNT_NAME\u0027].str[:index_offset]\n\ndf.head()"
      ],
      "outputs": [
        {
          "output_type": "execute_result",
          "execution_count": 87,
          "data": {
            "text/plain": "   CUSTOMER_ACCOUNT_ID          CUSTOMER_ACCOUNT_NAME              EDW_CUSTOMER_NAME ACCOUNT_SINCE_DATE CUSTOMER_SOURCE_SYSTEM_CODE        ACCOUNT_OPEN_DATE      ACCOUNT_CLOSED_DATE ATTRITION_TYPE_NAME ATTRITION_REASON_CODE               ATTRITION_REASON_DESC  YEAR_NUMBER  QUARTER_NUMBER  ACTIVE_CARD_COUNT IS_BUNDLER                       CUSTOMER CUST_CALC_SOURCE REVENUE_DATE\n0        6300017866403         C\u0026C COMMUNICATIONS INC         C\u0026C COMMUNICATIONS INC         2008-09-23                      TANDEM  2008-09-23 00:00:00.000  2010-01-22 00:00:00.000         Involuntary                    12                     Business Closed         2009               2                  2      False         C\u0026C COMMUNICATIONS INC              EDW   2009-04-01\n1         467005020714              TW TELECOM (5T71)              TW TELECOM (5T71)         2000-12-06                      TANDEM  2000-12-06 00:00:00.000  2009-06-12 00:00:00.000           Voluntary                    07        To Competitor-Reason Unknown         2009               2                569      False              TW TELECOM (5T71)              EDW   2009-04-01\n2         408006989214      NIXON UNIFORM SERVICE INC      NIXON UNIFORM SERVICE INC         2006-03-13                      TANDEM  2006-03-13 00:00:00.000  2014-03-20 00:00:00.000         Involuntary                    51  Closed by Marketer-Non-use \u0026 Other         2009               1                 81      False      NIXON UNIFORM SERVICE INC              EDW   2009-01-01\n3        6300015462692  ENT ELECTRICIENS SIMPKIN LTEE  ENT ELECTRICIENS SIMPKIN LTEE         1968-09-01                      TANDEM  1968-09-01 00:00:00.000  2022-10-21 00:00:00.000     NNCL Conversion                    04                  Account Conversion         2009               1                  3      False  ENT ELECTRICIENS SIMPKIN LTEE              EDW   2009-01-01\n4         469004490744                      YUM  INC.                      YUM  INC.         2001-05-24                      TANDEM  2001-05-24 00:00:00.000  2021-06-02 00:00:00.000     NNCL Conversion                    04                  Account Conversion         2009               1                883      False                      YUM  INC.              EDW   2009-01-01",
            "text/html": "\u003cdiv\u003e\n\u003cstyle scoped\u003e\n    .dataframe tbody tr th:only-of-type {\n        vertical-align: middle;\n    }\n\n    .dataframe tbody tr th {\n        vertical-align: top;\n    }\n\n    .dataframe thead th {\n        text-align: right;\n    }\n\u003c/style\u003e\n\u003ctable border\u003d\"1\" class\u003d\"dataframe\"\u003e\n  \u003cthead\u003e\n    \u003ctr style\u003d\"text-align: right;\"\u003e\n      \u003cth\u003e\u003c/th\u003e\n      \u003cth\u003eCUSTOMER_ACCOUNT_ID\u003c/th\u003e\n      \u003cth\u003eCUSTOMER_ACCOUNT_NAME\u003c/th\u003e\n      \u003cth\u003eEDW_CUSTOMER_NAME\u003c/th\u003e\n      \u003cth\u003eACCOUNT_SINCE_DATE\u003c/th\u003e\n      \u003cth\u003eCUSTOMER_SOURCE_SYSTEM_CODE\u003c/th\u003e\n      \u003cth\u003eACCOUNT_OPEN_DATE\u003c/th\u003e\n      \u003cth\u003eACCOUNT_CLOSED_DATE\u003c/th\u003e\n      \u003cth\u003eATTRITION_TYPE_NAME\u003c/th\u003e\n      \u003cth\u003eATTRITION_REASON_CODE\u003c/th\u003e\n      \u003cth\u003eATTRITION_REASON_DESC\u003c/th\u003e\n      \u003cth\u003eYEAR_NUMBER\u003c/th\u003e\n      \u003cth\u003eQUARTER_NUMBER\u003c/th\u003e\n      \u003cth\u003eACTIVE_CARD_COUNT\u003c/th\u003e\n      \u003cth\u003eIS_BUNDLER\u003c/th\u003e\n      \u003cth\u003eCUSTOMER\u003c/th\u003e\n      \u003cth\u003eCUST_CALC_SOURCE\u003c/th\u003e\n      \u003cth\u003eREVENUE_DATE\u003c/th\u003e\n    \u003c/tr\u003e\n  \u003c/thead\u003e\n  \u003ctbody\u003e\n    \u003ctr\u003e\n      \u003cth\u003e0\u003c/th\u003e\n      \u003ctd\u003e6300017866403\u003c/td\u003e\n      \u003ctd\u003eC\u0026amp;C COMMUNICATIONS INC\u003c/td\u003e\n      \u003ctd\u003eC\u0026amp;C COMMUNICATIONS INC\u003c/td\u003e\n      \u003ctd\u003e2008-09-23\u003c/td\u003e\n      \u003ctd\u003eTANDEM\u003c/td\u003e\n      \u003ctd\u003e2008-09-23 00:00:00.000\u003c/td\u003e\n      \u003ctd\u003e2010-01-22 00:00:00.000\u003c/td\u003e\n      \u003ctd\u003eInvoluntary\u003c/td\u003e\n      \u003ctd\u003e12\u003c/td\u003e\n      \u003ctd\u003eBusiness Closed\u003c/td\u003e\n      \u003ctd\u003e2009\u003c/td\u003e\n      \u003ctd\u003e2\u003c/td\u003e\n      \u003ctd\u003e2\u003c/td\u003e\n      \u003ctd\u003eFalse\u003c/td\u003e\n      \u003ctd\u003eC\u0026amp;C COMMUNICATIONS INC\u003c/td\u003e\n      \u003ctd\u003eEDW\u003c/td\u003e\n      \u003ctd\u003e2009-04-01\u003c/td\u003e\n    \u003c/tr\u003e\n    \u003ctr\u003e\n      \u003cth\u003e1\u003c/th\u003e\n      \u003ctd\u003e467005020714\u003c/td\u003e\n      \u003ctd\u003eTW TELECOM (5T71)\u003c/td\u003e\n      \u003ctd\u003eTW TELECOM (5T71)\u003c/td\u003e\n      \u003ctd\u003e2000-12-06\u003c/td\u003e\n      \u003ctd\u003eTANDEM\u003c/td\u003e\n      \u003ctd\u003e2000-12-06 00:00:00.000\u003c/td\u003e\n      \u003ctd\u003e2009-06-12 00:00:00.000\u003c/td\u003e\n      \u003ctd\u003eVoluntary\u003c/td\u003e\n      \u003ctd\u003e07\u003c/td\u003e\n      \u003ctd\u003eTo Competitor-Reason Unknown\u003c/td\u003e\n      \u003ctd\u003e2009\u003c/td\u003e\n      \u003ctd\u003e2\u003c/td\u003e\n      \u003ctd\u003e569\u003c/td\u003e\n      \u003ctd\u003eFalse\u003c/td\u003e\n      \u003ctd\u003eTW TELECOM (5T71)\u003c/td\u003e\n      \u003ctd\u003eEDW\u003c/td\u003e\n      \u003ctd\u003e2009-04-01\u003c/td\u003e\n    \u003c/tr\u003e\n    \u003ctr\u003e\n      \u003cth\u003e2\u003c/th\u003e\n      \u003ctd\u003e408006989214\u003c/td\u003e\n      \u003ctd\u003eNIXON UNIFORM SERVICE INC\u003c/td\u003e\n      \u003ctd\u003eNIXON UNIFORM SERVICE INC\u003c/td\u003e\n      \u003ctd\u003e2006-03-13\u003c/td\u003e\n      \u003ctd\u003eTANDEM\u003c/td\u003e\n      \u003ctd\u003e2006-03-13 00:00:00.000\u003c/td\u003e\n      \u003ctd\u003e2014-03-20 00:00:00.000\u003c/td\u003e\n      \u003ctd\u003eInvoluntary\u003c/td\u003e\n      \u003ctd\u003e51\u003c/td\u003e\n      \u003ctd\u003eClosed by Marketer-Non-use \u0026amp; Other\u003c/td\u003e\n      \u003ctd\u003e2009\u003c/td\u003e\n      \u003ctd\u003e1\u003c/td\u003e\n      \u003ctd\u003e81\u003c/td\u003e\n      \u003ctd\u003eFalse\u003c/td\u003e\n      \u003ctd\u003eNIXON UNIFORM SERVICE INC\u003c/td\u003e\n      \u003ctd\u003eEDW\u003c/td\u003e\n      \u003ctd\u003e2009-01-01\u003c/td\u003e\n    \u003c/tr\u003e\n    \u003ctr\u003e\n      \u003cth\u003e3\u003c/th\u003e\n      \u003ctd\u003e6300015462692\u003c/td\u003e\n      \u003ctd\u003eENT ELECTRICIENS SIMPKIN LTEE\u003c/td\u003e\n      \u003ctd\u003eENT ELECTRICIENS SIMPKIN LTEE\u003c/td\u003e\n      \u003ctd\u003e1968-09-01\u003c/td\u003e\n      \u003ctd\u003eTANDEM\u003c/td\u003e\n      \u003ctd\u003e1968-09-01 00:00:00.000\u003c/td\u003e\n      \u003ctd\u003e2022-10-21 00:00:00.000\u003c/td\u003e\n      \u003ctd\u003eNNCL Conversion\u003c/td\u003e\n      \u003ctd\u003e04\u003c/td\u003e\n      \u003ctd\u003eAccount Conversion\u003c/td\u003e\n      \u003ctd\u003e2009\u003c/td\u003e\n      \u003ctd\u003e1\u003c/td\u003e\n      \u003ctd\u003e3\u003c/td\u003e\n      \u003ctd\u003eFalse\u003c/td\u003e\n      \u003ctd\u003eENT ELECTRICIENS SIMPKIN LTEE\u003c/td\u003e\n      \u003ctd\u003eEDW\u003c/td\u003e\n      \u003ctd\u003e2009-01-01\u003c/td\u003e\n    \u003c/tr\u003e\n    \u003ctr\u003e\n      \u003cth\u003e4\u003c/th\u003e\n      \u003ctd\u003e469004490744\u003c/td\u003e\n      \u003ctd\u003eYUM  INC.\u003c/td\u003e\n      \u003ctd\u003eYUM  INC.\u003c/td\u003e\n      \u003ctd\u003e2001-05-24\u003c/td\u003e\n      \u003ctd\u003eTANDEM\u003c/td\u003e\n      \u003ctd\u003e2001-05-24 00:00:00.000\u003c/td\u003e\n      \u003ctd\u003e2021-06-02 00:00:00.000\u003c/td\u003e\n      \u003ctd\u003eNNCL Conversion\u003c/td\u003e\n      \u003ctd\u003e04\u003c/td\u003e\n      \u003ctd\u003eAccount Conversion\u003c/td\u003e\n      \u003ctd\u003e2009\u003c/td\u003e\n      \u003ctd\u003e1\u003c/td\u003e\n      \u003ctd\u003e883\u003c/td\u003e\n      \u003ctd\u003eFalse\u003c/td\u003e\n      \u003ctd\u003eYUM  INC.\u003c/td\u003e\n      \u003ctd\u003eEDW\u003c/td\u003e\n      \u003ctd\u003e2009-01-01\u003c/td\u003e\n    \u003c/tr\u003e\n  \u003c/tbody\u003e\n\u003c/table\u003e\n\u003c/div\u003e"
          },
          "metadata": {}
        }
      ]
    },
    {
      "execution_count": 88,
      "cell_type": "code",
      "metadata": {},
      "source": [
        "df.CUST_CALC_SOURCE.value_counts(dropna\u003dFalse)"
      ],
      "outputs": [
        {
          "output_type": "execute_result",
          "execution_count": 88,
          "data": {
            "text/plain": "EDW        5104022\nACCOUNT     401614\nName: CUST_CALC_SOURCE, dtype: int64"
          },
          "metadata": {}
        }
      ]
    },
    {
      "execution_count": 89,
      "cell_type": "code",
      "metadata": {},
      "source": [
        "df_cust_since \u003d df.groupby([\u0027CUSTOMER\u0027]).ACCOUNT_SINCE_DATE.min().reset_index()\ndf_cust_since \u003d df_cust_since.sort_values(by\u003d[\u0027CUSTOMER\u0027], ascending\u003dTrue)\ndf_cust_since.head(10)"
      ],
      "outputs": [
        {
          "output_type": "execute_result",
          "execution_count": 89,
          "data": {
            "text/plain": "                   CUSTOMER ACCOUNT_SINCE_DATE\n0          1 AUTO PARTS INC         2012-10-29\n1        D F W STONE SUPPLY         2012-06-19\n2       HISTORIC HOTELS LTD         2010-02-22\n3          K C ELECTRIC LLC         2010-12-21\n4       MBI ENERGY SERVICES         2013-04-05\n5    PRINTING SOLUTIONS INC         2011-03-25\n6                   PRO CUT         2012-03-27\n7  #1 COOLING \u0026 HEATING LLC         2012-12-21\n8        #1 FISH MARKET INC         1999-11-11\n9                 \u0027KOM LIMO         2002-09-09",
            "text/html": "\u003cdiv\u003e\n\u003cstyle scoped\u003e\n    .dataframe tbody tr th:only-of-type {\n        vertical-align: middle;\n    }\n\n    .dataframe tbody tr th {\n        vertical-align: top;\n    }\n\n    .dataframe thead th {\n        text-align: right;\n    }\n\u003c/style\u003e\n\u003ctable border\u003d\"1\" class\u003d\"dataframe\"\u003e\n  \u003cthead\u003e\n    \u003ctr style\u003d\"text-align: right;\"\u003e\n      \u003cth\u003e\u003c/th\u003e\n      \u003cth\u003eCUSTOMER\u003c/th\u003e\n      \u003cth\u003eACCOUNT_SINCE_DATE\u003c/th\u003e\n    \u003c/tr\u003e\n  \u003c/thead\u003e\n  \u003ctbody\u003e\n    \u003ctr\u003e\n      \u003cth\u003e0\u003c/th\u003e\n      \u003ctd\u003e1 AUTO PARTS INC\u003c/td\u003e\n      \u003ctd\u003e2012-10-29\u003c/td\u003e\n    \u003c/tr\u003e\n    \u003ctr\u003e\n      \u003cth\u003e1\u003c/th\u003e\n      \u003ctd\u003eD F W STONE SUPPLY\u003c/td\u003e\n      \u003ctd\u003e2012-06-19\u003c/td\u003e\n    \u003c/tr\u003e\n    \u003ctr\u003e\n      \u003cth\u003e2\u003c/th\u003e\n      \u003ctd\u003eHISTORIC HOTELS LTD\u003c/td\u003e\n      \u003ctd\u003e2010-02-22\u003c/td\u003e\n    \u003c/tr\u003e\n    \u003ctr\u003e\n      \u003cth\u003e3\u003c/th\u003e\n      \u003ctd\u003eK C ELECTRIC LLC\u003c/td\u003e\n      \u003ctd\u003e2010-12-21\u003c/td\u003e\n    \u003c/tr\u003e\n    \u003ctr\u003e\n      \u003cth\u003e4\u003c/th\u003e\n      \u003ctd\u003eMBI ENERGY SERVICES\u003c/td\u003e\n      \u003ctd\u003e2013-04-05\u003c/td\u003e\n    \u003c/tr\u003e\n    \u003ctr\u003e\n      \u003cth\u003e5\u003c/th\u003e\n      \u003ctd\u003ePRINTING SOLUTIONS INC\u003c/td\u003e\n      \u003ctd\u003e2011-03-25\u003c/td\u003e\n    \u003c/tr\u003e\n    \u003ctr\u003e\n      \u003cth\u003e6\u003c/th\u003e\n      \u003ctd\u003ePRO CUT\u003c/td\u003e\n      \u003ctd\u003e2012-03-27\u003c/td\u003e\n    \u003c/tr\u003e\n    \u003ctr\u003e\n      \u003cth\u003e7\u003c/th\u003e\n      \u003ctd\u003e#1 COOLING \u0026amp; HEATING LLC\u003c/td\u003e\n      \u003ctd\u003e2012-12-21\u003c/td\u003e\n    \u003c/tr\u003e\n    \u003ctr\u003e\n      \u003cth\u003e8\u003c/th\u003e\n      \u003ctd\u003e#1 FISH MARKET INC\u003c/td\u003e\n      \u003ctd\u003e1999-11-11\u003c/td\u003e\n    \u003c/tr\u003e\n    \u003ctr\u003e\n      \u003cth\u003e9\u003c/th\u003e\n      \u003ctd\u003e\u0027KOM LIMO\u003c/td\u003e\n      \u003ctd\u003e2002-09-09\u003c/td\u003e\n    \u003c/tr\u003e\n  \u003c/tbody\u003e\n\u003c/table\u003e\n\u003c/div\u003e"
          },
          "metadata": {}
        }
      ]
    },
    {
      "execution_count": 90,
      "cell_type": "code",
      "metadata": {},
      "source": [
        "df_cust_max_revenue \u003d df.groupby([\u0027CUSTOMER\u0027]).REVENUE_DATE.max().reset_index()\ndf_cust_max_revenue.columns \u003d [\u0027CUSTOMER\u0027,\u0027MAX_REVENUE_DATE\u0027]\ndf_cust_max_revenue \u003d df_cust_max_revenue.sort_values(by\u003d[\u0027CUSTOMER\u0027], ascending\u003dTrue)\nprint(len(df_cust_max_revenue))\ndf_cust_max_revenue \u003d df_cust_max_revenue[df_cust_max_revenue.MAX_REVENUE_DATE.dt.year\u003d\u003d2010]\nprint(len(df_cust_max_revenue))\ndf_cust_max_revenue.head()"
      ],
      "outputs": [
        {
          "output_type": "stream",
          "text": "378085\n25331\n",
          "name": "stdout"
        },
        {
          "output_type": "execute_result",
          "execution_count": 90,
          "data": {
            "text/plain": "                 CUSTOMER MAX_REVENUE_DATE\n8      #1 FISH MARKET INC       2010-10-01\n70   0189 VERIZON (PHH16)       2010-01-01\n73   0189 VERIZON (PHH20)       2010-07-01\n85    0230 ACT DORRAVILLE       2010-04-01\n119     0300 DAK AMERICAS       2010-10-01",
            "text/html": "\u003cdiv\u003e\n\u003cstyle scoped\u003e\n    .dataframe tbody tr th:only-of-type {\n        vertical-align: middle;\n    }\n\n    .dataframe tbody tr th {\n        vertical-align: top;\n    }\n\n    .dataframe thead th {\n        text-align: right;\n    }\n\u003c/style\u003e\n\u003ctable border\u003d\"1\" class\u003d\"dataframe\"\u003e\n  \u003cthead\u003e\n    \u003ctr style\u003d\"text-align: right;\"\u003e\n      \u003cth\u003e\u003c/th\u003e\n      \u003cth\u003eCUSTOMER\u003c/th\u003e\n      \u003cth\u003eMAX_REVENUE_DATE\u003c/th\u003e\n    \u003c/tr\u003e\n  \u003c/thead\u003e\n  \u003ctbody\u003e\n    \u003ctr\u003e\n      \u003cth\u003e8\u003c/th\u003e\n      \u003ctd\u003e#1 FISH MARKET INC\u003c/td\u003e\n      \u003ctd\u003e2010-10-01\u003c/td\u003e\n    \u003c/tr\u003e\n    \u003ctr\u003e\n      \u003cth\u003e70\u003c/th\u003e\n      \u003ctd\u003e0189 VERIZON (PHH16)\u003c/td\u003e\n      \u003ctd\u003e2010-01-01\u003c/td\u003e\n    \u003c/tr\u003e\n    \u003ctr\u003e\n      \u003cth\u003e73\u003c/th\u003e\n      \u003ctd\u003e0189 VERIZON (PHH20)\u003c/td\u003e\n      \u003ctd\u003e2010-07-01\u003c/td\u003e\n    \u003c/tr\u003e\n    \u003ctr\u003e\n      \u003cth\u003e85\u003c/th\u003e\n      \u003ctd\u003e0230 ACT DORRAVILLE\u003c/td\u003e\n      \u003ctd\u003e2010-04-01\u003c/td\u003e\n    \u003c/tr\u003e\n    \u003ctr\u003e\n      \u003cth\u003e119\u003c/th\u003e\n      \u003ctd\u003e0300 DAK AMERICAS\u003c/td\u003e\n      \u003ctd\u003e2010-10-01\u003c/td\u003e\n    \u003c/tr\u003e\n  \u003c/tbody\u003e\n\u003c/table\u003e\n\u003c/div\u003e"
          },
          "metadata": {}
        }
      ]
    },
    {
      "execution_count": 98,
      "cell_type": "code",
      "metadata": {},
      "source": [
        "df_cust_min_revenue \u003d df.groupby([\u0027CUSTOMER\u0027]).REVENUE_DATE.min().reset_index()\ndf_cust_min_revenue.columns \u003d [\u0027CUSTOMER\u0027,\u0027MIN_REVENUE_DATE\u0027]\ndf_cust_min_revenue \u003d df_cust_min_revenue.sort_values(by\u003d[\u0027CUSTOMER\u0027], ascending\u003dTrue)\nprint(len(df_cust_min_revenue))\ndf_cust_min_revenue \u003d df_cust_min_revenue[(df_cust_min_revenue.MIN_REVENUE_DATE.dt.year\u003e\u003d2010)\u0026(df_cust_min_revenue.MIN_REVENUE_DATE.dt.year\u003c2012)]\nprint(len(df_cust_min_revenue))"
      ],
      "outputs": [
        {
          "output_type": "stream",
          "text": "378085\n66678\n",
          "name": "stdout"
        }
      ]
    },
    {
      "execution_count": 95,
      "cell_type": "code",
      "metadata": {},
      "source": [
        "df_cust_min_revenue.MIN_REVENUE_DATE.dt.year.value_counts()"
      ],
      "outputs": [
        {
          "output_type": "execute_result",
          "execution_count": 95,
          "data": {
            "text/plain": "2008    227186\n2010     34143\n2012     33406\n2011     32535\n2009     28703\n2013     22112\nName: MIN_REVENUE_DATE, dtype: int64"
          },
          "metadata": {}
        }
      ]
    },
    {
      "execution_count": 99,
      "cell_type": "code",
      "metadata": {},
      "source": [
        "df_cust_min_revenue.head()"
      ],
      "outputs": [
        {
          "output_type": "execute_result",
          "execution_count": 99,
          "data": {
            "text/plain": "                       CUSTOMER MIN_REVENUE_DATE\n3              K C ELECTRIC LLC       2010-10-01\n5        PRINTING SOLUTIONS INC       2011-04-01\n14  0 BESO DEL SOL HOLDINGS LLC       2010-07-01\n15                0009 CTV, INC       2011-07-01\n42     0037 US CONCRETE (PHH25)       2011-01-01",
            "text/html": "\u003cdiv\u003e\n\u003cstyle scoped\u003e\n    .dataframe tbody tr th:only-of-type {\n        vertical-align: middle;\n    }\n\n    .dataframe tbody tr th {\n        vertical-align: top;\n    }\n\n    .dataframe thead th {\n        text-align: right;\n    }\n\u003c/style\u003e\n\u003ctable border\u003d\"1\" class\u003d\"dataframe\"\u003e\n  \u003cthead\u003e\n    \u003ctr style\u003d\"text-align: right;\"\u003e\n      \u003cth\u003e\u003c/th\u003e\n      \u003cth\u003eCUSTOMER\u003c/th\u003e\n      \u003cth\u003eMIN_REVENUE_DATE\u003c/th\u003e\n    \u003c/tr\u003e\n  \u003c/thead\u003e\n  \u003ctbody\u003e\n    \u003ctr\u003e\n      \u003cth\u003e3\u003c/th\u003e\n      \u003ctd\u003eK C ELECTRIC LLC\u003c/td\u003e\n      \u003ctd\u003e2010-10-01\u003c/td\u003e\n    \u003c/tr\u003e\n    \u003ctr\u003e\n      \u003cth\u003e5\u003c/th\u003e\n      \u003ctd\u003ePRINTING SOLUTIONS INC\u003c/td\u003e\n      \u003ctd\u003e2011-04-01\u003c/td\u003e\n    \u003c/tr\u003e\n    \u003ctr\u003e\n      \u003cth\u003e14\u003c/th\u003e\n      \u003ctd\u003e0 BESO DEL SOL HOLDINGS LLC\u003c/td\u003e\n      \u003ctd\u003e2010-07-01\u003c/td\u003e\n    \u003c/tr\u003e\n    \u003ctr\u003e\n      \u003cth\u003e15\u003c/th\u003e\n      \u003ctd\u003e0009 CTV, INC\u003c/td\u003e\n      \u003ctd\u003e2011-07-01\u003c/td\u003e\n    \u003c/tr\u003e\n    \u003ctr\u003e\n      \u003cth\u003e42\u003c/th\u003e\n      \u003ctd\u003e0037 US CONCRETE (PHH25)\u003c/td\u003e\n      \u003ctd\u003e2011-01-01\u003c/td\u003e\n    \u003c/tr\u003e\n  \u003c/tbody\u003e\n\u003c/table\u003e\n\u003c/div\u003e"
          },
          "metadata": {}
        }
      ]
    },
    {
      "execution_count": 100,
      "cell_type": "code",
      "metadata": {},
      "source": [
        "# Write recipe outputs\nNAFCUST_HISTORY_TENURE_2010_DORMANT \u003d dataiku.Dataset(\"NAFCUST_HISTORY_TENURE_2010_DORMANT\")\nNAFCUST_HISTORY_TENURE_2010_DORMANT.write_with_schema(df_cust_max_revenue)\n\nNAFCUST_HISTORY_TENURE_2010_2011_ORIGINATE \u003d dataiku.Dataset(\"NAFCUST_HISTORY_TENURE_2010_2011_ORIGINATE\")\nNAFCUST_HISTORY_TENURE_2010_2011_ORIGINATE.write_with_schema(df_cust_min_revenue)"
      ],
      "outputs": [
        {
          "output_type": "stream",
          "text": "25331 rows successfully written (ev8qZIbqzf)\n66678 rows successfully written (vNd2p564T9)\n",
          "name": "stdout"
        }
      ]
    },
    {
      "execution_count": 0,
      "cell_type": "code",
      "metadata": {},
      "source": [
        "#df_account_with_customer \u003d df[[\u0027CUSTOMER_ACCOUNT_ID\u0027,\u0027CUSTOMER\u0027]].copy()\n#df_account_with_customer \u003d df_account_with_customer.drop_duplicates(subset\u003d\u0027CUSTOMER_ACCOUNT_ID\u0027)\n#print(len(df_account_with_customer))\n#df_account_with_customer.head()\n\n#df_g.columns \u003d [\u0027CUSTOMER\u0027,\u0027ACCOUNT_COUNT\u0027]\n#df_g \u003d df_g.sort_values(by\u003d[\u0027ACCOUNT_COUNT\u0027], ascending\u003dFalse)\n#df_g.head(100)\n\n#NAFCUSTOMER_RDW_CONVERSIONS_df.head()\n#NAFCUSTOMER_RDW_CONVERSIONS_df.STATUS_DATE.min()\n\n#NAFCUSTOMER_RDW_CONVERSIONS_df.head()\n#df_conv \u003d NAFCUSTOMER_RDW_CONVERSIONS_df[[\u0027FLEET_ID\u0027,\u0027CLASSIC_ACCOUNT_NUMBER\u0027,\u0027FLEET_NAME\u0027]].copy()\n#print(len(df_conv))\n#df_conv \u003d df_conv[~df_conv.CLASSIC_ACCOUNT_NUMBER.isnull()]\n#print(len(df_conv))\n\n#df_conv.columns \u003d [\u0027CUSTOMER_ACCOUNT_ID\u0027, \u0027CLASSIC_CUSTOMER_ACCOUNT_ID\u0027, \u0027FLEET_NAME\u0027]\n#df_conv[\u0027CUSTOMER_ACCOUNT_ID\u0027] \u003d df_conv[\u0027CUSTOMER_ACCOUNT_ID\u0027].astype(\u0027Int64\u0027, errors\u003d\u0027ignore\u0027)\n#df_conv[\u0027CLASSIC_CUSTOMER_ACCOUNT_ID\u0027] \u003d pd.to_numeric(df_conv[\u0027CLASSIC_CUSTOMER_ACCOUNT_ID\u0027], errors\u003d\u0027coerce\u0027)\n#df_conv \u003d df_conv[~df_conv.CLASSIC_CUSTOMER_ACCOUNT_ID.isnull()]\n#df_conv[\u0027CLASSIC_CUSTOMER_ACCOUNT_ID\u0027] \u003d df_conv[\u0027CLASSIC_CUSTOMER_ACCOUNT_ID\u0027].astype(\u0027int64\u0027, errors\u003d\u0027ignore\u0027)\n#df_conv[\u0027CLASSIC_CUSTOMER_ACCOUNT_ID\u0027] \u003d df_conv[\u0027CLASSIC_CUSTOMER_ACCOUNT_ID\u0027].astype(\u0027Int64\u0027, errors\u003d\u0027ignore\u0027)\n\n#df_conv \u003d pd.merge(df_conv, df_account_with_customer, on\u003d\u0027CUSTOMER_ACCOUNT_ID\u0027, how\u003d\u0027inner\u0027)\n#print(len(df_conv))\n#df_conv \u003d df_conv[[\u0027CLASSIC_CUSTOMER_ACCOUNT_ID\u0027,\u0027CUSTOMER\u0027]]\n#df_conv.columns \u003d [\u0027CLASSIC_CUSTOMER_ACCOUNT_ID\u0027,\u0027CUSTOMER_CONVERTED_TO\u0027]\n#df_conv.head()"
      ],
      "outputs": []
    },
    {
      "execution_count": 0,
      "cell_type": "code",
      "metadata": {},
      "source": [
        "#df \u003d df[[\u0027CUSTOMER_ACCOUNT_ID\u0027,\u0027CUSTOMER_ACCOUNT_NAME\u0027,\u0027YEAR_NUMBER\u0027,\u0027QUARTER_NUMBER\u0027,\u0027ACTIVE_CARD_COUNT\u0027,\u0027CUSTOMER\u0027,\u0027CUST_CALC_SOURCE\u0027]]\n#print(len(df))"
      ],
      "outputs": []
    },
    {
      "execution_count": 0,
      "cell_type": "code",
      "metadata": {},
      "source": [
        "#print(len(df))\n#df \u003d pd.merge(df, df_conv, left_on\u003d\u0027CUSTOMER_ACCOUNT_ID\u0027, right_on\u003d\u0027CLASSIC_CUSTOMER_ACCOUNT_ID\u0027, how\u003d\u0027left\u0027)\n#print(len(df))"
      ],
      "outputs": []
    },
    {
      "execution_count": 0,
      "cell_type": "code",
      "metadata": {},
      "source": [
        "#df.CUSTOMER_CONVERTED_TO.value_counts()"
      ],
      "outputs": []
    },
    {
      "execution_count": 0,
      "cell_type": "code",
      "metadata": {},
      "source": [
        "#df.loc[~df[\u0027CUSTOMER_CONVERTED_TO\u0027].isnull(),\u0027CUSTOMER\u0027] \u003d df.CUSTOMER_CONVERTED_TO"
      ],
      "outputs": []
    },
    {
      "execution_count": 0,
      "cell_type": "code",
      "metadata": {},
      "source": [
        "#df.head()"
      ],
      "outputs": []
    }
  ]
}