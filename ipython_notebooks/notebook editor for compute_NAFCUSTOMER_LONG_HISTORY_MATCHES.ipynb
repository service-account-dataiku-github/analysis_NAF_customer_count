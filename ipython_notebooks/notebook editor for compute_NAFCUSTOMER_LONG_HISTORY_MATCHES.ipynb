{
  "metadata": {
    "kernelspec": {
      "name": "py-dku-venv-env_clc",
      "display_name": "Python (env env_clc)",
      "language": "python"
    },
    "associatedRecipe": "compute_NAFCUSTOMER_LONG_HISTORY_MATCHES",
    "dkuGit": {
      "lastInteraction": 0
    },
    "creationTag": {
      "versionNumber": 0,
      "lastModifiedBy": {
        "login": "Daniel.Vandermeer"
      },
      "lastModifiedOn": 1675368834596
    },
    "creator": "Daniel.Vandermeer",
    "createdOn": 1675368834596,
    "tags": [
      "recipe-editor"
    ],
    "customFields": {},
    "hide_input": false,
    "language_info": {
      "name": "python",
      "version": "3.6.8",
      "mimetype": "text/x-python",
      "codemirror_mode": {
        "name": "ipython",
        "version": 3
      },
      "pygments_lexer": "ipython3",
      "nbconvert_exporter": "python",
      "file_extension": ".py"
    },
    "modifiedBy": "Daniel.Vandermeer"
  },
  "nbformat": 4,
  "nbformat_minor": 1,
  "cells": [
    {
      "execution_count": 0,
      "cell_type": "code",
      "metadata": {},
      "source": [
        "# -*- coding: utf-8 -*-\nimport dataiku\nimport pandas as pd, numpy as np\nfrom dataiku import pandasutils as pdu\n\nACCOUNT_BUNDLER_LIST \u003d dataiku.Dataset(\"ACCOUNT_BUNDLER_LIST\")\nACCOUNT_BUNDLER_LIST_df \u003d ACCOUNT_BUNDLER_LIST.get_dataframe()\nprint(len(ACCOUNT_BUNDLER_LIST_df))\n\nNAFCUSTOMER_RDW_CONVERSIONS \u003d dataiku.Dataset(\"NAFCUSTOMER_RDW_CONVERSIONS\")\nNAFCUSTOMER_RDW_CONVERSIONS_df \u003d NAFCUSTOMER_RDW_CONVERSIONS.get_dataframe()\nprint(len(NAFCUSTOMER_RDW_CONVERSIONS_df))\n\n# Read recipe inputs\nNAFCUSTOMER_ACCOUNT_ACTIVE_CARDS_BY_QUARTER \u003d dataiku.Dataset(\"NAFCUSTOMER_ACCOUNT_ACTIVE_CARDS_BY_QUARTER\")\nNAFCUSTOMER_ACCOUNT_ACTIVE_CARDS_BY_QUARTER_df \u003d NAFCUSTOMER_ACCOUNT_ACTIVE_CARDS_BY_QUARTER.get_dataframe()\nprint(len(NAFCUSTOMER_ACCOUNT_ACTIVE_CARDS_BY_QUARTER_df))"
      ],
      "outputs": [
        {
          "output_type": "stream",
          "text": "274\n",
          "name": "stdout"
        },
        {
          "output_type": "stream",
          "text": "/data/dataiku/dss_data/code-envs/python/env_clc/lib/python3.6/site-packages/IPython/core/interactiveshell.py:3263: DtypeWarning: Columns (0) have mixed types.Specify dtype option on import or set low_memory\u003dFalse.\n  if (await self.run_code(code, result,  async_\u003dasy)):\n",
          "name": "stderr"
        },
        {
          "output_type": "stream",
          "text": "2171559\n",
          "name": "stdout"
        }
      ]
    },
    {
      "execution_count": 110,
      "cell_type": "code",
      "metadata": {},
      "source": [
        "NAFCUSTOMER_ACCOUNT_ACTIVE_CARDS_BY_QUARTER_df.head()"
      ],
      "outputs": [
        {
          "output_type": "execute_result",
          "execution_count": 110,
          "data": {
            "text/plain": "   CUSTOMER_ACCOUNT_ID           CUSTOMER_ACCOUNT_NAME               EDW_CUSTOMER_NAME       ACCOUNT_SINCE_DATE CUSTOMER_SOURCE_SYSTEM_CODE        ACCOUNT_OPEN_DATE      ACCOUNT_CLOSED_DATE ATTRITION_TYPE_NAME ATTRITION_REASON_CODE ATTRITION_REASON_DESC  YEAR_NUMBER  QUARTER_NUMBER  ACTIVE_CARD_COUNT\n0        9100004251546               CAROLINA AIR CARE     WEX FLEET UNIVERSAL PRIMARY  2017-04-27 00:00:00.000                      SIEBEL  2017-04-27 00:00:00.000  9999-12-31 00:00:00.000             Unknown                  Unkn               Unknown         2017               4                 15\n1         417008246662  U S D 315 COLBY PUBLIC SCHOOLS  U S D 315 COLBY PUBLIC SCHOOLS  2010-05-14 00:00:00.000                      TANDEM  2010-05-14 00:00:00.000  2022-09-10 00:00:00.000     NNCL Conversion                    04    Account Conversion         2018               2                 14\n2         430004184602      EASTER SEALS NEW HAMPSHIRE      EASTER SEALS NEW HAMPSHIRE  2000-08-02 00:00:00.000                      TANDEM  2000-08-02 00:00:00.000  2022-09-17 00:00:00.000     NNCL Conversion                    04    Account Conversion         2019               4                121\n3        9100004755591           11300 GRANT COUNTY WA                  AMR HOLDCO INC  2018-02-14 00:00:00.000                      SIEBEL  2018-02-14 00:00:00.000  9999-12-31 00:00:00.000             Unknown                  Unkn               Unknown         2019               4                 11\n4         444007634488             MARTIN CHRYSLER LLC             MARTIN CHRYSLER LLC  2007-12-04 00:00:00.000                      TANDEM  2007-12-04 00:00:00.000  2022-04-19 00:00:00.000     NNCL Conversion                    04    Account Conversion         2019               2                  9",
            "text/html": "\u003cdiv\u003e\n\u003cstyle scoped\u003e\n    .dataframe tbody tr th:only-of-type {\n        vertical-align: middle;\n    }\n\n    .dataframe tbody tr th {\n        vertical-align: top;\n    }\n\n    .dataframe thead th {\n        text-align: right;\n    }\n\u003c/style\u003e\n\u003ctable border\u003d\"1\" class\u003d\"dataframe\"\u003e\n  \u003cthead\u003e\n    \u003ctr style\u003d\"text-align: right;\"\u003e\n      \u003cth\u003e\u003c/th\u003e\n      \u003cth\u003eCUSTOMER_ACCOUNT_ID\u003c/th\u003e\n      \u003cth\u003eCUSTOMER_ACCOUNT_NAME\u003c/th\u003e\n      \u003cth\u003eEDW_CUSTOMER_NAME\u003c/th\u003e\n      \u003cth\u003eACCOUNT_SINCE_DATE\u003c/th\u003e\n      \u003cth\u003eCUSTOMER_SOURCE_SYSTEM_CODE\u003c/th\u003e\n      \u003cth\u003eACCOUNT_OPEN_DATE\u003c/th\u003e\n      \u003cth\u003eACCOUNT_CLOSED_DATE\u003c/th\u003e\n      \u003cth\u003eATTRITION_TYPE_NAME\u003c/th\u003e\n      \u003cth\u003eATTRITION_REASON_CODE\u003c/th\u003e\n      \u003cth\u003eATTRITION_REASON_DESC\u003c/th\u003e\n      \u003cth\u003eYEAR_NUMBER\u003c/th\u003e\n      \u003cth\u003eQUARTER_NUMBER\u003c/th\u003e\n      \u003cth\u003eACTIVE_CARD_COUNT\u003c/th\u003e\n    \u003c/tr\u003e\n  \u003c/thead\u003e\n  \u003ctbody\u003e\n    \u003ctr\u003e\n      \u003cth\u003e0\u003c/th\u003e\n      \u003ctd\u003e9100004251546\u003c/td\u003e\n      \u003ctd\u003eCAROLINA AIR CARE\u003c/td\u003e\n      \u003ctd\u003eWEX FLEET UNIVERSAL PRIMARY\u003c/td\u003e\n      \u003ctd\u003e2017-04-27 00:00:00.000\u003c/td\u003e\n      \u003ctd\u003eSIEBEL\u003c/td\u003e\n      \u003ctd\u003e2017-04-27 00:00:00.000\u003c/td\u003e\n      \u003ctd\u003e9999-12-31 00:00:00.000\u003c/td\u003e\n      \u003ctd\u003eUnknown\u003c/td\u003e\n      \u003ctd\u003eUnkn\u003c/td\u003e\n      \u003ctd\u003eUnknown\u003c/td\u003e\n      \u003ctd\u003e2017\u003c/td\u003e\n      \u003ctd\u003e4\u003c/td\u003e\n      \u003ctd\u003e15\u003c/td\u003e\n    \u003c/tr\u003e\n    \u003ctr\u003e\n      \u003cth\u003e1\u003c/th\u003e\n      \u003ctd\u003e417008246662\u003c/td\u003e\n      \u003ctd\u003eU S D 315 COLBY PUBLIC SCHOOLS\u003c/td\u003e\n      \u003ctd\u003eU S D 315 COLBY PUBLIC SCHOOLS\u003c/td\u003e\n      \u003ctd\u003e2010-05-14 00:00:00.000\u003c/td\u003e\n      \u003ctd\u003eTANDEM\u003c/td\u003e\n      \u003ctd\u003e2010-05-14 00:00:00.000\u003c/td\u003e\n      \u003ctd\u003e2022-09-10 00:00:00.000\u003c/td\u003e\n      \u003ctd\u003eNNCL Conversion\u003c/td\u003e\n      \u003ctd\u003e04\u003c/td\u003e\n      \u003ctd\u003eAccount Conversion\u003c/td\u003e\n      \u003ctd\u003e2018\u003c/td\u003e\n      \u003ctd\u003e2\u003c/td\u003e\n      \u003ctd\u003e14\u003c/td\u003e\n    \u003c/tr\u003e\n    \u003ctr\u003e\n      \u003cth\u003e2\u003c/th\u003e\n      \u003ctd\u003e430004184602\u003c/td\u003e\n      \u003ctd\u003eEASTER SEALS NEW HAMPSHIRE\u003c/td\u003e\n      \u003ctd\u003eEASTER SEALS NEW HAMPSHIRE\u003c/td\u003e\n      \u003ctd\u003e2000-08-02 00:00:00.000\u003c/td\u003e\n      \u003ctd\u003eTANDEM\u003c/td\u003e\n      \u003ctd\u003e2000-08-02 00:00:00.000\u003c/td\u003e\n      \u003ctd\u003e2022-09-17 00:00:00.000\u003c/td\u003e\n      \u003ctd\u003eNNCL Conversion\u003c/td\u003e\n      \u003ctd\u003e04\u003c/td\u003e\n      \u003ctd\u003eAccount Conversion\u003c/td\u003e\n      \u003ctd\u003e2019\u003c/td\u003e\n      \u003ctd\u003e4\u003c/td\u003e\n      \u003ctd\u003e121\u003c/td\u003e\n    \u003c/tr\u003e\n    \u003ctr\u003e\n      \u003cth\u003e3\u003c/th\u003e\n      \u003ctd\u003e9100004755591\u003c/td\u003e\n      \u003ctd\u003e11300 GRANT COUNTY WA\u003c/td\u003e\n      \u003ctd\u003eAMR HOLDCO INC\u003c/td\u003e\n      \u003ctd\u003e2018-02-14 00:00:00.000\u003c/td\u003e\n      \u003ctd\u003eSIEBEL\u003c/td\u003e\n      \u003ctd\u003e2018-02-14 00:00:00.000\u003c/td\u003e\n      \u003ctd\u003e9999-12-31 00:00:00.000\u003c/td\u003e\n      \u003ctd\u003eUnknown\u003c/td\u003e\n      \u003ctd\u003eUnkn\u003c/td\u003e\n      \u003ctd\u003eUnknown\u003c/td\u003e\n      \u003ctd\u003e2019\u003c/td\u003e\n      \u003ctd\u003e4\u003c/td\u003e\n      \u003ctd\u003e11\u003c/td\u003e\n    \u003c/tr\u003e\n    \u003ctr\u003e\n      \u003cth\u003e4\u003c/th\u003e\n      \u003ctd\u003e444007634488\u003c/td\u003e\n      \u003ctd\u003eMARTIN CHRYSLER LLC\u003c/td\u003e\n      \u003ctd\u003eMARTIN CHRYSLER LLC\u003c/td\u003e\n      \u003ctd\u003e2007-12-04 00:00:00.000\u003c/td\u003e\n      \u003ctd\u003eTANDEM\u003c/td\u003e\n      \u003ctd\u003e2007-12-04 00:00:00.000\u003c/td\u003e\n      \u003ctd\u003e2022-04-19 00:00:00.000\u003c/td\u003e\n      \u003ctd\u003eNNCL Conversion\u003c/td\u003e\n      \u003ctd\u003e04\u003c/td\u003e\n      \u003ctd\u003eAccount Conversion\u003c/td\u003e\n      \u003ctd\u003e2019\u003c/td\u003e\n      \u003ctd\u003e2\u003c/td\u003e\n      \u003ctd\u003e9\u003c/td\u003e\n    \u003c/tr\u003e\n  \u003c/tbody\u003e\n\u003c/table\u003e\n\u003c/div\u003e"
          },
          "metadata": {}
        }
      ]
    },
    {
      "execution_count": 111,
      "cell_type": "code",
      "metadata": {},
      "source": [
        "df_a \u003d NAFCUSTOMER_ACCOUNT_ACTIVE_CARDS_BY_QUARTER_df\ndf_a[\u0027CUSTOMER_ACCOUNT_ID\u0027] \u003d df_a[\u0027CUSTOMER_ACCOUNT_ID\u0027].astype(\u0027Int64\u0027, errors\u003d\u0027ignore\u0027)\ndf_a[\u0027CUSTOMER_ACCOUNT_NAME\u0027] \u003d df_a[\u0027CUSTOMER_ACCOUNT_NAME\u0027].str.upper()\ndf_a[\u0027EDW_CUSTOMER_NAME\u0027] \u003d df_a[\u0027EDW_CUSTOMER_NAME\u0027].str.upper()\n\nACCOUNT_BUNDLER_LIST_df[\u0027IS_BUNDLER\u0027] \u003d True\nACCOUNT_BUNDLER_LIST_df \u003d ACCOUNT_BUNDLER_LIST_df[[\u0027EDW_CUSTOMER_NAME\u0027,\u0027IS_BUNDLER\u0027]]\nACCOUNT_BUNDLER_LIST_df.head()\n\ndf \u003d pd.merge(df_a,ACCOUNT_BUNDLER_LIST_df, how\u003d\u0027left\u0027, on\u003d\u0027EDW_CUSTOMER_NAME\u0027)\ndf.loc[df[\"IS_BUNDLER\"].isnull(),\u0027IS_BUNDLER\u0027] \u003d False\ndf.head()"
      ],
      "outputs": [
        {
          "output_type": "execute_result",
          "execution_count": 111,
          "data": {
            "text/plain": "   CUSTOMER_ACCOUNT_ID           CUSTOMER_ACCOUNT_NAME               EDW_CUSTOMER_NAME       ACCOUNT_SINCE_DATE CUSTOMER_SOURCE_SYSTEM_CODE        ACCOUNT_OPEN_DATE      ACCOUNT_CLOSED_DATE ATTRITION_TYPE_NAME ATTRITION_REASON_CODE ATTRITION_REASON_DESC  YEAR_NUMBER  QUARTER_NUMBER  ACTIVE_CARD_COUNT IS_BUNDLER\n0        9100004251546               CAROLINA AIR CARE     WEX FLEET UNIVERSAL PRIMARY  2017-04-27 00:00:00.000                      SIEBEL  2017-04-27 00:00:00.000  9999-12-31 00:00:00.000             Unknown                  Unkn               Unknown         2017               4                 15       True\n1         417008246662  U S D 315 COLBY PUBLIC SCHOOLS  U S D 315 COLBY PUBLIC SCHOOLS  2010-05-14 00:00:00.000                      TANDEM  2010-05-14 00:00:00.000  2022-09-10 00:00:00.000     NNCL Conversion                    04    Account Conversion         2018               2                 14      False\n2         430004184602      EASTER SEALS NEW HAMPSHIRE      EASTER SEALS NEW HAMPSHIRE  2000-08-02 00:00:00.000                      TANDEM  2000-08-02 00:00:00.000  2022-09-17 00:00:00.000     NNCL Conversion                    04    Account Conversion         2019               4                121      False\n3        9100004755591           11300 GRANT COUNTY WA                  AMR HOLDCO INC  2018-02-14 00:00:00.000                      SIEBEL  2018-02-14 00:00:00.000  9999-12-31 00:00:00.000             Unknown                  Unkn               Unknown         2019               4                 11      False\n4         444007634488             MARTIN CHRYSLER LLC             MARTIN CHRYSLER LLC  2007-12-04 00:00:00.000                      TANDEM  2007-12-04 00:00:00.000  2022-04-19 00:00:00.000     NNCL Conversion                    04    Account Conversion         2019               2                  9      False",
            "text/html": "\u003cdiv\u003e\n\u003cstyle scoped\u003e\n    .dataframe tbody tr th:only-of-type {\n        vertical-align: middle;\n    }\n\n    .dataframe tbody tr th {\n        vertical-align: top;\n    }\n\n    .dataframe thead th {\n        text-align: right;\n    }\n\u003c/style\u003e\n\u003ctable border\u003d\"1\" class\u003d\"dataframe\"\u003e\n  \u003cthead\u003e\n    \u003ctr style\u003d\"text-align: right;\"\u003e\n      \u003cth\u003e\u003c/th\u003e\n      \u003cth\u003eCUSTOMER_ACCOUNT_ID\u003c/th\u003e\n      \u003cth\u003eCUSTOMER_ACCOUNT_NAME\u003c/th\u003e\n      \u003cth\u003eEDW_CUSTOMER_NAME\u003c/th\u003e\n      \u003cth\u003eACCOUNT_SINCE_DATE\u003c/th\u003e\n      \u003cth\u003eCUSTOMER_SOURCE_SYSTEM_CODE\u003c/th\u003e\n      \u003cth\u003eACCOUNT_OPEN_DATE\u003c/th\u003e\n      \u003cth\u003eACCOUNT_CLOSED_DATE\u003c/th\u003e\n      \u003cth\u003eATTRITION_TYPE_NAME\u003c/th\u003e\n      \u003cth\u003eATTRITION_REASON_CODE\u003c/th\u003e\n      \u003cth\u003eATTRITION_REASON_DESC\u003c/th\u003e\n      \u003cth\u003eYEAR_NUMBER\u003c/th\u003e\n      \u003cth\u003eQUARTER_NUMBER\u003c/th\u003e\n      \u003cth\u003eACTIVE_CARD_COUNT\u003c/th\u003e\n      \u003cth\u003eIS_BUNDLER\u003c/th\u003e\n    \u003c/tr\u003e\n  \u003c/thead\u003e\n  \u003ctbody\u003e\n    \u003ctr\u003e\n      \u003cth\u003e0\u003c/th\u003e\n      \u003ctd\u003e9100004251546\u003c/td\u003e\n      \u003ctd\u003eCAROLINA AIR CARE\u003c/td\u003e\n      \u003ctd\u003eWEX FLEET UNIVERSAL PRIMARY\u003c/td\u003e\n      \u003ctd\u003e2017-04-27 00:00:00.000\u003c/td\u003e\n      \u003ctd\u003eSIEBEL\u003c/td\u003e\n      \u003ctd\u003e2017-04-27 00:00:00.000\u003c/td\u003e\n      \u003ctd\u003e9999-12-31 00:00:00.000\u003c/td\u003e\n      \u003ctd\u003eUnknown\u003c/td\u003e\n      \u003ctd\u003eUnkn\u003c/td\u003e\n      \u003ctd\u003eUnknown\u003c/td\u003e\n      \u003ctd\u003e2017\u003c/td\u003e\n      \u003ctd\u003e4\u003c/td\u003e\n      \u003ctd\u003e15\u003c/td\u003e\n      \u003ctd\u003eTrue\u003c/td\u003e\n    \u003c/tr\u003e\n    \u003ctr\u003e\n      \u003cth\u003e1\u003c/th\u003e\n      \u003ctd\u003e417008246662\u003c/td\u003e\n      \u003ctd\u003eU S D 315 COLBY PUBLIC SCHOOLS\u003c/td\u003e\n      \u003ctd\u003eU S D 315 COLBY PUBLIC SCHOOLS\u003c/td\u003e\n      \u003ctd\u003e2010-05-14 00:00:00.000\u003c/td\u003e\n      \u003ctd\u003eTANDEM\u003c/td\u003e\n      \u003ctd\u003e2010-05-14 00:00:00.000\u003c/td\u003e\n      \u003ctd\u003e2022-09-10 00:00:00.000\u003c/td\u003e\n      \u003ctd\u003eNNCL Conversion\u003c/td\u003e\n      \u003ctd\u003e04\u003c/td\u003e\n      \u003ctd\u003eAccount Conversion\u003c/td\u003e\n      \u003ctd\u003e2018\u003c/td\u003e\n      \u003ctd\u003e2\u003c/td\u003e\n      \u003ctd\u003e14\u003c/td\u003e\n      \u003ctd\u003eFalse\u003c/td\u003e\n    \u003c/tr\u003e\n    \u003ctr\u003e\n      \u003cth\u003e2\u003c/th\u003e\n      \u003ctd\u003e430004184602\u003c/td\u003e\n      \u003ctd\u003eEASTER SEALS NEW HAMPSHIRE\u003c/td\u003e\n      \u003ctd\u003eEASTER SEALS NEW HAMPSHIRE\u003c/td\u003e\n      \u003ctd\u003e2000-08-02 00:00:00.000\u003c/td\u003e\n      \u003ctd\u003eTANDEM\u003c/td\u003e\n      \u003ctd\u003e2000-08-02 00:00:00.000\u003c/td\u003e\n      \u003ctd\u003e2022-09-17 00:00:00.000\u003c/td\u003e\n      \u003ctd\u003eNNCL Conversion\u003c/td\u003e\n      \u003ctd\u003e04\u003c/td\u003e\n      \u003ctd\u003eAccount Conversion\u003c/td\u003e\n      \u003ctd\u003e2019\u003c/td\u003e\n      \u003ctd\u003e4\u003c/td\u003e\n      \u003ctd\u003e121\u003c/td\u003e\n      \u003ctd\u003eFalse\u003c/td\u003e\n    \u003c/tr\u003e\n    \u003ctr\u003e\n      \u003cth\u003e3\u003c/th\u003e\n      \u003ctd\u003e9100004755591\u003c/td\u003e\n      \u003ctd\u003e11300 GRANT COUNTY WA\u003c/td\u003e\n      \u003ctd\u003eAMR HOLDCO INC\u003c/td\u003e\n      \u003ctd\u003e2018-02-14 00:00:00.000\u003c/td\u003e\n      \u003ctd\u003eSIEBEL\u003c/td\u003e\n      \u003ctd\u003e2018-02-14 00:00:00.000\u003c/td\u003e\n      \u003ctd\u003e9999-12-31 00:00:00.000\u003c/td\u003e\n      \u003ctd\u003eUnknown\u003c/td\u003e\n      \u003ctd\u003eUnkn\u003c/td\u003e\n      \u003ctd\u003eUnknown\u003c/td\u003e\n      \u003ctd\u003e2019\u003c/td\u003e\n      \u003ctd\u003e4\u003c/td\u003e\n      \u003ctd\u003e11\u003c/td\u003e\n      \u003ctd\u003eFalse\u003c/td\u003e\n    \u003c/tr\u003e\n    \u003ctr\u003e\n      \u003cth\u003e4\u003c/th\u003e\n      \u003ctd\u003e444007634488\u003c/td\u003e\n      \u003ctd\u003eMARTIN CHRYSLER LLC\u003c/td\u003e\n      \u003ctd\u003eMARTIN CHRYSLER LLC\u003c/td\u003e\n      \u003ctd\u003e2007-12-04 00:00:00.000\u003c/td\u003e\n      \u003ctd\u003eTANDEM\u003c/td\u003e\n      \u003ctd\u003e2007-12-04 00:00:00.000\u003c/td\u003e\n      \u003ctd\u003e2022-04-19 00:00:00.000\u003c/td\u003e\n      \u003ctd\u003eNNCL Conversion\u003c/td\u003e\n      \u003ctd\u003e04\u003c/td\u003e\n      \u003ctd\u003eAccount Conversion\u003c/td\u003e\n      \u003ctd\u003e2019\u003c/td\u003e\n      \u003ctd\u003e2\u003c/td\u003e\n      \u003ctd\u003e9\u003c/td\u003e\n      \u003ctd\u003eFalse\u003c/td\u003e\n    \u003c/tr\u003e\n  \u003c/tbody\u003e\n\u003c/table\u003e\n\u003c/div\u003e"
          },
          "metadata": {}
        }
      ]
    },
    {
      "execution_count": 59,
      "cell_type": "code",
      "metadata": {},
      "source": [
        "df[\u0027CUSTOMER\u0027] \u003d np.nan\ndf[\u0027CUST_CALC_SOURCE\u0027] \u003d \u0027Unknown\u0027\ndf.loc[df.IS_BUNDLER,\u0027EDW_CUSTOMER_NAME\u0027] \u003d np.nan\n\ndf.loc[~df[\u0027EDW_CUSTOMER_NAME\u0027].isnull(),\u0027CUSTOMER\u0027] \u003d df[\"EDW_CUSTOMER_NAME\"]\ndf.loc[~df[\u0027EDW_CUSTOMER_NAME\u0027].isnull(),\u0027CUST_CALC_SOURCE\u0027] \u003d \u0027EDW\u0027\n\ndf.loc[df[\u0027CUSTOMER\u0027].isnull(),\u0027CUST_CALC_SOURCE\u0027] \u003d \u0027ACCOUNT\u0027\ndf.loc[df[\u0027CUSTOMER\u0027].isnull(),\u0027CUSTOMER\u0027] \u003d df.CUSTOMER_ACCOUNT_NAME\n\n\nending_tokens \u003d [\u0027 2\u0027, \u0027 3\u0027, \u0027 4\u0027, \u0027 04\u0027, \u0027 5\u0027, \u0027 6\u0027, \u0027 7\u0027, \u0027 8\u0027, \u0027 9\u0027,\u0027 (2)\u0027,\n                 \u0027 (3)\u0027,\u0027 (04)\u0027,\u0027 (4)\u0027, \u0027 (5)\u0027, \u0027 (6)\u0027, \u0027 (7)\u0027, \u0027 (8)\u0027,\n                 \u0027 (9)\u0027,\u0027 (25)\u0027,\u0027  (32)\u0027, \u0027 AD\u0027, \u0027 LD\u0027, \u0027L1\u0027]\n\ndf[\u0027CUSTOMER\u0027].str.strip()\n\nfor s in ending_tokens:\n    index_offset \u003d -1*(len(s))\n    df.loc[df[\u0027CUSTOMER\u0027].str.endswith(s, na\u003dFalse),\"CUSTOMER\"] \u003d df[\u0027CUSTOMER\u0027].str[:index_offset]\n"
      ],
      "outputs": []
    },
    {
      "execution_count": 87,
      "cell_type": "code",
      "metadata": {},
      "source": [
        "df_account_with_customer \u003d df[[\u0027CUSTOMER_ACCOUNT_ID\u0027,\u0027CUSTOMER\u0027]].copy()\ndf_account_with_customer \u003d df_account_with_customer.drop_duplicates(subset\u003d\u0027CUSTOMER_ACCOUNT_ID\u0027)\nprint(len(df_account_with_customer))\ndf_account_with_customer.head()"
      ],
      "outputs": [
        {
          "output_type": "stream",
          "text": "698399\n",
          "name": "stdout"
        },
        {
          "output_type": "execute_result",
          "execution_count": 87,
          "data": {
            "text/plain": "   CUSTOMER_ACCOUNT_ID                        CUSTOMER\n0        9100004251546               CAROLINA AIR CARE\n1         417008246662  U S D 315 COLBY PUBLIC SCHOOLS\n2         430004184602      EASTER SEALS NEW HAMPSHIRE\n3        9100004755591                  AMR HOLDCO INC\n4         444007634488             MARTIN CHRYSLER LLC",
            "text/html": "\u003cdiv\u003e\n\u003cstyle scoped\u003e\n    .dataframe tbody tr th:only-of-type {\n        vertical-align: middle;\n    }\n\n    .dataframe tbody tr th {\n        vertical-align: top;\n    }\n\n    .dataframe thead th {\n        text-align: right;\n    }\n\u003c/style\u003e\n\u003ctable border\u003d\"1\" class\u003d\"dataframe\"\u003e\n  \u003cthead\u003e\n    \u003ctr style\u003d\"text-align: right;\"\u003e\n      \u003cth\u003e\u003c/th\u003e\n      \u003cth\u003eCUSTOMER_ACCOUNT_ID\u003c/th\u003e\n      \u003cth\u003eCUSTOMER\u003c/th\u003e\n    \u003c/tr\u003e\n  \u003c/thead\u003e\n  \u003ctbody\u003e\n    \u003ctr\u003e\n      \u003cth\u003e0\u003c/th\u003e\n      \u003ctd\u003e9100004251546\u003c/td\u003e\n      \u003ctd\u003eCAROLINA AIR CARE\u003c/td\u003e\n    \u003c/tr\u003e\n    \u003ctr\u003e\n      \u003cth\u003e1\u003c/th\u003e\n      \u003ctd\u003e417008246662\u003c/td\u003e\n      \u003ctd\u003eU S D 315 COLBY PUBLIC SCHOOLS\u003c/td\u003e\n    \u003c/tr\u003e\n    \u003ctr\u003e\n      \u003cth\u003e2\u003c/th\u003e\n      \u003ctd\u003e430004184602\u003c/td\u003e\n      \u003ctd\u003eEASTER SEALS NEW HAMPSHIRE\u003c/td\u003e\n    \u003c/tr\u003e\n    \u003ctr\u003e\n      \u003cth\u003e3\u003c/th\u003e\n      \u003ctd\u003e9100004755591\u003c/td\u003e\n      \u003ctd\u003eAMR HOLDCO INC\u003c/td\u003e\n    \u003c/tr\u003e\n    \u003ctr\u003e\n      \u003cth\u003e4\u003c/th\u003e\n      \u003ctd\u003e444007634488\u003c/td\u003e\n      \u003ctd\u003eMARTIN CHRYSLER LLC\u003c/td\u003e\n    \u003c/tr\u003e\n  \u003c/tbody\u003e\n\u003c/table\u003e\n\u003c/div\u003e"
          },
          "metadata": {}
        }
      ]
    },
    {
      "execution_count": 54,
      "cell_type": "code",
      "metadata": {},
      "source": [
        "df.CUST_CALC_SOURCE.value_counts(dropna\u003dFalse)"
      ],
      "outputs": [
        {
          "output_type": "execute_result",
          "execution_count": 54,
          "data": {
            "text/plain": "EDW        2707344\nACCOUNT    2099559\nName: CUST_CALC_SOURCE, dtype: int64"
          },
          "metadata": {}
        }
      ]
    },
    {
      "execution_count": 63,
      "cell_type": "code",
      "metadata": {},
      "source": [
        "df_g \u003d df.groupby([\u0027CUSTOMER\u0027]).CUSTOMER_ACCOUNT_ID.nunique().reset_index()\ndf_g.columns \u003d [\u0027CUSTOMER\u0027,\u0027ACCOUNT_COUNT\u0027]\ndf_g \u003d df_g.sort_values(by\u003d[\u0027ACCOUNT_COUNT\u0027], ascending\u003dFalse)\ndf_g.head(100)"
      ],
      "outputs": [
        {
          "output_type": "execute_result",
          "execution_count": 63,
          "data": {
            "text/plain": "                                      CUSTOMER  ACCOUNT_COUNT\n376404                  OREILLY AUTOMOTIVE INC           5798\n424103                             RENTACENTER           2606\n125165            COMMONWEALTH OF PENNSYLVANIA           2277\n475675                       STATE OF NEW YORK           1672\n190651                    FERGUSON ENTERPRISES           1627\n475650                       STATE OF ILLINOIS           1472\n179967                    ENTERPRISE XOM DUMP            1431\n443372                      SAFELITE GROUP INC           1283\n16957                              AARON\u0027S LLC           1247\n179677                     ENTERPRISE FM DUMP            1145\n39365                    AMERIGAS PROPANE L.P.           1064\n495103          TERMINIX CONSUMER SERVICES LLC           1029\n475679                 STATE OF NORTH CAROLINA           1026\n159073                              DLA ENERGY            947\n539625           WEATHERFORD INTERNATIONAL LLC            888\n4802                      2950100 DHS FLEET FC            808\n475646                        STATE OF GEORGIA            767\n71935                   BIMBO BAKERIES USA INC            759\n434302                             ROLLINS INC            743\n475643                        STATE OF FLORIDA            743\n500867                      THE SALVATION ARMY            720\n147776                              DAVEY TREE            717\n475651                        STATE OF INDIANA            678\n227256             H  E EQUIPMENT SERVICES INC            660\n524646                  US DEPT OF AGRICULTURE            596\n525034                          USDA FLEET SP3            573\n533895                        VULCAN MATERIALS            558\n475664                       STATE OF MISSOURI            527\n39936                           AMR HOLDCO INC            517\n150243                 DEAN DAIRY HOLDINGS DIP            504\n422882                       RELADYNE WEST LLC            504\n225881                      GUILD ELECTRIC LTD            459\n113641                      CINTAS CORPORATION            459\n237198                 HENKELS  CADENCE PARENT            458\n475667                        STATE OF MONTANA            451\n475637                        STATE OF ALABAMA            421\n508354                                TOPBUILD            421\n475639                       STATE OF ARKANSAS            416\n198386                 FOSS NATIONAL/CORP-RATE            413\n475665                 STATE OF MISSOURI COOPS            412\n437077      ROYAL FARMS UNIVERSAL CARD PRIMARY            409\n475663                       STATE OF MICHIGAN            393\n125163                COMMONWEALTH OF KENTUCKY            389\n82528                           BRICKMAN GROUP            377\n202726                 FRONTIER COMMUNICATIONS            351\n54295                               AUTONATION            348\n475640                       STATE OF COLORADO            346\n389252                     PEPSICO INC PRIMARY            332\n198385                   FOSS NATIONAL LEASING            331\n306436                       LEWIS TREE PARENT            331\n193684                  FIRSTENERGY SERVICE CO            329\n405184                  PROBUILD HOLDINGS INC.            316\n194990                          FLEETPRIDE INC            312\n475653                         STATE OF KANSAS            302\n54830                          AVI FOODSYSTEMS            300\n44444                         APRIA HEALTHCARE            283\n299602                      LANE CONSTRUCTION             269\n505575                            TIRE CENTERS            269\n498702                       THE GEO GROUP INC            268\n475688                  STATE OF WEST VIRGINIA            268\n475672                  STATE OF NEW HAMPSHIRE            257\n83077                BRIGHTVIEW LANDSCAPES LLC            253\n287699                     KEY ENERGY SERVICES            252\n448653                      SCHLUMBERGER 77478            251\n475652                           STATE OF IOWA            251\n468293         SOUTHERN STATES COOPERATIVE INC            240\n478655                        STINKER FEARLESS            238\n302910      LEADER AUTO RESOURCES LAR INC (FR)            230\n416142                     RAILCREW XPRESS LLC            226\n548585                                WINGFOOT            225\n166613                       DYCOM INDUSTRIES             218\n198387         FOSS NATIONAL/CORP-RATE QC GOVT            216\n13117       A G C OF SOUTHEAST TEXAS UNIVERSAL            213\n56833                         B A T O TIRE LLC            207\n475649                          STATE OF IDAHO            206\n329149                            MASTER PETRO            205\n164601            DS SERVICES OF AMERICA, INC.            200\n425097         RETAIL SERVICES WIS CORPORATION            196\n202725                       FRONTIER COMM DIP            195\n45067                       ARAMARK RPT PARENT            189\n7436                                    606002            186\n50091   ASPLUNDH TREE EXPERT LLC  SUBSIDIARIES            184\n209897        GE/GE CAPITAL VEHICLE MANAGEMENT            180\n216109                                      GM            177\n475655                          STATE OF MAINE            176\n242610                          HOLT TEXAS LTD            174\n334025                             MDA CO AUTO            174\n133970              COX CORPORATE SERVICES INC            174\n179951                 ENTERPRISE SHEETZ DUMP             170\n96996                 CAMPO POOLE DISTRIBUTING            167\n7593                                    657013            167\n120020                 CLOCKWORK HOME SERVICES            166\n425884              RHOADS ENERGY CORP PRIMARY            163\n438610        RUSH ADMINISTRATIVE SERVICES INC            163\n309551                       LITHIA MOTORS INC            158\n358986              NAVAJO TRIBAL UTILITY AUTH            152\n50268    ASSOCIATED BUILDERS  CONTRACTORS UNIV            149\n328914                         MASSEY SERVICES            147\n443790                  SAIA MOTOR FREIGHT INC            146\n176629                 ELLIOTT ELECTRIC SUPPLY            144",
            "text/html": "\u003cdiv\u003e\n\u003cstyle scoped\u003e\n    .dataframe tbody tr th:only-of-type {\n        vertical-align: middle;\n    }\n\n    .dataframe tbody tr th {\n        vertical-align: top;\n    }\n\n    .dataframe thead th {\n        text-align: right;\n    }\n\u003c/style\u003e\n\u003ctable border\u003d\"1\" class\u003d\"dataframe\"\u003e\n  \u003cthead\u003e\n    \u003ctr style\u003d\"text-align: right;\"\u003e\n      \u003cth\u003e\u003c/th\u003e\n      \u003cth\u003eCUSTOMER\u003c/th\u003e\n      \u003cth\u003eACCOUNT_COUNT\u003c/th\u003e\n    \u003c/tr\u003e\n  \u003c/thead\u003e\n  \u003ctbody\u003e\n    \u003ctr\u003e\n      \u003cth\u003e376404\u003c/th\u003e\n      \u003ctd\u003eOREILLY AUTOMOTIVE INC\u003c/td\u003e\n      \u003ctd\u003e5798\u003c/td\u003e\n    \u003c/tr\u003e\n    \u003ctr\u003e\n      \u003cth\u003e424103\u003c/th\u003e\n      \u003ctd\u003eRENTACENTER\u003c/td\u003e\n      \u003ctd\u003e2606\u003c/td\u003e\n    \u003c/tr\u003e\n    \u003ctr\u003e\n      \u003cth\u003e125165\u003c/th\u003e\n      \u003ctd\u003eCOMMONWEALTH OF PENNSYLVANIA\u003c/td\u003e\n      \u003ctd\u003e2277\u003c/td\u003e\n    \u003c/tr\u003e\n    \u003ctr\u003e\n      \u003cth\u003e475675\u003c/th\u003e\n      \u003ctd\u003eSTATE OF NEW YORK\u003c/td\u003e\n      \u003ctd\u003e1672\u003c/td\u003e\n    \u003c/tr\u003e\n    \u003ctr\u003e\n      \u003cth\u003e190651\u003c/th\u003e\n      \u003ctd\u003eFERGUSON ENTERPRISES\u003c/td\u003e\n      \u003ctd\u003e1627\u003c/td\u003e\n    \u003c/tr\u003e\n    \u003ctr\u003e\n      \u003cth\u003e475650\u003c/th\u003e\n      \u003ctd\u003eSTATE OF ILLINOIS\u003c/td\u003e\n      \u003ctd\u003e1472\u003c/td\u003e\n    \u003c/tr\u003e\n    \u003ctr\u003e\n      \u003cth\u003e179967\u003c/th\u003e\n      \u003ctd\u003eENTERPRISE XOM DUMP\u003c/td\u003e\n      \u003ctd\u003e1431\u003c/td\u003e\n    \u003c/tr\u003e\n    \u003ctr\u003e\n      \u003cth\u003e443372\u003c/th\u003e\n      \u003ctd\u003eSAFELITE GROUP INC\u003c/td\u003e\n      \u003ctd\u003e1283\u003c/td\u003e\n    \u003c/tr\u003e\n    \u003ctr\u003e\n      \u003cth\u003e16957\u003c/th\u003e\n      \u003ctd\u003eAARON\u0027S LLC\u003c/td\u003e\n      \u003ctd\u003e1247\u003c/td\u003e\n    \u003c/tr\u003e\n    \u003ctr\u003e\n      \u003cth\u003e179677\u003c/th\u003e\n      \u003ctd\u003eENTERPRISE FM DUMP\u003c/td\u003e\n      \u003ctd\u003e1145\u003c/td\u003e\n    \u003c/tr\u003e\n    \u003ctr\u003e\n      \u003cth\u003e39365\u003c/th\u003e\n      \u003ctd\u003eAMERIGAS PROPANE L.P.\u003c/td\u003e\n      \u003ctd\u003e1064\u003c/td\u003e\n    \u003c/tr\u003e\n    \u003ctr\u003e\n      \u003cth\u003e495103\u003c/th\u003e\n      \u003ctd\u003eTERMINIX CONSUMER SERVICES LLC\u003c/td\u003e\n      \u003ctd\u003e1029\u003c/td\u003e\n    \u003c/tr\u003e\n    \u003ctr\u003e\n      \u003cth\u003e475679\u003c/th\u003e\n      \u003ctd\u003eSTATE OF NORTH CAROLINA\u003c/td\u003e\n      \u003ctd\u003e1026\u003c/td\u003e\n    \u003c/tr\u003e\n    \u003ctr\u003e\n      \u003cth\u003e159073\u003c/th\u003e\n      \u003ctd\u003eDLA ENERGY\u003c/td\u003e\n      \u003ctd\u003e947\u003c/td\u003e\n    \u003c/tr\u003e\n    \u003ctr\u003e\n      \u003cth\u003e539625\u003c/th\u003e\n      \u003ctd\u003eWEATHERFORD INTERNATIONAL LLC\u003c/td\u003e\n      \u003ctd\u003e888\u003c/td\u003e\n    \u003c/tr\u003e\n    \u003ctr\u003e\n      \u003cth\u003e4802\u003c/th\u003e\n      \u003ctd\u003e2950100 DHS FLEET FC\u003c/td\u003e\n      \u003ctd\u003e808\u003c/td\u003e\n    \u003c/tr\u003e\n    \u003ctr\u003e\n      \u003cth\u003e475646\u003c/th\u003e\n      \u003ctd\u003eSTATE OF GEORGIA\u003c/td\u003e\n      \u003ctd\u003e767\u003c/td\u003e\n    \u003c/tr\u003e\n    \u003ctr\u003e\n      \u003cth\u003e71935\u003c/th\u003e\n      \u003ctd\u003eBIMBO BAKERIES USA INC\u003c/td\u003e\n      \u003ctd\u003e759\u003c/td\u003e\n    \u003c/tr\u003e\n    \u003ctr\u003e\n      \u003cth\u003e434302\u003c/th\u003e\n      \u003ctd\u003eROLLINS INC\u003c/td\u003e\n      \u003ctd\u003e743\u003c/td\u003e\n    \u003c/tr\u003e\n    \u003ctr\u003e\n      \u003cth\u003e475643\u003c/th\u003e\n      \u003ctd\u003eSTATE OF FLORIDA\u003c/td\u003e\n      \u003ctd\u003e743\u003c/td\u003e\n    \u003c/tr\u003e\n    \u003ctr\u003e\n      \u003cth\u003e500867\u003c/th\u003e\n      \u003ctd\u003eTHE SALVATION ARMY\u003c/td\u003e\n      \u003ctd\u003e720\u003c/td\u003e\n    \u003c/tr\u003e\n    \u003ctr\u003e\n      \u003cth\u003e147776\u003c/th\u003e\n      \u003ctd\u003eDAVEY TREE\u003c/td\u003e\n      \u003ctd\u003e717\u003c/td\u003e\n    \u003c/tr\u003e\n    \u003ctr\u003e\n      \u003cth\u003e475651\u003c/th\u003e\n      \u003ctd\u003eSTATE OF INDIANA\u003c/td\u003e\n      \u003ctd\u003e678\u003c/td\u003e\n    \u003c/tr\u003e\n    \u003ctr\u003e\n      \u003cth\u003e227256\u003c/th\u003e\n      \u003ctd\u003eH  E EQUIPMENT SERVICES INC\u003c/td\u003e\n      \u003ctd\u003e660\u003c/td\u003e\n    \u003c/tr\u003e\n    \u003ctr\u003e\n      \u003cth\u003e524646\u003c/th\u003e\n      \u003ctd\u003eUS DEPT OF AGRICULTURE\u003c/td\u003e\n      \u003ctd\u003e596\u003c/td\u003e\n    \u003c/tr\u003e\n    \u003ctr\u003e\n      \u003cth\u003e525034\u003c/th\u003e\n      \u003ctd\u003eUSDA FLEET SP3\u003c/td\u003e\n      \u003ctd\u003e573\u003c/td\u003e\n    \u003c/tr\u003e\n    \u003ctr\u003e\n      \u003cth\u003e533895\u003c/th\u003e\n      \u003ctd\u003eVULCAN MATERIALS\u003c/td\u003e\n      \u003ctd\u003e558\u003c/td\u003e\n    \u003c/tr\u003e\n    \u003ctr\u003e\n      \u003cth\u003e475664\u003c/th\u003e\n      \u003ctd\u003eSTATE OF MISSOURI\u003c/td\u003e\n      \u003ctd\u003e527\u003c/td\u003e\n    \u003c/tr\u003e\n    \u003ctr\u003e\n      \u003cth\u003e39936\u003c/th\u003e\n      \u003ctd\u003eAMR HOLDCO INC\u003c/td\u003e\n      \u003ctd\u003e517\u003c/td\u003e\n    \u003c/tr\u003e\n    \u003ctr\u003e\n      \u003cth\u003e150243\u003c/th\u003e\n      \u003ctd\u003eDEAN DAIRY HOLDINGS DIP\u003c/td\u003e\n      \u003ctd\u003e504\u003c/td\u003e\n    \u003c/tr\u003e\n    \u003ctr\u003e\n      \u003cth\u003e422882\u003c/th\u003e\n      \u003ctd\u003eRELADYNE WEST LLC\u003c/td\u003e\n      \u003ctd\u003e504\u003c/td\u003e\n    \u003c/tr\u003e\n    \u003ctr\u003e\n      \u003cth\u003e225881\u003c/th\u003e\n      \u003ctd\u003eGUILD ELECTRIC LTD\u003c/td\u003e\n      \u003ctd\u003e459\u003c/td\u003e\n    \u003c/tr\u003e\n    \u003ctr\u003e\n      \u003cth\u003e113641\u003c/th\u003e\n      \u003ctd\u003eCINTAS CORPORATION\u003c/td\u003e\n      \u003ctd\u003e459\u003c/td\u003e\n    \u003c/tr\u003e\n    \u003ctr\u003e\n      \u003cth\u003e237198\u003c/th\u003e\n      \u003ctd\u003eHENKELS  CADENCE PARENT\u003c/td\u003e\n      \u003ctd\u003e458\u003c/td\u003e\n    \u003c/tr\u003e\n    \u003ctr\u003e\n      \u003cth\u003e475667\u003c/th\u003e\n      \u003ctd\u003eSTATE OF MONTANA\u003c/td\u003e\n      \u003ctd\u003e451\u003c/td\u003e\n    \u003c/tr\u003e\n    \u003ctr\u003e\n      \u003cth\u003e475637\u003c/th\u003e\n      \u003ctd\u003eSTATE OF ALABAMA\u003c/td\u003e\n      \u003ctd\u003e421\u003c/td\u003e\n    \u003c/tr\u003e\n    \u003ctr\u003e\n      \u003cth\u003e508354\u003c/th\u003e\n      \u003ctd\u003eTOPBUILD\u003c/td\u003e\n      \u003ctd\u003e421\u003c/td\u003e\n    \u003c/tr\u003e\n    \u003ctr\u003e\n      \u003cth\u003e475639\u003c/th\u003e\n      \u003ctd\u003eSTATE OF ARKANSAS\u003c/td\u003e\n      \u003ctd\u003e416\u003c/td\u003e\n    \u003c/tr\u003e\n    \u003ctr\u003e\n      \u003cth\u003e198386\u003c/th\u003e\n      \u003ctd\u003eFOSS NATIONAL/CORP-RATE\u003c/td\u003e\n      \u003ctd\u003e413\u003c/td\u003e\n    \u003c/tr\u003e\n    \u003ctr\u003e\n      \u003cth\u003e475665\u003c/th\u003e\n      \u003ctd\u003eSTATE OF MISSOURI COOPS\u003c/td\u003e\n      \u003ctd\u003e412\u003c/td\u003e\n    \u003c/tr\u003e\n    \u003ctr\u003e\n      \u003cth\u003e437077\u003c/th\u003e\n      \u003ctd\u003eROYAL FARMS UNIVERSAL CARD PRIMARY\u003c/td\u003e\n      \u003ctd\u003e409\u003c/td\u003e\n    \u003c/tr\u003e\n    \u003ctr\u003e\n      \u003cth\u003e475663\u003c/th\u003e\n      \u003ctd\u003eSTATE OF MICHIGAN\u003c/td\u003e\n      \u003ctd\u003e393\u003c/td\u003e\n    \u003c/tr\u003e\n    \u003ctr\u003e\n      \u003cth\u003e125163\u003c/th\u003e\n      \u003ctd\u003eCOMMONWEALTH OF KENTUCKY\u003c/td\u003e\n      \u003ctd\u003e389\u003c/td\u003e\n    \u003c/tr\u003e\n    \u003ctr\u003e\n      \u003cth\u003e82528\u003c/th\u003e\n      \u003ctd\u003eBRICKMAN GROUP\u003c/td\u003e\n      \u003ctd\u003e377\u003c/td\u003e\n    \u003c/tr\u003e\n    \u003ctr\u003e\n      \u003cth\u003e202726\u003c/th\u003e\n      \u003ctd\u003eFRONTIER COMMUNICATIONS\u003c/td\u003e\n      \u003ctd\u003e351\u003c/td\u003e\n    \u003c/tr\u003e\n    \u003ctr\u003e\n      \u003cth\u003e54295\u003c/th\u003e\n      \u003ctd\u003eAUTONATION\u003c/td\u003e\n      \u003ctd\u003e348\u003c/td\u003e\n    \u003c/tr\u003e\n    \u003ctr\u003e\n      \u003cth\u003e475640\u003c/th\u003e\n      \u003ctd\u003eSTATE OF COLORADO\u003c/td\u003e\n      \u003ctd\u003e346\u003c/td\u003e\n    \u003c/tr\u003e\n    \u003ctr\u003e\n      \u003cth\u003e389252\u003c/th\u003e\n      \u003ctd\u003ePEPSICO INC PRIMARY\u003c/td\u003e\n      \u003ctd\u003e332\u003c/td\u003e\n    \u003c/tr\u003e\n    \u003ctr\u003e\n      \u003cth\u003e198385\u003c/th\u003e\n      \u003ctd\u003eFOSS NATIONAL LEASING\u003c/td\u003e\n      \u003ctd\u003e331\u003c/td\u003e\n    \u003c/tr\u003e\n    \u003ctr\u003e\n      \u003cth\u003e306436\u003c/th\u003e\n      \u003ctd\u003eLEWIS TREE PARENT\u003c/td\u003e\n      \u003ctd\u003e331\u003c/td\u003e\n    \u003c/tr\u003e\n    \u003ctr\u003e\n      \u003cth\u003e193684\u003c/th\u003e\n      \u003ctd\u003eFIRSTENERGY SERVICE CO\u003c/td\u003e\n      \u003ctd\u003e329\u003c/td\u003e\n    \u003c/tr\u003e\n    \u003ctr\u003e\n      \u003cth\u003e405184\u003c/th\u003e\n      \u003ctd\u003ePROBUILD HOLDINGS INC.\u003c/td\u003e\n      \u003ctd\u003e316\u003c/td\u003e\n    \u003c/tr\u003e\n    \u003ctr\u003e\n      \u003cth\u003e194990\u003c/th\u003e\n      \u003ctd\u003eFLEETPRIDE INC\u003c/td\u003e\n      \u003ctd\u003e312\u003c/td\u003e\n    \u003c/tr\u003e\n    \u003ctr\u003e\n      \u003cth\u003e475653\u003c/th\u003e\n      \u003ctd\u003eSTATE OF KANSAS\u003c/td\u003e\n      \u003ctd\u003e302\u003c/td\u003e\n    \u003c/tr\u003e\n    \u003ctr\u003e\n      \u003cth\u003e54830\u003c/th\u003e\n      \u003ctd\u003eAVI FOODSYSTEMS\u003c/td\u003e\n      \u003ctd\u003e300\u003c/td\u003e\n    \u003c/tr\u003e\n    \u003ctr\u003e\n      \u003cth\u003e44444\u003c/th\u003e\n      \u003ctd\u003eAPRIA HEALTHCARE\u003c/td\u003e\n      \u003ctd\u003e283\u003c/td\u003e\n    \u003c/tr\u003e\n    \u003ctr\u003e\n      \u003cth\u003e299602\u003c/th\u003e\n      \u003ctd\u003eLANE CONSTRUCTION\u003c/td\u003e\n      \u003ctd\u003e269\u003c/td\u003e\n    \u003c/tr\u003e\n    \u003ctr\u003e\n      \u003cth\u003e505575\u003c/th\u003e\n      \u003ctd\u003eTIRE CENTERS\u003c/td\u003e\n      \u003ctd\u003e269\u003c/td\u003e\n    \u003c/tr\u003e\n    \u003ctr\u003e\n      \u003cth\u003e498702\u003c/th\u003e\n      \u003ctd\u003eTHE GEO GROUP INC\u003c/td\u003e\n      \u003ctd\u003e268\u003c/td\u003e\n    \u003c/tr\u003e\n    \u003ctr\u003e\n      \u003cth\u003e475688\u003c/th\u003e\n      \u003ctd\u003eSTATE OF WEST VIRGINIA\u003c/td\u003e\n      \u003ctd\u003e268\u003c/td\u003e\n    \u003c/tr\u003e\n    \u003ctr\u003e\n      \u003cth\u003e475672\u003c/th\u003e\n      \u003ctd\u003eSTATE OF NEW HAMPSHIRE\u003c/td\u003e\n      \u003ctd\u003e257\u003c/td\u003e\n    \u003c/tr\u003e\n    \u003ctr\u003e\n      \u003cth\u003e83077\u003c/th\u003e\n      \u003ctd\u003eBRIGHTVIEW LANDSCAPES LLC\u003c/td\u003e\n      \u003ctd\u003e253\u003c/td\u003e\n    \u003c/tr\u003e\n    \u003ctr\u003e\n      \u003cth\u003e287699\u003c/th\u003e\n      \u003ctd\u003eKEY ENERGY SERVICES\u003c/td\u003e\n      \u003ctd\u003e252\u003c/td\u003e\n    \u003c/tr\u003e\n    \u003ctr\u003e\n      \u003cth\u003e448653\u003c/th\u003e\n      \u003ctd\u003eSCHLUMBERGER 77478\u003c/td\u003e\n      \u003ctd\u003e251\u003c/td\u003e\n    \u003c/tr\u003e\n    \u003ctr\u003e\n      \u003cth\u003e475652\u003c/th\u003e\n      \u003ctd\u003eSTATE OF IOWA\u003c/td\u003e\n      \u003ctd\u003e251\u003c/td\u003e\n    \u003c/tr\u003e\n    \u003ctr\u003e\n      \u003cth\u003e468293\u003c/th\u003e\n      \u003ctd\u003eSOUTHERN STATES COOPERATIVE INC\u003c/td\u003e\n      \u003ctd\u003e240\u003c/td\u003e\n    \u003c/tr\u003e\n    \u003ctr\u003e\n      \u003cth\u003e478655\u003c/th\u003e\n      \u003ctd\u003eSTINKER FEARLESS\u003c/td\u003e\n      \u003ctd\u003e238\u003c/td\u003e\n    \u003c/tr\u003e\n    \u003ctr\u003e\n      \u003cth\u003e302910\u003c/th\u003e\n      \u003ctd\u003eLEADER AUTO RESOURCES LAR INC (FR)\u003c/td\u003e\n      \u003ctd\u003e230\u003c/td\u003e\n    \u003c/tr\u003e\n    \u003ctr\u003e\n      \u003cth\u003e416142\u003c/th\u003e\n      \u003ctd\u003eRAILCREW XPRESS LLC\u003c/td\u003e\n      \u003ctd\u003e226\u003c/td\u003e\n    \u003c/tr\u003e\n    \u003ctr\u003e\n      \u003cth\u003e548585\u003c/th\u003e\n      \u003ctd\u003eWINGFOOT\u003c/td\u003e\n      \u003ctd\u003e225\u003c/td\u003e\n    \u003c/tr\u003e\n    \u003ctr\u003e\n      \u003cth\u003e166613\u003c/th\u003e\n      \u003ctd\u003eDYCOM INDUSTRIES\u003c/td\u003e\n      \u003ctd\u003e218\u003c/td\u003e\n    \u003c/tr\u003e\n    \u003ctr\u003e\n      \u003cth\u003e198387\u003c/th\u003e\n      \u003ctd\u003eFOSS NATIONAL/CORP-RATE QC GOVT\u003c/td\u003e\n      \u003ctd\u003e216\u003c/td\u003e\n    \u003c/tr\u003e\n    \u003ctr\u003e\n      \u003cth\u003e13117\u003c/th\u003e\n      \u003ctd\u003eA G C OF SOUTHEAST TEXAS UNIVERSAL\u003c/td\u003e\n      \u003ctd\u003e213\u003c/td\u003e\n    \u003c/tr\u003e\n    \u003ctr\u003e\n      \u003cth\u003e56833\u003c/th\u003e\n      \u003ctd\u003eB A T O TIRE LLC\u003c/td\u003e\n      \u003ctd\u003e207\u003c/td\u003e\n    \u003c/tr\u003e\n    \u003ctr\u003e\n      \u003cth\u003e475649\u003c/th\u003e\n      \u003ctd\u003eSTATE OF IDAHO\u003c/td\u003e\n      \u003ctd\u003e206\u003c/td\u003e\n    \u003c/tr\u003e\n    \u003ctr\u003e\n      \u003cth\u003e329149\u003c/th\u003e\n      \u003ctd\u003eMASTER PETRO\u003c/td\u003e\n      \u003ctd\u003e205\u003c/td\u003e\n    \u003c/tr\u003e\n    \u003ctr\u003e\n      \u003cth\u003e164601\u003c/th\u003e\n      \u003ctd\u003eDS SERVICES OF AMERICA, INC.\u003c/td\u003e\n      \u003ctd\u003e200\u003c/td\u003e\n    \u003c/tr\u003e\n    \u003ctr\u003e\n      \u003cth\u003e425097\u003c/th\u003e\n      \u003ctd\u003eRETAIL SERVICES WIS CORPORATION\u003c/td\u003e\n      \u003ctd\u003e196\u003c/td\u003e\n    \u003c/tr\u003e\n    \u003ctr\u003e\n      \u003cth\u003e202725\u003c/th\u003e\n      \u003ctd\u003eFRONTIER COMM DIP\u003c/td\u003e\n      \u003ctd\u003e195\u003c/td\u003e\n    \u003c/tr\u003e\n    \u003ctr\u003e\n      \u003cth\u003e45067\u003c/th\u003e\n      \u003ctd\u003eARAMARK RPT PARENT\u003c/td\u003e\n      \u003ctd\u003e189\u003c/td\u003e\n    \u003c/tr\u003e\n    \u003ctr\u003e\n      \u003cth\u003e7436\u003c/th\u003e\n      \u003ctd\u003e606002\u003c/td\u003e\n      \u003ctd\u003e186\u003c/td\u003e\n    \u003c/tr\u003e\n    \u003ctr\u003e\n      \u003cth\u003e50091\u003c/th\u003e\n      \u003ctd\u003eASPLUNDH TREE EXPERT LLC  SUBSIDIARIES\u003c/td\u003e\n      \u003ctd\u003e184\u003c/td\u003e\n    \u003c/tr\u003e\n    \u003ctr\u003e\n      \u003cth\u003e209897\u003c/th\u003e\n      \u003ctd\u003eGE/GE CAPITAL VEHICLE MANAGEMENT\u003c/td\u003e\n      \u003ctd\u003e180\u003c/td\u003e\n    \u003c/tr\u003e\n    \u003ctr\u003e\n      \u003cth\u003e216109\u003c/th\u003e\n      \u003ctd\u003eGM\u003c/td\u003e\n      \u003ctd\u003e177\u003c/td\u003e\n    \u003c/tr\u003e\n    \u003ctr\u003e\n      \u003cth\u003e475655\u003c/th\u003e\n      \u003ctd\u003eSTATE OF MAINE\u003c/td\u003e\n      \u003ctd\u003e176\u003c/td\u003e\n    \u003c/tr\u003e\n    \u003ctr\u003e\n      \u003cth\u003e242610\u003c/th\u003e\n      \u003ctd\u003eHOLT TEXAS LTD\u003c/td\u003e\n      \u003ctd\u003e174\u003c/td\u003e\n    \u003c/tr\u003e\n    \u003ctr\u003e\n      \u003cth\u003e334025\u003c/th\u003e\n      \u003ctd\u003eMDA CO AUTO\u003c/td\u003e\n      \u003ctd\u003e174\u003c/td\u003e\n    \u003c/tr\u003e\n    \u003ctr\u003e\n      \u003cth\u003e133970\u003c/th\u003e\n      \u003ctd\u003eCOX CORPORATE SERVICES INC\u003c/td\u003e\n      \u003ctd\u003e174\u003c/td\u003e\n    \u003c/tr\u003e\n    \u003ctr\u003e\n      \u003cth\u003e179951\u003c/th\u003e\n      \u003ctd\u003eENTERPRISE SHEETZ DUMP\u003c/td\u003e\n      \u003ctd\u003e170\u003c/td\u003e\n    \u003c/tr\u003e\n    \u003ctr\u003e\n      \u003cth\u003e96996\u003c/th\u003e\n      \u003ctd\u003eCAMPO POOLE DISTRIBUTING\u003c/td\u003e\n      \u003ctd\u003e167\u003c/td\u003e\n    \u003c/tr\u003e\n    \u003ctr\u003e\n      \u003cth\u003e7593\u003c/th\u003e\n      \u003ctd\u003e657013\u003c/td\u003e\n      \u003ctd\u003e167\u003c/td\u003e\n    \u003c/tr\u003e\n    \u003ctr\u003e\n      \u003cth\u003e120020\u003c/th\u003e\n      \u003ctd\u003eCLOCKWORK HOME SERVICES\u003c/td\u003e\n      \u003ctd\u003e166\u003c/td\u003e\n    \u003c/tr\u003e\n    \u003ctr\u003e\n      \u003cth\u003e425884\u003c/th\u003e\n      \u003ctd\u003eRHOADS ENERGY CORP PRIMARY\u003c/td\u003e\n      \u003ctd\u003e163\u003c/td\u003e\n    \u003c/tr\u003e\n    \u003ctr\u003e\n      \u003cth\u003e438610\u003c/th\u003e\n      \u003ctd\u003eRUSH ADMINISTRATIVE SERVICES INC\u003c/td\u003e\n      \u003ctd\u003e163\u003c/td\u003e\n    \u003c/tr\u003e\n    \u003ctr\u003e\n      \u003cth\u003e309551\u003c/th\u003e\n      \u003ctd\u003eLITHIA MOTORS INC\u003c/td\u003e\n      \u003ctd\u003e158\u003c/td\u003e\n    \u003c/tr\u003e\n    \u003ctr\u003e\n      \u003cth\u003e358986\u003c/th\u003e\n      \u003ctd\u003eNAVAJO TRIBAL UTILITY AUTH\u003c/td\u003e\n      \u003ctd\u003e152\u003c/td\u003e\n    \u003c/tr\u003e\n    \u003ctr\u003e\n      \u003cth\u003e50268\u003c/th\u003e\n      \u003ctd\u003eASSOCIATED BUILDERS  CONTRACTORS UNIV\u003c/td\u003e\n      \u003ctd\u003e149\u003c/td\u003e\n    \u003c/tr\u003e\n    \u003ctr\u003e\n      \u003cth\u003e328914\u003c/th\u003e\n      \u003ctd\u003eMASSEY SERVICES\u003c/td\u003e\n      \u003ctd\u003e147\u003c/td\u003e\n    \u003c/tr\u003e\n    \u003ctr\u003e\n      \u003cth\u003e443790\u003c/th\u003e\n      \u003ctd\u003eSAIA MOTOR FREIGHT INC\u003c/td\u003e\n      \u003ctd\u003e146\u003c/td\u003e\n    \u003c/tr\u003e\n    \u003ctr\u003e\n      \u003cth\u003e176629\u003c/th\u003e\n      \u003ctd\u003eELLIOTT ELECTRIC SUPPLY\u003c/td\u003e\n      \u003ctd\u003e144\u003c/td\u003e\n    \u003c/tr\u003e\n  \u003c/tbody\u003e\n\u003c/table\u003e\n\u003c/div\u003e"
          },
          "metadata": {}
        }
      ]
    },
    {
      "execution_count": 64,
      "cell_type": "code",
      "metadata": {},
      "source": [
        "NAFCUSTOMER_RDW_CONVERSIONS_df.head()\nNAFCUSTOMER_RDW_CONVERSIONS_df.STATUS_DATE.min()"
      ],
      "outputs": [
        {
          "output_type": "execute_result",
          "execution_count": 64,
          "data": {
            "text/plain": "\u00271901-01-01 00:00:00.000\u0027"
          },
          "metadata": {}
        }
      ]
    },
    {
      "execution_count": 103,
      "cell_type": "code",
      "metadata": {},
      "source": [
        "NAFCUSTOMER_RDW_CONVERSIONS_df.head()\ndf_conv \u003d NAFCUSTOMER_RDW_CONVERSIONS_df[[\u0027FLEET_ID\u0027,\u0027CLASSIC_ACCOUNT_NUMBER\u0027,\u0027FLEET_NAME\u0027]].copy()\nprint(len(df_conv))\ndf_conv \u003d df_conv[~df_conv.CLASSIC_ACCOUNT_NUMBER.isnull()]\nprint(len(df_conv))\n\ndf_conv.columns \u003d [\u0027CUSTOMER_ACCOUNT_ID\u0027, \u0027CLASSIC_CUSTOMER_ACCOUNT_ID\u0027, \u0027FLEET_NAME\u0027]\ndf_conv[\u0027CUSTOMER_ACCOUNT_ID\u0027] \u003d df_conv[\u0027CUSTOMER_ACCOUNT_ID\u0027].astype(\u0027Int64\u0027, errors\u003d\u0027ignore\u0027)\ndf_conv[\u0027CLASSIC_CUSTOMER_ACCOUNT_ID\u0027] \u003d pd.to_numeric(df_conv[\u0027CLASSIC_CUSTOMER_ACCOUNT_ID\u0027], errors\u003d\u0027coerce\u0027)\ndf_conv \u003d df_conv[~df_conv.CLASSIC_CUSTOMER_ACCOUNT_ID.isnull()]\ndf_conv[\u0027CLASSIC_CUSTOMER_ACCOUNT_ID\u0027] \u003d df_conv[\u0027CLASSIC_CUSTOMER_ACCOUNT_ID\u0027].astype(\u0027int64\u0027, errors\u003d\u0027ignore\u0027)\ndf_conv[\u0027CLASSIC_CUSTOMER_ACCOUNT_ID\u0027] \u003d df_conv[\u0027CLASSIC_CUSTOMER_ACCOUNT_ID\u0027].astype(\u0027Int64\u0027, errors\u003d\u0027ignore\u0027)\n\ndf_conv \u003d pd.merge(df_conv, df_account_with_customer, on\u003d\u0027CUSTOMER_ACCOUNT_ID\u0027, how\u003d\u0027inner\u0027)\nprint(len(df_conv))\ndf_conv \u003d df_conv[[\u0027CLASSIC_CUSTOMER_ACCOUNT_ID\u0027,\u0027CUSTOMER\u0027]]\ndf_conv.columns \u003d [\u0027CLASSIC_CUSTOMER_ACCOUNT_ID\u0027,\u0027CUSTOMER_CONVERTED_TO\u0027]\ndf_conv.head()"
      ],
      "outputs": [
        {
          "output_type": "stream",
          "text": "2170800\n743702\n9460\n",
          "name": "stdout"
        },
        {
          "output_type": "execute_result",
          "execution_count": 103,
          "data": {
            "text/plain": "   CLASSIC_CUSTOMER_ACCOUNT_ID  CUSTOMER_CONVERTED_TO\n0                    870232105    BENEDICTINE SISTERS\n1                    870191343  DUBE WATER TRUCKS INC\n2                 496003801305    MARYLAND HEIGHTS MO\n3                    870183829   HAWAIIAN PA\u0027AKAI INC\n4                 496006076004      HOUSTONHIGHWAY 90",
            "text/html": "\u003cdiv\u003e\n\u003cstyle scoped\u003e\n    .dataframe tbody tr th:only-of-type {\n        vertical-align: middle;\n    }\n\n    .dataframe tbody tr th {\n        vertical-align: top;\n    }\n\n    .dataframe thead th {\n        text-align: right;\n    }\n\u003c/style\u003e\n\u003ctable border\u003d\"1\" class\u003d\"dataframe\"\u003e\n  \u003cthead\u003e\n    \u003ctr style\u003d\"text-align: right;\"\u003e\n      \u003cth\u003e\u003c/th\u003e\n      \u003cth\u003eCLASSIC_CUSTOMER_ACCOUNT_ID\u003c/th\u003e\n      \u003cth\u003eCUSTOMER_CONVERTED_TO\u003c/th\u003e\n    \u003c/tr\u003e\n  \u003c/thead\u003e\n  \u003ctbody\u003e\n    \u003ctr\u003e\n      \u003cth\u003e0\u003c/th\u003e\n      \u003ctd\u003e870232105\u003c/td\u003e\n      \u003ctd\u003eBENEDICTINE SISTERS\u003c/td\u003e\n    \u003c/tr\u003e\n    \u003ctr\u003e\n      \u003cth\u003e1\u003c/th\u003e\n      \u003ctd\u003e870191343\u003c/td\u003e\n      \u003ctd\u003eDUBE WATER TRUCKS INC\u003c/td\u003e\n    \u003c/tr\u003e\n    \u003ctr\u003e\n      \u003cth\u003e2\u003c/th\u003e\n      \u003ctd\u003e496003801305\u003c/td\u003e\n      \u003ctd\u003eMARYLAND HEIGHTS MO\u003c/td\u003e\n    \u003c/tr\u003e\n    \u003ctr\u003e\n      \u003cth\u003e3\u003c/th\u003e\n      \u003ctd\u003e870183829\u003c/td\u003e\n      \u003ctd\u003eHAWAIIAN PA\u0027AKAI INC\u003c/td\u003e\n    \u003c/tr\u003e\n    \u003ctr\u003e\n      \u003cth\u003e4\u003c/th\u003e\n      \u003ctd\u003e496006076004\u003c/td\u003e\n      \u003ctd\u003eHOUSTONHIGHWAY 90\u003c/td\u003e\n    \u003c/tr\u003e\n  \u003c/tbody\u003e\n\u003c/table\u003e\n\u003c/div\u003e"
          },
          "metadata": {}
        }
      ]
    },
    {
      "execution_count": 104,
      "cell_type": "code",
      "metadata": {},
      "source": [
        "df \u003d df[[\u0027CUSTOMER_ACCOUNT_ID\u0027,\u0027CUSTOMER_ACCOUNT_NAME\u0027,\u0027YEAR_NUMBER\u0027,\u0027QUARTER_NUMBER\u0027,\u0027ACTIVE_CARD_COUNT\u0027,\u0027CUSTOMER\u0027,\u0027CUST_CALC_SOURCE\u0027]]\nprint(len(df))"
      ],
      "outputs": [
        {
          "output_type": "stream",
          "text": "4806903\n",
          "name": "stdout"
        }
      ]
    },
    {
      "execution_count": 105,
      "cell_type": "code",
      "metadata": {},
      "source": [
        "print(len(df))\ndf \u003d pd.merge(df, df_conv, left_on\u003d\u0027CUSTOMER_ACCOUNT_ID\u0027, right_on\u003d\u0027CLASSIC_CUSTOMER_ACCOUNT_ID\u0027, how\u003d\u0027left\u0027)\nprint(len(df))"
      ],
      "outputs": [
        {
          "output_type": "stream",
          "text": "4806903\n4806903\n",
          "name": "stdout"
        }
      ]
    },
    {
      "execution_count": 107,
      "cell_type": "code",
      "metadata": {},
      "source": [
        "df.CUSTOMER_CONVERTED_TO.value_counts()"
      ],
      "outputs": [
        {
          "output_type": "execute_result",
          "execution_count": 107,
          "data": {
            "text/plain": "STATE OF KANSAS                   25\nGUIER FENCE COMPANY               16\nCED                               16\nDAVID R WAHL TRUCKING CO          12\nAK ABATEMENT CORP                 12\n                                  ..\nKOHLS TRUCKING INC                 1\nSALEM COVENANT CHURCH              1\nCRAFT MASTER SIGNS                 1\nJOB SITE REPAIR                    1\nAFFORDABLE FLOORING \u0026 MORE LLC     1\nName: CUSTOMER_CONVERTED_TO, Length: 1711, dtype: int64"
          },
          "metadata": {}
        }
      ]
    },
    {
      "execution_count": 108,
      "cell_type": "code",
      "metadata": {},
      "source": [
        "df.loc[~df[\u0027CUSTOMER_CONVERTED_TO\u0027].isnull(),\u0027CUSTOMER\u0027] \u003d df.CUSTOMER_CONVERTED_TO"
      ],
      "outputs": []
    },
    {
      "execution_count": 1,
      "cell_type": "code",
      "metadata": {},
      "source": [
        "df.head()"
      ],
      "outputs": [
        {
          "output_type": "error",
          "ename": "NameError",
          "evalue": "name \u0027df\u0027 is not defined",
          "traceback": [
            "\u001b[0;31m---------------------------------------------------------------------------\u001b[0m",
            "\u001b[0;31mNameError\u001b[0m                                 Traceback (most recent call last)",
            "\u001b[0;32m\u003cipython-input-1-c42a15b2c7cf\u003e\u001b[0m in \u001b[0;36m\u003cmodule\u003e\u001b[0;34m\u001b[0m\n\u001b[0;32m----\u003e 1\u001b[0;31m \u001b[0mdf\u001b[0m\u001b[0;34m.\u001b[0m\u001b[0mhead\u001b[0m\u001b[0;34m(\u001b[0m\u001b[0;34m)\u001b[0m\u001b[0;34m\u001b[0m\u001b[0;34m\u001b[0m\u001b[0m\n\u001b[0m",
            "\u001b[0;31mNameError\u001b[0m: name \u0027df\u0027 is not defined"
          ]
        }
      ]
    },
    {
      "execution_count": 0,
      "cell_type": "code",
      "metadata": {},
      "source": [
        "# Write recipe outputs\n#NAFCUSTOMER_LONG_HISTORY_MATCHES \u003d dataiku.Dataset(\"NAFCUSTOMER_LONG_HISTORY_MATCHES\")\n#NAFCUSTOMER_LONG_HISTORY_MATCHES.write_with_schema(NAFCUSTOMER_LONG_HISTORY_MATCHES_df)"
      ],
      "outputs": []
    }
  ]
}