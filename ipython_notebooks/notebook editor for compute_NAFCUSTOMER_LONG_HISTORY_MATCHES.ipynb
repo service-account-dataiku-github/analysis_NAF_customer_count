{
  "metadata": {
    "kernelspec": {
      "name": "py-dku-venv-env_clc",
      "display_name": "Python (env env_clc)",
      "language": "python"
    },
    "associatedRecipe": "compute_NAFCUSTOMER_LONG_HISTORY_MATCHES",
    "dkuGit": {
      "lastInteraction": 0
    },
    "creationTag": {
      "versionNumber": 0,
      "lastModifiedBy": {
        "login": "Daniel.Vandermeer"
      },
      "lastModifiedOn": 1675368834596
    },
    "creator": "Daniel.Vandermeer",
    "createdOn": 1675368834596,
    "tags": [
      "recipe-editor"
    ],
    "customFields": {},
    "hide_input": false,
    "language_info": {
      "name": "python",
      "version": "3.6.8",
      "mimetype": "text/x-python",
      "codemirror_mode": {
        "name": "ipython",
        "version": 3
      },
      "pygments_lexer": "ipython3",
      "nbconvert_exporter": "python",
      "file_extension": ".py"
    },
    "modifiedBy": "Daniel.Vandermeer"
  },
  "nbformat": 4,
  "nbformat_minor": 1,
  "cells": [
    {
      "execution_count": 20,
      "cell_type": "code",
      "metadata": {},
      "source": [
        "# -*- coding: utf-8 -*-\nimport dataiku\nimport pandas as pd, numpy as np\nfrom dataiku import pandasutils as pdu\n\nACCOUNT_BUNDLER_LIST \u003d dataiku.Dataset(\"ACCOUNT_BUNDLER_LIST\")\nACCOUNT_BUNDLER_LIST_df \u003d ACCOUNT_BUNDLER_LIST.get_dataframe()\nprint(\"Account Bundlers:\", len(ACCOUNT_BUNDLER_LIST_df))\n\n#NAFCUSTOMER_RDW_CONVERSIONS \u003d dataiku.Dataset(\"NAFCUSTOMER_RDW_CONVERSIONS\")\n#NAFCUSTOMER_RDW_CONVERSIONS_df \u003d NAFCUSTOMER_RDW_CONVERSIONS.get_dataframe()\n#print(len(NAFCUSTOMER_RDW_CONVERSIONS_df))\n\n# Read recipe inputs\nNAFCUSTOMER_ACCOUNT_ACTIVE_CARDS_BY_QUARTER \u003d dataiku.Dataset(\"NAFCUSTOMER_ACCOUNT_ACTIVE_CARDS_BY_QUARTER\")\nNAFCUSTOMER_ACCOUNT_ACTIVE_CARDS_BY_QUARTER_df \u003d NAFCUSTOMER_ACCOUNT_ACTIVE_CARDS_BY_QUARTER.get_dataframe()\nprint(len(NAFCUSTOMER_ACCOUNT_ACTIVE_CARDS_BY_QUARTER_df))\n\nprint(NAFCUSTOMER_ACCOUNT_ACTIVE_CARDS_BY_QUARTER_df.YEAR_NUMBER.min())\n\nprint(\"Min Year:\", NAFCUSTOMER_ACCOUNT_ACTIVE_CARDS_BY_QUARTER_df.YEAR_NUMBER.min())\nprint(\"Max Year:\", NAFCUSTOMER_ACCOUNT_ACTIVE_CARDS_BY_QUARTER_df.YEAR_NUMBER.max())"
      ],
      "outputs": [
        {
          "output_type": "stream",
          "text": "Account Bundlers: 274\n3782998\n2010\nMin Year: 2010\nMax Year: 2013\n",
          "name": "stdout"
        }
      ]
    },
    {
      "execution_count": 29,
      "cell_type": "code",
      "metadata": {},
      "source": [
        "NAFCUSTOMER_ACCOUNT_ACTIVE_CARDS_BY_QUARTER_df.head()"
      ],
      "outputs": [
        {
          "output_type": "execute_result",
          "execution_count": 29,
          "data": {
            "text/plain": "   CUSTOMER_ACCOUNT_ID           CUSTOMER_ACCOUNT_NAME               EDW_CUSTOMER_NAME       ACCOUNT_SINCE_DATE CUSTOMER_SOURCE_SYSTEM_CODE        ACCOUNT_OPEN_DATE      ACCOUNT_CLOSED_DATE ATTRITION_TYPE_NAME ATTRITION_REASON_CODE           ATTRITION_REASON_DESC  YEAR_NUMBER  QUARTER_NUMBER  ACTIVE_CARD_COUNT\n0         467000007757                      GSK (0G75)                      GSK (0G75)  2007-07-06 00:00:00.000                      TANDEM  2007-07-06 00:00:00.000  2020-11-11 00:00:00.000     NNCL Conversion                    04              Account Conversion         2013               1                551\n1         411007070444             ST OF GA DOT (2006)                STATE OF GEORGIA  2006-05-19 00:00:00.000                      TANDEM  2006-05-19 00:00:00.000  2016-05-03 00:00:00.000           Voluntary                    16  Customer Would Not Give Reason         2012               3               4098\n2         463007323389      ACCIDENT FUND INSURANCE CO      ACCIDENT FUND INSURANCE CO  2006-12-29 00:00:00.000                      TANDEM  2006-12-29 00:00:00.000  2019-03-29 00:00:00.000     NNCL Conversion                    04              Account Conversion         2012               1                179\n3         428006800627  MCKINNIS ROOFING \u0026 SHEET METAL  MCKINNIS ROOFING \u0026 SHEET METAL  2005-09-21 00:00:00.000                      TANDEM  2005-09-21 00:00:00.000  2015-06-22 00:00:00.000     NNCL Conversion                    04              Account Conversion         2010               1                 28\n4         411008196354                 SCAPESGROUP LLC                 SCAPESGROUP LLC  2010-03-12 00:00:00.000                      TANDEM  2010-03-12 00:00:00.000  2022-04-25 00:00:00.000         Involuntary                    01          Closed by WEX - Credit         2012               2                 21",
            "text/html": "\u003cdiv\u003e\n\u003cstyle scoped\u003e\n    .dataframe tbody tr th:only-of-type {\n        vertical-align: middle;\n    }\n\n    .dataframe tbody tr th {\n        vertical-align: top;\n    }\n\n    .dataframe thead th {\n        text-align: right;\n    }\n\u003c/style\u003e\n\u003ctable border\u003d\"1\" class\u003d\"dataframe\"\u003e\n  \u003cthead\u003e\n    \u003ctr style\u003d\"text-align: right;\"\u003e\n      \u003cth\u003e\u003c/th\u003e\n      \u003cth\u003eCUSTOMER_ACCOUNT_ID\u003c/th\u003e\n      \u003cth\u003eCUSTOMER_ACCOUNT_NAME\u003c/th\u003e\n      \u003cth\u003eEDW_CUSTOMER_NAME\u003c/th\u003e\n      \u003cth\u003eACCOUNT_SINCE_DATE\u003c/th\u003e\n      \u003cth\u003eCUSTOMER_SOURCE_SYSTEM_CODE\u003c/th\u003e\n      \u003cth\u003eACCOUNT_OPEN_DATE\u003c/th\u003e\n      \u003cth\u003eACCOUNT_CLOSED_DATE\u003c/th\u003e\n      \u003cth\u003eATTRITION_TYPE_NAME\u003c/th\u003e\n      \u003cth\u003eATTRITION_REASON_CODE\u003c/th\u003e\n      \u003cth\u003eATTRITION_REASON_DESC\u003c/th\u003e\n      \u003cth\u003eYEAR_NUMBER\u003c/th\u003e\n      \u003cth\u003eQUARTER_NUMBER\u003c/th\u003e\n      \u003cth\u003eACTIVE_CARD_COUNT\u003c/th\u003e\n    \u003c/tr\u003e\n  \u003c/thead\u003e\n  \u003ctbody\u003e\n    \u003ctr\u003e\n      \u003cth\u003e0\u003c/th\u003e\n      \u003ctd\u003e467000007757\u003c/td\u003e\n      \u003ctd\u003eGSK (0G75)\u003c/td\u003e\n      \u003ctd\u003eGSK (0G75)\u003c/td\u003e\n      \u003ctd\u003e2007-07-06 00:00:00.000\u003c/td\u003e\n      \u003ctd\u003eTANDEM\u003c/td\u003e\n      \u003ctd\u003e2007-07-06 00:00:00.000\u003c/td\u003e\n      \u003ctd\u003e2020-11-11 00:00:00.000\u003c/td\u003e\n      \u003ctd\u003eNNCL Conversion\u003c/td\u003e\n      \u003ctd\u003e04\u003c/td\u003e\n      \u003ctd\u003eAccount Conversion\u003c/td\u003e\n      \u003ctd\u003e2013\u003c/td\u003e\n      \u003ctd\u003e1\u003c/td\u003e\n      \u003ctd\u003e551\u003c/td\u003e\n    \u003c/tr\u003e\n    \u003ctr\u003e\n      \u003cth\u003e1\u003c/th\u003e\n      \u003ctd\u003e411007070444\u003c/td\u003e\n      \u003ctd\u003eST OF GA DOT (2006)\u003c/td\u003e\n      \u003ctd\u003eSTATE OF GEORGIA\u003c/td\u003e\n      \u003ctd\u003e2006-05-19 00:00:00.000\u003c/td\u003e\n      \u003ctd\u003eTANDEM\u003c/td\u003e\n      \u003ctd\u003e2006-05-19 00:00:00.000\u003c/td\u003e\n      \u003ctd\u003e2016-05-03 00:00:00.000\u003c/td\u003e\n      \u003ctd\u003eVoluntary\u003c/td\u003e\n      \u003ctd\u003e16\u003c/td\u003e\n      \u003ctd\u003eCustomer Would Not Give Reason\u003c/td\u003e\n      \u003ctd\u003e2012\u003c/td\u003e\n      \u003ctd\u003e3\u003c/td\u003e\n      \u003ctd\u003e4098\u003c/td\u003e\n    \u003c/tr\u003e\n    \u003ctr\u003e\n      \u003cth\u003e2\u003c/th\u003e\n      \u003ctd\u003e463007323389\u003c/td\u003e\n      \u003ctd\u003eACCIDENT FUND INSURANCE CO\u003c/td\u003e\n      \u003ctd\u003eACCIDENT FUND INSURANCE CO\u003c/td\u003e\n      \u003ctd\u003e2006-12-29 00:00:00.000\u003c/td\u003e\n      \u003ctd\u003eTANDEM\u003c/td\u003e\n      \u003ctd\u003e2006-12-29 00:00:00.000\u003c/td\u003e\n      \u003ctd\u003e2019-03-29 00:00:00.000\u003c/td\u003e\n      \u003ctd\u003eNNCL Conversion\u003c/td\u003e\n      \u003ctd\u003e04\u003c/td\u003e\n      \u003ctd\u003eAccount Conversion\u003c/td\u003e\n      \u003ctd\u003e2012\u003c/td\u003e\n      \u003ctd\u003e1\u003c/td\u003e\n      \u003ctd\u003e179\u003c/td\u003e\n    \u003c/tr\u003e\n    \u003ctr\u003e\n      \u003cth\u003e3\u003c/th\u003e\n      \u003ctd\u003e428006800627\u003c/td\u003e\n      \u003ctd\u003eMCKINNIS ROOFING \u0026amp; SHEET METAL\u003c/td\u003e\n      \u003ctd\u003eMCKINNIS ROOFING \u0026amp; SHEET METAL\u003c/td\u003e\n      \u003ctd\u003e2005-09-21 00:00:00.000\u003c/td\u003e\n      \u003ctd\u003eTANDEM\u003c/td\u003e\n      \u003ctd\u003e2005-09-21 00:00:00.000\u003c/td\u003e\n      \u003ctd\u003e2015-06-22 00:00:00.000\u003c/td\u003e\n      \u003ctd\u003eNNCL Conversion\u003c/td\u003e\n      \u003ctd\u003e04\u003c/td\u003e\n      \u003ctd\u003eAccount Conversion\u003c/td\u003e\n      \u003ctd\u003e2010\u003c/td\u003e\n      \u003ctd\u003e1\u003c/td\u003e\n      \u003ctd\u003e28\u003c/td\u003e\n    \u003c/tr\u003e\n    \u003ctr\u003e\n      \u003cth\u003e4\u003c/th\u003e\n      \u003ctd\u003e411008196354\u003c/td\u003e\n      \u003ctd\u003eSCAPESGROUP LLC\u003c/td\u003e\n      \u003ctd\u003eSCAPESGROUP LLC\u003c/td\u003e\n      \u003ctd\u003e2010-03-12 00:00:00.000\u003c/td\u003e\n      \u003ctd\u003eTANDEM\u003c/td\u003e\n      \u003ctd\u003e2010-03-12 00:00:00.000\u003c/td\u003e\n      \u003ctd\u003e2022-04-25 00:00:00.000\u003c/td\u003e\n      \u003ctd\u003eInvoluntary\u003c/td\u003e\n      \u003ctd\u003e01\u003c/td\u003e\n      \u003ctd\u003eClosed by WEX - Credit\u003c/td\u003e\n      \u003ctd\u003e2012\u003c/td\u003e\n      \u003ctd\u003e2\u003c/td\u003e\n      \u003ctd\u003e21\u003c/td\u003e\n    \u003c/tr\u003e\n  \u003c/tbody\u003e\n\u003c/table\u003e\n\u003c/div\u003e"
          },
          "metadata": {}
        }
      ]
    },
    {
      "execution_count": 30,
      "cell_type": "code",
      "metadata": {},
      "source": [
        "df_a \u003d NAFCUSTOMER_ACCOUNT_ACTIVE_CARDS_BY_QUARTER_df\n\ndf_a.columns \u003d [\u0027CUSTOMER_ACCOUNT_ID\u0027,\u0027CUSTOMER_ACCOUNT_NAME\u0027,\u0027EDW_CUSTOMER_NAME\u0027,\u0027ACCOUNT_SINCE_DATE\u0027,\u0027CUSTOMER_SOURCE_SYSTEM_CODE\u0027,\u0027ACCOUNT_OPEN_DATE\u0027,\u0027ACCOUNT_CLOSED_DATE\u0027,\u0027ATTRITION_TYPE_NAME\u0027,\u0027ATTRITION_REASON_CODE\u0027,\u0027ATTRITION_REASON_DESC\u0027,\u0027YEAR_NUMBER\u0027,\u0027QUARTER_NUMBER\u0027,\u0027ACTIVE_CARD_COUNT\u0027]\n\ndf_a[\u0027CUSTOMER_ACCOUNT_ID\u0027] \u003d df_a[\u0027CUSTOMER_ACCOUNT_ID\u0027].astype(\u0027Int64\u0027, errors\u003d\u0027ignore\u0027)\ndf_a[\u0027CUSTOMER_ACCOUNT_NAME\u0027] \u003d df_a[\u0027CUSTOMER_ACCOUNT_NAME\u0027].str.upper()\ndf_a[\u0027EDW_CUSTOMER_NAME\u0027] \u003d df_a[\u0027EDW_CUSTOMER_NAME\u0027].str.upper()\n\nACCOUNT_BUNDLER_LIST_df[\u0027IS_BUNDLER\u0027] \u003d True\nACCOUNT_BUNDLER_LIST_df \u003d ACCOUNT_BUNDLER_LIST_df[[\u0027EDW_CUSTOMER_NAME\u0027,\u0027IS_BUNDLER\u0027]]\nACCOUNT_BUNDLER_LIST_df.head()\n\ndf \u003d pd.merge(df_a,ACCOUNT_BUNDLER_LIST_df, how\u003d\u0027left\u0027, on\u003d\u0027EDW_CUSTOMER_NAME\u0027)\ndf.loc[df[\"IS_BUNDLER\"].isnull(),\u0027IS_BUNDLER\u0027] \u003d False\ndf.head()"
      ],
      "outputs": [
        {
          "output_type": "execute_result",
          "execution_count": 30,
          "data": {
            "text/plain": "   CUSTOMER_ACCOUNT_ID           CUSTOMER_ACCOUNT_NAME               EDW_CUSTOMER_NAME       ACCOUNT_SINCE_DATE CUSTOMER_SOURCE_SYSTEM_CODE        ACCOUNT_OPEN_DATE      ACCOUNT_CLOSED_DATE ATTRITION_TYPE_NAME ATTRITION_REASON_CODE           ATTRITION_REASON_DESC  YEAR_NUMBER  QUARTER_NUMBER  ACTIVE_CARD_COUNT IS_BUNDLER\n0         467000007757                      GSK (0G75)                      GSK (0G75)  2007-07-06 00:00:00.000                      TANDEM  2007-07-06 00:00:00.000  2020-11-11 00:00:00.000     NNCL Conversion                    04              Account Conversion         2013               1                551      False\n1         411007070444             ST OF GA DOT (2006)                STATE OF GEORGIA  2006-05-19 00:00:00.000                      TANDEM  2006-05-19 00:00:00.000  2016-05-03 00:00:00.000           Voluntary                    16  Customer Would Not Give Reason         2012               3               4098      False\n2         463007323389      ACCIDENT FUND INSURANCE CO      ACCIDENT FUND INSURANCE CO  2006-12-29 00:00:00.000                      TANDEM  2006-12-29 00:00:00.000  2019-03-29 00:00:00.000     NNCL Conversion                    04              Account Conversion         2012               1                179      False\n3         428006800627  MCKINNIS ROOFING \u0026 SHEET METAL  MCKINNIS ROOFING \u0026 SHEET METAL  2005-09-21 00:00:00.000                      TANDEM  2005-09-21 00:00:00.000  2015-06-22 00:00:00.000     NNCL Conversion                    04              Account Conversion         2010               1                 28      False\n4         411008196354                 SCAPESGROUP LLC                 SCAPESGROUP LLC  2010-03-12 00:00:00.000                      TANDEM  2010-03-12 00:00:00.000  2022-04-25 00:00:00.000         Involuntary                    01          Closed by WEX - Credit         2012               2                 21      False",
            "text/html": "\u003cdiv\u003e\n\u003cstyle scoped\u003e\n    .dataframe tbody tr th:only-of-type {\n        vertical-align: middle;\n    }\n\n    .dataframe tbody tr th {\n        vertical-align: top;\n    }\n\n    .dataframe thead th {\n        text-align: right;\n    }\n\u003c/style\u003e\n\u003ctable border\u003d\"1\" class\u003d\"dataframe\"\u003e\n  \u003cthead\u003e\n    \u003ctr style\u003d\"text-align: right;\"\u003e\n      \u003cth\u003e\u003c/th\u003e\n      \u003cth\u003eCUSTOMER_ACCOUNT_ID\u003c/th\u003e\n      \u003cth\u003eCUSTOMER_ACCOUNT_NAME\u003c/th\u003e\n      \u003cth\u003eEDW_CUSTOMER_NAME\u003c/th\u003e\n      \u003cth\u003eACCOUNT_SINCE_DATE\u003c/th\u003e\n      \u003cth\u003eCUSTOMER_SOURCE_SYSTEM_CODE\u003c/th\u003e\n      \u003cth\u003eACCOUNT_OPEN_DATE\u003c/th\u003e\n      \u003cth\u003eACCOUNT_CLOSED_DATE\u003c/th\u003e\n      \u003cth\u003eATTRITION_TYPE_NAME\u003c/th\u003e\n      \u003cth\u003eATTRITION_REASON_CODE\u003c/th\u003e\n      \u003cth\u003eATTRITION_REASON_DESC\u003c/th\u003e\n      \u003cth\u003eYEAR_NUMBER\u003c/th\u003e\n      \u003cth\u003eQUARTER_NUMBER\u003c/th\u003e\n      \u003cth\u003eACTIVE_CARD_COUNT\u003c/th\u003e\n      \u003cth\u003eIS_BUNDLER\u003c/th\u003e\n    \u003c/tr\u003e\n  \u003c/thead\u003e\n  \u003ctbody\u003e\n    \u003ctr\u003e\n      \u003cth\u003e0\u003c/th\u003e\n      \u003ctd\u003e467000007757\u003c/td\u003e\n      \u003ctd\u003eGSK (0G75)\u003c/td\u003e\n      \u003ctd\u003eGSK (0G75)\u003c/td\u003e\n      \u003ctd\u003e2007-07-06 00:00:00.000\u003c/td\u003e\n      \u003ctd\u003eTANDEM\u003c/td\u003e\n      \u003ctd\u003e2007-07-06 00:00:00.000\u003c/td\u003e\n      \u003ctd\u003e2020-11-11 00:00:00.000\u003c/td\u003e\n      \u003ctd\u003eNNCL Conversion\u003c/td\u003e\n      \u003ctd\u003e04\u003c/td\u003e\n      \u003ctd\u003eAccount Conversion\u003c/td\u003e\n      \u003ctd\u003e2013\u003c/td\u003e\n      \u003ctd\u003e1\u003c/td\u003e\n      \u003ctd\u003e551\u003c/td\u003e\n      \u003ctd\u003eFalse\u003c/td\u003e\n    \u003c/tr\u003e\n    \u003ctr\u003e\n      \u003cth\u003e1\u003c/th\u003e\n      \u003ctd\u003e411007070444\u003c/td\u003e\n      \u003ctd\u003eST OF GA DOT (2006)\u003c/td\u003e\n      \u003ctd\u003eSTATE OF GEORGIA\u003c/td\u003e\n      \u003ctd\u003e2006-05-19 00:00:00.000\u003c/td\u003e\n      \u003ctd\u003eTANDEM\u003c/td\u003e\n      \u003ctd\u003e2006-05-19 00:00:00.000\u003c/td\u003e\n      \u003ctd\u003e2016-05-03 00:00:00.000\u003c/td\u003e\n      \u003ctd\u003eVoluntary\u003c/td\u003e\n      \u003ctd\u003e16\u003c/td\u003e\n      \u003ctd\u003eCustomer Would Not Give Reason\u003c/td\u003e\n      \u003ctd\u003e2012\u003c/td\u003e\n      \u003ctd\u003e3\u003c/td\u003e\n      \u003ctd\u003e4098\u003c/td\u003e\n      \u003ctd\u003eFalse\u003c/td\u003e\n    \u003c/tr\u003e\n    \u003ctr\u003e\n      \u003cth\u003e2\u003c/th\u003e\n      \u003ctd\u003e463007323389\u003c/td\u003e\n      \u003ctd\u003eACCIDENT FUND INSURANCE CO\u003c/td\u003e\n      \u003ctd\u003eACCIDENT FUND INSURANCE CO\u003c/td\u003e\n      \u003ctd\u003e2006-12-29 00:00:00.000\u003c/td\u003e\n      \u003ctd\u003eTANDEM\u003c/td\u003e\n      \u003ctd\u003e2006-12-29 00:00:00.000\u003c/td\u003e\n      \u003ctd\u003e2019-03-29 00:00:00.000\u003c/td\u003e\n      \u003ctd\u003eNNCL Conversion\u003c/td\u003e\n      \u003ctd\u003e04\u003c/td\u003e\n      \u003ctd\u003eAccount Conversion\u003c/td\u003e\n      \u003ctd\u003e2012\u003c/td\u003e\n      \u003ctd\u003e1\u003c/td\u003e\n      \u003ctd\u003e179\u003c/td\u003e\n      \u003ctd\u003eFalse\u003c/td\u003e\n    \u003c/tr\u003e\n    \u003ctr\u003e\n      \u003cth\u003e3\u003c/th\u003e\n      \u003ctd\u003e428006800627\u003c/td\u003e\n      \u003ctd\u003eMCKINNIS ROOFING \u0026amp; SHEET METAL\u003c/td\u003e\n      \u003ctd\u003eMCKINNIS ROOFING \u0026amp; SHEET METAL\u003c/td\u003e\n      \u003ctd\u003e2005-09-21 00:00:00.000\u003c/td\u003e\n      \u003ctd\u003eTANDEM\u003c/td\u003e\n      \u003ctd\u003e2005-09-21 00:00:00.000\u003c/td\u003e\n      \u003ctd\u003e2015-06-22 00:00:00.000\u003c/td\u003e\n      \u003ctd\u003eNNCL Conversion\u003c/td\u003e\n      \u003ctd\u003e04\u003c/td\u003e\n      \u003ctd\u003eAccount Conversion\u003c/td\u003e\n      \u003ctd\u003e2010\u003c/td\u003e\n      \u003ctd\u003e1\u003c/td\u003e\n      \u003ctd\u003e28\u003c/td\u003e\n      \u003ctd\u003eFalse\u003c/td\u003e\n    \u003c/tr\u003e\n    \u003ctr\u003e\n      \u003cth\u003e4\u003c/th\u003e\n      \u003ctd\u003e411008196354\u003c/td\u003e\n      \u003ctd\u003eSCAPESGROUP LLC\u003c/td\u003e\n      \u003ctd\u003eSCAPESGROUP LLC\u003c/td\u003e\n      \u003ctd\u003e2010-03-12 00:00:00.000\u003c/td\u003e\n      \u003ctd\u003eTANDEM\u003c/td\u003e\n      \u003ctd\u003e2010-03-12 00:00:00.000\u003c/td\u003e\n      \u003ctd\u003e2022-04-25 00:00:00.000\u003c/td\u003e\n      \u003ctd\u003eInvoluntary\u003c/td\u003e\n      \u003ctd\u003e01\u003c/td\u003e\n      \u003ctd\u003eClosed by WEX - Credit\u003c/td\u003e\n      \u003ctd\u003e2012\u003c/td\u003e\n      \u003ctd\u003e2\u003c/td\u003e\n      \u003ctd\u003e21\u003c/td\u003e\n      \u003ctd\u003eFalse\u003c/td\u003e\n    \u003c/tr\u003e\n  \u003c/tbody\u003e\n\u003c/table\u003e\n\u003c/div\u003e"
          },
          "metadata": {}
        }
      ]
    },
    {
      "execution_count": 31,
      "cell_type": "code",
      "metadata": {},
      "source": [
        "df[\u0027CUSTOMER\u0027] \u003d np.nan\ndf[\u0027CUST_CALC_SOURCE\u0027] \u003d \u0027Unknown\u0027\ndf.loc[df.IS_BUNDLER,\u0027EDW_CUSTOMER_NAME\u0027] \u003d np.nan\n\ndf.loc[~df[\u0027EDW_CUSTOMER_NAME\u0027].isnull(),\u0027CUSTOMER\u0027] \u003d df[\"EDW_CUSTOMER_NAME\"]\ndf.loc[~df[\u0027EDW_CUSTOMER_NAME\u0027].isnull(),\u0027CUST_CALC_SOURCE\u0027] \u003d \u0027EDW\u0027\n\ndf.loc[df[\u0027CUSTOMER\u0027].isnull(),\u0027CUST_CALC_SOURCE\u0027] \u003d \u0027ACCOUNT\u0027\ndf.loc[df[\u0027CUSTOMER\u0027].isnull(),\u0027CUSTOMER\u0027] \u003d df.CUSTOMER_ACCOUNT_NAME\n\n\nending_tokens \u003d [\u0027 2\u0027, \u0027 3\u0027, \u0027 4\u0027, \u0027 04\u0027, \u0027 5\u0027, \u0027 6\u0027, \u0027 7\u0027, \u0027 8\u0027, \u0027 9\u0027,\u0027 (2)\u0027,\n                 \u0027 (3)\u0027,\u0027 (04)\u0027,\u0027 (4)\u0027, \u0027 (5)\u0027, \u0027 (6)\u0027, \u0027 (7)\u0027, \u0027 (8)\u0027,\n                 \u0027 (9)\u0027,\u0027 (25)\u0027,\u0027  (32)\u0027, \u0027 AD\u0027, \u0027 LD\u0027, \u0027L1\u0027]\n\ndf[\u0027CUSTOMER\u0027].str.strip()\n\nfor s in ending_tokens:\n    index_offset \u003d -1*(len(s))\n    df.loc[df[\u0027CUSTOMER\u0027].str.endswith(s, na\u003dFalse),\"CUSTOMER\"] \u003d df[\u0027CUSTOMER\u0027].str[:index_offset]\n"
      ],
      "outputs": []
    },
    {
      "execution_count": 0,
      "cell_type": "code",
      "metadata": {},
      "source": [
        "df[\u0027REVENUE_DATE\u0027] \u003d 3*df.QUARTER_"
      ],
      "outputs": []
    },
    {
      "execution_count": 39,
      "cell_type": "code",
      "metadata": {},
      "source": [
        "df.CUST_CALC_SOURCE.value_counts(dropna\u003dFalse)"
      ],
      "outputs": [
        {
          "output_type": "execute_result",
          "execution_count": 39,
          "data": {
            "text/plain": "EDW        3442480\nACCOUNT     340518\nName: CUST_CALC_SOURCE, dtype: int64"
          },
          "metadata": {}
        }
      ]
    },
    {
      "execution_count": 40,
      "cell_type": "code",
      "metadata": {},
      "source": [
        "df.head()"
      ],
      "outputs": [
        {
          "output_type": "execute_result",
          "execution_count": 40,
          "data": {
            "text/plain": "   CUSTOMER_ACCOUNT_ID           CUSTOMER_ACCOUNT_NAME               EDW_CUSTOMER_NAME       ACCOUNT_SINCE_DATE CUSTOMER_SOURCE_SYSTEM_CODE        ACCOUNT_OPEN_DATE      ACCOUNT_CLOSED_DATE ATTRITION_TYPE_NAME ATTRITION_REASON_CODE           ATTRITION_REASON_DESC  YEAR_NUMBER  QUARTER_NUMBER  ACTIVE_CARD_COUNT IS_BUNDLER                        CUSTOMER CUST_CALC_SOURCE\n0         467000007757                      GSK (0G75)                      GSK (0G75)  2007-07-06 00:00:00.000                      TANDEM  2007-07-06 00:00:00.000  2020-11-11 00:00:00.000     NNCL Conversion                    04              Account Conversion         2013               1                551      False                      GSK (0G75)              EDW\n1         411007070444             ST OF GA DOT (2006)                STATE OF GEORGIA  2006-05-19 00:00:00.000                      TANDEM  2006-05-19 00:00:00.000  2016-05-03 00:00:00.000           Voluntary                    16  Customer Would Not Give Reason         2012               3               4098      False                STATE OF GEORGIA              EDW\n2         463007323389      ACCIDENT FUND INSURANCE CO      ACCIDENT FUND INSURANCE CO  2006-12-29 00:00:00.000                      TANDEM  2006-12-29 00:00:00.000  2019-03-29 00:00:00.000     NNCL Conversion                    04              Account Conversion         2012               1                179      False      ACCIDENT FUND INSURANCE CO              EDW\n3         428006800627  MCKINNIS ROOFING \u0026 SHEET METAL  MCKINNIS ROOFING \u0026 SHEET METAL  2005-09-21 00:00:00.000                      TANDEM  2005-09-21 00:00:00.000  2015-06-22 00:00:00.000     NNCL Conversion                    04              Account Conversion         2010               1                 28      False  MCKINNIS ROOFING \u0026 SHEET METAL              EDW\n4         411008196354                 SCAPESGROUP LLC                 SCAPESGROUP LLC  2010-03-12 00:00:00.000                      TANDEM  2010-03-12 00:00:00.000  2022-04-25 00:00:00.000         Involuntary                    01          Closed by WEX - Credit         2012               2                 21      False                 SCAPESGROUP LLC              EDW",
            "text/html": "\u003cdiv\u003e\n\u003cstyle scoped\u003e\n    .dataframe tbody tr th:only-of-type {\n        vertical-align: middle;\n    }\n\n    .dataframe tbody tr th {\n        vertical-align: top;\n    }\n\n    .dataframe thead th {\n        text-align: right;\n    }\n\u003c/style\u003e\n\u003ctable border\u003d\"1\" class\u003d\"dataframe\"\u003e\n  \u003cthead\u003e\n    \u003ctr style\u003d\"text-align: right;\"\u003e\n      \u003cth\u003e\u003c/th\u003e\n      \u003cth\u003eCUSTOMER_ACCOUNT_ID\u003c/th\u003e\n      \u003cth\u003eCUSTOMER_ACCOUNT_NAME\u003c/th\u003e\n      \u003cth\u003eEDW_CUSTOMER_NAME\u003c/th\u003e\n      \u003cth\u003eACCOUNT_SINCE_DATE\u003c/th\u003e\n      \u003cth\u003eCUSTOMER_SOURCE_SYSTEM_CODE\u003c/th\u003e\n      \u003cth\u003eACCOUNT_OPEN_DATE\u003c/th\u003e\n      \u003cth\u003eACCOUNT_CLOSED_DATE\u003c/th\u003e\n      \u003cth\u003eATTRITION_TYPE_NAME\u003c/th\u003e\n      \u003cth\u003eATTRITION_REASON_CODE\u003c/th\u003e\n      \u003cth\u003eATTRITION_REASON_DESC\u003c/th\u003e\n      \u003cth\u003eYEAR_NUMBER\u003c/th\u003e\n      \u003cth\u003eQUARTER_NUMBER\u003c/th\u003e\n      \u003cth\u003eACTIVE_CARD_COUNT\u003c/th\u003e\n      \u003cth\u003eIS_BUNDLER\u003c/th\u003e\n      \u003cth\u003eCUSTOMER\u003c/th\u003e\n      \u003cth\u003eCUST_CALC_SOURCE\u003c/th\u003e\n    \u003c/tr\u003e\n  \u003c/thead\u003e\n  \u003ctbody\u003e\n    \u003ctr\u003e\n      \u003cth\u003e0\u003c/th\u003e\n      \u003ctd\u003e467000007757\u003c/td\u003e\n      \u003ctd\u003eGSK (0G75)\u003c/td\u003e\n      \u003ctd\u003eGSK (0G75)\u003c/td\u003e\n      \u003ctd\u003e2007-07-06 00:00:00.000\u003c/td\u003e\n      \u003ctd\u003eTANDEM\u003c/td\u003e\n      \u003ctd\u003e2007-07-06 00:00:00.000\u003c/td\u003e\n      \u003ctd\u003e2020-11-11 00:00:00.000\u003c/td\u003e\n      \u003ctd\u003eNNCL Conversion\u003c/td\u003e\n      \u003ctd\u003e04\u003c/td\u003e\n      \u003ctd\u003eAccount Conversion\u003c/td\u003e\n      \u003ctd\u003e2013\u003c/td\u003e\n      \u003ctd\u003e1\u003c/td\u003e\n      \u003ctd\u003e551\u003c/td\u003e\n      \u003ctd\u003eFalse\u003c/td\u003e\n      \u003ctd\u003eGSK (0G75)\u003c/td\u003e\n      \u003ctd\u003eEDW\u003c/td\u003e\n    \u003c/tr\u003e\n    \u003ctr\u003e\n      \u003cth\u003e1\u003c/th\u003e\n      \u003ctd\u003e411007070444\u003c/td\u003e\n      \u003ctd\u003eST OF GA DOT (2006)\u003c/td\u003e\n      \u003ctd\u003eSTATE OF GEORGIA\u003c/td\u003e\n      \u003ctd\u003e2006-05-19 00:00:00.000\u003c/td\u003e\n      \u003ctd\u003eTANDEM\u003c/td\u003e\n      \u003ctd\u003e2006-05-19 00:00:00.000\u003c/td\u003e\n      \u003ctd\u003e2016-05-03 00:00:00.000\u003c/td\u003e\n      \u003ctd\u003eVoluntary\u003c/td\u003e\n      \u003ctd\u003e16\u003c/td\u003e\n      \u003ctd\u003eCustomer Would Not Give Reason\u003c/td\u003e\n      \u003ctd\u003e2012\u003c/td\u003e\n      \u003ctd\u003e3\u003c/td\u003e\n      \u003ctd\u003e4098\u003c/td\u003e\n      \u003ctd\u003eFalse\u003c/td\u003e\n      \u003ctd\u003eSTATE OF GEORGIA\u003c/td\u003e\n      \u003ctd\u003eEDW\u003c/td\u003e\n    \u003c/tr\u003e\n    \u003ctr\u003e\n      \u003cth\u003e2\u003c/th\u003e\n      \u003ctd\u003e463007323389\u003c/td\u003e\n      \u003ctd\u003eACCIDENT FUND INSURANCE CO\u003c/td\u003e\n      \u003ctd\u003eACCIDENT FUND INSURANCE CO\u003c/td\u003e\n      \u003ctd\u003e2006-12-29 00:00:00.000\u003c/td\u003e\n      \u003ctd\u003eTANDEM\u003c/td\u003e\n      \u003ctd\u003e2006-12-29 00:00:00.000\u003c/td\u003e\n      \u003ctd\u003e2019-03-29 00:00:00.000\u003c/td\u003e\n      \u003ctd\u003eNNCL Conversion\u003c/td\u003e\n      \u003ctd\u003e04\u003c/td\u003e\n      \u003ctd\u003eAccount Conversion\u003c/td\u003e\n      \u003ctd\u003e2012\u003c/td\u003e\n      \u003ctd\u003e1\u003c/td\u003e\n      \u003ctd\u003e179\u003c/td\u003e\n      \u003ctd\u003eFalse\u003c/td\u003e\n      \u003ctd\u003eACCIDENT FUND INSURANCE CO\u003c/td\u003e\n      \u003ctd\u003eEDW\u003c/td\u003e\n    \u003c/tr\u003e\n    \u003ctr\u003e\n      \u003cth\u003e3\u003c/th\u003e\n      \u003ctd\u003e428006800627\u003c/td\u003e\n      \u003ctd\u003eMCKINNIS ROOFING \u0026amp; SHEET METAL\u003c/td\u003e\n      \u003ctd\u003eMCKINNIS ROOFING \u0026amp; SHEET METAL\u003c/td\u003e\n      \u003ctd\u003e2005-09-21 00:00:00.000\u003c/td\u003e\n      \u003ctd\u003eTANDEM\u003c/td\u003e\n      \u003ctd\u003e2005-09-21 00:00:00.000\u003c/td\u003e\n      \u003ctd\u003e2015-06-22 00:00:00.000\u003c/td\u003e\n      \u003ctd\u003eNNCL Conversion\u003c/td\u003e\n      \u003ctd\u003e04\u003c/td\u003e\n      \u003ctd\u003eAccount Conversion\u003c/td\u003e\n      \u003ctd\u003e2010\u003c/td\u003e\n      \u003ctd\u003e1\u003c/td\u003e\n      \u003ctd\u003e28\u003c/td\u003e\n      \u003ctd\u003eFalse\u003c/td\u003e\n      \u003ctd\u003eMCKINNIS ROOFING \u0026amp; SHEET METAL\u003c/td\u003e\n      \u003ctd\u003eEDW\u003c/td\u003e\n    \u003c/tr\u003e\n    \u003ctr\u003e\n      \u003cth\u003e4\u003c/th\u003e\n      \u003ctd\u003e411008196354\u003c/td\u003e\n      \u003ctd\u003eSCAPESGROUP LLC\u003c/td\u003e\n      \u003ctd\u003eSCAPESGROUP LLC\u003c/td\u003e\n      \u003ctd\u003e2010-03-12 00:00:00.000\u003c/td\u003e\n      \u003ctd\u003eTANDEM\u003c/td\u003e\n      \u003ctd\u003e2010-03-12 00:00:00.000\u003c/td\u003e\n      \u003ctd\u003e2022-04-25 00:00:00.000\u003c/td\u003e\n      \u003ctd\u003eInvoluntary\u003c/td\u003e\n      \u003ctd\u003e01\u003c/td\u003e\n      \u003ctd\u003eClosed by WEX - Credit\u003c/td\u003e\n      \u003ctd\u003e2012\u003c/td\u003e\n      \u003ctd\u003e2\u003c/td\u003e\n      \u003ctd\u003e21\u003c/td\u003e\n      \u003ctd\u003eFalse\u003c/td\u003e\n      \u003ctd\u003eSCAPESGROUP LLC\u003c/td\u003e\n      \u003ctd\u003eEDW\u003c/td\u003e\n    \u003c/tr\u003e\n  \u003c/tbody\u003e\n\u003c/table\u003e\n\u003c/div\u003e"
          },
          "metadata": {}
        }
      ]
    },
    {
      "execution_count": 32,
      "cell_type": "code",
      "metadata": {},
      "source": [
        "#df_account_with_customer \u003d df[[\u0027CUSTOMER_ACCOUNT_ID\u0027,\u0027CUSTOMER\u0027]].copy()\n#df_account_with_customer \u003d df_account_with_customer.drop_duplicates(subset\u003d\u0027CUSTOMER_ACCOUNT_ID\u0027)\n#print(len(df_account_with_customer))\n#df_account_with_customer.head()\n\n#df_g.columns \u003d [\u0027CUSTOMER\u0027,\u0027ACCOUNT_COUNT\u0027]\n#df_g \u003d df_g.sort_values(by\u003d[\u0027ACCOUNT_COUNT\u0027], ascending\u003dFalse)\n#df_g.head(100)\n\n#NAFCUSTOMER_RDW_CONVERSIONS_df.head()\n#NAFCUSTOMER_RDW_CONVERSIONS_df.STATUS_DATE.min()\n\n#NAFCUSTOMER_RDW_CONVERSIONS_df.head()\n#df_conv \u003d NAFCUSTOMER_RDW_CONVERSIONS_df[[\u0027FLEET_ID\u0027,\u0027CLASSIC_ACCOUNT_NUMBER\u0027,\u0027FLEET_NAME\u0027]].copy()\n#print(len(df_conv))\n#df_conv \u003d df_conv[~df_conv.CLASSIC_ACCOUNT_NUMBER.isnull()]\n#print(len(df_conv))\n\n#df_conv.columns \u003d [\u0027CUSTOMER_ACCOUNT_ID\u0027, \u0027CLASSIC_CUSTOMER_ACCOUNT_ID\u0027, \u0027FLEET_NAME\u0027]\n#df_conv[\u0027CUSTOMER_ACCOUNT_ID\u0027] \u003d df_conv[\u0027CUSTOMER_ACCOUNT_ID\u0027].astype(\u0027Int64\u0027, errors\u003d\u0027ignore\u0027)\n#df_conv[\u0027CLASSIC_CUSTOMER_ACCOUNT_ID\u0027] \u003d pd.to_numeric(df_conv[\u0027CLASSIC_CUSTOMER_ACCOUNT_ID\u0027], errors\u003d\u0027coerce\u0027)\n#df_conv \u003d df_conv[~df_conv.CLASSIC_CUSTOMER_ACCOUNT_ID.isnull()]\n#df_conv[\u0027CLASSIC_CUSTOMER_ACCOUNT_ID\u0027] \u003d df_conv[\u0027CLASSIC_CUSTOMER_ACCOUNT_ID\u0027].astype(\u0027int64\u0027, errors\u003d\u0027ignore\u0027)\n#df_conv[\u0027CLASSIC_CUSTOMER_ACCOUNT_ID\u0027] \u003d df_conv[\u0027CLASSIC_CUSTOMER_ACCOUNT_ID\u0027].astype(\u0027Int64\u0027, errors\u003d\u0027ignore\u0027)\n\n#df_conv \u003d pd.merge(df_conv, df_account_with_customer, on\u003d\u0027CUSTOMER_ACCOUNT_ID\u0027, how\u003d\u0027inner\u0027)\n#print(len(df_conv))\n#df_conv \u003d df_conv[[\u0027CLASSIC_CUSTOMER_ACCOUNT_ID\u0027,\u0027CUSTOMER\u0027]]\n#df_conv.columns \u003d [\u0027CLASSIC_CUSTOMER_ACCOUNT_ID\u0027,\u0027CUSTOMER_CONVERTED_TO\u0027]\n#df_conv.head()"
      ],
      "outputs": []
    },
    {
      "execution_count": 33,
      "cell_type": "code",
      "metadata": {},
      "source": [
        "#df \u003d df[[\u0027CUSTOMER_ACCOUNT_ID\u0027,\u0027CUSTOMER_ACCOUNT_NAME\u0027,\u0027YEAR_NUMBER\u0027,\u0027QUARTER_NUMBER\u0027,\u0027ACTIVE_CARD_COUNT\u0027,\u0027CUSTOMER\u0027,\u0027CUST_CALC_SOURCE\u0027]]\n#print(len(df))"
      ],
      "outputs": []
    },
    {
      "execution_count": 34,
      "cell_type": "code",
      "metadata": {},
      "source": [
        "#print(len(df))\n#df \u003d pd.merge(df, df_conv, left_on\u003d\u0027CUSTOMER_ACCOUNT_ID\u0027, right_on\u003d\u0027CLASSIC_CUSTOMER_ACCOUNT_ID\u0027, how\u003d\u0027left\u0027)\n#print(len(df))"
      ],
      "outputs": []
    },
    {
      "execution_count": 35,
      "cell_type": "code",
      "metadata": {},
      "source": [
        "#df.CUSTOMER_CONVERTED_TO.value_counts()"
      ],
      "outputs": []
    },
    {
      "execution_count": 108,
      "cell_type": "code",
      "metadata": {},
      "source": [
        "#df.loc[~df[\u0027CUSTOMER_CONVERTED_TO\u0027].isnull(),\u0027CUSTOMER\u0027] \u003d df.CUSTOMER_CONVERTED_TO"
      ],
      "outputs": []
    },
    {
      "execution_count": 36,
      "cell_type": "code",
      "metadata": {},
      "source": [
        "#df.head()"
      ],
      "outputs": []
    },
    {
      "execution_count": 37,
      "cell_type": "code",
      "metadata": {},
      "source": [
        "# Write recipe outputs\n#NAFCUSTOMER_LONG_HISTORY_MATCHES \u003d dataiku.Dataset(\"NAFCUSTOMER_LONG_HISTORY_MATCHES\")\n#NAFCUSTOMER_LONG_HISTORY_MATCHES.write_with_schema(NAFCUSTOMER_LONG_HISTORY_MATCHES_df)"
      ],
      "outputs": []
    }
  ]
}