{
  "nbformat": 4,
  "nbformat_minor": 0,
  "metadata": {
    "kernelspec": {
      "display_name": "Python in cpu-m-cpu-3-mem-4Gb (builtin env)",
      "language": "python",
      "name": "py-dku-containerized-venv--cpu-m-cpu-3-mem-4gb"
    },
    "associatedRecipe": "compute_NAFCUSTOMER_LONG_HISTORY_MATCHES",
    "dkuGit": {
      "lastInteraction": 0
    },
    "creationTag": {
      "versionNumber": 0,
      "lastModifiedBy": {
        "login": "Daniel.Vandermeer"
      },
      "lastModifiedOn": 1675368834596
    },
    "creator": "Daniel.Vandermeer",
    "createdOn": 1675368834596,
    "tags": [
      "recipe-editor"
    ],
    "customFields": {}
  },
  "cells": [
    {
      "cell_type": "code",
      "metadata": {},
      "outputs": [],
      "execution_count": 0,
      "source": [
        "# -*- coding: utf-8 -*-\n",
        "import dataiku\n",
        "import pandas as pd, numpy as np\n",
        "from dataiku import pandasutils as pdu\n",
        "\n",
        "# Read recipe inputs\n",
        "NAFCUSTOMER_ACCOUNT_ACTIVE_CARDS_BY_QUARTER \u003d dataiku.Dataset(\"NAFCUSTOMER_ACCOUNT_ACTIVE_CARDS_BY_QUARTER\")\n",
        "NAFCUSTOMER_ACCOUNT_ACTIVE_CARDS_BY_QUARTER_df \u003d NAFCUSTOMER_ACCOUNT_ACTIVE_CARDS_BY_QUARTER.get_dataframe()\n",
        "\n",
        "\n",
        "# Compute recipe outputs from inputs\n",
        "# TODO: Replace this part by your actual code that computes the output, as a Pandas dataframe\n",
        "# NB: DSS also supports other kinds of APIs for reading and writing data. Please see doc.\n",
        "\n",
        "NAFCUSTOMER_LONG_HISTORY_MATCHES_df \u003d NAFCUSTOMER_ACCOUNT_ACTIVE_CARDS_BY_QUARTER_df # For this sample code, simply copy input to output\n",
        "NAFCUSTOMER_RDW_CONVERSIONS_df \u003d NAFCUSTOMER_RDW_CONVERSIONS_df # For this sample code, simply copy input to output\n",
        "\n",
        "\n",
        "\n",
        "# Write recipe outputs\n",
        "NAFCUSTOMER_LONG_HISTORY_MATCHES \u003d dataiku.Dataset(\"NAFCUSTOMER_LONG_HISTORY_MATCHES\")\n",
        "NAFCUSTOMER_LONG_HISTORY_MATCHES.write_with_schema(NAFCUSTOMER_LONG_HISTORY_MATCHES_df)"
      ]
    }
  ]
}