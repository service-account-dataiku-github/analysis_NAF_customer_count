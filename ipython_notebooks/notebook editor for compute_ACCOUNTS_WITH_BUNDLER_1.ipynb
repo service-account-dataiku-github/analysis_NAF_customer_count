{
  "metadata": {
    "kernelspec": {
      "name": "py-dku-venv-env_clc",
      "display_name": "Python (env env_clc)",
      "language": "python"
    },
    "associatedRecipe": "compute_ACCOUNTS_WITH_BUNDLER",
    "dkuGit": {
      "lastInteraction": 0
    },
    "creationTag": {
      "versionNumber": 0,
      "lastModifiedBy": {
        "login": "Daniel.Vandermeer"
      },
      "lastModifiedOn": 1667315292390
    },
    "creator": "Daniel.Vandermeer",
    "createdOn": 1667315292390,
    "tags": [
      "recipe-editor"
    ],
    "customFields": {},
    "hide_input": false,
    "language_info": {
      "name": "python",
      "version": "3.6.8",
      "mimetype": "text/x-python",
      "codemirror_mode": {
        "name": "ipython",
        "version": 3
      },
      "pygments_lexer": "ipython3",
      "nbconvert_exporter": "python",
      "file_extension": ".py"
    },
    "modifiedBy": "Daniel.Vandermeer"
  },
  "nbformat": 4,
  "nbformat_minor": 1,
  "cells": [
    {
      "execution_count": 1,
      "cell_type": "code",
      "metadata": {},
      "source": [
        "# -*- coding: utf-8 -*-\nimport dataiku\nimport pandas as pd, numpy as np\nfrom dataiku import pandasutils as pdu\n\n# Read recipe inputs\nNAFCUSTOMER_C360_ACCOUNTS \u003d dataiku.Dataset(\"NAFCUSTOMER_C360_ACCOUNTS\")\nNAFCUSTOMER_C360_ACCOUNTS_df \u003d NAFCUSTOMER_C360_ACCOUNTS.get_dataframe()\n\nACCOUNT_BUNDLER_LIST \u003d dataiku.Dataset(\"ACCOUNT_BUNDLER_LIST\")\nACCOUNT_BUNDLER_LIST_df \u003d ACCOUNT_BUNDLER_LIST.get_dataframe()\n\nACCOUNTS_PARTY_EXTRACT \u003d dataiku.Dataset(\"Account_Party_extract\")\nACCOUNTS_PARTY_EXTRACT_df \u003d ACCOUNTS_PARTY_EXTRACT.get_dataframe()\n"
      ],
      "outputs": [
        {
          "output_type": "stream",
          "text": "/data/dataiku/dss_data/code-envs/python/env_clc/lib/python3.6/site-packages/IPython/core/interactiveshell.py:3263: DtypeWarning: Columns (6) have mixed types.Specify dtype option on import or set low_memory\u003dFalse.\n  if (await self.run_code(code, result,  async_\u003dasy)):\n",
          "name": "stderr"
        }
      ]
    },
    {
      "execution_count": 2,
      "cell_type": "code",
      "metadata": {},
      "source": [
        "ACCOUNT_BUNDLER_LIST_df[\u0027IS_BUNDLER\u0027] \u003d True\nACCOUNT_BUNDLER_LIST_df \u003d ACCOUNT_BUNDLER_LIST_df[[\u0027EDW_CUSTOMER_NAME\u0027,\u0027IS_BUNDLER\u0027]]\n\ndf \u003d pd.merge(NAFCUSTOMER_C360_ACCOUNTS_df,ACCOUNT_BUNDLER_LIST_df, how\u003d\u0027left\u0027, on\u003d\u0027EDW_CUSTOMER_NAME\u0027)\ndf[\u0027DUNS\u0027] \u003d df[\u0027DUNS\u0027].astype(\u0027Int64\u0027, errors\u003d\u0027ignore\u0027)\n\ndf.loc[df[\"IS_BUNDLER\"].isnull(),\u0027IS_BUNDLER\u0027] \u003d False\ndf.loc[df[\"IS_BUNDLER\"],\u0027EDW_CUSTOMER_NAME\u0027] \u003d np.nan\n\n# override --\u003e need to figure out how to deal with these additions\ndf.loc[df[\"EDW_CUSTOMER_NAME\"]\u003d\u003d\u0027EXXONMOBIL PL CONVERSION L1\u0027,\u0027IS_BUNDLER\u0027] \u003d True"
      ],
      "outputs": []
    },
    {
      "execution_count": 14,
      "cell_type": "code",
      "metadata": {},
      "source": [
        "# MDM matches, shared by Wes Corbin during the week of Nov 17, 2022\n# key columns: ACCOUNTNUMBER, WEXBUSINESSID, NAME, DUNS\n\nACCOUNTS_PARTY_EXTRACT \u003d dataiku.Dataset(\"Account_Party_extract\")\nACCOUNTS_PARTY_EXTRACT_df \u003d ACCOUNTS_PARTY_EXTRACT.get_dataframe()\n\nprint(len(ACCOUNTS_PARTY_EXTRACT_df))\n\nACCOUNTS_PARTY_EXTRACT_df \u003d ACCOUNTS_PARTY_EXTRACT_df[~ACCOUNTS_PARTY_EXTRACT_df.ACCOUNTNUMBER.str.contains(\u0027-\u0027, na\u003dFalse)]\nACCOUNTS_PARTY_EXTRACT_df[\u0027ACCOUNTNUMBER\u0027] \u003d ACCOUNTS_PARTY_EXTRACT_df[\u0027ACCOUNTNUMBER\u0027].str.strip()\nACCOUNTS_PARTY_EXTRACT_df[\u0027ACCOUNTNUMBER\u0027] \u003d ACCOUNTS_PARTY_EXTRACT_df[\u0027ACCOUNTNUMBER\u0027].astype(\u0027float\u0027)\nACCOUNTS_PARTY_EXTRACT_df[\u0027ACCOUNTNUMBER\u0027] \u003d ACCOUNTS_PARTY_EXTRACT_df[\u0027ACCOUNTNUMBER\u0027].astype(\u0027Int64\u0027)"
      ],
      "outputs": [
        {
          "output_type": "stream",
          "text": "2149826\n",
          "name": "stdout"
        }
      ]
    },
    {
      "execution_count": 15,
      "cell_type": "code",
      "metadata": {},
      "source": [
        "ACCOUNTS_PARTY_EXTRACT_df.dtypes"
      ],
      "outputs": [
        {
          "output_type": "execute_result",
          "execution_count": 15,
          "data": {
            "text/plain": "WEXBUSINESSID            int64\nACCOUNTPARTYROLE        object\nEBXMATCHGROUPID        float64\nGROUPSIZE                int64\nDUNS                   float64\nNAME                    object\nACCOUNTNUMBER            Int64\nACCOUNTPLATFORM_        object\nRPLACCOUNTSETUPDATE     object\ndtype: object"
          },
          "metadata": {}
        }
      ]
    },
    {
      "execution_count": 17,
      "cell_type": "code",
      "metadata": {},
      "source": [
        "print(len(df))\ndf_j \u003d pd.merge(df, ACCOUNTS_PARTY_EXTRACT_df, left_on\u003d\u0027CUSTOMER_ACCOUNT_ID\u0027, right_on\u003d\u0027ACCOUNTNUMBER\u0027)"
      ],
      "outputs": [
        {
          "output_type": "execute_result",
          "execution_count": 17,
          "data": {
            "text/plain": "   CUSTOMER_ACCOUNT_ID        CUSTOMER_ACCOUNT_NAME           EDW_CUSTOMER_NAME       DUNS IS_BUNDLER\n0        9100008895186            METRO FOUNDATIONS                         NaN   57123175       True\n1        9100003606921          CYRILLA LANDSCAPING         CYRILLA LANDSCAPING  146530154      False\n2        6122004189767   GERMAIN PLUMB  HEATING INC  GERMAIN PLUMB  HEATING INC  161346598      False\n3        9100006987447        HOSLER MECHANICAL INC                         NaN  121515209       True\n4        9100009447507  MUNIZ EXECUTIVE ENTERPRISES                         NaN   81875142       True",
            "text/html": "\u003cdiv\u003e\n\u003cstyle scoped\u003e\n    .dataframe tbody tr th:only-of-type {\n        vertical-align: middle;\n    }\n\n    .dataframe tbody tr th {\n        vertical-align: top;\n    }\n\n    .dataframe thead th {\n        text-align: right;\n    }\n\u003c/style\u003e\n\u003ctable border\u003d\"1\" class\u003d\"dataframe\"\u003e\n  \u003cthead\u003e\n    \u003ctr style\u003d\"text-align: right;\"\u003e\n      \u003cth\u003e\u003c/th\u003e\n      \u003cth\u003eCUSTOMER_ACCOUNT_ID\u003c/th\u003e\n      \u003cth\u003eCUSTOMER_ACCOUNT_NAME\u003c/th\u003e\n      \u003cth\u003eEDW_CUSTOMER_NAME\u003c/th\u003e\n      \u003cth\u003eDUNS\u003c/th\u003e\n      \u003cth\u003eIS_BUNDLER\u003c/th\u003e\n    \u003c/tr\u003e\n  \u003c/thead\u003e\n  \u003ctbody\u003e\n    \u003ctr\u003e\n      \u003cth\u003e0\u003c/th\u003e\n      \u003ctd\u003e9100008895186\u003c/td\u003e\n      \u003ctd\u003eMETRO FOUNDATIONS\u003c/td\u003e\n      \u003ctd\u003eNaN\u003c/td\u003e\n      \u003ctd\u003e57123175\u003c/td\u003e\n      \u003ctd\u003eTrue\u003c/td\u003e\n    \u003c/tr\u003e\n    \u003ctr\u003e\n      \u003cth\u003e1\u003c/th\u003e\n      \u003ctd\u003e9100003606921\u003c/td\u003e\n      \u003ctd\u003eCYRILLA LANDSCAPING\u003c/td\u003e\n      \u003ctd\u003eCYRILLA LANDSCAPING\u003c/td\u003e\n      \u003ctd\u003e146530154\u003c/td\u003e\n      \u003ctd\u003eFalse\u003c/td\u003e\n    \u003c/tr\u003e\n    \u003ctr\u003e\n      \u003cth\u003e2\u003c/th\u003e\n      \u003ctd\u003e6122004189767\u003c/td\u003e\n      \u003ctd\u003eGERMAIN PLUMB  HEATING INC\u003c/td\u003e\n      \u003ctd\u003eGERMAIN PLUMB  HEATING INC\u003c/td\u003e\n      \u003ctd\u003e161346598\u003c/td\u003e\n      \u003ctd\u003eFalse\u003c/td\u003e\n    \u003c/tr\u003e\n    \u003ctr\u003e\n      \u003cth\u003e3\u003c/th\u003e\n      \u003ctd\u003e9100006987447\u003c/td\u003e\n      \u003ctd\u003eHOSLER MECHANICAL INC\u003c/td\u003e\n      \u003ctd\u003eNaN\u003c/td\u003e\n      \u003ctd\u003e121515209\u003c/td\u003e\n      \u003ctd\u003eTrue\u003c/td\u003e\n    \u003c/tr\u003e\n    \u003ctr\u003e\n      \u003cth\u003e4\u003c/th\u003e\n      \u003ctd\u003e9100009447507\u003c/td\u003e\n      \u003ctd\u003eMUNIZ EXECUTIVE ENTERPRISES\u003c/td\u003e\n      \u003ctd\u003eNaN\u003c/td\u003e\n      \u003ctd\u003e81875142\u003c/td\u003e\n      \u003ctd\u003eTrue\u003c/td\u003e\n    \u003c/tr\u003e\n  \u003c/tbody\u003e\n\u003c/table\u003e\n\u003c/div\u003e"
          },
          "metadata": {}
        }
      ]
    },
    {
      "execution_count": 0,
      "cell_type": "code",
      "metadata": {},
      "source": [
        "ACCOUNTS_WITH_BUNDLER_df \u003d df\n\n# Write recipe outputs\nACCOUNTS_WITH_BUNDLER \u003d dataiku.Dataset(\"ACCOUNTS_WITH_BUNDLER\")\nACCOUNTS_WITH_BUNDLER.write_with_schema(ACCOUNTS_WITH_BUNDLER_df)"
      ],
      "outputs": []
    }
  ]
}