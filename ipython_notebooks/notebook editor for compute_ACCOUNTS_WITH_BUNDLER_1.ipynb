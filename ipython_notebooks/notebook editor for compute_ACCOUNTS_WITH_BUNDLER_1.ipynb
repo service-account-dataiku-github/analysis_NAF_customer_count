{
  "nbformat": 4,
  "nbformat_minor": 0,
  "metadata": {
    "kernelspec": {
      "display_name": "Python in cpu-m-cpu-3-mem-4Gb (builtin env)",
      "language": "python",
      "name": "py-dku-containerized-venv--cpu-m-cpu-3-mem-4gb"
    },
    "associatedRecipe": "compute_ACCOUNTS_WITH_BUNDLER",
    "dkuGit": {
      "lastInteraction": 0
    },
    "creationTag": {
      "versionNumber": 0,
      "lastModifiedBy": {
        "login": "Daniel.Vandermeer"
      },
      "lastModifiedOn": 1667315292390
    },
    "creator": "Daniel.Vandermeer",
    "createdOn": 1667315292390,
    "tags": [
      "recipe-editor"
    ],
    "customFields": {}
  },
  "cells": [
    {
      "cell_type": "code",
      "metadata": {},
      "outputs": [],
      "execution_count": 0,
      "source": [
        "# -*- coding: utf-8 -*-\n",
        "import dataiku\n",
        "import pandas as pd, numpy as np\n",
        "from dataiku import pandasutils as pdu\n",
        "\n",
        "# Read recipe inputs\n",
        "NAFCUSTOMER_C360_ACCOUNTS \u003d dataiku.Dataset(\"NAFCUSTOMER_C360_ACCOUNTS\")\n",
        "NAFCUSTOMER_C360_ACCOUNTS_df \u003d NAFCUSTOMER_C360_ACCOUNTS.get_dataframe()\n",
        "\n",
        "ACCOUNT_BUNDLER_LIST \u003d dataiku.Dataset(\"ACCOUNT_BUNDLER_LIST\")\n",
        "ACCOUNT_BUNDLER_LIST_df \u003d ACCOUNT_BUNDLER_LIST.get_dataframe()\n",
        "\n",
        "ACCOUNTS_PARTY_EXTRACT \u003d dataiku.Dataset(\"Account_Party_extract\")\n",
        "ACCOUNTS_PARTY_EXTRACT_df \u003d ACCOUNTS_PARTY_EXTRACT.get_dataframe()\n",
        "\n",
        "ACCOUNT_BUNDLER_LIST_df[\u0027IS_BUNDLER\u0027] \u003d True\n",
        "ACCOUNT_BUNDLER_LIST_df \u003d ACCOUNT_BUNDLER_LIST_df[[\u0027EDW_CUSTOMER_NAME\u0027,\u0027IS_BUNDLER\u0027]]\n",
        "\n",
        "df \u003d pd.merge(NAFCUSTOMER_C360_ACCOUNTS_df,ACCOUNT_BUNDLER_LIST_df, how\u003d\u0027left\u0027, on\u003d\u0027EDW_CUSTOMER_NAME\u0027)\n",
        "df[\u0027DUNS\u0027] \u003d df[\u0027DUNS\u0027].astype(\u0027Int64\u0027, errors\u003d\u0027ignore\u0027)\n",
        "\n",
        "df.loc[df[\"IS_BUNDLER\"].isnull(),\u0027IS_BUNDLER\u0027] \u003d False\n",
        "df.loc[df[\"IS_BUNDLER\"],\u0027EDW_CUSTOMER_NAME\u0027] \u003d np.nan\n",
        "\n",
        "# override --\u003e need to figure out how to deal with these additions\n",
        "df.loc[df[\"EDW_CUSTOMER_NAME\"]\u003d\u003d\u0027EXXONMOBIL PL CONVERSION L1\u0027,\u0027IS_BUNDLER\u0027] \u003d True\n",
        "\n",
        "# MDM matches, shared by Wes Corbin during the week of Nov 17, 2022\n",
        "# key columns: ACCOUNTNUMBER, WEXBUSINESSID, NAME, DUNS\n",
        "#ACCOUNTS_PARTY_EXTRACT_df \u003d ACCOUNTS_PARTY_EXTRACT_df[~ACCOUNTS_PARTY_EXTRACT_df.ACCOUNTNUMBER.str.contains(\u0027-\u0027, na\u003dFalse)]\n",
        "#ACCOUNTS_PARTY_EXTRACT_df[\u0027ACCOUNTNUMBER\u0027] \u003d ACCOUNTS_PARTY_EXTRACT_df[\u0027ACCOUNTNUMBER\u0027].str.strip()\n",
        "#ACCOUNTS_PARTY_EXTRACT_df[\u0027ACCOUNTNUMBER\u0027] \u003d ACCOUNTS_PARTY_EXTRACT_df[\u0027ACCOUNTNUMBER\u0027].astype(\u0027float\u0027)\n",
        "#ACCOUNTS_PARTY_EXTRACT_df[\u0027ACCOUNTNUMBER\u0027] \u003d ACCOUNTS_PARTY_EXTRACT_df[\u0027ACCOUNTNUMBER\u0027].astype(\u0027Int64\u0027)\n",
        "\n",
        "ACCOUNTS_WITH_BUNDLER_df \u003d df\n",
        "\n",
        "# Write recipe outputs\n",
        "ACCOUNTS_WITH_BUNDLER \u003d dataiku.Dataset(\"ACCOUNTS_WITH_BUNDLER\")\n",
        "ACCOUNTS_WITH_BUNDLER.write_with_schema(ACCOUNTS_WITH_BUNDLER_df)"
      ]
    }
  ]
}