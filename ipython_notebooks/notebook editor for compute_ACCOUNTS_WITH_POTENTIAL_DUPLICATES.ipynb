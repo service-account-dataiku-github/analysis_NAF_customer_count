{
  "metadata": {
    "kernelspec": {
      "name": "py-dku-venv-env_clc",
      "display_name": "Python (env env_clc)",
      "language": "python"
    },
    "associatedRecipe": "compute_ACCOUNTS_WITH_POTENTIAL_DUPLICATES",
    "dkuGit": {
      "lastInteraction": 0
    },
    "creationTag": {
      "versionNumber": 0,
      "lastModifiedBy": {
        "login": "Daniel.Vandermeer"
      },
      "lastModifiedOn": 1665347956778
    },
    "creator": "Daniel.Vandermeer",
    "createdOn": 1665347956778,
    "tags": [
      "recipe-editor"
    ],
    "customFields": {},
    "hide_input": false,
    "language_info": {
      "name": "python",
      "version": "3.6.8",
      "mimetype": "text/x-python",
      "codemirror_mode": {
        "name": "ipython",
        "version": 3
      },
      "pygments_lexer": "ipython3",
      "nbconvert_exporter": "python",
      "file_extension": ".py"
    },
    "modifiedBy": "Daniel.Vandermeer"
  },
  "nbformat": 4,
  "nbformat_minor": 1,
  "cells": [
    {
      "execution_count": 34,
      "cell_type": "code",
      "metadata": {},
      "source": [
        "# -*- coding: utf-8 -*-\nimport dataiku\nimport pandas as pd, numpy as np\nfrom dataiku import pandasutils as pdu\n\n# Read recipe inputs\nACCOUNTS_WITH_CUSTOMER_FROM_EDW_AND_DUNS \u003d dataiku.Dataset(\"ACCOUNTS_WITH_CUSTOMER_FROM_EDW_AND_DUNS\")\nACCOUNTS_WITH_CUSTOMER_FROM_EDW_AND_DUNS_df \u003d ACCOUNTS_WITH_CUSTOMER_FROM_EDW_AND_DUNS.get_dataframe()\n\nNAFCUSTOMER_CUSTOMERS_WITH_MORE_THAN_X_REVENUE \u003d dataiku.Dataset(\"NAFCUSTOMER_CUSTOMERS_WITH_MORE_THAN_X_REVENUE\")\nNAFCUSTOMER_CUSTOMERS_WITH_MORE_THAN_X_REVENUE_df \u003d NAFCUSTOMER_CUSTOMERS_WITH_MORE_THAN_X_REVENUE.get_dataframe()\n\n# Compute recipe outputs from inputs\n# TODO: Replace this part by your actual code that computes the output, as a Pandas dataframe\n# NB: DSS also supports other kinds of APIs for reading and writing data. Please see doc."
      ],
      "outputs": [
        {
          "output_type": "stream",
          "text": "/data/dataiku/dss_data/code-envs/python/env_clc/lib/python3.6/site-packages/IPython/core/interactiveshell.py:3263: DtypeWarning: Columns (6,8,10,12,14) have mixed types.Specify dtype option on import or set low_memory\u003dFalse.\n  if (await self.run_code(code, result,  async_\u003dasy)):\n",
          "name": "stderr"
        }
      ]
    },
    {
      "execution_count": 35,
      "cell_type": "code",
      "metadata": {},
      "source": [
        "df \u003d NAFCUSTOMER_CUSTOMERS_WITH_MORE_THAN_X_REVENUE_df\nprint(len(df))"
      ],
      "outputs": [
        {
          "output_type": "stream",
          "text": "133386\n",
          "name": "stdout"
        }
      ]
    },
    {
      "execution_count": 0,
      "cell_type": "code",
      "metadata": {},
      "source": [
        "# find all customer_names that have other customer names that start with this customer name\n\nimport time\n\nidx \u003d 0\nunique_customer_names \u003d df[\u0027CUSTOMER\u0027].unique()\nfull_set_n \u003d len(unique_customer_names)\n\nlist_customers_ \u003d []\nlist_potential_matches_ \u003d []\n\nreport_every_n \u003d 100\nsave_every_n \u003d 1000\n\nstart \u003d time.time()\n\nfor n in unique_customer_names:\n    idx+\u003d1\n    df_f \u003d df[(df[\u0027CUSTOMER\u0027].str.startswith(n, na\u003dFalse))\u0026(df[\u0027CUSTOMER\u0027]!\u003dn)]\n    match_list \u003d df_f[\u0027CUSTOMER\u0027].unique()\n    if len(match_list)\u003e0:\n        list_customers_.append(n)\n        list_potential_matches_.append(match_list)\n\n    if (idx % report_every_n \u003d\u003d 0):\n        print(idx, \"iterations\", len(list_customers_), \"with potential matches\", full_set_n-idx, \"remaining\", round((idx/full_set_n)*100,2), \"% complete\")\n\n    if (idx % save_every_n \u003d\u003d 0):\n        print(\u0027SAVING DATAFRAME\u0027)\n        df_candidates \u003d pd.DataFrame(list_customers_)\n        df_candidates.columns \u003d [\u0027CUSTOMER\u0027]\n        df_candidates[\u0027POTENTIAL_MATCHES\u0027] \u003d list_potential_matches_\n\n        ACCOUNTS_WITH_POTENTIAL_DUPLICATES_df \u003d df_candidates\n\n        # Write recipe outputs\n        ACCOUNTS_WITH_POTENTIAL_DUPLICATES \u003d dataiku.Dataset(\"ACCOUNTS_WITH_POTENTIAL_DUPLICATES\")\n        ACCOUNTS_WITH_POTENTIAL_DUPLICATES.write_with_schema(ACCOUNTS_WITH_POTENTIAL_DUPLICATES_df)\n        print(len(ACCOUNTS_WITH_POTENTIAL_DUPLICATES_df), \"written\")\n\n        end \u003d time.time()\n        print(round((end - start)/60,2), \"minutes elapsed.\")\n\nprint(len(list_customers_))"
      ],
      "outputs": [
        {
          "output_type": "stream",
          "text": "100 iterations 10 with potential matches 133286 remaining 0.07 % complete\n200 iterations 23 with potential matches 133186 remaining 0.15 % complete\n300 iterations 30 with potential matches 133086 remaining 0.22 % complete\n400 iterations 37 with potential matches 132986 remaining 0.3 % complete\n500 iterations 44 with potential matches 132886 remaining 0.37 % complete\n600 iterations 56 with potential matches 132786 remaining 0.45 % complete\n700 iterations 61 with potential matches 132686 remaining 0.52 % complete\n800 iterations 66 with potential matches 132586 remaining 0.6 % complete\n900 iterations 74 with potential matches 132486 remaining 0.67 % complete\n1000 iterations 82 with potential matches 132386 remaining 0.75 % complete\nSAVING DATAFRAME\n82 rows successfully written (L4dFjXWdVh)\n82 written\n0.82 minutes elapsed.\n1100 iterations 89 with potential matches 132286 remaining 0.82 % complete\n1200 iterations 97 with potential matches 132186 remaining 0.9 % complete\n1300 iterations 104 with potential matches 132086 remaining 0.97 % complete\n1400 iterations 108 with potential matches 131986 remaining 1.05 % complete\n1500 iterations 110 with potential matches 131886 remaining 1.12 % complete\n1600 iterations 115 with potential matches 131786 remaining 1.2 % complete\n1700 iterations 120 with potential matches 131686 remaining 1.27 % complete\n1800 iterations 128 with potential matches 131586 remaining 1.35 % complete\n1900 iterations 133 with potential matches 131486 remaining 1.42 % complete\n2000 iterations 137 with potential matches 131386 remaining 1.5 % complete\nSAVING DATAFRAME\n137 rows successfully written (fTX87LDoXO)\n137 written\n1.63 minutes elapsed.\n2100 iterations 141 with potential matches 131286 remaining 1.57 % complete\n2200 iterations 150 with potential matches 131186 remaining 1.65 % complete\n2300 iterations 160 with potential matches 131086 remaining 1.72 % complete\n2400 iterations 166 with potential matches 130986 remaining 1.8 % complete\n2500 iterations 171 with potential matches 130886 remaining 1.87 % complete\n2600 iterations 178 with potential matches 130786 remaining 1.95 % complete\n2700 iterations 185 with potential matches 130686 remaining 2.02 % complete\n2800 iterations 191 with potential matches 130586 remaining 2.1 % complete\n2900 iterations 196 with potential matches 130486 remaining 2.17 % complete\n3000 iterations 203 with potential matches 130386 remaining 2.25 % complete\nSAVING DATAFRAME\n203 rows successfully written (SYumbVgYcx)\n203 written\n2.46 minutes elapsed.\n3100 iterations 208 with potential matches 130286 remaining 2.32 % complete\n3200 iterations 213 with potential matches 130186 remaining 2.4 % complete\n3300 iterations 214 with potential matches 130086 remaining 2.47 % complete\n3400 iterations 221 with potential matches 129986 remaining 2.55 % complete\n3500 iterations 224 with potential matches 129886 remaining 2.62 % complete\n3600 iterations 226 with potential matches 129786 remaining 2.7 % complete\n3700 iterations 235 with potential matches 129686 remaining 2.77 % complete\n3800 iterations 239 with potential matches 129586 remaining 2.85 % complete\n3900 iterations 244 with potential matches 129486 remaining 2.92 % complete\n4000 iterations 247 with potential matches 129386 remaining 3.0 % complete\nSAVING DATAFRAME\n247 rows successfully written (3ZGOopeZYt)\n247 written\n3.28 minutes elapsed.\n4100 iterations 250 with potential matches 129286 remaining 3.07 % complete\n4200 iterations 255 with potential matches 129186 remaining 3.15 % complete\n4300 iterations 258 with potential matches 129086 remaining 3.22 % complete\n4400 iterations 261 with potential matches 128986 remaining 3.3 % complete\n4500 iterations 264 with potential matches 128886 remaining 3.37 % complete\n4600 iterations 267 with potential matches 128786 remaining 3.45 % complete\n4700 iterations 277 with potential matches 128686 remaining 3.52 % complete\n4800 iterations 283 with potential matches 128586 remaining 3.6 % complete\n4900 iterations 291 with potential matches 128486 remaining 3.67 % complete\n5000 iterations 296 with potential matches 128386 remaining 3.75 % complete\nSAVING DATAFRAME\n296 rows successfully written (AzGofm2U2s)\n296 written\n4.11 minutes elapsed.\n5100 iterations 299 with potential matches 128286 remaining 3.82 % complete\n5200 iterations 306 with potential matches 128186 remaining 3.9 % complete\n5300 iterations 308 with potential matches 128086 remaining 3.97 % complete\n5400 iterations 312 with potential matches 127986 remaining 4.05 % complete\n5500 iterations 316 with potential matches 127886 remaining 4.12 % complete\n5600 iterations 317 with potential matches 127786 remaining 4.2 % complete\n5700 iterations 322 with potential matches 127686 remaining 4.27 % complete\n5800 iterations 327 with potential matches 127586 remaining 4.35 % complete\n5900 iterations 329 with potential matches 127486 remaining 4.42 % complete\n6000 iterations 332 with potential matches 127386 remaining 4.5 % complete\nSAVING DATAFRAME\n332 rows successfully written (MjeuazDPZM)\n332 written\n4.92 minutes elapsed.\n6100 iterations 342 with potential matches 127286 remaining 4.57 % complete\n6200 iterations 347 with potential matches 127186 remaining 4.65 % complete\n6300 iterations 351 with potential matches 127086 remaining 4.72 % complete\n6400 iterations 355 with potential matches 126986 remaining 4.8 % complete\n6500 iterations 361 with potential matches 126886 remaining 4.87 % complete\n",
          "name": "stdout"
        }
      ]
    }
  ]
}