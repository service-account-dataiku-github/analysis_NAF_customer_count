{
  "metadata": {
    "kernelspec": {
      "name": "py-dku-venv-env_clc",
      "display_name": "Python (env env_clc)",
      "language": "python"
    },
    "associatedRecipe": "compute_ACCOUNTS_WITH_POTENTIAL_DUPLICATES",
    "dkuGit": {
      "lastInteraction": 0
    },
    "creationTag": {
      "versionNumber": 0,
      "lastModifiedBy": {
        "login": "Daniel.Vandermeer"
      },
      "lastModifiedOn": 1665347956778
    },
    "creator": "Daniel.Vandermeer",
    "createdOn": 1665347956778,
    "tags": [
      "recipe-editor"
    ],
    "customFields": {},
    "hide_input": false,
    "language_info": {
      "name": "python",
      "version": "3.6.8",
      "mimetype": "text/x-python",
      "codemirror_mode": {
        "name": "ipython",
        "version": 3
      },
      "pygments_lexer": "ipython3",
      "nbconvert_exporter": "python",
      "file_extension": ".py"
    },
    "modifiedBy": "Daniel.Vandermeer"
  },
  "nbformat": 4,
  "nbformat_minor": 1,
  "cells": [
    {
      "execution_count": 31,
      "cell_type": "code",
      "metadata": {},
      "source": [
        "# -*- coding: utf-8 -*-\nimport dataiku\nimport pandas as pd, numpy as np\nfrom dataiku import pandasutils as pdu\n\n# Read recipe inputs\nACCOUNTS_WITH_CUSTOMER_FROM_EDW_AND_DUNS \u003d dataiku.Dataset(\"ACCOUNTS_WITH_CUSTOMER_FROM_EDW_AND_DUNS\")\nACCOUNTS_WITH_CUSTOMER_FROM_EDW_AND_DUNS_df \u003d ACCOUNTS_WITH_CUSTOMER_FROM_EDW_AND_DUNS.get_dataframe()\n\nNAFCUSTOMER_CUSTOMERS_WITH_MORE_THAN_X_REVENUE \u003d dataiku.Dataset(\"NAFCUSTOMER_CUSTOMERS_WITH_MORE_THAN_X_REVENUE\")\nNAFCUSTOMER_CUSTOMERS_WITH_MORE_THAN_X_REVENUE_df \u003d NAFCUSTOMER_CUSTOMERS_WITH_MORE_THAN_X_REVENUE.get_dataframe()\n\n# Compute recipe outputs from inputs\n# TODO: Replace this part by your actual code that computes the output, as a Pandas dataframe\n# NB: DSS also supports other kinds of APIs for reading and writing data. Please see doc."
      ],
      "outputs": []
    },
    {
      "execution_count": 32,
      "cell_type": "code",
      "metadata": {},
      "source": [
        "df \u003d NAFCUSTOMER_CUSTOMERS_WITH_MORE_THAN_X_REVENUE_df\nprint(len(df))"
      ],
      "outputs": [
        {
          "output_type": "stream",
          "text": "265422\n",
          "name": "stdout"
        }
      ]
    },
    {
      "execution_count": 0,
      "cell_type": "code",
      "metadata": {},
      "source": [
        "# find all customer_names that have other customer names that start with this customer name\n\nimport time\n\nidx \u003d 0\nunique_customer_names \u003d df[\u0027CUSTOMER\u0027].unique()\nfull_set_n \u003d len(unique_customer_names)\n\nlist_customers_ \u003d []\nlist_potential_matches_ \u003d []\n\nreport_every_n \u003d 100\nsave_every_n \u003d 1000\n\nstart \u003d time.time()\n\nfor n in unique_customer_names:\n    idx+\u003d1\n    df_f \u003d df[(df[\u0027CUSTOMER\u0027].str.startswith(n, na\u003dFalse))\u0026(df[\u0027CUSTOMER\u0027]!\u003dn)]\n    match_list \u003d df_f[\u0027CUSTOMER\u0027].unique()\n    if len(match_list)\u003e0:\n        list_customers_.append(n)\n        list_potential_matches_.append(match_list)\n\n    if (idx % report_every_n \u003d\u003d 0):\n        print(idx, \"iterations\", len(list_customers_), \"with potential matches\", full_set_n-idx, \"remaining\", round((idx/full_set_n)*100,2), \"% complete\")\n\n    if (idx % save_every_n \u003d\u003d 0):\n        print(\u0027SAVING DATAFRAME\u0027)\n        df_candidates \u003d pd.DataFrame(list_customers_)\n        df_candidates.columns \u003d [\u0027CUSTOMER\u0027]\n        df_candidates[\u0027POTENTIAL_MATCHES\u0027] \u003d list_potential_matches_\n\n        ACCOUNTS_WITH_POTENTIAL_DUPLICATES_df \u003d df_candidates\n\n        # Write recipe outputs\n        ACCOUNTS_WITH_POTENTIAL_DUPLICATES \u003d dataiku.Dataset(\"ACCOUNTS_WITH_POTENTIAL_DUPLICATES\")\n        ACCOUNTS_WITH_POTENTIAL_DUPLICATES.write_with_schema(ACCOUNTS_WITH_POTENTIAL_DUPLICATES_df)\n        print(len(ACCOUNTS_WITH_POTENTIAL_DUPLICATES_df), \"written\")\n        \n        end \u003d time.time()\n        print(round((end - start)/60,2), \"minutes elapsed.\")\n\nprint(len(list_customers_))"
      ],
      "outputs": [
        {
          "output_type": "stream",
          "text": "100 iterations 13 with potential matches 265322 remaining 0.04 % complete\n200 iterations 28 with potential matches 265222 remaining 0.08 % complete\n300 iterations 37 with potential matches 265122 remaining 0.11 % complete\n400 iterations 46 with potential matches 265022 remaining 0.15 % complete\n500 iterations 54 with potential matches 264922 remaining 0.19 % complete\n600 iterations 67 with potential matches 264822 remaining 0.23 % complete\n700 iterations 74 with potential matches 264722 remaining 0.26 % complete\n800 iterations 81 with potential matches 264622 remaining 0.3 % complete\n900 iterations 91 with potential matches 264522 remaining 0.34 % complete\n1000 iterations 100 with potential matches 264422 remaining 0.38 % complete\nSAVING DATAFRAME\n100 rows successfully written (6WF9f9ZcwX)\n100 written\n1.77 minutes elapsed.\n1100 iterations 108 with potential matches 264322 remaining 0.41 % complete\n1200 iterations 116 with potential matches 264222 remaining 0.45 % complete\n1300 iterations 125 with potential matches 264122 remaining 0.49 % complete\n1400 iterations 130 with potential matches 264022 remaining 0.53 % complete\n1500 iterations 133 with potential matches 263922 remaining 0.57 % complete\n",
          "name": "stdout"
        }
      ]
    }
  ]
}