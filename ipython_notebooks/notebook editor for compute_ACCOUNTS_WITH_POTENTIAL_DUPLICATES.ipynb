{
  "nbformat": 4,
  "nbformat_minor": 0,
  "metadata": {
    "kernelspec": {
      "display_name": "Python in cpu-m-cpu-3-mem-4Gb (builtin env)",
      "language": "python",
      "name": "py-dku-containerized-venv--cpu-m-cpu-3-mem-4gb"
    },
    "associatedRecipe": "compute_ACCOUNTS_WITH_POTENTIAL_DUPLICATES",
    "dkuGit": {
      "lastInteraction": 0
    },
    "creationTag": {
      "versionNumber": 0,
      "lastModifiedBy": {
        "login": "Daniel.Vandermeer"
      },
      "lastModifiedOn": 1665347956778
    },
    "creator": "Daniel.Vandermeer",
    "createdOn": 1665347956778,
    "tags": [
      "recipe-editor"
    ],
    "customFields": {}
  },
  "cells": [
    {
      "cell_type": "code",
      "metadata": {},
      "outputs": [],
      "execution_count": 0,
      "source": [
        "# -*- coding: utf-8 -*-\n",
        "import dataiku\n",
        "import pandas as pd, numpy as np\n",
        "from dataiku import pandasutils as pdu\n",
        "\n",
        "# Read recipe inputs\n",
        "ACCOUNTS_WITH_CUSTOMER_FROM_EDW_AND_DUNS \u003d dataiku.Dataset(\"ACCOUNTS_WITH_CUSTOMER_FROM_EDW_AND_DUNS\")\n",
        "ACCOUNTS_WITH_CUSTOMER_FROM_EDW_AND_DUNS_df \u003d ACCOUNTS_WITH_CUSTOMER_FROM_EDW_AND_DUNS.get_dataframe()\n",
        "\n",
        "NAFCUSTOMER_CUSTOMERS_WITH_MORE_THAN_X_REVENUE \u003d dataiku.Dataset(\"NAFCUSTOMER_CUSTOMERS_WITH_MORE_THAN_X_REVENUE\")\n",
        "NAFCUSTOMER_CUSTOMERS_WITH_MORE_THAN_X_REVENUE_df \u003d NAFCUSTOMER_CUSTOMERS_WITH_MORE_THAN_X_REVENUE.get_dataframe()\n",
        "\n",
        "# Compute recipe outputs from inputs\n",
        "# TODO: Replace this part by your actual code that computes the output, as a Pandas dataframe\n",
        "# NB: DSS also supports other kinds of APIs for reading and writing data. Please see doc."
      ]
    },
    {
      "cell_type": "code",
      "metadata": {},
      "outputs": [],
      "execution_count": 0,
      "source": [
        "df \u003d NAFCUSTOMER_CUSTOMERS_WITH_MORE_THAN_X_REVENUE_df\n",
        "print(len(df))"
      ]
    },
    {
      "cell_type": "code",
      "metadata": {},
      "outputs": [],
      "execution_count": 0,
      "source": [
        "# find all customer_names that have other customer names that start with this customer name\n",
        "\n",
        "idx \u003d 0\n",
        "unique_customer_names \u003d df[\u0027CUSTOMER\u0027].unique()\n",
        "full_set_n \u003d len(unique_customer_names)\n",
        "\n",
        "list_customers_ \u003d []\n",
        "list_potential_matches_ \u003d []\n",
        "\n",
        "report_every_n \u003d 1000\n",
        "save_every_n \u003d 10000\n",
        "\n",
        "for n in unique_customer_names:\n",
        "    idx+\u003d1\n",
        "    df_f \u003d df[(df[\u0027CUSTOMER\u0027].str.startswith(n, na\u003dFalse))\u0026(df[\u0027CUSTOMER\u0027]!\u003dn)]\n",
        "    match_list \u003d df_f[\u0027CUSTOMER\u0027].unique()\n",
        "    if len(match_list)\u003e0:\n",
        "        list_customers_.append(n)\n",
        "        list_potential_matches_.append(match_list)\n",
        "\n",
        "    if (idx % report_every_n \u003d\u003d 0):\n",
        "        print(idx, \"iterations\", len(list_customers_), \"with potential matches\", full_set_n-idx, \"remaining\", round((idx/full_set_n)*100,2), \"% complete\")\n",
        "\n",
        "    if (idx % save_every_n \u003d\u003d 0):\n",
        "        print(\u0027SAVING DATAFRAME\u0027)\n",
        "        df_candidates \u003d pd.DataFrame(list_customers_)\n",
        "        df_candidates.columns \u003d [\u0027CUSTOMER\u0027]\n",
        "        df_candidates[\u0027POTENTIAL_MATCHES\u0027] \u003d list_potential_matches_\n",
        "\n",
        "        ACCOUNTS_WITH_POTENTIAL_DUPLICATES_df \u003d df_candidates\n",
        "\n",
        "        # Write recipe outputs\n",
        "        ACCOUNTS_WITH_POTENTIAL_DUPLICATES \u003d dataiku.Dataset(\"ACCOUNTS_WITH_POTENTIAL_DUPLICATES\")\n",
        "        ACCOUNTS_WITH_POTENTIAL_DUPLICATES.write_with_schema(ACCOUNTS_WITH_POTENTIAL_DUPLICATES_df)\n",
        "        print(len(ACCOUNTS_WITH_POTENTIAL_DUPLICATES_df), \"written\")\n",
        "        print(\"continuing on with checks....\")\n",
        "\n",
        "print(len(list_customers_))"
      ]
    }
  ]
}