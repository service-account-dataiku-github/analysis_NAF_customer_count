{
  "metadata": {
    "kernelspec": {
      "name": "py-dku-venv-env_clc",
      "display_name": "Python (env env_clc)",
      "language": "python"
    },
    "associatedRecipe": "compute_ACCOUNTS_WITH_POTENTIAL_DUPLICATES",
    "dkuGit": {
      "lastInteraction": 0
    },
    "creationTag": {
      "versionNumber": 0,
      "lastModifiedBy": {
        "login": "Daniel.Vandermeer"
      },
      "lastModifiedOn": 1665347956778
    },
    "creator": "Daniel.Vandermeer",
    "createdOn": 1665347956778,
    "tags": [
      "recipe-editor"
    ],
    "customFields": {},
    "hide_input": false,
    "language_info": {
      "name": "python",
      "version": "3.6.8",
      "mimetype": "text/x-python",
      "codemirror_mode": {
        "name": "ipython",
        "version": 3
      },
      "pygments_lexer": "ipython3",
      "nbconvert_exporter": "python",
      "file_extension": ".py"
    },
    "modifiedBy": "Daniel.Vandermeer"
  },
  "nbformat": 4,
  "nbformat_minor": 1,
  "cells": [
    {
      "execution_count": 28,
      "cell_type": "code",
      "metadata": {},
      "source": [
        "# -*- coding: utf-8 -*-\nimport dataiku\nimport pandas as pd, numpy as np\nfrom dataiku import pandasutils as pdu\n\n# Read recipe inputs\nACCOUNTS_WITH_CUSTOMER_FROM_EDW_AND_DUNS \u003d dataiku.Dataset(\"ACCOUNTS_WITH_CUSTOMER_FROM_EDW_AND_DUNS\")\nACCOUNTS_WITH_CUSTOMER_FROM_EDW_AND_DUNS_df \u003d ACCOUNTS_WITH_CUSTOMER_FROM_EDW_AND_DUNS.get_dataframe()\n\nNAFCUSTOMER_CUSTOMERS_WITH_MORE_THAN_X_REVENUE \u003d dataiku.Dataset(\"NAFCUSTOMER_CUSTOMERS_WITH_MORE_THAN_X_REVENUE\")\nNAFCUSTOMER_CUSTOMERS_WITH_MORE_THAN_X_REVENUE_df \u003d NAFCUSTOMER_CUSTOMERS_WITH_MORE_THAN_X_REVENUE.get_dataframe()\n\n# Compute recipe outputs from inputs\n# TODO: Replace this part by your actual code that computes the output, as a Pandas dataframe\n# NB: DSS also supports other kinds of APIs for reading and writing data. Please see doc."
      ],
      "outputs": []
    },
    {
      "execution_count": 29,
      "cell_type": "code",
      "metadata": {},
      "source": [
        "df \u003d NAFCUSTOMER_CUSTOMERS_WITH_MORE_THAN_X_REVENUE_df\nprint(len(df))"
      ],
      "outputs": [
        {
          "output_type": "stream",
          "text": "212446\n",
          "name": "stdout"
        }
      ]
    },
    {
      "execution_count": 0,
      "cell_type": "code",
      "metadata": {},
      "source": [
        "# find all customer_names that have other customer names that start with this customer name\n\nimport time\n\nidx \u003d 0\nunique_customer_names \u003d df[\u0027CUSTOMER\u0027].unique()\nfull_set_n \u003d len(unique_customer_names)\n\nlist_customers_ \u003d []\nlist_potential_matches_ \u003d []\n\nreport_every_n \u003d 100\nsave_every_n \u003d 1000\n\nstart \u003d time.time()\n\nfor n in unique_customer_names:\n    idx+\u003d1\n    df_f \u003d df[(df[\u0027CUSTOMER\u0027].str.startswith(n, na\u003dFalse))\u0026(df[\u0027CUSTOMER\u0027]!\u003dn)]\n    match_list \u003d df_f[\u0027CUSTOMER\u0027].unique()\n    if len(match_list)\u003e0:\n        list_customers_.append(n)\n        list_potential_matches_.append(match_list)\n\n    if (idx % report_every_n \u003d\u003d 0):\n        print(idx, \"iterations\", len(list_customers_), \"with potential matches\", full_set_n-idx, \"remaining\", round((idx/full_set_n)*100,2), \"% complete\")\n\n    if (idx % save_every_n \u003d\u003d 0):\n        print(\u0027SAVING DATAFRAME\u0027)\n        df_candidates \u003d pd.DataFrame(list_customers_)\n        df_candidates.columns \u003d [\u0027CUSTOMER\u0027]\n        df_candidates[\u0027POTENTIAL_MATCHES\u0027] \u003d list_potential_matches_\n\n        ACCOUNTS_WITH_POTENTIAL_DUPLICATES_df \u003d df_candidates\n\n        # Write recipe outputs\n        ACCOUNTS_WITH_POTENTIAL_DUPLICATES \u003d dataiku.Dataset(\"ACCOUNTS_WITH_POTENTIAL_DUPLICATES\")\n        ACCOUNTS_WITH_POTENTIAL_DUPLICATES.write_with_schema(ACCOUNTS_WITH_POTENTIAL_DUPLICATES_df)\n        print(len(ACCOUNTS_WITH_POTENTIAL_DUPLICATES_df), \"written\")\n        \n        end \u003d time.time()\n        print(round((end - start)/60,2), \"minutes elapsed.\")\n\nprint(len(list_customers_))"
      ],
      "outputs": [
        {
          "output_type": "stream",
          "text": "100 iterations 11 with potential matches 212346 remaining 0.05 % complete\n200 iterations 26 with potential matches 212246 remaining 0.09 % complete\n300 iterations 35 with potential matches 212146 remaining 0.14 % complete\n400 iterations 44 with potential matches 212046 remaining 0.19 % complete\n500 iterations 51 with potential matches 211946 remaining 0.24 % complete\n600 iterations 63 with potential matches 211846 remaining 0.28 % complete\n700 iterations 69 with potential matches 211746 remaining 0.33 % complete\n800 iterations 76 with potential matches 211646 remaining 0.38 % complete\n900 iterations 86 with potential matches 211546 remaining 0.42 % complete\n1000 iterations 95 with potential matches 211446 remaining 0.47 % complete\nSAVING DATAFRAME\n95 rows successfully written (BHBu0l6XDi)\n95 written\n1.42 minutes elapsed.\n1100 iterations 103 with potential matches 211346 remaining 0.52 % complete\n1200 iterations 111 with potential matches 211246 remaining 0.56 % complete\n1300 iterations 119 with potential matches 211146 remaining 0.61 % complete\n1400 iterations 123 with potential matches 211046 remaining 0.66 % complete\n1500 iterations 126 with potential matches 210946 remaining 0.71 % complete\n1600 iterations 133 with potential matches 210846 remaining 0.75 % complete\n1700 iterations 139 with potential matches 210746 remaining 0.8 % complete\n1800 iterations 149 with potential matches 210646 remaining 0.85 % complete\n1900 iterations 157 with potential matches 210546 remaining 0.89 % complete\n2000 iterations 161 with potential matches 210446 remaining 0.94 % complete\nSAVING DATAFRAME\n161 rows successfully written (UeyREIw9eI)\n161 written\n2.84 minutes elapsed.\n2100 iterations 165 with potential matches 210346 remaining 0.99 % complete\n2200 iterations 175 with potential matches 210246 remaining 1.04 % complete\n2300 iterations 188 with potential matches 210146 remaining 1.08 % complete\n2400 iterations 194 with potential matches 210046 remaining 1.13 % complete\n2500 iterations 200 with potential matches 209946 remaining 1.18 % complete\n2600 iterations 207 with potential matches 209846 remaining 1.22 % complete\n2700 iterations 215 with potential matches 209746 remaining 1.27 % complete\n2800 iterations 223 with potential matches 209646 remaining 1.32 % complete\n2900 iterations 230 with potential matches 209546 remaining 1.37 % complete\n3000 iterations 239 with potential matches 209446 remaining 1.41 % complete\nSAVING DATAFRAME\n239 rows successfully written (H6YJFO5QrF)\n239 written\n4.25 minutes elapsed.\n3100 iterations 244 with potential matches 209346 remaining 1.46 % complete\n3200 iterations 251 with potential matches 209246 remaining 1.51 % complete\n3300 iterations 253 with potential matches 209146 remaining 1.55 % complete\n3400 iterations 261 with potential matches 209046 remaining 1.6 % complete\n3500 iterations 265 with potential matches 208946 remaining 1.65 % complete\n3600 iterations 270 with potential matches 208846 remaining 1.69 % complete\n3700 iterations 281 with potential matches 208746 remaining 1.74 % complete\n3800 iterations 286 with potential matches 208646 remaining 1.79 % complete\n3900 iterations 290 with potential matches 208546 remaining 1.84 % complete\n4000 iterations 296 with potential matches 208446 remaining 1.88 % complete\nSAVING DATAFRAME\n296 rows successfully written (SFhrf5kR3Z)\n296 written\n5.68 minutes elapsed.\n4100 iterations 301 with potential matches 208346 remaining 1.93 % complete\n4200 iterations 307 with potential matches 208246 remaining 1.98 % complete\n4300 iterations 310 with potential matches 208146 remaining 2.02 % complete\n4400 iterations 313 with potential matches 208046 remaining 2.07 % complete\n4500 iterations 319 with potential matches 207946 remaining 2.12 % complete\n4600 iterations 323 with potential matches 207846 remaining 2.17 % complete\n4700 iterations 333 with potential matches 207746 remaining 2.21 % complete\n",
          "name": "stdout"
        }
      ]
    }
  ]
}