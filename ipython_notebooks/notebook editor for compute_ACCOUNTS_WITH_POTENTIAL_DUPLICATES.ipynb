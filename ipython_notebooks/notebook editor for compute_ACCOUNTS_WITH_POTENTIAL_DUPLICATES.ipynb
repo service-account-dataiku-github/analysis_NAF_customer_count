{
  "metadata": {
    "kernelspec": {
      "name": "py-dku-venv-env_clc",
      "display_name": "Python (env env_clc)",
      "language": "python"
    },
    "associatedRecipe": "compute_ACCOUNTS_WITH_POTENTIAL_DUPLICATES",
    "creator": "Daniel.Vandermeer",
    "createdOn": 1665347956778,
    "tags": [
      "recipe-editor"
    ],
    "customFields": {},
    "hide_input": false,
    "language_info": {
      "name": "python",
      "version": "3.6.8",
      "mimetype": "text/x-python",
      "codemirror_mode": {
        "name": "ipython",
        "version": 3
      },
      "pygments_lexer": "ipython3",
      "nbconvert_exporter": "python",
      "file_extension": ".py"
    },
    "modifiedBy": "Daniel.Vandermeer"
  },
  "nbformat": 4,
  "nbformat_minor": 1,
  "cells": [
    {
      "execution_count": 4,
      "cell_type": "code",
      "metadata": {},
      "source": [
        "# -*- coding: utf-8 -*-\nimport dataiku\nimport pandas as pd, numpy as np\nfrom dataiku import pandasutils as pdu\n\n# Read recipe inputs\nACCOUNTS_WITH_CUSTOMER_FROM_EDW_AND_DUNS \u003d dataiku.Dataset(\"ACCOUNTS_WITH_CUSTOMER_FROM_EDW_AND_DUNS\")\nACCOUNTS_WITH_CUSTOMER_FROM_EDW_AND_DUNS_df \u003d ACCOUNTS_WITH_CUSTOMER_FROM_EDW_AND_DUNS.get_dataframe()\n\n# Compute recipe outputs from inputs\n# TODO: Replace this part by your actual code that computes the output, as a Pandas dataframe\n# NB: DSS also supports other kinds of APIs for reading and writing data. Please see doc."
      ],
      "outputs": []
    },
    {
      "execution_count": 5,
      "cell_type": "code",
      "metadata": {},
      "source": [
        "df \u003d ACCOUNTS_WITH_CUSTOMER_FROM_EDW_AND_DUNS_df"
      ],
      "outputs": [
        {
          "output_type": "stream",
          "text": "657500\n",
          "name": "stdout"
        }
      ]
    },
    {
      "execution_count": 0,
      "cell_type": "code",
      "metadata": {},
      "source": [
        "# find all customer_names that have other customer names that start with this customer name\n\nidx \u003d 0\nunique_customer_names \u003d df[\u0027CUSTOMER\u0027].unique()\nfull_set_n \u003d len(unique_customer_names)\n\nlist_customers_ \u003d []\nlist_potential_matches_ \u003d []\n\nreport_every_n \u003d 1000\nsave_every_n \u003d 10000\n\nfor n in unique_customer_names:\n    idx+\u003d1\n    df_f \u003d df[(df[\u0027CUSTOMER\u0027].str.startswith(n, na\u003dFalse))\u0026(df[\u0027CUSTOMER\u0027]!\u003dn)]\n    match_list \u003d df_f[\u0027CUSTOMER\u0027].unique()\n    if len(match_list)\u003e0:\n        list_customers_.append(n)\n        list_potential_matches_.append(match_list)\n\n    if (idx % report_every_n \u003d\u003d 0):\n        print(idx, \"iterations\", len(list_customers_), \"with potential matches\", full_set_n-idx, \"remaining\", round(idx/full_set_n,2), \"% complete\")\n        \n    if (idx % save_every_n \u003d\u003d 0):\n        print(\u0027SAVING DATAFRAME\u0027)        \n        df_candidates \u003d pd.DataFrame(list_customers_)\n        df_candidates.columns \u003d [\u0027CUSTOMER\u0027]\n        df_candidates[\u0027POTENTIAL_MATCHES\u0027] \u003d list_potential_matches_\n\n        ACCOUNTS_WITH_POTENTIAL_DUPLICATES_df \u003d df_candidates\n\n        # Write recipe outputs\n        ACCOUNTS_WITH_POTENTIAL_DUPLICATES \u003d dataiku.Dataset(\"ACCOUNTS_WITH_POTENTIAL_DUPLICATES\")\n        ACCOUNTS_WITH_POTENTIAL_DUPLICATES.write_with_schema(ACCOUNTS_WITH_POTENTIAL_DUPLICATES_df)\n        print(len(ACCOUNTS_WITH_POTENTIAL_DUPLICATES_df), \"written\")\n        print(\"continuing on with checks....\")\n        \nprint(len(list_customers_))"
      ],
      "outputs": [
        {
          "output_type": "stream",
          "text": "1000 iterations 48 with potential matches 656500 remaining 0.0 % complete\n2000 iterations 92 with potential matches 655500 remaining 0.0 % complete\n3000 iterations 144 with potential matches 654500 remaining 0.0 % complete\n",
          "name": "stdout"
        }
      ]
    }
  ]
}