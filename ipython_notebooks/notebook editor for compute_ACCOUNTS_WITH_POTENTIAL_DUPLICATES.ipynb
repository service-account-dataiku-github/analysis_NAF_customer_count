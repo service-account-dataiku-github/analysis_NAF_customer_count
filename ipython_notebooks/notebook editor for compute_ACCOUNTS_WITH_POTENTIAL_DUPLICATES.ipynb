{
  "metadata": {
    "kernelspec": {
      "name": "py-dku-venv-env_clc",
      "display_name": "Python (env env_clc)",
      "language": "python"
    },
    "associatedRecipe": "compute_ACCOUNTS_WITH_POTENTIAL_DUPLICATES",
    "creator": "Daniel.Vandermeer",
    "createdOn": 1665347956778,
    "tags": [
      "recipe-editor"
    ],
    "customFields": {},
    "hide_input": false,
    "language_info": {
      "name": "python",
      "version": "3.6.8",
      "mimetype": "text/x-python",
      "codemirror_mode": {
        "name": "ipython",
        "version": 3
      },
      "pygments_lexer": "ipython3",
      "nbconvert_exporter": "python",
      "file_extension": ".py"
    },
    "modifiedBy": "Daniel.Vandermeer"
  },
  "nbformat": 4,
  "nbformat_minor": 1,
  "cells": [
    {
      "execution_count": 4,
      "cell_type": "code",
      "metadata": {},
      "source": [
        "# -*- coding: utf-8 -*-\nimport dataiku\nimport pandas as pd, numpy as np\nfrom dataiku import pandasutils as pdu\n\n# Read recipe inputs\nACCOUNTS_WITH_CUSTOMER_FROM_EDW_AND_DUNS \u003d dataiku.Dataset(\"ACCOUNTS_WITH_CUSTOMER_FROM_EDW_AND_DUNS\")\nACCOUNTS_WITH_CUSTOMER_FROM_EDW_AND_DUNS_df \u003d ACCOUNTS_WITH_CUSTOMER_FROM_EDW_AND_DUNS.get_dataframe()\n\n\n# Compute recipe outputs from inputs\n# TODO: Replace this part by your actual code that computes the output, as a Pandas dataframe\n# NB: DSS also supports other kinds of APIs for reading and writing data. Please see doc."
      ],
      "outputs": []
    },
    {
      "execution_count": 5,
      "cell_type": "code",
      "metadata": {},
      "source": [
        "df \u003d ACCOUNTS_WITH_CUSTOMER_FROM_EDW_AND_DUNS_df\nprint(len(df.CUSTOMER.unique()))"
      ],
      "outputs": [
        {
          "output_type": "stream",
          "text": "657500\n",
          "name": "stdout"
        }
      ]
    },
    {
      "execution_count": 0,
      "cell_type": "code",
      "metadata": {},
      "source": [
        "# find all customer_names that have other customer names that start with this customer name\n\nidx \u003d 0\nunique_customer_names \u003d df[\u0027CUSTOMER\u0027].unique()\n\nlist_customers_ \u003d []\nlist_potential_matches_ \u003d []\n\nfor n in unique_customer_names:\n    idx+\u003d1\n    df_f \u003d df[(df[\u0027CUSTOMER\u0027].str.startswith(n, na\u003dFalse))\u0026(df[\u0027CUSTOMER\u0027]!\u003dn)]\n    match_list \u003d df_f[\u0027CUSTOMER\u0027].unique()\n    if len(match_list)\u003e0:\n        list_customers_.append(n)\n        list_potential_matches_.append(match_list)\n    \n    \n"
      ],
      "outputs": []
    },
    {
      "execution_count": 0,
      "cell_type": "code",
      "metadata": {},
      "source": [
        "ACCOUNTS_WITH_POTENTIAL_DUPLICATES_df \u003d ACCOUNTS_WITH_CUSTOMER_FROM_EDW_AND_DUNS_df # For this sample code, simply copy input to output\n\n\n# Write recipe outputs\nACCOUNTS_WITH_POTENTIAL_DUPLICATES \u003d dataiku.Dataset(\"ACCOUNTS_WITH_POTENTIAL_DUPLICATES\")\nACCOUNTS_WITH_POTENTIAL_DUPLICATES.write_with_schema(ACCOUNTS_WITH_POTENTIAL_DUPLICATES_df)"
      ],
      "outputs": []
    }
  ]
}