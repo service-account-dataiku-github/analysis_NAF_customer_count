{
  "metadata": {
    "kernelspec": {
      "name": "py-dku-venv-env_clc",
      "display_name": "Python (env env_clc)",
      "language": "python"
    },
    "associatedRecipe": "compute_ACCOUNTS_WITH_POTENTIAL_DUPLICATES",
    "dkuGit": {
      "lastInteraction": 0
    },
    "creationTag": {
      "versionNumber": 0,
      "lastModifiedBy": {
        "login": "Daniel.Vandermeer"
      },
      "lastModifiedOn": 1665347956778
    },
    "creator": "Daniel.Vandermeer",
    "createdOn": 1665347956778,
    "tags": [
      "recipe-editor"
    ],
    "customFields": {},
    "hide_input": false,
    "language_info": {
      "name": "python",
      "version": "3.6.8",
      "mimetype": "text/x-python",
      "codemirror_mode": {
        "name": "ipython",
        "version": 3
      },
      "pygments_lexer": "ipython3",
      "nbconvert_exporter": "python",
      "file_extension": ".py"
    },
    "modifiedBy": "Daniel.Vandermeer"
  },
  "nbformat": 4,
  "nbformat_minor": 1,
  "cells": [
    {
      "execution_count": 20,
      "cell_type": "code",
      "metadata": {},
      "source": [
        "# -*- coding: utf-8 -*-\nimport dataiku\nimport pandas as pd, numpy as np\nfrom dataiku import pandasutils as pdu\n\n# Read recipe inputs\nACCOUNTS_WITH_CUSTOMER_FROM_EDW_AND_DUNS \u003d dataiku.Dataset(\"ACCOUNTS_WITH_CUSTOMER_FROM_EDW_AND_DUNS\")\nACCOUNTS_WITH_CUSTOMER_FROM_EDW_AND_DUNS_df \u003d ACCOUNTS_WITH_CUSTOMER_FROM_EDW_AND_DUNS.get_dataframe()\n\nNAFCUSTOMER_CUSTOMERS_WITH_MORE_THAN_X_REVENUE \u003d dataiku.Dataset(\"NAFCUSTOMER_CUSTOMERS_WITH_MORE_THAN_X_REVENUE\")\nNAFCUSTOMER_CUSTOMERS_WITH_MORE_THAN_X_REVENUE_df \u003d NAFCUSTOMER_CUSTOMERS_WITH_MORE_THAN_X_REVENUE.get_dataframe()\n\n# Compute recipe outputs from inputs\n# TODO: Replace this part by your actual code that computes the output, as a Pandas dataframe\n# NB: DSS also supports other kinds of APIs for reading and writing data. Please see doc."
      ],
      "outputs": []
    },
    {
      "execution_count": 21,
      "cell_type": "code",
      "metadata": {},
      "source": [
        "df \u003d NAFCUSTOMER_CUSTOMERS_WITH_MORE_THAN_X_REVENUE_df\nprint(len(df))"
      ],
      "outputs": [
        {
          "output_type": "stream",
          "text": "133446\n",
          "name": "stdout"
        }
      ]
    },
    {
      "execution_count": 0,
      "cell_type": "code",
      "metadata": {},
      "source": [
        "# find all customer_names that have other customer names that start with this customer name\n\nidx \u003d 0\nunique_customer_names \u003d df[\u0027CUSTOMER\u0027].unique()\nfull_set_n \u003d len(unique_customer_names)\n\nlist_customers_ \u003d []\nlist_potential_matches_ \u003d []\n\nreport_every_n \u003d 1000\nsave_every_n \u003d 10000\n\nfor n in unique_customer_names:\n    idx+\u003d1\n    df_f \u003d df[(df[\u0027CUSTOMER\u0027].str.startswith(n, na\u003dFalse))\u0026(df[\u0027CUSTOMER\u0027]!\u003dn)]\n    match_list \u003d df_f[\u0027CUSTOMER\u0027].unique()\n    if len(match_list)\u003e0:\n        list_customers_.append(n)\n        list_potential_matches_.append(match_list)\n\n    if (idx % report_every_n \u003d\u003d 0):\n        print(idx, \"iterations\", len(list_customers_), \"with potential matches\", full_set_n-idx, \"remaining\", round((idx/full_set_n)*100,2), \"% complete\")\n\n    if (idx % save_every_n \u003d\u003d 0):\n        print(\u0027SAVING DATAFRAME\u0027)\n        df_candidates \u003d pd.DataFrame(list_customers_)\n        df_candidates.columns \u003d [\u0027CUSTOMER\u0027]\n        df_candidates[\u0027POTENTIAL_MATCHES\u0027] \u003d list_potential_matches_\n\n        ACCOUNTS_WITH_POTENTIAL_DUPLICATES_df \u003d df_candidates\n\n        # Write recipe outputs\n        ACCOUNTS_WITH_POTENTIAL_DUPLICATES \u003d dataiku.Dataset(\"ACCOUNTS_WITH_POTENTIAL_DUPLICATES\")\n        ACCOUNTS_WITH_POTENTIAL_DUPLICATES.write_with_schema(ACCOUNTS_WITH_POTENTIAL_DUPLICATES_df)\n        print(len(ACCOUNTS_WITH_POTENTIAL_DUPLICATES_df), \"written\")\n        print(\"continuing on with checks....\")\n\nprint(len(list_customers_))"
      ],
      "outputs": [
        {
          "output_type": "stream",
          "text": "1000 iterations 85 with potential matches 132446 remaining 0.01 % complete\n2000 iterations 142 with potential matches 131446 remaining 0.01 % complete\n3000 iterations 209 with potential matches 130446 remaining 0.02 % complete\n4000 iterations 252 with potential matches 129446 remaining 0.03 % complete\n5000 iterations 303 with potential matches 128446 remaining 0.04 % complete\n6000 iterations 340 with potential matches 127446 remaining 0.04 % complete\n7000 iterations 389 with potential matches 126446 remaining 0.05 % complete\n8000 iterations 443 with potential matches 125446 remaining 0.06 % complete\n9000 iterations 500 with potential matches 124446 remaining 0.07 % complete\n10000 iterations 542 with potential matches 123446 remaining 0.07 % complete\nSAVING DATAFRAME\n542 rows successfully written (mxRwfcjIU2)\n542 written\ncontinuing on with checks....\n11000 iterations 587 with potential matches 122446 remaining 0.08 % complete\n12000 iterations 624 with potential matches 121446 remaining 0.09 % complete\n13000 iterations 671 with potential matches 120446 remaining 0.1 % complete\n14000 iterations 727 with potential matches 119446 remaining 0.1 % complete\n15000 iterations 772 with potential matches 118446 remaining 0.11 % complete\n16000 iterations 810 with potential matches 117446 remaining 0.12 % complete\n17000 iterations 844 with potential matches 116446 remaining 0.13 % complete\n18000 iterations 889 with potential matches 115446 remaining 0.13 % complete\n19000 iterations 927 with potential matches 114446 remaining 0.14 % complete\n20000 iterations 964 with potential matches 113446 remaining 0.15 % complete\nSAVING DATAFRAME\n964 rows successfully written (nM02xwyLGK)\n964 written\ncontinuing on with checks....\n21000 iterations 997 with potential matches 112446 remaining 0.16 % complete\n22000 iterations 1034 with potential matches 111446 remaining 0.16 % complete\n23000 iterations 1066 with potential matches 110446 remaining 0.17 % complete\n24000 iterations 1100 with potential matches 109446 remaining 0.18 % complete\n25000 iterations 1142 with potential matches 108446 remaining 0.19 % complete\n26000 iterations 1172 with potential matches 107446 remaining 0.19 % complete\n27000 iterations 1198 with potential matches 106446 remaining 0.2 % complete\n28000 iterations 1237 with potential matches 105446 remaining 0.21 % complete\n29000 iterations 1266 with potential matches 104446 remaining 0.22 % complete\n30000 iterations 1296 with potential matches 103446 remaining 0.22 % complete\nSAVING DATAFRAME\n1296 rows successfully written (0tPNuBrk3P)\n1296 written\ncontinuing on with checks....\n31000 iterations 1324 with potential matches 102446 remaining 0.23 % complete\n32000 iterations 1348 with potential matches 101446 remaining 0.24 % complete\n33000 iterations 1380 with potential matches 100446 remaining 0.25 % complete\n34000 iterations 1409 with potential matches 99446 remaining 0.25 % complete\n35000 iterations 1445 with potential matches 98446 remaining 0.26 % complete\n36000 iterations 1464 with potential matches 97446 remaining 0.27 % complete\n37000 iterations 1483 with potential matches 96446 remaining 0.28 % complete\n38000 iterations 1513 with potential matches 95446 remaining 0.28 % complete\n39000 iterations 1548 with potential matches 94446 remaining 0.29 % complete\n40000 iterations 1571 with potential matches 93446 remaining 0.3 % complete\nSAVING DATAFRAME\n1571 rows successfully written (YbdMyuZouS)\n1571 written\ncontinuing on with checks....\n41000 iterations 1592 with potential matches 92446 remaining 0.31 % complete\n42000 iterations 1614 with potential matches 91446 remaining 0.31 % complete\n43000 iterations 1642 with potential matches 90446 remaining 0.32 % complete\n44000 iterations 1673 with potential matches 89446 remaining 0.33 % complete\n45000 iterations 1706 with potential matches 88446 remaining 0.34 % complete\n46000 iterations 1727 with potential matches 87446 remaining 0.34 % complete\n47000 iterations 1739 with potential matches 86446 remaining 0.35 % complete\n48000 iterations 1759 with potential matches 85446 remaining 0.36 % complete\n49000 iterations 1778 with potential matches 84446 remaining 0.37 % complete\n50000 iterations 1810 with potential matches 83446 remaining 0.37 % complete\nSAVING DATAFRAME\n1810 rows successfully written (hYm5kuNalc)\n1810 written\ncontinuing on with checks....\n51000 iterations 1835 with potential matches 82446 remaining 0.38 % complete\n52000 iterations 1854 with potential matches 81446 remaining 0.39 % complete\n",
          "name": "stdout"
        }
      ]
    }
  ]
}