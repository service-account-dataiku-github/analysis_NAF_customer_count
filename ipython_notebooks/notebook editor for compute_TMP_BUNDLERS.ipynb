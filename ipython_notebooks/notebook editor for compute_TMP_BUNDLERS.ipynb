{
  "metadata": {
    "kernelspec": {
      "name": "py-dku-venv-env_clc",
      "display_name": "Python (env env_clc)",
      "language": "python"
    },
    "associatedRecipe": "compute_TMP_BUNDLERS",
    "creator": "Daniel.Vandermeer",
    "createdOn": 1667313464703,
    "tags": [
      "recipe-editor"
    ],
    "customFields": {},
    "hide_input": false,
    "language_info": {
      "name": "python",
      "version": "3.6.8",
      "mimetype": "text/x-python",
      "codemirror_mode": {
        "name": "ipython",
        "version": 3
      },
      "pygments_lexer": "ipython3",
      "nbconvert_exporter": "python",
      "file_extension": ".py"
    },
    "modifiedBy": "Daniel.Vandermeer"
  },
  "nbformat": 4,
  "nbformat_minor": 1,
  "cells": [
    {
      "execution_count": 1,
      "cell_type": "code",
      "metadata": {},
      "source": [
        "# -*- coding: utf-8 -*-\nimport dataiku\nimport pandas as pd, numpy as np\nfrom dataiku import pandasutils as pdu\n\n# Read recipe inputs\nNAFCUSTOMER_C360_ACCOUNTS \u003d dataiku.Dataset(\"NAFCUSTOMER_C360_ACCOUNTS\")\nNAFCUSTOMER_C360_ACCOUNTS_df \u003d NAFCUSTOMER_C360_ACCOUNTS.get_dataframe()\n\nEV_Customer_Segmentation \u003d dataiku.Dataset(\"EV_Customer_Segmentation\")\nEV_Customer_Segmentation_df \u003d EV_Customer_Segmentation.get_dataframe()"
      ],
      "outputs": []
    },
    {
      "execution_count": 4,
      "cell_type": "code",
      "metadata": {},
      "source": [
        "print(len(NAFCUSTOMER_C360_ACCOUNTS_df))\nNAFCUSTOMER_C360_ACCOUNTS_df.head()"
      ],
      "outputs": [
        {
          "output_type": "stream",
          "text": "882017\n",
          "name": "stdout"
        },
        {
          "output_type": "execute_result",
          "execution_count": 4,
          "data": {
            "text/plain": "   CUSTOMER_ACCOUNT_ID          CUSTOMER_ACCOUNT_NAME                      EDW_CUSTOMER_NAME         DUNS\n0        9100006749217  SR MAINTENANCE AND MANAGEMENT  CHEVRON  TEXACO BUSINESS ACCESS PRIMA   10102206.0\n1         407003376175           NEW ENGLAND STAIR CO                   NEW ENGLAND STAIR CO   86642667.0\n2        9100007798788           LONDON FINE CARS LTD        SHELL FLEET PLUS CANADA PRIMARY  251000048.0\n3        9100003620736                TOWN OF CLINTON                  CITGO FLEET (PRIMARY)  159806652.0\n4        9100004906989          GUARDIAN PLUMBING INC                    SHEETZ EDGE PRIMARY   70498250.0",
            "text/html": "\u003cdiv\u003e\n\u003cstyle scoped\u003e\n    .dataframe tbody tr th:only-of-type {\n        vertical-align: middle;\n    }\n\n    .dataframe tbody tr th {\n        vertical-align: top;\n    }\n\n    .dataframe thead th {\n        text-align: right;\n    }\n\u003c/style\u003e\n\u003ctable border\u003d\"1\" class\u003d\"dataframe\"\u003e\n  \u003cthead\u003e\n    \u003ctr style\u003d\"text-align: right;\"\u003e\n      \u003cth\u003e\u003c/th\u003e\n      \u003cth\u003eCUSTOMER_ACCOUNT_ID\u003c/th\u003e\n      \u003cth\u003eCUSTOMER_ACCOUNT_NAME\u003c/th\u003e\n      \u003cth\u003eEDW_CUSTOMER_NAME\u003c/th\u003e\n      \u003cth\u003eDUNS\u003c/th\u003e\n    \u003c/tr\u003e\n  \u003c/thead\u003e\n  \u003ctbody\u003e\n    \u003ctr\u003e\n      \u003cth\u003e0\u003c/th\u003e\n      \u003ctd\u003e9100006749217\u003c/td\u003e\n      \u003ctd\u003eSR MAINTENANCE AND MANAGEMENT\u003c/td\u003e\n      \u003ctd\u003eCHEVRON  TEXACO BUSINESS ACCESS PRIMA\u003c/td\u003e\n      \u003ctd\u003e10102206.0\u003c/td\u003e\n    \u003c/tr\u003e\n    \u003ctr\u003e\n      \u003cth\u003e1\u003c/th\u003e\n      \u003ctd\u003e407003376175\u003c/td\u003e\n      \u003ctd\u003eNEW ENGLAND STAIR CO\u003c/td\u003e\n      \u003ctd\u003eNEW ENGLAND STAIR CO\u003c/td\u003e\n      \u003ctd\u003e86642667.0\u003c/td\u003e\n    \u003c/tr\u003e\n    \u003ctr\u003e\n      \u003cth\u003e2\u003c/th\u003e\n      \u003ctd\u003e9100007798788\u003c/td\u003e\n      \u003ctd\u003eLONDON FINE CARS LTD\u003c/td\u003e\n      \u003ctd\u003eSHELL FLEET PLUS CANADA PRIMARY\u003c/td\u003e\n      \u003ctd\u003e251000048.0\u003c/td\u003e\n    \u003c/tr\u003e\n    \u003ctr\u003e\n      \u003cth\u003e3\u003c/th\u003e\n      \u003ctd\u003e9100003620736\u003c/td\u003e\n      \u003ctd\u003eTOWN OF CLINTON\u003c/td\u003e\n      \u003ctd\u003eCITGO FLEET (PRIMARY)\u003c/td\u003e\n      \u003ctd\u003e159806652.0\u003c/td\u003e\n    \u003c/tr\u003e\n    \u003ctr\u003e\n      \u003cth\u003e4\u003c/th\u003e\n      \u003ctd\u003e9100004906989\u003c/td\u003e\n      \u003ctd\u003eGUARDIAN PLUMBING INC\u003c/td\u003e\n      \u003ctd\u003eSHEETZ EDGE PRIMARY\u003c/td\u003e\n      \u003ctd\u003e70498250.0\u003c/td\u003e\n    \u003c/tr\u003e\n  \u003c/tbody\u003e\n\u003c/table\u003e\n\u003c/div\u003e"
          },
          "metadata": {}
        }
      ]
    },
    {
      "execution_count": 7,
      "cell_type": "code",
      "metadata": {},
      "source": [
        "df_e \u003d EV_Customer_Segmentation_df[[\u0027CUSTOMER_ACCOUNT_ID\u0027,\u0027FLEET_TYPE\u0027]].copy()\ndf_c360 \u003d NAFCUSTOMER_C360_ACCOUNTS_df[[\u0027CUSTOMER_ACCOUNT_ID\u0027,\u0027EDW_CUSTOMER_NAME\u0027]].copy()"
      ],
      "outputs": []
    },
    {
      "execution_count": 8,
      "cell_type": "code",
      "metadata": {},
      "source": [
        "print(len(df_e))\ndf \u003d pd.merge(df_e,df_c360, on\u003d\u0027CUSTOMER_ACCOUNT_ID\u0027, how\u003d\u0027left\u0027)\nprint(len(df))\ndf.head()"
      ],
      "outputs": [
        {
          "output_type": "stream",
          "text": "37594\n37594\n",
          "name": "stdout"
        },
        {
          "output_type": "execute_result",
          "execution_count": 8,
          "data": {
            "text/plain": "   CUSTOMER_ACCOUNT_ID  FLEET_TYPE                       EDW_CUSTOMER_NAME\n0        9100009803232  Government                        STATE OF ARIZONA\n1        9100012245130  Government                        STATE OF VERMONT\n2        9100010673973  Government                        STATE OF GEORGIA\n3        9100011817999  Government  EXXONMOBIL FLEET NATIONAL FLEX PRIMARY\n4        9100011177226  Government                       STATE OF COLORADO",
            "text/html": "\u003cdiv\u003e\n\u003cstyle scoped\u003e\n    .dataframe tbody tr th:only-of-type {\n        vertical-align: middle;\n    }\n\n    .dataframe tbody tr th {\n        vertical-align: top;\n    }\n\n    .dataframe thead th {\n        text-align: right;\n    }\n\u003c/style\u003e\n\u003ctable border\u003d\"1\" class\u003d\"dataframe\"\u003e\n  \u003cthead\u003e\n    \u003ctr style\u003d\"text-align: right;\"\u003e\n      \u003cth\u003e\u003c/th\u003e\n      \u003cth\u003eCUSTOMER_ACCOUNT_ID\u003c/th\u003e\n      \u003cth\u003eFLEET_TYPE\u003c/th\u003e\n      \u003cth\u003eEDW_CUSTOMER_NAME\u003c/th\u003e\n    \u003c/tr\u003e\n  \u003c/thead\u003e\n  \u003ctbody\u003e\n    \u003ctr\u003e\n      \u003cth\u003e0\u003c/th\u003e\n      \u003ctd\u003e9100009803232\u003c/td\u003e\n      \u003ctd\u003eGovernment\u003c/td\u003e\n      \u003ctd\u003eSTATE OF ARIZONA\u003c/td\u003e\n    \u003c/tr\u003e\n    \u003ctr\u003e\n      \u003cth\u003e1\u003c/th\u003e\n      \u003ctd\u003e9100012245130\u003c/td\u003e\n      \u003ctd\u003eGovernment\u003c/td\u003e\n      \u003ctd\u003eSTATE OF VERMONT\u003c/td\u003e\n    \u003c/tr\u003e\n    \u003ctr\u003e\n      \u003cth\u003e2\u003c/th\u003e\n      \u003ctd\u003e9100010673973\u003c/td\u003e\n      \u003ctd\u003eGovernment\u003c/td\u003e\n      \u003ctd\u003eSTATE OF GEORGIA\u003c/td\u003e\n    \u003c/tr\u003e\n    \u003ctr\u003e\n      \u003cth\u003e3\u003c/th\u003e\n      \u003ctd\u003e9100011817999\u003c/td\u003e\n      \u003ctd\u003eGovernment\u003c/td\u003e\n      \u003ctd\u003eEXXONMOBIL FLEET NATIONAL FLEX PRIMARY\u003c/td\u003e\n    \u003c/tr\u003e\n    \u003ctr\u003e\n      \u003cth\u003e4\u003c/th\u003e\n      \u003ctd\u003e9100011177226\u003c/td\u003e\n      \u003ctd\u003eGovernment\u003c/td\u003e\n      \u003ctd\u003eSTATE OF COLORADO\u003c/td\u003e\n    \u003c/tr\u003e\n  \u003c/tbody\u003e\n\u003c/table\u003e\n\u003c/div\u003e"
          },
          "metadata": {}
        }
      ]
    },
    {
      "execution_count": 11,
      "cell_type": "code",
      "metadata": {},
      "source": [
        "df_g \u003d df.groupby([\u0027EDW_CUSTOMER_NAME\u0027]).CUSTOMER_ACCOUNT_ID.nunique().reset_index()"
      ],
      "outputs": []
    },
    {
      "execution_count": 13,
      "cell_type": "code",
      "metadata": {},
      "source": [
        "# Compute recipe outputs\n# TODO: Write here your actual code that computes the outputs\n# NB: DSS supports several kinds of APIs for reading and writing data. Please see doc.\n\nTMP_BUNDLERS_df \u003d df_g\n\n# Write recipe outputs\nTMP_BUNDLERS \u003d dataiku.Dataset(\"TMP_BUNDLERS\")\nTMP_BUNDLERS.write_with_schema(TMP_BUNDLERS_df)"
      ],
      "outputs": [
        {
          "output_type": "stream",
          "text": "694 rows successfully written (mfsYcnGMUB)\n",
          "name": "stdout"
        }
      ]
    }
  ]
}