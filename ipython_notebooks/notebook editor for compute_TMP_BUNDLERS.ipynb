{
  "nbformat": 4,
  "nbformat_minor": 0,
  "metadata": {
    "kernelspec": {
      "display_name": "Python in cpu-m-cpu-3-mem-4Gb (builtin env)",
      "language": "python",
      "name": "py-dku-containerized-venv--cpu-m-cpu-3-mem-4gb"
    },
    "associatedRecipe": "compute_TMP_BUNDLERS",
    "creator": "Daniel.Vandermeer",
    "createdOn": 1667313464703,
    "tags": [
      "recipe-editor"
    ],
    "customFields": {}
  },
  "cells": [
    {
      "cell_type": "code",
      "metadata": {},
      "outputs": [],
      "execution_count": 0,
      "source": [
        "# -*- coding: utf-8 -*-\n",
        "import dataiku\n",
        "import pandas as pd, numpy as np\n",
        "from dataiku import pandasutils as pdu\n",
        "\n",
        "# Read recipe inputs\n",
        "NAFCUSTOMER_C360_ACCOUNTS \u003d dataiku.Dataset(\"NAFCUSTOMER_C360_ACCOUNTS\")\n",
        "NAFCUSTOMER_C360_ACCOUNTS_df \u003d NAFCUSTOMER_C360_ACCOUNTS.get_dataframe()\n",
        "EV_Customer_Segmentation \u003d dataiku.Dataset(\"EV_Customer_Segmentation\")\n",
        "EV_Customer_Segmentation_df \u003d EV_Customer_Segmentation.get_dataframe()\n",
        "\n",
        "\n",
        "# Compute recipe outputs\n",
        "# TODO: Write here your actual code that computes the outputs\n",
        "# NB: DSS supports several kinds of APIs for reading and writing data. Please see doc.\n",
        "\n",
        "TMP_BUNDLERS_df \u003d ... # Compute a Pandas dataframe to write into TMP_BUNDLERS\n",
        "\n",
        "\n",
        "# Write recipe outputs\n",
        "TMP_BUNDLERS \u003d dataiku.Dataset(\"TMP_BUNDLERS\")\n",
        "TMP_BUNDLERS.write_with_schema(TMP_BUNDLERS_df)"
      ]
    }
  ]
}