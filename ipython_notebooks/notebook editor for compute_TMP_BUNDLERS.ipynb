{
  "metadata": {
    "kernelspec": {
      "name": "py-dku-venv-env_clc",
      "display_name": "Python (env env_clc)",
      "language": "python"
    },
    "associatedRecipe": "compute_TMP_BUNDLERS",
    "creator": "Daniel.Vandermeer",
    "createdOn": 1667313464703,
    "tags": [
      "recipe-editor"
    ],
    "customFields": {},
    "hide_input": false,
    "language_info": {
      "name": "python",
      "version": "3.6.8",
      "mimetype": "text/x-python",
      "codemirror_mode": {
        "name": "ipython",
        "version": 3
      },
      "pygments_lexer": "ipython3",
      "nbconvert_exporter": "python",
      "file_extension": ".py"
    },
    "modifiedBy": "Daniel.Vandermeer"
  },
  "nbformat": 4,
  "nbformat_minor": 1,
  "cells": [
    {
      "execution_count": 1,
      "cell_type": "code",
      "metadata": {},
      "source": [
        "# -*- coding: utf-8 -*-\nimport dataiku\nimport pandas as pd, numpy as np\nfrom dataiku import pandasutils as pdu\n\n# Read recipe inputs\nNAFCUSTOMER_C360_ACCOUNTS \u003d dataiku.Dataset(\"NAFCUSTOMER_C360_ACCOUNTS\")\nNAFCUSTOMER_C360_ACCOUNTS_df \u003d NAFCUSTOMER_C360_ACCOUNTS.get_dataframe()\n\nEV_Customer_Segmentation \u003d dataiku.Dataset(\"EV_Customer_Segmentation\")\nEV_Customer_Segmentation_df \u003d EV_Customer_Segmentation.get_dataframe()\n"
      ],
      "outputs": []
    },
    {
      "execution_count": 2,
      "cell_type": "code",
      "metadata": {},
      "source": [
        "len(EV_Customer_Segmentation_df)\nEV_Customer_Segmentation_df.head()"
      ],
      "outputs": [
        {
          "output_type": "execute_result",
          "execution_count": 2,
          "data": {
            "text/plain": "   CUSTOMER_ID  CUSTOMER  CUSTOMER_ACCOUNT_ID                 CUSTOMER_ACCOUNT_NAME  TOTAL_REVENUE  GROSS_SPEND  OUTSTANDING_CARDS  FLEET_TYPE\n0          NaN       NaN        9100009803232                           WMTW  IIPAM           0.10         4.00                  6  Government\n1          NaN       NaN        9100012245130       VT Dept for Children And Family          21.50         0.00                  1  Government\n2          NaN       NaN        9100010673973  Henry County Transportation Planning           0.49        15.62                  1  Government\n3          NaN       NaN        9100011817999                HIGHLAND CTY FIRE DEPT           0.72        72.47                 12  Government\n4          NaN       NaN        9100011177226             TAG PLANT  LICENSE PLATES           4.64       175.00                  4  Government",
            "text/html": "\u003cdiv\u003e\n\u003cstyle scoped\u003e\n    .dataframe tbody tr th:only-of-type {\n        vertical-align: middle;\n    }\n\n    .dataframe tbody tr th {\n        vertical-align: top;\n    }\n\n    .dataframe thead th {\n        text-align: right;\n    }\n\u003c/style\u003e\n\u003ctable border\u003d\"1\" class\u003d\"dataframe\"\u003e\n  \u003cthead\u003e\n    \u003ctr style\u003d\"text-align: right;\"\u003e\n      \u003cth\u003e\u003c/th\u003e\n      \u003cth\u003eCUSTOMER_ID\u003c/th\u003e\n      \u003cth\u003eCUSTOMER\u003c/th\u003e\n      \u003cth\u003eCUSTOMER_ACCOUNT_ID\u003c/th\u003e\n      \u003cth\u003eCUSTOMER_ACCOUNT_NAME\u003c/th\u003e\n      \u003cth\u003eTOTAL_REVENUE\u003c/th\u003e\n      \u003cth\u003eGROSS_SPEND\u003c/th\u003e\n      \u003cth\u003eOUTSTANDING_CARDS\u003c/th\u003e\n      \u003cth\u003eFLEET_TYPE\u003c/th\u003e\n    \u003c/tr\u003e\n  \u003c/thead\u003e\n  \u003ctbody\u003e\n    \u003ctr\u003e\n      \u003cth\u003e0\u003c/th\u003e\n      \u003ctd\u003eNaN\u003c/td\u003e\n      \u003ctd\u003eNaN\u003c/td\u003e\n      \u003ctd\u003e9100009803232\u003c/td\u003e\n      \u003ctd\u003eWMTW  IIPAM\u003c/td\u003e\n      \u003ctd\u003e0.10\u003c/td\u003e\n      \u003ctd\u003e4.00\u003c/td\u003e\n      \u003ctd\u003e6\u003c/td\u003e\n      \u003ctd\u003eGovernment\u003c/td\u003e\n    \u003c/tr\u003e\n    \u003ctr\u003e\n      \u003cth\u003e1\u003c/th\u003e\n      \u003ctd\u003eNaN\u003c/td\u003e\n      \u003ctd\u003eNaN\u003c/td\u003e\n      \u003ctd\u003e9100012245130\u003c/td\u003e\n      \u003ctd\u003eVT Dept for Children And Family\u003c/td\u003e\n      \u003ctd\u003e21.50\u003c/td\u003e\n      \u003ctd\u003e0.00\u003c/td\u003e\n      \u003ctd\u003e1\u003c/td\u003e\n      \u003ctd\u003eGovernment\u003c/td\u003e\n    \u003c/tr\u003e\n    \u003ctr\u003e\n      \u003cth\u003e2\u003c/th\u003e\n      \u003ctd\u003eNaN\u003c/td\u003e\n      \u003ctd\u003eNaN\u003c/td\u003e\n      \u003ctd\u003e9100010673973\u003c/td\u003e\n      \u003ctd\u003eHenry County Transportation Planning\u003c/td\u003e\n      \u003ctd\u003e0.49\u003c/td\u003e\n      \u003ctd\u003e15.62\u003c/td\u003e\n      \u003ctd\u003e1\u003c/td\u003e\n      \u003ctd\u003eGovernment\u003c/td\u003e\n    \u003c/tr\u003e\n    \u003ctr\u003e\n      \u003cth\u003e3\u003c/th\u003e\n      \u003ctd\u003eNaN\u003c/td\u003e\n      \u003ctd\u003eNaN\u003c/td\u003e\n      \u003ctd\u003e9100011817999\u003c/td\u003e\n      \u003ctd\u003eHIGHLAND CTY FIRE DEPT\u003c/td\u003e\n      \u003ctd\u003e0.72\u003c/td\u003e\n      \u003ctd\u003e72.47\u003c/td\u003e\n      \u003ctd\u003e12\u003c/td\u003e\n      \u003ctd\u003eGovernment\u003c/td\u003e\n    \u003c/tr\u003e\n    \u003ctr\u003e\n      \u003cth\u003e4\u003c/th\u003e\n      \u003ctd\u003eNaN\u003c/td\u003e\n      \u003ctd\u003eNaN\u003c/td\u003e\n      \u003ctd\u003e9100011177226\u003c/td\u003e\n      \u003ctd\u003eTAG PLANT  LICENSE PLATES\u003c/td\u003e\n      \u003ctd\u003e4.64\u003c/td\u003e\n      \u003ctd\u003e175.00\u003c/td\u003e\n      \u003ctd\u003e4\u003c/td\u003e\n      \u003ctd\u003eGovernment\u003c/td\u003e\n    \u003c/tr\u003e\n  \u003c/tbody\u003e\n\u003c/table\u003e\n\u003c/div\u003e"
          },
          "metadata": {}
        }
      ]
    },
    {
      "execution_count": 0,
      "cell_type": "code",
      "metadata": {},
      "source": [
        "# Compute recipe outputs\n# TODO: Write here your actual code that computes the outputs\n# NB: DSS supports several kinds of APIs for reading and writing data. Please see doc.\n\nTMP_BUNDLERS_df \u003d ... # Compute a Pandas dataframe to write into TMP_BUNDLERS\n\n\n# Write recipe outputs\nTMP_BUNDLERS \u003d dataiku.Dataset(\"TMP_BUNDLERS\")\nTMP_BUNDLERS.write_with_schema(TMP_BUNDLERS_df)"
      ],
      "outputs": []
    }
  ]
}