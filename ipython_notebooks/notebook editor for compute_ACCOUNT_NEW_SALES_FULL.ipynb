{
  "metadata": {
    "kernelspec": {
      "name": "py-dku-venv-env_clc",
      "display_name": "Python (env env_clc)",
      "language": "python"
    },
    "associatedRecipe": "compute_ACCOUNT_NEW_SALES_FULL",
    "dkuGit": {
      "lastInteraction": 0
    },
    "creationTag": {
      "versionNumber": 0,
      "lastModifiedBy": {
        "login": "Daniel.Vandermeer"
      },
      "lastModifiedOn": 1668682605402
    },
    "creator": "Daniel.Vandermeer",
    "createdOn": 1668682605402,
    "tags": [
      "recipe-editor"
    ],
    "customFields": {},
    "hide_input": false,
    "language_info": {
      "name": "python",
      "version": "3.6.8",
      "mimetype": "text/x-python",
      "codemirror_mode": {
        "name": "ipython",
        "version": 3
      },
      "pygments_lexer": "ipython3",
      "nbconvert_exporter": "python",
      "file_extension": ".py"
    },
    "modifiedBy": "Daniel.Vandermeer"
  },
  "nbformat": 4,
  "nbformat_minor": 1,
  "cells": [
    {
      "execution_count": 1,
      "cell_type": "code",
      "metadata": {},
      "source": [
        "# -*- coding: utf-8 -*-\nimport dataiku\nimport pandas as pd, numpy as np\nfrom dataiku import pandasutils as pdu\n\n# Read recipe inputs\nWEX_and_Non_Managed_Sold_20190101_20230130 \u003d dataiku.Dataset(\"WEX_and_Non_Managed_Sold_20190101_20230130\")\nWEX_and_Non_Managed_Sold_20190101_20230130_df \u003d WEX_and_Non_Managed_Sold_20190101_20230130.get_dataframe()\nprint(len(WEX_and_Non_Managed_Sold_20190101_20230130_df))\n\nManaged_Sold_20190101_20230130 \u003d dataiku.Dataset(\"Managed_Sold_20190101_20230130\")\nManaged_Sold_20190101_20230130_df \u003d Managed_Sold_20190101_20230130.get_dataframe()\nprint(len(Managed_Sold_20190101_20230130_df))\n\nSold_20230101_20230331 \u003d dataiku.Dataset(\"Sold_20230101_20230331\")\nSold_20230101_20230331_df \u003d Sold_20230101_20230331.get_dataframe()\nprint(len(Sold_20230101_20230331_df))"
      ],
      "outputs": [
        {
          "output_type": "stream",
          "text": "58382\n310470\n4144\n",
          "name": "stdout"
        }
      ]
    },
    {
      "execution_count": 0,
      "cell_type": "code",
      "metadata": {},
      "source": [
        "#WEX_and_Non_Managed_Sold_20190101_20230130_df[\u0027DATA_SOURCE\u0027] \u003d \u0027WEX_and_Non_Managed_Sold\u0027\n#Managed_Sold_20190101_20230130_df[\u0027DATA_SOURCE\u0027] \u003d \u0027Managed_Sold\u0027"
      ],
      "outputs": []
    },
    {
      "execution_count": 2,
      "cell_type": "code",
      "metadata": {},
      "source": [
        "print(len(WEX_and_Non_Managed_Sold_20190101_20230130_df))\nprint(len(Managed_Sold_20190101_20230130_df))\nprint(len(Sold_20230101_20230331_df))\ndf \u003d pd.concat([WEX_and_Non_Managed_Sold_20190101_20230130_df,Managed_Sold_20190101_20230130_df,Sold_20230101_20230331_df])\nprint(len(df))"
      ],
      "outputs": [
        {
          "output_type": "stream",
          "text": "58382\n310470\n4144\n372996\n",
          "name": "stdout"
        }
      ]
    },
    {
      "execution_count": 3,
      "cell_type": "code",
      "metadata": {},
      "source": [
        "print(len(df))\ndf.drop_duplicates(subset\u003d[\u0027SOURCE_ACCOUNT_ID\u0027], inplace\u003dTrue)\nprint(len(df))"
      ],
      "outputs": [
        {
          "output_type": "stream",
          "text": "372996\n372996\n",
          "name": "stdout"
        }
      ]
    },
    {
      "execution_count": 4,
      "cell_type": "code",
      "metadata": {},
      "source": [
        "df.head()"
      ],
      "outputs": [
        {
          "output_type": "execute_result",
          "execution_count": 4,
          "data": {
            "text/plain": "  MARKETING_PARTNER_NM BUSINESS_PROGRAM_NM PROGRAM_ID  SOURCE_ACCOUNT_ID            CAMPAIGN_TYPE COUPON_CODE               SALES_CHANNEL      SALES_REP  TRANS_RECORDS\n0             ALLOTHER             4Refuel  1-8OHPIE0      9100008678889           Administration         4RF                         NaN            NaN              9\n1             ALLOTHER             4Refuel  1-8OHPIE0      9100008841006  Online App Unattributed         V82  FIELD_SALES_REPRESENTATIVE  Timothy Jones              9\n2             ALLOTHER             4Refuel  1-8OHPIE0      9100008854731       Sales Unattributed      M64829  FIELD_SALES_REPRESENTATIVE  Timothy Jones             15\n3             ALLOTHER             4Refuel  1-8OHPIE0      9100009022473       Sales Unattributed      M64829  FIELD_SALES_REPRESENTATIVE  Timothy Jones             15\n4             ALLOTHER             4Refuel  1-8OHPIE0      9100009102528       Sales Unattributed      M64829  FIELD_SALES_REPRESENTATIVE  Timothy Jones             97",
            "text/html": "\u003cdiv\u003e\n\u003cstyle scoped\u003e\n    .dataframe tbody tr th:only-of-type {\n        vertical-align: middle;\n    }\n\n    .dataframe tbody tr th {\n        vertical-align: top;\n    }\n\n    .dataframe thead th {\n        text-align: right;\n    }\n\u003c/style\u003e\n\u003ctable border\u003d\"1\" class\u003d\"dataframe\"\u003e\n  \u003cthead\u003e\n    \u003ctr style\u003d\"text-align: right;\"\u003e\n      \u003cth\u003e\u003c/th\u003e\n      \u003cth\u003eMARKETING_PARTNER_NM\u003c/th\u003e\n      \u003cth\u003eBUSINESS_PROGRAM_NM\u003c/th\u003e\n      \u003cth\u003ePROGRAM_ID\u003c/th\u003e\n      \u003cth\u003eSOURCE_ACCOUNT_ID\u003c/th\u003e\n      \u003cth\u003eCAMPAIGN_TYPE\u003c/th\u003e\n      \u003cth\u003eCOUPON_CODE\u003c/th\u003e\n      \u003cth\u003eSALES_CHANNEL\u003c/th\u003e\n      \u003cth\u003eSALES_REP\u003c/th\u003e\n      \u003cth\u003eTRANS_RECORDS\u003c/th\u003e\n    \u003c/tr\u003e\n  \u003c/thead\u003e\n  \u003ctbody\u003e\n    \u003ctr\u003e\n      \u003cth\u003e0\u003c/th\u003e\n      \u003ctd\u003eALLOTHER\u003c/td\u003e\n      \u003ctd\u003e4Refuel\u003c/td\u003e\n      \u003ctd\u003e1-8OHPIE0\u003c/td\u003e\n      \u003ctd\u003e9100008678889\u003c/td\u003e\n      \u003ctd\u003eAdministration\u003c/td\u003e\n      \u003ctd\u003e4RF\u003c/td\u003e\n      \u003ctd\u003eNaN\u003c/td\u003e\n      \u003ctd\u003eNaN\u003c/td\u003e\n      \u003ctd\u003e9\u003c/td\u003e\n    \u003c/tr\u003e\n    \u003ctr\u003e\n      \u003cth\u003e1\u003c/th\u003e\n      \u003ctd\u003eALLOTHER\u003c/td\u003e\n      \u003ctd\u003e4Refuel\u003c/td\u003e\n      \u003ctd\u003e1-8OHPIE0\u003c/td\u003e\n      \u003ctd\u003e9100008841006\u003c/td\u003e\n      \u003ctd\u003eOnline App Unattributed\u003c/td\u003e\n      \u003ctd\u003eV82\u003c/td\u003e\n      \u003ctd\u003eFIELD_SALES_REPRESENTATIVE\u003c/td\u003e\n      \u003ctd\u003eTimothy Jones\u003c/td\u003e\n      \u003ctd\u003e9\u003c/td\u003e\n    \u003c/tr\u003e\n    \u003ctr\u003e\n      \u003cth\u003e2\u003c/th\u003e\n      \u003ctd\u003eALLOTHER\u003c/td\u003e\n      \u003ctd\u003e4Refuel\u003c/td\u003e\n      \u003ctd\u003e1-8OHPIE0\u003c/td\u003e\n      \u003ctd\u003e9100008854731\u003c/td\u003e\n      \u003ctd\u003eSales Unattributed\u003c/td\u003e\n      \u003ctd\u003eM64829\u003c/td\u003e\n      \u003ctd\u003eFIELD_SALES_REPRESENTATIVE\u003c/td\u003e\n      \u003ctd\u003eTimothy Jones\u003c/td\u003e\n      \u003ctd\u003e15\u003c/td\u003e\n    \u003c/tr\u003e\n    \u003ctr\u003e\n      \u003cth\u003e3\u003c/th\u003e\n      \u003ctd\u003eALLOTHER\u003c/td\u003e\n      \u003ctd\u003e4Refuel\u003c/td\u003e\n      \u003ctd\u003e1-8OHPIE0\u003c/td\u003e\n      \u003ctd\u003e9100009022473\u003c/td\u003e\n      \u003ctd\u003eSales Unattributed\u003c/td\u003e\n      \u003ctd\u003eM64829\u003c/td\u003e\n      \u003ctd\u003eFIELD_SALES_REPRESENTATIVE\u003c/td\u003e\n      \u003ctd\u003eTimothy Jones\u003c/td\u003e\n      \u003ctd\u003e15\u003c/td\u003e\n    \u003c/tr\u003e\n    \u003ctr\u003e\n      \u003cth\u003e4\u003c/th\u003e\n      \u003ctd\u003eALLOTHER\u003c/td\u003e\n      \u003ctd\u003e4Refuel\u003c/td\u003e\n      \u003ctd\u003e1-8OHPIE0\u003c/td\u003e\n      \u003ctd\u003e9100009102528\u003c/td\u003e\n      \u003ctd\u003eSales Unattributed\u003c/td\u003e\n      \u003ctd\u003eM64829\u003c/td\u003e\n      \u003ctd\u003eFIELD_SALES_REPRESENTATIVE\u003c/td\u003e\n      \u003ctd\u003eTimothy Jones\u003c/td\u003e\n      \u003ctd\u003e97\u003c/td\u003e\n    \u003c/tr\u003e\n  \u003c/tbody\u003e\n\u003c/table\u003e\n\u003c/div\u003e"
          },
          "metadata": {}
        }
      ]
    },
    {
      "execution_count": 0,
      "cell_type": "code",
      "metadata": {},
      "source": [
        "# Compute recipe outputs\n# TODO: Write here your actual code that computes the outputs\n# NB: DSS supports several kinds of APIs for reading and writing data. Please see doc.\n\nACCOUNT_NEW_SALES_FULL_df \u003d df\n\n# Write recipe outputs\nACCOUNT_NEW_SALES_FULL \u003d dataiku.Dataset(\"ACCOUNT_NEW_SALES_FULL\")\nACCOUNT_NEW_SALES_FULL.write_with_schema(ACCOUNT_NEW_SALES_FULL_df)"
      ],
      "outputs": []
    }
  ]
}