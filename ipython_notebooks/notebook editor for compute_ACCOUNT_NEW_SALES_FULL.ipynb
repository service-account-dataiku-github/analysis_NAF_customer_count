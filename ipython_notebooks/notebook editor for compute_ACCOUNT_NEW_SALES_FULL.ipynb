{
  "metadata": {
    "kernelspec": {
      "name": "py-dku-venv-env_clc",
      "display_name": "Python (env env_clc)",
      "language": "python"
    },
    "associatedRecipe": "compute_ACCOUNT_NEW_SALES_FULL",
    "creator": "Daniel.Vandermeer",
    "createdOn": 1668682605402,
    "tags": [
      "recipe-editor"
    ],
    "customFields": {},
    "hide_input": false,
    "language_info": {
      "name": "python",
      "version": "3.6.8",
      "mimetype": "text/x-python",
      "codemirror_mode": {
        "name": "ipython",
        "version": 3
      },
      "pygments_lexer": "ipython3",
      "nbconvert_exporter": "python",
      "file_extension": ".py"
    },
    "modifiedBy": "Daniel.Vandermeer"
  },
  "nbformat": 4,
  "nbformat_minor": 1,
  "cells": [
    {
      "execution_count": 1,
      "cell_type": "code",
      "metadata": {},
      "source": [
        "# -*- coding: utf-8 -*-\nimport dataiku\nimport pandas as pd, numpy as np\nfrom dataiku import pandasutils as pdu\n\n# Read recipe inputs\nWEX_and_Non_Managed_Sold_20190101_20220920 \u003d dataiku.Dataset(\"WEX_and_Non_Managed_Sold_20190101_20220920\")\nWEX_and_Non_Managed_Sold_20190101_20220920_df \u003d WEX_and_Non_Managed_Sold_20190101_20220920.get_dataframe()\n\nManaged_Sold_20190101_20220920 \u003d dataiku.Dataset(\"Managed_Sold_20190101_20220920\")\nManaged_Sold_20190101_20220920_df \u003d Managed_Sold_20190101_20220920.get_dataframe()"
      ],
      "outputs": []
    },
    {
      "execution_count": 4,
      "cell_type": "code",
      "metadata": {},
      "source": [
        "WEX_and_Non_Managed_Sold_20190101_20220920_df[\u0027DATA_SOURCE\u0027] \u003d \u0027WEX_and_Non_Managed_Sold\u0027\nManaged_Sold_20190101_20220920_df[\u0027DATA_SOURCE\u0027] \u003d \u0027Managed_Sold\u0027"
      ],
      "outputs": [
        {
          "output_type": "execute_result",
          "execution_count": 4,
          "data": {
            "text/plain": "  MARKETING_PARTNER_NM BUSINESS_PROGRAM_NM PROGRAM_ID  SOURCE_ACCOUNT_ID            CAMPAIGN_TYPE COUPON_CODE                SALES_CHANNEL       SALES_REP  TRANS_RECORDS   DATA_SOURCE\n0             7-ELEVEN  7-Eleven Fuel Card   1-LTC412      9100006966333              Direct Mail         T6Q  INSIDE_SALES_REPRESENTATIVE  Michael Malone              5  Managed_Sold\n1             7-ELEVEN  7-Eleven Fuel Card   1-LTC412      9100006967035  Online App Unattributed         SVL  INSIDE_SALES_REPRESENTATIVE  Tyler Laplante              3  Managed_Sold\n2             7-ELEVEN  7-Eleven Fuel Card   1-LTC412      9100006967125              Paid Search         Y1D  INSIDE_SALES_REPRESENTATIVE  Tyler Laplante             87  Managed_Sold\n3             7-ELEVEN  7-Eleven Fuel Card   1-LTC412      9100006967476  Online App Unattributed         SVL                          NaN             NaN              3  Managed_Sold\n4             7-ELEVEN  7-Eleven Fuel Card   1-LTC412      9100006968070            Website Other         H1A                          NaN             NaN              9  Managed_Sold",
            "text/html": "\u003cdiv\u003e\n\u003cstyle scoped\u003e\n    .dataframe tbody tr th:only-of-type {\n        vertical-align: middle;\n    }\n\n    .dataframe tbody tr th {\n        vertical-align: top;\n    }\n\n    .dataframe thead th {\n        text-align: right;\n    }\n\u003c/style\u003e\n\u003ctable border\u003d\"1\" class\u003d\"dataframe\"\u003e\n  \u003cthead\u003e\n    \u003ctr style\u003d\"text-align: right;\"\u003e\n      \u003cth\u003e\u003c/th\u003e\n      \u003cth\u003eMARKETING_PARTNER_NM\u003c/th\u003e\n      \u003cth\u003eBUSINESS_PROGRAM_NM\u003c/th\u003e\n      \u003cth\u003ePROGRAM_ID\u003c/th\u003e\n      \u003cth\u003eSOURCE_ACCOUNT_ID\u003c/th\u003e\n      \u003cth\u003eCAMPAIGN_TYPE\u003c/th\u003e\n      \u003cth\u003eCOUPON_CODE\u003c/th\u003e\n      \u003cth\u003eSALES_CHANNEL\u003c/th\u003e\n      \u003cth\u003eSALES_REP\u003c/th\u003e\n      \u003cth\u003eTRANS_RECORDS\u003c/th\u003e\n      \u003cth\u003eDATA_SOURCE\u003c/th\u003e\n    \u003c/tr\u003e\n  \u003c/thead\u003e\n  \u003ctbody\u003e\n    \u003ctr\u003e\n      \u003cth\u003e0\u003c/th\u003e\n      \u003ctd\u003e7-ELEVEN\u003c/td\u003e\n      \u003ctd\u003e7-Eleven Fuel Card\u003c/td\u003e\n      \u003ctd\u003e1-LTC412\u003c/td\u003e\n      \u003ctd\u003e9100006966333\u003c/td\u003e\n      \u003ctd\u003eDirect Mail\u003c/td\u003e\n      \u003ctd\u003eT6Q\u003c/td\u003e\n      \u003ctd\u003eINSIDE_SALES_REPRESENTATIVE\u003c/td\u003e\n      \u003ctd\u003eMichael Malone\u003c/td\u003e\n      \u003ctd\u003e5\u003c/td\u003e\n      \u003ctd\u003eManaged_Sold\u003c/td\u003e\n    \u003c/tr\u003e\n    \u003ctr\u003e\n      \u003cth\u003e1\u003c/th\u003e\n      \u003ctd\u003e7-ELEVEN\u003c/td\u003e\n      \u003ctd\u003e7-Eleven Fuel Card\u003c/td\u003e\n      \u003ctd\u003e1-LTC412\u003c/td\u003e\n      \u003ctd\u003e9100006967035\u003c/td\u003e\n      \u003ctd\u003eOnline App Unattributed\u003c/td\u003e\n      \u003ctd\u003eSVL\u003c/td\u003e\n      \u003ctd\u003eINSIDE_SALES_REPRESENTATIVE\u003c/td\u003e\n      \u003ctd\u003eTyler Laplante\u003c/td\u003e\n      \u003ctd\u003e3\u003c/td\u003e\n      \u003ctd\u003eManaged_Sold\u003c/td\u003e\n    \u003c/tr\u003e\n    \u003ctr\u003e\n      \u003cth\u003e2\u003c/th\u003e\n      \u003ctd\u003e7-ELEVEN\u003c/td\u003e\n      \u003ctd\u003e7-Eleven Fuel Card\u003c/td\u003e\n      \u003ctd\u003e1-LTC412\u003c/td\u003e\n      \u003ctd\u003e9100006967125\u003c/td\u003e\n      \u003ctd\u003ePaid Search\u003c/td\u003e\n      \u003ctd\u003eY1D\u003c/td\u003e\n      \u003ctd\u003eINSIDE_SALES_REPRESENTATIVE\u003c/td\u003e\n      \u003ctd\u003eTyler Laplante\u003c/td\u003e\n      \u003ctd\u003e87\u003c/td\u003e\n      \u003ctd\u003eManaged_Sold\u003c/td\u003e\n    \u003c/tr\u003e\n    \u003ctr\u003e\n      \u003cth\u003e3\u003c/th\u003e\n      \u003ctd\u003e7-ELEVEN\u003c/td\u003e\n      \u003ctd\u003e7-Eleven Fuel Card\u003c/td\u003e\n      \u003ctd\u003e1-LTC412\u003c/td\u003e\n      \u003ctd\u003e9100006967476\u003c/td\u003e\n      \u003ctd\u003eOnline App Unattributed\u003c/td\u003e\n      \u003ctd\u003eSVL\u003c/td\u003e\n      \u003ctd\u003eNaN\u003c/td\u003e\n      \u003ctd\u003eNaN\u003c/td\u003e\n      \u003ctd\u003e3\u003c/td\u003e\n      \u003ctd\u003eManaged_Sold\u003c/td\u003e\n    \u003c/tr\u003e\n    \u003ctr\u003e\n      \u003cth\u003e4\u003c/th\u003e\n      \u003ctd\u003e7-ELEVEN\u003c/td\u003e\n      \u003ctd\u003e7-Eleven Fuel Card\u003c/td\u003e\n      \u003ctd\u003e1-LTC412\u003c/td\u003e\n      \u003ctd\u003e9100006968070\u003c/td\u003e\n      \u003ctd\u003eWebsite Other\u003c/td\u003e\n      \u003ctd\u003eH1A\u003c/td\u003e\n      \u003ctd\u003eNaN\u003c/td\u003e\n      \u003ctd\u003eNaN\u003c/td\u003e\n      \u003ctd\u003e9\u003c/td\u003e\n      \u003ctd\u003eManaged_Sold\u003c/td\u003e\n    \u003c/tr\u003e\n  \u003c/tbody\u003e\n\u003c/table\u003e\n\u003c/div\u003e"
          },
          "metadata": {}
        }
      ]
    },
    {
      "execution_count": 0,
      "cell_type": "code",
      "metadata": {},
      "source": [
        "# Compute recipe outputs\n# TODO: Write here your actual code that computes the outputs\n# NB: DSS supports several kinds of APIs for reading and writing data. Please see doc.\n\nACCOUNT_NEW_SALES_FULL_df \u003d ... # Compute a Pandas dataframe to write into ACCOUNT_NEW_SALES_FULL\n\n\n# Write recipe outputs\nACCOUNT_NEW_SALES_FULL \u003d dataiku.Dataset(\"ACCOUNT_NEW_SALES_FULL\")\nACCOUNT_NEW_SALES_FULL.write_with_schema(ACCOUNT_NEW_SALES_FULL_df)"
      ],
      "outputs": []
    }
  ]
}