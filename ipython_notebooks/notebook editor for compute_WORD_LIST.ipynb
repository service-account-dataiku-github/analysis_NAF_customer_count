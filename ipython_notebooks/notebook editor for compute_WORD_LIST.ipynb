{
  "metadata": {
    "kernelspec": {
      "name": "py-dku-venv-env_clc",
      "display_name": "Python (env env_clc)",
      "language": "python"
    },
    "associatedRecipe": "compute_WORD_LIST",
    "creator": "Daniel.Vandermeer",
    "createdOn": 1666042478715,
    "tags": [
      "recipe-editor"
    ],
    "customFields": {},
    "hide_input": false,
    "language_info": {
      "name": "python",
      "version": "3.6.8",
      "mimetype": "text/x-python",
      "codemirror_mode": {
        "name": "ipython",
        "version": 3
      },
      "pygments_lexer": "ipython3",
      "nbconvert_exporter": "python",
      "file_extension": ".py"
    },
    "modifiedBy": "Daniel.Vandermeer"
  },
  "nbformat": 4,
  "nbformat_minor": 1,
  "cells": [
    {
      "execution_count": 1,
      "cell_type": "code",
      "metadata": {},
      "source": [
        "# -*- coding: utf-8 -*-\nimport dataiku\nimport pandas as pd, numpy as np\nfrom dataiku import pandasutils as pdu\n\n# Read recipe inputs\nBY_ACCOUNT \u003d dataiku.Dataset(\"BY_ACCOUNT\")\nBY_ACCOUNT_df \u003d BY_ACCOUNT.get_dataframe()\n\ndf \u003d BY_ACCOUNT_df"
      ],
      "outputs": []
    },
    {
      "execution_count": 5,
      "cell_type": "code",
      "metadata": {},
      "source": [
        "customers \u003d df.CUSTOMER.unique()\nlen(customers)"
      ],
      "outputs": [
        {
          "output_type": "execute_result",
          "execution_count": 5,
          "data": {
            "text/plain": "657099"
          },
          "metadata": {}
        }
      ]
    },
    {
      "execution_count": 0,
      "cell_type": "code",
      "metadata": {},
      "source": [
        "import string\nfrom nltk.tag import pos_tag\n\nidx \u003d 0\n\nfor c in customers:\n    \n    if idx\u003e10:\n        break;"
      ],
      "outputs": []
    },
    {
      "execution_count": 0,
      "cell_type": "code",
      "metadata": {},
      "source": [
        "# Compute recipe outputs from inputs\n# TODO: Replace this part by your actual code that computes the output, as a Pandas dataframe\n# NB: DSS also supports other kinds of APIs for reading and writing data. Please see doc.\n\nWORD_LIST_df \u003d BY_ACCOUNT_df # For this sample code, simply copy input to output\n\n\n# Write recipe outputs\nWORD_LIST \u003d dataiku.Dataset(\"WORD_LIST\")\nWORD_LIST.write_with_schema(WORD_LIST_df)"
      ],
      "outputs": []
    }
  ]
}