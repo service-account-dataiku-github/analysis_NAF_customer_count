{
  "metadata": {
    "kernelspec": {
      "name": "py-dku-venv-env_clc",
      "display_name": "Python (env env_clc)",
      "language": "python"
    },
    "associatedRecipe": "compute_WORD_LIST",
    "dkuGit": {
      "lastInteraction": 0
    },
    "creationTag": {
      "versionNumber": 0,
      "lastModifiedBy": {
        "login": "Daniel.Vandermeer"
      },
      "lastModifiedOn": 1666042478715
    },
    "creator": "Daniel.Vandermeer",
    "createdOn": 1666042478715,
    "tags": [
      "recipe-editor"
    ],
    "customFields": {},
    "hide_input": false,
    "language_info": {
      "name": "python",
      "version": "3.6.8",
      "mimetype": "text/x-python",
      "codemirror_mode": {
        "name": "ipython",
        "version": 3
      },
      "pygments_lexer": "ipython3",
      "nbconvert_exporter": "python",
      "file_extension": ".py"
    },
    "modifiedBy": "Daniel.Vandermeer"
  },
  "nbformat": 4,
  "nbformat_minor": 1,
  "cells": [
    {
      "execution_count": 42,
      "cell_type": "code",
      "metadata": {},
      "source": [
        "# -*- coding: utf-8 -*-\nimport dataiku\nimport pandas as pd, numpy as np\nfrom dataiku import pandasutils as pdu\n\n# Read recipe inputs\nBY_ACCOUNT \u003d dataiku.Dataset(\"BY_ACCOUNT\")\nBY_ACCOUNT_df \u003d BY_ACCOUNT.get_dataframe()\n\ndf \u003d BY_ACCOUNT_df"
      ],
      "outputs": []
    },
    {
      "execution_count": 43,
      "cell_type": "code",
      "metadata": {},
      "source": [
        "customers \u003d df.CUSTOMER.unique()\nlen(customers)"
      ],
      "outputs": [
        {
          "output_type": "execute_result",
          "execution_count": 43,
          "data": {
            "text/plain": "657099"
          },
          "metadata": {}
        }
      ]
    },
    {
      "execution_count": 44,
      "cell_type": "code",
      "metadata": {},
      "source": [
        "import string\nimport nltk\nfrom nltk.tag import pos_tag\n\ndf_dict \u003d pd.DataFrame(nltk.corpus.words.words(), columns\u003d[\u0027word\u0027])\ndf_dict[\u0027word\u0027] \u003d df_dict[\u0027word\u0027].str.upper()"
      ],
      "outputs": []
    },
    {
      "execution_count": 45,
      "cell_type": "code",
      "metadata": {},
      "source": [
        "class Common_Word:\n\n    def __init__(self, word):\n\n        self.word \u003d word\n        self.count \u003d 1\n\nclass Common_Word_List:\n\n    def __init__(self):\n\n        self.values \u003d []\n\n\n    def add_word(self, word):\n\n        found \u003d False\n        for w in self.values:\n            if w.word\u003d\u003dword:\n                w.count+\u003d1\n                found \u003d True\n\n        if not found:\n            self.values.append(Common_Word(word))"
      ],
      "outputs": []
    },
    {
      "execution_count": 0,
      "cell_type": "code",
      "metadata": {},
      "source": [
        "list_ \u003d Common_Word_List()\nidx \u003d 0\n\nfor c in customers:\n\n    c_str \u003d c.translate(str.maketrans(\u0027\u0027, \u0027\u0027, string.punctuation))\n    f \u003d c_str.split()\n\n    for w in f:\n        if (len(w)\u003e1) and (not w.isnumeric()):\n            list_.add_word(w)\n    idx+\u003d1\n\n    if (idx % 10000 \u003d\u003d 0):\n        print(idx, len(list_.values))\n\n    if idx\u003e50000:\n        break;"
      ],
      "outputs": [
        {
          "output_type": "stream",
          "text": "10000 9239\n20000 14923\n30000 19943\n",
          "name": "stdout"
        }
      ]
    },
    {
      "execution_count": 0,
      "cell_type": "code",
      "metadata": {},
      "source": [
        "_words \u003d []\n_counts \u003d []\nfor w in list_.values:\n    if w.count\u003e50:\n        _words.append(w.word)\n        _counts.append(w.count)\n\ndf_words \u003d pd.DataFrame(_words, columns\u003d[\u0027word\u0027])\ndf_words[\u0027counts\u0027] \u003d _counts\n\ndf_words.sort_values(by\u003d\u0027counts\u0027, ascending\u003dFalse, inplace\u003dTrue)"
      ],
      "outputs": []
    },
    {
      "execution_count": 0,
      "cell_type": "code",
      "metadata": {},
      "source": [
        "# Compute recipe outputs from inputs\n# TODO: Replace this part by your actual code that computes the output, as a Pandas dataframe\n# NB: DSS also supports other kinds of APIs for reading and writing data. Please see doc.\n\nCOMMON_WORDS_IN_NAMES \u003d df_words\n\n# Write recipe outputs\nCOMMON_WORDS_IN_NAMES \u003d dataiku.Dataset(\"COMMON_WORDS_IN_NAMES\")\nCOMMON_WORDS_IN_NAMES.write_with_schema(COMMON_WORDS_IN_NAMES_df)"
      ],
      "outputs": []
    }
  ]
}