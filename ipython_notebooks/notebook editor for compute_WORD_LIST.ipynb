{
  "nbformat": 4,
  "nbformat_minor": 0,
  "metadata": {
    "kernelspec": {
      "display_name": "Python in cpu-m-cpu-3-mem-4Gb (builtin env)",
      "language": "python",
      "name": "py-dku-containerized-venv--cpu-m-cpu-3-mem-4gb"
    },
    "associatedRecipe": "compute_WORD_LIST",
    "dkuGit": {
      "lastInteraction": 0
    },
    "creationTag": {
      "versionNumber": 0,
      "lastModifiedBy": {
        "login": "Daniel.Vandermeer"
      },
      "lastModifiedOn": 1666042478715
    },
    "creator": "Daniel.Vandermeer",
    "createdOn": 1666042478715,
    "tags": [
      "recipe-editor"
    ],
    "customFields": {}
  },
  "cells": [
    {
      "cell_type": "code",
      "metadata": {},
      "outputs": [],
      "execution_count": 0,
      "source": [
        "# -*- coding: utf-8 -*-\n",
        "import dataiku\n",
        "import pandas as pd, numpy as np\n",
        "from dataiku import pandasutils as pdu\n",
        "\n",
        "# Read recipe inputs\n",
        "BY_ACCOUNT \u003d dataiku.Dataset(\"BY_ACCOUNT\")\n",
        "BY_ACCOUNT_df \u003d BY_ACCOUNT.get_dataframe()\n",
        "\n",
        "df \u003d BY_ACCOUNT_df"
      ]
    },
    {
      "cell_type": "code",
      "metadata": {},
      "outputs": [],
      "execution_count": 0,
      "source": [
        "customers \u003d df.CUSTOMER.unique()\n",
        "len(customers)"
      ]
    },
    {
      "cell_type": "code",
      "metadata": {},
      "outputs": [],
      "execution_count": 0,
      "source": [
        "import string\n",
        "import nltk\n",
        "from nltk.tag import pos_tag\n",
        "\n",
        "df_dict \u003d pd.DataFrame(nltk.corpus.words.words(), columns\u003d[\u0027word\u0027])\n",
        "df_dict[\u0027word\u0027] \u003d df_dict[\u0027word\u0027].str.upper()"
      ]
    },
    {
      "cell_type": "code",
      "metadata": {},
      "outputs": [],
      "execution_count": 0,
      "source": [
        "class Common_Word:\n",
        "\n",
        "    def __init__(self, word):\n",
        "\n",
        "        self.word \u003d word\n",
        "        self.count \u003d 1\n",
        "\n",
        "\n",
        "class Common_Word_List:\n",
        "\n",
        "    def __init__(self):\n",
        "\n",
        "        self.values \u003d []\n",
        "\n",
        "\n",
        "    def add_word(self, word):\n",
        "\n",
        "        found \u003d False\n",
        "        for w in self.values:\n",
        "            if w.word\u003d\u003dword:\n",
        "                w.count+\u003d1\n",
        "                found \u003d True\n",
        "\n",
        "        if not found:\n",
        "            self.values.append(Common_Word(word))"
      ]
    },
    {
      "cell_type": "code",
      "metadata": {},
      "outputs": [],
      "execution_count": 0,
      "source": [
        "list_ \u003d Common_Word_List()\n",
        "idx \u003d 0\n",
        "\n",
        "for c in customers:\n",
        "\n",
        "    c_str \u003d c.translate(str.maketrans(\u0027\u0027, \u0027\u0027, string.punctuation))\n",
        "    f \u003d c_str.split()\n",
        "\n",
        "    for w in f:\n",
        "        if (len(w)\u003e1) and (not w.isnumeric()):\n",
        "            list_.add_word(w)\n",
        "    idx+\u003d1\n",
        "\n",
        "    if (idx % 10000 \u003d\u003d 0):\n",
        "        print(idx, len(list_.values))\n",
        "\n",
        "    if idx\u003e50000:\n",
        "        break;\n",
        "\n",
        "print()"
      ]
    },
    {
      "cell_type": "code",
      "metadata": {},
      "outputs": [],
      "execution_count": 0,
      "source": [
        "_words \u003d []\n",
        "_counts \u003d []\n",
        "for w in list_.values:\n",
        "    if w.count\u003e50:\n",
        "        _words.append(w.word)\n",
        "        _counts.append(w.count)\n",
        "\n",
        "df_words \u003d pd.DataFrame(_words, columns\u003d[\u0027word\u0027])\n",
        "df_words[\u0027counts\u0027] \u003d _counts\n",
        "\n",
        "df_words.sort_values(by\u003d\u0027counts\u0027, ascending\u003dFalse, inplace\u003dTrue)"
      ]
    },
    {
      "cell_type": "code",
      "metadata": {},
      "outputs": [],
      "execution_count": 0,
      "source": [
        "# Compute recipe outputs from inputs\n",
        "# TODO: Replace this part by your actual code that computes the output, as a Pandas dataframe\n",
        "# NB: DSS also supports other kinds of APIs for reading and writing data. Please see doc.\n",
        "\n",
        "WORD_LIST_df \u003d df_words\n",
        "\n",
        "# Write recipe outputs\n",
        "WORD_LIST \u003d dataiku.Dataset(\"WORD_LIST\")\n",
        "WORD_LIST.write_with_schema(WORD_LIST_df)"
      ]
    }
  ]
}