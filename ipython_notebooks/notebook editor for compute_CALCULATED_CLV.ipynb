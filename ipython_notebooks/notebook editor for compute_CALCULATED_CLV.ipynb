{
  "metadata": {
    "kernelspec": {
      "name": "py-dku-containerized-venv-env_clc-cpu-xxl-cpu-12-mem-32gb",
      "display_name": "Python in cpu-xxl-cpu-12-mem-32Gb (env env_clc)",
      "language": "python"
    },
    "associatedRecipe": "compute_CALCULATED_CLV",
    "creator": "Daniel.Vandermeer",
    "createdOn": 1677243807727,
    "tags": [
      "recipe-editor"
    ],
    "customFields": {},
    "hide_input": false,
    "language_info": {
      "name": "python",
      "version": "3.6.8",
      "mimetype": "text/x-python",
      "codemirror_mode": {
        "name": "ipython",
        "version": 3
      },
      "pygments_lexer": "ipython3",
      "nbconvert_exporter": "python",
      "file_extension": ".py"
    },
    "modifiedBy": "Austin.Smith"
  },
  "nbformat": 4,
  "nbformat_minor": 1,
  "cells": [
    {
      "execution_count": 0,
      "cell_type": "code",
      "metadata": {},
      "source": [
        "print(\"test\")"
      ],
      "outputs": []
    },
    {
      "execution_count": 0,
      "cell_type": "code",
      "metadata": {},
      "source": [
        "# -*- coding: utf-8 -*-\nimport dataiku\nimport pandas as pd, numpy as np\nfrom dataiku import pandasutils as pdu\n\n# Read recipe inputs\nNAFCUSTOMER_NEW_ACCOUNTS_IN_2021 \u003d dataiku.Dataset(\"NAFCUSTOMER_NEW_ACCOUNTS_IN_2021\")\nNAFCUSTOMER_NEW_ACCOUNTS_IN_2021_df \u003d NAFCUSTOMER_NEW_ACCOUNTS_IN_2021.get_dataframe()\n\n\n# Compute recipe outputs from inputs\n# TODO: Replace this part by your actual code that computes the output, as a Pandas dataframe\n# NB: DSS also supports other kinds of APIs for reading and writing data. Please see doc.\n\nCALCULATED_CLV_df \u003d NAFCUSTOMER_NEW_ACCOUNTS_IN_2021_df # For this sample code, simply copy input to output\nprint(len(CALCULATED_CLV_df))\n"
      ],
      "outputs": []
    },
    {
      "execution_count": 0,
      "cell_type": "code",
      "metadata": {},
      "source": [
        "df \u003d CALCULATED_CLV_df"
      ],
      "outputs": []
    },
    {
      "execution_count": 0,
      "cell_type": "code",
      "metadata": {},
      "source": [
        "df_customers_with_card_count \u003d df.groupby([\u0027CUSTOMER_ID\u0027,\u0027CUSTOMER\u0027]).ACTIVE_CARD_COUNT.sum().reset_index()\n\ndf_customers_with_card_count[\u0027FLEET_SIZE\u0027] \u003d \u0027NOT SET\u0027\ndf_customers_with_card_count.loc[df_customers_with_card_count.ACTIVE_CARD_COUNT.between(0,5), \u0027FLEET_SIZE\u0027] \u003d \u0027(\u003c\u003d5 cards)\u0027\ndf_customers_with_card_count.loc[df_customers_with_card_count.ACTIVE_CARD_COUNT.between(6,100), \u0027FLEET_SIZE\u0027] \u003d \u0027(between 6 and 100 cards)\u0027\ndf_customers_with_card_count.loc[df_customers_with_card_count.ACTIVE_CARD_COUNT\u003e100, \u0027FLEET_SIZE\u0027] \u003d \u0027(\u003e100 cards)\u0027\ndf_customers_with_card_count.head()"
      ],
      "outputs": []
    },
    {
      "execution_count": 0,
      "cell_type": "code",
      "metadata": {},
      "source": [
        "df_customers_with_card_count.groupby(\u0027FLEET_SIZE\u0027).ACTIVE_CARD_COUNT.sum().reset_index()"
      ],
      "outputs": []
    },
    {
      "execution_count": 0,
      "cell_type": "code",
      "metadata": {},
      "source": [
        "# Write recipe outputs\n#CALCULATED_CLV \u003d dataiku.Dataset(\"CALCULATED_CLV\")\n#CALCULATED_CLV.write_with_schema(CALCULATED_CLV_df)"
      ],
      "outputs": []
    }
  ]
}