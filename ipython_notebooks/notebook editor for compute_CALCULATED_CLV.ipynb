{
  "metadata": {
    "kernelspec": {
      "name": "py-dku-venv-env_clc",
      "display_name": "Python (env env_clc)",
      "language": "python"
    },
    "associatedRecipe": "compute_CALCULATED_CLV",
    "creator": "Daniel.Vandermeer",
    "createdOn": 1677243807727,
    "tags": [
      "recipe-editor"
    ],
    "customFields": {},
    "hide_input": false,
    "language_info": {
      "name": "python",
      "version": "3.6.8",
      "mimetype": "text/x-python",
      "codemirror_mode": {
        "name": "ipython",
        "version": 3
      },
      "pygments_lexer": "ipython3",
      "nbconvert_exporter": "python",
      "file_extension": ".py"
    },
    "modifiedBy": "Daniel.Vandermeer"
  },
  "nbformat": 4,
  "nbformat_minor": 1,
  "cells": [
    {
      "execution_count": 6,
      "cell_type": "code",
      "metadata": {},
      "source": [
        "# -*- coding: utf-8 -*-\nimport dataiku\nimport pandas as pd, numpy as np\nfrom dataiku import pandasutils as pdu\n\n# Read recipe inputs\nNAFCUSTOMER_NEW_ACCOUNTS_IN_2021 \u003d dataiku.Dataset(\"NAFCUSTOMER_NEW_ACCOUNTS_IN_2021\")\nNAFCUSTOMER_NEW_ACCOUNTS_IN_2021_df \u003d NAFCUSTOMER_NEW_ACCOUNTS_IN_2021.get_dataframe()\n\n\n# Compute recipe outputs from inputs\n# TODO: Replace this part by your actual code that computes the output, as a Pandas dataframe\n# NB: DSS also supports other kinds of APIs for reading and writing data. Please see doc.\n\nCALCULATED_CLV_df \u003d NAFCUSTOMER_NEW_ACCOUNTS_IN_2021_df # For this sample code, simply copy input to output\nprint(len(CALCULATED_CLV_df))\n"
      ],
      "outputs": [
        {
          "output_type": "stream",
          "text": "99350\n",
          "name": "stdout"
        }
      ]
    },
    {
      "execution_count": 7,
      "cell_type": "code",
      "metadata": {},
      "source": [
        "df \u003d CALCULATED_CLV_df"
      ],
      "outputs": []
    },
    {
      "execution_count": 8,
      "cell_type": "code",
      "metadata": {},
      "source": [
        "df_customers_with_card_count \u003d df.groupby([\u0027CUSTOMER_ID\u0027,\u0027CUSTOMER\u0027]).ACTIVE_CARD_COUNT.sum().reset_index()\n\ndf_customers_with_card_count[\u0027FLEET_SIZE\u0027] \u003d \u0027NOT SET\u0027\ndf_customers_with_card_count.loc[df_customers_with_card_count.ACTIVE_CARD_COUNT.between(0,5), \u0027FLEET_SIZE\u0027] \u003d \u0027(\u003c\u003d5 cards)\u0027\ndf_customers_with_card_count.loc[df_customers_with_card_count.ACTIVE_CARD_COUNT.between(6,100), \u0027FLEET_SIZE\u0027] \u003d \u0027(between 6 and 100 cards)\u0027\ndf_customers_with_card_count.loc[df_customers_with_card_count.ACTIVE_CARD_COUNT\u003e100, \u0027FLEET_SIZE\u0027] \u003d \u0027(\u003e100 cards)\u0027\ndf_customers_with_card_count.head()"
      ],
      "outputs": [
        {
          "output_type": "execute_result",
          "execution_count": 8,
          "data": {
            "text/plain": "   CUSTOMER_ID                 CUSTOMER  ACTIVE_CARD_COUNT                 FLEET_SIZE\n0     77000002    APOSTROPHE DESIGN INC                  4                (\u003c\u003d5 cards)\n1     77000013   PRECISION FOOTINGS LLC                  3                (\u003c\u003d5 cards)\n2     77000022              0 NORTH INC                  3                (\u003c\u003d5 cards)\n3     77000024   0008 COLGATE PALMOLIVE                  8  (between 6 and 100 cards)\n4     77000026     001 FABRICATION SHOP                  1                (\u003c\u003d5 cards)",
            "text/html": "\u003cdiv\u003e\n\u003cstyle scoped\u003e\n    .dataframe tbody tr th:only-of-type {\n        vertical-align: middle;\n    }\n\n    .dataframe tbody tr th {\n        vertical-align: top;\n    }\n\n    .dataframe thead th {\n        text-align: right;\n    }\n\u003c/style\u003e\n\u003ctable border\u003d\"1\" class\u003d\"dataframe\"\u003e\n  \u003cthead\u003e\n    \u003ctr style\u003d\"text-align: right;\"\u003e\n      \u003cth\u003e\u003c/th\u003e\n      \u003cth\u003eCUSTOMER_ID\u003c/th\u003e\n      \u003cth\u003eCUSTOMER\u003c/th\u003e\n      \u003cth\u003eACTIVE_CARD_COUNT\u003c/th\u003e\n      \u003cth\u003eFLEET_SIZE\u003c/th\u003e\n    \u003c/tr\u003e\n  \u003c/thead\u003e\n  \u003ctbody\u003e\n    \u003ctr\u003e\n      \u003cth\u003e0\u003c/th\u003e\n      \u003ctd\u003e77000002\u003c/td\u003e\n      \u003ctd\u003eAPOSTROPHE DESIGN INC\u003c/td\u003e\n      \u003ctd\u003e4\u003c/td\u003e\n      \u003ctd\u003e(\u0026lt;\u003d5 cards)\u003c/td\u003e\n    \u003c/tr\u003e\n    \u003ctr\u003e\n      \u003cth\u003e1\u003c/th\u003e\n      \u003ctd\u003e77000013\u003c/td\u003e\n      \u003ctd\u003ePRECISION FOOTINGS LLC\u003c/td\u003e\n      \u003ctd\u003e3\u003c/td\u003e\n      \u003ctd\u003e(\u0026lt;\u003d5 cards)\u003c/td\u003e\n    \u003c/tr\u003e\n    \u003ctr\u003e\n      \u003cth\u003e2\u003c/th\u003e\n      \u003ctd\u003e77000022\u003c/td\u003e\n      \u003ctd\u003e0 NORTH INC\u003c/td\u003e\n      \u003ctd\u003e3\u003c/td\u003e\n      \u003ctd\u003e(\u0026lt;\u003d5 cards)\u003c/td\u003e\n    \u003c/tr\u003e\n    \u003ctr\u003e\n      \u003cth\u003e3\u003c/th\u003e\n      \u003ctd\u003e77000024\u003c/td\u003e\n      \u003ctd\u003e0008 COLGATE PALMOLIVE\u003c/td\u003e\n      \u003ctd\u003e8\u003c/td\u003e\n      \u003ctd\u003e(between 6 and 100 cards)\u003c/td\u003e\n    \u003c/tr\u003e\n    \u003ctr\u003e\n      \u003cth\u003e4\u003c/th\u003e\n      \u003ctd\u003e77000026\u003c/td\u003e\n      \u003ctd\u003e001 FABRICATION SHOP\u003c/td\u003e\n      \u003ctd\u003e1\u003c/td\u003e\n      \u003ctd\u003e(\u0026lt;\u003d5 cards)\u003c/td\u003e\n    \u003c/tr\u003e\n  \u003c/tbody\u003e\n\u003c/table\u003e\n\u003c/div\u003e"
          },
          "metadata": {}
        }
      ]
    },
    {
      "execution_count": 10,
      "cell_type": "code",
      "metadata": {},
      "source": [
        "df_customers_with_card_count.groupby(\u0027FLEET_SIZE\u0027).ACTIVE_CARD_COUNT.sum().reset_index()"
      ],
      "outputs": [
        {
          "output_type": "execute_result",
          "execution_count": 10,
          "data": {
            "text/plain": "                  FLEET_SIZE  ACTIVE_CARD_COUNT\n0                (\u003c\u003d5 cards)             194742\n1               (\u003e100 cards)             426032\n2  (between 6 and 100 cards)             272735",
            "text/html": "\u003cdiv\u003e\n\u003cstyle scoped\u003e\n    .dataframe tbody tr th:only-of-type {\n        vertical-align: middle;\n    }\n\n    .dataframe tbody tr th {\n        vertical-align: top;\n    }\n\n    .dataframe thead th {\n        text-align: right;\n    }\n\u003c/style\u003e\n\u003ctable border\u003d\"1\" class\u003d\"dataframe\"\u003e\n  \u003cthead\u003e\n    \u003ctr style\u003d\"text-align: right;\"\u003e\n      \u003cth\u003e\u003c/th\u003e\n      \u003cth\u003eFLEET_SIZE\u003c/th\u003e\n      \u003cth\u003eACTIVE_CARD_COUNT\u003c/th\u003e\n    \u003c/tr\u003e\n  \u003c/thead\u003e\n  \u003ctbody\u003e\n    \u003ctr\u003e\n      \u003cth\u003e0\u003c/th\u003e\n      \u003ctd\u003e(\u0026lt;\u003d5 cards)\u003c/td\u003e\n      \u003ctd\u003e194742\u003c/td\u003e\n    \u003c/tr\u003e\n    \u003ctr\u003e\n      \u003cth\u003e1\u003c/th\u003e\n      \u003ctd\u003e(\u0026gt;100 cards)\u003c/td\u003e\n      \u003ctd\u003e426032\u003c/td\u003e\n    \u003c/tr\u003e\n    \u003ctr\u003e\n      \u003cth\u003e2\u003c/th\u003e\n      \u003ctd\u003e(between 6 and 100 cards)\u003c/td\u003e\n      \u003ctd\u003e272735\u003c/td\u003e\n    \u003c/tr\u003e\n  \u003c/tbody\u003e\n\u003c/table\u003e\n\u003c/div\u003e"
          },
          "metadata": {}
        }
      ]
    },
    {
      "execution_count": 0,
      "cell_type": "code",
      "metadata": {},
      "source": [
        "# Write recipe outputs\n#CALCULATED_CLV \u003d dataiku.Dataset(\"CALCULATED_CLV\")\n#CALCULATED_CLV.write_with_schema(CALCULATED_CLV_df)"
      ],
      "outputs": []
    }
  ]
}