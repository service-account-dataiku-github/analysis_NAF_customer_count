{
  "metadata": {
    "kernelspec": {
      "name": "py-dku-venv-env_clc",
      "display_name": "Python (env env_clc)",
      "language": "python"
    },
    "associatedRecipe": "compute_CALCULATED_CLV",
    "creator": "Daniel.Vandermeer",
    "createdOn": 1677243807727,
    "tags": [
      "recipe-editor"
    ],
    "customFields": {},
    "hide_input": false,
    "language_info": {
      "name": "python",
      "version": "3.6.8",
      "mimetype": "text/x-python",
      "codemirror_mode": {
        "name": "ipython",
        "version": 3
      },
      "pygments_lexer": "ipython3",
      "nbconvert_exporter": "python",
      "file_extension": ".py"
    },
    "modifiedBy": "Daniel.Vandermeer"
  },
  "nbformat": 4,
  "nbformat_minor": 1,
  "cells": [
    {
      "execution_count": 1,
      "cell_type": "code",
      "metadata": {},
      "source": [
        "# -*- coding: utf-8 -*-\nimport dataiku\nimport pandas as pd, numpy as np\nfrom dataiku import pandasutils as pdu\n\n# Read recipe inputs\nNAFCUSTOMER_NEW_ACCOUNTS_IN_2021 \u003d dataiku.Dataset(\"NAFCUSTOMER_NEW_ACCOUNTS_IN_2021\")\nNAFCUSTOMER_NEW_ACCOUNTS_IN_2021_df \u003d NAFCUSTOMER_NEW_ACCOUNTS_IN_2021.get_dataframe()\n\n\n# Compute recipe outputs from inputs\n# TODO: Replace this part by your actual code that computes the output, as a Pandas dataframe\n# NB: DSS also supports other kinds of APIs for reading and writing data. Please see doc.\n\nCALCULATED_CLV_df \u003d NAFCUSTOMER_NEW_ACCOUNTS_IN_2021_df # For this sample code, simply copy input to output\nprint(len(CALCULATED_CLV_df))\n"
      ],
      "outputs": [
        {
          "output_type": "stream",
          "text": "128550\n",
          "name": "stdout"
        }
      ]
    },
    {
      "execution_count": 0,
      "cell_type": "code",
      "metadata": {},
      "source": [
        "CALCULATED_CLV_df"
      ],
      "outputs": []
    },
    {
      "execution_count": 0,
      "cell_type": "code",
      "metadata": {},
      "source": [
        "# Write recipe outputs\n#CALCULATED_CLV \u003d dataiku.Dataset(\"CALCULATED_CLV\")\n#CALCULATED_CLV.write_with_schema(CALCULATED_CLV_df)"
      ],
      "outputs": []
    }
  ]
}