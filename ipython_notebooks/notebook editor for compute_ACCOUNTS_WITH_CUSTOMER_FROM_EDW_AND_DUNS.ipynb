{
  "metadata": {
    "kernelspec": {
      "name": "py-dku-venv-env_clc",
      "display_name": "Python (env env_clc)",
      "language": "python"
    },
    "associatedRecipe": "compute_ACCOUNTS_WITH_CUSTOMER_FROM_EDW_AND_DUNS",
    "dkuGit": {
      "lastInteraction": 0
    },
    "creationTag": {
      "versionNumber": 0,
      "lastModifiedBy": {
        "login": "Daniel.Vandermeer"
      },
      "lastModifiedOn": 1664967231995
    },
    "creator": "Daniel.Vandermeer",
    "createdOn": 1664967231995,
    "tags": [
      "recipe-editor"
    ],
    "customFields": {},
    "hide_input": false,
    "language_info": {
      "name": "python",
      "version": "3.6.8",
      "mimetype": "text/x-python",
      "codemirror_mode": {
        "name": "ipython",
        "version": 3
      },
      "pygments_lexer": "ipython3",
      "nbconvert_exporter": "python",
      "file_extension": ".py"
    },
    "modifiedBy": "Daniel.Vandermeer"
  },
  "nbformat": 4,
  "nbformat_minor": 1,
  "cells": [
    {
      "execution_count": 6,
      "cell_type": "code",
      "metadata": {},
      "source": [
        "# -*- coding: utf-8 -*-\nimport dataiku\nimport pandas as pd, numpy as np\nfrom dataiku import pandasutils as pdu\nimport string\n\n#\u003d\u003d\u003d\u003d\u003d\u003d\u003d\u003d\u003d\u003d\u003d\u003d\u003d\u003d\u003d\n# Purpose: Calculate NAFleet Customer hierarchy from best known sources of account groupings + custom rules\n# sources: EDW, Ebx, RDW Conversions, Drawdown/Drawups + entity matching\n#\n# Oct-Dec 2022\n# Daniel VanderMeer, email: daniel.vandermeer@wexinc.com\n#\u003d\u003d\u003d\u003d\u003d\u003d\u003d\u003d\u003d\u003d\u003d\u003d\u003d\u003d\n\n# Read recipe inputs\n\n#\u003d\u003d\u003d\u003d\u003d\u003d\u003d\u003d\u003d\u003d\u003d\u003d\u003d\u003d\u003d\n# Data Set: Accounts with Bundler and Duns\n# columns: CUSTOMER_ACCOUNT_ID, CUSTOMER_ACCOUNT_NAME, EDW_CUSTOMER_NAME, DUNS, IS_BUNDLER\n# Note Account bundlers are ~275 known instances where EDW customer names do not describe customer entities\n# in most cases these are either partner or program names \n# examples: CIRCLE K STORES PRIMARY, WEX FLEET UNIVERSAL PRIMARY\n# the IS_BUNDLER columns allows the algorithm to ignore these cases\n\nACCOUNTS_WITH_BUNDLER_AND_DUNS \u003d dataiku.Dataset(\"ACCOUNTS_WITH_BUNDLER_AND_DUNS\")\nACCOUNTS_WITH_BUNDLER_AND_DUNS_df \u003d ACCOUNTS_WITH_BUNDLER_AND_DUNS.get_dataframe()\n\n# MDM matches, shared by Wes Corbin during the week of Nov 17, 2022\n# key columns: ACCOUNTNUMBER, WEXBUSINESSID, NAME, DUNS\nACCOUNTS_PARTY_EXTRACT \u003d dataiku.Dataset(\"Account_Party_extract\")\nACCOUNTS_PARTY_EXTRACT_df \u003d ACCOUNTS_PARTY_EXTRACT.get_dataframe()\n\n# Verified matches, identified by matching algorithm\n# matching algorithm combines draw downs and draw ups along with name entity matching\n# key columns: CUSTOMER, MATCH_CUSTOMER, DRAW_UP_DATE, distance\nMATCHES_VERIFIED \u003d dataiku.Dataset(\"VERIFIED_MATCHES\")\nMATCHES_VERIFIED_df \u003d MATCHES_VERIFIED.get_dataframe()\n\n# RDW Conversions\n# Conversion teams will track conversions in RDW\n# Here we use the source as a way to combine known conversions not yet handled by our matching algorithm or the MDM\nRDW_CONVERSIONS \u003d dataiku.Dataset(\"NAFCUSTOMER_RDW_CONVERSIONS\")\nRDW_CONVERSIONS_df \u003d RDW_CONVERSIONS.get_dataframe()\n\n# dataset that contains all New Sales 2019-2022 Current\n# this dataset comes from Alan Hougham which originates in SAP\n# We don\u0027t use this dataset in the logic Customer Hierarchy\n# It is joined to the detailed dataset (ACCOUNTS_WITH_CUSTOMER_FROM_EDW_AND_DUNS_df)\n# and then we use it as a reconciliation step: \n# All new customer accounts in 2019-2022 SHOULD be in this dataset\n# new accounts not in this dataset are likely existing accounts that have been converted to a new account \nACCOUNT_NEW_SALES_FULL \u003d dataiku.Dataset(\"ACCOUNT_NEW_SALES_FULL\")\nACCOUNT_NEW_SALES_FULL_df \u003d ACCOUNT_NEW_SALES_FULL.get_dataframe()"
      ],
      "outputs": [
        {
          "output_type": "stream",
          "text": "/data/dataiku/dss_data/code-envs/python/env_clc/lib/python3.6/site-packages/IPython/core/interactiveshell.py:3263: DtypeWarning: Columns (6) have mixed types.Specify dtype option on import or set low_memory\u003dFalse.\n  if (await self.run_code(code, result,  async_\u003dasy)):\n/data/dataiku/dss_data/code-envs/python/env_clc/lib/python3.6/site-packages/IPython/core/interactiveshell.py:3263: DtypeWarning: Columns (0) have mixed types.Specify dtype option on import or set low_memory\u003dFalse.\n  if (await self.run_code(code, result,  async_\u003dasy)):\n",
          "name": "stderr"
        }
      ]
    },
    {
      "execution_count": 20,
      "cell_type": "code",
      "metadata": {},
      "source": [
        "# Matches Verified come from an earlier step in the DataIku Flow\n# Accounts are matched on drawdowns, drawups and account name similarity\n# key columns: CUSTOMER, MATCH_CUSTOMER, DRAW_UP_DATE, distance\ndf_matches_verified \u003d MATCHES_VERIFIED_df\ndf_matches_verified[\"CUSTOMER\"] \u003d df_matches_verified[\u0027CUSTOMER\u0027].str.translate(str.maketrans(\u0027\u0027, \u0027\u0027, string.punctuation))\ndf_matches_verified[\"MATCH_CUSTOMER\"] \u003d df_matches_verified[\u0027MATCH_CUSTOMER\u0027].str.translate(str.maketrans(\u0027\u0027, \u0027\u0027, string.punctuation))\ndf_matches_verified.head()"
      ],
      "outputs": [
        {
          "output_type": "execute_result",
          "execution_count": 20,
          "data": {
            "text/plain": "                             CUSTOMER                      MATCH_CUSTOMER              DRAW_UP_DATE  distance\n0         0972 HEINEKEN USA INC PHH35         0972 HEINEKEN USA INC PHH47 2019-06-01 00:00:00+00:00  0.931034\n1   1 800 PACKOUTS OF SOUTHEASTERN VA  1 800 PACKOUTS OF SOUTHEASTERN VA2 2019-10-01 00:00:00+00:00  0.985075\n2       101032228 SASKATCHEWAN LTD OA       101032228 SASKATCHEWAN LTD OA 2022-03-01 00:00:00+00:00  0.983051\n3  1674464 ONT INC URBAN WINDOWSDOORS  1674464 ONT INC URBAN WINDOWSDOORS 2022-02-01 00:00:00+00:00  0.985507\n4                    247 DELIVERS INC                   24 7 DELIVERS INC 2020-02-01 00:00:00+00:00  0.969697",
            "text/html": "\u003cdiv\u003e\n\u003cstyle scoped\u003e\n    .dataframe tbody tr th:only-of-type {\n        vertical-align: middle;\n    }\n\n    .dataframe tbody tr th {\n        vertical-align: top;\n    }\n\n    .dataframe thead th {\n        text-align: right;\n    }\n\u003c/style\u003e\n\u003ctable border\u003d\"1\" class\u003d\"dataframe\"\u003e\n  \u003cthead\u003e\n    \u003ctr style\u003d\"text-align: right;\"\u003e\n      \u003cth\u003e\u003c/th\u003e\n      \u003cth\u003eCUSTOMER\u003c/th\u003e\n      \u003cth\u003eMATCH_CUSTOMER\u003c/th\u003e\n      \u003cth\u003eDRAW_UP_DATE\u003c/th\u003e\n      \u003cth\u003edistance\u003c/th\u003e\n    \u003c/tr\u003e\n  \u003c/thead\u003e\n  \u003ctbody\u003e\n    \u003ctr\u003e\n      \u003cth\u003e0\u003c/th\u003e\n      \u003ctd\u003e0972 HEINEKEN USA INC PHH35\u003c/td\u003e\n      \u003ctd\u003e0972 HEINEKEN USA INC PHH47\u003c/td\u003e\n      \u003ctd\u003e2019-06-01 00:00:00+00:00\u003c/td\u003e\n      \u003ctd\u003e0.931034\u003c/td\u003e\n    \u003c/tr\u003e\n    \u003ctr\u003e\n      \u003cth\u003e1\u003c/th\u003e\n      \u003ctd\u003e1 800 PACKOUTS OF SOUTHEASTERN VA\u003c/td\u003e\n      \u003ctd\u003e1 800 PACKOUTS OF SOUTHEASTERN VA2\u003c/td\u003e\n      \u003ctd\u003e2019-10-01 00:00:00+00:00\u003c/td\u003e\n      \u003ctd\u003e0.985075\u003c/td\u003e\n    \u003c/tr\u003e\n    \u003ctr\u003e\n      \u003cth\u003e2\u003c/th\u003e\n      \u003ctd\u003e101032228 SASKATCHEWAN LTD OA\u003c/td\u003e\n      \u003ctd\u003e101032228 SASKATCHEWAN LTD OA\u003c/td\u003e\n      \u003ctd\u003e2022-03-01 00:00:00+00:00\u003c/td\u003e\n      \u003ctd\u003e0.983051\u003c/td\u003e\n    \u003c/tr\u003e\n    \u003ctr\u003e\n      \u003cth\u003e3\u003c/th\u003e\n      \u003ctd\u003e1674464 ONT INC URBAN WINDOWSDOORS\u003c/td\u003e\n      \u003ctd\u003e1674464 ONT INC URBAN WINDOWSDOORS\u003c/td\u003e\n      \u003ctd\u003e2022-02-01 00:00:00+00:00\u003c/td\u003e\n      \u003ctd\u003e0.985507\u003c/td\u003e\n    \u003c/tr\u003e\n    \u003ctr\u003e\n      \u003cth\u003e4\u003c/th\u003e\n      \u003ctd\u003e247 DELIVERS INC\u003c/td\u003e\n      \u003ctd\u003e24 7 DELIVERS INC\u003c/td\u003e\n      \u003ctd\u003e2020-02-01 00:00:00+00:00\u003c/td\u003e\n      \u003ctd\u003e0.969697\u003c/td\u003e\n    \u003c/tr\u003e\n  \u003c/tbody\u003e\n\u003c/table\u003e\n\u003c/div\u003e"
          },
          "metadata": {}
        }
      ]
    },
    {
      "execution_count": 15,
      "cell_type": "code",
      "metadata": {},
      "source": [
        "# New MDM matches, shared by Wes Corbin during the week of Nov 17, 2022\nACCOUNTS_PARTY_EXTRACT_df.columns.tolist()\n\nprint(len(ACCOUNTS_PARTY_EXTRACT_df))\ndf_mdm \u003d ACCOUNTS_PARTY_EXTRACT_df[[\u0027ACCOUNTNUMBER\u0027,\u0027WEXBUSINESSID\u0027,\u0027NAME\u0027,\u0027DUNS\u0027]].copy()\ndf_mdm.columns \u003d [\u0027CUSTOMER_ACCOUNT_ID\u0027,\u0027WEXBUSINESSID\u0027,\u0027NAME\u0027,\u0027DUNS\u0027]\ndf_mdm.dropna(subset\u003d[\u0027CUSTOMER_ACCOUNT_ID\u0027], inplace\u003dTrue)\ndf_mdm[\u0027CUSTOMER_ACCOUNT_ID\u0027] \u003d df_mdm[\u0027CUSTOMER_ACCOUNT_ID\u0027].astype(\u0027Int64\u0027, errors\u003d\u0027ignore\u0027)\ndf_mdm[\u0027WEXBUSINESSID\u0027] \u003d df_mdm[\u0027WEXBUSINESSID\u0027].astype(\u0027Int64\u0027, errors\u003d\u0027ignore\u0027)\n\ndf_mdm[\u0027NAME\u0027] \u003d df_mdm[\u0027NAME\u0027].str.upper()\ndf_mdm[\u0027NAME\u0027] \u003d df_mdm[\u0027NAME\u0027].str.translate(str.maketrans(\u0027\u0027,\u0027\u0027, string.punctuation))\nprint(len(df_mdm))\n# filter out known non-customer entities expressed in MDM\ndf_mdm \u003d df_mdm[df_mdm.NAME!\u003d\u0027CARD TYPE 7 PRIMARY\u0027]\ndf_mdm \u003d df_mdm[df_mdm.NAME!\u003d\u0027ELEMENT 1\u0027]\ndf_mdm \u003d df_mdm[df_mdm.NAME!\u003d\u0027ELEMENT 2\u0027]\nprint(len(df_mdm))\ndf_mdm.head()"
      ],
      "outputs": [
        {
          "output_type": "stream",
          "text": "2149826\n2149826\n2149823\n",
          "name": "stdout"
        },
        {
          "output_type": "execute_result",
          "execution_count": 15,
          "data": {
            "text/plain": "  CUSTOMER_ACCOUNT_ID  WEXBUSINESSID                            NAME         DUNS\n0       9100000347076       10000041       BELLECREEKE LANDSCAPE LLC          NaN\n1       9100000347121       10000046                 PROLIFERATE INC  794574876.0\n2       9100000347130       10000047  JONASON APPRAISAL SERVICES INC  177050338.0\n3       9100000347319       10000052             GILBERT DEVELOPMENT          NaN\n4       9100000347328       10000053                   NORTHWIND INC          NaN",
            "text/html": "\u003cdiv\u003e\n\u003cstyle scoped\u003e\n    .dataframe tbody tr th:only-of-type {\n        vertical-align: middle;\n    }\n\n    .dataframe tbody tr th {\n        vertical-align: top;\n    }\n\n    .dataframe thead th {\n        text-align: right;\n    }\n\u003c/style\u003e\n\u003ctable border\u003d\"1\" class\u003d\"dataframe\"\u003e\n  \u003cthead\u003e\n    \u003ctr style\u003d\"text-align: right;\"\u003e\n      \u003cth\u003e\u003c/th\u003e\n      \u003cth\u003eCUSTOMER_ACCOUNT_ID\u003c/th\u003e\n      \u003cth\u003eWEXBUSINESSID\u003c/th\u003e\n      \u003cth\u003eNAME\u003c/th\u003e\n      \u003cth\u003eDUNS\u003c/th\u003e\n    \u003c/tr\u003e\n  \u003c/thead\u003e\n  \u003ctbody\u003e\n    \u003ctr\u003e\n      \u003cth\u003e0\u003c/th\u003e\n      \u003ctd\u003e9100000347076\u003c/td\u003e\n      \u003ctd\u003e10000041\u003c/td\u003e\n      \u003ctd\u003eBELLECREEKE LANDSCAPE LLC\u003c/td\u003e\n      \u003ctd\u003eNaN\u003c/td\u003e\n    \u003c/tr\u003e\n    \u003ctr\u003e\n      \u003cth\u003e1\u003c/th\u003e\n      \u003ctd\u003e9100000347121\u003c/td\u003e\n      \u003ctd\u003e10000046\u003c/td\u003e\n      \u003ctd\u003ePROLIFERATE INC\u003c/td\u003e\n      \u003ctd\u003e794574876.0\u003c/td\u003e\n    \u003c/tr\u003e\n    \u003ctr\u003e\n      \u003cth\u003e2\u003c/th\u003e\n      \u003ctd\u003e9100000347130\u003c/td\u003e\n      \u003ctd\u003e10000047\u003c/td\u003e\n      \u003ctd\u003eJONASON APPRAISAL SERVICES INC\u003c/td\u003e\n      \u003ctd\u003e177050338.0\u003c/td\u003e\n    \u003c/tr\u003e\n    \u003ctr\u003e\n      \u003cth\u003e3\u003c/th\u003e\n      \u003ctd\u003e9100000347319\u003c/td\u003e\n      \u003ctd\u003e10000052\u003c/td\u003e\n      \u003ctd\u003eGILBERT DEVELOPMENT\u003c/td\u003e\n      \u003ctd\u003eNaN\u003c/td\u003e\n    \u003c/tr\u003e\n    \u003ctr\u003e\n      \u003cth\u003e4\u003c/th\u003e\n      \u003ctd\u003e9100000347328\u003c/td\u003e\n      \u003ctd\u003e10000053\u003c/td\u003e\n      \u003ctd\u003eNORTHWIND INC\u003c/td\u003e\n      \u003ctd\u003eNaN\u003c/td\u003e\n    \u003c/tr\u003e\n  \u003c/tbody\u003e\n\u003c/table\u003e\n\u003c/div\u003e"
          },
          "metadata": {}
        }
      ]
    },
    {
      "execution_count": 0,
      "cell_type": "code",
      "metadata": {},
      "source": [
        "import warnings\nwarnings.filterwarnings(action\u003d\u0027once\u0027)\n\n#\u003d\u003d\u003d\u003d\u003d\u003d\u003d\u003d\u003d\u003d\u003d\u003d\u003d\u003d\u003d\u003d\u003d\u003d\u003d\u003d\u003d\n# Source: DNB\n# DNB levels available (high to low): DNB_GLOBAL_ULT_NAME, DNB_DOMESTIC_ULTIMATE_NAME, DNB_HQ_NAME, DNB_BUSINESS_NAME\n# DNB CUSTOMER is the highest available DUNS level customer \n# DNB LEVEL keeps track of the DUNS level used\n# default DNB CUSTOMER and DNB LEVEL to Null and None\n\n# prep DNB DUNS level columns, cast to upper case, remove punctuation\ndf[\u0027DUNS\u0027] \u003d df[\u0027DUNS\u0027].astype(\u0027Int64\u0027, errors\u003d\u0027ignore\u0027)\ndf[\u0027DNB_DUNS_NUMBER\u0027] \u003d df[\u0027DNB_DUNS_NUMBER\u0027].astype(\u0027Int64\u0027, errors\u003d\u0027ignore\u0027)\ndf[\u0027DNB_BUSINESS_NAME\u0027] \u003d df[\u0027DNB_BUSINESS_NAME\u0027].str.upper()\ndf[\"DNB_BUSINESS_NAME\"] \u003d df[\u0027DNB_BUSINESS_NAME\u0027].str.translate(str.maketrans(\u0027\u0027, \u0027\u0027, string.punctuation))\n\n# prep DNB DUNS Global Ultimate columns, cast to upper case, remove punctuation\ndf[\u0027DNB_GLOBAL_ULT_NUMBER\u0027] \u003d df[\u0027DNB_GLOBAL_ULT_NUMBER\u0027].astype(\u0027Int64\u0027, errors\u003d\u0027ignore\u0027)\ndf[\u0027DNB_GLOBAL_ULT_NAME\u0027] \u003d df[\u0027DNB_GLOBAL_ULT_NAME\u0027].str.upper()\ndf[\"DNB_GLOBAL_ULT_NAME\"] \u003d df[\u0027DNB_GLOBAL_ULT_NAME\u0027].str.translate(str.maketrans(\u0027\u0027, \u0027\u0027, string.punctuation))\n\n# prep DNB DOMESTIC Ultimate columns, cast to upper case, remove punctuation\ndf[\u0027DNB_DOMESTIC_ULT_NUMBER\u0027] \u003d df[\u0027DNB_DOMESTIC_ULT_NUMBER\u0027].astype(\u0027Int64\u0027, errors\u003d\u0027ignore\u0027)\ndf[\u0027DNB_DOMESTIC_ULTIMATE_NAME\u0027] \u003d df[\u0027DNB_DOMESTIC_ULTIMATE_NAME\u0027].str.upper()\ndf[\"DNB_DOMESTIC_ULTIMATE_NAME\"] \u003d df[\u0027DNB_DOMESTIC_ULTIMATE_NAME\u0027].str.translate(str.maketrans(\u0027\u0027, \u0027\u0027, string.punctuation))\n\n# prep DNB HQ columns, case to upper case, remove punctuation\ndf[\u0027DNB_HQ_NUMBER\u0027] \u003d df[\u0027DNB_HQ_NUMBER\u0027].astype(\u0027Int64\u0027, errors\u003d\u0027ignore\u0027)\ndf[\u0027DNB_HQ_NAME\u0027] \u003d df[\u0027DNB_HQ_NAME\u0027].str.upper()\ndf[\"DNB_HQ_NAME\"] \u003d df[\u0027DNB_HQ_NAME\u0027].str.translate(str.maketrans(\u0027\u0027, \u0027\u0027, string.punctuation))\n\ndf[\u0027DNB_CUSTOMER_NAME\u0027] \u003d np.nan\ndf[\u0027DNB_LEVEL\u0027] \u003d \u0027None\u0027\n\n# SET DNB_CUSTOMER_NAME and DNB_LEVEL to the highest non-null level available\ndf.loc[~df[\"DNB_GLOBAL_ULT_NAME\"].isnull(),\u0027DNB_LEVEL\u0027] \u003d \"DUNS Global\"\ndf.loc[~df[\"DNB_GLOBAL_ULT_NAME\"].isnull(),\u0027DNB_CUSTOMER_NAME\u0027] \u003d df.DNB_GLOBAL_ULT_NAME\n\ndf.loc[(df[\"DNB_GLOBAL_ULT_NAME\"].isnull())\u0026(~df[\"DNB_DOMESTIC_ULTIMATE_NAME\"].isnull()),\u0027DNB_LEVEL\u0027] \u003d \"DUNS Domestic\"\ndf.loc[(df[\"DNB_GLOBAL_ULT_NAME\"].isnull())\u0026(~df[\"DNB_DOMESTIC_ULTIMATE_NAME\"].isnull()),\u0027DNB_CUSTOMER_NAME\u0027] \u003d df.DNB_DOMESTIC_ULTIMATE_NAME\n\ndf.loc[(df[\"DNB_DOMESTIC_ULTIMATE_NAME\"].isnull())\u0026(~df[\"DNB_HQ_NAME\"].isnull()),\u0027DNB_LEVEL\u0027] \u003d \"DUNS HQ\"\ndf.loc[(df[\"DNB_DOMESTIC_ULTIMATE_NAME\"].isnull())\u0026(~df[\"DNB_HQ_NAME\"].isnull()),\u0027DNB_CUSTOMER_NAME\u0027] \u003d df.DNB_HQ_NAME\n\ndf.loc[(df[\"DNB_HQ_NAME\"].isnull())\u0026(~df[\"DNB_BUSINESS_NAME\"].isnull()),\u0027DNB_LEVEL\u0027] \u003d \"DUNS\"\ndf.loc[(df[\"DNB_HQ_NAME\"].isnull())\u0026(~df[\"DNB_BUSINESS_NAME\"].isnull()),\u0027DNB_CUSTOMER_NAME\u0027] \u003d df.DNB_BUSINESS_NAME\n\n#\u003d\u003d\u003d\u003d\u003d\u003d\u003d\u003d\u003d\u003d\u003d\u003d\u003d\u003d\u003d\u003d\u003d\u003d\u003d\u003d\u003d\u003d\u003d\n# Source: EDW\n\n\ndf[\u0027EDW_STATE\u0027] \u003d \u0027Unknown\u0027\ndf.loc[df[\"EDW_CUSTOMER_NAME\"].isnull(),\u0027EDW_STATE\u0027] \u003d \"None\"\ndf.loc[~df[\"EDW_CUSTOMER_NAME\"].isnull(),\u0027EDW_STATE\u0027] \u003d \"Set\"\n\ndf[\u0027EDW_CUSTOMER_NAME_ORIGINAL\u0027] \u003d df[\u0027EDW_CUSTOMER_NAME\u0027]\ndf[\u0027CUSTOMER_ACCOUNT_NAME_ORIGINAL\u0027] \u003d df[\u0027CUSTOMER_ACCOUNT_NAME\u0027]\n\ndf[\u0027EDW_CUSTOMER_NAME\u0027].str.strip()\nending_tokens \u003d [\u0027 2\u0027, \u0027 3\u0027, \u0027 4\u0027, \u0027 04\u0027, \u0027 5\u0027, \u0027 6\u0027, \u0027 7\u0027, \u0027 8\u0027, \u0027 9\u0027,\u0027 (2)\u0027,\n                 \u0027 (3)\u0027,\u0027 (04)\u0027,\u0027 (4)\u0027, \u0027 (5)\u0027, \u0027 (6)\u0027, \u0027 (7)\u0027, \u0027 (8)\u0027,\n                 \u0027 (9)\u0027,\u0027 (25)\u0027,\u0027  (32)\u0027, \u0027 AD\u0027, \u0027 LD\u0027]\n\nfor s in ending_tokens:\n    index_offset \u003d -1*(len(s))\n    df.loc[df[\u0027EDW_CUSTOMER_NAME\u0027].str.endswith(s, na\u003dFalse),\"EDW_CUSTOMER_NAME\"] \u003d df[\u0027EDW_CUSTOMER_NAME\u0027].str[:index_offset]\n\ndf[\u0027CUSTOMER_ACCOUNT_NAME\u0027].str.strip()\nfor s in ending_tokens:\n    index_offset \u003d -1*(len(s))\n    df.loc[df[\u0027CUSTOMER_ACCOUNT_NAME\u0027].str.endswith(s, na\u003dFalse),\"CUSTOMER_ACCOUNT_NAME\"] \u003d df[\u0027CUSTOMER_ACCOUNT_NAME\u0027].str[:index_offset]\n\ndf[\u0027CUSTOMER\u0027] \u003d np.nan\ndf[\u0027CUST_CALC_SOURCE\u0027] \u003d \u0027Unknown\u0027\ndf[\u0027CUST_CALC_RULE\u0027] \u003d \u0027None\u0027\ndf.loc[~df[\"EDW_CUSTOMER_NAME\"].isnull(),\u0027CUSTOMER\u0027] \u003d df[\"EDW_CUSTOMER_NAME\"]\ndf.loc[~df[\"EDW_CUSTOMER_NAME\"].isnull(),\u0027CUST_CALC_SOURCE\u0027] \u003d \"EDW\"\n\ndf.loc[(df[\"CUSTOMER\"].isnull())\u0026(~df[\"DNB_CUSTOMER_NAME\"].isnull()),\u0027CUST_CALC_SOURCE\u0027] \u003d \"DNB\"\ndf.loc[df[\"CUSTOMER\"].isnull(),\u0027CUSTOMER\u0027] \u003d df[\"DNB_CUSTOMER_NAME\"]\n\ndf.loc[df[\u0027CUSTOMER\u0027].isnull(), \u0027CUST_CALC_SOURCE\u0027] \u003d \u0027MDM\u0027\ndf.loc[df[\u0027CUSTOMER\u0027].isnull(), \u0027CUSTOMER\u0027] \u003d df[\u0027MDM_WEX_NAME\u0027]\n\ndf.loc[df[\"CUSTOMER\"].isnull(),\u0027CUST_CALC_SOURCE\u0027] \u003d \u0027ACCOUNT\u0027\ndf.loc[df[\"CUSTOMER\"].isnull(),\u0027CUSTOMER\u0027] \u003d df[\"CUSTOMER_ACCOUNT_NAME\"]\n\n# RULE SETs\ndef apply_rule(df, rule_name,filter_name_list,final_name):\n\n    df.loc[df[\u0027CUSTOMER\u0027].isin(filter_name_list),\"CUST_CALC_SOURCE\"] \u003d \"CUSTOM RULE\"\n    df.loc[df[\u0027CUSTOMER\u0027].isin(filter_name_list),\"CUST_CALC_RULE\"] \u003d rule_name\n    df.loc[df[\u0027CUSTOMER\u0027].isin(filter_name_list),\"CUSTOMER\"] \u003d final_name\n\n    return(df)\n\ndef apply_rule_starts_with(df, rule_name, compares_to, starts_with_string,final_name):\n\n    df.loc[df[compares_to].str.startswith(starts_with_string, na\u003dFalse),\"CUST_CALC_SOURCE\"] \u003d \"CUSTOM RULE\"\n    df.loc[df[compares_to].str.startswith(starts_with_string, na\u003dFalse),\"CUST_CALC_RULE\"] \u003d rule_name\n    df.loc[df[compares_to].str.startswith(starts_with_string, na\u003dFalse),\"CUSTOMER\"] \u003d final_name\n\n    return(df)\n\ndef apply_rule_contains(df, rule_name, compares_to, contains_string,final_name):\n\n    df.loc[df[compares_to].str.contains(contains_string, na\u003dFalse),\"CUST_CALC_SOURCE\"] \u003d \"CUSTOM RULE\"\n    df.loc[df[compares_to].str.contains(contains_string, na\u003dFalse),\"CUST_CALC_RULE\"] \u003d rule_name\n    df.loc[df[compares_to].str.contains(contains_string, na\u003dFalse),\"CUSTOMER\"] \u003d final_name\n\n    return(df)\n\n# The following set of ~100 rules represents high card count mappings\n# these rules have been manually verified\n# as they impact large numbers of cards (and in turn gallons, spend and revenue)\n\ndf \u003d apply_rule(df, \"RULE 001\", [\u0027QUANTA SERVICES INC\u0027,\u0027QUANTA SERVICES\u0027], \u0027QUANTA SERVICES INC\u0027)\ndf \u003d apply_rule(df, \"RULE 002\", [\u00277325 ADVANCE STORES COMPANY 4\u0027,\u00277325 ADVANCE AUTO\u0027,\u00277325 ADVANCE STORES COMP\u0027,\u00277325 ADVANCE STORES COMP 2\u0027], \u0027ADVANCE AUTO\u0027)\ndf \u003d apply_rule(df, \"RULE 003\", [\u002717435-GE HEALTHCARE (3)\u0027,\u002717435 GE HEALTHCARE\u0027,\u002717435-GE HEALTHCARE\u0027,\u002717435-GE HEALTHCARE (2)\u0027], \u002717435-GE HEALTHCARE\u0027)\ndf \u003d apply_rule(df, \"RULE 004\", [\u0027ADAPTHEALTH CORP\u0027,\u0027ADAPTHEALTH LLC\u0027], \u0027ADAPTHEALTH\u0027)\ndf \u003d apply_rule(df, \"RULE 005\", [\u0027AGL RESOURCES 5CU6\u0027,\u0027AGL RESOURCES ARI\u0027], \u0027AGL RESOURCES\u0027)\ndf \u003d apply_rule(df, \"RULE 006\", [\u0027APTIVE ENVIRONMENTAL LLC\u0027,\u0027ADAPTIVE ENVIRONMENTAL CONSULTING INC\u0027,\u0027APTIVE ENVIRONMENTAL LLC\u0027,\u0027APTIVE ENVIRONMENTAL 0CV7\u0027], \u0027APTIVE ENVIRONMENTAL\u0027)\ndf \u003d apply_rule(df, \"RULE 007\", [\u0027 MMCCARTHY TIRE\u0027,\u0027MCCARTHY TIRE\u0027], \u0027MCCARTHY TIRE\u0027)\ndf \u003d apply_rule(df, \"RULE 008\", [\u0027FOSS NATIONAL/CORP-RATEFOSS NATIONAL LEASING (2)\u0027,\u0027FOSS NATIONAL LEASING (2)\u0027], \u0027FOSS NATIONAL LEASING\u0027)\ndf \u003d apply_rule(df, \"RULE 009\", [\u0027JOHNSONJOHNSON\u0027,\u0027JOHNSON JOHNSON CITRUS\u0027], \u0027JOHNSON JOHNSON\u0027)\ndf \u003d apply_rule(df, \"RULE 010\", [\u0027HELMERICH AND PAYNE INC PARENT\u0027,\u0027HELMERICH  PAYNE ID 5FM8\u0027], \u0027HELMERICH AND PAYNE INC\u0027)\ndf \u003d apply_rule(df, \"RULE 011\", [\u0027LABCORP\u0027,\u0027LABCORP (3LAB)\u0027,\u0027LABCORP (3LAB)(2)\u0027,\u0027LABORATORY CORPORATION OF AMERICA\u0027], \u0027LABORATORY CORPORATION OF AMERICA\u0027)\ndf \u003d apply_rule(df, \"RULE 012\", [\u0027LEHIGH HANSON (3LHN)\u0027,\u0027LEHIGH HANSON (3LHN)(2)\u0027,\u00273995 LEHIGH HANSON INC\u0027,\u0027116710-LEHIGH HANSON, INC (2)\u0027,\n                                 \u0027116710-LEHIGH HANSON, INC (3)\u0027,\u0027116710-LEHIGH HANSON, INC (4)\u0027,\u0027116710-LEHIGH HANSON, INC (6)\u0027,\n                                 \"E450 LEHIGH HANSON MATERIALS L\",\u0027LEHIGH HANSON INC3LHC\u0027], \u0027LEHIGH HANSON INC\u0027)\ndf \u003d apply_rule(df, \"RULE 013\", [\u0027NOVONORDISK\u0027,\u0027NOVO NORDISK\u0027,\u0027NOVO NORDISK INC\u0027,\u0027NOVO NORDISK FONDEN\u0027], \u0027NOVO NORDISK INC\u0027)\ndf \u003d apply_rule(df, \"RULE 014\", [\u0027US LBM (5EE8)\u0027,\u0027US LBM (5EE8)(2)\u0027,\u0027US LBM HOLDINGS, LLC (5EE8)\u0027,\u0027LAMPERT YARDS US LBM LLC\u0027,\u0027US LBM HOLDINGS LLC 5EE8\u0027], \u0027US LBM HOLDINGS LLC\u0027)\ndf \u003d apply_rule(df, \"RULE 015\", [\u0027VEOLIA WATER LOGISTICS (2R63)\u0027,\u0027VEOLIA LOGISTICS 2R63\u0027], \u0027VEOLIA LOGISTICS\u0027)\n\ndf \u003d apply_rule_starts_with(df, \"RULE 016\",\u0027CUSTOMER\u0027,\"AT  T\" , \"AT\u0026T\")\ndf \u003d apply_rule_starts_with(df, \"RULE 017\",\u0027CUSTOMER\u0027,\"FEDEX\" , \"FEDEX\")\ndf \u003d apply_rule_starts_with(df, \"RULE 018\",\u0027CUSTOMER\u0027,\u0027ARAMARK\u0027, \u0027ARAMARK\u0027)\ndf \u003d apply_rule_starts_with(df, \"RULE 019\",\u0027CUSTOMER\u0027,\u0027CABLE ONE\u0027, \u0027CABLE ONE INC\u0027)\ndf \u003d apply_rule_starts_with(df, \"RULE 020\",\u0027CUSTOMER\u0027,\u0027CBRE\u0027, \u0027CBRE GROUP INC\u0027)\ndf \u003d apply_rule_starts_with(df, \"RULE 021\",\u0027CUSTOMER\u0027,\u0027COMCAST CABLE\u0027, \u0027COMCAST CABLE\u0027)\ndf \u003d apply_rule_starts_with(df, \"RULE 022\",\u0027CUSTOMER\u0027,\u0027COMPASS GROUP\u0027, \u0027COMPASS GROUP\u0027)\ndf \u003d apply_rule_starts_with(df, \"RULE 023\",\u0027CUSTOMER\u0027,\u0027CONOCOPHILLIPS\u0027, \u0027CONOCOPHILLIPS\u0027)\ndf \u003d apply_rule_starts_with(df, \"RULE 024\",\u0027CUSTOMER\u0027,\u0027CSC SERVICEWORKS\u0027, \u0027CSC SERVICEWORKS\u0027)\ndf \u003d apply_rule_starts_with(df, \"RULE 025\",\u0027CUSTOMER\u0027,\u0027CROWN CASTLE USA\u0027, \u0027CROWN CASTLE USA\u0027)\ndf \u003d apply_rule_starts_with(df, \"RULE 026\",\u0027CUSTOMER\u0027,\u0027E JOHNSON CONTROLS\u0027, \u0027E JOHNSON CONTROLS FIRE \u0026 SEC\u0027)\ndf \u003d apply_rule_starts_with(df, \"RULE 027\",\u0027CUSTOMER\u0027,\u0027FASTENAL\u0027, \u0027FASTENAL COMPANY\u0027)\ndf \u003d apply_rule_starts_with(df, \"RULE 028\",\u0027CUSTOMER\u0027,\u0027GENERAL MILLS\u0027, \u0027GENERAL MILLS\u0027)\ndf \u003d apply_rule_starts_with(df, \"RULE 029\",\u0027CUSTOMER\u0027,\u0027J R SIMPLOT\u0027, \u0027J R SIMPLOT\u0027)\ndf \u003d apply_rule_starts_with(df, \"RULE 030\",\u0027CUSTOMER\u0027,\u0027JC EHRLICH\u0027, \u0027JC EHRLICH\u0027)\ndf \u003d apply_rule_starts_with(df, \"RULE 031\",\u0027CUSTOMER\u0027,\u0027KINDER MORGAN\u0027, \u0027KINDER MORGAN\u0027)\ndf \u003d apply_rule_starts_with(df, \"RULE 032\",\u0027CUSTOMER\u0027,\u0027LIBERTY MUTUAL\u0027, \u0027LIBERTY MUTUAL\u0027)\ndf \u003d apply_rule_starts_with(df, \"RULE 033\",\u0027CUSTOMER\u0027,\u0027IGT GLOBAL\u0027, \u0027IGT GLOBAL\u0027)\ndf \u003d apply_rule_starts_with(df, \"RULE 034\",\u0027CUSTOMER\u0027,\u0027MARATHON PETROLEUM\u0027, \u0027MARATHON PETROLEUM\u0027)\ndf \u003d apply_rule_starts_with(df, \"RULE 035\",\u0027CUSTOMER\u0027,\u0027MONDELEZ GLOBAL\u0027, \u0027MONDELEZ GLOBAL\u0027)\ndf \u003d apply_rule_starts_with(df, \"RULE 036\",\u0027CUSTOMER\u0027,\u0027NATIONAL FUEL\u0027, \u0027NATIONAL FUEL\u0027)\ndf \u003d apply_rule_starts_with(df, \"RULE 037\",\u0027CUSTOMER\u0027,\u0027NEXSTAR BROADCASTING\u0027, \u0027NEXSTAR BROADCASTING\u0027)\ndf \u003d apply_rule_starts_with(df, \"RULE 038\",\u0027CUSTOMER\u0027,\u0027NORFOLK SOUTHERN\u0027, \u0027NORFOLK SOUTHERN\u0027)\ndf \u003d apply_rule_starts_with(df, \"RULE 039\",\u0027CUSTOMER\u0027,\u0027NORTHERN CLEARING\u0027, \u0027NORTHERN CLEARING\u0027)\ndf \u003d apply_rule_starts_with(df, \"RULE 040\",\u0027CUSTOMER\u0027,\u0027PHILLIPS 66 COMPANY\u0027, \u0027PHILLIPS 66 COMPANY\u0027)\ndf \u003d apply_rule_starts_with(df, \"RULE 041\",\u0027CUSTOMER\u0027,\u0027SCHINDLER ELEVATOR\u0027, \u0027SCHINDLER ELEVATOR\u0027)\ndf \u003d apply_rule_starts_with(df, \"RULE 042\",\u0027CUSTOMER\u0027,\u0027STONEMOR\u0027, \u0027STONEMOR\u0027)\ndf \u003d apply_rule_starts_with(df, \"RULE 043\",\u0027CUSTOMER\u0027,\u0027SYNGENTA\u0027, \u0027SYNGENTA\u0027)\ndf \u003d apply_rule_starts_with(df, \"RULE 044\",\u0027CUSTOMER\u0027,\u0027TRANSDEV\u0027, \u0027TRANSDEV\u0027)\ndf \u003d apply_rule_starts_with(df, \"RULE 045\",\u0027CUSTOMER\u0027,\u0027UNITED RENTALS\u0027, \u0027UNITED RENTALS INC\u0027)\ndf \u003d apply_rule_starts_with(df, \"RULE 046\",\u0027CUSTOMER\u0027,\u0027VAN POOL TRANSPORTATION\u0027, \u0027VAN POOL TRANSPORTATION\u0027)\ndf \u003d apply_rule_starts_with(df, \"RULE 047\",\u0027CUSTOMER\u0027,\u0027WILLIAMS STRATEGIC\u0027, \u0027WILLIAMS STRATEGIC\u0027)\ndf \u003d apply_rule_starts_with(df, \"RULE 048\",\u0027CUSTOMER\u0027,\u0027XTO ENERGY\u0027, \u0027XTO ENERGY\u0027)\ndf \u003d apply_rule_starts_with(df, \"RULE 049\",\u0027CUSTOMER\u0027,\"BIMBO\" , \"BIMBO BAKERIES USA INC\")\n\ndf \u003d apply_rule_starts_with(df, \"RULE 050\",\u0027CUSTOMER\u0027,\"MANSFIELD OIL\" , \"MANSFIELD OIL\")\ndf \u003d apply_rule_starts_with(df, \"RULE 051\",\u0027CUSTOMER\u0027,\"ASPLUNDH\" , \"ASPLUNDH\")\ndf \u003d apply_rule_starts_with(df, \"RULE 052\",\u0027CUSTOMER\u0027,\"CINTAS CORPORATION\" , \"CINTAS CORPORATION\")\ndf \u003d apply_rule_starts_with(df, \"RULE 053\",\u0027CUSTOMER\u0027,\"ENTERPRISE RAC\" , \"ENTERPRISE RAC\")\ndf \u003d apply_rule_starts_with(df, \"RULE 054\",\u0027CUSTOMER\u0027,\"THE CRAWFORD GROUP INC\" , \"ENTERPRISE RAC\")\ndf \u003d apply_rule_starts_with(df, \"RULE 055\",\u0027DNB_CUSTOMER_NAME\u0027,\"STATE OF NEW YORK\" , \"STATE OF NEW YORK\")\ndf \u003d apply_rule_starts_with(df, \"RULE 056\",\u0027DNB_CUSTOMER_NAME\u0027,\"STATE OF GEORGIA\" , \"STATE OF GEORGIA\")\ndf \u003d apply_rule_starts_with(df, \"RULE 057\",\u0027DNB_CUSTOMER_NAME\u0027,\"VERIZON COMMUNICATIONS INC\" , \"VERIZON SOURCING LLC\")\ndf \u003d apply_rule_starts_with(df, \"RULE 058\",\u0027DNB_CUSTOMER_NAME\u0027,\"STATE OF NORTH CAROLINA\" , \"STATE OF NORTH CAROLINA\")\ndf \u003d apply_rule_starts_with(df, \"RULE 059\",\u0027CUSTOMER\u0027,\"DYCOM INDUSTRIES\" , \"DYCOM INDUSTRIES\")\ndf \u003d apply_rule_starts_with(df, \"RULE 060\",\u0027CUSTOMER\u0027,\"TERMINIX\" , \"TERMINIX CONSUMER SERVICES LLC\")\ndf \u003d apply_rule_starts_with(df, \"RULE 061\",\u0027CUSTOMER\u0027,\"WAYNE MUTUAL INSURANCE CO\" , \"WAYNE MUTUAL INSURANCE CO\")\n\ndf \u003d apply_rule_starts_with(df, \"RULE 062\",\u0027CUSTOMER\u0027,\"ART WATT PAINTING\" , \"ART WATT PAINTING\")\ndf \u003d apply_rule_starts_with(df, \"RULE 063\",\u0027CUSTOMER\u0027,\"BUENA VISTA SECURITY AND PROTE\" , \"BUENA VISTA SECURITY AND PROTE\")\ndf \u003d apply_rule_starts_with(df, \"RULE 064\",\u0027CUSTOMER\u0027,\"GREAT STONE GRANITE\" , \"GREAT STONE GRANITE\")\ndf \u003d apply_rule_starts_with(df, \"RULE 065\",\u0027CUSTOMER\u0027,\"SCHULTHEIS BROS CO\" , \"SCHULTHEIS BROS CO\")\ndf \u003d apply_rule_starts_with(df, \"RULE 066\",\u0027CUSTOMER\u0027,\"PIECE OF GREEN\" , \"PIECE OF GREEN LANDSCAPING\")\ndf \u003d apply_rule_starts_with(df, \"RULE 067\",\u0027CUSTOMER\u0027,\"CLEARPOINT CONSULTING ENGINEER\" , \"CLEARPOINT CONSULTING ENGINEER\")\ndf \u003d apply_rule_starts_with(df, \"RULE 068\",\u0027CUSTOMER\u0027,\"GRADY CRAWFORD CONSTRUCTION CO\" , \"GRADY CRAWFORD CONSTRUCTION CO\")\ndf \u003d apply_rule_starts_with(df, \"RULE 069\",\u0027CUSTOMER\u0027,\"ALLSOUTH APPLIANCE GROUP\" , \"ALLSOUTH APPLIANCE GROUP\")\ndf \u003d apply_rule_starts_with(df, \"RULE 070\",\u0027CUSTOMER\u0027,\"DAC ENTERPRISES\" , \"DAC ENTERPRISES\")\ndf \u003d apply_rule_starts_with(df, \"RULE 071\",\u0027CUSTOMER\u0027,\"HIGHLAND COMMUNITY COLLEGE\" , \"HIGHLAND COMMUNITY COLLEGE\")\ndf \u003d apply_rule_starts_with(df, \"RULE 072\",\u0027CUSTOMER\u0027,\"MATRIX SERVICE COMPANY\" , \"MATRIX SERVICE COMPANY\")\ndf \u003d apply_rule_starts_with(df, \"RULE 073\",\u0027CUSTOMER\u0027,\"TWIN CITY LIMOUSINES\" , \"TWIN CITY LIMOUSINES\")\ndf \u003d apply_rule_starts_with(df, \"RULE 074\",\u0027CUSTOMER\u0027,\"RMI SERVICES CORPORATION\" , \"RMI SERVICES CORPORATION\")\ndf \u003d apply_rule_starts_with(df, \"RULE 075\",\u0027CUSTOMER\u0027,\"GREAT LAKES HOME HEALTH S\" , \"GREAT LAKES HOME HEALTH S\")\ndf \u003d apply_rule_starts_with(df, \"RULE 076\",\u0027CUSTOMER\u0027,\"TOTAL DEPTH\" , \"TOTAL DEPTH\")\ndf \u003d apply_rule_starts_with(df, \"RULE 077\",\u0027CUSTOMER\u0027,\"CAPE BUILDING SYSTEMS\" , \"CAPE BUILDING SYSTEMS\")\ndf \u003d apply_rule_starts_with(df, \"RULE 078\",\u0027CUSTOMER\u0027,\"STATE OF TEXAS\" , \"STATE OF TEXAS\")\ndf \u003d apply_rule_starts_with(df, \"RULE 079\",\u0027CUSTOMER\u0027,\"RICS ELECTRIC\" , \"RICS ELECTRIC\")\ndf \u003d apply_rule_starts_with(df, \"RULE 080\",\u0027CUSTOMER\u0027,\"GILS CARPETS\" , \"GILS CARPETS\")\ndf \u003d apply_rule_starts_with(df, \"RULE 081\",\u0027CUSTOMER\u0027,\"PREMIER THERAPY\" , \"PREMIER THERAPY\")\ndf \u003d apply_rule_starts_with(df, \"RULE 082\",\u0027CUSTOMER\u0027,\"STE GENEVIEVE COUNTY MEMORIAL\" , \"STE GENEVIEVE COUNTY MEMORIAL\")\ndf \u003d apply_rule_starts_with(df, \"RULE 083\",\u0027CUSTOMER\u0027,\"STILSING ELECTRIC INC\" , \"STILSING ELECTRIC INC\")\ndf \u003d apply_rule_starts_with(df, \"RULE 084\",\u0027CUSTOMER\u0027,\"ROBINSON AUTO SALES\" , \"ROBINSON AUTO SALES\")\ndf \u003d apply_rule_starts_with(df, \"RULE 085\",\u0027CUSTOMER\u0027,\"FLORIDA FIRST CALL REMOVAL SER\" , \"FLORIDA FIRST CALL REMOVAL SER\")\ndf \u003d apply_rule_starts_with(df, \"RULE 086\",\u0027CUSTOMER\u0027,\"LANDMARK CONSTRUCTION SOLUTIO\" , \"LANDMARK CONSTRUCTION SOLUTIO\")\ndf \u003d apply_rule_starts_with(df, \"RULE 087\",\u0027CUSTOMER\u0027,\"IMPORT MOTORS OF OLD SAYBROOK\" , \"IMPORT MOTORS OF OLD SAYBROOK\")\ndf \u003d apply_rule_starts_with(df, \"RULE 088\",\u0027CUSTOMER\u0027,\"RALEIGH EAST CONCRETE CONSTRUC\" , \"RALEIGH EAST CONCRETE CONSTRUC\")\ndf \u003d apply_rule_starts_with(df, \"RULE 089\",\u0027CUSTOMER\u0027,\"AMES PLUMBING SERVIC\" , \"AMES PLUMBING SERVIC\")\ndf \u003d apply_rule_starts_with(df, \"RULE 090\",\u0027CUSTOMER\u0027,\"FENIGOR GROUP LLC\" , \"FENIGOR GROUP LLC\")\ndf \u003d apply_rule_starts_with(df, \"RULE 091\",\u0027CUSTOMER\u0027,\"MONTCALM COUNTY ROAD COMMISSIO\" , \"MONTCALM COUNTY ROAD COMMISSIO\")\ndf \u003d apply_rule_starts_with(df, \"RULE 092\",\u0027CUSTOMER\u0027,\"WESTERN INDUSTRIAL CONTRACTORS\" , \"WESTERN INDUSTRIAL CONTRACTORS\")\ndf \u003d apply_rule_starts_with(df, \"RULE 093\",\u0027CUSTOMER\u0027,\"TIRE CORRAL OF AMERICA\" , \"TIRE CORRAL OF AMERICA\")\ndf \u003d apply_rule_starts_with(df, \"RULE 094\",\u0027CUSTOMER\u0027,\"CARVANA\" , \"CARVANA\")\n\ndf[\u0027EDW_CUSTOMER_NAME\u0027] \u003d df[\u0027EDW_CUSTOMER_NAME_ORIGINAL\u0027]\ndf[\u0027CUSTOMER_ACCOUNT_NAME\u0027] \u003d df[\u0027CUSTOMER_ACCOUNT_NAME_ORIGINAL\u0027]\n\n# stupid Tableau can\u0027t deal with the addition of a column\n# need to figure out how to add this back in\n# okay -\u003e turns out this is not down to Tableau, but the stupid way I built the view\ndel(df[\u0027CUST_CALC_RULE\u0027])\ndel(df[\u0027EDW_CUSTOMER_NAME_ORIGINAL\u0027])\ndel(df[\u0027CUSTOMER_ACCOUNT_NAME_ORIGINAL\u0027])\n\n#print(len(df))\n#print(len(df.CUSTOMER.unique()))\n#df.CUST_CALC_SOURCE.value_counts()"
      ],
      "outputs": []
    },
    {
      "execution_count": 0,
      "cell_type": "code",
      "metadata": {},
      "source": [
        "#df_j \u003d pd.merge(df, ACCOUNTS_WITH_EBX_PARTY_df, on\u003d\u0027CUSTOMER_ACCOUNT_ID\u0027, how\u003d\u0027left\u0027)\n#df_j.loc[~df_j[\"PARTY_DEFAULT_NAME\"].isnull(),\u0027CUSTOMER\u0027] \u003d df_j.PARTY_DEFAULT_NAME\n#df_j.loc[~df_j[\"PARTY_DEFAULT_NAME\"].isnull(),\u0027CUST_CALC_SOURCE\u0027] \u003d \u0027MDM\u0027\n#df_j.CUST_CALC_SOURCE.value_counts()\n\n#del(df_j[\u0027PARTY_ID\u0027])\n#del(df_j[\u0027PARTY_DEFAULT_NAME\u0027])"
      ],
      "outputs": []
    },
    {
      "execution_count": 0,
      "cell_type": "code",
      "metadata": {},
      "source": [
        "#print(len(df_matches_verified))\n#df_matches_verified.drop_duplicates(subset\u003d\u0027CUSTOMER\u0027, inplace\u003dTrue)\n#print(len(df_matches_verified))\n\n#print(len(df_j))\n#df_j_w_verified \u003d pd.merge(df_j, df_matches_verified, left_on\u003d\u0027CUSTOMER\u0027, right_on\u003d\u0027CUSTOMER\u0027, how\u003d\u0027left\u0027)\n#print(len(df_j_w_verified))\n\n#df_j_w_verified.loc[~df_j_w_verified[\"CUSTOMER_CLC\"].isnull(),\u0027CUSTOMER\u0027] \u003d df_j_w_verified.CUSTOMER_CLC\n#df_j_w_verified.loc[~df_j_w_verified[\"CUSTOMER_CLC\"].isnull(),\u0027CUST_CALC_SOURCE\u0027] \u003d \u0027CLC\u0027\n\n#df_j \u003d df_j_w_verified\n#del(df_j[\u0027CUSTOMER_CLC\u0027])"
      ],
      "outputs": []
    },
    {
      "execution_count": 0,
      "cell_type": "code",
      "metadata": {},
      "source": [
        "#df_j.head()"
      ],
      "outputs": []
    },
    {
      "execution_count": 0,
      "cell_type": "code",
      "metadata": {},
      "source": [
        "#RDW_CONVERSIONS_df.head()"
      ],
      "outputs": []
    },
    {
      "execution_count": 0,
      "cell_type": "code",
      "metadata": {},
      "source": [
        "#df_r \u003d RDW_CONVERSIONS_df[[\u0027FLEET_ID\u0027,\u0027CLASSIC_ACCOUNT_NUMBER\u0027]].dropna(subset\u003d[\u0027CLASSIC_ACCOUNT_NUMBER\u0027]).copy()\n#df_r.FLEET_ID \u003d df_r.FLEET_ID.str.strip()\n#df_r \u003d df_r[~df_r[\u0027FLEET_ID\u0027].str.contains(\u0027-\u0027,na\u003dFalse)]\n#df_r.FLEET_ID \u003d df_r.FLEET_ID.astype(\u0027float\u0027)\n#df_r.FLEET_ID \u003d df_r.FLEET_ID.astype(\u0027Int64\u0027)\n#print(len(df_r))\n#print()\n\n#df_cust \u003d df_j[[\u0027CUSTOMER_ACCOUNT_ID\u0027,\u0027CUSTOMER\u0027]].copy()\n#df_cust.CUSTOMER_ACCOUNT_ID \u003d df_cust[\u0027CUSTOMER_ACCOUNT_ID\u0027].astype(\u0027Int64\u0027)\n#print(len(df_cust))\n#print()\n\n#df_rj \u003d pd.merge(df_r, df_cust, left_on\u003d\u0027FLEET_ID\u0027, right_on\u003d\u0027CUSTOMER_ACCOUNT_ID\u0027, how\u003d\u0027inner\u0027)\n#df_rj \u003d df_rj[pd.to_numeric(df_rj.CLASSIC_ACCOUNT_NUMBER, errors\u003d\u0027coerce\u0027).notnull()]\n#df_rj.CLASSIC_ACCOUNT_NUMBER \u003d df_rj.CLASSIC_ACCOUNT_NUMBER.astype(float)\n#df_rj.CLASSIC_ACCOUNT_NUMBER \u003d df_rj.CLASSIC_ACCOUNT_NUMBER.astype(np.int64)\n#print(len(df_rj))\n\n#df_cust_classic \u003d df_j[[\u0027CUSTOMER_ACCOUNT_ID\u0027,\u0027CUSTOMER\u0027]].copy()\n#df_cust_classic.columns \u003d [\u0027CUSTOMER_ACCOUNT_ID\u0027, \u0027CLASSIC_CUSTOMER\u0027]\n#df_cust_classic.CUSTOMER_ACCOUNT_ID \u003d df_cust[\u0027CUSTOMER_ACCOUNT_ID\u0027].astype(\u0027Int64\u0027)\n#print(len(df_cust_classic))\n\n#df_rj \u003d df_rj[[\u0027FLEET_ID\u0027,\u0027CLASSIC_ACCOUNT_NUMBER\u0027,\u0027CUSTOMER\u0027]]\n#df_rj \u003d pd.merge(df_rj, df_cust_classic, left_on\u003d\u0027CLASSIC_ACCOUNT_NUMBER\u0027, right_on\u003d\u0027CUSTOMER_ACCOUNT_ID\u0027, how\u003d\u0027inner\u0027)\n#print(len(df_rj))\n\n#df_rdw_conversions \u003d df_rj[df_rj.CUSTOMER!\u003ddf_rj.CLASSIC_CUSTOMER]\n#print(len(df_rdw_conversions))\n#df_rdw_conversions.head()\n\n#df_rdw_conversions \u003d df_rdw_conversions[[\u0027CUSTOMER_ACCOUNT_ID\u0027,\u0027CUSTOMER\u0027]]\n#df_rdw_conversions.columns \u003d [\u0027CUSTOMER_ACCOUNT_ID\u0027,\u0027CONVERSION_REPLACEMENT_CUSTOMER\u0027]\n#df_rdw_conversions.drop_duplicates(subset\u003d[\u0027CUSTOMER_ACCOUNT_ID\u0027], inplace\u003dTrue)\n#print(len(df_rdw_conversions))\n#df_rdw_conversions.head()"
      ],
      "outputs": []
    },
    {
      "execution_count": 0,
      "cell_type": "code",
      "metadata": {},
      "source": [
        "#print(len(df_j))\n#df_j_with_rdw_conversions \u003d pd.merge(df_j, df_rdw_conversions, on\u003d\u0027CUSTOMER_ACCOUNT_ID\u0027,how\u003d\u0027left\u0027)\n#print(len(df_j_with_rdw_conversions))\n\n#df_j_with_rdw_conversions.loc[~df_j_with_rdw_conversions[\"CONVERSION_REPLACEMENT_CUSTOMER\"].isnull(),\u0027CUSTOMER\u0027] \u003d df_j_with_rdw_conversions.CONVERSION_REPLACEMENT_CUSTOMER\n#df_j_with_rdw_conversions.loc[~df_j_with_rdw_conversions[\"CONVERSION_REPLACEMENT_CUSTOMER\"].isnull(),\u0027CUST_CALC_SOURCE\u0027] \u003d \u0027RDW CONVERSIONS\u0027\n\n#df_j \u003d df_j_with_rdw_conversions\n#del(df_j[\u0027CONVERSION_REPLACEMENT_CUSTOMER\u0027])"
      ],
      "outputs": []
    },
    {
      "execution_count": 0,
      "cell_type": "code",
      "metadata": {},
      "source": [
        "#df_j.CUST_CALC_SOURCE.value_counts()"
      ],
      "outputs": []
    },
    {
      "execution_count": 0,
      "cell_type": "code",
      "metadata": {},
      "source": [
        "#unique_customer_list \u003d df_j.CUSTOMER.unique()\n#df_customer_ids \u003d pd.DataFrame(unique_customer_list)\n#df_customer_ids.columns \u003d [\"CUSTOMER\"]\n#df_customer_ids \u003d df_customer_ids.sort_values([\u0027CUSTOMER\u0027]).reset_index(drop\u003dTrue)\n#df_customer_ids \u003d df_customer_ids.reset_index(drop\u003dFalse)\n#df_customer_ids[\u0027CUSTOMER_ID\u0027] \u003d df_customer_ids.index + 77000000\n#del(df_customer_ids[\u0027index\u0027])\n#df_customer_ids.head()"
      ],
      "outputs": []
    },
    {
      "execution_count": 0,
      "cell_type": "code",
      "metadata": {},
      "source": [
        "#print(len(df_j))\n#df_jj \u003d pd.merge(df_j, df_customer_ids, on\u003d\u0027CUSTOMER\u0027)\n#df_jj.dropna(subset\u003d[\u0027CUSTOMER\u0027], inplace\u003dTrue)\n#print(len(df_jj))\n#df_jj.head()"
      ],
      "outputs": []
    },
    {
      "execution_count": 0,
      "cell_type": "code",
      "metadata": {},
      "source": [
        "#df_by_account \u003d df_jj[[\u0027CUSTOMER_ACCOUNT_ID\u0027,\u0027CUSTOMER_ID\u0027, \u0027CUSTOMER\u0027]]\n#df_by_account.head()"
      ],
      "outputs": []
    },
    {
      "execution_count": 0,
      "cell_type": "code",
      "metadata": {},
      "source": [
        "#len(df_by_account.CUSTOMER_ID.unique())"
      ],
      "outputs": []
    },
    {
      "execution_count": 0,
      "cell_type": "code",
      "metadata": {},
      "source": [
        "#df_jj.CUST_CALC_SOURCE.value_counts()"
      ],
      "outputs": []
    },
    {
      "execution_count": 0,
      "cell_type": "code",
      "metadata": {},
      "source": [
        "#ACCOUNT_NEW_SALES_FULL_df.head()"
      ],
      "outputs": []
    },
    {
      "execution_count": 0,
      "cell_type": "code",
      "metadata": {},
      "source": [
        "#ACCOUNT_NEW_SALES_FULL_df.columns.tolist()"
      ],
      "outputs": []
    },
    {
      "execution_count": 0,
      "cell_type": "code",
      "metadata": {},
      "source": [
        "#print(len(df_jj))\n#print(len(ACCOUNT_NEW_SALES_df))\n#ACCOUNT_NEW_SALES_df[\u0027HAS_SALES_FLAG\u0027] \u003d True\n#df_j_with_sales \u003d pd.merge(df_jj, ACCOUNT_NEW_SALES_df, on\u003d\u0027CUSTOMER_ACCOUNT_ID\u0027, how\u003d\u0027left\u0027)\n#print(len(df_j_with_sales))\n\n#print(len(df_jj))\n#print(len(ACCOUNT_NEW_SALES_FULL_df))\n#ACCOUNT_NEW_SALES_FULL_df.columns \u003d [\u0027SALES_MARKETING_PARTNER_NM\u0027,\u0027SALES_BUSINESS_PROGRAM_NM\u0027,\u0027SALES_PROGRAM_ID\u0027,\u0027CUSTOMER_ACCOUNT_ID\u0027,\u0027SALES_CAMPAIGN_TYPE\u0027,\u0027SALES_COUPON_CODE\u0027,\u0027SALES_CHANNEL\u0027,\u0027SALES_REP\u0027,\u0027SALES_TRANS_RECORDS\u0027,\u0027SALES_DATA_SOURCE\u0027,\u0027HAS_SALES_FLAG\u0027]\n#ACCOUNT_NEW_SALES_FULL_df[\u0027HAS_SALES_FLAG\u0027] \u003d True\n#df_j_with_sales \u003d pd.merge(df_jj, ACCOUNT_NEW_SALES_FULL_df, on\u003d\u0027CUSTOMER_ACCOUNT_ID\u0027, how\u003d\u0027left\u0027)\n#print(len(df_j_with_sales))"
      ],
      "outputs": []
    },
    {
      "execution_count": 0,
      "cell_type": "code",
      "metadata": {},
      "source": [
        "#df_j_with_sales.HAS_SALES_FLAG.value_counts(dropna\u003dFalse)"
      ],
      "outputs": []
    },
    {
      "execution_count": 0,
      "cell_type": "code",
      "metadata": {},
      "source": [
        "#ACCOUNTS_WITH_CUSTOMER_FROM_EDW_AND_DUNS_df \u003d df_j_with_sales\n\n# Write recipe outputs\n#ACCOUNTS_WITH_CUSTOMER_FROM_EDW_AND_DUNS \u003d dataiku.Dataset(\"ACCOUNTS_WITH_CUSTOMER_FROM_EDW_AND_DUNS\")\n#ACCOUNTS_WITH_CUSTOMER_FROM_EDW_AND_DUNS.write_with_schema(ACCOUNTS_WITH_CUSTOMER_FROM_EDW_AND_DUNS_df)\n\n#BY_ACCOUNT \u003d dataiku.Dataset(\"BY_ACCOUNT\")\n#BY_ACCOUNT.write_with_schema(df_by_account)"
      ],
      "outputs": []
    }
  ]
}