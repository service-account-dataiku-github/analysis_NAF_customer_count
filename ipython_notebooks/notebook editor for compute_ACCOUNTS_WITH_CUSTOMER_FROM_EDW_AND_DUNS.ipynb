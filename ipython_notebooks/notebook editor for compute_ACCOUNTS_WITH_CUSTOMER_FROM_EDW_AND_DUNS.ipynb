{
  "metadata": {
    "kernelspec": {
      "name": "py-dku-venv-env_clc",
      "display_name": "Python (env env_clc)",
      "language": "python"
    },
    "associatedRecipe": "compute_ACCOUNTS_WITH_CUSTOMER_FROM_EDW_AND_DUNS",
    "creator": "Daniel.Vandermeer",
    "createdOn": 1664967231995,
    "tags": [
      "recipe-editor"
    ],
    "customFields": {},
    "hide_input": false,
    "language_info": {
      "name": "python",
      "version": "3.6.8",
      "mimetype": "text/x-python",
      "codemirror_mode": {
        "name": "ipython",
        "version": 3
      },
      "pygments_lexer": "ipython3",
      "nbconvert_exporter": "python",
      "file_extension": ".py"
    },
    "modifiedBy": "Daniel.Vandermeer"
  },
  "nbformat": 4,
  "nbformat_minor": 1,
  "cells": [
    {
      "execution_count": 2,
      "cell_type": "code",
      "metadata": {},
      "source": [
        "# -*- coding: utf-8 -*-\nimport dataiku\nimport pandas as pd, numpy as np\nfrom dataiku import pandasutils as pdu\n\n# Read recipe inputs\nACCOUNTS_WITH_BUNDLER_AND_DUNS \u003d dataiku.Dataset(\"ACCOUNTS_WITH_BUNDLER_AND_DUNS\")\nACCOUNTS_WITH_BUNDLER_AND_DUNS_df \u003d ACCOUNTS_WITH_BUNDLER_AND_DUNS.get_dataframe()\ndf \u003d ACCOUNTS_WITH_BUNDLER_AND_DUNS_df"
      ],
      "outputs": []
    },
    {
      "execution_count": 6,
      "cell_type": "code",
      "metadata": {},
      "source": [
        "df[\u0027DUNS\u0027] \u003d df[\u0027DUNS\u0027].astype(\u0027Int64\u0027, errors\u003d\u0027ignore\u0027)\ndf[\u0027DNB_DUNS_NUMBER\u0027] \u003d df[\u0027DNB_DUNS_NUMBER\u0027].astype(\u0027Int64\u0027, errors\u003d\u0027ignore\u0027)\ndf[\u0027DNB_GLOBAL_ULT_NUMBER\u0027] \u003d df[\u0027DNB_GLOBAL_ULT_NUMBER\u0027].astype(\u0027Int64\u0027, errors\u003d\u0027ignore\u0027)\ndf[\u0027DNB_GLOBAL_ULT_NUMBER\u0027] \u003d df[\u0027DNB_GLOBAL_ULT_NUMBER\u0027].astype(\u0027Int64\u0027, errors\u003d\u0027ignore\u0027)\ndf[\u0027DNB_STATE\u0027] \u003d \u0027Unknown\u0027\ndf[\u0027EDW_STATE\u0027] \u003d \u0027Unknown\u0027\ndf.head()"
      ],
      "outputs": [
        {
          "output_type": "execute_result",
          "execution_count": 6,
          "data": {
            "text/plain": "   CUSTOMER_ACCOUNT_ID         CUSTOMER_ACCOUNT_NAME             EDW_CUSTOMER_NAME       DUNS  IS_BUNDLER  DNB_GLOBAL_ULT_NUMBER             DNB_GLOBAL_ULT_NAME  DNB_DOMESTIC_ULT_NUMBER      DNB_DOMESTIC_ULTIMATE_NAME  DNB_HQ_NUMBER                     DNB_HQ_NAME  DNB_DUNS_NUMBER               DNB_BUSINESS_NAME DNB_STATE EDW_STATE\n0        6121005966569  HEIDLER ROOFING SERVICES INC  HEIDLER ROOFING SERVICES INC  152141495       False            152141495.0  Heidler Roofing Services, Inc.              152141495.0  Heidler Roofing Services, Inc.    152141495.0  Heidler Roofing Services, Inc.        152141495  Heidler Roofing Services, Inc.   Unknown   Unknown\n1        9100001804959  HEIDLER ROOFING SERVICES INC                           NaN  152141495        True            152141495.0  Heidler Roofing Services, Inc.              152141495.0  Heidler Roofing Services, Inc.    152141495.0  Heidler Roofing Services, Inc.        152141495  Heidler Roofing Services, Inc.   Unknown   Unknown\n2        9100006532335                ANDERSON HOMES                           NaN  608585766        True            608585766.0                  Anderson Homes              608585766.0                  Anderson Homes    608585766.0                  Anderson Homes        608585766                  Anderson Homes   Unknown   Unknown\n3        9100008971857            ARARAT TRADING INC                           NaN  255895117        True                    NaN                             NaN                      NaN                             NaN            NaN                             NaN        255895117     Ararat Trading (2002) Corp.   Unknown   Unknown\n4        9100005816790               ANGELS TAXI LLC                           NaN   24832690        True                    NaN                             NaN                      NaN                             NaN            NaN                             NaN         24832690                Angel\u0027s Taxi LLC   Unknown   Unknown",
            "text/html": "\u003cdiv\u003e\n\u003cstyle scoped\u003e\n    .dataframe tbody tr th:only-of-type {\n        vertical-align: middle;\n    }\n\n    .dataframe tbody tr th {\n        vertical-align: top;\n    }\n\n    .dataframe thead th {\n        text-align: right;\n    }\n\u003c/style\u003e\n\u003ctable border\u003d\"1\" class\u003d\"dataframe\"\u003e\n  \u003cthead\u003e\n    \u003ctr style\u003d\"text-align: right;\"\u003e\n      \u003cth\u003e\u003c/th\u003e\n      \u003cth\u003eCUSTOMER_ACCOUNT_ID\u003c/th\u003e\n      \u003cth\u003eCUSTOMER_ACCOUNT_NAME\u003c/th\u003e\n      \u003cth\u003eEDW_CUSTOMER_NAME\u003c/th\u003e\n      \u003cth\u003eDUNS\u003c/th\u003e\n      \u003cth\u003eIS_BUNDLER\u003c/th\u003e\n      \u003cth\u003eDNB_GLOBAL_ULT_NUMBER\u003c/th\u003e\n      \u003cth\u003eDNB_GLOBAL_ULT_NAME\u003c/th\u003e\n      \u003cth\u003eDNB_DOMESTIC_ULT_NUMBER\u003c/th\u003e\n      \u003cth\u003eDNB_DOMESTIC_ULTIMATE_NAME\u003c/th\u003e\n      \u003cth\u003eDNB_HQ_NUMBER\u003c/th\u003e\n      \u003cth\u003eDNB_HQ_NAME\u003c/th\u003e\n      \u003cth\u003eDNB_DUNS_NUMBER\u003c/th\u003e\n      \u003cth\u003eDNB_BUSINESS_NAME\u003c/th\u003e\n      \u003cth\u003eDNB_STATE\u003c/th\u003e\n      \u003cth\u003eEDW_STATE\u003c/th\u003e\n    \u003c/tr\u003e\n  \u003c/thead\u003e\n  \u003ctbody\u003e\n    \u003ctr\u003e\n      \u003cth\u003e0\u003c/th\u003e\n      \u003ctd\u003e6121005966569\u003c/td\u003e\n      \u003ctd\u003eHEIDLER ROOFING SERVICES INC\u003c/td\u003e\n      \u003ctd\u003eHEIDLER ROOFING SERVICES INC\u003c/td\u003e\n      \u003ctd\u003e152141495\u003c/td\u003e\n      \u003ctd\u003eFalse\u003c/td\u003e\n      \u003ctd\u003e152141495.0\u003c/td\u003e\n      \u003ctd\u003eHeidler Roofing Services, Inc.\u003c/td\u003e\n      \u003ctd\u003e152141495.0\u003c/td\u003e\n      \u003ctd\u003eHeidler Roofing Services, Inc.\u003c/td\u003e\n      \u003ctd\u003e152141495.0\u003c/td\u003e\n      \u003ctd\u003eHeidler Roofing Services, Inc.\u003c/td\u003e\n      \u003ctd\u003e152141495\u003c/td\u003e\n      \u003ctd\u003eHeidler Roofing Services, Inc.\u003c/td\u003e\n      \u003ctd\u003eUnknown\u003c/td\u003e\n      \u003ctd\u003eUnknown\u003c/td\u003e\n    \u003c/tr\u003e\n    \u003ctr\u003e\n      \u003cth\u003e1\u003c/th\u003e\n      \u003ctd\u003e9100001804959\u003c/td\u003e\n      \u003ctd\u003eHEIDLER ROOFING SERVICES INC\u003c/td\u003e\n      \u003ctd\u003eNaN\u003c/td\u003e\n      \u003ctd\u003e152141495\u003c/td\u003e\n      \u003ctd\u003eTrue\u003c/td\u003e\n      \u003ctd\u003e152141495.0\u003c/td\u003e\n      \u003ctd\u003eHeidler Roofing Services, Inc.\u003c/td\u003e\n      \u003ctd\u003e152141495.0\u003c/td\u003e\n      \u003ctd\u003eHeidler Roofing Services, Inc.\u003c/td\u003e\n      \u003ctd\u003e152141495.0\u003c/td\u003e\n      \u003ctd\u003eHeidler Roofing Services, Inc.\u003c/td\u003e\n      \u003ctd\u003e152141495\u003c/td\u003e\n      \u003ctd\u003eHeidler Roofing Services, Inc.\u003c/td\u003e\n      \u003ctd\u003eUnknown\u003c/td\u003e\n      \u003ctd\u003eUnknown\u003c/td\u003e\n    \u003c/tr\u003e\n    \u003ctr\u003e\n      \u003cth\u003e2\u003c/th\u003e\n      \u003ctd\u003e9100006532335\u003c/td\u003e\n      \u003ctd\u003eANDERSON HOMES\u003c/td\u003e\n      \u003ctd\u003eNaN\u003c/td\u003e\n      \u003ctd\u003e608585766\u003c/td\u003e\n      \u003ctd\u003eTrue\u003c/td\u003e\n      \u003ctd\u003e608585766.0\u003c/td\u003e\n      \u003ctd\u003eAnderson Homes\u003c/td\u003e\n      \u003ctd\u003e608585766.0\u003c/td\u003e\n      \u003ctd\u003eAnderson Homes\u003c/td\u003e\n      \u003ctd\u003e608585766.0\u003c/td\u003e\n      \u003ctd\u003eAnderson Homes\u003c/td\u003e\n      \u003ctd\u003e608585766\u003c/td\u003e\n      \u003ctd\u003eAnderson Homes\u003c/td\u003e\n      \u003ctd\u003eUnknown\u003c/td\u003e\n      \u003ctd\u003eUnknown\u003c/td\u003e\n    \u003c/tr\u003e\n    \u003ctr\u003e\n      \u003cth\u003e3\u003c/th\u003e\n      \u003ctd\u003e9100008971857\u003c/td\u003e\n      \u003ctd\u003eARARAT TRADING INC\u003c/td\u003e\n      \u003ctd\u003eNaN\u003c/td\u003e\n      \u003ctd\u003e255895117\u003c/td\u003e\n      \u003ctd\u003eTrue\u003c/td\u003e\n      \u003ctd\u003eNaN\u003c/td\u003e\n      \u003ctd\u003eNaN\u003c/td\u003e\n      \u003ctd\u003eNaN\u003c/td\u003e\n      \u003ctd\u003eNaN\u003c/td\u003e\n      \u003ctd\u003eNaN\u003c/td\u003e\n      \u003ctd\u003eNaN\u003c/td\u003e\n      \u003ctd\u003e255895117\u003c/td\u003e\n      \u003ctd\u003eArarat Trading (2002) Corp.\u003c/td\u003e\n      \u003ctd\u003eUnknown\u003c/td\u003e\n      \u003ctd\u003eUnknown\u003c/td\u003e\n    \u003c/tr\u003e\n    \u003ctr\u003e\n      \u003cth\u003e4\u003c/th\u003e\n      \u003ctd\u003e9100005816790\u003c/td\u003e\n      \u003ctd\u003eANGELS TAXI LLC\u003c/td\u003e\n      \u003ctd\u003eNaN\u003c/td\u003e\n      \u003ctd\u003e24832690\u003c/td\u003e\n      \u003ctd\u003eTrue\u003c/td\u003e\n      \u003ctd\u003eNaN\u003c/td\u003e\n      \u003ctd\u003eNaN\u003c/td\u003e\n      \u003ctd\u003eNaN\u003c/td\u003e\n      \u003ctd\u003eNaN\u003c/td\u003e\n      \u003ctd\u003eNaN\u003c/td\u003e\n      \u003ctd\u003eNaN\u003c/td\u003e\n      \u003ctd\u003e24832690\u003c/td\u003e\n      \u003ctd\u003eAngel\u0027s Taxi LLC\u003c/td\u003e\n      \u003ctd\u003eUnknown\u003c/td\u003e\n      \u003ctd\u003eUnknown\u003c/td\u003e\n    \u003c/tr\u003e\n  \u003c/tbody\u003e\n\u003c/table\u003e\n\u003c/div\u003e"
          },
          "metadata": {}
        }
      ]
    },
    {
      "execution_count": 0,
      "cell_type": "code",
      "metadata": {},
      "source": [
        "#ACCOUNTS_WITH_CUSTOMER_FROM_EDW_AND_DUNS_df \u003d \n\n# Write recipe outputs\nACCOUNTS_WITH_CUSTOMER_FROM_EDW_AND_DUNS \u003d dataiku.Dataset(\"ACCOUNTS_WITH_CUSTOMER_FROM_EDW_AND_DUNS\")\nACCOUNTS_WITH_CUSTOMER_FROM_EDW_AND_DUNS.write_with_schema(ACCOUNTS_WITH_CUSTOMER_FROM_EDW_AND_DUNS_df)"
      ],
      "outputs": []
    }
  ]
}