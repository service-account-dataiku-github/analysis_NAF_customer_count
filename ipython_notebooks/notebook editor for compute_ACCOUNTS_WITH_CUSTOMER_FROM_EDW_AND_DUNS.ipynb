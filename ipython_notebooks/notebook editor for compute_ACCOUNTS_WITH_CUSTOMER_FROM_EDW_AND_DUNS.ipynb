{
  "metadata": {
    "kernelspec": {
      "name": "py-dku-venv-env_clc",
      "display_name": "Python (env env_clc)",
      "language": "python"
    },
    "associatedRecipe": "compute_ACCOUNTS_WITH_CUSTOMER_FROM_EDW_AND_DUNS",
    "dkuGit": {
      "lastInteraction": 0
    },
    "creationTag": {
      "versionNumber": 0,
      "lastModifiedBy": {
        "login": "Daniel.Vandermeer"
      },
      "lastModifiedOn": 1664967231995
    },
    "creator": "Daniel.Vandermeer",
    "createdOn": 1664967231995,
    "tags": [
      "recipe-editor"
    ],
    "customFields": {},
    "hide_input": false,
    "language_info": {
      "name": "python",
      "version": "3.6.8",
      "mimetype": "text/x-python",
      "codemirror_mode": {
        "name": "ipython",
        "version": 3
      },
      "pygments_lexer": "ipython3",
      "nbconvert_exporter": "python",
      "file_extension": ".py"
    },
    "modifiedBy": "Daniel.Vandermeer"
  },
  "nbformat": 4,
  "nbformat_minor": 1,
  "cells": [
    {
      "execution_count": 43,
      "cell_type": "code",
      "metadata": {},
      "source": [
        "# -*- coding: utf-8 -*-\nimport dataiku\nimport pandas as pd, numpy as np\nfrom dataiku import pandasutils as pdu\nimport string\n\n# Read recipe inputs\nACCOUNTS_WITH_BUNDLER_AND_DUNS \u003d dataiku.Dataset(\"ACCOUNTS_WITH_BUNDLER_AND_DUNS\")\nACCOUNTS_WITH_BUNDLER_AND_DUNS_df \u003d ACCOUNTS_WITH_BUNDLER_AND_DUNS.get_dataframe()\ndf \u003d ACCOUNTS_WITH_BUNDLER_AND_DUNS_df"
      ],
      "outputs": [
        {
          "output_type": "stream",
          "text": "/opt/dataiku-dss-10.0.5/python/dataiku/core/intercom.py:413: ResourceWarning: unclosed \u003csocket.socket fd\u003d58, family\u003dAddressFamily.AF_INET, type\u003dSocketKind.SOCK_STREAM, proto\u003d6, laddr\u003d(\u002710.92.106.166\u0027, 51868), raddr\u003d(\u002710.92.106.166\u0027, 10001)\u003e\n  return _handle_json_resp(backend_api_post_call(path, data, **kwargs), err_msg \u003d err_msg)\n/data/dataiku/dss_data/code-envs/python/env_clc/lib/python3.6/site-packages/ipykernel_launcher.py:9: ResourceWarning: unclosed \u003csocket.socket fd\u003d58, family\u003dAddressFamily.AF_INET, type\u003dSocketKind.SOCK_STREAM, proto\u003d6, laddr\u003d(\u002710.92.106.166\u0027, 51870), raddr\u003d(\u002710.92.106.166\u0027, 10001)\u003e\n  if __name__ \u003d\u003d \u0027__main__\u0027:\n",
          "name": "stderr"
        }
      ]
    },
    {
      "execution_count": 44,
      "cell_type": "code",
      "metadata": {},
      "source": [
        "df.head()"
      ],
      "outputs": [
        {
          "output_type": "execute_result",
          "execution_count": 44,
          "data": {
            "text/plain": "   CUSTOMER_ACCOUNT_ID           CUSTOMER_ACCOUNT_NAME               EDW_CUSTOMER_NAME         DUNS  IS_BUNDLER  DNB_GLOBAL_ULT_NUMBER                   DNB_GLOBAL_ULT_NAME  DNB_DOMESTIC_ULT_NUMBER            DNB_DOMESTIC_ULTIMATE_NAME  DNB_HQ_NUMBER                           DNB_HQ_NAME  DNB_DUNS_NUMBER                       DNB_BUSINESS_NAME\n0        9100009729900            RENZO EXCAVATING LLC                             NaN   77302467.0        True                    NaN                                   NaN                      NaN                                   NaN            NaN                                   NaN       77302467.0                   Renzo Excavating, LLC\n1        9100004871322            HAWKINS PEST CONTROL                             NaN  879581114.0        True                    NaN                                   NaN                      NaN                                   NaN            NaN                                   NaN      879581114.0                Hawkins Pest Control Inc\n2        9100006919713        HAWKINS PEST CONTROL INC                             NaN  879581114.0        True                    NaN                                   NaN                      NaN                                   NaN            NaN                                   NaN      879581114.0                Hawkins Pest Control Inc\n3        9100010883313         WATERMARK LIVERMORE LLC                             NaN  606673127.0        True            802885111.0  Fountains Affiliated Companies, Inc.              802885111.0  Fountains Affiliated Companies, Inc.    802885111.0  Fountains Affiliated Companies, Inc.      606673127.0  Watermark Retirement Communities, Inc.\n4         410008532954  FOUNTAINS LAKE POINTE WOODS SL  FOUNTAINS LAKE POINTE WOODS SL  606673127.0       False            802885111.0  Fountains Affiliated Companies, Inc.              802885111.0  Fountains Affiliated Companies, Inc.    802885111.0  Fountains Affiliated Companies, Inc.      606673127.0  Watermark Retirement Communities, Inc.",
            "text/html": "\u003cdiv\u003e\n\u003cstyle scoped\u003e\n    .dataframe tbody tr th:only-of-type {\n        vertical-align: middle;\n    }\n\n    .dataframe tbody tr th {\n        vertical-align: top;\n    }\n\n    .dataframe thead th {\n        text-align: right;\n    }\n\u003c/style\u003e\n\u003ctable border\u003d\"1\" class\u003d\"dataframe\"\u003e\n  \u003cthead\u003e\n    \u003ctr style\u003d\"text-align: right;\"\u003e\n      \u003cth\u003e\u003c/th\u003e\n      \u003cth\u003eCUSTOMER_ACCOUNT_ID\u003c/th\u003e\n      \u003cth\u003eCUSTOMER_ACCOUNT_NAME\u003c/th\u003e\n      \u003cth\u003eEDW_CUSTOMER_NAME\u003c/th\u003e\n      \u003cth\u003eDUNS\u003c/th\u003e\n      \u003cth\u003eIS_BUNDLER\u003c/th\u003e\n      \u003cth\u003eDNB_GLOBAL_ULT_NUMBER\u003c/th\u003e\n      \u003cth\u003eDNB_GLOBAL_ULT_NAME\u003c/th\u003e\n      \u003cth\u003eDNB_DOMESTIC_ULT_NUMBER\u003c/th\u003e\n      \u003cth\u003eDNB_DOMESTIC_ULTIMATE_NAME\u003c/th\u003e\n      \u003cth\u003eDNB_HQ_NUMBER\u003c/th\u003e\n      \u003cth\u003eDNB_HQ_NAME\u003c/th\u003e\n      \u003cth\u003eDNB_DUNS_NUMBER\u003c/th\u003e\n      \u003cth\u003eDNB_BUSINESS_NAME\u003c/th\u003e\n    \u003c/tr\u003e\n  \u003c/thead\u003e\n  \u003ctbody\u003e\n    \u003ctr\u003e\n      \u003cth\u003e0\u003c/th\u003e\n      \u003ctd\u003e9100009729900\u003c/td\u003e\n      \u003ctd\u003eRENZO EXCAVATING LLC\u003c/td\u003e\n      \u003ctd\u003eNaN\u003c/td\u003e\n      \u003ctd\u003e77302467.0\u003c/td\u003e\n      \u003ctd\u003eTrue\u003c/td\u003e\n      \u003ctd\u003eNaN\u003c/td\u003e\n      \u003ctd\u003eNaN\u003c/td\u003e\n      \u003ctd\u003eNaN\u003c/td\u003e\n      \u003ctd\u003eNaN\u003c/td\u003e\n      \u003ctd\u003eNaN\u003c/td\u003e\n      \u003ctd\u003eNaN\u003c/td\u003e\n      \u003ctd\u003e77302467.0\u003c/td\u003e\n      \u003ctd\u003eRenzo Excavating, LLC\u003c/td\u003e\n    \u003c/tr\u003e\n    \u003ctr\u003e\n      \u003cth\u003e1\u003c/th\u003e\n      \u003ctd\u003e9100004871322\u003c/td\u003e\n      \u003ctd\u003eHAWKINS PEST CONTROL\u003c/td\u003e\n      \u003ctd\u003eNaN\u003c/td\u003e\n      \u003ctd\u003e879581114.0\u003c/td\u003e\n      \u003ctd\u003eTrue\u003c/td\u003e\n      \u003ctd\u003eNaN\u003c/td\u003e\n      \u003ctd\u003eNaN\u003c/td\u003e\n      \u003ctd\u003eNaN\u003c/td\u003e\n      \u003ctd\u003eNaN\u003c/td\u003e\n      \u003ctd\u003eNaN\u003c/td\u003e\n      \u003ctd\u003eNaN\u003c/td\u003e\n      \u003ctd\u003e879581114.0\u003c/td\u003e\n      \u003ctd\u003eHawkins Pest Control Inc\u003c/td\u003e\n    \u003c/tr\u003e\n    \u003ctr\u003e\n      \u003cth\u003e2\u003c/th\u003e\n      \u003ctd\u003e9100006919713\u003c/td\u003e\n      \u003ctd\u003eHAWKINS PEST CONTROL INC\u003c/td\u003e\n      \u003ctd\u003eNaN\u003c/td\u003e\n      \u003ctd\u003e879581114.0\u003c/td\u003e\n      \u003ctd\u003eTrue\u003c/td\u003e\n      \u003ctd\u003eNaN\u003c/td\u003e\n      \u003ctd\u003eNaN\u003c/td\u003e\n      \u003ctd\u003eNaN\u003c/td\u003e\n      \u003ctd\u003eNaN\u003c/td\u003e\n      \u003ctd\u003eNaN\u003c/td\u003e\n      \u003ctd\u003eNaN\u003c/td\u003e\n      \u003ctd\u003e879581114.0\u003c/td\u003e\n      \u003ctd\u003eHawkins Pest Control Inc\u003c/td\u003e\n    \u003c/tr\u003e\n    \u003ctr\u003e\n      \u003cth\u003e3\u003c/th\u003e\n      \u003ctd\u003e9100010883313\u003c/td\u003e\n      \u003ctd\u003eWATERMARK LIVERMORE LLC\u003c/td\u003e\n      \u003ctd\u003eNaN\u003c/td\u003e\n      \u003ctd\u003e606673127.0\u003c/td\u003e\n      \u003ctd\u003eTrue\u003c/td\u003e\n      \u003ctd\u003e802885111.0\u003c/td\u003e\n      \u003ctd\u003eFountains Affiliated Companies, Inc.\u003c/td\u003e\n      \u003ctd\u003e802885111.0\u003c/td\u003e\n      \u003ctd\u003eFountains Affiliated Companies, Inc.\u003c/td\u003e\n      \u003ctd\u003e802885111.0\u003c/td\u003e\n      \u003ctd\u003eFountains Affiliated Companies, Inc.\u003c/td\u003e\n      \u003ctd\u003e606673127.0\u003c/td\u003e\n      \u003ctd\u003eWatermark Retirement Communities, Inc.\u003c/td\u003e\n    \u003c/tr\u003e\n    \u003ctr\u003e\n      \u003cth\u003e4\u003c/th\u003e\n      \u003ctd\u003e410008532954\u003c/td\u003e\n      \u003ctd\u003eFOUNTAINS LAKE POINTE WOODS SL\u003c/td\u003e\n      \u003ctd\u003eFOUNTAINS LAKE POINTE WOODS SL\u003c/td\u003e\n      \u003ctd\u003e606673127.0\u003c/td\u003e\n      \u003ctd\u003eFalse\u003c/td\u003e\n      \u003ctd\u003e802885111.0\u003c/td\u003e\n      \u003ctd\u003eFountains Affiliated Companies, Inc.\u003c/td\u003e\n      \u003ctd\u003e802885111.0\u003c/td\u003e\n      \u003ctd\u003eFountains Affiliated Companies, Inc.\u003c/td\u003e\n      \u003ctd\u003e802885111.0\u003c/td\u003e\n      \u003ctd\u003eFountains Affiliated Companies, Inc.\u003c/td\u003e\n      \u003ctd\u003e606673127.0\u003c/td\u003e\n      \u003ctd\u003eWatermark Retirement Communities, Inc.\u003c/td\u003e\n    \u003c/tr\u003e\n  \u003c/tbody\u003e\n\u003c/table\u003e\n\u003c/div\u003e"
          },
          "metadata": {}
        }
      ]
    },
    {
      "execution_count": 0,
      "cell_type": "code",
      "metadata": {},
      "source": [
        "import warnings\nwarnings.filterwarnings(action\u003d\u0027once\u0027)\n\ndf[\u0027DUNS\u0027] \u003d df[\u0027DUNS\u0027].astype(\u0027Int64\u0027, errors\u003d\u0027ignore\u0027)\ndf[\u0027DNB_DUNS_NUMBER\u0027] \u003d df[\u0027DNB_DUNS_NUMBER\u0027].astype(\u0027Int64\u0027, errors\u003d\u0027ignore\u0027)\ndf[\u0027DNB_BUSINESS_NAME\u0027] \u003d df[\u0027DNB_BUSINESS_NAME\u0027].str.upper()\ndf[\"DNB_BUSINESS_NAME\"] \u003d df[\u0027DNB_BUSINESS_NAME\u0027].str.replace(\u0027[^\\w\\s]\u0027,\u0027\u0027)\n\ndf[\u0027DNB_GLOBAL_ULT_NUMBER\u0027] \u003d df[\u0027DNB_GLOBAL_ULT_NUMBER\u0027].astype(\u0027Int64\u0027, errors\u003d\u0027ignore\u0027)\ndf[\u0027DNB_GLOBAL_ULT_NAME\u0027] \u003d df[\u0027DNB_GLOBAL_ULT_NAME\u0027].str.upper()\ndf[\"DNB_GLOBAL_ULT_NAME\"] \u003d df[\u0027DNB_GLOBAL_ULT_NAME\u0027].str.replace(\u0027[^\\w\\s]\u0027,\u0027\u0027)\n\ndf[\u0027DNB_DOMESTIC_ULT_NUMBER\u0027] \u003d df[\u0027DNB_DOMESTIC_ULT_NUMBER\u0027].astype(\u0027Int64\u0027, errors\u003d\u0027ignore\u0027)\ndf[\u0027DNB_DOMESTIC_ULTIMATE_NAME\u0027] \u003d df[\u0027DNB_DOMESTIC_ULTIMATE_NAME\u0027].str.upper()\ndf[\"DNB_DOMESTIC_ULTIMATE_NAME\"] \u003d df[\u0027DNB_DOMESTIC_ULTIMATE_NAME\u0027].str.replace(\u0027[^\\w\\s]\u0027,\u0027\u0027)\n\ndf[\u0027DNB_HQ_NUMBER\u0027] \u003d df[\u0027DNB_HQ_NUMBER\u0027].astype(\u0027Int64\u0027, errors\u003d\u0027ignore\u0027)\ndf[\u0027DNB_HQ_NAME\u0027] \u003d df[\u0027DNB_HQ_NAME\u0027].str.upper()\ndf[\"DNB_HQ_NAME\"] \u003d df[\u0027DNB_HQ_NAME\u0027].str.replace(\u0027[^\\w\\s]\u0027,\u0027\u0027)\n\ndf[\u0027DNB_LEVEL\u0027] \u003d \u0027None\u0027\ndf[\u0027DNB_CUSTOMER_NAME\u0027] \u003d np.nan\n\ndf.loc[~df[\"DNB_GLOBAL_ULT_NAME\"].isnull(),\u0027DNB_LEVEL\u0027] \u003d \"DUNS Global\"\ndf.loc[~df[\"DNB_GLOBAL_ULT_NAME\"].isnull(),\u0027DNB_CUSTOMER_NAME\u0027] \u003d df.DNB_GLOBAL_ULT_NAME\n\ndf.loc[(df[\"DNB_GLOBAL_ULT_NAME\"].isnull())\u0026(~df[\"DNB_DOMESTIC_ULTIMATE_NAME\"].isnull()),\u0027DNB_LEVEL\u0027] \u003d \"DUNS Domestic\"\ndf.loc[(df[\"DNB_GLOBAL_ULT_NAME\"].isnull())\u0026(~df[\"DNB_DOMESTIC_ULTIMATE_NAME\"].isnull()),\u0027DNB_CUSTOMER_NAME\u0027] \u003d df.DNB_DOMESTIC_ULTIMATE_NAME\n\ndf.loc[(df[\"DNB_DOMESTIC_ULTIMATE_NAME\"].isnull())\u0026(~df[\"DNB_HQ_NAME\"].isnull()),\u0027DNB_LEVEL\u0027] \u003d \"DUNS HQ\"\ndf.loc[(df[\"DNB_DOMESTIC_ULTIMATE_NAME\"].isnull())\u0026(~df[\"DNB_HQ_NAME\"].isnull()),\u0027DNB_CUSTOMER_NAME\u0027] \u003d df.DNB_HQ_NAME\n\ndf.loc[(df[\"DNB_HQ_NAME\"].isnull())\u0026(~df[\"DNB_BUSINESS_NAME\"].isnull()),\u0027DNB_LEVEL\u0027] \u003d \"DUNS\"\ndf.loc[(df[\"DNB_HQ_NAME\"].isnull())\u0026(~df[\"DNB_BUSINESS_NAME\"].isnull()),\u0027DNB_CUSTOMER_NAME\u0027] \u003d df.DNB_BUSINESS_NAME\n\ndf[\u0027CALC_SOURCE\u0027] \u003d \u0027Unknown\u0027\ndf[\u0027EDW_STATE\u0027] \u003d \u0027Unknown\u0027\ndf.loc[df[\"EDW_CUSTOMER_NAME\"].isnull(),\u0027EDW_STATE\u0027] \u003d \"None\"\ndf.loc[~df[\"EDW_CUSTOMER_NAME\"].isnull(),\u0027EDW_STATE\u0027] \u003d \"Set\"\ndf.loc[~df[\"EDW_CUSTOMER_NAME\"].isnull(),\u0027CALC_SOURCE\u0027] \u003d \"EDW\"\n\ndf[\u0027CUSTOMER\u0027] \u003d np.nan\ndf.loc[~df[\"EDW_CUSTOMER_NAME\"].isnull(),\u0027CUSTOMER\u0027] \u003d df[\"EDW_CUSTOMER_NAME\"]\ndf.loc[df[\"CUSTOMER\"].isnull(),\u0027CUSTOMER\u0027] \u003d df[\"DNB_CUSTOMER_NAME\"]\ndf.loc[df[\"CUSTOMER\"].isnull(),\u0027CUSTOMER\u0027] \u003d df[\"CUSTOMER_ACCOUNT_NAME\"]\n\ndf.CUSTOMER.value_counts(dropna\u003dFalse)"
      ],
      "outputs": []
    },
    {
      "execution_count": 0,
      "cell_type": "code",
      "metadata": {},
      "source": [
        "ACCOUNTS_WITH_CUSTOMER_FROM_EDW_AND_DUNS_df \u003d df\n\n# Write recipe outputs\nACCOUNTS_WITH_CUSTOMER_FROM_EDW_AND_DUNS \u003d dataiku.Dataset(\"ACCOUNTS_WITH_CUSTOMER_FROM_EDW_AND_DUNS\")\nACCOUNTS_WITH_CUSTOMER_FROM_EDW_AND_DUNS.write_with_schema(ACCOUNTS_WITH_CUSTOMER_FROM_EDW_AND_DUNS_df)"
      ],
      "outputs": []
    }
  ]
}