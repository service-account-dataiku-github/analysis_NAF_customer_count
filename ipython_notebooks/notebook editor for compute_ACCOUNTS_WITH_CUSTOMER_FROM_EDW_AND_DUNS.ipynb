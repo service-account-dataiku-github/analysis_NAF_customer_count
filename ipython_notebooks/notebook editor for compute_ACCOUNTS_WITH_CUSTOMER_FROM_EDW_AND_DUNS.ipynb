{
  "metadata": {
    "kernelspec": {
      "name": "py-dku-venv-env_clc",
      "display_name": "Python (env env_clc)",
      "language": "python"
    },
    "associatedRecipe": "compute_ACCOUNTS_WITH_CUSTOMER_FROM_EDW_AND_DUNS",
    "dkuGit": {
      "lastInteraction": 0
    },
    "creationTag": {
      "versionNumber": 0,
      "lastModifiedBy": {
        "login": "Daniel.Vandermeer"
      },
      "lastModifiedOn": 1664967231995
    },
    "creator": "Daniel.Vandermeer",
    "createdOn": 1664967231995,
    "tags": [
      "recipe-editor"
    ],
    "customFields": {},
    "hide_input": false,
    "language_info": {
      "name": "python",
      "version": "3.6.8",
      "mimetype": "text/x-python",
      "codemirror_mode": {
        "name": "ipython",
        "version": 3
      },
      "pygments_lexer": "ipython3",
      "nbconvert_exporter": "python",
      "file_extension": ".py"
    },
    "modifiedBy": "Daniel.Vandermeer"
  },
  "nbformat": 4,
  "nbformat_minor": 1,
  "cells": [
    {
      "execution_count": 1,
      "cell_type": "code",
      "metadata": {},
      "source": [
        "# -*- coding: utf-8 -*-\nimport dataiku\nimport pandas as pd, numpy as np\nfrom dataiku import pandasutils as pdu\nimport string\n\n#\u003d\u003d\u003d\u003d\u003d\u003d\u003d\u003d\u003d\u003d\u003d\u003d\u003d\u003d\u003d\n# Purpose: Calculate NAFleet Customer hierarchy from best known sources of account groupings + custom rules\n# sources: EDW, Ebx, RDW Conversions, Drawdown/Drawups + entity matching\n#\n# Oct-Dec 2022\n# Daniel VanderMeer,\n# email: daniel.vandermeer@wexinc.com\n#\u003d\u003d\u003d\u003d\u003d\u003d\u003d\u003d\u003d\u003d\u003d\u003d\u003d\u003d\n\n# Read recipe inputs\n\n#\u003d\u003d\u003d\u003d\u003d\u003d\u003d\u003d\u003d\u003d\u003d\u003d\u003d\u003d\u003d\n# Data Set: Accounts with Bundler and Duns\n# columns: CUSTOMER_ACCOUNT_ID, CUSTOMER_ACCOUNT_NAME, EDW_CUSTOMER_NAME, DUNS, IS_BUNDLER\n# Note Account bundlers are ~275 known instances where EDW customer names do not describe customer entities\n# in most cases these are either partner or program names\n# examples: CIRCLE K STORES PRIMARY, WEX FLEET UNIVERSAL PRIMARY\n# the IS_BUNDLER columns allows the algorithm to ignore these cases\n\nACCOUNTS_WITH_BUNDLER_AND_DUNS \u003d dataiku.Dataset(\"ACCOUNTS_WITH_BUNDLER_AND_DUNS\")\nACCOUNTS_WITH_BUNDLER_AND_DUNS_df \u003d ACCOUNTS_WITH_BUNDLER_AND_DUNS.get_dataframe()\n\n\n# MDM matches, shared by Wes Corbin during the week of Nov 17, 2022\n# key columns: ACCOUNTNUMBER, WEXBUSINESSID, NAME, DUNS\n# todo: once MDM to snowflake pipeline is available, update this flow to use it in place of the extract\nNAFCUSTOMER_MDM_ACCOUNT_WITH_BUSINESS_ID \u003d dataiku.Dataset(\"NAFCUSTOMER_MDM_ACCOUNT_WITH_BUSINESS_ID\")\nNAFCUSTOMER_MDM_ACCOUNT_WITH_BUSINESS_ID_df \u003d NAFCUSTOMER_MDM_ACCOUNT_WITH_BUSINESS_ID.get_dataframe()\n\n# Verified matches, identified by matching algorithm\n# matching algorithm combines draw downs and draw ups along with name entity matching\n# key columns: CUSTOMER, MATCH_CUSTOMER, DRAW_UP_DATE, distance\nMATCHES_VERIFIED \u003d dataiku.Dataset(\"VERIFIED_MATCHES\")\nMATCHES_VERIFIED_df \u003d MATCHES_VERIFIED.get_dataframe()\n\n# RDW Conversions\n# Conversion teams will track conversions in RDW\n# Here we use the source as a way to combine known conversions not yet handled by our matching algorithm or the MDM\nRDW_CONVERSIONS \u003d dataiku.Dataset(\"NAFCUSTOMER_RDW_CONVERSIONS\")\nRDW_CONVERSIONS_df \u003d RDW_CONVERSIONS.get_dataframe()\n\n# dataset that contains all New Sales 2019-2022 Current\n# this dataset comes from Alan Hougham which originates in SAP for purposes of Commissions Analytics\n# We don\u0027t use this dataset in the logic of the Customer Hierarchy\n# We add fields from it to our the detailed dataset (ACCOUNTS_WITH_CUSTOMER_FROM_EDW_AND_DUNS_df)\n# for the purposes of reconciliation:\n# All NEW customer accounts in 2019-2022 SHOULD be in this dataset\n# new accounts not in this dataset are likely existing accounts that have been converted to a new account\nACCOUNT_NEW_SALES_FULL \u003d dataiku.Dataset(\"ACCOUNT_NEW_SALES_FULL\")\nACCOUNT_NEW_SALES_FULL_df \u003d ACCOUNT_NEW_SALES_FULL.get_dataframe()"
      ],
      "outputs": [
        {
          "output_type": "stream",
          "text": "/data/dataiku/dss_data/code-envs/python/env_clc/lib/python3.6/site-packages/IPython/core/interactiveshell.py:3263: DtypeWarning: Columns (6,8,10,12) have mixed types.Specify dtype option on import or set low_memory\u003dFalse.\n  if (await self.run_code(code, result,  async_\u003dasy)):\n/data/dataiku/dss_data/code-envs/python/env_clc/lib/python3.6/site-packages/IPython/core/interactiveshell.py:3263: DtypeWarning: Columns (0) have mixed types.Specify dtype option on import or set low_memory\u003dFalse.\n  if (await self.run_code(code, result,  async_\u003dasy)):\n",
          "name": "stderr"
        }
      ]
    },
    {
      "execution_count": 3,
      "cell_type": "code",
      "metadata": {},
      "source": [
        "ACCOUNTS_WITH_BUNDLER_AND_DUNS_df[ACCOUNTS_WITH_BUNDLER_AND_DUNS_df.CUSTOMER_ACCOUNT_ID\u003d\u003d9100012593493].head()"
      ],
      "outputs": [
        {
          "output_type": "execute_result",
          "execution_count": 3,
          "data": {
            "text/plain": "        CUSTOMER_ACCOUNT_ID               CUSTOMER_ACCOUNT_NAME                   EDW_CUSTOMER_NAME        DUNS  IS_BUNDLER  DNB_GLOBAL_ULT_NUMBER DNB_GLOBAL_ULT_NAME  DNB_DOMESTIC_ULT_NUMBER DNB_DOMESTIC_ULTIMATE_NAME  DNB_HQ_NUMBER DNB_HQ_NAME  DNB_DUNS_NUMBER                     DNB_BUSINESS_NAME\n878626        9100012593493  PARKWOOD LANDSCAPE MAINTENANCE INC  PARKWOOD LANDSCAPE MAINTENANCE INC  78834413.0       False                    NaN                 NaN                      NaN                        NaN            NaN         NaN       78834413.0  Parkwood Landscape Maintenance, Inc.",
            "text/html": "\u003cdiv\u003e\n\u003cstyle scoped\u003e\n    .dataframe tbody tr th:only-of-type {\n        vertical-align: middle;\n    }\n\n    .dataframe tbody tr th {\n        vertical-align: top;\n    }\n\n    .dataframe thead th {\n        text-align: right;\n    }\n\u003c/style\u003e\n\u003ctable border\u003d\"1\" class\u003d\"dataframe\"\u003e\n  \u003cthead\u003e\n    \u003ctr style\u003d\"text-align: right;\"\u003e\n      \u003cth\u003e\u003c/th\u003e\n      \u003cth\u003eCUSTOMER_ACCOUNT_ID\u003c/th\u003e\n      \u003cth\u003eCUSTOMER_ACCOUNT_NAME\u003c/th\u003e\n      \u003cth\u003eEDW_CUSTOMER_NAME\u003c/th\u003e\n      \u003cth\u003eDUNS\u003c/th\u003e\n      \u003cth\u003eIS_BUNDLER\u003c/th\u003e\n      \u003cth\u003eDNB_GLOBAL_ULT_NUMBER\u003c/th\u003e\n      \u003cth\u003eDNB_GLOBAL_ULT_NAME\u003c/th\u003e\n      \u003cth\u003eDNB_DOMESTIC_ULT_NUMBER\u003c/th\u003e\n      \u003cth\u003eDNB_DOMESTIC_ULTIMATE_NAME\u003c/th\u003e\n      \u003cth\u003eDNB_HQ_NUMBER\u003c/th\u003e\n      \u003cth\u003eDNB_HQ_NAME\u003c/th\u003e\n      \u003cth\u003eDNB_DUNS_NUMBER\u003c/th\u003e\n      \u003cth\u003eDNB_BUSINESS_NAME\u003c/th\u003e\n    \u003c/tr\u003e\n  \u003c/thead\u003e\n  \u003ctbody\u003e\n    \u003ctr\u003e\n      \u003cth\u003e878626\u003c/th\u003e\n      \u003ctd\u003e9100012593493\u003c/td\u003e\n      \u003ctd\u003ePARKWOOD LANDSCAPE MAINTENANCE INC\u003c/td\u003e\n      \u003ctd\u003ePARKWOOD LANDSCAPE MAINTENANCE INC\u003c/td\u003e\n      \u003ctd\u003e78834413.0\u003c/td\u003e\n      \u003ctd\u003eFalse\u003c/td\u003e\n      \u003ctd\u003eNaN\u003c/td\u003e\n      \u003ctd\u003eNaN\u003c/td\u003e\n      \u003ctd\u003eNaN\u003c/td\u003e\n      \u003ctd\u003eNaN\u003c/td\u003e\n      \u003ctd\u003eNaN\u003c/td\u003e\n      \u003ctd\u003eNaN\u003c/td\u003e\n      \u003ctd\u003e78834413.0\u003c/td\u003e\n      \u003ctd\u003eParkwood Landscape Maintenance, Inc.\u003c/td\u003e\n    \u003c/tr\u003e\n  \u003c/tbody\u003e\n\u003c/table\u003e\n\u003c/div\u003e"
          },
          "metadata": {}
        }
      ]
    },
    {
      "execution_count": 4,
      "cell_type": "code",
      "metadata": {},
      "source": [
        "# Matches Verified come from an earlier step in the DataIku Flow\n# Accounts are matched on drawdowns, drawups and account name similarity\n# key columns: CUSTOMER, MATCH_CUSTOMER, DRAW_UP_DATE, distance\ndf_matches_verified \u003d MATCHES_VERIFIED_df\ndf_matches_verified[\"CUSTOMER\"] \u003d df_matches_verified[\u0027CUSTOMER\u0027].str.translate(str.maketrans(\u0027\u0027, \u0027\u0027, string.punctuation))\ndf_matches_verified[\"MATCH_CUSTOMER\"] \u003d df_matches_verified[\u0027MATCH_CUSTOMER\u0027].str.translate(str.maketrans(\u0027\u0027, \u0027\u0027, string.punctuation))\nprint(len(df_matches_verified))"
      ],
      "outputs": [
        {
          "output_type": "stream",
          "text": "831\n",
          "name": "stdout"
        }
      ]
    },
    {
      "execution_count": 5,
      "cell_type": "code",
      "metadata": {},
      "source": [
        "import warnings\nwarnings.filterwarnings(action\u003d\u0027once\u0027)\n\ndf \u003d ACCOUNTS_WITH_BUNDLER_AND_DUNS_df.copy()\nprint(len(df))\n\n#\u003d\u003d\u003d\u003d\u003d\u003d\u003d\u003d\u003d\u003d\u003d\u003d\u003d\u003d\u003d\u003d\u003d\u003d\u003d\u003d\u003d\n# Source: DNB\n# DNB levels available (high to low): DNB_GLOBAL_ULT_NAME, DNB_DOMESTIC_ULTIMATE_NAME, DNB_HQ_NAME, DNB_BUSINESS_NAME\n# DNB CUSTOMER is the highest available DUNS level customer\n# DNB LEVEL keeps track of the DUNS level used\n# default DNB CUSTOMER and DNB LEVEL to Null and None\n\n# prep DNB DUNS level columns, cast to upper case, remove punctuation\ndf[\u0027DUNS\u0027] \u003d df[\u0027DUNS\u0027].astype(\u0027Int64\u0027, errors\u003d\u0027ignore\u0027)\ndf[\u0027DNB_DUNS_NUMBER\u0027] \u003d df[\u0027DNB_DUNS_NUMBER\u0027].astype(\u0027Int64\u0027, errors\u003d\u0027ignore\u0027)\ndf[\u0027DNB_BUSINESS_NAME\u0027] \u003d df[\u0027DNB_BUSINESS_NAME\u0027].str.upper()\ndf[\"DNB_BUSINESS_NAME\"] \u003d df[\u0027DNB_BUSINESS_NAME\u0027].str.translate(str.maketrans(\u0027\u0027, \u0027\u0027, string.punctuation))\n\n# prep DNB DUNS Global Ultimate columns, cast to upper case, remove punctuation\ndf[\u0027DNB_GLOBAL_ULT_NUMBER\u0027] \u003d df[\u0027DNB_GLOBAL_ULT_NUMBER\u0027].astype(\u0027Int64\u0027, errors\u003d\u0027ignore\u0027)\ndf[\u0027DNB_GLOBAL_ULT_NAME\u0027] \u003d df[\u0027DNB_GLOBAL_ULT_NAME\u0027].str.upper()\ndf[\"DNB_GLOBAL_ULT_NAME\"] \u003d df[\u0027DNB_GLOBAL_ULT_NAME\u0027].str.translate(str.maketrans(\u0027\u0027, \u0027\u0027, string.punctuation))\n\n# prep DNB DOMESTIC Ultimate columns, cast to upper case, remove punctuation\ndf[\u0027DNB_DOMESTIC_ULT_NUMBER\u0027] \u003d df[\u0027DNB_DOMESTIC_ULT_NUMBER\u0027].astype(\u0027Int64\u0027, errors\u003d\u0027ignore\u0027)\ndf[\u0027DNB_DOMESTIC_ULTIMATE_NAME\u0027] \u003d df[\u0027DNB_DOMESTIC_ULTIMATE_NAME\u0027].str.upper()\ndf[\"DNB_DOMESTIC_ULTIMATE_NAME\"] \u003d df[\u0027DNB_DOMESTIC_ULTIMATE_NAME\u0027].str.translate(str.maketrans(\u0027\u0027, \u0027\u0027, string.punctuation))\n\n# prep DNB HQ columns, case to upper case, remove punctuation\ndf[\u0027DNB_HQ_NUMBER\u0027] \u003d df[\u0027DNB_HQ_NUMBER\u0027].astype(\u0027Int64\u0027, errors\u003d\u0027ignore\u0027)\ndf[\u0027DNB_HQ_NAME\u0027] \u003d df[\u0027DNB_HQ_NAME\u0027].str.upper()\ndf[\"DNB_HQ_NAME\"] \u003d df[\u0027DNB_HQ_NAME\u0027].str.translate(str.maketrans(\u0027\u0027, \u0027\u0027, string.punctuation))\n\ndf[\u0027DNB_CUSTOMER_NAME\u0027] \u003d np.nan\ndf[\u0027DNB_LEVEL\u0027] \u003d \u0027None\u0027\n\n# SET DNB_CUSTOMER_NAME and DNB_LEVEL to the highest non-null level available\ndf.loc[~df[\"DNB_GLOBAL_ULT_NAME\"].isnull(),\u0027DNB_LEVEL\u0027] \u003d \"DUNS Global\"\ndf.loc[~df[\"DNB_GLOBAL_ULT_NAME\"].isnull(),\u0027DNB_CUSTOMER_NAME\u0027] \u003d df.DNB_GLOBAL_ULT_NAME\n\ndf.loc[(df[\"DNB_GLOBAL_ULT_NAME\"].isnull())\u0026(~df[\"DNB_DOMESTIC_ULTIMATE_NAME\"].isnull()),\u0027DNB_LEVEL\u0027] \u003d \"DUNS Domestic\"\ndf.loc[(df[\"DNB_GLOBAL_ULT_NAME\"].isnull())\u0026(~df[\"DNB_DOMESTIC_ULTIMATE_NAME\"].isnull()),\u0027DNB_CUSTOMER_NAME\u0027] \u003d df.DNB_DOMESTIC_ULTIMATE_NAME\n\ndf.loc[(df[\"DNB_DOMESTIC_ULTIMATE_NAME\"].isnull())\u0026(~df[\"DNB_HQ_NAME\"].isnull()),\u0027DNB_LEVEL\u0027] \u003d \"DUNS HQ\"\ndf.loc[(df[\"DNB_DOMESTIC_ULTIMATE_NAME\"].isnull())\u0026(~df[\"DNB_HQ_NAME\"].isnull()),\u0027DNB_CUSTOMER_NAME\u0027] \u003d df.DNB_HQ_NAME\n\ndf.loc[(df[\"DNB_HQ_NAME\"].isnull())\u0026(~df[\"DNB_BUSINESS_NAME\"].isnull()),\u0027DNB_LEVEL\u0027] \u003d \"DUNS\"\ndf.loc[(df[\"DNB_HQ_NAME\"].isnull())\u0026(~df[\"DNB_BUSINESS_NAME\"].isnull()),\u0027DNB_CUSTOMER_NAME\u0027] \u003d df.DNB_BUSINESS_NAME\n\n#\u003d\u003d\u003d\u003d\u003d\u003d\u003d\u003d\u003d\u003d\u003d\u003d\u003d\u003d\u003d\u003d\u003d\u003d\u003d\u003d\u003d\u003d\u003d\n# Source: EDW\n\n# default to None and Unknown\ndf[\u0027EDW_STATE\u0027] \u003d \u0027Unknown\u0027\ndf.loc[df[\"EDW_CUSTOMER_NAME\"].isnull(),\u0027EDW_STATE\u0027] \u003d \"None\"\ndf.loc[~df[\"EDW_CUSTOMER_NAME\"].isnull(),\u0027EDW_STATE\u0027] \u003d \"Set\"\n\n# Retain the original untreated EDW Customer Name as well as the original account name\ndf[\u0027EDW_CUSTOMER_NAME_ORIGINAL\u0027] \u003d df[\u0027EDW_CUSTOMER_NAME\u0027]\ndf[\u0027CUSTOMER_ACCOUNT_NAME_ORIGINAL\u0027] \u003d df[\u0027CUSTOMER_ACCOUNT_NAME\u0027]\n\nending_tokens \u003d [\u0027 2\u0027, \u0027 3\u0027, \u0027 4\u0027, \u0027 04\u0027, \u0027 5\u0027, \u0027 6\u0027, \u0027 7\u0027, \u0027 8\u0027, \u0027 9\u0027,\u0027 (2)\u0027,\n                 \u0027 (3)\u0027,\u0027 (04)\u0027,\u0027 (4)\u0027, \u0027 (5)\u0027, \u0027 (6)\u0027, \u0027 (7)\u0027, \u0027 (8)\u0027,\n                 \u0027 (9)\u0027,\u0027 (25)\u0027,\u0027  (32)\u0027, \u0027 AD\u0027, \u0027 LD\u0027]\n\n# remove tokens used to differentiate between customer names across conversions\ndf[\u0027EDW_CUSTOMER_NAME\u0027].str.strip()\n\nfor s in ending_tokens:\n    index_offset \u003d -1*(len(s))\n    df.loc[df[\u0027EDW_CUSTOMER_NAME\u0027].str.endswith(s, na\u003dFalse),\"EDW_CUSTOMER_NAME\"] \u003d df[\u0027EDW_CUSTOMER_NAME\u0027].str[:index_offset]\n\n# do the same for account names\ndf[\u0027CUSTOMER_ACCOUNT_NAME\u0027].str.strip()\nfor s in ending_tokens:\n    index_offset \u003d -1*(len(s))\n    df.loc[df[\u0027CUSTOMER_ACCOUNT_NAME\u0027].str.endswith(s, na\u003dFalse),\"CUSTOMER_ACCOUNT_NAME\"] \u003d df[\u0027CUSTOMER_ACCOUNT_NAME\u0027].str[:index_offset]\n\n#\u003d\u003d\u003d\u003d\u003d\u003d\u003d\u003d\u003d\u003d\u003d\u003d\u003d\u003d\u003d\u003d\u003d\u003d\u003d\u003d\u003d\u003d\u003d\n\n# SET PRIORITIES OF SOURCES\n# Priority 1: EDW Customer\n# Priority 2: DNB Customer\n# Priority 3: ACCOUNT Name\n\ndf[\u0027CUSTOMER\u0027] \u003d np.nan\ndf[\u0027CUST_CALC_SOURCE\u0027] \u003d \u0027Unknown\u0027\ndf[\u0027CUST_CALC_RULE\u0027] \u003d \u0027None\u0027\n# If we have an EDW Customer Name use it and set the Cust Calc Source to EDW\ndf.loc[~df[\"EDW_CUSTOMER_NAME\"].isnull(),\u0027CUSTOMER\u0027] \u003d df[\"EDW_CUSTOMER_NAME\"]\ndf.loc[~df[\"EDW_CUSTOMER_NAME\"].isnull(),\u0027CUST_CALC_SOURCE\u0027] \u003d \"EDW\"\n\n# Otherwise, if we have an DnB Customer Name use it and set the Cust Calc Source to DNB\ndf.loc[(df[\"CUSTOMER\"].isnull())\u0026(~df[\"DNB_CUSTOMER_NAME\"].isnull()),\u0027CUST_CALC_SOURCE\u0027] \u003d \"DNB\"\ndf.loc[df[\"CUSTOMER\"].isnull(),\u0027CUSTOMER\u0027] \u003d df[\"DNB_CUSTOMER_NAME\"]\n\n# Otherwise, use the Account Name\ndf.loc[df[\"CUSTOMER\"].isnull(),\u0027CUST_CALC_SOURCE\u0027] \u003d \u0027ACCOUNT\u0027\ndf.loc[df[\"CUSTOMER\"].isnull(),\u0027CUSTOMER\u0027] \u003d df[\"CUSTOMER_ACCOUNT_NAME\"]\n\n# reset the original EDW and Account Names\n# this is done for QA purposes\n# retaining the ability to see what the EDW Customer name as well as the account name look like in EDW\ndf[\u0027EDW_CUSTOMER_NAME\u0027] \u003d df[\u0027EDW_CUSTOMER_NAME_ORIGINAL\u0027]\ndf[\u0027CUSTOMER_ACCOUNT_NAME\u0027] \u003d df[\u0027CUSTOMER_ACCOUNT_NAME_ORIGINAL\u0027]\n\ndel(df[\u0027EDW_CUSTOMER_NAME_ORIGINAL\u0027])\ndel(df[\u0027CUSTOMER_ACCOUNT_NAME_ORIGINAL\u0027])"
      ],
      "outputs": [
        {
          "output_type": "stream",
          "text": "924007\n",
          "name": "stdout"
        }
      ]
    },
    {
      "execution_count": 7,
      "cell_type": "code",
      "metadata": {},
      "source": [
        "df[df.CUSTOMER_ACCOUNT_ID\u003d\u003d9100012593493].head()"
      ],
      "outputs": [
        {
          "output_type": "execute_result",
          "execution_count": 7,
          "data": {
            "text/plain": "        CUSTOMER_ACCOUNT_ID               CUSTOMER_ACCOUNT_NAME                   EDW_CUSTOMER_NAME      DUNS  IS_BUNDLER  DNB_GLOBAL_ULT_NUMBER DNB_GLOBAL_ULT_NAME  DNB_DOMESTIC_ULT_NUMBER DNB_DOMESTIC_ULTIMATE_NAME  DNB_HQ_NUMBER DNB_HQ_NAME  DNB_DUNS_NUMBER                   DNB_BUSINESS_NAME                   DNB_CUSTOMER_NAME DNB_LEVEL EDW_STATE                            CUSTOMER CUST_CALC_SOURCE CUST_CALC_RULE\n878626        9100012593493  PARKWOOD LANDSCAPE MAINTENANCE INC  PARKWOOD LANDSCAPE MAINTENANCE INC  78834413       False                   \u003cNA\u003e                 NaN                     \u003cNA\u003e                        NaN           \u003cNA\u003e         NaN         78834413  PARKWOOD LANDSCAPE MAINTENANCE INC  PARKWOOD LANDSCAPE MAINTENANCE INC      DUNS       Set  PARKWOOD LANDSCAPE MAINTENANCE INC              EDW           None",
            "text/html": "\u003cdiv\u003e\n\u003cstyle scoped\u003e\n    .dataframe tbody tr th:only-of-type {\n        vertical-align: middle;\n    }\n\n    .dataframe tbody tr th {\n        vertical-align: top;\n    }\n\n    .dataframe thead th {\n        text-align: right;\n    }\n\u003c/style\u003e\n\u003ctable border\u003d\"1\" class\u003d\"dataframe\"\u003e\n  \u003cthead\u003e\n    \u003ctr style\u003d\"text-align: right;\"\u003e\n      \u003cth\u003e\u003c/th\u003e\n      \u003cth\u003eCUSTOMER_ACCOUNT_ID\u003c/th\u003e\n      \u003cth\u003eCUSTOMER_ACCOUNT_NAME\u003c/th\u003e\n      \u003cth\u003eEDW_CUSTOMER_NAME\u003c/th\u003e\n      \u003cth\u003eDUNS\u003c/th\u003e\n      \u003cth\u003eIS_BUNDLER\u003c/th\u003e\n      \u003cth\u003eDNB_GLOBAL_ULT_NUMBER\u003c/th\u003e\n      \u003cth\u003eDNB_GLOBAL_ULT_NAME\u003c/th\u003e\n      \u003cth\u003eDNB_DOMESTIC_ULT_NUMBER\u003c/th\u003e\n      \u003cth\u003eDNB_DOMESTIC_ULTIMATE_NAME\u003c/th\u003e\n      \u003cth\u003eDNB_HQ_NUMBER\u003c/th\u003e\n      \u003cth\u003eDNB_HQ_NAME\u003c/th\u003e\n      \u003cth\u003eDNB_DUNS_NUMBER\u003c/th\u003e\n      \u003cth\u003eDNB_BUSINESS_NAME\u003c/th\u003e\n      \u003cth\u003eDNB_CUSTOMER_NAME\u003c/th\u003e\n      \u003cth\u003eDNB_LEVEL\u003c/th\u003e\n      \u003cth\u003eEDW_STATE\u003c/th\u003e\n      \u003cth\u003eCUSTOMER\u003c/th\u003e\n      \u003cth\u003eCUST_CALC_SOURCE\u003c/th\u003e\n      \u003cth\u003eCUST_CALC_RULE\u003c/th\u003e\n    \u003c/tr\u003e\n  \u003c/thead\u003e\n  \u003ctbody\u003e\n    \u003ctr\u003e\n      \u003cth\u003e878626\u003c/th\u003e\n      \u003ctd\u003e9100012593493\u003c/td\u003e\n      \u003ctd\u003ePARKWOOD LANDSCAPE MAINTENANCE INC\u003c/td\u003e\n      \u003ctd\u003ePARKWOOD LANDSCAPE MAINTENANCE INC\u003c/td\u003e\n      \u003ctd\u003e78834413\u003c/td\u003e\n      \u003ctd\u003eFalse\u003c/td\u003e\n      \u003ctd\u003e\u0026lt;NA\u0026gt;\u003c/td\u003e\n      \u003ctd\u003eNaN\u003c/td\u003e\n      \u003ctd\u003e\u0026lt;NA\u0026gt;\u003c/td\u003e\n      \u003ctd\u003eNaN\u003c/td\u003e\n      \u003ctd\u003e\u0026lt;NA\u0026gt;\u003c/td\u003e\n      \u003ctd\u003eNaN\u003c/td\u003e\n      \u003ctd\u003e78834413\u003c/td\u003e\n      \u003ctd\u003ePARKWOOD LANDSCAPE MAINTENANCE INC\u003c/td\u003e\n      \u003ctd\u003ePARKWOOD LANDSCAPE MAINTENANCE INC\u003c/td\u003e\n      \u003ctd\u003eDUNS\u003c/td\u003e\n      \u003ctd\u003eSet\u003c/td\u003e\n      \u003ctd\u003ePARKWOOD LANDSCAPE MAINTENANCE INC\u003c/td\u003e\n      \u003ctd\u003eEDW\u003c/td\u003e\n      \u003ctd\u003eNone\u003c/td\u003e\n    \u003c/tr\u003e\n  \u003c/tbody\u003e\n\u003c/table\u003e\n\u003c/div\u003e"
          },
          "metadata": {}
        }
      ]
    },
    {
      "execution_count": 0,
      "cell_type": "code",
      "metadata": {},
      "source": [
        "print(len(df), \"account rows\")\nprint(len(df.CUSTOMER.unique()), \"customer rows\")\ndf.CUST_CALC_SOURCE.value_counts()"
      ],
      "outputs": []
    },
    {
      "execution_count": 0,
      "cell_type": "code",
      "metadata": {},
      "source": [
        "#\u003d\u003d\u003d\u003d\u003d\u003d\u003d\u003d\u003d\u003d\u003d\u003d\u003d\u003d\u003d\u003d\u003d\u003d\u003d\u003d\u003d\u003d\u003d\n# Apply Custom Rules\n# These Rules are modelled after the legacy customer relationship report\n# these rules only affect about 4,000 accounts primarily very large customers (in terms of cards/gallons/spend/revenue)\n\n# RULE SETs\ndef apply_rule_with_list(df, filter_name_list,final_name):\n\n    # rule: all customers with names present in filter_name_list are replaced with final_name\n\n    df.loc[df[\u0027CUSTOMER\u0027].isin(filter_name_list),\"CUST_CALC_SOURCE\"] \u003d \"CUSTOM RULE\"\n    df.loc[df[\u0027CUSTOMER\u0027].isin(filter_name_list),\"CUSTOMER\"] \u003d final_name\n\n    return(df)\n\ndef apply_rule_starts_with(df, compares_to, starts_with_string,final_name):\n\n    # rule: all customers with rows that have compares_to field value that starts with starts_with_string\n    # are replaced with final_name\n    # compares_to field uses include \u0027CUSTOMER\u0027 or \u0027DNB_CUSTOMER_NAME\u0027, but can be extended to other fields as well\n\n    df.loc[df[compares_to].str.startswith(starts_with_string, na\u003dFalse),\"CUST_CALC_SOURCE\"] \u003d \"CUSTOM RULE\"\n    df.loc[df[compares_to].str.startswith(starts_with_string, na\u003dFalse),\"CUSTOMER\"] \u003d final_name\n\n    return(df)\n\ndef apply_rule_contains(df, compares_to, contains_string,final_name):\n\n    # rule: all rows with compares_to field value that contains contains_string are replaced with\n    # this rule is currently no longer used below, but left here for potential future use\n\n    df.loc[df[compares_to].str.contains(contains_string, na\u003dFalse),\"CUST_CALC_SOURCE\"] \u003d \"CUSTOM RULE\"\n    df.loc[df[compares_to].str.contains(contains_string, na\u003dFalse),\"CUSTOMER\"] \u003d final_name\n\n    return(df)\n\ndf \u003d apply_rule_with_list(df, [\u0027QUANTA SERVICES INC\u0027,\u0027QUANTA SERVICES\u0027], \u0027QUANTA SERVICES INC\u0027)\ndf \u003d apply_rule_with_list(df, [\u00277325 ADVANCE STORES COMPANY 4\u0027,\u00277325 ADVANCE AUTO\u0027,\u00277325 ADVANCE STORES COMP\u0027,\u00277325 ADVANCE STORES COMP 2\u0027], \u0027ADVANCE AUTO\u0027)\ndf \u003d apply_rule_with_list(df, [\u002717435-GE HEALTHCARE (3)\u0027,\u002717435 GE HEALTHCARE\u0027,\u002717435-GE HEALTHCARE\u0027,\u002717435-GE HEALTHCARE (2)\u0027], \u002717435-GE HEALTHCARE\u0027)\ndf \u003d apply_rule_with_list(df, [\u0027ADAPTHEALTH CORP\u0027,\u0027ADAPTHEALTH LLC\u0027], \u0027ADAPTHEALTH\u0027)\ndf \u003d apply_rule_with_list(df, [\u0027AGL RESOURCES 5CU6\u0027,\u0027AGL RESOURCES ARI\u0027], \u0027AGL RESOURCES\u0027)\ndf \u003d apply_rule_with_list(df, [\u0027APTIVE ENVIRONMENTAL LLC\u0027,\u0027ADAPTIVE ENVIRONMENTAL CONSULTING INC\u0027,\u0027APTIVE ENVIRONMENTAL LLC\u0027,\u0027APTIVE ENVIRONMENTAL 0CV7\u0027], \u0027APTIVE ENVIRONMENTAL\u0027)\ndf \u003d apply_rule_with_list(df, [\u0027 MMCCARTHY TIRE\u0027,\u0027MCCARTHY TIRE\u0027], \u0027MCCARTHY TIRE\u0027)\ndf \u003d apply_rule_with_list(df, [\u0027FOSS NATIONAL/CORP-RATEFOSS NATIONAL LEASING (2)\u0027,\u0027FOSS NATIONAL LEASING (2)\u0027], \u0027FOSS NATIONAL LEASING\u0027)\ndf \u003d apply_rule_with_list(df, [\u0027JOHNSONJOHNSON\u0027,\u0027JOHNSON JOHNSON CITRUS\u0027], \u0027JOHNSON JOHNSON\u0027)\ndf \u003d apply_rule_with_list(df, [\u0027HELMERICH AND PAYNE INC PARENT\u0027,\u0027HELMERICH  PAYNE ID 5FM8\u0027], \u0027HELMERICH AND PAYNE INC\u0027)\ndf \u003d apply_rule_with_list(df, [\u0027LABCORP\u0027,\u0027LABCORP (3LAB)\u0027,\u0027LABCORP (3LAB)(2)\u0027,\u0027LABORATORY CORPORATION OF AMERICA\u0027], \u0027LABORATORY CORPORATION OF AMERICA\u0027)\ndf \u003d apply_rule_with_list(df, [\u0027LEHIGH HANSON (3LHN)\u0027,\u0027LEHIGH HANSON (3LHN)(2)\u0027,\u00273995 LEHIGH HANSON INC\u0027,\u0027116710-LEHIGH HANSON, INC (2)\u0027,\n                                 \u0027116710-LEHIGH HANSON, INC (3)\u0027,\u0027116710-LEHIGH HANSON, INC (4)\u0027,\u0027116710-LEHIGH HANSON, INC (6)\u0027,\n                                 \"E450 LEHIGH HANSON MATERIALS L\",\u0027LEHIGH HANSON INC3LHC\u0027], \u0027LEHIGH HANSON INC\u0027)\ndf \u003d apply_rule_with_list(df, [\u0027NOVONORDISK\u0027,\u0027NOVO NORDISK\u0027,\u0027NOVO NORDISK INC\u0027,\u0027NOVO NORDISK FONDEN\u0027], \u0027NOVO NORDISK INC\u0027)\ndf \u003d apply_rule_with_list(df, [\u0027US LBM (5EE8)\u0027,\u0027US LBM (5EE8)(2)\u0027,\u0027US LBM HOLDINGS, LLC (5EE8)\u0027,\u0027LAMPERT YARDS US LBM LLC\u0027,\u0027US LBM HOLDINGS LLC 5EE8\u0027], \u0027US LBM HOLDINGS LLC\u0027)\ndf \u003d apply_rule_with_list(df, [\u0027VEOLIA WATER LOGISTICS (2R63)\u0027,\u0027VEOLIA LOGISTICS 2R63\u0027], \u0027VEOLIA LOGISTICS\u0027)\n\ndf \u003d apply_rule_starts_with(df, \u0027CUSTOMER\u0027,\"AT  T\" , \"AT\u0026T\")\ndf \u003d apply_rule_starts_with(df, \u0027CUSTOMER\u0027,\"FEDEX\" , \"FEDEX\")\ndf \u003d apply_rule_starts_with(df, \u0027CUSTOMER\u0027,\u0027ARAMARK\u0027, \u0027ARAMARK\u0027)\ndf \u003d apply_rule_starts_with(df, \u0027CUSTOMER\u0027,\u0027CABLE ONE\u0027, \u0027CABLE ONE INC\u0027)\ndf \u003d apply_rule_starts_with(df, \u0027CUSTOMER\u0027,\u0027CBRE\u0027, \u0027CBRE GROUP INC\u0027)\ndf \u003d apply_rule_starts_with(df, \u0027CUSTOMER\u0027,\u0027COMCAST CABLE\u0027, \u0027COMCAST CABLE\u0027)\ndf \u003d apply_rule_starts_with(df, \u0027CUSTOMER\u0027,\u0027COMPASS GROUP\u0027, \u0027COMPASS GROUP\u0027)\ndf \u003d apply_rule_starts_with(df, \u0027CUSTOMER\u0027,\u0027CONOCOPHILLIPS\u0027, \u0027CONOCOPHILLIPS\u0027)\ndf \u003d apply_rule_starts_with(df, \u0027CUSTOMER\u0027,\u0027CSC SERVICEWORKS\u0027, \u0027CSC SERVICEWORKS\u0027)\ndf \u003d apply_rule_starts_with(df, \u0027CUSTOMER\u0027,\u0027CROWN CASTLE USA\u0027, \u0027CROWN CASTLE USA\u0027)\ndf \u003d apply_rule_starts_with(df, \u0027CUSTOMER\u0027,\u0027E JOHNSON CONTROLS\u0027, \u0027E JOHNSON CONTROLS FIRE \u0026 SEC\u0027)\ndf \u003d apply_rule_starts_with(df, \u0027CUSTOMER\u0027,\u0027FASTENAL\u0027, \u0027FASTENAL COMPANY\u0027)\ndf \u003d apply_rule_starts_with(df, \u0027CUSTOMER\u0027,\u0027GENERAL MILLS\u0027, \u0027GENERAL MILLS\u0027)\ndf \u003d apply_rule_starts_with(df, \u0027CUSTOMER\u0027,\u0027J R SIMPLOT\u0027, \u0027J R SIMPLOT\u0027)\ndf \u003d apply_rule_starts_with(df, \u0027CUSTOMER\u0027,\u0027JC EHRLICH\u0027, \u0027JC EHRLICH\u0027)\ndf \u003d apply_rule_starts_with(df, \u0027CUSTOMER\u0027,\u0027KINDER MORGAN\u0027, \u0027KINDER MORGAN\u0027)\ndf \u003d apply_rule_starts_with(df, \u0027CUSTOMER\u0027,\u0027LIBERTY MUTUAL\u0027, \u0027LIBERTY MUTUAL\u0027)\ndf \u003d apply_rule_starts_with(df, \u0027CUSTOMER\u0027,\u0027IGT GLOBAL\u0027, \u0027IGT GLOBAL\u0027)\ndf \u003d apply_rule_starts_with(df, \u0027CUSTOMER\u0027,\u0027MARATHON PETROLEUM\u0027, \u0027MARATHON PETROLEUM\u0027)\ndf \u003d apply_rule_starts_with(df, \u0027CUSTOMER\u0027,\u0027MONDELEZ GLOBAL\u0027, \u0027MONDELEZ GLOBAL\u0027)\ndf \u003d apply_rule_starts_with(df, \u0027CUSTOMER\u0027,\u0027NATIONAL FUEL\u0027, \u0027NATIONAL FUEL\u0027)\ndf \u003d apply_rule_starts_with(df, \u0027CUSTOMER\u0027,\u0027NEXSTAR BROADCASTING\u0027, \u0027NEXSTAR BROADCASTING\u0027)\ndf \u003d apply_rule_starts_with(df, \u0027CUSTOMER\u0027,\u0027NORFOLK SOUTHERN\u0027, \u0027NORFOLK SOUTHERN\u0027)\ndf \u003d apply_rule_starts_with(df, \u0027CUSTOMER\u0027,\u0027NORTHERN CLEARING\u0027, \u0027NORTHERN CLEARING\u0027)\ndf \u003d apply_rule_starts_with(df, \u0027CUSTOMER\u0027,\u0027PHILLIPS 66 COMPANY\u0027, \u0027PHILLIPS 66 COMPANY\u0027)\ndf \u003d apply_rule_starts_with(df, \u0027CUSTOMER\u0027,\u0027SCHINDLER ELEVATOR\u0027, \u0027SCHINDLER ELEVATOR\u0027)\ndf \u003d apply_rule_starts_with(df, \u0027CUSTOMER\u0027,\u0027STONEMOR\u0027, \u0027STONEMOR\u0027)\ndf \u003d apply_rule_starts_with(df, \u0027CUSTOMER\u0027,\u0027SYNGENTA\u0027, \u0027SYNGENTA\u0027)\ndf \u003d apply_rule_starts_with(df, \u0027CUSTOMER\u0027,\u0027TRANSDEV\u0027, \u0027TRANSDEV\u0027)\ndf \u003d apply_rule_starts_with(df, \u0027CUSTOMER\u0027,\u0027UNITED RENTALS\u0027, \u0027UNITED RENTALS INC\u0027)\ndf \u003d apply_rule_starts_with(df, \u0027CUSTOMER\u0027,\u0027VAN POOL TRANSPORTATION\u0027, \u0027VAN POOL TRANSPORTATION\u0027)\ndf \u003d apply_rule_starts_with(df, \u0027CUSTOMER\u0027,\u0027WILLIAMS STRATEGIC\u0027, \u0027WILLIAMS STRATEGIC\u0027)\ndf \u003d apply_rule_starts_with(df, \u0027CUSTOMER\u0027,\u0027XTO ENERGY\u0027, \u0027XTO ENERGY\u0027)\ndf \u003d apply_rule_starts_with(df, \u0027CUSTOMER\u0027,\"BIMBO\" , \"BIMBO BAKERIES USA INC\")\n\ndf \u003d apply_rule_starts_with(df, \u0027CUSTOMER\u0027,\"MANSFIELD OIL\" , \"MANSFIELD OIL\")\ndf \u003d apply_rule_starts_with(df, \u0027CUSTOMER\u0027,\"ASPLUNDH\" , \"ASPLUNDH\")\ndf \u003d apply_rule_starts_with(df, \u0027CUSTOMER\u0027,\"CINTAS CORPORATION\" , \"CINTAS CORPORATION\")\ndf \u003d apply_rule_starts_with(df, \u0027CUSTOMER\u0027,\"ENTERPRISE RAC\" , \"ENTERPRISE RAC\")\ndf \u003d apply_rule_starts_with(df, \u0027CUSTOMER\u0027,\"THE CRAWFORD GROUP INC\" , \"ENTERPRISE RAC\")\ndf \u003d apply_rule_starts_with(df, \u0027DNB_CUSTOMER_NAME\u0027,\"STATE OF NEW YORK\" , \"STATE OF NEW YORK\")\ndf \u003d apply_rule_starts_with(df, \u0027DNB_CUSTOMER_NAME\u0027,\"STATE OF GEORGIA\" , \"STATE OF GEORGIA\")\ndf \u003d apply_rule_starts_with(df, \u0027DNB_CUSTOMER_NAME\u0027,\"VERIZON COMMUNICATIONS INC\" , \"VERIZON SOURCING LLC\")\ndf \u003d apply_rule_starts_with(df, \u0027DNB_CUSTOMER_NAME\u0027,\"STATE OF NORTH CAROLINA\" , \"STATE OF NORTH CAROLINA\")\ndf \u003d apply_rule_starts_with(df, \u0027CUSTOMER\u0027,\"DYCOM INDUSTRIES\" , \"DYCOM INDUSTRIES\")\ndf \u003d apply_rule_starts_with(df, \u0027CUSTOMER\u0027,\"TERMINIX\" , \"TERMINIX CONSUMER SERVICES LLC\")\ndf \u003d apply_rule_starts_with(df, \u0027CUSTOMER\u0027,\"WAYNE MUTUAL INSURANCE CO\" , \"WAYNE MUTUAL INSURANCE CO\")\n\ndf \u003d apply_rule_starts_with(df, \u0027CUSTOMER\u0027,\"ART WATT PAINTING\" , \"ART WATT PAINTING\")\ndf \u003d apply_rule_starts_with(df, \u0027CUSTOMER\u0027,\"BUENA VISTA SECURITY AND PROTE\" , \"BUENA VISTA SECURITY AND PROTE\")\ndf \u003d apply_rule_starts_with(df, \u0027CUSTOMER\u0027,\"GREAT STONE GRANITE\" , \"GREAT STONE GRANITE\")\ndf \u003d apply_rule_starts_with(df, \u0027CUSTOMER\u0027,\"SCHULTHEIS BROS CO\" , \"SCHULTHEIS BROS CO\")\ndf \u003d apply_rule_starts_with(df, \u0027CUSTOMER\u0027,\"PIECE OF GREEN\" , \"PIECE OF GREEN LANDSCAPING\")\ndf \u003d apply_rule_starts_with(df, \u0027CUSTOMER\u0027,\"CLEARPOINT CONSULTING ENGINEER\" , \"CLEARPOINT CONSULTING ENGINEER\")\ndf \u003d apply_rule_starts_with(df, \u0027CUSTOMER\u0027,\"GRADY CRAWFORD CONSTRUCTION CO\" , \"GRADY CRAWFORD CONSTRUCTION CO\")\ndf \u003d apply_rule_starts_with(df, \u0027CUSTOMER\u0027,\"ALLSOUTH APPLIANCE GROUP\" , \"ALLSOUTH APPLIANCE GROUP\")\ndf \u003d apply_rule_starts_with(df, \u0027CUSTOMER\u0027,\"DAC ENTERPRISES\" , \"DAC ENTERPRISES\")\ndf \u003d apply_rule_starts_with(df, \u0027CUSTOMER\u0027,\"HIGHLAND COMMUNITY COLLEGE\" , \"HIGHLAND COMMUNITY COLLEGE\")\ndf \u003d apply_rule_starts_with(df, \u0027CUSTOMER\u0027,\"MATRIX SERVICE COMPANY\" , \"MATRIX SERVICE COMPANY\")\ndf \u003d apply_rule_starts_with(df, \u0027CUSTOMER\u0027,\"TWIN CITY LIMOUSINES\" , \"TWIN CITY LIMOUSINES\")\ndf \u003d apply_rule_starts_with(df, \u0027CUSTOMER\u0027,\"RMI SERVICES CORPORATION\" , \"RMI SERVICES CORPORATION\")\ndf \u003d apply_rule_starts_with(df, \u0027CUSTOMER\u0027,\"GREAT LAKES HOME HEALTH S\" , \"GREAT LAKES HOME HEALTH S\")\ndf \u003d apply_rule_starts_with(df, \u0027CUSTOMER\u0027,\"TOTAL DEPTH\" , \"TOTAL DEPTH\")\ndf \u003d apply_rule_starts_with(df, \u0027CUSTOMER\u0027,\"CAPE BUILDING SYSTEMS\" , \"CAPE BUILDING SYSTEMS\")\ndf \u003d apply_rule_starts_with(df, \u0027CUSTOMER\u0027,\"STATE OF TEXAS\" , \"STATE OF TEXAS\")\ndf \u003d apply_rule_starts_with(df, \u0027CUSTOMER\u0027,\"RICS ELECTRIC\" , \"RICS ELECTRIC\")\ndf \u003d apply_rule_starts_with(df, \u0027CUSTOMER\u0027,\"GILS CARPETS\" , \"GILS CARPETS\")\ndf \u003d apply_rule_starts_with(df, \u0027CUSTOMER\u0027,\"PREMIER THERAPY\" , \"PREMIER THERAPY\")\ndf \u003d apply_rule_starts_with(df, \u0027CUSTOMER\u0027,\"STE GENEVIEVE COUNTY MEMORIAL\" , \"STE GENEVIEVE COUNTY MEMORIAL\")\ndf \u003d apply_rule_starts_with(df, \u0027CUSTOMER\u0027,\"STILSING ELECTRIC INC\" , \"STILSING ELECTRIC INC\")\ndf \u003d apply_rule_starts_with(df, \u0027CUSTOMER\u0027,\"ROBINSON AUTO SALES\" , \"ROBINSON AUTO SALES\")\ndf \u003d apply_rule_starts_with(df, \u0027CUSTOMER\u0027,\"FLORIDA FIRST CALL REMOVAL SER\" , \"FLORIDA FIRST CALL REMOVAL SER\")\ndf \u003d apply_rule_starts_with(df, \u0027CUSTOMER\u0027,\"LANDMARK CONSTRUCTION SOLUTIO\" , \"LANDMARK CONSTRUCTION SOLUTIO\")\ndf \u003d apply_rule_starts_with(df, \u0027CUSTOMER\u0027,\"IMPORT MOTORS OF OLD SAYBROOK\" , \"IMPORT MOTORS OF OLD SAYBROOK\")\ndf \u003d apply_rule_starts_with(df, \u0027CUSTOMER\u0027,\"RALEIGH EAST CONCRETE CONSTRUC\" , \"RALEIGH EAST CONCRETE CONSTRUC\")\ndf \u003d apply_rule_starts_with(df, \u0027CUSTOMER\u0027,\"AMES PLUMBING SERVIC\" , \"AMES PLUMBING SERVIC\")\ndf \u003d apply_rule_starts_with(df, \u0027CUSTOMER\u0027,\"FENIGOR GROUP LLC\" , \"FENIGOR GROUP LLC\")\ndf \u003d apply_rule_starts_with(df, \u0027CUSTOMER\u0027,\"MONTCALM COUNTY ROAD COMMISSIO\" , \"MONTCALM COUNTY ROAD COMMISSIO\")\ndf \u003d apply_rule_starts_with(df, \u0027CUSTOMER\u0027,\"WESTERN INDUSTRIAL CONTRACTORS\" , \"WESTERN INDUSTRIAL CONTRACTORS\")\ndf \u003d apply_rule_starts_with(df, \u0027CUSTOMER\u0027,\"TIRE CORRAL OF AMERICA\" , \"TIRE CORRAL OF AMERICA\")\ndf \u003d apply_rule_starts_with(df, \u0027CUSTOMER\u0027,\"CARVANA\" , \"CARVANA\")"
      ],
      "outputs": []
    },
    {
      "execution_count": 0,
      "cell_type": "code",
      "metadata": {},
      "source": [
        "print(len(df), \"account rows\")\nprint(len(df.CUSTOMER.unique()), \"customer rows\")\ndf.CUST_CALC_SOURCE.value_counts()"
      ],
      "outputs": []
    },
    {
      "execution_count": 0,
      "cell_type": "code",
      "metadata": {},
      "source": [
        "# RDW Conversions tracked by the conversion team\n# remove leading and trailing blanks, remove dashes\n# convert to Int64\n# df_r columns: FLEET_ID, CLASSIC_ACCOUNT_NUMBER\n\ndf_r \u003d RDW_CONVERSIONS_df[[\u0027FLEET_ID\u0027,\u0027CLASSIC_ACCOUNT_NUMBER\u0027]].dropna(subset\u003d[\u0027CLASSIC_ACCOUNT_NUMBER\u0027]).copy()\ndf_r.FLEET_ID \u003d df_r.FLEET_ID.str.strip()\ndf_r \u003d df_r[~df_r[\u0027FLEET_ID\u0027].str.contains(\u0027-\u0027,na\u003dFalse)]\ndf_r.FLEET_ID \u003d df_r.FLEET_ID.astype(\u0027float\u0027)\ndf_r.FLEET_ID \u003d df_r.FLEET_ID.astype(\u0027Int64\u0027, errors\u003d\u0027ignore\u0027)\nprint(len(df_r), \"total RDW conversions\")\n\n# create a copy of a subset of columns of customer hierarchy calculated up to this point\n# columns: CUSTOMER_ACCOUNT_ID, CUSTOMER\ndf_cust \u003d df[[\u0027CUSTOMER_ACCOUNT_ID\u0027,\u0027CUSTOMER\u0027]].copy()\ndf_cust.CUSTOMER_ACCOUNT_ID \u003d df_cust[\u0027CUSTOMER_ACCOUNT_ID\u0027].astype(\u0027Int64\u0027)\n\n# join df_cust onto df_r\n# in order to add CUSTOMER Name to the RDW Conversion set\n# columns: FLEET_ID, CLASSIC_ACCOUNT_NUMBER, CUSTOMER_ACCOUNT_ID, CUSTOMER\ndf_rj \u003d pd.merge(df_r, df_cust, left_on\u003d\u0027FLEET_ID\u0027, right_on\u003d\u0027CUSTOMER_ACCOUNT_ID\u0027, how\u003d\u0027inner\u0027)\ndf_rj \u003d df_rj[pd.to_numeric(df_rj.CLASSIC_ACCOUNT_NUMBER, errors\u003d\u0027coerce\u0027).notnull()]\ndf_rj.CLASSIC_ACCOUNT_NUMBER \u003d df_rj.CLASSIC_ACCOUNT_NUMBER.astype(float)\ndf_rj.CLASSIC_ACCOUNT_NUMBER \u003d df_rj.CLASSIC_ACCOUNT_NUMBER.astype(np.int64)\n\n# create a second copy of the subset of columns of customer hierarchy calculated up to this point\ndf_cust_classic \u003d df[[\u0027CUSTOMER_ACCOUNT_ID\u0027,\u0027CUSTOMER\u0027]].copy()\ndf_cust_classic.columns \u003d [\u0027CUSTOMER_ACCOUNT_ID\u0027, \u0027CLASSIC_CUSTOMER\u0027]\ndf_cust_classic.CUSTOMER_ACCOUNT_ID \u003d df_cust[\u0027CUSTOMER_ACCOUNT_ID\u0027].astype(\u0027Int64\u0027)\n\n# join this structure to the RDW conversion dataset\n# so that we now have both the new acount id, the old account id\n# as well as the new CUSTOMER Name and the old CUSTOMER NAME\ndf_rj \u003d df_rj[[\u0027FLEET_ID\u0027,\u0027CLASSIC_ACCOUNT_NUMBER\u0027,\u0027CUSTOMER\u0027]]\ndf_rj \u003d pd.merge(df_rj, df_cust_classic, left_on\u003d\u0027CLASSIC_ACCOUNT_NUMBER\u0027, right_on\u003d\u0027CUSTOMER_ACCOUNT_ID\u0027, how\u003d\u0027inner\u0027)\n\n# we are interested in those conversion cases\n# where we see a different before customer name compared to the after customer name\ndf_rdw_conversions \u003d df_rj[df_rj.CUSTOMER!\u003ddf_rj.CLASSIC_CUSTOMER]\nprint(len(df_rdw_conversions), \"unhandled conversions from RDW\")\n\n# what we have left is a dataframe containing those accounts\n# that need to have their old classic customer name replaced with the new customer name\n# columns: CUSTOMER_ACCOUNT_ID, CONVERSION_REPLACEMENT_CUSTOMER\n\ndf_rdw_conversions \u003d df_rdw_conversions[[\u0027CUSTOMER_ACCOUNT_ID\u0027,\u0027CUSTOMER\u0027]]\ndf_rdw_conversions.columns \u003d [\u0027CUSTOMER_ACCOUNT_ID\u0027,\u0027CONVERSION_REPLACEMENT_CUSTOMER\u0027]\ndf_rdw_conversions.drop_duplicates(subset\u003d[\u0027CUSTOMER_ACCOUNT_ID\u0027], inplace\u003dTrue)\n\nprint(len(df), \"before join\")\ndf_j \u003d pd.merge(df, df_rdw_conversions, on\u003d\u0027CUSTOMER_ACCOUNT_ID\u0027,how\u003d\u0027left\u0027)\nprint(len(df_j), \"after join\")\n\n# replace the CUSTOMER field with the contents of the CONVERSION_REPLACEMENT_CUSTOMER where this is not null\n# and track the calculation source\ndf_j.loc[~df_j[\"CONVERSION_REPLACEMENT_CUSTOMER\"].isnull(),\u0027CUSTOMER\u0027] \u003d df_j.CONVERSION_REPLACEMENT_CUSTOMER\ndf_j.loc[~df_j[\"CONVERSION_REPLACEMENT_CUSTOMER\"].isnull(),\u0027CUST_CALC_SOURCE\u0027] \u003d \u0027RDW CONVERSIONS\u0027\n\n# remove the temporary conversion replacement name column\ndel(df_j[\u0027CONVERSION_REPLACEMENT_CUSTOMER\u0027])\ndf_j.head()"
      ],
      "outputs": []
    },
    {
      "execution_count": 0,
      "cell_type": "code",
      "metadata": {},
      "source": [
        "print(len(df_j), \"account rows\")\nprint(len(df_j.CUSTOMER.unique()), \"customer rows\")\ndf_j.CUST_CALC_SOURCE.value_counts()"
      ],
      "outputs": []
    },
    {
      "execution_count": 0,
      "cell_type": "code",
      "metadata": {},
      "source": [
        "# incorporate un matched rows from MDM\n# New MDM matches, shared by Wes Corbin during the week of Nov 17, 2022\n# todo: once MDM to snowflake pipeline is available, update this flow to use it in place of the extract\n\n# rename columns and cast IDs as Int64\nprint(len(NAFCUSTOMER_MDM_ACCOUNT_WITH_BUSINESS_ID_df), \u0027MDM account rows\u0027)\nNAFCUSTOMER_MDM_ACCOUNT_WITH_BUSINESS_ID_df.head()\ndf_mdm \u003d NAFCUSTOMER_MDM_ACCOUNT_WITH_BUSINESS_ID_df[[\u0027ACCOUNTNUMBER\u0027,\u0027WEXBUSINESSID\u0027,\u0027NAME\u0027]].copy()\ndf_mdm.columns \u003d [\u0027CUSTOMER_ACCOUNT_ID\u0027,\u0027WEX_BUSINESS_ID\u0027,\u0027WEX_BUSINESS_NAME\u0027]\ndf_mdm.CUSTOMER_ACCOUNT_ID \u003d df_mdm[\u0027CUSTOMER_ACCOUNT_ID\u0027].astype(\u0027Int64\u0027, errors\u003d\u0027ignore\u0027)\ndf_mdm.WEX_BUSINESS_ID  \u003d df_mdm[\u0027WEX_BUSINESS_ID\u0027].astype(\u0027Int64\u0027)\nprint(len(df_mdm))\n\n# drop nulls\ndf_mdm.dropna(subset\u003d[\u0027CUSTOMER_ACCOUNT_ID\u0027], inplace\u003dTrue)\nprint(len(df_mdm))\n\ndf_mdm[\u0027WEX_BUSINESS_NAME\u0027] \u003d df_mdm[\u0027WEX_BUSINESS_NAME\u0027].str.upper()\ndf_mdm[\u0027WEX_BUSINESS_NAME\u0027] \u003d df_mdm[\u0027WEX_BUSINESS_NAME\u0027].str.translate(str.maketrans(\u0027\u0027,\u0027\u0027, string.punctuation))\n\n# filter out known non-customer entities expressed in MDM\ndf_mdm \u003d df_mdm[df_mdm.WEX_BUSINESS_NAME!\u003d\u0027CARD TYPE 7 PRIMARY\u0027]\ndf_mdm \u003d df_mdm[df_mdm.WEX_BUSINESS_NAME!\u003d\u0027ELEMENT 1\u0027]\ndf_mdm \u003d df_mdm[df_mdm.WEX_BUSINESS_NAME!\u003d\u0027ELEMENT 2\u0027]\nprint(len(df_mdm), \"MDM account rows after filter rules\")\n\n# join with customer hierarchy and drop duplicates\nprint(len(df_j))\ndf_j_with_mdm \u003d pd.merge(df_j, df_mdm, on\u003d\u0027CUSTOMER_ACCOUNT_ID\u0027, how\u003d\u0027left\u0027)\ndf_j_with_mdm.drop_duplicates(subset\u003d[\u0027CUSTOMER_ACCOUNT_ID\u0027],inplace\u003dTrue)\nprint(len(df_j_with_mdm))\ndf_j_with_mdm.head()\n\n# group by WEX Business Id and WEX Business Name, counting unique customers\n# Those WEX Business Ids with a customer count \u003e 1 is retained\ndf_g \u003d df_j_with_mdm.groupby([\u0027WEX_BUSINESS_ID\u0027,\u0027WEX_BUSINESS_NAME\u0027]).CUSTOMER.nunique().reset_index()\nprint(len(df_g))\ndf_g \u003d df_g[df_g.CUSTOMER\u003e1]\nprint(len(df_g), \"unhandled MDM WEX Businesses\")\ndf_g \u003d df_g[[\u0027WEX_BUSINESS_ID\u0027,\u0027WEX_BUSINESS_NAME\u0027]]\ndf_g.columns \u003d [\u0027MATCH_WEX_BUSINESS_ID\u0027,\u0027MATCH_WEX_BUSINESS_NAME\u0027]\ndf_g.head()\n\n# drop null WEX Business IDs, join back to customer hierarchy on WEX_BUSINESS_ID in order to get WEX_BUSINESS_NAME on the dataset\nprint(len(df_j_with_mdm))\ndf_j_with_mdm.dropna(subset\u003d[\u0027WEX_BUSINESS_ID\u0027],inplace\u003dTrue)\ndf_j_with_mdm_with_matches \u003d pd.merge(df_j_with_mdm,df_g, left_on\u003d\u0027WEX_BUSINESS_ID\u0027,right_on\u003d\u0027MATCH_WEX_BUSINESS_ID\u0027, how\u003d\u0027left\u0027)\nprint(len(df_j_with_mdm_with_matches))\n\n# where-ever we have a MATCH_WEX_BUSINESS_NAME we want to replace the CUSTOMER names with the MATCH\ndf_j_with_mdm_with_matches.loc[~df_j_with_mdm_with_matches[\u0027MATCH_WEX_BUSINESS_NAME\u0027].isnull(),\u0027CUSTOMER\u0027] \u003d df_j_with_mdm_with_matches[\u0027MATCH_WEX_BUSINESS_NAME\u0027]\ndf_j_with_mdm_with_matches.loc[~df_j_with_mdm_with_matches[\u0027MATCH_WEX_BUSINESS_NAME\u0027].isnull(),\u0027CUST_CALC_SOURCE\u0027] \u003d \"MDM\""
      ],
      "outputs": []
    },
    {
      "execution_count": 0,
      "cell_type": "code",
      "metadata": {},
      "source": [
        "print(len(df_j_with_mdm_with_matches), \"account rows\")\nprint(len(df_j_with_mdm_with_matches.CUSTOMER.unique()), \"customer rows\")\ndf_j_with_mdm_with_matches.CUST_CALC_SOURCE.value_counts()"
      ],
      "outputs": []
    },
    {
      "execution_count": 0,
      "cell_type": "code",
      "metadata": {},
      "source": [
        "df_v \u003d df_j_with_mdm_with_matches.copy()\ndel(df_v[\u0027MATCH_WEX_BUSINESS_ID\u0027])\ndel(df_v[\u0027MATCH_WEX_BUSINESS_NAME\u0027])\ndf_v.head()"
      ],
      "outputs": []
    },
    {
      "execution_count": 0,
      "cell_type": "code",
      "metadata": {},
      "source": [
        "print(len(df_matches_verified))\ndf_matches_verified.drop_duplicates(subset\u003d\u0027CUSTOMER\u0027, inplace\u003dTrue)\nprint(len(df_matches_verified))\n\nprint(len(df_v))\ndf_v_w_verified \u003d pd.merge(df_v, df_matches_verified, left_on\u003d\u0027CUSTOMER\u0027, right_on\u003d\u0027CUSTOMER\u0027, how\u003d\u0027left\u0027)\nprint(len(df_v_w_verified))\n\ndf_v_w_verified.loc[~df_v_w_verified[\"MATCH_CUSTOMER\"].isnull(),\u0027CUSTOMER\u0027] \u003d df_v_w_verified.MATCH_CUSTOMER\ndf_v_w_verified.loc[~df_v_w_verified[\"MATCH_CUSTOMER\"].isnull(),\u0027CUST_CALC_SOURCE\u0027] \u003d \u0027CLC\u0027\n\nprint(len(df_v_w_verified))\ndel(df_v_w_verified[\u0027MATCH_CUSTOMER\u0027])\ndel(df_v_w_verified[\u0027DRAW_UP_DATE\u0027])\ndel(df_v_w_verified[\u0027distance\u0027])"
      ],
      "outputs": []
    },
    {
      "execution_count": 0,
      "cell_type": "code",
      "metadata": {},
      "source": [
        "print(len(df_v_w_verified), \"account rows\")\nprint(len(df_v_w_verified.CUSTOMER.unique()), \"customer rows\")\ndf_v_w_verified.CUST_CALC_SOURCE.value_counts()"
      ],
      "outputs": []
    },
    {
      "execution_count": 0,
      "cell_type": "code",
      "metadata": {},
      "source": [
        "unique_customer_list \u003d df_v_w_verified.CUSTOMER.unique()\ndf_customer_ids \u003d pd.DataFrame(unique_customer_list)\ndf_customer_ids.columns \u003d [\"CUSTOMER\"]\ndf_customer_ids \u003d df_customer_ids[~df_customer_ids.CUSTOMER.str.contains(\u0027.\u0027).isnull()]\ndf_customer_ids \u003d df_customer_ids.sort_values([\u0027CUSTOMER\u0027]).reset_index(drop\u003dTrue)\ndf_customer_ids \u003d df_customer_ids.reset_index(drop\u003dFalse)\ndf_customer_ids[\u0027CUSTOMER_ID\u0027] \u003d df_customer_ids.index + 77000000\ndel(df_customer_ids[\u0027index\u0027])\ndf_customer_ids.head()"
      ],
      "outputs": []
    },
    {
      "execution_count": 0,
      "cell_type": "code",
      "metadata": {},
      "source": [
        "print(len(df_v_w_verified))\ndf_jj \u003d pd.merge(df_v_w_verified, df_customer_ids, on\u003d\u0027CUSTOMER\u0027)\ndf_jj.dropna(subset\u003d[\u0027CUSTOMER\u0027], inplace\u003dTrue)\nprint(len(df_jj))\ndf_jj.head()"
      ],
      "outputs": []
    },
    {
      "execution_count": 0,
      "cell_type": "code",
      "metadata": {},
      "source": [
        "df_by_account \u003d df_jj[[\u0027CUSTOMER_ACCOUNT_ID\u0027,\u0027CUSTOMER_ID\u0027, \u0027CUSTOMER\u0027]]\ndf_by_account.head()"
      ],
      "outputs": []
    },
    {
      "execution_count": 0,
      "cell_type": "code",
      "metadata": {},
      "source": [
        "print(len(df_jj), \"account rows\")\nprint(len(df_jj.CUSTOMER.unique()), \"customer rows\")\ndf_jj.CUST_CALC_SOURCE.value_counts()"
      ],
      "outputs": []
    },
    {
      "execution_count": 0,
      "cell_type": "code",
      "metadata": {},
      "source": [
        "ACCOUNT_NEW_SALES_FULL_df.head()"
      ],
      "outputs": []
    },
    {
      "execution_count": 0,
      "cell_type": "code",
      "metadata": {},
      "source": [
        "ACCOUNT_NEW_SALES_FULL_df.columns.tolist()"
      ],
      "outputs": []
    },
    {
      "execution_count": 0,
      "cell_type": "code",
      "metadata": {},
      "source": [
        "print(len(df_jj))\nprint(len(ACCOUNT_NEW_SALES_FULL_df))\nACCOUNT_NEW_SALES_FULL_df.columns \u003d [\u0027SALES_MARKETING_PARTNER_NM\u0027,\u0027SALES_BUSINESS_PROGRAM_NM\u0027,\u0027SALES_PROGRAM_ID\u0027,\u0027CUSTOMER_ACCOUNT_ID\u0027,\u0027SALES_CAMPAIGN_TYPE\u0027,\u0027SALES_COUPON_CODE\u0027,\u0027SALES_CHANNEL\u0027,\u0027SALES_REP\u0027,\u0027SALES_TRANS_RECORDS\u0027,\u0027SALES_DATA_SOURCE\u0027]\nACCOUNT_NEW_SALES_FULL_df[\u0027HAS_SALES_FLAG\u0027] \u003d True\ndf_j_with_sales \u003d pd.merge(df_jj, ACCOUNT_NEW_SALES_FULL_df, on\u003d\u0027CUSTOMER_ACCOUNT_ID\u0027, how\u003d\u0027left\u0027)\nprint(len(df_j_with_sales))"
      ],
      "outputs": []
    },
    {
      "execution_count": 0,
      "cell_type": "code",
      "metadata": {},
      "source": [
        "df_j_with_sales.HAS_SALES_FLAG.value_counts(dropna\u003dFalse)"
      ],
      "outputs": []
    },
    {
      "execution_count": 0,
      "cell_type": "code",
      "metadata": {},
      "source": [
        "ACCOUNTS_WITH_CUSTOMER_FROM_EDW_AND_DUNS_df \u003d df_j_with_sales\n\n# Write recipe outputs\nACCOUNTS_WITH_CUSTOMER_FROM_EDW_AND_DUNS \u003d dataiku.Dataset(\"ACCOUNTS_WITH_CUSTOMER_FROM_EDW_AND_DUNS\")\nACCOUNTS_WITH_CUSTOMER_FROM_EDW_AND_DUNS.write_with_schema(ACCOUNTS_WITH_CUSTOMER_FROM_EDW_AND_DUNS_df)\n\nBY_ACCOUNT \u003d dataiku.Dataset(\"BY_ACCOUNT\")\nBY_ACCOUNT.write_with_schema(df_by_account)"
      ],
      "outputs": []
    }
  ]
}