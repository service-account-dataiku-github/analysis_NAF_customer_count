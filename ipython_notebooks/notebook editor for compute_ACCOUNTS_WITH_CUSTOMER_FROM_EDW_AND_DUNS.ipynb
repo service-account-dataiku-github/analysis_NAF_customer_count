{
  "metadata": {
    "kernelspec": {
      "name": "py-dku-venv-env_clc",
      "display_name": "Python (env env_clc)",
      "language": "python"
    },
    "associatedRecipe": "compute_ACCOUNTS_WITH_CUSTOMER_FROM_EDW_AND_DUNS",
    "dkuGit": {
      "lastInteraction": 0
    },
    "creationTag": {
      "versionNumber": 0,
      "lastModifiedBy": {
        "login": "Daniel.Vandermeer"
      },
      "lastModifiedOn": 1664967231995
    },
    "creator": "Daniel.Vandermeer",
    "createdOn": 1664967231995,
    "tags": [
      "recipe-editor"
    ],
    "customFields": {},
    "hide_input": false,
    "language_info": {
      "name": "python",
      "version": "3.6.8",
      "mimetype": "text/x-python",
      "codemirror_mode": {
        "name": "ipython",
        "version": 3
      },
      "pygments_lexer": "ipython3",
      "nbconvert_exporter": "python",
      "file_extension": ".py"
    },
    "modifiedBy": "Daniel.Vandermeer"
  },
  "nbformat": 4,
  "nbformat_minor": 1,
  "cells": [
    {
      "execution_count": 39,
      "cell_type": "code",
      "metadata": {},
      "source": [
        "# -*- coding: utf-8 -*-\nimport dataiku\nimport pandas as pd, numpy as np\nfrom dataiku import pandasutils as pdu\nimport string\n\n# Read recipe inputs\nACCOUNTS_WITH_BUNDLER_AND_DUNS \u003d dataiku.Dataset(\"ACCOUNTS_WITH_BUNDLER_AND_DUNS\")\nACCOUNTS_WITH_BUNDLER_AND_DUNS_df \u003d ACCOUNTS_WITH_BUNDLER_AND_DUNS.get_dataframe()\ndf \u003d ACCOUNTS_WITH_BUNDLER_AND_DUNS_df"
      ],
      "outputs": [
        {
          "output_type": "stream",
          "text": "/opt/dataiku-dss-10.0.5/python/dataiku/core/intercom.py:413: ResourceWarning: unclosed \u003csocket.socket fd\u003d58, family\u003dAddressFamily.AF_INET, type\u003dSocketKind.SOCK_STREAM, proto\u003d6, laddr\u003d(\u002710.92.106.166\u0027, 38488), raddr\u003d(\u002710.92.106.166\u0027, 10001)\u003e\n  return _handle_json_resp(backend_api_post_call(path, data, **kwargs), err_msg \u003d err_msg)\n/data/dataiku/dss_data/code-envs/python/env_clc/lib/python3.6/site-packages/ipykernel_launcher.py:9: ResourceWarning: unclosed \u003csocket.socket fd\u003d58, family\u003dAddressFamily.AF_INET, type\u003dSocketKind.SOCK_STREAM, proto\u003d6, laddr\u003d(\u002710.92.106.166\u0027, 38490), raddr\u003d(\u002710.92.106.166\u0027, 10001)\u003e\n  if __name__ \u003d\u003d \u0027__main__\u0027:\n",
          "name": "stderr"
        }
      ]
    },
    {
      "execution_count": 40,
      "cell_type": "code",
      "metadata": {},
      "source": [
        "df.head()"
      ],
      "outputs": [
        {
          "output_type": "execute_result",
          "execution_count": 40,
          "data": {
            "text/plain": "   CUSTOMER_ACCOUNT_ID         CUSTOMER_ACCOUNT_NAME             EDW_CUSTOMER_NAME         DUNS  IS_BUNDLER  DNB_GLOBAL_ULT_NUMBER             DNB_GLOBAL_ULT_NAME  DNB_DOMESTIC_ULT_NUMBER      DNB_DOMESTIC_ULTIMATE_NAME  DNB_HQ_NUMBER                     DNB_HQ_NAME  DNB_DUNS_NUMBER               DNB_BUSINESS_NAME\n0        6121005966569  HEIDLER ROOFING SERVICES INC  HEIDLER ROOFING SERVICES INC  152141495.0       False            152141495.0  Heidler Roofing Services, Inc.              152141495.0  Heidler Roofing Services, Inc.    152141495.0  Heidler Roofing Services, Inc.      152141495.0  Heidler Roofing Services, Inc.\n1        9100001804959  HEIDLER ROOFING SERVICES INC                           NaN  152141495.0        True            152141495.0  Heidler Roofing Services, Inc.              152141495.0  Heidler Roofing Services, Inc.    152141495.0  Heidler Roofing Services, Inc.      152141495.0  Heidler Roofing Services, Inc.\n2        9100006532335                ANDERSON HOMES                           NaN  608585766.0        True            608585766.0                  Anderson Homes              608585766.0                  Anderson Homes    608585766.0                  Anderson Homes      608585766.0                  Anderson Homes\n3        9100008971857            ARARAT TRADING INC                           NaN  255895117.0        True                    NaN                             NaN                      NaN                             NaN            NaN                             NaN      255895117.0     Ararat Trading (2002) Corp.\n4        9100005816790               ANGELS TAXI LLC                           NaN   24832690.0        True                    NaN                             NaN                      NaN                             NaN            NaN                             NaN       24832690.0                Angel\u0027s Taxi LLC",
            "text/html": "\u003cdiv\u003e\n\u003cstyle scoped\u003e\n    .dataframe tbody tr th:only-of-type {\n        vertical-align: middle;\n    }\n\n    .dataframe tbody tr th {\n        vertical-align: top;\n    }\n\n    .dataframe thead th {\n        text-align: right;\n    }\n\u003c/style\u003e\n\u003ctable border\u003d\"1\" class\u003d\"dataframe\"\u003e\n  \u003cthead\u003e\n    \u003ctr style\u003d\"text-align: right;\"\u003e\n      \u003cth\u003e\u003c/th\u003e\n      \u003cth\u003eCUSTOMER_ACCOUNT_ID\u003c/th\u003e\n      \u003cth\u003eCUSTOMER_ACCOUNT_NAME\u003c/th\u003e\n      \u003cth\u003eEDW_CUSTOMER_NAME\u003c/th\u003e\n      \u003cth\u003eDUNS\u003c/th\u003e\n      \u003cth\u003eIS_BUNDLER\u003c/th\u003e\n      \u003cth\u003eDNB_GLOBAL_ULT_NUMBER\u003c/th\u003e\n      \u003cth\u003eDNB_GLOBAL_ULT_NAME\u003c/th\u003e\n      \u003cth\u003eDNB_DOMESTIC_ULT_NUMBER\u003c/th\u003e\n      \u003cth\u003eDNB_DOMESTIC_ULTIMATE_NAME\u003c/th\u003e\n      \u003cth\u003eDNB_HQ_NUMBER\u003c/th\u003e\n      \u003cth\u003eDNB_HQ_NAME\u003c/th\u003e\n      \u003cth\u003eDNB_DUNS_NUMBER\u003c/th\u003e\n      \u003cth\u003eDNB_BUSINESS_NAME\u003c/th\u003e\n    \u003c/tr\u003e\n  \u003c/thead\u003e\n  \u003ctbody\u003e\n    \u003ctr\u003e\n      \u003cth\u003e0\u003c/th\u003e\n      \u003ctd\u003e6121005966569\u003c/td\u003e\n      \u003ctd\u003eHEIDLER ROOFING SERVICES INC\u003c/td\u003e\n      \u003ctd\u003eHEIDLER ROOFING SERVICES INC\u003c/td\u003e\n      \u003ctd\u003e152141495.0\u003c/td\u003e\n      \u003ctd\u003eFalse\u003c/td\u003e\n      \u003ctd\u003e152141495.0\u003c/td\u003e\n      \u003ctd\u003eHeidler Roofing Services, Inc.\u003c/td\u003e\n      \u003ctd\u003e152141495.0\u003c/td\u003e\n      \u003ctd\u003eHeidler Roofing Services, Inc.\u003c/td\u003e\n      \u003ctd\u003e152141495.0\u003c/td\u003e\n      \u003ctd\u003eHeidler Roofing Services, Inc.\u003c/td\u003e\n      \u003ctd\u003e152141495.0\u003c/td\u003e\n      \u003ctd\u003eHeidler Roofing Services, Inc.\u003c/td\u003e\n    \u003c/tr\u003e\n    \u003ctr\u003e\n      \u003cth\u003e1\u003c/th\u003e\n      \u003ctd\u003e9100001804959\u003c/td\u003e\n      \u003ctd\u003eHEIDLER ROOFING SERVICES INC\u003c/td\u003e\n      \u003ctd\u003eNaN\u003c/td\u003e\n      \u003ctd\u003e152141495.0\u003c/td\u003e\n      \u003ctd\u003eTrue\u003c/td\u003e\n      \u003ctd\u003e152141495.0\u003c/td\u003e\n      \u003ctd\u003eHeidler Roofing Services, Inc.\u003c/td\u003e\n      \u003ctd\u003e152141495.0\u003c/td\u003e\n      \u003ctd\u003eHeidler Roofing Services, Inc.\u003c/td\u003e\n      \u003ctd\u003e152141495.0\u003c/td\u003e\n      \u003ctd\u003eHeidler Roofing Services, Inc.\u003c/td\u003e\n      \u003ctd\u003e152141495.0\u003c/td\u003e\n      \u003ctd\u003eHeidler Roofing Services, Inc.\u003c/td\u003e\n    \u003c/tr\u003e\n    \u003ctr\u003e\n      \u003cth\u003e2\u003c/th\u003e\n      \u003ctd\u003e9100006532335\u003c/td\u003e\n      \u003ctd\u003eANDERSON HOMES\u003c/td\u003e\n      \u003ctd\u003eNaN\u003c/td\u003e\n      \u003ctd\u003e608585766.0\u003c/td\u003e\n      \u003ctd\u003eTrue\u003c/td\u003e\n      \u003ctd\u003e608585766.0\u003c/td\u003e\n      \u003ctd\u003eAnderson Homes\u003c/td\u003e\n      \u003ctd\u003e608585766.0\u003c/td\u003e\n      \u003ctd\u003eAnderson Homes\u003c/td\u003e\n      \u003ctd\u003e608585766.0\u003c/td\u003e\n      \u003ctd\u003eAnderson Homes\u003c/td\u003e\n      \u003ctd\u003e608585766.0\u003c/td\u003e\n      \u003ctd\u003eAnderson Homes\u003c/td\u003e\n    \u003c/tr\u003e\n    \u003ctr\u003e\n      \u003cth\u003e3\u003c/th\u003e\n      \u003ctd\u003e9100008971857\u003c/td\u003e\n      \u003ctd\u003eARARAT TRADING INC\u003c/td\u003e\n      \u003ctd\u003eNaN\u003c/td\u003e\n      \u003ctd\u003e255895117.0\u003c/td\u003e\n      \u003ctd\u003eTrue\u003c/td\u003e\n      \u003ctd\u003eNaN\u003c/td\u003e\n      \u003ctd\u003eNaN\u003c/td\u003e\n      \u003ctd\u003eNaN\u003c/td\u003e\n      \u003ctd\u003eNaN\u003c/td\u003e\n      \u003ctd\u003eNaN\u003c/td\u003e\n      \u003ctd\u003eNaN\u003c/td\u003e\n      \u003ctd\u003e255895117.0\u003c/td\u003e\n      \u003ctd\u003eArarat Trading (2002) Corp.\u003c/td\u003e\n    \u003c/tr\u003e\n    \u003ctr\u003e\n      \u003cth\u003e4\u003c/th\u003e\n      \u003ctd\u003e9100005816790\u003c/td\u003e\n      \u003ctd\u003eANGELS TAXI LLC\u003c/td\u003e\n      \u003ctd\u003eNaN\u003c/td\u003e\n      \u003ctd\u003e24832690.0\u003c/td\u003e\n      \u003ctd\u003eTrue\u003c/td\u003e\n      \u003ctd\u003eNaN\u003c/td\u003e\n      \u003ctd\u003eNaN\u003c/td\u003e\n      \u003ctd\u003eNaN\u003c/td\u003e\n      \u003ctd\u003eNaN\u003c/td\u003e\n      \u003ctd\u003eNaN\u003c/td\u003e\n      \u003ctd\u003eNaN\u003c/td\u003e\n      \u003ctd\u003e24832690.0\u003c/td\u003e\n      \u003ctd\u003eAngel\u0027s Taxi LLC\u003c/td\u003e\n    \u003c/tr\u003e\n  \u003c/tbody\u003e\n\u003c/table\u003e\n\u003c/div\u003e"
          },
          "metadata": {}
        }
      ]
    },
    {
      "execution_count": 41,
      "cell_type": "code",
      "metadata": {},
      "source": [
        "import warnings\nwarnings.filterwarnings(action\u003d\u0027once\u0027)\n\ndf[\u0027DUNS\u0027] \u003d df[\u0027DUNS\u0027].astype(\u0027Int64\u0027, errors\u003d\u0027ignore\u0027)\ndf[\u0027DNB_DUNS_NUMBER\u0027] \u003d df[\u0027DNB_DUNS_NUMBER\u0027].astype(\u0027Int64\u0027, errors\u003d\u0027ignore\u0027)\ndf[\u0027DNB_BUSINESS_NAME\u0027] \u003d df[\u0027DNB_BUSINESS_NAME\u0027].str.upper()\ndf[\"DNB_BUSINESS_NAME\"] \u003d df[\u0027DNB_BUSINESS_NAME\u0027].str.replace(\u0027[^\\w\\s]\u0027,\u0027\u0027)\n\ndf[\u0027DNB_GLOBAL_ULT_NUMBER\u0027] \u003d df[\u0027DNB_GLOBAL_ULT_NUMBER\u0027].astype(\u0027Int64\u0027, errors\u003d\u0027ignore\u0027)\ndf[\u0027DNB_GLOBAL_ULT_NAME\u0027] \u003d df[\u0027DNB_GLOBAL_ULT_NAME\u0027].str.upper()\ndf[\"DNB_GLOBAL_ULT_NAME\"] \u003d df[\u0027DNB_GLOBAL_ULT_NAME\u0027].str.replace(\u0027[^\\w\\s]\u0027,\u0027\u0027)\n\ndf[\u0027DNB_DOMESTIC_ULT_NUMBER\u0027] \u003d df[\u0027DNB_DOMESTIC_ULT_NUMBER\u0027].astype(\u0027Int64\u0027, errors\u003d\u0027ignore\u0027)\ndf[\u0027DNB_DOMESTIC_ULTIMATE_NAME\u0027] \u003d df[\u0027DNB_DOMESTIC_ULTIMATE_NAME\u0027].str.upper()\ndf[\"DNB_DOMESTIC_ULTIMATE_NAME\"] \u003d df[\u0027DNB_DOMESTIC_ULTIMATE_NAME\u0027].str.replace(\u0027[^\\w\\s]\u0027,\u0027\u0027)\n\ndf[\u0027DNB_HQ_NUMBER\u0027] \u003d df[\u0027DNB_HQ_NUMBER\u0027].astype(\u0027Int64\u0027, errors\u003d\u0027ignore\u0027)\ndf[\u0027DNB_HQ_NAME\u0027] \u003d df[\u0027DNB_HQ_NAME\u0027].str.upper()\ndf[\"DNB_HQ_NAME\"] \u003d df[\u0027DNB_HQ_NAME\u0027].str.replace(\u0027[^\\w\\s]\u0027,\u0027\u0027)\n\ndf[\u0027DNB_LEVEL\u0027] \u003d \u0027None\u0027\ndf[\u0027DNB_CUSTOMER_NAME\u0027] \u003d np.nan\n\ndf.loc[~df[\"DNB_GLOBAL_ULT_NAME\"].isnull(),\u0027DNB_LEVEL\u0027] \u003d \"DUNS Global\"\ndf.loc[~df[\"DNB_GLOBAL_ULT_NAME\"].isnull(),\u0027DNB_CUSTOMER_NAME\u0027] \u003d df.DNB_GLOBAL_ULT_NAME\n\ndf.loc[(df[\"DNB_GLOBAL_ULT_NAME\"].isnull())\u0026(~df[\"DNB_DOMESTIC_ULTIMATE_NAME\"].isnull()),\u0027DNB_LEVEL\u0027] \u003d \"DUNS Domestic\"\ndf.loc[(df[\"DNB_GLOBAL_ULT_NAME\"].isnull())\u0026(~df[\"DNB_DOMESTIC_ULTIMATE_NAME\"].isnull()),\u0027DNB_CUSTOMER_NAME\u0027] \u003d df.DNB_DOMESTIC_ULTIMATE_NAME\n\ndf.loc[(df[\"DNB_DOMESTIC_ULTIMATE_NAME\"].isnull())\u0026(~df[\"DNB_HQ_NAME\"].isnull()),\u0027DNB_LEVEL\u0027] \u003d \"DUNS HQ\"\ndf.loc[(df[\"DNB_DOMESTIC_ULTIMATE_NAME\"].isnull())\u0026(~df[\"DNB_HQ_NAME\"].isnull()),\u0027DNB_CUSTOMER_NAME\u0027] \u003d df.DNB_HQ_NAME\n\ndf.loc[(df[\"DNB_HQ_NAME\"].isnull())\u0026(~df[\"DNB_BUSINESS_NAME\"].isnull()),\u0027DNB_LEVEL\u0027] \u003d \"DUNS\"\ndf.loc[(df[\"DNB_HQ_NAME\"].isnull())\u0026(~df[\"DNB_BUSINESS_NAME\"].isnull()),\u0027DNB_CUSTOMER_NAME\u0027] \u003d df.DNB_BUSINESS_NAME\n\ndf[\u0027EDW_STATE\u0027] \u003d \u0027Unknown\u0027\ndf.loc[df[\"EDW_CUSTOMER_NAME\"].isnull(),\u0027EDW_STATE\u0027] \u003d \"None\"\ndf.loc[~df[\"EDW_CUSTOMER_NAME\"].isnull(),\u0027EDW_STATE\u0027] \u003d \"Set\"\n\ndf[\u0027CUSTOMER\u0027] \u003d np.nan\ndf.loc[~df[\"EDW_CUSTOMER_NAME\"].isnull(),\u0027CUSTOMER\u0027] \u003d df[\"EDW_CUSTOMER_NAME\"]\ndf.loc[df[\"CUSTOMER\"].isnull(),\u0027CUSTOMER\u0027] \u003d df[\"DNB_CUSTOMER_NAME\"]\ndf.loc[df[\"CUSTOMER\"].isnull(),\u0027CUSTOMER\u0027] \u003d df[\"CUSTOMER_ACCOUNT_NAME\"]\n\ndf.CUSTOMER.value_counts(dropna\u003dFalse)"
      ],
      "outputs": [
        {
          "output_type": "stream",
          "text": "\u003c\u003e:7: DeprecationWarning: invalid escape sequence \\w\n",
          "name": "stderr"
        },
        {
          "output_type": "execute_result",
          "execution_count": 41,
          "data": {
            "text/plain": "OREILLY AUTOMOTIVE INC             6314\nCOMMONWEALTH OF PENNSYLVANIA       2426\nRENTACENTER                        2173\nSTATE OF NEW YORK                  1838\nFERGUSON ENTERPRISES               1776\n                                   ... \nNUNEZ CONCRETE  MASONRY INC           1\nEXELON BUSINESS SERV 5EF8             1\nPUBLIC WATER SUPPLY DISTRICT 7        1\nWASHINGTON MAINTENANCE SERVICES       1\nRIVERLAND GARDEN APARTMENTS           1\nName: CUSTOMER, Length: 668537, dtype: int64"
          },
          "metadata": {}
        }
      ]
    },
    {
      "execution_count": 42,
      "cell_type": "code",
      "metadata": {},
      "source": [
        "ACCOUNTS_WITH_CUSTOMER_FROM_EDW_AND_DUNS_df \u003d df\n\n# Write recipe outputs\nACCOUNTS_WITH_CUSTOMER_FROM_EDW_AND_DUNS \u003d dataiku.Dataset(\"ACCOUNTS_WITH_CUSTOMER_FROM_EDW_AND_DUNS\")\nACCOUNTS_WITH_CUSTOMER_FROM_EDW_AND_DUNS.write_with_schema(ACCOUNTS_WITH_CUSTOMER_FROM_EDW_AND_DUNS_df)"
      ],
      "outputs": [
        {
          "output_type": "stream",
          "text": "/opt/dataiku-dss-10.0.5/python/dataiku/core/intercom.py:437: ResourceWarning: unclosed \u003csocket.socket fd\u003d58, family\u003dAddressFamily.AF_INET, type\u003dSocketKind.SOCK_STREAM, proto\u003d6, laddr\u003d(\u002710.92.106.166\u0027, 38540), raddr\u003d(\u002710.92.106.166\u0027, 10001)\u003e\n  return _handle_void_resp(backend_api_post_call(path, data, **kwargs), err_msg \u003d err_msg)\n/opt/dataiku-dss-10.0.5/python/dataiku/core/intercom.py:413: ResourceWarning: unclosed \u003csocket.socket fd\u003d58, family\u003dAddressFamily.AF_INET, type\u003dSocketKind.SOCK_STREAM, proto\u003d6, laddr\u003d(\u002710.92.106.166\u0027, 38542), raddr\u003d(\u002710.92.106.166\u0027, 10001)\u003e\n  return _handle_json_resp(backend_api_post_call(path, data, **kwargs), err_msg \u003d err_msg)\n",
          "name": "stderr"
        },
        {
          "output_type": "stream",
          "text": "844417 rows successfully written (gZ5yq3AH96)\n",
          "name": "stdout"
        },
        {
          "output_type": "stream",
          "text": "/opt/dataiku-dss-10.0.5/python/dataiku/core/intercom.py:437: ResourceWarning: unclosed \u003csocket.socket fd\u003d59, family\u003dAddressFamily.AF_INET, type\u003dSocketKind.SOCK_STREAM, proto\u003d6, laddr\u003d(\u002710.92.106.166\u0027, 38544), raddr\u003d(\u002710.92.106.166\u0027, 10001)\u003e\n  return _handle_void_resp(backend_api_post_call(path, data, **kwargs), err_msg \u003d err_msg)\n/opt/dataiku-dss-10.0.5/python/dataiku/core/intercom.py:425: ResourceWarning: unclosed \u003csocket.socket fd\u003d58, family\u003dAddressFamily.AF_INET, type\u003dSocketKind.SOCK_STREAM, proto\u003d6, laddr\u003d(\u002710.92.106.166\u0027, 38546), raddr\u003d(\u002710.92.106.166\u0027, 10001)\u003e\n  return _handle_json_resp(backend_api_get_call(path, data, **kwargs), err_msg \u003d err_msg)\n",
          "name": "stderr"
        }
      ]
    }
  ]
}