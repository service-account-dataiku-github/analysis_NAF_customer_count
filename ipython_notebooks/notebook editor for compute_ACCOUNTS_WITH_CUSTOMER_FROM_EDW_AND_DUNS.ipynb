{
  "metadata": {
    "kernelspec": {
      "name": "py-dku-venv-env_clc",
      "display_name": "Python (env env_clc)",
      "language": "python"
    },
    "associatedRecipe": "compute_ACCOUNTS_WITH_CUSTOMER_FROM_EDW_AND_DUNS",
    "creator": "Daniel.Vandermeer",
    "createdOn": 1664967231995,
    "tags": [
      "recipe-editor"
    ],
    "customFields": {},
    "hide_input": false,
    "language_info": {
      "name": "python",
      "version": "3.6.8",
      "mimetype": "text/x-python",
      "codemirror_mode": {
        "name": "ipython",
        "version": 3
      },
      "pygments_lexer": "ipython3",
      "nbconvert_exporter": "python",
      "file_extension": ".py"
    },
    "modifiedBy": "Daniel.Vandermeer"
  },
  "nbformat": 4,
  "nbformat_minor": 1,
  "cells": [
    {
      "execution_count": 13,
      "cell_type": "code",
      "metadata": {},
      "source": [
        "# -*- coding: utf-8 -*-\nimport dataiku\nimport pandas as pd, numpy as np\nfrom dataiku import pandasutils as pdu\nimport string\n\n# Read recipe inputs\nACCOUNTS_WITH_BUNDLER_AND_DUNS \u003d dataiku.Dataset(\"ACCOUNTS_WITH_BUNDLER_AND_DUNS\")\nACCOUNTS_WITH_BUNDLER_AND_DUNS_df \u003d ACCOUNTS_WITH_BUNDLER_AND_DUNS.get_dataframe()\ndf \u003d ACCOUNTS_WITH_BUNDLER_AND_DUNS_df"
      ],
      "outputs": []
    },
    {
      "execution_count": 22,
      "cell_type": "code",
      "metadata": {},
      "source": [
        "import warnings\nwarnings.filterwarnings(action\u003d\u0027once\u0027)\n\ndf[\u0027DUNS\u0027] \u003d df[\u0027DUNS\u0027].astype(\u0027Int64\u0027, errors\u003d\u0027ignore\u0027)\ndf[\u0027DNB_DUNS_NUMBER\u0027] \u003d df[\u0027DNB_DUNS_NUMBER\u0027].astype(\u0027Int64\u0027, errors\u003d\u0027ignore\u0027)\ndf[\u0027DNB_BUSINESS_NAME\u0027] \u003d df[\u0027DNB_BUSINESS_NAME\u0027].str.upper()\ndf[\"DNB_BUSINESS_NAME\"] \u003d df[\u0027DNB_BUSINESS_NAME\u0027].str.replace(\u0027[^\\w\\s]\u0027,\u0027\u0027)\n\ndf[\u0027DNB_GLOBAL_ULT_NUMBER\u0027] \u003d df[\u0027DNB_GLOBAL_ULT_NUMBER\u0027].astype(\u0027Int64\u0027, errors\u003d\u0027ignore\u0027)\ndf[\u0027DNB_GLOBAL_ULT_NAME\u0027] \u003d df[\u0027DNB_GLOBAL_ULT_NAME\u0027].str.upper()\ndf[\"DNB_GLOBAL_ULT_NAME\"] \u003d df[\u0027DNB_GLOBAL_ULT_NAME\u0027].str.replace(\u0027[^\\w\\s]\u0027,\u0027\u0027)\n\ndf[\u0027DNB_DOMESTIC_ULT_NUMBER\u0027] \u003d df[\u0027DNB_DOMESTIC_ULT_NUMBER\u0027].astype(\u0027Int64\u0027, errors\u003d\u0027ignore\u0027)\ndf[\u0027DNB_DOMESTIC_ULTIMATE_NAME\u0027] \u003d df[\u0027DNB_DOMESTIC_ULTIMATE_NAME\u0027].str.upper()\ndf[\"DNB_DOMESTIC_ULTIMATE_NAME\"] \u003d df[\u0027DNB_DOMESTIC_ULTIMATE_NAME\u0027].str.replace(\u0027[^\\w\\s]\u0027,\u0027\u0027)\n\ndf[\u0027DNB_HQ_NUMBER\u0027] \u003d df[\u0027DNB_HQ_NUMBER\u0027].astype(\u0027Int64\u0027, errors\u003d\u0027ignore\u0027)\ndf[\u0027DNB_HQ_NAME\u0027] \u003d df[\u0027DNB_HQ_NAME\u0027].str.upper()\ndf[\"DNB_HQ_NAME\"] \u003d df[\u0027DNB_HQ_NAME\u0027].str.replace(\u0027[^\\w\\s]\u0027,\u0027\u0027)\n\ndf[\u0027DNB_LEVEL\u0027] \u003d \u0027None\u0027\ndf[\u0027DNB_CUSTOMER_NAME\u0027] \u003d np.nan\n\ndf.loc[~df[\"DNB_GLOBAL_ULT_NAME\"].isnull(),\u0027DNB_LEVEL\u0027] \u003d \"Global\"\ndf.loc[~df[\"DNB_GLOBAL_ULT_NAME\"].isnull(),\u0027DNB_CUSTOMER_NAME\u0027] \u003d df.DNB_GLOBAL_ULT_NAME\n\ndf.loc[(df[\"DNB_GLOBAL_ULT_NAME\"].isnull())\u0026(~df[\"DNB_DOMESTIC_ULTIMATE_NAME\"].isnull()),\u0027DNB_LEVEL\u0027] \u003d \"Domestic\"\ndf.loc[(df[\"DNB_GLOBAL_ULT_NAME\"].isnull())\u0026(~df[\"DNB_DOMESTIC_ULTIMATE_NAME\"].isnull()),\u0027DNB_CUSTOMER_NAME\u0027] \u003d df.DNB_DOMESTIC_ULTIMATE_NAME\n\ndf.loc[(df[\"DNB_DOMESTIC_ULTIMATE_NAME\"].isnull())\u0026(~df[\"DNB_HQ_NAME\"].isnull()),\u0027DNB_LEVEL\u0027] \u003d \"HQ\"\ndf.loc[(df[\"DNB_DOMESTIC_ULTIMATE_NAME\"].isnull())\u0026(~df[\"DNB_HQ_NAME\"].isnull()),\u0027DNB_CUSTOMER_NAME\u0027] \u003d df.DNB_HQ_NAME\n\ndf.loc[(df[\"DNB_DOMESTIC_ULTIMATE_NAME\"].isnull())\u0026(~df[\"DNB_HQ_NAME\"].isnull()),\u0027DNB_LEVEL\u0027] \u003d \"HQ\"\ndf.loc[(df[\"DNB_DOMESTIC_ULTIMATE_NAME\"].isnull())\u0026(~df[\"DNB_HQ_NAME\"].isnull()),\u0027DNB_CUSTOMER_NAME\u0027] \u003d df.DNB_HQ_NAME\n\ndf[\u0027EDW_STATE\u0027] \u003d \u0027Unknown\u0027\ndf.loc[df[\"EDW_CUSTOMER_NAME\"].isnull(),\u0027EDW_STATE\u0027] \u003d \"None\"\ndf.loc[~df[\"EDW_CUSTOMER_NAME\"].isnull(),\u0027EDW_STATE\u0027] \u003d \"Set\"\n\ndf.DNB_LEVEL.value_counts(dropna\u003dFalse)"
      ],
      "outputs": [
        {
          "output_type": "stream",
          "text": "\u003c\u003e:7: DeprecationWarning: invalid escape sequence \\w\n",
          "name": "stderr"
        },
        {
          "output_type": "execute_result",
          "execution_count": 22,
          "data": {
            "text/plain": "None      752866\nGlobal     91551\nName: DNB_LEVEL, dtype: int64"
          },
          "metadata": {}
        }
      ]
    },
    {
      "execution_count": 0,
      "cell_type": "code",
      "metadata": {},
      "source": [
        "#ACCOUNTS_WITH_CUSTOMER_FROM_EDW_AND_DUNS_df \u003d \n\n# Write recipe outputs\nACCOUNTS_WITH_CUSTOMER_FROM_EDW_AND_DUNS \u003d dataiku.Dataset(\"ACCOUNTS_WITH_CUSTOMER_FROM_EDW_AND_DUNS\")\nACCOUNTS_WITH_CUSTOMER_FROM_EDW_AND_DUNS.write_with_schema(ACCOUNTS_WITH_CUSTOMER_FROM_EDW_AND_DUNS_df)"
      ],
      "outputs": []
    }
  ]
}