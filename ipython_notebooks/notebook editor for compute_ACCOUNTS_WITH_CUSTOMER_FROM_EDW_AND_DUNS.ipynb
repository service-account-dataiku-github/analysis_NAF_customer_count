{
  "nbformat": 4,
  "nbformat_minor": 0,
  "metadata": {
    "kernelspec": {
      "display_name": "Python in cpu-m-cpu-3-mem-4Gb (builtin env)",
      "language": "python",
      "name": "py-dku-containerized-venv--cpu-m-cpu-3-mem-4gb"
    },
    "associatedRecipe": "compute_ACCOUNTS_WITH_CUSTOMER_FROM_EDW_AND_DUNS",
    "dkuGit": {
      "lastInteraction": 0
    },
    "creationTag": {
      "versionNumber": 0,
      "lastModifiedBy": {
        "login": "Daniel.Vandermeer"
      },
      "lastModifiedOn": 1664967231995
    },
    "creator": "Daniel.Vandermeer",
    "createdOn": 1664967231995,
    "tags": [
      "recipe-editor"
    ],
    "customFields": {}
  },
  "cells": [
    {
      "cell_type": "code",
      "metadata": {},
      "outputs": [],
      "execution_count": 0,
      "source": [
        "# -*- coding: utf-8 -*-\n",
        "import dataiku\n",
        "import pandas as pd, numpy as np\n",
        "from dataiku import pandasutils as pdu\n",
        "import string\n",
        "\n",
        "# Read recipe inputs\n",
        "ACCOUNTS_WITH_BUNDLER_AND_DUNS \u003d dataiku.Dataset(\"ACCOUNTS_WITH_BUNDLER_AND_DUNS\")\n",
        "ACCOUNTS_WITH_BUNDLER_AND_DUNS_df \u003d ACCOUNTS_WITH_BUNDLER_AND_DUNS.get_dataframe()"
      ]
    },
    {
      "cell_type": "code",
      "metadata": {},
      "outputs": [],
      "execution_count": 0,
      "source": [
        "df \u003d ACCOUNTS_WITH_BUNDLER_AND_DUNS_df\n",
        "\n",
        "import warnings\n",
        "warnings.filterwarnings(action\u003d\u0027once\u0027)\n",
        "\n",
        "df[\u0027DUNS\u0027] \u003d df[\u0027DUNS\u0027].astype(\u0027Int64\u0027, errors\u003d\u0027ignore\u0027)\n",
        "df[\u0027DNB_DUNS_NUMBER\u0027] \u003d df[\u0027DNB_DUNS_NUMBER\u0027].astype(\u0027Int64\u0027, errors\u003d\u0027ignore\u0027)\n",
        "df[\u0027DNB_BUSINESS_NAME\u0027] \u003d df[\u0027DNB_BUSINESS_NAME\u0027].str.upper()\n",
        "df[\"DNB_BUSINESS_NAME\"] \u003d df[\u0027DNB_BUSINESS_NAME\u0027].str.replace(\u0027[^\\w\\s]\u0027,\u0027\u0027)\n",
        "\n",
        "df[\u0027DNB_GLOBAL_ULT_NUMBER\u0027] \u003d df[\u0027DNB_GLOBAL_ULT_NUMBER\u0027].astype(\u0027Int64\u0027, errors\u003d\u0027ignore\u0027)\n",
        "df[\u0027DNB_GLOBAL_ULT_NAME\u0027] \u003d df[\u0027DNB_GLOBAL_ULT_NAME\u0027].str.upper()\n",
        "df[\"DNB_GLOBAL_ULT_NAME\"] \u003d df[\u0027DNB_GLOBAL_ULT_NAME\u0027].str.replace(\u0027[^\\w\\s]\u0027,\u0027\u0027)\n",
        "\n",
        "df[\u0027DNB_DOMESTIC_ULT_NUMBER\u0027] \u003d df[\u0027DNB_DOMESTIC_ULT_NUMBER\u0027].astype(\u0027Int64\u0027, errors\u003d\u0027ignore\u0027)\n",
        "df[\u0027DNB_DOMESTIC_ULTIMATE_NAME\u0027] \u003d df[\u0027DNB_DOMESTIC_ULTIMATE_NAME\u0027].str.upper()\n",
        "df[\"DNB_DOMESTIC_ULTIMATE_NAME\"] \u003d df[\u0027DNB_DOMESTIC_ULTIMATE_NAME\u0027].str.replace(\u0027[^\\w\\s]\u0027,\u0027\u0027)\n",
        "\n",
        "df[\u0027DNB_HQ_NUMBER\u0027] \u003d df[\u0027DNB_HQ_NUMBER\u0027].astype(\u0027Int64\u0027, errors\u003d\u0027ignore\u0027)\n",
        "df[\u0027DNB_HQ_NAME\u0027] \u003d df[\u0027DNB_HQ_NAME\u0027].str.upper()\n",
        "df[\"DNB_HQ_NAME\"] \u003d df[\u0027DNB_HQ_NAME\u0027].str.replace(\u0027[^\\w\\s]\u0027,\u0027\u0027)\n",
        "\n",
        "df[\u0027DNB_LEVEL\u0027] \u003d \u0027None\u0027\n",
        "df[\u0027DNB_CUSTOMER_NAME\u0027] \u003d np.nan\n",
        "\n",
        "df.loc[~df[\"DNB_GLOBAL_ULT_NAME\"].isnull(),\u0027DNB_LEVEL\u0027] \u003d \"DUNS Global\"\n",
        "df.loc[~df[\"DNB_GLOBAL_ULT_NAME\"].isnull(),\u0027DNB_CUSTOMER_NAME\u0027] \u003d df.DNB_GLOBAL_ULT_NAME\n",
        "\n",
        "df.loc[(df[\"DNB_GLOBAL_ULT_NAME\"].isnull())\u0026(~df[\"DNB_DOMESTIC_ULTIMATE_NAME\"].isnull()),\u0027DNB_LEVEL\u0027] \u003d \"DUNS Domestic\"\n",
        "df.loc[(df[\"DNB_GLOBAL_ULT_NAME\"].isnull())\u0026(~df[\"DNB_DOMESTIC_ULTIMATE_NAME\"].isnull()),\u0027DNB_CUSTOMER_NAME\u0027] \u003d df.DNB_DOMESTIC_ULTIMATE_NAME\n",
        "\n",
        "df.loc[(df[\"DNB_DOMESTIC_ULTIMATE_NAME\"].isnull())\u0026(~df[\"DNB_HQ_NAME\"].isnull()),\u0027DNB_LEVEL\u0027] \u003d \"DUNS HQ\"\n",
        "df.loc[(df[\"DNB_DOMESTIC_ULTIMATE_NAME\"].isnull())\u0026(~df[\"DNB_HQ_NAME\"].isnull()),\u0027DNB_CUSTOMER_NAME\u0027] \u003d df.DNB_HQ_NAME\n",
        "\n",
        "df.loc[(df[\"DNB_HQ_NAME\"].isnull())\u0026(~df[\"DNB_BUSINESS_NAME\"].isnull()),\u0027DNB_LEVEL\u0027] \u003d \"DUNS\"\n",
        "df.loc[(df[\"DNB_HQ_NAME\"].isnull())\u0026(~df[\"DNB_BUSINESS_NAME\"].isnull()),\u0027DNB_CUSTOMER_NAME\u0027] \u003d df.DNB_BUSINESS_NAME\n",
        "\n",
        "df[\u0027EDW_STATE\u0027] \u003d \u0027Unknown\u0027\n",
        "df.loc[df[\"EDW_CUSTOMER_NAME\"].isnull(),\u0027EDW_STATE\u0027] \u003d \"None\"\n",
        "df.loc[~df[\"EDW_CUSTOMER_NAME\"].isnull(),\u0027EDW_STATE\u0027] \u003d \"Set\"\n",
        "\n",
        "df[\u0027CUSTOMER\u0027] \u003d np.nan\n",
        "df[\u0027CUST_CALC_SOURCE\u0027] \u003d \u0027Unknown\u0027\n",
        "df.loc[~df[\"EDW_CUSTOMER_NAME\"].isnull(),\u0027CUSTOMER\u0027] \u003d df[\"EDW_CUSTOMER_NAME\"]\n",
        "df.loc[~df[\"EDW_CUSTOMER_NAME\"].isnull(),\u0027CUST_CALC_SOURCE\u0027] \u003d \"EDW\"\n",
        "\n",
        "df.loc[(df[\"CUSTOMER\"].isnull())\u0026(~df[\"DNB_CUSTOMER_NAME\"].isnull()),\u0027CUST_CALC_SOURCE\u0027] \u003d \"DNB\"\n",
        "df.loc[df[\"CUSTOMER\"].isnull(),\u0027CUSTOMER\u0027] \u003d df[\"DNB_CUSTOMER_NAME\"]\n",
        "\n",
        "df.loc[df[\"CUSTOMER\"].isnull(),\u0027CUST_CALC_SOURCE\u0027] \u003d \u0027ACCOUNT\u0027\n",
        "df.loc[df[\"CUSTOMER\"].isnull(),\u0027CUSTOMER\u0027] \u003d df[\"CUSTOMER_ACCOUNT_NAME\"]\n",
        "\n",
        "# RULE SETs\n",
        "# Rule 001\n",
        "df.loc[(df[\u0027CUSTOMER\u0027]\u003d\u003d\u0027QUANTA SERVICES INC\u0027)|(df[\u0027CUSTOMER\u0027]\u003d\u003d\u0027QUANTA SERVICES\u0027),\"CUSTOMER\"] \u003d \"QUANTA SERVICES INC\"\n",
        "df.loc[(df[\u0027CUSTOMER\u0027]\u003d\u003d\u0027QUANTA SERVICES INC\u0027)|(df[\u0027CUSTOMER\u0027]\u003d\u003d\u0027QUANTA SERVICES\u0027),\"CUST_CALC_SOURCE\"] \u003d \"RULE 001\"\n",
        "\n",
        "# Rule 002\n",
        "df.loc[(df[\u0027CUSTOMER\u0027]\u003d\u003d\u00270113 WINDSTREAM COMM\u0027)|(df[\u0027CUSTOMER\u0027]\u003d\u003d\u00270113 WINDSTREAM COMM (2)\u0027),\"CUSTOMER\"] \u003d \"0113 WINDSTREAM COMM\"\n",
        "df.loc[(df[\u0027CUSTOMER\u0027]\u003d\u003d\u00270113 WINDSTREAM COMM\u0027)|(df[\u0027CUSTOMER\u0027]\u003d\u003d\u00270113 WINDSTREAM COMM (2)\u0027),\"CUST_CALC_SOURCE\"] \u003d \"RULE 002\"\n",
        "\n",
        "df.CUST_CALC_SOURCE.value_counts()"
      ]
    },
    {
      "cell_type": "code",
      "metadata": {},
      "outputs": [],
      "execution_count": 0,
      "source": [
        "ACCOUNTS_WITH_CUSTOMER_FROM_EDW_AND_DUNS_df \u003d df\n",
        "\n",
        "# Write recipe outputs\n",
        "ACCOUNTS_WITH_CUSTOMER_FROM_EDW_AND_DUNS \u003d dataiku.Dataset(\"ACCOUNTS_WITH_CUSTOMER_FROM_EDW_AND_DUNS\")\n",
        "ACCOUNTS_WITH_CUSTOMER_FROM_EDW_AND_DUNS.write_with_schema(ACCOUNTS_WITH_CUSTOMER_FROM_EDW_AND_DUNS_df)"
      ]
    }
  ]
}