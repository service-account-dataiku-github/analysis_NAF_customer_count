{
  "metadata": {
    "kernelspec": {
      "name": "py-dku-venv-env_clc",
      "display_name": "Python (env env_clc)",
      "language": "python"
    },
    "associatedRecipe": "compute_ACCOUNTS_WITH_CUSTOMER_FROM_EDW_AND_DUNS",
    "dkuGit": {
      "lastInteraction": 0
    },
    "creationTag": {
      "versionNumber": 0,
      "lastModifiedBy": {
        "login": "Daniel.Vandermeer"
      },
      "lastModifiedOn": 1664967231995
    },
    "creator": "Daniel.Vandermeer",
    "createdOn": 1664967231995,
    "tags": [
      "recipe-editor"
    ],
    "customFields": {},
    "hide_input": false,
    "language_info": {
      "name": "python",
      "version": "3.6.8",
      "mimetype": "text/x-python",
      "codemirror_mode": {
        "name": "ipython",
        "version": 3
      },
      "pygments_lexer": "ipython3",
      "nbconvert_exporter": "python",
      "file_extension": ".py"
    },
    "modifiedBy": "Daniel.Vandermeer"
  },
  "nbformat": 4,
  "nbformat_minor": 1,
  "cells": [
    {
      "execution_count": 8,
      "cell_type": "code",
      "metadata": {},
      "source": [
        "# -*- coding: utf-8 -*-\nimport dataiku\nimport pandas as pd, numpy as np\nfrom dataiku import pandasutils as pdu\nimport string\n\n# Read recipe inputs\nACCOUNTS_WITH_BUNDLER_AND_DUNS \u003d dataiku.Dataset(\"ACCOUNTS_WITH_BUNDLER_AND_DUNS\")\nACCOUNTS_WITH_BUNDLER_AND_DUNS_df \u003d ACCOUNTS_WITH_BUNDLER_AND_DUNS.get_dataframe()"
      ],
      "outputs": [
        {
          "output_type": "stream",
          "text": "/opt/dataiku-dss-10.0.5/python/dataiku/core/intercom.py:413: ResourceWarning: unclosed \u003csocket.socket fd\u003d58, family\u003dAddressFamily.AF_INET, type\u003dSocketKind.SOCK_STREAM, proto\u003d6, laddr\u003d(\u002710.92.106.166\u0027, 40552), raddr\u003d(\u002710.92.106.166\u0027, 10001)\u003e\n  return _handle_json_resp(backend_api_post_call(path, data, **kwargs), err_msg \u003d err_msg)\n/data/dataiku/dss_data/code-envs/python/env_clc/lib/python3.6/site-packages/ipykernel_launcher.py:9: ResourceWarning: unclosed \u003csocket.socket fd\u003d58, family\u003dAddressFamily.AF_INET, type\u003dSocketKind.SOCK_STREAM, proto\u003d6, laddr\u003d(\u002710.92.106.166\u0027, 40554), raddr\u003d(\u002710.92.106.166\u0027, 10001)\u003e\n  if __name__ \u003d\u003d \u0027__main__\u0027:\n",
          "name": "stderr"
        }
      ]
    },
    {
      "execution_count": 11,
      "cell_type": "code",
      "metadata": {},
      "source": [
        "df \u003d ACCOUNTS_WITH_BUNDLER_AND_DUNS_df\n\nimport warnings\nwarnings.filterwarnings(action\u003d\u0027once\u0027)\n\ndf[\u0027DUNS\u0027] \u003d df[\u0027DUNS\u0027].astype(\u0027Int64\u0027, errors\u003d\u0027ignore\u0027)\ndf[\u0027DNB_DUNS_NUMBER\u0027] \u003d df[\u0027DNB_DUNS_NUMBER\u0027].astype(\u0027Int64\u0027, errors\u003d\u0027ignore\u0027)\ndf[\u0027DNB_BUSINESS_NAME\u0027] \u003d df[\u0027DNB_BUSINESS_NAME\u0027].str.upper()\ndf[\"DNB_BUSINESS_NAME\"] \u003d df[\u0027DNB_BUSINESS_NAME\u0027].str.replace(\u0027[^\\w\\s]\u0027,\u0027\u0027)\n\ndf[\u0027DNB_GLOBAL_ULT_NUMBER\u0027] \u003d df[\u0027DNB_GLOBAL_ULT_NUMBER\u0027].astype(\u0027Int64\u0027, errors\u003d\u0027ignore\u0027)\ndf[\u0027DNB_GLOBAL_ULT_NAME\u0027] \u003d df[\u0027DNB_GLOBAL_ULT_NAME\u0027].str.upper()\ndf[\"DNB_GLOBAL_ULT_NAME\"] \u003d df[\u0027DNB_GLOBAL_ULT_NAME\u0027].str.replace(\u0027[^\\w\\s]\u0027,\u0027\u0027)\n\ndf[\u0027DNB_DOMESTIC_ULT_NUMBER\u0027] \u003d df[\u0027DNB_DOMESTIC_ULT_NUMBER\u0027].astype(\u0027Int64\u0027, errors\u003d\u0027ignore\u0027)\ndf[\u0027DNB_DOMESTIC_ULTIMATE_NAME\u0027] \u003d df[\u0027DNB_DOMESTIC_ULTIMATE_NAME\u0027].str.upper()\ndf[\"DNB_DOMESTIC_ULTIMATE_NAME\"] \u003d df[\u0027DNB_DOMESTIC_ULTIMATE_NAME\u0027].str.replace(\u0027[^\\w\\s]\u0027,\u0027\u0027)\n\ndf[\u0027DNB_HQ_NUMBER\u0027] \u003d df[\u0027DNB_HQ_NUMBER\u0027].astype(\u0027Int64\u0027, errors\u003d\u0027ignore\u0027)\ndf[\u0027DNB_HQ_NAME\u0027] \u003d df[\u0027DNB_HQ_NAME\u0027].str.upper()\ndf[\"DNB_HQ_NAME\"] \u003d df[\u0027DNB_HQ_NAME\u0027].str.replace(\u0027[^\\w\\s]\u0027,\u0027\u0027)\n\ndf[\u0027DNB_LEVEL\u0027] \u003d \u0027None\u0027\ndf[\u0027DNB_CUSTOMER_NAME\u0027] \u003d np.nan\n\ndf.loc[~df[\"DNB_GLOBAL_ULT_NAME\"].isnull(),\u0027DNB_LEVEL\u0027] \u003d \"DUNS Global\"\ndf.loc[~df[\"DNB_GLOBAL_ULT_NAME\"].isnull(),\u0027DNB_CUSTOMER_NAME\u0027] \u003d df.DNB_GLOBAL_ULT_NAME\n\ndf.loc[(df[\"DNB_GLOBAL_ULT_NAME\"].isnull())\u0026(~df[\"DNB_DOMESTIC_ULTIMATE_NAME\"].isnull()),\u0027DNB_LEVEL\u0027] \u003d \"DUNS Domestic\"\ndf.loc[(df[\"DNB_GLOBAL_ULT_NAME\"].isnull())\u0026(~df[\"DNB_DOMESTIC_ULTIMATE_NAME\"].isnull()),\u0027DNB_CUSTOMER_NAME\u0027] \u003d df.DNB_DOMESTIC_ULTIMATE_NAME\n\ndf.loc[(df[\"DNB_DOMESTIC_ULTIMATE_NAME\"].isnull())\u0026(~df[\"DNB_HQ_NAME\"].isnull()),\u0027DNB_LEVEL\u0027] \u003d \"DUNS HQ\"\ndf.loc[(df[\"DNB_DOMESTIC_ULTIMATE_NAME\"].isnull())\u0026(~df[\"DNB_HQ_NAME\"].isnull()),\u0027DNB_CUSTOMER_NAME\u0027] \u003d df.DNB_HQ_NAME\n\ndf.loc[(df[\"DNB_HQ_NAME\"].isnull())\u0026(~df[\"DNB_BUSINESS_NAME\"].isnull()),\u0027DNB_LEVEL\u0027] \u003d \"DUNS\"\ndf.loc[(df[\"DNB_HQ_NAME\"].isnull())\u0026(~df[\"DNB_BUSINESS_NAME\"].isnull()),\u0027DNB_CUSTOMER_NAME\u0027] \u003d df.DNB_BUSINESS_NAME\n\ndf[\u0027EDW_STATE\u0027] \u003d \u0027Unknown\u0027\ndf.loc[df[\"EDW_CUSTOMER_NAME\"].isnull(),\u0027EDW_STATE\u0027] \u003d \"None\"\ndf.loc[~df[\"EDW_CUSTOMER_NAME\"].isnull(),\u0027EDW_STATE\u0027] \u003d \"Set\"\n\ndf[\u0027CUSTOMER\u0027] \u003d np.nan\ndf[\u0027CUST_CALC_SOURCE\u0027] \u003d \u0027Unknown\u0027\ndf.loc[~df[\"EDW_CUSTOMER_NAME\"].isnull(),\u0027CUSTOMER\u0027] \u003d df[\"EDW_CUSTOMER_NAME\"]\ndf.loc[~df[\"EDW_CUSTOMER_NAME\"].isnull(),\u0027CUST_CALC_SOURCE\u0027] \u003d \"EDW\"\n\ndf.loc[(df[\"CUSTOMER\"].isnull())\u0026(~df[\"DNB_CUSTOMER_NAME\"].isnull()),\u0027CUST_CALC_SOURCE\u0027] \u003d \"DNB\"\ndf.loc[df[\"CUSTOMER\"].isnull(),\u0027CUSTOMER\u0027] \u003d df[\"DNB_CUSTOMER_NAME\"]\n\ndf.loc[df[\"CUSTOMER\"].isnull(),\u0027CUST_CALC_SOURCE\u0027] \u003d \u0027ACCOUNT\u0027\ndf.loc[df[\"CUSTOMER\"].isnull(),\u0027CUSTOMER\u0027] \u003d df[\"CUSTOMER_ACCOUNT_NAME\"]\n\n# RULE SETs\ndef apply_rule(df, rule_name,filter_name_list,final_name):\n\n    df.loc[df[\u0027CUSTOMER\u0027].isin(filter_name_list),\"CUST_CALC_SOURCE\"] \u003d rule_name\n    df.loc[df[\u0027CUSTOMER\u0027].isin(filter_name_list),\"CUSTOMER\"] \u003d final_name\n\n    return(df)\n\ndf \u003d apply_rule(df, \"RULE 001\", [\u0027QUANTA SERVICES INC\u0027,\u0027QUANTA SERVICES\u0027], \u0027QUANTA SERVICES INC\u0027)\ndf \u003d apply_rule(df, \"RULE 002\", [\u00270113 WINDSTREAM COMM\u0027,\u00270113 WINDSTREAM COMM (2)\u0027], \u00270113 WINDSTREAM COMM\u0027)\ndf \u003d apply_rule(df, \"RULE 000\", [\u00271033 MONSANTO COMPANY (25)\u0027,\u00271033 MONSANTO COMPANY (32)\u0027], \u00271033 MONSANTO COMPANY\u0027)\ndf \u003d apply_rule(df, \"RULE 000\", [\u00272536 HOME DEPOT\u0027,\u00272536 HOME DEPOT 5\u0027], \u00272536 HOME DEPOT\u0027)\ndf \u003d apply_rule(df, \"RULE 000\", [\u0027\u0027,\u0027\u0027], \u0027\u0027\n\n#df \u003d apply_rule(df, \"RULE 000\", [\u0027\u0027,\u0027\u0027], \u0027\u0027)\n\nprint(len(df))\ndf.CUST_CALC_SOURCE.value_counts()"
      ],
      "outputs": [
        {
          "output_type": "stream",
          "text": "\u003c\u003e:9: DeprecationWarning: invalid escape sequence \\w\n",
          "name": "stderr"
        },
        {
          "output_type": "stream",
          "text": "844417\n",
          "name": "stdout"
        },
        {
          "output_type": "execute_result",
          "execution_count": 11,
          "data": {
            "text/plain": "DNB         393821\nEDW         241006\nACCOUNT     209282\nRULE 001       306\nRULE 002         2\nName: CUST_CALC_SOURCE, dtype: int64"
          },
          "metadata": {}
        }
      ]
    },
    {
      "execution_count": 0,
      "cell_type": "code",
      "metadata": {},
      "source": [
        "ACCOUNTS_WITH_CUSTOMER_FROM_EDW_AND_DUNS_df \u003d df\n\n# Write recipe outputs\nACCOUNTS_WITH_CUSTOMER_FROM_EDW_AND_DUNS \u003d dataiku.Dataset(\"ACCOUNTS_WITH_CUSTOMER_FROM_EDW_AND_DUNS\")\nACCOUNTS_WITH_CUSTOMER_FROM_EDW_AND_DUNS.write_with_schema(ACCOUNTS_WITH_CUSTOMER_FROM_EDW_AND_DUNS_df)"
      ],
      "outputs": []
    }
  ]
}