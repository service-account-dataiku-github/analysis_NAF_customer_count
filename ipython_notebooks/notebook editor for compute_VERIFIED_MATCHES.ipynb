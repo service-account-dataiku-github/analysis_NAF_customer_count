{
  "metadata": {
    "kernelspec": {
      "name": "py-dku-venv-env_clc",
      "display_name": "Python (env env_clc)",
      "language": "python"
    },
    "associatedRecipe": "compute_VERIFIED_MATCHES",
    "dkuGit": {
      "lastInteraction": 0
    },
    "creationTag": {
      "versionNumber": 0,
      "lastModifiedBy": {
        "login": "Daniel.Vandermeer"
      },
      "lastModifiedOn": 1667264904049
    },
    "creator": "Daniel.Vandermeer",
    "createdOn": 1667264904049,
    "tags": [
      "recipe-editor"
    ],
    "customFields": {},
    "hide_input": false,
    "language_info": {
      "name": "python",
      "version": "3.6.8",
      "mimetype": "text/x-python",
      "codemirror_mode": {
        "name": "ipython",
        "version": 3
      },
      "pygments_lexer": "ipython3",
      "nbconvert_exporter": "python",
      "file_extension": ".py"
    },
    "modifiedBy": "Daniel.Vandermeer"
  },
  "nbformat": 4,
  "nbformat_minor": 1,
  "cells": [
    {
      "execution_count": 1,
      "cell_type": "code",
      "metadata": {},
      "source": [
        "# -*- coding: utf-8 -*-\nimport dataiku\nimport pandas as pd, numpy as np\nfrom dataiku import pandasutils as pdu\n\n# Read recipe inputs\nMATCHES_1_TO_1_QUEUED \u003d dataiku.Dataset(\"MATCHES_1_TO_1_QUEUED\")\nMATCHES_1_TO_1_QUEUED_df \u003d MATCHES_1_TO_1_QUEUED.get_dataframe()\n\nMATCHES_1_TO_N_QUEUED \u003d dataiku.Dataset(\"MATCHES_1_TO_N_QUEUED\")\nMATCHES_1_TO_N_QUEUED_df \u003d MATCHES_1_TO_N_QUEUED.get_dataframe()"
      ],
      "outputs": []
    },
    {
      "execution_count": 3,
      "cell_type": "code",
      "metadata": {},
      "source": [
        "df_1_N \u003d MATCHES_1_TO_1_QUEUED_df\nprint(len(df_1_N))\ndf_1_N.head(20)"
      ],
      "outputs": [
        {
          "output_type": "stream",
          "text": "1503\n",
          "name": "stdout"
        },
        {
          "output_type": "execute_result",
          "execution_count": 3,
          "data": {
            "text/plain": "                                CUSTOMER                              MATCH_CUSTOMER              DRAW_UP_DATE\n0          0972 HEINEKEN USA INC (PHH35)               0972 HEINEKEN USA INC (PHH47) 2019-06-01 00:00:00+00:00\n1                  FIBREBOND CORPORATION                     FIBREBOND CORPORATION 2 2019-04-01 00:00:00+00:00\n2         FIBER OPTIC CONCEPTS \u0026 LIGHTIN       FIBER OPTIC CONCEPTS AND LIGHTING LLC 2021-10-01 00:00:00+00:00\n3           FEWERS FUNERAL HOME 1987 LTD            FEWERS FUNERAL HOME 1987 LIMITED 2022-03-01 00:00:00+00:00\n4              FEVISA LOGISTICA SA DE CV                 FEVISA LOGISTICA S A DE C V 2020-10-01 00:00:00+00:00\n5                   FERRING PHARM (2D51)                         FERRING PHARMA 2D51 2020-10-01 00:00:00+00:00\n6                    FERMAN MOTOR CAR CO                FERMAN MOTOR CAR COMPANY INC 2022-03-01 00:00:00+00:00\n7                    FENCE FACTORY CORPS  SACRAMENTO REGIONAL CONSERVATION CORPS INC 2019-02-01 00:00:00+00:00\n8                 FELIX CONSTRUCTION CO.                       FELIX CONSTRUCTION CO 2021-12-01 00:00:00+00:00\n9         FEDERAL INDUSTRIAL SERVICES WV          FEDERAL INDUSTRIAL SERVICES WV INC 2021-11-01 00:00:00+00:00\n10             FDL OPERATING, LLC (5ET1)                      FDL OPERATING LLC 5ET1 2021-03-01 00:00:00+00:00\n11                      FD RILEY SON INC                               FD HODGES INC 2020-08-01 00:00:00+00:00\n12                    FCS AMERICA (3FCS)                 FARM CREDIT SERVICES (3FCS) 2020-05-01 00:00:00+00:00\n13                           FCPA (5C56)                       FUJITSU COMPUTER 5C56 2020-09-01 00:00:00+00:00\n14                  FAYETTE ERECTORS INC              FAYETTE LOCAL SCHOOL DISCTRICT 2020-11-01 00:00:00+00:00\n15      FAYETTE COUNTY MEMORIAL HOSPITAL              FAYETTE LOCAL SCHOOL DISCTRICT 2020-11-01 00:00:00+00:00\n16  FASTGO SYSTEM (FIREPLACE UNLIMITED (          FASTGO SYSTEM FIREPLACE UNLIMITED  2022-04-01 00:00:00+00:00\n17                              FASTFORM   FASTFORM INSULATED CONCRETE FORMS LIMITED 2022-03-01 00:00:00+00:00\n18              FASTER LINEN SERVICE LTD                   FASTER LINEN SERVICE LTD. 2019-05-01 00:00:00+00:00\n19             FAST PARTS AFFILIATES INC                              ASM AFFILIATES 2022-05-01 00:00:00+00:00",
            "text/html": "\u003cdiv\u003e\n\u003cstyle scoped\u003e\n    .dataframe tbody tr th:only-of-type {\n        vertical-align: middle;\n    }\n\n    .dataframe tbody tr th {\n        vertical-align: top;\n    }\n\n    .dataframe thead th {\n        text-align: right;\n    }\n\u003c/style\u003e\n\u003ctable border\u003d\"1\" class\u003d\"dataframe\"\u003e\n  \u003cthead\u003e\n    \u003ctr style\u003d\"text-align: right;\"\u003e\n      \u003cth\u003e\u003c/th\u003e\n      \u003cth\u003eCUSTOMER\u003c/th\u003e\n      \u003cth\u003eMATCH_CUSTOMER\u003c/th\u003e\n      \u003cth\u003eDRAW_UP_DATE\u003c/th\u003e\n    \u003c/tr\u003e\n  \u003c/thead\u003e\n  \u003ctbody\u003e\n    \u003ctr\u003e\n      \u003cth\u003e0\u003c/th\u003e\n      \u003ctd\u003e0972 HEINEKEN USA INC (PHH35)\u003c/td\u003e\n      \u003ctd\u003e0972 HEINEKEN USA INC (PHH47)\u003c/td\u003e\n      \u003ctd\u003e2019-06-01 00:00:00+00:00\u003c/td\u003e\n    \u003c/tr\u003e\n    \u003ctr\u003e\n      \u003cth\u003e1\u003c/th\u003e\n      \u003ctd\u003eFIBREBOND CORPORATION\u003c/td\u003e\n      \u003ctd\u003eFIBREBOND CORPORATION 2\u003c/td\u003e\n      \u003ctd\u003e2019-04-01 00:00:00+00:00\u003c/td\u003e\n    \u003c/tr\u003e\n    \u003ctr\u003e\n      \u003cth\u003e2\u003c/th\u003e\n      \u003ctd\u003eFIBER OPTIC CONCEPTS \u0026amp; LIGHTIN\u003c/td\u003e\n      \u003ctd\u003eFIBER OPTIC CONCEPTS AND LIGHTING LLC\u003c/td\u003e\n      \u003ctd\u003e2021-10-01 00:00:00+00:00\u003c/td\u003e\n    \u003c/tr\u003e\n    \u003ctr\u003e\n      \u003cth\u003e3\u003c/th\u003e\n      \u003ctd\u003eFEWERS FUNERAL HOME 1987 LTD\u003c/td\u003e\n      \u003ctd\u003eFEWERS FUNERAL HOME 1987 LIMITED\u003c/td\u003e\n      \u003ctd\u003e2022-03-01 00:00:00+00:00\u003c/td\u003e\n    \u003c/tr\u003e\n    \u003ctr\u003e\n      \u003cth\u003e4\u003c/th\u003e\n      \u003ctd\u003eFEVISA LOGISTICA SA DE CV\u003c/td\u003e\n      \u003ctd\u003eFEVISA LOGISTICA S A DE C V\u003c/td\u003e\n      \u003ctd\u003e2020-10-01 00:00:00+00:00\u003c/td\u003e\n    \u003c/tr\u003e\n    \u003ctr\u003e\n      \u003cth\u003e5\u003c/th\u003e\n      \u003ctd\u003eFERRING PHARM (2D51)\u003c/td\u003e\n      \u003ctd\u003eFERRING PHARMA 2D51\u003c/td\u003e\n      \u003ctd\u003e2020-10-01 00:00:00+00:00\u003c/td\u003e\n    \u003c/tr\u003e\n    \u003ctr\u003e\n      \u003cth\u003e6\u003c/th\u003e\n      \u003ctd\u003eFERMAN MOTOR CAR CO\u003c/td\u003e\n      \u003ctd\u003eFERMAN MOTOR CAR COMPANY INC\u003c/td\u003e\n      \u003ctd\u003e2022-03-01 00:00:00+00:00\u003c/td\u003e\n    \u003c/tr\u003e\n    \u003ctr\u003e\n      \u003cth\u003e7\u003c/th\u003e\n      \u003ctd\u003eFENCE FACTORY CORPS\u003c/td\u003e\n      \u003ctd\u003eSACRAMENTO REGIONAL CONSERVATION CORPS INC\u003c/td\u003e\n      \u003ctd\u003e2019-02-01 00:00:00+00:00\u003c/td\u003e\n    \u003c/tr\u003e\n    \u003ctr\u003e\n      \u003cth\u003e8\u003c/th\u003e\n      \u003ctd\u003eFELIX CONSTRUCTION CO.\u003c/td\u003e\n      \u003ctd\u003eFELIX CONSTRUCTION CO\u003c/td\u003e\n      \u003ctd\u003e2021-12-01 00:00:00+00:00\u003c/td\u003e\n    \u003c/tr\u003e\n    \u003ctr\u003e\n      \u003cth\u003e9\u003c/th\u003e\n      \u003ctd\u003eFEDERAL INDUSTRIAL SERVICES WV\u003c/td\u003e\n      \u003ctd\u003eFEDERAL INDUSTRIAL SERVICES WV INC\u003c/td\u003e\n      \u003ctd\u003e2021-11-01 00:00:00+00:00\u003c/td\u003e\n    \u003c/tr\u003e\n    \u003ctr\u003e\n      \u003cth\u003e10\u003c/th\u003e\n      \u003ctd\u003eFDL OPERATING, LLC (5ET1)\u003c/td\u003e\n      \u003ctd\u003eFDL OPERATING LLC 5ET1\u003c/td\u003e\n      \u003ctd\u003e2021-03-01 00:00:00+00:00\u003c/td\u003e\n    \u003c/tr\u003e\n    \u003ctr\u003e\n      \u003cth\u003e11\u003c/th\u003e\n      \u003ctd\u003eFD RILEY SON INC\u003c/td\u003e\n      \u003ctd\u003eFD HODGES INC\u003c/td\u003e\n      \u003ctd\u003e2020-08-01 00:00:00+00:00\u003c/td\u003e\n    \u003c/tr\u003e\n    \u003ctr\u003e\n      \u003cth\u003e12\u003c/th\u003e\n      \u003ctd\u003eFCS AMERICA (3FCS)\u003c/td\u003e\n      \u003ctd\u003eFARM CREDIT SERVICES (3FCS)\u003c/td\u003e\n      \u003ctd\u003e2020-05-01 00:00:00+00:00\u003c/td\u003e\n    \u003c/tr\u003e\n    \u003ctr\u003e\n      \u003cth\u003e13\u003c/th\u003e\n      \u003ctd\u003eFCPA (5C56)\u003c/td\u003e\n      \u003ctd\u003eFUJITSU COMPUTER 5C56\u003c/td\u003e\n      \u003ctd\u003e2020-09-01 00:00:00+00:00\u003c/td\u003e\n    \u003c/tr\u003e\n    \u003ctr\u003e\n      \u003cth\u003e14\u003c/th\u003e\n      \u003ctd\u003eFAYETTE ERECTORS INC\u003c/td\u003e\n      \u003ctd\u003eFAYETTE LOCAL SCHOOL DISCTRICT\u003c/td\u003e\n      \u003ctd\u003e2020-11-01 00:00:00+00:00\u003c/td\u003e\n    \u003c/tr\u003e\n    \u003ctr\u003e\n      \u003cth\u003e15\u003c/th\u003e\n      \u003ctd\u003eFAYETTE COUNTY MEMORIAL HOSPITAL\u003c/td\u003e\n      \u003ctd\u003eFAYETTE LOCAL SCHOOL DISCTRICT\u003c/td\u003e\n      \u003ctd\u003e2020-11-01 00:00:00+00:00\u003c/td\u003e\n    \u003c/tr\u003e\n    \u003ctr\u003e\n      \u003cth\u003e16\u003c/th\u003e\n      \u003ctd\u003eFASTGO SYSTEM (FIREPLACE UNLIMITED (\u003c/td\u003e\n      \u003ctd\u003eFASTGO SYSTEM FIREPLACE UNLIMITED\u003c/td\u003e\n      \u003ctd\u003e2022-04-01 00:00:00+00:00\u003c/td\u003e\n    \u003c/tr\u003e\n    \u003ctr\u003e\n      \u003cth\u003e17\u003c/th\u003e\n      \u003ctd\u003eFASTFORM\u003c/td\u003e\n      \u003ctd\u003eFASTFORM INSULATED CONCRETE FORMS LIMITED\u003c/td\u003e\n      \u003ctd\u003e2022-03-01 00:00:00+00:00\u003c/td\u003e\n    \u003c/tr\u003e\n    \u003ctr\u003e\n      \u003cth\u003e18\u003c/th\u003e\n      \u003ctd\u003eFASTER LINEN SERVICE LTD\u003c/td\u003e\n      \u003ctd\u003eFASTER LINEN SERVICE LTD.\u003c/td\u003e\n      \u003ctd\u003e2019-05-01 00:00:00+00:00\u003c/td\u003e\n    \u003c/tr\u003e\n    \u003ctr\u003e\n      \u003cth\u003e19\u003c/th\u003e\n      \u003ctd\u003eFAST PARTS AFFILIATES INC\u003c/td\u003e\n      \u003ctd\u003eASM AFFILIATES\u003c/td\u003e\n      \u003ctd\u003e2022-05-01 00:00:00+00:00\u003c/td\u003e\n    \u003c/tr\u003e\n  \u003c/tbody\u003e\n\u003c/table\u003e\n\u003c/div\u003e"
          },
          "metadata": {}
        }
      ]
    },
    {
      "execution_count": 0,
      "cell_type": "code",
      "metadata": {},
      "source": [
        "from difflib import SequenceMatcher\nimport Levenshtein\n\n\n"
      ],
      "outputs": []
    },
    {
      "execution_count": 0,
      "cell_type": "code",
      "metadata": {},
      "source": [
        ""
      ],
      "outputs": []
    },
    {
      "execution_count": 0,
      "cell_type": "code",
      "metadata": {},
      "source": [
        ""
      ],
      "outputs": []
    },
    {
      "execution_count": 0,
      "cell_type": "code",
      "metadata": {},
      "source": [
        ""
      ],
      "outputs": []
    },
    {
      "execution_count": 0,
      "cell_type": "code",
      "metadata": {},
      "source": [
        ""
      ],
      "outputs": []
    },
    {
      "execution_count": 0,
      "cell_type": "code",
      "metadata": {},
      "source": [
        "# Compute recipe outputs\n# TODO: Write here your actual code that computes the outputs\n# NB: DSS supports several kinds of APIs for reading and writing data. Please see doc.\n\n#VERIFIED_MATCHES_df \u003d ... # Compute a Pandas dataframe to write into VERIFIED_MATCHES\n\n\n# Write recipe outputs\n#VERIFIED_MATCHES \u003d dataiku.Dataset(\"VERIFIED_MATCHES\")\n#VERIFIED_MATCHES.write_with_schema(VERIFIED_MATCHES_df)"
      ],
      "outputs": []
    }
  ]
}