{
  "metadata": {
    "kernelspec": {
      "name": "py-dku-venv-env_clc",
      "display_name": "Python (env env_clc)",
      "language": "python"
    },
    "associatedRecipe": "compute_VERIFIED_MATCHES",
    "creator": "Daniel.Vandermeer",
    "createdOn": 1667264904049,
    "tags": [
      "recipe-editor"
    ],
    "customFields": {},
    "hide_input": false,
    "language_info": {
      "name": "python",
      "version": "3.6.8",
      "mimetype": "text/x-python",
      "codemirror_mode": {
        "name": "ipython",
        "version": 3
      },
      "pygments_lexer": "ipython3",
      "nbconvert_exporter": "python",
      "file_extension": ".py"
    },
    "modifiedBy": "Daniel.Vandermeer"
  },
  "nbformat": 4,
  "nbformat_minor": 1,
  "cells": [
    {
      "execution_count": 0,
      "cell_type": "code",
      "metadata": {},
      "source": [
        "# -*- coding: utf-8 -*-\nimport dataiku\nimport pandas as pd, numpy as np\nfrom dataiku import pandasutils as pdu\n\n# Read recipe inputs\nMATCHES_1_TO_1_QUEUED \u003d dataiku.Dataset(\"MATCHES_1_TO_1_QUEUED\")\nMATCHES_1_TO_1_QUEUED_df \u003d MATCHES_1_TO_1_QUEUED.get_dataframe()\nMATCHES_1_TO_N_QUEUED \u003d dataiku.Dataset(\"MATCHES_1_TO_N_QUEUED\")\nMATCHES_1_TO_N_QUEUED_df \u003d MATCHES_1_TO_N_QUEUED.get_dataframe()\n\n\n"
      ],
      "outputs": []
    },
    {
      "execution_count": 0,
      "cell_type": "code",
      "metadata": {},
      "source": [
        ""
      ],
      "outputs": []
    },
    {
      "execution_count": 0,
      "cell_type": "code",
      "metadata": {},
      "source": [
        ""
      ],
      "outputs": []
    },
    {
      "execution_count": 0,
      "cell_type": "code",
      "metadata": {},
      "source": [
        "# Compute recipe outputs\n# TODO: Write here your actual code that computes the outputs\n# NB: DSS supports several kinds of APIs for reading and writing data. Please see doc.\n\n#VERIFIED_MATCHES_df \u003d ... # Compute a Pandas dataframe to write into VERIFIED_MATCHES\n\n\n# Write recipe outputs\n#VERIFIED_MATCHES \u003d dataiku.Dataset(\"VERIFIED_MATCHES\")\n#VERIFIED_MATCHES.write_with_schema(VERIFIED_MATCHES_df)"
      ],
      "outputs": []
    }
  ]
}