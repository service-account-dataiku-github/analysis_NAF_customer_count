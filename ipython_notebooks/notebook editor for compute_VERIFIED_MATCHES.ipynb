{
  "metadata": {
    "kernelspec": {
      "name": "py-dku-containerized-venv-env_clc-cpu-m-cpu-3-mem-4gb",
      "display_name": "Python in cpu-m-cpu-3-mem-4Gb (env env_clc)",
      "language": "python"
    },
    "associatedRecipe": "compute_VERIFIED_MATCHES",
    "dkuGit": {
      "lastInteraction": 0
    },
    "creationTag": {
      "versionNumber": 0,
      "lastModifiedBy": {
        "login": "Daniel.Vandermeer"
      },
      "lastModifiedOn": 1667264904049
    },
    "creator": "Daniel.Vandermeer",
    "createdOn": 1667264904049,
    "tags": [
      "recipe-editor"
    ],
    "customFields": {},
    "hide_input": false,
    "language_info": {
      "name": "python",
      "version": "3.6.8",
      "mimetype": "text/x-python",
      "codemirror_mode": {
        "name": "ipython",
        "version": 3
      },
      "pygments_lexer": "ipython3",
      "nbconvert_exporter": "python",
      "file_extension": ".py"
    },
    "modifiedBy": "Daniel.Vandermeer"
  },
  "nbformat": 4,
  "nbformat_minor": 1,
  "cells": [
    {
      "execution_count": 1,
      "cell_type": "code",
      "metadata": {},
      "source": [
        "# -*- coding: utf-8 -*-\nimport dataiku\nimport pandas as pd, numpy as np\nfrom dataiku import pandasutils as pdu\n\nfrom difflib import SequenceMatcher\nimport Levenshtein\n\n# Read recipe inputs\nMATCHES_1_TO_1_QUEUED \u003d dataiku.Dataset(\"MATCHES_1_TO_1_QUEUED\")\nMATCHES_1_TO_1_QUEUED_df \u003d MATCHES_1_TO_1_QUEUED.get_dataframe()\n\nMATCHES_1_TO_N_QUEUED \u003d dataiku.Dataset(\"MATCHES_1_TO_N_QUEUED\")\nMATCHES_1_TO_N_QUEUED_df \u003d MATCHES_1_TO_N_QUEUED.get_dataframe()"
      ],
      "outputs": []
    },
    {
      "execution_count": 2,
      "cell_type": "code",
      "metadata": {},
      "source": [
        "df_1_N \u003d MATCHES_1_TO_1_QUEUED_df\ndf_1_N[\u0027distance\u0027] \u003d df_1_N.apply(lambda x: Levenshtein.ratio(x[\u0027CUSTOMER\u0027],x[\u0027MATCH_CUSTOMER\u0027]),axis\u003d1)\nprint(len(df_1_N))\ndf_1_N \u003d df_1_N[df_1_N.distance\u003e0.8]\nprint(len(df_1_N))"
      ],
      "outputs": [
        {
          "output_type": "stream",
          "text": "831\n831\n",
          "name": "stdout"
        }
      ]
    },
    {
      "execution_count": 3,
      "cell_type": "code",
      "metadata": {},
      "source": [
        "# Compute recipe outputs\n# TODO: Write here your actual code that computes the outputs\n# NB: DSS supports several kinds of APIs for reading and writing data. Please see doc.\n\nVERIFIED_MATCHES_df \u003d df_1_N\n\n# Write recipe outputs\nVERIFIED_MATCHES \u003d dataiku.Dataset(\"VERIFIED_MATCHES\")\nVERIFIED_MATCHES.write_with_schema(VERIFIED_MATCHES_df)"
      ],
      "outputs": [
        {
          "output_type": "stream",
          "text": "831 rows successfully written (zHBAmQ6VY7)\n",
          "name": "stdout"
        }
      ]
    }
  ]
}