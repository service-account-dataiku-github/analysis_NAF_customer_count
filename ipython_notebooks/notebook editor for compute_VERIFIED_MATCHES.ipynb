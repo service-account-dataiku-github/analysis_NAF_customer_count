{
  "metadata": {
    "kernelspec": {
      "name": "py-dku-venv-env_clc",
      "display_name": "Python (env env_clc)",
      "language": "python"
    },
    "associatedRecipe": "compute_VERIFIED_MATCHES",
    "creator": "Daniel.Vandermeer",
    "createdOn": 1667264904049,
    "tags": [
      "recipe-editor"
    ],
    "customFields": {},
    "hide_input": false,
    "language_info": {
      "name": "python",
      "version": "3.6.8",
      "mimetype": "text/x-python",
      "codemirror_mode": {
        "name": "ipython",
        "version": 3
      },
      "pygments_lexer": "ipython3",
      "nbconvert_exporter": "python",
      "file_extension": ".py"
    },
    "modifiedBy": "Daniel.Vandermeer"
  },
  "nbformat": 4,
  "nbformat_minor": 1,
  "cells": [
    {
      "execution_count": 2,
      "cell_type": "code",
      "metadata": {},
      "source": [
        "# -*- coding: utf-8 -*-\nimport dataiku\nimport pandas as pd, numpy as np\nfrom dataiku import pandasutils as pdu\n\n# Read recipe inputs\nMATCHES_1_TO_1_QUEUED \u003d dataiku.Dataset(\"MATCHES_1_TO_1_QUEUED\")\nMATCHES_1_TO_1_QUEUED_df \u003d MATCHES_1_TO_1_QUEUED.get_dataframe()\n\nMATCHES_1_TO_N_QUEUED \u003d dataiku.Dataset(\"MATCHES_1_TO_N_QUEUED\")\nMATCHES_1_TO_N_QUEUED_df \u003d MATCHES_1_TO_N_QUEUED.get_dataframe()"
      ],
      "outputs": []
    },
    {
      "execution_count": 3,
      "cell_type": "code",
      "metadata": {},
      "source": [
        "df_1_N \u003d MATCHES_1_TO_1_QUEUED_df\nprint(len(df_1_N))\ndf_1_N.head()"
      ],
      "outputs": [
        {
          "output_type": "stream",
          "text": "2058\n",
          "name": "stdout"
        },
        {
          "output_type": "execute_result",
          "execution_count": 3,
          "data": {
            "text/plain": "                         CUSTOMER                 MATCH_CUSTOMER              DRAW_UP_DATE\n0   0972 HEINEKEN USA INC (PHH35)  0972 HEINEKEN USA INC (PHH47) 2019-06-01 00:00:00+00:00\n1   �COLE DE CONDUITE LAUZON LT�E      LOCATION H�BERT 2000 LT�E 2021-04-01 00:00:00+00:00\n2  ZOOM SEWER \u0026 DRAIN CLEANING SE  ZOOM SEWER  DRAIN CLEANING SE 2019-05-01 00:00:00+00:00\n3      ZINGAS WINDOW FASHIONS LLC        ZINGAS EXCITING WINDOWS 2021-09-01 00:00:00+00:00\n4              ZIMMER CAPITAL INC           ZIMMER NORTHWEST INC 2019-03-01 00:00:00+00:00",
            "text/html": "\u003cdiv\u003e\n\u003cstyle scoped\u003e\n    .dataframe tbody tr th:only-of-type {\n        vertical-align: middle;\n    }\n\n    .dataframe tbody tr th {\n        vertical-align: top;\n    }\n\n    .dataframe thead th {\n        text-align: right;\n    }\n\u003c/style\u003e\n\u003ctable border\u003d\"1\" class\u003d\"dataframe\"\u003e\n  \u003cthead\u003e\n    \u003ctr style\u003d\"text-align: right;\"\u003e\n      \u003cth\u003e\u003c/th\u003e\n      \u003cth\u003eCUSTOMER\u003c/th\u003e\n      \u003cth\u003eMATCH_CUSTOMER\u003c/th\u003e\n      \u003cth\u003eDRAW_UP_DATE\u003c/th\u003e\n    \u003c/tr\u003e\n  \u003c/thead\u003e\n  \u003ctbody\u003e\n    \u003ctr\u003e\n      \u003cth\u003e0\u003c/th\u003e\n      \u003ctd\u003e0972 HEINEKEN USA INC (PHH35)\u003c/td\u003e\n      \u003ctd\u003e0972 HEINEKEN USA INC (PHH47)\u003c/td\u003e\n      \u003ctd\u003e2019-06-01 00:00:00+00:00\u003c/td\u003e\n    \u003c/tr\u003e\n    \u003ctr\u003e\n      \u003cth\u003e1\u003c/th\u003e\n      \u003ctd\u003e�COLE DE CONDUITE LAUZON LT�E\u003c/td\u003e\n      \u003ctd\u003eLOCATION H�BERT 2000 LT�E\u003c/td\u003e\n      \u003ctd\u003e2021-04-01 00:00:00+00:00\u003c/td\u003e\n    \u003c/tr\u003e\n    \u003ctr\u003e\n      \u003cth\u003e2\u003c/th\u003e\n      \u003ctd\u003eZOOM SEWER \u0026amp; DRAIN CLEANING SE\u003c/td\u003e\n      \u003ctd\u003eZOOM SEWER  DRAIN CLEANING SE\u003c/td\u003e\n      \u003ctd\u003e2019-05-01 00:00:00+00:00\u003c/td\u003e\n    \u003c/tr\u003e\n    \u003ctr\u003e\n      \u003cth\u003e3\u003c/th\u003e\n      \u003ctd\u003eZINGAS WINDOW FASHIONS LLC\u003c/td\u003e\n      \u003ctd\u003eZINGAS EXCITING WINDOWS\u003c/td\u003e\n      \u003ctd\u003e2021-09-01 00:00:00+00:00\u003c/td\u003e\n    \u003c/tr\u003e\n    \u003ctr\u003e\n      \u003cth\u003e4\u003c/th\u003e\n      \u003ctd\u003eZIMMER CAPITAL INC\u003c/td\u003e\n      \u003ctd\u003eZIMMER NORTHWEST INC\u003c/td\u003e\n      \u003ctd\u003e2019-03-01 00:00:00+00:00\u003c/td\u003e\n    \u003c/tr\u003e\n  \u003c/tbody\u003e\n\u003c/table\u003e\n\u003c/div\u003e"
          },
          "metadata": {}
        }
      ]
    },
    {
      "execution_count": 0,
      "cell_type": "code",
      "metadata": {},
      "source": [
        ""
      ],
      "outputs": []
    },
    {
      "execution_count": 0,
      "cell_type": "code",
      "metadata": {},
      "source": [
        "# Compute recipe outputs\n# TODO: Write here your actual code that computes the outputs\n# NB: DSS supports several kinds of APIs for reading and writing data. Please see doc.\n\n#VERIFIED_MATCHES_df \u003d ... # Compute a Pandas dataframe to write into VERIFIED_MATCHES\n\n\n# Write recipe outputs\n#VERIFIED_MATCHES \u003d dataiku.Dataset(\"VERIFIED_MATCHES\")\n#VERIFIED_MATCHES.write_with_schema(VERIFIED_MATCHES_df)"
      ],
      "outputs": []
    }
  ]
}