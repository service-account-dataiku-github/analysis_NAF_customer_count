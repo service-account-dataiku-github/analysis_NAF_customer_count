{
  "nbformat": 4,
  "nbformat_minor": 0,
  "metadata": {
    "kernelspec": {
      "display_name": "Python in cpu-m-cpu-3-mem-4Gb (env env_clc)",
      "language": "python",
      "name": "py-dku-containerized-venv-env_clc-cpu-m-cpu-3-mem-4gb"
    },
    "associatedRecipe": "compute_VERIFIED_MATCHES",
    "dkuGit": {
      "lastInteraction": 0
    },
    "creationTag": {
      "versionNumber": 0,
      "lastModifiedBy": {
        "login": "Daniel.Vandermeer"
      },
      "lastModifiedOn": 1667264904049
    },
    "creator": "Daniel.Vandermeer",
    "createdOn": 1667264904049,
    "tags": [
      "recipe-editor"
    ],
    "customFields": {}
  },
  "cells": [
    {
      "cell_type": "code",
      "metadata": {},
      "outputs": [],
      "execution_count": 0,
      "source": [
        "# -*- coding: utf-8 -*-\n",
        "import dataiku\n",
        "import pandas as pd, numpy as np\n",
        "from dataiku import pandasutils as pdu\n",
        "\n",
        "from difflib import SequenceMatcher\n",
        "import Levenshtein\n",
        "\n",
        "# Read recipe inputs\n",
        "MATCHES_1_TO_1_QUEUED \u003d dataiku.Dataset(\"MATCHES_1_TO_1_QUEUED\")\n",
        "MATCHES_1_TO_1_QUEUED_df \u003d MATCHES_1_TO_1_QUEUED.get_dataframe()\n",
        "\n",
        "MATCHES_1_TO_N_QUEUED \u003d dataiku.Dataset(\"MATCHES_1_TO_N_QUEUED\")\n",
        "MATCHES_1_TO_N_QUEUED_df \u003d MATCHES_1_TO_N_QUEUED.get_dataframe()"
      ]
    },
    {
      "cell_type": "code",
      "metadata": {},
      "outputs": [],
      "execution_count": 0,
      "source": [
        "df_1_N \u003d MATCHES_1_TO_1_QUEUED_df\n",
        "df_1_N[\u0027distance\u0027] \u003d df_1_N.apply(lambda x: Levenshtein.ratio(x[\u0027CUSTOMER\u0027],x[\u0027MATCH_CUSTOMER\u0027]),axis\u003d1)\n",
        "print(len(df_1_N))\n",
        "df_1_N \u003d df_1_N[df_1_N.distance\u003e0.8]\n",
        "print(len(df_1_N))"
      ]
    },
    {
      "cell_type": "code",
      "metadata": {},
      "outputs": [],
      "execution_count": 0,
      "source": [
        "# Compute recipe outputs\n",
        "# TODO: Write here your actual code that computes the outputs\n",
        "# NB: DSS supports several kinds of APIs for reading and writing data. Please see doc.\n",
        "\n",
        "VERIFIED_MATCHES_df \u003d df_1_N\n",
        "\n",
        "# Write recipe outputs\n",
        "VERIFIED_MATCHES \u003d dataiku.Dataset(\"VERIFIED_MATCHES\")\n",
        "VERIFIED_MATCHES.write_with_schema(VERIFIED_MATCHES_df)"
      ]
    }
  ]
}