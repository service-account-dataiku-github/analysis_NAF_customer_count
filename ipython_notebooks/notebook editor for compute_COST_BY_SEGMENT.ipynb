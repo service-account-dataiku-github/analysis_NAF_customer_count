{
  "metadata": {
    "kernelspec": {
      "name": "py-dku-venv-env_clc",
      "display_name": "Python (env env_clc)",
      "language": "python"
    },
    "associatedRecipe": "compute_COST_BY_SEGMENT",
    "dkuGit": {
      "lastInteraction": 0
    },
    "creationTag": {
      "versionNumber": 0,
      "lastModifiedBy": {
        "login": "Daniel.Vandermeer"
      },
      "lastModifiedOn": 1677121124544
    },
    "creator": "Daniel.Vandermeer",
    "createdOn": 1677121124544,
    "tags": [
      "recipe-editor"
    ],
    "customFields": {},
    "hide_input": false,
    "language_info": {
      "name": "python",
      "version": "3.6.8",
      "mimetype": "text/x-python",
      "codemirror_mode": {
        "name": "ipython",
        "version": 3
      },
      "pygments_lexer": "ipython3",
      "nbconvert_exporter": "python",
      "file_extension": ".py"
    },
    "modifiedBy": "Daniel.Vandermeer"
  },
  "nbformat": 4,
  "nbformat_minor": 1,
  "cells": [
    {
      "execution_count": 1,
      "cell_type": "code",
      "metadata": {},
      "source": [
        "# -*- coding: utf-8 -*-\nimport dataiku\nimport pandas as pd, numpy as np\nfrom dataiku import pandasutils as pdu\n\nfrom datetime import date, datetime, timedelta\nimport time\n\nimport matplotlib.pyplot as plt\n\nt0 \u003d time.time()\n\n# Read recipe inputs\nNAFCUSTOMER_REVENUE_AGGREGATED_MRU_2019 \u003d dataiku.Dataset(\"NAFCUSTOMER_REVENUE_AGGREGATED_MRU_2019\")\nNAFCUSTOMER_REVENUE_AGGREGATED_MRU_2019_df \u003d NAFCUSTOMER_REVENUE_AGGREGATED_MRU_2019.get_dataframe()\nprint(\u0027loaded file 2019\u0027)\n\nNAFCUSTOMER_REVENUE_AGGREGATED_MRU_2021 \u003d dataiku.Dataset(\"NAFCUSTOMER_REVENUE_AGGREGATED_MRU_2021\")\nNAFCUSTOMER_REVENUE_AGGREGATED_MRU_2021_df \u003d NAFCUSTOMER_REVENUE_AGGREGATED_MRU_2021.get_dataframe()\nprint(\u0027loaded file 2020\u0027)\n\nNAFCUSTOMER_REVENUE_AGGREGATED_MRU_2020 \u003d dataiku.Dataset(\"NAFCUSTOMER_REVENUE_AGGREGATED_MRU_2020\")\nNAFCUSTOMER_REVENUE_AGGREGATED_MRU_2020_df \u003d NAFCUSTOMER_REVENUE_AGGREGATED_MRU_2020.get_dataframe()\nprint(\u0027loaded file 2021\u0027)\n\nNAFCUSTOMER_REVENUE_AGGREGATED_MRU_2022 \u003d dataiku.Dataset(\"NAFCUSTOMER_REVENUE_AGGREGATED_MRU_2022\")\nNAFCUSTOMER_REVENUE_AGGREGATED_MRU_2022_df \u003d NAFCUSTOMER_REVENUE_AGGREGATED_MRU_2022.get_dataframe()\nprint(\u0027loaded file 2022\u0027)\n\nNAFCUSTOMER_ACCOUNT_ANNUAL_ACTIVE_CARD_COUNT \u003d dataiku.Dataset(\"NAFCUSTOMER_ACCOUNT_ANNUAL_ACTIVE_CARD_COUNT\")\nNAFCUSTOMER_ACCOUNT_ANNUAL_ACTIVE_CARD_COUNT_df \u003d NAFCUSTOMER_ACCOUNT_ANNUAL_ACTIVE_CARD_COUNT.get_dataframe()\n\nprint(\u0027loaded annual card count\u0027)\n\nt1 \u003d time.time()\nprint(\"load duration\", (t1-t0)/60.0, \"minutes\")\n\n# Compute recipe outputs\n# TODO: Write here your actual code that computes the outputs\n# NB: DSS supports several kinds of APIs for reading and writing data. Please see doc."
      ],
      "outputs": [
        {
          "output_type": "stream",
          "text": "loaded file 2019\nloaded file 2020\nloaded file 2021\n",
          "name": "stdout"
        },
        {
          "output_type": "stream",
          "text": "/data/dataiku/dss_data/code-envs/python/env_clc/lib/python3.6/site-packages/IPython/core/interactiveshell.py:3263: DtypeWarning: Columns (5,6,7) have mixed types.Specify dtype option on import or set low_memory\u003dFalse.\n  if (await self.run_code(code, result,  async_\u003dasy)):\n",
          "name": "stderr"
        },
        {
          "output_type": "stream",
          "text": "loaded file 2022\nloaded annual card count\nload duration 7.405843190352122 minutes\n",
          "name": "stdout"
        }
      ]
    },
    {
      "execution_count": 2,
      "cell_type": "code",
      "metadata": {},
      "source": [
        "row_count \u003d 0\nrow_count +\u003d len(NAFCUSTOMER_REVENUE_AGGREGATED_MRU_2019_df)\nrow_count +\u003d len(NAFCUSTOMER_REVENUE_AGGREGATED_MRU_2020_df)\nrow_count +\u003d len(NAFCUSTOMER_REVENUE_AGGREGATED_MRU_2021_df)\nrow_count +\u003d len(NAFCUSTOMER_REVENUE_AGGREGATED_MRU_2022_df)\nprint(row_count)\n\ndf \u003d pd.concat([NAFCUSTOMER_REVENUE_AGGREGATED_MRU_2019_df, NAFCUSTOMER_REVENUE_AGGREGATED_MRU_2020_df, \n               NAFCUSTOMER_REVENUE_AGGREGATED_MRU_2021_df, NAFCUSTOMER_REVENUE_AGGREGATED_MRU_2022_df])\n\nprint(len(df), \"NAFCUSTOMER REVENUE AGGREGATED\")\n\nprint(len(NAFCUSTOMER_ACCOUNT_ANNUAL_ACTIVE_CARD_COUNT_df), \"NAFCUSTOMER_ACCOUNT_ANNUAL_ACTIVE_CARD_COUNT_df\")\ndf_a \u003d NAFCUSTOMER_ACCOUNT_ANNUAL_ACTIVE_CARD_COUNT_df"
      ],
      "outputs": [
        {
          "output_type": "stream",
          "text": "19405984\n19405984 NAFCUSTOMER REVENUE AGGREGATED\n2319568 NAFCUSTOMER_ACCOUNT_ANNUAL_ACTIVE_CARD_COUNT_df\n",
          "name": "stdout"
        }
      ]
    },
    {
      "execution_count": 3,
      "cell_type": "code",
      "metadata": {},
      "source": [
        "df.head()"
      ],
      "outputs": [
        {
          "output_type": "execute_result",
          "execution_count": 3,
          "data": {
            "text/plain": "   CUSTOMER_ID                                     CUSTOMER  REVENUE_YEAR  REVENUE_MONTH CUSTOMER_BUSINESS_PROGRAM_NAME BI_CUS_PAR BI_PRODUCT BI_MRU                SETUP_DATE  REVENUE_AMOUNT_USD  GROSS_SPEND_AMOUNT  PURCHASE_GALLONS_QTY  TOTAL_ACTIVE_CARD_COUNT\n0   77348458.0  LANDMARK ENGINEERING  SURVEYING CORPORATION          2019              2           Shell Small Business      21000      15110   4000 2018-10-18 07:00:00+00:00                0.72              111.00                48.240                      1.0\n1   77039990.0       ALLIED LANDSCAPE  CONTRACTOR SUPPLY CO          2019             10                     Wawa Fleet      12400      15100   4120 2014-05-28 07:00:00+00:00              364.93            19206.83              5950.545                     11.0\n2   77427745.0              NORTHEASTERN WATER SERVICES INC          2019              7                  WEX Universal      51000      10100   3100 2002-11-21 08:00:00+00:00              266.62             5423.57              1739.380                      7.0\n3   77438370.0                       OREILLY AUTOMOTIVE INC          2019             11          Shell Fleet Navigator      21000      15308   4000 2018-09-14 07:00:00+00:00           127363.20          3766130.73           1425842.243                  17545.0\n4   77284804.0                     HOPE CENTER FOR CHILDREN          2019              1                  Spinx Company      15000      15308   4120 2010-10-28 07:00:00+00:00               52.83              827.44               414.682                      7.0",
            "text/html": "\u003cdiv\u003e\n\u003cstyle scoped\u003e\n    .dataframe tbody tr th:only-of-type {\n        vertical-align: middle;\n    }\n\n    .dataframe tbody tr th {\n        vertical-align: top;\n    }\n\n    .dataframe thead th {\n        text-align: right;\n    }\n\u003c/style\u003e\n\u003ctable border\u003d\"1\" class\u003d\"dataframe\"\u003e\n  \u003cthead\u003e\n    \u003ctr style\u003d\"text-align: right;\"\u003e\n      \u003cth\u003e\u003c/th\u003e\n      \u003cth\u003eCUSTOMER_ID\u003c/th\u003e\n      \u003cth\u003eCUSTOMER\u003c/th\u003e\n      \u003cth\u003eREVENUE_YEAR\u003c/th\u003e\n      \u003cth\u003eREVENUE_MONTH\u003c/th\u003e\n      \u003cth\u003eCUSTOMER_BUSINESS_PROGRAM_NAME\u003c/th\u003e\n      \u003cth\u003eBI_CUS_PAR\u003c/th\u003e\n      \u003cth\u003eBI_PRODUCT\u003c/th\u003e\n      \u003cth\u003eBI_MRU\u003c/th\u003e\n      \u003cth\u003eSETUP_DATE\u003c/th\u003e\n      \u003cth\u003eREVENUE_AMOUNT_USD\u003c/th\u003e\n      \u003cth\u003eGROSS_SPEND_AMOUNT\u003c/th\u003e\n      \u003cth\u003ePURCHASE_GALLONS_QTY\u003c/th\u003e\n      \u003cth\u003eTOTAL_ACTIVE_CARD_COUNT\u003c/th\u003e\n    \u003c/tr\u003e\n  \u003c/thead\u003e\n  \u003ctbody\u003e\n    \u003ctr\u003e\n      \u003cth\u003e0\u003c/th\u003e\n      \u003ctd\u003e77348458.0\u003c/td\u003e\n      \u003ctd\u003eLANDMARK ENGINEERING  SURVEYING CORPORATION\u003c/td\u003e\n      \u003ctd\u003e2019\u003c/td\u003e\n      \u003ctd\u003e2\u003c/td\u003e\n      \u003ctd\u003eShell Small Business\u003c/td\u003e\n      \u003ctd\u003e21000\u003c/td\u003e\n      \u003ctd\u003e15110\u003c/td\u003e\n      \u003ctd\u003e4000\u003c/td\u003e\n      \u003ctd\u003e2018-10-18 07:00:00+00:00\u003c/td\u003e\n      \u003ctd\u003e0.72\u003c/td\u003e\n      \u003ctd\u003e111.00\u003c/td\u003e\n      \u003ctd\u003e48.240\u003c/td\u003e\n      \u003ctd\u003e1.0\u003c/td\u003e\n    \u003c/tr\u003e\n    \u003ctr\u003e\n      \u003cth\u003e1\u003c/th\u003e\n      \u003ctd\u003e77039990.0\u003c/td\u003e\n      \u003ctd\u003eALLIED LANDSCAPE  CONTRACTOR SUPPLY CO\u003c/td\u003e\n      \u003ctd\u003e2019\u003c/td\u003e\n      \u003ctd\u003e10\u003c/td\u003e\n      \u003ctd\u003eWawa Fleet\u003c/td\u003e\n      \u003ctd\u003e12400\u003c/td\u003e\n      \u003ctd\u003e15100\u003c/td\u003e\n      \u003ctd\u003e4120\u003c/td\u003e\n      \u003ctd\u003e2014-05-28 07:00:00+00:00\u003c/td\u003e\n      \u003ctd\u003e364.93\u003c/td\u003e\n      \u003ctd\u003e19206.83\u003c/td\u003e\n      \u003ctd\u003e5950.545\u003c/td\u003e\n      \u003ctd\u003e11.0\u003c/td\u003e\n    \u003c/tr\u003e\n    \u003ctr\u003e\n      \u003cth\u003e2\u003c/th\u003e\n      \u003ctd\u003e77427745.0\u003c/td\u003e\n      \u003ctd\u003eNORTHEASTERN WATER SERVICES INC\u003c/td\u003e\n      \u003ctd\u003e2019\u003c/td\u003e\n      \u003ctd\u003e7\u003c/td\u003e\n      \u003ctd\u003eWEX Universal\u003c/td\u003e\n      \u003ctd\u003e51000\u003c/td\u003e\n      \u003ctd\u003e10100\u003c/td\u003e\n      \u003ctd\u003e3100\u003c/td\u003e\n      \u003ctd\u003e2002-11-21 08:00:00+00:00\u003c/td\u003e\n      \u003ctd\u003e266.62\u003c/td\u003e\n      \u003ctd\u003e5423.57\u003c/td\u003e\n      \u003ctd\u003e1739.380\u003c/td\u003e\n      \u003ctd\u003e7.0\u003c/td\u003e\n    \u003c/tr\u003e\n    \u003ctr\u003e\n      \u003cth\u003e3\u003c/th\u003e\n      \u003ctd\u003e77438370.0\u003c/td\u003e\n      \u003ctd\u003eOREILLY AUTOMOTIVE INC\u003c/td\u003e\n      \u003ctd\u003e2019\u003c/td\u003e\n      \u003ctd\u003e11\u003c/td\u003e\n      \u003ctd\u003eShell Fleet Navigator\u003c/td\u003e\n      \u003ctd\u003e21000\u003c/td\u003e\n      \u003ctd\u003e15308\u003c/td\u003e\n      \u003ctd\u003e4000\u003c/td\u003e\n      \u003ctd\u003e2018-09-14 07:00:00+00:00\u003c/td\u003e\n      \u003ctd\u003e127363.20\u003c/td\u003e\n      \u003ctd\u003e3766130.73\u003c/td\u003e\n      \u003ctd\u003e1425842.243\u003c/td\u003e\n      \u003ctd\u003e17545.0\u003c/td\u003e\n    \u003c/tr\u003e\n    \u003ctr\u003e\n      \u003cth\u003e4\u003c/th\u003e\n      \u003ctd\u003e77284804.0\u003c/td\u003e\n      \u003ctd\u003eHOPE CENTER FOR CHILDREN\u003c/td\u003e\n      \u003ctd\u003e2019\u003c/td\u003e\n      \u003ctd\u003e1\u003c/td\u003e\n      \u003ctd\u003eSpinx Company\u003c/td\u003e\n      \u003ctd\u003e15000\u003c/td\u003e\n      \u003ctd\u003e15308\u003c/td\u003e\n      \u003ctd\u003e4120\u003c/td\u003e\n      \u003ctd\u003e2010-10-28 07:00:00+00:00\u003c/td\u003e\n      \u003ctd\u003e52.83\u003c/td\u003e\n      \u003ctd\u003e827.44\u003c/td\u003e\n      \u003ctd\u003e414.682\u003c/td\u003e\n      \u003ctd\u003e7.0\u003c/td\u003e\n    \u003c/tr\u003e\n  \u003c/tbody\u003e\n\u003c/table\u003e\n\u003c/div\u003e"
          },
          "metadata": {}
        }
      ]
    },
    {
      "execution_count": 0,
      "cell_type": "code",
      "metadata": {},
      "source": [
        "df[\u0027CUSTOMER_ID\u0027] \u003d df[\u0027CUSTOMER_ID\u0027].astype(\u0027Int64\u0027)\ndf[\u0027SETUP_DATE_DT\u0027] \u003d pd.to_datetime(df[\u0027SETUP_DATE\u0027])\ndf[\u0027SETUP_YEAR\u0027] \u003d df.SETUP_DATE_DT.dt.year\n\ndf[\u0027REVENUE_YEAR\u0027] \u003d df[\u0027REVENUE_YEAR\u0027].astype(\u0027Int64\u0027)\ndf[\u0027REVENUE_DATE\u0027] \u003d df[\u0027REVENUE_MONTH\u0027].astype(str) + \u0027-\u0027 + df[\u0027REVENUE_YEAR\u0027].astype(str)\ndf[\u0027REVENUE_DATE\u0027] \u003d pd.to_datetime(df[\u0027REVENUE_DATE\u0027], format\u003d\u0027%m-%Y\u0027).dt.strftime(\u0027%m-%Y\u0027)\n\ndf[\u0027REVENUE_CLASS\u0027] \u003d df.REVENUE_CATEGORY\ndf.loc[df.REVENUE_CODE_GROUP\u003d\u003d\u0027Rebate\u0027,\u0027REVENUE_CLASS\u0027] \u003d \u0027Rebate\u0027\n\nprint(len(df), \"before filter\")\ndf \u003d df[df.REVENUE_YEAR!\u003d2023]\nprint(len(df), \"after filter, removing 2023\")\n\n# break down of revenue_year\ndf.REVENUE_YEAR.value_counts()"
      ],
      "outputs": []
    },
    {
      "execution_count": 0,
      "cell_type": "code",
      "metadata": {},
      "source": [
        "#COST_BY_SEGMENT_df \u003d ... # Compute a Pandas dataframe to write into COST_BY_SEGMENT\n\n# Write recipe outputs\n#COST_BY_SEGMENT \u003d dataiku.Dataset(\"COST_BY_SEGMENT\")\n#COST_BY_SEGMENT.write_with_schema(COST_BY_SEGMENT_df)"
      ],
      "outputs": []
    }
  ]
}