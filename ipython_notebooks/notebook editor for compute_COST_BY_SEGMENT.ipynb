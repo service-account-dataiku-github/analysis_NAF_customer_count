{
  "nbformat": 4,
  "nbformat_minor": 0,
  "metadata": {
    "kernelspec": {
      "display_name": "Python in cpu-m-cpu-3-mem-4Gb (builtin env)",
      "language": "python",
      "name": "py-dku-containerized-venv--cpu-m-cpu-3-mem-4gb"
    },
    "associatedRecipe": "compute_COST_BY_SEGMENT",
    "creator": "Daniel.Vandermeer",
    "createdOn": 1677121124544,
    "tags": [
      "recipe-editor"
    ],
    "customFields": {}
  },
  "cells": [
    {
      "cell_type": "code",
      "metadata": {},
      "outputs": [],
      "execution_count": 0,
      "source": [
        "# -*- coding: utf-8 -*-\n",
        "import dataiku\n",
        "import pandas as pd, numpy as np\n",
        "from dataiku import pandasutils as pdu\n",
        "\n",
        "# Read recipe inputs\n",
        "NAFCUSTOMER_REVENUE_AGGREGATED_MRU_2019 \u003d dataiku.Dataset(\"NAFCUSTOMER_REVENUE_AGGREGATED_MRU_2019\")\n",
        "NAFCUSTOMER_REVENUE_AGGREGATED_MRU_2019_df \u003d NAFCUSTOMER_REVENUE_AGGREGATED_MRU_2019.get_dataframe()\n",
        "\n",
        "NAFCUSTOMER_REVENUE_AGGREGATED_MRU_2021 \u003d dataiku.Dataset(\"NAFCUSTOMER_REVENUE_AGGREGATED_MRU_2021\")\n",
        "NAFCUSTOMER_REVENUE_AGGREGATED_MRU_2021_df \u003d NAFCUSTOMER_REVENUE_AGGREGATED_MRU_2021.get_dataframe()\n",
        "\n",
        "NAFCUSTOMER_REVENUE_AGGREGATED_MRU_2020 \u003d dataiku.Dataset(\"NAFCUSTOMER_REVENUE_AGGREGATED_MRU_2020\")\n",
        "NAFCUSTOMER_REVENUE_AGGREGATED_MRU_2020_df \u003d NAFCUSTOMER_REVENUE_AGGREGATED_MRU_2020.get_dataframe()\n",
        "\n",
        "NAFCUSTOMER_REVENUE_AGGREGATED_MRU_2022 \u003d dataiku.Dataset(\"NAFCUSTOMER_REVENUE_AGGREGATED_MRU_2022\")\n",
        "NAFCUSTOMER_REVENUE_AGGREGATED_MRU_2022_df \u003d NAFCUSTOMER_REVENUE_AGGREGATED_MRU_2022.get_dataframe()\n",
        "\n",
        "# Compute recipe outputs\n",
        "# TODO: Write here your actual code that computes the outputs\n",
        "# NB: DSS supports several kinds of APIs for reading and writing data. Please see doc.\n",
        "\n",
        "COST_BY_SEGMENT_df \u003d ... # Compute a Pandas dataframe to write into COST_BY_SEGMENT\n",
        "\n",
        "\n",
        "# Write recipe outputs\n",
        "COST_BY_SEGMENT \u003d dataiku.Dataset(\"COST_BY_SEGMENT\")\n",
        "COST_BY_SEGMENT.write_with_schema(COST_BY_SEGMENT_df)"
      ]
    }
  ]
}