{
  "metadata": {
    "kernelspec": {
      "name": "py-dku-venv-env_clc",
      "display_name": "Python (env env_clc)",
      "language": "python"
    },
    "associatedRecipe": "compute_COST_BY_SEGMENT",
    "dkuGit": {
      "lastInteraction": 0
    },
    "creationTag": {
      "versionNumber": 0,
      "lastModifiedBy": {
        "login": "Daniel.Vandermeer"
      },
      "lastModifiedOn": 1677121124544
    },
    "creator": "Daniel.Vandermeer",
    "createdOn": 1677121124544,
    "tags": [
      "recipe-editor"
    ],
    "customFields": {},
    "hide_input": false,
    "language_info": {
      "name": "python",
      "version": "3.6.8",
      "mimetype": "text/x-python",
      "codemirror_mode": {
        "name": "ipython",
        "version": 3
      },
      "pygments_lexer": "ipython3",
      "nbconvert_exporter": "python",
      "file_extension": ".py"
    },
    "modifiedBy": "Daniel.Vandermeer"
  },
  "nbformat": 4,
  "nbformat_minor": 1,
  "cells": [
    {
      "execution_count": 111,
      "cell_type": "code",
      "metadata": {},
      "source": [
        "# -*- coding: utf-8 -*-\nimport dataiku\nimport pandas as pd, numpy as np\nfrom dataiku import pandasutils as pdu\n\nfrom datetime import date, datetime, timedelta\nimport time\n\nimport matplotlib.pyplot as plt\npd.options.display.float_format \u003d \u0027{:,}\u0027.format\n\nt0 \u003d time.time()\n\n# Read recipe inputs\nNAFCUSTOMER_REVENUE_AGGREGATED_MRU_2019 \u003d dataiku.Dataset(\"NAFCUSTOMER_REVENUE_AGGREGATED_MRU_2019\")\nNAFCUSTOMER_REVENUE_AGGREGATED_MRU_2019_df \u003d NAFCUSTOMER_REVENUE_AGGREGATED_MRU_2019.get_dataframe()\nprint(\u0027loaded file 2019\u0027)\n\nNAFCUSTOMER_REVENUE_AGGREGATED_MRU_2021 \u003d dataiku.Dataset(\"NAFCUSTOMER_REVENUE_AGGREGATED_MRU_2021\")\nNAFCUSTOMER_REVENUE_AGGREGATED_MRU_2021_df \u003d NAFCUSTOMER_REVENUE_AGGREGATED_MRU_2021.get_dataframe()\nprint(\u0027loaded file 2020\u0027)\n\nNAFCUSTOMER_REVENUE_AGGREGATED_MRU_2020 \u003d dataiku.Dataset(\"NAFCUSTOMER_REVENUE_AGGREGATED_MRU_2020\")\nNAFCUSTOMER_REVENUE_AGGREGATED_MRU_2020_df \u003d NAFCUSTOMER_REVENUE_AGGREGATED_MRU_2020.get_dataframe()\nprint(\u0027loaded file 2021\u0027)\n\nNAFCUSTOMER_REVENUE_AGGREGATED_MRU_2022 \u003d dataiku.Dataset(\"NAFCUSTOMER_REVENUE_AGGREGATED_MRU_2022\")\nNAFCUSTOMER_REVENUE_AGGREGATED_MRU_2022_df \u003d NAFCUSTOMER_REVENUE_AGGREGATED_MRU_2022.get_dataframe()\nprint(\u0027loaded file 2022\u0027)\n\nNAFCUSTOMER_ACCOUNT_ANNUAL_ACTIVE_CARD_COUNT \u003d dataiku.Dataset(\"NAFCUSTOMER_ACCOUNT_ANNUAL_ACTIVE_CARD_COUNT\")\nNAFCUSTOMER_ACCOUNT_ANNUAL_ACTIVE_CARD_COUNT_df \u003d NAFCUSTOMER_ACCOUNT_ANNUAL_ACTIVE_CARD_COUNT.get_dataframe()\nprint(\u0027loaded annual card count\u0027)\n\nHFM_cost_by_MRU \u003d dataiku.Dataset(\"HFM_cost_by_MRU\")\nHFM_cost_by_MRU_df \u003d HFM_cost_by_MRU.get_dataframe()\nprint(\u0027loaded HFM cost data\u0027)\n\nt1 \u003d time.time()\nprint(\"load duration\", (t1-t0)/60.0, \"minutes\")\n\n# Compute recipe outputs\n# TODO: Write here your actual code that computes the outputs\n# NB: DSS supports several kinds of APIs for reading and writing data. Please see doc."
      ],
      "outputs": [
        {
          "output_type": "stream",
          "text": "loaded file 2019\nloaded file 2020\nloaded file 2021\n",
          "name": "stdout"
        },
        {
          "output_type": "stream",
          "text": "/data/dataiku/dss_data/code-envs/python/env_clc/lib/python3.6/site-packages/IPython/core/interactiveshell.py:3263: DtypeWarning: Columns (5,6,7) have mixed types.Specify dtype option on import or set low_memory\u003dFalse.\n  if (await self.run_code(code, result,  async_\u003dasy)):\n",
          "name": "stderr"
        },
        {
          "output_type": "stream",
          "text": "loaded file 2022\nloaded annual card count\nloaded HFM cost data\nload duration 11.490816330909729 minutes\n",
          "name": "stdout"
        }
      ]
    },
    {
      "execution_count": 112,
      "cell_type": "code",
      "metadata": {},
      "source": [
        "row_count \u003d 0\nrow_count +\u003d len(NAFCUSTOMER_REVENUE_AGGREGATED_MRU_2019_df)\nrow_count +\u003d len(NAFCUSTOMER_REVENUE_AGGREGATED_MRU_2020_df)\nrow_count +\u003d len(NAFCUSTOMER_REVENUE_AGGREGATED_MRU_2021_df)\nrow_count +\u003d len(NAFCUSTOMER_REVENUE_AGGREGATED_MRU_2022_df)\nprint(row_count)\n\ndf \u003d pd.concat([NAFCUSTOMER_REVENUE_AGGREGATED_MRU_2019_df, NAFCUSTOMER_REVENUE_AGGREGATED_MRU_2020_df,\n               NAFCUSTOMER_REVENUE_AGGREGATED_MRU_2021_df, NAFCUSTOMER_REVENUE_AGGREGATED_MRU_2022_df])\n\nprint(len(df), \"NAFCUSTOMER REVENUE AGGREGATED\")\n\nprint(len(NAFCUSTOMER_ACCOUNT_ANNUAL_ACTIVE_CARD_COUNT_df), \"NAFCUSTOMER_ACCOUNT_ANNUAL_ACTIVE_CARD_COUNT_df\")\ndf_a \u003d NAFCUSTOMER_ACCOUNT_ANNUAL_ACTIVE_CARD_COUNT_df"
      ],
      "outputs": [
        {
          "output_type": "stream",
          "text": "19405984\n19405984 NAFCUSTOMER REVENUE AGGREGATED\n2319568 NAFCUSTOMER_ACCOUNT_ANNUAL_ACTIVE_CARD_COUNT_df\n",
          "name": "stdout"
        }
      ]
    },
    {
      "execution_count": 113,
      "cell_type": "code",
      "metadata": {},
      "source": [
        "df[\u0027CUSTOMER_ID\u0027] \u003d df[\u0027CUSTOMER_ID\u0027].astype(\u0027Int64\u0027)\ndf[\u0027SETUP_DATE_DT\u0027] \u003d pd.to_datetime(df[\u0027SETUP_DATE\u0027])\ndf[\u0027SETUP_YEAR\u0027] \u003d df.SETUP_DATE_DT.dt.year\n\ndf[\u0027REVENUE_YEAR\u0027] \u003d df[\u0027REVENUE_YEAR\u0027].astype(\u0027Int64\u0027)\ndf[\u0027REVENUE_DATE\u0027] \u003d df[\u0027REVENUE_MONTH\u0027].astype(str) + \u0027-\u0027 + df[\u0027REVENUE_YEAR\u0027].astype(str)\ndf[\u0027REVENUE_DATE\u0027] \u003d pd.to_datetime(df[\u0027REVENUE_DATE\u0027], format\u003d\u0027%m-%Y\u0027).dt.strftime(\u0027%m-%Y\u0027)\n\ndf[\u0027MRU\u0027] \u003d df.BI_MRU\ndf.loc[df.MRU.isnull(),\u0027MRU\u0027] \u003d 3100\ndf.loc[df.MRU\u003d\u003d\u0027TBD\u0027,\u0027MRU\u0027] \u003d 3100\ndf[\u0027MRU\u0027] \u003d df[\u0027MRU\u0027].astype(float)\ndf[\u0027MRU\u0027] \u003d df[\u0027MRU\u0027].astype(\u0027Int64\u0027)\ndf.MRU.value_counts()\n\nprint(len(df), \"before filter\")\ndf \u003d df[df.REVENUE_YEAR!\u003d2023]\nprint(len(df), \"after filter, removing 2023\")\n\n# break down of revenue_year\ndf.REVENUE_YEAR.value_counts()\n\ndf.head()"
      ],
      "outputs": [
        {
          "output_type": "stream",
          "text": "19405984 before filter\n19405984 after filter, removing 2023\n",
          "name": "stdout"
        },
        {
          "output_type": "execute_result",
          "execution_count": 113,
          "data": {
            "text/plain": "   CUSTOMER_ID                      CUSTOMER  REVENUE_YEAR  REVENUE_MONTH      CUSTOMER_BUSINESS_PROGRAM_NAME BI_CUS_PAR BI_PRODUCT  BI_MRU                SETUP_DATE  REVENUE_AMOUNT_USD  GROSS_SPEND_AMOUNT  PURCHASE_GALLONS_QTY  TOTAL_ACTIVE_CARD_COUNT             SETUP_DATE_DT  SETUP_YEAR REVENUE_DATE   MRU\n0     77553684                 STATE OF IOWA          2019             11      Wright Express Fleet Universal   51,000.0   10,100.0 3,100.0 2013-08-19 07:00:00+00:00           22,705.96        1,450,884.46           563,755.553                  6,505.0 2013-08-19 07:00:00+00:00        2013      11-2019  3100\n1     77214249  EVANGELISTO CONSTRUCTION LLC          2019              1                    Sunoco Universal   51,200.0   15,308.0 4,120.0 2018-08-30 07:00:00+00:00               23.15              652.98               297.782                      4.0 2018-08-30 07:00:00+00:00        2018      01-2019  4120\n2     77434788           OLIVER SERVICES LLC          2019             12  Chevron and Texaco Business Access   11,200.0   15,308.0 4,000.0 2018-04-11 07:00:00+00:00               68.83               303.8    105.42299999999999                      1.0 2018-04-11 07:00:00+00:00        2018      12-2019  4000\n3     77540790              SOI AVIATION INC          2019              3         Chevron and Texaco Business   11,200.0   15,100.0 4,000.0 2018-12-03 08:00:00+00:00                85.0              111.44    29.159000000000002                      1.0 2018-12-03 08:00:00+00:00        2018      03-2019  4000\n4     77381882              MASCO CANADA LTD          2019              5          Esso Business Premier Plus   20,800.0   15,100.0 4,000.0 2014-11-03 08:00:00+00:00               76.46            8,498.36            2,102.5557                     25.0 2014-11-03 08:00:00+00:00        2014      05-2019  4000",
            "text/html": "\u003cdiv\u003e\n\u003cstyle scoped\u003e\n    .dataframe tbody tr th:only-of-type {\n        vertical-align: middle;\n    }\n\n    .dataframe tbody tr th {\n        vertical-align: top;\n    }\n\n    .dataframe thead th {\n        text-align: right;\n    }\n\u003c/style\u003e\n\u003ctable border\u003d\"1\" class\u003d\"dataframe\"\u003e\n  \u003cthead\u003e\n    \u003ctr style\u003d\"text-align: right;\"\u003e\n      \u003cth\u003e\u003c/th\u003e\n      \u003cth\u003eCUSTOMER_ID\u003c/th\u003e\n      \u003cth\u003eCUSTOMER\u003c/th\u003e\n      \u003cth\u003eREVENUE_YEAR\u003c/th\u003e\n      \u003cth\u003eREVENUE_MONTH\u003c/th\u003e\n      \u003cth\u003eCUSTOMER_BUSINESS_PROGRAM_NAME\u003c/th\u003e\n      \u003cth\u003eBI_CUS_PAR\u003c/th\u003e\n      \u003cth\u003eBI_PRODUCT\u003c/th\u003e\n      \u003cth\u003eBI_MRU\u003c/th\u003e\n      \u003cth\u003eSETUP_DATE\u003c/th\u003e\n      \u003cth\u003eREVENUE_AMOUNT_USD\u003c/th\u003e\n      \u003cth\u003eGROSS_SPEND_AMOUNT\u003c/th\u003e\n      \u003cth\u003ePURCHASE_GALLONS_QTY\u003c/th\u003e\n      \u003cth\u003eTOTAL_ACTIVE_CARD_COUNT\u003c/th\u003e\n      \u003cth\u003eSETUP_DATE_DT\u003c/th\u003e\n      \u003cth\u003eSETUP_YEAR\u003c/th\u003e\n      \u003cth\u003eREVENUE_DATE\u003c/th\u003e\n      \u003cth\u003eMRU\u003c/th\u003e\n    \u003c/tr\u003e\n  \u003c/thead\u003e\n  \u003ctbody\u003e\n    \u003ctr\u003e\n      \u003cth\u003e0\u003c/th\u003e\n      \u003ctd\u003e77553684\u003c/td\u003e\n      \u003ctd\u003eSTATE OF IOWA\u003c/td\u003e\n      \u003ctd\u003e2019\u003c/td\u003e\n      \u003ctd\u003e11\u003c/td\u003e\n      \u003ctd\u003eWright Express Fleet Universal\u003c/td\u003e\n      \u003ctd\u003e51,000.0\u003c/td\u003e\n      \u003ctd\u003e10,100.0\u003c/td\u003e\n      \u003ctd\u003e3,100.0\u003c/td\u003e\n      \u003ctd\u003e2013-08-19 07:00:00+00:00\u003c/td\u003e\n      \u003ctd\u003e22,705.96\u003c/td\u003e\n      \u003ctd\u003e1,450,884.46\u003c/td\u003e\n      \u003ctd\u003e563,755.553\u003c/td\u003e\n      \u003ctd\u003e6,505.0\u003c/td\u003e\n      \u003ctd\u003e2013-08-19 07:00:00+00:00\u003c/td\u003e\n      \u003ctd\u003e2013\u003c/td\u003e\n      \u003ctd\u003e11-2019\u003c/td\u003e\n      \u003ctd\u003e3100\u003c/td\u003e\n    \u003c/tr\u003e\n    \u003ctr\u003e\n      \u003cth\u003e1\u003c/th\u003e\n      \u003ctd\u003e77214249\u003c/td\u003e\n      \u003ctd\u003eEVANGELISTO CONSTRUCTION LLC\u003c/td\u003e\n      \u003ctd\u003e2019\u003c/td\u003e\n      \u003ctd\u003e1\u003c/td\u003e\n      \u003ctd\u003eSunoco Universal\u003c/td\u003e\n      \u003ctd\u003e51,200.0\u003c/td\u003e\n      \u003ctd\u003e15,308.0\u003c/td\u003e\n      \u003ctd\u003e4,120.0\u003c/td\u003e\n      \u003ctd\u003e2018-08-30 07:00:00+00:00\u003c/td\u003e\n      \u003ctd\u003e23.15\u003c/td\u003e\n      \u003ctd\u003e652.98\u003c/td\u003e\n      \u003ctd\u003e297.782\u003c/td\u003e\n      \u003ctd\u003e4.0\u003c/td\u003e\n      \u003ctd\u003e2018-08-30 07:00:00+00:00\u003c/td\u003e\n      \u003ctd\u003e2018\u003c/td\u003e\n      \u003ctd\u003e01-2019\u003c/td\u003e\n      \u003ctd\u003e4120\u003c/td\u003e\n    \u003c/tr\u003e\n    \u003ctr\u003e\n      \u003cth\u003e2\u003c/th\u003e\n      \u003ctd\u003e77434788\u003c/td\u003e\n      \u003ctd\u003eOLIVER SERVICES LLC\u003c/td\u003e\n      \u003ctd\u003e2019\u003c/td\u003e\n      \u003ctd\u003e12\u003c/td\u003e\n      \u003ctd\u003eChevron and Texaco Business Access\u003c/td\u003e\n      \u003ctd\u003e11,200.0\u003c/td\u003e\n      \u003ctd\u003e15,308.0\u003c/td\u003e\n      \u003ctd\u003e4,000.0\u003c/td\u003e\n      \u003ctd\u003e2018-04-11 07:00:00+00:00\u003c/td\u003e\n      \u003ctd\u003e68.83\u003c/td\u003e\n      \u003ctd\u003e303.8\u003c/td\u003e\n      \u003ctd\u003e105.42299999999999\u003c/td\u003e\n      \u003ctd\u003e1.0\u003c/td\u003e\n      \u003ctd\u003e2018-04-11 07:00:00+00:00\u003c/td\u003e\n      \u003ctd\u003e2018\u003c/td\u003e\n      \u003ctd\u003e12-2019\u003c/td\u003e\n      \u003ctd\u003e4000\u003c/td\u003e\n    \u003c/tr\u003e\n    \u003ctr\u003e\n      \u003cth\u003e3\u003c/th\u003e\n      \u003ctd\u003e77540790\u003c/td\u003e\n      \u003ctd\u003eSOI AVIATION INC\u003c/td\u003e\n      \u003ctd\u003e2019\u003c/td\u003e\n      \u003ctd\u003e3\u003c/td\u003e\n      \u003ctd\u003eChevron and Texaco Business\u003c/td\u003e\n      \u003ctd\u003e11,200.0\u003c/td\u003e\n      \u003ctd\u003e15,100.0\u003c/td\u003e\n      \u003ctd\u003e4,000.0\u003c/td\u003e\n      \u003ctd\u003e2018-12-03 08:00:00+00:00\u003c/td\u003e\n      \u003ctd\u003e85.0\u003c/td\u003e\n      \u003ctd\u003e111.44\u003c/td\u003e\n      \u003ctd\u003e29.159000000000002\u003c/td\u003e\n      \u003ctd\u003e1.0\u003c/td\u003e\n      \u003ctd\u003e2018-12-03 08:00:00+00:00\u003c/td\u003e\n      \u003ctd\u003e2018\u003c/td\u003e\n      \u003ctd\u003e03-2019\u003c/td\u003e\n      \u003ctd\u003e4000\u003c/td\u003e\n    \u003c/tr\u003e\n    \u003ctr\u003e\n      \u003cth\u003e4\u003c/th\u003e\n      \u003ctd\u003e77381882\u003c/td\u003e\n      \u003ctd\u003eMASCO CANADA LTD\u003c/td\u003e\n      \u003ctd\u003e2019\u003c/td\u003e\n      \u003ctd\u003e5\u003c/td\u003e\n      \u003ctd\u003eEsso Business Premier Plus\u003c/td\u003e\n      \u003ctd\u003e20,800.0\u003c/td\u003e\n      \u003ctd\u003e15,100.0\u003c/td\u003e\n      \u003ctd\u003e4,000.0\u003c/td\u003e\n      \u003ctd\u003e2014-11-03 08:00:00+00:00\u003c/td\u003e\n      \u003ctd\u003e76.46\u003c/td\u003e\n      \u003ctd\u003e8,498.36\u003c/td\u003e\n      \u003ctd\u003e2,102.5557\u003c/td\u003e\n      \u003ctd\u003e25.0\u003c/td\u003e\n      \u003ctd\u003e2014-11-03 08:00:00+00:00\u003c/td\u003e\n      \u003ctd\u003e2014\u003c/td\u003e\n      \u003ctd\u003e05-2019\u003c/td\u003e\n      \u003ctd\u003e4000\u003c/td\u003e\n    \u003c/tr\u003e\n  \u003c/tbody\u003e\n\u003c/table\u003e\n\u003c/div\u003e"
          },
          "metadata": {}
        }
      ]
    },
    {
      "execution_count": 0,
      "cell_type": "code",
      "metadata": {},
      "source": [
        "import matplotlib.dates as mdates\nfrom matplotlib.ticker import FuncFormatter\nimport matplotlib.pyplot as plt\n\n# plot out sum of revenue per year\n# in order to do a quick reonciliation against\n\n# aggregate revenue at annual grain\ndf_revenue_per_year \u003d df.groupby([\u0027REVENUE_YEAR\u0027]).REVENUE_AMOUNT_USD.sum().reset_index()\ndf_revenue_per_year.REVENUE_AMOUNT_USD \u003d df_revenue_per_year.REVENUE_AMOUNT_USD\ndf_revenue_per_year.head()\n\nmax_revenue \u003d df_revenue_per_year.REVENUE_AMOUNT_USD.max()\n\nchart_revenue_year \u003d []\nfor y in df_revenue_per_year.REVENUE_YEAR.tolist():\n    chart_revenue_year.append(str(y))\n\nfig, ax1 \u003d plt.subplots(figsize\u003d(8,3))\nax1.plot(chart_revenue_year,df_revenue_per_year[\u0027REVENUE_AMOUNT_USD\u0027], marker\u003d\u0027o\u0027)\nax1.set_xlabel(\u0027YEAR\u0027, fontsize\u003d14)\nax1.set_ylabel(\u0027REVENUE (M)\u0027, fontsize\u003d14)\nax1.yaxis.set_major_formatter(FuncFormatter(lambda x, p: format(int(x), \u0027,\u0027)))\nax1.grid()\nax1.set_ylim(ymin\u003d0, ymax\u003dmax_revenue*1.15)\nax1.yaxis.set_major_formatter(FuncFormatter(lambda x, p: format(int(x), \u0027,\u0027)))\nfig.autofmt_xdate()\nplt.title(\u0027Quick Revenue Reconciliation Table\u0027)\nplt.show()\n\ndf_revenue_per_year.head()"
      ],
      "outputs": []
    },
    {
      "execution_count": 0,
      "cell_type": "code",
      "metadata": {},
      "source": [
        "df_customer_MRU \u003d df.groupby([\u0027CUSTOMER_ID\u0027,\u0027CUSTOMER\u0027]).MRU.min().reset_index()\ndf_customer_program \u003d df.groupby([\u0027CUSTOMER_ID\u0027,\u0027CUSTOMER\u0027]).CUSTOMER_BUSINESS_PROGRAM_NAME.first().reset_index()\n\ndf_customer_revenue_by_year \u003d df.groupby([\u0027CUSTOMER_ID\u0027,\u0027CUSTOMER\u0027,\u0027REVENUE_YEAR\u0027]).REVENUE_AMOUNT_USD.sum().reset_index()\nprint(len(df_customer_revenue_by_year))\n\ndf_active_card_count_by_customer \u003d df_a.groupby([\u0027CUSTOMER_ID\u0027,\u0027CUSTOMER\u0027,\u0027YEAR_NUMBER\u0027]).ACTIVE_CARD_COUNT.sum().reset_index()\ndf_active_card_count_by_customer.columns \u003d [\u0027CUSTOMER_ID\u0027,\u0027CUSTOMER\u0027,\u0027REVENUE_YEAR\u0027,\u0027ACTIVE_CARD_COUNT\u0027]\ndf_active_card_count_by_customer.head()\n\ndf_x \u003d pd.merge(df_customer_revenue_by_year,df_active_card_count_by_customer, how\u003d\u0027left\u0027, on\u003d[\u0027CUSTOMER_ID\u0027,\u0027CUSTOMER\u0027,\u0027REVENUE_YEAR\u0027])\nprint(len(df_x))\n\ndf_customer_fleet_size \u003d df_active_card_count_by_customer.groupby([\u0027CUSTOMER_ID\u0027,\u0027CUSTOMER\u0027]).ACTIVE_CARD_COUNT.max().reset_index()\ndf_customer_fleet_size.columns \u003d [\u0027CUSTOMER_ID\u0027, \u0027CUSTOMER\u0027, \u0027FLEET_SIZE\u0027]\n\ndf_x \u003d pd.merge(df_x, df_customer_fleet_size, how\u003d\u0027left\u0027, on\u003d[\u0027CUSTOMER_ID\u0027,\u0027CUSTOMER\u0027])\nprint(len(df_x))\n\ndf_x \u003d pd.merge(df_x, df_customer_MRU, how\u003d\u0027left\u0027, on\u003d[\u0027CUSTOMER_ID\u0027,\u0027CUSTOMER\u0027])\nprint(len(df_x))\n\ndf_x \u003d pd.merge(df_x, df_customer_program, how\u003d\u0027left\u0027, on\u003d[\u0027CUSTOMER_ID\u0027,\u0027CUSTOMER\u0027])\nprint(len(df_x))\n\ndf_x.loc[df_x.CUSTOMER_BUSINESS_PROGRAM_NAME\u003d\u003d\u0027WEX Universal\u0027,\u0027MRU\u0027] \u003d 4120\ndf_x.head()"
      ],
      "outputs": []
    },
    {
      "execution_count": 0,
      "cell_type": "code",
      "metadata": {},
      "source": [
        "revenue_by_MRU \u003d df_x.groupby([\u0027MRU\u0027,\u0027REVENUE_YEAR\u0027]).REVENUE_AMOUNT_USD.sum().reset_index()\nrevenue_by_MRU[revenue_by_MRU.REVENUE_YEAR.isin([2020,2021])]"
      ],
      "outputs": []
    },
    {
      "execution_count": 0,
      "cell_type": "code",
      "metadata": {},
      "source": [
        "revenue_by_MRU \u003d df_x.groupby([\u0027MRU\u0027,\u0027REVENUE_YEAR\u0027]).ACTIVE_CARD_COUNT.sum().reset_index()\nrevenue_by_MRU[revenue_by_MRU.REVENUE_YEAR.isin([2020,2021])]"
      ],
      "outputs": []
    },
    {
      "execution_count": 0,
      "cell_type": "code",
      "metadata": {},
      "source": [
        "# create dataset by year,customer,business program, mru\n# join in customer fleet size\n# render revenue by MRU for 2020\n# render revenue by MRU for 2021\n# find the fleet size threshold that will move customers in oder to right size the revenue amounts\n# summarize the counts\n\n#df_active_card_count_by_customer \u003d df_a.groupby([\u0027CUSTOMER_ID\u0027,\u0027CUSTOMER\u0027,\u0027YEAR_NUMBER\u0027]).ACTIVE_CARD_COUNT.sum().reset_index()\n#df_active_card_count_by_customer.columns \u003d [\u0027CUSTOMER_ID\u0027,\u0027CUSTOMER\u0027,\u0027REVENUE_YEAR\u0027,\u0027ACTIVE_CARD_COUNT\u0027]\n#print(len(df_active_card_count_by_customer))\n\n#df_customer_fleet_size \u003d df_active_card_count_by_customer.groupby([\u0027CUSTOMER_ID\u0027,\u0027CUSTOMER\u0027]).ACTIVE_CARD_COUNT.max().reset_index()\n#df_customer_fleet_size.columns \u003d [\u0027CUSTOMER_ID\u0027, \u0027CUSTOMER\u0027, \u0027FLEET_SIZE\u0027]\n\n#df_active_card_count_by_customer \u003d pd.merge(df_active_card_count_by_customer,df_customer_fleet_size, on\u003d[\u0027CUSTOMER_ID\u0027,\u0027CUSTOMER\u0027], how\u003d\u0027left\u0027)\n#print(len(df_active_card_count_by_customer))\n\n#df_customer_program \u003d pd.merge(df_customer_program,df_active_card_count_by_customer, how\u003d\u0027left\u0027, on\u003d[\u0027CUSTOMER_ID\u0027,\u0027CUSTOMER\u0027,\u0027REVENUE_YEAR\u0027])\n#print(len(df_customer_program))\n#df_customer_program.head()"
      ],
      "outputs": []
    },
    {
      "execution_count": 0,
      "cell_type": "code",
      "metadata": {},
      "source": [
        "print(len(df_active_card_count_by_customer))\ndf_active_card_count_by_customer.drop_duplicates(subset\u003d[\u0027CUSTOMER_ID\u0027], inplace\u003dTrue)\nprint(len(df_active_card_count_by_customer))"
      ],
      "outputs": []
    },
    {
      "execution_count": 0,
      "cell_type": "code",
      "metadata": {},
      "source": [
        "#COST_BY_SEGMENT_df \u003d ... # Compute a Pandas dataframe to write into COST_BY_SEGMENT\n\n# Write recipe outputs\n#COST_BY_SEGMENT \u003d dataiku.Dataset(\"COST_BY_SEGMENT\")\n#COST_BY_SEGMENT.write_with_schema(COST_BY_SEGMENT_df)"
      ],
      "outputs": []
    }
  ]
}