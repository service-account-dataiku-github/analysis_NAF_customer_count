{
  "metadata": {
    "kernelspec": {
      "name": "py-dku-venv-env_clc",
      "display_name": "Python (env env_clc)",
      "language": "python"
    },
    "associatedRecipe": "compute_COST_BY_SEGMENT",
    "dkuGit": {
      "lastInteraction": 0
    },
    "creationTag": {
      "versionNumber": 0,
      "lastModifiedBy": {
        "login": "Daniel.Vandermeer"
      },
      "lastModifiedOn": 1677121124544
    },
    "creator": "Daniel.Vandermeer",
    "createdOn": 1677121124544,
    "tags": [
      "recipe-editor"
    ],
    "customFields": {},
    "hide_input": false,
    "language_info": {
      "name": "python",
      "version": "3.6.8",
      "mimetype": "text/x-python",
      "codemirror_mode": {
        "name": "ipython",
        "version": 3
      },
      "pygments_lexer": "ipython3",
      "nbconvert_exporter": "python",
      "file_extension": ".py"
    },
    "modifiedBy": "Daniel.Vandermeer"
  },
  "nbformat": 4,
  "nbformat_minor": 1,
  "cells": [
    {
      "execution_count": 1,
      "cell_type": "code",
      "metadata": {},
      "source": [
        "# -*- coding: utf-8 -*-\nimport dataiku\nimport pandas as pd, numpy as np\nfrom dataiku import pandasutils as pdu\n\nfrom datetime import date, datetime, timedelta\nimport time\n\nimport matplotlib.pyplot as plt\n\nt0 \u003d time.time()\n\n# Read recipe inputs\nNAFCUSTOMER_REVENUE_AGGREGATED_MRU_2019 \u003d dataiku.Dataset(\"NAFCUSTOMER_REVENUE_AGGREGATED_MRU_2019\")\nNAFCUSTOMER_REVENUE_AGGREGATED_MRU_2019_df \u003d NAFCUSTOMER_REVENUE_AGGREGATED_MRU_2019.get_dataframe()\nprint(\u0027loaded file 2019\u0027)\n\nNAFCUSTOMER_REVENUE_AGGREGATED_MRU_2021 \u003d dataiku.Dataset(\"NAFCUSTOMER_REVENUE_AGGREGATED_MRU_2021\")\nNAFCUSTOMER_REVENUE_AGGREGATED_MRU_2021_df \u003d NAFCUSTOMER_REVENUE_AGGREGATED_MRU_2021.get_dataframe()\nprint(\u0027loaded file 2020\u0027)\n\nNAFCUSTOMER_REVENUE_AGGREGATED_MRU_2020 \u003d dataiku.Dataset(\"NAFCUSTOMER_REVENUE_AGGREGATED_MRU_2020\")\nNAFCUSTOMER_REVENUE_AGGREGATED_MRU_2020_df \u003d NAFCUSTOMER_REVENUE_AGGREGATED_MRU_2020.get_dataframe()\nprint(\u0027loaded file 2021\u0027)\n\nNAFCUSTOMER_REVENUE_AGGREGATED_MRU_2022 \u003d dataiku.Dataset(\"NAFCUSTOMER_REVENUE_AGGREGATED_MRU_2022\")\nNAFCUSTOMER_REVENUE_AGGREGATED_MRU_2022_df \u003d NAFCUSTOMER_REVENUE_AGGREGATED_MRU_2022.get_dataframe()\nprint(\u0027loaded file 2022\u0027)\n\nNAFCUSTOMER_ACCOUNT_ANNUAL_ACTIVE_CARD_COUNT \u003d dataiku.Dataset(\"NAFCUSTOMER_ACCOUNT_ANNUAL_ACTIVE_CARD_COUNT\")\nNAFCUSTOMER_ACCOUNT_ANNUAL_ACTIVE_CARD_COUNT_df \u003d NAFCUSTOMER_ACCOUNT_ANNUAL_ACTIVE_CARD_COUNT.get_dataframe()\n\nprint(\u0027loaded annual card count\u0027)\n\nt1 \u003d time.time()\nprint(\"load duration\", (t1-t0)/60.0, \"minutes\")\n\n# Compute recipe outputs\n# TODO: Write here your actual code that computes the outputs\n# NB: DSS supports several kinds of APIs for reading and writing data. Please see doc."
      ],
      "outputs": [
        {
          "output_type": "stream",
          "text": "loaded file 2019\nloaded file 2020\nloaded file 2021\n",
          "name": "stdout"
        },
        {
          "output_type": "stream",
          "text": "/data/dataiku/dss_data/code-envs/python/env_clc/lib/python3.6/site-packages/IPython/core/interactiveshell.py:3263: DtypeWarning: Columns (5,6,7) have mixed types.Specify dtype option on import or set low_memory\u003dFalse.\n  if (await self.run_code(code, result,  async_\u003dasy)):\n",
          "name": "stderr"
        },
        {
          "output_type": "stream",
          "text": "loaded file 2022\nloaded annual card count\nload duration 7.405843190352122 minutes\n",
          "name": "stdout"
        }
      ]
    },
    {
      "execution_count": 2,
      "cell_type": "code",
      "metadata": {},
      "source": [
        "row_count \u003d 0\nrow_count +\u003d len(NAFCUSTOMER_REVENUE_AGGREGATED_MRU_2019_df)\nrow_count +\u003d len(NAFCUSTOMER_REVENUE_AGGREGATED_MRU_2020_df)\nrow_count +\u003d len(NAFCUSTOMER_REVENUE_AGGREGATED_MRU_2021_df)\nrow_count +\u003d len(NAFCUSTOMER_REVENUE_AGGREGATED_MRU_2022_df)\nprint(row_count)\n\ndf \u003d pd.concat([NAFCUSTOMER_REVENUE_AGGREGATED_MRU_2019_df, NAFCUSTOMER_REVENUE_AGGREGATED_MRU_2020_df, \n               NAFCUSTOMER_REVENUE_AGGREGATED_MRU_2021_df, NAFCUSTOMER_REVENUE_AGGREGATED_MRU_2022_df])\n\nprint(len(df), \"NAFCUSTOMER REVENUE AGGREGATED\")\n\nprint(len(NAFCUSTOMER_ACCOUNT_ANNUAL_ACTIVE_CARD_COUNT_df), \"NAFCUSTOMER_ACCOUNT_ANNUAL_ACTIVE_CARD_COUNT_df\")\ndf_a \u003d NAFCUSTOMER_ACCOUNT_ANNUAL_ACTIVE_CARD_COUNT_df"
      ],
      "outputs": [
        {
          "output_type": "stream",
          "text": "19405984\n19405984 NAFCUSTOMER REVENUE AGGREGATED\n2319568 NAFCUSTOMER_ACCOUNT_ANNUAL_ACTIVE_CARD_COUNT_df\n",
          "name": "stdout"
        }
      ]
    },
    {
      "execution_count": 0,
      "cell_type": "code",
      "metadata": {},
      "source": [
        "#COST_BY_SEGMENT_df \u003d ... # Compute a Pandas dataframe to write into COST_BY_SEGMENT\n\n# Write recipe outputs\n#COST_BY_SEGMENT \u003d dataiku.Dataset(\"COST_BY_SEGMENT\")\n#COST_BY_SEGMENT.write_with_schema(COST_BY_SEGMENT_df)"
      ],
      "outputs": []
    }
  ]
}