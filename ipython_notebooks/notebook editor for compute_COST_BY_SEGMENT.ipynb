{
  "metadata": {
    "kernelspec": {
      "name": "py-dku-venv-env_clc",
      "display_name": "Python (env env_clc)",
      "language": "python"
    },
    "associatedRecipe": "compute_COST_BY_SEGMENT",
    "creator": "Daniel.Vandermeer",
    "createdOn": 1677121124544,
    "tags": [
      "recipe-editor"
    ],
    "customFields": {},
    "hide_input": false,
    "language_info": {
      "name": "python",
      "version": "3.6.8",
      "mimetype": "text/x-python",
      "codemirror_mode": {
        "name": "ipython",
        "version": 3
      },
      "pygments_lexer": "ipython3",
      "nbconvert_exporter": "python",
      "file_extension": ".py"
    },
    "modifiedBy": "Daniel.Vandermeer"
  },
  "nbformat": 4,
  "nbformat_minor": 1,
  "cells": [
    {
      "execution_count": 0,
      "cell_type": "code",
      "metadata": {},
      "source": [
        "# -*- coding: utf-8 -*-\nimport dataiku\nimport pandas as pd, numpy as np\nfrom dataiku import pandasutils as pdu\n\nfrom datetime import date, datetime, timedelta\nimport time\n\nimport matplotlib.pyplot as plt\n\nt0 \u003d time.time()\n\n# Read recipe inputs\nNAFCUSTOMER_REVENUE_AGGREGATED_MRU_2019 \u003d dataiku.Dataset(\"NAFCUSTOMER_REVENUE_AGGREGATED_MRU_2019\")\nNAFCUSTOMER_REVENUE_AGGREGATED_MRU_2019_df \u003d NAFCUSTOMER_REVENUE_AGGREGATED_MRU_2019.get_dataframe()\n\nNAFCUSTOMER_REVENUE_AGGREGATED_MRU_2021 \u003d dataiku.Dataset(\"NAFCUSTOMER_REVENUE_AGGREGATED_MRU_2021\")\nNAFCUSTOMER_REVENUE_AGGREGATED_MRU_2021_df \u003d NAFCUSTOMER_REVENUE_AGGREGATED_MRU_2021.get_dataframe()\n\nNAFCUSTOMER_REVENUE_AGGREGATED_MRU_2020 \u003d dataiku.Dataset(\"NAFCUSTOMER_REVENUE_AGGREGATED_MRU_2020\")\nNAFCUSTOMER_REVENUE_AGGREGATED_MRU_2020_df \u003d NAFCUSTOMER_REVENUE_AGGREGATED_MRU_2020.get_dataframe()\n\nNAFCUSTOMER_REVENUE_AGGREGATED_MRU_2022 \u003d dataiku.Dataset(\"NAFCUSTOMER_REVENUE_AGGREGATED_MRU_2022\")\nNAFCUSTOMER_REVENUE_AGGREGATED_MRU_2022_df \u003d NAFCUSTOMER_REVENUE_AGGREGATED_MRU_2022.get_dataframe()\n\n\nprint(\u0027loaded annual card count\u0027)\n\nt1 \u003d time.time()\nprint(\"load duration\", (t1-t0)/60.0, \"minutes\")\n\n# Compute recipe outputs\n# TODO: Write here your actual code that computes the outputs\n# NB: DSS supports several kinds of APIs for reading and writing data. Please see doc.\n\nCOST_BY_SEGMENT_df \u003d ... # Compute a Pandas dataframe to write into COST_BY_SEGMENT\n\n\n# Write recipe outputs\nCOST_BY_SEGMENT \u003d dataiku.Dataset(\"COST_BY_SEGMENT\")\nCOST_BY_SEGMENT.write_with_schema(COST_BY_SEGMENT_df)"
      ],
      "outputs": []
    }
  ]
}