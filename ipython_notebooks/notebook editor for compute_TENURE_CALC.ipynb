{
  "metadata": {
    "kernelspec": {
      "name": "py-dku-venv-env_clc",
      "display_name": "Python (env env_clc)",
      "language": "python"
    },
    "associatedRecipe": "compute_TENURE_CALC",
    "dkuGit": {
      "lastInteraction": 0
    },
    "creationTag": {
      "versionNumber": 0,
      "lastModifiedBy": {
        "login": "Daniel.Vandermeer"
      },
      "lastModifiedOn": 1676236088206
    },
    "creator": "Daniel.Vandermeer",
    "createdOn": 1676236088206,
    "tags": [
      "recipe-editor"
    ],
    "customFields": {},
    "hide_input": false,
    "language_info": {
      "name": "python",
      "version": "3.6.8",
      "mimetype": "text/x-python",
      "codemirror_mode": {
        "name": "ipython",
        "version": 3
      },
      "pygments_lexer": "ipython3",
      "nbconvert_exporter": "python",
      "file_extension": ".py"
    },
    "modifiedBy": "Daniel.Vandermeer"
  },
  "nbformat": 4,
  "nbformat_minor": 1,
  "cells": [
    {
      "execution_count": 13,
      "cell_type": "code",
      "metadata": {},
      "source": [
        "# -*- coding: utf-8 -*-\nimport dataiku\nimport pandas as pd, numpy as np\nfrom dataiku import pandasutils as pdu\n\nfrom datetime import date, datetime, timedelta\nimport time\n\nt0 \u003d time.time()\n\n# Read recipe inputs\nNAFCUSTOMER_REVENUE_AGGREGATED \u003d dataiku.Dataset(\"NAFCUSTOMER_REVENUE_AGGREGATED\")\nNAFCUSTOMER_REVENUE_AGGREGATED_df \u003d NAFCUSTOMER_REVENUE_AGGREGATED.get_dataframe()\n\nt1 \u003d time.time()\nprint(\"load duration\", (t1-t0)/60.0, \"minutes\")\n\nprint(len(NAFCUSTOMER_REVENUE_AGGREGATED_df))\nNAFCUSTOMER_REVENUE_AGGREGATED_df.head()"
      ],
      "outputs": [
        {
          "output_type": "stream",
          "text": "load duration 5.3527179996172585 minutes\n18075044\n",
          "name": "stdout"
        },
        {
          "output_type": "execute_result",
          "execution_count": 13,
          "data": {
            "text/plain": "   CUSTOMER_ID                        CUSTOMER  REVENUE_YEAR  REVENUE_MONTH                SETUP_DATE  BI_CUS_PAR  BI_PRODUCT  BI_MRU  REVENUE_AMOUNT_USD  GROSS_SPEND_AMOUNT  PURCHASE_GALLONS_QTY  TOTAL_ACTIVE_CARD_COUNT\n0   77056151.0            ARM HEALTHCARE L L C          2019             11 2019-03-15 07:00:00+00:00     30300.0     15308.0  3100.0          222.240507             6448.90              2712.729                     47.0\n1   77618991.0   VERITAS MANAGED SOLUTIONS INC          2020             11 2011-05-19 07:00:00+00:00     12200.0     15100.0  4120.0           40.630000             3692.88              1143.368                     16.0\n2   77318531.0             JNM ENTERPRISES INC          2020             10 2016-04-06 07:00:00+00:00     51000.0     10100.0  4120.0           25.320000              741.35               355.677                     13.0\n3   77058685.0  ASHEVILLE ELEVATOR COMPANY INC          2019              4 2007-03-29 07:00:00+00:00     51000.0     10100.0  3100.0           87.610000             1569.19               569.249                      7.0\n4   77221508.0             FAST JACK TRANSPORT          2019              9 2018-10-26 07:00:00+00:00     21000.0     15110.0  4000.0           28.570000              909.94               334.750                      3.0",
            "text/html": "\u003cdiv\u003e\n\u003cstyle scoped\u003e\n    .dataframe tbody tr th:only-of-type {\n        vertical-align: middle;\n    }\n\n    .dataframe tbody tr th {\n        vertical-align: top;\n    }\n\n    .dataframe thead th {\n        text-align: right;\n    }\n\u003c/style\u003e\n\u003ctable border\u003d\"1\" class\u003d\"dataframe\"\u003e\n  \u003cthead\u003e\n    \u003ctr style\u003d\"text-align: right;\"\u003e\n      \u003cth\u003e\u003c/th\u003e\n      \u003cth\u003eCUSTOMER_ID\u003c/th\u003e\n      \u003cth\u003eCUSTOMER\u003c/th\u003e\n      \u003cth\u003eREVENUE_YEAR\u003c/th\u003e\n      \u003cth\u003eREVENUE_MONTH\u003c/th\u003e\n      \u003cth\u003eSETUP_DATE\u003c/th\u003e\n      \u003cth\u003eBI_CUS_PAR\u003c/th\u003e\n      \u003cth\u003eBI_PRODUCT\u003c/th\u003e\n      \u003cth\u003eBI_MRU\u003c/th\u003e\n      \u003cth\u003eREVENUE_AMOUNT_USD\u003c/th\u003e\n      \u003cth\u003eGROSS_SPEND_AMOUNT\u003c/th\u003e\n      \u003cth\u003ePURCHASE_GALLONS_QTY\u003c/th\u003e\n      \u003cth\u003eTOTAL_ACTIVE_CARD_COUNT\u003c/th\u003e\n    \u003c/tr\u003e\n  \u003c/thead\u003e\n  \u003ctbody\u003e\n    \u003ctr\u003e\n      \u003cth\u003e0\u003c/th\u003e\n      \u003ctd\u003e77056151.0\u003c/td\u003e\n      \u003ctd\u003eARM HEALTHCARE L L C\u003c/td\u003e\n      \u003ctd\u003e2019\u003c/td\u003e\n      \u003ctd\u003e11\u003c/td\u003e\n      \u003ctd\u003e2019-03-15 07:00:00+00:00\u003c/td\u003e\n      \u003ctd\u003e30300.0\u003c/td\u003e\n      \u003ctd\u003e15308.0\u003c/td\u003e\n      \u003ctd\u003e3100.0\u003c/td\u003e\n      \u003ctd\u003e222.240507\u003c/td\u003e\n      \u003ctd\u003e6448.90\u003c/td\u003e\n      \u003ctd\u003e2712.729\u003c/td\u003e\n      \u003ctd\u003e47.0\u003c/td\u003e\n    \u003c/tr\u003e\n    \u003ctr\u003e\n      \u003cth\u003e1\u003c/th\u003e\n      \u003ctd\u003e77618991.0\u003c/td\u003e\n      \u003ctd\u003eVERITAS MANAGED SOLUTIONS INC\u003c/td\u003e\n      \u003ctd\u003e2020\u003c/td\u003e\n      \u003ctd\u003e11\u003c/td\u003e\n      \u003ctd\u003e2011-05-19 07:00:00+00:00\u003c/td\u003e\n      \u003ctd\u003e12200.0\u003c/td\u003e\n      \u003ctd\u003e15100.0\u003c/td\u003e\n      \u003ctd\u003e4120.0\u003c/td\u003e\n      \u003ctd\u003e40.630000\u003c/td\u003e\n      \u003ctd\u003e3692.88\u003c/td\u003e\n      \u003ctd\u003e1143.368\u003c/td\u003e\n      \u003ctd\u003e16.0\u003c/td\u003e\n    \u003c/tr\u003e\n    \u003ctr\u003e\n      \u003cth\u003e2\u003c/th\u003e\n      \u003ctd\u003e77318531.0\u003c/td\u003e\n      \u003ctd\u003eJNM ENTERPRISES INC\u003c/td\u003e\n      \u003ctd\u003e2020\u003c/td\u003e\n      \u003ctd\u003e10\u003c/td\u003e\n      \u003ctd\u003e2016-04-06 07:00:00+00:00\u003c/td\u003e\n      \u003ctd\u003e51000.0\u003c/td\u003e\n      \u003ctd\u003e10100.0\u003c/td\u003e\n      \u003ctd\u003e4120.0\u003c/td\u003e\n      \u003ctd\u003e25.320000\u003c/td\u003e\n      \u003ctd\u003e741.35\u003c/td\u003e\n      \u003ctd\u003e355.677\u003c/td\u003e\n      \u003ctd\u003e13.0\u003c/td\u003e\n    \u003c/tr\u003e\n    \u003ctr\u003e\n      \u003cth\u003e3\u003c/th\u003e\n      \u003ctd\u003e77058685.0\u003c/td\u003e\n      \u003ctd\u003eASHEVILLE ELEVATOR COMPANY INC\u003c/td\u003e\n      \u003ctd\u003e2019\u003c/td\u003e\n      \u003ctd\u003e4\u003c/td\u003e\n      \u003ctd\u003e2007-03-29 07:00:00+00:00\u003c/td\u003e\n      \u003ctd\u003e51000.0\u003c/td\u003e\n      \u003ctd\u003e10100.0\u003c/td\u003e\n      \u003ctd\u003e3100.0\u003c/td\u003e\n      \u003ctd\u003e87.610000\u003c/td\u003e\n      \u003ctd\u003e1569.19\u003c/td\u003e\n      \u003ctd\u003e569.249\u003c/td\u003e\n      \u003ctd\u003e7.0\u003c/td\u003e\n    \u003c/tr\u003e\n    \u003ctr\u003e\n      \u003cth\u003e4\u003c/th\u003e\n      \u003ctd\u003e77221508.0\u003c/td\u003e\n      \u003ctd\u003eFAST JACK TRANSPORT\u003c/td\u003e\n      \u003ctd\u003e2019\u003c/td\u003e\n      \u003ctd\u003e9\u003c/td\u003e\n      \u003ctd\u003e2018-10-26 07:00:00+00:00\u003c/td\u003e\n      \u003ctd\u003e21000.0\u003c/td\u003e\n      \u003ctd\u003e15110.0\u003c/td\u003e\n      \u003ctd\u003e4000.0\u003c/td\u003e\n      \u003ctd\u003e28.570000\u003c/td\u003e\n      \u003ctd\u003e909.94\u003c/td\u003e\n      \u003ctd\u003e334.750\u003c/td\u003e\n      \u003ctd\u003e3.0\u003c/td\u003e\n    \u003c/tr\u003e\n  \u003c/tbody\u003e\n\u003c/table\u003e\n\u003c/div\u003e"
          },
          "metadata": {}
        }
      ]
    },
    {
      "execution_count": 0,
      "cell_type": "code",
      "metadata": {},
      "source": [
        "# create date column, combining month and year\n# group revenue sum by date column"
      ],
      "outputs": []
    },
    {
      "execution_count": 14,
      "cell_type": "code",
      "metadata": {},
      "source": [
        "print(len(NAFCUSTOMER_REVENUE_AGGREGATED_df))\ndf \u003d NAFCUSTOMER_REVENUE_AGGREGATED_df"
      ],
      "outputs": [
        {
          "output_type": "stream",
          "text": "18075044\n",
          "name": "stdout"
        }
      ]
    },
    {
      "execution_count": 15,
      "cell_type": "code",
      "metadata": {},
      "source": [
        "df.head()"
      ],
      "outputs": [
        {
          "output_type": "execute_result",
          "execution_count": 15,
          "data": {
            "text/plain": "   CUSTOMER_ID                        CUSTOMER  REVENUE_YEAR  REVENUE_MONTH                SETUP_DATE  BI_CUS_PAR  BI_PRODUCT  BI_MRU  REVENUE_AMOUNT_USD  GROSS_SPEND_AMOUNT  PURCHASE_GALLONS_QTY  TOTAL_ACTIVE_CARD_COUNT\n0   77056151.0            ARM HEALTHCARE L L C          2019             11 2019-03-15 07:00:00+00:00     30300.0     15308.0  3100.0          222.240507             6448.90              2712.729                     47.0\n1   77618991.0   VERITAS MANAGED SOLUTIONS INC          2020             11 2011-05-19 07:00:00+00:00     12200.0     15100.0  4120.0           40.630000             3692.88              1143.368                     16.0\n2   77318531.0             JNM ENTERPRISES INC          2020             10 2016-04-06 07:00:00+00:00     51000.0     10100.0  4120.0           25.320000              741.35               355.677                     13.0\n3   77058685.0  ASHEVILLE ELEVATOR COMPANY INC          2019              4 2007-03-29 07:00:00+00:00     51000.0     10100.0  3100.0           87.610000             1569.19               569.249                      7.0\n4   77221508.0             FAST JACK TRANSPORT          2019              9 2018-10-26 07:00:00+00:00     21000.0     15110.0  4000.0           28.570000              909.94               334.750                      3.0",
            "text/html": "\u003cdiv\u003e\n\u003cstyle scoped\u003e\n    .dataframe tbody tr th:only-of-type {\n        vertical-align: middle;\n    }\n\n    .dataframe tbody tr th {\n        vertical-align: top;\n    }\n\n    .dataframe thead th {\n        text-align: right;\n    }\n\u003c/style\u003e\n\u003ctable border\u003d\"1\" class\u003d\"dataframe\"\u003e\n  \u003cthead\u003e\n    \u003ctr style\u003d\"text-align: right;\"\u003e\n      \u003cth\u003e\u003c/th\u003e\n      \u003cth\u003eCUSTOMER_ID\u003c/th\u003e\n      \u003cth\u003eCUSTOMER\u003c/th\u003e\n      \u003cth\u003eREVENUE_YEAR\u003c/th\u003e\n      \u003cth\u003eREVENUE_MONTH\u003c/th\u003e\n      \u003cth\u003eSETUP_DATE\u003c/th\u003e\n      \u003cth\u003eBI_CUS_PAR\u003c/th\u003e\n      \u003cth\u003eBI_PRODUCT\u003c/th\u003e\n      \u003cth\u003eBI_MRU\u003c/th\u003e\n      \u003cth\u003eREVENUE_AMOUNT_USD\u003c/th\u003e\n      \u003cth\u003eGROSS_SPEND_AMOUNT\u003c/th\u003e\n      \u003cth\u003ePURCHASE_GALLONS_QTY\u003c/th\u003e\n      \u003cth\u003eTOTAL_ACTIVE_CARD_COUNT\u003c/th\u003e\n    \u003c/tr\u003e\n  \u003c/thead\u003e\n  \u003ctbody\u003e\n    \u003ctr\u003e\n      \u003cth\u003e0\u003c/th\u003e\n      \u003ctd\u003e77056151.0\u003c/td\u003e\n      \u003ctd\u003eARM HEALTHCARE L L C\u003c/td\u003e\n      \u003ctd\u003e2019\u003c/td\u003e\n      \u003ctd\u003e11\u003c/td\u003e\n      \u003ctd\u003e2019-03-15 07:00:00+00:00\u003c/td\u003e\n      \u003ctd\u003e30300.0\u003c/td\u003e\n      \u003ctd\u003e15308.0\u003c/td\u003e\n      \u003ctd\u003e3100.0\u003c/td\u003e\n      \u003ctd\u003e222.240507\u003c/td\u003e\n      \u003ctd\u003e6448.90\u003c/td\u003e\n      \u003ctd\u003e2712.729\u003c/td\u003e\n      \u003ctd\u003e47.0\u003c/td\u003e\n    \u003c/tr\u003e\n    \u003ctr\u003e\n      \u003cth\u003e1\u003c/th\u003e\n      \u003ctd\u003e77618991.0\u003c/td\u003e\n      \u003ctd\u003eVERITAS MANAGED SOLUTIONS INC\u003c/td\u003e\n      \u003ctd\u003e2020\u003c/td\u003e\n      \u003ctd\u003e11\u003c/td\u003e\n      \u003ctd\u003e2011-05-19 07:00:00+00:00\u003c/td\u003e\n      \u003ctd\u003e12200.0\u003c/td\u003e\n      \u003ctd\u003e15100.0\u003c/td\u003e\n      \u003ctd\u003e4120.0\u003c/td\u003e\n      \u003ctd\u003e40.630000\u003c/td\u003e\n      \u003ctd\u003e3692.88\u003c/td\u003e\n      \u003ctd\u003e1143.368\u003c/td\u003e\n      \u003ctd\u003e16.0\u003c/td\u003e\n    \u003c/tr\u003e\n    \u003ctr\u003e\n      \u003cth\u003e2\u003c/th\u003e\n      \u003ctd\u003e77318531.0\u003c/td\u003e\n      \u003ctd\u003eJNM ENTERPRISES INC\u003c/td\u003e\n      \u003ctd\u003e2020\u003c/td\u003e\n      \u003ctd\u003e10\u003c/td\u003e\n      \u003ctd\u003e2016-04-06 07:00:00+00:00\u003c/td\u003e\n      \u003ctd\u003e51000.0\u003c/td\u003e\n      \u003ctd\u003e10100.0\u003c/td\u003e\n      \u003ctd\u003e4120.0\u003c/td\u003e\n      \u003ctd\u003e25.320000\u003c/td\u003e\n      \u003ctd\u003e741.35\u003c/td\u003e\n      \u003ctd\u003e355.677\u003c/td\u003e\n      \u003ctd\u003e13.0\u003c/td\u003e\n    \u003c/tr\u003e\n    \u003ctr\u003e\n      \u003cth\u003e3\u003c/th\u003e\n      \u003ctd\u003e77058685.0\u003c/td\u003e\n      \u003ctd\u003eASHEVILLE ELEVATOR COMPANY INC\u003c/td\u003e\n      \u003ctd\u003e2019\u003c/td\u003e\n      \u003ctd\u003e4\u003c/td\u003e\n      \u003ctd\u003e2007-03-29 07:00:00+00:00\u003c/td\u003e\n      \u003ctd\u003e51000.0\u003c/td\u003e\n      \u003ctd\u003e10100.0\u003c/td\u003e\n      \u003ctd\u003e3100.0\u003c/td\u003e\n      \u003ctd\u003e87.610000\u003c/td\u003e\n      \u003ctd\u003e1569.19\u003c/td\u003e\n      \u003ctd\u003e569.249\u003c/td\u003e\n      \u003ctd\u003e7.0\u003c/td\u003e\n    \u003c/tr\u003e\n    \u003ctr\u003e\n      \u003cth\u003e4\u003c/th\u003e\n      \u003ctd\u003e77221508.0\u003c/td\u003e\n      \u003ctd\u003eFAST JACK TRANSPORT\u003c/td\u003e\n      \u003ctd\u003e2019\u003c/td\u003e\n      \u003ctd\u003e9\u003c/td\u003e\n      \u003ctd\u003e2018-10-26 07:00:00+00:00\u003c/td\u003e\n      \u003ctd\u003e21000.0\u003c/td\u003e\n      \u003ctd\u003e15110.0\u003c/td\u003e\n      \u003ctd\u003e4000.0\u003c/td\u003e\n      \u003ctd\u003e28.570000\u003c/td\u003e\n      \u003ctd\u003e909.94\u003c/td\u003e\n      \u003ctd\u003e334.750\u003c/td\u003e\n      \u003ctd\u003e3.0\u003c/td\u003e\n    \u003c/tr\u003e\n  \u003c/tbody\u003e\n\u003c/table\u003e\n\u003c/div\u003e"
          },
          "metadata": {}
        }
      ]
    },
    {
      "execution_count": 17,
      "cell_type": "code",
      "metadata": {},
      "source": [
        "df[\u0027REVENUE_DATE\u0027] \u003d df[\u0027REVENUE_MONTH\u0027].astype(str) + \u0027-\u0027 + df[\u0027REVENUE_YEAR\u0027].astype(str)\ndf[\u0027REVENUE_DATE\u0027] \u003d pd.to_datetime(df[\u0027REVENUE_DATE\u0027], format\u003d\u0027%m-$Y\u0027).dt.strftime(\u0027%m-%Y\u0027)\ndf.head()"
      ],
      "outputs": [
        {
          "output_type": "error",
          "ename": "ValueError",
          "evalue": "time data \u002711-2019\u0027 does not match format \u0027%m-$Y\u0027 (match)",
          "traceback": [
            "\u001b[0;31m---------------------------------------------------------------------------\u001b[0m",
            "\u001b[0;31mTypeError\u001b[0m                                 Traceback (most recent call last)",
            "\u001b[0;32m/data/dataiku/dss_data/code-envs/python/env_clc/lib64/python3.6/site-packages/pandas/core/tools/datetimes.py\u001b[0m in \u001b[0;36m_convert_listlike_datetimes\u001b[0;34m(arg, format, name, tz, unit, errors, infer_datetime_format, dayfirst, yearfirst, exact)\u001b[0m\n\u001b[1;32m    431\u001b[0m             \u001b[0;32mtry\u001b[0m\u001b[0;34m:\u001b[0m\u001b[0;34m\u001b[0m\u001b[0;34m\u001b[0m\u001b[0m\n\u001b[0;32m--\u003e 432\u001b[0;31m                 \u001b[0mvalues\u001b[0m\u001b[0;34m,\u001b[0m \u001b[0mtz\u001b[0m \u001b[0;34m\u003d\u001b[0m \u001b[0mconversion\u001b[0m\u001b[0;34m.\u001b[0m\u001b[0mdatetime_to_datetime64\u001b[0m\u001b[0;34m(\u001b[0m\u001b[0marg\u001b[0m\u001b[0;34m)\u001b[0m\u001b[0;34m\u001b[0m\u001b[0;34m\u001b[0m\u001b[0m\n\u001b[0m\u001b[1;32m    433\u001b[0m                 \u001b[0;32mreturn\u001b[0m \u001b[0mDatetimeIndex\u001b[0m\u001b[0;34m.\u001b[0m\u001b[0m_simple_new\u001b[0m\u001b[0;34m(\u001b[0m\u001b[0mvalues\u001b[0m\u001b[0;34m,\u001b[0m \u001b[0mname\u001b[0m\u001b[0;34m\u003d\u001b[0m\u001b[0mname\u001b[0m\u001b[0;34m,\u001b[0m \u001b[0mtz\u001b[0m\u001b[0;34m\u003d\u001b[0m\u001b[0mtz\u001b[0m\u001b[0;34m)\u001b[0m\u001b[0;34m\u001b[0m\u001b[0;34m\u001b[0m\u001b[0m\n",
            "\u001b[0;32mpandas/_libs/tslibs/conversion.pyx\u001b[0m in \u001b[0;36mpandas._libs.tslibs.conversion.datetime_to_datetime64\u001b[0;34m()\u001b[0m\n",
            "\u001b[0;31mTypeError\u001b[0m: Unrecognized value type: \u003cclass \u0027str\u0027\u003e",
            "\nDuring handling of the above exception, another exception occurred:\n",
            "\u001b[0;31mValueError\u001b[0m                                Traceback (most recent call last)",
            "\u001b[0;32m\u003cipython-input-17-9b4ea6d84546\u003e\u001b[0m in \u001b[0;36m\u003cmodule\u003e\u001b[0;34m\u001b[0m\n\u001b[1;32m      1\u001b[0m \u001b[0mdf\u001b[0m\u001b[0;34m[\u001b[0m\u001b[0;34m\u0027REVENUE_DATE\u0027\u001b[0m\u001b[0;34m]\u001b[0m \u001b[0;34m\u003d\u001b[0m \u001b[0mdf\u001b[0m\u001b[0;34m[\u001b[0m\u001b[0;34m\u0027REVENUE_MONTH\u0027\u001b[0m\u001b[0;34m]\u001b[0m\u001b[0;34m.\u001b[0m\u001b[0mastype\u001b[0m\u001b[0;34m(\u001b[0m\u001b[0mstr\u001b[0m\u001b[0;34m)\u001b[0m \u001b[0;34m+\u001b[0m \u001b[0;34m\u0027-\u0027\u001b[0m \u001b[0;34m+\u001b[0m \u001b[0mdf\u001b[0m\u001b[0;34m[\u001b[0m\u001b[0;34m\u0027REVENUE_YEAR\u0027\u001b[0m\u001b[0;34m]\u001b[0m\u001b[0;34m.\u001b[0m\u001b[0mastype\u001b[0m\u001b[0;34m(\u001b[0m\u001b[0mstr\u001b[0m\u001b[0;34m)\u001b[0m\u001b[0;34m\u001b[0m\u001b[0;34m\u001b[0m\u001b[0m\n\u001b[0;32m----\u003e 2\u001b[0;31m \u001b[0mdf\u001b[0m\u001b[0;34m[\u001b[0m\u001b[0;34m\u0027REVENUE_DATE\u0027\u001b[0m\u001b[0;34m]\u001b[0m \u001b[0;34m\u003d\u001b[0m \u001b[0mpd\u001b[0m\u001b[0;34m.\u001b[0m\u001b[0mto_datetime\u001b[0m\u001b[0;34m(\u001b[0m\u001b[0mdf\u001b[0m\u001b[0;34m[\u001b[0m\u001b[0;34m\u0027REVENUE_DATE\u0027\u001b[0m\u001b[0;34m]\u001b[0m\u001b[0;34m,\u001b[0m \u001b[0mformat\u001b[0m\u001b[0;34m\u003d\u001b[0m\u001b[0;34m\u0027%m-$Y\u0027\u001b[0m\u001b[0;34m)\u001b[0m\u001b[0;34m.\u001b[0m\u001b[0mdt\u001b[0m\u001b[0;34m.\u001b[0m\u001b[0mstrftime\u001b[0m\u001b[0;34m(\u001b[0m\u001b[0;34m\u0027%m-%Y\u0027\u001b[0m\u001b[0;34m)\u001b[0m\u001b[0;34m\u001b[0m\u001b[0;34m\u001b[0m\u001b[0m\n\u001b[0m\u001b[1;32m      3\u001b[0m \u001b[0mdf\u001b[0m\u001b[0;34m.\u001b[0m\u001b[0mhead\u001b[0m\u001b[0;34m(\u001b[0m\u001b[0;34m)\u001b[0m\u001b[0;34m\u001b[0m\u001b[0;34m\u001b[0m\u001b[0m\n",
            "\u001b[0;32m/data/dataiku/dss_data/code-envs/python/env_clc/lib64/python3.6/site-packages/pandas/core/tools/datetimes.py\u001b[0m in \u001b[0;36mto_datetime\u001b[0;34m(arg, errors, dayfirst, yearfirst, utc, format, exact, unit, infer_datetime_format, origin, cache)\u001b[0m\n\u001b[1;32m    722\u001b[0m                 \u001b[0mresult\u001b[0m \u001b[0;34m\u003d\u001b[0m \u001b[0mresult\u001b[0m\u001b[0;34m.\u001b[0m\u001b[0mtz_localize\u001b[0m\u001b[0;34m(\u001b[0m\u001b[0mtz\u001b[0m\u001b[0;34m)\u001b[0m\u001b[0;34m\u001b[0m\u001b[0;34m\u001b[0m\u001b[0m\n\u001b[1;32m    723\u001b[0m     \u001b[0;32melif\u001b[0m \u001b[0misinstance\u001b[0m\u001b[0;34m(\u001b[0m\u001b[0marg\u001b[0m\u001b[0;34m,\u001b[0m \u001b[0mABCSeries\u001b[0m\u001b[0;34m)\u001b[0m\u001b[0;34m:\u001b[0m\u001b[0;34m\u001b[0m\u001b[0;34m\u001b[0m\u001b[0m\n\u001b[0;32m--\u003e 724\u001b[0;31m         \u001b[0mcache_array\u001b[0m \u001b[0;34m\u003d\u001b[0m \u001b[0m_maybe_cache\u001b[0m\u001b[0;34m(\u001b[0m\u001b[0marg\u001b[0m\u001b[0;34m,\u001b[0m \u001b[0mformat\u001b[0m\u001b[0;34m,\u001b[0m \u001b[0mcache\u001b[0m\u001b[0;34m,\u001b[0m \u001b[0mconvert_listlike\u001b[0m\u001b[0;34m)\u001b[0m\u001b[0;34m\u001b[0m\u001b[0;34m\u001b[0m\u001b[0m\n\u001b[0m\u001b[1;32m    725\u001b[0m         \u001b[0;32mif\u001b[0m \u001b[0;32mnot\u001b[0m \u001b[0mcache_array\u001b[0m\u001b[0;34m.\u001b[0m\u001b[0mempty\u001b[0m\u001b[0;34m:\u001b[0m\u001b[0;34m\u001b[0m\u001b[0;34m\u001b[0m\u001b[0m\n\u001b[1;32m    726\u001b[0m             \u001b[0mresult\u001b[0m \u001b[0;34m\u003d\u001b[0m \u001b[0marg\u001b[0m\u001b[0;34m.\u001b[0m\u001b[0mmap\u001b[0m\u001b[0;34m(\u001b[0m\u001b[0mcache_array\u001b[0m\u001b[0;34m)\u001b[0m\u001b[0;34m\u001b[0m\u001b[0;34m\u001b[0m\u001b[0m\n",
            "\u001b[0;32m/data/dataiku/dss_data/code-envs/python/env_clc/lib64/python3.6/site-packages/pandas/core/tools/datetimes.py\u001b[0m in \u001b[0;36m_maybe_cache\u001b[0;34m(arg, format, cache, convert_listlike)\u001b[0m\n\u001b[1;32m    150\u001b[0m         \u001b[0munique_dates\u001b[0m \u001b[0;34m\u003d\u001b[0m \u001b[0munique\u001b[0m\u001b[0;34m(\u001b[0m\u001b[0marg\u001b[0m\u001b[0;34m)\u001b[0m\u001b[0;34m\u001b[0m\u001b[0;34m\u001b[0m\u001b[0m\n\u001b[1;32m    151\u001b[0m         \u001b[0;32mif\u001b[0m \u001b[0mlen\u001b[0m\u001b[0;34m(\u001b[0m\u001b[0munique_dates\u001b[0m\u001b[0;34m)\u001b[0m \u001b[0;34m\u003c\u001b[0m \u001b[0mlen\u001b[0m\u001b[0;34m(\u001b[0m\u001b[0marg\u001b[0m\u001b[0;34m)\u001b[0m\u001b[0;34m:\u001b[0m\u001b[0;34m\u001b[0m\u001b[0;34m\u001b[0m\u001b[0m\n\u001b[0;32m--\u003e 152\u001b[0;31m             \u001b[0mcache_dates\u001b[0m \u001b[0;34m\u003d\u001b[0m \u001b[0mconvert_listlike\u001b[0m\u001b[0;34m(\u001b[0m\u001b[0munique_dates\u001b[0m\u001b[0;34m,\u001b[0m \u001b[0mformat\u001b[0m\u001b[0;34m)\u001b[0m\u001b[0;34m\u001b[0m\u001b[0;34m\u001b[0m\u001b[0m\n\u001b[0m\u001b[1;32m    153\u001b[0m             \u001b[0mcache_array\u001b[0m \u001b[0;34m\u003d\u001b[0m \u001b[0mSeries\u001b[0m\u001b[0;34m(\u001b[0m\u001b[0mcache_dates\u001b[0m\u001b[0;34m,\u001b[0m \u001b[0mindex\u001b[0m\u001b[0;34m\u003d\u001b[0m\u001b[0munique_dates\u001b[0m\u001b[0;34m)\u001b[0m\u001b[0;34m\u001b[0m\u001b[0;34m\u001b[0m\u001b[0m\n\u001b[1;32m    154\u001b[0m     \u001b[0;32mreturn\u001b[0m \u001b[0mcache_array\u001b[0m\u001b[0;34m\u001b[0m\u001b[0;34m\u001b[0m\u001b[0m\n",
            "\u001b[0;32m/data/dataiku/dss_data/code-envs/python/env_clc/lib64/python3.6/site-packages/pandas/core/tools/datetimes.py\u001b[0m in \u001b[0;36m_convert_listlike_datetimes\u001b[0;34m(arg, format, name, tz, unit, errors, infer_datetime_format, dayfirst, yearfirst, exact)\u001b[0m\n\u001b[1;32m    433\u001b[0m                 \u001b[0;32mreturn\u001b[0m \u001b[0mDatetimeIndex\u001b[0m\u001b[0;34m.\u001b[0m\u001b[0m_simple_new\u001b[0m\u001b[0;34m(\u001b[0m\u001b[0mvalues\u001b[0m\u001b[0;34m,\u001b[0m \u001b[0mname\u001b[0m\u001b[0;34m\u003d\u001b[0m\u001b[0mname\u001b[0m\u001b[0;34m,\u001b[0m \u001b[0mtz\u001b[0m\u001b[0;34m\u003d\u001b[0m\u001b[0mtz\u001b[0m\u001b[0;34m)\u001b[0m\u001b[0;34m\u001b[0m\u001b[0;34m\u001b[0m\u001b[0m\n\u001b[1;32m    434\u001b[0m             \u001b[0;32mexcept\u001b[0m \u001b[0;34m(\u001b[0m\u001b[0mValueError\u001b[0m\u001b[0;34m,\u001b[0m \u001b[0mTypeError\u001b[0m\u001b[0;34m)\u001b[0m\u001b[0;34m:\u001b[0m\u001b[0;34m\u001b[0m\u001b[0;34m\u001b[0m\u001b[0m\n\u001b[0;32m--\u003e 435\u001b[0;31m                 \u001b[0;32mraise\u001b[0m \u001b[0me\u001b[0m\u001b[0;34m\u001b[0m\u001b[0;34m\u001b[0m\u001b[0m\n\u001b[0m\u001b[1;32m    436\u001b[0m \u001b[0;34m\u001b[0m\u001b[0m\n\u001b[1;32m    437\u001b[0m     \u001b[0;32mif\u001b[0m \u001b[0mresult\u001b[0m \u001b[0;32mis\u001b[0m \u001b[0;32mNone\u001b[0m\u001b[0;34m:\u001b[0m\u001b[0;34m\u001b[0m\u001b[0;34m\u001b[0m\u001b[0m\n",
            "\u001b[0;32m/data/dataiku/dss_data/code-envs/python/env_clc/lib64/python3.6/site-packages/pandas/core/tools/datetimes.py\u001b[0m in \u001b[0;36m_convert_listlike_datetimes\u001b[0;34m(arg, format, name, tz, unit, errors, infer_datetime_format, dayfirst, yearfirst, exact)\u001b[0m\n\u001b[1;32m    398\u001b[0m                 \u001b[0;32mtry\u001b[0m\u001b[0;34m:\u001b[0m\u001b[0;34m\u001b[0m\u001b[0;34m\u001b[0m\u001b[0m\n\u001b[1;32m    399\u001b[0m                     result, timezones \u003d array_strptime(\n\u001b[0;32m--\u003e 400\u001b[0;31m                         \u001b[0marg\u001b[0m\u001b[0;34m,\u001b[0m \u001b[0mformat\u001b[0m\u001b[0;34m,\u001b[0m \u001b[0mexact\u001b[0m\u001b[0;34m\u003d\u001b[0m\u001b[0mexact\u001b[0m\u001b[0;34m,\u001b[0m \u001b[0merrors\u001b[0m\u001b[0;34m\u003d\u001b[0m\u001b[0merrors\u001b[0m\u001b[0;34m\u001b[0m\u001b[0;34m\u001b[0m\u001b[0m\n\u001b[0m\u001b[1;32m    401\u001b[0m                     )\n\u001b[1;32m    402\u001b[0m                     \u001b[0;32mif\u001b[0m \u001b[0;34m\"%Z\"\u001b[0m \u001b[0;32min\u001b[0m \u001b[0mformat\u001b[0m \u001b[0;32mor\u001b[0m \u001b[0;34m\"%z\"\u001b[0m \u001b[0;32min\u001b[0m \u001b[0mformat\u001b[0m\u001b[0;34m:\u001b[0m\u001b[0;34m\u001b[0m\u001b[0;34m\u001b[0m\u001b[0m\n",
            "\u001b[0;32mpandas/_libs/tslibs/strptime.pyx\u001b[0m in \u001b[0;36mpandas._libs.tslibs.strptime.array_strptime\u001b[0;34m()\u001b[0m\n",
            "\u001b[0;31mValueError\u001b[0m: time data \u002711-2019\u0027 does not match format \u0027%m-$Y\u0027 (match)"
          ]
        }
      ]
    },
    {
      "execution_count": 0,
      "cell_type": "code",
      "metadata": {},
      "source": [
        "# Compute recipe outputs from inputs\n# TODO: Replace this part by your actual code that computes the output, as a Pandas dataframe\n# NB: DSS also supports other kinds of APIs for reading and writing data. Please see doc.\n\n#TENURE_CALC_df \u003d NAFCUSTOMER_REVENUE_AGGREGATED_df # For this sample code, simply copy input to output\n\n\n# Write recipe outputs\n#TENURE_CALC \u003d dataiku.Dataset(\"TENURE_CALC\")\n#TENURE_CALC.write_with_schema(TENURE_CALC_df)"
      ],
      "outputs": []
    }
  ]
}