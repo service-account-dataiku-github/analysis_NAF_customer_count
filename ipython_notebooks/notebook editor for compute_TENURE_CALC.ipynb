{
  "metadata": {
    "kernelspec": {
      "name": "py-dku-venv-env_clc",
      "display_name": "Python (env env_clc)",
      "language": "python"
    },
    "associatedRecipe": "compute_TENURE_CALC",
    "dkuGit": {
      "lastInteraction": 0
    },
    "creationTag": {
      "versionNumber": 0,
      "lastModifiedBy": {
        "login": "Daniel.Vandermeer"
      },
      "lastModifiedOn": 1676236088206
    },
    "creator": "Daniel.Vandermeer",
    "createdOn": 1676236088206,
    "tags": [
      "recipe-editor"
    ],
    "customFields": {},
    "hide_input": false,
    "language_info": {
      "name": "python",
      "version": "3.6.8",
      "mimetype": "text/x-python",
      "codemirror_mode": {
        "name": "ipython",
        "version": 3
      },
      "pygments_lexer": "ipython3",
      "nbconvert_exporter": "python",
      "file_extension": ".py"
    },
    "modifiedBy": "Daniel.Vandermeer"
  },
  "nbformat": 4,
  "nbformat_minor": 1,
  "cells": [
    {
      "execution_count": 0,
      "cell_type": "code",
      "metadata": {},
      "source": [
        "# -*- coding: utf-8 -*-\nimport dataiku\nimport pandas as pd, numpy as np\nfrom dataiku import pandasutils as pdu\n\nimport matplotlib.pyplot as plt\n\n# The data going into this step is defined in the follopwing Input View:\n#\n#  CREATE VIEW DATAIKU_ANALYTICS_SUB.DATA_SCIENCE.NAFCUSTOMER_REVENUE_AGGREGATED\n#  AS\n#  SELECT\n#  CUSTOMER_ID,\n#  CUSTOMER,\n#  YEAR(REVENUE_DATE) as REVENUE_YEAR,\n#  MONTH(REVENUE_DATE) as REVENUE_MONTH,\n#  MIN(SETUP_DATE) AS SETUP_DATE,\n#  MIN(BI_CUS_PAR) as BI_CUS_PAR,\n#  MIN(BI_PRODUCT) as BI_PRODUCT,\n#  MIN(BI_MRU) as BI_MRU,\n#  SUM(REVENUE_AMOUNT_USD) as REVENUE_AMOUNT_USD,\n#  SUM(GROSS_SPEND_AMOUNT) as GROSS_SPEND_AMOUNT,\n#  SUM(PURCHASE_GALLONS_QTY) PURCHASE_GALLONS_QTY,\n#  SUM(TOTAL_ACTIVE_CARD_COUNT) as TOTAL_ACTIVE_CARD_COUNT\n#  FROM DATAIKU_ANALYTICS_SUB.DATA_SCIENCE.NAFCUSTOMER_REVENUE\n#  WHERE (FUNDED_BY IS NULL OR FUNDED_BY\u003d\u0027Unknown\u0027 OR FUNDED_BY\u003d\u0027WEX Funded\u0027)\n#  AND (NOT((REVENUE_CODE\u003d\u002726\u0027) AND (CUSTOMER_ID IS NULL)))\n#  AND (NOT((REVENUE_CODE\u003d\u0027E8\u0027) AND (CUSTOMER_ID IS NULL)))\n#  GROUP BY 1,2,3,4\n\n\nfrom datetime import date, datetime, timedelta\nimport time\n\nt0 \u003d time.time()\n\n# Read recipe inputs\nNAFCUSTOMER_REVENUE_AGGREGATED \u003d dataiku.Dataset(\"NAFCUSTOMER_REVENUE_AGGREGATED\")\nNAFCUSTOMER_REVENUE_AGGREGATED_df \u003d NAFCUSTOMER_REVENUE_AGGREGATED.get_dataframe()\n\nt1 \u003d time.time()\nprint(\"load duration\", (t1-t0)/60.0, \"minutes\")\n\nprint(len(NAFCUSTOMER_REVENUE_AGGREGATED_df))\nNAFCUSTOMER_REVENUE_AGGREGATED_df.head()"
      ],
      "outputs": []
    },
    {
      "execution_count": 0,
      "cell_type": "code",
      "metadata": {},
      "source": [
        "print(len(NAFCUSTOMER_REVENUE_AGGREGATED_df))\ndf \u003d NAFCUSTOMER_REVENUE_AGGREGATED_df"
      ],
      "outputs": []
    },
    {
      "execution_count": 0,
      "cell_type": "code",
      "metadata": {},
      "source": [
        "# cast year as integer, create a revenue date column at the monthly grain\ndf[\u0027CUSTOMER_ID\u0027] \u003d df[\u0027CUSTOMER_ID\u0027].astype(\u0027Int64\u0027)\ndf[\u0027SETUP_DATE_DT\u0027] \u003d pd.to_datetime(df[\u0027SETUP_DATE\u0027])\n\ndf[\u0027REVENUE_YEAR\u0027] \u003d df[\u0027REVENUE_YEAR\u0027].astype(\u0027Int64\u0027)\ndf[\u0027REVENUE_DATE\u0027] \u003d df[\u0027REVENUE_MONTH\u0027].astype(str) + \u0027-\u0027 + df[\u0027REVENUE_YEAR\u0027].astype(str)\ndf[\u0027REVENUE_DATE\u0027] \u003d pd.to_datetime(df[\u0027REVENUE_DATE\u0027], format\u003d\u0027%m-%Y\u0027).dt.strftime(\u0027%m-%Y\u0027)\n\nprint(len(df))\ndf \u003d df[df.REVENUE_YEAR!\u003d2023]\nprint(len(df))"
      ],
      "outputs": []
    },
    {
      "execution_count": 0,
      "cell_type": "code",
      "metadata": {},
      "source": [
        "import matplotlib.dates as mdates\n\n# aggregate revenue at annual grain\ndf_revenue_per_year \u003d df.groupby([\u0027REVENUE_YEAR\u0027]).REVENUE_AMOUNT_USD.sum().reset_index()\n\n# plot out\nfig, ax1 \u003d plt.subplots(figsize\u003d(16,5))\nax1.plot(df_revenue_per_year[\u0027REVENUE_YEAR\u0027],df_revenue_per_year[\u0027REVENUE_AMOUNT_USD\u0027], marker\u003d\u0027o\u0027)\nax1.set_xlabel(\u0027YEAR\u0027, fontsize\u003d14)\nax1.set_ylabel(\u0027REVENUE\u0027, fontsize\u003d14)\nax1.grid()\nax1.set_ylim(ymin\u003d0)\nfig.autofmt_xdate()\n#ax1.xaxis.set_major_locator(mdates.YearLocator())\nplt.show()\n\ndf_revenue_per_year.head()"
      ],
      "outputs": []
    },
    {
      "execution_count": 0,
      "cell_type": "code",
      "metadata": {},
      "source": [
        "df_customer_monthly_card_count \u003d df.groupby([\u0027CUSTOMER_ID\u0027,\u0027REVENUE_DATE\u0027]).TOTAL_ACTIVE_CARD_COUNT.sum().reset_index()\ndf_customer_monthly_card_count.head()"
      ],
      "outputs": []
    },
    {
      "execution_count": 0,
      "cell_type": "code",
      "metadata": {},
      "source": [
        "df_customer_max_monthly_card_sum \u003d df.groupby([\u0027CUSTOMER_ID\u0027]).TOTAL_ACTIVE_CARD_COUNT.max().reset_index()\ndf_customer_max_monthly_card_sum[\u0027CUSTOMER_FLEET_SIZE\u0027] \u003d \u0027NOT SET\u0027\ndf_customer_max_monthly_card_sum.loc[df_customer_max_monthly_card_sum[\"TOTAL_ACTIVE_CARD_COUNT\"]\u003e1700,\u0027CUSTOMER_FLEET_SIZE\u0027] \u003d \"XL (\u003e1700 Cards)\"\ndf_customer_max_monthly_card_sum.loc[(df_customer_max_monthly_card_sum[\"TOTAL_ACTIVE_CARD_COUNT\"]\u003e115)\u0026(df_customer_max_monthly_card_sum[\"TOTAL_ACTIVE_CARD_COUNT\"]\u003c\u003d1700),\u0027CUSTOMER_FLEET_SIZE\u0027] \u003d \"L (\u003e115 and \u003c\u003d1700 Cards)\"\ndf_customer_max_monthly_card_sum.loc[(df_customer_max_monthly_card_sum[\"TOTAL_ACTIVE_CARD_COUNT\"]\u003e21)\u0026(df_customer_max_monthly_card_sum[\"TOTAL_ACTIVE_CARD_COUNT\"]\u003c\u003d115),\u0027CUSTOMER_FLEET_SIZE\u0027] \u003d \"M (\u003e21 and \u003c\u003d115 Cards)\"\ndf_customer_max_monthly_card_sum.loc[(df_customer_max_monthly_card_sum[\"TOTAL_ACTIVE_CARD_COUNT\"]\u003c\u003d21),\u0027CUSTOMER_FLEET_SIZE\u0027] \u003d \"S (\u003c\u003d21 Cards)\"\ndf_customer_max_monthly_card_sum.loc[(df_customer_max_monthly_card_sum[\"TOTAL_ACTIVE_CARD_COUNT\"]\u003d\u003d0),\u0027CUSTOMER_FLEET_SIZE\u0027] \u003d \"No Cards\"\ndf_customer_max_monthly_card_sum.loc[df_customer_max_monthly_card_sum[\"TOTAL_ACTIVE_CARD_COUNT\"].isnull(),\u0027CUSTOMER_FLEET_SIZE\u0027] \u003d \"No Cards\"\n\ndf_customer_max_monthly_card_sum.CUSTOMER_FLEET_SIZE.value_counts(dropna\u003dFalse)"
      ],
      "outputs": []
    },
    {
      "execution_count": 0,
      "cell_type": "code",
      "metadata": {},
      "source": [
        "df_customer_max_monthly_card_sum.head()"
      ],
      "outputs": []
    },
    {
      "execution_count": 0,
      "cell_type": "code",
      "metadata": {},
      "source": [
        "# aggregate customers at min setup date\ndf_customer_min_setup \u003d df.groupby([\u0027CUSTOMER_ID\u0027]).SETUP_DATE.min().reset_index()\ndf_customer_min_setup.columns \u003d [\u0027CUSTOMER_ID\u0027,\u0027MIN_SETUP_DATE\u0027]\ndf_customer_min_setup[\u0027CUSTOMER_ID\u0027] \u003d df_customer_min_setup[\u0027CUSTOMER_ID\u0027].astype(\u0027Int64\u0027)\n\ndf_customer_min_setup.head()"
      ],
      "outputs": []
    },
    {
      "execution_count": 0,
      "cell_type": "code",
      "metadata": {},
      "source": [
        "df_customer_min_setup.CUSTOMER_ID.value_counts(dropna\u003dFalse)"
      ],
      "outputs": []
    },
    {
      "execution_count": 0,
      "cell_type": "code",
      "metadata": {},
      "source": [
        "print(len(df))\ndf_j \u003d pd.merge(df, df_customer_min_setup, on\u003d\u0027CUSTOMER_ID\u0027, how\u003d\u0027inner\u0027)\nprint(len(df_j))\n\ndf_j \u003d pd.merge(df_j, df_customer_max_monthly_card_sum, on\u003d\u0027CUSTOMER_ID\u0027, how\u003d\u0027inner\u0027)\nprint(len(df_j))\n\ndf_j.head()"
      ],
      "outputs": []
    },
    {
      "execution_count": 0,
      "cell_type": "code",
      "metadata": {},
      "source": [
        "print(len(df_j))\n# retain only those customers that already existed before the analysis period\ndf_j \u003d df_j[df_j.MIN_SETUP_DATE.dt.year\u003c2019]\nprint(len(df_j))\ndf_j.head()"
      ],
      "outputs": []
    },
    {
      "execution_count": 0,
      "cell_type": "code",
      "metadata": {},
      "source": [
        "df_customer_count \u003d df_j.groupby([\u0027REVENUE_YEAR\u0027]).CUSTOMER_ID.nunique().reset_index()\ndf_customer_count.columns \u003d [\u0027REVENUE_YEAR\u0027,\u0027CUSTOMER_COUNT\u0027]\nprint(len(df_customer_count), \u0027customer records\u0027)\n\n# plot out\nfig, ax1 \u003d plt.subplots(figsize\u003d(16,5))\nax1.plot(df_customer_count[\u0027REVENUE_YEAR\u0027],df_customer_count[\u0027CUSTOMER_COUNT\u0027], marker\u003d\u0027o\u0027)\nax1.set_xlabel(\u0027YEAR\u0027, fontsize\u003d14)\nax1.set_ylabel(\u0027CUSTOMER_COUNT\u0027, fontsize\u003d14)\nax1.grid()\nax1.set_ylim(ymin\u003d0)\nfig.autofmt_xdate()\n#ax1.xaxis.set_major_locator(mdates.YearLocator())\nplt.show()\n\ndf_customer_count.head()"
      ],
      "outputs": []
    },
    {
      "execution_count": 0,
      "cell_type": "code",
      "metadata": {},
      "source": [
        "#S (\u003c\u003d21 Cards)\n#No Cards\n#M (\u003e21 and \u003c\u003d115 Cards)\n#L (\u003e115 and \u003c\u003d1700 Cards)\n#XL (\u003e1700 Cards)\n\nprint(len(df_j))\ndf_XL \u003d df_j[df_j.CUSTOMER_FLEET_SIZE\u003d\u003d\u0027S (\u003c\u003d21 Cards)\u0027]\nprint(len(df_XL))\n\ndf_XL \u003d df_XL.groupby([\u0027REVENUE_YEAR\u0027]).CUSTOMER_ID.nunique().reset_index()\ndf_XL.columns \u003d [\u0027REVENUE_YEAR\u0027,\u0027CUSTOMER_COUNT\u0027]\ndf_XL.head()\n\nmax_y \u003d df_XL.CUSTOMER_COUNT.max()\nmax_y \u003d max_y + max_y*0.15\n\n# plot out\nfig, ax1 \u003d plt.subplots(figsize\u003d(16,5))\nax1.plot(df_XL[\u0027REVENUE_YEAR\u0027],df_XL[\u0027CUSTOMER_COUNT\u0027], marker\u003d\u0027o\u0027)\nax1.set_xlabel(\u0027YEAR\u0027, fontsize\u003d14)\nax1.set_ylabel(\u0027CUSTOMER_COUNT\u0027, fontsize\u003d14)\nax1.grid()\nax1.set_ylim(ymin\u003d0, ymax\u003dmax_y)\nfig.autofmt_xdate()\nplt.show()"
      ],
      "outputs": []
    },
    {
      "execution_count": 0,
      "cell_type": "code",
      "metadata": {},
      "source": [
        "# Compute recipe outputs from inputs\n# TODO: Replace this part by your actual code that computes the output, as a Pandas dataframe\n# NB: DSS also supports other kinds of APIs for reading and writing data. Please see doc.\n\n#TENURE_CALC_df \u003d NAFCUSTOMER_REVENUE_AGGREGATED_df # For this sample code, simply copy input to output\n\n\n# Write recipe outputs\n#TENURE_CALC \u003d dataiku.Dataset(\"TENURE_CALC\")\n#TENURE_CALC.write_with_schema(TENURE_CALC_df)"
      ],
      "outputs": []
    }
  ]
}