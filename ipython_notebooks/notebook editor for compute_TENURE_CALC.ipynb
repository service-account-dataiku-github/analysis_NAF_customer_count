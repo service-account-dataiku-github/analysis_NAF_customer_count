{
  "metadata": {
    "kernelspec": {
      "name": "py-dku-venv-env_clc",
      "display_name": "Python (env env_clc)",
      "language": "python"
    },
    "associatedRecipe": "compute_TENURE_CALC",
    "creator": "Daniel.Vandermeer",
    "createdOn": 1676236088206,
    "tags": [
      "recipe-editor"
    ],
    "customFields": {},
    "hide_input": false,
    "language_info": {
      "name": "python",
      "version": "3.6.8",
      "mimetype": "text/x-python",
      "codemirror_mode": {
        "name": "ipython",
        "version": 3
      },
      "pygments_lexer": "ipython3",
      "nbconvert_exporter": "python",
      "file_extension": ".py"
    },
    "modifiedBy": "Daniel.Vandermeer"
  },
  "nbformat": 4,
  "nbformat_minor": 1,
  "cells": [
    {
      "execution_count": 1,
      "cell_type": "code",
      "metadata": {},
      "source": [
        "# -*- coding: utf-8 -*-\nimport dataiku\nimport pandas as pd, numpy as np\nfrom dataiku import pandasutils as pdu\n\nfrom datetime import date, datetime, timedelta\nimport time\n\nt0 \u003d time.time()\n\n# Read recipe inputs\nNAFCUSTOMER_REVENUE_AGGREGATED \u003d dataiku.Dataset(\"NAFCUSTOMER_REVENUE_AGGREGATED\")\nNAFCUSTOMER_REVENUE_AGGREGATED_df \u003d NAFCUSTOMER_REVENUE_AGGREGATED.get_dataframe()\n\nt1 \u003d time.time()\nprint(\"load duration\", (t1-t0)/60.0, \"minutes\")\n\nprint(len(NAFCUSTOMER_REVENUE_AGGREGATED_df))\nNAFCUSTOMER_REVENUE_AGGREGATED_df.head()"
      ],
      "outputs": [
        {
          "output_type": "stream",
          "text": "49718631\n",
          "name": "stdout"
        },
        {
          "output_type": "execute_result",
          "execution_count": 1,
          "data": {
            "text/plain": "   CUSTOMER_ID                 CUSTOMER             REVENUE_DATE                SETUP_DATE  BI_CUS_PAR  BI_PRODUCT  BI_MRU  REVENUE_AMOUNT_USD  GROSS_SPEND_AMOUNT  PURCHASE_GALLONS_QTY  TOTAL_ACTIVE_CARD_COUNT\n0   77473242.0  PROMINENCE ELECTRIC LLC  2021-09-01 00:00:00.000 2021-01-26 08:00:00+00:00     21000.0     15100.0  4000.0            5.860000             1055.08               413.960                      0.0\n1   77614536.0           USDA FLEET SP3  2022-08-29 00:00:00.000 2018-10-08 07:00:00+00:00     51000.0     15308.0  3100.0       -13893.139089                 NaN                   NaN                      0.0\n2   77272410.0   HARWOOD BAPTIST CHURCH  2020-08-01 00:00:00.000 2019-12-13 08:00:00+00:00     11300.0     15308.0  4120.0            0.000000                0.00                 0.000                      0.0\n3   77133439.0           CITY OF BOERNE  2023-01-01 00:00:00.000 2021-06-04 07:00:00+00:00     13000.0     15102.0  4000.0          157.480000             6023.50              1935.509                     25.0\n4   77208672.0   ENCON CONSTRUCTION LLC  2020-10-15 00:00:00.000 2018-09-13 07:00:00+00:00     12200.0     15102.0  4120.0           -0.471743                 NaN                   NaN                      0.0",
            "text/html": "\u003cdiv\u003e\n\u003cstyle scoped\u003e\n    .dataframe tbody tr th:only-of-type {\n        vertical-align: middle;\n    }\n\n    .dataframe tbody tr th {\n        vertical-align: top;\n    }\n\n    .dataframe thead th {\n        text-align: right;\n    }\n\u003c/style\u003e\n\u003ctable border\u003d\"1\" class\u003d\"dataframe\"\u003e\n  \u003cthead\u003e\n    \u003ctr style\u003d\"text-align: right;\"\u003e\n      \u003cth\u003e\u003c/th\u003e\n      \u003cth\u003eCUSTOMER_ID\u003c/th\u003e\n      \u003cth\u003eCUSTOMER\u003c/th\u003e\n      \u003cth\u003eREVENUE_DATE\u003c/th\u003e\n      \u003cth\u003eSETUP_DATE\u003c/th\u003e\n      \u003cth\u003eBI_CUS_PAR\u003c/th\u003e\n      \u003cth\u003eBI_PRODUCT\u003c/th\u003e\n      \u003cth\u003eBI_MRU\u003c/th\u003e\n      \u003cth\u003eREVENUE_AMOUNT_USD\u003c/th\u003e\n      \u003cth\u003eGROSS_SPEND_AMOUNT\u003c/th\u003e\n      \u003cth\u003ePURCHASE_GALLONS_QTY\u003c/th\u003e\n      \u003cth\u003eTOTAL_ACTIVE_CARD_COUNT\u003c/th\u003e\n    \u003c/tr\u003e\n  \u003c/thead\u003e\n  \u003ctbody\u003e\n    \u003ctr\u003e\n      \u003cth\u003e0\u003c/th\u003e\n      \u003ctd\u003e77473242.0\u003c/td\u003e\n      \u003ctd\u003ePROMINENCE ELECTRIC LLC\u003c/td\u003e\n      \u003ctd\u003e2021-09-01 00:00:00.000\u003c/td\u003e\n      \u003ctd\u003e2021-01-26 08:00:00+00:00\u003c/td\u003e\n      \u003ctd\u003e21000.0\u003c/td\u003e\n      \u003ctd\u003e15100.0\u003c/td\u003e\n      \u003ctd\u003e4000.0\u003c/td\u003e\n      \u003ctd\u003e5.860000\u003c/td\u003e\n      \u003ctd\u003e1055.08\u003c/td\u003e\n      \u003ctd\u003e413.960\u003c/td\u003e\n      \u003ctd\u003e0.0\u003c/td\u003e\n    \u003c/tr\u003e\n    \u003ctr\u003e\n      \u003cth\u003e1\u003c/th\u003e\n      \u003ctd\u003e77614536.0\u003c/td\u003e\n      \u003ctd\u003eUSDA FLEET SP3\u003c/td\u003e\n      \u003ctd\u003e2022-08-29 00:00:00.000\u003c/td\u003e\n      \u003ctd\u003e2018-10-08 07:00:00+00:00\u003c/td\u003e\n      \u003ctd\u003e51000.0\u003c/td\u003e\n      \u003ctd\u003e15308.0\u003c/td\u003e\n      \u003ctd\u003e3100.0\u003c/td\u003e\n      \u003ctd\u003e-13893.139089\u003c/td\u003e\n      \u003ctd\u003eNaN\u003c/td\u003e\n      \u003ctd\u003eNaN\u003c/td\u003e\n      \u003ctd\u003e0.0\u003c/td\u003e\n    \u003c/tr\u003e\n    \u003ctr\u003e\n      \u003cth\u003e2\u003c/th\u003e\n      \u003ctd\u003e77272410.0\u003c/td\u003e\n      \u003ctd\u003eHARWOOD BAPTIST CHURCH\u003c/td\u003e\n      \u003ctd\u003e2020-08-01 00:00:00.000\u003c/td\u003e\n      \u003ctd\u003e2019-12-13 08:00:00+00:00\u003c/td\u003e\n      \u003ctd\u003e11300.0\u003c/td\u003e\n      \u003ctd\u003e15308.0\u003c/td\u003e\n      \u003ctd\u003e4120.0\u003c/td\u003e\n      \u003ctd\u003e0.000000\u003c/td\u003e\n      \u003ctd\u003e0.00\u003c/td\u003e\n      \u003ctd\u003e0.000\u003c/td\u003e\n      \u003ctd\u003e0.0\u003c/td\u003e\n    \u003c/tr\u003e\n    \u003ctr\u003e\n      \u003cth\u003e3\u003c/th\u003e\n      \u003ctd\u003e77133439.0\u003c/td\u003e\n      \u003ctd\u003eCITY OF BOERNE\u003c/td\u003e\n      \u003ctd\u003e2023-01-01 00:00:00.000\u003c/td\u003e\n      \u003ctd\u003e2021-06-04 07:00:00+00:00\u003c/td\u003e\n      \u003ctd\u003e13000.0\u003c/td\u003e\n      \u003ctd\u003e15102.0\u003c/td\u003e\n      \u003ctd\u003e4000.0\u003c/td\u003e\n      \u003ctd\u003e157.480000\u003c/td\u003e\n      \u003ctd\u003e6023.50\u003c/td\u003e\n      \u003ctd\u003e1935.509\u003c/td\u003e\n      \u003ctd\u003e25.0\u003c/td\u003e\n    \u003c/tr\u003e\n    \u003ctr\u003e\n      \u003cth\u003e4\u003c/th\u003e\n      \u003ctd\u003e77208672.0\u003c/td\u003e\n      \u003ctd\u003eENCON CONSTRUCTION LLC\u003c/td\u003e\n      \u003ctd\u003e2020-10-15 00:00:00.000\u003c/td\u003e\n      \u003ctd\u003e2018-09-13 07:00:00+00:00\u003c/td\u003e\n      \u003ctd\u003e12200.0\u003c/td\u003e\n      \u003ctd\u003e15102.0\u003c/td\u003e\n      \u003ctd\u003e4120.0\u003c/td\u003e\n      \u003ctd\u003e-0.471743\u003c/td\u003e\n      \u003ctd\u003eNaN\u003c/td\u003e\n      \u003ctd\u003eNaN\u003c/td\u003e\n      \u003ctd\u003e0.0\u003c/td\u003e\n    \u003c/tr\u003e\n  \u003c/tbody\u003e\n\u003c/table\u003e\n\u003c/div\u003e"
          },
          "metadata": {}
        }
      ]
    },
    {
      "execution_count": 3,
      "cell_type": "code",
      "metadata": {},
      "source": [
        "print(len(NAFCUSTOMER_REVENUE_AGGREGATED_df))\ndf \u003d NAFCUSTOMER_REVENUE_AGGREGATED_df"
      ],
      "outputs": [
        {
          "output_type": "stream",
          "text": "49718631\n",
          "name": "stdout"
        }
      ]
    },
    {
      "execution_count": 4,
      "cell_type": "code",
      "metadata": {},
      "source": [
        "df.head()"
      ],
      "outputs": [
        {
          "output_type": "execute_result",
          "execution_count": 4,
          "data": {
            "text/plain": "   CUSTOMER_ID                 CUSTOMER             REVENUE_DATE                SETUP_DATE  BI_CUS_PAR  BI_PRODUCT  BI_MRU  REVENUE_AMOUNT_USD  GROSS_SPEND_AMOUNT  PURCHASE_GALLONS_QTY  TOTAL_ACTIVE_CARD_COUNT\n0   77473242.0  PROMINENCE ELECTRIC LLC  2021-09-01 00:00:00.000 2021-01-26 08:00:00+00:00     21000.0     15100.0  4000.0            5.860000             1055.08               413.960                      0.0\n1   77614536.0           USDA FLEET SP3  2022-08-29 00:00:00.000 2018-10-08 07:00:00+00:00     51000.0     15308.0  3100.0       -13893.139089                 NaN                   NaN                      0.0\n2   77272410.0   HARWOOD BAPTIST CHURCH  2020-08-01 00:00:00.000 2019-12-13 08:00:00+00:00     11300.0     15308.0  4120.0            0.000000                0.00                 0.000                      0.0\n3   77133439.0           CITY OF BOERNE  2023-01-01 00:00:00.000 2021-06-04 07:00:00+00:00     13000.0     15102.0  4000.0          157.480000             6023.50              1935.509                     25.0\n4   77208672.0   ENCON CONSTRUCTION LLC  2020-10-15 00:00:00.000 2018-09-13 07:00:00+00:00     12200.0     15102.0  4120.0           -0.471743                 NaN                   NaN                      0.0",
            "text/html": "\u003cdiv\u003e\n\u003cstyle scoped\u003e\n    .dataframe tbody tr th:only-of-type {\n        vertical-align: middle;\n    }\n\n    .dataframe tbody tr th {\n        vertical-align: top;\n    }\n\n    .dataframe thead th {\n        text-align: right;\n    }\n\u003c/style\u003e\n\u003ctable border\u003d\"1\" class\u003d\"dataframe\"\u003e\n  \u003cthead\u003e\n    \u003ctr style\u003d\"text-align: right;\"\u003e\n      \u003cth\u003e\u003c/th\u003e\n      \u003cth\u003eCUSTOMER_ID\u003c/th\u003e\n      \u003cth\u003eCUSTOMER\u003c/th\u003e\n      \u003cth\u003eREVENUE_DATE\u003c/th\u003e\n      \u003cth\u003eSETUP_DATE\u003c/th\u003e\n      \u003cth\u003eBI_CUS_PAR\u003c/th\u003e\n      \u003cth\u003eBI_PRODUCT\u003c/th\u003e\n      \u003cth\u003eBI_MRU\u003c/th\u003e\n      \u003cth\u003eREVENUE_AMOUNT_USD\u003c/th\u003e\n      \u003cth\u003eGROSS_SPEND_AMOUNT\u003c/th\u003e\n      \u003cth\u003ePURCHASE_GALLONS_QTY\u003c/th\u003e\n      \u003cth\u003eTOTAL_ACTIVE_CARD_COUNT\u003c/th\u003e\n    \u003c/tr\u003e\n  \u003c/thead\u003e\n  \u003ctbody\u003e\n    \u003ctr\u003e\n      \u003cth\u003e0\u003c/th\u003e\n      \u003ctd\u003e77473242.0\u003c/td\u003e\n      \u003ctd\u003ePROMINENCE ELECTRIC LLC\u003c/td\u003e\n      \u003ctd\u003e2021-09-01 00:00:00.000\u003c/td\u003e\n      \u003ctd\u003e2021-01-26 08:00:00+00:00\u003c/td\u003e\n      \u003ctd\u003e21000.0\u003c/td\u003e\n      \u003ctd\u003e15100.0\u003c/td\u003e\n      \u003ctd\u003e4000.0\u003c/td\u003e\n      \u003ctd\u003e5.860000\u003c/td\u003e\n      \u003ctd\u003e1055.08\u003c/td\u003e\n      \u003ctd\u003e413.960\u003c/td\u003e\n      \u003ctd\u003e0.0\u003c/td\u003e\n    \u003c/tr\u003e\n    \u003ctr\u003e\n      \u003cth\u003e1\u003c/th\u003e\n      \u003ctd\u003e77614536.0\u003c/td\u003e\n      \u003ctd\u003eUSDA FLEET SP3\u003c/td\u003e\n      \u003ctd\u003e2022-08-29 00:00:00.000\u003c/td\u003e\n      \u003ctd\u003e2018-10-08 07:00:00+00:00\u003c/td\u003e\n      \u003ctd\u003e51000.0\u003c/td\u003e\n      \u003ctd\u003e15308.0\u003c/td\u003e\n      \u003ctd\u003e3100.0\u003c/td\u003e\n      \u003ctd\u003e-13893.139089\u003c/td\u003e\n      \u003ctd\u003eNaN\u003c/td\u003e\n      \u003ctd\u003eNaN\u003c/td\u003e\n      \u003ctd\u003e0.0\u003c/td\u003e\n    \u003c/tr\u003e\n    \u003ctr\u003e\n      \u003cth\u003e2\u003c/th\u003e\n      \u003ctd\u003e77272410.0\u003c/td\u003e\n      \u003ctd\u003eHARWOOD BAPTIST CHURCH\u003c/td\u003e\n      \u003ctd\u003e2020-08-01 00:00:00.000\u003c/td\u003e\n      \u003ctd\u003e2019-12-13 08:00:00+00:00\u003c/td\u003e\n      \u003ctd\u003e11300.0\u003c/td\u003e\n      \u003ctd\u003e15308.0\u003c/td\u003e\n      \u003ctd\u003e4120.0\u003c/td\u003e\n      \u003ctd\u003e0.000000\u003c/td\u003e\n      \u003ctd\u003e0.00\u003c/td\u003e\n      \u003ctd\u003e0.000\u003c/td\u003e\n      \u003ctd\u003e0.0\u003c/td\u003e\n    \u003c/tr\u003e\n    \u003ctr\u003e\n      \u003cth\u003e3\u003c/th\u003e\n      \u003ctd\u003e77133439.0\u003c/td\u003e\n      \u003ctd\u003eCITY OF BOERNE\u003c/td\u003e\n      \u003ctd\u003e2023-01-01 00:00:00.000\u003c/td\u003e\n      \u003ctd\u003e2021-06-04 07:00:00+00:00\u003c/td\u003e\n      \u003ctd\u003e13000.0\u003c/td\u003e\n      \u003ctd\u003e15102.0\u003c/td\u003e\n      \u003ctd\u003e4000.0\u003c/td\u003e\n      \u003ctd\u003e157.480000\u003c/td\u003e\n      \u003ctd\u003e6023.50\u003c/td\u003e\n      \u003ctd\u003e1935.509\u003c/td\u003e\n      \u003ctd\u003e25.0\u003c/td\u003e\n    \u003c/tr\u003e\n    \u003ctr\u003e\n      \u003cth\u003e4\u003c/th\u003e\n      \u003ctd\u003e77208672.0\u003c/td\u003e\n      \u003ctd\u003eENCON CONSTRUCTION LLC\u003c/td\u003e\n      \u003ctd\u003e2020-10-15 00:00:00.000\u003c/td\u003e\n      \u003ctd\u003e2018-09-13 07:00:00+00:00\u003c/td\u003e\n      \u003ctd\u003e12200.0\u003c/td\u003e\n      \u003ctd\u003e15102.0\u003c/td\u003e\n      \u003ctd\u003e4120.0\u003c/td\u003e\n      \u003ctd\u003e-0.471743\u003c/td\u003e\n      \u003ctd\u003eNaN\u003c/td\u003e\n      \u003ctd\u003eNaN\u003c/td\u003e\n      \u003ctd\u003e0.0\u003c/td\u003e\n    \u003c/tr\u003e\n  \u003c/tbody\u003e\n\u003c/table\u003e\n\u003c/div\u003e"
          },
          "metadata": {}
        }
      ]
    },
    {
      "execution_count": 0,
      "cell_type": "code",
      "metadata": {},
      "source": [
        "# Compute recipe outputs from inputs\n# TODO: Replace this part by your actual code that computes the output, as a Pandas dataframe\n# NB: DSS also supports other kinds of APIs for reading and writing data. Please see doc.\n\n#TENURE_CALC_df \u003d NAFCUSTOMER_REVENUE_AGGREGATED_df # For this sample code, simply copy input to output\n\n\n# Write recipe outputs\n#TENURE_CALC \u003d dataiku.Dataset(\"TENURE_CALC\")\n#TENURE_CALC.write_with_schema(TENURE_CALC_df)"
      ],
      "outputs": []
    }
  ]
}