{
  "metadata": {
    "kernelspec": {
      "name": "py-dku-venv-env_clc",
      "display_name": "Python (env env_clc)",
      "language": "python"
    },
    "associatedRecipe": "compute_TENURE_CALC",
    "dkuGit": {
      "lastInteraction": 0
    },
    "creationTag": {
      "versionNumber": 0,
      "lastModifiedBy": {
        "login": "Daniel.Vandermeer"
      },
      "lastModifiedOn": 1676236088206
    },
    "creator": "Daniel.Vandermeer",
    "createdOn": 1676236088206,
    "tags": [
      "recipe-editor"
    ],
    "customFields": {},
    "hide_input": false,
    "language_info": {
      "name": "python",
      "version": "3.6.8",
      "mimetype": "text/x-python",
      "codemirror_mode": {
        "name": "ipython",
        "version": 3
      },
      "pygments_lexer": "ipython3",
      "nbconvert_exporter": "python",
      "file_extension": ".py"
    },
    "modifiedBy": "Daniel.Vandermeer"
  },
  "nbformat": 4,
  "nbformat_minor": 1,
  "cells": [
    {
      "execution_count": 1,
      "cell_type": "code",
      "metadata": {},
      "source": [
        "# -*- coding: utf-8 -*-\nimport dataiku\nimport pandas as pd, numpy as np\nfrom dataiku import pandasutils as pdu\n\nimport matplotlib.pyplot as plt\n\n# The data going into this step is defined in the follopwing Input View:\n#\n#  CREATE VIEW DATAIKU_ANALYTICS_SUB.DATA_SCIENCE.NAFCUSTOMER_REVENUE_AGGREGATED\n#  AS\n#  SELECT\n#  CUSTOMER_ID,\n#  CUSTOMER,\n#  YEAR(REVENUE_DATE) as REVENUE_YEAR,\n#  MONTH(REVENUE_DATE) as REVENUE_MONTH,\n#  MIN(SETUP_DATE) AS SETUP_DATE,\n#  MIN(BI_CUS_PAR) as BI_CUS_PAR,\n#  MIN(BI_PRODUCT) as BI_PRODUCT,\n#  MIN(BI_MRU) as BI_MRU,\n#  SUM(REVENUE_AMOUNT_USD) as REVENUE_AMOUNT_USD,\n#  SUM(GROSS_SPEND_AMOUNT) as GROSS_SPEND_AMOUNT,\n#  SUM(PURCHASE_GALLONS_QTY) PURCHASE_GALLONS_QTY,\n#  SUM(TOTAL_ACTIVE_CARD_COUNT) as TOTAL_ACTIVE_CARD_COUNT\n#  FROM DATAIKU_ANALYTICS_SUB.DATA_SCIENCE.NAFCUSTOMER_REVENUE\n#  WHERE (FUNDED_BY IS NULL OR FUNDED_BY\u003d\u0027Unknown\u0027 OR FUNDED_BY\u003d\u0027WEX Funded\u0027)\n#  AND (NOT((REVENUE_CODE\u003d\u002726\u0027) AND (CUSTOMER_ID IS NULL)))\n#  AND (NOT((REVENUE_CODE\u003d\u0027E8\u0027) AND (CUSTOMER_ID IS NULL)))\n#  GROUP BY 1,2,3,4\n\n\nfrom datetime import date, datetime, timedelta\nimport time\n\nt0 \u003d time.time()\n\n# Read recipe inputs\nNAFCUSTOMER_REVENUE_AGGREGATED \u003d dataiku.Dataset(\"NAFCUSTOMER_REVENUE_AGGREGATED\")\nNAFCUSTOMER_REVENUE_AGGREGATED_df \u003d NAFCUSTOMER_REVENUE_AGGREGATED.get_dataframe()\n\nt1 \u003d time.time()\nprint(\"load duration\", (t1-t0)/60.0, \"minutes\")\n\nprint(len(NAFCUSTOMER_REVENUE_AGGREGATED_df))\nNAFCUSTOMER_REVENUE_AGGREGATED_df.head()"
      ],
      "outputs": [
        {
          "output_type": "stream",
          "text": "load duration 6.043561442693075 minutes\n18075044\n",
          "name": "stdout"
        },
        {
          "output_type": "execute_result",
          "execution_count": 1,
          "data": {
            "text/plain": "   CUSTOMER_ID                        CUSTOMER  REVENUE_YEAR  REVENUE_MONTH                SETUP_DATE  BI_CUS_PAR  BI_PRODUCT  BI_MRU  REVENUE_AMOUNT_USD  GROSS_SPEND_AMOUNT  PURCHASE_GALLONS_QTY  TOTAL_ACTIVE_CARD_COUNT\n0   77505014.0                     ROLLINS INC          2021              9 2011-07-25 07:00:00+00:00     51000.0     10100.0  3100.0        83082.680000          3281713.55           1025688.994                  11111.0\n1   77616921.0   VAN HOY  SONS CONTRACTING INC          2022             12 2013-05-16 07:00:00+00:00     11300.0     15308.0  4120.0           99.010000             2668.95               676.770                      8.0\n2   77097650.0                  BRICKMAN GROUP          2023              1 2010-11-24 08:00:00+00:00     51000.0     10100.0  3100.0            0.000000                0.00                 0.000                      0.0\n3   77040266.0  ALLMED EQUIPMENT  SERVICES INC          2022              2 2011-11-15 08:00:00+00:00     11300.0     15100.0  4000.0           58.480000             2033.29               571.640                      5.0\n4   77490652.0   REGIONS SECURITY SERVICES INC          2019             11 2019-01-22 08:00:00+00:00     13000.0     15308.0  4000.0          787.751979             4632.04              1863.837                     20.0",
            "text/html": "\u003cdiv\u003e\n\u003cstyle scoped\u003e\n    .dataframe tbody tr th:only-of-type {\n        vertical-align: middle;\n    }\n\n    .dataframe tbody tr th {\n        vertical-align: top;\n    }\n\n    .dataframe thead th {\n        text-align: right;\n    }\n\u003c/style\u003e\n\u003ctable border\u003d\"1\" class\u003d\"dataframe\"\u003e\n  \u003cthead\u003e\n    \u003ctr style\u003d\"text-align: right;\"\u003e\n      \u003cth\u003e\u003c/th\u003e\n      \u003cth\u003eCUSTOMER_ID\u003c/th\u003e\n      \u003cth\u003eCUSTOMER\u003c/th\u003e\n      \u003cth\u003eREVENUE_YEAR\u003c/th\u003e\n      \u003cth\u003eREVENUE_MONTH\u003c/th\u003e\n      \u003cth\u003eSETUP_DATE\u003c/th\u003e\n      \u003cth\u003eBI_CUS_PAR\u003c/th\u003e\n      \u003cth\u003eBI_PRODUCT\u003c/th\u003e\n      \u003cth\u003eBI_MRU\u003c/th\u003e\n      \u003cth\u003eREVENUE_AMOUNT_USD\u003c/th\u003e\n      \u003cth\u003eGROSS_SPEND_AMOUNT\u003c/th\u003e\n      \u003cth\u003ePURCHASE_GALLONS_QTY\u003c/th\u003e\n      \u003cth\u003eTOTAL_ACTIVE_CARD_COUNT\u003c/th\u003e\n    \u003c/tr\u003e\n  \u003c/thead\u003e\n  \u003ctbody\u003e\n    \u003ctr\u003e\n      \u003cth\u003e0\u003c/th\u003e\n      \u003ctd\u003e77505014.0\u003c/td\u003e\n      \u003ctd\u003eROLLINS INC\u003c/td\u003e\n      \u003ctd\u003e2021\u003c/td\u003e\n      \u003ctd\u003e9\u003c/td\u003e\n      \u003ctd\u003e2011-07-25 07:00:00+00:00\u003c/td\u003e\n      \u003ctd\u003e51000.0\u003c/td\u003e\n      \u003ctd\u003e10100.0\u003c/td\u003e\n      \u003ctd\u003e3100.0\u003c/td\u003e\n      \u003ctd\u003e83082.680000\u003c/td\u003e\n      \u003ctd\u003e3281713.55\u003c/td\u003e\n      \u003ctd\u003e1025688.994\u003c/td\u003e\n      \u003ctd\u003e11111.0\u003c/td\u003e\n    \u003c/tr\u003e\n    \u003ctr\u003e\n      \u003cth\u003e1\u003c/th\u003e\n      \u003ctd\u003e77616921.0\u003c/td\u003e\n      \u003ctd\u003eVAN HOY  SONS CONTRACTING INC\u003c/td\u003e\n      \u003ctd\u003e2022\u003c/td\u003e\n      \u003ctd\u003e12\u003c/td\u003e\n      \u003ctd\u003e2013-05-16 07:00:00+00:00\u003c/td\u003e\n      \u003ctd\u003e11300.0\u003c/td\u003e\n      \u003ctd\u003e15308.0\u003c/td\u003e\n      \u003ctd\u003e4120.0\u003c/td\u003e\n      \u003ctd\u003e99.010000\u003c/td\u003e\n      \u003ctd\u003e2668.95\u003c/td\u003e\n      \u003ctd\u003e676.770\u003c/td\u003e\n      \u003ctd\u003e8.0\u003c/td\u003e\n    \u003c/tr\u003e\n    \u003ctr\u003e\n      \u003cth\u003e2\u003c/th\u003e\n      \u003ctd\u003e77097650.0\u003c/td\u003e\n      \u003ctd\u003eBRICKMAN GROUP\u003c/td\u003e\n      \u003ctd\u003e2023\u003c/td\u003e\n      \u003ctd\u003e1\u003c/td\u003e\n      \u003ctd\u003e2010-11-24 08:00:00+00:00\u003c/td\u003e\n      \u003ctd\u003e51000.0\u003c/td\u003e\n      \u003ctd\u003e10100.0\u003c/td\u003e\n      \u003ctd\u003e3100.0\u003c/td\u003e\n      \u003ctd\u003e0.000000\u003c/td\u003e\n      \u003ctd\u003e0.00\u003c/td\u003e\n      \u003ctd\u003e0.000\u003c/td\u003e\n      \u003ctd\u003e0.0\u003c/td\u003e\n    \u003c/tr\u003e\n    \u003ctr\u003e\n      \u003cth\u003e3\u003c/th\u003e\n      \u003ctd\u003e77040266.0\u003c/td\u003e\n      \u003ctd\u003eALLMED EQUIPMENT  SERVICES INC\u003c/td\u003e\n      \u003ctd\u003e2022\u003c/td\u003e\n      \u003ctd\u003e2\u003c/td\u003e\n      \u003ctd\u003e2011-11-15 08:00:00+00:00\u003c/td\u003e\n      \u003ctd\u003e11300.0\u003c/td\u003e\n      \u003ctd\u003e15100.0\u003c/td\u003e\n      \u003ctd\u003e4000.0\u003c/td\u003e\n      \u003ctd\u003e58.480000\u003c/td\u003e\n      \u003ctd\u003e2033.29\u003c/td\u003e\n      \u003ctd\u003e571.640\u003c/td\u003e\n      \u003ctd\u003e5.0\u003c/td\u003e\n    \u003c/tr\u003e\n    \u003ctr\u003e\n      \u003cth\u003e4\u003c/th\u003e\n      \u003ctd\u003e77490652.0\u003c/td\u003e\n      \u003ctd\u003eREGIONS SECURITY SERVICES INC\u003c/td\u003e\n      \u003ctd\u003e2019\u003c/td\u003e\n      \u003ctd\u003e11\u003c/td\u003e\n      \u003ctd\u003e2019-01-22 08:00:00+00:00\u003c/td\u003e\n      \u003ctd\u003e13000.0\u003c/td\u003e\n      \u003ctd\u003e15308.0\u003c/td\u003e\n      \u003ctd\u003e4000.0\u003c/td\u003e\n      \u003ctd\u003e787.751979\u003c/td\u003e\n      \u003ctd\u003e4632.04\u003c/td\u003e\n      \u003ctd\u003e1863.837\u003c/td\u003e\n      \u003ctd\u003e20.0\u003c/td\u003e\n    \u003c/tr\u003e\n  \u003c/tbody\u003e\n\u003c/table\u003e\n\u003c/div\u003e"
          },
          "metadata": {}
        }
      ]
    },
    {
      "execution_count": 2,
      "cell_type": "code",
      "metadata": {},
      "source": [
        "print(len(NAFCUSTOMER_REVENUE_AGGREGATED_df))\ndf \u003d NAFCUSTOMER_REVENUE_AGGREGATED_df"
      ],
      "outputs": [
        {
          "output_type": "stream",
          "text": "18075044\n",
          "name": "stdout"
        }
      ]
    },
    {
      "execution_count": 0,
      "cell_type": "code",
      "metadata": {},
      "source": [
        "# cast year as integer, create a revenue date column at the monthly grain\ndf[\u0027CUSTOMER_ID\u0027] \u003d df[\u0027CUSTOMER_ID\u0027].astype(\u0027Int64\u0027)\ndf[\u0027SETUP_DATE_DT\u0027] \u003d pd.to_datetime(df[\u0027SETUP_DATE\u0027])\n\ndf[\u0027REVENUE_YEAR\u0027] \u003d df[\u0027REVENUE_YEAR\u0027].astype(\u0027Int64\u0027)\ndf[\u0027REVENUE_DATE\u0027] \u003d df[\u0027REVENUE_MONTH\u0027].astype(str) + \u0027-\u0027 + df[\u0027REVENUE_YEAR\u0027].astype(str)\ndf[\u0027REVENUE_DATE\u0027] \u003d pd.to_datetime(df[\u0027REVENUE_DATE\u0027], format\u003d\u0027%m-%Y\u0027).dt.strftime(\u0027%m-%Y\u0027)\n\nprint(len(df))\ndf \u003d df[df.REVENUE_YEAR!\u003d2023]\nprint(len(df))"
      ],
      "outputs": []
    },
    {
      "execution_count": 0,
      "cell_type": "code",
      "metadata": {},
      "source": [
        "import matplotlib.dates as mdates\n\n# aggregate revenue at annual grain\ndf_revenue_per_year \u003d df.groupby([\u0027REVENUE_YEAR\u0027]).REVENUE_AMOUNT_USD.sum().reset_index()\n\n# plot out\nfig, ax1 \u003d plt.subplots(figsize\u003d(16,5))\nax1.plot(df_revenue_per_year[\u0027REVENUE_YEAR\u0027],df_revenue_per_year[\u0027REVENUE_AMOUNT_USD\u0027], marker\u003d\u0027o\u0027)\nax1.set_xlabel(\u0027YEAR\u0027, fontsize\u003d14)\nax1.set_ylabel(\u0027REVENUE\u0027, fontsize\u003d14)\nax1.grid()\nax1.set_ylim(ymin\u003d0)\nfig.autofmt_xdate()\n#ax1.xaxis.set_major_locator(mdates.YearLocator())\nplt.show()\n\ndf_revenue_per_year.head()"
      ],
      "outputs": []
    },
    {
      "execution_count": 0,
      "cell_type": "code",
      "metadata": {},
      "source": [
        "df_customer_monthly_card_count \u003d df.groupby([\u0027CUSTOMER_ID\u0027,\u0027REVENUE_DATE\u0027]).TOTAL_ACTIVE_CARD_COUNT.sum().reset_index()\ndf_customer_monthly_card_count.head()"
      ],
      "outputs": []
    },
    {
      "execution_count": 0,
      "cell_type": "code",
      "metadata": {},
      "source": [
        "df_customer_max_monthly_card_sum \u003d df.groupby([\u0027CUSTOMER_ID\u0027]).TOTAL_ACTIVE_CARD_COUNT.max().reset_index()\ndf_customer_max_monthly_card_sum[\u0027CUSTOMER_FLEET_SIZE\u0027] \u003d \u0027NOT SET\u0027\ndf_customer_max_monthly_card_sum.loc[df_customer_max_monthly_card_sum[\"TOTAL_ACTIVE_CARD_COUNT\"]\u003e1700,\u0027CUSTOMER_FLEET_SIZE\u0027] \u003d \"XL (\u003e1700 Cards)\"\ndf_customer_max_monthly_card_sum.loc[(df_customer_max_monthly_card_sum[\"TOTAL_ACTIVE_CARD_COUNT\"]\u003e115)\u0026(df_customer_max_monthly_card_sum[\"TOTAL_ACTIVE_CARD_COUNT\"]\u003c\u003d1700),\u0027CUSTOMER_FLEET_SIZE\u0027] \u003d \"L (\u003e115 and \u003c\u003d1700 Cards)\"\ndf_customer_max_monthly_card_sum.loc[(df_customer_max_monthly_card_sum[\"TOTAL_ACTIVE_CARD_COUNT\"]\u003e21)\u0026(df_customer_max_monthly_card_sum[\"TOTAL_ACTIVE_CARD_COUNT\"]\u003c\u003d115),\u0027CUSTOMER_FLEET_SIZE\u0027] \u003d \"M (\u003e21 and \u003c\u003d115 Cards)\"\ndf_customer_max_monthly_card_sum.loc[(df_customer_max_monthly_card_sum[\"TOTAL_ACTIVE_CARD_COUNT\"]\u003c\u003d21),\u0027CUSTOMER_FLEET_SIZE\u0027] \u003d \"S (\u003c\u003d21 Cards)\"\ndf_customer_max_monthly_card_sum.loc[(df_customer_max_monthly_card_sum[\"TOTAL_ACTIVE_CARD_COUNT\"]\u003d\u003d0),\u0027CUSTOMER_FLEET_SIZE\u0027] \u003d \"No Cards\"\ndf_customer_max_monthly_card_sum.loc[df_customer_max_monthly_card_sum[\"TOTAL_ACTIVE_CARD_COUNT\"].isnull(),\u0027CUSTOMER_FLEET_SIZE\u0027] \u003d \"No Cards\"\n\ndf_customer_max_monthly_card_sum.CUSTOMER_FLEET_SIZE.value_counts(dropna\u003dFalse)"
      ],
      "outputs": []
    },
    {
      "execution_count": 0,
      "cell_type": "code",
      "metadata": {},
      "source": [
        "df_customer_max_monthly_card_sum.head()"
      ],
      "outputs": []
    },
    {
      "execution_count": 0,
      "cell_type": "code",
      "metadata": {},
      "source": [
        "# aggregate customers at min setup date\ndf_customer_min_setup \u003d df.groupby([\u0027CUSTOMER_ID\u0027]).SETUP_DATE.min().reset_index()\ndf_customer_min_setup.columns \u003d [\u0027CUSTOMER_ID\u0027,\u0027MIN_SETUP_DATE\u0027]\ndf_customer_min_setup[\u0027CUSTOMER_ID\u0027] \u003d df_customer_min_setup[\u0027CUSTOMER_ID\u0027].astype(\u0027Int64\u0027)\n\ndf_customer_min_setup.head()"
      ],
      "outputs": []
    },
    {
      "execution_count": 0,
      "cell_type": "code",
      "metadata": {},
      "source": [
        "df_customer_min_setup.CUSTOMER_ID.value_counts(dropna\u003dFalse)"
      ],
      "outputs": []
    },
    {
      "execution_count": 0,
      "cell_type": "code",
      "metadata": {},
      "source": [
        "print(len(df))\ndf_j \u003d pd.merge(df, df_customer_min_setup, on\u003d\u0027CUSTOMER_ID\u0027, how\u003d\u0027inner\u0027)\nprint(len(df_j))\n\ndf_j \u003d pd.merge(df_j, df_customer_max_monthly_card_sum, on\u003d\u0027CUSTOMER_ID\u0027, how\u003d\u0027inner\u0027)\nprint(len(df_j))\n\ndf_j.head()"
      ],
      "outputs": []
    },
    {
      "execution_count": 0,
      "cell_type": "code",
      "metadata": {},
      "source": [
        "print(len(df_j))\n# retain only those customers that already existed before the analysis period\ndf_j \u003d df_j[df_j.MIN_SETUP_DATE.dt.year\u003c2019]\nprint(len(df_j))\ndf_j.head()"
      ],
      "outputs": []
    },
    {
      "execution_count": 0,
      "cell_type": "code",
      "metadata": {},
      "source": [
        "df_customer_count \u003d df_j.groupby([\u0027REVENUE_YEAR\u0027]).CUSTOMER_ID.nunique().reset_index()\ndf_customer_count.columns \u003d [\u0027REVENUE_YEAR\u0027,\u0027CUSTOMER_COUNT\u0027]\nprint(len(df_customer_count), \u0027customer records\u0027)\n\n# plot out\nfig, ax1 \u003d plt.subplots(figsize\u003d(16,5))\nax1.plot(df_customer_count[\u0027REVENUE_YEAR\u0027],df_customer_count[\u0027CUSTOMER_COUNT\u0027], marker\u003d\u0027o\u0027)\nax1.set_xlabel(\u0027YEAR\u0027, fontsize\u003d14)\nax1.set_ylabel(\u0027CUSTOMER_COUNT\u0027, fontsize\u003d14)\nax1.grid()\nax1.set_ylim(ymin\u003d0)\nfig.autofmt_xdate()\n#ax1.xaxis.set_major_locator(mdates.YearLocator())\nplt.show()\n\ndf_customer_count.head()"
      ],
      "outputs": []
    },
    {
      "execution_count": 0,
      "cell_type": "code",
      "metadata": {},
      "source": [
        "#S (\u003c\u003d21 Cards)\n#No Cards\n#M (\u003e21 and \u003c\u003d115 Cards)\n#L (\u003e115 and \u003c\u003d1700 Cards)\n#XL (\u003e1700 Cards)\n\nprint(len(df_j))\ndf_XL \u003d df_j[df_j.CUSTOMER_FLEET_SIZE\u003d\u003d\u0027S (\u003c\u003d21 Cards)\u0027]\nprint(len(df_XL))\n\ndf_XL \u003d df_XL.groupby([\u0027REVENUE_YEAR\u0027]).CUSTOMER_ID.nunique().reset_index()\ndf_XL.columns \u003d [\u0027REVENUE_YEAR\u0027,\u0027CUSTOMER_COUNT\u0027]\ndf_XL.head()\n\nmax_y \u003d df_XL.CUSTOMER_COUNT.max()\nmax_y \u003d max_y + max_y*0.15\n\n# plot out\nfig, ax1 \u003d plt.subplots(figsize\u003d(16,5))\nax1.plot(df_XL[\u0027REVENUE_YEAR\u0027],df_XL[\u0027CUSTOMER_COUNT\u0027], marker\u003d\u0027o\u0027)\nax1.set_xlabel(\u0027YEAR\u0027, fontsize\u003d14)\nax1.set_ylabel(\u0027CUSTOMER_COUNT\u0027, fontsize\u003d14)\nax1.grid()\nax1.set_ylim(ymin\u003d0, ymax\u003dmax_y)\nfig.autofmt_xdate()\nplt.show()"
      ],
      "outputs": []
    },
    {
      "execution_count": 0,
      "cell_type": "code",
      "metadata": {},
      "source": [
        "# Compute recipe outputs from inputs\n# TODO: Replace this part by your actual code that computes the output, as a Pandas dataframe\n# NB: DSS also supports other kinds of APIs for reading and writing data. Please see doc.\n\n#TENURE_CALC_df \u003d NAFCUSTOMER_REVENUE_AGGREGATED_df # For this sample code, simply copy input to output\n\n\n# Write recipe outputs\n#TENURE_CALC \u003d dataiku.Dataset(\"TENURE_CALC\")\n#TENURE_CALC.write_with_schema(TENURE_CALC_df)"
      ],
      "outputs": []
    }
  ]
}