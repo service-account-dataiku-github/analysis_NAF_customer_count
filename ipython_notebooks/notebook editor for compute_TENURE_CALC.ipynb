{
  "metadata": {
    "kernelspec": {
      "name": "py-dku-venv-env_clc",
      "display_name": "Python (env env_clc)",
      "language": "python"
    },
    "associatedRecipe": "compute_TENURE_CALC",
    "dkuGit": {
      "lastInteraction": 0
    },
    "creationTag": {
      "versionNumber": 0,
      "lastModifiedBy": {
        "login": "Daniel.Vandermeer"
      },
      "lastModifiedOn": 1676236088206
    },
    "creator": "Daniel.Vandermeer",
    "createdOn": 1676236088206,
    "tags": [
      "recipe-editor"
    ],
    "customFields": {},
    "hide_input": false,
    "language_info": {
      "name": "python",
      "version": "3.6.8",
      "mimetype": "text/x-python",
      "codemirror_mode": {
        "name": "ipython",
        "version": 3
      },
      "pygments_lexer": "ipython3",
      "nbconvert_exporter": "python",
      "file_extension": ".py"
    },
    "modifiedBy": "Daniel.Vandermeer"
  },
  "nbformat": 4,
  "nbformat_minor": 1,
  "cells": [
    {
      "execution_count": 13,
      "cell_type": "code",
      "metadata": {},
      "source": [
        "# -*- coding: utf-8 -*-\nimport dataiku\nimport pandas as pd, numpy as np\nfrom dataiku import pandasutils as pdu\n\nimport matplotlib.pyplot as plt\n\n# Input View\n#\n#  CREATE VIEW DATAIKU_ANALYTICS_SUB.DATA_SCIENCE.NAFCUSTOMER_REVENUE_AGGREGATED\n#  AS\n#  SELECT\n#  CUSTOMER_ID,\n#  CUSTOMER,\n#  YEAR(REVENUE_DATE) as REVENUE_YEAR,\n#  MONTH(REVENUE_DATE) as REVENUE_MONTH,\n#  MIN(SETUP_DATE) AS SETUP_DATE,\n#  MIN(BI_CUS_PAR) as BI_CUS_PAR,\n#  MIN(BI_PRODUCT) as BI_PRODUCT,\n#  MIN(BI_MRU) as BI_MRU,\n#  SUM(REVENUE_AMOUNT_USD) as REVENUE_AMOUNT_USD,\n#  SUM(GROSS_SPEND_AMOUNT) as GROSS_SPEND_AMOUNT,\n#  SUM(PURCHASE_GALLONS_QTY) PURCHASE_GALLONS_QTY,\n#  SUM(TOTAL_ACTIVE_CARD_COUNT) as TOTAL_ACTIVE_CARD_COUNT\n#  FROM DATAIKU_ANALYTICS_SUB.DATA_SCIENCE.NAFCUSTOMER_REVENUE\n#  WHERE (FUNDED_BY IS NULL OR FUNDED_BY\u003d\u0027Unknown\u0027 OR FUNDED_BY\u003d\u0027WEX Funded\u0027)\n#  AND (NOT((REVENUE_CODE\u003d\u002726\u0027) AND (CUSTOMER_ID IS NULL)))\n#  AND (NOT((REVENUE_CODE\u003d\u0027E8\u0027) AND (CUSTOMER_ID IS NULL)))\n#  GROUP BY 1,2,3,4\n\n\nfrom datetime import date, datetime, timedelta\nimport time\n\nt0 \u003d time.time()\n\n# Read recipe inputs\nNAFCUSTOMER_REVENUE_AGGREGATED \u003d dataiku.Dataset(\"NAFCUSTOMER_REVENUE_AGGREGATED\")\nNAFCUSTOMER_REVENUE_AGGREGATED_df \u003d NAFCUSTOMER_REVENUE_AGGREGATED.get_dataframe()\n\nt1 \u003d time.time()\nprint(\"load duration\", (t1-t0)/60.0, \"minutes\")\n\nprint(len(NAFCUSTOMER_REVENUE_AGGREGATED_df))\nNAFCUSTOMER_REVENUE_AGGREGATED_df.head()"
      ],
      "outputs": [
        {
          "output_type": "stream",
          "text": "load duration 5.3527179996172585 minutes\n18075044\n",
          "name": "stdout"
        },
        {
          "output_type": "execute_result",
          "execution_count": 13,
          "data": {
            "text/plain": "   CUSTOMER_ID                        CUSTOMER  REVENUE_YEAR  REVENUE_MONTH                SETUP_DATE  BI_CUS_PAR  BI_PRODUCT  BI_MRU  REVENUE_AMOUNT_USD  GROSS_SPEND_AMOUNT  PURCHASE_GALLONS_QTY  TOTAL_ACTIVE_CARD_COUNT\n0   77056151.0            ARM HEALTHCARE L L C          2019             11 2019-03-15 07:00:00+00:00     30300.0     15308.0  3100.0          222.240507             6448.90              2712.729                     47.0\n1   77618991.0   VERITAS MANAGED SOLUTIONS INC          2020             11 2011-05-19 07:00:00+00:00     12200.0     15100.0  4120.0           40.630000             3692.88              1143.368                     16.0\n2   77318531.0             JNM ENTERPRISES INC          2020             10 2016-04-06 07:00:00+00:00     51000.0     10100.0  4120.0           25.320000              741.35               355.677                     13.0\n3   77058685.0  ASHEVILLE ELEVATOR COMPANY INC          2019              4 2007-03-29 07:00:00+00:00     51000.0     10100.0  3100.0           87.610000             1569.19               569.249                      7.0\n4   77221508.0             FAST JACK TRANSPORT          2019              9 2018-10-26 07:00:00+00:00     21000.0     15110.0  4000.0           28.570000              909.94               334.750                      3.0",
            "text/html": "\u003cdiv\u003e\n\u003cstyle scoped\u003e\n    .dataframe tbody tr th:only-of-type {\n        vertical-align: middle;\n    }\n\n    .dataframe tbody tr th {\n        vertical-align: top;\n    }\n\n    .dataframe thead th {\n        text-align: right;\n    }\n\u003c/style\u003e\n\u003ctable border\u003d\"1\" class\u003d\"dataframe\"\u003e\n  \u003cthead\u003e\n    \u003ctr style\u003d\"text-align: right;\"\u003e\n      \u003cth\u003e\u003c/th\u003e\n      \u003cth\u003eCUSTOMER_ID\u003c/th\u003e\n      \u003cth\u003eCUSTOMER\u003c/th\u003e\n      \u003cth\u003eREVENUE_YEAR\u003c/th\u003e\n      \u003cth\u003eREVENUE_MONTH\u003c/th\u003e\n      \u003cth\u003eSETUP_DATE\u003c/th\u003e\n      \u003cth\u003eBI_CUS_PAR\u003c/th\u003e\n      \u003cth\u003eBI_PRODUCT\u003c/th\u003e\n      \u003cth\u003eBI_MRU\u003c/th\u003e\n      \u003cth\u003eREVENUE_AMOUNT_USD\u003c/th\u003e\n      \u003cth\u003eGROSS_SPEND_AMOUNT\u003c/th\u003e\n      \u003cth\u003ePURCHASE_GALLONS_QTY\u003c/th\u003e\n      \u003cth\u003eTOTAL_ACTIVE_CARD_COUNT\u003c/th\u003e\n    \u003c/tr\u003e\n  \u003c/thead\u003e\n  \u003ctbody\u003e\n    \u003ctr\u003e\n      \u003cth\u003e0\u003c/th\u003e\n      \u003ctd\u003e77056151.0\u003c/td\u003e\n      \u003ctd\u003eARM HEALTHCARE L L C\u003c/td\u003e\n      \u003ctd\u003e2019\u003c/td\u003e\n      \u003ctd\u003e11\u003c/td\u003e\n      \u003ctd\u003e2019-03-15 07:00:00+00:00\u003c/td\u003e\n      \u003ctd\u003e30300.0\u003c/td\u003e\n      \u003ctd\u003e15308.0\u003c/td\u003e\n      \u003ctd\u003e3100.0\u003c/td\u003e\n      \u003ctd\u003e222.240507\u003c/td\u003e\n      \u003ctd\u003e6448.90\u003c/td\u003e\n      \u003ctd\u003e2712.729\u003c/td\u003e\n      \u003ctd\u003e47.0\u003c/td\u003e\n    \u003c/tr\u003e\n    \u003ctr\u003e\n      \u003cth\u003e1\u003c/th\u003e\n      \u003ctd\u003e77618991.0\u003c/td\u003e\n      \u003ctd\u003eVERITAS MANAGED SOLUTIONS INC\u003c/td\u003e\n      \u003ctd\u003e2020\u003c/td\u003e\n      \u003ctd\u003e11\u003c/td\u003e\n      \u003ctd\u003e2011-05-19 07:00:00+00:00\u003c/td\u003e\n      \u003ctd\u003e12200.0\u003c/td\u003e\n      \u003ctd\u003e15100.0\u003c/td\u003e\n      \u003ctd\u003e4120.0\u003c/td\u003e\n      \u003ctd\u003e40.630000\u003c/td\u003e\n      \u003ctd\u003e3692.88\u003c/td\u003e\n      \u003ctd\u003e1143.368\u003c/td\u003e\n      \u003ctd\u003e16.0\u003c/td\u003e\n    \u003c/tr\u003e\n    \u003ctr\u003e\n      \u003cth\u003e2\u003c/th\u003e\n      \u003ctd\u003e77318531.0\u003c/td\u003e\n      \u003ctd\u003eJNM ENTERPRISES INC\u003c/td\u003e\n      \u003ctd\u003e2020\u003c/td\u003e\n      \u003ctd\u003e10\u003c/td\u003e\n      \u003ctd\u003e2016-04-06 07:00:00+00:00\u003c/td\u003e\n      \u003ctd\u003e51000.0\u003c/td\u003e\n      \u003ctd\u003e10100.0\u003c/td\u003e\n      \u003ctd\u003e4120.0\u003c/td\u003e\n      \u003ctd\u003e25.320000\u003c/td\u003e\n      \u003ctd\u003e741.35\u003c/td\u003e\n      \u003ctd\u003e355.677\u003c/td\u003e\n      \u003ctd\u003e13.0\u003c/td\u003e\n    \u003c/tr\u003e\n    \u003ctr\u003e\n      \u003cth\u003e3\u003c/th\u003e\n      \u003ctd\u003e77058685.0\u003c/td\u003e\n      \u003ctd\u003eASHEVILLE ELEVATOR COMPANY INC\u003c/td\u003e\n      \u003ctd\u003e2019\u003c/td\u003e\n      \u003ctd\u003e4\u003c/td\u003e\n      \u003ctd\u003e2007-03-29 07:00:00+00:00\u003c/td\u003e\n      \u003ctd\u003e51000.0\u003c/td\u003e\n      \u003ctd\u003e10100.0\u003c/td\u003e\n      \u003ctd\u003e3100.0\u003c/td\u003e\n      \u003ctd\u003e87.610000\u003c/td\u003e\n      \u003ctd\u003e1569.19\u003c/td\u003e\n      \u003ctd\u003e569.249\u003c/td\u003e\n      \u003ctd\u003e7.0\u003c/td\u003e\n    \u003c/tr\u003e\n    \u003ctr\u003e\n      \u003cth\u003e4\u003c/th\u003e\n      \u003ctd\u003e77221508.0\u003c/td\u003e\n      \u003ctd\u003eFAST JACK TRANSPORT\u003c/td\u003e\n      \u003ctd\u003e2019\u003c/td\u003e\n      \u003ctd\u003e9\u003c/td\u003e\n      \u003ctd\u003e2018-10-26 07:00:00+00:00\u003c/td\u003e\n      \u003ctd\u003e21000.0\u003c/td\u003e\n      \u003ctd\u003e15110.0\u003c/td\u003e\n      \u003ctd\u003e4000.0\u003c/td\u003e\n      \u003ctd\u003e28.570000\u003c/td\u003e\n      \u003ctd\u003e909.94\u003c/td\u003e\n      \u003ctd\u003e334.750\u003c/td\u003e\n      \u003ctd\u003e3.0\u003c/td\u003e\n    \u003c/tr\u003e\n  \u003c/tbody\u003e\n\u003c/table\u003e\n\u003c/div\u003e"
          },
          "metadata": {}
        }
      ]
    },
    {
      "execution_count": 45,
      "cell_type": "code",
      "metadata": {},
      "source": [
        "print(len(NAFCUSTOMER_REVENUE_AGGREGATED_df))\ndf \u003d NAFCUSTOMER_REVENUE_AGGREGATED_df"
      ],
      "outputs": [
        {
          "output_type": "stream",
          "text": "18075044\n",
          "name": "stdout"
        }
      ]
    },
    {
      "execution_count": 48,
      "cell_type": "code",
      "metadata": {},
      "source": [
        "# cast year as integer, create a revenue date column at the monthly grain\ndf[\u0027REVENUE_YEAR\u0027] \u003d df[\u0027REVENUE_YEAR\u0027].astype(\u0027Int64\u0027)\ndf[\u0027REVENUE_DATE\u0027] \u003d df[\u0027REVENUE_MONTH\u0027].astype(str) + \u0027-\u0027 + df[\u0027REVENUE_YEAR\u0027].astype(str)\ndf[\u0027REVENUE_DATE\u0027] \u003d pd.to_datetime(df[\u0027REVENUE_DATE\u0027], format\u003d\u0027%m-%Y\u0027).dt.strftime(\u0027%m-%Y\u0027)\n\nprint(len(df))\ndf \u003d df[df.REVENUE_YEAR!\u003d2023]\nprint(len(df))\ndf.head()"
      ],
      "outputs": [
        {
          "output_type": "stream",
          "text": "18075044\n17673397\n",
          "name": "stdout"
        },
        {
          "output_type": "execute_result",
          "execution_count": 48,
          "data": {
            "text/plain": "   CUSTOMER_ID                        CUSTOMER  REVENUE_YEAR  REVENUE_MONTH                SETUP_DATE  BI_CUS_PAR  BI_PRODUCT  BI_MRU  REVENUE_AMOUNT_USD  GROSS_SPEND_AMOUNT  PURCHASE_GALLONS_QTY  TOTAL_ACTIVE_CARD_COUNT REVENUE_DATE\n0   77056151.0            ARM HEALTHCARE L L C          2019             11 2019-03-15 07:00:00+00:00     30300.0     15308.0  3100.0          222.240507             6448.90              2712.729                     47.0      11-2019\n1   77618991.0   VERITAS MANAGED SOLUTIONS INC          2020             11 2011-05-19 07:00:00+00:00     12200.0     15100.0  4120.0           40.630000             3692.88              1143.368                     16.0      11-2020\n2   77318531.0             JNM ENTERPRISES INC          2020             10 2016-04-06 07:00:00+00:00     51000.0     10100.0  4120.0           25.320000              741.35               355.677                     13.0      10-2020\n3   77058685.0  ASHEVILLE ELEVATOR COMPANY INC          2019              4 2007-03-29 07:00:00+00:00     51000.0     10100.0  3100.0           87.610000             1569.19               569.249                      7.0      04-2019\n4   77221508.0             FAST JACK TRANSPORT          2019              9 2018-10-26 07:00:00+00:00     21000.0     15110.0  4000.0           28.570000              909.94               334.750                      3.0      09-2019",
            "text/html": "\u003cdiv\u003e\n\u003cstyle scoped\u003e\n    .dataframe tbody tr th:only-of-type {\n        vertical-align: middle;\n    }\n\n    .dataframe tbody tr th {\n        vertical-align: top;\n    }\n\n    .dataframe thead th {\n        text-align: right;\n    }\n\u003c/style\u003e\n\u003ctable border\u003d\"1\" class\u003d\"dataframe\"\u003e\n  \u003cthead\u003e\n    \u003ctr style\u003d\"text-align: right;\"\u003e\n      \u003cth\u003e\u003c/th\u003e\n      \u003cth\u003eCUSTOMER_ID\u003c/th\u003e\n      \u003cth\u003eCUSTOMER\u003c/th\u003e\n      \u003cth\u003eREVENUE_YEAR\u003c/th\u003e\n      \u003cth\u003eREVENUE_MONTH\u003c/th\u003e\n      \u003cth\u003eSETUP_DATE\u003c/th\u003e\n      \u003cth\u003eBI_CUS_PAR\u003c/th\u003e\n      \u003cth\u003eBI_PRODUCT\u003c/th\u003e\n      \u003cth\u003eBI_MRU\u003c/th\u003e\n      \u003cth\u003eREVENUE_AMOUNT_USD\u003c/th\u003e\n      \u003cth\u003eGROSS_SPEND_AMOUNT\u003c/th\u003e\n      \u003cth\u003ePURCHASE_GALLONS_QTY\u003c/th\u003e\n      \u003cth\u003eTOTAL_ACTIVE_CARD_COUNT\u003c/th\u003e\n      \u003cth\u003eREVENUE_DATE\u003c/th\u003e\n    \u003c/tr\u003e\n  \u003c/thead\u003e\n  \u003ctbody\u003e\n    \u003ctr\u003e\n      \u003cth\u003e0\u003c/th\u003e\n      \u003ctd\u003e77056151.0\u003c/td\u003e\n      \u003ctd\u003eARM HEALTHCARE L L C\u003c/td\u003e\n      \u003ctd\u003e2019\u003c/td\u003e\n      \u003ctd\u003e11\u003c/td\u003e\n      \u003ctd\u003e2019-03-15 07:00:00+00:00\u003c/td\u003e\n      \u003ctd\u003e30300.0\u003c/td\u003e\n      \u003ctd\u003e15308.0\u003c/td\u003e\n      \u003ctd\u003e3100.0\u003c/td\u003e\n      \u003ctd\u003e222.240507\u003c/td\u003e\n      \u003ctd\u003e6448.90\u003c/td\u003e\n      \u003ctd\u003e2712.729\u003c/td\u003e\n      \u003ctd\u003e47.0\u003c/td\u003e\n      \u003ctd\u003e11-2019\u003c/td\u003e\n    \u003c/tr\u003e\n    \u003ctr\u003e\n      \u003cth\u003e1\u003c/th\u003e\n      \u003ctd\u003e77618991.0\u003c/td\u003e\n      \u003ctd\u003eVERITAS MANAGED SOLUTIONS INC\u003c/td\u003e\n      \u003ctd\u003e2020\u003c/td\u003e\n      \u003ctd\u003e11\u003c/td\u003e\n      \u003ctd\u003e2011-05-19 07:00:00+00:00\u003c/td\u003e\n      \u003ctd\u003e12200.0\u003c/td\u003e\n      \u003ctd\u003e15100.0\u003c/td\u003e\n      \u003ctd\u003e4120.0\u003c/td\u003e\n      \u003ctd\u003e40.630000\u003c/td\u003e\n      \u003ctd\u003e3692.88\u003c/td\u003e\n      \u003ctd\u003e1143.368\u003c/td\u003e\n      \u003ctd\u003e16.0\u003c/td\u003e\n      \u003ctd\u003e11-2020\u003c/td\u003e\n    \u003c/tr\u003e\n    \u003ctr\u003e\n      \u003cth\u003e2\u003c/th\u003e\n      \u003ctd\u003e77318531.0\u003c/td\u003e\n      \u003ctd\u003eJNM ENTERPRISES INC\u003c/td\u003e\n      \u003ctd\u003e2020\u003c/td\u003e\n      \u003ctd\u003e10\u003c/td\u003e\n      \u003ctd\u003e2016-04-06 07:00:00+00:00\u003c/td\u003e\n      \u003ctd\u003e51000.0\u003c/td\u003e\n      \u003ctd\u003e10100.0\u003c/td\u003e\n      \u003ctd\u003e4120.0\u003c/td\u003e\n      \u003ctd\u003e25.320000\u003c/td\u003e\n      \u003ctd\u003e741.35\u003c/td\u003e\n      \u003ctd\u003e355.677\u003c/td\u003e\n      \u003ctd\u003e13.0\u003c/td\u003e\n      \u003ctd\u003e10-2020\u003c/td\u003e\n    \u003c/tr\u003e\n    \u003ctr\u003e\n      \u003cth\u003e3\u003c/th\u003e\n      \u003ctd\u003e77058685.0\u003c/td\u003e\n      \u003ctd\u003eASHEVILLE ELEVATOR COMPANY INC\u003c/td\u003e\n      \u003ctd\u003e2019\u003c/td\u003e\n      \u003ctd\u003e4\u003c/td\u003e\n      \u003ctd\u003e2007-03-29 07:00:00+00:00\u003c/td\u003e\n      \u003ctd\u003e51000.0\u003c/td\u003e\n      \u003ctd\u003e10100.0\u003c/td\u003e\n      \u003ctd\u003e3100.0\u003c/td\u003e\n      \u003ctd\u003e87.610000\u003c/td\u003e\n      \u003ctd\u003e1569.19\u003c/td\u003e\n      \u003ctd\u003e569.249\u003c/td\u003e\n      \u003ctd\u003e7.0\u003c/td\u003e\n      \u003ctd\u003e04-2019\u003c/td\u003e\n    \u003c/tr\u003e\n    \u003ctr\u003e\n      \u003cth\u003e4\u003c/th\u003e\n      \u003ctd\u003e77221508.0\u003c/td\u003e\n      \u003ctd\u003eFAST JACK TRANSPORT\u003c/td\u003e\n      \u003ctd\u003e2019\u003c/td\u003e\n      \u003ctd\u003e9\u003c/td\u003e\n      \u003ctd\u003e2018-10-26 07:00:00+00:00\u003c/td\u003e\n      \u003ctd\u003e21000.0\u003c/td\u003e\n      \u003ctd\u003e15110.0\u003c/td\u003e\n      \u003ctd\u003e4000.0\u003c/td\u003e\n      \u003ctd\u003e28.570000\u003c/td\u003e\n      \u003ctd\u003e909.94\u003c/td\u003e\n      \u003ctd\u003e334.750\u003c/td\u003e\n      \u003ctd\u003e3.0\u003c/td\u003e\n      \u003ctd\u003e09-2019\u003c/td\u003e\n    \u003c/tr\u003e\n  \u003c/tbody\u003e\n\u003c/table\u003e\n\u003c/div\u003e"
          },
          "metadata": {}
        }
      ]
    },
    {
      "execution_count": 0,
      "cell_type": "code",
      "metadata": {},
      "source": [
        "import matplotlib.dates as mdates\n\n# aggregate revenue at annual grain\ndf_revenue_per_year \u003d df.groupby([\u0027REVENUE_YEAR\u0027]).REVENUE_AMOUNT_USD.sum().reset_index()\n\n# plot out \nfig, ax1 \u003d plt.subplots(figsize\u003d(16,5))\nax1.plot(df_revenue_per_year[\u0027REVENUE_YEAR\u0027],df_revenue_per_year[\u0027REVENUE_AMOUNT_USD\u0027], marker\u003d\u0027o\u0027)\nax1.set_xlabel(\u0027YEAR\u0027, fontsize\u003d14)\nax1.set_ylabel(\u0027REVENUE\u0027, fontsize\u003d14)\nax1.grid()\nax1.set_ylim(ymin\u003d0)\nfig.autofmt_xdate()\n#ax1.xaxis.set_major_locator(mdates.YearLocator())\nplt.show()\n\ndf_revenue_per_year.head()"
      ],
      "outputs": []
    },
    {
      "execution_count": 0,
      "cell_type": "code",
      "metadata": {},
      "source": [
        ""
      ],
      "outputs": []
    },
    {
      "execution_count": 0,
      "cell_type": "code",
      "metadata": {},
      "source": [
        "# Compute recipe outputs from inputs\n# TODO: Replace this part by your actual code that computes the output, as a Pandas dataframe\n# NB: DSS also supports other kinds of APIs for reading and writing data. Please see doc.\n\n#TENURE_CALC_df \u003d NAFCUSTOMER_REVENUE_AGGREGATED_df # For this sample code, simply copy input to output\n\n\n# Write recipe outputs\n#TENURE_CALC \u003d dataiku.Dataset(\"TENURE_CALC\")\n#TENURE_CALC.write_with_schema(TENURE_CALC_df)"
      ],
      "outputs": []
    }
  ]
}