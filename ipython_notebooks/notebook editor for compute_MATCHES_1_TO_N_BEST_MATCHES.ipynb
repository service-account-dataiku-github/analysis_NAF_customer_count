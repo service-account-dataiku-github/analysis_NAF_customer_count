{
  "metadata": {
    "kernelspec": {
      "name": "py-dku-venv-env_clc",
      "display_name": "Python (env env_clc)",
      "language": "python"
    },
    "associatedRecipe": "compute_MATCHES_1_TO_N_BEST_MATCHES",
    "creator": "Daniel.Vandermeer",
    "createdOn": 1666039467051,
    "tags": [
      "recipe-editor"
    ],
    "customFields": {},
    "hide_input": false,
    "language_info": {
      "name": "python",
      "version": "3.6.8",
      "mimetype": "text/x-python",
      "codemirror_mode": {
        "name": "ipython",
        "version": 3
      },
      "pygments_lexer": "ipython3",
      "nbconvert_exporter": "python",
      "file_extension": ".py"
    },
    "modifiedBy": "Daniel.Vandermeer"
  },
  "nbformat": 4,
  "nbformat_minor": 1,
  "cells": [
    {
      "execution_count": 2,
      "cell_type": "code",
      "metadata": {},
      "source": [
        "# -*- coding: utf-8 -*-\nimport dataiku\nimport pandas as pd, numpy as np\nfrom dataiku import pandasutils as pdu\n\n# Read recipe inputs\nMATCHES_1_TO_N_FOR_MANUAL_REVIEW \u003d dataiku.Dataset(\"MATCHES_1_TO_N_FOR_MANUAL_REVIEW\")\nMATCHES_1_TO_N_FOR_MANUAL_REVIEW_df \u003d MATCHES_1_TO_N_FOR_MANUAL_REVIEW.get_dataframe()"
      ],
      "outputs": []
    },
    {
      "execution_count": 4,
      "cell_type": "code",
      "metadata": {},
      "source": [
        "df \u003d MATCHES_1_TO_N_FOR_MANUAL_REVIEW_df"
      ],
      "outputs": []
    },
    {
      "execution_count": 5,
      "cell_type": "code",
      "metadata": {},
      "source": [
        "df.head()"
      ],
      "outputs": [
        {
          "output_type": "execute_result",
          "execution_count": 5,
          "data": {
            "text/plain": "                      CUSTOMER                                     MATCH_CUSTOMER                                       DRAW_UP_DATE\n0          BALFOUR BEATTY 3BSE  [\u0027BALFOUR BEATTY EQUIPMENT\u0027, \u0027BALFOUR BEATTY R...  [Timestamp(\u00272021-07-01 00:00:00\u0027), Timestamp(\u0027...\n1         XYLEM ANALYTICS FUEL               [\u0027XYLEM ANALYTICS LLC\u0027, \u0027XYLEM INC\u0027]  [Timestamp(\u00272021-10-01 00:00:00\u0027), Timestamp(\u0027...\n2  GIVAUDAN FRAGRANCES (GV2-5)        [\u0027GIVAUDAN FLAVORS\u0027, \u0027GIVAUDAN FRAGRANCES\u0027]  [Timestamp(\u00272021-01-01 00:00:00\u0027), Timestamp(\u0027...\n3     GIVAUDAN FLAVORS (GV3-5)        [\u0027GIVAUDAN FLAVORS\u0027, \u0027GIVAUDAN FRAGRANCES\u0027]  [Timestamp(\u00272021-01-01 00:00:00\u0027), Timestamp(\u0027...\n4  CONSTELLATION BRANDS (3CRW)  [\u0027CONSTELLATION BRANDS3 CBL\u0027, \u0027CONSTELLATION B...  [Timestamp(\u00272021-01-01 00:00:00\u0027), Timestamp(\u0027...",
            "text/html": "\u003cdiv\u003e\n\u003cstyle scoped\u003e\n    .dataframe tbody tr th:only-of-type {\n        vertical-align: middle;\n    }\n\n    .dataframe tbody tr th {\n        vertical-align: top;\n    }\n\n    .dataframe thead th {\n        text-align: right;\n    }\n\u003c/style\u003e\n\u003ctable border\u003d\"1\" class\u003d\"dataframe\"\u003e\n  \u003cthead\u003e\n    \u003ctr style\u003d\"text-align: right;\"\u003e\n      \u003cth\u003e\u003c/th\u003e\n      \u003cth\u003eCUSTOMER\u003c/th\u003e\n      \u003cth\u003eMATCH_CUSTOMER\u003c/th\u003e\n      \u003cth\u003eDRAW_UP_DATE\u003c/th\u003e\n    \u003c/tr\u003e\n  \u003c/thead\u003e\n  \u003ctbody\u003e\n    \u003ctr\u003e\n      \u003cth\u003e0\u003c/th\u003e\n      \u003ctd\u003eBALFOUR BEATTY 3BSE\u003c/td\u003e\n      \u003ctd\u003e[\u0027BALFOUR BEATTY EQUIPMENT\u0027, \u0027BALFOUR BEATTY R...\u003c/td\u003e\n      \u003ctd\u003e[Timestamp(\u00272021-07-01 00:00:00\u0027), Timestamp(\u0027...\u003c/td\u003e\n    \u003c/tr\u003e\n    \u003ctr\u003e\n      \u003cth\u003e1\u003c/th\u003e\n      \u003ctd\u003eXYLEM ANALYTICS FUEL\u003c/td\u003e\n      \u003ctd\u003e[\u0027XYLEM ANALYTICS LLC\u0027, \u0027XYLEM INC\u0027]\u003c/td\u003e\n      \u003ctd\u003e[Timestamp(\u00272021-10-01 00:00:00\u0027), Timestamp(\u0027...\u003c/td\u003e\n    \u003c/tr\u003e\n    \u003ctr\u003e\n      \u003cth\u003e2\u003c/th\u003e\n      \u003ctd\u003eGIVAUDAN FRAGRANCES (GV2-5)\u003c/td\u003e\n      \u003ctd\u003e[\u0027GIVAUDAN FLAVORS\u0027, \u0027GIVAUDAN FRAGRANCES\u0027]\u003c/td\u003e\n      \u003ctd\u003e[Timestamp(\u00272021-01-01 00:00:00\u0027), Timestamp(\u0027...\u003c/td\u003e\n    \u003c/tr\u003e\n    \u003ctr\u003e\n      \u003cth\u003e3\u003c/th\u003e\n      \u003ctd\u003eGIVAUDAN FLAVORS (GV3-5)\u003c/td\u003e\n      \u003ctd\u003e[\u0027GIVAUDAN FLAVORS\u0027, \u0027GIVAUDAN FRAGRANCES\u0027]\u003c/td\u003e\n      \u003ctd\u003e[Timestamp(\u00272021-01-01 00:00:00\u0027), Timestamp(\u0027...\u003c/td\u003e\n    \u003c/tr\u003e\n    \u003ctr\u003e\n      \u003cth\u003e4\u003c/th\u003e\n      \u003ctd\u003eCONSTELLATION BRANDS (3CRW)\u003c/td\u003e\n      \u003ctd\u003e[\u0027CONSTELLATION BRANDS3 CBL\u0027, \u0027CONSTELLATION B...\u003c/td\u003e\n      \u003ctd\u003e[Timestamp(\u00272021-01-01 00:00:00\u0027), Timestamp(\u0027...\u003c/td\u003e\n    \u003c/tr\u003e\n  \u003c/tbody\u003e\n\u003c/table\u003e\n\u003c/div\u003e"
          },
          "metadata": {}
        }
      ]
    },
    {
      "execution_count": 17,
      "cell_type": "code",
      "metadata": {},
      "source": [
        "from nltk.tag import pos_tag\n\npos_tag([\u0027AMBULANCE\u0027,\u0027Dennis\u0027])\n\nfor index, row in df.iterrows():\n    \n    l \u003d row[\u0027CUSTOMER\u0027]\n    pos_tag(l)"
      ],
      "outputs": [
        {
          "output_type": "execute_result",
          "execution_count": 17,
          "data": {
            "text/plain": "[(\u0027AMBULANCE\u0027, \u0027NNP\u0027), (\u0027Dennis\u0027, \u0027NNP\u0027)]"
          },
          "metadata": {}
        }
      ]
    },
    {
      "execution_count": 1,
      "cell_type": "code",
      "metadata": {},
      "source": [
        "# Compute recipe outputs from inputs\n# TODO: Replace this part by your actual code that computes the output, as a Pandas dataframe\n# NB: DSS also supports other kinds of APIs for reading and writing data. Please see doc.\n\n#MATCHES_1_TO_N_BEST_MATCHES_df \u003d MATCHES_1_TO_N_FOR_MANUAL_REVIEW_df # For this sample code, simply copy input to output\n\n\n# Write recipe outputs\n#MATCHES_1_TO_N_BEST_MATCHES \u003d dataiku.Dataset(\"MATCHES_1_TO_N_BEST_MATCHES\")\n#MATCHES_1_TO_N_BEST_MATCHES.write_with_schema(MATCHES_1_TO_N_BEST_MATCHES_df)"
      ],
      "outputs": []
    }
  ]
}