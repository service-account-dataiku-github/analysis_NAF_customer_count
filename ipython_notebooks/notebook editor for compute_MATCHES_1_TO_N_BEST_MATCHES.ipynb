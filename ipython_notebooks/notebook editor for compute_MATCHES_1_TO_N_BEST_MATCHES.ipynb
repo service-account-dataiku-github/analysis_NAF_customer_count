{
  "metadata": {
    "kernelspec": {
      "name": "py-dku-venv-env_clc",
      "display_name": "Python (env env_clc)",
      "language": "python"
    },
    "associatedRecipe": "compute_MATCHES_1_TO_N_BEST_MATCHES",
    "creator": "Daniel.Vandermeer",
    "createdOn": 1666039467051,
    "tags": [
      "recipe-editor"
    ],
    "customFields": {},
    "hide_input": false,
    "language_info": {
      "name": "python",
      "version": "3.6.8",
      "mimetype": "text/x-python",
      "codemirror_mode": {
        "name": "ipython",
        "version": 3
      },
      "pygments_lexer": "ipython3",
      "nbconvert_exporter": "python",
      "file_extension": ".py"
    },
    "modifiedBy": "Daniel.Vandermeer"
  },
  "nbformat": 4,
  "nbformat_minor": 1,
  "cells": [
    {
      "execution_count": 2,
      "cell_type": "code",
      "metadata": {},
      "source": [
        "# -*- coding: utf-8 -*-\nimport dataiku\nimport pandas as pd, numpy as np\nfrom dataiku import pandasutils as pdu\n\n# Read recipe inputs\nMATCHES_1_TO_N_FOR_MANUAL_REVIEW \u003d dataiku.Dataset(\"MATCHES_1_TO_N_FOR_MANUAL_REVIEW\")\nMATCHES_1_TO_N_FOR_MANUAL_REVIEW_df \u003d MATCHES_1_TO_N_FOR_MANUAL_REVIEW.get_dataframe()"
      ],
      "outputs": []
    },
    {
      "execution_count": 35,
      "cell_type": "code",
      "metadata": {},
      "source": [
        "df \u003d MATCHES_1_TO_N_FOR_MANUAL_REVIEW_df"
      ],
      "outputs": []
    },
    {
      "execution_count": 36,
      "cell_type": "code",
      "metadata": {},
      "source": [
        "import string\nfrom nltk.tag import pos_tag\n\nprint(len(nltk.corpus.words.words()))\ndf_dict \u003d pd.DataFrame(nltk.corpus.words.words(), columns\u003d[\u0027word\u0027])\n\nfor index, row in df.iterrows():\n    \n    l \u003d row[\u0027CUSTOMER\u0027]\n    \n    c_str \u003d l.translate(str.maketrans(\u0027\u0027, \u0027\u0027, string.punctuation))\n    for w in c_str:\n        print()"
      ],
      "outputs": [
        {
          "output_type": "stream",
          "text": "236736\n[(\u0027BALFOUR\u0027, \u0027NNP\u0027), (\u0027BEATTY\u0027, \u0027NNP\u0027), (\u00273BSE\u0027, \u0027CD\u0027)]\n[(\u0027XYLEM\u0027, \u0027NN\u0027), (\u0027ANALYTICS\u0027, \u0027NNP\u0027), (\u0027FUEL\u0027, \u0027NNP\u0027)]\n[(\u0027GIVAUDAN\u0027, \u0027NNP\u0027), (\u0027FRAGRANCES\u0027, \u0027NNP\u0027), (\u0027GV25\u0027, \u0027NNP\u0027)]\n[(\u0027GIVAUDAN\u0027, \u0027NNP\u0027), (\u0027FLAVORS\u0027, \u0027NNP\u0027), (\u0027GV35\u0027, \u0027NNP\u0027)]\n[(\u0027CONSTELLATION\u0027, \u0027NNP\u0027), (\u0027BRANDS\u0027, \u0027NNP\u0027), (\u00273CRW\u0027, \u0027CD\u0027)]\n[(\u0027CONSTELLATION\u0027, \u0027NNP\u0027), (\u0027BRANDS\u0027, \u0027NNP\u0027), (\u00273CBL\u0027, \u0027CD\u0027)]\n[(\u0027BECTON\u0027, \u0027NNP\u0027), (\u0027DICKINSON\u0027, \u0027NNP\u0027), (\u0027BDC2\u0027, \u0027NNP\u0027)]\n[(\u0027BECTON\u0027, \u0027NNP\u0027), (\u0027DICKINSON\u0027, \u0027NNP\u0027), (\u0027BDC\u0027, \u0027NNP\u0027)]\n[(\u0027BECTON\u0027, \u0027NNP\u0027), (\u0027DICKINSON\u0027, \u0027NNP\u0027), (\u0027BDB\u0027, \u0027NNP\u0027)]\n",
          "name": "stdout"
        }
      ]
    },
    {
      "execution_count": 31,
      "cell_type": "code",
      "metadata": {},
      "source": [
        ""
      ],
      "outputs": [
        {
          "output_type": "stream",
          "text": "236736\n",
          "name": "stdout"
        },
        {
          "output_type": "execute_result",
          "execution_count": 31,
          "data": {
            "text/plain": "    word\n0      A\n1      a\n2     aa\n3    aal\n4  aalii",
            "text/html": "\u003cdiv\u003e\n\u003cstyle scoped\u003e\n    .dataframe tbody tr th:only-of-type {\n        vertical-align: middle;\n    }\n\n    .dataframe tbody tr th {\n        vertical-align: top;\n    }\n\n    .dataframe thead th {\n        text-align: right;\n    }\n\u003c/style\u003e\n\u003ctable border\u003d\"1\" class\u003d\"dataframe\"\u003e\n  \u003cthead\u003e\n    \u003ctr style\u003d\"text-align: right;\"\u003e\n      \u003cth\u003e\u003c/th\u003e\n      \u003cth\u003eword\u003c/th\u003e\n    \u003c/tr\u003e\n  \u003c/thead\u003e\n  \u003ctbody\u003e\n    \u003ctr\u003e\n      \u003cth\u003e0\u003c/th\u003e\n      \u003ctd\u003eA\u003c/td\u003e\n    \u003c/tr\u003e\n    \u003ctr\u003e\n      \u003cth\u003e1\u003c/th\u003e\n      \u003ctd\u003ea\u003c/td\u003e\n    \u003c/tr\u003e\n    \u003ctr\u003e\n      \u003cth\u003e2\u003c/th\u003e\n      \u003ctd\u003eaa\u003c/td\u003e\n    \u003c/tr\u003e\n    \u003ctr\u003e\n      \u003cth\u003e3\u003c/th\u003e\n      \u003ctd\u003eaal\u003c/td\u003e\n    \u003c/tr\u003e\n    \u003ctr\u003e\n      \u003cth\u003e4\u003c/th\u003e\n      \u003ctd\u003eaalii\u003c/td\u003e\n    \u003c/tr\u003e\n  \u003c/tbody\u003e\n\u003c/table\u003e\n\u003c/div\u003e"
          },
          "metadata": {}
        }
      ]
    },
    {
      "execution_count": 1,
      "cell_type": "code",
      "metadata": {},
      "source": [
        "# Compute recipe outputs from inputs\n# TODO: Replace this part by your actual code that computes the output, as a Pandas dataframe\n# NB: DSS also supports other kinds of APIs for reading and writing data. Please see doc.\n\n#MATCHES_1_TO_N_BEST_MATCHES_df \u003d MATCHES_1_TO_N_FOR_MANUAL_REVIEW_df # For this sample code, simply copy input to output\n\n\n# Write recipe outputs\n#MATCHES_1_TO_N_BEST_MATCHES \u003d dataiku.Dataset(\"MATCHES_1_TO_N_BEST_MATCHES\")\n#MATCHES_1_TO_N_BEST_MATCHES.write_with_schema(MATCHES_1_TO_N_BEST_MATCHES_df)"
      ],
      "outputs": []
    }
  ]
}