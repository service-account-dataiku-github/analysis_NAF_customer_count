{
  "metadata": {
    "kernelspec": {
      "name": "py-dku-venv-env_clc",
      "display_name": "Python (env env_clc)",
      "language": "python"
    },
    "associatedRecipe": "compute_MATCHES_1_TO_N_BEST_MATCHES",
    "creator": "Daniel.Vandermeer",
    "createdOn": 1666039467051,
    "tags": [
      "recipe-editor"
    ],
    "customFields": {},
    "hide_input": false,
    "language_info": {
      "name": "python",
      "version": "3.6.8",
      "mimetype": "text/x-python",
      "codemirror_mode": {
        "name": "ipython",
        "version": 3
      },
      "pygments_lexer": "ipython3",
      "nbconvert_exporter": "python",
      "file_extension": ".py"
    },
    "modifiedBy": "Daniel.Vandermeer"
  },
  "nbformat": 4,
  "nbformat_minor": 1,
  "cells": [
    {
      "execution_count": 0,
      "cell_type": "code",
      "metadata": {},
      "source": [
        "# -*- coding: utf-8 -*-\nimport dataiku\nimport pandas as pd, numpy as np\nfrom dataiku import pandasutils as pdu\n\n# Read recipe inputs\nMATCHES_1_TO_N_FOR_MANUAL_REVIEW \u003d dataiku.Dataset(\"MATCHES_1_TO_N_FOR_MANUAL_REVIEW\")\nMATCHES_1_TO_N_FOR_MANUAL_REVIEW_df \u003d MATCHES_1_TO_N_FOR_MANUAL_REVIEW.get_dataframe()\n\n"
      ],
      "outputs": []
    },
    {
      "execution_count": 0,
      "cell_type": "code",
      "metadata": {},
      "source": [
        ""
      ],
      "outputs": []
    },
    {
      "execution_count": 0,
      "cell_type": "code",
      "metadata": {},
      "source": [
        ""
      ],
      "outputs": []
    },
    {
      "execution_count": 0,
      "cell_type": "code",
      "metadata": {},
      "source": [
        ""
      ],
      "outputs": []
    },
    {
      "execution_count": 0,
      "cell_type": "code",
      "metadata": {},
      "source": [
        "# Compute recipe outputs from inputs\n# TODO: Replace this part by your actual code that computes the output, as a Pandas dataframe\n# NB: DSS also supports other kinds of APIs for reading and writing data. Please see doc.\n\n#MATCHES_1_TO_N_BEST_MATCHES_df \u003d MATCHES_1_TO_N_FOR_MANUAL_REVIEW_df # For this sample code, simply copy input to output\n\n\n# Write recipe outputs\n#MATCHES_1_TO_N_BEST_MATCHES \u003d dataiku.Dataset(\"MATCHES_1_TO_N_BEST_MATCHES\")\n#MATCHES_1_TO_N_BEST_MATCHES.write_with_schema(MATCHES_1_TO_N_BEST_MATCHES_df)"
      ],
      "outputs": []
    }
  ]
}