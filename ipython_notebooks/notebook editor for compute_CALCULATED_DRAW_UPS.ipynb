{
  "metadata": {
    "kernelspec": {
      "name": "py-dku-venv-env_clc",
      "display_name": "Python (env env_clc)",
      "language": "python"
    },
    "associatedRecipe": "compute_CALCULATED_DRAW_UPS",
    "dkuGit": {
      "lastInteraction": 0
    },
    "creationTag": {
      "versionNumber": 0,
      "lastModifiedBy": {
        "login": "Daniel.Vandermeer"
      },
      "lastModifiedOn": 1665655849923
    },
    "creator": "Daniel.Vandermeer",
    "createdOn": 1665655849923,
    "tags": [
      "recipe-editor"
    ],
    "customFields": {},
    "hide_input": false,
    "language_info": {
      "name": "python",
      "version": "3.6.8",
      "mimetype": "text/x-python",
      "codemirror_mode": {
        "name": "ipython",
        "version": 3
      },
      "pygments_lexer": "ipython3",
      "nbconvert_exporter": "python",
      "file_extension": ".py"
    },
    "modifiedBy": "Daniel.Vandermeer"
  },
  "nbformat": 4,
  "nbformat_minor": 1,
  "cells": [
    {
      "execution_count": 61,
      "cell_type": "code",
      "metadata": {},
      "source": [
        "# -*- coding: utf-8 -*-\nimport dataiku\nimport pandas as pd, numpy as np\nfrom dataiku import pandasutils as pdu\n\nimport pickle\nfrom dateutil.relativedelta import relativedelta\nimport gc\nfrom re import finditer\n\n## Find DD DU\nfrom helper import preprocess_data\nfrom patterns import find_drawdowns, find_drawups\n\n## MATCHING\nimport name_matching\nfrom name_matching import name_match\nimport transaction_matching\nfrom transaction_matching import transaction_match\n\n## CONSOLIDATION\nfrom consolidation import combine_matches, consolidate_matches, find_attritions, find_new_accounts, get_attrition_status, get_new_account_status"
      ],
      "outputs": []
    },
    {
      "execution_count": 62,
      "cell_type": "code",
      "metadata": {},
      "source": [
        "start_date \u003d dataiku.get_custom_variables()[\u0027start_date\u0027]\nend_date \u003d dataiku.get_custom_variables()[\u0027end_date\u0027]\n\nconsistency \u003d int(dataiku.get_custom_variables()[\u0027consistency\u0027])\ndrawdown_period_average \u003d int(dataiku.get_custom_variables()[\u0027drawdown_period_average\u0027])\ndrawdown \u003d int(dataiku.get_custom_variables()[\u0027drawdown\u0027])\ndrawdown_fwd_check \u003d int(dataiku.get_custom_variables()[\u0027drawdown_fwd_check\u0027])\ndrawdown_lookback_period \u003d int(dataiku.get_custom_variables()[\u0027drawdown_lookback_period\u0027])\ndrawup_lookfwd_period \u003d int(dataiku.get_custom_variables()[\u0027drawup_lookfwd_period\u0027])\nstatistics_period \u003d int(dataiku.get_custom_variables()[\u0027statistics_period\u0027])\ninactive_period \u003d int(dataiku.get_custom_variables()[\u0027inactive_period\u0027])\n\n## MATCHING VARIABLES\nmonth_diff_h \u003d int(dataiku.get_custom_variables()[\u0027month_diff_h\u0027])\nmonth_diff_l \u003d int(dataiku.get_custom_variables()[\u0027month_diff_l\u0027])\nsd_mul \u003d int(dataiku.get_custom_variables()[\u0027sd_mul\u0027])\nmax_city_distance \u003d int(dataiku.get_custom_variables()[\u0027max_city_distance\u0027])\nthreshold_score_step1 \u003d int(dataiku.get_custom_variables()[\u0027threshold_score_step1\u0027])\nthreshold_score_step2 \u003d int(dataiku.get_custom_variables()[\u0027threshold_score_step2\u0027])\n\n## RUN TYPE\nrun \u003d dataiku.get_custom_variables()[\u0027run_type\u0027]"
      ],
      "outputs": []
    },
    {
      "execution_count": 63,
      "cell_type": "code",
      "metadata": {},
      "source": [
        "# Read recipe inputs\nNAFCUSTOMER_REVENUE_BY_CUSTOMER_LIMITED \u003d dataiku.Dataset(\"NAFCUSTOMER_REVENUE_BY_CUSTOMER_LIMITED\")\nNAFCUSTOMER_REVENUE_BY_CUSTOMER_LIMITED_df \u003d NAFCUSTOMER_REVENUE_BY_CUSTOMER_LIMITED.get_dataframe()\n\nprint(len(NAFCUSTOMER_REVENUE_BY_CUSTOMER_LIMITED_df), \"rows\")\n\nprint(len(NAFCUSTOMER_REVENUE_BY_CUSTOMER_LIMITED_df.CUSTOMER_ACCOUNT_ID.unique()), \"accounts\")"
      ],
      "outputs": [
        {
          "output_type": "stream",
          "text": "21434 rows\n803 accounts\n",
          "name": "stdout"
        }
      ]
    },
    {
      "execution_count": 64,
      "cell_type": "code",
      "metadata": {},
      "source": [
        "df_v \u003d NAFCUSTOMER_REVENUE_BY_CUSTOMER_LIMITED_df\n\nprint(len(df_v))\ndf_v.head()"
      ],
      "outputs": [
        {
          "output_type": "stream",
          "text": "21434\n",
          "name": "stdout"
        },
        {
          "output_type": "execute_result",
          "execution_count": 64,
          "data": {
            "text/plain": "   CUSTOMER_ACCOUNT_ID          CUSTOMER_ACCOUNT_NAME                     CUSTOMER ACCOUNTSTATUS                SETUP_DATE      ACCOUNT_CLOSED_DATE  REVENUE_YEAR  REVENUE_QUARTER  REVENUE_MONTH ACCOUNT_CITY ACCOUNT_STATE CUSTOMER_SOURCE_SYSTEM_CODE CUSTOMER_BUSINESS_PROGRAM_NAME  BI_CUS_PAR  BI_PRODUCT  BI_MRU  REVENUE_AMOUNT_USD  GROSS_SPEND_AMOUNT  PURCHASE_GALLONS_QTY  ACTIVE_CARD_COUNT\n0         469007639032          SIEMENS BLDG TECH (2)              SIEMENS MEDICAL        Active 2007-12-07 08:00:00+00:00  9999-12-31 00:00:00.000          2019                1              1  Des Plaines            IL                      TANDEM                     Wheels old       33200       10200    3100          408.592520            18391.35              7602.992              119.0\n1         469005701255              CALIFORNIA WATERS             CALIFORNIAWATERS        Active 2017-08-24 07:00:00+00:00  9999-12-31 00:00:00.000          2019                1              1  Des Plaines            IL                      TANDEM                     Wheels old       33200       10200    3100         2145.328235           114502.95             32432.799              446.0\n2         469005701172               HARTUNG BROTHERS             HARTUNG BROTHERS    Terminated 2017-07-03 07:00:00+00:00  2022-07-12 00:00:00.000          2019                1              1  Des Plaines            IL                      TANDEM                     Wheels old       33200       10200    3100          199.400141             2145.55               616.969               11.0\n3         469005700208    CONSTELLATION BRANDS (3CRW)  CONSTELLATION BRANDS (3CRW)    Terminated 2015-02-18 08:00:00+00:00  2021-03-10 00:00:00.000          2019                1              1  Des Plaines            IL                      TANDEM                     Wheels old       33200       10200    3100         1139.458388            55804.33             21944.178              344.0\n4         469008059644  BALFOUR BEATTY EQUIPMENT ONLY                BALFOUR EQUIP        Active 2009-08-20 07:00:00+00:00  9999-12-31 00:00:00.000          2019                1              1  Des Plaines            IL                      TANDEM                     Wheels old       33200       10200    3100          701.569042            49047.39             18068.041              110.0",
            "text/html": "\u003cdiv\u003e\n\u003cstyle scoped\u003e\n    .dataframe tbody tr th:only-of-type {\n        vertical-align: middle;\n    }\n\n    .dataframe tbody tr th {\n        vertical-align: top;\n    }\n\n    .dataframe thead th {\n        text-align: right;\n    }\n\u003c/style\u003e\n\u003ctable border\u003d\"1\" class\u003d\"dataframe\"\u003e\n  \u003cthead\u003e\n    \u003ctr style\u003d\"text-align: right;\"\u003e\n      \u003cth\u003e\u003c/th\u003e\n      \u003cth\u003eCUSTOMER_ACCOUNT_ID\u003c/th\u003e\n      \u003cth\u003eCUSTOMER_ACCOUNT_NAME\u003c/th\u003e\n      \u003cth\u003eCUSTOMER\u003c/th\u003e\n      \u003cth\u003eACCOUNTSTATUS\u003c/th\u003e\n      \u003cth\u003eSETUP_DATE\u003c/th\u003e\n      \u003cth\u003eACCOUNT_CLOSED_DATE\u003c/th\u003e\n      \u003cth\u003eREVENUE_YEAR\u003c/th\u003e\n      \u003cth\u003eREVENUE_QUARTER\u003c/th\u003e\n      \u003cth\u003eREVENUE_MONTH\u003c/th\u003e\n      \u003cth\u003eACCOUNT_CITY\u003c/th\u003e\n      \u003cth\u003eACCOUNT_STATE\u003c/th\u003e\n      \u003cth\u003eCUSTOMER_SOURCE_SYSTEM_CODE\u003c/th\u003e\n      \u003cth\u003eCUSTOMER_BUSINESS_PROGRAM_NAME\u003c/th\u003e\n      \u003cth\u003eBI_CUS_PAR\u003c/th\u003e\n      \u003cth\u003eBI_PRODUCT\u003c/th\u003e\n      \u003cth\u003eBI_MRU\u003c/th\u003e\n      \u003cth\u003eREVENUE_AMOUNT_USD\u003c/th\u003e\n      \u003cth\u003eGROSS_SPEND_AMOUNT\u003c/th\u003e\n      \u003cth\u003ePURCHASE_GALLONS_QTY\u003c/th\u003e\n      \u003cth\u003eACTIVE_CARD_COUNT\u003c/th\u003e\n    \u003c/tr\u003e\n  \u003c/thead\u003e\n  \u003ctbody\u003e\n    \u003ctr\u003e\n      \u003cth\u003e0\u003c/th\u003e\n      \u003ctd\u003e469007639032\u003c/td\u003e\n      \u003ctd\u003eSIEMENS BLDG TECH (2)\u003c/td\u003e\n      \u003ctd\u003eSIEMENS MEDICAL\u003c/td\u003e\n      \u003ctd\u003eActive\u003c/td\u003e\n      \u003ctd\u003e2007-12-07 08:00:00+00:00\u003c/td\u003e\n      \u003ctd\u003e9999-12-31 00:00:00.000\u003c/td\u003e\n      \u003ctd\u003e2019\u003c/td\u003e\n      \u003ctd\u003e1\u003c/td\u003e\n      \u003ctd\u003e1\u003c/td\u003e\n      \u003ctd\u003eDes Plaines\u003c/td\u003e\n      \u003ctd\u003eIL\u003c/td\u003e\n      \u003ctd\u003eTANDEM\u003c/td\u003e\n      \u003ctd\u003eWheels old\u003c/td\u003e\n      \u003ctd\u003e33200\u003c/td\u003e\n      \u003ctd\u003e10200\u003c/td\u003e\n      \u003ctd\u003e3100\u003c/td\u003e\n      \u003ctd\u003e408.592520\u003c/td\u003e\n      \u003ctd\u003e18391.35\u003c/td\u003e\n      \u003ctd\u003e7602.992\u003c/td\u003e\n      \u003ctd\u003e119.0\u003c/td\u003e\n    \u003c/tr\u003e\n    \u003ctr\u003e\n      \u003cth\u003e1\u003c/th\u003e\n      \u003ctd\u003e469005701255\u003c/td\u003e\n      \u003ctd\u003eCALIFORNIA WATERS\u003c/td\u003e\n      \u003ctd\u003eCALIFORNIAWATERS\u003c/td\u003e\n      \u003ctd\u003eActive\u003c/td\u003e\n      \u003ctd\u003e2017-08-24 07:00:00+00:00\u003c/td\u003e\n      \u003ctd\u003e9999-12-31 00:00:00.000\u003c/td\u003e\n      \u003ctd\u003e2019\u003c/td\u003e\n      \u003ctd\u003e1\u003c/td\u003e\n      \u003ctd\u003e1\u003c/td\u003e\n      \u003ctd\u003eDes Plaines\u003c/td\u003e\n      \u003ctd\u003eIL\u003c/td\u003e\n      \u003ctd\u003eTANDEM\u003c/td\u003e\n      \u003ctd\u003eWheels old\u003c/td\u003e\n      \u003ctd\u003e33200\u003c/td\u003e\n      \u003ctd\u003e10200\u003c/td\u003e\n      \u003ctd\u003e3100\u003c/td\u003e\n      \u003ctd\u003e2145.328235\u003c/td\u003e\n      \u003ctd\u003e114502.95\u003c/td\u003e\n      \u003ctd\u003e32432.799\u003c/td\u003e\n      \u003ctd\u003e446.0\u003c/td\u003e\n    \u003c/tr\u003e\n    \u003ctr\u003e\n      \u003cth\u003e2\u003c/th\u003e\n      \u003ctd\u003e469005701172\u003c/td\u003e\n      \u003ctd\u003eHARTUNG BROTHERS\u003c/td\u003e\n      \u003ctd\u003eHARTUNG BROTHERS\u003c/td\u003e\n      \u003ctd\u003eTerminated\u003c/td\u003e\n      \u003ctd\u003e2017-07-03 07:00:00+00:00\u003c/td\u003e\n      \u003ctd\u003e2022-07-12 00:00:00.000\u003c/td\u003e\n      \u003ctd\u003e2019\u003c/td\u003e\n      \u003ctd\u003e1\u003c/td\u003e\n      \u003ctd\u003e1\u003c/td\u003e\n      \u003ctd\u003eDes Plaines\u003c/td\u003e\n      \u003ctd\u003eIL\u003c/td\u003e\n      \u003ctd\u003eTANDEM\u003c/td\u003e\n      \u003ctd\u003eWheels old\u003c/td\u003e\n      \u003ctd\u003e33200\u003c/td\u003e\n      \u003ctd\u003e10200\u003c/td\u003e\n      \u003ctd\u003e3100\u003c/td\u003e\n      \u003ctd\u003e199.400141\u003c/td\u003e\n      \u003ctd\u003e2145.55\u003c/td\u003e\n      \u003ctd\u003e616.969\u003c/td\u003e\n      \u003ctd\u003e11.0\u003c/td\u003e\n    \u003c/tr\u003e\n    \u003ctr\u003e\n      \u003cth\u003e3\u003c/th\u003e\n      \u003ctd\u003e469005700208\u003c/td\u003e\n      \u003ctd\u003eCONSTELLATION BRANDS (3CRW)\u003c/td\u003e\n      \u003ctd\u003eCONSTELLATION BRANDS (3CRW)\u003c/td\u003e\n      \u003ctd\u003eTerminated\u003c/td\u003e\n      \u003ctd\u003e2015-02-18 08:00:00+00:00\u003c/td\u003e\n      \u003ctd\u003e2021-03-10 00:00:00.000\u003c/td\u003e\n      \u003ctd\u003e2019\u003c/td\u003e\n      \u003ctd\u003e1\u003c/td\u003e\n      \u003ctd\u003e1\u003c/td\u003e\n      \u003ctd\u003eDes Plaines\u003c/td\u003e\n      \u003ctd\u003eIL\u003c/td\u003e\n      \u003ctd\u003eTANDEM\u003c/td\u003e\n      \u003ctd\u003eWheels old\u003c/td\u003e\n      \u003ctd\u003e33200\u003c/td\u003e\n      \u003ctd\u003e10200\u003c/td\u003e\n      \u003ctd\u003e3100\u003c/td\u003e\n      \u003ctd\u003e1139.458388\u003c/td\u003e\n      \u003ctd\u003e55804.33\u003c/td\u003e\n      \u003ctd\u003e21944.178\u003c/td\u003e\n      \u003ctd\u003e344.0\u003c/td\u003e\n    \u003c/tr\u003e\n    \u003ctr\u003e\n      \u003cth\u003e4\u003c/th\u003e\n      \u003ctd\u003e469008059644\u003c/td\u003e\n      \u003ctd\u003eBALFOUR BEATTY EQUIPMENT ONLY\u003c/td\u003e\n      \u003ctd\u003eBALFOUR EQUIP\u003c/td\u003e\n      \u003ctd\u003eActive\u003c/td\u003e\n      \u003ctd\u003e2009-08-20 07:00:00+00:00\u003c/td\u003e\n      \u003ctd\u003e9999-12-31 00:00:00.000\u003c/td\u003e\n      \u003ctd\u003e2019\u003c/td\u003e\n      \u003ctd\u003e1\u003c/td\u003e\n      \u003ctd\u003e1\u003c/td\u003e\n      \u003ctd\u003eDes Plaines\u003c/td\u003e\n      \u003ctd\u003eIL\u003c/td\u003e\n      \u003ctd\u003eTANDEM\u003c/td\u003e\n      \u003ctd\u003eWheels old\u003c/td\u003e\n      \u003ctd\u003e33200\u003c/td\u003e\n      \u003ctd\u003e10200\u003c/td\u003e\n      \u003ctd\u003e3100\u003c/td\u003e\n      \u003ctd\u003e701.569042\u003c/td\u003e\n      \u003ctd\u003e49047.39\u003c/td\u003e\n      \u003ctd\u003e18068.041\u003c/td\u003e\n      \u003ctd\u003e110.0\u003c/td\u003e\n    \u003c/tr\u003e\n  \u003c/tbody\u003e\n\u003c/table\u003e\n\u003c/div\u003e"
          },
          "metadata": {}
        }
      ]
    },
    {
      "execution_count": 65,
      "cell_type": "code",
      "metadata": {},
      "source": [
        "def date_tz_naive(pd_s):\n    return pd.to_datetime(pd_s).apply(lambda x:x.tz_localize(None))"
      ],
      "outputs": []
    },
    {
      "execution_count": 66,
      "cell_type": "code",
      "metadata": {},
      "source": [
        "print(len(df_v))\ndf_v[\u0027REVENUE_DATE\u0027] \u003d df_v.REVENUE_MONTH.astype(str) + \"/01/\" + df_v.REVENUE_YEAR.astype(str)\ndf_v[\u0027REVENUE_DATE\u0027] \u003d date_tz_naive(df_v[\u0027REVENUE_DATE\u0027])\nprint(len(df_v))\ndf_v.head()"
      ],
      "outputs": [
        {
          "output_type": "stream",
          "text": "21434\n21434\n",
          "name": "stdout"
        },
        {
          "output_type": "execute_result",
          "execution_count": 66,
          "data": {
            "text/plain": "   CUSTOMER_ACCOUNT_ID          CUSTOMER_ACCOUNT_NAME                     CUSTOMER ACCOUNTSTATUS                SETUP_DATE      ACCOUNT_CLOSED_DATE  REVENUE_YEAR  REVENUE_QUARTER  REVENUE_MONTH ACCOUNT_CITY ACCOUNT_STATE CUSTOMER_SOURCE_SYSTEM_CODE CUSTOMER_BUSINESS_PROGRAM_NAME  BI_CUS_PAR  BI_PRODUCT  BI_MRU  REVENUE_AMOUNT_USD  GROSS_SPEND_AMOUNT  PURCHASE_GALLONS_QTY  ACTIVE_CARD_COUNT REVENUE_DATE\n0         469007639032          SIEMENS BLDG TECH (2)              SIEMENS MEDICAL        Active 2007-12-07 08:00:00+00:00  9999-12-31 00:00:00.000          2019                1              1  Des Plaines            IL                      TANDEM                     Wheels old       33200       10200    3100          408.592520            18391.35              7602.992              119.0   2019-01-01\n1         469005701255              CALIFORNIA WATERS             CALIFORNIAWATERS        Active 2017-08-24 07:00:00+00:00  9999-12-31 00:00:00.000          2019                1              1  Des Plaines            IL                      TANDEM                     Wheels old       33200       10200    3100         2145.328235           114502.95             32432.799              446.0   2019-01-01\n2         469005701172               HARTUNG BROTHERS             HARTUNG BROTHERS    Terminated 2017-07-03 07:00:00+00:00  2022-07-12 00:00:00.000          2019                1              1  Des Plaines            IL                      TANDEM                     Wheels old       33200       10200    3100          199.400141             2145.55               616.969               11.0   2019-01-01\n3         469005700208    CONSTELLATION BRANDS (3CRW)  CONSTELLATION BRANDS (3CRW)    Terminated 2015-02-18 08:00:00+00:00  2021-03-10 00:00:00.000          2019                1              1  Des Plaines            IL                      TANDEM                     Wheels old       33200       10200    3100         1139.458388            55804.33             21944.178              344.0   2019-01-01\n4         469008059644  BALFOUR BEATTY EQUIPMENT ONLY                BALFOUR EQUIP        Active 2009-08-20 07:00:00+00:00  9999-12-31 00:00:00.000          2019                1              1  Des Plaines            IL                      TANDEM                     Wheels old       33200       10200    3100          701.569042            49047.39             18068.041              110.0   2019-01-01",
            "text/html": "\u003cdiv\u003e\n\u003cstyle scoped\u003e\n    .dataframe tbody tr th:only-of-type {\n        vertical-align: middle;\n    }\n\n    .dataframe tbody tr th {\n        vertical-align: top;\n    }\n\n    .dataframe thead th {\n        text-align: right;\n    }\n\u003c/style\u003e\n\u003ctable border\u003d\"1\" class\u003d\"dataframe\"\u003e\n  \u003cthead\u003e\n    \u003ctr style\u003d\"text-align: right;\"\u003e\n      \u003cth\u003e\u003c/th\u003e\n      \u003cth\u003eCUSTOMER_ACCOUNT_ID\u003c/th\u003e\n      \u003cth\u003eCUSTOMER_ACCOUNT_NAME\u003c/th\u003e\n      \u003cth\u003eCUSTOMER\u003c/th\u003e\n      \u003cth\u003eACCOUNTSTATUS\u003c/th\u003e\n      \u003cth\u003eSETUP_DATE\u003c/th\u003e\n      \u003cth\u003eACCOUNT_CLOSED_DATE\u003c/th\u003e\n      \u003cth\u003eREVENUE_YEAR\u003c/th\u003e\n      \u003cth\u003eREVENUE_QUARTER\u003c/th\u003e\n      \u003cth\u003eREVENUE_MONTH\u003c/th\u003e\n      \u003cth\u003eACCOUNT_CITY\u003c/th\u003e\n      \u003cth\u003eACCOUNT_STATE\u003c/th\u003e\n      \u003cth\u003eCUSTOMER_SOURCE_SYSTEM_CODE\u003c/th\u003e\n      \u003cth\u003eCUSTOMER_BUSINESS_PROGRAM_NAME\u003c/th\u003e\n      \u003cth\u003eBI_CUS_PAR\u003c/th\u003e\n      \u003cth\u003eBI_PRODUCT\u003c/th\u003e\n      \u003cth\u003eBI_MRU\u003c/th\u003e\n      \u003cth\u003eREVENUE_AMOUNT_USD\u003c/th\u003e\n      \u003cth\u003eGROSS_SPEND_AMOUNT\u003c/th\u003e\n      \u003cth\u003ePURCHASE_GALLONS_QTY\u003c/th\u003e\n      \u003cth\u003eACTIVE_CARD_COUNT\u003c/th\u003e\n      \u003cth\u003eREVENUE_DATE\u003c/th\u003e\n    \u003c/tr\u003e\n  \u003c/thead\u003e\n  \u003ctbody\u003e\n    \u003ctr\u003e\n      \u003cth\u003e0\u003c/th\u003e\n      \u003ctd\u003e469007639032\u003c/td\u003e\n      \u003ctd\u003eSIEMENS BLDG TECH (2)\u003c/td\u003e\n      \u003ctd\u003eSIEMENS MEDICAL\u003c/td\u003e\n      \u003ctd\u003eActive\u003c/td\u003e\n      \u003ctd\u003e2007-12-07 08:00:00+00:00\u003c/td\u003e\n      \u003ctd\u003e9999-12-31 00:00:00.000\u003c/td\u003e\n      \u003ctd\u003e2019\u003c/td\u003e\n      \u003ctd\u003e1\u003c/td\u003e\n      \u003ctd\u003e1\u003c/td\u003e\n      \u003ctd\u003eDes Plaines\u003c/td\u003e\n      \u003ctd\u003eIL\u003c/td\u003e\n      \u003ctd\u003eTANDEM\u003c/td\u003e\n      \u003ctd\u003eWheels old\u003c/td\u003e\n      \u003ctd\u003e33200\u003c/td\u003e\n      \u003ctd\u003e10200\u003c/td\u003e\n      \u003ctd\u003e3100\u003c/td\u003e\n      \u003ctd\u003e408.592520\u003c/td\u003e\n      \u003ctd\u003e18391.35\u003c/td\u003e\n      \u003ctd\u003e7602.992\u003c/td\u003e\n      \u003ctd\u003e119.0\u003c/td\u003e\n      \u003ctd\u003e2019-01-01\u003c/td\u003e\n    \u003c/tr\u003e\n    \u003ctr\u003e\n      \u003cth\u003e1\u003c/th\u003e\n      \u003ctd\u003e469005701255\u003c/td\u003e\n      \u003ctd\u003eCALIFORNIA WATERS\u003c/td\u003e\n      \u003ctd\u003eCALIFORNIAWATERS\u003c/td\u003e\n      \u003ctd\u003eActive\u003c/td\u003e\n      \u003ctd\u003e2017-08-24 07:00:00+00:00\u003c/td\u003e\n      \u003ctd\u003e9999-12-31 00:00:00.000\u003c/td\u003e\n      \u003ctd\u003e2019\u003c/td\u003e\n      \u003ctd\u003e1\u003c/td\u003e\n      \u003ctd\u003e1\u003c/td\u003e\n      \u003ctd\u003eDes Plaines\u003c/td\u003e\n      \u003ctd\u003eIL\u003c/td\u003e\n      \u003ctd\u003eTANDEM\u003c/td\u003e\n      \u003ctd\u003eWheels old\u003c/td\u003e\n      \u003ctd\u003e33200\u003c/td\u003e\n      \u003ctd\u003e10200\u003c/td\u003e\n      \u003ctd\u003e3100\u003c/td\u003e\n      \u003ctd\u003e2145.328235\u003c/td\u003e\n      \u003ctd\u003e114502.95\u003c/td\u003e\n      \u003ctd\u003e32432.799\u003c/td\u003e\n      \u003ctd\u003e446.0\u003c/td\u003e\n      \u003ctd\u003e2019-01-01\u003c/td\u003e\n    \u003c/tr\u003e\n    \u003ctr\u003e\n      \u003cth\u003e2\u003c/th\u003e\n      \u003ctd\u003e469005701172\u003c/td\u003e\n      \u003ctd\u003eHARTUNG BROTHERS\u003c/td\u003e\n      \u003ctd\u003eHARTUNG BROTHERS\u003c/td\u003e\n      \u003ctd\u003eTerminated\u003c/td\u003e\n      \u003ctd\u003e2017-07-03 07:00:00+00:00\u003c/td\u003e\n      \u003ctd\u003e2022-07-12 00:00:00.000\u003c/td\u003e\n      \u003ctd\u003e2019\u003c/td\u003e\n      \u003ctd\u003e1\u003c/td\u003e\n      \u003ctd\u003e1\u003c/td\u003e\n      \u003ctd\u003eDes Plaines\u003c/td\u003e\n      \u003ctd\u003eIL\u003c/td\u003e\n      \u003ctd\u003eTANDEM\u003c/td\u003e\n      \u003ctd\u003eWheels old\u003c/td\u003e\n      \u003ctd\u003e33200\u003c/td\u003e\n      \u003ctd\u003e10200\u003c/td\u003e\n      \u003ctd\u003e3100\u003c/td\u003e\n      \u003ctd\u003e199.400141\u003c/td\u003e\n      \u003ctd\u003e2145.55\u003c/td\u003e\n      \u003ctd\u003e616.969\u003c/td\u003e\n      \u003ctd\u003e11.0\u003c/td\u003e\n      \u003ctd\u003e2019-01-01\u003c/td\u003e\n    \u003c/tr\u003e\n    \u003ctr\u003e\n      \u003cth\u003e3\u003c/th\u003e\n      \u003ctd\u003e469005700208\u003c/td\u003e\n      \u003ctd\u003eCONSTELLATION BRANDS (3CRW)\u003c/td\u003e\n      \u003ctd\u003eCONSTELLATION BRANDS (3CRW)\u003c/td\u003e\n      \u003ctd\u003eTerminated\u003c/td\u003e\n      \u003ctd\u003e2015-02-18 08:00:00+00:00\u003c/td\u003e\n      \u003ctd\u003e2021-03-10 00:00:00.000\u003c/td\u003e\n      \u003ctd\u003e2019\u003c/td\u003e\n      \u003ctd\u003e1\u003c/td\u003e\n      \u003ctd\u003e1\u003c/td\u003e\n      \u003ctd\u003eDes Plaines\u003c/td\u003e\n      \u003ctd\u003eIL\u003c/td\u003e\n      \u003ctd\u003eTANDEM\u003c/td\u003e\n      \u003ctd\u003eWheels old\u003c/td\u003e\n      \u003ctd\u003e33200\u003c/td\u003e\n      \u003ctd\u003e10200\u003c/td\u003e\n      \u003ctd\u003e3100\u003c/td\u003e\n      \u003ctd\u003e1139.458388\u003c/td\u003e\n      \u003ctd\u003e55804.33\u003c/td\u003e\n      \u003ctd\u003e21944.178\u003c/td\u003e\n      \u003ctd\u003e344.0\u003c/td\u003e\n      \u003ctd\u003e2019-01-01\u003c/td\u003e\n    \u003c/tr\u003e\n    \u003ctr\u003e\n      \u003cth\u003e4\u003c/th\u003e\n      \u003ctd\u003e469008059644\u003c/td\u003e\n      \u003ctd\u003eBALFOUR BEATTY EQUIPMENT ONLY\u003c/td\u003e\n      \u003ctd\u003eBALFOUR EQUIP\u003c/td\u003e\n      \u003ctd\u003eActive\u003c/td\u003e\n      \u003ctd\u003e2009-08-20 07:00:00+00:00\u003c/td\u003e\n      \u003ctd\u003e9999-12-31 00:00:00.000\u003c/td\u003e\n      \u003ctd\u003e2019\u003c/td\u003e\n      \u003ctd\u003e1\u003c/td\u003e\n      \u003ctd\u003e1\u003c/td\u003e\n      \u003ctd\u003eDes Plaines\u003c/td\u003e\n      \u003ctd\u003eIL\u003c/td\u003e\n      \u003ctd\u003eTANDEM\u003c/td\u003e\n      \u003ctd\u003eWheels old\u003c/td\u003e\n      \u003ctd\u003e33200\u003c/td\u003e\n      \u003ctd\u003e10200\u003c/td\u003e\n      \u003ctd\u003e3100\u003c/td\u003e\n      \u003ctd\u003e701.569042\u003c/td\u003e\n      \u003ctd\u003e49047.39\u003c/td\u003e\n      \u003ctd\u003e18068.041\u003c/td\u003e\n      \u003ctd\u003e110.0\u003c/td\u003e\n      \u003ctd\u003e2019-01-01\u003c/td\u003e\n    \u003c/tr\u003e\n  \u003c/tbody\u003e\n\u003c/table\u003e\n\u003c/div\u003e"
          },
          "metadata": {}
        }
      ]
    },
    {
      "execution_count": 67,
      "cell_type": "code",
      "metadata": {},
      "source": [
        "print(len(df_v))\ndf_v \u003d df_v[df_v[\u0027REVENUE_DATE\u0027].between(pd.to_datetime(start_date), pd.to_datetime(end_date))].copy()\ndf_v \u003d df_v.dropna(subset\u003d[\u0027CUSTOMER_ACCOUNT_ID\u0027])\ndf_v \u003d df_v[df_v[\u0027CUSTOMER_SOURCE_SYSTEM_CODE\u0027].isin([\u0027TANDEM\u0027, \u0027SIEBEL\u0027])]\nprint(len(df_v))"
      ],
      "outputs": [
        {
          "output_type": "stream",
          "text": "21434\n21434\n",
          "name": "stdout"
        }
      ]
    },
    {
      "execution_count": 68,
      "cell_type": "code",
      "metadata": {},
      "source": [
        "df_v[\u0027CUSTOMER_ACCOUNT_ID\u0027] \u003d df_v[\u0027CUSTOMER_ACCOUNT_ID\u0027].astype(\u0027int64\u0027)\ndf_v[\u0027REVENUE_DATE\u0027] \u003d pd.to_datetime(df_v[\u0027REVENUE_DATE\u0027])"
      ],
      "outputs": []
    },
    {
      "execution_count": 77,
      "cell_type": "code",
      "metadata": {},
      "source": [
        "import pandas as pd\nimport numpy as np\nfrom tqdm import tqdm\nfrom dateutil.relativedelta import relativedelta\nfrom helper import *\n\ndef split_list(lst, n):\n    \u0027\u0027\u0027\n    Splits a list into almost equal n parts\n    \u0027\u0027\u0027\n    k, m \u003d divmod(len(lst), n)\n    return [lst[i*k+min(i, m):(i+1)*k+min(i+1, m)] for i in range(n)]\n\nmatch_type \u003d \"program_flip\"\nperiod_start_date \u003d start_date\nperiod_end_date \u003d None\ndrawup_window \u003d drawup_lookfwd_period\nstatistics_period \u003d statistics_period\nsplit \u003d None\n\nif match_type \u003d\u003d \u0027conversion\u0027:\n    df_v \u003d df_v[df_v[\u0027CUSTOMER_SOURCE_SYSTEM_CODE\u0027] \u003d\u003d \u0027SIEBEL\u0027].copy()\n\nperiod_start_date \u003d pd.to_datetime(period_start_date)\ndf_v \u003d df_v[df_v[\u0027REVENUE_DATE\u0027] \u003e\u003d period_start_date].copy()\n\nif period_end_date:\n    period_end_date \u003d pd.to_datetime(period_end_date)\n    df_v \u003d df_v[df_v[\u0027revenue_date\u0027] \u003c\u003d period_end_date].copy()\n\nall_account_ids \u003d list(df_v[\u0027CUSTOMER_ACCOUNT_ID\u0027].unique())\n\nif not split:\n    split\u003d1\n\nall_account_ids_n \u003d list(split_list(all_account_ids, split))\n\nrise_df \u003d pd.DataFrame()\n\nfor sublist in tqdm(all_account_ids_n):\n\n    du_find \u003d df_v[df_v[\u0027CUSTOMER_ACCOUNT_ID\u0027].isin(sublist)].copy()\n\n    ## Filter Non-Zero Records and find the first non zero transaction date\n    du_find \u003d du_find[du_find[\u0027PURCHASE_GALLONS_QTY\u0027] \u003e 0]\n\n    du_find.sort_values([\u0027REVENUE_DATE\u0027], inplace\u003dTrue)\n\n    du_agg \u003d du_find.groupby([\u0027CUSTOMER_ACCOUNT_ID\u0027,\n                      \u0027CUSTOMER_ACCOUNT_NAME\u0027,\n                      \u0027CUSTOMER\u0027,\n                      \u0027CUSTOMER_SOURCE_SYSTEM_CODE\u0027,\n                      \u0027ACCOUNT_CITY\u0027,\n                      \u0027ACCOUNT_STATE\u0027,\n                      \u0027CUSTOMER_BUSINESS_PROGRAM_NAME\u0027], as_index\u003dFalse)[[\u0027REVENUE_DATE\u0027]].min()\n\n    du_agg[\u0027DU_INDICATOR\u0027] \u003d np.where((du_agg[\u0027REVENUE_DATE\u0027] \u003e period_start_date), True, False)\n    du_agg.rename(columns\u003d{\u0027REVENUE_DATE\u0027:\u0027DU_DATE\u0027}, inplace\u003dTrue)\n    du_agg[\u0027DU_DATE\u0027] -\u003d pd.DateOffset(months\u003d1)\n    du_agg \u003d du_agg[du_agg[\u0027DU_INDICATOR\u0027] \u003d\u003d True].drop_duplicates([\u0027CUSTOMER_ACCOUNT_ID\u0027])\n\n    ## list of customers who are drawing up\n    du_customers \u003d list(du_agg[\u0027CUSTOMER_ACCOUNT_ID\u0027])\n\n    if len(du_customers) \u003d\u003d 0:\n        continue\n\n    du_find \u003d du_find[du_find[\u0027CUSTOMER_ACCOUNT_ID\u0027].isin(du_customers)].copy()\n\n    du_find \u003d du_find.groupby(\u0027CUSTOMER_ACCOUNT_ID\u0027).apply(lambda group: group.iloc[:-1, 1:]).reset_index()\n    du_find.drop(\u0027level_1\u0027, axis\u003d1, inplace\u003dTrue)\n\n    du_find \u003d du_find.merge(du_agg, left_on\u003d[\u0027CUSTOMER_ACCOUNT_ID\u0027], right_on\u003d[\u0027CUSTOMER_ACCOUNT_ID\u0027])\n\n    du_find[\u0027DU_AVG_START\u0027] \u003d du_find[\u0027DU_DATE\u0027]  + pd.DateOffset(months\u003ddrawup_window)\n    du_find[\u0027DU_AVG_END\u0027] \u003d du_find[\u0027DU_DATE\u0027]  + pd.DateOffset(months\u003ddrawup_window+statistics_period-1)\n\n    du_find_12 \u003d du_find[du_find[\u0027REVENUE_DATE\u0027].between(du_find[\u0027DU_AVG_START\u0027], du_find[\u0027DU_AVG_END\u0027])].copy()\n\n    du_stat \u003d du_find_12.groupby([\u0027CUSTOMER_ACCOUNT_ID\u0027], as_index\u003dFalse).agg({\u0027PURCHASE_GALLONS_QTY\u0027:[\u0027mean\u0027,\u0027std\u0027]})\n\n    du_stat.columns \u003d [\u0027CUSTOMER_ACCOUNT_ID\u0027, \u0027mean_du\u0027,\u0027std_du\u0027]\n\n    rise_df_ \u003d du_agg.merge(du_stat, left_on\u003d\u0027CUSTOMER_ACCOUNT_ID\u0027, right_on\u003d\u0027CUSTOMER_ACCOUNT_ID\u0027, how\u003d\u0027left\u0027)\n\n    rise_df \u003d pd.concat([rise_df, rise_df_], ignore_index\u003dTrue)\n\nrise_df.head()\n\nrise_df.rename(columns\u003d{\u0027customer_account_id\u0027:\u0027customer_account_id_du\u0027,\n                    \u0027customer_account_name\u0027: \u0027customer_account_name_du\u0027,\n                    \u0027customer_name\u0027: \u0027customer_name_du\u0027}, inplace\u003dTrue)\n\nrise_df.rename(columns\u003d{\u0027mean_du\u0027:\u0027DU_MEAN\u0027,\n                       \u0027std_du\u0027:\u0027DU_STD\u0027}, inplace\u003dTrue)\n\nprint(len(rise_df))"
      ],
      "outputs": [
        {
          "output_type": "stream",
          "text": "100%|██████████| 1/1 [00:00\u003c00:00,  1.48it/s]",
          "name": "stderr"
        },
        {
          "output_type": "stream",
          "text": "372\n",
          "name": "stdout"
        },
        {
          "output_type": "stream",
          "text": "\n",
          "name": "stderr"
        }
      ]
    },
    {
      "execution_count": 76,
      "cell_type": "code",
      "metadata": {},
      "source": [
        "rise_df \u003d rise_df[[\u0027CUSTOMER_ACCOUNT_ID\u0027,\u0027DU_DATE\u0027,\u0027DU_MEAN\u0027,\u0027DU_STD\u0027]]\nrise_df.head()"
      ],
      "outputs": [
        {
          "output_type": "execute_result",
          "execution_count": 76,
          "data": {
            "text/plain": "   CUSTOMER_ACCOUNT_ID_DU    DU_DATE     DU_MEAN       DU_STD\n0            469004778940 2019-02-01     14.0530    10.156882\n1            469004997029 2019-01-01     33.8624    11.763360\n2            469005700398 2019-05-01     17.5300          NaN\n3            469005701834 2019-01-01    173.7280    47.885245\n4            469005702030 2019-01-01  28401.1210  1225.110887",
            "text/html": "\u003cdiv\u003e\n\u003cstyle scoped\u003e\n    .dataframe tbody tr th:only-of-type {\n        vertical-align: middle;\n    }\n\n    .dataframe tbody tr th {\n        vertical-align: top;\n    }\n\n    .dataframe thead th {\n        text-align: right;\n    }\n\u003c/style\u003e\n\u003ctable border\u003d\"1\" class\u003d\"dataframe\"\u003e\n  \u003cthead\u003e\n    \u003ctr style\u003d\"text-align: right;\"\u003e\n      \u003cth\u003e\u003c/th\u003e\n      \u003cth\u003eCUSTOMER_ACCOUNT_ID_DU\u003c/th\u003e\n      \u003cth\u003eDU_DATE\u003c/th\u003e\n      \u003cth\u003eDU_MEAN\u003c/th\u003e\n      \u003cth\u003eDU_STD\u003c/th\u003e\n    \u003c/tr\u003e\n  \u003c/thead\u003e\n  \u003ctbody\u003e\n    \u003ctr\u003e\n      \u003cth\u003e0\u003c/th\u003e\n      \u003ctd\u003e469004778940\u003c/td\u003e\n      \u003ctd\u003e2019-02-01\u003c/td\u003e\n      \u003ctd\u003e14.0530\u003c/td\u003e\n      \u003ctd\u003e10.156882\u003c/td\u003e\n    \u003c/tr\u003e\n    \u003ctr\u003e\n      \u003cth\u003e1\u003c/th\u003e\n      \u003ctd\u003e469004997029\u003c/td\u003e\n      \u003ctd\u003e2019-01-01\u003c/td\u003e\n      \u003ctd\u003e33.8624\u003c/td\u003e\n      \u003ctd\u003e11.763360\u003c/td\u003e\n    \u003c/tr\u003e\n    \u003ctr\u003e\n      \u003cth\u003e2\u003c/th\u003e\n      \u003ctd\u003e469005700398\u003c/td\u003e\n      \u003ctd\u003e2019-05-01\u003c/td\u003e\n      \u003ctd\u003e17.5300\u003c/td\u003e\n      \u003ctd\u003eNaN\u003c/td\u003e\n    \u003c/tr\u003e\n    \u003ctr\u003e\n      \u003cth\u003e3\u003c/th\u003e\n      \u003ctd\u003e469005701834\u003c/td\u003e\n      \u003ctd\u003e2019-01-01\u003c/td\u003e\n      \u003ctd\u003e173.7280\u003c/td\u003e\n      \u003ctd\u003e47.885245\u003c/td\u003e\n    \u003c/tr\u003e\n    \u003ctr\u003e\n      \u003cth\u003e4\u003c/th\u003e\n      \u003ctd\u003e469005702030\u003c/td\u003e\n      \u003ctd\u003e2019-01-01\u003c/td\u003e\n      \u003ctd\u003e28401.1210\u003c/td\u003e\n      \u003ctd\u003e1225.110887\u003c/td\u003e\n    \u003c/tr\u003e\n  \u003c/tbody\u003e\n\u003c/table\u003e\n\u003c/div\u003e"
          },
          "metadata": {}
        }
      ]
    },
    {
      "execution_count": 0,
      "cell_type": "code",
      "metadata": {},
      "source": [
        "rise_df[[\u0027CUSTOMER_ACCOUNT_ID\u0027,\u0027DU_DATE\u0027]]"
      ],
      "outputs": []
    },
    {
      "execution_count": 0,
      "cell_type": "code",
      "metadata": {},
      "source": [
        "df_v.head()"
      ],
      "outputs": []
    },
    {
      "execution_count": 0,
      "cell_type": "code",
      "metadata": {},
      "source": [
        "# Compute recipe outputs from inputs\n# TODO: Replace this part by your actual code that computes the output, as a Pandas dataframe\n# NB: DSS also supports other kinds of APIs for reading and writing data. Please see doc.\n\n#CALCULATED_DRAW_UPS_df \u003d NAFCUSTOMER_REVENUE_BY_CUSTOMER_LIMITED_df # For this sample code, simply copy input to output\n\n# Write recipe outputs\n#CALCULATED_DRAW_UPS \u003d dataiku.Dataset(\"CALCULATED_DRAW_UPS\")\n#CALCULATED_DRAW_UPS.write_with_schema(CALCULATED_DRAW_UPS_df)"
      ],
      "outputs": []
    }
  ]
}