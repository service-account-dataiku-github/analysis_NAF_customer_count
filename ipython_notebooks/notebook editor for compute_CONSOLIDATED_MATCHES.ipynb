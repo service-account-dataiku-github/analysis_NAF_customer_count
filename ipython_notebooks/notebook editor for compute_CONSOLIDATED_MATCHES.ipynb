{
  "metadata": {
    "kernelspec": {
      "name": "py-dku-venv-env_clc",
      "display_name": "Python (env env_clc)",
      "language": "python"
    },
    "associatedRecipe": "compute_CONSOLIDATED_MATCHES",
    "dkuGit": {
      "lastInteraction": 0
    },
    "creationTag": {
      "versionNumber": 0,
      "lastModifiedBy": {
        "login": "Daniel.Vandermeer"
      },
      "lastModifiedOn": 1666015248584
    },
    "creator": "Daniel.Vandermeer",
    "createdOn": 1666015248584,
    "tags": [
      "recipe-editor"
    ],
    "customFields": {},
    "hide_input": false,
    "modifiedBy": "Daniel.Vandermeer",
    "language_info": {
      "name": "python",
      "version": "3.6.8",
      "mimetype": "text/x-python",
      "codemirror_mode": {
        "name": "ipython",
        "version": 3
      },
      "pygments_lexer": "ipython3",
      "nbconvert_exporter": "python",
      "file_extension": ".py"
    }
  },
  "nbformat": 4,
  "nbformat_minor": 1,
  "cells": [
    {
      "execution_count": 11,
      "cell_type": "code",
      "metadata": {},
      "source": [
        "# -*- coding: utf-8 -*-\nimport dataiku\nimport pandas as pd, numpy as np\nfrom dataiku import pandasutils as pdu\n\n# Read recipe inputs\nCALCULATED_CARD_DRAW_UPS \u003d dataiku.Dataset(\"CALCULATED_CARD_DRAW_UPS\")\nCALCULATED_CARD_DRAW_UPS_df \u003d CALCULATED_CARD_DRAW_UPS.get_dataframe()\n\nCALCULATED_CARD_DRAW_UPS_FULL \u003d dataiku.Dataset(\"CALCULATED_CARD_DRAW_UPS_FULL\")\nCALCULATED_CARD_DRAW_UPS_FULL_df \u003d CALCULATED_CARD_DRAW_UPS_FULL.get_dataframe()\n\nCALCULATED_CARD_DRAW_DOWNS \u003d dataiku.Dataset(\"CALCULATED_CARD_DRAW_DOWNS\")\nCALCULATED_CARD_DRAW_DOWNS_df \u003d CALCULATED_CARD_DRAW_DOWNS.get_dataframe()\n\nCALCULATED_CARD_DRAW_DOWNS_FULL \u003d dataiku.Dataset(\"CALCULATED_CARD_DRAW_DOWNS_FULL\")\nCALCULATED_CARD_DRAW_DOWNS_FULL_df \u003d CALCULATED_CARD_DRAW_DOWNS_FULL.get_dataframe()\n\nCOMMON_WORDS \u003d dataiku.Dataset(\"NAFCUSTOMER_COMMON_WORDS_IN_NAMES\")\nCOMMON_WORDS_df \u003d COMMON_WORDS.get_dataframe()"
      ],
      "outputs": []
    },
    {
      "execution_count": 12,
      "cell_type": "code",
      "metadata": {},
      "source": [
        "df_down \u003d CALCULATED_CARD_DRAW_DOWNS_df\ndf_down_full \u003d CALCULATED_CARD_DRAW_DOWNS_FULL_df\ndf_up \u003d CALCULATED_CARD_DRAW_UPS_df\ndf_up_full \u003d CALCULATED_CARD_DRAW_UPS_FULL_df\ndf_common \u003d COMMON_WORDS_df\n\ndf_down.sort_values([\u0027CUSTOMER\u0027], inplace\u003dTrue)\ndf_down_full.sort_values([\u0027CUSTOMER\u0027], inplace\u003dTrue)\ndf_up.sort_values([\u0027CUSTOMER\u0027], inplace\u003dTrue)\ndf_up_full.sort_values([\u0027CUSTOMER\u0027], inplace\u003dTrue)\ndf_common.sort_values([\u0027WORD\u0027], inplace\u003dTrue)\n\nprint(len(df_down), \"draw downs\")\nprint(len(df_down_full), \"draw downs full\")\nprint(len(df_up), \"draw ups\")\nprint(len(df_up_full), \"draw ups full\")\nprint(len(df_common), \"common words\")"
      ],
      "outputs": [
        {
          "output_type": "stream",
          "text": "194 draw downs\n182341 draw downs full\n322 draw ups\n351542 draw ups full\n2173 common words\n",
          "name": "stdout"
        }
      ]
    },
    {
      "execution_count": 24,
      "cell_type": "code",
      "metadata": {},
      "source": [
        "df_down.head()"
      ],
      "outputs": [
        {
          "output_type": "execute_result",
          "execution_count": 24,
          "data": {
            "text/plain": "                                CUSTOMER            DRAW_DOWN_DATE   MEAN_DD    STD_DD  ACTIVE_CARD_MAX\n20662                    C  A AUTO GLASS 2019-06-01 00:00:00+00:00       NaN       NaN              1.0\n20661            C  A PAINT  REMODEL INC 2021-08-01 00:00:00+00:00  7.333333  1.614330             10.0\n20660                  C  A PAINTING LLC 2021-07-01 00:00:00+00:00  2.250000  0.965307              5.0\n20659  C  A PLUMBING HEATING AND COOLING 2021-02-01 00:00:00+00:00  3.916667  0.288675              4.0\n20658     C  A RESIDENTIAL SOLUTIONS LLC 2021-07-01 00:00:00+00:00       NaN       NaN              2.0",
            "text/html": "\u003cdiv\u003e\n\u003cstyle scoped\u003e\n    .dataframe tbody tr th:only-of-type {\n        vertical-align: middle;\n    }\n\n    .dataframe tbody tr th {\n        vertical-align: top;\n    }\n\n    .dataframe thead th {\n        text-align: right;\n    }\n\u003c/style\u003e\n\u003ctable border\u003d\"1\" class\u003d\"dataframe\"\u003e\n  \u003cthead\u003e\n    \u003ctr style\u003d\"text-align: right;\"\u003e\n      \u003cth\u003e\u003c/th\u003e\n      \u003cth\u003eCUSTOMER\u003c/th\u003e\n      \u003cth\u003eDRAW_DOWN_DATE\u003c/th\u003e\n      \u003cth\u003eMEAN_DD\u003c/th\u003e\n      \u003cth\u003eSTD_DD\u003c/th\u003e\n      \u003cth\u003eACTIVE_CARD_MAX\u003c/th\u003e\n    \u003c/tr\u003e\n  \u003c/thead\u003e\n  \u003ctbody\u003e\n    \u003ctr\u003e\n      \u003cth\u003e20662\u003c/th\u003e\n      \u003ctd\u003eC  A AUTO GLASS\u003c/td\u003e\n      \u003ctd\u003e2019-06-01 00:00:00+00:00\u003c/td\u003e\n      \u003ctd\u003eNaN\u003c/td\u003e\n      \u003ctd\u003eNaN\u003c/td\u003e\n      \u003ctd\u003e1.0\u003c/td\u003e\n    \u003c/tr\u003e\n    \u003ctr\u003e\n      \u003cth\u003e20661\u003c/th\u003e\n      \u003ctd\u003eC  A PAINT  REMODEL INC\u003c/td\u003e\n      \u003ctd\u003e2021-08-01 00:00:00+00:00\u003c/td\u003e\n      \u003ctd\u003e7.333333\u003c/td\u003e\n      \u003ctd\u003e1.614330\u003c/td\u003e\n      \u003ctd\u003e10.0\u003c/td\u003e\n    \u003c/tr\u003e\n    \u003ctr\u003e\n      \u003cth\u003e20660\u003c/th\u003e\n      \u003ctd\u003eC  A PAINTING LLC\u003c/td\u003e\n      \u003ctd\u003e2021-07-01 00:00:00+00:00\u003c/td\u003e\n      \u003ctd\u003e2.250000\u003c/td\u003e\n      \u003ctd\u003e0.965307\u003c/td\u003e\n      \u003ctd\u003e5.0\u003c/td\u003e\n    \u003c/tr\u003e\n    \u003ctr\u003e\n      \u003cth\u003e20659\u003c/th\u003e\n      \u003ctd\u003eC  A PLUMBING HEATING AND COOLING\u003c/td\u003e\n      \u003ctd\u003e2021-02-01 00:00:00+00:00\u003c/td\u003e\n      \u003ctd\u003e3.916667\u003c/td\u003e\n      \u003ctd\u003e0.288675\u003c/td\u003e\n      \u003ctd\u003e4.0\u003c/td\u003e\n    \u003c/tr\u003e\n    \u003ctr\u003e\n      \u003cth\u003e20658\u003c/th\u003e\n      \u003ctd\u003eC  A RESIDENTIAL SOLUTIONS LLC\u003c/td\u003e\n      \u003ctd\u003e2021-07-01 00:00:00+00:00\u003c/td\u003e\n      \u003ctd\u003eNaN\u003c/td\u003e\n      \u003ctd\u003eNaN\u003c/td\u003e\n      \u003ctd\u003e2.0\u003c/td\u003e\n    \u003c/tr\u003e\n  \u003c/tbody\u003e\n\u003c/table\u003e\n\u003c/div\u003e"
          },
          "metadata": {}
        }
      ]
    },
    {
      "execution_count": 37,
      "cell_type": "code",
      "metadata": {},
      "source": [
        "print(len(df_down_full))\ndf_down \u003d df_down_full[df_down_full.CUSTOMER.str.startswith(\u0027A\u0027)]\ndf_down \u003d df_down[df_down[\u0027DRAW_DOWN_DATE\u0027].dt.year\u003d\u003d2022]\nprint(len(df_down))\n\nprint(len(df_up_full))\ndf_up \u003d df_up_full[df_up_full.CUSTOMER.str.startswith(\u0027A\u0027)]\ndf_up \u003d df_up[df_up[\u0027DRAW_UP_DATE\u0027].dt.year\u003d\u003d2022]\nprint(len(df_up))"
      ],
      "outputs": [
        {
          "output_type": "stream",
          "text": "182341\n1252\n351542\n4706\n",
          "name": "stdout"
        }
      ]
    },
    {
      "execution_count": 22,
      "cell_type": "code",
      "metadata": {},
      "source": [
        "print(len(df_up))\ndf_up \u003d df_up[df_up[\u0027DRAW_UP_DATE\u0027].dt.year\u003d\u003d2022]\nprint(len(df_up))"
      ],
      "outputs": [
        {
          "output_type": "stream",
          "text": "30756\n4804\n",
          "name": "stdout"
        }
      ]
    },
    {
      "execution_count": 13,
      "cell_type": "code",
      "metadata": {},
      "source": [
        "df_down.head()\ndf_common.head()"
      ],
      "outputs": [
        {
          "output_type": "execute_result",
          "execution_count": 13,
          "data": {
            "text/plain": "      WORD  COUNTS\n1459   1ST     337\n923   5R82     192\n1725    A1     517\n1194    AA     244\n1372   AAA     298",
            "text/html": "\u003cdiv\u003e\n\u003cstyle scoped\u003e\n    .dataframe tbody tr th:only-of-type {\n        vertical-align: middle;\n    }\n\n    .dataframe tbody tr th {\n        vertical-align: top;\n    }\n\n    .dataframe thead th {\n        text-align: right;\n    }\n\u003c/style\u003e\n\u003ctable border\u003d\"1\" class\u003d\"dataframe\"\u003e\n  \u003cthead\u003e\n    \u003ctr style\u003d\"text-align: right;\"\u003e\n      \u003cth\u003e\u003c/th\u003e\n      \u003cth\u003eWORD\u003c/th\u003e\n      \u003cth\u003eCOUNTS\u003c/th\u003e\n    \u003c/tr\u003e\n  \u003c/thead\u003e\n  \u003ctbody\u003e\n    \u003ctr\u003e\n      \u003cth\u003e1459\u003c/th\u003e\n      \u003ctd\u003e1ST\u003c/td\u003e\n      \u003ctd\u003e337\u003c/td\u003e\n    \u003c/tr\u003e\n    \u003ctr\u003e\n      \u003cth\u003e923\u003c/th\u003e\n      \u003ctd\u003e5R82\u003c/td\u003e\n      \u003ctd\u003e192\u003c/td\u003e\n    \u003c/tr\u003e\n    \u003ctr\u003e\n      \u003cth\u003e1725\u003c/th\u003e\n      \u003ctd\u003eA1\u003c/td\u003e\n      \u003ctd\u003e517\u003c/td\u003e\n    \u003c/tr\u003e\n    \u003ctr\u003e\n      \u003cth\u003e1194\u003c/th\u003e\n      \u003ctd\u003eAA\u003c/td\u003e\n      \u003ctd\u003e244\u003c/td\u003e\n    \u003c/tr\u003e\n    \u003ctr\u003e\n      \u003cth\u003e1372\u003c/th\u003e\n      \u003ctd\u003eAAA\u003c/td\u003e\n      \u003ctd\u003e298\u003c/td\u003e\n    \u003c/tr\u003e\n  \u003c/tbody\u003e\n\u003c/table\u003e\n\u003c/div\u003e"
          },
          "metadata": {}
        }
      ]
    },
    {
      "execution_count": 14,
      "cell_type": "code",
      "metadata": {},
      "source": [
        "import string\n\n_common_words \u003d df_common.WORD.unique()\nprint(len(_common_words), \"screening against common words\")\n\nclass Draw_Down_Customer:\n\n    def __init__(self, name, draw_down_date, mean_dd, std_dd, active_card_max):\n\n        self.CUSTOMER \u003d name\n        self.DRAW_DOWN_DATE \u003d draw_down_date\n        self.ACTIVE_CARD_MAX \u003d active_card_max\n\n        self.MATCHING_CUSTOMERS \u003d []\n        self.PERCENT_DIFFERENCE \u003d []\n        self.DAYS_DIFFERENCE \u003d []\n        self.DRAW_UP_DATE \u003d []\n\n        # remove punctuation\n        c_str \u003d name.translate(str.maketrans(\u0027\u0027, \u0027\u0027, string.punctuation))\n\n        f \u003d c_str.split()\n        self.WORD_LIST \u003d []\n        for w in f:\n            if w not in _common_words:\n                self.WORD_LIST.append(w)\n\n    def Match_Draw_Up_Customer(self, name, draw_up_date, mean_du, std_du, active_card_max):\n\n        if (self.CUSTOMER \u003d\u003d name):\n            # exact match, already captured\n            return\n\n        c_str \u003d name.translate(str.maketrans(\u0027\u0027, \u0027\u0027, string.punctuation))\n\n        f \u003d c_str.split()\n\n        check_list \u003d []\n        for w in f:\n            if (w not in _common_words) and (len(w)\u003e1) and (not w.isnumeric()):\n                check_list.append(w)\n\n        percent_diff \u003d round((abs(self.ACTIVE_CARD_MAX - active_card_max) / ((self.ACTIVE_CARD_MAX+active_card_max)/2)),2)\n\n        #date_format \u003d \"%Y-%m-%d\"\n        #d1_date \u003d datetime.strptime(draw_up_date.astype(str), date_format)\n        #d2_date \u003d datetime.strptime(self.DRAW_DOWN_DATE.astype(str), date_format)\n\n        delta_between_drop_and_rise \u003d round(abs((draw_up_date-self.DRAW_DOWN_DATE).days)/30.,0)\n\n        for w_to_check in check_list:\n            for w in self.WORD_LIST:\n                if w_to_check\u003d\u003dw:\n\n                    if not name in(self.MATCHING_CUSTOMERS) and(delta_between_drop_and_rise\u003c\u003d4)and(percent_diff\u003c\u003d0.5) :\n                        self.MATCHING_CUSTOMERS.append(name)\n                        self.PERCENT_DIFFERENCE.append(percent_diff)\n                        self.DAYS_DIFFERENCE.append(delta_between_drop_and_rise)\n                        self.DRAW_UP_DATE.append(draw_up_date)\n                        break;"
      ],
      "outputs": [
        {
          "output_type": "stream",
          "text": "2173 screening against common words\n",
          "name": "stdout"
        }
      ]
    },
    {
      "execution_count": 46,
      "cell_type": "code",
      "metadata": {
        "scrolled": false
      },
      "source": [
        "import time\n\ndef do_save_log(_matching_process_log_time, _matching_process_log_event):\n\n    df_matching_log \u003d pd.DataFrame(_matching_process_log_time)\n    if len(df_matching_log)\u003e0:\n\n        df_matching_log.columns \u003d [\u0027LOG_TIME\u0027]\n        df_matching_log[\u0027LOG_EVENT\u0027] \u003d _matching_process_log_event\n\n        MATCHING_PROCESS_LOG_df \u003d df_matching_log\n        MATCHING_PROCESS_LOG \u003d dataiku.Dataset(\"MATCHING_PROCESS_LOG\")\n        MATCHING_PROCESS_LOG.write_with_schema(MATCHING_PROCESS_LOG_df)\n\n        print()\n\ndef do_save_direct_matches(_direct_customer, _direct_match, _direct_draw_up_date):\n\n    df_matches \u003d pd.DataFrame(_direct_customer)\n    if len(df_matches)\u003e0:\n\n        print()\n        print(\"saving\", len(df_matches), \"1-1 matching records\")\n        print()\n\n        df_matches.columns \u003d [\u0027CUSTOMER\u0027]\n        df_matches[\"MATCH_CUSTOMER\"] \u003d _direct_match\n        df_matches[\"DRAW_UP_DATE\"] \u003d _direct_draw_up_date\n\n        MATCHES_1_TO_1_df \u003d df_matches\n        MATCHES_1_TO_1 \u003d dataiku.Dataset(\"MATCHES_1_TO_1\")\n        MATCHES_1_TO_1.write_with_schema(MATCHES_1_TO_1_df)\n\n        print()\n\ndef do_save_multiple_matches(_multiple_customer, _multiple_matches, _multiple_drop_dates):\n\n    df_multiple_matches \u003d pd.DataFrame(_multiple_customer)\n\n    if len(df_multiple_matches)\u003e0:\n\n        print()\n        print(\"saving\", len(df_multiple_matches), \"1-n matching records\")\n        print()\n\n        df_multiple_matches.columns \u003d [\u0027CUSTOMER\u0027]\n        df_multiple_matches[\"MATCH_CUSTOMER\"] \u003d _multiple_matches\n        df_multiple_matches[\"DRAW_UP_DATE\"] \u003d _multiple_drop_dates\n\n        MATCHES_1_TO_N_FOR_MANUAL_REVIEW_df \u003d df_multiple_matches\n        MATCHES_1_TO_N_FOR_MANUAL_REVIEW \u003d dataiku.Dataset(\"MATCHES_1_TO_N_FOR_MANUAL_REVIEW\")\n        MATCHES_1_TO_N_FOR_MANUAL_REVIEW.write_with_schema(MATCHES_1_TO_N_FOR_MANUAL_REVIEW_df)\n\n        print()\n\n\n_processed_customers \u003d []\nverbose \u003d True\n\nprocess_ranges \u003d [[100000,1000],[1100,900],[1000,600],[700,400],[500,200],[300,100],[200,70],\n                  [100,50],[60,40],[55,45],[40,20],[30,10],[30,0]]\n\nprocess_ranges \u003d [\u0027A\u0027,\u0027B\u0027,\u0027C\u0027]\n\n_matching_process_log_time \u003d []\n_matching_process_log_event \u003d []\n\n_direct_customer \u003d []\n_direct_match \u003d []\n_direct_draw_up_date \u003d []\n\n_multiple_customer \u003d []\n_multiple_matches \u003d []\n_multiple_drop_dates \u003d []\n\nsave_every_n \u003d 50\nto_save_counter \u003d 0\nprint_every_n \u003d 25\n\nr_max \u003d r[0]\nr_min \u003d r[1]\n\n#df_down \u003d df_down_full[(df_down_full.ACTIVE_CARD_MAX\u003c\u003dr_max)\u0026(df_down_full.ACTIVE_CARD_MAX\u003e\u003dr_min)]\n#df_up \u003d df_up_full[(df_up_full.ACTIVE_CARD_MAX\u003c\u003dr_max)\u0026(df_up_full.ACTIVE_CARD_MAX\u003e\u003dr_min)]\n\ndf_down \u003d df_down_full[df_down_full.CUSTOMER.str.startswith(\u0027B\u0027)]\ndf_down \u003d df_down[df_down[\u0027DRAW_DOWN_DATE\u0027].dt.year\u003d\u003d2022]\n\ndf_up \u003d df_up_full[df_up_full.CUSTOMER.str.startswith(\u0027B\u0027)]\ndf_up \u003d df_up[df_up[\u0027DRAW_UP_DATE\u0027].dt.year\u003d\u003d2022]\n\nprint(len(df_down), \"filtered down rows\")\nprint(len(df_up), \"filtered up rows\")\n\n_customers \u003d []\n# Prepare Customer Set for processing\n\nt0 \u003d time.time()\n\nfor index, row in df_down.iterrows():\n\n    customer \u003d row[\u0027CUSTOMER\u0027]\n    draw_down_date \u003d row[\u0027DRAW_DOWN_DATE\u0027]\n    mean_dd \u003d row[\u0027MEAN_DD\u0027]\n    std_dd \u003d row[\u0027STD_DD\u0027]\n    active_card_max \u003d row[\u0027ACTIVE_CARD_MAX\u0027]\n\n    c \u003d Draw_Down_Customer(customer, draw_down_date, mean_dd, std_dd, active_card_max)\n\n    _customers.append(c)\n\nidx \u003d 0\n\n_matching_process_log_time.append(str(pd.Timestamp.now()))\n_matching_process_log_event.append(\" processing range from \" + str(r_max) + \" to \" + str(r_min) + \" processing \" + str(len(_customers)) + \" Draw Down Customers\")\ndo_save_log(_matching_process_log_time, _matching_process_log_event)\n\nif verbose:\n    print(\" processing range from \" + str(r_max) + \" to \" + str(r_min) + \" processing \" + str(len(_customers)) + \" Draw Down Customers\")\n\nfor c in _customers:\n\n    idx+\u003d1\n    \n    for index_up, row_up in df_up.iterrows():\n\n        customer \u003d row_up[\u0027CUSTOMER\u0027]\n        draw_up_date \u003d row_up[\u0027DRAW_UP_DATE\u0027]\n        mean_du \u003d row_up[\u0027MEAN_DU\u0027]\n        std_du \u003d row_up[\u0027STD_DU\u0027]\n        active_card_max \u003d row_up[\u0027ACTIVE_CARD_MAX\u0027]\n\n        c.Match_Draw_Up_Customer(customer, draw_up_date, mean_du, std_du, active_card_max)\n\n    if len(c.MATCHING_CUSTOMERS)\u003d\u003d1:\n\n        if not c.CUSTOMER in (_processed_customers):\n\n            to_save_counter +\u003d 1\n\n            _direct_customer.append(c.CUSTOMER)\n            _processed_customers.append(c.CUSTOMER)\n            _direct_match.append(c.MATCHING_CUSTOMERS[0])\n            _processed_customers.append(c.MATCHING_CUSTOMERS[0])\n            _direct_draw_up_date.append(c.DRAW_UP_DATE[0])\n\n            if verbose:\n                print()\n                print(\"DIRECT\")\n                print(c.CUSTOMER, c.WORD_LIST)\n                print(c.MATCHING_CUSTOMERS)\n                print(c.PERCENT_DIFFERENCE)\n                print(c.DAYS_DIFFERENCE)\n                print(\"\u003d\u003d\u003d\u003d\u003d\")\n                print()\n\n    elif len(c.MATCHING_CUSTOMERS)\u003e1:\n\n        if not c.CUSTOMER in (_processed_customers):\n\n            to_save_counter +\u003d 1\n\n            _multiple_customer.append(c.CUSTOMER)\n            _processed_customers.append(c.CUSTOMER)\n            _multiple_matches.append(c.MATCHING_CUSTOMERS)\n            _multiple_drop_dates.append(c.DRAW_UP_DATE)\n\n        if verbose:\n            print()\n            print(\"MULTIPLE\")\n            print(c.CUSTOMER, c.WORD_LIST)\n            print(c.MATCHING_CUSTOMERS)\n            print(c.PERCENT_DIFFERENCE)\n            print(c.DAYS_DIFFERENCE)\n            print(\"\u003d\u003d\u003d\u003d\u003d\")\n            print()\n\n    else:\n\n        # could not find a match, remove it from future processing\n        _processed_customers.append(c.CUSTOMER)\n\n    if to_save_counter\u003e\u003dsave_every_n:\n\n        _matching_process_log_time.append(str(pd.Timestamp.now()))\n        _matching_process_log_event.append(\"writing datasets to snowflake\")\n        do_save_log(_matching_process_log_time, _matching_process_log_event)\n\n        do_save_direct_matches(_direct_customer, _direct_match, _direct_draw_up_date)\n        do_save_multiple_matches(_multiple_customer, _multiple_matches, _multiple_drop_dates)\n\n        _matching_process_log_time.append(str(pd.Timestamp.now()))\n        _matching_process_log_event.append(\"saved \" + str(to_save_counter) + \" records to snowflake.\")\n        do_save_log(_matching_process_log_time, _matching_process_log_event)\n\n        to_save_counter \u003d 0\n        \n    t1 \u003d time.time()\n    \n    avg_duration \u003d ((t1-t0)/60.0)\n    \n    if idx % print_every_n \u003d\u003d 0:\n        idx_remaining \u003d len(_customers)-idx\n        print(\"processing\", idx, \"current record:\", c.CUSTOMER, \",\", idx_remaining, \"remaining\")\n        print(round(avg_duration,2), \"avg mins per iteration\",  round(avg_duration*idx_remaining,2), \"estimated minutes remaining\")\n        print()"
      ],
      "outputs": [
        {
          "output_type": "stream",
          "text": "1064 filtered down rows\n3634 filtered up rows\n1 rows successfully written (9vm1yGd0ri)\n\n processing range from 55 to 45 processing 1064 Draw Down Customers\n\nDIRECT\nB \u0026 T VIVIAN INVESTMENT CO LLC [\u0027B\u0027, \u0027T\u0027, \u0027VIVIAN\u0027]\n[\u0027B  T VIVIAN INVESTMENT CO LLC\u0027]\n[0.15]\n[1.0]\n\u003d\u003d\u003d\u003d\u003d\n\n\nMULTIPLE\nB 3 BACKFLOW INC [\u0027B\u0027, \u00273\u0027, \u0027BACKFLOW\u0027]\n[\u0027B3 BACKFLOW\u0027, \u0027BAILEY PLUMBING AND BACKFLOW SERVICE\u0027]\n[0.5, 0.0]\n[1.0, 2.0]\n\u003d\u003d\u003d\u003d\u003d\n\nprocessing 25 current record: B A BLACKTOP LTD , 1039 remaining\navg duration per iteration 0.6 619.13 estimated minutes remaining\n\nprocessing 50 current record: B L LAW CONSTRUCTION CO INC , 1014 remaining\navg duration per iteration 1.14 1156.54 estimated minutes remaining\n\n",
          "name": "stdout"
        },
        {
          "output_type": "error",
          "ename": "KeyboardInterrupt",
          "evalue": "",
          "traceback": [
            "\u001b[0;31m---------------------------------------------------------------------------\u001b[0m",
            "\u001b[0;31mKeyboardInterrupt\u001b[0m                         Traceback (most recent call last)",
            "\u001b[0;32m\u003cipython-input-46-c4bf136152e0\u003e\u001b[0m in \u001b[0;36m\u003cmodule\u003e\u001b[0;34m\u001b[0m\n\u001b[1;32m    131\u001b[0m         \u001b[0mactive_card_max\u001b[0m \u001b[0;34m\u003d\u001b[0m \u001b[0mrow_up\u001b[0m\u001b[0;34m[\u001b[0m\u001b[0;34m\u0027ACTIVE_CARD_MAX\u0027\u001b[0m\u001b[0;34m]\u001b[0m\u001b[0;34m\u001b[0m\u001b[0;34m\u001b[0m\u001b[0m\n\u001b[1;32m    132\u001b[0m \u001b[0;34m\u001b[0m\u001b[0m\n\u001b[0;32m--\u003e 133\u001b[0;31m         \u001b[0mc\u001b[0m\u001b[0;34m.\u001b[0m\u001b[0mMatch_Draw_Up_Customer\u001b[0m\u001b[0;34m(\u001b[0m\u001b[0mcustomer\u001b[0m\u001b[0;34m,\u001b[0m \u001b[0mdraw_up_date\u001b[0m\u001b[0;34m,\u001b[0m \u001b[0mmean_du\u001b[0m\u001b[0;34m,\u001b[0m \u001b[0mstd_du\u001b[0m\u001b[0;34m,\u001b[0m \u001b[0mactive_card_max\u001b[0m\u001b[0;34m)\u001b[0m\u001b[0;34m\u001b[0m\u001b[0;34m\u001b[0m\u001b[0m\n\u001b[0m\u001b[1;32m    134\u001b[0m \u001b[0;34m\u001b[0m\u001b[0m\n\u001b[1;32m    135\u001b[0m     \u001b[0;32mif\u001b[0m \u001b[0mlen\u001b[0m\u001b[0;34m(\u001b[0m\u001b[0mc\u001b[0m\u001b[0;34m.\u001b[0m\u001b[0mMATCHING_CUSTOMERS\u001b[0m\u001b[0;34m)\u001b[0m\u001b[0;34m\u003d\u003d\u001b[0m\u001b[0;36m1\u001b[0m\u001b[0;34m:\u001b[0m\u001b[0;34m\u001b[0m\u001b[0;34m\u001b[0m\u001b[0m\n",
            "\u001b[0;32m\u003cipython-input-14-e97d440f55c8\u003e\u001b[0m in \u001b[0;36mMatch_Draw_Up_Customer\u001b[0;34m(self, name, draw_up_date, mean_du, std_du, active_card_max)\u001b[0m\n\u001b[1;32m     47\u001b[0m         \u001b[0;31m#d2_date \u003d datetime.strptime(self.DRAW_DOWN_DATE.astype(str), date_format)\u001b[0m\u001b[0;34m\u001b[0m\u001b[0;34m\u001b[0m\u001b[0;34m\u001b[0m\u001b[0m\n\u001b[1;32m     48\u001b[0m \u001b[0;34m\u001b[0m\u001b[0m\n\u001b[0;32m---\u003e 49\u001b[0;31m         \u001b[0mdelta_between_drop_and_rise\u001b[0m \u001b[0;34m\u003d\u001b[0m \u001b[0mround\u001b[0m\u001b[0;34m(\u001b[0m\u001b[0mabs\u001b[0m\u001b[0;34m(\u001b[0m\u001b[0;34m(\u001b[0m\u001b[0mdraw_up_date\u001b[0m\u001b[0;34m-\u001b[0m\u001b[0mself\u001b[0m\u001b[0;34m.\u001b[0m\u001b[0mDRAW_DOWN_DATE\u001b[0m\u001b[0;34m)\u001b[0m\u001b[0;34m.\u001b[0m\u001b[0mdays\u001b[0m\u001b[0;34m)\u001b[0m\u001b[0;34m/\u001b[0m\u001b[0;36m30.\u001b[0m\u001b[0;34m,\u001b[0m\u001b[0;36m0\u001b[0m\u001b[0;34m)\u001b[0m\u001b[0;34m\u001b[0m\u001b[0;34m\u001b[0m\u001b[0m\n\u001b[0m\u001b[1;32m     50\u001b[0m \u001b[0;34m\u001b[0m\u001b[0m\n\u001b[1;32m     51\u001b[0m         \u001b[0;32mfor\u001b[0m \u001b[0mw_to_check\u001b[0m \u001b[0;32min\u001b[0m \u001b[0mcheck_list\u001b[0m\u001b[0;34m:\u001b[0m\u001b[0;34m\u001b[0m\u001b[0;34m\u001b[0m\u001b[0m\n",
            "\u001b[0;32mpandas/_libs/tslibs/c_timestamp.pyx\u001b[0m in \u001b[0;36mpandas._libs.tslibs.c_timestamp._Timestamp.__sub__\u001b[0;34m()\u001b[0m\n",
            "\u001b[0;32mpandas/_libs/tslibs/timedeltas.pyx\u001b[0m in \u001b[0;36mpandas._libs.tslibs.timedeltas.Timedelta.__new__\u001b[0;34m()\u001b[0m\n",
            "\u001b[0;31mKeyboardInterrupt\u001b[0m: "
          ]
        }
      ]
    }
  ]
}