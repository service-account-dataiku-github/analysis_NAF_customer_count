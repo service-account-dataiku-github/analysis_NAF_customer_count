{
  "metadata": {
    "kernelspec": {
      "name": "py-dku-venv-env_clc",
      "display_name": "Python (env env_clc)",
      "language": "python"
    },
    "associatedRecipe": "compute_CONSOLIDATED_MATCHES",
    "dkuGit": {
      "lastInteraction": 0
    },
    "creationTag": {
      "versionNumber": 0,
      "lastModifiedBy": {
        "login": "Daniel.Vandermeer"
      },
      "lastModifiedOn": 1666015248584
    },
    "creator": "Daniel.Vandermeer",
    "createdOn": 1666015248584,
    "tags": [
      "recipe-editor"
    ],
    "customFields": {},
    "hide_input": false,
    "language_info": {
      "name": "python",
      "version": "3.6.8",
      "mimetype": "text/x-python",
      "codemirror_mode": {
        "name": "ipython",
        "version": 3
      },
      "pygments_lexer": "ipython3",
      "nbconvert_exporter": "python",
      "file_extension": ".py"
    },
    "modifiedBy": "Daniel.Vandermeer"
  },
  "nbformat": 4,
  "nbformat_minor": 1,
  "cells": [
    {
      "execution_count": 91,
      "cell_type": "code",
      "metadata": {},
      "source": [
        "# -*- coding: utf-8 -*-\nimport dataiku\nimport pandas as pd, numpy as np\nfrom dataiku import pandasutils as pdu\n\n# Read recipe inputs\nCALCULATED_CARD_DRAW_UPS \u003d dataiku.Dataset(\"CALCULATED_CARD_DRAW_UPS\")\nCALCULATED_CARD_DRAW_UPS_df \u003d CALCULATED_CARD_DRAW_UPS.get_dataframe()\n\nCALCULATED_CARD_DRAW_DOWNS \u003d dataiku.Dataset(\"CALCULATED_CARD_DRAW_DOWNS\")\nCALCULATED_CARD_DRAW_DOWNS_df \u003d CALCULATED_CARD_DRAW_DOWNS.get_dataframe()"
      ],
      "outputs": []
    },
    {
      "execution_count": 92,
      "cell_type": "code",
      "metadata": {},
      "source": [
        "df_down \u003d CALCULATED_CARD_DRAW_DOWNS_df\ndf_up \u003d CALCULATED_CARD_DRAW_UPS_df\n\ndf_down.sort_values([\u0027CUSTOMER\u0027], inplace\u003dTrue)\ndf_up.sort_values([\u0027CUSTOMER\u0027], inplace\u003dTrue)\n\nprint(len(df_down), \"draw downs\")\nprint(len(df_up), \"draw ups\")"
      ],
      "outputs": [
        {
          "output_type": "stream",
          "text": "34557 draw downs\n48169 draw ups\n",
          "name": "stdout"
        }
      ]
    },
    {
      "execution_count": 93,
      "cell_type": "code",
      "metadata": {},
      "source": [
        "df_down.head()"
      ],
      "outputs": [
        {
          "output_type": "execute_result",
          "execution_count": 93,
          "data": {
            "text/plain": "                                   CUSTOMER            DRAW_DOWN_DATE   MEAN_DD    STD_DD  ACTIVE_CARD_MAX\n0             1 AFFORDABLE LAWN MAINTENANCE 2022-02-01 00:00:00+00:00  2.000000  0.000000              3.0\n9999                  1 BRUDA  3 SISTAS LLC 2021-09-01 00:00:00+00:00       NaN       NaN              1.0\n9998                            1 G R V LLC 2019-08-01 00:00:00+00:00  0.500000  0.577350              7.0\n9997                         1 KC LOGISTICS 2021-10-01 00:00:00+00:00       NaN       NaN              1.0\n9996  1 PRIORITY ENVIRONMENTAL SERVICES LLC 2021-01-01 00:00:00+00:00  6.333333  0.492366              7.0",
            "text/html": "\u003cdiv\u003e\n\u003cstyle scoped\u003e\n    .dataframe tbody tr th:only-of-type {\n        vertical-align: middle;\n    }\n\n    .dataframe tbody tr th {\n        vertical-align: top;\n    }\n\n    .dataframe thead th {\n        text-align: right;\n    }\n\u003c/style\u003e\n\u003ctable border\u003d\"1\" class\u003d\"dataframe\"\u003e\n  \u003cthead\u003e\n    \u003ctr style\u003d\"text-align: right;\"\u003e\n      \u003cth\u003e\u003c/th\u003e\n      \u003cth\u003eCUSTOMER\u003c/th\u003e\n      \u003cth\u003eDRAW_DOWN_DATE\u003c/th\u003e\n      \u003cth\u003eMEAN_DD\u003c/th\u003e\n      \u003cth\u003eSTD_DD\u003c/th\u003e\n      \u003cth\u003eACTIVE_CARD_MAX\u003c/th\u003e\n    \u003c/tr\u003e\n  \u003c/thead\u003e\n  \u003ctbody\u003e\n    \u003ctr\u003e\n      \u003cth\u003e0\u003c/th\u003e\n      \u003ctd\u003e1 AFFORDABLE LAWN MAINTENANCE\u003c/td\u003e\n      \u003ctd\u003e2022-02-01 00:00:00+00:00\u003c/td\u003e\n      \u003ctd\u003e2.000000\u003c/td\u003e\n      \u003ctd\u003e0.000000\u003c/td\u003e\n      \u003ctd\u003e3.0\u003c/td\u003e\n    \u003c/tr\u003e\n    \u003ctr\u003e\n      \u003cth\u003e9999\u003c/th\u003e\n      \u003ctd\u003e1 BRUDA  3 SISTAS LLC\u003c/td\u003e\n      \u003ctd\u003e2021-09-01 00:00:00+00:00\u003c/td\u003e\n      \u003ctd\u003eNaN\u003c/td\u003e\n      \u003ctd\u003eNaN\u003c/td\u003e\n      \u003ctd\u003e1.0\u003c/td\u003e\n    \u003c/tr\u003e\n    \u003ctr\u003e\n      \u003cth\u003e9998\u003c/th\u003e\n      \u003ctd\u003e1 G R V LLC\u003c/td\u003e\n      \u003ctd\u003e2019-08-01 00:00:00+00:00\u003c/td\u003e\n      \u003ctd\u003e0.500000\u003c/td\u003e\n      \u003ctd\u003e0.577350\u003c/td\u003e\n      \u003ctd\u003e7.0\u003c/td\u003e\n    \u003c/tr\u003e\n    \u003ctr\u003e\n      \u003cth\u003e9997\u003c/th\u003e\n      \u003ctd\u003e1 KC LOGISTICS\u003c/td\u003e\n      \u003ctd\u003e2021-10-01 00:00:00+00:00\u003c/td\u003e\n      \u003ctd\u003eNaN\u003c/td\u003e\n      \u003ctd\u003eNaN\u003c/td\u003e\n      \u003ctd\u003e1.0\u003c/td\u003e\n    \u003c/tr\u003e\n    \u003ctr\u003e\n      \u003cth\u003e9996\u003c/th\u003e\n      \u003ctd\u003e1 PRIORITY ENVIRONMENTAL SERVICES LLC\u003c/td\u003e\n      \u003ctd\u003e2021-01-01 00:00:00+00:00\u003c/td\u003e\n      \u003ctd\u003e6.333333\u003c/td\u003e\n      \u003ctd\u003e0.492366\u003c/td\u003e\n      \u003ctd\u003e7.0\u003c/td\u003e\n    \u003c/tr\u003e\n  \u003c/tbody\u003e\n\u003c/table\u003e\n\u003c/div\u003e"
          },
          "metadata": {}
        }
      ]
    },
    {
      "execution_count": 102,
      "cell_type": "code",
      "metadata": {},
      "source": [
        "import string\n\nclass Draw_Down_Customer:\n\n    def __init__(self, name, draw_down_date, mean_dd, std_dd, active_card_max):\n\n        self._common_words \u003d [\u00271\u0027,\u00272\u0027,\u00273\u0027,\u00274\u0027,\u00275\u0027,\u00276\u0027,\u00277\u0027,\u0027PIZZA\u0027, \u0027MANAGEMENT\u0027, \u0027THERAPEUTICS\u0027, \u0027USA\u0027, \u0027INC\u0027, \u0027US\u0027, \u0027EQUIPMENT\u0027, \u0027MEDICAL\u0027, \u0027SYSTEMS\u0027,\n                             \u0027ANIMAL\u0027, \u0027HEALTH\u0027, \u0027LLC\u0027, \u0027CORPORATION\u0027, \u0027BRANDS\u0027, \u0027TIRE\u0027, \u0027RUBBER\u0027, \u0027COUNTRY\u0027, \u0027CORP\u0027,\n                              \u0027PHARMACY\u0027,\u0027INC\u0027, \u0027RESTAURANTS\u0027, \u0027CONTAINER\u0027, \u0027AMERICA\u0027, \u0027APPLICATIONS\u0027, \u0027TECHNOLOGY\u0027,\n                              \u0027INSURANCE\u0027, \u0027FARM\u0027,\u0027CREDIT\u0027, \u0027SERVICES\u0027, \u0027SERVICE\u0027, \u0027ACCOUNT\u0027, \u0027GENERAL\u0027, \u0027PARTS\u0027,\n                              \u0027INTL\u0027, \u0027FLAVORS\u0027, \u0027HOLDINGS\u0027, \u0027FOOD\u0027,\u0027INDUSTRIES\u0027, \u0027LP\u0027, \u0027FLEET\u0027, \u0027MEDICAL\u0027, \u0027PHARMA\u0027,\n                             \u0027GLOBAL\u0027, \u0027PIPELINE\u0027, \u0027WHEELS\u0027, \u0027BIOSCIENCES\u0027, \u0027SSI\u0027, \u0027SPRINGS\u0027, \u0027NORTH\u0027, \u0027MARINE\u0027, \u0027HOLDING\u0027,\n                              \u0027TECHNOLOGIES\u0027,\u0027GROUP\u0027, \u0027PHARMACEUTICAL\u0027, \u0027NA\u0027, \u0027USA\u0027, \u0027COMPANY\u0027, \u0027RAIL\u0027, \u0027PARTNERS\u0027, \u0027BROS\u0027,\n                              \u0027CO\u0027, \u0027PHARMACEUTICALS\u0027, \u0027ENERGY\u0027, \u0027DISTRIBUTION\u0027, \u0027DENTAL\u0027, \u0027SPECIALTIES\u0027, \u0027OPERATIONS\u0027,\n                              \u0027COMPANY\u0027, \u0027THE\u0027, \u0027MOUNTAIN\u0027, \u0027TRANS\u0027, \u0027FUEL\u0027, \u0027AMERICAN\u0027, \u0027HOMES\u0027, \u0027GAS\u0027,\n                             \u0027AFFORDABLE\u0027, \u0027LAWN\u0027, \u0027MAINTENANCE\u0027]\n\n        self.CUSTOMER \u003d name\n        self.DRAW_DOWN_DATE \u003d draw_down_date\n        self.ACTIVE_CARD_MAX \u003d active_card_max\n\n        self.MATCHING_CUSTOMERS \u003d []\n        self.PERCENT_DIFFERENCE \u003d []\n        self.DAYS_DIFFERENCE \u003d []\n        self.DRAW_UP_DATE \u003d []\n\n        # remove punctuation\n        c_str \u003d name.translate(str.maketrans(\u0027\u0027, \u0027\u0027, string.punctuation))\n\n        f \u003d c_str.split()\n        self.WORD_LIST \u003d []\n        for w in f:\n            if w not in self._common_words:\n                self.WORD_LIST.append(w)\n\n    def Match_Draw_Up_Customer(self, name, draw_up_date, mean_du, std_du, active_card_max):\n\n        if (self.CUSTOMER \u003d\u003d name):\n            # exact match, already captured\n            return\n\n        c_str \u003d name.translate(str.maketrans(\u0027\u0027, \u0027\u0027, string.punctuation))\n\n        f \u003d c_str.split()\n\n        check_list \u003d []\n        for w in f:\n            if w not in self._common_words:\n                check_list.append(w)\n\n        percent_diff \u003d round((abs(self.ACTIVE_CARD_MAX - active_card_max) / ((self.ACTIVE_CARD_MAX+active_card_max)/2)),2)\n\n        #date_format \u003d \"%Y-%m-%d\"\n        #d1_date \u003d datetime.strptime(draw_up_date.astype(str), date_format)\n        #d2_date \u003d datetime.strptime(self.DRAW_DOWN_DATE.astype(str), date_format)\n\n        delta_between_drop_and_rise \u003d round(abs((draw_up_date-self.DRAW_DOWN_DATE).days)/30.,0)\n\n        for w_to_check in check_list:\n            for w in self.WORD_LIST:\n                if w_to_check\u003d\u003dw:\n\n                    if not name in(self.MATCHING_CUSTOMERS) and(delta_between_drop_and_rise\u003c\u003d4)and(percent_diff\u003c\u003d0.5) :\n                        self.MATCHING_CUSTOMERS.append(name)\n                        self.PERCENT_DIFFERENCE.append(percent_diff)\n                        self.DAYS_DIFFERENCE.append(delta_between_drop_and_rise)\n                        self.DRAW_UP_DATE.append(draw_up_date)\n                        break;"
      ],
      "outputs": []
    },
    {
      "execution_count": 101,
      "cell_type": "code",
      "metadata": {},
      "source": [
        "idx \u003d 0\n_customers \u003d []\nverbose \u003d True\n\nmax_idx \u003d 10\n\nfor index, row in df_down.iterrows():\n\n    idx+\u003d1\n\n    customer \u003d row[\u0027CUSTOMER\u0027]\n    draw_down_date \u003d row[\u0027DRAW_DOWN_DATE\u0027]\n    mean_dd \u003d row[\u0027MEAN_DD\u0027]\n    std_dd \u003d row[\u0027STD_DD\u0027]\n    active_card_max \u003d row[\u0027ACTIVE_CARD_MAX\u0027]\n\n    c \u003d Draw_Down_Customer(customer, draw_down_date, mean_dd, std_dd, active_card_max)\n\n    _customers.append(c)\n\n    if max_idx\u003e0:\n        if idx\u003e10:\n            break;\n\nidx \u003d 0\n\n_direct_customer \u003d []\n_direct_match \u003d []\n_direct_draw_up_date \u003d []\n\n_multiple_customer \u003d []\n_multiple_matches \u003d []\n_multiple_drop_dates \u003d []\n\nfor c in _customers:\n\n    for index_up, row_up in df_up.iterrows():\n\n        idx+\u003d1\n\n        customer \u003d row_up[\u0027CUSTOMER\u0027]\n        draw_up_date \u003d row_up[\u0027DRAW_UP_DATE\u0027]\n        mean_du \u003d row_up[\u0027MEAN_DU\u0027]\n        std_du \u003d row_up[\u0027STD_DU\u0027]\n        active_card_max \u003d row_up[\u0027ACTIVE_CARD_MAX\u0027]\n\n        c.Match_Draw_Up_Customer(customer, draw_up_date, mean_du, std_du, active_card_max)\n\n    if len(c.MATCHING_CUSTOMERS)\u003d\u003d1:\n\n        _direct_customer.append(c.CUSTOMER)\n        _direct_match.append(c.MATCHING_CUSTOMERS[0])\n        _direct_draw_up_date.append(c.DRAW_UP_DATE[0])\n\n        print(c.CUSTOMER, c.MATCHING_CUSTOMERS)\n\n        if verbose:\n            print(\"DIRECT\")\n            print(c.CUSTOMER, c.WORD_LIST)\n            print(\"Draw Up Date:\", c.DRAW_DOWN_DATE)\n            print(\"Cards\", c.ACTIVE_CARD_MAX)\n            print()\n            print(c.MATCHING_CUSTOMERS)\n            print(c.PERCENT_DIFFERENCE)\n            print(c.DAYS_DIFFERENCE)\n            print()\n            print(\"\u003d\u003d\u003d\u003d\u003d\")\n            print()\n\n    elif len(c.MATCHING_CUSTOMERS)\u003e1:\n\n        _multiple_customer.append(c.CUSTOMER)\n        _multiple_matches.append(c.MATCHING_CUSTOMERS)\n        _multiple_drop_dates.append(c.DRAW_UP_DATE)\n\n        if verbose:\n            print(\"MULTIPLE\")\n            print(c.CUSTOMER, c.WORD_LIST)\n            print(\"Draw Up Date:\", c.DRAW_DOWN_DATE)\n            print(\"Cards\", c.ACTIVE_CARD_MAX)\n            print()\n            print(c.MATCHING_CUSTOMERS)\n            print(c.PERCENT_DIFFERENCE)\n            print(c.DAYS_DIFFERENCE)\n            print()\n            print(\"\u003d\u003d\u003d\u003d\u003d\")\n            print()\n\nprint(idx)\nprint()\n\nprint(len(_direct_customer), \"direct matches\")\nprint(len(_multiple_matches), \"multiple matches\")"
      ],
      "outputs": [
        {
          "output_type": "stream",
          "text": "MULTIPLE\n1 AFFORDABLE LAWN MAINTENANCE [\u0027AFFORDABLE\u0027, \u0027LAWN\u0027, \u0027MAINTENANCE\u0027]\nDraw Up Date: 2022-02-01 00:00:00+00:00\nCards 3.0\n\n[\u00271 AFFORDABLE LAWN MAINTENANCE LLC\u0027, \u00275 STAR MAINTENANCE UNLIMITED\u0027, \u0027ADVANTAGE LAWN  LANDSCAPE MANAGEMENT INC\u0027, \u0027AEROBIC SYSTEM INSPECTION  MAINTENANCE LLC\u0027, \u0027AFFORDABLE AC  REFRIGERATION INC\u0027, \u0027AFFORDABLE ADDITIONS\u0027, \u0027AFFORDABLE ALARM SERVICE LLC\u0027, \u0027AFFORDABLE CARPENTRY SERVICES\u0027, \u0027AFFORDABLE LIFE AND HEALTH INSURANCE\u0027, \u0027AFFORDABLE METAL AND RECYCLING CENTER LLC\u0027, \u0027AFFORDABLE POOL AND SPA INC\u0027, \u0027AFFORDABLE PORTABLES INC\u0027, \u0027AFFORDABLE WATER AND MOLD REMOVAL INC\u0027, \u0027AMERICAN DREAM LAWN  CLEANING SRVC LLC\u0027, \u0027AMERICARE LAWN SVC\u0027, \u0027AUTUMN TREE LAWN AND LANDSCAPE\u0027, \u0027AV CENTER MAINTENANCE LLC\u0027, \u0027AW  D CONSTRUCTION  MAINTENANCE SERVIC\u0027, \u0027AZ MAINTENANCE  SERVICES LLC\u0027, \u0027BANO LANDSCAPING  LAWN MAINTENANCE\u0027, \u0027BIG JOHNS LAWN CARE LLC\u0027, \u0027BLACKFOOT ASPHALT MAINTENANCE LLP\u0027, \u0027BOSS LAWN AND LANDSCAPE LLC\u0027, \u0027BRADLEY ROOFING  MAINTENANCE\u0027, \u0027BS LAWN CARE LLC\u0027, \u0027BUILDING MAINTENANCE  CONSULT\u0027, \u0027BUILDING MAINTENANCE SPECIALIST LLC\u0027, \u0027C R LAWN CARE\u0027, \u0027CALIFORNIA OFFICE MAINTENANCE INC\u0027, \u0027CERTIFIED MAINTENANCE SERVICES INC\u0027, \u0027CHOPTANK CLEANING SERVICES  PROPERTY MAINTENANCE LLC\u0027, \u0027CLS LANDSCAPE AND MAINTENANCE LLC\u0027, \u0027CSG LOT MAINTENANCE  SALES INC\u0027, \u0027CSI FLEET MAINTENANCE LLC\u0027, \u0027CUSTOM LANDSCAPING  LAWN CARE INC\u0027, \u0027DAD AND SON LAWN CARE\u0027, \u0027DARELLA MAINTENANCE AND ELECTRIC CORP INC\u0027, \u0027DAVIS LAWN  SNOW SERVICES LLC\u0027, \u0027DRUMMOND LAWN  LANDSCAPE LTD\u0027, \u0027DUCES LAWN SERVICE LLC\u0027, \u0027EAGLE LAWN SERVICES\u0027, \u0027ELECTRICAL MAINTENANCE CONSULTANTS INC\u0027, \u0027ENGLEWOOD LAWN AND LANDSCAPE LLC\u0027, \u0027EXCALIBUR BUILDERS  MAINTENANCE INC\u0027, \u0027FIRST CHOICE MAINTENANCE LLC\u0027, \u0027FIRST PRIORITY EXTERIOR MAINTENANCE INC\u0027, \u0027FOREVERGREEN LAWN CARE INC\u0027, \u0027GEAUX MAINTENANCE\u0027, \u0027GRASS CARPET LAWN SERVICE CORPORATION\u0027, \u0027GREEN THUMB TREE AND LAWN LLC\u0027, \u0027GREGS LAWN SERVICE INC\u0027, \u0027H  L LAWN SERVICES\u0027, \u0027H  M INDUSTRIAL MAINTENANCE  WELDING INC\u0027, \u0027HH LAWN AND LANDSCAPE LLC\u0027, \u0027HICKS LANDSCAPING MAINTENANCE LLC\u0027, \u0027HOLLANDS LAWN  LANDSCAPING INC\u0027, \u0027HURST LAWN  ORNAMENTAL\u0027, \u0027ILION CENTRAL MAINTENANCE  SECURITY SYSTEMS INC\u0027, \u0027IMAGES PROPERTY MAINTENANCE INC\u0027, \u0027J  I MAINTENANCE INC\u0027, \u0027J B WASTEWATER MAINTENANCE INC\u0027, \u0027J W HERMAN LAWN AND LANDSCAPE SERVICES LLC\u0027, \"KEITH\u0027S LAWN SERVICES INC\", \u0027KESSLER MANAGEMENT  MAINTENANCE INC\u0027, \u0027KIRBYS LAWN  LANDSCAPING SERVICE INC\u0027, \u0027LAWN  LANDSCAPE BY DESIGN\u0027, \u0027LAWN N ORDER LLC\u0027, \u0027LEES LAWN CARE LLC\u0027, \u0027LEO JR LAWN AND IRRIGATION SERVICES INC\u0027, \u0027LEVIN LAWN CARE LLC\u0027, \u0027LIBERTY MAINTENANCE INC\u0027, \u0027LOCAL LAWN MAINTENACE INC\u0027, \u0027MAINTENANCE CONSULTANT THE INC\u0027, \u0027MAINTENANCE SERVICES UNLIMITED LLC\u0027, \u0027MAJESTIC LAWN AND TREE SERVICE LLC\u0027, \u0027MAJESTIC LAWN CARE  LANDSCAPE INC\u0027, \u0027MANN ICURE LAWN SERVICE  LAND\u0027, \u0027MANUEL MAINTENANCE LLC\u0027, \u0027MARTINEZ PROFESSIONAL LAWN SERVICE\u0027, \u0027NEIGHBORLY HOME INSPECTION AND MAINTENANCE INC\u0027, \u0027OWENS LAWN  LANDSCAPING LLC\u0027, \u0027PALM BEACH LAWN SERVICE\u0027, \u0027PATRIOT ELECTRICAL MAINTENANCE INC\u0027, \u0027PERFECTION LAWN CARE INC\u0027, \u0027PJS LAWN SERVICE INC\u0027, \u0027POOL SERVICE  MAINTENANCE PROFESSIONALS LLC\u0027, \u0027PRINCETON BUILDING MAINTENANCE CO INC\u0027, \u0027PRO LAWN SERVICES LLC\u0027, \u0027PROFESSIONAL BUILDING MAINTENANCE INC\u0027, \u0027PS FACILITY MAINTENANCE LLC\u0027, \u0027R  D LAWN CARE LLC\u0027, \u0027R  S ANDERSON LAWN SERVICE\u0027, \u0027RAINBOW MAINTENANCE  CLEANING CORP\u0027, \u0027RICHARDSON LAWN  LANDSCAPE\u0027, \u0027ROOF MAINTENANCE SERVICES LLC\u0027, \u0027S AND H AFFORDABLE SOLUTIONS LLC\u0027, \u0027SEASIDE LAWN AND LANDSCAPING\u0027, \u0027SERVANTS LAWN  LANDSCAPE INC\u0027, \u0027SILVER STATE PROPERTY MAINTENANCE\u0027, \u0027SMITHS LAWN LANDSCAPING AND CURBING SERVICES LLC\u0027, \u0027SOTOS LAWN SERVICE INC\u0027, \u0027SOUTHEASTERN CONSTRUCTION AND MAINTENANCE INC\u0027, \u0027SPRING GREEN LAWN CARE\u0027, \u0027SR PROPERTY MAINTENANCE LLC\u0027, \u0027STRICKLAND LAWN AND LANDSCAPE INC\u0027, \u0027SUPERIOR LAWN\u0027, \u0027T SPRINKLER  LAWN MAINTENANCE\u0027, \u0027TEXAS EXTERIOR MAINTENANCE  SANITATION\u0027, \u0027THE LAWN CUTTERS INC\u0027, \u0027THE OTHER SIDE LAWN CARE AND MAINTENANCE LLC\u0027, \u0027TRICOUNTY LAWN  ORNAMENTAL SERVICES INC\u0027, \u0027TURF ENOUGH LAWN CARE INC\u0027, \u0027TURFTECH LAWN CARE LLC\u0027, \u0027TUS NUA LAWN AND LANSCAPE LLC\u0027, \u0027URBAN YARDWORX LAWN AND LANDSCAPE CO\u0027, \u0027URBANI LAWN  LANDSCAPING LLC\u0027, \u0027WEST AFFORDABLE AUTO SALES\u0027, \"WOODARD\u0027S MAINTENANCE AND RESTORATION LL\", \u0027WOODS LAWN CARE AND SNOW REMOVAL LLC\u0027, \u0027WORRY FREE LAWN CARE  SNOW REMOVAL\u0027]\n[0.4, 0.29, 0.4, 0.5, 0.29, 0.0, 0.0, 0.29, 0.4, 0.4, 0.29, 0.29, 0.4, 0.0, 0.4, 0.5, 0.5, 0.0, 0.0, 0.0, 0.0, 0.0, 0.4, 0.0, 0.0, 0.5, 0.4, 0.29, 0.0, 0.0, 0.29, 0.4, 0.4, 0.4, 0.4, 0.0, 0.29, 0.4, 0.4, 0.5, 0.0, 0.0, 0.4, 0.29, 0.0, 0.0, 0.0, 0.5, 0.4, 0.4, 0.29, 0.29, 0.4, 0.29, 0.4, 0.29, 0.29, 0.0, 0.29, 0.29, 0.5, 0.5, 0.4, 0.0, 0.4, 0.5, 0.29, 0.5, 0.0, 0.0, 0.5, 0.4, 0.0, 0.4, 0.5, 0.29, 0.4, 0.4, 0.0, 0.4, 0.4, 0.0, 0.4, 0.0, 0.29, 0.4, 0.0, 0.0, 0.29, 0.29, 0.0, 0.4, 0.0, 0.4, 0.0, 0.0, 0.29, 0.4, 0.4, 0.4, 0.29, 0.4, 0.0, 0.4, 0.29, 0.5, 0.4, 0.29, 0.0, 0.4, 0.5, 0.4, 0.4, 0.5, 0.0, 0.29, 0.4, 0.4, 0.4, 0.4]\n[1.0, 3.0, 0.0, 3.0, 4.0, 2.0, 1.0, 2.0, 3.0, 3.0, 4.0, 4.0, 3.0, 1.0, 0.0, 3.0, 4.0, 3.0, 3.0, 4.0, 2.0, 3.0, 0.0, 0.0, 3.0, 3.0, 3.0, 3.0, 4.0, 3.0, 4.0, 4.0, 1.0, 4.0, 4.0, 1.0, 1.0, 3.0, 3.0, 4.0, 0.0, 4.0, 1.0, 2.0, 1.0, 2.0, 4.0, 0.0, 0.0, 0.0, 3.0, 4.0, 1.0, 2.0, 4.0, 4.0, 0.0, 4.0, 4.0, 0.0, 0.0, 0.0, 0.0, 2.0, 3.0, 0.0, 2.0, 3.0, 3.0, 3.0, 4.0, 2.0, 1.0, 4.0, 2.0, 1.0, 3.0, 1.0, 4.0, 3.0, 3.0, 4.0, 3.0, 0.0, 4.0, 3.0, 1.0, 3.0, 4.0, 4.0, 4.0, 4.0, 4.0, 4.0, 0.0, 1.0, 4.0, 1.0, 0.0, 1.0, 4.0, 1.0, 3.0, 2.0, 3.0, 1.0, 4.0, 1.0, 4.0, 1.0, 2.0, 1.0, 3.0, 1.0, 0.0, 0.0, 1.0, 1.0, 4.0, 4.0]\n\n\u003d\u003d\u003d\u003d\u003d\n\n",
          "name": "stdout"
        },
        {
          "output_type": "error",
          "ename": "KeyboardInterrupt",
          "evalue": "",
          "traceback": [
            "\u001b[0;31m---------------------------------------------------------------------------\u001b[0m",
            "\u001b[0;31mKeyboardInterrupt\u001b[0m                         Traceback (most recent call last)",
            "\u001b[0;32m\u003cipython-input-101-9068327dfd28\u003e\u001b[0m in \u001b[0;36m\u003cmodule\u003e\u001b[0;34m\u001b[0m\n\u001b[1;32m     35\u001b[0m \u001b[0;32mfor\u001b[0m \u001b[0mc\u001b[0m \u001b[0;32min\u001b[0m \u001b[0m_customers\u001b[0m\u001b[0;34m:\u001b[0m\u001b[0;34m\u001b[0m\u001b[0;34m\u001b[0m\u001b[0m\n\u001b[1;32m     36\u001b[0m \u001b[0;34m\u001b[0m\u001b[0m\n\u001b[0;32m---\u003e 37\u001b[0;31m     \u001b[0;32mfor\u001b[0m \u001b[0mindex_up\u001b[0m\u001b[0;34m,\u001b[0m \u001b[0mrow_up\u001b[0m \u001b[0;32min\u001b[0m \u001b[0mdf_up\u001b[0m\u001b[0;34m.\u001b[0m\u001b[0miterrows\u001b[0m\u001b[0;34m(\u001b[0m\u001b[0;34m)\u001b[0m\u001b[0;34m:\u001b[0m\u001b[0;34m\u001b[0m\u001b[0;34m\u001b[0m\u001b[0m\n\u001b[0m\u001b[1;32m     38\u001b[0m \u001b[0;34m\u001b[0m\u001b[0m\n\u001b[1;32m     39\u001b[0m         \u001b[0midx\u001b[0m\u001b[0;34m+\u003d\u001b[0m\u001b[0;36m1\u001b[0m\u001b[0;34m\u001b[0m\u001b[0;34m\u001b[0m\u001b[0m\n",
            "\u001b[0;32m/data/dataiku/dss_data/code-envs/python/env_clc/lib64/python3.6/site-packages/pandas/core/frame.py\u001b[0m in \u001b[0;36miterrows\u001b[0;34m(self)\u001b[0m\n\u001b[1;32m    950\u001b[0m         \u001b[0mklass\u001b[0m \u001b[0;34m\u003d\u001b[0m \u001b[0mself\u001b[0m\u001b[0;34m.\u001b[0m\u001b[0m_constructor_sliced\u001b[0m\u001b[0;34m\u001b[0m\u001b[0;34m\u001b[0m\u001b[0m\n\u001b[1;32m    951\u001b[0m         \u001b[0;32mfor\u001b[0m \u001b[0mk\u001b[0m\u001b[0;34m,\u001b[0m \u001b[0mv\u001b[0m \u001b[0;32min\u001b[0m \u001b[0mzip\u001b[0m\u001b[0;34m(\u001b[0m\u001b[0mself\u001b[0m\u001b[0;34m.\u001b[0m\u001b[0mindex\u001b[0m\u001b[0;34m,\u001b[0m \u001b[0mself\u001b[0m\u001b[0;34m.\u001b[0m\u001b[0mvalues\u001b[0m\u001b[0;34m)\u001b[0m\u001b[0;34m:\u001b[0m\u001b[0;34m\u001b[0m\u001b[0;34m\u001b[0m\u001b[0m\n\u001b[0;32m--\u003e 952\u001b[0;31m             \u001b[0ms\u001b[0m \u001b[0;34m\u003d\u001b[0m \u001b[0mklass\u001b[0m\u001b[0;34m(\u001b[0m\u001b[0mv\u001b[0m\u001b[0;34m,\u001b[0m \u001b[0mindex\u001b[0m\u001b[0;34m\u003d\u001b[0m\u001b[0mcolumns\u001b[0m\u001b[0;34m,\u001b[0m \u001b[0mname\u001b[0m\u001b[0;34m\u003d\u001b[0m\u001b[0mk\u001b[0m\u001b[0;34m)\u001b[0m\u001b[0;34m\u001b[0m\u001b[0;34m\u001b[0m\u001b[0m\n\u001b[0m\u001b[1;32m    953\u001b[0m             \u001b[0;32myield\u001b[0m \u001b[0mk\u001b[0m\u001b[0;34m,\u001b[0m \u001b[0ms\u001b[0m\u001b[0;34m\u001b[0m\u001b[0;34m\u001b[0m\u001b[0m\n\u001b[1;32m    954\u001b[0m \u001b[0;34m\u001b[0m\u001b[0m\n",
            "\u001b[0;32m/data/dataiku/dss_data/code-envs/python/env_clc/lib64/python3.6/site-packages/pandas/core/series.py\u001b[0m in \u001b[0;36m__init__\u001b[0;34m(self, data, index, dtype, name, copy, fastpath)\u001b[0m\n\u001b[1;32m    303\u001b[0m                     \u001b[0mdata\u001b[0m \u001b[0;34m\u003d\u001b[0m \u001b[0mdata\u001b[0m\u001b[0;34m.\u001b[0m\u001b[0mcopy\u001b[0m\u001b[0;34m(\u001b[0m\u001b[0;34m)\u001b[0m\u001b[0;34m\u001b[0m\u001b[0;34m\u001b[0m\u001b[0m\n\u001b[1;32m    304\u001b[0m             \u001b[0;32melse\u001b[0m\u001b[0;34m:\u001b[0m\u001b[0;34m\u001b[0m\u001b[0;34m\u001b[0m\u001b[0m\n\u001b[0;32m--\u003e 305\u001b[0;31m                 \u001b[0mdata\u001b[0m \u001b[0;34m\u003d\u001b[0m \u001b[0msanitize_array\u001b[0m\u001b[0;34m(\u001b[0m\u001b[0mdata\u001b[0m\u001b[0;34m,\u001b[0m \u001b[0mindex\u001b[0m\u001b[0;34m,\u001b[0m \u001b[0mdtype\u001b[0m\u001b[0;34m,\u001b[0m \u001b[0mcopy\u001b[0m\u001b[0;34m,\u001b[0m \u001b[0mraise_cast_failure\u001b[0m\u001b[0;34m\u003d\u001b[0m\u001b[0;32mTrue\u001b[0m\u001b[0;34m)\u001b[0m\u001b[0;34m\u001b[0m\u001b[0;34m\u001b[0m\u001b[0m\n\u001b[0m\u001b[1;32m    306\u001b[0m \u001b[0;34m\u001b[0m\u001b[0m\n\u001b[1;32m    307\u001b[0m                 \u001b[0mdata\u001b[0m \u001b[0;34m\u003d\u001b[0m \u001b[0mSingleBlockManager\u001b[0m\u001b[0;34m(\u001b[0m\u001b[0mdata\u001b[0m\u001b[0;34m,\u001b[0m \u001b[0mindex\u001b[0m\u001b[0;34m,\u001b[0m \u001b[0mfastpath\u001b[0m\u001b[0;34m\u003d\u001b[0m\u001b[0;32mTrue\u001b[0m\u001b[0;34m)\u001b[0m\u001b[0;34m\u001b[0m\u001b[0;34m\u001b[0m\u001b[0m\n",
            "\u001b[0;32m/data/dataiku/dss_data/code-envs/python/env_clc/lib64/python3.6/site-packages/pandas/core/construction.py\u001b[0m in \u001b[0;36msanitize_array\u001b[0;34m(data, index, dtype, copy, raise_cast_failure)\u001b[0m\n\u001b[1;32m    496\u001b[0m                 \u001b[0msubarr\u001b[0m \u001b[0;34m\u003d\u001b[0m \u001b[0mnp\u001b[0m\u001b[0;34m.\u001b[0m\u001b[0marray\u001b[0m\u001b[0;34m(\u001b[0m\u001b[0mdata\u001b[0m\u001b[0;34m,\u001b[0m \u001b[0mdtype\u001b[0m\u001b[0;34m\u003d\u001b[0m\u001b[0mobject\u001b[0m\u001b[0;34m,\u001b[0m \u001b[0mcopy\u001b[0m\u001b[0;34m\u003d\u001b[0m\u001b[0mcopy\u001b[0m\u001b[0;34m)\u001b[0m\u001b[0;34m\u001b[0m\u001b[0;34m\u001b[0m\u001b[0m\n\u001b[1;32m    497\u001b[0m \u001b[0;34m\u001b[0m\u001b[0m\n\u001b[0;32m--\u003e 498\u001b[0;31m         \u001b[0;32mif\u001b[0m \u001b[0mis_object_dtype\u001b[0m\u001b[0;34m(\u001b[0m\u001b[0msubarr\u001b[0m\u001b[0;34m.\u001b[0m\u001b[0mdtype\u001b[0m\u001b[0;34m)\u001b[0m \u001b[0;32mand\u001b[0m \u001b[0;32mnot\u001b[0m \u001b[0mis_object_dtype\u001b[0m\u001b[0;34m(\u001b[0m\u001b[0mdtype\u001b[0m\u001b[0;34m)\u001b[0m\u001b[0;34m:\u001b[0m\u001b[0;34m\u001b[0m\u001b[0;34m\u001b[0m\u001b[0m\n\u001b[0m\u001b[1;32m    499\u001b[0m             \u001b[0minferred\u001b[0m \u001b[0;34m\u003d\u001b[0m \u001b[0mlib\u001b[0m\u001b[0;34m.\u001b[0m\u001b[0minfer_dtype\u001b[0m\u001b[0;34m(\u001b[0m\u001b[0msubarr\u001b[0m\u001b[0;34m,\u001b[0m \u001b[0mskipna\u001b[0m\u001b[0;34m\u003d\u001b[0m\u001b[0;32mFalse\u001b[0m\u001b[0;34m)\u001b[0m\u001b[0;34m\u001b[0m\u001b[0;34m\u001b[0m\u001b[0m\n\u001b[1;32m    500\u001b[0m             \u001b[0;32mif\u001b[0m \u001b[0minferred\u001b[0m \u001b[0;32min\u001b[0m \u001b[0;34m{\u001b[0m\u001b[0;34m\"interval\"\u001b[0m\u001b[0;34m,\u001b[0m \u001b[0;34m\"period\"\u001b[0m\u001b[0;34m}\u001b[0m\u001b[0;34m:\u001b[0m\u001b[0;34m\u001b[0m\u001b[0;34m\u001b[0m\u001b[0m\n",
            "\u001b[0;32m/data/dataiku/dss_data/code-envs/python/env_clc/lib64/python3.6/site-packages/pandas/core/dtypes/common.py\u001b[0m in \u001b[0;36mis_object_dtype\u001b[0;34m(arr_or_dtype)\u001b[0m\n\u001b[1;32m    247\u001b[0m     \u001b[0;32mFalse\u001b[0m\u001b[0;34m\u001b[0m\u001b[0;34m\u001b[0m\u001b[0m\n\u001b[1;32m    248\u001b[0m     \"\"\"\n\u001b[0;32m--\u003e 249\u001b[0;31m     \u001b[0;32mreturn\u001b[0m \u001b[0m_is_dtype_type\u001b[0m\u001b[0;34m(\u001b[0m\u001b[0marr_or_dtype\u001b[0m\u001b[0;34m,\u001b[0m \u001b[0mclasses\u001b[0m\u001b[0;34m(\u001b[0m\u001b[0mnp\u001b[0m\u001b[0;34m.\u001b[0m\u001b[0mobject_\u001b[0m\u001b[0;34m)\u001b[0m\u001b[0;34m)\u001b[0m\u001b[0;34m\u001b[0m\u001b[0;34m\u001b[0m\u001b[0m\n\u001b[0m\u001b[1;32m    250\u001b[0m \u001b[0;34m\u001b[0m\u001b[0m\n\u001b[1;32m    251\u001b[0m \u001b[0;34m\u001b[0m\u001b[0m\n",
            "\u001b[0;32m/data/dataiku/dss_data/code-envs/python/env_clc/lib64/python3.6/site-packages/pandas/core/dtypes/common.py\u001b[0m in \u001b[0;36m_is_dtype_type\u001b[0;34m(arr_or_dtype, condition)\u001b[0m\n\u001b[1;32m   1726\u001b[0m     \u001b[0;31m# fastpath\u001b[0m\u001b[0;34m\u001b[0m\u001b[0;34m\u001b[0m\u001b[0;34m\u001b[0m\u001b[0m\n\u001b[1;32m   1727\u001b[0m     \u001b[0;32mif\u001b[0m \u001b[0misinstance\u001b[0m\u001b[0;34m(\u001b[0m\u001b[0marr_or_dtype\u001b[0m\u001b[0;34m,\u001b[0m \u001b[0mnp\u001b[0m\u001b[0;34m.\u001b[0m\u001b[0mdtype\u001b[0m\u001b[0;34m)\u001b[0m\u001b[0;34m:\u001b[0m\u001b[0;34m\u001b[0m\u001b[0;34m\u001b[0m\u001b[0m\n\u001b[0;32m-\u003e 1728\u001b[0;31m         \u001b[0;32mreturn\u001b[0m \u001b[0mcondition\u001b[0m\u001b[0;34m(\u001b[0m\u001b[0marr_or_dtype\u001b[0m\u001b[0;34m.\u001b[0m\u001b[0mtype\u001b[0m\u001b[0;34m)\u001b[0m\u001b[0;34m\u001b[0m\u001b[0;34m\u001b[0m\u001b[0m\n\u001b[0m\u001b[1;32m   1729\u001b[0m     \u001b[0;32melif\u001b[0m \u001b[0misinstance\u001b[0m\u001b[0;34m(\u001b[0m\u001b[0marr_or_dtype\u001b[0m\u001b[0;34m,\u001b[0m \u001b[0mtype\u001b[0m\u001b[0;34m)\u001b[0m\u001b[0;34m:\u001b[0m\u001b[0;34m\u001b[0m\u001b[0;34m\u001b[0m\u001b[0m\n\u001b[1;32m   1730\u001b[0m         \u001b[0;32mif\u001b[0m \u001b[0missubclass\u001b[0m\u001b[0;34m(\u001b[0m\u001b[0marr_or_dtype\u001b[0m\u001b[0;34m,\u001b[0m \u001b[0mExtensionDtype\u001b[0m\u001b[0;34m)\u001b[0m\u001b[0;34m:\u001b[0m\u001b[0;34m\u001b[0m\u001b[0;34m\u001b[0m\u001b[0m\n",
            "\u001b[0;31mKeyboardInterrupt\u001b[0m: "
          ]
        }
      ]
    },
    {
      "execution_count": 0,
      "cell_type": "code",
      "metadata": {},
      "source": [
        ""
      ],
      "outputs": []
    },
    {
      "execution_count": 0,
      "cell_type": "code",
      "metadata": {},
      "source": [
        "df_matches \u003d pd.DataFrame(_direct_customer)\ndf_matches.columns \u003d [\u0027CUSTOMER\u0027]\ndf_matches[\"MATCH_CUSTOMER\"] \u003d _direct_match\ndf_matches[\"DRAW_UP_DATE\"] \u003d _direct_draw_up_date\ndf_matches.head()"
      ],
      "outputs": []
    },
    {
      "execution_count": 100,
      "cell_type": "code",
      "metadata": {},
      "source": [
        "df_multiple_matches \u003d pd.DataFrame(_multiple_customer)\ndf_multiple_matches.columns \u003d [\u0027CUSTOMER\u0027]\ndf_multiple_matches[\"MATCH_CUSTOMER\"] \u003d _multiple_matches\ndf_multiple_matches[\"DRAW_UP_DATE\"] \u003d _multiple_drop_dates\ndf_multiple_matches[[\u0027CUSTOMER\u0027,\u0027MATCH_CUSTOMER\u0027]]"
      ],
      "outputs": [
        {
          "output_type": "execute_result",
          "execution_count": 100,
          "data": {
            "text/plain": "                                CUSTOMER                                     MATCH_CUSTOMER\n0          1 AFFORDABLE LAWN MAINTENANCE  [1 AFFORDABLE LAWN MAINTENANCE LLC, 5 STAR MAI...\n1                            1 G R V LLC  [B  R CONSTRUCTION LLC, B AND R PLUMBING LLC, ...\n2                         1 KC LOGISTICS  [1ST ONE LOGISTICS CORPORATION, 24 7 LOGISTICS...\n3  1 PRIORITY ENVIRONMENTAL SERVICES LLC  [CORE ENVIRONMENTAL SOLUTIONS, JAG ENVIRONMENT...\n4       1 WAY AUTO AND FREIGHT LOGISTICS  [1845 LOGISTICS LLC, 230 LOGISTICS LLC, 7FOLDS...\n5                     1 WITH NATURE, LLC     [ANYTHING WITH INK WESTAZ LLC, FLEAUX WITH MO]\n6         10 33 AMBULANCE SERVICE LTD(04  [1033 AMBULANCE SERVICE LTD, ALLEN COUNTY AMBU...\n7                   1005 FINANCIAL GROUP  [AGZ FINANCIAL SERVICES LLC, BRIGHTER BEGINNIN...\n8                    1021 AUTO SALES LLC  [AR SALES LLC, AUTO DETAILING SOLUTIONS OF ABI...",
            "text/html": "\u003cdiv\u003e\n\u003cstyle scoped\u003e\n    .dataframe tbody tr th:only-of-type {\n        vertical-align: middle;\n    }\n\n    .dataframe tbody tr th {\n        vertical-align: top;\n    }\n\n    .dataframe thead th {\n        text-align: right;\n    }\n\u003c/style\u003e\n\u003ctable border\u003d\"1\" class\u003d\"dataframe\"\u003e\n  \u003cthead\u003e\n    \u003ctr style\u003d\"text-align: right;\"\u003e\n      \u003cth\u003e\u003c/th\u003e\n      \u003cth\u003eCUSTOMER\u003c/th\u003e\n      \u003cth\u003eMATCH_CUSTOMER\u003c/th\u003e\n    \u003c/tr\u003e\n  \u003c/thead\u003e\n  \u003ctbody\u003e\n    \u003ctr\u003e\n      \u003cth\u003e0\u003c/th\u003e\n      \u003ctd\u003e1 AFFORDABLE LAWN MAINTENANCE\u003c/td\u003e\n      \u003ctd\u003e[1 AFFORDABLE LAWN MAINTENANCE LLC, 5 STAR MAI...\u003c/td\u003e\n    \u003c/tr\u003e\n    \u003ctr\u003e\n      \u003cth\u003e1\u003c/th\u003e\n      \u003ctd\u003e1 G R V LLC\u003c/td\u003e\n      \u003ctd\u003e[B  R CONSTRUCTION LLC, B AND R PLUMBING LLC, ...\u003c/td\u003e\n    \u003c/tr\u003e\n    \u003ctr\u003e\n      \u003cth\u003e2\u003c/th\u003e\n      \u003ctd\u003e1 KC LOGISTICS\u003c/td\u003e\n      \u003ctd\u003e[1ST ONE LOGISTICS CORPORATION, 24 7 LOGISTICS...\u003c/td\u003e\n    \u003c/tr\u003e\n    \u003ctr\u003e\n      \u003cth\u003e3\u003c/th\u003e\n      \u003ctd\u003e1 PRIORITY ENVIRONMENTAL SERVICES LLC\u003c/td\u003e\n      \u003ctd\u003e[CORE ENVIRONMENTAL SOLUTIONS, JAG ENVIRONMENT...\u003c/td\u003e\n    \u003c/tr\u003e\n    \u003ctr\u003e\n      \u003cth\u003e4\u003c/th\u003e\n      \u003ctd\u003e1 WAY AUTO AND FREIGHT LOGISTICS\u003c/td\u003e\n      \u003ctd\u003e[1845 LOGISTICS LLC, 230 LOGISTICS LLC, 7FOLDS...\u003c/td\u003e\n    \u003c/tr\u003e\n    \u003ctr\u003e\n      \u003cth\u003e5\u003c/th\u003e\n      \u003ctd\u003e1 WITH NATURE, LLC\u003c/td\u003e\n      \u003ctd\u003e[ANYTHING WITH INK WESTAZ LLC, FLEAUX WITH MO]\u003c/td\u003e\n    \u003c/tr\u003e\n    \u003ctr\u003e\n      \u003cth\u003e6\u003c/th\u003e\n      \u003ctd\u003e10 33 AMBULANCE SERVICE LTD(04\u003c/td\u003e\n      \u003ctd\u003e[1033 AMBULANCE SERVICE LTD, ALLEN COUNTY AMBU...\u003c/td\u003e\n    \u003c/tr\u003e\n    \u003ctr\u003e\n      \u003cth\u003e7\u003c/th\u003e\n      \u003ctd\u003e1005 FINANCIAL GROUP\u003c/td\u003e\n      \u003ctd\u003e[AGZ FINANCIAL SERVICES LLC, BRIGHTER BEGINNIN...\u003c/td\u003e\n    \u003c/tr\u003e\n    \u003ctr\u003e\n      \u003cth\u003e8\u003c/th\u003e\n      \u003ctd\u003e1021 AUTO SALES LLC\u003c/td\u003e\n      \u003ctd\u003e[AR SALES LLC, AUTO DETAILING SOLUTIONS OF ABI...\u003c/td\u003e\n    \u003c/tr\u003e\n  \u003c/tbody\u003e\n\u003c/table\u003e\n\u003c/div\u003e"
          },
          "metadata": {}
        }
      ]
    },
    {
      "execution_count": 0,
      "cell_type": "code",
      "metadata": {},
      "source": [
        "MATCHES_1_TO_N_FOR_MANUAL_REVIEW_df \u003d df_multiple_matches\nMACTHES_1_TO_N_FOR_MANUAL_REVIEW \u003d dataiku.Dataset(\"MATCHES_1_TO_N_FOR_MANUAL_REVIEW\")\nMACTHES_1_TO_N_FOR_MANUAL_REVIEW.write_with_schema(MATCHES_1_TO_N_FOR_MANUAL_REVIEW_df)\n\nMATCHES_1_TO_1_df \u003d df_matches\nMATCHES_1_TO_1 \u003d dataiku.Dataset(\"MATCHES_1_TO_1\")\nMATCHES_1_TO_1.write_with_schema(MATCHES_1_TO_1_df)"
      ],
      "outputs": []
    }
  ]
}