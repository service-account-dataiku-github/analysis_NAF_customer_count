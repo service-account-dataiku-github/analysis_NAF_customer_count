{
  "metadata": {
    "kernelspec": {
      "name": "py-dku-venv-env_clc",
      "display_name": "Python (env env_clc)",
      "language": "python"
    },
    "associatedRecipe": "compute_CONSOLIDATED_MATCHES",
    "dkuGit": {
      "lastInteraction": 0
    },
    "creationTag": {
      "versionNumber": 0,
      "lastModifiedBy": {
        "login": "Daniel.Vandermeer"
      },
      "lastModifiedOn": 1666015248584
    },
    "creator": "Daniel.Vandermeer",
    "createdOn": 1666015248584,
    "tags": [
      "recipe-editor"
    ],
    "customFields": {},
    "hide_input": false,
    "language_info": {
      "name": "python",
      "version": "3.6.8",
      "mimetype": "text/x-python",
      "codemirror_mode": {
        "name": "ipython",
        "version": 3
      },
      "pygments_lexer": "ipython3",
      "nbconvert_exporter": "python",
      "file_extension": ".py"
    },
    "modifiedBy": "Daniel.Vandermeer"
  },
  "nbformat": 4,
  "nbformat_minor": 1,
  "cells": [
    {
      "execution_count": 15,
      "cell_type": "code",
      "metadata": {},
      "source": [
        "# -*- coding: utf-8 -*-\nimport dataiku\nimport pandas as pd, numpy as np\nfrom dataiku import pandasutils as pdu\n\n# Read recipe inputs\nCALCULATED_CARD_DRAW_UPS \u003d dataiku.Dataset(\"CALCULATED_CARD_DRAW_UPS\")\nCALCULATED_CARD_DRAW_UPS_df \u003d CALCULATED_CARD_DRAW_UPS.get_dataframe()\n\nCALCULATED_CARD_DRAW_DOWNS \u003d dataiku.Dataset(\"CALCULATED_CARD_DRAW_DOWNS\")\nCALCULATED_CARD_DRAW_DOWNS_df \u003d CALCULATED_CARD_DRAW_DOWNS.get_dataframe()\n\nCOMMON_WORDS \u003d dataiku.Dataset(\"NAFCUSTOMER_COMMON_WORDS_IN_NAMES\")\nCOMMON_WORDS_df \u003d COMMON_WORDS.get_dataframe()"
      ],
      "outputs": []
    },
    {
      "execution_count": 17,
      "cell_type": "code",
      "metadata": {},
      "source": [
        "df_down \u003d CALCULATED_CARD_DRAW_DOWNS_df\ndf_up \u003d CALCULATED_CARD_DRAW_UPS_df\ndf_common \u003d COMMON_WORDS_df\n\ndf_down.sort_values([\u0027CUSTOMER\u0027], inplace\u003dTrue)\ndf_up.sort_values([\u0027CUSTOMER\u0027], inplace\u003dTrue)\ndf_common.sort_values([\u0027WORD\u0027], inplace\u003dTrue)\n\nprint(len(df_down), \"draw downs\")\nprint(len(df_up), \"draw ups\")\nprint(len(df_common), \"common words\")"
      ],
      "outputs": [
        {
          "output_type": "stream",
          "text": "194 draw downs\n322 draw ups\n2173 common words\n",
          "name": "stdout"
        }
      ]
    },
    {
      "execution_count": 21,
      "cell_type": "code",
      "metadata": {},
      "source": [
        "df_down \u003d df_down.sample(frac\u003d1).reset_index(drop\u003dTrue)\ndf_down.head()\ndf_common.head()"
      ],
      "outputs": [
        {
          "output_type": "execute_result",
          "execution_count": 21,
          "data": {
            "text/plain": "      WORD  COUNTS\n1459   1ST     337\n923   5R82     192\n1725    A1     517\n1194    AA     244\n1372   AAA     298",
            "text/html": "\u003cdiv\u003e\n\u003cstyle scoped\u003e\n    .dataframe tbody tr th:only-of-type {\n        vertical-align: middle;\n    }\n\n    .dataframe tbody tr th {\n        vertical-align: top;\n    }\n\n    .dataframe thead th {\n        text-align: right;\n    }\n\u003c/style\u003e\n\u003ctable border\u003d\"1\" class\u003d\"dataframe\"\u003e\n  \u003cthead\u003e\n    \u003ctr style\u003d\"text-align: right;\"\u003e\n      \u003cth\u003e\u003c/th\u003e\n      \u003cth\u003eWORD\u003c/th\u003e\n      \u003cth\u003eCOUNTS\u003c/th\u003e\n    \u003c/tr\u003e\n  \u003c/thead\u003e\n  \u003ctbody\u003e\n    \u003ctr\u003e\n      \u003cth\u003e1459\u003c/th\u003e\n      \u003ctd\u003e1ST\u003c/td\u003e\n      \u003ctd\u003e337\u003c/td\u003e\n    \u003c/tr\u003e\n    \u003ctr\u003e\n      \u003cth\u003e923\u003c/th\u003e\n      \u003ctd\u003e5R82\u003c/td\u003e\n      \u003ctd\u003e192\u003c/td\u003e\n    \u003c/tr\u003e\n    \u003ctr\u003e\n      \u003cth\u003e1725\u003c/th\u003e\n      \u003ctd\u003eA1\u003c/td\u003e\n      \u003ctd\u003e517\u003c/td\u003e\n    \u003c/tr\u003e\n    \u003ctr\u003e\n      \u003cth\u003e1194\u003c/th\u003e\n      \u003ctd\u003eAA\u003c/td\u003e\n      \u003ctd\u003e244\u003c/td\u003e\n    \u003c/tr\u003e\n    \u003ctr\u003e\n      \u003cth\u003e1372\u003c/th\u003e\n      \u003ctd\u003eAAA\u003c/td\u003e\n      \u003ctd\u003e298\u003c/td\u003e\n    \u003c/tr\u003e\n  \u003c/tbody\u003e\n\u003c/table\u003e\n\u003c/div\u003e"
          },
          "metadata": {}
        }
      ]
    },
    {
      "execution_count": 26,
      "cell_type": "code",
      "metadata": {},
      "source": [
        "import string\n\n_common_words \u003d df_common.WORD.unique()\nprint(len(_common_words), \"screening against common words\")\n\nclass Draw_Down_Customer:\n\n    def __init__(self, name, draw_down_date, mean_dd, std_dd, active_card_max):\n\n        self.CUSTOMER \u003d name\n        self.DRAW_DOWN_DATE \u003d draw_down_date\n        self.ACTIVE_CARD_MAX \u003d active_card_max\n\n        self.MATCHING_CUSTOMERS \u003d []\n        self.PERCENT_DIFFERENCE \u003d []\n        self.DAYS_DIFFERENCE \u003d []\n        self.DRAW_UP_DATE \u003d []\n\n        # remove punctuation\n        c_str \u003d name.translate(str.maketrans(\u0027\u0027, \u0027\u0027, string.punctuation))\n\n        f \u003d c_str.split()\n        self.WORD_LIST \u003d []\n        for w in f:\n            if w not in _common_words:\n                self.WORD_LIST.append(w)\n\n    def Match_Draw_Up_Customer(self, name, draw_up_date, mean_du, std_du, active_card_max):\n\n        if (self.CUSTOMER \u003d\u003d name):\n            # exact match, already captured\n            return\n\n        c_str \u003d name.translate(str.maketrans(\u0027\u0027, \u0027\u0027, string.punctuation))\n\n        f \u003d c_str.split()\n\n        check_list \u003d []\n        for w in f:\n            if (w not in _common_words) and (len(w)\u003e1) and (not w.isnumeric()):\n                check_list.append(w)\n\n        percent_diff \u003d round((abs(self.ACTIVE_CARD_MAX - active_card_max) / ((self.ACTIVE_CARD_MAX+active_card_max)/2)),2)\n\n        #date_format \u003d \"%Y-%m-%d\"\n        #d1_date \u003d datetime.strptime(draw_up_date.astype(str), date_format)\n        #d2_date \u003d datetime.strptime(self.DRAW_DOWN_DATE.astype(str), date_format)\n\n        delta_between_drop_and_rise \u003d round(abs((draw_up_date-self.DRAW_DOWN_DATE).days)/30.,0)\n\n        for w_to_check in check_list:\n            for w in self.WORD_LIST:\n                if w_to_check\u003d\u003dw:\n\n                    if not name in(self.MATCHING_CUSTOMERS) and(delta_between_drop_and_rise\u003c\u003d4)and(percent_diff\u003c\u003d0.5) :\n                        self.MATCHING_CUSTOMERS.append(name)\n                        self.PERCENT_DIFFERENCE.append(percent_diff)\n                        self.DAYS_DIFFERENCE.append(delta_between_drop_and_rise)\n                        self.DRAW_UP_DATE.append(draw_up_date)\n                        break;"
      ],
      "outputs": [
        {
          "output_type": "stream",
          "text": "2173 screening against common words\n",
          "name": "stdout"
        }
      ]
    },
    {
      "execution_count": 27,
      "cell_type": "code",
      "metadata": {},
      "source": [
        "idx \u003d 0\n_customers \u003d []\nverbose \u003d True\n\nmax_idx \u003d 1000\n\nfor index, row in df_down.iterrows():\n\n    idx+\u003d1\n\n    customer \u003d row[\u0027CUSTOMER\u0027]\n    draw_down_date \u003d row[\u0027DRAW_DOWN_DATE\u0027]\n    mean_dd \u003d row[\u0027MEAN_DD\u0027]\n    std_dd \u003d row[\u0027STD_DD\u0027]\n    active_card_max \u003d row[\u0027ACTIVE_CARD_MAX\u0027]\n\n    c \u003d Draw_Down_Customer(customer, draw_down_date, mean_dd, std_dd, active_card_max)\n\n    _customers.append(c)\n\n    if max_idx\u003e0:\n        if idx\u003emax_idx:\n            break;\n\nidx \u003d 0\n\n_direct_customer \u003d []\n_direct_match \u003d []\n_direct_draw_up_date \u003d []\n\n_multiple_customer \u003d []\n_multiple_matches \u003d []\n_multiple_drop_dates \u003d []\n\n_no_match_customer \u003d []\n\nfor c in _customers:\n\n    for index_up, row_up in df_up.iterrows():\n\n        idx+\u003d1\n\n        customer \u003d row_up[\u0027CUSTOMER\u0027]\n        draw_up_date \u003d row_up[\u0027DRAW_UP_DATE\u0027]\n        mean_du \u003d row_up[\u0027MEAN_DU\u0027]\n        std_du \u003d row_up[\u0027STD_DU\u0027]\n        active_card_max \u003d row_up[\u0027ACTIVE_CARD_MAX\u0027]\n\n        c.Match_Draw_Up_Customer(customer, draw_up_date, mean_du, std_du, active_card_max)\n\n    if len(c.MATCHING_CUSTOMERS)\u003d\u003d1:\n\n        _direct_customer.append(c.CUSTOMER)\n        _direct_match.append(c.MATCHING_CUSTOMERS[0])\n        _direct_draw_up_date.append(c.DRAW_UP_DATE[0])\n\n        if verbose:\n            print()\n            print(\"DIRECT\")\n            print(c.CUSTOMER, c.WORD_LIST)\n            print(c.MATCHING_CUSTOMERS)\n            print(c.PERCENT_DIFFERENCE)\n            print(c.DAYS_DIFFERENCE)\n            print(\"\u003d\u003d\u003d\u003d\u003d\")\n            print()\n\n    elif len(c.MATCHING_CUSTOMERS)\u003e1:\n\n        _multiple_customer.append(c.CUSTOMER)\n        _multiple_matches.append(c.MATCHING_CUSTOMERS)\n        _multiple_drop_dates.append(c.DRAW_UP_DATE)\n\n        if verbose:\n            print()\n            print(\"MULTIPLE\")\n            print(c.CUSTOMER, c.WORD_LIST)\n            print(c.MATCHING_CUSTOMERS)\n            print(c.PERCENT_DIFFERENCE)\n            print(c.DAYS_DIFFERENCE)\n            print(\"\u003d\u003d\u003d\u003d\u003d\")\n            print()\n    else:\n        _no_match_customer.append(c.CUSTOMER)\n\nprint(idx)\nprint()\n\nprint(len(_direct_customer), \"direct matches\")\nprint(len(_multiple_matches), \"multiple matches\")\nprint(len(_no_match_customer), \"no match customers\")"
      ],
      "outputs": [
        {
          "output_type": "stream",
          "text": "\nDIRECT\nSECURITAS SECURITY SRVCS(3SCR) [\u0027SECURITAS\u0027, \u0027SRVCS3SCR\u0027]\n[\u0027SECURITAS SECURITY SERVICES USA INC\u0027]\n[0.05]\n[1.0]\n\u003d\u003d\u003d\u003d\u003d\n\n\nDIRECT\nIRONWOOD PHARMA (IRW) [\u0027IRONWOOD\u0027, \u0027PHARMA\u0027, \u0027IRW\u0027]\n[\u0027IRONWOOD PHARMACEUTICALS\u0027]\n[0.31]\n[1.0]\n\u003d\u003d\u003d\u003d\u003d\n\n\nDIRECT\nVARIAN MEDICAL (V08) [\u0027VARIAN\u0027, \u0027V08\u0027]\n[\u0027VARIAN MEDICAL SYSTEMS\u0027]\n[0.06]\n[2.0]\n\u003d\u003d\u003d\u003d\u003d\n\n\nDIRECT\nLEGRAND (5LAV) [\u0027LEGRAND\u0027, \u00275LAV\u0027]\n[\u0027LEGRAND AV INC5LAV\u0027]\n[0.19]\n[1.0]\n\u003d\u003d\u003d\u003d\u003d\n\n\nDIRECT\nJONES LANG LASALLE (0469) [\u0027LANG\u0027, \u0027LASALLE\u0027, \u00270469\u0027]\n[\u0027JONES LANG LASALLE AMERICAS INC\u0027]\n[0.04]\n[2.0]\n\u003d\u003d\u003d\u003d\u003d\n\n\nDIRECT\nASTELLAS PHARMA [\u0027ASTELLAS\u0027, \u0027PHARMA\u0027]\n[\u0027ASTELLAS PHARMA US INC\u0027]\n[0.04]\n[2.0]\n\u003d\u003d\u003d\u003d\u003d\n\n\nMULTIPLE\nOSMOTICA PHARMACEUTICAL [\u0027OSMOTICA\u0027, \u0027PHARMACEUTICAL\u0027]\n[\u0027COLLEGIUM PHARMACEUTICAL INC\u0027, \u0027OSMOTICA HOLDINGS US LLC\u0027]\n[0.09, 0.41]\n[1.0, 2.0]\n\u003d\u003d\u003d\u003d\u003d\n\n\nMULTIPLE\nBECTON DICKINSON (BDC)(2) [\u0027BECTON\u0027, \u0027DICKINSON\u0027, \u0027BDC2\u0027]\n[\u0027BECTON DICKINSON3BDB\u0027, \u0027BECTON DICKINSON3BDC\u0027, \u0027BECTON DICKINSON3BDT\u0027]\n[0.44, 0.06, 0.05]\n[1.0, 1.0, 1.0]\n\u003d\u003d\u003d\u003d\u003d\n\n\nDIRECT\nFARMERS MUTUAL HAIL INSURANCE [\u0027HAIL\u0027]\n[\u0027FARMERS MUTUAL HAIL INSURANCE CO OF IOWA\u0027]\n[0.06]\n[1.0]\n\u003d\u003d\u003d\u003d\u003d\n\n\nDIRECT\nDART CONTAINER CORP (3DRT) [\u0027DART\u0027, \u00273DRT\u0027]\n[\u0027DART CONTAINER CORP3DRT\u0027]\n[0.48]\n[1.0]\n\u003d\u003d\u003d\u003d\u003d\n\n\nMULTIPLE\nBECTON DICKINSON (BDC) [\u0027BECTON\u0027, \u0027DICKINSON\u0027, \u0027BDC\u0027]\n[\u0027BECTON DICKINSON3BDB\u0027, \u0027BECTON DICKINSON3BDC\u0027, \u0027BECTON DICKINSON3BDT\u0027]\n[0.43, 0.06, 0.05]\n[2.0, 2.0, 2.0]\n\u003d\u003d\u003d\u003d\u003d\n\n\nDIRECT\nSECURITAS ELECTRONICS [\u0027SECURITAS\u0027]\n[\u0027SECURITAS ELECTRONIC SECURITY INC\u0027]\n[0.05]\n[1.0]\n\u003d\u003d\u003d\u003d\u003d\n\n\nDIRECT\nTRANSTAR [\u0027TRANSTAR\u0027]\n[\u0027TRANSTAR INC\u0027]\n[0.39]\n[1.0]\n\u003d\u003d\u003d\u003d\u003d\n\n\nMULTIPLE\nCONSTELLATION BRANDS (3CRW) [\u0027CONSTELLATION\u0027, \u00273CRW\u0027]\n[\u0027CONSTELLATION BRANDS3 CBL\u0027, \u0027CONSTELLATION BRANDS3CRW\u0027]\n[0.03, 0.12]\n[1.0, 1.0]\n\u003d\u003d\u003d\u003d\u003d\n\n\nDIRECT\nFCS AMERICA (3FCS) [\u0027FCS\u0027, \u00273FCS\u0027]\n[\u0027FARM CREDIT SERVICES (3FCS)\u0027]\n[0.23]\n[1.0]\n\u003d\u003d\u003d\u003d\u003d\n\n\nDIRECT\nBALFOUR RENO [\u0027BALFOUR\u0027, \u0027RENO\u0027]\n[\u0027BALFOUR BEATTY RENOVATIONS\u0027]\n[0.15]\n[2.0]\n\u003d\u003d\u003d\u003d\u003d\n\n\nDIRECT\nARCADIS US [\u0027ARCADIS\u0027]\n[\u0027ARCADIS US INC\u0027]\n[0.08]\n[2.0]\n\u003d\u003d\u003d\u003d\u003d\n\n\nMULTIPLE\nBECTON DICKINSON (BDB) [\u0027BECTON\u0027, \u0027DICKINSON\u0027, \u0027BDB\u0027]\n[\u0027BECTON DICKINSON3BDB\u0027, \u0027BECTON DICKINSON3BDC\u0027, \u0027BECTON DICKINSON3BDT\u0027]\n[0.0, 0.39, 0.4]\n[1.0, 1.0, 1.0]\n\u003d\u003d\u003d\u003d\u003d\n\n\nDIRECT\nCANON MEDICAL USA [\u0027CANON\u0027]\n[\u0027CANON MEDICAL SYSTEMS USA INC\u0027]\n[0.0]\n[1.0]\n\u003d\u003d\u003d\u003d\u003d\n\n\nDIRECT\nMARS INC. [\u0027MARS\u0027]\n[\u0027MARS INC\u0027]\n[0.43]\n[2.0]\n\u003d\u003d\u003d\u003d\u003d\n\n\nDIRECT\nLAMB WESTON SALES [\u0027LAMB\u0027, \u0027WESTON\u0027]\n[\u0027LAMB WESTON SALES INC\u0027]\n[0.1]\n[1.0]\n\u003d\u003d\u003d\u003d\u003d\n\n\nDIRECT\nBALFOUR EQUIP [\u0027BALFOUR\u0027]\n[\u0027BALFOUR BEATTY3BBR\u0027]\n[0.11]\n[1.0]\n\u003d\u003d\u003d\u003d\u003d\n\n\nDIRECT\nDARDEN RESTAURANTS (3DAR) [\u0027DARDEN\u0027, \u00273DAR\u0027]\n[\u0027DARDEN RESTAURANTS\u0027]\n[0.16]\n[1.0]\n\u003d\u003d\u003d\u003d\u003d\n\n\nDIRECT\nGENERAL PARTS INTL (SSI) [\u0027SSI\u0027]\n[\u0027FALLS OF NEUSE MANAGMENT SSI\u0027]\n[0.31]\n[1.0]\n\u003d\u003d\u003d\u003d\u003d\n\n\nDIRECT\nCOVESTRO [\u0027COVESTRO\u0027]\n[\u0027COVESTRO LLC\u0027]\n[0.01]\n[1.0]\n\u003d\u003d\u003d\u003d\u003d\n\n\nDIRECT\nBECTON DICKINSON (3BRD) [\u0027BECTON\u0027, \u0027DICKINSON\u0027, \u00273BRD\u0027]\n[\u0027BECTON DICKINSON  3BRD\u0027]\n[0.08]\n[1.0]\n\u003d\u003d\u003d\u003d\u003d\n\n\nDIRECT\nERIE INSURANCE (3ERE) [\u00273ERE\u0027]\n[\u0027ERIE INSURANCE EXCHANGE  3ERE\u0027]\n[0.12]\n[1.0]\n\u003d\u003d\u003d\u003d\u003d\n\n\nMULTIPLE\nXYLEM ANALYTICS FUEL [\u0027XYLEM\u0027, \u0027ANALYTICS\u0027]\n[\u0027XYLEM ANALYTICS LLC\u0027, \u0027XYLEM INC\u0027]\n[0.1, 0.44]\n[1.0, 3.0]\n\u003d\u003d\u003d\u003d\u003d\n\n\nDIRECT\nHAYWARD INDUSTRIES (WHLS) [\u0027HAYWARD\u0027, \u0027WHLS\u0027]\n[\u0027HAYWARD INDUSTRIES\u0027]\n[0.08]\n[1.0]\n\u003d\u003d\u003d\u003d\u003d\n\n\nDIRECT\nJAZZ PHARMA (3JAZ) [\u0027JAZZ\u0027, \u0027PHARMA\u0027, \u00273JAZ\u0027]\n[\u0027JAZZ PARMACEUTICALS INC.\u0027]\n[0.43]\n[1.0]\n\u003d\u003d\u003d\u003d\u003d\n\n\nDIRECT\nYUM  INC. [\u0027YUM\u0027]\n[\u0027YUM RESTAURANT SERVICES GROUP LLC\u0027]\n[0.21]\n[1.0]\n\u003d\u003d\u003d\u003d\u003d\n\n\nDIRECT\nWATT STOPPER, INC. [\u0027WATT\u0027, \u0027STOPPER\u0027]\n[\u0027WATT STOPPER INC\u0027]\n[0.39]\n[1.0]\n\u003d\u003d\u003d\u003d\u003d\n\n\nDIRECT\nARCHROMA U.S. INC. [\u0027ARCHROMA\u0027]\n[\u0027ARCHROMA US INC\u0027]\n[0.27]\n[1.0]\n\u003d\u003d\u003d\u003d\u003d\n\n\nDIRECT\nNOVAMEX [\u0027NOVAMEX\u0027]\n[\u0027NOVAMEX  TIPP ENTERPRISES LP\u0027]\n[0.49]\n[1.0]\n\u003d\u003d\u003d\u003d\u003d\n\n\nDIRECT\nLUNDBECK [\u0027LUNDBECK\u0027]\n[\u0027LUNDBECK LLC\u0027]\n[0.21]\n[1.0]\n\u003d\u003d\u003d\u003d\u003d\n\n\nMULTIPLE\nGIVAUDAN FRAGRANCES (GV2-5) [\u0027GIVAUDAN\u0027, \u0027FRAGRANCES\u0027, \u0027GV25\u0027]\n[\u0027GIVAUDAN FLAVORS\u0027, \u0027GIVAUDAN FRAGRANCES\u0027]\n[0.4, 0.2]\n[1.0, 1.0]\n\u003d\u003d\u003d\u003d\u003d\n\n\nDIRECT\nDART CONTAINER CORP (3DC2) [\u0027DART\u0027, \u00273DC2\u0027]\n[\u0027DART CONTAINER CORP3DRT\u0027]\n[0.03]\n[0.0]\n\u003d\u003d\u003d\u003d\u003d\n\n\nDIRECT\nHARMONY BIOSCIENCES [\u0027BIOSCIENCES\u0027]\n[\u0027HARMONY BIOSCIENCES LLC\u0027]\n[0.24]\n[2.0]\n\u003d\u003d\u003d\u003d\u003d\n\n\nDIRECT\nSIBELCO [\u0027SIBELCO\u0027]\n[\u0027SIBELCO NORTH AMERICA INC\u0027]\n[0.5]\n[1.0]\n\u003d\u003d\u003d\u003d\u003d\n\n\nMULTIPLE\nBALFOUR BEATTY 3BSE [\u0027BALFOUR\u0027, \u0027BEATTY\u0027, \u00273BSE\u0027]\n[\u0027BALFOUR BEATTY EQUIPMENT\u0027, \u0027BALFOUR BEATTY RENOVATIONS\u0027]\n[0.5, 0.3]\n[2.0, 1.0]\n\u003d\u003d\u003d\u003d\u003d\n\n\nMULTIPLE\nGIVAUDAN FLAVORS (GV3-5) [\u0027GIVAUDAN\u0027, \u0027FLAVORS\u0027, \u0027GV35\u0027]\n[\u0027GIVAUDAN FLAVORS\u0027, \u0027GIVAUDAN FRAGRANCES\u0027]\n[0.15, 0.44]\n[1.0, 1.0]\n\u003d\u003d\u003d\u003d\u003d\n\n\nDIRECT\nDYSON (3DYS) [\u0027DYSON\u0027, \u00273DYS\u0027]\n[\u0027DYSON INC\u0027]\n[0.35]\n[0.0]\n\u003d\u003d\u003d\u003d\u003d\n\n\nDIRECT\nMCKESSON CORPORATION (3MCK) [\u0027MCKESSON\u0027, \u00273MCK\u0027]\n[\u0027MCKESSON CORPORATION3MCK\u0027]\n[0.19]\n[1.0]\n\u003d\u003d\u003d\u003d\u003d\n\n\nDIRECT\nSYBRON DENTAL SPECIALTIES (69) [\u0027SYBRON\u0027, \u002769\u0027]\n[\u0027SYBRON DENTAL SPECIALTIES\u0027]\n[0.09]\n[1.0]\n\u003d\u003d\u003d\u003d\u003d\n\n\nDIRECT\nTHIBAUT ACQUISITION [\u0027THIBAUT\u0027]\n[\u0027THIBAUT ACQUISITION CO\u0027]\n[0.13]\n[1.0]\n\u003d\u003d\u003d\u003d\u003d\n\n\nDIRECT\nRITCHIE BROS. USA [\u0027RITCHIE\u0027]\n[\u0027RITCHIE BROS AUCTIONEERS AMERICA INC\u0027]\n[0.0]\n[2.0]\n\u003d\u003d\u003d\u003d\u003d\n\n\nDIRECT\nMCKESSON CORPORATION (3MCT) [\u0027MCKESSON\u0027, \u00273MCT\u0027]\n[\u0027MCKESSON CORPORATION3MCT\u0027]\n[0.32]\n[1.0]\n\u003d\u003d\u003d\u003d\u003d\n\n\nDIRECT\nLAERDAL MEDICAL [\u0027LAERDAL\u0027]\n[\u0027LAERDAL MEDICAL CORP\u0027]\n[0.4]\n[1.0]\n\u003d\u003d\u003d\u003d\u003d\n\n\nDIRECT\nROBERT HALF CORPORATION (3RHF) [\u0027HALF\u0027, \u00273RHF\u0027]\n[\u0027ROBERT HALF INTERNATIONAL INCPROTIVITI\u0027]\n[0.2]\n[2.0]\n\u003d\u003d\u003d\u003d\u003d\n\n\nDIRECT\nPRIMETALS TECHNOLOGIES USA [\u0027PRIMETALS\u0027]\n[\u0027PRIMETALS TECHNOLOGIES USA LLC\u0027]\n[0.08]\n[1.0]\n\u003d\u003d\u003d\u003d\u003d\n\n\nDIRECT\nCURTISS-WRIGHT (5CWC) [\u0027CURTISSWRIGHT\u0027, \u00275CWC\u0027]\n[\u0027CURTISSWRIGHT CORPORATION\u0027]\n[0.04]\n[1.0]\n\u003d\u003d\u003d\u003d\u003d\n\n\nDIRECT\nOCCIDENTAL CHEMICAL CORP (69) [\u0027OCCIDENTAL\u0027, \u002769\u0027]\n[\u0027OCCIDENTAL CHEMICAL CORPORATION\u0027]\n[0.1]\n[1.0]\n\u003d\u003d\u003d\u003d\u003d\n\n\nDIRECT\nRPM, INC [\u0027RPM\u0027]\n[\u0027RPM INTERNATIONAL INC  5RPM\u0027]\n[0.06]\n[1.0]\n\u003d\u003d\u003d\u003d\u003d\n\n\nDIRECT\nCOLLEGIUM [\u0027COLLEGIUM\u0027]\n[\u0027COLLEGIUM PHARMACEUTICAL INC\u0027]\n[0.07]\n[1.0]\n\u003d\u003d\u003d\u003d\u003d\n\n\nDIRECT\nSELECTIVE INSURANCE CO [\u0027SELECTIVE\u0027]\n[\u0027SELECTIVE INSURANCE COMPANY OF AMERICA\u0027]\n[0.19]\n[1.0]\n\u003d\u003d\u003d\u003d\u003d\n\n\nDIRECT\nAMGEN USA INC [\u0027AMGEN\u0027]\n[\u0027AMGEN USA\u0027]\n[0.19]\n[2.0]\n\u003d\u003d\u003d\u003d\u003d\n\n\nDIRECT\nRPM INC (5RPX) [\u0027RPM\u0027, \u00275RPX\u0027]\n[\u0027RPM INTERNATIONAL INC  5RPX\u0027]\n[0.02]\n[1.0]\n\u003d\u003d\u003d\u003d\u003d\n\n\nDIRECT\nTEVA WHEELS [\u0027TEVA\u0027]\n[\u0027TEVA PHARMACEUTICALS\u0027]\n[0.27]\n[2.0]\n\u003d\u003d\u003d\u003d\u003d\n\n\nDIRECT\nCEVA ANIMAL HEALTH, LLC [\u0027CEVA\u0027]\n[\u0027CEVA ANIMAL HEALTH LLC\u0027]\n[0.11]\n[1.0]\n\u003d\u003d\u003d\u003d\u003d\n\n\nDIRECT\nALKERMES (3ALK) [\u0027ALKERMES\u0027, \u00273ALK\u0027]\n[\u0027ALKERMES INC\u0027]\n[0.25]\n[2.0]\n\u003d\u003d\u003d\u003d\u003d\n\n\nMULTIPLE\nCONSTELLATION BRANDS (3CBL) [\u0027CONSTELLATION\u0027, \u00273CBL\u0027]\n[\u0027CONSTELLATION BRANDS3 CBL\u0027, \u0027CONSTELLATION BRANDS3CRW\u0027]\n[0.15, 0.05]\n[1.0, 1.0]\n\u003d\u003d\u003d\u003d\u003d\n\n\nDIRECT\nMACLEAN-FOGG (3MF1) [\u0027MACLEANFOGG\u0027, \u00273MF1\u0027]\n[\u0027MACLEANFOGG COMPANY\u0027]\n[0.14]\n[0.0]\n\u003d\u003d\u003d\u003d\u003d\n\n\nDIRECT\nHARMON INC (WHLS) [\u0027HARMON\u0027, \u0027WHLS\u0027]\n[\u0027HARMON INC\u0027]\n[0.09]\n[1.0]\n\u003d\u003d\u003d\u003d\u003d\n\n62468\n\n53 direct matches\n10 multiple matches\n131 no match customers\n",
          "name": "stdout"
        }
      ]
    },
    {
      "execution_count": 0,
      "cell_type": "code",
      "metadata": {},
      "source": [
        "df_matches \u003d pd.DataFrame(_direct_customer)\ndf_matches.columns \u003d [\u0027CUSTOMER\u0027]\ndf_matches[\"MATCH_CUSTOMER\"] \u003d _direct_match\ndf_matches[\"DRAW_UP_DATE\"] \u003d _direct_draw_up_date\ndf_matches.head()"
      ],
      "outputs": []
    },
    {
      "execution_count": 0,
      "cell_type": "code",
      "metadata": {},
      "source": [
        "df_multiple_matches \u003d pd.DataFrame(_multiple_customer)\ndf_multiple_matches.columns \u003d [\u0027CUSTOMER\u0027]\ndf_multiple_matches[\"MATCH_CUSTOMER\"] \u003d _multiple_matches\ndf_multiple_matches[\"DRAW_UP_DATE\"] \u003d _multiple_drop_dates\ndf_multiple_matches.head()"
      ],
      "outputs": []
    },
    {
      "execution_count": 0,
      "cell_type": "code",
      "metadata": {},
      "source": [
        "MATCHES_1_TO_N_FOR_MANUAL_REVIEW_df \u003d df_multiple_matches\nMACTHES_1_TO_N_FOR_MANUAL_REVIEW \u003d dataiku.Dataset(\"MATCHES_1_TO_N_FOR_MANUAL_REVIEW\")\nMACTHES_1_TO_N_FOR_MANUAL_REVIEW.write_with_schema(MATCHES_1_TO_N_FOR_MANUAL_REVIEW_df)\n\nMATCHES_1_TO_1_df \u003d df_matches\nMATCHES_1_TO_1 \u003d dataiku.Dataset(\"MATCHES_1_TO_1\")\nMATCHES_1_TO_1.write_with_schema(MATCHES_1_TO_1_df)"
      ],
      "outputs": []
    },
    {
      "execution_count": 0,
      "cell_type": "code",
      "metadata": {},
      "source": [
        ""
      ],
      "outputs": []
    }
  ]
}