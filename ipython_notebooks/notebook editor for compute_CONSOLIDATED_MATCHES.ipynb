{
  "metadata": {
    "kernelspec": {
      "name": "py-dku-venv-env_clc",
      "display_name": "Python (env env_clc)",
      "language": "python"
    },
    "associatedRecipe": "compute_CONSOLIDATED_MATCHES",
    "dkuGit": {
      "lastInteraction": 0
    },
    "creationTag": {
      "versionNumber": 0,
      "lastModifiedBy": {
        "login": "Daniel.Vandermeer"
      },
      "lastModifiedOn": 1666015248584
    },
    "creator": "Daniel.Vandermeer",
    "createdOn": 1666015248584,
    "tags": [
      "recipe-editor"
    ],
    "customFields": {},
    "hide_input": false,
    "language_info": {
      "name": "python",
      "version": "3.6.8",
      "mimetype": "text/x-python",
      "codemirror_mode": {
        "name": "ipython",
        "version": 3
      },
      "pygments_lexer": "ipython3",
      "nbconvert_exporter": "python",
      "file_extension": ".py"
    },
    "modifiedBy": "Daniel.Vandermeer"
  },
  "nbformat": 4,
  "nbformat_minor": 1,
  "cells": [
    {
      "execution_count": 5,
      "cell_type": "code",
      "metadata": {},
      "source": [
        "# -*- coding: utf-8 -*-\nimport dataiku\nimport pandas as pd, numpy as np\nfrom dataiku import pandasutils as pdu\n\n# Read recipe inputs\nCALCULATED_CARD_DRAW_UPS \u003d dataiku.Dataset(\"CALCULATED_CARD_DRAW_UPS\")\nCALCULATED_CARD_DRAW_UPS_df \u003d CALCULATED_CARD_DRAW_UPS.get_dataframe()\n\nCALCULATED_CARD_DRAW_UPS_FULL \u003d dataiku.Dataset(\"CALCULATED_CARD_DRAW_UPS_FULL\")\nCALCULATED_CARD_DRAW_UPS_FULL_df \u003d CALCULATED_CARD_DRAW_UPS_FULL.get_dataframe()\n\nCALCULATED_CARD_DRAW_DOWNS \u003d dataiku.Dataset(\"CALCULATED_CARD_DRAW_DOWNS\")\nCALCULATED_CARD_DRAW_DOWNS_df \u003d CALCULATED_CARD_DRAW_DOWNS.get_dataframe()\n\nCALCULATED_CARD_DRAW_DOWNS_FULL \u003d dataiku.Dataset(\"CALCULATED_CARD_DRAW_DOWNS_FULL\")\nCALCULATED_CARD_DRAW_DOWNS_FULL_df \u003d CALCULATED_CARD_DRAW_DOWNS_FULL.get_dataframe()\n\nCOMMON_WORDS \u003d dataiku.Dataset(\"NAFCUSTOMER_COMMON_WORDS_IN_NAMES\")\nCOMMON_WORDS_df \u003d COMMON_WORDS.get_dataframe()"
      ],
      "outputs": []
    },
    {
      "execution_count": 6,
      "cell_type": "code",
      "metadata": {},
      "source": [
        "df_down \u003d CALCULATED_CARD_DRAW_DOWNS_df\ndf_down_full \u003d CALCULATED_CARD_DRAW_DOWNS_FULL_df\ndf_up \u003d CALCULATED_CARD_DRAW_UPS_df\ndf_up_full \u003d CALCULATED_CARD_DRAW_UPS_FULL_df\ndf_common \u003d COMMON_WORDS_df\n\ndf_down.sort_values([\u0027CUSTOMER\u0027], inplace\u003dTrue)\ndf_down_full.sort_values([\u0027CUSTOMER\u0027], inplace\u003dTrue)\ndf_up.sort_values([\u0027CUSTOMER\u0027], inplace\u003dTrue)\ndf_up_full.sort_values([\u0027CUSTOMER\u0027], inplace\u003dTrue)\ndf_common.sort_values([\u0027WORD\u0027], inplace\u003dTrue)\n\nprint(len(df_down), \"draw downs\")\nprint(len(df_down_full), \"draw downs full\")\nprint(len(df_up), \"draw ups\")\nprint(len(df_up_full), \"draw ups full\")\nprint(len(df_common), \"common words\")"
      ],
      "outputs": [
        {
          "output_type": "stream",
          "text": "194 draw downs\n182341 draw downs full\n322 draw ups\n351542 draw ups full\n2173 common words\n",
          "name": "stdout"
        }
      ]
    },
    {
      "execution_count": 7,
      "cell_type": "code",
      "metadata": {},
      "source": [
        "df_down.head()\ndf_common.head()"
      ],
      "outputs": [
        {
          "output_type": "execute_result",
          "execution_count": 7,
          "data": {
            "text/plain": "      WORD  COUNTS\n1459   1ST     337\n923   5R82     192\n1725    A1     517\n1194    AA     244\n1372   AAA     298",
            "text/html": "\u003cdiv\u003e\n\u003cstyle scoped\u003e\n    .dataframe tbody tr th:only-of-type {\n        vertical-align: middle;\n    }\n\n    .dataframe tbody tr th {\n        vertical-align: top;\n    }\n\n    .dataframe thead th {\n        text-align: right;\n    }\n\u003c/style\u003e\n\u003ctable border\u003d\"1\" class\u003d\"dataframe\"\u003e\n  \u003cthead\u003e\n    \u003ctr style\u003d\"text-align: right;\"\u003e\n      \u003cth\u003e\u003c/th\u003e\n      \u003cth\u003eWORD\u003c/th\u003e\n      \u003cth\u003eCOUNTS\u003c/th\u003e\n    \u003c/tr\u003e\n  \u003c/thead\u003e\n  \u003ctbody\u003e\n    \u003ctr\u003e\n      \u003cth\u003e1459\u003c/th\u003e\n      \u003ctd\u003e1ST\u003c/td\u003e\n      \u003ctd\u003e337\u003c/td\u003e\n    \u003c/tr\u003e\n    \u003ctr\u003e\n      \u003cth\u003e923\u003c/th\u003e\n      \u003ctd\u003e5R82\u003c/td\u003e\n      \u003ctd\u003e192\u003c/td\u003e\n    \u003c/tr\u003e\n    \u003ctr\u003e\n      \u003cth\u003e1725\u003c/th\u003e\n      \u003ctd\u003eA1\u003c/td\u003e\n      \u003ctd\u003e517\u003c/td\u003e\n    \u003c/tr\u003e\n    \u003ctr\u003e\n      \u003cth\u003e1194\u003c/th\u003e\n      \u003ctd\u003eAA\u003c/td\u003e\n      \u003ctd\u003e244\u003c/td\u003e\n    \u003c/tr\u003e\n    \u003ctr\u003e\n      \u003cth\u003e1372\u003c/th\u003e\n      \u003ctd\u003eAAA\u003c/td\u003e\n      \u003ctd\u003e298\u003c/td\u003e\n    \u003c/tr\u003e\n  \u003c/tbody\u003e\n\u003c/table\u003e\n\u003c/div\u003e"
          },
          "metadata": {}
        }
      ]
    },
    {
      "execution_count": 8,
      "cell_type": "code",
      "metadata": {},
      "source": [
        "import string\n\n_common_words \u003d df_common.WORD.unique()\nprint(len(_common_words), \"screening against common words\")\n\nclass Draw_Down_Customer:\n\n    def __init__(self, name, draw_down_date, mean_dd, std_dd, active_card_max):\n\n        self.CUSTOMER \u003d name\n        self.DRAW_DOWN_DATE \u003d draw_down_date\n        self.ACTIVE_CARD_MAX \u003d active_card_max\n\n        self.MATCHING_CUSTOMERS \u003d []\n        self.PERCENT_DIFFERENCE \u003d []\n        self.DAYS_DIFFERENCE \u003d []\n        self.DRAW_UP_DATE \u003d []\n\n        # remove punctuation\n        c_str \u003d name.translate(str.maketrans(\u0027\u0027, \u0027\u0027, string.punctuation))\n\n        f \u003d c_str.split()\n        self.WORD_LIST \u003d []\n        for w in f:\n            if w not in _common_words:\n                self.WORD_LIST.append(w)\n\n    def Match_Draw_Up_Customer(self, name, draw_up_date, mean_du, std_du, active_card_max):\n\n        if (self.CUSTOMER \u003d\u003d name):\n            # exact match, already captured\n            return\n\n        c_str \u003d name.translate(str.maketrans(\u0027\u0027, \u0027\u0027, string.punctuation))\n\n        f \u003d c_str.split()\n\n        check_list \u003d []\n        for w in f:\n            if (w not in _common_words) and (len(w)\u003e1) and (not w.isnumeric()):\n                check_list.append(w)\n\n        percent_diff \u003d round((abs(self.ACTIVE_CARD_MAX - active_card_max) / ((self.ACTIVE_CARD_MAX+active_card_max)/2)),2)\n\n        #date_format \u003d \"%Y-%m-%d\"\n        #d1_date \u003d datetime.strptime(draw_up_date.astype(str), date_format)\n        #d2_date \u003d datetime.strptime(self.DRAW_DOWN_DATE.astype(str), date_format)\n\n        delta_between_drop_and_rise \u003d round(abs((draw_up_date-self.DRAW_DOWN_DATE).days)/30.,0)\n\n        for w_to_check in check_list:\n            for w in self.WORD_LIST:\n                if w_to_check\u003d\u003dw:\n\n                    if not name in(self.MATCHING_CUSTOMERS) and(delta_between_drop_and_rise\u003c\u003d4)and(percent_diff\u003c\u003d0.5) :\n                        self.MATCHING_CUSTOMERS.append(name)\n                        self.PERCENT_DIFFERENCE.append(percent_diff)\n                        self.DAYS_DIFFERENCE.append(delta_between_drop_and_rise)\n                        self.DRAW_UP_DATE.append(draw_up_date)\n                        break;"
      ],
      "outputs": [
        {
          "output_type": "stream",
          "text": "2173 screening against common words\n",
          "name": "stdout"
        }
      ]
    },
    {
      "execution_count": 0,
      "cell_type": "code",
      "metadata": {},
      "source": [
        "\n_processed_customers \u003d []\nverbose \u003d True\n\nprocess_ranges \u003d [[100000,1000],[1100,900],[1000,600],[700,400],[500,200],[300,100],[200,70],\n                  [100,50],[60,40],[55,45],[40,20],[30,10],[30,0]]\n\n_matching_process_log_time \u003d []\n_matching_process_log_event \u003d []\n\nsave_every_n \u003d 100\nto_save_counter \u003d 0\n\nfor r in process_ranges:\n\n    r_max \u003d r[0]\n    r_min \u003d r[1]\n\n    df_down \u003d df_down_full[(df_down_full.ACTIVE_CARD_MAX\u003c\u003dr_max)\u0026(df_down_full.ACTIVE_CARD_MAX\u003e\u003dr_min)]\n    df_up \u003d df_up_full[(df_up_full.ACTIVE_CARD_MAX\u003c\u003dr_max)\u0026(df_up_full.ACTIVE_CARD_MAX\u003e\u003dr_min)]\n\n    print(len(df_down), \"filtered down rows\")\n    print(len(df_up), \"filtered up rows\")\n\n    _customers \u003d []\n    # Prepare Customer Set for processing\n\n    for index, row in df_down.iterrows():\n\n        customer \u003d row[\u0027CUSTOMER\u0027]\n        draw_down_date \u003d row[\u0027DRAW_DOWN_DATE\u0027]\n        mean_dd \u003d row[\u0027MEAN_DD\u0027]\n        std_dd \u003d row[\u0027STD_DD\u0027]\n        active_card_max \u003d row[\u0027ACTIVE_CARD_MAX\u0027]\n\n        c \u003d Draw_Down_Customer(customer, draw_down_date, mean_dd, std_dd, active_card_max)\n\n        _customers.append(c)\n\n    idx \u003d 0\n\n    _matching_process_log_time.append(str(pd.Timestamp.now()))\n    _matching_process_log_event.append(\" processing range from \" + str(r_max) + \" to \" + str(r_min) + \" \" + str(len(_customers)) + \" Draw Down Customers\")\n    do_save_log(_matching_process_log_time, _matching_process_log_event)\n    \n    if verbose:\n        print(\" processing range from \" + str(r_max) + \" to \" + str(r_min) + \" \" + str(len(_customers)) + \" Draw Down Customers\")\n    \n    _direct_customer \u003d []\n    _direct_match \u003d []\n    _direct_draw_up_date \u003d []\n\n    _multiple_customer \u003d []\n    _multiple_matches \u003d []\n    _multiple_drop_dates \u003d []\n\n    _no_match_customer \u003d []\n    _no_match_draw_down_date \u003d []\n\n    for c in _customers:\n\n        for index_up, row_up in df_up.iterrows():\n\n            customer \u003d row_up[\u0027CUSTOMER\u0027]\n            draw_up_date \u003d row_up[\u0027DRAW_UP_DATE\u0027]\n            mean_du \u003d row_up[\u0027MEAN_DU\u0027]\n            std_du \u003d row_up[\u0027STD_DU\u0027]\n            active_card_max \u003d row_up[\u0027ACTIVE_CARD_MAX\u0027]\n\n            c.Match_Draw_Up_Customer(customer, draw_up_date, mean_du, std_du, active_card_max)\n\n        if len(c.MATCHING_CUSTOMERS)\u003d\u003d1:\n\n            if not c.CUSTOMER in (_processed_customers):\n                _direct_customer.append(c.CUSTOMER)\n                _processed_customers.append(c.CUSTOMER)\n                _direct_match.append(c.MATCHING_CUSTOMERS[0])\n                _processed_customers.append(c.MATCHING_CUSTOMERS[0])\n                _direct_draw_up_date.append(c.DRAW_UP_DATE[0])\n\n                if verbose:\n                    print()\n                    print(\"DIRECT\")\n                    print(c.CUSTOMER, c.WORD_LIST)\n                    print(c.MATCHING_CUSTOMERS)\n                    print(c.PERCENT_DIFFERENCE)\n                    print(c.DAYS_DIFFERENCE)\n                    print(\"\u003d\u003d\u003d\u003d\u003d\")\n                    print()\n\n        elif len(c.MATCHING_CUSTOMERS)\u003e1:\n\n            if not c.CUSTOMER in (_processed_customers):\n                _multiple_customer.append(c.CUSTOMER)\n                _processed_customers.append(c.CUSTOMER)\n                _multiple_matches.append(c.MATCHING_CUSTOMERS)\n                _multiple_drop_dates.append(c.DRAW_UP_DATE)\n\n            if verbose:\n                print()\n                print(\"MULTIPLE\")\n                print(c.CUSTOMER, c.WORD_LIST)\n                print(c.MATCHING_CUSTOMERS)\n                print(c.PERCENT_DIFFERENCE)\n                print(c.DAYS_DIFFERENCE)\n                print(\"\u003d\u003d\u003d\u003d\u003d\")\n                print()\n        else:\n            _no_match_customer.append(c.CUSTOMER)\n            _no_match_draw_down_date.append(c.DRAW_DOWN_DATE)\n            \n        to_save_counter +\u003d 1\n        \n        if to_save_counter\u003e\u003dsave_every_n:\n            \n            _matching_process_log_time.append(str(pd.Timestamp.now()))\n            _matching_process_log_event.append(\"writing datasets to snowflake\")\n            do_save_log(_matching_process_log_time, _matching_process_log_event)\n            \n            do_save_direct_matches(_direct_customer, _direct_match, _direct_draw_up_date)\n            do_save_multiple_matches(_multiple_customer, _multiple_matches, _multiple_drop_dates)\n            do_save_no_matches(_no_match_customer, _matching_process_log_event)\n            \n            _matching_process_log_time.append(str(pd.Timestamp.now()))\n            _matching_process_log_event.append(\"saved snowflake.\")\n            do_save_log(_matching_process_log_time, _matching_process_log_event)\n            \n            to_save_counter \u003d 0\n"
      ],
      "outputs": []
    },
    {
      "execution_count": 11,
      "cell_type": "code",
      "metadata": {},
      "source": [
        "def do_save_log(_matching_process_log_time, _matching_process_log_event):\n    \n    df_matching_log \u003d pd.DataFrame(_matching_process_log_time)\n    if len(df_matching_log)\u003e0:\n        \n        print(\"saving\", len(df_matching_log), \"log records\")\n        \n        df_matching_log.columns \u003d [\u0027LOG_TIME\u0027]\n        df_matching_log[\u0027LOG_EVENT\u0027] \u003d _matching_process_log_event\n\n        MATCHING_PROCESS_LOG_df \u003d df_matching_log\n        MATCHING_PROCESS_LOG \u003d dataiku.Dataset(\"MATCHING_PROCESS_LOG\")\n        MATCHING_PROCESS_LOG.write_with_schema(MATCHING_PROCESS_LOG_df)\n    \n    \ndef do_save_direct_matches(_direct_customer, _direct_match, _direct_draw_up_date):\n    \n    df_matches \u003d pd.DataFrame(_direct_customer)\n    if len(df_matches)\u003e0:\n        \n        print(\"saving\", len(df_matches), \"matching customer records\")\n        \n        df_matches.columns \u003d [\u0027CUSTOMER\u0027]\n        df_matches[\"MATCH_CUSTOMER\"] \u003d _direct_match\n        df_matches[\"DRAW_UP_DATE\"] \u003d _direct_draw_up_date\n        \n        MATCHES_1_TO_1_df \u003d df_matches\n        MATCHES_1_TO_1 \u003d dataiku.Dataset(\"MATCHES_1_TO_1\")\n        MATCHES_1_TO_1.write_with_schema(MATCHES_1_TO_1_df)\n        \ndef do_save_multiple_matches(_multiple_customer, _multiple_matches, _multiple_drop_dates):\n    \n    df_multiple_matches \u003d pd.DataFrame(_multiple_customer)\n    \n    if len(df_multiple_matches)\u003e0:\n        \n        print(\"saving\", len(df_multiple_matches), \"matching multiple customer records\")\n        \n        df_multiple_matches.columns \u003d [\u0027CUSTOMER\u0027]\n        df_multiple_matches[\"MATCH_CUSTOMER\"] \u003d _multiple_matches\n        df_multiple_matches[\"DRAW_UP_DATE\"] \u003d _multiple_drop_dates\n        \n        MATCHES_1_TO_N_FOR_MANUAL_REVIEW_df \u003d df_multiple_matches\n        MATCHES_1_TO_N_FOR_MANUAL_REVIEW \u003d dataiku.Dataset(\"MATCHES_1_TO_N_FOR_MANUAL_REVIEW\")\n        MATCHES_1_TO_N_FOR_MANUAL_REVIEW.write_with_schema(MATCHES_1_TO_N_FOR_MANUAL_REVIEW_df)\n\n        \ndef do_save_no_matches(_no_match_customer, _matching_process_log_event):\n        \n    df_no_matches \u003d pd.DataFrame(_no_match_customer)\n    \n    if len(df_no_matches)\u003e0:\n        \n        print(\"saving\", len(df_no_matches), \"no matches records\")\n        \n        df_no_matches.columns \u003d [\u0027CUSTOMER\u0027]\n        df_no_matches[\u0027DRAW_DOWN_DATE\u0027] \u003d _no_match_draw_down_date\n\n        MATCHES_1_TO_NONE_df \u003d df_no_matches\n        MATCHES_1_TO_NONE \u003d dataiku.Dataset(\"MATCHES_1_TO_NONE\")\n        MATCHES_1_TO_NONE.write_with_schema(MATCHES_1_TO_NONE_df)\n"
      ],
      "outputs": []
    }
  ]
}