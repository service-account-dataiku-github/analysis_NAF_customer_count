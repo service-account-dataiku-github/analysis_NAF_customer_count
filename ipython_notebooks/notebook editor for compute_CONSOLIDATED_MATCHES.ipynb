{
  "metadata": {
    "kernelspec": {
      "name": "py-dku-venv-env_clc",
      "display_name": "Python (env env_clc)",
      "language": "python"
    },
    "associatedRecipe": "compute_CONSOLIDATED_MATCHES",
    "dkuGit": {
      "lastInteraction": 0
    },
    "creationTag": {
      "versionNumber": 0,
      "lastModifiedBy": {
        "login": "Daniel.Vandermeer"
      },
      "lastModifiedOn": 1666015248584
    },
    "creator": "Daniel.Vandermeer",
    "createdOn": 1666015248584,
    "tags": [
      "recipe-editor"
    ],
    "customFields": {},
    "hide_input": false,
    "language_info": {
      "name": "python",
      "version": "3.6.8",
      "mimetype": "text/x-python",
      "codemirror_mode": {
        "name": "ipython",
        "version": 3
      },
      "pygments_lexer": "ipython3",
      "nbconvert_exporter": "python",
      "file_extension": ".py"
    },
    "modifiedBy": "Daniel.Vandermeer"
  },
  "nbformat": 4,
  "nbformat_minor": 1,
  "cells": [
    {
      "execution_count": 63,
      "cell_type": "code",
      "metadata": {},
      "source": [
        "# -*- coding: utf-8 -*-\nimport dataiku\nimport pandas as pd, numpy as np\nfrom dataiku import pandasutils as pdu\n\n# Read recipe inputs\nCALCULATED_CARD_DRAW_UPS \u003d dataiku.Dataset(\"CALCULATED_CARD_DRAW_UPS\")\nCALCULATED_CARD_DRAW_UPS_df \u003d CALCULATED_CARD_DRAW_UPS.get_dataframe()\n\nCALCULATED_CARD_DRAW_DOWNS \u003d dataiku.Dataset(\"CALCULATED_CARD_DRAW_DOWNS\")\nCALCULATED_CARD_DRAW_DOWNS_df \u003d CALCULATED_CARD_DRAW_DOWNS.get_dataframe()"
      ],
      "outputs": []
    },
    {
      "execution_count": 64,
      "cell_type": "code",
      "metadata": {},
      "source": [
        "df_down \u003d CALCULATED_CARD_DRAW_DOWNS_df\ndf_up \u003d CALCULATED_CARD_DRAW_UPS_df\n\ndf_down.sort_values([\u0027CUSTOMER\u0027], inplace\u003dTrue)\ndf_up.sort_values([\u0027CUSTOMER\u0027], inplace\u003dTrue)\n\nprint(len(df_down), \"draw downs\")\nprint(len(df_up), \"draw ups\")"
      ],
      "outputs": [
        {
          "output_type": "stream",
          "text": "194 draw downs\n322 draw ups\n",
          "name": "stdout"
        }
      ]
    },
    {
      "execution_count": 65,
      "cell_type": "code",
      "metadata": {},
      "source": [
        "df_down.head()"
      ],
      "outputs": [
        {
          "output_type": "execute_result",
          "execution_count": 65,
          "data": {
            "text/plain": "                 CUSTOMER            DRAW_DOWN_DATE     MEAN_DD     STD_DD  ACTIVE_CARD_MAX\n0                    3LUM 2019-12-01 00:00:00+00:00   13.000000   0.577350             14.0\n193      3US6 (EQUIPMENT) 2021-08-01 00:00:00+00:00   36.600000  27.673092            104.0\n192   ACORDA THERAPEUTICS 2019-09-01 00:00:00+00:00  129.600000   2.190890            133.0\n191  ADF PIZZA MANAGEMENT 2020-12-01 00:00:00+00:00    7.500000   1.623688             12.0\n190                 ALENT 2020-04-01 00:00:00+00:00    1.333333   0.492366              2.0",
            "text/html": "\u003cdiv\u003e\n\u003cstyle scoped\u003e\n    .dataframe tbody tr th:only-of-type {\n        vertical-align: middle;\n    }\n\n    .dataframe tbody tr th {\n        vertical-align: top;\n    }\n\n    .dataframe thead th {\n        text-align: right;\n    }\n\u003c/style\u003e\n\u003ctable border\u003d\"1\" class\u003d\"dataframe\"\u003e\n  \u003cthead\u003e\n    \u003ctr style\u003d\"text-align: right;\"\u003e\n      \u003cth\u003e\u003c/th\u003e\n      \u003cth\u003eCUSTOMER\u003c/th\u003e\n      \u003cth\u003eDRAW_DOWN_DATE\u003c/th\u003e\n      \u003cth\u003eMEAN_DD\u003c/th\u003e\n      \u003cth\u003eSTD_DD\u003c/th\u003e\n      \u003cth\u003eACTIVE_CARD_MAX\u003c/th\u003e\n    \u003c/tr\u003e\n  \u003c/thead\u003e\n  \u003ctbody\u003e\n    \u003ctr\u003e\n      \u003cth\u003e0\u003c/th\u003e\n      \u003ctd\u003e3LUM\u003c/td\u003e\n      \u003ctd\u003e2019-12-01 00:00:00+00:00\u003c/td\u003e\n      \u003ctd\u003e13.000000\u003c/td\u003e\n      \u003ctd\u003e0.577350\u003c/td\u003e\n      \u003ctd\u003e14.0\u003c/td\u003e\n    \u003c/tr\u003e\n    \u003ctr\u003e\n      \u003cth\u003e193\u003c/th\u003e\n      \u003ctd\u003e3US6 (EQUIPMENT)\u003c/td\u003e\n      \u003ctd\u003e2021-08-01 00:00:00+00:00\u003c/td\u003e\n      \u003ctd\u003e36.600000\u003c/td\u003e\n      \u003ctd\u003e27.673092\u003c/td\u003e\n      \u003ctd\u003e104.0\u003c/td\u003e\n    \u003c/tr\u003e\n    \u003ctr\u003e\n      \u003cth\u003e192\u003c/th\u003e\n      \u003ctd\u003eACORDA THERAPEUTICS\u003c/td\u003e\n      \u003ctd\u003e2019-09-01 00:00:00+00:00\u003c/td\u003e\n      \u003ctd\u003e129.600000\u003c/td\u003e\n      \u003ctd\u003e2.190890\u003c/td\u003e\n      \u003ctd\u003e133.0\u003c/td\u003e\n    \u003c/tr\u003e\n    \u003ctr\u003e\n      \u003cth\u003e191\u003c/th\u003e\n      \u003ctd\u003eADF PIZZA MANAGEMENT\u003c/td\u003e\n      \u003ctd\u003e2020-12-01 00:00:00+00:00\u003c/td\u003e\n      \u003ctd\u003e7.500000\u003c/td\u003e\n      \u003ctd\u003e1.623688\u003c/td\u003e\n      \u003ctd\u003e12.0\u003c/td\u003e\n    \u003c/tr\u003e\n    \u003ctr\u003e\n      \u003cth\u003e190\u003c/th\u003e\n      \u003ctd\u003eALENT\u003c/td\u003e\n      \u003ctd\u003e2020-04-01 00:00:00+00:00\u003c/td\u003e\n      \u003ctd\u003e1.333333\u003c/td\u003e\n      \u003ctd\u003e0.492366\u003c/td\u003e\n      \u003ctd\u003e2.0\u003c/td\u003e\n    \u003c/tr\u003e\n  \u003c/tbody\u003e\n\u003c/table\u003e\n\u003c/div\u003e"
          },
          "metadata": {}
        }
      ]
    },
    {
      "execution_count": 66,
      "cell_type": "code",
      "metadata": {},
      "source": [
        "import string\n\nclass Draw_Down_Customer:\n\n    def __init__(self, name, draw_down_date, mean_dd, std_dd, active_card_max):\n\n        self._common_words \u003d [\u0027PIZZA\u0027, \u0027MANAGEMENT\u0027, \u0027THERAPEUTICS\u0027, \u0027USA\u0027, \u0027INC\u0027, \u0027US\u0027, \u0027EQUIPMENT\u0027, \u0027MEDICAL\u0027, \u0027SYSTEMS\u0027,\n                             \u0027ANIMAL\u0027, \u0027HEALTH\u0027, \u0027LLC\u0027, \u0027CORPORATION\u0027, \u0027BRANDS\u0027, \u0027TIRE\u0027, \u0027RUBBER\u0027, \u0027COUNTRY\u0027, \u0027CORP\u0027,\n                              \u0027PHARMACY\u0027,\u0027INC\u0027, \u0027RESTAURANTS\u0027, \u0027CONTAINER\u0027, \u0027AMERICA\u0027, \u0027APPLICATIONS\u0027, \u0027TECHNOLOGY\u0027,\n                              \u0027INSURANCE\u0027, \u0027FARM\u0027,\u0027CREDIT\u0027, \u0027SERVICES\u0027, \u0027SERVICE\u0027, \u0027ACCOUNT\u0027, \u0027GENERAL\u0027, \u0027PARTS\u0027,\n                              \u0027INTL\u0027, \u0027FLAVORS\u0027, \u0027HOLDINGS\u0027, \u0027FOOD\u0027,\u0027INDUSTRIES\u0027, \u0027LP\u0027, \u0027FLEET\u0027, \u0027MEDICAL\u0027, \u0027PHARMA\u0027,\n                             \u0027GLOBAL\u0027, \u0027PIPELINE\u0027, \u0027WHEELS\u0027, \u0027BIOSCIENCES\u0027, \u0027SSI\u0027, \u0027SPRINGS\u0027, \u0027NORTH\u0027, \u0027MARINE\u0027, \u0027HOLDING\u0027,\n                              \u0027TECHNOLOGIES\u0027,\u0027GROUP\u0027, \u0027PHARMACEUTICAL\u0027, \u0027NA\u0027, \u0027USA\u0027, \u0027COMPANY\u0027, \u0027RAIL\u0027, \u0027PARTNERS\u0027, \u0027BROS\u0027,\n                              \u0027CO\u0027, \u0027PHARMACEUTICALS\u0027, \u0027ENERGY\u0027, \u0027DISTRIBUTION\u0027, \u0027DENTAL\u0027, \u0027SPECIALTIES\u0027, \u0027OPERATIONS\u0027,\n                              \u0027COMPANY\u0027, \u0027THE\u0027, \u0027MOUNTAIN\u0027, \u0027TRANS\u0027, \u0027FUEL\u0027, \u0027AMERICAN\u0027, \u0027HOMES\u0027, \u0027GAS\u0027]\n\n        self.CUSTOMER \u003d name\n        self.DRAW_DOWN_DATE \u003d draw_down_date\n        self.ACTIVE_CARD_MAX \u003d active_card_max\n\n        self.MATCHING_CUSTOMERS \u003d []\n        self.PERCENT_DIFFERENCE \u003d []\n        self.DAYS_DIFFERENCE \u003d []\n        self.DRAW_UP_DATE \u003d []\n\n        # remove punctuation\n        c_str \u003d name.translate(str.maketrans(\u0027\u0027, \u0027\u0027, string.punctuation))\n\n        f \u003d c_str.split()\n        self.WORD_LIST \u003d []\n        for w in f:\n            if w not in self._common_words:\n                self.WORD_LIST.append(w)\n\n    def Match_Draw_Up_Customer(self, name, draw_up_date, mean_du, std_du, active_card_max):\n\n        if (self.CUSTOMER \u003d\u003d name):\n            # exact match, already captured\n            return\n\n        c_str \u003d name.translate(str.maketrans(\u0027\u0027, \u0027\u0027, string.punctuation))\n\n        f \u003d c_str.split()\n\n        check_list \u003d []\n        for w in f:\n            if w not in self._common_words:\n                check_list.append(w)\n\n        percent_diff \u003d round((abs(self.ACTIVE_CARD_MAX - active_card_max) / ((self.ACTIVE_CARD_MAX+active_card_max)/2)),2)\n\n        #date_format \u003d \"%Y-%m-%d\"\n        #d1_date \u003d datetime.strptime(draw_up_date.astype(str), date_format)\n        #d2_date \u003d datetime.strptime(self.DRAW_DOWN_DATE.astype(str), date_format)\n\n        delta_between_drop_and_rise \u003d round(abs((draw_up_date-self.DRAW_DOWN_DATE).days)/30.,0)\n\n        for w_to_check in check_list:\n            for w in self.WORD_LIST:\n                if w_to_check\u003d\u003dw:\n\n                    if not name in(self.MATCHING_CUSTOMERS) and(delta_between_drop_and_rise\u003c\u003d4)and(percent_diff\u003c\u003d0.5) :\n                        self.MATCHING_CUSTOMERS.append(name)\n                        self.PERCENT_DIFFERENCE.append(percent_diff)\n                        self.DAYS_DIFFERENCE.append(delta_between_drop_and_rise)\n                        self.DRAW_UP_DATE.append(draw_up_date)\n                        break;"
      ],
      "outputs": []
    },
    {
      "execution_count": 77,
      "cell_type": "code",
      "metadata": {},
      "source": [
        "idx \u003d 0\n\n_customers \u003d []\n\nfor index, row in df_down.iterrows():\n\n    idx+\u003d1\n\n    customer \u003d row[\u0027CUSTOMER\u0027]\n    draw_down_date \u003d row[\u0027DRAW_DOWN_DATE\u0027]\n    mean_dd \u003d row[\u0027MEAN_DD\u0027]\n    std_dd \u003d row[\u0027STD_DD\u0027]\n    active_card_max \u003d row[\u0027ACTIVE_CARD_MAX\u0027]\n\n    c \u003d Draw_Down_Customer(customer, draw_down_date, mean_dd, std_dd, active_card_max)\n\n    _customers.append(c)\n\n    #if idx\u003e10:\n    #    break;\n\nidx \u003d 0\nverbose \u003d False\n\n_direct_customer \u003d []\n_direct_match \u003d []\n_direct_draw_up_date \u003d []\n\n\n_multiple_matches \u003d []\n\nfor c in _customers:\n\n    for index_up, row_up in df_up.iterrows():\n\n        idx+\u003d1\n\n        customer \u003d row_up[\u0027CUSTOMER\u0027]\n        draw_up_date \u003d row_up[\u0027DRAW_UP_DATE\u0027]\n        mean_du \u003d row_up[\u0027MEAN_DU\u0027]\n        std_du \u003d row_up[\u0027STD_DU\u0027]\n        active_card_max \u003d row_up[\u0027ACTIVE_CARD_MAX\u0027]\n\n        c.Match_Draw_Up_Customer(customer, draw_up_date, mean_du, std_du, active_card_max)\n\n    if len(c.MATCHING_CUSTOMERS)\u003d\u003d1:\n\n        _direct_customer.append(c.CUSTOMER)\n        _direct_match.append(c.MATCHING_CUSTOMERS[0])\n        _direct_draw_up_date.append(c.DRAW_UP_DATE[0])\n\n        print(c.CUSTOMER, c.MATCHING_CUSTOMERS)\n\n        if verbose:\n\n            print(c.CUSTOMER, c.WORD_LIST)\n            print(\"Draw Up Date:\", c.DRAW_DOWN_DATE)\n            print(\"Cards\", c.ACTIVE_CARD_MAX)\n            print()\n            print(c.MATCHING_CUSTOMERS)\n            print(c.PERCENT_DIFFERENCE)\n            print(c.DAYS_DIFFERENCE)\n            print()\n            print(\"\u003d\u003d\u003d\u003d\u003d\")\n            print()\n\n    elif len(c.MATCHING_CUSTOMERS)\u003e1:\n\n        _multiple_matches.append([c.CUSTOMER, c.WORD_LIST])\n\n        if verbose:\n            print()\n            print(\"deal with multiple matches\")\n            print()\n\nprint(idx)\nprint()\n\nprint(len(_direct_customer), \"direct matches\")\nprint(len(_multiple_matches), \"multiple matches\")\n\n"
      ],
      "outputs": [
        {
          "output_type": "stream",
          "text": "ALKERMES (3ALK) [\u0027ALKERMES INC\u0027]\nAMERICAN HOMES 4 RENT [\u0027AMERICAN HOMES 4 RENT LP\u0027]\nAMGEN USA INC [\u0027AMGEN USA\u0027]\nARCADIS US [\u0027ARCADIS US INC\u0027]\nARCHROMA U.S. INC. [\u0027ARCHROMA US INC\u0027]\nASTELLAS PHARMA [\u0027ASTELLAS PHARMA US INC\u0027]\nBALFOUR EQUIP [\u0027BALFOUR BEATTY3BBR\u0027]\nBALFOUR RENO [\u0027BALFOUR BEATTY RENOVATIONS\u0027]\nBECTON DICKINSON (3BRD) [\u0027BECTON DICKINSON  3BRD\u0027]\nCANON MEDICAL USA [\u0027CANON MEDICAL SYSTEMS USA INC\u0027]\nCEVA ANIMAL HEALTH, LLC [\u0027CEVA ANIMAL HEALTH LLC\u0027]\nCOLLEGIUM [\u0027COLLEGIUM PHARMACEUTICAL INC\u0027]\nCOOPER TIRE \u0026 RUBBER [\u0027COOPER TIRE  RUBBER\u0027]\nCOVESTRO [\u0027COVESTRO LLC\u0027]\nCURTISS-WRIGHT (5CWC) [\u0027CURTISSWRIGHT CORPORATION\u0027]\nDARDEN RESTAURANTS (3DAR) [\u0027DARDEN RESTAURANTS\u0027]\nDART CONTAINER CORP (3DC2) [\u0027DART CONTAINER CORP3DRT\u0027]\nDART CONTAINER CORP (3DRT) [\u0027DART CONTAINER CORP3DRT\u0027]\nDIVERSIFIED APPLICAITONS, INC. [\u0027DIVERSIFIED APPLICATIONS INC\u0027]\nDYSON (3DYS) [\u0027DYSON INC\u0027]\nERIE INSURANCE (3ERE) [\u0027ERIE INSURANCE EXCHANGE  3ERE\u0027]\nFARMERS MUTUAL HAIL INSURANCE [\u0027FARMERS MUTUAL HAIL INSURANCE CO OF IOWA\u0027]\nFCS AMERICA (3FCS) [\u0027FARM CREDIT SERVICES (3FCS)\u0027]\nGLENN SPRINGS HOLDINGS [\u0027GLENN SPRINGS HOLDINGS INC\u0027]\nHARMON INC (WHLS) [\u0027HARMON INC\u0027]\nHARMONY BIOSCIENCES [\u0027HARMONY BIOSCIENCES LLC\u0027]\nHAYWARD INDUSTRIES (WHLS) [\u0027HAYWARD INDUSTRIES\u0027]\nHIGHWAY EQUIPMENT [\u0027HIGHWAY EQUIPMENT AND SUPPLY COMPANY\u0027]\nIRONWOOD PHARMA (IRW) [\u0027IRONWOOD PHARMACEUTICALS\u0027]\nJAZZ PHARMA (3JAZ) [\u0027JAZZ PARMACEUTICALS INC.\u0027]\nJONES LANG LASALLE (0469) [\u0027JONES LANG LASALLE AMERICAS INC\u0027]\nLAERDAL MEDICAL [\u0027LAERDAL MEDICAL CORP\u0027]\nLAMB WESTON SALES [\u0027LAMB WESTON SALES INC\u0027]\nLEGRAND (5LAV) [\u0027LEGRAND AV INC5LAV\u0027]\nLUNDBECK [\u0027LUNDBECK LLC\u0027]\nMACLEAN-FOGG (3MF1) [\u0027MACLEANFOGG COMPANY\u0027]\nMARS INC. [\u0027MARS INC\u0027]\nMCKESSON CORPORATION (3MCK) [\u0027MCKESSON CORPORATION3MCK\u0027]\nMCKESSON CORPORATION (3MCT) [\u0027MCKESSON CORPORATION3MCT\u0027]\nMILLENNIUM PHARMA [\u0027MILLENNIUM PHARMACEUTICLAS INC\u0027]\nNOVAMEX [\u0027NOVAMEX  TIPP ENTERPRISES LP\u0027]\nOCCIDENTAL CHEMICAL CORP (69) [\u0027OCCIDENTAL CHEMICAL CORPORATION\u0027]\nOSMOTICA PHARMACEUTICAL [\u0027OSMOTICA HOLDINGS US LLC\u0027]\nPRIMETALS TECHNOLOGIES USA [\u0027PRIMETALS TECHNOLOGIES USA LLC\u0027]\nRITCHIE BROS. USA [\u0027RITCHIE BROS AUCTIONEERS AMERICA INC\u0027]\nROBERT HALF CORPORATION (3RHF) [\u0027ROBERT HALF INTERNATIONAL INCPROTIVITI\u0027]\nRPM INC (5RPX) [\u0027RPM INTERNATIONAL INC  5RPX\u0027]\nRPM, INC [\u0027RPM INTERNATIONAL INC  5RPM\u0027]\nSECURITAS ELECTRONICS [\u0027SECURITAS ELECTRONIC SECURITY INC\u0027]\nSECURITAS SECURITY SRVCS(3SCR) [\u0027SECURITAS SECURITY SERVICES USA INC\u0027]\nSELECTIVE INSURANCE CO [\u0027SELECTIVE INSURANCE COMPANY OF AMERICA\u0027]\nSIBELCO [\u0027SIBELCO NORTH AMERICA INC\u0027]\nSYBRON DENTAL SPECIALTIES (69) [\u0027SYBRON DENTAL SPECIALTIES\u0027]\nTEVA WHEELS [\u0027TEVA PHARMACEUTICALS\u0027]\nTHIBAUT ACQUISITION [\u0027THIBAUT ACQUISITION CO\u0027]\nTRANSTAR [\u0027TRANSTAR INC\u0027]\nVARIAN MEDICAL (V08) [\u0027VARIAN MEDICAL SYSTEMS\u0027]\nWATERS TECHNOLOGIES [\u0027WATERS TECHNOLOGIES CORPORATION\u0027]\nWATT STOPPER, INC. [\u0027WATT STOPPER INC\u0027]\nYUM  INC. [\u0027YUM RESTAURANT SERVICES GROUP LLC\u0027]\n62468\n\n0 direct matches\n9 multiple matches\n",
          "name": "stdout"
        }
      ]
    },
    {
      "execution_count": 75,
      "cell_type": "code",
      "metadata": {},
      "source": [
        "df_matches \u003d pd.DataFrame(_direct_customer)\ndf_matches.columns \u003d [\u0027CUSTOMER\u0027]\ndf_matches[\"MATCH_CUSTOMER\"] \u003d _direct_match\ndf_matches[\"DRAW_UP_DATE\"] \u003d _direct_draw_up_date\n\ndf_matches.head()"
      ],
      "outputs": [
        {
          "output_type": "execute_result",
          "execution_count": 75,
          "data": {
            "text/plain": "                CUSTOMER            MATCH_CUSTOMER              DRAW_UP_DATE\n0        ALKERMES (3ALK)              ALKERMES INC 2021-11-01 00:00:00+00:00\n1  AMERICAN HOMES 4 RENT  AMERICAN HOMES 4 RENT LP 2021-02-01 00:00:00+00:00\n2          AMGEN USA INC                 AMGEN USA 2021-01-01 00:00:00+00:00\n3             ARCADIS US            ARCADIS US INC 2021-12-01 00:00:00+00:00\n4     ARCHROMA U.S. INC.           ARCHROMA US INC 2021-06-01 00:00:00+00:00",
            "text/html": "\u003cdiv\u003e\n\u003cstyle scoped\u003e\n    .dataframe tbody tr th:only-of-type {\n        vertical-align: middle;\n    }\n\n    .dataframe tbody tr th {\n        vertical-align: top;\n    }\n\n    .dataframe thead th {\n        text-align: right;\n    }\n\u003c/style\u003e\n\u003ctable border\u003d\"1\" class\u003d\"dataframe\"\u003e\n  \u003cthead\u003e\n    \u003ctr style\u003d\"text-align: right;\"\u003e\n      \u003cth\u003e\u003c/th\u003e\n      \u003cth\u003eCUSTOMER\u003c/th\u003e\n      \u003cth\u003eMATCH_CUSTOMER\u003c/th\u003e\n      \u003cth\u003eDRAW_UP_DATE\u003c/th\u003e\n    \u003c/tr\u003e\n  \u003c/thead\u003e\n  \u003ctbody\u003e\n    \u003ctr\u003e\n      \u003cth\u003e0\u003c/th\u003e\n      \u003ctd\u003eALKERMES (3ALK)\u003c/td\u003e\n      \u003ctd\u003eALKERMES INC\u003c/td\u003e\n      \u003ctd\u003e2021-11-01 00:00:00+00:00\u003c/td\u003e\n    \u003c/tr\u003e\n    \u003ctr\u003e\n      \u003cth\u003e1\u003c/th\u003e\n      \u003ctd\u003eAMERICAN HOMES 4 RENT\u003c/td\u003e\n      \u003ctd\u003eAMERICAN HOMES 4 RENT LP\u003c/td\u003e\n      \u003ctd\u003e2021-02-01 00:00:00+00:00\u003c/td\u003e\n    \u003c/tr\u003e\n    \u003ctr\u003e\n      \u003cth\u003e2\u003c/th\u003e\n      \u003ctd\u003eAMGEN USA INC\u003c/td\u003e\n      \u003ctd\u003eAMGEN USA\u003c/td\u003e\n      \u003ctd\u003e2021-01-01 00:00:00+00:00\u003c/td\u003e\n    \u003c/tr\u003e\n    \u003ctr\u003e\n      \u003cth\u003e3\u003c/th\u003e\n      \u003ctd\u003eARCADIS US\u003c/td\u003e\n      \u003ctd\u003eARCADIS US INC\u003c/td\u003e\n      \u003ctd\u003e2021-12-01 00:00:00+00:00\u003c/td\u003e\n    \u003c/tr\u003e\n    \u003ctr\u003e\n      \u003cth\u003e4\u003c/th\u003e\n      \u003ctd\u003eARCHROMA U.S. INC.\u003c/td\u003e\n      \u003ctd\u003eARCHROMA US INC\u003c/td\u003e\n      \u003ctd\u003e2021-06-01 00:00:00+00:00\u003c/td\u003e\n    \u003c/tr\u003e\n  \u003c/tbody\u003e\n\u003c/table\u003e\n\u003c/div\u003e"
          },
          "metadata": {}
        }
      ]
    },
    {
      "execution_count": 0,
      "cell_type": "code",
      "metadata": {},
      "source": [
        "len(df_up)"
      ],
      "outputs": []
    },
    {
      "execution_count": 0,
      "cell_type": "code",
      "metadata": {},
      "source": [
        "# Compute recipe outputs\n# TODO: Write here your actual code that computes the outputs\n# NB: DSS supports several kinds of APIs for reading and writing data. Please see doc.\n\n#CONSOLIDATED_MATCHES_df \u003d ... # Compute a Pandas dataframe to write into CONSOLIDATED_MATCHES\n\n\n# Write recipe outputs\n#CONSOLIDATED_MATCHES \u003d dataiku.Dataset(\"CONSOLIDATED_MATCHES\")\n#CONSOLIDATED_MATCHES.write_with_schema(CONSOLIDATED_MATCHES_df)"
      ],
      "outputs": []
    }
  ]
}