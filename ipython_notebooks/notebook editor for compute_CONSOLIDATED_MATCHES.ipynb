{
  "metadata": {
    "kernelspec": {
      "name": "py-dku-venv-env_clc",
      "display_name": "Python (env env_clc)",
      "language": "python"
    },
    "associatedRecipe": "compute_CONSOLIDATED_MATCHES",
    "creator": "Daniel.Vandermeer",
    "createdOn": 1666015248584,
    "tags": [
      "recipe-editor"
    ],
    "customFields": {},
    "hide_input": false,
    "language_info": {
      "name": "python",
      "version": "3.6.8",
      "mimetype": "text/x-python",
      "codemirror_mode": {
        "name": "ipython",
        "version": 3
      },
      "pygments_lexer": "ipython3",
      "nbconvert_exporter": "python",
      "file_extension": ".py"
    },
    "modifiedBy": "Daniel.Vandermeer"
  },
  "nbformat": 4,
  "nbformat_minor": 1,
  "cells": [
    {
      "execution_count": 1,
      "cell_type": "code",
      "metadata": {},
      "source": [
        "# -*- coding: utf-8 -*-\nimport dataiku\nimport pandas as pd, numpy as np\nfrom dataiku import pandasutils as pdu\n\n# Read recipe inputs\nCALCULATED_CARD_DRAW_UPS \u003d dataiku.Dataset(\"CALCULATED_CARD_DRAW_UPS\")\nCALCULATED_CARD_DRAW_UPS_df \u003d CALCULATED_CARD_DRAW_UPS.get_dataframe()\n\nCALCULATED_CARD_DRAW_DOWNS \u003d dataiku.Dataset(\"CALCULATED_CARD_DRAW_DOWNS\")\nCALCULATED_CARD_DRAW_DOWNS_df \u003d CALCULATED_CARD_DRAW_DOWNS.get_dataframe()\n"
      ],
      "outputs": []
    },
    {
      "execution_count": 5,
      "cell_type": "code",
      "metadata": {},
      "source": [
        "df_down \u003d "
      ],
      "outputs": [
        {
          "output_type": "execute_result",
          "execution_count": 5,
          "data": {
            "text/plain": "2021-08-01 00:00:00+00:00    22\n2021-02-01 00:00:00+00:00    12\n2021-09-01 00:00:00+00:00    10\n2021-10-01 00:00:00+00:00    10\n2022-03-01 00:00:00+00:00     8\n2021-11-01 00:00:00+00:00     8\n2021-07-01 00:00:00+00:00     8\n2021-05-01 00:00:00+00:00     8\n2021-04-01 00:00:00+00:00     8\n2021-06-01 00:00:00+00:00     7\n2022-01-01 00:00:00+00:00     7\n2020-03-01 00:00:00+00:00     7\n2021-12-01 00:00:00+00:00     7\n2019-12-01 00:00:00+00:00     6\n2020-10-01 00:00:00+00:00     6\n2019-04-01 00:00:00+00:00     6\n2019-01-01 00:00:00+00:00     5\n2021-03-01 00:00:00+00:00     5\n2019-07-01 00:00:00+00:00     5\n2019-09-01 00:00:00+00:00     4\n2022-02-01 00:00:00+00:00     4\n2020-06-01 00:00:00+00:00     4\n2021-01-01 00:00:00+00:00     3\n2020-04-01 00:00:00+00:00     3\n2020-07-01 00:00:00+00:00     3\n2019-05-01 00:00:00+00:00     2\n2020-12-01 00:00:00+00:00     2\n2020-05-01 00:00:00+00:00     2\n2019-08-01 00:00:00+00:00     2\n2019-02-01 00:00:00+00:00     2\n2020-09-01 00:00:00+00:00     2\n2020-01-01 00:00:00+00:00     1\n2020-02-01 00:00:00+00:00     1\n2019-10-01 00:00:00+00:00     1\n2019-03-01 00:00:00+00:00     1\n2020-08-01 00:00:00+00:00     1\n2019-06-01 00:00:00+00:00     1\nName: DRAW_DOWN_DATE, dtype: int64"
          },
          "metadata": {}
        }
      ]
    },
    {
      "execution_count": 0,
      "cell_type": "code",
      "metadata": {},
      "source": [
        "\n# Compute recipe outputs\n# TODO: Write here your actual code that computes the outputs\n# NB: DSS supports several kinds of APIs for reading and writing data. Please see doc.\n\nCONSOLIDATED_MATCHES_df \u003d ... # Compute a Pandas dataframe to write into CONSOLIDATED_MATCHES\n\n\n# Write recipe outputs\nCONSOLIDATED_MATCHES \u003d dataiku.Dataset(\"CONSOLIDATED_MATCHES\")\nCONSOLIDATED_MATCHES.write_with_schema(CONSOLIDATED_MATCHES_df)"
      ],
      "outputs": []
    }
  ]
}