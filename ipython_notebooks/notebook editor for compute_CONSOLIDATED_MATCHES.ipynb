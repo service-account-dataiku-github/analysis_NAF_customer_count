{
  "metadata": {
    "kernelspec": {
      "name": "py-dku-venv-env_clc",
      "display_name": "Python (env env_clc)",
      "language": "python"
    },
    "associatedRecipe": "compute_CONSOLIDATED_MATCHES",
    "dkuGit": {
      "lastInteraction": 0
    },
    "creationTag": {
      "versionNumber": 0,
      "lastModifiedBy": {
        "login": "Daniel.Vandermeer"
      },
      "lastModifiedOn": 1666015248584
    },
    "creator": "Daniel.Vandermeer",
    "createdOn": 1666015248584,
    "tags": [
      "recipe-editor"
    ],
    "customFields": {},
    "hide_input": false,
    "language_info": {
      "name": "python",
      "version": "3.6.8",
      "mimetype": "text/x-python",
      "codemirror_mode": {
        "name": "ipython",
        "version": 3
      },
      "pygments_lexer": "ipython3",
      "nbconvert_exporter": "python",
      "file_extension": ".py"
    },
    "modifiedBy": "Daniel.Vandermeer"
  },
  "nbformat": 4,
  "nbformat_minor": 1,
  "cells": [
    {
      "execution_count": 91,
      "cell_type": "code",
      "metadata": {},
      "source": [
        "# -*- coding: utf-8 -*-\nimport dataiku\nimport pandas as pd, numpy as np\nfrom dataiku import pandasutils as pdu\n\n# Read recipe inputs\nCALCULATED_CARD_DRAW_UPS \u003d dataiku.Dataset(\"CALCULATED_CARD_DRAW_UPS\")\nCALCULATED_CARD_DRAW_UPS_df \u003d CALCULATED_CARD_DRAW_UPS.get_dataframe()\n\nCALCULATED_CARD_DRAW_DOWNS \u003d dataiku.Dataset(\"CALCULATED_CARD_DRAW_DOWNS\")\nCALCULATED_CARD_DRAW_DOWNS_df \u003d CALCULATED_CARD_DRAW_DOWNS.get_dataframe()"
      ],
      "outputs": []
    },
    {
      "execution_count": 92,
      "cell_type": "code",
      "metadata": {},
      "source": [
        "df_down \u003d CALCULATED_CARD_DRAW_DOWNS_df\ndf_up \u003d CALCULATED_CARD_DRAW_UPS_df\n\ndf_down.sort_values([\u0027CUSTOMER\u0027], inplace\u003dTrue)\ndf_up.sort_values([\u0027CUSTOMER\u0027], inplace\u003dTrue)\n\nprint(len(df_down), \"draw downs\")\nprint(len(df_up), \"draw ups\")"
      ],
      "outputs": [
        {
          "output_type": "stream",
          "text": "34557 draw downs\n48169 draw ups\n",
          "name": "stdout"
        }
      ]
    },
    {
      "execution_count": 93,
      "cell_type": "code",
      "metadata": {},
      "source": [
        "df_down.head()"
      ],
      "outputs": [
        {
          "output_type": "execute_result",
          "execution_count": 93,
          "data": {
            "text/plain": "                                   CUSTOMER            DRAW_DOWN_DATE   MEAN_DD    STD_DD  ACTIVE_CARD_MAX\n0             1 AFFORDABLE LAWN MAINTENANCE 2022-02-01 00:00:00+00:00  2.000000  0.000000              3.0\n9999                  1 BRUDA  3 SISTAS LLC 2021-09-01 00:00:00+00:00       NaN       NaN              1.0\n9998                            1 G R V LLC 2019-08-01 00:00:00+00:00  0.500000  0.577350              7.0\n9997                         1 KC LOGISTICS 2021-10-01 00:00:00+00:00       NaN       NaN              1.0\n9996  1 PRIORITY ENVIRONMENTAL SERVICES LLC 2021-01-01 00:00:00+00:00  6.333333  0.492366              7.0",
            "text/html": "\u003cdiv\u003e\n\u003cstyle scoped\u003e\n    .dataframe tbody tr th:only-of-type {\n        vertical-align: middle;\n    }\n\n    .dataframe tbody tr th {\n        vertical-align: top;\n    }\n\n    .dataframe thead th {\n        text-align: right;\n    }\n\u003c/style\u003e\n\u003ctable border\u003d\"1\" class\u003d\"dataframe\"\u003e\n  \u003cthead\u003e\n    \u003ctr style\u003d\"text-align: right;\"\u003e\n      \u003cth\u003e\u003c/th\u003e\n      \u003cth\u003eCUSTOMER\u003c/th\u003e\n      \u003cth\u003eDRAW_DOWN_DATE\u003c/th\u003e\n      \u003cth\u003eMEAN_DD\u003c/th\u003e\n      \u003cth\u003eSTD_DD\u003c/th\u003e\n      \u003cth\u003eACTIVE_CARD_MAX\u003c/th\u003e\n    \u003c/tr\u003e\n  \u003c/thead\u003e\n  \u003ctbody\u003e\n    \u003ctr\u003e\n      \u003cth\u003e0\u003c/th\u003e\n      \u003ctd\u003e1 AFFORDABLE LAWN MAINTENANCE\u003c/td\u003e\n      \u003ctd\u003e2022-02-01 00:00:00+00:00\u003c/td\u003e\n      \u003ctd\u003e2.000000\u003c/td\u003e\n      \u003ctd\u003e0.000000\u003c/td\u003e\n      \u003ctd\u003e3.0\u003c/td\u003e\n    \u003c/tr\u003e\n    \u003ctr\u003e\n      \u003cth\u003e9999\u003c/th\u003e\n      \u003ctd\u003e1 BRUDA  3 SISTAS LLC\u003c/td\u003e\n      \u003ctd\u003e2021-09-01 00:00:00+00:00\u003c/td\u003e\n      \u003ctd\u003eNaN\u003c/td\u003e\n      \u003ctd\u003eNaN\u003c/td\u003e\n      \u003ctd\u003e1.0\u003c/td\u003e\n    \u003c/tr\u003e\n    \u003ctr\u003e\n      \u003cth\u003e9998\u003c/th\u003e\n      \u003ctd\u003e1 G R V LLC\u003c/td\u003e\n      \u003ctd\u003e2019-08-01 00:00:00+00:00\u003c/td\u003e\n      \u003ctd\u003e0.500000\u003c/td\u003e\n      \u003ctd\u003e0.577350\u003c/td\u003e\n      \u003ctd\u003e7.0\u003c/td\u003e\n    \u003c/tr\u003e\n    \u003ctr\u003e\n      \u003cth\u003e9997\u003c/th\u003e\n      \u003ctd\u003e1 KC LOGISTICS\u003c/td\u003e\n      \u003ctd\u003e2021-10-01 00:00:00+00:00\u003c/td\u003e\n      \u003ctd\u003eNaN\u003c/td\u003e\n      \u003ctd\u003eNaN\u003c/td\u003e\n      \u003ctd\u003e1.0\u003c/td\u003e\n    \u003c/tr\u003e\n    \u003ctr\u003e\n      \u003cth\u003e9996\u003c/th\u003e\n      \u003ctd\u003e1 PRIORITY ENVIRONMENTAL SERVICES LLC\u003c/td\u003e\n      \u003ctd\u003e2021-01-01 00:00:00+00:00\u003c/td\u003e\n      \u003ctd\u003e6.333333\u003c/td\u003e\n      \u003ctd\u003e0.492366\u003c/td\u003e\n      \u003ctd\u003e7.0\u003c/td\u003e\n    \u003c/tr\u003e\n  \u003c/tbody\u003e\n\u003c/table\u003e\n\u003c/div\u003e"
          },
          "metadata": {}
        }
      ]
    },
    {
      "execution_count": 112,
      "cell_type": "code",
      "metadata": {},
      "source": [
        "import string\n\nclass Draw_Down_Customer:\n\n    def __init__(self, name, draw_down_date, mean_dd, std_dd, active_card_max):\n\n        self._common_words \u003d [\u00271\u0027,\u00272\u0027,\u00273\u0027,\u00274\u0027,\u00275\u0027,\u00276\u0027,\u00277\u0027,\u0027PIZZA\u0027, \u0027MANAGEMENT\u0027, \u0027THERAPEUTICS\u0027, \u0027USA\u0027, \u0027INC\u0027, \u0027US\u0027, \u0027EQUIPMENT\u0027, \u0027MEDICAL\u0027, \u0027SYSTEMS\u0027,\n                             \u0027ANIMAL\u0027, \u0027HEALTH\u0027, \u0027LLC\u0027, \u0027CORPORATION\u0027, \u0027BRANDS\u0027, \u0027TIRE\u0027, \u0027RUBBER\u0027, \u0027COUNTRY\u0027, \u0027CORP\u0027,\n                              \u0027PHARMACY\u0027,\u0027INC\u0027, \u0027RESTAURANTS\u0027, \u0027CONTAINER\u0027, \u0027AMERICA\u0027, \u0027APPLICATIONS\u0027, \u0027TECHNOLOGY\u0027,\n                              \u0027INSURANCE\u0027, \u0027FARM\u0027,\u0027CREDIT\u0027, \u0027SERVICES\u0027, \u0027SERVICE\u0027, \u0027ACCOUNT\u0027, \u0027GENERAL\u0027, \u0027PARTS\u0027,\n                              \u0027INTL\u0027, \u0027FLAVORS\u0027, \u0027HOLDINGS\u0027, \u0027FOOD\u0027,\u0027INDUSTRIES\u0027, \u0027LP\u0027, \u0027FLEET\u0027, \u0027MEDICAL\u0027, \u0027PHARMA\u0027,\n                             \u0027GLOBAL\u0027, \u0027PIPELINE\u0027, \u0027WHEELS\u0027, \u0027BIOSCIENCES\u0027, \u0027SSI\u0027, \u0027SPRINGS\u0027, \u0027NORTH\u0027, \u0027MARINE\u0027, \u0027HOLDING\u0027,\n                              \u0027TECHNOLOGIES\u0027,\u0027GROUP\u0027, \u0027PHARMACEUTICAL\u0027, \u0027NA\u0027, \u0027USA\u0027, \u0027COMPANY\u0027, \u0027RAIL\u0027, \u0027PARTNERS\u0027, \u0027BROS\u0027,\n                              \u0027CO\u0027, \u0027PHARMACEUTICALS\u0027, \u0027ENERGY\u0027, \u0027DISTRIBUTION\u0027, \u0027DENTAL\u0027, \u0027SPECIALTIES\u0027, \u0027OPERATIONS\u0027,\n                              \u0027COMPANY\u0027, \u0027THE\u0027, \u0027MOUNTAIN\u0027, \u0027TRANS\u0027, \u0027FUEL\u0027, \u0027AMERICAN\u0027, \u0027HOMES\u0027, \u0027GAS\u0027,\n                             \u0027AFFORDABLE\u0027, \u0027LAWN\u0027, \u0027MAINTENANCE\u0027,\u0027LOGISTICS\u0027,\u0027INC\u0027,\u0027LLC\u0027,\u0027CO\u0027,\u0027CORP\u0027,\u0027LTD\u0027,\u0027LIMITED\u0027,\n                              \u0027IN\u0027,\u0027COMPANY\u0027,\u0027COMPANIES\u0027,\u0027VENTURES\u0027,\u0027TECHNOLOGIES\u0027,\u0027WORKS\u0027,\u0027AND\u0027,\u0027THE\u0027,\u0027OF\u0027,\u0027COMPANY\u0027,\n                              \u0027SYSTEMS\u0027,\u0027PROPERTY\u0027,\u0027EXPRESS\u0027,\u0027SONS\u0027,\u0027BROTHERS\u0027,\u0027BUILDING\u0027,\u0027SERVIC\u0027,\u0027SERVICE\u0027,\u0027SERVICES\u0027,\n                              \u0027CONSTRUCTION\u0027,\u0027CONSTRUCTIONS\u0027,\u0027ELECTRIC\u0027,\u0027ELECTIC\u0027,\u0027ELECTRICAL\u0027,\u0027ELECTRONICS\u0027,\u0027GROUPE\u0027,\n                              \u0027GROUP\u0027,\u0027SOLUTIONS\u0027,\u0027PLUMBING\u0027,\u0027ENTERPRISES\u0027,\u0027TRANSPORT\u0027,\u0027TRANSPORTATION\u0027,\u0027SYSTEMS\u0027,\n                              \u0027MANAGEMENT\u0027,\u0027CONTRACTING\u0027,\u0027ASSOCIATES\u0027,\u0027CONSULTING\u0027,\u0027CONTRAC\u0027,\u0027CONTRACTORS\u0027,\u0027CONSTRUCTORS\u0027,\n                              \u0027SECURITY\u0027,\u0027INDUSTRIES\u0027,\u0027EXPRESS\u0027,\u0027SONS\u0027,\u0027PROPERTIES\u0027,\u0027INVESTMENTS\u0027,\u0027INVESTMENT\u0027,\n                              \u0027CORPORATION\u0027,\u0027BUILDERS\u0027,\u0027ENTERPRISE\u0027,\u0027STORE\u0027,\u0027INDUSTRIAL\u0027,\u0027AUTOMOTIVE\u0027,\u0027ENGINEERING\u0027,\n                              \u0027INTERNATIONAL\u0027,\u0027MEDICAL\u0027,\u0027MOTORS\u0027,\u0027STATE\u0027,\u0027COMMUNICATIONS\u0027,\u0027COMMUNICATION\u0027,\u0027DELIVERY\u0027,\n                              \u0027COMMERCIAL\u0027,\u0027REFRIGERATION\u0027,\u0027BUSINESS\u0027,\u0027HOUSING\u0027,\u0027DEPARTMENT\u0027,\u0027TECHNOLOGY\u0027,\u0027FOODS\u0027,\n                              \u0027PRODUCTIONS\u0027,\u0027MANUFACTURING\u0027,\u0027CONTRACTOR\u0027,\u0027DISTRIBUTORS\u0027,\u0027SYSTEM\u0027,\u0027ENTERTAINMENT\u0027,\n                              \u0027HOSPITAL\u0027,\u0027OPERATIONS\u0027,\u0027EXTERIORS\u0027,\u0027ASSOCIATED\u0027,\u0027FOUNDATIONS\u0027,\u0027LABORATORIES\u0027,\u0027BLACK\u0027,\n                              \u0027DECK\u0027,\u0027ENERGY\u0027,\u0027BUS\u0027,\u0027CONCRETE\u0027,\u0027CONTROL\u0027,\u0027CONTROLS\u0027,\u0027FIRE\u0027,\u0027WHEELS\u0027,\u0027TEST\u0027,\u0027KM\u0027,\u0027WINDOW\u0027,\n                              \u0027CLEANING\u0027,\u0027STEEMER\u0027,\u0027DEZURE\u0027,\u0027WHEELS\u0027,\u0027TEST\u0027,\u0027EQUIPMENT\u0027,\u0027COURIER\u0027,\u0027SANITARY\u0027,\n                              \u0027PAINT\u0027,\u0027PARTS\u0027,\u0027ELECTRICA\u0027,\u0027PRIORITY\u0027, \u0027ENVIRONMENTAL\u0027,\u0027WAY\u0027, \u0027AUTO\u0027, \u0027FREIGHT\u0027]\n\n        self.CUSTOMER \u003d name\n        self.DRAW_DOWN_DATE \u003d draw_down_date\n        self.ACTIVE_CARD_MAX \u003d active_card_max\n\n        self.MATCHING_CUSTOMERS \u003d []\n        self.PERCENT_DIFFERENCE \u003d []\n        self.DAYS_DIFFERENCE \u003d []\n        self.DRAW_UP_DATE \u003d []\n\n        # remove punctuation\n        c_str \u003d name.translate(str.maketrans(\u0027\u0027, \u0027\u0027, string.punctuation))\n\n        f \u003d c_str.split()\n        self.WORD_LIST \u003d []\n        for w in f:\n            if w not in self._common_words:\n                self.WORD_LIST.append(w)\n\n    def Match_Draw_Up_Customer(self, name, draw_up_date, mean_du, std_du, active_card_max):\n\n        if (self.CUSTOMER \u003d\u003d name):\n            # exact match, already captured\n            return\n\n        c_str \u003d name.translate(str.maketrans(\u0027\u0027, \u0027\u0027, string.punctuation))\n\n        f \u003d c_str.split()\n\n        check_list \u003d []\n        for w in f:\n            if (w not in self._common_words) and len(w)\u003e1:\n                check_list.append(w)\n\n        percent_diff \u003d round((abs(self.ACTIVE_CARD_MAX - active_card_max) / ((self.ACTIVE_CARD_MAX+active_card_max)/2)),2)\n\n        #date_format \u003d \"%Y-%m-%d\"\n        #d1_date \u003d datetime.strptime(draw_up_date.astype(str), date_format)\n        #d2_date \u003d datetime.strptime(self.DRAW_DOWN_DATE.astype(str), date_format)\n\n        delta_between_drop_and_rise \u003d round(abs((draw_up_date-self.DRAW_DOWN_DATE).days)/30.,0)\n\n        for w_to_check in check_list:\n            for w in self.WORD_LIST:\n                if w_to_check\u003d\u003dw:\n\n                    if not name in(self.MATCHING_CUSTOMERS) and(delta_between_drop_and_rise\u003c\u003d4)and(percent_diff\u003c\u003d0.5) :\n                        self.MATCHING_CUSTOMERS.append(name)\n                        self.PERCENT_DIFFERENCE.append(percent_diff)\n                        self.DAYS_DIFFERENCE.append(delta_between_drop_and_rise)\n                        self.DRAW_UP_DATE.append(draw_up_date)\n                        break;"
      ],
      "outputs": []
    },
    {
      "execution_count": 111,
      "cell_type": "code",
      "metadata": {},
      "source": [
        "idx \u003d 0\n_customers \u003d []\nverbose \u003d True\n\nmax_idx \u003d 10\n\nfor index, row in df_down.iterrows():\n\n    idx+\u003d1\n\n    customer \u003d row[\u0027CUSTOMER\u0027]\n    draw_down_date \u003d row[\u0027DRAW_DOWN_DATE\u0027]\n    mean_dd \u003d row[\u0027MEAN_DD\u0027]\n    std_dd \u003d row[\u0027STD_DD\u0027]\n    active_card_max \u003d row[\u0027ACTIVE_CARD_MAX\u0027]\n\n    c \u003d Draw_Down_Customer(customer, draw_down_date, mean_dd, std_dd, active_card_max)\n\n    _customers.append(c)\n\n    if max_idx\u003e0:\n        if idx\u003e10:\n            break;\n\nidx \u003d 0\n\n_direct_customer \u003d []\n_direct_match \u003d []\n_direct_draw_up_date \u003d []\n\n_multiple_customer \u003d []\n_multiple_matches \u003d []\n_multiple_drop_dates \u003d []\n\nfor c in _customers:\n\n    for index_up, row_up in df_up.iterrows():\n\n        idx+\u003d1\n\n        customer \u003d row_up[\u0027CUSTOMER\u0027]\n        draw_up_date \u003d row_up[\u0027DRAW_UP_DATE\u0027]\n        mean_du \u003d row_up[\u0027MEAN_DU\u0027]\n        std_du \u003d row_up[\u0027STD_DU\u0027]\n        active_card_max \u003d row_up[\u0027ACTIVE_CARD_MAX\u0027]\n\n        c.Match_Draw_Up_Customer(customer, draw_up_date, mean_du, std_du, active_card_max)\n\n    if len(c.MATCHING_CUSTOMERS)\u003d\u003d1:\n\n        _direct_customer.append(c.CUSTOMER)\n        _direct_match.append(c.MATCHING_CUSTOMERS[0])\n        _direct_draw_up_date.append(c.DRAW_UP_DATE[0])\n\n        print(c.CUSTOMER, c.MATCHING_CUSTOMERS)\n\n        if verbose:\n            print(\"DIRECT\")\n            print(c.CUSTOMER, c.WORD_LIST)\n            print(\"Draw Up Date:\", c.DRAW_DOWN_DATE)\n            print(\"Cards\", c.ACTIVE_CARD_MAX)\n            print()\n            print(c.MATCHING_CUSTOMERS)\n            print(c.PERCENT_DIFFERENCE)\n            print(c.DAYS_DIFFERENCE)\n            print()\n            print(\"\u003d\u003d\u003d\u003d\u003d\")\n            print()\n\n    elif len(c.MATCHING_CUSTOMERS)\u003e1:\n\n        _multiple_customer.append(c.CUSTOMER)\n        _multiple_matches.append(c.MATCHING_CUSTOMERS)\n        _multiple_drop_dates.append(c.DRAW_UP_DATE)\n\n        if verbose:\n            print(\"MULTIPLE\")\n            print(c.CUSTOMER, c.WORD_LIST)\n            print(\"Draw Up Date:\", c.DRAW_DOWN_DATE)\n            print(\"Cards\", c.ACTIVE_CARD_MAX)\n            print()\n            print(c.MATCHING_CUSTOMERS)\n            print(c.PERCENT_DIFFERENCE)\n            print(c.DAYS_DIFFERENCE)\n            print()\n            print(\"\u003d\u003d\u003d\u003d\u003d\")\n            print()\n\nprint(idx)\nprint()\n\nprint(len(_direct_customer), \"direct matches\")\nprint(len(_multiple_matches), \"multiple matches\")"
      ],
      "outputs": [
        {
          "output_type": "stream",
          "text": "MULTIPLE\n1 PRIORITY ENVIRONMENTAL SERVICES LLC [\u0027PRIORITY\u0027, \u0027ENVIRONMENTAL\u0027]\nDraw Up Date: 2021-01-01 00:00:00+00:00\nCards 7.0\n\n[\u0027CORE ENVIRONMENTAL SOLUTIONS\u0027, \u0027JAG ENVIRONMENTAL LLC\u0027, \u0027MISSION EARTHWORK AND ENVIRONMENTAL INC\u0027, \u0027MW ENVIRONMENTAL LLC\u0027, \u0027PECKER HEADS TREE  ENVIRONMENTAL LLC\u0027, \u0027RIO GRANDE ENVIRONMENTAL\u0027]\n[0.35, 0.15, 0.33, 0.13, 0.35, 0.15]\n[4.0, 1.0, 3.0, 2.0, 1.0, 4.0]\n\n\u003d\u003d\u003d\u003d\u003d\n\nMULTIPLE\n1 WAY AUTO AND FREIGHT LOGISTICS [\u0027WAY\u0027, \u0027AUTO\u0027, \u0027FREIGHT\u0027]\nDraw Up Date: 2021-11-01 00:00:00+00:00\nCards 2.0\n\n[\u0027A PLUS AUTO SALES\u0027, \u0027A R F AUTO BODY PAINT  SUPPLY INC\u0027, \u0027ABOVE ALL FREIGHT  CO LLC\u0027, \u0027AER AUTO REPAIR LLC\u0027, \u0027AJ AUTO DEALER LLC\u0027, \u0027ALEXANDERS AUTO PARTS INC\u0027, \u0027ALL TYPE AUTO PARTS  REPAIR\u0027, \u0027AMERICAN AUTO GLASS\u0027, \u0027AQUIRECORPS NORWALK AUTO AUCTION\u0027, \u0027ARM FREIGHT CARRIERS\u0027, \u0027AUSTIN  SON AUTO ELECTRIC INC\u0027, \u0027AUSTIN UPULLIT AUTO PARTS INC\u0027, \u0027AUTO CONNECTION OF BOILING SPRINGS LLC\u0027, \u0027AUTO GLASS MIDFLORIDA INC\u0027, \u0027AUTO LOGICS LTD\u0027, \u0027AUTO SAVVY OF SANA FE\u0027, \u0027AUTO WAX  SUPPLY INC\u0027, \u0027BAKERS AUTO AND DIESEL INC\u0027, \u0027BETTER WAY BETTER DAY FOUNDATION LLC\u0027, \u0027BLACK BEAR TRANSMISSION AND AUTO LLC\u0027, \u0027BLUE FALCON AUTO TRANSPORT LLC\u0027, \u0027BOYDS USED AUTO INC\u0027, \u0027CALI LUXURY AUTO LLC\u0027, \u0027CERTIFIED AUTO SALES INC\u0027, \u0027CHAMPION AUTO CARE\u0027, \u0027COOK AUTO RENTAL  LEASING INC\u0027, \u0027CROSSROADS FREIGHT SOLUTIONS LLC\u0027, \u0027CROWDER FREIGHT LINES LLC\u0027, \u0027CUNNINGHAM FREIGHT LINE LLC\u0027, \u0027DALES AUTO SERVICE\u0027, \u0027DEALERS AUTO AUCTION OF IDAHO LLC\u0027, \u0027DEALERS AUTO AUCTION OF OKLAHOMA CITY INC\u0027, \u0027DM FREIGHT LOGISTICS LLC\u0027, \u0027EKKLESIA FREIGHT BROKER LLC\u0027, \u0027ELITE AUTO GROUP LLC\u0027, \u0027EMMANUEL AUTO\u0027, \u0027EYLER AUTO REPAIR\u0027, \u0027FOCUS FREIGHT LOGISTICS LLC\u0027, \u0027FOREVER AUTO INC\u0027, \u0027FORSYTH AUTO SERVICE\u0027, \u0027FRANKLINS AUTO AND WRECKER\u0027, \u0027FRANKS AUTO REPAIR INC\u0027, \u0027FREIGHT NATION LLC\u0027, \u0027FREIGHT RUNNERS\u0027, \u0027GOLDSTROHM AUTO LLC\u0027, \u0027GRAY WAY CLEANING SERVICE LLC\u0027, \u0027GREEN STAR AUTO REPAIR\u0027, \u0027GRIFFIN WAY LOGISTICS\u0027, \u0027HAMPTON FREIGHT LIMITED LIABILITY COMPANY\u0027, \u0027HAYLETT AUTO COMPANY INC\u0027, \u0027HIGH SPEED AUTO SERVICES INC\u0027, \u0027HOYT AUTO GLASS\u0027, \u0027HURRICANE VALLEY AUTO MALL INC\u0027, \u0027IMMACULATE FREIGHT AND LOGISTICS\u0027, \u0027INSPIRED HIS WAY LLC\u0027, \u0027INTEGRITY AUTO SHIELD LLC\u0027, \u0027JB FREIGHT LLC\u0027, \u0027JOHN RUGGIEROS AUTO BODY INC\u0027, \u0027JT AUTO SERVICE INC\u0027, \u0027JVT FREIGHT CARRIERS INC\u0027, \u0027K  B AUTO\u0027, \u0027KC FREIGHT CONNECTIONS LLC\u0027, \u0027LA AUTO DETAILERS\u0027, \u0027LARRY ROBERTS AUTO ELECTRIC INC\u0027, \u0027LARRY WATTERSON AUTO SALES INC\u0027, \u0027LEGACY FREIGHT TRUCKING LLC\u0027, \"LET\u0027S RIDE AUTO BROKERS\", \u0027LIBERTY AUTO SALVAGE\u0027, \u0027M  R AUTO CARE\u0027, \u0027MAKE A WAY FOUNDATION\u0027, \u0027MARINE  AUTO CUSTOM INTERIORS LLC\u0027, \u0027MIDDLE COUNTRY AUTO WRECKERS INC\u0027, \u0027MM TRANSPORT AND AUTO RESTORATION LLC\u0027, \u0027MOTORAMA AUTO CTR INC\u0027, \u0027MVP AUTO BODY  PARTS INC\u0027, \u0027N  A BODY AND AUTO SALES\u0027, \u0027NATIONAL FREIGHT GROUP LLC\u0027, \u0027NICKS AUTO BODY  RADIATOR WORKS INC\u0027, \u0027OFFICIAL AUTO LLC\u0027, \u0027PASSION FREIGHT LLC\u0027, \u0027PBC AUTO COMMERCE LLC\u0027, \u0027PRECISION AUTO BODY  PAINT LLC\u0027, \u0027PREMIER LANE FREIGHT\u0027, \u0027PREMIERE AUTO AND FREIGHT LOGISTICS LLX\u0027, \u0027PRO BLUE AUTO ELECTRIC INC\u0027, \u0027PRO FREIGHT HAULING CO LLC\u0027, \u0027QUALITY AUTO REPAIR\u0027, \u0027REECE TIRE AND AUTO LLC\u0027, \u0027ROGERTHAT LOGISTICS  FREIGHT LLC\u0027, \u0027ROYALTY AUTO DETAILING LLC\u0027, \u0027RSC AUTO REPAIR AND TIRE SERVICE\u0027, \u0027S AND J FREIGHT LLC\u0027, \u0027SAME WAY TRANSPORTATION LP\u0027, \u0027SATELLITE AUTO GLASS LLC\u0027, \u0027SCRUBABUBBLE AUTO DETAILING LLC\u0027, \u0027SONNYS AUTO BODY INC\u0027, \"SOUP CAN\u0027S AUTO  TOWING\", \u0027SUPREME FREIGHT LINES INC\u0027, \u0027THREE LAKES AUTO SALES  SERVI\u0027, \u0027TIRE EMPIRE  AUTO CENTER INC\u0027, \u0027TOBYS AUTO MECHANIC LLC\u0027, \u0027TOBYS AUTO REPAIR\u0027, \u0027TOMS AUTO BODY AND SERVICE CENTER\u0027, \u0027TOMS AUTO INC\u0027, \u0027TONYS AUTO BODY INC\u0027, \u0027TR AUTO REPAIR\u0027, \u0027TRU ISLAND AUTO\u0027, \u0027UNITED WAY OF GREATER NEW BEDFORD INC\u0027, \u0027WATSON FREIGHT TRANSPORTATION LLC\u0027, \u0027WAY FINDERS INC\u0027, \u0027WAY TO GO NOW LLC\u0027, \u0027WEST AFFORDABLE AUTO SALES\u0027, \u0027WEST FLORIDA AUTO EXCHANGE\u0027, \u0027WHERE THERES A WILL THERES A WAY LLC\u0027, \u0027WILBANKS AUTO SALES LLC\u0027, \u0027WORKING THE FREIGHT\u0027, \u0027YORK ROAD AUTO GLASS INC\u0027, \u0027ZMAN AUTO REPAIR LLC\u0027]\n[0.4, 0.0, 0.0, 0.0, 0.4, 0.0, 0.4, 0.0, 0.0, 0.0, 0.0, 0.0, 0.4, 0.0, 0.0, 0.4, 0.0, 0.0, 0.0, 0.0, 0.0, 0.4, 0.0, 0.0, 0.0, 0.4, 0.0, 0.0, 0.0, 0.0, 0.4, 0.0, 0.0, 0.0, 0.0, 0.4, 0.0, 0.4, 0.0, 0.4, 0.0, 0.0, 0.4, 0.0, 0.0, 0.0, 0.0, 0.0, 0.4, 0.0, 0.0, 0.4, 0.0, 0.0, 0.0, 0.0, 0.0, 0.0, 0.4, 0.0, 0.4, 0.0, 0.0, 0.0, 0.4, 0.0, 0.0, 0.4, 0.0, 0.4, 0.4, 0.4, 0.4, 0.0, 0.0, 0.0, 0.0, 0.4, 0.0, 0.0, 0.4, 0.0, 0.0, 0.0, 0.0, 0.4, 0.4, 0.0, 0.4, 0.0, 0.4, 0.0, 0.0, 0.4, 0.0, 0.4, 0.0, 0.0, 0.0, 0.4, 0.4, 0.0, 0.4, 0.4, 0.4, 0.4, 0.0, 0.0, 0.0, 0.0, 0.0, 0.0, 0.0, 0.0, 0.0, 0.0, 0.0, 0.0]\n[2.0, 2.0, 0.0, 1.0, 1.0, 3.0, 2.0, 3.0, 1.0, 3.0, 2.0, 2.0, 1.0, 2.0, 1.0, 4.0, 2.0, 2.0, 1.0, 3.0, 1.0, 2.0, 3.0, 4.0, 3.0, 3.0, 2.0, 3.0, 4.0, 2.0, 2.0, 2.0, 3.0, 0.0, 4.0, 4.0, 1.0, 2.0, 3.0, 1.0, 2.0, 2.0, 4.0, 2.0, 1.0, 2.0, 1.0, 2.0, 0.0, 0.0, 3.0, 4.0, 2.0, 1.0, 1.0, 0.0, 2.0, 4.0, 2.0, 1.0, 0.0, 1.0, 3.0, 2.0, 2.0, 2.0, 3.0, 4.0, 1.0, 0.0, 2.0, 2.0, 2.0, 2.0, 2.0, 3.0, 3.0, 3.0, 2.0, 2.0, 0.0, 4.0, 3.0, 2.0, 4.0, 1.0, 0.0, 0.0, 4.0, 3.0, 1.0, 2.0, 4.0, 2.0, 2.0, 2.0, 3.0, 1.0, 2.0, 3.0, 3.0, 4.0, 1.0, 2.0, 4.0, 4.0, 0.0, 2.0, 4.0, 2.0, 3.0, 4.0, 2.0, 0.0, 1.0, 1.0, 0.0, 0.0]\n\n\u003d\u003d\u003d\u003d\u003d\n\n",
          "name": "stdout"
        },
        {
          "output_type": "error",
          "ename": "KeyboardInterrupt",
          "evalue": "",
          "traceback": [
            "\u001b[0;31m---------------------------------------------------------------------------\u001b[0m",
            "\u001b[0;31mKeyboardInterrupt\u001b[0m                         Traceback (most recent call last)",
            "\u001b[0;32m\u003cipython-input-111-9068327dfd28\u003e\u001b[0m in \u001b[0;36m\u003cmodule\u003e\u001b[0;34m\u001b[0m\n\u001b[1;32m     39\u001b[0m         \u001b[0midx\u001b[0m\u001b[0;34m+\u003d\u001b[0m\u001b[0;36m1\u001b[0m\u001b[0;34m\u001b[0m\u001b[0;34m\u001b[0m\u001b[0m\n\u001b[1;32m     40\u001b[0m \u001b[0;34m\u001b[0m\u001b[0m\n\u001b[0;32m---\u003e 41\u001b[0;31m         \u001b[0mcustomer\u001b[0m \u001b[0;34m\u003d\u001b[0m \u001b[0mrow_up\u001b[0m\u001b[0;34m[\u001b[0m\u001b[0;34m\u0027CUSTOMER\u0027\u001b[0m\u001b[0;34m]\u001b[0m\u001b[0;34m\u001b[0m\u001b[0;34m\u001b[0m\u001b[0m\n\u001b[0m\u001b[1;32m     42\u001b[0m         \u001b[0mdraw_up_date\u001b[0m \u001b[0;34m\u003d\u001b[0m \u001b[0mrow_up\u001b[0m\u001b[0;34m[\u001b[0m\u001b[0;34m\u0027DRAW_UP_DATE\u0027\u001b[0m\u001b[0;34m]\u001b[0m\u001b[0;34m\u001b[0m\u001b[0;34m\u001b[0m\u001b[0m\n\u001b[1;32m     43\u001b[0m         \u001b[0mmean_du\u001b[0m \u001b[0;34m\u003d\u001b[0m \u001b[0mrow_up\u001b[0m\u001b[0;34m[\u001b[0m\u001b[0;34m\u0027MEAN_DU\u0027\u001b[0m\u001b[0;34m]\u001b[0m\u001b[0;34m\u001b[0m\u001b[0;34m\u001b[0m\u001b[0m\n",
            "\u001b[0;32m/data/dataiku/dss_data/code-envs/python/env_clc/lib64/python3.6/site-packages/pandas/core/series.py\u001b[0m in \u001b[0;36m__getitem__\u001b[0;34m(self, key)\u001b[0m\n\u001b[1;32m    869\u001b[0m         \u001b[0mkey\u001b[0m \u001b[0;34m\u003d\u001b[0m \u001b[0mcom\u001b[0m\u001b[0;34m.\u001b[0m\u001b[0mapply_if_callable\u001b[0m\u001b[0;34m(\u001b[0m\u001b[0mkey\u001b[0m\u001b[0;34m,\u001b[0m \u001b[0mself\u001b[0m\u001b[0;34m)\u001b[0m\u001b[0;34m\u001b[0m\u001b[0;34m\u001b[0m\u001b[0m\n\u001b[1;32m    870\u001b[0m         \u001b[0;32mtry\u001b[0m\u001b[0;34m:\u001b[0m\u001b[0;34m\u001b[0m\u001b[0;34m\u001b[0m\u001b[0m\n\u001b[0;32m--\u003e 871\u001b[0;31m             \u001b[0mresult\u001b[0m \u001b[0;34m\u003d\u001b[0m \u001b[0mself\u001b[0m\u001b[0;34m.\u001b[0m\u001b[0mindex\u001b[0m\u001b[0;34m.\u001b[0m\u001b[0mget_value\u001b[0m\u001b[0;34m(\u001b[0m\u001b[0mself\u001b[0m\u001b[0;34m,\u001b[0m \u001b[0mkey\u001b[0m\u001b[0;34m)\u001b[0m\u001b[0;34m\u001b[0m\u001b[0;34m\u001b[0m\u001b[0m\n\u001b[0m\u001b[1;32m    872\u001b[0m \u001b[0;34m\u001b[0m\u001b[0m\n\u001b[1;32m    873\u001b[0m             \u001b[0;32mif\u001b[0m \u001b[0;32mnot\u001b[0m \u001b[0mis_scalar\u001b[0m\u001b[0;34m(\u001b[0m\u001b[0mresult\u001b[0m\u001b[0;34m)\u001b[0m\u001b[0;34m:\u001b[0m\u001b[0;34m\u001b[0m\u001b[0;34m\u001b[0m\u001b[0m\n",
            "\u001b[0;32m/data/dataiku/dss_data/code-envs/python/env_clc/lib64/python3.6/site-packages/pandas/core/indexes/base.py\u001b[0m in \u001b[0;36mget_value\u001b[0;34m(self, series, key)\u001b[0m\n\u001b[1;32m   4399\u001b[0m \u001b[0;34m\u001b[0m\u001b[0m\n\u001b[1;32m   4400\u001b[0m         \u001b[0ms\u001b[0m \u001b[0;34m\u003d\u001b[0m \u001b[0mcom\u001b[0m\u001b[0;34m.\u001b[0m\u001b[0mvalues_from_object\u001b[0m\u001b[0;34m(\u001b[0m\u001b[0mseries\u001b[0m\u001b[0;34m)\u001b[0m\u001b[0;34m\u001b[0m\u001b[0;34m\u001b[0m\u001b[0m\n\u001b[0;32m-\u003e 4401\u001b[0;31m         \u001b[0mk\u001b[0m \u001b[0;34m\u003d\u001b[0m \u001b[0mcom\u001b[0m\u001b[0;34m.\u001b[0m\u001b[0mvalues_from_object\u001b[0m\u001b[0;34m(\u001b[0m\u001b[0mkey\u001b[0m\u001b[0;34m)\u001b[0m\u001b[0;34m\u001b[0m\u001b[0;34m\u001b[0m\u001b[0m\n\u001b[0m\u001b[1;32m   4402\u001b[0m \u001b[0;34m\u001b[0m\u001b[0m\n\u001b[1;32m   4403\u001b[0m         \u001b[0mk\u001b[0m \u001b[0;34m\u003d\u001b[0m \u001b[0mself\u001b[0m\u001b[0;34m.\u001b[0m\u001b[0m_convert_scalar_indexer\u001b[0m\u001b[0;34m(\u001b[0m\u001b[0mk\u001b[0m\u001b[0;34m,\u001b[0m \u001b[0mkind\u001b[0m\u001b[0;34m\u003d\u001b[0m\u001b[0;34m\"getitem\"\u001b[0m\u001b[0;34m)\u001b[0m\u001b[0;34m\u001b[0m\u001b[0;34m\u001b[0m\u001b[0m\n",
            "\u001b[0;31mKeyboardInterrupt\u001b[0m: "
          ]
        }
      ]
    },
    {
      "execution_count": 0,
      "cell_type": "code",
      "metadata": {},
      "source": [
        "df_matches \u003d pd.DataFrame(_direct_customer)\ndf_matches.columns \u003d [\u0027CUSTOMER\u0027]\ndf_matches[\"MATCH_CUSTOMER\"] \u003d _direct_match\ndf_matches[\"DRAW_UP_DATE\"] \u003d _direct_draw_up_date\ndf_matches.head()"
      ],
      "outputs": []
    },
    {
      "execution_count": 100,
      "cell_type": "code",
      "metadata": {},
      "source": [
        "df_multiple_matches \u003d pd.DataFrame(_multiple_customer)\ndf_multiple_matches.columns \u003d [\u0027CUSTOMER\u0027]\ndf_multiple_matches[\"MATCH_CUSTOMER\"] \u003d _multiple_matches\ndf_multiple_matches[\"DRAW_UP_DATE\"] \u003d _multiple_drop_dates\ndf_multiple_matches.head()"
      ],
      "outputs": [
        {
          "output_type": "execute_result",
          "execution_count": 100,
          "data": {
            "text/plain": "                                CUSTOMER                                     MATCH_CUSTOMER\n0          1 AFFORDABLE LAWN MAINTENANCE  [1 AFFORDABLE LAWN MAINTENANCE LLC, 5 STAR MAI...\n1                            1 G R V LLC  [B  R CONSTRUCTION LLC, B AND R PLUMBING LLC, ...\n2                         1 KC LOGISTICS  [1ST ONE LOGISTICS CORPORATION, 24 7 LOGISTICS...\n3  1 PRIORITY ENVIRONMENTAL SERVICES LLC  [CORE ENVIRONMENTAL SOLUTIONS, JAG ENVIRONMENT...\n4       1 WAY AUTO AND FREIGHT LOGISTICS  [1845 LOGISTICS LLC, 230 LOGISTICS LLC, 7FOLDS...\n5                     1 WITH NATURE, LLC     [ANYTHING WITH INK WESTAZ LLC, FLEAUX WITH MO]\n6         10 33 AMBULANCE SERVICE LTD(04  [1033 AMBULANCE SERVICE LTD, ALLEN COUNTY AMBU...\n7                   1005 FINANCIAL GROUP  [AGZ FINANCIAL SERVICES LLC, BRIGHTER BEGINNIN...\n8                    1021 AUTO SALES LLC  [AR SALES LLC, AUTO DETAILING SOLUTIONS OF ABI...",
            "text/html": "\u003cdiv\u003e\n\u003cstyle scoped\u003e\n    .dataframe tbody tr th:only-of-type {\n        vertical-align: middle;\n    }\n\n    .dataframe tbody tr th {\n        vertical-align: top;\n    }\n\n    .dataframe thead th {\n        text-align: right;\n    }\n\u003c/style\u003e\n\u003ctable border\u003d\"1\" class\u003d\"dataframe\"\u003e\n  \u003cthead\u003e\n    \u003ctr style\u003d\"text-align: right;\"\u003e\n      \u003cth\u003e\u003c/th\u003e\n      \u003cth\u003eCUSTOMER\u003c/th\u003e\n      \u003cth\u003eMATCH_CUSTOMER\u003c/th\u003e\n    \u003c/tr\u003e\n  \u003c/thead\u003e\n  \u003ctbody\u003e\n    \u003ctr\u003e\n      \u003cth\u003e0\u003c/th\u003e\n      \u003ctd\u003e1 AFFORDABLE LAWN MAINTENANCE\u003c/td\u003e\n      \u003ctd\u003e[1 AFFORDABLE LAWN MAINTENANCE LLC, 5 STAR MAI...\u003c/td\u003e\n    \u003c/tr\u003e\n    \u003ctr\u003e\n      \u003cth\u003e1\u003c/th\u003e\n      \u003ctd\u003e1 G R V LLC\u003c/td\u003e\n      \u003ctd\u003e[B  R CONSTRUCTION LLC, B AND R PLUMBING LLC, ...\u003c/td\u003e\n    \u003c/tr\u003e\n    \u003ctr\u003e\n      \u003cth\u003e2\u003c/th\u003e\n      \u003ctd\u003e1 KC LOGISTICS\u003c/td\u003e\n      \u003ctd\u003e[1ST ONE LOGISTICS CORPORATION, 24 7 LOGISTICS...\u003c/td\u003e\n    \u003c/tr\u003e\n    \u003ctr\u003e\n      \u003cth\u003e3\u003c/th\u003e\n      \u003ctd\u003e1 PRIORITY ENVIRONMENTAL SERVICES LLC\u003c/td\u003e\n      \u003ctd\u003e[CORE ENVIRONMENTAL SOLUTIONS, JAG ENVIRONMENT...\u003c/td\u003e\n    \u003c/tr\u003e\n    \u003ctr\u003e\n      \u003cth\u003e4\u003c/th\u003e\n      \u003ctd\u003e1 WAY AUTO AND FREIGHT LOGISTICS\u003c/td\u003e\n      \u003ctd\u003e[1845 LOGISTICS LLC, 230 LOGISTICS LLC, 7FOLDS...\u003c/td\u003e\n    \u003c/tr\u003e\n    \u003ctr\u003e\n      \u003cth\u003e5\u003c/th\u003e\n      \u003ctd\u003e1 WITH NATURE, LLC\u003c/td\u003e\n      \u003ctd\u003e[ANYTHING WITH INK WESTAZ LLC, FLEAUX WITH MO]\u003c/td\u003e\n    \u003c/tr\u003e\n    \u003ctr\u003e\n      \u003cth\u003e6\u003c/th\u003e\n      \u003ctd\u003e10 33 AMBULANCE SERVICE LTD(04\u003c/td\u003e\n      \u003ctd\u003e[1033 AMBULANCE SERVICE LTD, ALLEN COUNTY AMBU...\u003c/td\u003e\n    \u003c/tr\u003e\n    \u003ctr\u003e\n      \u003cth\u003e7\u003c/th\u003e\n      \u003ctd\u003e1005 FINANCIAL GROUP\u003c/td\u003e\n      \u003ctd\u003e[AGZ FINANCIAL SERVICES LLC, BRIGHTER BEGINNIN...\u003c/td\u003e\n    \u003c/tr\u003e\n    \u003ctr\u003e\n      \u003cth\u003e8\u003c/th\u003e\n      \u003ctd\u003e1021 AUTO SALES LLC\u003c/td\u003e\n      \u003ctd\u003e[AR SALES LLC, AUTO DETAILING SOLUTIONS OF ABI...\u003c/td\u003e\n    \u003c/tr\u003e\n  \u003c/tbody\u003e\n\u003c/table\u003e\n\u003c/div\u003e"
          },
          "metadata": {}
        }
      ]
    },
    {
      "execution_count": 0,
      "cell_type": "code",
      "metadata": {},
      "source": [
        "MATCHES_1_TO_N_FOR_MANUAL_REVIEW_df \u003d df_multiple_matches\nMACTHES_1_TO_N_FOR_MANUAL_REVIEW \u003d dataiku.Dataset(\"MATCHES_1_TO_N_FOR_MANUAL_REVIEW\")\nMACTHES_1_TO_N_FOR_MANUAL_REVIEW.write_with_schema(MATCHES_1_TO_N_FOR_MANUAL_REVIEW_df)\n\nMATCHES_1_TO_1_df \u003d df_matches\nMATCHES_1_TO_1 \u003d dataiku.Dataset(\"MATCHES_1_TO_1\")\nMATCHES_1_TO_1.write_with_schema(MATCHES_1_TO_1_df)"
      ],
      "outputs": []
    }
  ]
}