{
  "metadata": {
    "kernelspec": {
      "name": "py-dku-venv-env_clc",
      "display_name": "Python (env env_clc)",
      "language": "python"
    },
    "associatedRecipe": "compute_CONSOLIDATED_MATCHES",
    "dkuGit": {
      "lastInteraction": 0
    },
    "creationTag": {
      "versionNumber": 0,
      "lastModifiedBy": {
        "login": "Daniel.Vandermeer"
      },
      "lastModifiedOn": 1666015248584
    },
    "creator": "Daniel.Vandermeer",
    "createdOn": 1666015248584,
    "tags": [
      "recipe-editor"
    ],
    "customFields": {},
    "hide_input": false,
    "language_info": {
      "name": "python",
      "version": "3.6.8",
      "mimetype": "text/x-python",
      "codemirror_mode": {
        "name": "ipython",
        "version": 3
      },
      "pygments_lexer": "ipython3",
      "nbconvert_exporter": "python",
      "file_extension": ".py"
    },
    "modifiedBy": "Daniel.Vandermeer"
  },
  "nbformat": 4,
  "nbformat_minor": 1,
  "cells": [
    {
      "execution_count": 91,
      "cell_type": "code",
      "metadata": {},
      "source": [
        "# -*- coding: utf-8 -*-\nimport dataiku\nimport pandas as pd, numpy as np\nfrom dataiku import pandasutils as pdu\n\n# Read recipe inputs\nCALCULATED_CARD_DRAW_UPS \u003d dataiku.Dataset(\"CALCULATED_CARD_DRAW_UPS\")\nCALCULATED_CARD_DRAW_UPS_df \u003d CALCULATED_CARD_DRAW_UPS.get_dataframe()\n\nCALCULATED_CARD_DRAW_DOWNS \u003d dataiku.Dataset(\"CALCULATED_CARD_DRAW_DOWNS\")\nCALCULATED_CARD_DRAW_DOWNS_df \u003d CALCULATED_CARD_DRAW_DOWNS.get_dataframe()"
      ],
      "outputs": []
    },
    {
      "execution_count": 92,
      "cell_type": "code",
      "metadata": {},
      "source": [
        "df_down \u003d CALCULATED_CARD_DRAW_DOWNS_df\ndf_up \u003d CALCULATED_CARD_DRAW_UPS_df\n\ndf_down.sort_values([\u0027CUSTOMER\u0027], inplace\u003dTrue)\ndf_up.sort_values([\u0027CUSTOMER\u0027], inplace\u003dTrue)\n\nprint(len(df_down), \"draw downs\")\nprint(len(df_up), \"draw ups\")"
      ],
      "outputs": [
        {
          "output_type": "stream",
          "text": "34557 draw downs\n48169 draw ups\n",
          "name": "stdout"
        }
      ]
    },
    {
      "execution_count": 93,
      "cell_type": "code",
      "metadata": {},
      "source": [
        "df_down.head()"
      ],
      "outputs": [
        {
          "output_type": "execute_result",
          "execution_count": 93,
          "data": {
            "text/plain": "                                   CUSTOMER            DRAW_DOWN_DATE   MEAN_DD    STD_DD  ACTIVE_CARD_MAX\n0             1 AFFORDABLE LAWN MAINTENANCE 2022-02-01 00:00:00+00:00  2.000000  0.000000              3.0\n9999                  1 BRUDA  3 SISTAS LLC 2021-09-01 00:00:00+00:00       NaN       NaN              1.0\n9998                            1 G R V LLC 2019-08-01 00:00:00+00:00  0.500000  0.577350              7.0\n9997                         1 KC LOGISTICS 2021-10-01 00:00:00+00:00       NaN       NaN              1.0\n9996  1 PRIORITY ENVIRONMENTAL SERVICES LLC 2021-01-01 00:00:00+00:00  6.333333  0.492366              7.0",
            "text/html": "\u003cdiv\u003e\n\u003cstyle scoped\u003e\n    .dataframe tbody tr th:only-of-type {\n        vertical-align: middle;\n    }\n\n    .dataframe tbody tr th {\n        vertical-align: top;\n    }\n\n    .dataframe thead th {\n        text-align: right;\n    }\n\u003c/style\u003e\n\u003ctable border\u003d\"1\" class\u003d\"dataframe\"\u003e\n  \u003cthead\u003e\n    \u003ctr style\u003d\"text-align: right;\"\u003e\n      \u003cth\u003e\u003c/th\u003e\n      \u003cth\u003eCUSTOMER\u003c/th\u003e\n      \u003cth\u003eDRAW_DOWN_DATE\u003c/th\u003e\n      \u003cth\u003eMEAN_DD\u003c/th\u003e\n      \u003cth\u003eSTD_DD\u003c/th\u003e\n      \u003cth\u003eACTIVE_CARD_MAX\u003c/th\u003e\n    \u003c/tr\u003e\n  \u003c/thead\u003e\n  \u003ctbody\u003e\n    \u003ctr\u003e\n      \u003cth\u003e0\u003c/th\u003e\n      \u003ctd\u003e1 AFFORDABLE LAWN MAINTENANCE\u003c/td\u003e\n      \u003ctd\u003e2022-02-01 00:00:00+00:00\u003c/td\u003e\n      \u003ctd\u003e2.000000\u003c/td\u003e\n      \u003ctd\u003e0.000000\u003c/td\u003e\n      \u003ctd\u003e3.0\u003c/td\u003e\n    \u003c/tr\u003e\n    \u003ctr\u003e\n      \u003cth\u003e9999\u003c/th\u003e\n      \u003ctd\u003e1 BRUDA  3 SISTAS LLC\u003c/td\u003e\n      \u003ctd\u003e2021-09-01 00:00:00+00:00\u003c/td\u003e\n      \u003ctd\u003eNaN\u003c/td\u003e\n      \u003ctd\u003eNaN\u003c/td\u003e\n      \u003ctd\u003e1.0\u003c/td\u003e\n    \u003c/tr\u003e\n    \u003ctr\u003e\n      \u003cth\u003e9998\u003c/th\u003e\n      \u003ctd\u003e1 G R V LLC\u003c/td\u003e\n      \u003ctd\u003e2019-08-01 00:00:00+00:00\u003c/td\u003e\n      \u003ctd\u003e0.500000\u003c/td\u003e\n      \u003ctd\u003e0.577350\u003c/td\u003e\n      \u003ctd\u003e7.0\u003c/td\u003e\n    \u003c/tr\u003e\n    \u003ctr\u003e\n      \u003cth\u003e9997\u003c/th\u003e\n      \u003ctd\u003e1 KC LOGISTICS\u003c/td\u003e\n      \u003ctd\u003e2021-10-01 00:00:00+00:00\u003c/td\u003e\n      \u003ctd\u003eNaN\u003c/td\u003e\n      \u003ctd\u003eNaN\u003c/td\u003e\n      \u003ctd\u003e1.0\u003c/td\u003e\n    \u003c/tr\u003e\n    \u003ctr\u003e\n      \u003cth\u003e9996\u003c/th\u003e\n      \u003ctd\u003e1 PRIORITY ENVIRONMENTAL SERVICES LLC\u003c/td\u003e\n      \u003ctd\u003e2021-01-01 00:00:00+00:00\u003c/td\u003e\n      \u003ctd\u003e6.333333\u003c/td\u003e\n      \u003ctd\u003e0.492366\u003c/td\u003e\n      \u003ctd\u003e7.0\u003c/td\u003e\n    \u003c/tr\u003e\n  \u003c/tbody\u003e\n\u003c/table\u003e\n\u003c/div\u003e"
          },
          "metadata": {}
        }
      ]
    },
    {
      "execution_count": 102,
      "cell_type": "code",
      "metadata": {},
      "source": [
        "import string\n\nclass Draw_Down_Customer:\n\n    def __init__(self, name, draw_down_date, mean_dd, std_dd, active_card_max):\n\n        self._common_words \u003d [\u00271\u0027,\u00272\u0027,\u00273\u0027,\u00274\u0027,\u00275\u0027,\u00276\u0027,\u00277\u0027,\u0027PIZZA\u0027, \u0027MANAGEMENT\u0027, \u0027THERAPEUTICS\u0027, \u0027USA\u0027, \u0027INC\u0027, \u0027US\u0027, \u0027EQUIPMENT\u0027, \u0027MEDICAL\u0027, \u0027SYSTEMS\u0027,\n                             \u0027ANIMAL\u0027, \u0027HEALTH\u0027, \u0027LLC\u0027, \u0027CORPORATION\u0027, \u0027BRANDS\u0027, \u0027TIRE\u0027, \u0027RUBBER\u0027, \u0027COUNTRY\u0027, \u0027CORP\u0027,\n                              \u0027PHARMACY\u0027,\u0027INC\u0027, \u0027RESTAURANTS\u0027, \u0027CONTAINER\u0027, \u0027AMERICA\u0027, \u0027APPLICATIONS\u0027, \u0027TECHNOLOGY\u0027,\n                              \u0027INSURANCE\u0027, \u0027FARM\u0027,\u0027CREDIT\u0027, \u0027SERVICES\u0027, \u0027SERVICE\u0027, \u0027ACCOUNT\u0027, \u0027GENERAL\u0027, \u0027PARTS\u0027,\n                              \u0027INTL\u0027, \u0027FLAVORS\u0027, \u0027HOLDINGS\u0027, \u0027FOOD\u0027,\u0027INDUSTRIES\u0027, \u0027LP\u0027, \u0027FLEET\u0027, \u0027MEDICAL\u0027, \u0027PHARMA\u0027,\n                             \u0027GLOBAL\u0027, \u0027PIPELINE\u0027, \u0027WHEELS\u0027, \u0027BIOSCIENCES\u0027, \u0027SSI\u0027, \u0027SPRINGS\u0027, \u0027NORTH\u0027, \u0027MARINE\u0027, \u0027HOLDING\u0027,\n                              \u0027TECHNOLOGIES\u0027,\u0027GROUP\u0027, \u0027PHARMACEUTICAL\u0027, \u0027NA\u0027, \u0027USA\u0027, \u0027COMPANY\u0027, \u0027RAIL\u0027, \u0027PARTNERS\u0027, \u0027BROS\u0027,\n                              \u0027CO\u0027, \u0027PHARMACEUTICALS\u0027, \u0027ENERGY\u0027, \u0027DISTRIBUTION\u0027, \u0027DENTAL\u0027, \u0027SPECIALTIES\u0027, \u0027OPERATIONS\u0027,\n                              \u0027COMPANY\u0027, \u0027THE\u0027, \u0027MOUNTAIN\u0027, \u0027TRANS\u0027, \u0027FUEL\u0027, \u0027AMERICAN\u0027, \u0027HOMES\u0027, \u0027GAS\u0027,\n                             \u0027AFFORDABLE\u0027, \u0027LAWN\u0027, \u0027MAINTENANCE\u0027]\n\n        self.CUSTOMER \u003d name\n        self.DRAW_DOWN_DATE \u003d draw_down_date\n        self.ACTIVE_CARD_MAX \u003d active_card_max\n\n        self.MATCHING_CUSTOMERS \u003d []\n        self.PERCENT_DIFFERENCE \u003d []\n        self.DAYS_DIFFERENCE \u003d []\n        self.DRAW_UP_DATE \u003d []\n\n        # remove punctuation\n        c_str \u003d name.translate(str.maketrans(\u0027\u0027, \u0027\u0027, string.punctuation))\n\n        f \u003d c_str.split()\n        self.WORD_LIST \u003d []\n        for w in f:\n            if w not in self._common_words:\n                self.WORD_LIST.append(w)\n\n    def Match_Draw_Up_Customer(self, name, draw_up_date, mean_du, std_du, active_card_max):\n\n        if (self.CUSTOMER \u003d\u003d name):\n            # exact match, already captured\n            return\n\n        c_str \u003d name.translate(str.maketrans(\u0027\u0027, \u0027\u0027, string.punctuation))\n\n        f \u003d c_str.split()\n\n        check_list \u003d []\n        for w in f:\n            if w not in self._common_words:\n                check_list.append(w)\n\n        percent_diff \u003d round((abs(self.ACTIVE_CARD_MAX - active_card_max) / ((self.ACTIVE_CARD_MAX+active_card_max)/2)),2)\n\n        #date_format \u003d \"%Y-%m-%d\"\n        #d1_date \u003d datetime.strptime(draw_up_date.astype(str), date_format)\n        #d2_date \u003d datetime.strptime(self.DRAW_DOWN_DATE.astype(str), date_format)\n\n        delta_between_drop_and_rise \u003d round(abs((draw_up_date-self.DRAW_DOWN_DATE).days)/30.,0)\n\n        for w_to_check in check_list:\n            for w in self.WORD_LIST:\n                if w_to_check\u003d\u003dw:\n\n                    if not name in(self.MATCHING_CUSTOMERS) and(delta_between_drop_and_rise\u003c\u003d4)and(percent_diff\u003c\u003d0.5) :\n                        self.MATCHING_CUSTOMERS.append(name)\n                        self.PERCENT_DIFFERENCE.append(percent_diff)\n                        self.DAYS_DIFFERENCE.append(delta_between_drop_and_rise)\n                        self.DRAW_UP_DATE.append(draw_up_date)\n                        break;"
      ],
      "outputs": []
    },
    {
      "execution_count": 0,
      "cell_type": "code",
      "metadata": {},
      "source": [
        "idx \u003d 0\n_customers \u003d []\nverbose \u003d True\n\nmax_idx \u003d 10\n\nfor index, row in df_down.iterrows():\n\n    idx+\u003d1\n\n    customer \u003d row[\u0027CUSTOMER\u0027]\n    draw_down_date \u003d row[\u0027DRAW_DOWN_DATE\u0027]\n    mean_dd \u003d row[\u0027MEAN_DD\u0027]\n    std_dd \u003d row[\u0027STD_DD\u0027]\n    active_card_max \u003d row[\u0027ACTIVE_CARD_MAX\u0027]\n\n    c \u003d Draw_Down_Customer(customer, draw_down_date, mean_dd, std_dd, active_card_max)\n\n    _customers.append(c)\n\n    if max_idx\u003e0:\n        if idx\u003e10:\n            break;\n\nidx \u003d 0\n\n_direct_customer \u003d []\n_direct_match \u003d []\n_direct_draw_up_date \u003d []\n\n_multiple_customer \u003d []\n_multiple_matches \u003d []\n_multiple_drop_dates \u003d []\n\nfor c in _customers:\n\n    for index_up, row_up in df_up.iterrows():\n\n        idx+\u003d1\n\n        customer \u003d row_up[\u0027CUSTOMER\u0027]\n        draw_up_date \u003d row_up[\u0027DRAW_UP_DATE\u0027]\n        mean_du \u003d row_up[\u0027MEAN_DU\u0027]\n        std_du \u003d row_up[\u0027STD_DU\u0027]\n        active_card_max \u003d row_up[\u0027ACTIVE_CARD_MAX\u0027]\n\n        c.Match_Draw_Up_Customer(customer, draw_up_date, mean_du, std_du, active_card_max)\n\n    if len(c.MATCHING_CUSTOMERS)\u003d\u003d1:\n\n        _direct_customer.append(c.CUSTOMER)\n        _direct_match.append(c.MATCHING_CUSTOMERS[0])\n        _direct_draw_up_date.append(c.DRAW_UP_DATE[0])\n\n        print(c.CUSTOMER, c.MATCHING_CUSTOMERS)\n\n        if verbose:\n            print(\"DIRECT\")\n            print(c.CUSTOMER, c.WORD_LIST)\n            print(\"Draw Up Date:\", c.DRAW_DOWN_DATE)\n            print(\"Cards\", c.ACTIVE_CARD_MAX)\n            print()\n            print(c.MATCHING_CUSTOMERS)\n            print(c.PERCENT_DIFFERENCE)\n            print(c.DAYS_DIFFERENCE)\n            print()\n            print(\"\u003d\u003d\u003d\u003d\u003d\")\n            print()\n\n    elif len(c.MATCHING_CUSTOMERS)\u003e1:\n\n        _multiple_customer.append(c.CUSTOMER)\n        _multiple_matches.append(c.MATCHING_CUSTOMERS)\n        _multiple_drop_dates.append(c.DRAW_UP_DATE)\n\n        if verbose:\n            print(\"MULTIPLE\")\n            print(c.CUSTOMER, c.WORD_LIST)\n            print(\"Draw Up Date:\", c.DRAW_DOWN_DATE)\n            print(\"Cards\", c.ACTIVE_CARD_MAX)\n            print()\n            print(c.MATCHING_CUSTOMERS)\n            print(c.PERCENT_DIFFERENCE)\n            print(c.DAYS_DIFFERENCE)\n            print()\n            print(\"\u003d\u003d\u003d\u003d\u003d\")\n            print()\n\nprint(idx)\nprint()\n\nprint(len(_direct_customer), \"direct matches\")\nprint(len(_multiple_matches), \"multiple matches\")"
      ],
      "outputs": [
        {
          "output_type": "stream",
          "text": "MULTIPLE\n1 G R V LLC [\u0027G\u0027, \u0027R\u0027, \u0027V\u0027]\nDraw Up Date: 2019-08-01 00:00:00+00:00\nCards 7.0\n\n[\u0027B  R CONSTRUCTION LLC\u0027, \u0027B AND R PLUMBING LLC\u0027, \u0027G FISHER COMMERCIAL CONSTRUCTION INC\u0027, \u0027G M C CONTRACTING GROUP INC\u0027, \u0027H R T PROFESSIONALS\u0027, \u0027I P S F V\u0027, \u0027M R M G LLC\u0027, \u0027MATRIX H V A C INC\u0027, \u0027P C C H V A C LLC\u0027, \u0027R  D COMMUNICATIONS INC\u0027, \u0027R  D GROUP INC\u0027, \u0027R  R ENTERPRISE LLC\u0027, \u0027R  S FARMS INC\u0027, \u0027R  S OPERATING LLC\u0027, \u0027R AND J TECHNICAL SERVICES LLC\u0027, \u0027R BOOE  SON HARDWOODS INC\u0027, \u0027R C EXTERIORS LTD\u0027, \u0027R R R FARMS LLC\u0027, \u0027R S C BUSINESS VENTURES INC\u0027, \u0027R V FAMILY INC\u0027, \u0027S H G GROUP LLC\u0027, \u0027S Y T G E OUTREACH MINISTRY INC\u0027, \u0027T D F G INC\u0027]\n[0.44, 0.15, 0.15, 0.13, 0.13, 0.15, 0.0, 0.44, 0.44, 0.33, 0.25, 0.0, 0.13, 0.35, 0.44, 0.33, 0.15, 0.15, 0.44, 0.35, 0.44, 0.15, 0.0]\n[3.0, 4.0, 3.0, 4.0, 4.0, 2.0, 4.0, 2.0, 2.0, 1.0, 1.0, 0.0, 3.0, 4.0, 2.0, 2.0, 1.0, 1.0, 2.0, 1.0, 4.0, 1.0, 2.0]\n\n\u003d\u003d\u003d\u003d\u003d\n\nMULTIPLE\n1 KC LOGISTICS [\u0027KC\u0027, \u0027LOGISTICS\u0027]\nDraw Up Date: 2021-10-01 00:00:00+00:00\nCards 1.0\n\n[\u00271ST ONE LOGISTICS CORPORATION\u0027, \u002724 7 LOGISTICS LLC\u0027, \u00273 KINGS WAY LOGISTICS LLC\u0027, \u00274 MDB LOGISTICS LLC\u0027, \u00274FOX LOGISTICS\u0027, \u00275 FLAGS LOGISTICS\u0027, \u00275 STAR FREIGHT LOGISTICS LLC\u0027, \u00277 EVEN 21 LOGISTICS LLC\u0027, \u0027A 12 LOGISTICS\u0027, \u0027A PLUS INTERNATIONAL LOGISTICS LLC\u0027, \u0027AAAN LOGISTICS GROUP CORP\u0027, \u0027AB LOGISTICS INC\u0027, \u0027ADA TRANSPORTATION LOGISTICS LLC\u0027, \u0027AHK LOGISTICS LLC\u0027, \u0027AJ SPEEDY LOGISTICS LLC\u0027, \u0027AJMIR LOGISTICS LLC\u0027, \u0027AJOYE LOGISTICS LLC\u0027, \"ALI\u0027S LOGISTICS\", \u0027AM 2 AM LOGISTICS\u0027, \u0027AMADOR LOGISTICS LLC\u0027, \u0027ARIYAH TRUCKING  LOGISTICS LLC\u0027, \u0027ARROW ELITE LOGISTICS LLC\u0027, \u0027ASHLEY LOGISTICS CORP\u0027, \u0027AUSTIN BROTHERS LOGISTICS LLC\u0027, \u0027BARNETT TRANSPORT LOGISTICS\u0027, \u0027BESSIE MAE LOGISTICS LLC\u0027, \u0027BIG BOSS LOGISTICS LLC\u0027, \u0027BLUE MARBLE LOGISTICS LLC\u0027, \u0027BLUEBEAM LOGISTICS\u0027, \u0027C BRANCHE LOGISTICS LLC\u0027, \u0027CA SECURE LOGISTICS\u0027, \u0027CALLOWAY TRANSPORT AND LOGISTICS LLC\u0027, \u0027CARROLL MONTGOMERY LOGISTICS LLC\u0027, \u0027CD RUSH HOUR LOGISTICS LLC\u0027, \u0027CGR LOGISTICS INC\u0027, \u0027CHECK MARQ TRANSPORT AND LOGISTICS\u0027, \u0027CJ3 LOGISTICS LLC\u0027, \u0027CLEARVIEW LOGISTICS LLC\u0027, \u0027CLOOUDZ LOGISTICS SUPPORT SERVICES INC\u0027, \u0027CORNERSTONE LOGISTICS LLC\u0027, \u0027CROSS BORDER LOGISTICS LLC\u0027, \u0027DIVINE ONE LOGISTICS LLC\u0027, \u0027DLM LOGISTICS\u0027, \u0027DOUBLE CAM LOGISTICS LLC\u0027, \u0027DOWN SOUTH RUNNER LOGISTICS LLC\u0027, \u0027DVMN LOGISTICS\u0027, \u0027E  J LOGISTICS LLC\u0027, \u0027EMDC LOGISTICS LLC\u0027, \u0027ESA LOGISTICS AND TRANSPORT\u0027, \u0027EWING WAY LOGISTICS LLC\u0027, \u0027F AND C LINE LOGISTICS INC\u0027, \u0027FAIR EXCHANGE LOGISTICS LLC\u0027, \u0027FAT KAT LOGISTICS LLC\u0027, \u0027FLYING FOX LOGISTICS LLC\u0027, \u0027FMT LOGISTICS LLC\u0027, \u0027FRAM LOGISTICS LLC\u0027, \"FRANK\u0027S LOGISTICS LLC\", \u0027FRESHMEN FREIGHT  LOGISTICS LLC\u0027, \u0027GC LOGISTICS LLC\u0027, \u0027GREEN LOGISTICS LLC\u0027, \u0027HARBIRD LOGISTICS HARBIRD 360 CO\u0027, \u0027HERRINGS TRANSPORTS  LOGISTICS\u0027, \u0027HIGHWAYMILES LOGISTICS\u0027, \u0027HOGMAN LOGISTICS LLC\u0027, \u0027HOWARD LOGISTICS  SOLUTIONS LLC\u0027, \u0027HOWARD PRO LOGISTICS INC\u0027, \u0027ID DOC2SPOT LOGISTICS LLC\u0027, \u0027INNERSTREAM LOGISTICS LLC\u0027, \u0027JACK HENRY LOGISTICS LLC\u0027, \u0027JKB LOGISTICS LLC\u0027, \u0027JNR DISTRIBUTION AND LOGISTICS\u0027, \u0027JSC LOGISTICS LLC\u0027, \u0027JT COOPER LOGISTICS LLC\u0027, \u0027KENKADE LOGISTICS LLC\u0027, \u0027KISKEYA TRANSPORT  LOGISTICS LLC\u0027, \u0027LAKE AREA LOGISTICS LLC\u0027, \u0027LAL LOGISTICS LLC\u0027, \u0027LAST STOP LOGISTICS LLC\u0027, \u0027LEWIS  CLARK LOGISTICS LLC\u0027, \u0027LIFELINE LOGISTICS LLC\u0027, \u0027LIVING MY PURPOSE LOGISTICS LLC\u0027, \u0027LOGISTICS CANNON GROUP LLC\u0027, \u0027LOGISTICS EXPRESS LLC\u0027, \u0027LOGISTICS GROUP INC\u0027, \u0027LONDON LOGISTICS INCORPORATED\u0027, \u0027LONDONLENE LOGISTICS LLC\u0027, \u0027LORENZOS LOGISTICS LLC\u0027, \u0027LUDLOW LOGISTICS LLC\u0027, \u0027MA LOGISTICS OF NC\u0027, \u0027MAZZOCCOLI LOGISTICS LLC\u0027, \u0027MBM LOGISTICS LLC\u0027, \u0027MDJ LOGISTICS LLC\u0027, \u0027MEAN MACHINE LOGISTICS LLC\u0027, \u0027MEDICAL LOGISTICS INC\u0027, \u0027MIDWAY LOGISTICS LLC\u0027, \u0027MOGUL LOGISTICS LLC\u0027, \u0027MSAFIRI LOGISTICS LLC\u0027, \u0027MTX LOGISTICS LLC\u0027, \u0027N  HAI LOGISTICS INC\u0027, \u0027NATIONAL LOGISTICS ASSOCIATES INC\u0027, \u0027NIC A TIME LOGISTICS LLC\u0027, \u0027NUKUMERS LOGISTICS LLC\u0027, \u0027OTP LOGISTICS LLC\u0027, \u0027PATRIOT LOGISTICS LLC\u0027, \u0027PEARL LINE LOGISTICS LLC\u0027, \u0027PEPPERHEAD LOGISTICS LLC\u0027, \u0027PERRYMAN VARIETY AND LOGISTICS LLC\u0027, \u0027PETIT LOGISTICS LLC\u0027, \u0027POPS TRUCKING  LOGISTICS LLC\u0027, \u0027PR TRANSPORTATION LOGISTICS LLC\u0027, \u0027PRIORITY LOGISTICS LLC\u0027, \u0027PROPEL TRANSPORTATION  LOGISTICS LLC\u0027, \u0027PYXUS LOGISTICS TRANSPORTATION LLC\u0027, \u0027QT LOGISTICS INC\u0027, \u0027QUEEN CITY TRANSPORT  LOGISTICS LLC\u0027, \u0027R  B LOGISTICS LLC\u0027, \u0027R  S TRUCKING LOGISTICS LLC\u0027, \u0027RANDY  SONS LOGISTICS LLC\u0027, \u0027RBS LOGISTICS LLC\u0027, \u0027RGJ LOGISTICS LLC\u0027, \u0027RIVERHORSE LOGISTICS\u0027, \u0027RJS TRANSPORT  LOGISTICS LLC\u0027, \u0027RODI LOGISTICS LLC\u0027, \u0027ROJAN LOGISTICS LLC\u0027, \u0027ROT LOGISTICS LLC\u0027, \u0027STAR HILL LOGISTICS LLC\u0027, \u0027STAUFFER LOGISTICS LLC\u0027, \u0027STAY IN FAITH LOGISTICS LLC\u0027, \u0027T HARDMAN LOGISTICS LLC\u0027, \u0027T L LOGISTICS LLC\u0027, \u0027T STRICK LOGISTICS LLC\u0027, \u0027TC MOVING LOGISTICS LLC\u0027, \u0027TOOR LOGISTICS LLC\u0027, \u0027UNLIMITED WORLDWIDE LOGISTICS\u0027, \u0027UP THE HILL LOGISTICS\u0027, \u0027VIABLE LOGISTICS LLC\u0027, \u0027VIP LOGISTICS SERVICES LLC\u0027, \u0027WATERS LOGISTICS\u0027, \u0027WILLIAMSMCKNIGHT LOGISTICS LLC\u0027, \u0027XERXES LOGISTICS LLC\u0027, \u0027ZOOM LOGISTICS TRANSPORTING LLC\u0027]\n[0.0, 0.0, 0.0, 0.0, 0.0, 0.0, 0.0, 0.0, 0.0, 0.0, 0.0, 0.0, 0.0, 0.0, 0.0, 0.0, 0.0, 0.0, 0.0, 0.0, 0.0, 0.0, 0.0, 0.0, 0.0, 0.0, 0.0, 0.0, 0.0, 0.0, 0.0, 0.0, 0.0, 0.0, 0.0, 0.0, 0.0, 0.0, 0.0, 0.0, 0.0, 0.0, 0.0, 0.0, 0.0, 0.0, 0.0, 0.0, 0.0, 0.0, 0.0, 0.0, 0.0, 0.0, 0.0, 0.0, 0.0, 0.0, 0.0, 0.0, 0.0, 0.0, 0.0, 0.0, 0.0, 0.0, 0.0, 0.0, 0.0, 0.0, 0.0, 0.0, 0.0, 0.0, 0.0, 0.0, 0.0, 0.0, 0.0, 0.0, 0.0, 0.0, 0.0, 0.0, 0.0, 0.0, 0.0, 0.0, 0.0, 0.0, 0.0, 0.0, 0.0, 0.0, 0.0, 0.0, 0.0, 0.0, 0.0, 0.0, 0.0, 0.0, 0.0, 0.0, 0.0, 0.0, 0.0, 0.0, 0.0, 0.0, 0.0, 0.0, 0.0, 0.0, 0.0, 0.0, 0.0, 0.0, 0.0, 0.0, 0.0, 0.0, 0.0, 0.0, 0.0, 0.0, 0.0, 0.0, 0.0, 0.0, 0.0, 0.0, 0.0, 0.0, 0.0, 0.0, 0.0, 0.0, 0.0, 0.0, 0.0]\n[4.0, 2.0, 2.0, 4.0, 4.0, 1.0, 3.0, 2.0, 1.0, 2.0, 1.0, 2.0, 0.0, 0.0, 4.0, 4.0, 0.0, 4.0, 1.0, 4.0, 0.0, 2.0, 3.0, 1.0, 0.0, 0.0, 3.0, 3.0, 1.0, 3.0, 3.0, 4.0, 1.0, 3.0, 1.0, 1.0, 2.0, 3.0, 2.0, 3.0, 1.0, 2.0, 2.0, 3.0, 4.0, 2.0, 3.0, 3.0, 1.0, 0.0, 3.0, 3.0, 2.0, 0.0, 3.0, 1.0, 4.0, 1.0, 2.0, 2.0, 2.0, 3.0, 1.0, 3.0, 4.0, 3.0, 2.0, 3.0, 2.0, 0.0, 2.0, 3.0, 1.0, 4.0, 3.0, 1.0, 2.0, 4.0, 1.0, 4.0, 2.0, 3.0, 2.0, 2.0, 4.0, 1.0, 2.0, 4.0, 1.0, 2.0, 0.0, 0.0, 1.0, 2.0, 4.0, 2.0, 1.0, 1.0, 2.0, 1.0, 1.0, 4.0, 3.0, 1.0, 1.0, 4.0, 3.0, 0.0, 2.0, 1.0, 3.0, 3.0, 3.0, 0.0, 3.0, 1.0, 2.0, 4.0, 1.0, 1.0, 0.0, 1.0, 3.0, 3.0, 2.0, 3.0, 3.0, 1.0, 0.0, 3.0, 3.0, 3.0, 2.0, 0.0, 2.0, 3.0, 0.0, 2.0, 3.0, 4.0, 3.0]\n\n\u003d\u003d\u003d\u003d\u003d\n\nMULTIPLE\n1 PRIORITY ENVIRONMENTAL SERVICES LLC [\u0027PRIORITY\u0027, \u0027ENVIRONMENTAL\u0027]\nDraw Up Date: 2021-01-01 00:00:00+00:00\nCards 7.0\n\n[\u0027CORE ENVIRONMENTAL SOLUTIONS\u0027, \u0027JAG ENVIRONMENTAL LLC\u0027, \u0027MISSION EARTHWORK AND ENVIRONMENTAL INC\u0027, \u0027MW ENVIRONMENTAL LLC\u0027, \u0027PECKER HEADS TREE  ENVIRONMENTAL LLC\u0027, \u0027RIO GRANDE ENVIRONMENTAL\u0027]\n[0.35, 0.15, 0.33, 0.13, 0.35, 0.15]\n[4.0, 1.0, 3.0, 2.0, 1.0, 4.0]\n\n\u003d\u003d\u003d\u003d\u003d\n\n",
          "name": "stdout"
        }
      ]
    },
    {
      "execution_count": 0,
      "cell_type": "code",
      "metadata": {},
      "source": [
        ""
      ],
      "outputs": []
    },
    {
      "execution_count": 0,
      "cell_type": "code",
      "metadata": {},
      "source": [
        "df_matches \u003d pd.DataFrame(_direct_customer)\ndf_matches.columns \u003d [\u0027CUSTOMER\u0027]\ndf_matches[\"MATCH_CUSTOMER\"] \u003d _direct_match\ndf_matches[\"DRAW_UP_DATE\"] \u003d _direct_draw_up_date\ndf_matches.head()"
      ],
      "outputs": []
    },
    {
      "execution_count": 100,
      "cell_type": "code",
      "metadata": {},
      "source": [
        "df_multiple_matches \u003d pd.DataFrame(_multiple_customer)\ndf_multiple_matches.columns \u003d [\u0027CUSTOMER\u0027]\ndf_multiple_matches[\"MATCH_CUSTOMER\"] \u003d _multiple_matches\ndf_multiple_matches[\"DRAW_UP_DATE\"] \u003d _multiple_drop_dates\ndf_multiple_matches[[\u0027CUSTOMER\u0027,\u0027MATCH_CUSTOMER\u0027]]"
      ],
      "outputs": [
        {
          "output_type": "execute_result",
          "execution_count": 100,
          "data": {
            "text/plain": "                                CUSTOMER                                     MATCH_CUSTOMER\n0          1 AFFORDABLE LAWN MAINTENANCE  [1 AFFORDABLE LAWN MAINTENANCE LLC, 5 STAR MAI...\n1                            1 G R V LLC  [B  R CONSTRUCTION LLC, B AND R PLUMBING LLC, ...\n2                         1 KC LOGISTICS  [1ST ONE LOGISTICS CORPORATION, 24 7 LOGISTICS...\n3  1 PRIORITY ENVIRONMENTAL SERVICES LLC  [CORE ENVIRONMENTAL SOLUTIONS, JAG ENVIRONMENT...\n4       1 WAY AUTO AND FREIGHT LOGISTICS  [1845 LOGISTICS LLC, 230 LOGISTICS LLC, 7FOLDS...\n5                     1 WITH NATURE, LLC     [ANYTHING WITH INK WESTAZ LLC, FLEAUX WITH MO]\n6         10 33 AMBULANCE SERVICE LTD(04  [1033 AMBULANCE SERVICE LTD, ALLEN COUNTY AMBU...\n7                   1005 FINANCIAL GROUP  [AGZ FINANCIAL SERVICES LLC, BRIGHTER BEGINNIN...\n8                    1021 AUTO SALES LLC  [AR SALES LLC, AUTO DETAILING SOLUTIONS OF ABI...",
            "text/html": "\u003cdiv\u003e\n\u003cstyle scoped\u003e\n    .dataframe tbody tr th:only-of-type {\n        vertical-align: middle;\n    }\n\n    .dataframe tbody tr th {\n        vertical-align: top;\n    }\n\n    .dataframe thead th {\n        text-align: right;\n    }\n\u003c/style\u003e\n\u003ctable border\u003d\"1\" class\u003d\"dataframe\"\u003e\n  \u003cthead\u003e\n    \u003ctr style\u003d\"text-align: right;\"\u003e\n      \u003cth\u003e\u003c/th\u003e\n      \u003cth\u003eCUSTOMER\u003c/th\u003e\n      \u003cth\u003eMATCH_CUSTOMER\u003c/th\u003e\n    \u003c/tr\u003e\n  \u003c/thead\u003e\n  \u003ctbody\u003e\n    \u003ctr\u003e\n      \u003cth\u003e0\u003c/th\u003e\n      \u003ctd\u003e1 AFFORDABLE LAWN MAINTENANCE\u003c/td\u003e\n      \u003ctd\u003e[1 AFFORDABLE LAWN MAINTENANCE LLC, 5 STAR MAI...\u003c/td\u003e\n    \u003c/tr\u003e\n    \u003ctr\u003e\n      \u003cth\u003e1\u003c/th\u003e\n      \u003ctd\u003e1 G R V LLC\u003c/td\u003e\n      \u003ctd\u003e[B  R CONSTRUCTION LLC, B AND R PLUMBING LLC, ...\u003c/td\u003e\n    \u003c/tr\u003e\n    \u003ctr\u003e\n      \u003cth\u003e2\u003c/th\u003e\n      \u003ctd\u003e1 KC LOGISTICS\u003c/td\u003e\n      \u003ctd\u003e[1ST ONE LOGISTICS CORPORATION, 24 7 LOGISTICS...\u003c/td\u003e\n    \u003c/tr\u003e\n    \u003ctr\u003e\n      \u003cth\u003e3\u003c/th\u003e\n      \u003ctd\u003e1 PRIORITY ENVIRONMENTAL SERVICES LLC\u003c/td\u003e\n      \u003ctd\u003e[CORE ENVIRONMENTAL SOLUTIONS, JAG ENVIRONMENT...\u003c/td\u003e\n    \u003c/tr\u003e\n    \u003ctr\u003e\n      \u003cth\u003e4\u003c/th\u003e\n      \u003ctd\u003e1 WAY AUTO AND FREIGHT LOGISTICS\u003c/td\u003e\n      \u003ctd\u003e[1845 LOGISTICS LLC, 230 LOGISTICS LLC, 7FOLDS...\u003c/td\u003e\n    \u003c/tr\u003e\n    \u003ctr\u003e\n      \u003cth\u003e5\u003c/th\u003e\n      \u003ctd\u003e1 WITH NATURE, LLC\u003c/td\u003e\n      \u003ctd\u003e[ANYTHING WITH INK WESTAZ LLC, FLEAUX WITH MO]\u003c/td\u003e\n    \u003c/tr\u003e\n    \u003ctr\u003e\n      \u003cth\u003e6\u003c/th\u003e\n      \u003ctd\u003e10 33 AMBULANCE SERVICE LTD(04\u003c/td\u003e\n      \u003ctd\u003e[1033 AMBULANCE SERVICE LTD, ALLEN COUNTY AMBU...\u003c/td\u003e\n    \u003c/tr\u003e\n    \u003ctr\u003e\n      \u003cth\u003e7\u003c/th\u003e\n      \u003ctd\u003e1005 FINANCIAL GROUP\u003c/td\u003e\n      \u003ctd\u003e[AGZ FINANCIAL SERVICES LLC, BRIGHTER BEGINNIN...\u003c/td\u003e\n    \u003c/tr\u003e\n    \u003ctr\u003e\n      \u003cth\u003e8\u003c/th\u003e\n      \u003ctd\u003e1021 AUTO SALES LLC\u003c/td\u003e\n      \u003ctd\u003e[AR SALES LLC, AUTO DETAILING SOLUTIONS OF ABI...\u003c/td\u003e\n    \u003c/tr\u003e\n  \u003c/tbody\u003e\n\u003c/table\u003e\n\u003c/div\u003e"
          },
          "metadata": {}
        }
      ]
    },
    {
      "execution_count": 0,
      "cell_type": "code",
      "metadata": {},
      "source": [
        "MATCHES_1_TO_N_FOR_MANUAL_REVIEW_df \u003d df_multiple_matches\nMACTHES_1_TO_N_FOR_MANUAL_REVIEW \u003d dataiku.Dataset(\"MATCHES_1_TO_N_FOR_MANUAL_REVIEW\")\nMACTHES_1_TO_N_FOR_MANUAL_REVIEW.write_with_schema(MATCHES_1_TO_N_FOR_MANUAL_REVIEW_df)\n\nMATCHES_1_TO_1_df \u003d df_matches\nMATCHES_1_TO_1 \u003d dataiku.Dataset(\"MATCHES_1_TO_1\")\nMATCHES_1_TO_1.write_with_schema(MATCHES_1_TO_1_df)"
      ],
      "outputs": []
    }
  ]
}