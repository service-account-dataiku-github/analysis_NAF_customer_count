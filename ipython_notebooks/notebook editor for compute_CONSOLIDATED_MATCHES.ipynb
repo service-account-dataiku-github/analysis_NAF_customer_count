{
  "metadata": {
    "kernelspec": {
      "name": "py-dku-venv-env_clc",
      "display_name": "Python (env env_clc)",
      "language": "python"
    },
    "associatedRecipe": "compute_CONSOLIDATED_MATCHES",
    "creator": "Daniel.Vandermeer",
    "createdOn": 1666015248584,
    "tags": [
      "recipe-editor"
    ],
    "customFields": {},
    "hide_input": false,
    "language_info": {
      "name": "python",
      "version": "3.6.8",
      "mimetype": "text/x-python",
      "codemirror_mode": {
        "name": "ipython",
        "version": 3
      },
      "pygments_lexer": "ipython3",
      "nbconvert_exporter": "python",
      "file_extension": ".py"
    },
    "modifiedBy": "Daniel.Vandermeer"
  },
  "nbformat": 4,
  "nbformat_minor": 1,
  "cells": [
    {
      "execution_count": 13,
      "cell_type": "code",
      "metadata": {},
      "source": [
        "# -*- coding: utf-8 -*-\nimport dataiku\nimport pandas as pd, numpy as np\nfrom dataiku import pandasutils as pdu\n\n# Read recipe inputs\nCALCULATED_CARD_DRAW_UPS \u003d dataiku.Dataset(\"CALCULATED_CARD_DRAW_UPS\")\nCALCULATED_CARD_DRAW_UPS_df \u003d CALCULATED_CARD_DRAW_UPS.get_dataframe()\n\nCALCULATED_CARD_DRAW_DOWNS \u003d dataiku.Dataset(\"CALCULATED_CARD_DRAW_DOWNS\")\nCALCULATED_CARD_DRAW_DOWNS_df \u003d CALCULATED_CARD_DRAW_DOWNS.get_dataframe()\n"
      ],
      "outputs": []
    },
    {
      "execution_count": 15,
      "cell_type": "code",
      "metadata": {},
      "source": [
        "df_down \u003d CALCULATED_CARD_DRAW_DOWNS_df\ndf_up \u003d CALCULATED_CARD_DRAW_UPS_df\n\ndf_down.sort_values([\u0027CUSTOMER\u0027], inplace\u003dTrue)\ndf_up.sort_values([\u0027CUSTOMER\u0027], inplace\u003dTrue)\n\nprint(len(df_down), \"draw downs\")\nprint(len(df_up), \"draw ups\")"
      ],
      "outputs": [
        {
          "output_type": "stream",
          "text": "194 draw downs\n322 draw ups\n",
          "name": "stdout"
        }
      ]
    },
    {
      "execution_count": 11,
      "cell_type": "code",
      "metadata": {},
      "source": [
        "df_down.head()"
      ],
      "outputs": [
        {
          "output_type": "execute_result",
          "execution_count": 11,
          "data": {
            "text/plain": "                 CUSTOMER            DRAW_DOWN_DATE     MEAN_DD     STD_DD  ACTIVE_CARD_MAX\n0                    3LUM 2019-12-01 00:00:00+00:00   13.000000   0.577350             14.0\n193      3US6 (EQUIPMENT) 2021-08-01 00:00:00+00:00   36.600000  27.673092            104.0\n192   ACORDA THERAPEUTICS 2019-09-01 00:00:00+00:00  129.600000   2.190890            133.0\n191  ADF PIZZA MANAGEMENT 2020-12-01 00:00:00+00:00    7.500000   1.623688             12.0\n190                 ALENT 2020-04-01 00:00:00+00:00    1.333333   0.492366              2.0",
            "text/html": "\u003cdiv\u003e\n\u003cstyle scoped\u003e\n    .dataframe tbody tr th:only-of-type {\n        vertical-align: middle;\n    }\n\n    .dataframe tbody tr th {\n        vertical-align: top;\n    }\n\n    .dataframe thead th {\n        text-align: right;\n    }\n\u003c/style\u003e\n\u003ctable border\u003d\"1\" class\u003d\"dataframe\"\u003e\n  \u003cthead\u003e\n    \u003ctr style\u003d\"text-align: right;\"\u003e\n      \u003cth\u003e\u003c/th\u003e\n      \u003cth\u003eCUSTOMER\u003c/th\u003e\n      \u003cth\u003eDRAW_DOWN_DATE\u003c/th\u003e\n      \u003cth\u003eMEAN_DD\u003c/th\u003e\n      \u003cth\u003eSTD_DD\u003c/th\u003e\n      \u003cth\u003eACTIVE_CARD_MAX\u003c/th\u003e\n    \u003c/tr\u003e\n  \u003c/thead\u003e\n  \u003ctbody\u003e\n    \u003ctr\u003e\n      \u003cth\u003e0\u003c/th\u003e\n      \u003ctd\u003e3LUM\u003c/td\u003e\n      \u003ctd\u003e2019-12-01 00:00:00+00:00\u003c/td\u003e\n      \u003ctd\u003e13.000000\u003c/td\u003e\n      \u003ctd\u003e0.577350\u003c/td\u003e\n      \u003ctd\u003e14.0\u003c/td\u003e\n    \u003c/tr\u003e\n    \u003ctr\u003e\n      \u003cth\u003e193\u003c/th\u003e\n      \u003ctd\u003e3US6 (EQUIPMENT)\u003c/td\u003e\n      \u003ctd\u003e2021-08-01 00:00:00+00:00\u003c/td\u003e\n      \u003ctd\u003e36.600000\u003c/td\u003e\n      \u003ctd\u003e27.673092\u003c/td\u003e\n      \u003ctd\u003e104.0\u003c/td\u003e\n    \u003c/tr\u003e\n    \u003ctr\u003e\n      \u003cth\u003e192\u003c/th\u003e\n      \u003ctd\u003eACORDA THERAPEUTICS\u003c/td\u003e\n      \u003ctd\u003e2019-09-01 00:00:00+00:00\u003c/td\u003e\n      \u003ctd\u003e129.600000\u003c/td\u003e\n      \u003ctd\u003e2.190890\u003c/td\u003e\n      \u003ctd\u003e133.0\u003c/td\u003e\n    \u003c/tr\u003e\n    \u003ctr\u003e\n      \u003cth\u003e191\u003c/th\u003e\n      \u003ctd\u003eADF PIZZA MANAGEMENT\u003c/td\u003e\n      \u003ctd\u003e2020-12-01 00:00:00+00:00\u003c/td\u003e\n      \u003ctd\u003e7.500000\u003c/td\u003e\n      \u003ctd\u003e1.623688\u003c/td\u003e\n      \u003ctd\u003e12.0\u003c/td\u003e\n    \u003c/tr\u003e\n    \u003ctr\u003e\n      \u003cth\u003e190\u003c/th\u003e\n      \u003ctd\u003eALENT\u003c/td\u003e\n      \u003ctd\u003e2020-04-01 00:00:00+00:00\u003c/td\u003e\n      \u003ctd\u003e1.333333\u003c/td\u003e\n      \u003ctd\u003e0.492366\u003c/td\u003e\n      \u003ctd\u003e2.0\u003c/td\u003e\n    \u003c/tr\u003e\n  \u003c/tbody\u003e\n\u003c/table\u003e\n\u003c/div\u003e"
          },
          "metadata": {}
        }
      ]
    },
    {
      "execution_count": 56,
      "cell_type": "code",
      "metadata": {},
      "source": [
        "import string\n\nclass Draw_Down_Customer:\n    \n    def __init__(self, name, draw_down_date, mean_dd, std_dd, active_card_max):\n\n        self._common_words \u003d [\u0027PIZZA\u0027, \u0027MANAGEMENT\u0027, \u0027THERAPEUTICS\u0027, \u0027USA\u0027, \u0027INC\u0027, \u0027US\u0027, \u0027EQUIPMENT\u0027, \u0027MEDICAL\u0027, \u0027SYSTEMS\u0027,\n                             \u0027ANIMAL\u0027, \u0027HEALTH\u0027, \u0027LLC\u0027, \u0027CORPORATION\u0027, \u0027BRANDS\u0027, \u0027TIRE\u0027, \u0027RUBBER\u0027, \u0027COUNTRY\u0027, \u0027CORP\u0027, \n                              \u0027PHARMACY\u0027,\u0027INC\u0027, \u0027RESTAURANTS\u0027, \u0027CONTAINER\u0027, \u0027AMERICA\u0027, \u0027APPLICATIONS\u0027, \u0027TECHNOLOGY\u0027, \n                              \u0027INSURANCE\u0027, \u0027FARM\u0027,\u0027CREDIT\u0027, \u0027SERVICES\u0027, \u0027SERVICE\u0027, \u0027ACCOUNT\u0027, \u0027GENERAL\u0027, \u0027PARTS\u0027, \n                              \u0027INTL\u0027, \u0027FLAVORS\u0027, \u0027HOLDINGS\u0027, \u0027FOOD\u0027,\u0027INDUSTRIES\u0027, \u0027LP\u0027, \u0027FLEET\u0027, \u0027MEDICAL\u0027, \u0027PHARMA\u0027,\n                             \u0027GLOBAL\u0027, \u0027PIPELINE\u0027, \u0027WHEELS\u0027, \u0027BIOSCIENCES\u0027, \u0027SSI\u0027, \u0027SPRINGS\u0027, \u0027NORTH\u0027, \u0027MARINE\u0027, \u0027HOLDING\u0027, \n                              \u0027TECHNOLOGIES\u0027,\u0027GROUP\u0027, \u0027PHARMACEUTICAL\u0027, \u0027NA\u0027, \u0027USA\u0027, \u0027COMPANY\u0027, \u0027RAIL\u0027, \u0027PARTNERS\u0027, \u0027BROS\u0027, \n                              \u0027CO\u0027, \u0027PHARMACEUTICALS\u0027, \u0027ENERGY\u0027, \u0027DISTRIBUTION\u0027, \u0027DENTAL\u0027, \u0027SPECIALTIES\u0027, \u0027OPERATIONS\u0027, \n                              \u0027COMPANY\u0027, \u0027THE\u0027, \u0027MOUNTAIN\u0027, \u0027TRANS\u0027, \u0027FUEL\u0027, \u0027AMERICAN\u0027, \u0027HOMES\u0027, \u0027GAS\u0027]\n        \n        self.CUSTOMER \u003d name\n        self.DRAW_DOWN_DATE \u003d draw_down_date\n        self.ACTIVE_CARD_MAX \u003d active_card_max\n        \n        self.MATCHING_CUSTOMERS \u003d []\n        self.PERCENT_DIFFERENCE \u003d []\n        self.DAYS_DIFFERENCE \u003d []\n        \n        # remove punctuation\n        c_str \u003d name.translate(str.maketrans(\u0027\u0027, \u0027\u0027, string.punctuation))\n    \n        f \u003d c_str.split()\n        self.WORD_LIST \u003d []\n        for w in f:\n            if w not in self._common_words:\n                self.WORD_LIST.append(w)\n                \n    def Match_Draw_Up_Customer(self, name, draw_up_date, mean_du, std_du, active_card_max):\n        \n        if (self.CUSTOMER \u003d\u003d name):\n            # exact match, already captured\n            return\n        \n        c_str \u003d name.translate(str.maketrans(\u0027\u0027, \u0027\u0027, string.punctuation))\n        \n        f \u003d c_str.split()\n        \n        check_list \u003d []\n        for w in f:\n            if w not in self._common_words:\n                check_list.append(w)\n                \n        percent_diff \u003d round((abs(self.ACTIVE_CARD_MAX - active_card_max) / ((self.ACTIVE_CARD_MAX+active_card_max)/2)),2)\n\n        #date_format \u003d \"%Y-%m-%d\"\n        #d1_date \u003d datetime.strptime(draw_up_date.astype(str), date_format)\n        #d2_date \u003d datetime.strptime(self.DRAW_DOWN_DATE.astype(str), date_format)\n\n        delta_between_drop_and_rise \u003d round(abs((draw_up_date-self.DRAW_DOWN_DATE).days)/30.,0)\n            \n        for w_to_check in check_list:\n            for w in self.WORD_LIST:\n                if w_to_check\u003d\u003dw:\n                    \n                    if not name in(self.MATCHING_CUSTOMERS) and(delta_between_drop_and_rise\u003c\u003d4)and(percent_diff\u003c\u003d0.5) :\n                        self.MATCHING_CUSTOMERS.append(name)\n                        self.PERCENT_DIFFERENCE.append(percent_diff)\n                        self.DAYS_DIFFERENCE.append(delta_between_drop_and_rise)\n                        break;"
      ],
      "outputs": []
    },
    {
      "execution_count": 59,
      "cell_type": "code",
      "metadata": {
        "scrolled": false
      },
      "source": [
        "idx \u003d 0\n\n_customers \u003d []\n\nfor index, row in df_down.iterrows():\n    \n    idx+\u003d1 \n    \n    customer \u003d row[\u0027CUSTOMER\u0027]\n    draw_down_date \u003d row[\u0027DRAW_DOWN_DATE\u0027]\n    mean_dd \u003d row[\u0027MEAN_DD\u0027]\n    std_dd \u003d row[\u0027STD_DD\u0027]\n    active_card_max \u003d row[\u0027ACTIVE_CARD_MAX\u0027]\n    \n    c \u003d Draw_Down_Customer(customer, draw_down_date, mean_dd, std_dd, active_card_max)\n    \n    _customers.append(c)\n    \n    #if idx\u003e10:\n    #    break;\n    \nidx \u003d 0\nverbose \u003d False\n\n\n_matches \u003d []\n_multiple_matches \u003d []\n\nfor c in _customers:\n        \n    for index_up, row_up in df_up.iterrows():\n        \n        idx+\u003d1\n        \n        customer \u003d row_up[\u0027CUSTOMER\u0027]\n        draw_up_date \u003d row_up[\u0027DRAW_UP_DATE\u0027]\n        mean_du \u003d row_up[\u0027MEAN_DU\u0027]\n        std_du \u003d row_up[\u0027STD_DU\u0027]\n        active_card_max \u003d row_up[\u0027ACTIVE_CARD_MAX\u0027]\n        \n        c.Match_Draw_Up_Customer(customer, draw_up_date, mean_du, std_du, active_card_max)\n    \n    if len(c.MATCHING_CUSTOMERS)\u003d\u003d1:\n        \n        print(c.CUSTOMER, c.MATCHING_CUSTOMERS)\n        \n        if verbose:\n            print(c.CUSTOMER, c.WORD_LIST)\n            print(\"Draw Up Date:\", c.DRAW_DOWN_DATE)\n            print(\"Cards\", c.ACTIVE_CARD_MAX)\n            print()\n            print(c.MATCHING_CUSTOMERS)\n            print(c.PERCENT_DIFFERENCE)\n            print(c.DAYS_DIFFERENCE)\n            print()\n            print(\"\u003d\u003d\u003d\u003d\u003d\")\n            print()\n        \n    elif len(c.MATCHING_CUSTOMERS)\u003e1:\n        print()\n        print(\"deal with multiple matches\")\n        print()\n        \nprint(idx)"
      ],
      "outputs": [
        {
          "output_type": "stream",
          "text": "ALKERMES (3ALK) [\u0027ALKERMES\u0027, \u00273ALK\u0027]\nDraw Up Date: 2022-01-01 00:00:00+00:00\nCards 349.0\n\n[\u0027ALKERMES INC\u0027]\n[0.25]\n[2.0]\n\n\u003d\u003d\u003d\u003d\u003d\n\nAMERICAN HOMES 4 RENT [\u00274\u0027, \u0027RENT\u0027]\nDraw Up Date: 2021-04-01 00:00:00+00:00\nCards 367.0\n\n[\u0027AMERICAN HOMES 4 RENT LP\u0027]\n[0.07]\n[2.0]\n\n\u003d\u003d\u003d\u003d\u003d\n\nAMGEN USA INC [\u0027AMGEN\u0027]\nDraw Up Date: 2021-03-01 00:00:00+00:00\nCards 2933.0\n\n[\u0027AMGEN USA\u0027]\n[0.19]\n[2.0]\n\n\u003d\u003d\u003d\u003d\u003d\n\nARCADIS US [\u0027ARCADIS\u0027]\nDraw Up Date: 2022-02-01 00:00:00+00:00\nCards 348.0\n\n[\u0027ARCADIS US INC\u0027]\n[0.08]\n[2.0]\n\n\u003d\u003d\u003d\u003d\u003d\n\nARCHROMA U.S. INC. [\u0027ARCHROMA\u0027]\nDraw Up Date: 2021-07-01 00:00:00+00:00\nCards 29.0\n\n[\u0027ARCHROMA US INC\u0027]\n[0.27]\n[1.0]\n\n\u003d\u003d\u003d\u003d\u003d\n\nASTELLAS PHARMA [\u0027ASTELLAS\u0027]\nDraw Up Date: 2021-09-01 00:00:00+00:00\nCards 957.0\n\n[\u0027ASTELLAS PHARMA US INC\u0027]\n[0.04]\n[2.0]\n\n\u003d\u003d\u003d\u003d\u003d\n\n\ndeal with multiple matches\n\nBALFOUR EQUIP [\u0027BALFOUR\u0027, \u0027EQUIP\u0027]\nDraw Up Date: 2021-08-01 00:00:00+00:00\nCards 113.0\n\n[\u0027BALFOUR BEATTY3BBR\u0027]\n[0.11]\n[1.0]\n\n\u003d\u003d\u003d\u003d\u003d\n\nBALFOUR RENO [\u0027BALFOUR\u0027, \u0027RENO\u0027]\nDraw Up Date: 2021-06-01 00:00:00+00:00\nCards 24.0\n\n[\u0027BALFOUR BEATTY RENOVATIONS\u0027]\n[0.15]\n[2.0]\n\n\u003d\u003d\u003d\u003d\u003d\n\nBECTON DICKINSON (3BRD) [\u0027BECTON\u0027, \u0027DICKINSON\u0027, \u00273BRD\u0027]\nDraw Up Date: 2021-12-01 00:00:00+00:00\nCards 909.0\n\n[\u0027BECTON DICKINSON  3BRD\u0027]\n[0.08]\n[1.0]\n\n\u003d\u003d\u003d\u003d\u003d\n\n\ndeal with multiple matches\n\n\ndeal with multiple matches\n\n\ndeal with multiple matches\n\nCANON MEDICAL USA [\u0027CANON\u0027]\nDraw Up Date: 2021-02-01 00:00:00+00:00\nCards 682.0\n\n[\u0027CANON MEDICAL SYSTEMS USA INC\u0027]\n[0.0]\n[1.0]\n\n\u003d\u003d\u003d\u003d\u003d\n\nCEVA ANIMAL HEALTH, LLC [\u0027CEVA\u0027]\nDraw Up Date: 2021-08-01 00:00:00+00:00\nCards 112.0\n\n[\u0027CEVA ANIMAL HEALTH LLC\u0027]\n[0.11]\n[1.0]\n\n\u003d\u003d\u003d\u003d\u003d\n\nCOLLEGIUM [\u0027COLLEGIUM\u0027]\nDraw Up Date: 2021-08-01 00:00:00+00:00\nCards 137.0\n\n[\u0027COLLEGIUM PHARMACEUTICAL INC\u0027]\n[0.07]\n[1.0]\n\n\u003d\u003d\u003d\u003d\u003d\n\n\ndeal with multiple matches\n\n\ndeal with multiple matches\n\nCOOPER TIRE \u0026 RUBBER [\u0027COOPER\u0027]\nDraw Up Date: 2022-03-01 00:00:00+00:00\nCards 84.0\n\n[\u0027COOPER TIRE  RUBBER\u0027]\n[0.24]\n[1.0]\n\n\u003d\u003d\u003d\u003d\u003d\n\nCOVESTRO [\u0027COVESTRO\u0027]\nDraw Up Date: 2021-08-01 00:00:00+00:00\nCards 84.0\n\n[\u0027COVESTRO LLC\u0027]\n[0.01]\n[1.0]\n\n\u003d\u003d\u003d\u003d\u003d\n\nCURTISS-WRIGHT (5CWC) [\u0027CURTISSWRIGHT\u0027, \u00275CWC\u0027]\nDraw Up Date: 2021-07-01 00:00:00+00:00\nCards 25.0\n\n[\u0027CURTISSWRIGHT CORPORATION\u0027]\n[0.04]\n[1.0]\n\n\u003d\u003d\u003d\u003d\u003d\n\nDARDEN RESTAURANTS (3DAR) [\u0027DARDEN\u0027, \u00273DAR\u0027]\nDraw Up Date: 2021-08-01 00:00:00+00:00\nCards 410.0\n\n[\u0027DARDEN RESTAURANTS\u0027]\n[0.16]\n[1.0]\n\n\u003d\u003d\u003d\u003d\u003d\n\nDART CONTAINER CORP (3DC2) [\u0027DART\u0027, \u00273DC2\u0027]\nDraw Up Date: 2022-02-01 00:00:00+00:00\nCards 157.0\n\n[\u0027DART CONTAINER CORP3DRT\u0027]\n[0.03]\n[0.0]\n\n\u003d\u003d\u003d\u003d\u003d\n\nDART CONTAINER CORP (3DRT) [\u0027DART\u0027, \u00273DRT\u0027]\nDraw Up Date: 2022-03-01 00:00:00+00:00\nCards 248.0\n\n[\u0027DART CONTAINER CORP3DRT\u0027]\n[0.48]\n[1.0]\n\n\u003d\u003d\u003d\u003d\u003d\n\nDIVERSIFIED APPLICAITONS, INC. [\u0027DIVERSIFIED\u0027, \u0027APPLICAITONS\u0027]\nDraw Up Date: 2022-01-01 00:00:00+00:00\nCards 47.0\n\n[\u0027DIVERSIFIED APPLICATIONS INC\u0027]\n[0.39]\n[1.0]\n\n\u003d\u003d\u003d\u003d\u003d\n\nDYSON (3DYS) [\u0027DYSON\u0027, \u00273DYS\u0027]\nDraw Up Date: 2021-06-01 00:00:00+00:00\nCards 57.0\n\n[\u0027DYSON INC\u0027]\n[0.35]\n[0.0]\n\n\u003d\u003d\u003d\u003d\u003d\n\nERIE INSURANCE (3ERE) [\u0027ERIE\u0027, \u00273ERE\u0027]\nDraw Up Date: 2022-01-01 00:00:00+00:00\nCards 1039.0\n\n[\u0027ERIE INSURANCE EXCHANGE  3ERE\u0027]\n[0.12]\n[1.0]\n\n\u003d\u003d\u003d\u003d\u003d\n\nFARMERS MUTUAL HAIL INSURANCE [\u0027FARMERS\u0027, \u0027MUTUAL\u0027, \u0027HAIL\u0027]\nDraw Up Date: 2021-03-01 00:00:00+00:00\nCards 244.0\n\n[\u0027FARMERS MUTUAL HAIL INSURANCE CO OF IOWA\u0027]\n[0.06]\n[1.0]\n\n\u003d\u003d\u003d\u003d\u003d\n\nFCS AMERICA (3FCS) [\u0027FCS\u0027, \u00273FCS\u0027]\nDraw Up Date: 2020-06-01 00:00:00+00:00\nCards 441.0\n\n[\u0027FARM CREDIT SERVICES (3FCS)\u0027]\n[0.23]\n[1.0]\n\n\u003d\u003d\u003d\u003d\u003d\n\n\ndeal with multiple matches\n\n\ndeal with multiple matches\n\nGLENN SPRINGS HOLDINGS [\u0027GLENN\u0027]\nDraw Up Date: 2021-10-01 00:00:00+00:00\nCards 12.0\n\n[\u0027GLENN SPRINGS HOLDINGS INC\u0027]\n[0.29]\n[1.0]\n\n\u003d\u003d\u003d\u003d\u003d\n\nHARMON INC (WHLS) [\u0027HARMON\u0027, \u0027WHLS\u0027]\nDraw Up Date: 2021-05-01 00:00:00+00:00\nCards 80.0\n\n[\u0027HARMON INC\u0027]\n[0.09]\n[1.0]\n\n\u003d\u003d\u003d\u003d\u003d\n\nHARMONY BIOSCIENCES [\u0027HARMONY\u0027]\nDraw Up Date: 2021-07-01 00:00:00+00:00\nCards 127.0\n\n[\u0027HARMONY BIOSCIENCES LLC\u0027]\n[0.24]\n[2.0]\n\n\u003d\u003d\u003d\u003d\u003d\n\nHAYWARD INDUSTRIES (WHLS) [\u0027HAYWARD\u0027, \u0027WHLS\u0027]\nDraw Up Date: 2021-02-01 00:00:00+00:00\nCards 189.0\n\n[\u0027HAYWARD INDUSTRIES\u0027]\n[0.08]\n[1.0]\n\n\u003d\u003d\u003d\u003d\u003d\n\nHIGHWAY EQUIPMENT [\u0027HIGHWAY\u0027]\nDraw Up Date: 2021-02-01 00:00:00+00:00\nCards 56.0\n\n[\u0027HIGHWAY EQUIPMENT AND SUPPLY COMPANY\u0027]\n[0.0]\n[1.0]\n\n\u003d\u003d\u003d\u003d\u003d\n\nIRONWOOD PHARMA (IRW) [\u0027IRONWOOD\u0027, \u0027IRW\u0027]\nDraw Up Date: 2021-04-01 00:00:00+00:00\nCards 188.0\n\n[\u0027IRONWOOD PHARMACEUTICALS\u0027]\n[0.31]\n[1.0]\n\n\u003d\u003d\u003d\u003d\u003d\n\nJAZZ PHARMA (3JAZ) [\u0027JAZZ\u0027, \u00273JAZ\u0027]\nDraw Up Date: 2020-09-01 00:00:00+00:00\nCards 321.0\n\n[\u0027JAZZ PARMACEUTICALS INC.\u0027]\n[0.43]\n[1.0]\n\n\u003d\u003d\u003d\u003d\u003d\n\nJONES LANG LASALLE (0469) [\u0027JONES\u0027, \u0027LANG\u0027, \u0027LASALLE\u0027, \u00270469\u0027]\nDraw Up Date: 2021-12-01 00:00:00+00:00\nCards 75.0\n\n[\u0027JONES LANG LASALLE AMERICAS INC\u0027]\n[0.04]\n[2.0]\n\n\u003d\u003d\u003d\u003d\u003d\n\nLAERDAL MEDICAL [\u0027LAERDAL\u0027]\nDraw Up Date: 2021-08-01 00:00:00+00:00\nCards 141.0\n\n[\u0027LAERDAL MEDICAL CORP\u0027]\n[0.4]\n[1.0]\n\n\u003d\u003d\u003d\u003d\u003d\n\nLAMB WESTON SALES [\u0027LAMB\u0027, \u0027WESTON\u0027, \u0027SALES\u0027]\nDraw Up Date: 2021-09-01 00:00:00+00:00\nCards 245.0\n\n[\u0027LAMB WESTON SALES INC\u0027]\n[0.1]\n[1.0]\n\n\u003d\u003d\u003d\u003d\u003d\n\nLEGRAND (5LAV) [\u0027LEGRAND\u0027, \u00275LAV\u0027]\nDraw Up Date: 2022-03-01 00:00:00+00:00\nCards 62.0\n\n[\u0027LEGRAND AV INC5LAV\u0027]\n[0.19]\n[1.0]\n\n\u003d\u003d\u003d\u003d\u003d\n\nLUNDBECK [\u0027LUNDBECK\u0027]\nDraw Up Date: 2022-03-01 00:00:00+00:00\nCards 638.0\n\n[\u0027LUNDBECK LLC\u0027]\n[0.21]\n[1.0]\n\n\u003d\u003d\u003d\u003d\u003d\n\nMACLEAN-FOGG (3MF1) [\u0027MACLEANFOGG\u0027, \u00273MF1\u0027]\nDraw Up Date: 2021-07-01 00:00:00+00:00\nCards 70.0\n\n[\u0027MACLEANFOGG COMPANY\u0027]\n[0.14]\n[0.0]\n\n\u003d\u003d\u003d\u003d\u003d\n\nMARS INC. [\u0027MARS\u0027]\nDraw Up Date: 2021-12-01 00:00:00+00:00\nCards 1405.0\n\n[\u0027MARS INC\u0027]\n[0.43]\n[2.0]\n\n\u003d\u003d\u003d\u003d\u003d\n\nMCKESSON CORPORATION (3MCK) [\u0027MCKESSON\u0027, \u00273MCK\u0027]\nDraw Up Date: 2021-03-01 00:00:00+00:00\nCards 1014.0\n\n[\u0027MCKESSON CORPORATION3MCK\u0027]\n[0.19]\n[1.0]\n\n\u003d\u003d\u003d\u003d\u003d\n\nMCKESSON CORPORATION (3MCT) [\u0027MCKESSON\u0027, \u00273MCT\u0027]\nDraw Up Date: 2021-04-01 00:00:00+00:00\nCards 11.0\n\n[\u0027MCKESSON CORPORATION3MCT\u0027]\n[0.32]\n[1.0]\n\n\u003d\u003d\u003d\u003d\u003d\n\nMILLENNIUM PHARMA [\u0027MILLENNIUM\u0027]\nDraw Up Date: 2021-01-01 00:00:00+00:00\nCards 232.0\n\n[\u0027MILLENNIUM PHARMACEUTICLAS INC\u0027]\n[0.33]\n[1.0]\n\n\u003d\u003d\u003d\u003d\u003d\n\nNOVAMEX [\u0027NOVAMEX\u0027]\nDraw Up Date: 2021-01-01 00:00:00+00:00\nCards 45.0\n\n[\u0027NOVAMEX  TIPP ENTERPRISES LP\u0027]\n[0.49]\n[1.0]\n\n\u003d\u003d\u003d\u003d\u003d\n\nOCCIDENTAL CHEMICAL CORP (69) [\u0027OCCIDENTAL\u0027, \u0027CHEMICAL\u0027, \u002769\u0027]\nDraw Up Date: 2021-06-01 00:00:00+00:00\nCards 33.0\n\n[\u0027OCCIDENTAL CHEMICAL CORPORATION\u0027]\n[0.1]\n[1.0]\n\n\u003d\u003d\u003d\u003d\u003d\n\nOSMOTICA PHARMACEUTICAL [\u0027OSMOTICA\u0027]\nDraw Up Date: 2021-08-01 00:00:00+00:00\nCards 140.0\n\n[\u0027OSMOTICA HOLDINGS US LLC\u0027]\n[0.41]\n[2.0]\n\n\u003d\u003d\u003d\u003d\u003d\n\nPRIMETALS TECHNOLOGIES USA [\u0027PRIMETALS\u0027]\nDraw Up Date: 2021-05-01 00:00:00+00:00\nCards 68.0\n\n[\u0027PRIMETALS TECHNOLOGIES USA LLC\u0027]\n[0.08]\n[1.0]\n\n\u003d\u003d\u003d\u003d\u003d\n\nRITCHIE BROS. USA [\u0027RITCHIE\u0027]\nDraw Up Date: 2021-04-01 00:00:00+00:00\nCards 325.0\n\n[\u0027RITCHIE BROS AUCTIONEERS AMERICA INC\u0027]\n[0.0]\n[2.0]\n\n\u003d\u003d\u003d\u003d\u003d\n\nROBERT HALF CORPORATION (3RHF) [\u0027ROBERT\u0027, \u0027HALF\u0027, \u00273RHF\u0027]\nDraw Up Date: 2021-10-01 00:00:00+00:00\nCards 249.0\n\n[\u0027ROBERT HALF INTERNATIONAL INCPROTIVITI\u0027]\n[0.2]\n[2.0]\n\n\u003d\u003d\u003d\u003d\u003d\n\nRPM INC (5RPX) [\u0027RPM\u0027, \u00275RPX\u0027]\nDraw Up Date: 2022-01-01 00:00:00+00:00\nCards 113.0\n\n[\u0027RPM INTERNATIONAL INC  5RPX\u0027]\n[0.02]\n[1.0]\n\n\u003d\u003d\u003d\u003d\u003d\n\nRPM, INC [\u0027RPM\u0027]\nDraw Up Date: 2021-05-01 00:00:00+00:00\nCards 795.0\n\n[\u0027RPM INTERNATIONAL INC  5RPM\u0027]\n[0.06]\n[1.0]\n\n\u003d\u003d\u003d\u003d\u003d\n\nSECURITAS ELECTRONICS [\u0027SECURITAS\u0027, \u0027ELECTRONICS\u0027]\nDraw Up Date: 2021-11-01 00:00:00+00:00\nCards 736.0\n\n[\u0027SECURITAS ELECTRONIC SECURITY INC\u0027]\n[0.05]\n[1.0]\n\n\u003d\u003d\u003d\u003d\u003d\n\nSECURITAS SECURITY SRVCS(3SCR) [\u0027SECURITAS\u0027, \u0027SECURITY\u0027, \u0027SRVCS3SCR\u0027]\nDraw Up Date: 2021-11-01 00:00:00+00:00\nCards 1759.0\n\n[\u0027SECURITAS SECURITY SERVICES USA INC\u0027]\n[0.05]\n[1.0]\n\n\u003d\u003d\u003d\u003d\u003d\n\nSELECTIVE INSURANCE CO [\u0027SELECTIVE\u0027]\nDraw Up Date: 2021-05-01 00:00:00+00:00\nCards 522.0\n\n[\u0027SELECTIVE INSURANCE COMPANY OF AMERICA\u0027]\n[0.19]\n[1.0]\n\n\u003d\u003d\u003d\u003d\u003d\n\nSIBELCO [\u0027SIBELCO\u0027]\nDraw Up Date: 2021-07-01 00:00:00+00:00\nCards 15.0\n\n[\u0027SIBELCO NORTH AMERICA INC\u0027]\n[0.5]\n[1.0]\n\n\u003d\u003d\u003d\u003d\u003d\n\nSYBRON DENTAL SPECIALTIES (69) [\u0027SYBRON\u0027, \u002769\u0027]\nDraw Up Date: 2021-05-01 00:00:00+00:00\nCards 395.0\n\n[\u0027SYBRON DENTAL SPECIALTIES\u0027]\n[0.09]\n[1.0]\n\n\u003d\u003d\u003d\u003d\u003d\n\nTEVA WHEELS [\u0027TEVA\u0027]\nDraw Up Date: 2021-04-01 00:00:00+00:00\nCards 975.0\n\n[\u0027TEVA PHARMACEUTICALS\u0027]\n[0.27]\n[2.0]\n\n\u003d\u003d\u003d\u003d\u003d\n\nTHIBAUT ACQUISITION [\u0027THIBAUT\u0027, \u0027ACQUISITION\u0027]\nDraw Up Date: 2021-02-01 00:00:00+00:00\nCards 16.0\n\n[\u0027THIBAUT ACQUISITION CO\u0027]\n[0.13]\n[1.0]\n\n\u003d\u003d\u003d\u003d\u003d\n\nTRANSTAR [\u0027TRANSTAR\u0027]\nDraw Up Date: 2021-07-01 00:00:00+00:00\nCards 65.0\n\n[\u0027TRANSTAR INC\u0027]\n[0.39]\n[1.0]\n\n\u003d\u003d\u003d\u003d\u003d\n\nVARIAN MEDICAL (V08) [\u0027VARIAN\u0027, \u0027V08\u0027]\nDraw Up Date: 2021-02-01 00:00:00+00:00\nCards 689.0\n\n[\u0027VARIAN MEDICAL SYSTEMS\u0027]\n[0.06]\n[2.0]\n\n\u003d\u003d\u003d\u003d\u003d\n\n",
          "name": "stdout"
        },
        {
          "output_type": "stream",
          "text": "WATERS TECHNOLOGIES [\u0027WATERS\u0027]\nDraw Up Date: 2021-12-01 00:00:00+00:00\nCards 657.0\n\n[\u0027WATERS TECHNOLOGIES CORPORATION\u0027]\n[0.01]\n[1.0]\n\n\u003d\u003d\u003d\u003d\u003d\n\nWATT STOPPER, INC. [\u0027WATT\u0027, \u0027STOPPER\u0027]\nDraw Up Date: 2021-08-01 00:00:00+00:00\nCards 65.0\n\n[\u0027WATT STOPPER INC\u0027]\n[0.39]\n[1.0]\n\n\u003d\u003d\u003d\u003d\u003d\n\n\ndeal with multiple matches\n\nYUM  INC. [\u0027YUM\u0027]\nDraw Up Date: 2021-04-01 00:00:00+00:00\nCards 191.0\n\n[\u0027YUM RESTAURANT SERVICES GROUP LLC\u0027]\n[0.21]\n[1.0]\n\n\u003d\u003d\u003d\u003d\u003d\n\n62468\n",
          "name": "stdout"
        }
      ]
    },
    {
      "execution_count": 24,
      "cell_type": "code",
      "metadata": {},
      "source": [
        "len(df_up)"
      ],
      "outputs": [
        {
          "output_type": "execute_result",
          "execution_count": 24,
          "data": {
            "text/plain": "322"
          },
          "metadata": {}
        }
      ]
    },
    {
      "execution_count": 0,
      "cell_type": "code",
      "metadata": {},
      "source": [
        "\n# Compute recipe outputs\n# TODO: Write here your actual code that computes the outputs\n# NB: DSS supports several kinds of APIs for reading and writing data. Please see doc.\n\n#CONSOLIDATED_MATCHES_df \u003d ... # Compute a Pandas dataframe to write into CONSOLIDATED_MATCHES\n\n\n# Write recipe outputs\n#CONSOLIDATED_MATCHES \u003d dataiku.Dataset(\"CONSOLIDATED_MATCHES\")\n#CONSOLIDATED_MATCHES.write_with_schema(CONSOLIDATED_MATCHES_df)"
      ],
      "outputs": []
    }
  ]
}