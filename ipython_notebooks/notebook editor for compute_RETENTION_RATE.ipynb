{
  "metadata": {
    "kernelspec": {
      "name": "py-dku-venv-env_clc",
      "display_name": "Python (env env_clc)",
      "language": "python"
    },
    "associatedRecipe": "compute_RETENTION_RATE",
    "dkuGit": {
      "lastInteraction": 0
    },
    "creationTag": {
      "versionNumber": 0,
      "lastModifiedBy": {
        "login": "Daniel.Vandermeer"
      },
      "lastModifiedOn": 1676992327427
    },
    "creator": "Daniel.Vandermeer",
    "createdOn": 1676992327427,
    "tags": [
      "recipe-editor"
    ],
    "customFields": {},
    "hide_input": false,
    "language_info": {
      "name": "python",
      "version": "3.6.8",
      "mimetype": "text/x-python",
      "codemirror_mode": {
        "name": "ipython",
        "version": 3
      },
      "pygments_lexer": "ipython3",
      "nbconvert_exporter": "python",
      "file_extension": ".py"
    },
    "modifiedBy": "Daniel.Vandermeer"
  },
  "nbformat": 4,
  "nbformat_minor": 1,
  "cells": [
    {
      "execution_count": 1,
      "cell_type": "code",
      "metadata": {},
      "source": [
        "# -*- coding: utf-8 -*-\nimport dataiku\nimport pandas as pd, numpy as np\nfrom dataiku import pandasutils as pdu\n\nfrom datetime import date, datetime, timedelta\nimport matplotlib.pyplot as plt\nimport time\n\nt0 \u003d time.time()\nprint(\"loading...\")\n\n# Read recipe inputs\nNAFCUSTOMER_ACCOUNT_ANNUAL_ACTIVE_CARD_COUNT \u003d dataiku.Dataset(\"NAFCUSTOMER_ACCOUNT_ANNUAL_ACTIVE_CARD_COUNT\")\nNAFCUSTOMER_ACCOUNT_ANNUAL_ACTIVE_CARD_COUNT_df \u003d NAFCUSTOMER_ACCOUNT_ANNUAL_ACTIVE_CARD_COUNT.get_dataframe()\n\nNAFCUSTOMER_REVENUE_AGGREGATED \u003d dataiku.Dataset(\"NAFCUSTOMER_REVENUE_AGGREGATED\")\nNAFCUSTOMER_REVENUE_AGGREGATED_df \u003d NAFCUSTOMER_REVENUE_AGGREGATED.get_dataframe()\n\nt1 \u003d time.time()\nprint(\"load duration\", (t1-t0)/60.0, \"minutes\")"
      ],
      "outputs": [
        {
          "output_type": "stream",
          "text": "loading...\nload duration 10.09039772748947 minutes\n",
          "name": "stdout"
        }
      ]
    },
    {
      "execution_count": 5,
      "cell_type": "code",
      "metadata": {},
      "source": [
        "# copy input datasets\n# this allows us to reset the analysis without having to reload the datasets from the database\nprint(len(NAFCUSTOMER_ACCOUNT_ANNUAL_ACTIVE_CARD_COUNT_df), \"rows in NAFCUSTOMER_ACCOUNT_ANNUAL_ACTIVE_CARD_COUNT\")\ndf_a \u003d NAFCUSTOMER_ACCOUNT_ANNUAL_ACTIVE_CARD_COUNT_df.copy()\n\nprint(len(NAFCUSTOMER_REVENUE_AGGREGATED_df), \"rows in NAFCUSTOMER_REVENUE_AGGREGATED\")\ndf \u003d NAFCUSTOMER_REVENUE_AGGREGATED_df.copy()\n# remove 2023 from the ana\ndf \u003d df[df.REVENUE_YEAR!\u003d2023]\nprint(len(df))\n\n"
      ],
      "outputs": [
        {
          "output_type": "stream",
          "text": "2319568 rows in NAFCUSTOMER_ACCOUNT_ANNUAL_ACTIVE_CARD_COUNT\n18075044 rows in NAFCUSTOMER_REVENUE_AGGREGATED\n17673397\n",
          "name": "stdout"
        }
      ]
    },
    {
      "execution_count": 4,
      "cell_type": "code",
      "metadata": {},
      "source": [
        "# \ndf_revenue_by_customer_and_year \u003d df.groupby([\u0027CUSTOMER_ID\u0027,\u0027CUSTOMER\u0027,\u0027REVENUE_YEAR\u0027]).REVENUE_AMOUNT_USD.sum().reset_index()\nprint(len(df_revenue_by_customer_and_year))\n\ndf_spend_by_customer_and_year \u003d df.groupby([\u0027CUSTOMER_ID\u0027,\u0027CUSTOMER\u0027,\u0027REVENUE_YEAR\u0027]).GROSS_SPEND_AMOUNT.sum().reset_index()\nprint(len(df_spend_by_customer_and_year))\n\ndf_active_card_count_by_customer \u003d df_a.groupby([\u0027CUSTOMER_ID\u0027,\u0027CUSTOMER\u0027,\u0027YEAR_NUMBER\u0027]).ACTIVE_CARD_COUNT.sum().reset_index()\ndf_active_card_count_by_customer.columns \u003d [\u0027CUSTOMER_ID\u0027,\u0027CUSTOMER\u0027,\u0027REVENUE_YEAR\u0027,\u0027ACTIVE_CARD_COUNT\u0027]\nprint(len(df_active_card_count_by_customer))\n\ndf_customer_fleet_size \u003d df_active_card_count_by_customer.groupby([\u0027CUSTOMER_ID\u0027,\u0027CUSTOMER\u0027]).ACTIVE_CARD_COUNT.max().reset_index()\ndf_customer_fleet_size.columns \u003d [\u0027CUSTOMER_ID\u0027, \u0027CUSTOMER\u0027, \u0027FLEET_SIZE\u0027]\nprint(len(df_customer_fleet_size))"
      ],
      "outputs": [
        {
          "output_type": "stream",
          "text": "1777729\n1777729\n1771976\n649448\n",
          "name": "stdout"
        }
      ]
    },
    {
      "execution_count": 0,
      "cell_type": "code",
      "metadata": {},
      "source": [
        ""
      ],
      "outputs": []
    },
    {
      "execution_count": 0,
      "cell_type": "code",
      "metadata": {},
      "source": [
        "# Compute recipe outputs\n# TODO: Write here your actual code that computes the outputs\n# NB: DSS supports several kinds of APIs for reading and writing data. Please see doc.\n\n#RETENTION_RATE_df \u003d ... # Compute a Pandas dataframe to write into RETENTION_RATE\n\n\n# Write recipe outputs\n#RETENTION_RATE \u003d dataiku.Dataset(\"RETENTION_RATE\")\n#RETENTION_RATE.write_with_schema(RETENTION_RATE_df)"
      ],
      "outputs": []
    }
  ]
}