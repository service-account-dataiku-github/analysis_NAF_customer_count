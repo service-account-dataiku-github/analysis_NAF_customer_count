{
  "metadata": {
    "kernelspec": {
      "name": "py-dku-venv-env_clc",
      "display_name": "Python (env env_clc)",
      "language": "python"
    },
    "associatedRecipe": "compute_RETENTION_RATE",
    "dkuGit": {
      "lastInteraction": 0
    },
    "creationTag": {
      "versionNumber": 0,
      "lastModifiedBy": {
        "login": "Daniel.Vandermeer"
      },
      "lastModifiedOn": 1676992327427
    },
    "creator": "Daniel.Vandermeer",
    "createdOn": 1676992327427,
    "tags": [
      "recipe-editor"
    ],
    "customFields": {},
    "hide_input": false,
    "language_info": {
      "name": "python",
      "version": "3.6.8",
      "mimetype": "text/x-python",
      "codemirror_mode": {
        "name": "ipython",
        "version": 3
      },
      "pygments_lexer": "ipython3",
      "nbconvert_exporter": "python",
      "file_extension": ".py"
    },
    "modifiedBy": "Daniel.Vandermeer"
  },
  "nbformat": 4,
  "nbformat_minor": 1,
  "cells": [
    {
      "execution_count": 1,
      "cell_type": "code",
      "metadata": {},
      "source": [
        "# -*- coding: utf-8 -*-\nimport dataiku\nimport pandas as pd, numpy as np\nfrom dataiku import pandasutils as pdu\n\nfrom datetime import date, datetime, timedelta\nimport matplotlib.pyplot as plt\nfrom matplotlib.ticker import FuncFormatter\nimport time\n\nt0 \u003d time.time()\nprint(\"loading...\")\n\n# Read recipe inputs\nNAFCUSTOMER_ACCOUNT_ANNUAL_ACTIVE_CARD_COUNT \u003d dataiku.Dataset(\"NAFCUSTOMER_ACCOUNT_ANNUAL_ACTIVE_CARD_COUNT\")\nNAFCUSTOMER_ACCOUNT_ANNUAL_ACTIVE_CARD_COUNT_df \u003d NAFCUSTOMER_ACCOUNT_ANNUAL_ACTIVE_CARD_COUNT.get_dataframe()\n\nNAFCUSTOMER_REVENUE_AGGREGATED \u003d dataiku.Dataset(\"NAFCUSTOMER_REVENUE_AGGREGATED\")\nNAFCUSTOMER_REVENUE_AGGREGATED_df \u003d NAFCUSTOMER_REVENUE_AGGREGATED.get_dataframe()\n\nt1 \u003d time.time()\nprint(\"load duration\", (t1-t0)/60.0, \"minutes\")"
      ],
      "outputs": [
        {
          "output_type": "stream",
          "text": "loading...\nload duration 10.09039772748947 minutes\n",
          "name": "stdout"
        }
      ]
    },
    {
      "execution_count": 6,
      "cell_type": "code",
      "metadata": {},
      "source": [
        "# copy input datasets\n# this allows us to reset the analysis without having to reload the datasets from the database\nprint(len(NAFCUSTOMER_ACCOUNT_ANNUAL_ACTIVE_CARD_COUNT_df), \"rows in NAFCUSTOMER_ACCOUNT_ANNUAL_ACTIVE_CARD_COUNT\")\ndf_a \u003d NAFCUSTOMER_ACCOUNT_ANNUAL_ACTIVE_CARD_COUNT_df.copy()\n\nprint(len(NAFCUSTOMER_REVENUE_AGGREGATED_df), \"rows in NAFCUSTOMER_REVENUE_AGGREGATED\")\ndf \u003d NAFCUSTOMER_REVENUE_AGGREGATED_df.copy()\n# remove 2023 from the analysis as this is a partial year\ndf \u003d df[df.REVENUE_YEAR!\u003d2023]\nprint(len(df))"
      ],
      "outputs": [
        {
          "output_type": "stream",
          "text": "2319568 rows in NAFCUSTOMER_ACCOUNT_ANNUAL_ACTIVE_CARD_COUNT\n18075044 rows in NAFCUSTOMER_REVENUE_AGGREGATED\n17673397\n",
          "name": "stdout"
        }
      ]
    },
    {
      "execution_count": 4,
      "cell_type": "code",
      "metadata": {},
      "source": [
        "\n# Group sum of revenue by customer and year \ndf_revenue_by_customer_and_year \u003d df.groupby([\u0027CUSTOMER_ID\u0027,\u0027CUSTOMER\u0027,\u0027REVENUE_YEAR\u0027]).REVENUE_AMOUNT_USD.sum().reset_index()\nprint(len(df_revenue_by_customer_and_year))\n\n# Group sum of spend by customer and year\ndf_spend_by_customer_and_year \u003d df.groupby([\u0027CUSTOMER_ID\u0027,\u0027CUSTOMER\u0027,\u0027REVENUE_YEAR\u0027]).GROSS_SPEND_AMOUNT.sum().reset_index()\nprint(len(df_spend_by_customer_and_year))\n\n# Group active card count by customer and year\ndf_active_card_count_by_customer \u003d df_a.groupby([\u0027CUSTOMER_ID\u0027,\u0027CUSTOMER\u0027,\u0027YEAR_NUMBER\u0027]).ACTIVE_CARD_COUNT.sum().reset_index()\ndf_active_card_count_by_customer.columns \u003d [\u0027CUSTOMER_ID\u0027,\u0027CUSTOMER\u0027,\u0027REVENUE_YEAR\u0027,\u0027ACTIVE_CARD_COUNT\u0027]\nprint(len(df_active_card_count_by_customer))\n\n# Assign max active card count year by customer\n# This is the fleet size of the customer\ndf_customer_fleet_size \u003d df_active_card_count_by_customer.groupby([\u0027CUSTOMER_ID\u0027,\u0027CUSTOMER\u0027]).ACTIVE_CARD_COUNT.max().reset_index()\ndf_customer_fleet_size.columns \u003d [\u0027CUSTOMER_ID\u0027, \u0027CUSTOMER\u0027, \u0027FLEET_SIZE\u0027]\nprint(len(df_customer_fleet_size))"
      ],
      "outputs": [
        {
          "output_type": "stream",
          "text": "1777729\n1777729\n1771976\n649448\n",
          "name": "stdout"
        }
      ]
    },
    {
      "execution_count": 7,
      "cell_type": "code",
      "metadata": {},
      "source": [
        "# Join datasets together in order to create combined metrics at customer and year grain\nprint(len(df_revenue_by_customer_and_year))\ndf_j \u003d pd.merge(df_revenue_by_customer_and_year,df_spend_by_customer_and_year,how\u003d\u0027left\u0027,on\u003d[\u0027CUSTOMER_ID\u0027,\u0027CUSTOMER\u0027,\u0027REVENUE_YEAR\u0027])\nprint(len(df_j))\n\ndf_j \u003d pd.merge(df_j,df_active_card_count_by_customer,how\u003d\u0027left\u0027,on\u003d[\u0027CUSTOMER_ID\u0027,\u0027CUSTOMER\u0027,\u0027REVENUE_YEAR\u0027])\nprint(len(df_j))\n\ndf_j \u003d pd.merge(df_j,df_customer_fleet_size, how\u003d\u0027left\u0027,on\u003d[\u0027CUSTOMER_ID\u0027,\u0027CUSTOMER\u0027])\nprint(len(df_j))\n\ndf_j.loc[df_j.ACTIVE_CARD_COUNT.isnull(),\u0027ACTIVE_CARD_COUNT\u0027] \u003d 0\ndf_j.loc[df_j.FLEET_SIZE.isnull(),\u0027FLEET_SIZE\u0027] \u003d 0\n\ndf_j[\u0027FLEET_CATEGORY\u0027] \u003d \u0027NOT SET\u0027\ndf_j.loc[df_j.FLEET_SIZE.between(0,5),\u0027FLEET_CATEGORY\u0027] \u003d \u0027(\u003c\u003d5 cards)\u0027\ndf_j.loc[df_j.FLEET_SIZE.between(6,100),\u0027FLEET_CATEGORY\u0027] \u003d \u0027(between 6 and 100 cards)\u0027\ndf_j.loc[df_j.FLEET_SIZE\u003e50,\u0027FLEET_CATEGORY\u0027] \u003d \u0027(\u003e100 cards)\u0027\ndf_j.head()"
      ],
      "outputs": [
        {
          "output_type": "stream",
          "text": "1777729\n1777729\n1777729\n1777729\n",
          "name": "stdout"
        },
        {
          "output_type": "execute_result",
          "execution_count": 7,
          "data": {
            "text/plain": "   CUSTOMER_ID                       CUSTOMER  REVENUE_YEAR  REVENUE_AMOUNT_USD  GROSS_SPEND_AMOUNT  ACTIVE_CARD_COUNT  FLEET_SIZE             FLEET_CATEGORY\n0   77000000.0               1 AUTO PARTS INC          2019              175.47                0.00                1.0         1.0                (\u003c\u003d5 cards)\n1   77000001.0   94775 J AND J SNACK FOODS AA          2022               74.15             3318.62                3.0         3.0                (\u003c\u003d5 cards)\n2   77000002.0          APOSTROPHE DESIGN INC          2019              177.47             8944.23                4.0         8.0  (between 6 and 100 cards)\n3   77000002.0          APOSTROPHE DESIGN INC          2020              271.60            10358.34                4.0         8.0  (between 6 and 100 cards)\n4   77000002.0          APOSTROPHE DESIGN INC          2021              243.51            13094.44                8.0         8.0  (between 6 and 100 cards)",
            "text/html": "\u003cdiv\u003e\n\u003cstyle scoped\u003e\n    .dataframe tbody tr th:only-of-type {\n        vertical-align: middle;\n    }\n\n    .dataframe tbody tr th {\n        vertical-align: top;\n    }\n\n    .dataframe thead th {\n        text-align: right;\n    }\n\u003c/style\u003e\n\u003ctable border\u003d\"1\" class\u003d\"dataframe\"\u003e\n  \u003cthead\u003e\n    \u003ctr style\u003d\"text-align: right;\"\u003e\n      \u003cth\u003e\u003c/th\u003e\n      \u003cth\u003eCUSTOMER_ID\u003c/th\u003e\n      \u003cth\u003eCUSTOMER\u003c/th\u003e\n      \u003cth\u003eREVENUE_YEAR\u003c/th\u003e\n      \u003cth\u003eREVENUE_AMOUNT_USD\u003c/th\u003e\n      \u003cth\u003eGROSS_SPEND_AMOUNT\u003c/th\u003e\n      \u003cth\u003eACTIVE_CARD_COUNT\u003c/th\u003e\n      \u003cth\u003eFLEET_SIZE\u003c/th\u003e\n      \u003cth\u003eFLEET_CATEGORY\u003c/th\u003e\n    \u003c/tr\u003e\n  \u003c/thead\u003e\n  \u003ctbody\u003e\n    \u003ctr\u003e\n      \u003cth\u003e0\u003c/th\u003e\n      \u003ctd\u003e77000000.0\u003c/td\u003e\n      \u003ctd\u003e1 AUTO PARTS INC\u003c/td\u003e\n      \u003ctd\u003e2019\u003c/td\u003e\n      \u003ctd\u003e175.47\u003c/td\u003e\n      \u003ctd\u003e0.00\u003c/td\u003e\n      \u003ctd\u003e1.0\u003c/td\u003e\n      \u003ctd\u003e1.0\u003c/td\u003e\n      \u003ctd\u003e(\u0026lt;\u003d5 cards)\u003c/td\u003e\n    \u003c/tr\u003e\n    \u003ctr\u003e\n      \u003cth\u003e1\u003c/th\u003e\n      \u003ctd\u003e77000001.0\u003c/td\u003e\n      \u003ctd\u003e94775 J AND J SNACK FOODS AA\u003c/td\u003e\n      \u003ctd\u003e2022\u003c/td\u003e\n      \u003ctd\u003e74.15\u003c/td\u003e\n      \u003ctd\u003e3318.62\u003c/td\u003e\n      \u003ctd\u003e3.0\u003c/td\u003e\n      \u003ctd\u003e3.0\u003c/td\u003e\n      \u003ctd\u003e(\u0026lt;\u003d5 cards)\u003c/td\u003e\n    \u003c/tr\u003e\n    \u003ctr\u003e\n      \u003cth\u003e2\u003c/th\u003e\n      \u003ctd\u003e77000002.0\u003c/td\u003e\n      \u003ctd\u003eAPOSTROPHE DESIGN INC\u003c/td\u003e\n      \u003ctd\u003e2019\u003c/td\u003e\n      \u003ctd\u003e177.47\u003c/td\u003e\n      \u003ctd\u003e8944.23\u003c/td\u003e\n      \u003ctd\u003e4.0\u003c/td\u003e\n      \u003ctd\u003e8.0\u003c/td\u003e\n      \u003ctd\u003e(between 6 and 100 cards)\u003c/td\u003e\n    \u003c/tr\u003e\n    \u003ctr\u003e\n      \u003cth\u003e3\u003c/th\u003e\n      \u003ctd\u003e77000002.0\u003c/td\u003e\n      \u003ctd\u003eAPOSTROPHE DESIGN INC\u003c/td\u003e\n      \u003ctd\u003e2020\u003c/td\u003e\n      \u003ctd\u003e271.60\u003c/td\u003e\n      \u003ctd\u003e10358.34\u003c/td\u003e\n      \u003ctd\u003e4.0\u003c/td\u003e\n      \u003ctd\u003e8.0\u003c/td\u003e\n      \u003ctd\u003e(between 6 and 100 cards)\u003c/td\u003e\n    \u003c/tr\u003e\n    \u003ctr\u003e\n      \u003cth\u003e4\u003c/th\u003e\n      \u003ctd\u003e77000002.0\u003c/td\u003e\n      \u003ctd\u003eAPOSTROPHE DESIGN INC\u003c/td\u003e\n      \u003ctd\u003e2021\u003c/td\u003e\n      \u003ctd\u003e243.51\u003c/td\u003e\n      \u003ctd\u003e13094.44\u003c/td\u003e\n      \u003ctd\u003e8.0\u003c/td\u003e\n      \u003ctd\u003e8.0\u003c/td\u003e\n      \u003ctd\u003e(between 6 and 100 cards)\u003c/td\u003e\n    \u003c/tr\u003e\n  \u003c/tbody\u003e\n\u003c/table\u003e\n\u003c/div\u003e"
          },
          "metadata": {}
        }
      ]
    },
    {
      "execution_count": 10,
      "cell_type": "code",
      "metadata": {},
      "source": [
        "def stacked_bar(series):\n    \n    fig, ax \u003d plt.subplots(1, figsize\u003d(5,3))\n    divider \u003d 1000000\n    \n    max_value \u003d 0\n    bottom \u003d len(df_revenue_by_year.REVENUE_YEAR.unique()) * [0]\n    for idx,s in enumerate(labels):\n        \n        dim1 \u003d list(map(str,df_revenue_by_year[df_revenue_by_year.FLEET_CATEGORY\u003d\u003ds].REVENUE_YEAR))\n        data1 \u003d df_revenue_by_year[df_revenue_by_year.FLEET_CATEGORY\u003d\u003ds].REVENUE_AMOUNT_USD/divider\n    \n        ax.bar(dim1, data1, bottom\u003dbottom, color\u003dcolors[idx])\n        bottom \u003d [sum(i) for i in zip(data1, bottom )] \n    \n    ax.set_xlabel(\u0027YEAR\u0027, fontsize\u003d14)\n    ax.set_ylabel(\u0027REVENUE (M)\u0027, fontsize\u003d14)\n    ax.yaxis.set_major_formatter(FuncFormatter(lambda x, p: format(int(x), \u0027,\u0027)))\n    ax.grid(color\u003d\u0027#95a5a6\u0027, linestyle\u003d\u0027--\u0027, linewidth\u003d1, axis\u003d\u0027y\u0027, alpha\u003d0.6)\n    fig.autofmt_xdate()\n    plt.title(\u0027REVENUE BY FLEET SIZE\u0027)\n    plt.legend(labels, bbox_to_anchor\u003d(1.05,1.0), loc\u003d\u0027upper left\u0027)\n    plt.show()\n    \nseries \u003d [1,2,3,4,5]\ncolors \u003d [\u0027#006BA2\u0027,\u0027#758D99\u0027,\u0027#EBB434\u0027]\nlabels \u003d [\u0027(\u003e100 cards)\u0027,\u0027(between 6 and 100 cards)\u0027,\u0027(\u003c\u003d5 cards)\u0027]\n\ndf_revenue_by_year \u003d df_j.groupby([\u0027REVENUE_YEAR\u0027,\u0027FLEET_CATEGORY\u0027]).REVENUE_AMOUNT_USD.sum().reset_index()\n#f_revenue_by_year.head()\n\nstacked_bar(series)"
      ],
      "outputs": [
        {
          "output_type": "error",
          "ename": "NameError",
          "evalue": "name \u0027FuncFormatter\u0027 is not defined",
          "traceback": [
            "\u001b[0;31m---------------------------------------------------------------------------\u001b[0m",
            "\u001b[0;31mNameError\u001b[0m                                 Traceback (most recent call last)",
            "\u001b[0;32m\u003cipython-input-10-4f54a7ec2c75\u003e\u001b[0m in \u001b[0;36m\u003cmodule\u003e\u001b[0;34m\u001b[0m\n\u001b[1;32m     30\u001b[0m \u001b[0;31m#f_revenue_by_year.head()\u001b[0m\u001b[0;34m\u001b[0m\u001b[0;34m\u001b[0m\u001b[0;34m\u001b[0m\u001b[0m\n\u001b[1;32m     31\u001b[0m \u001b[0;34m\u001b[0m\u001b[0m\n\u001b[0;32m---\u003e 32\u001b[0;31m \u001b[0mstacked_bar\u001b[0m\u001b[0;34m(\u001b[0m\u001b[0mseries\u001b[0m\u001b[0;34m)\u001b[0m\u001b[0;34m\u001b[0m\u001b[0;34m\u001b[0m\u001b[0m\n\u001b[0m",
            "\u001b[0;32m\u003cipython-input-10-4f54a7ec2c75\u003e\u001b[0m in \u001b[0;36mstacked_bar\u001b[0;34m(series)\u001b[0m\n\u001b[1;32m     16\u001b[0m     \u001b[0max\u001b[0m\u001b[0;34m.\u001b[0m\u001b[0mset_xlabel\u001b[0m\u001b[0;34m(\u001b[0m\u001b[0;34m\u0027YEAR\u0027\u001b[0m\u001b[0;34m,\u001b[0m \u001b[0mfontsize\u001b[0m\u001b[0;34m\u003d\u001b[0m\u001b[0;36m14\u001b[0m\u001b[0;34m)\u001b[0m\u001b[0;34m\u001b[0m\u001b[0;34m\u001b[0m\u001b[0m\n\u001b[1;32m     17\u001b[0m     \u001b[0max\u001b[0m\u001b[0;34m.\u001b[0m\u001b[0mset_ylabel\u001b[0m\u001b[0;34m(\u001b[0m\u001b[0;34m\u0027REVENUE (M)\u0027\u001b[0m\u001b[0;34m,\u001b[0m \u001b[0mfontsize\u001b[0m\u001b[0;34m\u003d\u001b[0m\u001b[0;36m14\u001b[0m\u001b[0;34m)\u001b[0m\u001b[0;34m\u001b[0m\u001b[0;34m\u001b[0m\u001b[0m\n\u001b[0;32m---\u003e 18\u001b[0;31m     \u001b[0max\u001b[0m\u001b[0;34m.\u001b[0m\u001b[0myaxis\u001b[0m\u001b[0;34m.\u001b[0m\u001b[0mset_major_formatter\u001b[0m\u001b[0;34m(\u001b[0m\u001b[0mFuncFormatter\u001b[0m\u001b[0;34m(\u001b[0m\u001b[0;32mlambda\u001b[0m \u001b[0mx\u001b[0m\u001b[0;34m,\u001b[0m \u001b[0mp\u001b[0m\u001b[0;34m:\u001b[0m \u001b[0mformat\u001b[0m\u001b[0;34m(\u001b[0m\u001b[0mint\u001b[0m\u001b[0;34m(\u001b[0m\u001b[0mx\u001b[0m\u001b[0;34m)\u001b[0m\u001b[0;34m,\u001b[0m \u001b[0;34m\u0027,\u0027\u001b[0m\u001b[0;34m)\u001b[0m\u001b[0;34m)\u001b[0m\u001b[0;34m)\u001b[0m\u001b[0;34m\u001b[0m\u001b[0;34m\u001b[0m\u001b[0m\n\u001b[0m\u001b[1;32m     19\u001b[0m     \u001b[0max\u001b[0m\u001b[0;34m.\u001b[0m\u001b[0mgrid\u001b[0m\u001b[0;34m(\u001b[0m\u001b[0mcolor\u001b[0m\u001b[0;34m\u003d\u001b[0m\u001b[0;34m\u0027#95a5a6\u0027\u001b[0m\u001b[0;34m,\u001b[0m \u001b[0mlinestyle\u001b[0m\u001b[0;34m\u003d\u001b[0m\u001b[0;34m\u0027--\u0027\u001b[0m\u001b[0;34m,\u001b[0m \u001b[0mlinewidth\u001b[0m\u001b[0;34m\u003d\u001b[0m\u001b[0;36m1\u001b[0m\u001b[0;34m,\u001b[0m \u001b[0maxis\u001b[0m\u001b[0;34m\u003d\u001b[0m\u001b[0;34m\u0027y\u0027\u001b[0m\u001b[0;34m,\u001b[0m \u001b[0malpha\u001b[0m\u001b[0;34m\u003d\u001b[0m\u001b[0;36m0.6\u001b[0m\u001b[0;34m)\u001b[0m\u001b[0;34m\u001b[0m\u001b[0;34m\u001b[0m\u001b[0m\n\u001b[1;32m     20\u001b[0m     \u001b[0mfig\u001b[0m\u001b[0;34m.\u001b[0m\u001b[0mautofmt_xdate\u001b[0m\u001b[0;34m(\u001b[0m\u001b[0;34m)\u001b[0m\u001b[0;34m\u001b[0m\u001b[0;34m\u001b[0m\u001b[0m\n",
            "\u001b[0;31mNameError\u001b[0m: name \u0027FuncFormatter\u0027 is not defined"
          ]
        },
        {
          "output_type": "display_data",
          "data": {
            "text/plain": "\u003cFigure size 360x216 with 1 Axes\u003e",
            "image/png": "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\u003d\n"
          },
          "metadata": {}
        }
      ]
    },
    {
      "execution_count": 0,
      "cell_type": "code",
      "metadata": {},
      "source": [
        "# Compute recipe outputs\n# TODO: Write here your actual code that computes the outputs\n# NB: DSS supports several kinds of APIs for reading and writing data. Please see doc.\n\n#RETENTION_RATE_df \u003d ... # Compute a Pandas dataframe to write into RETENTION_RATE\n\n\n# Write recipe outputs\n#RETENTION_RATE \u003d dataiku.Dataset(\"RETENTION_RATE\")\n#RETENTION_RATE.write_with_schema(RETENTION_RATE_df)"
      ],
      "outputs": []
    }
  ]
}