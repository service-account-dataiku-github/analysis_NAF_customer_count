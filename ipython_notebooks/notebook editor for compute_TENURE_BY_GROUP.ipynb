{
  "metadata": {
    "kernelspec": {
      "name": "py-dku-venv-env_clc",
      "display_name": "Python (env env_clc)",
      "language": "python"
    },
    "associatedRecipe": "compute_TENURE_BY_GROUP",
    "creator": "Daniel.Vandermeer",
    "createdOn": 1676549065834,
    "tags": [
      "recipe-editor"
    ],
    "customFields": {},
    "hide_input": false,
    "language_info": {
      "name": "python",
      "version": "3.6.8",
      "mimetype": "text/x-python",
      "codemirror_mode": {
        "name": "ipython",
        "version": 3
      },
      "pygments_lexer": "ipython3",
      "nbconvert_exporter": "python",
      "file_extension": ".py"
    },
    "modifiedBy": "Daniel.Vandermeer"
  },
  "nbformat": 4,
  "nbformat_minor": 1,
  "cells": [
    {
      "execution_count": 1,
      "cell_type": "code",
      "metadata": {},
      "source": [
        "# -*- coding: utf-8 -*-\nimport dataiku\nimport pandas as pd, numpy as np\nfrom dataiku import pandasutils as pdu\n\nimport matplotlib.pyplot as plt\n\n# ***************************************\n#\n# This function calculates and observes retention rates for 2019-2023\n# and then forecasts retention rates for 2023-2035\n# and then uses the 2019-2035 retention rates to estimate EXEPECTED/AVG RETENTION\n#\n# Input Data Set to this function:\n# NAFCUSTOMER_REVENUE_AGGREGATED\n# Each row represents one customer per year/month\n# dimensions: customer name, setup date, BI_CUS_PAR, BI_PRODUCT, BI_MRU\n# measures: revenue, spend, gallons, active cards and outstanding cards\n#\n# **************************************\n#\n# The data going into this step is defined in the follopwing Input View:\n#\n#  CREATE VIEW DATAIKU_ANALYTICS_SUB.DATA_SCIENCE.NAFCUSTOMER_REVENUE_AGGREGATED\n#  AS\n#  SELECT\n#  CUSTOMER_ID,\n#  CUSTOMER,\n#  YEAR(REVENUE_DATE) as REVENUE_YEAR,\n#  MONTH(REVENUE_DATE) as REVENUE_MONTH,\n#  MIN(SETUP_DATE) AS SETUP_DATE,\n#  MIN(BI_CUS_PAR) as BI_CUS_PAR,\n#  MIN(BI_PRODUCT) as BI_PRODUCT,\n#  MIN(BI_MRU) as BI_MRU,\n#  SUM(REVENUE_AMOUNT_USD) as REVENUE_AMOUNT_USD,\n#  SUM(GROSS_SPEND_AMOUNT) as GROSS_SPEND_AMOUNT,\n#  SUM(PURCHASE_GALLONS_QTY) PURCHASE_GALLONS_QTY,\n#  SUM(TOTAL_ACTIVE_CARD_COUNT) as TOTAL_ACTIVE_CARD_COUNT\n#  FROM DATAIKU_ANALYTICS_SUB.DATA_SCIENCE.NAFCUSTOMER_REVENUE\n#  WHERE (FUNDED_BY IS NULL OR FUNDED_BY\u003d\u0027Unknown\u0027 OR FUNDED_BY\u003d\u0027WEX Funded\u0027)\n#  AND (NOT((REVENUE_CODE\u003d\u002726\u0027) AND (CUSTOMER_ID IS NULL)))\n#  AND (NOT((REVENUE_CODE\u003d\u0027E8\u0027) AND (CUSTOMER_ID IS NULL)))\n#  GROUP BY 1,2,3,4\n#\n# ***************************************\n\nfrom datetime import date, datetime, timedelta\nimport time\n\nt0 \u003d time.time()\n\n# Read recipe inputs\nNAFCUSTOMER_REVENUE_AGGREGATED \u003d dataiku.Dataset(\"NAFCUSTOMER_REVENUE_AGGREGATED\")\nNAFCUSTOMER_REVENUE_AGGREGATED_df \u003d NAFCUSTOMER_REVENUE_AGGREGATED.get_dataframe()\n\nt1 \u003d time.time()\nprint(\"load duration\", (t1-t0)/60.0, \"minutes\")\n\nprint(len(NAFCUSTOMER_REVENUE_AGGREGATED_df))\nNAFCUSTOMER_REVENUE_AGGREGATED_df.head()"
      ],
      "outputs": [
        {
          "output_type": "stream",
          "text": "load duration 6.088521635532379 minutes\n18075044\n",
          "name": "stdout"
        },
        {
          "output_type": "execute_result",
          "execution_count": 1,
          "data": {
            "text/plain": "   CUSTOMER_ID                      CUSTOMER  REVENUE_YEAR  REVENUE_MONTH                SETUP_DATE  BI_CUS_PAR  BI_PRODUCT  BI_MRU  REVENUE_AMOUNT_USD  GROSS_SPEND_AMOUNT  PURCHASE_GALLONS_QTY  TOTAL_ACTIVE_CARD_COUNT\n0   77244476.0  GATORS LAWN  LANDSCAPING SVC          2021             11 2017-03-31 07:00:00+00:00     51200.0     15308.0  4120.0            0.000000                0.00                0.0000                      0.0\n1   77532829.0       SIECK WHOLESALE FLORIST          2021             10 2001-08-22 07:00:00+00:00     51000.0     10100.0  3100.0          371.760000             7747.75             2319.4830                     14.0\n2   77385040.0      MAYWOOD CHURCH OF CHRIST          2019              4 2010-10-14 07:00:00+00:00     13000.0     15100.0  4000.0           21.290000              108.90               31.7740                      1.0\n3   77561771.0            SUN ON FOOD CO LTD          2021              8 2011-11-11 08:00:00+00:00     20800.0     15100.0  4000.0           22.630000             2285.22              573.8035                      4.0\n4   77308677.0        JAKE KAUFFMAN  SON INC          2021              1 2011-12-01 08:00:00+00:00     30400.0     15308.0  4120.0            1.304844               40.05               17.2020                      1.0",
            "text/html": "\u003cdiv\u003e\n\u003cstyle scoped\u003e\n    .dataframe tbody tr th:only-of-type {\n        vertical-align: middle;\n    }\n\n    .dataframe tbody tr th {\n        vertical-align: top;\n    }\n\n    .dataframe thead th {\n        text-align: right;\n    }\n\u003c/style\u003e\n\u003ctable border\u003d\"1\" class\u003d\"dataframe\"\u003e\n  \u003cthead\u003e\n    \u003ctr style\u003d\"text-align: right;\"\u003e\n      \u003cth\u003e\u003c/th\u003e\n      \u003cth\u003eCUSTOMER_ID\u003c/th\u003e\n      \u003cth\u003eCUSTOMER\u003c/th\u003e\n      \u003cth\u003eREVENUE_YEAR\u003c/th\u003e\n      \u003cth\u003eREVENUE_MONTH\u003c/th\u003e\n      \u003cth\u003eSETUP_DATE\u003c/th\u003e\n      \u003cth\u003eBI_CUS_PAR\u003c/th\u003e\n      \u003cth\u003eBI_PRODUCT\u003c/th\u003e\n      \u003cth\u003eBI_MRU\u003c/th\u003e\n      \u003cth\u003eREVENUE_AMOUNT_USD\u003c/th\u003e\n      \u003cth\u003eGROSS_SPEND_AMOUNT\u003c/th\u003e\n      \u003cth\u003ePURCHASE_GALLONS_QTY\u003c/th\u003e\n      \u003cth\u003eTOTAL_ACTIVE_CARD_COUNT\u003c/th\u003e\n    \u003c/tr\u003e\n  \u003c/thead\u003e\n  \u003ctbody\u003e\n    \u003ctr\u003e\n      \u003cth\u003e0\u003c/th\u003e\n      \u003ctd\u003e77244476.0\u003c/td\u003e\n      \u003ctd\u003eGATORS LAWN  LANDSCAPING SVC\u003c/td\u003e\n      \u003ctd\u003e2021\u003c/td\u003e\n      \u003ctd\u003e11\u003c/td\u003e\n      \u003ctd\u003e2017-03-31 07:00:00+00:00\u003c/td\u003e\n      \u003ctd\u003e51200.0\u003c/td\u003e\n      \u003ctd\u003e15308.0\u003c/td\u003e\n      \u003ctd\u003e4120.0\u003c/td\u003e\n      \u003ctd\u003e0.000000\u003c/td\u003e\n      \u003ctd\u003e0.00\u003c/td\u003e\n      \u003ctd\u003e0.0000\u003c/td\u003e\n      \u003ctd\u003e0.0\u003c/td\u003e\n    \u003c/tr\u003e\n    \u003ctr\u003e\n      \u003cth\u003e1\u003c/th\u003e\n      \u003ctd\u003e77532829.0\u003c/td\u003e\n      \u003ctd\u003eSIECK WHOLESALE FLORIST\u003c/td\u003e\n      \u003ctd\u003e2021\u003c/td\u003e\n      \u003ctd\u003e10\u003c/td\u003e\n      \u003ctd\u003e2001-08-22 07:00:00+00:00\u003c/td\u003e\n      \u003ctd\u003e51000.0\u003c/td\u003e\n      \u003ctd\u003e10100.0\u003c/td\u003e\n      \u003ctd\u003e3100.0\u003c/td\u003e\n      \u003ctd\u003e371.760000\u003c/td\u003e\n      \u003ctd\u003e7747.75\u003c/td\u003e\n      \u003ctd\u003e2319.4830\u003c/td\u003e\n      \u003ctd\u003e14.0\u003c/td\u003e\n    \u003c/tr\u003e\n    \u003ctr\u003e\n      \u003cth\u003e2\u003c/th\u003e\n      \u003ctd\u003e77385040.0\u003c/td\u003e\n      \u003ctd\u003eMAYWOOD CHURCH OF CHRIST\u003c/td\u003e\n      \u003ctd\u003e2019\u003c/td\u003e\n      \u003ctd\u003e4\u003c/td\u003e\n      \u003ctd\u003e2010-10-14 07:00:00+00:00\u003c/td\u003e\n      \u003ctd\u003e13000.0\u003c/td\u003e\n      \u003ctd\u003e15100.0\u003c/td\u003e\n      \u003ctd\u003e4000.0\u003c/td\u003e\n      \u003ctd\u003e21.290000\u003c/td\u003e\n      \u003ctd\u003e108.90\u003c/td\u003e\n      \u003ctd\u003e31.7740\u003c/td\u003e\n      \u003ctd\u003e1.0\u003c/td\u003e\n    \u003c/tr\u003e\n    \u003ctr\u003e\n      \u003cth\u003e3\u003c/th\u003e\n      \u003ctd\u003e77561771.0\u003c/td\u003e\n      \u003ctd\u003eSUN ON FOOD CO LTD\u003c/td\u003e\n      \u003ctd\u003e2021\u003c/td\u003e\n      \u003ctd\u003e8\u003c/td\u003e\n      \u003ctd\u003e2011-11-11 08:00:00+00:00\u003c/td\u003e\n      \u003ctd\u003e20800.0\u003c/td\u003e\n      \u003ctd\u003e15100.0\u003c/td\u003e\n      \u003ctd\u003e4000.0\u003c/td\u003e\n      \u003ctd\u003e22.630000\u003c/td\u003e\n      \u003ctd\u003e2285.22\u003c/td\u003e\n      \u003ctd\u003e573.8035\u003c/td\u003e\n      \u003ctd\u003e4.0\u003c/td\u003e\n    \u003c/tr\u003e\n    \u003ctr\u003e\n      \u003cth\u003e4\u003c/th\u003e\n      \u003ctd\u003e77308677.0\u003c/td\u003e\n      \u003ctd\u003eJAKE KAUFFMAN  SON INC\u003c/td\u003e\n      \u003ctd\u003e2021\u003c/td\u003e\n      \u003ctd\u003e1\u003c/td\u003e\n      \u003ctd\u003e2011-12-01 08:00:00+00:00\u003c/td\u003e\n      \u003ctd\u003e30400.0\u003c/td\u003e\n      \u003ctd\u003e15308.0\u003c/td\u003e\n      \u003ctd\u003e4120.0\u003c/td\u003e\n      \u003ctd\u003e1.304844\u003c/td\u003e\n      \u003ctd\u003e40.05\u003c/td\u003e\n      \u003ctd\u003e17.2020\u003c/td\u003e\n      \u003ctd\u003e1.0\u003c/td\u003e\n    \u003c/tr\u003e\n  \u003c/tbody\u003e\n\u003c/table\u003e\n\u003c/div\u003e"
          },
          "metadata": {}
        }
      ]
    },
    {
      "execution_count": 2,
      "cell_type": "code",
      "metadata": {},
      "source": [
        "# create a copy of the input dataset\n# this leaves the original dataset in memory and allows for a quick reload without having to back to Snowflake\n\nprint(len(NAFCUSTOMER_REVENUE_AGGREGATED_df), \"rows in NAFCUSTOMER_REVENUE_AGGREGATED\")\ndf \u003d NAFCUSTOMER_REVENUE_AGGREGATED_df.copy()"
      ],
      "outputs": [
        {
          "output_type": "stream",
          "text": "18075044 rows in NAFCUSTOMER_REVENUE_AGGREGATED\n",
          "name": "stdout"
        }
      ]
    },
    {
      "execution_count": 3,
      "cell_type": "code",
      "metadata": {},
      "source": [
        "# Prep data\n#\n# cast year to integer and create a revenue date column using month and year\n#\n\ndf[\u0027CUSTOMER_ID\u0027] \u003d df[\u0027CUSTOMER_ID\u0027].astype(\u0027Int64\u0027)\ndf[\u0027SETUP_DATE_DT\u0027] \u003d pd.to_datetime(df[\u0027SETUP_DATE\u0027])\ndf[\u0027SETUP_YEAR\u0027] \u003d df.SETUP_DATE_DT.dt.year\n\ndf[\u0027REVENUE_YEAR\u0027] \u003d df[\u0027REVENUE_YEAR\u0027].astype(\u0027Int64\u0027)\ndf[\u0027REVENUE_DATE\u0027] \u003d df[\u0027REVENUE_MONTH\u0027].astype(str) + \u0027-\u0027 + df[\u0027REVENUE_YEAR\u0027].astype(str)\ndf[\u0027REVENUE_DATE\u0027] \u003d pd.to_datetime(df[\u0027REVENUE_DATE\u0027], format\u003d\u0027%m-%Y\u0027).dt.strftime(\u0027%m-%Y\u0027)\n\n#\n# filter out Jan 2023 as it represents only a partial year\n#\n\nprint(len(df), \"before filter\")\ndf \u003d df[df.REVENUE_YEAR!\u003d2023]\nprint(len(df), \"after filter, removing 2023\")\n\n# break down of revenue_year\ndf.REVENUE_YEAR.value_counts()"
      ],
      "outputs": [
        {
          "output_type": "stream",
          "text": "18075044 before filter\n17673397 after filter, removing 2023\n",
          "name": "stdout"
        },
        {
          "output_type": "execute_result",
          "execution_count": 3,
          "data": {
            "text/plain": "2022    4836440\n2021    4517640\n2020    4243565\n2019    4075752\nName: REVENUE_YEAR, dtype: Int64"
          },
          "metadata": {}
        }
      ]
    },
    {
      "execution_count": 5,
      "cell_type": "code",
      "metadata": {},
      "source": [
        "import matplotlib.dates as mdates\nfrom matplotlib.ticker import FuncFormatter\n\n# plot out sum of revenue per year\n# in order to do a quick reonciliation against \n\n# aggregate revenue at annual grain\ndf_revenue_per_year \u003d df.groupby([\u0027REVENUE_YEAR\u0027]).REVENUE_AMOUNT_USD.sum().reset_index()\ndf_revenue_per_year.REVENUE_AMOUNT_USD \u003d df_revenue_per_year.REVENUE_AMOUNT_USD/1000000\ndf_revenue_per_year.head()\n\nmax_revenue \u003d df_revenue_per_year.REVENUE_AMOUNT_USD.max()\n\nchart_revenue_year \u003d [] \nfor y in df_revenue_per_year.REVENUE_YEAR.tolist():\n    chart_revenue_year.append(str(y))\n    \nfig, ax1 \u003d plt.subplots(figsize\u003d(8,3))\nax1.plot(chart_revenue_year,df_revenue_per_year[\u0027REVENUE_AMOUNT_USD\u0027], marker\u003d\u0027o\u0027)\nax1.set_xlabel(\u0027YEAR\u0027, fontsize\u003d14)\nax1.set_ylabel(\u0027REVENUE (M)\u0027, fontsize\u003d14)\nax1.grid()\nax1.set_ylim(ymin\u003d0, ymax\u003dmax_revenue*1.15)\nax1.yaxis.set_major_formatter(FuncFormatter(lambda x, p: format(int(x), \u0027,\u0027)))\nfig.autofmt_xdate()\n#ax1.xaxis.set_major_locator(mdates.YearLocator())\nplt.show()\n\ndf_revenue_per_year.head()"
      ],
      "outputs": [
        {
          "output_type": "display_data",
          "data": {
            "text/plain": "\u003cFigure size 576x216 with 1 Axes\u003e",
            "image/png": "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\u003d\n"
          },
          "metadata": {}
        },
        {
          "output_type": "execute_result",
          "execution_count": 5,
          "data": {
            "text/plain": "   REVENUE_YEAR  REVENUE_AMOUNT_USD\n0          2019          611.886394\n1          2020          508.936503\n2          2021          633.153609\n3          2022          883.299242",
            "text/html": "\u003cdiv\u003e\n\u003cstyle scoped\u003e\n    .dataframe tbody tr th:only-of-type {\n        vertical-align: middle;\n    }\n\n    .dataframe tbody tr th {\n        vertical-align: top;\n    }\n\n    .dataframe thead th {\n        text-align: right;\n    }\n\u003c/style\u003e\n\u003ctable border\u003d\"1\" class\u003d\"dataframe\"\u003e\n  \u003cthead\u003e\n    \u003ctr style\u003d\"text-align: right;\"\u003e\n      \u003cth\u003e\u003c/th\u003e\n      \u003cth\u003eREVENUE_YEAR\u003c/th\u003e\n      \u003cth\u003eREVENUE_AMOUNT_USD\u003c/th\u003e\n    \u003c/tr\u003e\n  \u003c/thead\u003e\n  \u003ctbody\u003e\n    \u003ctr\u003e\n      \u003cth\u003e0\u003c/th\u003e\n      \u003ctd\u003e2019\u003c/td\u003e\n      \u003ctd\u003e611.886394\u003c/td\u003e\n    \u003c/tr\u003e\n    \u003ctr\u003e\n      \u003cth\u003e1\u003c/th\u003e\n      \u003ctd\u003e2020\u003c/td\u003e\n      \u003ctd\u003e508.936503\u003c/td\u003e\n    \u003c/tr\u003e\n    \u003ctr\u003e\n      \u003cth\u003e2\u003c/th\u003e\n      \u003ctd\u003e2021\u003c/td\u003e\n      \u003ctd\u003e633.153609\u003c/td\u003e\n    \u003c/tr\u003e\n    \u003ctr\u003e\n      \u003cth\u003e3\u003c/th\u003e\n      \u003ctd\u003e2022\u003c/td\u003e\n      \u003ctd\u003e883.299242\u003c/td\u003e\n    \u003c/tr\u003e\n  \u003c/tbody\u003e\n\u003c/table\u003e\n\u003c/div\u003e"
          },
          "metadata": {}
        }
      ]
    },
    {
      "execution_count": 7,
      "cell_type": "code",
      "metadata": {},
      "source": [
        "df_customer_monthly_card_count \u003d df.groupby([\u0027CUSTOMER_ID\u0027,\u0027REVENUE_DATE\u0027]).TOTAL_ACTIVE_CARD_COUNT.sum().reset_index()\n\ndf_customer_max_monthly_card_sum \u003d df.groupby([\u0027CUSTOMER_ID\u0027]).TOTAL_ACTIVE_CARD_COUNT.max().reset_index()\ndf_customer_max_monthly_card_sum[\u0027CUSTOMER_FLEET_SIZE\u0027] \u003d \u0027NOT SET\u0027\ndf_customer_max_monthly_card_sum.loc[df_customer_max_monthly_card_sum[\"TOTAL_ACTIVE_CARD_COUNT\"]\u003e1700,\u0027CUSTOMER_FLEET_SIZE\u0027] \u003d \"XL (\u003e1700 Cards)\"\ndf_customer_max_monthly_card_sum.loc[(df_customer_max_monthly_card_sum[\"TOTAL_ACTIVE_CARD_COUNT\"]\u003e115)\u0026(df_customer_max_monthly_card_sum[\"TOTAL_ACTIVE_CARD_COUNT\"]\u003c\u003d1700),\u0027CUSTOMER_FLEET_SIZE\u0027] \u003d \"L (\u003e115 and \u003c\u003d1700 Cards)\"\ndf_customer_max_monthly_card_sum.loc[(df_customer_max_monthly_card_sum[\"TOTAL_ACTIVE_CARD_COUNT\"]\u003e21)\u0026(df_customer_max_monthly_card_sum[\"TOTAL_ACTIVE_CARD_COUNT\"]\u003c\u003d115),\u0027CUSTOMER_FLEET_SIZE\u0027] \u003d \"M (\u003e21 and \u003c\u003d115 Cards)\"\ndf_customer_max_monthly_card_sum.loc[(df_customer_max_monthly_card_sum[\"TOTAL_ACTIVE_CARD_COUNT\"]\u003c\u003d21),\u0027CUSTOMER_FLEET_SIZE\u0027] \u003d \"S (\u003c\u003d21 Cards)\"\ndf_customer_max_monthly_card_sum.loc[(df_customer_max_monthly_card_sum[\"TOTAL_ACTIVE_CARD_COUNT\"]\u003d\u003d0),\u0027CUSTOMER_FLEET_SIZE\u0027] \u003d \"No Cards\"\ndf_customer_max_monthly_card_sum.loc[df_customer_max_monthly_card_sum[\"TOTAL_ACTIVE_CARD_COUNT\"].isnull(),\u0027CUSTOMER_FLEET_SIZE\u0027] \u003d \"No Cards\"\n\ndf_customer_max_monthly_card_sum.CUSTOMER_FLEET_SIZE.value_counts(dropna\u003dFalse)"
      ],
      "outputs": [
        {
          "output_type": "execute_result",
          "execution_count": 7,
          "data": {
            "text/plain": "S (\u003c\u003d21 Cards)               521977\nNo Cards                      80904\nM (\u003e21 and \u003c\u003d115 Cards)       40936\nL (\u003e115 and \u003c\u003d1700 Cards)      6735\nXL (\u003e1700 Cards)                334\nName: CUSTOMER_FLEET_SIZE, dtype: int64"
          },
          "metadata": {}
        }
      ]
    },
    {
      "execution_count": 36,
      "cell_type": "code",
      "metadata": {},
      "source": [
        "# Fleet Sizes\n# zero cards : 0\n# small      : 1-20\n# medium     : 21-114\n# large      : 115-1700\n# X-Large    : \u003e 1700\n\ndf_monthly_card_count \u003d df.groupby([\u0027CUSTOMER_ID\u0027,\u0027REVENUE_DATE\u0027]).TOTAL_ACTIVE_CARD_COUNT.sum().reset_index()\ndf_max_monthly_card_count \u003d df_monthly_card_count.groupby([\u0027CUSTOMER_ID\u0027]).TOTAL_ACTIVE_CARD_COUNT.max().reset_index()\n\ndf_max_monthly_card_count.TOTAL_ACTIVE_CARD_COUNT \u003d df_max_monthly_card_count.TOTAL_ACTIVE_CARD_COUNT.astype(\u0027Int64\u0027)\n\ndf_max_monthly_card_count[\u0027FLEET_SIZE\u0027] \u003d \u0027not set\u0027\ndf_max_monthly_card_count.loc[df_max_monthly_card_count.TOTAL_ACTIVE_CARD_COUNT\u003c\u003d0,\u0027FLEET_SIZE\u0027] \u003d \u0027zero cards\u0027\ndf_max_monthly_card_count.loc[df_max_monthly_card_count.TOTAL_ACTIVE_CARD_COUNT.between(1,20),\u0027FLEET_SIZE\u0027] \u003d \u0027small 1-20\u0027\ndf_max_monthly_card_count.loc[df_max_monthly_card_count.TOTAL_ACTIVE_CARD_COUNT.between(21,114),\u0027FLEET_SIZE\u0027] \u003d \u0027medium 21-114\u0027\ndf_max_monthly_card_count.loc[df_max_monthly_card_count.TOTAL_ACTIVE_CARD_COUNT.between(115,1700),\u0027FLEET_SIZE\u0027] \u003d \u0027large 115-1700\u0027\ndf_max_monthly_card_count.loc[df_max_monthly_card_count.TOTAL_ACTIVE_CARD_COUNT\u003e1700,\u0027FLEET_SIZE\u0027] \u003d \u0027extra large \u003e1700\u0027\n\ndf_max_monthly_card_count.head()"
      ],
      "outputs": [
        {
          "output_type": "execute_result",
          "execution_count": 36,
          "data": {
            "text/plain": "   CUSTOMER_ID  TOTAL_ACTIVE_CARD_COUNT     FLEET_SIZE\n0     77000000                        0     zero cards\n1     77000001                        2     small 1-20\n2     77000002                        3     small 1-20\n3     77000003                       21  medium 21-114\n4     77000004                        2     small 1-20",
            "text/html": "\u003cdiv\u003e\n\u003cstyle scoped\u003e\n    .dataframe tbody tr th:only-of-type {\n        vertical-align: middle;\n    }\n\n    .dataframe tbody tr th {\n        vertical-align: top;\n    }\n\n    .dataframe thead th {\n        text-align: right;\n    }\n\u003c/style\u003e\n\u003ctable border\u003d\"1\" class\u003d\"dataframe\"\u003e\n  \u003cthead\u003e\n    \u003ctr style\u003d\"text-align: right;\"\u003e\n      \u003cth\u003e\u003c/th\u003e\n      \u003cth\u003eCUSTOMER_ID\u003c/th\u003e\n      \u003cth\u003eTOTAL_ACTIVE_CARD_COUNT\u003c/th\u003e\n      \u003cth\u003eFLEET_SIZE\u003c/th\u003e\n    \u003c/tr\u003e\n  \u003c/thead\u003e\n  \u003ctbody\u003e\n    \u003ctr\u003e\n      \u003cth\u003e0\u003c/th\u003e\n      \u003ctd\u003e77000000\u003c/td\u003e\n      \u003ctd\u003e0\u003c/td\u003e\n      \u003ctd\u003ezero cards\u003c/td\u003e\n    \u003c/tr\u003e\n    \u003ctr\u003e\n      \u003cth\u003e1\u003c/th\u003e\n      \u003ctd\u003e77000001\u003c/td\u003e\n      \u003ctd\u003e2\u003c/td\u003e\n      \u003ctd\u003esmall 1-20\u003c/td\u003e\n    \u003c/tr\u003e\n    \u003ctr\u003e\n      \u003cth\u003e2\u003c/th\u003e\n      \u003ctd\u003e77000002\u003c/td\u003e\n      \u003ctd\u003e3\u003c/td\u003e\n      \u003ctd\u003esmall 1-20\u003c/td\u003e\n    \u003c/tr\u003e\n    \u003ctr\u003e\n      \u003cth\u003e3\u003c/th\u003e\n      \u003ctd\u003e77000003\u003c/td\u003e\n      \u003ctd\u003e21\u003c/td\u003e\n      \u003ctd\u003emedium 21-114\u003c/td\u003e\n    \u003c/tr\u003e\n    \u003ctr\u003e\n      \u003cth\u003e4\u003c/th\u003e\n      \u003ctd\u003e77000004\u003c/td\u003e\n      \u003ctd\u003e2\u003c/td\u003e\n      \u003ctd\u003esmall 1-20\u003c/td\u003e\n    \u003c/tr\u003e\n  \u003c/tbody\u003e\n\u003c/table\u003e\n\u003c/div\u003e"
          },
          "metadata": {}
        }
      ]
    },
    {
      "execution_count": 43,
      "cell_type": "code",
      "metadata": {},
      "source": [
        "df_customer_min_setup \u003d df.groupby([\u0027CUSTOMER_ID\u0027]).SETUP_DATE.dt.year.min().reset_index()\ndf_customer_min_setup.head()"
      ],
      "outputs": [
        {
          "output_type": "error",
          "ename": "AttributeError",
          "evalue": "\u0027SeriesGroupBy\u0027 object has no attribute \u0027dt\u0027",
          "traceback": [
            "\u001b[0;31m---------------------------------------------------------------------------\u001b[0m",
            "\u001b[0;31mAttributeError\u001b[0m                            Traceback (most recent call last)",
            "\u001b[0;32m\u003cipython-input-43-98b2ab9624af\u003e\u001b[0m in \u001b[0;36m\u003cmodule\u003e\u001b[0;34m\u001b[0m\n\u001b[0;32m----\u003e 1\u001b[0;31m \u001b[0mdf_customer_min_setup\u001b[0m \u001b[0;34m\u003d\u001b[0m \u001b[0mdf\u001b[0m\u001b[0;34m.\u001b[0m\u001b[0mgroupby\u001b[0m\u001b[0;34m(\u001b[0m\u001b[0;34m[\u001b[0m\u001b[0;34m\u0027CUSTOMER_ID\u0027\u001b[0m\u001b[0;34m]\u001b[0m\u001b[0;34m)\u001b[0m\u001b[0;34m.\u001b[0m\u001b[0mSETUP_DATE\u001b[0m\u001b[0;34m.\u001b[0m\u001b[0mdt\u001b[0m\u001b[0;34m.\u001b[0m\u001b[0myear\u001b[0m\u001b[0;34m.\u001b[0m\u001b[0mmin\u001b[0m\u001b[0;34m(\u001b[0m\u001b[0;34m)\u001b[0m\u001b[0;34m.\u001b[0m\u001b[0mreset_index\u001b[0m\u001b[0;34m(\u001b[0m\u001b[0;34m)\u001b[0m\u001b[0;34m\u001b[0m\u001b[0;34m\u001b[0m\u001b[0m\n\u001b[0m\u001b[1;32m      2\u001b[0m \u001b[0mdf_customer_min_setup\u001b[0m\u001b[0;34m.\u001b[0m\u001b[0mhead\u001b[0m\u001b[0;34m(\u001b[0m\u001b[0;34m)\u001b[0m\u001b[0;34m\u001b[0m\u001b[0;34m\u001b[0m\u001b[0m\n",
            "\u001b[0;32m/data/dataiku/dss_data/code-envs/python/env_clc/lib64/python3.6/site-packages/pandas/core/groupby/groupby.py\u001b[0m in \u001b[0;36m__getattr__\u001b[0;34m(self, attr)\u001b[0m\n\u001b[1;32m    579\u001b[0m \u001b[0;34m\u001b[0m\u001b[0m\n\u001b[1;32m    580\u001b[0m         raise AttributeError(\n\u001b[0;32m--\u003e 581\u001b[0;31m             \u001b[0;34mf\"\u0027{type(self).__name__}\u0027 object has no attribute \u0027{attr}\u0027\"\u001b[0m\u001b[0;34m\u001b[0m\u001b[0;34m\u001b[0m\u001b[0m\n\u001b[0m\u001b[1;32m    582\u001b[0m         )\n\u001b[1;32m    583\u001b[0m \u001b[0;34m\u001b[0m\u001b[0m\n",
            "\u001b[0;31mAttributeError\u001b[0m: \u0027SeriesGroupBy\u0027 object has no attribute \u0027dt\u0027"
          ]
        }
      ]
    },
    {
      "execution_count": 38,
      "cell_type": "code",
      "metadata": {},
      "source": [
        "df_fleet_size_customer_count \u003d df_max_monthly_card_count.groupby([\u0027FLEET_SIZE\u0027]).CUSTOMER_ID.nunique().reset_index()\ndf_fleet_size_customer_count.columns \u003d [\u0027FLEET_SIZE\u0027, \u0027CUSTOMER_COUNT\u0027]\ndf_fleet_size_customer_count.head()"
      ],
      "outputs": [
        {
          "output_type": "execute_result",
          "execution_count": 38,
          "data": {
            "text/plain": "          FLEET_SIZE  CUSTOMER_COUNT\n0  extra large \u003e1700             334\n1     large 115-1700            6804\n2      medium 21-114           43359\n3         small 1-20          519485\n4         zero cards           80904",
            "text/html": "\u003cdiv\u003e\n\u003cstyle scoped\u003e\n    .dataframe tbody tr th:only-of-type {\n        vertical-align: middle;\n    }\n\n    .dataframe tbody tr th {\n        vertical-align: top;\n    }\n\n    .dataframe thead th {\n        text-align: right;\n    }\n\u003c/style\u003e\n\u003ctable border\u003d\"1\" class\u003d\"dataframe\"\u003e\n  \u003cthead\u003e\n    \u003ctr style\u003d\"text-align: right;\"\u003e\n      \u003cth\u003e\u003c/th\u003e\n      \u003cth\u003eFLEET_SIZE\u003c/th\u003e\n      \u003cth\u003eCUSTOMER_COUNT\u003c/th\u003e\n    \u003c/tr\u003e\n  \u003c/thead\u003e\n  \u003ctbody\u003e\n    \u003ctr\u003e\n      \u003cth\u003e0\u003c/th\u003e\n      \u003ctd\u003eextra large \u0026gt;1700\u003c/td\u003e\n      \u003ctd\u003e334\u003c/td\u003e\n    \u003c/tr\u003e\n    \u003ctr\u003e\n      \u003cth\u003e1\u003c/th\u003e\n      \u003ctd\u003elarge 115-1700\u003c/td\u003e\n      \u003ctd\u003e6804\u003c/td\u003e\n    \u003c/tr\u003e\n    \u003ctr\u003e\n      \u003cth\u003e2\u003c/th\u003e\n      \u003ctd\u003emedium 21-114\u003c/td\u003e\n      \u003ctd\u003e43359\u003c/td\u003e\n    \u003c/tr\u003e\n    \u003ctr\u003e\n      \u003cth\u003e3\u003c/th\u003e\n      \u003ctd\u003esmall 1-20\u003c/td\u003e\n      \u003ctd\u003e519485\u003c/td\u003e\n    \u003c/tr\u003e\n    \u003ctr\u003e\n      \u003cth\u003e4\u003c/th\u003e\n      \u003ctd\u003ezero cards\u003c/td\u003e\n      \u003ctd\u003e80904\u003c/td\u003e\n    \u003c/tr\u003e\n  \u003c/tbody\u003e\n\u003c/table\u003e\n\u003c/div\u003e"
          },
          "metadata": {}
        }
      ]
    },
    {
      "execution_count": 41,
      "cell_type": "code",
      "metadata": {},
      "source": [
        "df_fleet_size_card_count \u003d df_max_monthly_card_count.groupby([\u0027FLEET_SIZE\u0027]).TOTAL_ACTIVE_CARD_COUNT.sum().reset_index()\ndf_fleet_size_card_count.head()"
      ],
      "outputs": [
        {
          "output_type": "execute_result",
          "execution_count": 41,
          "data": {
            "text/plain": "          FLEET_SIZE  TOTAL_ACTIVE_CARD_COUNT\n0  extra large \u003e1700                  2350046\n1     large 115-1700                  2054787\n2      medium 21-114                  1839215\n3         small 1-20                  2295256\n4         zero cards                        0",
            "text/html": "\u003cdiv\u003e\n\u003cstyle scoped\u003e\n    .dataframe tbody tr th:only-of-type {\n        vertical-align: middle;\n    }\n\n    .dataframe tbody tr th {\n        vertical-align: top;\n    }\n\n    .dataframe thead th {\n        text-align: right;\n    }\n\u003c/style\u003e\n\u003ctable border\u003d\"1\" class\u003d\"dataframe\"\u003e\n  \u003cthead\u003e\n    \u003ctr style\u003d\"text-align: right;\"\u003e\n      \u003cth\u003e\u003c/th\u003e\n      \u003cth\u003eFLEET_SIZE\u003c/th\u003e\n      \u003cth\u003eTOTAL_ACTIVE_CARD_COUNT\u003c/th\u003e\n    \u003c/tr\u003e\n  \u003c/thead\u003e\n  \u003ctbody\u003e\n    \u003ctr\u003e\n      \u003cth\u003e0\u003c/th\u003e\n      \u003ctd\u003eextra large \u0026gt;1700\u003c/td\u003e\n      \u003ctd\u003e2350046\u003c/td\u003e\n    \u003c/tr\u003e\n    \u003ctr\u003e\n      \u003cth\u003e1\u003c/th\u003e\n      \u003ctd\u003elarge 115-1700\u003c/td\u003e\n      \u003ctd\u003e2054787\u003c/td\u003e\n    \u003c/tr\u003e\n    \u003ctr\u003e\n      \u003cth\u003e2\u003c/th\u003e\n      \u003ctd\u003emedium 21-114\u003c/td\u003e\n      \u003ctd\u003e1839215\u003c/td\u003e\n    \u003c/tr\u003e\n    \u003ctr\u003e\n      \u003cth\u003e3\u003c/th\u003e\n      \u003ctd\u003esmall 1-20\u003c/td\u003e\n      \u003ctd\u003e2295256\u003c/td\u003e\n    \u003c/tr\u003e\n    \u003ctr\u003e\n      \u003cth\u003e4\u003c/th\u003e\n      \u003ctd\u003ezero cards\u003c/td\u003e\n      \u003ctd\u003e0\u003c/td\u003e\n    \u003c/tr\u003e\n  \u003c/tbody\u003e\n\u003c/table\u003e\n\u003c/div\u003e"
          },
          "metadata": {}
        }
      ]
    },
    {
      "execution_count": 0,
      "cell_type": "code",
      "metadata": {},
      "source": [
        ""
      ],
      "outputs": []
    }
  ]
}