{
  "metadata": {
    "kernelspec": {
      "name": "py-dku-venv-env_clc",
      "display_name": "Python (env env_clc)",
      "language": "python"
    },
    "associatedRecipe": "compute_TENURE_BY_GROUP",
    "creator": "Daniel.Vandermeer",
    "createdOn": 1676549065834,
    "tags": [
      "recipe-editor"
    ],
    "customFields": {},
    "hide_input": false,
    "language_info": {
      "name": "python",
      "version": "3.6.8",
      "mimetype": "text/x-python",
      "codemirror_mode": {
        "name": "ipython",
        "version": 3
      },
      "pygments_lexer": "ipython3",
      "nbconvert_exporter": "python",
      "file_extension": ".py"
    },
    "modifiedBy": "Daniel.Vandermeer"
  },
  "nbformat": 4,
  "nbformat_minor": 1,
  "cells": [
    {
      "execution_count": 0,
      "cell_type": "code",
      "metadata": {},
      "source": [
        "# -*- coding: utf-8 -*-\nimport dataiku\nimport pandas as pd, numpy as np\nfrom dataiku import pandasutils as pdu\n\nimport matplotlib.pyplot as plt\n\n# ***************************************\n#\n# This function calculates and observes retention rates for 2019-2023\n# and then forecasts retention rates for 2023-2035\n# and then uses the 2019-2035 retention rates to estimate EXEPECTED/AVG RETENTION\n#\n# Input Data Set to this function:\n# NAFCUSTOMER_REVENUE_AGGREGATED\n# Each row represents one customer per year/month\n# dimensions: customer name, setup date, BI_CUS_PAR, BI_PRODUCT, BI_MRU\n# measures: revenue, spend, gallons, active cards and outstanding cards\n#\n# **************************************\n#\n# The data going into this step is defined in the follopwing Input View:\n#\n#  CREATE VIEW DATAIKU_ANALYTICS_SUB.DATA_SCIENCE.NAFCUSTOMER_REVENUE_AGGREGATED\n#  AS\n#  SELECT\n#  CUSTOMER_ID,\n#  CUSTOMER,\n#  YEAR(REVENUE_DATE) as REVENUE_YEAR,\n#  MONTH(REVENUE_DATE) as REVENUE_MONTH,\n#  MIN(SETUP_DATE) AS SETUP_DATE,\n#  MIN(BI_CUS_PAR) as BI_CUS_PAR,\n#  MIN(BI_PRODUCT) as BI_PRODUCT,\n#  MIN(BI_MRU) as BI_MRU,\n#  SUM(REVENUE_AMOUNT_USD) as REVENUE_AMOUNT_USD,\n#  SUM(GROSS_SPEND_AMOUNT) as GROSS_SPEND_AMOUNT,\n#  SUM(PURCHASE_GALLONS_QTY) PURCHASE_GALLONS_QTY,\n#  SUM(TOTAL_ACTIVE_CARD_COUNT) as TOTAL_ACTIVE_CARD_COUNT\n#  FROM DATAIKU_ANALYTICS_SUB.DATA_SCIENCE.NAFCUSTOMER_REVENUE\n#  WHERE (FUNDED_BY IS NULL OR FUNDED_BY\u003d\u0027Unknown\u0027 OR FUNDED_BY\u003d\u0027WEX Funded\u0027)\n#  AND (NOT((REVENUE_CODE\u003d\u002726\u0027) AND (CUSTOMER_ID IS NULL)))\n#  AND (NOT((REVENUE_CODE\u003d\u0027E8\u0027) AND (CUSTOMER_ID IS NULL)))\n#  GROUP BY 1,2,3,4\n#\n# ***************************************\n\nfrom datetime import date, datetime, timedelta\nimport time\n\nt0 \u003d time.time()\n\n# Read recipe inputs\nNAFCUSTOMER_REVENUE_AGGREGATED \u003d dataiku.Dataset(\"NAFCUSTOMER_REVENUE_AGGREGATED\")\nNAFCUSTOMER_REVENUE_AGGREGATED_df \u003d NAFCUSTOMER_REVENUE_AGGREGATED.get_dataframe()\n\nt1 \u003d time.time()\nprint(\"load duration\", (t1-t0)/60.0, \"minutes\")\n\nprint(len(NAFCUSTOMER_REVENUE_AGGREGATED_df))\nNAFCUSTOMER_REVENUE_AGGREGATED_df.head()"
      ],
      "outputs": []
    }
  ]
}