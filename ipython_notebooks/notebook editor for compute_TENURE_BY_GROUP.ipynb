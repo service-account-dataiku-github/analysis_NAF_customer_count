{
  "metadata": {
    "kernelspec": {
      "name": "py-dku-venv-env_clc",
      "display_name": "Python (env env_clc)",
      "language": "python"
    },
    "associatedRecipe": "compute_TENURE_BY_GROUP",
    "creator": "Daniel.Vandermeer",
    "createdOn": 1676549065834,
    "tags": [
      "recipe-editor"
    ],
    "customFields": {},
    "hide_input": false,
    "language_info": {
      "name": "python",
      "version": "3.6.8",
      "mimetype": "text/x-python",
      "codemirror_mode": {
        "name": "ipython",
        "version": 3
      },
      "pygments_lexer": "ipython3",
      "nbconvert_exporter": "python",
      "file_extension": ".py"
    },
    "modifiedBy": "Daniel.Vandermeer"
  },
  "nbformat": 4,
  "nbformat_minor": 1,
  "cells": [
    {
      "execution_count": 1,
      "cell_type": "code",
      "metadata": {},
      "source": [
        "# -*- coding: utf-8 -*-\nimport dataiku\nimport pandas as pd, numpy as np\nfrom dataiku import pandasutils as pdu\n\nimport matplotlib.pyplot as plt\n\n# ***************************************\n#\n# This function calculates and observes retention rates for 2019-2023\n# and then forecasts retention rates for 2023-2035\n# and then uses the 2019-2035 retention rates to estimate EXEPECTED/AVG RETENTION\n#\n# Input Data Set to this function:\n# NAFCUSTOMER_REVENUE_AGGREGATED\n# Each row represents one customer per year/month\n# dimensions: customer name, setup date, BI_CUS_PAR, BI_PRODUCT, BI_MRU\n# measures: revenue, spend, gallons, active cards and outstanding cards\n#\n# **************************************\n#\n# The data going into this step is defined in the follopwing Input View:\n#\n#  CREATE VIEW DATAIKU_ANALYTICS_SUB.DATA_SCIENCE.NAFCUSTOMER_REVENUE_AGGREGATED\n#  AS\n#  SELECT\n#  CUSTOMER_ID,\n#  CUSTOMER,\n#  YEAR(REVENUE_DATE) as REVENUE_YEAR,\n#  MONTH(REVENUE_DATE) as REVENUE_MONTH,\n#  MIN(SETUP_DATE) AS SETUP_DATE,\n#  MIN(BI_CUS_PAR) as BI_CUS_PAR,\n#  MIN(BI_PRODUCT) as BI_PRODUCT,\n#  MIN(BI_MRU) as BI_MRU,\n#  SUM(REVENUE_AMOUNT_USD) as REVENUE_AMOUNT_USD,\n#  SUM(GROSS_SPEND_AMOUNT) as GROSS_SPEND_AMOUNT,\n#  SUM(PURCHASE_GALLONS_QTY) PURCHASE_GALLONS_QTY,\n#  SUM(TOTAL_ACTIVE_CARD_COUNT) as TOTAL_ACTIVE_CARD_COUNT\n#  FROM DATAIKU_ANALYTICS_SUB.DATA_SCIENCE.NAFCUSTOMER_REVENUE\n#  WHERE (FUNDED_BY IS NULL OR FUNDED_BY\u003d\u0027Unknown\u0027 OR FUNDED_BY\u003d\u0027WEX Funded\u0027)\n#  AND (NOT((REVENUE_CODE\u003d\u002726\u0027) AND (CUSTOMER_ID IS NULL)))\n#  AND (NOT((REVENUE_CODE\u003d\u0027E8\u0027) AND (CUSTOMER_ID IS NULL)))\n#  GROUP BY 1,2,3,4\n#\n# ***************************************\n\nfrom datetime import date, datetime, timedelta\nimport time\n\nt0 \u003d time.time()\n\n# Read recipe inputs\nNAFCUSTOMER_REVENUE_AGGREGATED \u003d dataiku.Dataset(\"NAFCUSTOMER_REVENUE_AGGREGATED\")\nNAFCUSTOMER_REVENUE_AGGREGATED_df \u003d NAFCUSTOMER_REVENUE_AGGREGATED.get_dataframe()\n\nt1 \u003d time.time()\nprint(\"load duration\", (t1-t0)/60.0, \"minutes\")\n\nprint(len(NAFCUSTOMER_REVENUE_AGGREGATED_df))\nNAFCUSTOMER_REVENUE_AGGREGATED_df.head()"
      ],
      "outputs": [
        {
          "output_type": "stream",
          "text": "load duration 6.088521635532379 minutes\n18075044\n",
          "name": "stdout"
        },
        {
          "output_type": "execute_result",
          "execution_count": 1,
          "data": {
            "text/plain": "   CUSTOMER_ID                      CUSTOMER  REVENUE_YEAR  REVENUE_MONTH                SETUP_DATE  BI_CUS_PAR  BI_PRODUCT  BI_MRU  REVENUE_AMOUNT_USD  GROSS_SPEND_AMOUNT  PURCHASE_GALLONS_QTY  TOTAL_ACTIVE_CARD_COUNT\n0   77244476.0  GATORS LAWN  LANDSCAPING SVC          2021             11 2017-03-31 07:00:00+00:00     51200.0     15308.0  4120.0            0.000000                0.00                0.0000                      0.0\n1   77532829.0       SIECK WHOLESALE FLORIST          2021             10 2001-08-22 07:00:00+00:00     51000.0     10100.0  3100.0          371.760000             7747.75             2319.4830                     14.0\n2   77385040.0      MAYWOOD CHURCH OF CHRIST          2019              4 2010-10-14 07:00:00+00:00     13000.0     15100.0  4000.0           21.290000              108.90               31.7740                      1.0\n3   77561771.0            SUN ON FOOD CO LTD          2021              8 2011-11-11 08:00:00+00:00     20800.0     15100.0  4000.0           22.630000             2285.22              573.8035                      4.0\n4   77308677.0        JAKE KAUFFMAN  SON INC          2021              1 2011-12-01 08:00:00+00:00     30400.0     15308.0  4120.0            1.304844               40.05               17.2020                      1.0",
            "text/html": "\u003cdiv\u003e\n\u003cstyle scoped\u003e\n    .dataframe tbody tr th:only-of-type {\n        vertical-align: middle;\n    }\n\n    .dataframe tbody tr th {\n        vertical-align: top;\n    }\n\n    .dataframe thead th {\n        text-align: right;\n    }\n\u003c/style\u003e\n\u003ctable border\u003d\"1\" class\u003d\"dataframe\"\u003e\n  \u003cthead\u003e\n    \u003ctr style\u003d\"text-align: right;\"\u003e\n      \u003cth\u003e\u003c/th\u003e\n      \u003cth\u003eCUSTOMER_ID\u003c/th\u003e\n      \u003cth\u003eCUSTOMER\u003c/th\u003e\n      \u003cth\u003eREVENUE_YEAR\u003c/th\u003e\n      \u003cth\u003eREVENUE_MONTH\u003c/th\u003e\n      \u003cth\u003eSETUP_DATE\u003c/th\u003e\n      \u003cth\u003eBI_CUS_PAR\u003c/th\u003e\n      \u003cth\u003eBI_PRODUCT\u003c/th\u003e\n      \u003cth\u003eBI_MRU\u003c/th\u003e\n      \u003cth\u003eREVENUE_AMOUNT_USD\u003c/th\u003e\n      \u003cth\u003eGROSS_SPEND_AMOUNT\u003c/th\u003e\n      \u003cth\u003ePURCHASE_GALLONS_QTY\u003c/th\u003e\n      \u003cth\u003eTOTAL_ACTIVE_CARD_COUNT\u003c/th\u003e\n    \u003c/tr\u003e\n  \u003c/thead\u003e\n  \u003ctbody\u003e\n    \u003ctr\u003e\n      \u003cth\u003e0\u003c/th\u003e\n      \u003ctd\u003e77244476.0\u003c/td\u003e\n      \u003ctd\u003eGATORS LAWN  LANDSCAPING SVC\u003c/td\u003e\n      \u003ctd\u003e2021\u003c/td\u003e\n      \u003ctd\u003e11\u003c/td\u003e\n      \u003ctd\u003e2017-03-31 07:00:00+00:00\u003c/td\u003e\n      \u003ctd\u003e51200.0\u003c/td\u003e\n      \u003ctd\u003e15308.0\u003c/td\u003e\n      \u003ctd\u003e4120.0\u003c/td\u003e\n      \u003ctd\u003e0.000000\u003c/td\u003e\n      \u003ctd\u003e0.00\u003c/td\u003e\n      \u003ctd\u003e0.0000\u003c/td\u003e\n      \u003ctd\u003e0.0\u003c/td\u003e\n    \u003c/tr\u003e\n    \u003ctr\u003e\n      \u003cth\u003e1\u003c/th\u003e\n      \u003ctd\u003e77532829.0\u003c/td\u003e\n      \u003ctd\u003eSIECK WHOLESALE FLORIST\u003c/td\u003e\n      \u003ctd\u003e2021\u003c/td\u003e\n      \u003ctd\u003e10\u003c/td\u003e\n      \u003ctd\u003e2001-08-22 07:00:00+00:00\u003c/td\u003e\n      \u003ctd\u003e51000.0\u003c/td\u003e\n      \u003ctd\u003e10100.0\u003c/td\u003e\n      \u003ctd\u003e3100.0\u003c/td\u003e\n      \u003ctd\u003e371.760000\u003c/td\u003e\n      \u003ctd\u003e7747.75\u003c/td\u003e\n      \u003ctd\u003e2319.4830\u003c/td\u003e\n      \u003ctd\u003e14.0\u003c/td\u003e\n    \u003c/tr\u003e\n    \u003ctr\u003e\n      \u003cth\u003e2\u003c/th\u003e\n      \u003ctd\u003e77385040.0\u003c/td\u003e\n      \u003ctd\u003eMAYWOOD CHURCH OF CHRIST\u003c/td\u003e\n      \u003ctd\u003e2019\u003c/td\u003e\n      \u003ctd\u003e4\u003c/td\u003e\n      \u003ctd\u003e2010-10-14 07:00:00+00:00\u003c/td\u003e\n      \u003ctd\u003e13000.0\u003c/td\u003e\n      \u003ctd\u003e15100.0\u003c/td\u003e\n      \u003ctd\u003e4000.0\u003c/td\u003e\n      \u003ctd\u003e21.290000\u003c/td\u003e\n      \u003ctd\u003e108.90\u003c/td\u003e\n      \u003ctd\u003e31.7740\u003c/td\u003e\n      \u003ctd\u003e1.0\u003c/td\u003e\n    \u003c/tr\u003e\n    \u003ctr\u003e\n      \u003cth\u003e3\u003c/th\u003e\n      \u003ctd\u003e77561771.0\u003c/td\u003e\n      \u003ctd\u003eSUN ON FOOD CO LTD\u003c/td\u003e\n      \u003ctd\u003e2021\u003c/td\u003e\n      \u003ctd\u003e8\u003c/td\u003e\n      \u003ctd\u003e2011-11-11 08:00:00+00:00\u003c/td\u003e\n      \u003ctd\u003e20800.0\u003c/td\u003e\n      \u003ctd\u003e15100.0\u003c/td\u003e\n      \u003ctd\u003e4000.0\u003c/td\u003e\n      \u003ctd\u003e22.630000\u003c/td\u003e\n      \u003ctd\u003e2285.22\u003c/td\u003e\n      \u003ctd\u003e573.8035\u003c/td\u003e\n      \u003ctd\u003e4.0\u003c/td\u003e\n    \u003c/tr\u003e\n    \u003ctr\u003e\n      \u003cth\u003e4\u003c/th\u003e\n      \u003ctd\u003e77308677.0\u003c/td\u003e\n      \u003ctd\u003eJAKE KAUFFMAN  SON INC\u003c/td\u003e\n      \u003ctd\u003e2021\u003c/td\u003e\n      \u003ctd\u003e1\u003c/td\u003e\n      \u003ctd\u003e2011-12-01 08:00:00+00:00\u003c/td\u003e\n      \u003ctd\u003e30400.0\u003c/td\u003e\n      \u003ctd\u003e15308.0\u003c/td\u003e\n      \u003ctd\u003e4120.0\u003c/td\u003e\n      \u003ctd\u003e1.304844\u003c/td\u003e\n      \u003ctd\u003e40.05\u003c/td\u003e\n      \u003ctd\u003e17.2020\u003c/td\u003e\n      \u003ctd\u003e1.0\u003c/td\u003e\n    \u003c/tr\u003e\n  \u003c/tbody\u003e\n\u003c/table\u003e\n\u003c/div\u003e"
          },
          "metadata": {}
        }
      ]
    },
    {
      "execution_count": 0,
      "cell_type": "code",
      "metadata": {},
      "source": [
        ""
      ],
      "outputs": []
    }
  ]
}