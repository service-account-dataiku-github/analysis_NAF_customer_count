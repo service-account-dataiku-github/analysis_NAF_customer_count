{
  "metadata": {
    "kernelspec": {
      "name": "py-dku-venv-env_clc",
      "display_name": "Python (env env_clc)",
      "language": "python"
    },
    "associatedRecipe": "compute_ACCOUNT_NEW_SALES",
    "creator": "Daniel.Vandermeer",
    "createdOn": 1667150635433,
    "tags": [
      "recipe-editor"
    ],
    "customFields": {},
    "hide_input": false,
    "language_info": {
      "name": "python",
      "version": "3.6.8",
      "mimetype": "text/x-python",
      "codemirror_mode": {
        "name": "ipython",
        "version": 3
      },
      "pygments_lexer": "ipython3",
      "nbconvert_exporter": "python",
      "file_extension": ".py"
    },
    "modifiedBy": "Daniel.Vandermeer"
  },
  "nbformat": 4,
  "nbformat_minor": 1,
  "cells": [
    {
      "execution_count": 2,
      "cell_type": "code",
      "metadata": {},
      "source": [
        "# -*- coding: utf-8 -*-\nimport dataiku\nimport pandas as pd, numpy as np\nfrom dataiku import pandasutils as pdu\n\n# Read recipe inputs\nAccountScorecard_10_28 \u003d dataiku.Dataset(\"AccountScorecard_10_28\")\nAccountScorecard_10_28_df \u003d AccountScorecard_10_28.get_dataframe()\n\n\n# Compute recipe outputs from inputs\n# TODO: Replace this part by your actual code that computes the output, as a Pandas dataframe\n# NB: DSS also supports other kinds of APIs for reading and writing data. Please see doc.\n\nACCOUNT_NEW_SALES_df \u003d AccountScorecard_10_28_df # For this sample code, simply copy input to output\nprint(len(ACCOUNT_NEW_SALES_df))\nACCOUNT_NEW_SALES_df.head()"
      ],
      "outputs": [
        {
          "output_type": "stream",
          "text": "1048575\n",
          "name": "stdout"
        },
        {
          "output_type": "execute_result",
          "execution_count": 2,
          "data": {
            "text/plain": "   QUARTER  YEAR REVENUE_DATE  CUSTOMER_ACCOUNT_ID CUSTOMER_ACCOUNT_NAME SETUP_DATE  SALES_REP                SALES_CHANNEL MARKETING_PARTNER_NM       BUSINESS_PROGRAM_NM  NET_REVENUE  LATE_FEES  INTERCHANGE  INTEREST  OTHER_FEES/REVENUE  REBATES\n0        3  2021     9/1/2021        9100009315855      Air Condition Co  6/25/2021  Pam Smith  INSIDE_SALES_REPRESENTATIVE           EXXONMOBIL  ExxonMobil Private Label        91.89      79.64        12.25       0.0                 0.0     0.00\n1        1  2022     3/1/2022        9100009315855      Air Condition Co  6/25/2021  Pam Smith  INSIDE_SALES_REPRESENTATIVE           EXXONMOBIL  ExxonMobil Private Label        -8.05       0.00        17.34       0.0                 0.0   -25.39\n2        2  2022     4/1/2022        9100009315855      Air Condition Co  6/25/2021  Pam Smith  INSIDE_SALES_REPRESENTATIVE           EXXONMOBIL  ExxonMobil Private Label        -9.48       0.00        16.98       0.0                 0.0   -26.46\n3        3  2022     9/1/2022        9100009315855      Air Condition Co  6/25/2021  Pam Smith  INSIDE_SALES_REPRESENTATIVE           EXXONMOBIL  ExxonMobil Private Label        11.71       0.00        11.71       0.0                 0.0     0.00\n4        3  2021     8/1/2021        9100009315855      Air Condition Co  6/25/2021  Pam Smith  INSIDE_SALES_REPRESENTATIVE           EXXONMOBIL  ExxonMobil Private Label        -5.56       0.00        10.27       0.0                 0.0   -15.83",
            "text/html": "\u003cdiv\u003e\n\u003cstyle scoped\u003e\n    .dataframe tbody tr th:only-of-type {\n        vertical-align: middle;\n    }\n\n    .dataframe tbody tr th {\n        vertical-align: top;\n    }\n\n    .dataframe thead th {\n        text-align: right;\n    }\n\u003c/style\u003e\n\u003ctable border\u003d\"1\" class\u003d\"dataframe\"\u003e\n  \u003cthead\u003e\n    \u003ctr style\u003d\"text-align: right;\"\u003e\n      \u003cth\u003e\u003c/th\u003e\n      \u003cth\u003eQUARTER\u003c/th\u003e\n      \u003cth\u003eYEAR\u003c/th\u003e\n      \u003cth\u003eREVENUE_DATE\u003c/th\u003e\n      \u003cth\u003eCUSTOMER_ACCOUNT_ID\u003c/th\u003e\n      \u003cth\u003eCUSTOMER_ACCOUNT_NAME\u003c/th\u003e\n      \u003cth\u003eSETUP_DATE\u003c/th\u003e\n      \u003cth\u003eSALES_REP\u003c/th\u003e\n      \u003cth\u003eSALES_CHANNEL\u003c/th\u003e\n      \u003cth\u003eMARKETING_PARTNER_NM\u003c/th\u003e\n      \u003cth\u003eBUSINESS_PROGRAM_NM\u003c/th\u003e\n      \u003cth\u003eNET_REVENUE\u003c/th\u003e\n      \u003cth\u003eLATE_FEES\u003c/th\u003e\n      \u003cth\u003eINTERCHANGE\u003c/th\u003e\n      \u003cth\u003eINTEREST\u003c/th\u003e\n      \u003cth\u003eOTHER_FEES/REVENUE\u003c/th\u003e\n      \u003cth\u003eREBATES\u003c/th\u003e\n    \u003c/tr\u003e\n  \u003c/thead\u003e\n  \u003ctbody\u003e\n    \u003ctr\u003e\n      \u003cth\u003e0\u003c/th\u003e\n      \u003ctd\u003e3\u003c/td\u003e\n      \u003ctd\u003e2021\u003c/td\u003e\n      \u003ctd\u003e9/1/2021\u003c/td\u003e\n      \u003ctd\u003e9100009315855\u003c/td\u003e\n      \u003ctd\u003eAir Condition Co\u003c/td\u003e\n      \u003ctd\u003e6/25/2021\u003c/td\u003e\n      \u003ctd\u003ePam Smith\u003c/td\u003e\n      \u003ctd\u003eINSIDE_SALES_REPRESENTATIVE\u003c/td\u003e\n      \u003ctd\u003eEXXONMOBIL\u003c/td\u003e\n      \u003ctd\u003eExxonMobil Private Label\u003c/td\u003e\n      \u003ctd\u003e91.89\u003c/td\u003e\n      \u003ctd\u003e79.64\u003c/td\u003e\n      \u003ctd\u003e12.25\u003c/td\u003e\n      \u003ctd\u003e0.0\u003c/td\u003e\n      \u003ctd\u003e0.0\u003c/td\u003e\n      \u003ctd\u003e0.00\u003c/td\u003e\n    \u003c/tr\u003e\n    \u003ctr\u003e\n      \u003cth\u003e1\u003c/th\u003e\n      \u003ctd\u003e1\u003c/td\u003e\n      \u003ctd\u003e2022\u003c/td\u003e\n      \u003ctd\u003e3/1/2022\u003c/td\u003e\n      \u003ctd\u003e9100009315855\u003c/td\u003e\n      \u003ctd\u003eAir Condition Co\u003c/td\u003e\n      \u003ctd\u003e6/25/2021\u003c/td\u003e\n      \u003ctd\u003ePam Smith\u003c/td\u003e\n      \u003ctd\u003eINSIDE_SALES_REPRESENTATIVE\u003c/td\u003e\n      \u003ctd\u003eEXXONMOBIL\u003c/td\u003e\n      \u003ctd\u003eExxonMobil Private Label\u003c/td\u003e\n      \u003ctd\u003e-8.05\u003c/td\u003e\n      \u003ctd\u003e0.00\u003c/td\u003e\n      \u003ctd\u003e17.34\u003c/td\u003e\n      \u003ctd\u003e0.0\u003c/td\u003e\n      \u003ctd\u003e0.0\u003c/td\u003e\n      \u003ctd\u003e-25.39\u003c/td\u003e\n    \u003c/tr\u003e\n    \u003ctr\u003e\n      \u003cth\u003e2\u003c/th\u003e\n      \u003ctd\u003e2\u003c/td\u003e\n      \u003ctd\u003e2022\u003c/td\u003e\n      \u003ctd\u003e4/1/2022\u003c/td\u003e\n      \u003ctd\u003e9100009315855\u003c/td\u003e\n      \u003ctd\u003eAir Condition Co\u003c/td\u003e\n      \u003ctd\u003e6/25/2021\u003c/td\u003e\n      \u003ctd\u003ePam Smith\u003c/td\u003e\n      \u003ctd\u003eINSIDE_SALES_REPRESENTATIVE\u003c/td\u003e\n      \u003ctd\u003eEXXONMOBIL\u003c/td\u003e\n      \u003ctd\u003eExxonMobil Private Label\u003c/td\u003e\n      \u003ctd\u003e-9.48\u003c/td\u003e\n      \u003ctd\u003e0.00\u003c/td\u003e\n      \u003ctd\u003e16.98\u003c/td\u003e\n      \u003ctd\u003e0.0\u003c/td\u003e\n      \u003ctd\u003e0.0\u003c/td\u003e\n      \u003ctd\u003e-26.46\u003c/td\u003e\n    \u003c/tr\u003e\n    \u003ctr\u003e\n      \u003cth\u003e3\u003c/th\u003e\n      \u003ctd\u003e3\u003c/td\u003e\n      \u003ctd\u003e2022\u003c/td\u003e\n      \u003ctd\u003e9/1/2022\u003c/td\u003e\n      \u003ctd\u003e9100009315855\u003c/td\u003e\n      \u003ctd\u003eAir Condition Co\u003c/td\u003e\n      \u003ctd\u003e6/25/2021\u003c/td\u003e\n      \u003ctd\u003ePam Smith\u003c/td\u003e\n      \u003ctd\u003eINSIDE_SALES_REPRESENTATIVE\u003c/td\u003e\n      \u003ctd\u003eEXXONMOBIL\u003c/td\u003e\n      \u003ctd\u003eExxonMobil Private Label\u003c/td\u003e\n      \u003ctd\u003e11.71\u003c/td\u003e\n      \u003ctd\u003e0.00\u003c/td\u003e\n      \u003ctd\u003e11.71\u003c/td\u003e\n      \u003ctd\u003e0.0\u003c/td\u003e\n      \u003ctd\u003e0.0\u003c/td\u003e\n      \u003ctd\u003e0.00\u003c/td\u003e\n    \u003c/tr\u003e\n    \u003ctr\u003e\n      \u003cth\u003e4\u003c/th\u003e\n      \u003ctd\u003e3\u003c/td\u003e\n      \u003ctd\u003e2021\u003c/td\u003e\n      \u003ctd\u003e8/1/2021\u003c/td\u003e\n      \u003ctd\u003e9100009315855\u003c/td\u003e\n      \u003ctd\u003eAir Condition Co\u003c/td\u003e\n      \u003ctd\u003e6/25/2021\u003c/td\u003e\n      \u003ctd\u003ePam Smith\u003c/td\u003e\n      \u003ctd\u003eINSIDE_SALES_REPRESENTATIVE\u003c/td\u003e\n      \u003ctd\u003eEXXONMOBIL\u003c/td\u003e\n      \u003ctd\u003eExxonMobil Private Label\u003c/td\u003e\n      \u003ctd\u003e-5.56\u003c/td\u003e\n      \u003ctd\u003e0.00\u003c/td\u003e\n      \u003ctd\u003e10.27\u003c/td\u003e\n      \u003ctd\u003e0.0\u003c/td\u003e\n      \u003ctd\u003e0.0\u003c/td\u003e\n      \u003ctd\u003e-15.83\u003c/td\u003e\n    \u003c/tr\u003e\n  \u003c/tbody\u003e\n\u003c/table\u003e\n\u003c/div\u003e"
          },
          "metadata": {}
        }
      ]
    },
    {
      "execution_count": 4,
      "cell_type": "code",
      "metadata": {},
      "source": [
        "df \u003d ACCOUNT_NEW_SALES_df[[\u0027CUSTOMER_ACCOUNT_ID\u0027,\u0027SETUP_DATE\u0027,\u0027SALES_REP\u0027,\u0027SALES_CHANNEL\u0027]]\ndf.columns \u003d [\u0027CUSTOMER_ACCOUNT_ID\u0027,\u0027SALES_SETUP_DATE\u0027,\u0027SALES_REP\u0027,\u0027SALES_CHANNEL\u0027]\nprint(len())\ndf.head()"
      ],
      "outputs": [
        {
          "output_type": "execute_result",
          "execution_count": 4,
          "data": {
            "text/plain": "   CUSTOMER_ACCOUNT_ID SALES_SETUP_DATE  SALES_REP                SALES_CHANNEL\n0        9100009315855        6/25/2021  Pam Smith  INSIDE_SALES_REPRESENTATIVE\n1        9100009315855        6/25/2021  Pam Smith  INSIDE_SALES_REPRESENTATIVE\n2        9100009315855        6/25/2021  Pam Smith  INSIDE_SALES_REPRESENTATIVE\n3        9100009315855        6/25/2021  Pam Smith  INSIDE_SALES_REPRESENTATIVE\n4        9100009315855        6/25/2021  Pam Smith  INSIDE_SALES_REPRESENTATIVE",
            "text/html": "\u003cdiv\u003e\n\u003cstyle scoped\u003e\n    .dataframe tbody tr th:only-of-type {\n        vertical-align: middle;\n    }\n\n    .dataframe tbody tr th {\n        vertical-align: top;\n    }\n\n    .dataframe thead th {\n        text-align: right;\n    }\n\u003c/style\u003e\n\u003ctable border\u003d\"1\" class\u003d\"dataframe\"\u003e\n  \u003cthead\u003e\n    \u003ctr style\u003d\"text-align: right;\"\u003e\n      \u003cth\u003e\u003c/th\u003e\n      \u003cth\u003eCUSTOMER_ACCOUNT_ID\u003c/th\u003e\n      \u003cth\u003eSALES_SETUP_DATE\u003c/th\u003e\n      \u003cth\u003eSALES_REP\u003c/th\u003e\n      \u003cth\u003eSALES_CHANNEL\u003c/th\u003e\n    \u003c/tr\u003e\n  \u003c/thead\u003e\n  \u003ctbody\u003e\n    \u003ctr\u003e\n      \u003cth\u003e0\u003c/th\u003e\n      \u003ctd\u003e9100009315855\u003c/td\u003e\n      \u003ctd\u003e6/25/2021\u003c/td\u003e\n      \u003ctd\u003ePam Smith\u003c/td\u003e\n      \u003ctd\u003eINSIDE_SALES_REPRESENTATIVE\u003c/td\u003e\n    \u003c/tr\u003e\n    \u003ctr\u003e\n      \u003cth\u003e1\u003c/th\u003e\n      \u003ctd\u003e9100009315855\u003c/td\u003e\n      \u003ctd\u003e6/25/2021\u003c/td\u003e\n      \u003ctd\u003ePam Smith\u003c/td\u003e\n      \u003ctd\u003eINSIDE_SALES_REPRESENTATIVE\u003c/td\u003e\n    \u003c/tr\u003e\n    \u003ctr\u003e\n      \u003cth\u003e2\u003c/th\u003e\n      \u003ctd\u003e9100009315855\u003c/td\u003e\n      \u003ctd\u003e6/25/2021\u003c/td\u003e\n      \u003ctd\u003ePam Smith\u003c/td\u003e\n      \u003ctd\u003eINSIDE_SALES_REPRESENTATIVE\u003c/td\u003e\n    \u003c/tr\u003e\n    \u003ctr\u003e\n      \u003cth\u003e3\u003c/th\u003e\n      \u003ctd\u003e9100009315855\u003c/td\u003e\n      \u003ctd\u003e6/25/2021\u003c/td\u003e\n      \u003ctd\u003ePam Smith\u003c/td\u003e\n      \u003ctd\u003eINSIDE_SALES_REPRESENTATIVE\u003c/td\u003e\n    \u003c/tr\u003e\n    \u003ctr\u003e\n      \u003cth\u003e4\u003c/th\u003e\n      \u003ctd\u003e9100009315855\u003c/td\u003e\n      \u003ctd\u003e6/25/2021\u003c/td\u003e\n      \u003ctd\u003ePam Smith\u003c/td\u003e\n      \u003ctd\u003eINSIDE_SALES_REPRESENTATIVE\u003c/td\u003e\n    \u003c/tr\u003e\n  \u003c/tbody\u003e\n\u003c/table\u003e\n\u003c/div\u003e"
          },
          "metadata": {}
        }
      ]
    },
    {
      "execution_count": 0,
      "cell_type": "code",
      "metadata": {},
      "source": [
        "# Write recipe outputs\n#ACCOUNT_NEW_SALES \u003d dataiku.Dataset(\"ACCOUNT_NEW_SALES\")\n#ACCOUNT_NEW_SALES.write_with_schema(ACCOUNT_NEW_SALES_df)"
      ],
      "outputs": []
    }
  ]
}